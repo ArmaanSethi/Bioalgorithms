{
 "cells": [
  {
   "cell_type": "markdown",
   "metadata": {
    "section": "header"
   },
   "source": [
    "---\n",
    "<div style=\"text-align: center;\">\n",
    "<h1>The University of North Carolina at Chapel Hill</h1>\n",
    "<h1>Comp 555 BioAlgorithms - Spring 2019</h1>\n",
    "<h1 style=\"font-size: 250%;\">Problem Set #4, Version 2.0</h1>\n",
    "<h1>Issued Tuesday 4/9/2019; Due Tuesday, 4/23/2019</h1>\n",
    "</div>\n",
    "\n",
    "**Homework Information:** Some of the problems are probably too long to be done the night before the due date, so plan accordingly. Late problem sets will be penalized by a factor of\t70.71% for each class meeting after the due date. Feel free to get help from others, but the work you submit in should be your own."
   ]
  },
  {
   "cell_type": "markdown",
   "metadata": {
    "number": 1,
    "section": "problem"
   },
   "source": [
    "---\n",
    "**Problem #1:** Of the 10 sequences provided [*here*](https://csbio.unc.edu/mcmillan/Comp555S19/data/PS4.fa), find the 3 sequences that maximize the sum of their Pairwise Global Alignments. Assume a weight of 1 for all *matches* and -1 for all *mismatches and indels* in your alignment. (Note: you only need to find the best score here, not the alignment, thus you do not need the backtracking matrix).\n",
    "\n",
    "Report the *index* of the 3 sequences and the three alignment scores between them as a comma separated list with three rows of three numbers in the following format:\n",
    "\n",
    "        seqIndexA, seqIndexB, AB_AlignmentScore\n",
    "        seqIndexA, seqIndexC, AC_AlignmentScore\n",
    "        seqIndexB, seqIndexC, BC_AlignmentScore"
   ]
  },
  {
   "cell_type": "code",
   "execution_count": null,
   "metadata": {},
   "outputs": [],
   "source": [
    "import numpy\n",
    "\n",
    "def GlobalAlign(v, w, scorematrix, indel):\n",
    "    s = numpy.zeros((len(v)+1,len(w)+1), dtype=\"int32\")\n",
    "    b = numpy.zeros((len(v)+1,len(w)+1), dtype=\"int32\")\n",
    "    for i in range(0,len(v)+1):\n",
    "        for j in range(0,len(w)+1):\n",
    "            if (j == 0):\n",
    "                if (i > 0):\n",
    "                    s[i,j] = s[i-1,j] + indel\n",
    "                    b[i,j] = 1\n",
    "                continue\n",
    "            if (i == 0):\n",
    "                s[i,j] = s[i,j-1] + indel\n",
    "                b[i,j] = 2\n",
    "                continue\n",
    "            score = s[i-1,j-1] + scorematrix[v[i-1],w[j-1]]\n",
    "            vskip = s[i-1,j] + indel\n",
    "            wskip = s[i,j-1] + indel\n",
    "            s[i,j] = max(vskip, wskip, score)\n",
    "            if (s[i,j] == vskip):\n",
    "                b[i,j] = 1\n",
    "            elif (s[i,j] == wskip):\n",
    "                b[i,j] = 2\n",
    "            else:\n",
    "                b[i,j] = 3\n",
    "    return (s)"
   ]
  },
  {
   "cell_type": "code",
   "execution_count": null,
   "metadata": {},
   "outputs": [],
   "source": [
    "data = open(\"data/PS4.fa\",\"r\").read().split(\"\\n\")\n",
    "match = {('A','A'):  1, ('A','C'): -1, ('A','G'): -1, ('A','T'): -1,\n",
    "         ('C','A'): -1, ('C','C'):  1, ('C','G'): -1, ('C','T'): -1,\n",
    "         ('G','A'): -1, ('G','C'): -1, ('G','G'):  1, ('G','T'): -1,\n",
    "         ('T','A'): -1, ('T','C'): -1, ('T','G'): -1, ('T','T'):  1}"
   ]
  },
  {
   "cell_type": "code",
   "execution_count": null,
   "metadata": {},
   "outputs": [],
   "source": [
    "N = len(data)\n",
    "print(\"N=\",N)\n",
    "score = dict()\n",
    "for i in range(N):\n",
    "    for j in range(i+1, N):\n",
    "        v = data[i][:]\n",
    "        w = data[j][:]\n",
    "        s= GlobalAlign(v,w,match,-1)\n",
    "        score[i,j] = s[-1,-1]\n",
    "        print(i, j,\"Best score =\", s[-1,-1]) #Extremely Slow, takes forever"
   ]
  },
  {
   "cell_type": "raw",
   "metadata": {
    "number": 1,
    "section": "answer"
   },
   "source": [
    "0, 1, 7463\n",
    "0, 2, 7443\n",
    "1, 2, 7433"
   ]
  },
  {
   "cell_type": "markdown",
   "metadata": {
    "number": 2,
    "section": "problem"
   },
   "source": [
    "---\n",
    "**Problem #2:** The sequences from problem one are from endogenous retroviruses (ERVs). ERVs have a specific genomic structure, where they begin and end with a common highly conserved long terminal repeat (LTR) sequence. Using the 3 sequences you found in Problem #1, attempt to find the LTR sequences by performing a Local Alignment of the first and last 1000 bases from the same sequence. Repeat this for all 3 sequences using the same scoring matrix as in part one. Report the respective start and end indices from each of the three Local Alignments. Here you will need the backtracking matrix. Your answer should be 3 rows of 5 comma separated numbers of the form:\n",
    "\n",
    "       seqIndexA, startOfProximalLTR, endOfProximalLTR, startOfDistalLTR, endOfDistalLTR\n",
    "       seqIndexB, startOfProximalLTR, endOfProximalLTR, startOfDistalLTR, endOfDistalLTR\n",
    "       seqIndexC, startOfProximalLTR, endOfProximalLTR, startOfDistalLTR, endOfDistalLTR"
   ]
  },
  {
   "cell_type": "code",
   "execution_count": 9,
   "metadata": {},
   "outputs": [],
   "source": [
    "data = open(\"data/PS4.fa\",\"r\").read().split(\"\\n\")\n",
    "match = {('A','A'):  1, ('A','C'): -1, ('A','G'): -1, ('A','T'): -1,\n",
    "         ('C','A'): -1, ('C','C'):  1, ('C','G'): -1, ('C','T'): -1,\n",
    "         ('G','A'): -1, ('G','C'): -1, ('G','G'):  1, ('G','T'): -1,\n",
    "         ('T','A'): -1, ('T','C'): -1, ('T','G'): -1, ('T','T'):  1}"
   ]
  },
  {
   "cell_type": "code",
   "execution_count": 22,
   "metadata": {},
   "outputs": [
    {
     "name": "stdout",
     "output_type": "stream",
     "text": [
      "0 , 0 , 319 , 7158 , 7477\n",
      "1 , 0 , 319 , 7158 , 7477\n",
      "2 , 0 , 319 , 7160 , 7479\n"
     ]
    }
   ],
   "source": [
    "def LocalAlign(v, w, scorematrix, indel):\n",
    "    s = numpy.zeros((len(v)+1,len(w)+1), dtype=\"int32\")\n",
    "    b = numpy.zeros((len(v)+1,len(w)+1), dtype=\"int32\")\n",
    "    for i in range(1,len(v)+1):\n",
    "        for j in range(1,len(w)+1):\n",
    "            if (j == 0):\n",
    "                if (i > 0):\n",
    "                    s[i,j] = max(s[i-1,j] + indel, 0)\n",
    "                    b[i,j] = 1\n",
    "                continue\n",
    "            if (i == 0):\n",
    "                s[i,j] = max(s[i,j-1] + indel, 0)\n",
    "                b[i,j] = 2\n",
    "                continue\n",
    "            score = s[i-1,j-1] + scorematrix[v[i-1],w[j-1]]\n",
    "            vskip = s[i-1,j] + indel\n",
    "            wskip = s[i,j-1] + indel\n",
    "            s[i,j] = max(vskip, wskip, score, 0)\n",
    "            if (s[i,j] == vskip):\n",
    "                b[i,j] = 1\n",
    "            elif (s[i,j] == wskip):\n",
    "                b[i,j] = 2\n",
    "            elif (s[i,j] == score):\n",
    "                b[i,j] = 3\n",
    "            else:\n",
    "                b[i,j] = 0\n",
    "    return (s, b)\n",
    "\n",
    "def LocalIndexAlignment(s,b,v,w,i,j):\n",
    "    if (s[i,j] == 0): \n",
    "        return i, j\n",
    "    if (b[i,j] == 3):\n",
    "        return LocalIndexAlignment(s,b,v,w,i-1,j-1)\n",
    "    if (b[i,j] == 2):\n",
    "        return LocalIndexAlignment(s,b,v,w,i,j-1)\n",
    "    if (b[i,j] == 1):\n",
    "        return LocalIndexAlignment(s,b,v,w,i-1,j)\n",
    "        \n",
    "for i, seq in enumerate(data[:3]):\n",
    "    s, b = LocalAlign(seq[:1000], seq[-1000:], match, -1)\n",
    "    eP, eD = numpy.unravel_index(numpy.argmax(s, axis=None), s.shape)\n",
    "    sP, sD = LocalIndexAlignment(s, b, seq[:1000], seq[-1000:], eP, eD)\n",
    "    \n",
    "    print(i,\",\", sP,\",\", eP,\",\", len(seq) - 1000 + sD, \",\", len(seq) - 1000 + eD)"
   ]
  },
  {
   "cell_type": "raw",
   "metadata": {
    "number": 2,
    "section": "answer"
   },
   "source": [
    "Enter your 3 rows of 3 numbers here\n",
    "0 , 0 , 319 , 7158 , 7477\n",
    "1 , 0 , 319 , 7158 , 7477\n",
    "2 , 0 , 319 , 7160 , 7479"
   ]
  },
  {
   "cell_type": "markdown",
   "metadata": {
    "number": 3,
    "section": "problem"
   },
   "source": [
    "---\n",
    "**Problem #3:** Using the three LTRs alignments that you found in Problem #2, report a *consensus LTR sequence*."
   ]
  },
  {
   "cell_type": "code",
   "execution_count": 12,
   "metadata": {},
   "outputs": [
    {
     "data": {
      "text/plain": [
       "'TGTTGCGGCCGCCAGCAGCTCGCAACGTGAACGGTTCGACTGAGAAGGCCGCTCGAGCTGTAAGAGAGGAATCTAGACGGGGCAAAAGAAGAAACGGAGCTAAGGCAATTTCATACTGATCAAAGCTCAAATTTTATTGTTGCGACACCAGTTATGAAGGAAGGGGGAGGGGACCCGATTCCCGCCGAATAATCTCTGGTCCAGTAGAAAGGTGCACGGGTGTGGCTCCGCAGGTTCCAGCAGTGGGCGTGGCAGAACGAATGAGCAGGAAGCTCCACCCCGAGCAAGCAGGTTTCAGGCTGGGGGAGGGGAGACTACA'"
      ]
     },
     "execution_count": 12,
     "metadata": {},
     "output_type": "execute_result"
    }
   ],
   "source": [
    "def Consensus(s, DNA, k):\n",
    "    \"\"\" compute the consensus k-Motif of an alignment given offsets into each DNA string.\n",
    "            s = list of starting indices, 1-based, 0 means ignore, DNA = list of nucleotide strings,\n",
    "            k = Target Motif length \"\"\"\n",
    "    consensus = ''\n",
    "    for i in range(k):\n",
    "        # loop over string positions\n",
    "        cnt = dict(zip(\"ACGT\",(0,0,0,0)))\n",
    "        for j, sval in enumerate(s):\n",
    "            # loop over DNA strands\n",
    "            base = DNA[j][sval+i] \n",
    "            cnt[base] += 1\n",
    "        consensus += max(cnt.items(), key=lambda tup: tup[1])[0]\n",
    "    return consensus\n",
    "\n",
    "DNA = [data[0], data[0], data[1], data[1], data[2], data[2]]\n",
    "s = [0, 7158, 0, 7158, 0, 7160]\n",
    "\n",
    "Consensus(s, DNA, 319)"
   ]
  },
  {
   "cell_type": "raw",
   "metadata": {
    "number": 3,
    "section": "answer"
   },
   "source": [
    "Sequence:\n",
    "\n",
    "TGTTGCGGCCGCCAGCAGCTCGCAACGTGAACGGTTCGACTGAGAAGGCCGCTCGAGCTGTAAGAGAGGAATCTAGACGGGGCAAAAGAAGAAACGGAGCTAAGGCAATTTCATACTGATCAAAGCTCAAATTTTATTGTTGCGACACCAGTTATGAAGGAAGGGGGAGGGGACCCGATTCCCGCCGAATAATCTCTGGTCCAGTAGAAAGGTGCACGGGTGTGGCTCCGCAGGTTCCAGCAGTGGGCGTGGCAGAACGAATGAGCAGGAAGCTCCACCCCGAGCAAGCAGGTTTCAGGCTGGGGGAGGGGAGACTACA"
   ]
  },
  {
   "cell_type": "markdown",
   "metadata": {
    "number": 4,
    "section": "problem"
   },
   "source": [
    "---\n",
    "**Problem #4:** Using the consensus subsequence you found in Problem #3, find a *Local Pairwise Alignment* of this consensus LTR to each of the first, and last, 1000 base pairs of the 10 original sequences and report the score for each. This should be a comma separated list of ten rows each with three numbers the following format:\n",
    "\n",
    "         1, ProximalLTRscore, DistalLTRscore\n",
    "         2, ProximalLTRscore, DistalLTRscore\n",
    "                      .\n",
    "                      .\n",
    "                      .\n",
    "         9, ProximalLTRscore, DistalLTRscore\n",
    "         10, ProximalLTRscore, DistalLTRscore\n"
   ]
  },
  {
   "cell_type": "code",
   "execution_count": 13,
   "metadata": {},
   "outputs": [],
   "source": [
    "consensus = data[0][0:319] # possible consensus given from 3"
   ]
  },
  {
   "cell_type": "code",
   "execution_count": 14,
   "metadata": {},
   "outputs": [],
   "source": [
    "def LocalAlign(v, w):\n",
    "    s = numpy.zeros((len(v)+1,len(w)+1), dtype=\"int32\")\n",
    "    b = numpy.zeros((len(v)+1,len(w)+1), dtype=\"int32\")\n",
    "    for i in range(1,len(v)+1):\n",
    "        for j in range(1,len(w)+1):\n",
    "            if (j == 0):\n",
    "                if (i > 0):\n",
    "                    s[i,j] = max(s[i-1,j]-1, 0)\n",
    "                    b[i,j] = 1\n",
    "                continue\n",
    "            if (i == 0):\n",
    "                s[i,j] = max(s[i,j-1]-1, 0)\n",
    "                b[i,j] = 2\n",
    "                continue\n",
    "            score = s[i-1,j-1] + (1 if v[i-1]==w[j-1] else -1)\n",
    "            vskip = s[i-1,j]-1\n",
    "            wskip = s[i,j-1]-1\n",
    "            s[i,j] = max(vskip, wskip, score, 0)\n",
    "            if (s[i,j] == vskip):\n",
    "                b[i,j] = 1\n",
    "            elif (s[i,j] == wskip):\n",
    "                b[i,j] = 2\n",
    "            elif (s[i,j] == score):\n",
    "                b[i,j] = 3\n",
    "            else:\n",
    "                b[i,j] = 0\n",
    "    return (s, b)"
   ]
  },
  {
   "cell_type": "code",
   "execution_count": 15,
   "metadata": {},
   "outputs": [],
   "source": [
    "def FindMaxScore(s):\n",
    "    maxScore = 0\n",
    "    maxIndex = [0,0]\n",
    "    for i in range(s.shape[0]):\n",
    "        for j in range(s.shape[1]):\n",
    "            if(s[i,j] > maxScore):\n",
    "                maxScore = s[i,j]\n",
    "                maxIndex = [i,j];\n",
    "    return [maxScore,maxIndex]"
   ]
  },
  {
   "cell_type": "code",
   "execution_count": 18,
   "metadata": {},
   "outputs": [
    {
     "name": "stdout",
     "output_type": "stream",
     "text": [
      "1 , 319 , 319\n",
      "2 , 315 , 315\n",
      "3 , 317 , 317\n",
      "4 , 294 , 294\n",
      "5 , 293 , 291\n",
      "6 , 282 , 284\n",
      "7 , 301 , 299\n",
      "8 , 293 , 295\n",
      "9 , 291 , 293\n",
      "10 , 319 , 317\n"
     ]
    }
   ],
   "source": [
    "length = 1000\n",
    "for i in range(len(data)):\n",
    "    s1,b = LocalAlign(data[i][:length],consensus)\n",
    "    s2,b = LocalAlign(data[i][-length:],consensus)\n",
    "    \n",
    "    print(i+1, \",\", FindMaxScore(s1)[0],\",\", FindMaxScore(s2)[0])\n",
    "print(s1)"
   ]
  },
  {
   "cell_type": "raw",
   "metadata": {
    "number": 4,
    "section": "answer"
   },
   "source": [
    "Enter your 10 rows of 3 numbers here\n",
    "\n",
    "1 , 319 , 319\n",
    "2 , 315 , 315\n",
    "3 , 317 , 317\n",
    "4 , 294 , 294\n",
    "5 , 293 , 291\n",
    "6 , 282 , 284\n",
    "7 , 301 , 299\n",
    "8 , 293 , 295\n",
    "9 , 291 , 293\n",
    "10 , 319 , 317"
   ]
  },
  {
   "cell_type": "markdown",
   "metadata": {
    "section": "submit"
   },
   "source": [
    "---\n",
    "\n",
    "## Instructions for submitting your problem set\n",
    "\n",
    "When you are ready to submit a version of your problem set, follow the instructions below.\n",
    "\n",
    "1. Press [Save and Checkpoint] on the *File* menu of your Jupyter notebook.\n",
    "2. Press the link below, which will take you to a website for submitting your problem set.\n",
    "3. Choose the ***correct problem set number*** from the pull-down, else you might overwrite an earlier submission.\n",
    "4. Enter in your onyen and PID in the form provided, then upload your submission.\n",
    "\n",
    "Click [here to submit](http://csbio.unc.edu/mcmillan/index.py?run=PS.upload) your completed problem set\n",
    "\n",
    "**Instructions for resubmissions:**\n",
    "\n",
    "1. You may resubmit as many times as you like before the deadline. \n",
    "2. Resubmissions *always* overwrite any earlier submissions. \n",
    "3. If you resubmit after the due date, you will be warned of any penalties. \n",
    "4. Problem sets will not be regraded."
   ]
  }
 ],
 "metadata": {
  "anaconda-cloud": {},
  "kernelspec": {
   "display_name": "Python 3",
   "language": "python",
   "name": "python3"
  },
  "language_info": {
   "codemirror_mode": {
    "name": "ipython",
    "version": 3
   },
   "file_extension": ".py",
   "mimetype": "text/x-python",
   "name": "python",
   "nbconvert_exporter": "python",
   "pygments_lexer": "ipython3",
   "version": "3.6.7"
  }
 },
 "nbformat": 4,
 "nbformat_minor": 1
}
