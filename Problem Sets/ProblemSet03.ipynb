{
 "cells": [
  {
   "cell_type": "markdown",
   "metadata": {
    "section": "header"
   },
   "source": [
    "<div style=\"text-align: center;\">\n",
    "<h1>The University of North Carolina at Chapel Hill</h1>\n",
    "<h1>Comp 555 BioAlgorithms - Spring 2018</h1>\n",
    "<h1 style=\"font-size: 250%;\">Problem Set #3 </h1>\n",
    "<h1>Issued Thursday, 3/28/2019; Due Tuesday, 4/9/2019</h1>\n",
    "</div>\n",
    "\n",
    "**Homework Information:** Some of the problems are probably too long to be done the night before the due date, so plan accordingly. Late problem sets will be penalized by a factor of\t70.71% for each class meeting after the due date. Feel free to get help from others, but **the work you submit in should be your own.**\n",
    "\n",
    "**Warning:** This notebook has been annotated with metadata so that it can be uploaded to the grading system. It is very important that you enter your answers in the provided cells. You can add extra cells to explore approaches, but only the provided cell can and will be graded. Thus, if you delete a cell and add a replacement, there is a possiblity that your problem will not be graded. If you ever need to start over, you should download a new version of the problem set and transfer your solutions to it."
   ]
  },
  {
   "cell_type": "markdown",
   "metadata": {
    "number": 1,
    "section": "problem"
   },
   "source": [
    "---\n",
    "**Problem #1:** Consider the table of integer molecular weights for amino acid residues that we have used in class and is repeated below.\n",
    "\n",
    "        Daltons = { \n",
    "            'A':  71, 'C': 103, 'D': 115, 'E': 129,\n",
    "            'F': 147, 'G':  57, 'H': 137, 'I': 113,\n",
    "            'K': 128, 'L': 113, 'M': 131, 'N': 114,\n",
    "            'P':  97, 'Q': 128, 'R': 156, 'S':  87,\n",
    "            'T': 101, 'V':  99, 'W': 186, 'Y': 163 \n",
    "        }\n",
    "\n",
    "How many peptide *combinations* have a total molecular weight of 2019 and use 14 or fewer residues? A *combination* means that the order of the peptides is unimportant (i.e. \"AKS\" is the same combination as any of \"ASK\", \"KAS\", \"KSA\", \"SAK\", and \"SKA\"). (Hint: This problem takes a while to compute)"
   ]
  },
  {
   "cell_type": "code",
   "execution_count": 2,
   "metadata": {},
   "outputs": [],
   "source": [
    "Daltons = { \n",
    "        'A':  71, 'C': 103, 'D': 115, 'E': 129,\n",
    "        'F': 147, 'G':  57, 'H': 137, 'I': 113,\n",
    "        'K': 128, 'L': 113, 'M': 131, 'N': 114,\n",
    "        'P':  97, 'Q': 128, 'R': 156, 'S':  87,\n",
    "        'T': 101, 'V':  99, 'W': 186, 'Y': 163 \n",
    "    }\n",
    "\"\"\"Attempt 1 - works, but clunky \"\"\"\n",
    "def exploreMotifs(k, path, bestScore, prevScore):\n",
    "    global cnt, prunedPaths, pref\n",
    "    depth = len(path)\n",
    "    \n",
    "    if depth >= 1:\n",
    "        s = prevScore + Daltons[path[-1]]\n",
    "    else:\n",
    "        s = 0\n",
    "    \n",
    "    if depth == k:\n",
    "        if s == bestScore:\n",
    "            cnt +=1\n",
    "        return\n",
    "    else:\n",
    "        OptimisticScore = s + (k - depth)*186\n",
    "        if OptimisticScore < bestScore or s >= bestScore:\n",
    "            if s == bestScore:\n",
    "                cnt += 1\n",
    "            prunedPaths += 1\n",
    "            return \n",
    "        else:\n",
    "            aa = 'ACDEFGHIKLMNPQRSTVWY'\n",
    "            for a in aa:\n",
    "                newPath = path + [a]\n",
    "                sortedPath = ''.join(sorted(newPath))\n",
    "                if sortedPath in pref:\n",
    "                    prunedPaths += 1\n",
    "                else:\n",
    "                    pref.add(sortedPath)\n",
    "                    exploreMotifs(k, newPath, bestScore, s)\n",
    "            return\n",
    "\n",
    "def BestMedianMotifSearch(mol_weight, num_res):\n",
    "    global cnt, prunedPaths, pref\n",
    "    cnt = 0\n",
    "    prunedPaths = 0\n",
    "    pref = set()\n",
    "    \n",
    "    exploreMotifs(num_res, [], mol_weight, 0)\n",
    "    print(\"Pruned Paths: \", prunedPaths)\n",
    "    print(\"Combinations: \", cnt)\n",
    "    return\n",
    "\n"
   ]
  },
  {
   "cell_type": "code",
   "execution_count": 3,
   "metadata": {},
   "outputs": [],
   "source": [
    "import itertools \n",
    "\"\"\"Attempt 3 - simple, works, makes sense\"\"\"\n",
    "\n",
    "def countCombs(weight, residues):\n",
    "    combinations = 0\n",
    "    total = 0\n",
    "\n",
    "    for res in range(residues, 0, -1):\n",
    "        for pep in itertools.combinations_with_replacement(Daltons.values(), res):\n",
    "            total = total + 1\n",
    "            if sum(pep) == weight:\n",
    "                combinations = combinations + 1\n",
    "    print(\"Combinations: \", combinations)\n",
    "    return combinations"
   ]
  },
  {
   "cell_type": "code",
   "execution_count": null,
   "metadata": {},
   "outputs": [],
   "source": [
    "%time BestMedianMotifSearch(2019,14)"
   ]
  },
  {
   "cell_type": "code",
   "execution_count": 14,
   "metadata": {},
   "outputs": [
    {
     "name": "stdout",
     "output_type": "stream",
     "text": [
      "Combinations:  118034\n",
      "CPU times: user 6min 14s, sys: 247 ms, total: 6min 14s\n",
      "Wall time: 6min 15s\n"
     ]
    },
    {
     "data": {
      "text/plain": [
       "118034"
      ]
     },
     "execution_count": 14,
     "metadata": {},
     "output_type": "execute_result"
    }
   ],
   "source": [
    "%time countCombs(2019, 14)"
   ]
  },
  {
   "cell_type": "raw",
   "metadata": {
    "number": 1,
    "section": "answer"
   },
   "source": [
    "Combinations:  118034\n",
    "CPU times: user 6min 14s, sys: 247 ms, total: 6min 14s\n",
    "Wall time: 6min 15s"
   ]
  },
  {
   "cell_type": "markdown",
   "metadata": {
    "number": 2,
    "section": "problem"
   },
   "source": [
    "---\n",
    "**Problem #2:** Generate a list of peptide sequences having the following theoretical spectrum.\n",
    "\n",
    "        P2spectrum = [101, 114, 115, 128, 129, 131, 137, 147, 156, 163, 186, 230, 242, \n",
    "                      259, 264, 271, 284, 294, 300, 301, 315, 319, 333, 373, 393, 415,\n",
    "                      416, 422, 428, 431, 434, 447, 457, 462, 470, 536, 543, 559, 563, \n",
    "                      571, 578, 579, 599, 620, 633, 673, 674, 699, 700, 706, 722, 726, \n",
    "                      734, 762, 764, 820, 830, 837, 859, 862, 863, 892, 893, 974, 993, \n",
    "                      994, 1006, 1021, 1026, 1121, 1122, 1130, 1135, 1156, 1157, 1192, \n",
    "                      1236, 1277, 1285, 1293, 1307, 1321, 1399, 1422, 1436, 1440, 1463, \n",
    "                      1537, 1585, 1592, 1626, 1693, 1700, 1755, 1856, 2019]"
   ]
  },
  {
   "cell_type": "code",
   "execution_count": 16,
   "metadata": {},
   "outputs": [
    {
     "name": "stdout",
     "output_type": "stream",
     "text": [
      "CPU times: user 31.4 ms, sys: 1.47 ms, total: 32.8 ms\n",
      "Wall time: 32.2 ms\n",
      "['YRDWNKMYHFWETY', 'YRDWNQMYHFWETY', 'YTEWFHYMKNWDRY', 'YTEWFHYMQNWDRY']\n"
     ]
    }
   ],
   "source": [
    "Daltons = { \n",
    "    'A':  71, 'C': 103, 'D': 115, 'E': 129,\n",
    "    'F': 147, 'G':  57, 'H': 137, 'I': 113,\n",
    "    'K': 128, 'L': 113, 'M': 131, 'N': 114,\n",
    "    'P':  97, 'Q': 128, 'R': 156, 'S':  87,\n",
    "    'T': 101, 'V':  99, 'W': 186, 'Y': 163 \n",
    "}\n",
    "\n",
    "\n",
    "P2spectrum = [101, 114, 115, 128, 129, 131, 137, 147, 156, 163, 186, 230, 242, \n",
    "                  259, 264, 271, 284, 294, 300, 301, 315, 319, 333, 373, 393, 415,\n",
    "                  416, 422, 428, 431, 434, 447, 457, 462, 470, 536, 543, 559, 563, \n",
    "                  571, 578, 579, 599, 620, 633, 673, 674, 699, 700, 706, 722, 726, \n",
    "                  734, 762, 764, 820, 830, 837, 859, 862, 863, 892, 893, 974, 993, \n",
    "                  994, 1006, 1021, 1026, 1121, 1122, 1130, 1135, 1156, 1157, 1192, \n",
    "                  1236, 1277, 1285, 1293, 1307, 1321, 1399, 1422, 1436, 1440, 1463, \n",
    "                  1537, 1585, 1592, 1626, 1693, 1700, 1755, 1856, 2019]\n",
    "\n",
    "\n",
    "def UltimatePossiblePeptide(spectrum, prefix=''):\n",
    "    global peptideList\n",
    "    if (len(prefix) == 0):\n",
    "        peptideList = []\n",
    "    current = sum([Daltons[res] for res in prefix])\n",
    "    target = max(spectrum)\n",
    "    if (current == target):\n",
    "        peptideList.append(prefix)\n",
    "    elif (current < target):\n",
    "        for residue in Daltons.keys():\n",
    "            extend = prefix + residue\n",
    "            # test every new suffix created by adding this new reside\n",
    "            # Note: this includes the residue itself as the length 1 suffix\n",
    "            suffix = [extend[i:] for i in range(len(extend))]\n",
    "            for fragment in suffix:\n",
    "                if (sum([Daltons[res] for res in fragment]) not in spectrum):\n",
    "                    break\n",
    "            else:\n",
    "                UltimatePossiblePeptide(spectrum, extend)\n",
    "\n",
    "%time UltimatePossiblePeptide(P2spectrum)\n",
    "print(peptideList)"
   ]
  },
  {
   "cell_type": "code",
   "execution_count": null,
   "metadata": {},
   "outputs": [],
   "source": [
    "#TEST if we can get same spectrum from the peptide sequences\n",
    "\n",
    "def TheoreticalSpectrum(peptide):\n",
    "    # Generate every possible fragment of a peptide\n",
    "    spectrum = set()\n",
    "    for fragLength in range(1,len(peptide)+1):\n",
    "        for start in range(0,len(peptide)-fragLength+1):\n",
    "            seq = peptide[start:start+fragLength]\n",
    "            spectrum.add(sum([Daltons[res] for res in seq]))\n",
    "    return sorted(spectrum)\n",
    "\n",
    "for peps in peptideList:\n",
    "    global spectrumList\n",
    "    spectrumList = []\n",
    "    spectrum = TheoreticalSpectrum(peps)\n",
    "    spectrumList.append(spectrum)\n",
    "    if(spectrum == P2spectrum): \n",
    "        print(True)\n",
    "\n",
    "print(spectrumList)\n"
   ]
  },
  {
   "cell_type": "raw",
   "metadata": {
    "number": 2,
    "section": "answer"
   },
   "source": [
    "CPU times: user 31.4 ms, sys: 1.47 ms, total: 32.8 ms\n",
    "Wall time: 32.2 ms\n",
    "List of Peptide Sequences: ['YRDWNKMYHFWETY', 'YRDWNQMYHFWETY', 'YTEWFHYMKNWDRY', 'YTEWFHYMQNWDRY']\n"
   ]
  },
  {
   "cell_type": "markdown",
   "metadata": {
    "number": 3,
    "section": "problem"
   },
   "source": [
    "---\n",
    "**Problem #3:** Given the following experimental spectrum:\n",
    "\n",
    "        P3spectrum = [87, 113, 114, 128, 147, 156, 163, 204, 243, 244, 259, 266, 270,\n",
    "                      310, 312, 315, 346, 349, 371, 372, 399, 416, 417, 424, 426, 428,\n",
    "                      430, 459, 496, 500, 502, 527, 535, 558, 565, 580, 610, 615, 634, \n",
    "                      641, 645, 658, 660, 682, 687, 696, 736, 771, 772, 774, 788, 801, \n",
    "                      823, 824, 919, 922, 951, 952, 957, 985, 1009, 1032, 1067, 1071, \n",
    "                      1082, 1086, 1108, 1137, 1195, 1218, 1223, 1337, 1347, 1381, 1484, \n",
    "                      1510, 1567, 1647, 1696, 1753, 1833, 1882, 2019]\n",
    "        \n",
    "Give a list of additional molecular wieghts that you would consider adding to this spectrum before attempting to construct the peptide's sequence."
   ]
  },
  {
   "cell_type": "code",
   "execution_count": 6,
   "metadata": {},
   "outputs": [
    {
     "name": "stdout",
     "output_type": "stream",
     "text": [
      "[87, 113, 114, 128, 147, 156, 163, 204, 243, 244, 259, 266, 270, 310, 312, 315, 346, 349, 371, 372, 399, 416, 417, 424, 426, 428, 430, 459, 496, 500, 502, 527, 535, 558, 565, 580, 610, 615, 634, 641, 645, 658, 660, 682, 687, 696, 736, 771, 772, 774, 788, 801, 823, 824, 919, 922, 951, 952, 957, 985, 1009, 1032, 1067, 1071, 1082, 1086, 1108, 1137, 1195, 1218, 1223, 1337, 1347, 1381, 1484, 1510, 1567, 1647, 1696, 1753, 1833, 1882, 2019]\n",
      "\n",
      "\n",
      "When count >= 2\n",
      "58 appears 5 times\t59 appears 2 times\t60 appears 3 times\t61 appears 2 times\t\n",
      "62 appears 5 times\t63 appears 2 times\t65 appears 3 times\t66 appears 5 times\t\n",
      "67 appears 3 times\t68 appears 4 times\t69 appears 4 times\t70 appears 4 times\t\n",
      "71 appears 2 times\t72 appears 6 times\t74 appears 2 times\t75 appears 4 times\t\n",
      "76 appears 11 times\t77 appears 3 times\t78 appears 6 times\t79 appears 3 times\t\n",
      "80 appears 11 times\t81 appears 5 times\t82 appears 2 times\t83 appears 5 times\t\n",
      "84 appears 5 times\t85 appears 2 times\t86 appears 4 times\t88 appears 4 times\t\n",
      "89 appears 2 times\t90 appears 4 times\t91 appears 2 times\t92 appears 2 times\t\n",
      "95 appears 3 times\t96 appears 3 times\t97 appears 4 times\t99 appears 5 times\t\n",
      "101 appears 6 times\t102 appears 6 times\t103 appears 6 times\t105 appears 6 times\t\n",
      "106 appears 8 times\t107 appears 5 times\t108 appears 2 times\t109 appears 3 times\t\n",
      "110 appears 8 times\t111 appears 5 times\t112 appears 4 times\t115 appears 5 times\t\n",
      "116 appears 6 times\t117 appears 2 times\t118 appears 5 times\t119 appears 6 times\t\n",
      "120 appears 2 times\t121 appears 3 times\t123 appears 3 times\t124 appears 4 times\t\n",
      "125 appears 3 times\t126 appears 2 times\t127 appears 4 times\t129 appears 12 times\t\n",
      "130 appears 7 times\t131 appears 8 times\t132 appears 3 times\t133 appears 4 times\t\n",
      "134 appears 5 times\t135 appears 2 times\t136 appears 3 times\t137 appears 8 times\t\n",
      "138 appears 4 times\t139 appears 2 times\t140 appears 2 times\t141 appears 6 times\t\n",
      "142 appears 5 times\t143 appears 3 times\t145 appears 6 times\t146 appears 2 times\t\n",
      "148 appears 4 times\t149 appears 5 times\t150 appears 5 times\t151 appears 7 times\t\n",
      "152 appears 8 times\t153 appears 2 times\t154 appears 5 times\t155 appears 3 times\t\n",
      "157 appears 5 times\t158 appears 6 times\t159 appears 3 times\t160 appears 6 times\t\n",
      "161 appears 3 times\t162 appears 4 times\t164 appears 8 times\t165 appears 3 times\t\n",
      "166 appears 2 times\t167 appears 4 times\t168 appears 2 times\t169 appears 3 times\t\n",
      "171 appears 2 times\t172 appears 2 times\t173 appears 4 times\t178 appears 5 times\t\n",
      "179 appears 3 times\t180 appears 6 times\t181 appears 5 times\t182 appears 6 times\t\n",
      "183 appears 6 times\t184 appears 5 times\t185 appears 7 times\t186 appears 23 times\t\n",
      "187 appears 6 times\t189 appears 5 times\t190 appears 4 times\t191 appears 5 times\t\n",
      "192 appears 2 times\t193 appears 4 times\t194 appears 4 times\t196 appears 2 times\t\n",
      "197 appears 2 times\t198 appears 2 times\t199 appears 4 times\t200 appears 3 times\t\n",
      "201 appears 3 times\t202 appears 2 times\t206 appears 2 times\t208 appears 7 times\t\n",
      "209 appears 8 times\t210 appears 3 times\t211 appears 3 times\t212 appears 4 times\t\n",
      "213 appears 5 times\t214 appears 4 times\t215 appears 7 times\t216 appears 6 times\t\n",
      "217 appears 4 times\t218 appears 3 times\t219 appears 2 times\t220 appears 3 times\t\n",
      "221 appears 5 times\t223 appears 5 times\t224 appears 3 times\t225 appears 4 times\t\n",
      "226 appears 3 times\t228 appears 4 times\t229 appears 2 times\t230 appears 6 times\t\n",
      "231 appears 2 times\t232 appears 5 times\t233 appears 2 times\t234 appears 5 times\t\n",
      "235 appears 5 times\t236 appears 7 times\t237 appears 5 times\t238 appears 4 times\t\n",
      "239 appears 3 times\t240 appears 2 times\t241 appears 2 times\t242 appears 2 times\t\n",
      "246 appears 2 times\t247 appears 2 times\t248 appears 2 times\t252 appears 3 times\t\n",
      "253 appears 4 times\t254 appears 2 times\t255 appears 4 times\t256 appears 3 times\t\n",
      "257 appears 4 times\t258 appears 7 times\t260 appears 2 times\t261 appears 13 times\t\n",
      "262 appears 4 times\t263 appears 4 times\t264 appears 3 times\t265 appears 7 times\t\n",
      "267 appears 2 times\t268 appears 4 times\t269 appears 7 times\t271 appears 4 times\t\n",
      "272 appears 5 times\t273 appears 4 times\t274 appears 5 times\t275 appears 2 times\t\n",
      "276 appears 4 times\t277 appears 3 times\t278 appears 2 times\t279 appears 3 times\t\n",
      "280 appears 2 times\t281 appears 3 times\t283 appears 4 times\t284 appears 3 times\t\n",
      "285 appears 6 times\t286 appears 3 times\t287 appears 2 times\t288 appears 8 times\t\n",
      "289 appears 5 times\t291 appears 2 times\t292 appears 7 times\t293 appears 2 times\t\n",
      "294 appears 2 times\t295 appears 5 times\t296 appears 8 times\t297 appears 4 times\t\n",
      "298 appears 5 times\t299 appears 8 times\t300 appears 5 times\t301 appears 2 times\t\n",
      "302 appears 2 times\t303 appears 5 times\t304 appears 3 times\t305 appears 3 times\t\n",
      "306 appears 3 times\t307 appears 3 times\t308 appears 2 times\t309 appears 2 times\t\n",
      "311 appears 5 times\t313 appears 4 times\t314 appears 7 times\t316 appears 3 times\t\n",
      "317 appears 2 times\t319 appears 2 times\t320 appears 2 times\t321 appears 3 times\t\n",
      "322 appears 4 times\t323 appears 5 times\t324 appears 3 times\t325 appears 2 times\t\n",
      "327 appears 3 times\t328 appears 2 times\t329 appears 3 times\t330 appears 2 times\t\n",
      "331 appears 4 times\t333 appears 3 times\t335 appears 2 times\t336 appears 6 times\t\n",
      "337 appears 6 times\t338 appears 2 times\t339 appears 3 times\t340 appears 3 times\t\n",
      "341 appears 4 times\t342 appears 5 times\t343 appears 3 times\t344 appears 6 times\t\n",
      "345 appears 5 times\t347 appears 4 times\t348 appears 4 times\t350 appears 5 times\t\n",
      "351 appears 3 times\t354 appears 3 times\t355 appears 3 times\t356 appears 2 times\t\n",
      "357 appears 2 times\t358 appears 2 times\t361 appears 2 times\t362 appears 2 times\t\n",
      "364 appears 7 times\t365 appears 3 times\t366 appears 2 times\t367 appears 2 times\t\n",
      "368 appears 3 times\t370 appears 2 times\t373 appears 3 times\t374 appears 2 times\t\n",
      "375 appears 9 times\t376 appears 2 times\t377 appears 3 times\t379 appears 2 times\t\n",
      "380 appears 3 times\t382 appears 2 times\t384 appears 4 times\t385 appears 3 times\t\n",
      "386 appears 6 times\t387 appears 5 times\t388 appears 3 times\t389 appears 3 times\t\n",
      "390 appears 5 times\t391 appears 2 times\t392 appears 3 times\t393 appears 2 times\t\n",
      "394 appears 6 times\t395 appears 6 times\t396 appears 3 times\t397 appears 2 times\t\n",
      "398 appears 5 times\t400 appears 5 times\t401 appears 4 times\t402 appears 7 times\t\n",
      "406 appears 3 times\t407 appears 5 times\t409 appears 3 times\t411 appears 3 times\t\n",
      "412 appears 2 times\t413 appears 4 times\t414 appears 2 times\t415 appears 3 times\t\n",
      "418 appears 2 times\t420 appears 2 times\t421 appears 5 times\t422 appears 8 times\t\n",
      "423 appears 4 times\t425 appears 5 times\t429 appears 4 times\t433 appears 2 times\t\n",
      "437 appears 5 times\t439 appears 3 times\t441 appears 4 times\t443 appears 2 times\t\n",
      "444 appears 4 times\t445 appears 2 times\t447 appears 2 times\t448 appears 3 times\t\n",
      "449 appears 2 times\t450 appears 4 times\t451 appears 5 times\t452 appears 16 times\t\n",
      "453 appears 2 times\t454 appears 2 times\t455 appears 4 times\t456 appears 4 times\t\n",
      "457 appears 3 times\t460 appears 2 times\t461 appears 3 times\t462 appears 3 times\t\n",
      "463 appears 3 times\t466 appears 2 times\t467 appears 4 times\t471 appears 3 times\t\n",
      "473 appears 2 times\t474 appears 4 times\t475 appears 2 times\t476 appears 2 times\t\n",
      "477 appears 3 times\t478 appears 8 times\t482 appears 4 times\t483 appears 2 times\t\n",
      "485 appears 3 times\t486 appears 2 times\t487 appears 4 times\t489 appears 4 times\t\n",
      "491 appears 3 times\t492 appears 5 times\t493 appears 5 times\t494 appears 2 times\t\n",
      "495 appears 2 times\t497 appears 3 times\t498 appears 4 times\t499 appears 2 times\t\n",
      "501 appears 5 times\t503 appears 2 times\t504 appears 2 times\t505 appears 3 times\t\n",
      "506 appears 5 times\t508 appears 3 times\t509 appears 4 times\t511 appears 2 times\t\n",
      "512 appears 2 times\t513 appears 8 times\t514 appears 2 times\t517 appears 2 times\t\n",
      "520 appears 2 times\t521 appears 3 times\t522 appears 4 times\t523 appears 4 times\t\n",
      "524 appears 4 times\t525 appears 2 times\t526 appears 3 times\t528 appears 7 times\t\n",
      "529 appears 3 times\t530 appears 4 times\t531 appears 6 times\t532 appears 6 times\t\n",
      "533 appears 3 times\t536 appears 6 times\t540 appears 4 times\t541 appears 2 times\t\n",
      "544 appears 3 times\t545 appears 3 times\t546 appears 2 times\t547 appears 4 times\t\n",
      "549 appears 2 times\t550 appears 4 times\t551 appears 2 times\t553 appears 3 times\t\n",
      "554 appears 4 times\t555 appears 2 times\t557 appears 5 times\t559 appears 6 times\t\n",
      "561 appears 3 times\t563 appears 2 times\t567 appears 2 times\t568 appears 4 times\t\n",
      "569 appears 3 times\t570 appears 2 times\t571 appears 3 times\t573 appears 9 times\t\n",
      "575 appears 2 times\t576 appears 3 times\t579 appears 4 times\t581 appears 4 times\t\n",
      "582 appears 4 times\t583 appears 2 times\t584 appears 3 times\t585 appears 3 times\t\n",
      "586 appears 4 times\t588 appears 2 times\t589 appears 2 times\t593 appears 2 times\t\n",
      "602 appears 3 times\t603 appears 2 times\t604 appears 2 times\t606 appears 3 times\t\n",
      "607 appears 3 times\t608 appears 8 times\t609 appears 4 times\t611 appears 3 times\t\n",
      "612 appears 3 times\t613 appears 2 times\t614 appears 2 times\t616 appears 4 times\t\n",
      "623 appears 2 times\t625 appears 3 times\t627 appears 2 times\t636 appears 2 times\t\n",
      "637 appears 5 times\t638 appears 6 times\t639 appears 3 times\t642 appears 2 times\t\n",
      "643 appears 4 times\t647 appears 2 times\t649 appears 3 times\t650 appears 2 times\t\n",
      "651 appears 2 times\t652 appears 2 times\t653 appears 2 times\t654 appears 3 times\t\n",
      "655 appears 2 times\t656 appears 3 times\t659 appears 2 times\t661 appears 4 times\t\n",
      "662 appears 2 times\t663 appears 2 times\t664 appears 2 times\t665 appears 3 times\t\n",
      "667 appears 2 times\t668 appears 3 times\t670 appears 2 times\t672 appears 2 times\t\n",
      "673 appears 2 times\t675 appears 3 times\t676 appears 2 times\t677 appears 2 times\t\n",
      "678 appears 3 times\t679 appears 2 times\t683 appears 4 times\t684 appears 2 times\t\n",
      "685 appears 3 times\t686 appears 4 times\t688 appears 2 times\t691 appears 3 times\t\n",
      "692 appears 3 times\t693 appears 2 times\t694 appears 2 times\t695 appears 4 times\t\n",
      "699 appears 4 times\t707 appears 2 times\t708 appears 2 times\t709 appears 5 times\t\n",
      "710 appears 4 times\t711 appears 4 times\t713 appears 4 times\t714 appears 3 times\t\n",
      "715 appears 3 times\t718 appears 3 times\t720 appears 2 times\t721 appears 5 times\t\n",
      "722 appears 5 times\t723 appears 2 times\t725 appears 3 times\t727 appears 2 times\t\n",
      "737 appears 4 times\t738 appears 2 times\t739 appears 3 times\t740 appears 2 times\t\n",
      "743 appears 2 times\t744 appears 3 times\t745 appears 2 times\t747 appears 3 times\t\n",
      "748 appears 2 times\t756 appears 2 times\t757 appears 2 times\t759 appears 4 times\t\n",
      "762 appears 3 times\t765 appears 3 times\t766 appears 7 times\t767 appears 3 times\t\n",
      "779 appears 3 times\t789 appears 3 times\t791 appears 2 times\t793 appears 3 times\t\n",
      "794 appears 3 times\t795 appears 3 times\t796 appears 7 times\t797 appears 3 times\t\n",
      "802 appears 4 times\t805 appears 4 times\t806 appears 2 times\t808 appears 2 times\t\n",
      "810 appears 2 times\t812 appears 3 times\t816 appears 3 times\t820 appears 2 times\t\n",
      "822 appears 2 times\t827 appears 3 times\t828 appears 3 times\t829 appears 2 times\t\n",
      "831 appears 2 times\t835 appears 2 times\t837 appears 2 times\t838 appears 5 times\t\n",
      "839 appears 3 times\t842 appears 2 times\t843 appears 3 times\t846 appears 5 times\t\n",
      "847 appears 2 times\t849 appears 2 times\t850 appears 3 times\t851 appears 2 times\t\n",
      "852 appears 2 times\t864 appears 2 times\t865 appears 3 times\t867 appears 2 times\t\n"
     ]
    },
    {
     "name": "stdout",
     "output_type": "stream",
     "text": [
      "869 appears 4 times\t871 appears 3 times\t872 appears 3 times\t873 appears 3 times\t\n",
      "874 appears 2 times\t876 appears 4 times\t878 appears 3 times\t880 appears 2 times\t\n",
      "881 appears 3 times\t882 appears 3 times\t885 appears 4 times\t895 appears 3 times\t\n",
      "904 appears 4 times\t907 appears 2 times\t908 appears 4 times\t909 appears 2 times\t\n",
      "911 appears 6 times\t913 appears 2 times\t920 appears 2 times\t921 appears 2 times\t\n",
      "923 appears 2 times\t924 appears 2 times\t925 appears 3 times\t926 appears 3 times\t\n",
      "929 appears 2 times\t930 appears 5 times\t931 appears 2 times\t933 appears 3 times\t\n",
      "939 appears 2 times\t945 appears 3 times\t948 appears 3 times\t953 appears 3 times\t\n",
      "954 appears 2 times\t958 appears 2 times\t960 appears 3 times\t964 appears 2 times\t\n",
      "965 appears 4 times\t974 appears 2 times\t975 appears 3 times\t979 appears 2 times\t\n",
      "980 appears 3 times\t981 appears 2 times\t982 appears 3 times\t984 appears 2 times\t\n",
      "987 appears 3 times\t988 appears 2 times\t991 appears 2 times\t995 appears 2 times\t\n",
      "1002 appears 2 times\t1010 appears 4 times\t1014 appears 3 times\t1025 appears 2 times\t\n",
      "1035 appears 2 times\t1037 appears 2 times\t1051 appears 2 times\t1055 appears 2 times\t\n",
      "1058 appears 2 times\t1059 appears 2 times\t1060 appears 2 times\t1062 appears 4 times\t\n",
      "1066 appears 2 times\t1068 appears 2 times\t1081 appears 4 times\t1093 appears 3 times\t\n",
      "1094 appears 3 times\t1095 appears 2 times\t1097 appears 2 times\t1104 appears 2 times\t\n",
      "1110 appears 2 times\t1111 appears 3 times\t1112 appears 3 times\t1131 appears 2 times\t\n",
      "1138 appears 5 times\t1139 appears 2 times\t1143 appears 3 times\t1146 appears 2 times\t\n",
      "1151 appears 3 times\t1161 appears 2 times\t1169 appears 2 times\t1173 appears 2 times\t\n",
      "1174 appears 2 times\t1188 appears 3 times\t1196 appears 3 times\t1200 appears 4 times\t\n",
      "1219 appears 2 times\t1221 appears 2 times\t1224 appears 2 times\t1225 appears 2 times\t\n",
      "1231 appears 2 times\t1234 appears 2 times\t1237 appears 2 times\t1240 appears 2 times\t\n",
      "1241 appears 2 times\t1248 appears 3 times\t1251 appears 2 times\t1253 appears 3 times\t\n",
      "1257 appears 2 times\t1266 appears 2 times\t1267 appears 3 times\t1268 appears 3 times\t\n",
      "1272 appears 2 times\t1275 appears 2 times\t1280 appears 2 times\t1294 appears 2 times\t\n",
      "1297 appears 2 times\t1298 appears 2 times\t1301 appears 2 times\t1306 appears 2 times\t\n",
      "1323 appears 3 times\t1324 appears 3 times\t1325 appears 2 times\t1332 appears 2 times\t\n",
      "1354 appears 2 times\t1363 appears 2 times\t1374 appears 2 times\t1382 appears 3 times\t\n",
      "1386 appears 2 times\t1397 appears 2 times\t1403 appears 2 times\t1404 appears 4 times\t\n",
      "1407 appears 2 times\t1409 appears 2 times\t1423 appears 2 times\t1439 appears 2 times\t\n",
      "1443 appears 2 times\t1452 appears 2 times\t1453 appears 2 times\t1454 appears 3 times\t\n",
      "1461 appears 2 times\t1483 appears 2 times\t1487 appears 2 times\t1492 appears 2 times\t\n",
      "1519 appears 2 times\t1523 appears 2 times\t1533 appears 3 times\t1549 appears 2 times\t\n",
      "1560 appears 2 times\t1589 appears 2 times\t1590 appears 2 times\t1639 appears 2 times\t\n",
      "1670 appears 2 times\t1719 appears 2 times\tList of additional molecular wieghts [58, 59, 60, 61, 62, 63, 65, 66, 67, 68, 69, 70, 71, 72, 74, 75, 76, 77, 78, 79, 80, 81, 82, 83, 84, 85, 86, 88, 89, 90, 91, 92, 95, 96, 97, 99, 101, 102, 103, 105, 106, 107, 108, 109, 110, 111, 112, 115, 116, 117, 118, 119, 120, 121, 123, 124, 125, 126, 127, 129, 130, 131, 132, 133, 134, 135, 136, 137, 138, 139, 140, 141, 142, 143, 145, 146, 148, 149, 150, 151, 152, 153, 154, 155, 157, 158, 159, 160, 161, 162, 164, 165, 166, 167, 168, 169, 171, 172, 173, 178, 179, 180, 181, 182, 183, 184, 185, 186, 187, 189, 190, 191, 192, 193, 194, 196, 197, 198, 199, 200, 201, 202, 206, 208, 209, 210, 211, 212, 213, 214, 215, 216, 217, 218, 219, 220, 221, 223, 224, 225, 226, 228, 229, 230, 231, 232, 233, 234, 235, 236, 237, 238, 239, 240, 241, 242, 246, 247, 248, 252, 253, 254, 255, 256, 257, 258, 260, 261, 262, 263, 264, 265, 267, 268, 269, 271, 272, 273, 274, 275, 276, 277, 278, 279, 280, 281, 283, 284, 285, 286, 287, 288, 289, 291, 292, 293, 294, 295, 296, 297, 298, 299, 300, 301, 302, 303, 304, 305, 306, 307, 308, 309, 311, 313, 314, 316, 317, 319, 320, 321, 322, 323, 324, 325, 327, 328, 329, 330, 331, 333, 335, 336, 337, 338, 339, 340, 341, 342, 343, 344, 345, 347, 348, 350, 351, 354, 355, 356, 357, 358, 361, 362, 364, 365, 366, 367, 368, 370, 373, 374, 375, 376, 377, 379, 380, 382, 384, 385, 386, 387, 388, 389, 390, 391, 392, 393, 394, 395, 396, 397, 398, 400, 401, 402, 406, 407, 409, 411, 412, 413, 414, 415, 418, 420, 421, 422, 423, 425, 429, 433, 437, 439, 441, 443, 444, 445, 447, 448, 449, 450, 451, 452, 453, 454, 455, 456, 457, 460, 461, 462, 463, 466, 467, 471, 473, 474, 475, 476, 477, 478, 482, 483, 485, 486, 487, 489, 491, 492, 493, 494, 495, 497, 498, 499, 501, 503, 504, 505, 506, 508, 509, 511, 512, 513, 514, 517, 520, 521, 522, 523, 524, 525, 526, 528, 529, 530, 531, 532, 533, 536, 540, 541, 544, 545, 546, 547, 549, 550, 551, 553, 554, 555, 557, 559, 561, 563, 567, 568, 569, 570, 571, 573, 575, 576, 579, 581, 582, 583, 584, 585, 586, 588, 589, 593, 602, 603, 604, 606, 607, 608, 609, 611, 612, 613, 614, 616, 623, 625, 627, 636, 637, 638, 639, 642, 643, 647, 649, 650, 651, 652, 653, 654, 655, 656, 659, 661, 662, 663, 664, 665, 667, 668, 670, 672, 673, 675, 676, 677, 678, 679, 683, 684, 685, 686, 688, 691, 692, 693, 694, 695, 699, 707, 708, 709, 710, 711, 713, 714, 715, 718, 720, 721, 722, 723, 725, 727, 737, 738, 739, 740, 743, 744, 745, 747, 748, 756, 757, 759, 762, 765, 766, 767, 779, 789, 791, 793, 794, 795, 796, 797, 802, 805, 806, 808, 810, 812, 816, 820, 822, 827, 828, 829, 831, 835, 837, 838, 839, 842, 843, 846, 847, 849, 850, 851, 852, 864, 865, 867, 869, 871, 872, 873, 874, 876, 878, 880, 881, 882, 885, 895, 904, 907, 908, 909, 911, 913, 920, 921, 923, 924, 925, 926, 929, 930, 931, 933, 939, 945, 948, 953, 954, 958, 960, 964, 965, 974, 975, 979, 980, 981, 982, 984, 987, 988, 991, 995, 1002, 1010, 1014, 1025, 1035, 1037, 1051, 1055, 1058, 1059, 1060, 1062, 1066, 1068, 1081, 1093, 1094, 1095, 1097, 1104, 1110, 1111, 1112, 1131, 1138, 1139, 1143, 1146, 1151, 1161, 1169, 1173, 1174, 1188, 1196, 1200, 1219, 1221, 1224, 1225, 1231, 1234, 1237, 1240, 1241, 1248, 1251, 1253, 1257, 1266, 1267, 1268, 1272, 1275, 1280, 1294, 1297, 1298, 1301, 1306, 1323, 1324, 1325, 1332, 1354, 1363, 1374, 1382, 1386, 1397, 1403, 1404, 1407, 1409, 1423, 1439, 1443, 1452, 1453, 1454, 1461, 1483, 1487, 1492, 1519, 1523, 1533, 1549, 1560, 1589, 1590, 1639, 1670, 1719]\n",
      "Number of additional molecular wieghts 670\n",
      "\n",
      "\n",
      "\n",
      " Increase count tolerance to 8\n",
      "\n",
      "76 appears 11 times\t80 appears 11 times\t\n",
      "106 appears 8 times\t110 appears 8 times\t129 appears 12 times\t131 appears 8 times\t\n",
      "137 appears 8 times\t152 appears 8 times\t164 appears 8 times\t186 appears 23 times\t\n",
      "209 appears 8 times\t261 appears 13 times\t288 appears 8 times\t296 appears 8 times\t\n",
      "299 appears 8 times\t375 appears 9 times\t422 appears 8 times\t452 appears 16 times\t\n",
      "478 appears 8 times\t513 appears 8 times\t573 appears 9 times\t608 appears 8 times\t\n",
      "List of additional molecular wieghts [76, 80, 106, 110, 129, 131, 137, 152, 164, 186, 209, 261, 288, 296, 299, 375, 422, 452, 478, 513, 573, 608]\n",
      "Number of additional molecular wieghts 22\n"
     ]
    }
   ],
   "source": [
    "P3spectrum = [87, 113, 114, 128, 147, 156, 163, 204, 243, 244, 259, 266, 270,\n",
    "              310, 312, 315, 346, 349, 371, 372, 399, 416, 417, 424, 426, 428,\n",
    "              430, 459, 496, 500, 502, 527, 535, 558, 565, 580, 610, 615, 634, \n",
    "              641, 645, 658, 660, 682, 687, 696, 736, 771, 772, 774, 788, 801, \n",
    "              823, 824, 919, 922, 951, 952, 957, 985, 1009, 1032, 1067, 1071, \n",
    "              1082, 1086, 1108, 1137, 1195, 1218, 1223, 1337, 1347, 1381, 1484, \n",
    "              1510, 1567, 1647, 1696, 1753, 1833, 1882, 2019]\n",
    "\n",
    "# import random\n",
    "# missingMass = random.sample(spectrum[:-1], 30)\n",
    "\n",
    "def SpectralConvolution(spectrum):\n",
    "    delta = {}\n",
    "    for i in range(len(spectrum)-1):\n",
    "        for j in range(i+1,len(spectrum)):\n",
    "            diff = abs(spectrum[j] - spectrum[i])\n",
    "            delta[diff] = delta.get(diff, 0) + 1\n",
    "    return delta\n",
    "    \n",
    "print(P3spectrum)\n",
    "print()\n",
    "# print(sorted(missingMass))\n",
    "print()\n",
    "\n",
    "# experimentalSpectrum = sorted(set([mass for mass in spectrum if mass not in missingMass]))\n",
    "experimentalSpectrum = P3spectrum\n",
    "specConv = SpectralConvolution(sorted(experimentalSpectrum))\n",
    "N = 0\n",
    "print(\"When count >= 2\")\n",
    "listofthings = list()\n",
    "for delta, count in sorted(specConv.items()):\n",
    "    if (count >= 2) and (delta not in experimentalSpectrum) and (delta > min(Daltons.values())):\n",
    "#         print(delta, \"appears\", count, \"times*\\t\" if delta in missingMass else \"times\\t\",\n",
    "#         experimentalSpectrum.append(delta))\n",
    "        listofthings.append(delta)\n",
    "        print(delta, \"appears\", count, \"times\\t\", end='')\n",
    "        N += 1\n",
    "        if (N % 4 == 0):\n",
    "            print()\n",
    "print(\"List of additional molecular wieghts\", listofthings)\n",
    "print(\"Number of additional molecular wieghts\", len(listofthings))\n",
    "listofthings = []\n",
    "print(\"\\n\\n\\n Increase count tolerance to 8\\n\")\n",
    "for delta, count in sorted(specConv.items()):\n",
    "    if (count >= 8) and (delta not in experimentalSpectrum) and (delta > min(Daltons.values())):\n",
    "#         print(delta, \"appears\", count, \"times*\\t\" if delta in missingMass else \"times\\t\",\n",
    "#         experimentalSpectrum.append(delta))\n",
    "        listofthings.append(delta)\n",
    "        print(delta, \"appears\", count, \"times\\t\", end='')\n",
    "        N += 1\n",
    "        if (N % 4 == 0):\n",
    "            print()\n",
    "print(\"List of additional molecular wieghts\", listofthings)\n",
    "print(\"Number of additional molecular wieghts\", len(listofthings))\n"
   ]
  },
  {
   "cell_type": "raw",
   "metadata": {
    "number": 3,
    "section": "answer"
   },
   "source": [
    "When count >= 2\n",
    "List of additional molecular wieghts:\n",
    "[58, 59, 60, 61, 62, 63, 65, 66, 67, 68, 69, 70, 71, 72, 74, 75, 76, 77, 78, 79, 80, 81, 82, 83, 84, 85, 86, 88, 89, 90, 91, 92, 95, 96, 97, 99, 101, 102, 103, 105, 106, 107, 108, 109, 110, 111, 112, 115, 116, 117, 118, 119, 120, 121, 123, 124, 125, 126, 127, 129, 130, 131, 132, 133, 134, 135, 136, 137, 138, 139, 140, 141, 142, 143, 145, 146, 148, 149, 150, 151, 152, 153, 154, 155, 157, 158, 159, 160, 161, 162, 164, 165, 166, 167, 168, 169, 171, 172, 173, 178, 179, 180, 181, 182, 183, 184, 185, 186, 187, 189, 190, 191, 192, 193, 194, 196, 197, 198, 199, 200, 201, 202, 206, 208, 209, 210, 211, 212, 213, 214, 215, 216, 217, 218, 219, 220, 221, 223, 224, 225, 226, 228, 229, 230, 231, 232, 233, 234, 235, 236, 237, 238, 239, 240, 241, 242, 246, 247, 248, 252, 253, 254, 255, 256, 257, 258, 260, 261, 262, 263, 264, 265, 267, 268, 269, 271, 272, 273, 274, 275, 276, 277, 278, 279, 280, 281, 283, 284, 285, 286, 287, 288, 289, 291, 292, 293, 294, 295, 296, 297, 298, 299, 300, 301, 302, 303, 304, 305, 306, 307, 308, 309, 311, 313, 314, 316, 317, 319, 320, 321, 322, 323, 324, 325, 327, 328, 329, 330, 331, 333, 335, 336, 337, 338, 339, 340, 341, 342, 343, 344, 345, 347, 348, 350, 351, 354, 355, 356, 357, 358, 361, 362, 364, 365, 366, 367, 368, 370, 373, 374, 375, 376, 377, 379, 380, 382, 384, 385, 386, 387, 388, 389, 390, 391, 392, 393, 394, 395, 396, 397, 398, 400, 401, 402, 406, 407, 409, 411, 412, 413, 414, 415, 418, 420, 421, 422, 423, 425, 429, 433, 437, 439, 441, 443, 444, 445, 447, 448, 449, 450, 451, 452, 453, 454, 455, 456, 457, 460, 461, 462, 463, 466, 467, 471, 473, 474, 475, 476, 477, 478, 482, 483, 485, 486, 487, 489, 491, 492, 493, 494, 495, 497, 498, 499, 501, 503, 504, 505, 506, 508, 509, 511, 512, 513, 514, 517, 520, 521, 522, 523, 524, 525, 526, 528, 529, 530, 531, 532, 533, 536, 540, 541, 544, 545, 546, 547, 549, 550, 551, 553, 554, 555, 557, 559, 561, 563, 567, 568, 569, 570, 571, 573, 575, 576, 579, 581, 582, 583, 584, 585, 586, 588, 589, 593, 602, 603, 604, 606, 607, 608, 609, 611, 612, 613, 614, 616, 623, 625, 627, 636, 637, 638, 639, 642, 643, 647, 649, 650, 651, 652, 653, 654, 655, 656, 659, 661, 662, 663, 664, 665, 667, 668, 670, 672, 673, 675, 676, 677, 678, 679, 683, 684, 685, 686, 688, 691, 692, 693, 694, 695, 699, 707, 708, 709, 710, 711, 713, 714, 715, 718, 720, 721, 722, 723, 725, 727, 737, 738, 739, 740, 743, 744, 745, 747, 748, 756, 757, 759, 762, 765, 766, 767, 779, 789, 791, 793, 794, 795, 796, 797, 802, 805, 806, 808, 810, 812, 816, 820, 822, 827, 828, 829, 831, 835, 837, 838, 839, 842, 843, 846, 847, 849, 850, 851, 852, 864, 865, 867, 869, 871, 872, 873, 874, 876, 878, 880, 881, 882, 885, 895, 904, 907, 908, 909, 911, 913, 920, 921, 923, 924, 925, 926, 929, 930, 931, 933, 939, 945, 948, 953, 954, 958, 960, 964, 965, 974, 975, 979, 980, 981, 982, 984, 987, 988, 991, 995, 1002, 1010, 1014, 1025, 1035, 1037, 1051, 1055, 1058, 1059, 1060, 1062, 1066, 1068, 1081, 1093, 1094, 1095, 1097, 1104, 1110, 1111, 1112, 1131, 1138, 1139, 1143, 1146, 1151, 1161, 1169, 1173, 1174, 1188, 1196, 1200, 1219, 1221, 1224, 1225, 1231, 1234, 1237, 1240, 1241, 1248, 1251, 1253, 1257, 1266, 1267, 1268, 1272, 1275, 1280, 1294, 1297, 1298, 1301, 1306, 1323, 1324, 1325, 1332, 1354, 1363, 1374, 1382, 1386, 1397, 1403, 1404, 1407, 1409, 1423, 1439, 1443, 1452, 1453, 1454, 1461, 1483, 1487, 1492, 1519, 1523, 1533, 1549, 1560, 1589, 1590, 1639, 1670, 1719]\n",
    "Number of additional molecular wieghts 670\n",
    "\n",
    "\n",
    "Increase count tolerance to 8\n",
    "List of additional molecular wieghts [76, 80, 106, 110, 129, 131, 137, 152, 164, 186, 209, 261, 288, 296, 299, 375, 422, 452, 478, 513, 573, 608]\n",
    "Number of additional molecular wieghts 22"
   ]
  },
  {
   "cell_type": "markdown",
   "metadata": {
    "number": 4,
    "section": "problem"
   },
   "source": [
    "---\n",
    "**Problem #4:** The mouse CCAAT Enhancer Binding Protein Beta, *Cebpb*, has the following peptide sequence:\n",
    "\n",
    "        Cebpb = \"MHRLLAWDAACLPPPPAAFRPMEVANFYYEPDCLAYGAKAARAAPRAPAAEPAIGEHERA\" + \\\n",
    "                \"IDFSPYLEPLAPAADFAAPAPAHHDFLSDLFADDYGAKPSKKPADYGYVSLGRAGAKAAP\" + \\\n",
    "                \"PACFPPPPPAALKAEPGFEPADCKRADDAPAMAAGFPFALRAYLGYQATPSGSSGSLSTS\" + \\\n",
    "                \"SSSSPPGTPSPADAKAAPAACFAGPPAAPAKAKAKKTVDKLSDEYKMRRERNNIAVRKSR\" + \\\n",
    "                \"DKAKMRNLETQHKVLELTAENERLQKKVEQLSRELSTLRNLFKQLPEPLLASAGHC\"\n",
    "\n",
    "How many *distinct* subpeptides can the *Cebpb* protein be broken into? How many *distinct* molecular weights appear in its Theoretical Spectrum?"
   ]
  },
  {
   "cell_type": "code",
   "execution_count": 19,
   "metadata": {},
   "outputs": [
    {
     "name": "stdout",
     "output_type": "stream",
     "text": [
      "Distinct subpeptides: 43460\n",
      "Distinct molecular weights: 19718\n"
     ]
    }
   ],
   "source": [
    "Cebpb = \"MHRLLAWDAACLPPPPAAFRPMEVANFYYEPDCLAYGAKAARAAPRAPAAEPAIGEHERA\" + \\\n",
    "                \"IDFSPYLEPLAPAADFAAPAPAHHDFLSDLFADDYGAKPSKKPADYGYVSLGRAGAKAAP\" + \\\n",
    "                \"PACFPPPPPAALKAEPGFEPADCKRADDAPAMAAGFPFALRAYLGYQATPSGSSGSLSTS\" + \\\n",
    "                \"SSSSPPGTPSPADAKAAPAACFAGPPAAPAKAKAKKTVDKLSDEYKMRRERNNIAVRKSR\" + \\\n",
    "                \"DKAKMRNLETQHKVLELTAENERLQKKVEQLSRELSTLRNLFKQLPEPLLASAGHC\"\n",
    "\n",
    "peptide = Cebpb\n",
    "SeqList = set()\n",
    "fragList = set()\n",
    "WeightList = set()\n",
    "for fragLength in range(1,len(peptide)+1):\n",
    "    for start in range(0,len(peptide)-fragLength+1):\n",
    "        seq = peptide[start:start+fragLength]\n",
    "        fragList.add(seq)\n",
    "        SeqList.add(\"\".join(sorted(seq)))        \n",
    "        WeightList.add((sum([Daltons[res] for res in seq])))\n",
    "\n",
    "print(\"Distinct subpeptides:\", len(set(fragList)))    \n",
    "# print(len(SeqList))\n",
    "print(\"Distinct molecular weights:\",len(WeightList))"
   ]
  },
  {
   "cell_type": "raw",
   "metadata": {
    "number": 4,
    "section": "answer"
   },
   "source": [
    "Distinct subpeptides: 43460\n",
    "Distinct molecular weights: 19718\n"
   ]
  },
  {
   "cell_type": "markdown",
   "metadata": {
    "number": 5,
    "section": "problem"
   },
   "source": [
    "---\n",
    "**Problem #5:** The mouse CCAAT Enhancer Binding Protein Beta, *Cebpb*, has multiple subpeptides with a molecular weight of 2019 Daltons. Find all of them. "
   ]
  },
  {
   "cell_type": "code",
   "execution_count": 20,
   "metadata": {},
   "outputs": [],
   "source": [
    "Cebpb = \"MHRLLAWDAACLPPPPAAFRPMEVANFYYEPDCLAYGAKAARAAPRAPAAEPAIGEHERA\" + \\\n",
    "                \"IDFSPYLEPLAPAADFAAPAPAHHDFLSDLFADDYGAKPSKKPADYGYVSLGRAGAKAAP\" + \\\n",
    "                \"PACFPPPPPAALKAEPGFEPADCKRADDAPAMAAGFPFALRAYLGYQATPSGSSGSLSTS\" + \\\n",
    "                \"SSSSPPGTPSPADAKAAPAACFAGPPAAPAKAKAKKTVDKLSDEYKMRRERNNIAVRKSR\" + \\\n",
    "                \"DKAKMRNLETQHKVLELTAENERLQKKVEQLSRELSTLRNLFKQLPEPLLASAGHC\"\n",
    "\n",
    "seqSet = set()\n",
    "def TheoreticalSpectrum(peptide):\n",
    "    # Generate every possible fragment of a peptide\n",
    "    global seqSet\n",
    "    for fragLength in range(1,len(peptide)+1):\n",
    "        for start in range(0,len(peptide)-fragLength+1):\n",
    "            seq = peptide[start:start+fragLength]\n",
    "            if(sum([Daltons[res] for res in seq]) == 2019):\n",
    "                seqSet.add(seq)\n",
    "#                 seqSet.add(\"\".join(sorted(seq)))\n",
    "\n",
    "    return seqSet"
   ]
  },
  {
   "cell_type": "code",
   "execution_count": 21,
   "metadata": {},
   "outputs": [
    {
     "data": {
      "text/plain": [
       "{'AWDAACLPPPPAAFRPMEV', 'KAKMRNLETQHKVLELT', 'WDAACLPPPPAAFRPMEVA'}"
      ]
     },
     "execution_count": 21,
     "metadata": {},
     "output_type": "execute_result"
    }
   ],
   "source": [
    "TheoreticalSpectrum(Cebpb)"
   ]
  },
  {
   "cell_type": "raw",
   "metadata": {
    "number": 5,
    "section": "answer"
   },
   "source": [
    "Subpeptides: {'AWDAACLPPPPAAFRPMEV', 'KAKMRNLETQHKVLELT', 'WDAACLPPPPAAFRPMEVA'}\n"
   ]
  },
  {
   "cell_type": "markdown",
   "metadata": {
    "section": "submit"
   },
   "source": [
    "---\n",
    "\n",
    "## Instructions for submitting your problem set\n",
    "\n",
    "When you are ready to submit a version of your problem set, follow the instructions below.\n",
    "\n",
    "1. Press [Save and Checkpoint] on the *File* menu of your Jupyter notebook.\n",
    "2. Press the link below, which will take you to a website for submitting your problem set.\n",
    "3. Choose the ***correct problem set number*** from the pull-down, else you might overwrite an earlier submission.\n",
    "4. Enter in your onyen and PID in the form provided, then upload your submission.\n",
    "\n",
    "Click [here to submit](http://csbio.unc.edu/mcmillan/index.py?run=PS.upload) your completed problem set\n",
    "\n",
    "**Instructions for resubmissions:**\n",
    "\n",
    "1. You may resubmit as many times as you like before the deadline. \n",
    "2. Resubmissions *always* overwrite any earlier submissions. \n",
    "3. If you resubmit after the due date, you will be warned of any penalties. \n",
    "4. Problem sets will not be regraded."
   ]
  }
 ],
 "metadata": {
  "kernelspec": {
   "display_name": "Python 3",
   "language": "python",
   "name": "python3"
  },
  "language_info": {
   "codemirror_mode": {
    "name": "ipython",
    "version": 3
   },
   "file_extension": ".py",
   "mimetype": "text/x-python",
   "name": "python",
   "nbconvert_exporter": "python",
   "pygments_lexer": "ipython3",
   "version": "3.6.7"
  }
 },
 "nbformat": 4,
 "nbformat_minor": 2
}
