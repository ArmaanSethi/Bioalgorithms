{
 "cells": [
  {
   "cell_type": "code",
   "execution_count": 12,
   "metadata": {},
   "outputs": [
    {
     "name": "stdout",
     "output_type": "stream",
     "text": [
      "\r\n",
      "<!DOCTYPE HTML>\r\n",
      "<html>\r\n",
      "\r\n",
      "<head>\r\n",
      "    <meta charset=\"utf-8\">\r\n",
      "\r\n",
      "    <title>VibrioCholerae.fa (editing)</title>\r\n",
      "    <link id=\"favicon\" rel=\"shortcut icon\" type=\"image/x-icon\" href=\"/user/kimia/static/base/images/favicon-file.ico?v=e2776a7f45692c839d6eea7d7ff6f3b2\">\r\n",
      "    <meta http-equiv=\"X-UA-Compatible\" content=\"IE=edge\" />\r\n"
     ]
    }
   ],
   "source": [
    "!head data/VibrioCholerae.fa"
   ]
  },
  {
   "cell_type": "code",
   "execution_count": 13,
   "metadata": {},
   "outputs": [
    {
     "name": "stdout",
     "output_type": "stream",
     "text": [
      "        window.history.replaceState({}, \"\", new_url);\r\n",
      "        return;\r\n",
      "      }\r\n",
      "    }\r\n",
      "  }\r\n",
      "  _remove_token_from_url();\r\n",
      "</script>\r\n",
      "</body>\r\n",
      "\r\n",
      "</html>"
     ]
    }
   ],
   "source": [
    "!tail data/VibrioCholerae.fa"
   ]
  },
  {
   "cell_type": "code",
   "execution_count": 14,
   "metadata": {},
   "outputs": [
    {
     "name": "stdout",
     "output_type": "stream",
     "text": [
      "     313     629   10466 data/VibrioCholerae.fa\r\n"
     ]
    }
   ],
   "source": [
    "!wc data/VibrioCholerae.fa"
   ]
  },
  {
   "cell_type": "code",
   "execution_count": 8,
   "metadata": {},
   "outputs": [],
   "source": [
    "import gzip\n",
    "\n",
    "def loadFasta(filename):\n",
    "    \"\"\" Parses a classically formatted and possibly \n",
    "        compressed FASTA file into two lists. One of \n",
    "        headers and a second list of sequences.\n",
    "        The ith index of each list correspond.\"\"\"\n",
    "    if (filename.endswith(\".gz\")):\n",
    "        fp = gzip.open(filename, 'r')\n",
    "    else:\n",
    "        fp = open(filename, 'r')\n",
    "    # split at headers\n",
    "    data = fp.read().split('>')\n",
    "    fp.close()\n",
    "    # ignore whatever appears before the 1st header\n",
    "    data.pop(0)     \n",
    "    headers = []\n",
    "    sequences = []\n",
    "    for sequence in data:\n",
    "        lines = sequence.split('\\n')\n",
    "        headers.append(lines.pop(0))\n",
    "        # add an extra \"+\" to make string \"1-referenced\"\n",
    "        sequences.append('+' + ''.join(lines))\n",
    "    return (headers, sequences)"
   ]
  },
  {
   "cell_type": "code",
   "execution_count": 9,
   "metadata": {},
   "outputs": [
    {
     "name": "stdout",
     "output_type": "stream",
     "text": [
      "gi|146313784|gb|CP000626.1| Vibrio cholerae O395 chromosome 1, complete genome\n",
      "1108250 bases +ACAATGAGGTCACTATGTTCGAGCTCTTC ... CCGATAGTAGAGGTTTATACCATCGCAAAA\n",
      "\n",
      "gi|147673035|ref|NC_009457.1| Vibrio cholerae O395 chromosome 2, complete genome\n",
      "3024069 bases +GTTCGCCAGAGCGGTTTTTGACTAGCTTG ... TTTCTGGGTTAAACAGATACTCGGGGCTGG\n",
      "\n"
     ]
    }
   ],
   "source": [
    "header, seq = loadFasta(\"data/VibrioCholerae.fa\")\n",
    "\n",
    "for i in range(len(header)):\n",
    "    print(header[i])\n",
    "    print(len(seq[i])-1, \"bases\", seq[i][:30], \"...\", seq[i][-30:])\n",
    "    print()"
   ]
  },
  {
   "cell_type": "code",
   "execution_count": 10,
   "metadata": {},
   "outputs": [
    {
     "name": "stdout",
     "output_type": "stream",
     "text": [
      "  k     k-mers              4^k      N-k+1          missing   repeated\n",
      "  3         64               64    1108248                0    1108184\n",
      "  4        256              256    1108247                0    1107991\n",
      "  5       1024             1024    1108246                0    1107222\n",
      "  6       4096             4096    1108245                0    1104149\n",
      "  7      16382            16384    1108244                2    1091862\n",
      "  8      65099            65536    1108243              437    1043144\n",
      "  9     234316           262144    1108242            27828     873926\n",
      " 10     571913          1048576    1108241           476663     536328\n",
      " 11     870755          4194304    1108240          3323549     237485\n",
      " 12    1009883         16777216    1108239         15767333      98356\n",
      " 13    1056503         67108864    1108238         66052361      51735\n",
      " 14    1070862        268435456    1108237        267364594      37375\n",
      " 15    1075606       1073741824    1108236       1072666218      32630\n",
      " 16    1077604       4294967296    1108235       4293889692      30631\n",
      " 17    1078784      17179869184    1108234      17178790400      29450\n",
      " 18    1079674      68719476736    1108233      68718397062      28559\n",
      " 19    1080421     274877906944    1108232     274876826523      27811\n",
      " 20    1081116    1099511627776    1108231    1099510546660      27115\n",
      " 21    1081776    4398046511104    1108230    4398045429328      26454\n",
      " 22    1082397   17592186044416    1108229   17592184962019      25832\n",
      " 23    1082990   70368744177664    1108228   70368743094674      25238\n",
      " 24    1083559  281474976710656    1108227  281474975627097      24668\n"
     ]
    }
   ],
   "source": [
    "def kmerCounts(seq, k):\n",
    "    kmerDict = {}\n",
    "    for i in range(1,len(seq)-k+1):\n",
    "        kmer = seq[i:i+k]\n",
    "        kmerDict[kmer] = kmerDict.get(kmer,0) + 1\n",
    "    return kmerDict\n",
    "\n",
    "print('  k     k-mers              4^k      N-k+1          missing   repeated')\n",
    "for k in range(3,25):\n",
    "    kmers = kmerCounts(seq[0], k)\n",
    "    print(\"%3d %10d %16d %10d %16d %10d\" % (k, len(kmers), 4**k, (len(seq[0])-1)-k+1, 4**k-len(kmers), (len(seq[0])-1)-k+1-len(kmers)))"
   ]
  },
  {
   "cell_type": "code",
   "execution_count": 5,
   "metadata": {},
   "outputs": [
    {
     "ename": "NameError",
     "evalue": "name 'seq' is not defined",
     "output_type": "error",
     "traceback": [
      "\u001b[0;31m---------------------------------------------------------------------------\u001b[0m",
      "\u001b[0;31mNameError\u001b[0m                                 Traceback (most recent call last)",
      "\u001b[0;32m<ipython-input-5-24c75bf6790c>\u001b[0m in \u001b[0;36m<module>\u001b[0;34m\u001b[0m\n\u001b[0;32m----> 1\u001b[0;31m \u001b[0mgenome\u001b[0m \u001b[0;34m=\u001b[0m \u001b[0mseq\u001b[0m\u001b[0;34m[\u001b[0m\u001b[0;36m0\u001b[0m\u001b[0;34m]\u001b[0m\u001b[0;34m\u001b[0m\u001b[0;34m\u001b[0m\u001b[0m\n\u001b[0m\u001b[1;32m      2\u001b[0m \u001b[0mprint\u001b[0m\u001b[0;34m(\u001b[0m\u001b[0;34m\"oriC:\"\u001b[0m\u001b[0;34m)\u001b[0m\u001b[0;34m\u001b[0m\u001b[0;34m\u001b[0m\u001b[0m\n\u001b[1;32m      3\u001b[0m \u001b[0mOriCStart\u001b[0m \u001b[0;34m=\u001b[0m \u001b[0;36m151887\u001b[0m\u001b[0;34m\u001b[0m\u001b[0;34m\u001b[0m\u001b[0m\n\u001b[1;32m      4\u001b[0m \u001b[0moriC\u001b[0m \u001b[0;34m=\u001b[0m \u001b[0mgenome\u001b[0m\u001b[0;34m[\u001b[0m\u001b[0mOriCStart\u001b[0m\u001b[0;34m:\u001b[0m\u001b[0mOriCStart\u001b[0m\u001b[0;34m+\u001b[0m\u001b[0;36m540\u001b[0m\u001b[0;34m]\u001b[0m\u001b[0;34m\u001b[0m\u001b[0;34m\u001b[0m\u001b[0m\n\u001b[1;32m      5\u001b[0m \u001b[0;32mfor\u001b[0m \u001b[0mi\u001b[0m \u001b[0;32min\u001b[0m \u001b[0mrange\u001b[0m\u001b[0;34m(\u001b[0m\u001b[0;36m9\u001b[0m\u001b[0;34m)\u001b[0m\u001b[0;34m:\u001b[0m\u001b[0;34m\u001b[0m\u001b[0;34m\u001b[0m\u001b[0m\n",
      "\u001b[0;31mNameError\u001b[0m: name 'seq' is not defined"
     ]
    }
   ],
   "source": [
    "genome = seq[0]\n",
    "print(\"oriC:\")\n",
    "OriCStart = 151887\n",
    "oriC = genome[OriCStart:OriCStart+540]\n",
    "for i in range(9):\n",
    "    print(\"    %s\" % oriC[60*i:60*(i+1)].lower())"
   ]
  },
  {
   "cell_type": "code",
   "execution_count": 8,
   "metadata": {},
   "outputs": [
    {
     "name": "stdout",
     "output_type": "stream",
     "text": [
      "{'AGA': 1, 'GAC': 1, 'ACA': 1, 'CAT': 1}\n",
      "{'iss': 3, 'ssm': 1, 'smi': 1, 'mis': 1, 'ssi': 2, 'sis': 1, 'sip': 1, 'ipp': 1, 'ppi': 1}\n"
     ]
    }
   ],
   "source": [
    "print(kmerCounts(\"TAGACAT\",3))\n",
    "print(kmerCounts(\"missmississippi\",3))"
   ]
  },
  {
   "cell_type": "code",
   "execution_count": 9,
   "metadata": {},
   "outputs": [
    {
     "name": "stdout",
     "output_type": "stream",
     "text": [
      "1 []\n",
      "2 []\n",
      "3 []\n",
      "4 []\n",
      "5 []\n",
      "6 []\n",
      "7 []\n",
      "8 []\n",
      "9 []\n"
     ]
    }
   ],
   "source": [
    "def mostFreqKmer(start, end, sequence):\n",
    "    for k in range(start,end):\n",
    "        kmerStats = kmerCounts(sequence,k)\n",
    "        kmerOrder = sorted(kmerStats, reverse=True, key=kmerStats.get)\n",
    "        mostFreq = [(kmer, kmerStats[kmer]) for kmer in kmerOrder[0:6]]\n",
    "        print(k, mostFreq)\n",
    "\n",
    "mostFreqKmer(1,10,oriC)"
   ]
  },
  {
   "cell_type": "code",
   "execution_count": null,
   "metadata": {},
   "outputs": [],
   "source": []
  },
  {
   "cell_type": "code",
   "execution_count": null,
   "metadata": {},
   "outputs": [],
   "source": []
  }
 ],
 "metadata": {
  "kernelspec": {
   "display_name": "Python 3",
   "language": "python",
   "name": "python3"
  },
  "language_info": {
   "codemirror_mode": {
    "name": "ipython",
    "version": 3
   },
   "file_extension": ".py",
   "mimetype": "text/x-python",
   "name": "python",
   "nbconvert_exporter": "python",
   "pygments_lexer": "ipython3",
   "version": "3.6.7"
  }
 },
 "nbformat": 4,
 "nbformat_minor": 2
}
