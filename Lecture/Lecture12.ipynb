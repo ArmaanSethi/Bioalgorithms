{
 "cells": [
  {
   "cell_type": "markdown",
   "metadata": {},
   "source": [
    "## Incremental MSBWT Construction"
   ]
  },
  {
   "cell_type": "code",
   "execution_count": 6,
   "metadata": {},
   "outputs": [],
   "source": [
    "def FMIndex(bwt):\n",
    "    fm = [{c: 0 for c in bwt}]\n",
    "    for c in bwt:\n",
    "        row = {symbol: count + 1 if (symbol == c) else count for symbol, count in fm[-1].items()}\n",
    "        fm.append(row)\n",
    "    offset = {}\n",
    "    N = 0\n",
    "    for symbol in sorted(row.keys()):\n",
    "        offset[symbol] = N\n",
    "        N += row[symbol]\n",
    "    return fm, offset\n",
    "\n",
    "def inverseBWT(bwt):\n",
    "    # initialize the table from t\n",
    "    table = ['' for c in bwt]\n",
    "    for j in range(len(bwt)):\n",
    "        #insert the BWT as the first column\n",
    "        table = sorted([c+table[i] for i, c in enumerate(bwt)])\n",
    "    #return the row that ends with ‘$’\n",
    "    return table[bwt.index('$')]\n",
    "\n",
    "def BWT(t):\n",
    "    # create a sorted list of all cyclic suffixes of t\n",
    "    rotation = sorted([t[i:]+t[:i] for i in range(len(t))])\n",
    "    # concatenate the last symbols from each suffix\n",
    "    return ''.join(r[-1] for r in rotation)\n",
    "\n",
    "def recoverSuffix(i, BWT, FMIndex, Offset):\n",
    "    suffix = ''\n",
    "    c = BWT[i]\n",
    "    predec = Offset[c] + FMIndex[i][c]\n",
    "    suffix = c + suffix\n",
    "    while (predec != i):\n",
    "        c = BWT[predec]\n",
    "        predec = Offset[c] + FMIndex[predec][c]\n",
    "        suffix = c + suffix\n",
    "    return suffix\n",
    "\n",
    "def findBWT(pattern, FMIndex, Offset):\n",
    "    lo = 0\n",
    "    hi = len(FMIndex) - 1\n",
    "    for symbol in reversed(pattern):\n",
    "        lo = Offset[symbol] + FMIndex[lo][symbol]\n",
    "        hi = Offset[symbol] + FMIndex[hi][symbol]\n",
    "    return lo, hi"
   ]
  },
  {
   "cell_type": "code",
   "execution_count": 7,
   "metadata": {},
   "outputs": [
    {
     "name": "stdout",
     "output_type": "stream",
     "text": [
      " 0: $ACAT\n",
      " 1: $ATAG\n",
      " 2: $GAGA\n",
      " 3: A$GAG\n",
      " 4: ACAT$\n",
      " 5: AG$AT\n",
      " 6: AGA$G\n",
      " 7: AT$AC\n",
      " 8: ATAG$\n",
      " 9: CAT$A\n",
      "10: G$ATA\n",
      "11: GA$GA\n",
      "12: GAGA$\n",
      "13: T$ACA\n",
      "14: TAG$A\n",
      "TGAAGT$TGCT$AAA$AAA$\n"
     ]
    }
   ],
   "source": [
    "bwt = \"TGAG$TGC$AAA$AA\"\n",
    "fm, off = FMIndex(bwt)\n",
    "for i in range(len(bwt)):\n",
    "    print(\"%2d: %s\" % (i, recoverSuffix(i, bwt, fm, off)))\n",
    "\n",
    "new = \"TATA$\"\n",
    "inserts = []\n",
    "for i in range(len(new)):\n",
    "    l, h = findBWT(new[i:]+new[:i],fm,off)\n",
    "    inserts.append((h,new[i-1]))\n",
    "\n",
    "for i, c in sorted(inserts, reverse=True):\n",
    "    bwt = bwt[:i] + c + bwt[i:]\n",
    "\n",
    "print(bwt)"
   ]
  },
  {
   "cell_type": "markdown",
   "metadata": {},
   "source": [
    "## msBWT merging in Python"
   ]
  },
  {
   "cell_type": "code",
   "execution_count": 7,
   "metadata": {},
   "outputs": [
    {
     "name": "stdout",
     "output_type": "stream",
     "text": [
      "TGAAGT$TGCT$AAA$AAA$\n",
      " 0: $ACAT  5: A$TAT 10: ATA$T 15: GAGA$ \n",
      " 1: $ATAG  6: ACAT$ 11: ATAG$ 16: T$ACA \n",
      " 2: $GAGA  7: AG$AT 12: CAT$A 17: TA$TA \n",
      " 3: $TATA  8: AGA$G 13: G$ATA 18: TAG$A \n",
      " 4: A$GAG  9: AT$AC 14: GA$GA 19: TATA$ \n"
     ]
    }
   ],
   "source": [
    "def mergeBWT(bwt1, bwt2):\n",
    "    interleave = [(c, 0) for c in bwt1] + [(c, 1) for c in bwt2]\n",
    "    passes = min(len(bwt1), len(bwt2))\n",
    "    for p in range(passes):\n",
    "        i, j = 0, 0\n",
    "        nextInterleave = []\n",
    "        for c, k in sorted(interleave, key=lambda x: x[0]):\n",
    "            if (k == 0):\n",
    "                b = bwt1[i]\n",
    "                i += 1\n",
    "            else:\n",
    "                b = bwt2[j]\n",
    "                j += 1\n",
    "            nextInterleave.append((b, k))\n",
    "        if (nextInterleave == interleave):\n",
    "            break\n",
    "        interleave = nextInterleave\n",
    "    return ''.join([c for c, k in interleave])\n",
    "\n",
    "bwt1 = \"TG$TC$AAAA\"\n",
    "bwt2 = \"AAGTGTA$A$\"\n",
    "bwt12 = mergeBWT(bwt1, bwt2)\n",
    "print(bwt12)\n",
    "FM, Offset = FMIndex(bwt12)\n",
    "# print(len(bwt12))\n",
    "for i in range(len(bwt12)):\n",
    "    j = (i>>2)+(i&3)*(len(bwt12)//4)\n",
    "    print(\"%2d: %s\" % (j, recoverSuffix(j,bwt12,FM,Offset)), \"\\n\" if (i % 4 == 3) else \"\", end='')"
   ]
  },
  {
   "cell_type": "code",
   "execution_count": null,
   "metadata": {},
   "outputs": [],
   "source": []
  }
 ],
 "metadata": {
  "kernelspec": {
   "display_name": "Python 3",
   "language": "python",
   "name": "python3"
  },
  "language_info": {
   "codemirror_mode": {
    "name": "ipython",
    "version": 3
   },
   "file_extension": ".py",
   "mimetype": "text/x-python",
   "name": "python",
   "nbconvert_exporter": "python",
   "pygments_lexer": "ipython3",
   "version": "3.6.7"
  }
 },
 "nbformat": 4,
 "nbformat_minor": 2
}
