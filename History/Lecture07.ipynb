{
 "cells": [
  {
   "cell_type": "code",
   "execution_count": 3,
   "metadata": {
    "nbpresent": {
     "id": "bb108f24-ce1e-4d70-8848-79ecbeb47069"
    }
   },
   "outputs": [
    {
     "data": {
      "application/javascript": [
       "var width = window.innerWidth || document.documentElement.clientWidth || document.body.clientWidth;\n",
       "var height = window.innerHeight || document.documentElement.clientHeight || document.body.clientHeight;\n",
       "\n",
       "IPython.notebook.kernel.execute(\"windowSize = (\" + width + \",\" + height + \")\");\n",
       "// suitable for small screens\n",
       "nbpresent.mode.tree.set(\n",
       "    [\"app\", \"theme-manager\", \"themes\", \"my-theme\"], \n",
       "    {\n",
       "    palette: {\n",
       "        \"blue\": { id: \"blue\", rgb: [0, 153, 204] },\n",
       "        \"black\": { id: \"black\", rgb: [0, 0, 0] },\n",
       "        \"white\": { id: \"white\", rgb: [255, 255, 255] },\n",
       "        \"red\": { id: \"red\", rgb: [240, 32, 32] },\n",
       "        \"gray\": { id: \"gray\", rgb: [128, 128, 128] },\n",
       "    },\n",
       "    backgrounds: {\n",
       "        \"my-background\": {\n",
       "            \"background-color\": \"white\"\n",
       "        }\n",
       "    },\n",
       "    \"text-base\": {\n",
       "        \"font-family\": \"Georgia\",\n",
       "        \"font-size\": 2.5\n",
       "    },\n",
       "    rules: {\n",
       "        h1: {\n",
       "            \"font-size\": 5.5,\n",
       "            color: \"blue\",\n",
       "            \"text-align\": \"center\"\n",
       "        },\n",
       "        h2: {\n",
       "            \"font-size\": 3,\n",
       "            color: \"blue\",\n",
       "            \"text-align\": \"center\"\n",
       "        },\n",
       "        h3: {\n",
       "            \"font-size\": 3,\n",
       "            color: \"black\",\n",
       "        },\n",
       "        \"ul li\": {\n",
       "            \"font-size\": 2.5,\n",
       "            color: \"black\"\n",
       "        },\n",
       "        \"ul li ul li\": {\n",
       "            \"font-size\": 2.0,\n",
       "            color: \"black\"\n",
       "        },\n",
       "        \"code\": {\n",
       "            \"font-size\": 1.6,\n",
       "        },\n",
       "        \"pre\": {\n",
       "            \"font-size\": 1.6,\n",
       "        }\n",
       "    }\n",
       "});"
      ],
      "text/plain": [
       "<IPython.core.display.Javascript object>"
      ]
     },
     "metadata": {},
     "output_type": "display_data"
    }
   ],
   "source": [
    "%%javascript\n",
    "var width = window.innerWidth || document.documentElement.clientWidth || document.body.clientWidth;\n",
    "var height = window.innerHeight || document.documentElement.clientHeight || document.body.clientHeight;\n",
    "\n",
    "IPython.notebook.kernel.execute(\"windowSize = (\" + width + \",\" + height + \")\");\n",
    "// suitable for small screens\n",
    "nbpresent.mode.tree.set(\n",
    "    [\"app\", \"theme-manager\", \"themes\", \"my-theme\"], \n",
    "    {\n",
    "    palette: {\n",
    "        \"blue\": { id: \"blue\", rgb: [0, 153, 204] },\n",
    "        \"black\": { id: \"black\", rgb: [0, 0, 0] },\n",
    "        \"white\": { id: \"white\", rgb: [255, 255, 255] },\n",
    "        \"red\": { id: \"red\", rgb: [240, 32, 32] },\n",
    "        \"gray\": { id: \"gray\", rgb: [128, 128, 128] },\n",
    "    },\n",
    "    backgrounds: {\n",
    "        \"my-background\": {\n",
    "            \"background-color\": \"white\"\n",
    "        }\n",
    "    },\n",
    "    \"text-base\": {\n",
    "        \"font-family\": \"Georgia\",\n",
    "        \"font-size\": 2.5\n",
    "    },\n",
    "    rules: {\n",
    "        h1: {\n",
    "            \"font-size\": 5.5,\n",
    "            color: \"blue\",\n",
    "            \"text-align\": \"center\"\n",
    "        },\n",
    "        h2: {\n",
    "            \"font-size\": 3,\n",
    "            color: \"blue\",\n",
    "            \"text-align\": \"center\"\n",
    "        },\n",
    "        h3: {\n",
    "            \"font-size\": 3,\n",
    "            color: \"black\",\n",
    "        },\n",
    "        \"ul li\": {\n",
    "            \"font-size\": 2.5,\n",
    "            color: \"black\"\n",
    "        },\n",
    "        \"ul li ul li\": {\n",
    "            \"font-size\": 2.0,\n",
    "            color: \"black\"\n",
    "        },\n",
    "        \"code\": {\n",
    "            \"font-size\": 1.6,\n",
    "        },\n",
    "        \"pre\": {\n",
    "            \"font-size\": 1.6,\n",
    "        }\n",
    "    }\n",
    "});"
   ]
  },
  {
   "cell_type": "markdown",
   "metadata": {
    "nbpresent": {
     "id": "7d14e31a-f8fd-4d54-9c39-f73c2de52a8d"
    },
    "slideshow": {
     "slide_type": "slide"
    }
   },
   "source": [
    "# Determining a Peptide's Sequence\n",
    "\n",
    "<table style=\"border: none;\"><tbody>\n",
    "  <tr  style=\"border: none;\">\n",
    "  <td width=\"50%\" style=\"border: none;\">\n",
    "      <ul>\n",
    "      <li>From last time we learned that we can't always use DNA to resolve peptide/protein sequences</li>\n",
    "      <li>What else can we do?</li>\n",
    "        <ul>\n",
    "        <li>Extract and purify a pure sample of the peptide/protein</li>\n",
    "        <li>Try to resolve the peptide sequence by analyzing this sample</li>\n",
    "        </ul>\n",
    "      <li>Today's approach</li>\n",
    "        <ul>\n",
    "        <li>Randomly fracture the peptide</li>\n",
    "        <li>Assemble an answer from the peices</li>\n",
    "        </ul>\n",
    "      </ul>\n",
    "  </td>\n",
    "  <td width=\"50%\" style=\"border: none;\">\n",
    "  <img src=\"http://csbio.unc.edu/mcmillan/Comp555S18/Media/BrokenVase.png\" width=\"400px\">\n",
    "  </td>\n",
    "</tbody></table>\n",
    "\n",
    "<p style=\"text-align: right; clear: right; margin-right: 100px;\">1</p>"
   ]
  },
  {
   "cell_type": "markdown",
   "metadata": {
    "nbpresent": {
     "id": "bccb068a-a4fa-4c2e-adb6-65c5459b3d91"
    },
    "slideshow": {
     "slide_type": "slide"
    }
   },
   "source": [
    "# Molecular Weights are the Puzzle Peices\n",
    "\n",
    "<img src=\"http://csbio.unc.edu/mcmillan/Comp555S18/Media/MassSpecFrac.png\" width=\"700px\" class=\"centerImg\">\n",
    "\n",
    "<p style=\"text-align: right; clear: right; margin-right: 100px;\">2</p>"
   ]
  },
  {
   "cell_type": "markdown",
   "metadata": {
    "nbpresent": {
     "id": "90eeea49-3b67-42f1-a96d-cea973a7f6ac"
    },
    "slideshow": {
     "slide_type": "slide"
    }
   },
   "source": [
    "# Structure of a Peptide Chain\n",
    "\n",
    "<img src=\"http://csbio.unc.edu/mcmillan/Comp555S18/Media/PeptideBonds.png\" width=\"300px\" style=\"float: right; clear: right; margin: 24px;\">\n",
    "\n",
    "* Peptides are chains of amino acids that are joined by *peptide* bonds\n",
    "* These bonds reduce the weight of each amino acid by one H<sub>2</sub>0 molecule\n",
    "* The result is called a *residue*\n",
    "* A Mass Spectrograph can precisely measure the molecular weight (and charge and abundance) of any peptide chain\n",
    "* Since the molecular weight of each of the possible 20 residues is known precisely, one can ask the question, which combination of residues would give a particular weight?\n",
    "* The problem is ambiguous for the entire molecule\n",
    "  - Consider all permulations of 'PIT': \n",
    "         'PIT', 'PTI', 'ITP', 'IPT', 'TPI', and 'TIP' all weigh the same\n",
    "  - But they differ in their 2-peptide fragments: \n",
    "         'PIT' breaks into 'PI' and 'IT', while \n",
    "         'PTI' breaks into 'PT' and 'TI'\n",
    "\n",
    "<p style=\"text-align: right; clear: right; margin-right: 100px;\">3</p>"
   ]
  },
  {
   "cell_type": "markdown",
   "metadata": {
    "nbpresent": {
     "id": "aab83dcc-d430-4982-af2e-8d1a1b68491a"
    },
    "slideshow": {
     "slide_type": "slide"
    }
   },
   "source": [
    "# An Simplified Peptide Weight table\n",
    "\n",
    "* The actual molecular weight of an amino acid is a real number. This acounts for the relative abundances of atomic isotopes\n",
    "* Today, we will use a simplified version that assumes only integer molecular weights\n",
    "* Example:\n",
    "<br><br>\n",
    "  - Molecular weight of Glycine Amino Acid\n",
    "  \n",
    "    $$W(C_2 H_5 N O_2) = 12 \\times 2 + 5 \\times 1 + 14 + 16 \\times 2 = 75$$<br>\n",
    "    \n",
    "  - Molecular wieght of Glycine Residue (Minus the $H_{2} O$ lost forming the peptide bond)\n",
    "  \n",
    "    $$W(C_2 H_5 N O_2 - H_2 O) = 57$$\n",
    "    \n",
    "    \n",
    "* We can repeat this for all 20 Amino Acids to get a integer molecular weight table, which I call *Daltons*\n",
    "\n",
    "<p style=\"text-align: right; clear: right; margin-right: 100px;\">4</p>"
   ]
  },
  {
   "cell_type": "markdown",
   "metadata": {
    "nbpresent": {
     "id": "4d835823-c398-4888-b74c-1fa400e7deba"
    },
    "slideshow": {
     "slide_type": "slide"
    }
   },
   "source": [
    "# Table Definitions"
   ]
  },
  {
   "cell_type": "code",
   "execution_count": 4,
   "metadata": {
    "collapsed": true,
    "nbpresent": {
     "id": "4c77c82e-5b97-4b77-9df7-6230cadab69e"
    },
    "slideshow": {
     "slide_type": "fragment"
    }
   },
   "outputs": [],
   "source": [
    "AminoAcid = {\n",
    "    'A': 'Alanine', 'C': 'Cysteine', 'D': 'Aspartic acid', 'E': 'Glutamic acid',\n",
    "    'F': 'Phenylalanine', 'G': 'Glycine', 'H': 'Histidine', 'I': 'Isoleucine',\n",
    "    'K': 'Lysine', 'L': 'Leucine', 'M': 'Methionine', 'N': 'Asparagine',\n",
    "    'P': 'Proline', 'Q': 'Glutamine', 'R': 'Arginine', 'S': 'Serine',\n",
    "    'T': 'Theronine', 'V': 'Valine', 'W': 'Tryptophan', 'Y': 'Tyrosine',\n",
    "    '*': 'STOP'\n",
    "}\n",
    "\n",
    "AminoAbbrv = {\n",
    "    'A': 'Ala', 'C': 'Cys', 'D': 'Asp', 'E': 'Glu',\n",
    "    'F': 'Phe', 'G': 'Gly', 'H': 'His', 'I': 'Ile',\n",
    "    'K': 'Lys', 'L': 'Leu', 'M': 'Met', 'N': 'Asn',\n",
    "    'P': 'Pro', 'Q': 'Gln', 'R': 'Arg', 'S': 'Ser',\n",
    "    'T': 'Thr', 'V': 'Val', 'W': 'Trp', 'Y': 'Tyr',\n",
    "    '*': 'STP'    \n",
    "}\n",
    "\n",
    "# Here's a new dictionary!\n",
    "Daltons = { \n",
    "    'A':  71, 'C': 103, 'D': 115, 'E': 129,\n",
    "    'F': 147, 'G':  57, 'H': 137, 'I': 113,\n",
    "    'K': 128, 'L': 113, 'M': 131, 'N': 114,\n",
    "    'P':  97, 'Q': 128, 'R': 156, 'S':  87,\n",
    "    'T': 101, 'V':  99, 'W': 186, 'Y': 163 \n",
    "}"
   ]
  },
  {
   "cell_type": "markdown",
   "metadata": {
    "nbpresent": {
     "id": "389d88fa-64a7-4d54-a862-26dffa305b93"
    },
    "slideshow": {
     "slide_type": "fragment"
    }
   },
   "source": [
    "<p style=\"text-align: right; clear: right; margin-right: 100px;\">5</p>\n",
    "\n",
    "---"
   ]
  },
  {
   "cell_type": "markdown",
   "metadata": {
    "nbpresent": {
     "id": "7ab3d910-8e5b-4edc-9b4b-541c97543d7b"
    },
    "slideshow": {
     "slide_type": "slide"
    }
   },
   "source": [
    "# Some Issues with our Table\n",
    "\n",
    "<img src=\"http://csbio.unc.edu/mcmillan/Comp555S18/Media/SphericalCow.png\" width=\"240px\" style=\"float: right; clear: right; margin: 0px 100px 0px 0px;\">\n",
    "* We can't distinguish between Leucine (L) and Isoleucine (I). They both weight 113 d\n",
    "* Nor can we distinguish Lysine (K) and Glutamine (Q), which weigh 128 d\n",
    "* For long peptide chains >50, our errors can build up\n",
    "* In reality, peptides can loose or gain one or more small molecules from their side chains and fractured peptide bonds\n",
    "  - Gain Hydrogen ions (H, +1 Dalton)\n",
    "  - Lose Water (H<sub>2</sub>O, -18 Daltons)\n",
    "  - Lose Ammonia (NH<sub>3</sub>, -17 Daltons)\n",
    "* This leads to measurements that vary around the ideal sums we assume\n",
    "* Regardless of these caveats, let's keep going\n",
    "\n",
    "<p style=\"text-align: right; clear: right; margin-right: 100px;\">6</p>"
   ]
  },
  {
   "cell_type": "markdown",
   "metadata": {
    "nbpresent": {
     "id": "74d93293-29e1-4fe5-9531-3faa50d07731"
    },
    "slideshow": {
     "slide_type": "slide"
    }
   },
   "source": [
    "# The total molecular weight of our target"
   ]
  },
  {
   "cell_type": "code",
   "execution_count": 5,
   "metadata": {
    "nbpresent": {
     "id": "4a350738-0d2b-400a-ad6d-70fac66a360f"
    },
    "slideshow": {
     "slide_type": "fragment"
    }
   },
   "outputs": [
    {
     "name": "stdout",
     "output_type": "stream",
     "text": [
      "1322\n"
     ]
    }
   ],
   "source": [
    "TyrocidineB1 = \"VKLFPWFNQY\"\n",
    "\n",
    "# The weight of Tyrocidine B1\n",
    "print sum([Daltons[res] for res in TyrocidineB1])"
   ]
  },
  {
   "cell_type": "markdown",
   "metadata": {
    "nbpresent": {
     "id": "adc3dde7-8d6b-4dd0-9dab-a4c02e54a3ed"
    },
    "slideshow": {
     "slide_type": "fragment"
    }
   },
   "source": [
    "* Generally, we will assume that the peptide's total molecular weight is known\n",
    "* We will use it as a terminating condition for many of our algorithms that attempt to reconstruct the measured set of weights\n",
    "\n",
    "<p style=\"text-align: right; clear: right; margin-right: 100px;\">7</p>"
   ]
  },
  {
   "cell_type": "markdown",
   "metadata": {
    "nbpresent": {
     "id": "15db3188-c8aa-42f4-8bc4-90bf08a36db4"
    },
    "slideshow": {
     "slide_type": "slide"
    }
   },
   "source": [
    "# Ideally, what Weights should we get?\n",
    "\n",
    "* We will make the optimistic assumption that we will fracture our given petide chain into all of its constituent parts\n",
    "* For a 10 peptide chain\n",
    "  - 10 single peptides\n",
    "  - 9, 2-peptide chains\n",
    "  - 8, 3-peptide chains\n",
    "  - 7, 4-peptide chains\n",
    "  - 6, 5-peptide chains\n",
    "  - 5, 6-peptide chains\n",
    "  - 4, 7-peptide chains\n",
    "  - 3, 8-peptide chains\n",
    "  - 2, 9-peptide chains\n",
    "  - 1, 10-peptide chain\n",
    "* This gives an upper bound of ${11 \\choose 2} = 55$ molecular weights\n",
    "* In reality both the peptide chains and their weights may not be unique\n",
    "* The collection of all possible sub-peptide molecular weights from a peptide is called the peptide's *Theoretical Spectrum*\n",
    "\n",
    "<p style=\"text-align: right; clear: right; margin-right: 100px;\">8</p>"
   ]
  },
  {
   "cell_type": "markdown",
   "metadata": {
    "nbpresent": {
     "id": "ee4ef7a8-dd65-432f-abf8-83963673abf2"
    },
    "slideshow": {
     "slide_type": "slide"
    }
   },
   "source": [
    "# Code for computing a Theoretical Spectrum"
   ]
  },
  {
   "cell_type": "code",
   "execution_count": 7,
   "metadata": {
    "nbpresent": {
     "id": "6c3f101a-e875-4ffd-97ec-1728dd06a780"
    },
    "slideshow": {
     "slide_type": "fragment"
    }
   },
   "outputs": [
    {
     "name": "stdout",
     "output_type": "stream",
     "text": [
      "VKLFPWFNQY\n",
      "51\n",
      "[97, 99, 113, 114, 128, 147, 163, 186, 227, 241, 242, 244, 260, 261, 283, 291, 333, 340, 357, 388, 389, 405, 430, 447, 485, 487, 543, 544, 552, 575, 577, 584, 671, 672, 690, 691, 738, 770, 804, 818, 819, 835, 917, 932, 982, 1031, 1060, 1095, 1159, 1223, 1322]\n"
     ]
    }
   ],
   "source": [
    "def TheoreticalSpectrum(peptide):\n",
    "    # Generate every possible fragment of a peptide\n",
    "    spectrum = set()\n",
    "    for fragLength in xrange(1,len(peptide)+1):\n",
    "        for start in xrange(0,len(peptide)-fragLength+1):\n",
    "            seq = peptide[start:start+fragLength]\n",
    "            spectrum.add(sum([Daltons[res] for res in seq]))\n",
    "    return sorted(spectrum)\n",
    "\n",
    "print TyrocidineB1\n",
    "spectrum = TheoreticalSpectrum(TyrocidineB1)\n",
    "print len(spectrum)\n",
    "print spectrum"
   ]
  },
  {
   "cell_type": "markdown",
   "metadata": {
    "nbpresent": {
     "id": "3e4364ac-9979-4673-957a-9f78096cb16b"
    },
    "slideshow": {
     "slide_type": "fragment"
    }
   },
   "source": [
    "* Why are we using a set rather than a list? Notice that we end up returning a list.\n",
    "\n",
    "<p style=\"text-align: right; clear: right; margin-right: 100px;\">9</p>"
   ]
  },
  {
   "cell_type": "markdown",
   "metadata": {
    "nbpresent": {
     "id": "61cc79bd-60e6-4684-87bd-c2a5c2bb7e02"
    },
    "slideshow": {
     "slide_type": "slide"
    }
   },
   "source": [
    "# Fragments and their Spectrums"
   ]
  },
  {
   "cell_type": "code",
   "execution_count": 8,
   "metadata": {
    "nbpresent": {
     "id": "f6c2d647-df04-4bae-bbdf-5b9240625aef"
    },
    "slideshow": {
     "slide_type": "fragment"
    }
   },
   "outputs": [
    {
     "name": "stdout",
     "output_type": "stream",
     "text": [
      "VKLFPWFNQY\n",
      "55\n",
      "           P:   97             V:   99             L:  113             N:  114             K:  128 \n",
      "           Q:  128*            F:  147             F:  147*            Y:  163             W:  186 \n",
      "          VK:  227            KL:  241            NQ:  242            FP:  244            LF:  260 \n",
      "          FN:  261            PW:  283            QY:  291            WF:  333           VKL:  340 \n",
      "         LFP:  357           KLF:  388           FNQ:  389           NQY:  405           FPW:  430 \n",
      "         PWF:  430*          WFN:  447          KLFP:  485          VKLF:  487          LFPW:  543 \n",
      "        PWFN:  544          FNQY:  552          WFNQ:  575          FPWF:  577         VKLFP:  584 \n",
      "       KLFPW:  671         PWFNQ:  672         LFPWF:  690         FPWFN:  691         WFNQY:  738 \n",
      "      VKLFPW:  770        LFPWFN:  804        KLFPWF:  818        FPWFNQ:  819        PWFNQY:  835 \n",
      "     VKLFPWF:  917       KLFPWFN:  932       LFPWFNQ:  932*      FPWFNQY:  982      VKLFPWFN: 1031 \n",
      "    KLFPWFNQ: 1060      LFPWFNQY: 1095     VKLFPWFNQ: 1159     KLFPWFNQY: 1223    VKLFPWFNQY: 1322 \n"
     ]
    }
   ],
   "source": [
    "peptide = TyrocidineB1\n",
    "fragList = []\n",
    "for fragLength in xrange(1,len(peptide)+1):\n",
    "    for start in xrange(0,len(peptide)-fragLength+1):\n",
    "        seq = peptide[start:start+fragLength]\n",
    "        fragList.append((sum([Daltons[res] for res in seq]), seq))\n",
    "\n",
    "print peptide \n",
    "print len(fragList)\n",
    "N = 0\n",
    "lastWeight = 0\n",
    "for weight, frag in sorted(fragList):\n",
    "    print \"%12s: %4d%s\" % (frag, weight, \"*\" if (weight == lastWeight) else \" \"),\n",
    "    N += 1\n",
    "    if (N % 5 == 0):\n",
    "        print\n",
    "    lastWeight = weight"
   ]
  },
  {
   "cell_type": "code",
   "execution_count": 54,
   "metadata": {
    "nbpresent": {
     "id": "97a7a485-8a84-4656-a9de-697ed865e8f4"
    },
    "slideshow": {
     "slide_type": "skip"
    }
   },
   "outputs": [
    {
     "data": {
      "image/png": "[encoded data removed]",
      "text/plain": [
       "<matplotlib.figure.Figure at 0x7ca7d1685910>"
      ]
     },
     "metadata": {},
     "output_type": "display_data"
    }
   ],
   "source": [
    "import numpy\n",
    "import matplotlib.pyplot as plot\n",
    "%matplotlib inline\n",
    "import random\n",
    "\n",
    "random.seed(2018)\n",
    "\n",
    "hist = numpy.random.wald(1, 1, size=1400)\n",
    "for weight, frag in fragList:\n",
    "    hist[weight] += 50*random.random()\n",
    "    hist[weight+1] += 30*random.random()\n",
    "    hist[weight-1] += 5*random.random()\n",
    "    hist[weight+2] += 5*random.random()\n",
    "    hist[weight-2] += 5*random.random()\n",
    "    hist[weight-17] += 20*random.random()\n",
    "    hist[weight-18] += 10*random.random()\n",
    "\n",
    "plot.plot(range(len(hist)), 100.0*hist/hist.max())\n",
    "plot.ylim([0,100])\n",
    "result = plot.xlabel(\"Mass/Charge Ratio\")"
   ]
  },
  {
   "cell_type": "code",
   "execution_count": 25,
   "metadata": {},
   "outputs": [
    {
     "data": {
      "text/plain": [
       "array([1, 3, 4, 4, 3, 3, 3, 3, 4, 1])"
      ]
     },
     "execution_count": 25,
     "metadata": {},
     "output_type": "execute_result"
    }
   ],
   "source": [
    "(numpy.random.random((10,))*5).astype('int')"
   ]
  },
  {
   "cell_type": "markdown",
   "metadata": {
    "nbpresent": {
     "id": "e468a75c-1939-42ef-a3c3-eb1f527b331a"
    },
    "slideshow": {
     "slide_type": "fragment"
    }
   },
   "source": [
    "<p style=\"text-align: right; clear: right; margin-right: 100px;\">10</p>"
   ]
  },
  {
   "cell_type": "markdown",
   "metadata": {
    "nbpresent": {
     "id": "6d663e8a-0a3b-48cc-819c-de632c977bcc"
    },
    "slideshow": {
     "slide_type": "slide"
    }
   },
   "source": [
    "# Let's try a smaller example"
   ]
  },
  {
   "cell_type": "code",
   "execution_count": 8,
   "metadata": {
    "nbpresent": {
     "id": "4fd4c5fd-ced0-4e4f-a516-13db0fa5a54c"
    },
    "slideshow": {
     "slide_type": "fragment"
    }
   },
   "outputs": [
    {
     "name": "stdout",
     "output_type": "stream",
     "text": [
      "10 [71, 97, 113, 163, 184, 210, 234, 281, 347, 444]\n",
      "10\n",
      "           A:   71             P:   97             L:  113             Y:  163            LA:  184 \n",
      "          PL:  210            AY:  234           PLA:  281           LAY:  347          PLAY:  444 \n"
     ]
    }
   ],
   "source": [
    "peptide = 'PLAY'\n",
    "spectrum = TheoreticalSpectrum(peptide)\n",
    "print len(spectrum), spectrum\n",
    "\n",
    "fragList = []\n",
    "for fragLength in xrange(1,len(peptide)+1):\n",
    "    for start in xrange(0,len(peptide)-fragLength+1):\n",
    "        seq = peptide[start:start+fragLength]\n",
    "        fragList.append((sum([Daltons[res] for res in seq]), seq))\n",
    "\n",
    "print len(fragList)\n",
    "N = 0\n",
    "lastWeight = 0\n",
    "for weight, frag in sorted(fragList):\n",
    "    print \"%12s: %4d%s\" % (frag, weight, \"*\" if (weight == lastWeight) else \" \"),\n",
    "    N += 1\n",
    "    if (N % 5 == 0):\n",
    "        print\n",
    "    lastWeight = weight"
   ]
  },
  {
   "cell_type": "markdown",
   "metadata": {
    "nbpresent": {
     "id": "af7f2861-45a5-42f3-895e-c11f8b25d49c"
    },
    "slideshow": {
     "slide_type": "fragment"
    }
   },
   "source": [
    "\n",
    "<p style=\"text-align: right; clear: right; margin-right: 100px;\">11</p>"
   ]
  },
  {
   "cell_type": "markdown",
   "metadata": {
    "nbpresent": {
     "id": "26ad1efc-86b5-492b-b827-acb12310fc11"
    },
    "slideshow": {
     "slide_type": "slide"
    }
   },
   "source": [
    "# Can we Invert the Process of creating a Spectrum?\n",
    "\n",
    "<img src=\"http://csbio.unc.edu/mcmillan/Comp555S18/Media/Reverse.png\" width=\"350px\" style=\"float: right; clear: right; margin: 24px;\">\n",
    "\n",
    "* In essence, the problem of inferring a peptide chain from the set of mass values reported by a Mass Spectrometer is the inverse of the code we just wrote\n",
    "\n",
    "<div style=\"margin: 20px 80px 0px 80px; font-size: 120%;\">\n",
    "<b>Easy Problem:</b> Peptide Sequence &rarr; Spectrum<br>\n",
    "<b>Hard Problem:</b> Peptide Sequence &larr; Spectrum\n",
    "</div>\n",
    "\n",
    "* Why is computing a spectrum from a peptide sequence easy? $O(N^2)$?\n",
    "* Why is computing a peptide sequence from a specturm hard? $O(?)$\n",
    "\n",
    "\n",
    "<p style=\"text-align: right; clear: right; margin-right: 100px;\">12</p>"
   ]
  },
  {
   "cell_type": "markdown",
   "metadata": {
    "nbpresent": {
     "id": "e08a288c-8c27-4533-bd51-a5da1470f7da"
    },
    "slideshow": {
     "slide_type": "slide"
    }
   },
   "source": [
    "# How might you approach this problem?\n",
    "\n",
    "<img src=\"http://csbio.unc.edu/mcmillan/Comp555S18/Media/BruteForce.jpg\" width=\"200px\" style=\"float: right; clear: right; margin: 24px;\">\n",
    "\n",
    "* Can you think of a Brute-Force way of solving this problem?\n",
    "\n",
    "* Here's one:\n",
    "  1. For every peptide sequence with the target peptide's molecular weight\n",
    "  2.    Compute the sequence's Theoretical Spectrum\n",
    "  3.    If it matches the one given, report this peptide as a possible solution\n",
    "\n",
    "\n",
    "* Which step in this algorithm is the hard part?\n",
    "\n",
    "<p style=\"text-align: right; clear: right; margin-right: 100px;\">13</p>"
   ]
  },
  {
   "cell_type": "markdown",
   "metadata": {
    "nbpresent": {
     "id": "5509acaa-69e4-42bc-a10b-7c2f89552ea4"
    },
    "slideshow": {
     "slide_type": "slide"
    }
   },
   "source": [
    "# A Brute-Force Attempt"
   ]
  },
  {
   "cell_type": "code",
   "execution_count": 56,
   "metadata": {
    "nbpresent": {
     "id": "056722f8-40bd-4b06-8280-420ff6b9c03a"
    },
    "slideshow": {
     "slide_type": "fragment"
    }
   },
   "outputs": [
    {
     "name": "stdout",
     "output_type": "stream",
     "text": [
      "CPU times: user 3.63 s, sys: 20 ms, total: 3.65 s\n",
      "Wall time: 3.63 s\n",
      "3687 candidates True\n",
      "CPU times: user 68 ms, sys: 0 ns, total: 68 ms\n",
      "Wall time: 68.6 ms\n",
      "['PIAY', 'PLAY', 'YAIP', 'YALP'] True\n"
     ]
    }
   ],
   "source": [
    "def PossiblePeptide(spectrum, prefix=''):\n",
    "    \"\"\" Brute force method of generating all peptide sequences with a desired weight, the max of a given spectrum \"\"\"\n",
    "    global peptideList\n",
    "    if (len(prefix) == 0):\n",
    "        peptideList = []\n",
    "    current = sum([Daltons[res] for res in prefix])\n",
    "    target = max(spectrum)  # our target\n",
    "    if (current == target):\n",
    "        peptideList.append(prefix)\n",
    "    elif (current < target):\n",
    "        for residue in Daltons.iterkeys():\n",
    "            PossiblePeptide(spectrum, prefix+residue)\n",
    "\n",
    "def TestPeptides(candidateList, target):\n",
    "    filteredList = []\n",
    "    for peptide in candidateList:\n",
    "        candidateSpectrum = TheoreticalSpectrum(peptide)\n",
    "        if (candidateSpectrum == target):\n",
    "            filteredList.append(peptide)\n",
    "    return filteredList\n",
    "\n",
    "spectrum = TheoreticalSpectrum('PLAY')\n",
    "%time PossiblePeptide(spectrum)\n",
    "print len(peptideList), \"candidates\", \"PLAY\" in peptideList\n",
    "%time matches = TestPeptides(peptideList, spectrum)\n",
    "print matches, \"PLAY\" in matches"
   ]
  },
  {
   "cell_type": "markdown",
   "metadata": {
    "nbpresent": {
     "id": "2f098aef-b410-4219-9fb9-38ef02d20474"
    },
    "slideshow": {
     "slide_type": "fragment"
    }
   },
   "source": [
    "<p style=\"text-align: right; clear: right; margin-right: 100px;\">14</p>"
   ]
  },
  {
   "cell_type": "markdown",
   "metadata": {
    "nbpresent": {
     "id": "966f0412-c4dc-4dc2-8299-f1a111720c29"
    },
    "slideshow": {
     "slide_type": "slide"
    }
   },
   "source": [
    "# Impressions?\n",
    "\n",
    "* Not so bad for a first attempt, but how will it perform for longer peptides?\n",
    "* We are getting the expected answer as well as answers with the indistinguishable amino acids substituted\n",
    "* We are also getting the sequence reversed? Is this a surprise?\n",
    "* We could code around this, but for today we'll just include the reversed peptide chain as a possible answer\n",
    "<br><br><br>\n",
    "# Could we do better?\n",
    "* The brute force method does not make good use of the spectrum it is given\n",
    "* It only ever considers the largest value from this table\n",
    "* How might we make use of the other values?\n",
    "\n",
    "<p style=\"text-align: right; clear: right; margin-right: 100px;\">15</p>"
   ]
  },
  {
   "cell_type": "markdown",
   "metadata": {
    "nbpresent": {
     "id": "8b08a7f1-a8e2-42d6-bcde-8eb7ef695de9"
    },
    "slideshow": {
     "slide_type": "slide"
    }
   },
   "source": [
    "# Improving on Brute Force\n",
    "\n",
    "* We could extend our prefix using *only* residues that appear in our spectrum\n",
    "* The weight of every new prefix that we consider should also be in our spectrum\n",
    "\n",
    "Actual fragments: <code>P L A Y PL LA AY PLA LAY PLAY</code>\n",
    "\n",
    "Growing and Checking prefixes:\n",
    "\n",
    "       A             I             L             P             Y\n",
    "       \n",
    "       AI   = LA     IA   = LA     LA   = LA     PI   = PL     YA   = AY\n",
    "       AIP  = PLA    IAP  = PLA    LAP  = PLA    PIA  = PLA    YAI  = LAY\n",
    "       AIPY = PLAY   IAPY = PLAY   LAPY = PLAY   PIAY = PLAY   YAIP = PLAY\n",
    "       AIY  = LAY    IAY  = LAY    LAY  = LAY                  YAL  = LAY\n",
    "       AIYP = PLAY   IAYP = PLAY   LAYP = PLAY                 YALP = PLAY\n",
    "       \n",
    "       AL   = LA     IP   = PL     LP   = PL     PL   = PL\n",
    "       ALP  = PLA    IPA  = PLA    LPA  = PLA    PLA  = PLA\n",
    "       ALPY = PLAY   IPAY = PLAY   LPAY = PLAY   PLAY = PLAY\n",
    "       ALY  = LAY\n",
    "       ALYP = PLAY\n",
    "       \n",
    "       AY   = AY\n",
    "       AYI  = LAY\n",
    "       AYIP = PLAY\n",
    "       AYL  = LAY\n",
    "       AYLP = PLAY\n",
    "\n",
    "<p style=\"text-align: right; clear: right; margin-right: 100px;\">16</p>"
   ]
  },
  {
   "cell_type": "markdown",
   "metadata": {
    "nbpresent": {
     "id": "596f7e1f-00db-4330-9e70-0a954e2d4704"
    },
    "slideshow": {
     "slide_type": "slide"
    }
   },
   "source": [
    "# Only a Small Change to the Code"
   ]
  },
  {
   "cell_type": "code",
   "execution_count": 57,
   "metadata": {
    "nbpresent": {
     "id": "7f93386f-fd52-4580-adfd-911d1d0f226f"
    },
    "slideshow": {
     "slide_type": "fragment"
    }
   },
   "outputs": [
    {
     "name": "stdout",
     "output_type": "stream",
     "text": [
      "CPU times: user 0 ns, sys: 1 ms, total: 1 ms\n",
      "Wall time: 1.15 ms\n",
      "16 True\n",
      "['AIPY', 'AIYP', 'ALPY', 'ALYP', 'AYIP', 'AYLP', 'IAPY', 'IAYP', 'IPAY', 'LAPY', 'LAYP', 'LPAY', 'PIAY', 'PLAY', 'YAIP', 'YALP']\n",
      "CPU times: user 1 ms, sys: 0 ns, total: 1 ms\n",
      "Wall time: 516 µs\n",
      "['PIAY', 'PLAY', 'YAIP', 'YALP'] True\n"
     ]
    }
   ],
   "source": [
    "def ImprovedPossiblePeptide(spectrum, prefix=''):\n",
    "    global peptideList\n",
    "    if (len(prefix) == 0):\n",
    "        peptideList = []\n",
    "    current = sum([Daltons[res] for res in prefix])\n",
    "    target = max(spectrum)\n",
    "    if (current == target):\n",
    "        peptideList.append(prefix)\n",
    "    elif (current < target):\n",
    "        for residue in Daltons.iterkeys():\n",
    "            # make sure that this residue appears in our spectrum\n",
    "            if (Daltons[residue] not in spectrum):\n",
    "                continue\n",
    "            # make sure that adding this residue to the sequence we have so far appears in our spectrum\n",
    "            extend = prefix + residue\n",
    "            if (sum([Daltons[res] for res in extend]) not in spectrum):\n",
    "                continue\n",
    "            ImprovedPossiblePeptide(spectrum, extend)\n",
    "\n",
    "spectrum = TheoreticalSpectrum('PLAY')\n",
    "%time ImprovedPossiblePeptide(spectrum)\n",
    "print len(peptideList), \"PLAY\" in peptideList\n",
    "print peptideList\n",
    "%time matches = TestPeptides(peptideList, spectrum)\n",
    "print matches, \"PLAY\" in matches"
   ]
  },
  {
   "cell_type": "markdown",
   "metadata": {
    "nbpresent": {
     "id": "bb5f6431-fffc-41ce-aa69-4aa2d1bd549f"
    },
    "slideshow": {
     "slide_type": "fragment"
    }
   },
   "source": [
    "<p style=\"text-align: right; clear: right; margin-right: 100px;\">17</p>"
   ]
  },
  {
   "cell_type": "markdown",
   "metadata": {
    "nbpresent": {
     "id": "2ded38e5-d681-4711-b39a-cd8d014f1829"
    },
    "slideshow": {
     "slide_type": "slide"
    }
   },
   "source": [
    "# Impact of a small change\n",
    "* Provides a HUGE performace difference\n",
    "* Yet another example of Branch-and-Bound\n",
    "* We improved both the enumeration and verification phases, but the difference was much more significant in the enumeration step"
   ]
  },
  {
   "cell_type": "code",
   "execution_count": 11,
   "metadata": {
    "nbpresent": {
     "id": "b3527f98-22eb-4615-b3da-88701a01e969"
    },
    "slideshow": {
     "slide_type": "fragment"
    }
   },
   "outputs": [
    {
     "name": "stdout",
     "output_type": "stream",
     "text": [
      "AIPY AIYP ALPY ALYP AYIP AYLP IAPY IAYP IPAY LAPY LAYP LPAY PIAY PLAY YAIP YALP\n"
     ]
    }
   ],
   "source": [
    "for peptide in peptideList:\n",
    "    print peptide,"
   ]
  },
  {
   "cell_type": "code",
   "execution_count": 12,
   "metadata": {
    "nbpresent": {
     "id": "9325857a-412d-4731-8fb3-e81c10cc803c"
    },
    "slideshow": {
     "slide_type": "fragment"
    }
   },
   "outputs": [
    {
     "data": {
      "text/plain": [
       "[71, 97, 113, 163, 184, 210, 234, 281, 347, 444]"
      ]
     },
     "execution_count": 12,
     "metadata": {},
     "output_type": "execute_result"
    }
   ],
   "source": [
    "TheoreticalSpectrum('PLAY')"
   ]
  },
  {
   "cell_type": "code",
   "execution_count": 13,
   "metadata": {
    "nbpresent": {
     "id": "126f1fa1-8d4e-4e81-b02d-3d9bcb5da520"
    },
    "slideshow": {
     "slide_type": "fragment"
    }
   },
   "outputs": [
    {
     "data": {
      "text/plain": [
       "[71, 97, 113, 163, 168, 184, 260, 281, 331, 444]"
      ]
     },
     "execution_count": 13,
     "metadata": {},
     "output_type": "execute_result"
    }
   ],
   "source": [
    "TheoreticalSpectrum('LAPY')"
   ]
  },
  {
   "cell_type": "code",
   "execution_count": 58,
   "metadata": {
    "nbpresent": {
     "id": "6862dce6-3dc5-4bcd-bfae-33652c6e9251"
    },
    "slideshow": {
     "slide_type": "fragment"
    }
   },
   "outputs": [
    {
     "name": "stdout",
     "output_type": "stream",
     "text": [
      "168\n",
      "331\n",
      "260\n"
     ]
    }
   ],
   "source": [
    "print sum([Daltons[res] for res in 'AP'])  # Suffix of 'LAP' prefix\n",
    "print sum([Daltons[res] for res in 'APY']) # Suffix of 'LAPY'\n",
    "print sum([Daltons[res] for res in 'PY'])  # Suffix of 'LAPY'"
   ]
  },
  {
   "cell_type": "markdown",
   "metadata": {
    "nbpresent": {
     "id": "b62da340-e84c-42bb-9a21-ef9653425f47"
    },
    "slideshow": {
     "slide_type": "fragment"
    }
   },
   "source": [
    "* There are still differences in the spectrums, yet every prefix was in the spectrum when we added it. What are we missing?\n",
    "* Suffixes!\n",
    "\n",
    "<p style=\"text-align: right; clear: right; margin-right: 100px;\">18</p>"
   ]
  },
  {
   "cell_type": "markdown",
   "metadata": {
    "nbpresent": {
     "id": "f0bc9fa8-8d0f-43ad-bed7-1745659bd277"
    },
    "slideshow": {
     "slide_type": "slide"
    }
   },
   "source": [
    "# We can do Even Better\n",
    "\n",
    "* All *suffixes* of each prefix that we consider should also be in our spectrum"
   ]
  },
  {
   "cell_type": "code",
   "execution_count": 59,
   "metadata": {
    "nbpresent": {
     "id": "de55c70c-2244-4b72-b839-34afa8fb6638"
    }
   },
   "outputs": [
    {
     "name": "stdout",
     "output_type": "stream",
     "text": [
      "CPU times: user 3 ms, sys: 2 ms, total: 5 ms\n",
      "Wall time: 3.48 ms\n",
      "4 ['PIAY', 'PLAY', 'YAIP', 'YALP'] True\n",
      "CPU times: user 0 ns, sys: 0 ns, total: 0 ns\n",
      "Wall time: 263 µs\n",
      "['PIAY', 'PLAY', 'YAIP', 'YALP'] True\n"
     ]
    }
   ],
   "source": [
    "def UltimatePossiblePeptide(spectrum, prefix=''):\n",
    "    global peptideList\n",
    "    if (len(prefix) == 0):\n",
    "        peptideList = []\n",
    "    current = sum([Daltons[res] for res in prefix])\n",
    "    target = max(spectrum)\n",
    "    if (current == target):\n",
    "        peptideList.append(prefix)\n",
    "    elif (current < target):\n",
    "        for residue in Daltons.iterkeys():\n",
    "            extend = prefix + residue\n",
    "            # test every new suffix created by adding this new reside\n",
    "            # Note: this includes the residue itself as the length 1 suffix\n",
    "            suffix = [extend[i:] for i in xrange(len(extend))]\n",
    "            for fragment in suffix:\n",
    "                if (sum([Daltons[res] for res in fragment]) not in spectrum):\n",
    "                    break\n",
    "            else:\n",
    "                UltimatePossiblePeptide(spectrum, extend)\n",
    "\n",
    "spectrum = TheoreticalSpectrum('PLAY')\n",
    "%time UltimatePossiblePeptide(spectrum)\n",
    "print len(peptideList), peptideList, \"PLAY\" in peptideList\n",
    "%time matches = TestPeptides(peptideList, spectrum)\n",
    "print matches, \"PLAY\" in matches"
   ]
  },
  {
   "cell_type": "markdown",
   "metadata": {
    "nbpresent": {
     "id": "776841ee-a4cf-4004-b1e9-032ff11cee70"
    }
   },
   "source": [
    "<ul style=\"margin-left: 500px;\">\n",
    "<li>A little slower, but our list is pruned significantly</li>\n",
    "<li>All of theses have identical spectrums</li>\n",
    "</ul>\n",
    "\n",
    "<p style=\"text-align: right; clear: right; margin-right: 100px;\">19</p>"
   ]
  },
  {
   "cell_type": "markdown",
   "metadata": {
    "nbpresent": {
     "id": "0a8a36e3-5320-4ad1-8380-172699dd3c32"
    },
    "slideshow": {
     "slide_type": "slide"
    }
   },
   "source": [
    "# Now let's return to our *real* peptide"
   ]
  },
  {
   "cell_type": "code",
   "execution_count": 60,
   "metadata": {
    "nbpresent": {
     "id": "c7f4ce1e-4494-49e4-b233-330681ab3d85"
    },
    "slideshow": {
     "slide_type": "fragment"
    }
   },
   "outputs": [
    {
     "name": "stdout",
     "output_type": "stream",
     "text": [
      "CPU times: user 64 ms, sys: 11 ms, total: 75 ms\n",
      "Wall time: 58.2 ms\n",
      "16\n",
      "True\n",
      "CPU times: user 2 ms, sys: 0 ns, total: 2 ms\n",
      "Wall time: 1.66 ms\n",
      "16\n",
      "True\n"
     ]
    }
   ],
   "source": [
    "spectrum = TheoreticalSpectrum(TyrocidineB1)\n",
    "%time UltimatePossiblePeptide(spectrum)\n",
    "print len(peptideList)\n",
    "print TyrocidineB1 in peptideList\n",
    "%time matches = TestPeptides(peptideList, spectrum)\n",
    "print len(matches)\n",
    "print TyrocidineB1 in matches"
   ]
  },
  {
   "cell_type": "code",
   "execution_count": 61,
   "metadata": {
    "nbpresent": {
     "id": "f826bbc1-a955-4632-bb3f-772b4ebe1020"
    },
    "slideshow": {
     "slide_type": "fragment"
    }
   },
   "outputs": [
    {
     "name": "stdout",
     "output_type": "stream",
     "text": [
      "VKLFPWFNQY\n",
      "VKIFPWFNKY VKIFPWFNQY VKLFPWFNKY VKLFPWFNQY\n",
      "VQIFPWFNKY VQIFPWFNQY VQLFPWFNKY VQLFPWFNQY\n",
      "YKNFWPFIKV YKNFWPFIQV YKNFWPFLKV YKNFWPFLQV\n",
      "YQNFWPFIKV YQNFWPFIQV YQNFWPFLKV YQNFWPFLQV\n"
     ]
    }
   ],
   "source": [
    "print TyrocidineB1\n",
    "for i, peptide in enumerate(peptideList):\n",
    "    print peptide,\n",
    "    if (i % 4 == 3):\n",
    "        print"
   ]
  },
  {
   "cell_type": "markdown",
   "metadata": {
    "nbpresent": {
     "id": "764dd896-7f6a-4222-a088-7a0fddc79a1f"
    },
    "slideshow": {
     "slide_type": "fragment"
    }
   },
   "source": [
    "All of these peptides give also give us our desired spectrum\n",
    "\n",
    "<p style=\"text-align: right; clear: right; margin-right: 100px;\">20</p>"
   ]
  },
  {
   "cell_type": "markdown",
   "metadata": {
    "nbpresent": {
     "id": "64fac8b5-57fd-4c69-b9a2-c9ba31b80d55"
    },
    "slideshow": {
     "slide_type": "slide"
    }
   },
   "source": [
    "# Great, but our assumptions are a little Na&iuml;ve\n",
    "\n",
    "* In reality, Mass Spectometers don't report the Theoretical Spectrum of a peptide\n",
    "* Instead they report a measured or *Experimental Spectrum*\n",
    "* This spectrum might *miss* some fragments\n",
    "* It might also report *false* fragments\n",
    "  - From Contaminants\n",
    "  - New peptides formed by unintended reactions between fragments\n",
    "* The result is that some of the masses that appear may be misleading, and some that we want might be missing\n",
    "* We need to develop algorithms for reporting candidate protein sequences that are robust to noise\n",
    "\n",
    "<p style=\"text-align: right; clear: right; margin-right: 100px;\">21</p>\n"
   ]
  },
  {
   "cell_type": "markdown",
   "metadata": {
    "nbpresent": {
     "id": "7196f19f-b976-4d29-ab2c-d5a9ae97268a"
    },
    "slideshow": {
     "slide_type": "slide"
    }
   },
   "source": [
    "# Example experimental spectrum for Tyrocidine B1\n",
    "\n",
    "<pre style=\"font-size: 100%;\">\n",
    "       97,     99,    113,    <span style=\"color: blue; font-weight: bold;\">114</span>,    128,    147,    163,   \n",
    "      186,    <span style=\"color: red; font-weight: bold;\">200</span>,    227,    241,    242,    244,    260,   \n",
    "      261,    283,    291,    333,    340,    357,    <span style=\"color: blue; font-weight: bold;\">388</span>,   \n",
    "      <span style=\"color: blue; font-weight: bold;\">389</span>,    405,    430,    447,    <span style=\"color: red; font-weight: bold;\">457</span>,    <span style=\"color: blue; font-weight: bold;\">485</span>,    487,   \n",
    "      543,    544,    552,    575,    577,    584,    <span style=\"color: red; font-weight: bold;\">659</span>,   \n",
    "      671,    672,    690,    691,    <span style=\"color: red; font-weight: bold;\">731</span>,    738,    770,   \n",
    "      804,    818,    819,    835,    <span style=\"color: red; font-weight: bold;\">906</span>,    917,    932,   \n",
    "      982,   1031,   <span style=\"color: blue; font-weight: bold;\">1060</span>,   1095,   1159,   <span style=\"color: blue; font-weight: bold;\">1223</span>,   1322\n",
    "</pre>\n",
    "\n",
    "<span style=\"color: red; font-weight: bold;\">False Masses</span>: present in the experimental spectrum, but not in the theoretical spectrum\n",
    "\n",
    "<span style=\"color: blue; font-weight: bold;\">Missing Masses</span>: present in the theoretical spectrum, but not in the experimental spectrum \n",
    "\n",
    "\n",
    "<p style=\"text-align: right; clear: right; margin-right: 100px;\">22</p>"
   ]
  },
  {
   "cell_type": "markdown",
   "metadata": {
    "nbpresent": {
     "id": "68d72c7f-d22d-47cf-a941-9078f7df72c4"
    },
    "slideshow": {
     "slide_type": "slide"
    }
   },
   "source": [
    "# Example experimental spectrum for Tyrocidine B1\n",
    "\n",
    "<pre style=\"font-size: 100%;\">\n",
    "       97,     99,    113,            128,    147,    163,   \n",
    "      186,    <span style=\"color: red; font-weight: bold;\">200</span>,    227,    241,    242,    244,    260,   \n",
    "      261,    283,    291,    333,    340,    357,           \n",
    "              405,    430,    447,    <span style=\"color: red; font-weight: bold;\">457</span>,            487,   \n",
    "      543,    544,    552,    575,    577,    584,    <span style=\"color: red; font-weight: bold;\">659</span>,   \n",
    "      671,    672,    690,    691,    <span style=\"color: red; font-weight: bold;\">731</span>,    738,    770,   \n",
    "      804,    818,    819,    835,    <span style=\"color: red; font-weight: bold;\">906</span>,    917,    932,   \n",
    "      982,   1031,           1095,   1159,           1322\n",
    "</pre>\n",
    "\n",
    "<span style=\"color: red; font-weight: bold;\">False Masses</span>: We don't know which these are\n",
    "\n",
    "<span style=\"color: blue; font-weight: bold;\">Missing Masses</span>: And these values don't appear\n",
    "\n",
    "\n",
    "<p style=\"text-align: right; clear: right; margin-right: 100px;\">23</p>"
   ]
  },
  {
   "cell_type": "markdown",
   "metadata": {
    "nbpresent": {
     "id": "512df8e9-3491-456f-a84d-cbb90411d638"
    },
    "slideshow": {
     "slide_type": "slide"
    }
   },
   "source": [
    "# An aside: Faking an Experimental Spectrum"
   ]
  },
  {
   "cell_type": "code",
   "execution_count": 62,
   "metadata": {
    "nbpresent": {
     "id": "cedcf3e5-691e-4431-94a1-3ddf2ba428a2"
    },
    "slideshow": {
     "slide_type": "fragment"
    }
   },
   "outputs": [
    {
     "name": "stdout",
     "output_type": "stream",
     "text": [
      "Missing Masses =  [1159, 114, 691, 186, 819, 357]\n",
      "False Masses =  [457, 200, 731, 906, 659]\n"
     ]
    }
   ],
   "source": [
    "# generate a synthetic experimental spectrum with 10% Error\n",
    "import itertools\n",
    "import random\n",
    "random.seed(1961)\n",
    "\n",
    "spectrum = TheoreticalSpectrum(TyrocidineB1)\n",
    "\n",
    "# Pick around ~10% at random to remove\n",
    "missingMass = random.sample(spectrum[:-1], 6)  # keep largest mass\n",
    "print \"Missing Masses = \", missingMass\n",
    "\n",
    "# Add back another ~10% of false, but actual, peptide masses\n",
    "falseMass = []\n",
    "for i in xrange(5):\n",
    "    fragment = ''.join(random.sample(Daltons.keys(), random.randint(2,len(TyrocidineB1)-2)))\n",
    "    weight = sum([Daltons[residue] for residue in fragment])\n",
    "    falseMass.append(weight)\n",
    "print \"False Masses = \", falseMass\n",
    "\n",
    "experimentalSpectrum = sorted(set([mass for mass in spectrum if mass not in missingMass] + falseMass))"
   ]
  },
  {
   "cell_type": "code",
   "execution_count": 63,
   "metadata": {
    "nbpresent": {
     "id": "8b5c9453-b2bd-4993-abb8-b89b927cf7b4"
    },
    "slideshow": {
     "slide_type": "fragment"
    }
   },
   "outputs": [
    {
     "name": "stdout",
     "output_type": "stream",
     "text": [
      "[97, 99, 113, 128, 147, 163, 200, 227, 241, 242, 244, 260, 261, 283, 291, 333, 340, 388, 389, 405, 430, 447, 457, 485, 487, 543, 544, 552, 575, 577, 584, 659, 671, 672, 690, 731, 738, 770, 804, 818, 835, 906, 917, 932, 982, 1031, 1060, 1095, 1223, 1322]\n"
     ]
    }
   ],
   "source": [
    "print experimentalSpectrum"
   ]
  },
  {
   "cell_type": "markdown",
   "metadata": {
    "nbpresent": {
     "id": "88625794-ce44-4592-b303-3b9a103e0a10"
    },
    "slideshow": {
     "slide_type": "fragment"
    }
   },
   "source": [
    "\n",
    "<p style=\"text-align: right; clear: right; margin-right: 100px;\">24</p>"
   ]
  },
  {
   "cell_type": "markdown",
   "metadata": {
    "nbpresent": {
     "id": "d17b3bcf-3e86-4a52-847a-3aef6d930a7d"
    },
    "slideshow": {
     "slide_type": "slide"
    }
   },
   "source": [
    "# A Golf Tournament Analogy\n",
    "\n",
    "<img src=\"http://csbio.unc.edu/mcmillan/Comp555S18/Media/Leaderboard.png\" width=\"300px\" style=\"float: right; clear: right; margin: 24px;\">\n",
    "* After the first couple of rounds of a major golf tournament a *cut* is made of all golfers who are so far back from the leader that it is deemed they are unlikely to ever finish in the money\n",
    "* These *cut* golfers are removed from further consideration\n",
    "* This choice is *heuristic*\n",
    "  - It is possible that a player just below the cut could have two exceptional rounds, but that is considered unlikely\n",
    "* What is the equivalent of a score in our peptide finding problem?\n",
    "  - The number of matching masses in the candidate peptide's Theoretical Spectrum and the Experimental Spectrum\n",
    "  - Normalized score, why?\n",
    "  - len(intersection of candidate and experimental spectrums) / len(union of candidate and experimental spectrums)\n",
    "  - ***Jaccard Index*** for sets\n",
    "* In our peptide *golf game* a round will be considered a one peptide extension of a active set of *player* peptides \n",
    "* We will do cuts on every round, keeping to top 5% of finishers or the top 5 players, which ever is more\n",
    "* Why 5%? It is arbitrary, but on each round we will extend the current set of players by one of 20 amino acids, thus increasing the number of peptides by a factor of 20, so reducing by 5% leaves the poolsize realtively stable.\n",
    "\n",
    "\n",
    "<p style=\"text-align: right; clear: right; margin-right: 100px;\">25</p>"
   ]
  },
  {
   "cell_type": "markdown",
   "metadata": {
    "nbpresent": {
     "id": "dc50e478-027c-457f-b04a-36562a01e53f"
    },
    "slideshow": {
     "slide_type": "slide"
    }
   },
   "source": [
    "# An Implementation"
   ]
  },
  {
   "cell_type": "code",
   "execution_count": 64,
   "metadata": {
    "nbpresent": {
     "id": "bab28a73-31ac-4e0f-a2cc-7cab10b4f550"
    }
   },
   "outputs": [
    {
     "name": "stdout",
     "output_type": "stream",
     "text": [
      "     400 Players in round 1 [0.0000]\n",
      "     480 Players in round 2 [0.0600]\n",
      "    1280 Players in round 3 [0.1200]\n",
      "    1560 Players in round 4 [0.2000]\n",
      "    2000 Players in round 5 [0.2745]\n",
      "    2600 Players in round 6 [0.3654]\n",
      "    3320 Players in round 7 [0.4615]\n",
      "    3520 Players in round 8 [0.5556]\n",
      "    3840 Players in round 9 [0.6545]\n",
      "    2400 Players in round 10 [0.8036]\n",
      "     160 Players in round 11 [0.8036]\n",
      "Done, no sequences can be extended\n",
      "CPU times: user 1.68 s, sys: 29 ms, total: 1.71 s\n",
      "Wall time: 1.7 s\n",
      "[0.8035714285714286, 'YQNFWPFLQV', 'YQNFWPFLKV', 'YQNFWPFIQV', 'YQNFWPFIKV', 'YKNFWPFLQV', 'YKNFWPFLKV', 'YKNFWPFIQV', 'YKNFWPFIKV', 'VQLFPWFNQY', 'VQLFPWFNKY', 'VQIFPWFNQY', 'VQIFPWFNKY', 'VKLFPWFNQY', 'VKLFPWFNKY', 'VKIFPWFNQY', 'VKIFPWFNKY']\n",
      "16 Candidate residues with 0.803571428571 matches\n",
      "VKLFPWFNQY True\n"
     ]
    }
   ],
   "source": [
    "def LeaderboardFindPeptide(noisySpectrum, cutThreshold=0.05):\n",
    "    # Golf Tournament Heuristic\n",
    "    spectrum = set(noisySpectrum)\n",
    "    target = max(noisySpectrum)\n",
    "    players = [''.join(peptide) for peptide in itertools.product(Daltons.keys(), repeat=2)]\n",
    "    round = 1\n",
    "    currentLeader = [0.0, '']\n",
    "    while True:\n",
    "        print \"%8d Players in round %d [%5.4f]\" % (len(players), round, currentLeader[0])\n",
    "        leaderboard = []\n",
    "        for prefix in players:\n",
    "            testSpectrum = set(TheoreticalSpectrum(prefix))\n",
    "            totalWeight = max(testSpectrum)\n",
    "            score = len(spectrum & testSpectrum)/float(len(spectrum | testSpectrum))\n",
    "            if (score > currentLeader[0]):\n",
    "                currentLeader = [score, prefix]\n",
    "            elif (score == currentLeader[0]):\n",
    "                currentLeader += [prefix]\n",
    "            if (totalWeight < target):\n",
    "                leaderboard.append((score, prefix))\n",
    "        remaining = len(leaderboard)\n",
    "        if (remaining == 0):\n",
    "            print \"Done, no sequences can be extended\"\n",
    "            break\n",
    "        leaderboard.sort(reverse=True)\n",
    "        # Prune the larger of the top 5% or the top 5 players\n",
    "        cut = leaderboard[max(min(5,remaining-1),int(remaining*cutThreshold))][0]\n",
    "        players = [p+r for s, p in leaderboard if s >= cut for r in Daltons.iterkeys()]\n",
    "        round += 1\n",
    "    return currentLeader\n",
    "\n",
    "spectrum = TheoreticalSpectrum(TyrocidineB1)\n",
    "experimentalSpectrum = [mass for mass in spectrum if mass not in missingMass] + falseMass\n",
    "%time winners = LeaderboardFindPeptide(experimentalSpectrum)\n",
    "print winners\n",
    "print len(winners) - 1, \"Candidate residues with\", winners[0], 'matches'\n",
    "print TyrocidineB1, TyrocidineB1 in winners"
   ]
  },
  {
   "cell_type": "markdown",
   "metadata": {
    "nbpresent": {
     "id": "39e9ae6c-2796-4598-bb32-6ee3d53e94a1"
    },
    "slideshow": {
     "slide_type": "fragment"
    }
   },
   "source": [
    "\n",
    "<p style=\"text-align: right; clear: right; margin-right: 100px;\">26</p>"
   ]
  },
  {
   "cell_type": "markdown",
   "metadata": {
    "nbpresent": {
     "id": "33170490-5af1-4c56-827a-05ed669c74e4"
    },
    "slideshow": {
     "slide_type": "slide"
    }
   },
   "source": [
    "# Next Time\n",
    "\n",
    "* This method works well, but it relys on heuristcs, and thus might miss the best answer \n",
    "* Our methods are still make a lot of simplfying assumptions\n",
    "* Relying only exact matches might mislead us \n",
    "* We will continue to explore ways of assembling peptide sequences from a given experimental spectrum\n",
    "\n",
    "<p style=\"text-align: right; clear: right; margin-right: 100px;\">27</p>"
   ]
  },
  {
   "cell_type": "code",
   "execution_count": null,
   "metadata": {
    "collapsed": true
   },
   "outputs": [],
   "source": []
  }
 ],
 "metadata": {
  "anaconda-cloud": {},
  "kernelspec": {
   "display_name": "Python 2",
   "language": "python",
   "name": "python2"
  },
  "language_info": {
   "codemirror_mode": {
    "name": "ipython",
    "version": 2
   },
   "file_extension": ".py",
   "mimetype": "text/x-python",
   "name": "python",
   "nbconvert_exporter": "python",
   "pygments_lexer": "ipython2",
   "version": "2.7.14"
  },
  "nbpresent": {
   "slides": {
    "0c5b0862-570f-45a9-874a-53f063e494e9": {
     "id": "0c5b0862-570f-45a9-874a-53f063e494e9",
     "prev": "85dee3bc-f783-4fc6-8979-d971f9bdc690",
     "regions": {
      "a8b47175-8b30-48c6-af4d-e6c12d474a8f": {
       "attrs": {
        "height": 0.7550549399626487,
        "width": 0.94,
        "x": 0.030000000000000037,
        "y": 0.15647225183988495
       },
       "content": {
        "cell": "f6c2d647-df04-4bae-bbdf-5b9240625aef",
        "part": "whole"
       },
       "id": "a8b47175-8b30-48c6-af4d-e6c12d474a8f"
      },
      "bd18dc57-9e81-43d0-af0f-563a2811d878": {
       "attrs": {
        "height": 0.058863067361564436,
        "width": 0.94,
        "x": 0.03,
        "y": 0.9111369326384356
       },
       "content": {
        "cell": "e468a75c-1939-42ef-a3c3-eb1f527b331a",
        "part": "whole"
       },
       "id": "bd18dc57-9e81-43d0-af0f-563a2811d878"
      },
      "bf14b2ca-949e-49d8-aa73-7b2035e3c366": {
       "attrs": {
        "height": 0.1323443088904875,
        "width": 0.94,
        "x": 0.03,
        "y": 0.03
       },
       "content": {
        "cell": "61cc79bd-60e6-4684-87bd-c2a5c2bb7e02",
        "part": "whole"
       },
       "id": "bf14b2ca-949e-49d8-aa73-7b2035e3c366"
      }
     }
    },
    "1c153427-376f-4f08-ad88-7cec0d60fdcd": {
     "id": "1c153427-376f-4f08-ad88-7cec0d60fdcd",
     "prev": "958b3098-29e6-4dca-83e9-72c78c84be38",
     "regions": {
      "1664b3e0-6642-4c17-a9fa-cf6150c9a5fa": {
       "attrs": {
        "height": 0.94,
        "width": 0.94,
        "x": 0.03,
        "y": 0.03
       },
       "content": {
        "cell": "7196f19f-b976-4d29-ab2c-d5a9ae97268a",
        "part": "whole"
       },
       "id": "1664b3e0-6642-4c17-a9fa-cf6150c9a5fa"
      }
     }
    },
    "2ba1879b-b79e-431d-b4b7-ca0af6cf0579": {
     "id": "2ba1879b-b79e-431d-b4b7-ca0af6cf0579",
     "prev": "7733f994-59a3-41a4-96da-f6a3deda570d",
     "regions": {
      "8b0db37c-edb6-4733-859e-15ba12ed18e1": {
       "attrs": {
        "height": 0.94,
        "width": 0.94,
        "x": 0.03,
        "y": 0.03
       },
       "content": {
        "cell": "90eeea49-3b67-42f1-a96d-cea973a7f6ac",
        "part": "whole"
       },
       "id": "8b0db37c-edb6-4733-859e-15ba12ed18e1"
      }
     }
    },
    "2f46de70-8819-422d-9f04-6d065035e815": {
     "id": "2f46de70-8819-422d-9f04-6d065035e815",
     "prev": "7784b30d-603d-4da7-9417-71da0dce813b",
     "regions": {
      "ff27fc96-4296-4f8f-99bb-cf0f8f31620f": {
       "attrs": {
        "height": 0.94,
        "width": 0.94,
        "x": 0.03,
        "y": 0.03
       },
       "content": {
        "cell": "e08a288c-8c27-4533-bd51-a5da1470f7da",
        "part": "whole"
       },
       "id": "ff27fc96-4296-4f8f-99bb-cf0f8f31620f"
      }
     }
    },
    "2f7d6a53-99e0-4e3b-b811-bc063bccb293": {
     "id": "2f7d6a53-99e0-4e3b-b811-bc063bccb293",
     "prev": "ff9f47ae-eddd-4b56-99de-ec4e76dd53fa",
     "regions": {
      "d1435e30-1460-40dd-9c18-23f8a44f82e0": {
       "attrs": {
        "height": 0.23346959675424303,
        "width": 0.94,
        "x": 0.03,
        "y": 0.029999999999999995
       },
       "content": {
        "cell": "f0bc9fa8-8d0f-43ad-bed7-1745659bd277",
        "part": "whole"
       },
       "id": "d1435e30-1460-40dd-9c18-23f8a44f82e0"
      },
      "f01f9a3c-bcab-4d1a-b433-5aba1c50ce82": {
       "attrs": {
        "height": 0.14336522109632271,
        "width": 0.94,
        "x": 0.028470313446630143,
        "y": 0.8446959021091367
       },
       "content": {
        "cell": "776841ee-a4cf-4004-b1e9-032ff11cee70",
        "part": "whole"
       },
       "id": "f01f9a3c-bcab-4d1a-b433-5aba1c50ce82"
      },
      "f50ffcd4-8f3e-4a79-a7f9-bd2fb7130156": {
       "attrs": {
        "height": 0.6135664614657,
        "width": 0.94,
        "x": 0.02901627883211447,
        "y": 0.2285541638073779
       },
       "content": {
        "cell": "de55c70c-2244-4b72-b839-34afa8fb6638",
        "part": "whole"
       },
       "id": "f50ffcd4-8f3e-4a79-a7f9-bd2fb7130156"
      }
     }
    },
    "32ea1420-b885-4bb6-9948-274472c2bdaa": {
     "id": "32ea1420-b885-4bb6-9948-274472c2bdaa",
     "prev": "b981b17b-081a-490c-ac65-0063c87d28ed",
     "regions": {
      "00ccadea-f830-4535-a3f1-b289ee687c87": {
       "attrs": {
        "height": 0.04607214056836856,
        "width": 0.94,
        "x": 0.0330835269947883,
        "y": 0.9257551346878024
       },
       "content": {
        "cell": "389d88fa-64a7-4d54-a862-26dffa305b93",
        "part": "whole"
       },
       "id": "00ccadea-f830-4535-a3f1-b289ee687c87"
      },
      "362e8378-a4b7-444b-8f3d-bb3fcaf3fc15": {
       "attrs": {
        "height": 0.8098731697657658,
        "width": 0.94,
        "x": 0.03,
        "y": 0.16012683023423424
       },
       "content": {
        "cell": "4c77c82e-5b97-4b77-9df7-6230cadab69e",
        "part": "whole"
       },
       "id": "362e8378-a4b7-444b-8f3d-bb3fcaf3fc15"
      },
      "614ce722-df15-4e8f-bbe3-e33c89b9b02b": {
       "attrs": {
        "height": 0.13599885940282916,
        "width": 0.94,
        "x": 0.03,
        "y": 0.03
       },
       "content": {
        "cell": "4d835823-c398-4888-b74c-1fa400e7deba",
        "part": "whole"
       },
       "id": "614ce722-df15-4e8f-bbe3-e33c89b9b02b"
      }
     }
    },
    "33f600be-d5ec-4c4c-b536-44b6d6f57c87": {
     "id": "33f600be-d5ec-4c4c-b536-44b6d6f57c87",
     "prev": "8ca56a9d-31da-42af-94c8-503a9cfdb445",
     "regions": {
      "80cfa6c9-982e-45b5-a3e9-ba9fd3dcbbd9": {
       "attrs": {
        "height": 0.1346974376217194,
        "width": 0.94,
        "x": 0.03,
        "y": 0.029999999999999995
       },
       "content": {
        "cell": "74d93293-29e1-4fe5-9531-3faa50d07731",
        "part": "whole"
       },
       "id": "80cfa6c9-982e-45b5-a3e9-ba9fd3dcbbd9"
      },
      "bc058d40-01e3-4e6b-aba0-8db69d8c8fc4": {
       "attrs": {
        "height": 0.16050207531712857,
        "width": 0.94,
        "x": 0.03,
        "y": 0.1608095589580441
       },
       "content": {
        "cell": "4a350738-0d2b-400a-ad6d-70fac66a360f",
        "part": "whole"
       },
       "id": "bc058d40-01e3-4e6b-aba0-8db69d8c8fc4"
      },
      "e266793c-2ca0-4091-86a6-dded643d5ef5": {
       "attrs": {
        "height": 0.4922045901464009,
        "width": 0.9387046846718542,
        "x": 0.02917207591224468,
        "y": 0.32385120352737046
       },
       "content": {
        "cell": "97a7a485-8a84-4656-a9de-697ed865e8f4",
        "part": "outputs"
       },
       "id": "e266793c-2ca0-4091-86a6-dded643d5ef5"
      },
      "ebadf4b7-2ec2-4e4b-bf90-8973d23e17d4": {
       "attrs": {
        "height": 0.16814822038089222,
        "width": 0.94,
        "x": 0.03,
        "y": 0.8018517796191079
       },
       "content": {
        "cell": "adc3dde7-8d6b-4dd0-9dab-a4c02e54a3ed",
        "part": "whole"
       },
       "id": "ebadf4b7-2ec2-4e4b-bf90-8973d23e17d4"
      }
     }
    },
    "5b5b428e-ed50-4235-b1ac-6790c6f92a30": {
     "id": "5b5b428e-ed50-4235-b1ac-6790c6f92a30",
     "prev": "2f7d6a53-99e0-4e3b-b811-bc063bccb293",
     "regions": {
      "08238722-d44f-4e6d-8450-6e669d89cc1f": {
       "attrs": {
        "height": 0.11279981350286185,
        "width": 0.94,
        "x": 0.03,
        "y": 0.029999999999999995
       },
       "content": {
        "cell": "0a8a36e3-5320-4ad1-8380-172699dd3c32",
        "part": "whole"
       },
       "id": "08238722-d44f-4e6d-8450-6e669d89cc1f"
      },
      "3ede7887-f005-4c59-ad0b-713967698b5f": {
       "attrs": {
        "height": 0.43327439638970267,
        "width": 0.94,
        "x": 0.03,
        "y": 0.14148829882430458
       },
       "content": {
        "cell": "c7f4ce1e-4494-49e4-b233-330681ab3d85",
        "part": "whole"
       },
       "id": "3ede7887-f005-4c59-ad0b-713967698b5f"
      },
      "588f50f5-8ec4-42dc-9762-8bb28db7df05": {
       "attrs": {
        "height": 0.2356557573392786,
        "width": 0.94,
        "x": 0.03,
        "y": 0.5717023429036535
       },
       "content": {
        "cell": "f826bbc1-a955-4632-bb3f-772b4ebe1020",
        "part": "whole"
       },
       "id": "588f50f5-8ec4-42dc-9762-8bb28db7df05"
      },
      "a62e594c-6913-4421-9395-7f7ecb989ce8": {
       "attrs": {
        "height": 0.16395341443562506,
        "width": 0.94,
        "x": 0.03,
        "y": 0.8060465855643749
       },
       "content": {
        "cell": "764dd896-7f6a-4222-a088-7a0fddc79a1f",
        "part": "whole"
       },
       "id": "a62e594c-6913-4421-9395-7f7ecb989ce8"
      }
     }
    },
    "5d2c741f-b612-43ce-b945-4dcfdc2711c1": {
     "id": "5d2c741f-b612-43ce-b945-4dcfdc2711c1",
     "prev": "df124da5-37e4-4f9c-be76-96c7433818fa",
     "regions": {
      "83d60343-26cb-48dc-a591-127e05effd7c": {
       "attrs": {
        "height": 0.94,
        "width": 0.94,
        "x": 0.03,
        "y": 0.03
       },
       "content": {
        "cell": "8b08a7f1-a8e2-42d6-bcde-8eb7ef695de9",
        "part": "whole"
       },
       "id": "83d60343-26cb-48dc-a591-127e05effd7c"
      }
     }
    },
    "7733f994-59a3-41a4-96da-f6a3deda570d": {
     "id": "7733f994-59a3-41a4-96da-f6a3deda570d",
     "prev": "d42594e8-eb9a-4469-a744-01296c16110c",
     "regions": {
      "480c9ad8-9b49-4fac-afd6-333360e98cfb": {
       "attrs": {
        "height": 0.94,
        "width": 0.94,
        "x": 0.03,
        "y": 0.03
       },
       "content": {
        "cell": "bccb068a-a4fa-4c2e-adb6-65c5459b3d91",
        "part": "whole"
       },
       "id": "480c9ad8-9b49-4fac-afd6-333360e98cfb"
      }
     }
    },
    "7784b30d-603d-4da7-9417-71da0dce813b": {
     "id": "7784b30d-603d-4da7-9417-71da0dce813b",
     "prev": "0c5b0862-570f-45a9-874a-53f063e494e9",
     "regions": {
      "6d5fc5a3-1736-435d-8644-af22ea339b4c": {
       "attrs": {
        "height": 0.94,
        "width": 0.94,
        "x": 0.03,
        "y": 0.03
       },
       "content": {
        "cell": "26ad1efc-86b5-492b-b827-acb12310fc11",
        "part": "whole"
       },
       "id": "6d5fc5a3-1736-435d-8644-af22ea339b4c"
      }
     }
    },
    "85dee3bc-f783-4fc6-8979-d971f9bdc690": {
     "id": "85dee3bc-f783-4fc6-8979-d971f9bdc690",
     "prev": "ed6b2169-a852-408f-bfe2-986fd7c676f9",
     "regions": {
      "32931456-29d4-4a69-8ee4-c5685891888b": {
       "attrs": {
        "height": 0.6234910378723263,
        "width": 0.94,
        "x": 0.03,
        "y": 0.17839958279594248
       },
       "content": {
        "cell": "6c3f101a-e875-4ffd-97ec-1728dd06a780",
        "part": "whole"
       },
       "id": "32931456-29d4-4a69-8ee4-c5685891888b"
      },
      "5d62716b-4877-474a-89eb-63e37149209e": {
       "attrs": {
        "height": 0.1524443367083666,
        "width": 0.94,
        "x": 0.03,
        "y": 0.03
       },
       "content": {
        "cell": "ee4ef7a8-dd65-432f-abf8-83963673abf2",
        "part": "whole"
       },
       "id": "5d62716b-4877-474a-89eb-63e37149209e"
      },
      "5fd54d58-13dc-4319-9487-b270ecff908c": {
       "attrs": {
        "height": 0.1666723074756431,
        "width": 0.94,
        "x": 0.03,
        "y": 0.803327692524357
       },
       "content": {
        "cell": "3e4364ac-9979-4673-957a-9f78096cb16b",
        "part": "whole"
       },
       "id": "5fd54d58-13dc-4319-9487-b270ecff908c"
      }
     }
    },
    "8ca56a9d-31da-42af-94c8-503a9cfdb445": {
     "id": "8ca56a9d-31da-42af-94c8-503a9cfdb445",
     "prev": "32ea1420-b885-4bb6-9948-274472c2bdaa",
     "regions": {
      "3a81ad4a-255f-47cf-bbd2-ec202af907c6": {
       "attrs": {
        "height": 0.94,
        "width": 0.94,
        "x": 0.03,
        "y": 0.03
       },
       "content": {
        "cell": "7ab3d910-8e5b-4edc-9b4b-541c97543d7b",
        "part": "whole"
       },
       "id": "3a81ad4a-255f-47cf-bbd2-ec202af907c6"
      }
     }
    },
    "958b3098-29e6-4dca-83e9-72c78c84be38": {
     "id": "958b3098-29e6-4dca-83e9-72c78c84be38",
     "prev": "5b5b428e-ed50-4235-b1ac-6790c6f92a30",
     "regions": {
      "a7043806-0214-4f1f-af06-7ed467965f52": {
       "attrs": {
        "height": 0.94,
        "width": 0.94,
        "x": 0.03,
        "y": 0.03
       },
       "content": {
        "cell": "64fac8b5-57fd-4c69-b9a2-c9ba31b80d55",
        "part": "whole"
       },
       "id": "a7043806-0214-4f1f-af06-7ed467965f52"
      }
     }
    },
    "a6019762-d72d-4e63-b1a0-8123f4c0d4b6": {
     "id": "a6019762-d72d-4e63-b1a0-8123f4c0d4b6",
     "prev": "5d2c741f-b612-43ce-b945-4dcfdc2711c1",
     "regions": {
      "0f0c6c17-f222-4f4e-9072-d978a2041171": {
       "attrs": {
        "height": 0.06077199415963583,
        "width": 0.94,
        "x": 0.03,
        "y": 0.9092280058403641
       },
       "content": {
        "cell": "bb5f6431-fffc-41ce-aa69-4aa2d1bd549f",
        "part": "whole"
       },
       "id": "0f0c6c17-f222-4f4e-9072-d978a2041171"
      },
      "46ab4841-b36b-42de-91ab-5058df6a2f6d": {
       "attrs": {
        "height": 0.7515628453766525,
        "width": 0.94,
        "x": 0.03,
        "y": 0.15373016224687958
       },
       "content": {
        "cell": "7f93386f-fd52-4580-adfd-911d1d0f226f",
        "part": "whole"
       },
       "id": "46ab4841-b36b-42de-91ab-5058df6a2f6d"
      },
      "92cf83c5-5882-4958-90a7-bf1baa0f92fb": {
       "attrs": {
        "height": 0.12679051455723328,
        "width": 0.94,
        "x": 0.03,
        "y": 0.029999999999999995
       },
       "content": {
        "cell": "596f7e1f-00db-4330-9e70-0a954e2d4704",
        "part": "whole"
       },
       "id": "92cf83c5-5882-4958-90a7-bf1baa0f92fb"
      }
     }
    },
    "b37bb49a-b39f-461c-8ae8-f8451bef95ef": {
     "id": "b37bb49a-b39f-461c-8ae8-f8451bef95ef",
     "prev": "cc0a82d2-c4bd-4724-a962-6ff10ed9dd3f",
     "regions": {
      "f74e9713-7b18-45f5-b4ac-d0c4ab42a5be": {
       "attrs": {
        "height": 0.94,
        "width": 0.94,
        "x": 0.03,
        "y": 0.03
       },
       "content": {
        "cell": "d17b3bcf-3e86-4a52-847a-3aef6d930a7d",
        "part": "whole"
       },
       "id": "f74e9713-7b18-45f5-b4ac-d0c4ab42a5be"
      }
     }
    },
    "b852e312-6c6c-4853-a0ac-5152bd4a6fb7": {
     "id": "b852e312-6c6c-4853-a0ac-5152bd4a6fb7",
     "prev": "1c153427-376f-4f08-ad88-7cec0d60fdcd",
     "regions": {
      "f8779ea2-fae8-4a6e-bb38-3d062664dbf4": {
       "attrs": {
        "height": 0.94,
        "width": 0.94,
        "x": 0.03,
        "y": 0.03
       },
       "content": {
        "cell": "68d72c7f-d22d-47cf-a941-9078f7df72c4",
        "part": "whole"
       },
       "id": "f8779ea2-fae8-4a6e-bb38-3d062664dbf4"
      }
     }
    },
    "b981b17b-081a-490c-ac65-0063c87d28ed": {
     "id": "b981b17b-081a-490c-ac65-0063c87d28ed",
     "prev": "2ba1879b-b79e-431d-b4b7-ca0af6cf0579",
     "regions": {
      "f0a14247-7ca2-4004-9e3f-569a71fc9dfc": {
       "attrs": {
        "height": 0.94,
        "width": 0.94,
        "x": 0.03,
        "y": 0.03
       },
       "content": {
        "cell": "aab83dcc-d430-4982-af2e-8d1a1b68491a",
        "part": "whole"
       },
       "id": "f0a14247-7ca2-4004-9e3f-569a71fc9dfc"
      }
     }
    },
    "c6c31d87-61e3-42a6-8211-b76a9caaca42": {
     "id": "c6c31d87-61e3-42a6-8211-b76a9caaca42",
     "prev": "2f46de70-8819-422d-9f04-6d065035e815",
     "regions": {
      "3dfc0e80-35b5-4479-b22a-b03cd874dc7a": {
       "attrs": {
        "height": 0.1323443088904875,
        "width": 0.94,
        "x": 0.03,
        "y": 0.03
       },
       "content": {
        "cell": "5509acaa-69e4-42bc-a10b-7c2f89552ea4",
        "part": "whole"
       },
       "id": "3dfc0e80-35b5-4479-b22a-b03cd874dc7a"
      },
      "79320e47-0e76-4962-bd14-92bb059a507d": {
       "attrs": {
        "height": 0.7532276647064778,
        "width": 0.94,
        "x": 0.030000000000000037,
        "y": 0.15829955497806342
       },
       "content": {
        "cell": "056722f8-40bd-4b06-8280-420ff6b9c03a",
        "part": "whole"
       },
       "id": "79320e47-0e76-4962-bd14-92bb059a507d"
      },
      "c766fa1a-cd7b-4fcd-b4e1-da3d152459b8": {
       "attrs": {
        "height": 0.058863067361564436,
        "width": 0.94,
        "x": 0.03,
        "y": 0.9111369326384356
       },
       "content": {
        "cell": "2f098aef-b410-4219-9fb9-38ef02d20474",
        "part": "whole"
       },
       "id": "c766fa1a-cd7b-4fcd-b4e1-da3d152459b8"
      }
     }
    },
    "cb4f4881-2968-4e93-a3de-7383ab5a4032": {
     "id": "cb4f4881-2968-4e93-a3de-7383ab5a4032",
     "prev": "b37bb49a-b39f-461c-8ae8-f8451bef95ef",
     "regions": {
      "822ce28b-ce4c-4868-bf10-5119ea5e15a1": {
       "attrs": {
        "height": 0.7913838816700999,
        "width": 0.94,
        "x": 0.03076484327668499,
        "y": 0.11876652259779834
       },
       "content": {
        "cell": "bab28a73-31ac-4e0f-a2cc-7cab10b4f550",
        "part": "whole"
       },
       "id": "822ce28b-ce4c-4868-bf10-5119ea5e15a1"
      },
      "a6367125-043d-4ace-b631-0fc4c8ad174a": {
       "attrs": {
        "height": 0.121544001661844,
        "width": 0.94,
        "x": 0.03,
        "y": 0.029999999999999995
       },
       "content": {
        "cell": "dc50e478-027c-457f-b04a-36562a01e53f",
        "part": "whole"
       },
       "id": "a6367125-043d-4ace-b631-0fc4c8ad174a"
      },
      "d9bad35b-071f-48cc-988a-9d125f3736d8": {
       "attrs": {
        "height": 0.0590231565278394,
        "width": 0.94,
        "x": 0.03,
        "y": 0.9109768434721606
       },
       "content": {
        "cell": "39e9ae6c-2796-4598-bb32-6ee3d53e94a1",
        "part": "whole"
       },
       "id": "d9bad35b-071f-48cc-988a-9d125f3736d8"
      }
     }
    },
    "cc0a82d2-c4bd-4724-a962-6ff10ed9dd3f": {
     "id": "cc0a82d2-c4bd-4724-a962-6ff10ed9dd3f",
     "prev": "b852e312-6c6c-4853-a0ac-5152bd4a6fb7",
     "regions": {
      "2afab9bc-ecd2-4689-bd89-7a1e42c0717f": {
       "attrs": {
        "height": 0.13378586508441898,
        "width": 0.94,
        "x": 0.03,
        "y": 0.029999999999999995
       },
       "content": {
        "cell": "512df8e9-3491-456f-a84d-cbb90411d638",
        "part": "whole"
       },
       "id": "2afab9bc-ecd2-4689-bd89-7a1e42c0717f"
      },
      "4407aab7-b170-4664-8502-4e35e7bd323e": {
       "attrs": {
        "height": 0.13597201232688222,
        "width": 0.94,
        "x": 0.03098372116788545,
        "y": 0.7710698329284463
       },
       "content": {
        "cell": "8b5c9453-b2bd-4993-abb8-b89b927cf7b4",
        "part": "whole"
       },
       "id": "4407aab7-b170-4664-8502-4e35e7bd323e"
      },
      "8e29f460-2d28-47da-9cd1-84c4a1c9eacf": {
       "attrs": {
        "height": 0.6011628090421598,
        "width": 0.94,
        "x": 0.03,
        "y": 0.16946970093304742
       },
       "content": {
        "cell": "cedcf3e5-691e-4431-94a1-3ddf2ba428a2",
        "part": "whole"
       },
       "id": "8e29f460-2d28-47da-9cd1-84c4a1c9eacf"
      },
      "9a05c7aa-597a-4d2b-b522-a143aeb02250": {
       "attrs": {
        "height": 0.057274318896042974,
        "width": 0.94,
        "x": 0.03,
        "y": 0.9127256811039569
       },
       "content": {
        "cell": "88625794-ce44-4592-b303-3b9a103e0a10",
        "part": "whole"
       },
       "id": "9a05c7aa-597a-4d2b-b522-a143aeb02250"
      }
     }
    },
    "cc4faace-5d9e-4c62-b237-887d59e04219": {
     "id": "cc4faace-5d9e-4c62-b237-887d59e04219",
     "prev": "c6c31d87-61e3-42a6-8211-b76a9caaca42",
     "regions": {
      "2e346c2a-756d-4da2-abf5-ff9e8d042bcb": {
       "attrs": {
        "height": 0.7294730027302341,
        "width": 0.94,
        "x": 0.03,
        "y": 0.18205413330828424
       },
       "content": {
        "cell": "4fd4c5fd-ced0-4e4f-a516-13db0fa5a54c",
        "part": "whole"
       },
       "id": "2e346c2a-756d-4da2-abf5-ff9e8d042bcb"
      },
      "43cd5ec0-637c-407a-852f-372fa0e64be2": {
       "attrs": {
        "height": 0.058863067361564436,
        "width": 0.94,
        "x": 0.03,
        "y": 0.9111369326384356
       },
       "content": {
        "cell": "af7f2861-45a5-42f3-895e-c11f8b25d49c",
        "part": "whole"
       },
       "id": "43cd5ec0-637c-407a-852f-372fa0e64be2"
      },
      "d68bef27-c30a-4406-b52b-3af258e7f1da": {
       "attrs": {
        "height": 0.1524443367083666,
        "width": 0.94,
        "x": 0.03,
        "y": 0.03
       },
       "content": {
        "cell": "6d663e8a-0a3b-48cc-819c-de632c977bcc",
        "part": "whole"
       },
       "id": "d68bef27-c30a-4406-b52b-3af258e7f1da"
      }
     }
    },
    "d42594e8-eb9a-4469-a744-01296c16110c": {
     "id": "d42594e8-eb9a-4469-a744-01296c16110c",
     "prev": null,
     "regions": {
      "96f7b944-51e9-4ffe-8d0b-73fdf4256238": {
       "attrs": {
        "height": 0.94,
        "width": 0.94,
        "x": 0.03,
        "y": 0.03
       },
       "content": {
        "cell": "7d14e31a-f8fd-4d54-9c39-f73c2de52a8d",
        "part": "whole"
       },
       "id": "96f7b944-51e9-4ffe-8d0b-73fdf4256238"
      }
     }
    },
    "df124da5-37e4-4f9c-be76-96c7433818fa": {
     "id": "df124da5-37e4-4f9c-be76-96c7433818fa",
     "prev": "cc4faace-5d9e-4c62-b237-887d59e04219",
     "regions": {
      "04464ce1-df6b-4727-9bb3-f04fb4f548b8": {
       "attrs": {
        "height": 0.94,
        "width": 0.94,
        "x": 0.03,
        "y": 0.03
       },
       "content": {
        "cell": "966f0412-c4dc-4dc2-8299-f1a111720c29",
        "part": "whole"
       },
       "id": "04464ce1-df6b-4727-9bb3-f04fb4f548b8"
      }
     }
    },
    "ed6b2169-a852-408f-bfe2-986fd7c676f9": {
     "id": "ed6b2169-a852-408f-bfe2-986fd7c676f9",
     "prev": "33f600be-d5ec-4c4c-b536-44b6d6f57c87",
     "regions": {
      "b9dc2713-af6e-4ddf-b864-7db1381671af": {
       "attrs": {
        "height": 0.94,
        "width": 0.94,
        "x": 0.03,
        "y": 0.03
       },
       "content": {
        "cell": "15db3188-c8aa-42f4-8bc4-90bf08a36db4",
        "part": "whole"
       },
       "id": "b9dc2713-af6e-4ddf-b864-7db1381671af"
      }
     }
    },
    "f6c20e08-a9fc-4212-9b2e-8724bb092683": {
     "id": "f6c20e08-a9fc-4212-9b2e-8724bb092683",
     "prev": "cb4f4881-2968-4e93-a3de-7383ab5a4032",
     "regions": {
      "87291b48-b55a-45a2-bf0c-4a02374a6b40": {
       "attrs": {
        "height": 0.94,
        "width": 0.94,
        "x": 0.03,
        "y": 0.03
       },
       "content": {
        "cell": "33170490-5af1-4c56-827a-05ed669c74e4",
        "part": "whole"
       },
       "id": "87291b48-b55a-45a2-bf0c-4a02374a6b40"
      }
     }
    },
    "ff9f47ae-eddd-4b56-99de-ec4e76dd53fa": {
     "id": "ff9f47ae-eddd-4b56-99de-ec4e76dd53fa",
     "prev": "a6019762-d72d-4e63-b1a0-8123f4c0d4b6",
     "regions": {
      "19ecdeae-55a2-455a-be5a-37c8287e20a2": {
       "attrs": {
        "height": 0.10799061021813948,
        "width": 0.94,
        "x": 0.02901627883211447,
        "y": 0.381079041037843
       },
       "content": {
        "cell": "b3527f98-22eb-4615-b3da-88701a01e969",
        "part": "whole"
       },
       "id": "19ecdeae-55a2-455a-be5a-37c8287e20a2"
      },
      "26e8355e-8e0b-4c42-8e30-490f4c5e1d80": {
       "attrs": {
        "height": 0.0835068833729894,
        "width": 0.94,
        "x": 0.028032557664228977,
        "y": 0.5717023429036535
       },
       "content": {
        "cell": "126f1fa1-8d4e-4e81-b02d-3d9bcb5da520",
        "part": "whole"
       },
       "id": "26e8355e-8e0b-4c42-8e30-490f4c5e1d80"
      },
      "3ee2434d-59a3-498f-98a0-7fca567c3aa7": {
       "attrs": {
        "height": 0.1657022520674215,
        "width": 0.94,
        "x": 0.02999999999999996,
        "y": 0.8130419360915606
       },
       "content": {
        "cell": "b62da340-e84c-42bb-9a21-ef9653425f47",
        "part": "whole"
       },
       "id": "3ee2434d-59a3-498f-98a0-7fca567c3aa7"
      },
      "83a2e45d-0232-4f7c-afcf-6ee107dcd4b8": {
       "attrs": {
        "height": 0.3506417180846037,
        "width": 0.94,
        "x": 0.02901627883211447,
        "y": 0.02999999999999997
       },
       "content": {
        "cell": "2ded38e5-d681-4711-b39a-cd8d014f1829",
        "part": "whole"
       },
       "id": "83a2e45d-0232-4f7c-afcf-6ee107dcd4b8"
      },
      "89f9833c-ab3b-4c66-88c3-0a787b30617c": {
       "attrs": {
        "height": 0.16395341443562506,
        "width": 0.94,
        "x": 0.028032557664228977,
        "y": 0.6504000363344928
       },
       "content": {
        "cell": "6862dce6-3dc5-4bcd-bfae-33652c6e9251",
        "part": "whole"
       },
       "id": "89f9833c-ab3b-4c66-88c3-0a787b30617c"
      },
      "dd0de04f-d188-4026-9411-51e91bc94fb0": {
       "attrs": {
        "height": 0.08175804574119296,
        "width": 0.94,
        "x": 0.02901627883211447,
        "y": 0.48950697420922146
       },
       "content": {
        "cell": "9325857a-412d-4731-8fb3-e81c10cc803c",
        "part": "whole"
       },
       "id": "dd0de04f-d188-4026-9411-51e91bc94fb0"
      }
     }
    }
   },
   "themes": {
    "default": "160e6905-32ff-49ac-bfb9-6236a803bbaa",
    "theme": {
     "160e6905-32ff-49ac-bfb9-6236a803bbaa": {
      "backgrounds": {
       "my-background": {
        "background-color": "white"
       }
      },
      "id": "160e6905-32ff-49ac-bfb9-6236a803bbaa",
      "palette": {
       "black": {
        "id": "black",
        "rgb": [
         0,
         0,
         0
        ]
       },
       "blue": {
        "id": "blue",
        "rgb": [
         0,
         153,
         204
        ]
       },
       "gray": {
        "id": "gray",
        "rgb": [
         128,
         128,
         128
        ]
       },
       "red": {
        "id": "red",
        "rgb": [
         240,
         32,
         32
        ]
       },
       "white": {
        "id": "white",
        "rgb": [
         255,
         255,
         255
        ]
       }
      },
      "rules": {
       "code": {
        "font-size": 1.6
       },
       "h1": {
        "color": "blue",
        "font-size": 5.5,
        "text-align": "center"
       },
       "h2": {
        "color": "blue",
        "font-size": 3,
        "text-align": "center"
       },
       "h3": {
        "color": "black",
        "font-size": 3
       },
       "pre": {
        "font-size": 1.6
       },
       "ul li": {
        "color": "black",
        "font-size": 2.5
       },
       "ul li ul li": {
        "color": "black",
        "font-size": 2
       }
      },
      "text-base": {
       "font-family": "Georgia",
       "font-size": 2.5
      }
     }
    }
   }
  }
 },
 "nbformat": 4,
 "nbformat_minor": 1
}
