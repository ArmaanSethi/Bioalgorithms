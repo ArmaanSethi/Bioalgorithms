{
 "cells": [
  {
   "cell_type": "code",
   "execution_count": 16,
   "metadata": {
    "nbpresent": {
     "id": "5a4033d7-fd29-48e2-96b9-844d3278f98b"
    },
    "slideshow": {
     "slide_type": "skip"
    }
   },
   "outputs": [
    {
     "data": {
      "application/javascript": [
       "var width = window.innerWidth || document.documentElement.clientWidth || document.body.clientWidth;\n",
       "var height = window.innerHeight || document.documentElement.clientHeight || document.body.clientHeight;\n",
       "\n",
       "IPython.notebook.kernel.execute(\"windowSize = (\" + width + \",\" + height + \")\");\n",
       "// suitable for small screens\n",
       "nbpresent.mode.tree.set(\n",
       "    [\"app\", \"theme-manager\", \"themes\", \"my-theme\"], \n",
       "    {\n",
       "    palette: {\n",
       "        \"blue\": { id: \"blue\", rgb: [0, 153, 204] },\n",
       "        \"black\": { id: \"black\", rgb: [0, 0, 0] },\n",
       "        \"white\": { id: \"white\", rgb: [255, 255, 255] },\n",
       "        \"red\": { id: \"red\", rgb: [240, 32, 32] },\n",
       "        \"gray\": { id: \"gray\", rgb: [128, 128, 128] },\n",
       "    },\n",
       "    backgrounds: {\n",
       "        \"my-background\": {\n",
       "            \"background-color\": \"white\"\n",
       "        }\n",
       "    },\n",
       "    \"text-base\": {\n",
       "        \"font-family\": \"Georgia\",\n",
       "        \"font-size\": 2.5\n",
       "    },\n",
       "    rules: {\n",
       "        h1: {\n",
       "            \"font-size\": 5.5,\n",
       "            color: \"blue\",\n",
       "            \"text-align\": \"center\"\n",
       "        },\n",
       "        h2: {\n",
       "            \"font-size\": 3,\n",
       "            color: \"blue\",\n",
       "            \"text-align\": \"center\"\n",
       "        },\n",
       "        h3: {\n",
       "            \"font-size\": 3,\n",
       "            color: \"black\",\n",
       "        },\n",
       "        \"ul li\": {\n",
       "            \"font-size\": 2.5,\n",
       "            color: \"black\"\n",
       "        },\n",
       "        \"ul li ul li\": {\n",
       "            \"font-size\": 2.0,\n",
       "            color: \"black\"\n",
       "        },\n",
       "        \"code\": {\n",
       "            \"font-size\": 1.6,\n",
       "        },\n",
       "        \"pre\": {\n",
       "            \"font-size\": 1.6,\n",
       "        }\n",
       "    }\n",
       "});"
      ],
      "text/plain": [
       "<IPython.core.display.Javascript object>"
      ]
     },
     "metadata": {},
     "output_type": "display_data"
    }
   ],
   "source": [
    "%%javascript\n",
    "var width = window.innerWidth || document.documentElement.clientWidth || document.body.clientWidth;\n",
    "var height = window.innerHeight || document.documentElement.clientHeight || document.body.clientHeight;\n",
    "\n",
    "IPython.notebook.kernel.execute(\"windowSize = (\" + width + \",\" + height + \")\");\n",
    "// suitable for small screens\n",
    "nbpresent.mode.tree.set(\n",
    "    [\"app\", \"theme-manager\", \"themes\", \"my-theme\"], \n",
    "    {\n",
    "    palette: {\n",
    "        \"blue\": { id: \"blue\", rgb: [0, 153, 204] },\n",
    "        \"black\": { id: \"black\", rgb: [0, 0, 0] },\n",
    "        \"white\": { id: \"white\", rgb: [255, 255, 255] },\n",
    "        \"red\": { id: \"red\", rgb: [240, 32, 32] },\n",
    "        \"gray\": { id: \"gray\", rgb: [128, 128, 128] },\n",
    "    },\n",
    "    backgrounds: {\n",
    "        \"my-background\": {\n",
    "            \"background-color\": \"white\"\n",
    "        }\n",
    "    },\n",
    "    \"text-base\": {\n",
    "        \"font-family\": \"Georgia\",\n",
    "        \"font-size\": 2.5\n",
    "    },\n",
    "    rules: {\n",
    "        h1: {\n",
    "            \"font-size\": 5.5,\n",
    "            color: \"blue\",\n",
    "            \"text-align\": \"center\"\n",
    "        },\n",
    "        h2: {\n",
    "            \"font-size\": 3,\n",
    "            color: \"blue\",\n",
    "            \"text-align\": \"center\"\n",
    "        },\n",
    "        h3: {\n",
    "            \"font-size\": 3,\n",
    "            color: \"black\",\n",
    "        },\n",
    "        \"ul li\": {\n",
    "            \"font-size\": 2.5,\n",
    "            color: \"black\"\n",
    "        },\n",
    "        \"ul li ul li\": {\n",
    "            \"font-size\": 2.0,\n",
    "            color: \"black\"\n",
    "        },\n",
    "        \"code\": {\n",
    "            \"font-size\": 1.6,\n",
    "        },\n",
    "        \"pre\": {\n",
    "            \"font-size\": 1.6,\n",
    "        }\n",
    "    }\n",
    "});\n"
   ]
  },
  {
   "cell_type": "code",
   "execution_count": 17,
   "metadata": {},
   "outputs": [
    {
     "data": {
      "text/html": [
       "<style> *{margin:0; padding:0;} html, body, .container{margin:0;!important padding:0;!important} .container { width:100% !important;}</style>"
      ],
      "text/plain": [
       "<IPython.core.display.HTML object>"
      ]
     },
     "metadata": {},
     "output_type": "display_data"
    }
   ],
   "source": [
    "from IPython.core.display import display, HTML\n",
    "display(HTML(\"<style> *{margin:0; padding:0;} html, body, .container{margin:0;!important padding:0;!important} .container { width:100% !important;}</style>\"))"
   ]
  },
  {
   "cell_type": "markdown",
   "metadata": {
    "nbpresent": {
     "id": "2786a768-c871-4ad2-b957-ce2f6eae7a68"
    },
    "slideshow": {
     "slide_type": "slide"
    }
   },
   "source": [
    "# Suffix Arrays and BWTs\n",
    "<img src=\"http://csbio.unc.edu/mcmillan/Comp555S18/Media/L22Backwards.jpg\" width=\"500px\">\n",
    "\n",
    "* 2<sup>nd</sup> problem set due on Thursday\n",
    "* Midterm next Thursday, this is the last lecture that will be covered on the midterm\n",
    "<p style=\"text-align: right; clear: right;\">1</p>"
   ]
  },
  {
   "cell_type": "markdown",
   "metadata": {
    "nbpresent": {
     "id": "3b52d809-ec55-46f0-9123-4f13430eeecc"
    },
    "slideshow": {
     "slide_type": "slide"
    }
   },
   "source": [
    "# A tweak to argsort()\n",
    "\n",
    "* Recall argsort() from last time:\n",
    "\n",
    "``` python\n",
    "def argsort(input):\n",
    "    return sorted(range(len(input)), cmp=lambda i,j: 1 if input[i] >= input[j] else -1)\n",
    "\n",
    "B = [\"TAGACAT\", \"AGACAT\", \"GACAT\", \"ACAT\", \"CAT\", \"AT\", \"T\"]\n",
    "print argsort(B)\n",
    "```\n",
    "\n",
    "* If we know that our input is suffixes from a single string\n",
    "    - the $i^{th}$ suffix starts at index i\n",
    "    - thus we don't need to extract the suffixes, just use offsets\n",
    "\n",
    "<p style=\"text-align: right; clear: right;\">2</p>"
   ]
  },
  {
   "cell_type": "markdown",
   "metadata": {
    "nbpresent": {
     "id": "1df9dab8-8a60-451e-845b-6531b6e02146"
    },
    "slideshow": {
     "slide_type": "slide"
    }
   },
   "source": [
    "# Constructing a Suffix Array\n",
    "\n",
    "Note the small change to the argsort() function (*cmp* uses [i:], [j:] rather than [i], [j]) to compute a suffix array directly from the given text."
   ]
  },
  {
   "cell_type": "code",
   "execution_count": 18,
   "metadata": {
    "nbpresent": {
     "id": "8de1a25b-0a6d-41f4-912b-3a8171605e1e"
    },
    "slideshow": {
     "slide_type": "fragment"
    }
   },
   "outputs": [
    {
     "name": "stdout",
     "output_type": "stream",
     "text": [
      "[20, 9, 13, 18, 0, 7, 11, 16, 2, 4, 10, 6, 14, 19, 1, 8, 12, 17, 3, 15, 5]\n",
      "20: a\n",
      " 9: acanalpanama\n",
      "13: alpanama\n",
      "18: ama\n",
      " 0: amanaplanacanalpanama\n",
      " 7: anacanalpanama\n",
      "11: analpanama\n",
      "16: anama\n",
      " 2: anaplanacanalpanama\n",
      " 4: aplanacanalpanama\n",
      "10: canalpanama\n",
      " 6: lanacanalpanama\n",
      "14: lpanama\n",
      "19: ma\n",
      " 1: manaplanacanalpanama\n",
      " 8: nacanalpanama\n",
      "12: nalpanama\n",
      "17: nama\n",
      " 3: naplanacanalpanama\n",
      "15: panama\n",
      " 5: planacanalpanama\n"
     ]
    }
   ],
   "source": [
    "def suffixArray(text):\n",
    "    return sorted(range(len(text)), cmp=lambda i,j: 1 if text[i:] >= text[j:] else -1)\n",
    "\n",
    "t = \"amanaplanacanalpanama\"\n",
    "sa = suffixArray(t)\n",
    "print sa\n",
    "for i in sa:\n",
    "    print \"%2d: %s\" % (i, t[i:])"
   ]
  },
  {
   "cell_type": "markdown",
   "metadata": {
    "nbpresent": {
     "id": "f6682a5b-ce51-48b1-a2b8-184bcd5820fe"
    },
    "slideshow": {
     "slide_type": "fragment"
    }
   },
   "source": [
    "<p style=\"text-align: right; clear: right;\">3</p>"
   ]
  },
  {
   "cell_type": "markdown",
   "metadata": {
    "nbpresent": {
     "id": "4ab2cf1f-227c-473a-8b71-b8e95aaaf013"
    },
    "slideshow": {
     "slide_type": "slide"
    }
   },
   "source": [
    "# Searching a Suffix Array\n",
    "\n",
    "* Searching a sorted list requires $O(log(m))$ comparisons using ***binary search***\n",
    "* Each comparision is over *n* symbols of the pattern\n",
    "* Thus, searching is $O(n log(m))$"
   ]
  },
  {
   "cell_type": "code",
   "execution_count": 19,
   "metadata": {
    "nbpresent": {
     "id": "c34df9a8-801a-4886-90a5-9a81283e5a37"
    },
    "slideshow": {
     "slide_type": "fragment"
    }
   },
   "outputs": [
    {
     "name": "stdout",
     "output_type": "stream",
     "text": [
      "amanaplanacanalpanama\n",
      "5 7 anacanalpanama\n"
     ]
    }
   ],
   "source": [
    "def findFirst(pattern, text, suffixarray):\n",
    "    lo, hi = 0, len(text)\n",
    "    while (lo < hi):\n",
    "        middle = (lo+hi)//2\n",
    "        if text[suffixarray[middle]:] < pattern:\n",
    "            lo = middle + 1\n",
    "        else:\n",
    "            hi = middle\n",
    "    return lo\n",
    "\n",
    "first = findFirst(\"an\", t, sa)\n",
    "print t\n",
    "print first, sa[first], t[sa[first]:]"
   ]
  },
  {
   "cell_type": "markdown",
   "metadata": {
    "nbpresent": {
     "id": "815b3fc9-f7cc-49be-9a5c-92aae523446b"
    },
    "slideshow": {
     "slide_type": "fragment"
    }
   },
   "source": [
    "<p style=\"text-align: right; clear: right;\">4</p>"
   ]
  },
  {
   "cell_type": "markdown",
   "metadata": {
    "nbpresent": {
     "id": "3e073145-7c13-4c1e-bbce-b0409bb8cc41"
    },
    "slideshow": {
     "slide_type": "slide"
    }
   },
   "source": [
    "# Finding all Occurences\n",
    "\n",
    "A variant to binary search which finds the last occurence of a pattern rather than the first. Only difference, uses \"<=\" instead of \"<\", but needs to trim string comparison to test for equality."
   ]
  },
  {
   "cell_type": "code",
   "execution_count": 20,
   "metadata": {
    "nbpresent": {
     "id": "bc86ea04-416a-46df-85cb-eb8c0632c4e2"
    },
    "slideshow": {
     "slide_type": "fragment"
    }
   },
   "outputs": [
    {
     "name": "stdout",
     "output_type": "stream",
     "text": [
      "amanaplanacanalpanama\n",
      "5 9\n",
      "  7: anacanalpanama\n",
      " 11: analpanama\n",
      " 16: anama\n",
      "  2: anaplanacanalpanama\n",
      "4 times\n"
     ]
    }
   ],
   "source": [
    "def findLast(pattern, text, suffixarray):\n",
    "    lo, hi = 0, len(text)\n",
    "    while (lo < hi):\n",
    "        middle = (lo+hi)/2\n",
    "        if text[suffixarray[middle]:suffixarray[middle]+len(pattern)] <= pattern:\n",
    "            lo = middle + 1\n",
    "        else:\n",
    "            hi = middle\n",
    "    return lo\n",
    "\n",
    "print t\n",
    "last = findLast(\"an\", t, sa)\n",
    "print first, last\n",
    "for suffix in sa[first:last]:     # recall \"first\" was found on the previous slide\n",
    "    print \"%3d: %s\" % (suffix, t[suffix:])\n",
    "print last - first, \"times\""
   ]
  },
  {
   "cell_type": "markdown",
   "metadata": {
    "nbpresent": {
     "id": "4ea53e99-4810-44ce-99b5-10427b216647"
    },
    "slideshow": {
     "slide_type": "fragment"
    }
   },
   "source": [
    "<p style=\"text-align: right; clear: right;\">5</p>"
   ]
  },
  {
   "cell_type": "markdown",
   "metadata": {
    "nbpresent": {
     "id": "00cdcaf1-c0b0-42a6-971c-b72c1cb20fef"
    },
    "slideshow": {
     "slide_type": "slide"
    }
   },
   "source": [
    "# Longest repeated substring?\n",
    "\n",
    "* Given a suffix array, we can compute a *helper* function, call the **Longest Common Prefix**, LCP"
   ]
  },
  {
   "cell_type": "code",
   "execution_count": 21,
   "metadata": {
    "nbpresent": {
     "id": "26f20d97-80a8-4d68-b1a4-511ab3083379"
    },
    "slideshow": {
     "slide_type": "fragment"
    }
   },
   "outputs": [
    {
     "name": "stdout",
     "output_type": "stream",
     "text": [
      "SA,LCP,Suffix\n",
      "20:  0 a\n",
      " 9:  1 acanalpanama\n",
      "13:  1 alpanama\n",
      "18:  1 ama\n",
      " 0:  3 amanaplanacanalpanama\n",
      " 7:  1 anacanalpanama\n",
      "11:  3 analpanama\n",
      "16:  3 anama\n",
      " 2:  3 anaplanacanalpanama\n",
      " 4:  1 aplanacanalpanama\n",
      "10:  0 canalpanama\n",
      " 6:  0 lanacanalpanama\n",
      "14:  1 lpanama\n",
      "19:  0 ma\n",
      " 1:  2 manaplanacanalpanama\n",
      " 8:  0 nacanalpanama\n",
      "12:  2 nalpanama\n",
      "17:  2 nama\n",
      " 3:  2 naplanacanalpanama\n",
      "15:  0 panama\n",
      " 5:  1 planacanalpanama\n"
     ]
    }
   ],
   "source": [
    "def computeLCP(text, suffixarray):\n",
    "    m = len(text)\n",
    "    lcp = [0 for i in xrange(m)]\n",
    "    for i in xrange(1,m):\n",
    "        u = suffixarray[i-1]\n",
    "        v = suffixarray[i]\n",
    "        n = 0\n",
    "        while text[u] == text[v]:\n",
    "            n += 1\n",
    "            u += 1\n",
    "            v += 1\n",
    "            if (u >= m) or (v >=m):\n",
    "                break\n",
    "        lcp[i] = n\n",
    "    return lcp\n",
    "\n",
    "lcp = computeLCP(t, sa)\n",
    "\n",
    "print \"SA,LCP,Suffix\"\n",
    "for i, j in enumerate(sa):\n",
    "    print \"%2d: %2d %s\" % (j, lcp[i], t[j:])"
   ]
  },
  {
   "cell_type": "markdown",
   "metadata": {
    "nbpresent": {
     "id": "61170274-1951-443b-9973-52dd8ae6d1a5"
    },
    "slideshow": {
     "slide_type": "fragment"
    }
   },
   "source": [
    "* It should be evident that the longest repeated substring is at the suffix array index with the largest LCP\n",
    "* It is shared with one or more suffixes before it \n",
    "<p style=\"text-align: right; clear: right;\">6</p>"
   ]
  },
  {
   "cell_type": "markdown",
   "metadata": {
    "nbpresent": {
     "id": "f39b88e7-2908-48f0-b07b-b8f9f07bd1b4"
    },
    "slideshow": {
     "slide_type": "slide"
    }
   },
   "source": [
    "# Summary to this point\n",
    "\n",
    "* Where:\n",
    "     - *m* is the length of the text to be searched\n",
    "     - *n* is the length of the pattern (maximum length if more than 1)\n",
    "     - *p* is the number of patterns\n",
    "\n",
    "\n",
    "|     Method    | Storage    | Single Search | Multi Search |\n",
    "|:-------------:|:----------:|:-------------:|:------------:|\n",
    "|  Brute Force  | O(m)       | O(nm)         | O(p n m)     |\n",
    "| Keyword Tries | O(pn)      | O(nm)         | O(p m)       |\n",
    "| Suffix Trees  | O(m)&ast;  | O(n)          | O(p n)       |\n",
    "| Suffix Arrays | O(m)| O(n log(m))   | O(p n log(m))|\n",
    "\n",
    "\n",
    "&ast; with large constants, however \n",
    "<p style=\"text-align: right; clear: right;\">7</p>"
   ]
  },
  {
   "cell_type": "markdown",
   "metadata": {
    "nbpresent": {
     "id": "063ff490-4cb4-476f-b4d5-a8daabe443bb"
    },
    "slideshow": {
     "slide_type": "slide"
    }
   },
   "source": [
    "# A rather unknown compression approach\n",
    "\n",
    "In 1994, two researchers from DEC research labs in Palo Alto, Michael Burrows and David Wheeler, devised a transformation for text that made it more compressible. Essentially, they devised a *invertible permutation* of any text that compresses well if it exhibits redundancy.\n",
    "\n",
    "**Example:**\n",
    "<pre>\n",
    "                   text = \"amanaplanacanalpanama$\"\n",
    "              BWT(text) = \"amnnn$lcpmnapaaaaaaala\"\n",
    "</pre>\n",
    "\n",
    "* Notice how the transformed text has long *runs* of repeated characters\n",
    "* A simple form of compression, called run-length encoding, replaces repeated symbols by a (count, symbol) tuple\n",
    "* If the count is 1, then just the symbol appears\n",
    "\n",
    "Thus, the BWT(text) can be represented as:\n",
    "<pre>\n",
    "              Compress(BWT(text)) = am3n$lcpmnap7ala  (16 chars instead of 22)\n",
    "</pre>\n",
    "\n",
    "* The savings are even more impressive for longer strings\n",
    "* Notice, they introduced a special *\"end-of-text\"* symbol (&dollar; in our case), which is lexigraphically before any other symbol\n",
    "\n",
    "<p style=\"text-align: right; clear: right;\">8</p>"
   ]
  },
  {
   "cell_type": "markdown",
   "metadata": {
    "nbpresent": {
     "id": "3190f231-cba7-4b13-ac28-3f729688906f"
    },
    "slideshow": {
     "slide_type": "slide"
    }
   },
   "source": [
    "# Key Idea behind the BWT\n",
    "\n",
    "* Sorting Cyclical Suffixes (say that 3-times fast)\n",
    "<pre>\n",
    "         \"Cyclical Suffixes\"         \"Sorted Cyclical Suffixes\" \n",
    "              tarheel$                    $tarhee<span style=\"color:blue;\">l</span>\n",
    "              arheel$t                    arheel$<span style=\"color:blue;\">t</span>\n",
    "              rheel$ta                    eel$tar<span style=\"color:blue;\">h</span>\n",
    "              heel$tar                    el$tarh<span style=\"color:blue;\">e</span>\n",
    "              eel$tarh                    heel$ta<span style=\"color:blue;\">r</span>\n",
    "              el$tarhe                    l$tarhe<span style=\"color:blue;\">e</span>\n",
    "              l$tarhee                    rheel$t<span style=\"color:blue;\">a</span>\n",
    "              $tarheel                    tarheel<span style=\"color:blue;\">&dollar;</span>\n",
    "</pre>\n",
    "\n",
    "* The BWT of \"tarheels\" is the last column of the sorted cyclical suffixes \"ltherea&dollar;\"\n",
    "* Notice that the sorted cyclical suffixes have a lot in common with a suffix array.\n",
    "* The BWT is just the \"predecessor symbol of these suffixes\", where \"&dollar;\" precedes the first symbol \n",
    "<p style=\"text-align: right; clear: right;\">9</p>"
   ]
  },
  {
   "cell_type": "code",
   "execution_count": 22,
   "metadata": {},
   "outputs": [
    {
     "name": "stdout",
     "output_type": "stream",
     "text": [
      "['beatmiami$', 'eatmiami$b', 'atmiami$be', 'tmiami$bea', 'miami$beat', 'iami$beatm', 'ami$beatmi', 'mi$beatmia', 'i$beatmiam', '$beatmiami']\n"
     ]
    }
   ],
   "source": [
    "t=\"beatmiami$\"\n",
    "print [t[i:]+t[:i] for i in xrange(len(t))]"
   ]
  },
  {
   "cell_type": "markdown",
   "metadata": {
    "nbpresent": {
     "id": "ed13f0c3-7a82-4eb9-b615-56a3498bb8d6"
    },
    "slideshow": {
     "slide_type": "slide"
    }
   },
   "source": [
    "# BWT in Python\n",
    "\n",
    "* Straightforward implementation based on the definition (there are faster construction methods) "
   ]
  },
  {
   "cell_type": "code",
   "execution_count": 23,
   "metadata": {
    "nbpresent": {
     "id": "41b8a40b-ce6e-45ce-85ce-2839e4c0cd80"
    },
    "slideshow": {
     "slide_type": "fragment"
    }
   },
   "outputs": [
    {
     "name": "stdout",
     "output_type": "stream",
     "text": [
      "annb$aa\n",
      "amnnn$lcpmnapaaaaaaala\n",
      "nn$bnbaaaaa\n"
     ]
    }
   ],
   "source": [
    "def BWT(t):\n",
    "    # create a sorted list of all cyclic suffixes of t\n",
    "    rotation = sorted([t[i:]+t[:i] for i in xrange(len(t))])\n",
    "    # concatenate the last symbols from each suffix\n",
    "    return ''.join(r[-1] for r in rotation)\n",
    "\n",
    "print BWT(\"banana$\")\n",
    "print BWT(\"amanaplanacanalpanama$\")\n",
    "print BWT(\"abananaban$\")"
   ]
  },
  {
   "cell_type": "markdown",
   "metadata": {
    "nbpresent": {
     "id": "b4b29469-b811-4a9d-bfe9-f73dfa5b0369"
    },
    "slideshow": {
     "slide_type": "fragment"
    }
   },
   "source": [
    "<p style=\"text-align: right; clear: right;\">10</p>"
   ]
  },
  {
   "cell_type": "markdown",
   "metadata": {
    "nbpresent": {
     "id": "df88c344-53e3-480e-9de0-b2d030cf7d9e"
    },
    "slideshow": {
     "slide_type": "slide"
    }
   },
   "source": [
    "# BWT from a Suffix Array\n",
    "\n",
    "* It is even simpler to compute the BWT from a Suffix Array\n",
    "* Finds each suffix's \"predecessor\" symbol "
   ]
  },
  {
   "cell_type": "code",
   "execution_count": 24,
   "metadata": {
    "nbpresent": {
     "id": "08a56508-a258-4ce6-805c-a3931b0b8f08"
    },
    "slideshow": {
     "slide_type": "fragment"
    }
   },
   "outputs": [
    {
     "name": "stdout",
     "output_type": "stream",
     "text": [
      "beatmiami$$\n",
      "[10, 9, 6, 2, 0, 1, 8, 5, 7, 4, 3]\n",
      "$iie$bmmata\n"
     ]
    }
   ],
   "source": [
    "def BWTfromSuffixArray(text, suffixarray):\n",
    "    return ''.join(text[i-1] for i in suffixarray)\n",
    "    \n",
    "newt =  t+'$'\n",
    "sa = suffixArray(newt)\n",
    "print newt\n",
    "print sa\n",
    "print BWTfromSuffixArray(newt, sa)"
   ]
  },
  {
   "cell_type": "markdown",
   "metadata": {
    "nbpresent": {
     "id": "0fac356b-46b7-433c-9223-154b5a069327"
    },
    "slideshow": {
     "slide_type": "fragment"
    }
   },
   "source": [
    "<p style=\"text-align: right; clear: right;\">11</p>"
   ]
  },
  {
   "cell_type": "markdown",
   "metadata": {
    "nbpresent": {
     "id": "24b6dfe3-12d0-48bc-a083-79fc80b86b12"
    },
    "slideshow": {
     "slide_type": "slide"
    }
   },
   "source": [
    "# Inverting a BWT\n",
    "\n",
    "* A property of a transform is that there is no information loss-- they are invertible.\n",
    "\n",
    "Algorithm: <u>inverseBWT(bwt)</u>\n",
    "  1. Create a table of len(bwt) empty strings\n",
    "  2. repeat length(*bwt*) times:\n",
    "  3. &nbsp;&nbsp;&nbsp;&nbsp;prepend *bwt* as the first column of the table\n",
    "  4. &nbsp;&nbsp;&nbsp;&nbsp;sort rows of the table alphabetically\n",
    "  5. return (row of table with bwt's 'EOF' character)\n",
    "\n",
    "<pre>\n",
    "   <u>0</u>    <u>1</u>     <u>2</u>      <u>3</u>       <u>4</u>        <u>5</u>         <u>6</u>          <u>7</u>           <u>8</u>\n",
    "   l    l$    l$t    l$ta    l$tar    l$tarh    l$tarhe    l$tarhee    $tarheel\n",
    "   t    ta    tar    tarh    tarhe    tarhee    tarheel    tarheel$    arheel$t\n",
    "   h    he    hee    heel    heel$    heel$t    heel$ta    heel$tar    eel$tarh\n",
    "   e    ee    eel    eel$    eel$t    eel$ta    eel$tar    eel$tarh    el$tarhe\n",
    "   r    rh    rhe    rhee    rheel    rheel$    rheel$t    rheel$ta    heel$tar\n",
    "   e    el    el$    el$t    el$ta    el$tar    el$tarh    el$tarhe    l$tarhee\n",
    "   a    ar    arh    arhe    arhee    arheel    arheel$    arheel$t    rheel$ta\n",
    "   $    $t    $ta    $tar    $tarh    $tarhe    $tarhee    $tarheel    <span style=\"color:blue;\">tarheel&dollar;</span>\n",
    "</pre>\n",
    "\n",
    "* What else do you notice about the final table?\n",
    "\n",
    "<p style=\"text-align: right; clear: right;\">12</p>"
   ]
  },
  {
   "cell_type": "markdown",
   "metadata": {
    "nbpresent": {
     "id": "0b989236-bdcc-4533-8269-f467c927069d"
    },
    "slideshow": {
     "slide_type": "slide"
    }
   },
   "source": [
    "# Inverse BWT in Python"
   ]
  },
  {
   "cell_type": "code",
   "execution_count": 25,
   "metadata": {
    "nbpresent": {
     "id": "3809d347-0228-4560-8092-2196a95abe0a"
    },
    "slideshow": {
     "slide_type": "fragment"
    }
   },
   "outputs": [
    {
     "name": "stdout",
     "output_type": "stream",
     "text": [
      "tarheel$\n",
      "amanaplanacanalpanama$\n",
      "banana$\n",
      "abananaban$\n"
     ]
    }
   ],
   "source": [
    "def inverseBWT(bwt):\n",
    "    # initialize the table from t\n",
    "    table = ['' for c in bwt]\n",
    "    for j in xrange(len(bwt)):\n",
    "        #insert the BWT as the first column\n",
    "        table = sorted([c+table[i] for i, c in enumerate(bwt)])\n",
    "    #return the row that ends with ‘$’\n",
    "    return table[bwt.index('$')]\n",
    "\n",
    "print inverseBWT(\"ltherea$\")\n",
    "print inverseBWT(\"amnnn$lcpmnapaaaaaaala\")\n",
    "print inverseBWT(\"annb$aa\")\n",
    "print inverseBWT(\"nn$bnbaaaaa\")"
   ]
  },
  {
   "cell_type": "markdown",
   "metadata": {
    "nbpresent": {
     "id": "4d09299f-d8b0-43cd-9831-73f6e39308aa"
    },
    "slideshow": {
     "slide_type": "fragment"
    }
   },
   "source": [
    "<p style=\"text-align: right; clear: right;\">13</p>"
   ]
  },
  {
   "cell_type": "markdown",
   "metadata": {
    "nbpresent": {
     "id": "a13c86da-5868-43fa-a964-f0e62276cee8"
    },
    "slideshow": {
     "slide_type": "slide"
    }
   },
   "source": [
    "# BWT Compression\n",
    "\n",
    "<img src=\"http://csbio.unc.edu/mcmillan/Comp555S18/Media/L22BWTCompression.png\" style=\"float: right;\">\n",
    "* Uncompressed the BWT(text) is same length as original text\n",
    "* But, it has a tendancy to form long runs of repeated symbols\n",
    "* Why does it form runs?\n",
    "* All suffixes of repeated substrings sort together and share predecessors\n",
    "\n",
    "\n",
    "* Somewhere further down the BWT there is a series of suffixes starting with *u's* that have *o's* as predecessors\n",
    "* Redundancy leads to compression\n",
    "\n",
    "<p style=\"text-align: right; clear: right;\">14</p>"
   ]
  },
  {
   "cell_type": "markdown",
   "metadata": {
    "nbpresent": {
     "id": "1ee6ca4f-1248-49c3-8426-bc5e1d99d12b"
    },
    "slideshow": {
     "slide_type": "slide"
    }
   },
   "source": [
    "# What do BWTs have to do with searching strings? \n",
    "\n",
    "<img src=\"http://csbio.unc.edu/mcmillan/Comp555S18/Media/L22HiddenMessage.gif\" style=\"float: right; margin: 10px 50px 10px 50px;\">\n",
    "* There is close relationship between BWTs and Suffix Arrays\n",
    "* We can construct a suffix array from a BWT as we saw with InverseBWT(bwt)\n",
    "* Is there a way to access this ***hidden suffix array*** for pattern searching?\n",
    "\n",
    "\n",
    "* In 2005 two researchers, Ferragina & Manzini, figured out how\n",
    "* First, an important property they uncovered\n",
    "\n",
    "<p style=\"text-align: right; clear: right;\">15</p>"
   ]
  },
  {
   "cell_type": "markdown",
   "metadata": {
    "nbpresent": {
     "id": "ab968431-e1c7-464f-922d-e4ef87590eee"
    },
    "slideshow": {
     "slide_type": "slide"
    }
   },
   "source": [
    "# Last-First (LF) mapping property\n",
    "\n",
    "* The BWT transforms \"$banana\\$$\" to \"$annb\\$aa$\"\n",
    "* The predecessor symbols of a suffix array preserve the relative suffix order \n",
    "* The $j^{th}$ occurance of a symbol in the BWT corresponds to its $j^{th}$ occurance in the suffix array\n",
    "\n",
    "<pre style=\"font-weight: bolder; font-size: 120%;\">\n",
    "          <span style=\"color:#00c0c0;\">&dollar;</span>banan<span style=\"color:#c00000;\">a</span>\n",
    "          <span style=\"color:#c00000;\">a</span>&dollar;bana<span style=\"color:#c08000;\">n</span>\n",
    "          <span style=\"color:#0000c0;\">a</span>na&dollar;ba<span style=\"color:#c0c000;\">n</span>\n",
    "          <span style=\"color:#c000c0;\">a</span>nana&dollar;<span style=\"color:#00c000;\">b</span>\n",
    "          <span style=\"color:#00c000;\">b</span>anana<span style=\"color:#00c0c0;\">&dollar;</span>\n",
    "          <span style=\"color:#c08000;\">n</span>a&dollar;ban<span style=\"color:#0000c0;\">a</span>\n",
    "          <span style=\"color:#c0c000;\">n</span>ana&dollar;b<span style=\"color:#c000c0;\">a</span>\n",
    "</pre>\n",
    "\n",
    "* This property allows one two traverse the suffix array indirectly\n",
    "    - ex: The 1st \"a\" of the bwt is also the first \"a\" of the suffix array, and its predecessor is the 1st \"n\", whose predecessor is the 2nd \"a\", whose predecessor is the 2nd \"n\", and so on\n",
    "* Meanwhile, the number of character occurences in the BWT matches the suffix array (recall it is a permutation)\n",
    "<p style=\"text-align: right; clear: right;\">16</p>"
   ]
  },
  {
   "cell_type": "markdown",
   "metadata": {
    "nbpresent": {
     "id": "01e08103-1afa-4e44-a3c5-31beab7f9afe"
    },
    "slideshow": {
     "slide_type": "slide"
    }
   },
   "source": [
    "# The FM-index\n",
    "<img src=\"http://csbio.unc.edu/mcmillan/Comp555S18/Media/L22FMIndex.png\" style=\"float: right; margin: 10px 50px;\">\n",
    "* The FM-index is another *helper* data structure like the *LCP array* mentioned previously\n",
    "* It is a 2D array whose size is $[|text|+1, |\\Sigma|]$, where $|\\Sigma|$ is the alphabet size\n",
    "* It keeps track of how many of each symbol have been seen in the BWT prior to its $i^{th}$ symbol\n",
    "* The last *m* row is the totals for each symbol. By accumulating these totals you can determine the BWT index corresponding to the first of each symbol in the suffix array (Offset).\n",
    "* Can be generated by a single scan through the BWT\n",
    "* Memory overhead $O(m|\\Sigma|)$\n",
    "\n",
    "<p style=\"text-align: right; clear: right;\">17</p>"
   ]
  },
  {
   "cell_type": "markdown",
   "metadata": {
    "nbpresent": {
     "id": "1255eea4-0353-4cef-970f-5860814d29df"
    },
    "slideshow": {
     "slide_type": "slide"
    }
   },
   "source": [
    "# Python for constructing FM-index"
   ]
  },
  {
   "cell_type": "code",
   "execution_count": 26,
   "metadata": {
    "nbpresent": {
     "id": "aca76405-3a18-491b-8fcb-13fbcaf8d142"
    },
    "slideshow": {
     "slide_type": "fragment"
    }
   },
   "outputs": [
    {
     "name": "stdout",
     "output_type": "stream",
     "text": [
      "BWT  $, a, b, n\n",
      " a:  0, 0, 0, 0\n",
      " n:  0, 1, 0, 0\n",
      " n:  0, 1, 0, 1\n",
      " b:  0, 1, 0, 2\n",
      " $:  0, 1, 1, 2\n",
      " a:  1, 1, 1, 2\n",
      " a:  1, 2, 1, 2\n",
      "     1, 3, 1, 2\n",
      "[('$', 0), ('a', 1), ('b', 4), ('n', 5)]\n"
     ]
    }
   ],
   "source": [
    "def FMIndex(bwt):\n",
    "    fm = [{c: 0 for c in bwt}]\n",
    "    for c in bwt:\n",
    "        row = {symbol: count + 1 if (symbol == c) else count for symbol, count in fm[-1].iteritems()}\n",
    "        fm.append(row)\n",
    "    offset = {}\n",
    "    N = 0\n",
    "    for symbol in sorted(row.keys()):\n",
    "        offset[symbol] = N\n",
    "        N += row[symbol]\n",
    "    return fm, offset\n",
    "\n",
    "bwt = \"annb$aa\"\n",
    "FM, Offset = FMIndex(bwt)\n",
    "print \"BWT %2s,%2s,%2s,%2s\" % tuple([symbol for symbol in sorted(Offset.keys())])\n",
    "for i, row in enumerate(FM):\n",
    "    print \"%3s %2d,%2d,%2d,%2d\" % tuple([bwt[i]+':' if i < len(bwt) else '']+[row[symbol] for symbol in sorted(row.keys())])\n",
    "print [(sym, Offset[sym]) for sym in sorted(Offset.iterkeys())]"
   ]
  },
  {
   "cell_type": "markdown",
   "metadata": {
    "nbpresent": {
     "id": "4e5e0ed4-b84a-470b-bfe7-8e039fe4dc8a"
    },
    "slideshow": {
     "slide_type": "fragment"
    }
   },
   "source": [
    "<p style=\"text-align: right; clear: right;\">18</p>"
   ]
  },
  {
   "cell_type": "markdown",
   "metadata": {
    "nbpresent": {
     "id": "e26a94d4-4f8b-4447-80f0-8b228b124d09"
    },
    "slideshow": {
     "slide_type": "slide"
    }
   },
   "source": [
    "# Find a Suffix's Predecessor\n",
    "\n",
    "<img src=\"http://csbio.unc.edu/mcmillan/Comp555S18/Media/L22FMIndex.png\" style=\"float: right;\">\n",
    "* Given an index *i* in the BWT, find the index in the BWT of the suffix preceding the suffix represented by *i*\n",
    "* Suffix 5 is preceded by suffix 2\n",
    "* Suffix 2 is preceded by suffix 6\n",
    "* Suffix 6 is preceded by suffix 3\n",
    "* The predecessor suffix of index i:\n",
    "``` python\n",
    "        c = BWT[i]\n",
    "        predec = Offset[c] + FMIndex[i][c]\n",
    "```\n",
    "\n",
    "* Predecessor of index 1\n",
    "``` python\n",
    "        c = BWT[1]                           # 'n'\n",
    "        predec = O['n'] + FMIndex[1]['n']    # 5+0 = 5\n",
    "```\n",
    "* Predecessor of index 5\n",
    "``` python\n",
    "        c = BWT[5]                           # 'a'\n",
    "        predec = O['a'] + FMindex[5]['a']    # 1+1 = 2\n",
    "```\n",
    "* Time to find predecessor: O(1)\n",
    "\n",
    "<p style=\"text-align: right; clear: right;\">19</p>"
   ]
  },
  {
   "cell_type": "markdown",
   "metadata": {
    "nbpresent": {
     "id": "76130e5a-88c3-4b3b-a23b-fb181cad73a5"
    },
    "slideshow": {
     "slide_type": "slide"
    }
   },
   "source": [
    "# Suffix Recovery\n",
    "\n",
    "* What is the suffix array entry corresponding to BWT index *i*?\n",
    "   - Start at *i* and repeatedly find predecessors until *i* is reached again\n",
    "\n",
    "* To find the *original* string, just start with *i = 0*, the '$' index"
   ]
  },
  {
   "cell_type": "code",
   "execution_count": 27,
   "metadata": {
    "nbpresent": {
     "id": "36d337ee-4708-474e-b277-7437d9141c3b"
    },
    "slideshow": {
     "slide_type": "fragment"
    }
   },
   "outputs": [
    {
     "name": "stdout",
     "output_type": "stream",
     "text": [
      "0 $banana\n",
      "1 a$banan\n",
      "2 ana$ban\n",
      "3 anana$b\n",
      "4 banana$\n",
      "5 na$bana\n",
      "6 nana$ba\n"
     ]
    }
   ],
   "source": [
    "def recoverSuffix(i, BWT, FMIndex, Offset):\n",
    "    suffix = ''\n",
    "    c = BWT[i]\n",
    "    predec = Offset[c] + FMIndex[i][c]\n",
    "    suffix = c + suffix\n",
    "    while (predec != i):\n",
    "        c = BWT[predec]\n",
    "        predec = Offset[c] + FMIndex[predec][c]\n",
    "        suffix = c + suffix\n",
    "    return suffix\n",
    "\n",
    "# recall that the FM-index that we built was \"annb$aa\", the BWT of \"banana$\"\n",
    "for i in xrange(len(bwt)):\n",
    "    print i, recoverSuffix(i, bwt, FM, Offset)"
   ]
  },
  {
   "cell_type": "markdown",
   "metadata": {
    "nbpresent": {
     "id": "227a3171-d98b-405d-9c5d-c53f229ab0bc"
    },
    "slideshow": {
     "slide_type": "fragment"
    }
   },
   "source": [
    "<p style=\"text-align: right; clear: right;\">20</p>"
   ]
  },
  {
   "cell_type": "markdown",
   "metadata": {
    "nbpresent": {
     "id": "17df7da0-0af7-490c-a953-0172af36c215"
    },
    "slideshow": {
     "slide_type": "slide"
    }
   },
   "source": [
    "# Finding Substrings\n",
    "\n",
    "<img src=\"http://csbio.unc.edu/mcmillan/Comp555S18/Media/L22FMIndex.png\" style=\"float: right;\">\n",
    "* Searches are performed in reverse order\n",
    "* Searches return an interval of the suffix array that starts with the desired substring\n",
    "    - Finds all occurences of target\n",
    "    - If there are no occurences it finds an empty interval\n",
    "* Starts with full BWT range (0, N)\n",
    "* Narrows the range one symbol at a time\n",
    "* To find substring \"nana\"\n",
    "``` python\n",
    "    # Initialize to full range of suffix array\n",
    "    lo, hi = 0, len(BWT)                      # len(BWT) = 7\n",
    "    # Find occurrences of \"a\"\n",
    "    lo = Offset['a'] + FMIndex[lo]['a']       # lo = 1 + 0 = 1\n",
    "    hi = Offset['a'] + FMIndex[hi]['a']       # hi = 1 + 3 = 4\n",
    "    # Find occurrences of \"na\"\n",
    "    lo = Offset['n'] + FMIndex[lo]['n']       # lo = 5 + 0 = 5\n",
    "    hi = Offset['n'] + FMIndex[hi]['n']       # hi = 5 + 2 = 7\n",
    "    # Find occurrences of \"ana\"\n",
    "    lo = Offset['a'] + FMIndex[lo]['a']       # lo = 1 + 1 = 2\n",
    "    hi = Offset['a'] + FMIndex[hi]['a']       # hi = 1 + 3 = 4\n",
    "    # Find occurrences of \"nana\"\n",
    "    lo = Offset['n'] + FMIndex[lo]['n']       # lo = 5 + 1 = 6\n",
    "    hi = Offset['n'] + FMIndex[hi]['n']       # hi = 5 + 2 = 7\n",
    "```\n",
    "<p style=\"text-align: right; clear: right;\">21</p>"
   ]
  },
  {
   "cell_type": "markdown",
   "metadata": {
    "nbpresent": {
     "id": "84e6b2fa-11de-4d9b-ae6d-46b6d83f6da7"
    },
    "slideshow": {
     "slide_type": "slide"
    }
   },
   "source": [
    "# In Python\n",
    "\n",
    "* One of the simplest methods we've seen for searching"
   ]
  },
  {
   "cell_type": "code",
   "execution_count": 28,
   "metadata": {
    "nbpresent": {
     "id": "6590e8ec-0d7a-4c93-a0bb-5dede02eeae2"
    },
    "slideshow": {
     "slide_type": "fragment"
    }
   },
   "outputs": [
    {
     "name": "stdout",
     "output_type": "stream",
     "text": [
      "(2, 4)\n",
      "(4, 5)\n",
      "(4, 4)\n"
     ]
    }
   ],
   "source": [
    "def findBWT(pattern, FMIndex, Offset):\n",
    "    lo = 0\n",
    "    hi = len(FMIndex) - 1\n",
    "    for symbol in reversed(pattern):\n",
    "        lo = Offset[symbol] + FMIndex[lo][symbol]\n",
    "        hi = Offset[symbol] + FMIndex[hi][symbol]\n",
    "    return lo, hi\n",
    "\n",
    "print findBWT(\"ana\", FM, Offset)\n",
    "print findBWT(\"ban\", FM, Offset)\n",
    "print findBWT(\"ann\", FM, Offset)"
   ]
  },
  {
   "cell_type": "markdown",
   "metadata": {
    "nbpresent": {
     "id": "a4a05509-2a69-49a9-a48f-1d93d1b41bab"
    },
    "slideshow": {
     "slide_type": "fragment"
    }
   },
   "source": [
    "<p style=\"text-align: right; clear: right;\">22</p>"
   ]
  },
  {
   "cell_type": "markdown",
   "metadata": {
    "nbpresent": {
     "id": "c38e8e59-d166-4737-8c67-1f8dc95a9af0"
    },
    "slideshow": {
     "slide_type": "slide"
    }
   },
   "source": [
    "# BWT score card\n",
    "\n",
    "|     Method    | Storage    | Single Search | Multi Search |\n",
    "|:-------------:|:----------:|:-------------:|:------------:|\n",
    "|  Brute Force  | O(m)       | O(nm)         | O(p n m)     |\n",
    "| Keyword Tries | O(pn)      | O(nm)         | O(p m)       |\n",
    "| Suffix Trees  | O(m)&ast;  | O(n)          | O(p n)       |\n",
    "| Suffix Arrays | O(m log(m))| O(n log(m))   | O(p n log(m))|\n",
    "|     BWT       | O(m)&dagger; | O(n)          | O(p n)       |\n",
    "\n",
    "Where:\n",
    "* *m* is the length of the text to be searched\n",
    "* *n* is the length of the pattern (maximum length if more than 1)\n",
    "* *p* is the number of patterns\n",
    "\n",
    "&ast; With large constants, however<br>&dagger; Usually significantly smaller than *m*\n",
    "<p style=\"text-align: right; clear: right;\">23</p>"
   ]
  },
  {
   "cell_type": "markdown",
   "metadata": {
    "nbpresent": {
     "id": "fbdfa081-3500-4aef-a32e-2cf3f9526785"
    },
    "slideshow": {
     "slide_type": "slide"
    }
   },
   "source": [
    "# BWT Gotchas\n",
    "\n",
    "<img src=\"http://csbio.unc.edu/mcmillan/Comp555S18/Media/L22SampledFMIndex.png\" style=\"float: right;\">\n",
    "* While the BWT itself is small, its FM-index can be large\n",
    "* A full FM-index requires *O(|&Sigma;| m)* space\n",
    "* But it can be sampled with minimal performance impact\n",
    "    - rather than store the FM-index for all indices store only 1 in F\n",
    "    - when accessing find the closest smaller instantiated index<br> and use the BWT to fill in the requested missing values\n",
    "* Example with F = 3\n",
    "    - when FMIndex[5]['b'] is accessed\n",
    "    - retrive FMIndex[3]['b'] = 0\n",
    "    - scan BWT from [3:5] counting 'b's (1) and adding them to the count at FMIndex[3]\n",
    "    - return the count = 1\n",
    "* In practice F values as large as 1000 have little performance impact\n",
    "    - Why? BWT is small and tends to stay in cache\n",
    "    - BWT is compressed so scanning through 1000 characters involves fewer reads \n",
    "\n",
    "* To have all the capabilities of a Suffix Tree, a BWT needs an LCP array\n",
    "<p style=\"text-align: right; clear: right;\">24</p>"
   ]
  },
  {
   "cell_type": "markdown",
   "metadata": {
    "nbpresent": {
     "id": "0b209ae7-f055-4f40-8ff8-e6629a04611e"
    },
    "slideshow": {
     "slide_type": "slide"
    }
   },
   "source": [
    "# Real-World uses of BWTs\n",
    "\n",
    "<img src=\"http://csbio.unc.edu/mcmillan/Comp555S18/Media/L22BWTAligner.png\" style=\"float: right;\">\n",
    "BWTs are the dominant representation and method used for ***Sequence Alignment***\n",
    "\n",
    "* <u>Sequence-Alignment Problem:</u> Given a collection of short nucleotide fragments (either DNA or RNA) find the best approximate alignment for each read in a reference genome\n",
    "* Bowtie2 (2012) and BWA (2009) are the dominant aligners\n",
    "* As a preprocess a BWT of the reference genome is built (&approx; 1-3 GB)\n",
    "* Alignment:\n",
    "    * given a *read* from a sequenced fragment (72-150 base pairs typically)\n",
    "    * cut the read into smaller seeds (25-31 base pairs typically)\n",
    "    * Search for an exact match to each using the BWT\n",
    "    * Use local alignment (dynamic program) to match the remaining bases\n",
    "<p style=\"text-align: right; clear: right;\">25</p>"
   ]
  },
  {
   "cell_type": "markdown",
   "metadata": {
    "nbpresent": {
     "id": "75209b71-a1cb-49f7-8574-d6a3cfd491a2"
    },
    "slideshow": {
     "slide_type": "slide"
    }
   },
   "source": [
    "# Next Time\n",
    "\n",
    "### We go deeper down the BWT rabbit hole\n",
    "<img src=\"http://csbio.unc.edu/mcmillan/Comp555S18/Media/L22RabbitHole.jpg\" width=\"640px\">\n",
    "<p style=\"text-align: right; clear: right;\">26</p>"
   ]
  },
  {
   "cell_type": "code",
   "execution_count": 35,
   "metadata": {},
   "outputs": [
    {
     "name": "stdout",
     "output_type": "stream",
     "text": [
      "imissmissmississippiskiss$\n",
      "s$spksmmmsssipisssissiiiii\n",
      "imissmissmississippiskiss$\n",
      "\n",
      " 0 $imissmissmississippiskiss\n",
      " 1 imissmissmississippiskiss$\n",
      " 2 ippiskiss$imissmissmississ\n",
      " 3 iskiss$imissmissmississipp\n",
      " 4 iss$imissmissmississippisk\n",
      " 5 issippiskiss$imissmissmiss\n",
      " 6 ississippiskiss$imissmissm\n",
      " 7 issmississippiskiss$imissm\n",
      " 8 issmissmississippiskiss$im\n",
      " 9 kiss$imissmissmississippis\n",
      "10 mississippiskiss$imissmiss\n",
      "11 missmississippiskiss$imiss\n",
      "12 missmissmississippiskiss$i\n",
      "13 piskiss$imissmissmississip\n",
      "14 ppiskiss$imissmissmississi\n",
      "15 s$imissmissmississippiskis\n",
      "16 sippiskiss$imissmissmissis\n",
      "17 sissippiskiss$imissmissmis\n",
      "18 skiss$imissmissmississippi\n",
      "19 smississippiskiss$imissmis\n",
      "20 smissmississippiskiss$imis\n",
      "21 ss$imissmissmississippiski\n",
      "22 ssippiskiss$imissmissmissi\n",
      "23 ssissippiskiss$imissmissmi\n",
      "24 ssmississippiskiss$imissmi\n",
      "25 ssmissmississippiskiss$imi\n",
      "\n",
      "(4, 9)\n",
      "(22, 24)\n"
     ]
    }
   ],
   "source": [
    "text = \"imissmissmississippiskiss$\"\n",
    "bwt = BWT(text)\n",
    "print text\n",
    "print bwt\n",
    "print inverseBWT(bwt)\n",
    "print\n",
    "FM, Offset = FMIndex(bwt)\n",
    "\n",
    "for i in xrange(len(bwt)):\n",
    "    print \"%2d %s\" % (i, recoverSuffix(i, bwt, FM, Offset))\n",
    "\n",
    "print\n",
    "print findBWT(\"iss\", FM, Offset)\n",
    "print findBWT(\"ssi\", FM, Offset)"
   ]
  },
  {
   "cell_type": "code",
   "execution_count": null,
   "metadata": {
    "collapsed": true
   },
   "outputs": [],
   "source": []
  }
 ],
 "metadata": {
  "anaconda-cloud": {},
  "kernelspec": {
   "display_name": "Python 2",
   "language": "python",
   "name": "python2"
  },
  "language_info": {
   "codemirror_mode": {
    "name": "ipython",
    "version": 2
   },
   "file_extension": ".py",
   "mimetype": "text/x-python",
   "name": "python",
   "nbconvert_exporter": "python",
   "pygments_lexer": "ipython2",
   "version": "2.7.14"
  },
  "nbpresent": {
   "slides": {
    "052d1d93-ec4e-460e-85b7-8e5ebb479d00": {
     "id": "052d1d93-ec4e-460e-85b7-8e5ebb479d00",
     "prev": "d5429aae-59f7-4ed3-8ae8-9b4563eb07d9",
     "regions": {
      "eb0bf062-bc25-4f1f-bcb6-e55737cf0d7b": {
       "attrs": {
        "height": 0.96,
        "width": 0.96,
        "x": 0.02,
        "y": 0.02
       },
       "content": {
        "cell": "3190f231-cba7-4b13-ac28-3f729688906f",
        "part": "whole"
       },
       "id": "eb0bf062-bc25-4f1f-bcb6-e55737cf0d7b"
      }
     }
    },
    "08c5671a-c62d-4bcd-a025-a978b9ad3708": {
     "id": "08c5671a-c62d-4bcd-a025-a978b9ad3708",
     "prev": "c88ac333-a2d0-4200-8429-82229f6a3a54",
     "regions": {
      "9189c64a-eea0-4cf6-9490-1e8b9843089c": {
       "attrs": {
        "height": 0.96,
        "width": 0.96,
        "x": 0.02,
        "y": 0.02
       },
       "content": {
        "cell": "75209b71-a1cb-49f7-8574-d6a3cfd491a2",
        "part": "whole"
       },
       "id": "9189c64a-eea0-4cf6-9490-1e8b9843089c"
      }
     }
    },
    "23c7c6b4-e55b-4720-aa4b-b53be446c990": {
     "id": "23c7c6b4-e55b-4720-aa4b-b53be446c990",
     "prev": "32a1c755-8930-4591-9dfd-064977f6dfe0",
     "regions": {
      "a0e32bcf-517d-48bc-9fa1-743f27dbfaf9": {
       "attrs": {
        "height": 0.19619890109758356,
        "width": 0.96,
        "x": 0.02,
        "y": 0.02
       },
       "content": {
        "cell": "1df9dab8-8a60-451e-845b-6531b6e02146",
        "part": "whole"
       },
       "id": "a0e32bcf-517d-48bc-9fa1-743f27dbfaf9"
      },
      "de8b49e6-b788-4ab2-b41e-7729ef14f987": {
       "attrs": {
        "height": 0.07982671889858929,
        "width": 0.96,
        "x": 0.02,
        "y": 0.9001732811014107
       },
       "content": {
        "cell": "f6682a5b-ce51-48b1-a2b8-184bcd5820fe",
        "part": "whole"
       },
       "id": "de8b49e6-b788-4ab2-b41e-7729ef14f987"
      },
      "f36f104e-b51a-48ea-b6fe-13481a19bd1c": {
       "attrs": {
        "height": 0.7614003755093032,
        "width": 0.96,
        "x": 0.02,
        "y": 0.21859962449069678
       },
       "content": {
        "cell": "8de1a25b-0a6d-41f4-912b-3a8171605e1e",
        "part": "whole"
       },
       "id": "f36f104e-b51a-48ea-b6fe-13481a19bd1c"
      }
     }
    },
    "256d51d7-4124-4914-9352-2b2c6dce7412": {
     "id": "256d51d7-4124-4914-9352-2b2c6dce7412",
     "prev": "f6da8aca-14dd-4f3c-bd57-732f5fd844c3",
     "regions": {
      "098763ff-0ada-4c55-a2cf-438a99234c2e": {
       "attrs": {
        "height": 0.08165399415476012,
        "width": 0.96,
        "x": 0.02,
        "y": 0.8983460058452398
       },
       "content": {
        "cell": "a4a05509-2a69-49a9-a48f-1d93d1b41bab",
        "part": "whole"
       },
       "id": "098763ff-0ada-4c55-a2cf-438a99234c2e"
      },
      "cbd0897f-6aeb-4f65-bc05-698d8d2bd905": {
       "attrs": {
        "height": 0.24370807169902883,
        "width": 0.96,
        "x": 0.02,
        "y": 0.02
       },
       "content": {
        "cell": "84e6b2fa-11de-4d9b-ae6d-46b6d83f6da7",
        "part": "whole"
       },
       "id": "cbd0897f-6aeb-4f65-bc05-698d8d2bd905"
      },
      "d4b4b002-96f3-4983-89cc-cb51069c77da": {
       "attrs": {
        "height": 0.7193730864403858,
        "width": 0.96,
        "x": 0.02,
        "y": 0.26062691355961426
       },
       "content": {
        "cell": "6590e8ec-0d7a-4c93-a0bb-5dede02eeae2",
        "part": "whole"
       },
       "id": "d4b4b002-96f3-4983-89cc-cb51069c77da"
      }
     }
    },
    "32a1c755-8930-4591-9dfd-064977f6dfe0": {
     "id": "32a1c755-8930-4591-9dfd-064977f6dfe0",
     "prev": "a5f60d54-85fc-4495-a372-a68cb7f3014a",
     "regions": {
      "473e4d6e-79b4-4320-b83c-571fb75b6df7": {
       "attrs": {
        "height": 0.96,
        "width": 0.96,
        "x": 0.02,
        "y": 0.02
       },
       "content": {
        "cell": "3b52d809-ec55-46f0-9123-4f13430eeecc",
        "part": "whole"
       },
       "id": "473e4d6e-79b4-4320-b83c-571fb75b6df7"
      }
     }
    },
    "39eef995-0af6-46fe-8fe2-07b132cd05fa": {
     "id": "39eef995-0af6-46fe-8fe2-07b132cd05fa",
     "prev": "bf868340-f7e9-409d-b26b-2abadd74590d",
     "regions": {
      "217bfe70-b0c9-4f9a-a400-428717482fee": {
       "attrs": {
        "height": 0.31131725617734934,
        "width": 0.96,
        "x": 0.02,
        "y": 0.02
       },
       "content": {
        "cell": "76130e5a-88c3-4b3b-a23b-fb181cad73a5",
        "part": "whole"
       },
       "id": "217bfe70-b0c9-4f9a-a400-428717482fee"
      },
      "6f22c185-84a7-42e2-a7e5-72839ded718d": {
       "attrs": {
        "height": 0.6499366267058944,
        "width": 0.96,
        "x": 0.02,
        "y": 0.33006337329410557
       },
       "content": {
        "cell": "36d337ee-4708-474e-b277-7437d9141c3b",
        "part": "whole"
       },
       "id": "6f22c185-84a7-42e2-a7e5-72839ded718d"
      },
      "f49308d7-5752-4c47-b549-50fd5fb401e2": {
       "attrs": {
        "height": 0.08896309517944342,
        "width": 0.96,
        "x": 0.02,
        "y": 0.8910369048205565
       },
       "content": {
        "cell": "227a3171-d98b-405d-9c5d-c53f229ab0bc",
        "part": "whole"
       },
       "id": "f49308d7-5752-4c47-b549-50fd5fb401e2"
      }
     }
    },
    "3f844a93-84e9-4253-a54e-e6b3f1a170d6": {
     "id": "3f844a93-84e9-4253-a54e-e6b3f1a170d6",
     "prev": "90b6aac5-2349-49fc-9e8e-6dac2bdf5148",
     "regions": {
      "9670ae23-8bb1-4f72-95e3-61e3d910dc61": {
       "attrs": {
        "height": 0.96,
        "width": 0.96,
        "x": 0.02,
        "y": 0.02
       },
       "content": {
        "cell": "01e08103-1afa-4e44-a3c5-31beab7f9afe",
        "part": "whole"
       },
       "id": "9670ae23-8bb1-4f72-95e3-61e3d910dc61"
      }
     }
    },
    "4c1368e8-1836-4870-a1a8-6dec702ec625": {
     "id": "4c1368e8-1836-4870-a1a8-6dec702ec625",
     "prev": "655e9302-e09b-4746-bc6b-47e0aa1dedaa",
     "regions": {
      "f33cf9f5-eb00-464c-941c-ef64c73f6113": {
       "attrs": {
        "height": 0.96,
        "width": 0.96,
        "x": 0.02,
        "y": 0.02
       },
       "content": {
        "cell": "1ee6ca4f-1248-49c3-8426-bc5e1d99d12b",
        "part": "whole"
       },
       "id": "f33cf9f5-eb00-464c-941c-ef64c73f6113"
      }
     }
    },
    "51b4b72c-5112-4b5f-9627-b79cb2c22c91": {
     "id": "51b4b72c-5112-4b5f-9627-b79cb2c22c91",
     "prev": "3f844a93-84e9-4253-a54e-e6b3f1a170d6",
     "regions": {
      "2aedfa8a-8ce5-40ae-b9d1-a2d66c461062": {
       "attrs": {
        "height": 0.1541715980876623,
        "width": 0.96,
        "x": 0.02,
        "y": 0.02
       },
       "content": {
        "cell": "1255eea4-0353-4cef-970f-5860814d29df",
        "part": "whole"
       },
       "id": "2aedfa8a-8ce5-40ae-b9d1-a2d66c461062"
      },
      "72403a59-c521-4923-a5d3-a25aa4db45c6": {
       "attrs": {
        "height": 0.08896309517944342,
        "width": 0.96,
        "x": 0.02,
        "y": 0.8910369048205565
       },
       "content": {
        "cell": "4e5e0ed4-b84a-470b-bfe7-8e039fe4dc8a",
        "part": "whole"
       },
       "id": "72403a59-c521-4923-a5d3-a25aa4db45c6"
      },
      "7610e24d-42ac-43a5-b328-a30e38bc2355": {
       "attrs": {
        "height": 0.8034277342832399,
        "width": 0.96,
        "x": 0.02,
        "y": 0.17657226571676013
       },
       "content": {
        "cell": "aca76405-3a18-491b-8fcb-13fbcaf8d142",
        "part": "whole"
       },
       "id": "7610e24d-42ac-43a5-b328-a30e38bc2355"
      }
     }
    },
    "57495017-b850-4e66-85f3-95ff8dee6e2f": {
     "id": "57495017-b850-4e66-85f3-95ff8dee6e2f",
     "prev": "78e8a711-7d6c-471c-ad9a-84a3c4b212c9",
     "regions": {
      "2881a3c7-4a1f-4951-be7a-c5bfb7253c2f": {
       "attrs": {
        "height": 0.6645548008732532,
        "width": 0.96,
        "x": 0.02,
        "y": 0.3154451991267467
       },
       "content": {
        "cell": "08a56508-a258-4ce6-805c-a3931b0b8f08",
        "part": "whole"
       },
       "id": "2881a3c7-4a1f-4951-be7a-c5bfb7253c2f"
      },
      "80707431-532c-4d8a-879f-a57ce7487dae": {
       "attrs": {
        "height": 0.07434489313007682,
        "width": 0.96,
        "x": 0.02,
        "y": 0.9056551068699231
       },
       "content": {
        "cell": "0fac356b-46b7-433c-9223-154b5a069327",
        "part": "whole"
       },
       "id": "80707431-532c-4d8a-879f-a57ce7487dae"
      },
      "e088d9d7-ba96-41f1-9b04-7f44a359003e": {
       "attrs": {
        "height": 0.2948717509898042,
        "width": 0.96,
        "x": 0.02,
        "y": 0.02
       },
       "content": {
        "cell": "df88c344-53e3-480e-9de0-b2d030cf7d9e",
        "part": "whole"
       },
       "id": "e088d9d7-ba96-41f1-9b04-7f44a359003e"
      }
     }
    },
    "5b59bae7-1409-4504-b71b-39a2b4c458a1": {
     "id": "5b59bae7-1409-4504-b71b-39a2b4c458a1",
     "prev": "ae7d3783-e7f1-48ed-84ed-2a9fcb1da92d",
     "regions": {
      "23a022f6-8d4f-4b63-bd94-f2d18d098f23": {
       "attrs": {
        "height": 0.836318661012307,
        "width": 0.96,
        "x": 0.02,
        "y": 0.14368133898769297
       },
       "content": {
        "cell": "3809d347-0228-4560-8092-2196a95abe0a",
        "part": "whole"
       },
       "id": "23a022f6-8d4f-4b63-bd94-f2d18d098f23"
      },
      "386b946b-3dc2-4ca9-9ebe-5a554a224b13": {
       "attrs": {
        "height": 0.07799944364241847,
        "width": 0.96,
        "x": 0.02,
        "y": 0.9020005563575815
       },
       "content": {
        "cell": "4d09299f-d8b0-43cd-9831-73f6e39308aa",
        "part": "whole"
       },
       "id": "386b946b-3dc2-4ca9-9ebe-5a554a224b13"
      },
      "7eac90cb-b8cc-4d56-b399-ea3d0a3a08d3": {
       "attrs": {
        "height": 0.11945334033840894,
        "width": 0.96,
        "x": 0.02,
        "y": 0.02
       },
       "content": {
        "cell": "0b989236-bdcc-4533-8269-f467c927069d",
        "part": "whole"
       },
       "id": "7eac90cb-b8cc-4d56-b399-ea3d0a3a08d3"
      }
     }
    },
    "655e9302-e09b-4746-bc6b-47e0aa1dedaa": {
     "id": "655e9302-e09b-4746-bc6b-47e0aa1dedaa",
     "prev": "5b59bae7-1409-4504-b71b-39a2b4c458a1",
     "regions": {
      "60431e1f-bbf7-4d8c-9ea0-dfd258a9ec74": {
       "attrs": {
        "height": 0.96,
        "width": 0.96,
        "x": 0.02,
        "y": 0.02
       },
       "content": {
        "cell": "a13c86da-5868-43fa-a964-f0e62276cee8",
        "part": "whole"
       },
       "id": "60431e1f-bbf7-4d8c-9ea0-dfd258a9ec74"
      }
     }
    },
    "69e7ece8-a533-4f36-a0a3-bc00d8e95194": {
     "id": "69e7ece8-a533-4f36-a0a3-bc00d8e95194",
     "prev": "d802abf3-1a11-4607-adff-407ec102a6c6",
     "regions": {
      "8e47685c-a706-4d9c-bbb8-b9b115bebc12": {
       "attrs": {
        "height": 0.96,
        "width": 0.96,
        "x": 0.02,
        "y": 0.02
       },
       "content": {
        "cell": "f39b88e7-2908-48f0-b07b-b8f9f07bd1b4",
        "part": "whole"
       },
       "id": "8e47685c-a706-4d9c-bbb8-b9b115bebc12"
      }
     }
    },
    "78e8a711-7d6c-471c-ad9a-84a3c4b212c9": {
     "id": "78e8a711-7d6c-471c-ad9a-84a3c4b212c9",
     "prev": "052d1d93-ec4e-460e-85b7-8e5ebb479d00",
     "regions": {
      "3318ec32-f05c-422b-a195-8e47c83fca60": {
       "attrs": {
        "height": 0.67917300292262,
        "width": 0.96,
        "x": 0.02,
        "y": 0.3008269970773801
       },
       "content": {
        "cell": "41b8a40b-ce6e-45ce-85ce-2839e4c0cd80",
        "part": "whole"
       },
       "id": "3318ec32-f05c-422b-a195-8e47c83fca60"
      },
      "abdc11af-c8d6-4362-ab5b-25eab579732f": {
       "attrs": {
        "height": 0.2784262736842668,
        "width": 0.96,
        "x": 0.02,
        "y": 0.02
       },
       "content": {
        "cell": "ed13f0c3-7a82-4eb9-b615-56a3498bb8d6",
        "part": "whole"
       },
       "id": "abdc11af-c8d6-4362-ab5b-25eab579732f"
      },
      "dcecc665-74b2-4f54-b140-483d11ca202a": {
       "attrs": {
        "height": 0.07434489313007682,
        "width": 0.96,
        "x": 0.02,
        "y": 0.9056551068699231
       },
       "content": {
        "cell": "b4b29469-b811-4a9d-bfe9-f73dfa5b0369",
        "part": "whole"
       },
       "id": "dcecc665-74b2-4f54-b140-483d11ca202a"
      }
     }
    },
    "90b6aac5-2349-49fc-9e8e-6dac2bdf5148": {
     "id": "90b6aac5-2349-49fc-9e8e-6dac2bdf5148",
     "prev": "4c1368e8-1836-4870-a1a8-6dec702ec625",
     "regions": {
      "1f80c97f-e1f4-4ae8-8552-1d541e1d17ae": {
       "attrs": {
        "height": 0.96,
        "width": 0.96,
        "x": 0.02,
        "y": 0.02
       },
       "content": {
        "cell": "ab968431-e1c7-464f-922d-e4ef87590eee",
        "part": "whole"
       },
       "id": "1f80c97f-e1f4-4ae8-8552-1d541e1d17ae"
      }
     }
    },
    "a5f60d54-85fc-4495-a372-a68cb7f3014a": {
     "id": "a5f60d54-85fc-4495-a372-a68cb7f3014a",
     "prev": null,
     "regions": {
      "d59200e3-58df-4728-bb38-43f14b7e6340": {
       "attrs": {
        "height": 0.96,
        "width": 0.96,
        "x": 0.02,
        "y": 0.02
       },
       "content": {
        "cell": "2786a768-c871-4ad2-b957-ce2f6eae7a68",
        "part": "whole"
       },
       "id": "d59200e3-58df-4728-bb38-43f14b7e6340"
      }
     }
    },
    "ae7d3783-e7f1-48ed-84ed-2a9fcb1da92d": {
     "id": "ae7d3783-e7f1-48ed-84ed-2a9fcb1da92d",
     "prev": "57495017-b850-4e66-85f3-95ff8dee6e2f",
     "regions": {
      "f5678b6c-e022-466c-9a3e-dd43d4410354": {
       "attrs": {
        "height": 0.96,
        "width": 0.96,
        "x": 0.02,
        "y": 0.02
       },
       "content": {
        "cell": "24b6dfe3-12d0-48bc-a083-79fc80b86b12",
        "part": "whole"
       },
       "id": "f5678b6c-e022-466c-9a3e-dd43d4410354"
      }
     }
    },
    "b4eb8eed-2e67-436f-9156-ae0b8ecabdbf": {
     "id": "b4eb8eed-2e67-436f-9156-ae0b8ecabdbf",
     "prev": "be8ece88-95e7-43e5-91d3-fe92571cb1e9",
     "regions": {
      "44ea10e8-8a1f-4031-be89-eafaba667438": {
       "attrs": {
        "height": 0.6617656289183093,
        "width": 0.96,
        "x": 0.02,
        "y": 0.23426376079529096
       },
       "content": {
        "cell": "bc86ea04-416a-46df-85cb-eb8c0632c4e2",
        "part": "whole"
       },
       "id": "44ea10e8-8a1f-4031-be89-eafaba667438"
      },
      "9672ea35-93ed-4dc3-ab97-a70fea87d430": {
       "attrs": {
        "height": 0.21249073251140002,
        "width": 0.96,
        "x": 0.02,
        "y": 0.02
       },
       "content": {
        "cell": "3e073145-7c13-4c1e-bbce-b0409bb8cc41",
        "part": "whole"
       },
       "id": "9672ea35-93ed-4dc3-ab97-a70fea87d430"
      },
      "eb63b65f-4fcf-48d6-9685-e966253747f7": {
       "attrs": {
        "height": 0.08348126941093094,
        "width": 0.96,
        "x": 0.02,
        "y": 0.8965187305890691
       },
       "content": {
        "cell": "4ea53e99-4810-44ce-99b5-10427b216647",
        "part": "whole"
       },
       "id": "eb63b65f-4fcf-48d6-9685-e966253747f7"
      }
     }
    },
    "b53f9aca-149f-41fa-90e4-41141f545c4f": {
     "id": "b53f9aca-149f-41fa-90e4-41141f545c4f",
     "prev": "256d51d7-4124-4914-9352-2b2c6dce7412",
     "regions": {
      "7044ce4d-868a-40a4-b638-c36880eac44b": {
       "attrs": {
        "height": 0.96,
        "width": 0.96,
        "x": 0.02,
        "y": 0.02
       },
       "content": {
        "cell": "c38e8e59-d166-4737-8c67-1f8dc95a9af0",
        "part": "whole"
       },
       "id": "7044ce4d-868a-40a4-b638-c36880eac44b"
      }
     }
    },
    "bdfc840b-56d6-4bcf-ae3d-24425765da58": {
     "id": "bdfc840b-56d6-4bcf-ae3d-24425765da58",
     "prev": "b53f9aca-149f-41fa-90e4-41141f545c4f",
     "regions": {
      "8018dec0-57ff-474a-94e5-07edb7941e1b": {
       "attrs": {
        "height": 0.96,
        "width": 0.96,
        "x": 0.02,
        "y": 0.02
       },
       "content": {
        "cell": "fbdfa081-3500-4aef-a32e-2cf3f9526785",
        "part": "whole"
       },
       "id": "8018dec0-57ff-474a-94e5-07edb7941e1b"
      }
     }
    },
    "be8ece88-95e7-43e5-91d3-fe92571cb1e9": {
     "id": "be8ece88-95e7-43e5-91d3-fe92571cb1e9",
     "prev": "23c7c6b4-e55b-4720-aa4b-b53be446c990",
     "regions": {
      "8dea9d81-413d-4672-8fbb-82d60163cb35": {
       "attrs": {
        "height": 0.6316638462621784,
        "width": 0.96,
        "x": 0.02,
        "y": 0.3483361537378215
       },
       "content": {
        "cell": "c34df9a8-801a-4886-90a5-9a81283e5a37",
        "part": "whole"
       },
       "id": "8dea9d81-413d-4672-8fbb-82d60163cb35"
      },
      "a6397ba0-96ca-42fa-884c-be42f474439c": {
       "attrs": {
        "height": 0.33141725611322076,
        "width": 0.96,
        "x": 0.02,
        "y": 0.02
       },
       "content": {
        "cell": "4ab2cf1f-227c-473a-8b71-b8e95aaaf013",
        "part": "whole"
       },
       "id": "a6397ba0-96ca-42fa-884c-be42f474439c"
      },
      "d146c310-e4e1-49d5-98c2-f0c3ffd2a9fa": {
       "attrs": {
        "height": 0.08713581992327259,
        "width": 0.96,
        "x": 0.02,
        "y": 0.8928641800767274
       },
       "content": {
        "cell": "815b3fc9-f7cc-49be-9a5c-92aae523446b",
        "part": "whole"
       },
       "id": "d146c310-e4e1-49d5-98c2-f0c3ffd2a9fa"
      }
     }
    },
    "bf868340-f7e9-409d-b26b-2abadd74590d": {
     "id": "bf868340-f7e9-409d-b26b-2abadd74590d",
     "prev": "51b4b72c-5112-4b5f-9627-b79cb2c22c91",
     "regions": {
      "99bccc3d-b6c6-4cb1-8c09-4ce7d73e0753": {
       "attrs": {
        "height": 0.96,
        "width": 0.96,
        "x": 0.02,
        "y": 0.02
       },
       "content": {
        "cell": "e26a94d4-4f8b-4447-80f0-8b228b124d09",
        "part": "whole"
       },
       "id": "99bccc3d-b6c6-4cb1-8c09-4ce7d73e0753"
      }
     }
    },
    "c88ac333-a2d0-4200-8429-82229f6a3a54": {
     "id": "c88ac333-a2d0-4200-8429-82229f6a3a54",
     "prev": "bdfc840b-56d6-4bcf-ae3d-24425765da58",
     "regions": {
      "1bd22382-b9f1-4f31-ba33-6a336d331297": {
       "attrs": {
        "height": 0.96,
        "width": 0.96,
        "x": 0.02,
        "y": 0.02
       },
       "content": {
        "cell": "0b209ae7-f055-4f40-8ff8-e6629a04611e",
        "part": "whole"
       },
       "id": "1bd22382-b9f1-4f31-ba33-6a336d331297"
      }
     }
    },
    "d5429aae-59f7-4ed3-8ae8-9b4563eb07d9": {
     "id": "d5429aae-59f7-4ed3-8ae8-9b4563eb07d9",
     "prev": "69e7ece8-a533-4f36-a0a3-bc00d8e95194",
     "regions": {
      "dc410841-a9d1-4735-9875-6dea95b3f4ca": {
       "attrs": {
        "height": 0.96,
        "width": 0.96,
        "x": 0.02,
        "y": 0.02
       },
       "content": {
        "cell": "063ff490-4cb4-476f-b4d5-a8daabe443bb",
        "part": "whole"
       },
       "id": "dc410841-a9d1-4735-9875-6dea95b3f4ca"
      }
     }
    },
    "d802abf3-1a11-4607-adff-407ec102a6c6": {
     "id": "d802abf3-1a11-4607-adff-407ec102a6c6",
     "prev": "b4eb8eed-2e67-436f-9156-ae0b8ecabdbf",
     "regions": {
      "55a3b553-d4ad-4652-9240-da8e99047cd1": {
       "attrs": {
        "height": 0.5876743139901035,
        "width": 0.4680161943319839,
        "x": 0.5109311740890689,
        "y": 0.20916179337231972
       },
       "content": {
        "cell": "26f20d97-80a8-4d68-b1a4-511ab3083379",
        "part": "outputs"
       },
       "id": "55a3b553-d4ad-4652-9240-da8e99047cd1"
      },
      "b1755d10-fe70-4de3-ad8e-f331d8071008": {
       "attrs": {
        "height": 0.5935293735474935,
        "width": 0.48901484480431845,
        "x": 0.02,
        "y": 0.20679422156716631
       },
       "content": {
        "cell": "26f20d97-80a8-4d68-b1a4-511ab3083379",
        "part": "source"
       },
       "id": "b1755d10-fe70-4de3-ad8e-f331d8071008"
      },
      "be28e439-558e-4c8f-a53f-bf35fffcc9f4": {
       "attrs": {
        "height": 0.17667230747564303,
        "width": 0.9599999999999999,
        "x": 0.02,
        "y": 0.8033276925243569
       },
       "content": {
        "cell": "61170274-1951-443b-9973-52dd8ae6d1a5",
        "part": "whole"
       },
       "id": "be28e439-558e-4c8f-a53f-bf35fffcc9f4"
      },
      "c0cfbc1d-1b6e-4768-89c6-6eee7348b183": {
       "attrs": {
        "height": 0.18356565416189977,
        "width": 0.9599999999999999,
        "x": 0.02067476383265856,
        "y": 0.018800419853051448
       },
       "content": {
        "cell": "00cdcaf1-c0b0-42a6-971c-b72c1cb20fef",
        "part": "whole"
       },
       "id": "c0cfbc1d-1b6e-4768-89c6-6eee7348b183"
      }
     }
    },
    "f6da8aca-14dd-4f3c-bd57-732f5fd844c3": {
     "id": "f6da8aca-14dd-4f3c-bd57-732f5fd844c3",
     "prev": "39eef995-0af6-46fe-8fe2-07b132cd05fa",
     "regions": {
      "fcf60eb0-8f18-4fdb-932d-f89dc950f480": {
       "attrs": {
        "height": 0.96,
        "width": 0.96,
        "x": 0.02,
        "y": 0.02
       },
       "content": {
        "cell": "17df7da0-0af7-490c-a953-0172af36c215",
        "part": "whole"
       },
       "id": "fcf60eb0-8f18-4fdb-932d-f89dc950f480"
      }
     }
    }
   },
   "themes": {
    "default": "56937539-c0a1-43bb-928f-54886b1f5e84",
    "theme": {
     "56937539-c0a1-43bb-928f-54886b1f5e84": {
      "backgrounds": {
       "my-background": {
        "background-color": "white"
       }
      },
      "id": "56937539-c0a1-43bb-928f-54886b1f5e84",
      "palette": {
       "black": {
        "id": "black",
        "rgb": [
         0,
         0,
         0
        ]
       },
       "blue": {
        "id": "blue",
        "rgb": [
         0,
         153,
         204
        ]
       },
       "gray": {
        "id": "gray",
        "rgb": [
         128,
         128,
         128
        ]
       },
       "red": {
        "id": "red",
        "rgb": [
         240,
         32,
         32
        ]
       },
       "white": {
        "id": "white",
        "rgb": [
         255,
         255,
         255
        ]
       }
      },
      "rules": {
       "code": {
        "font-size": 1.6
       },
       "h1": {
        "color": "blue",
        "font-size": 5.5,
        "text-align": "center"
       },
       "h2": {
        "color": "blue",
        "font-size": 3,
        "text-align": "center"
       },
       "h3": {
        "color": "black",
        "font-size": 3
       },
       "pre": {
        "font-size": 1.6
       },
       "ul li": {
        "color": "black",
        "font-size": 2.5
       },
       "ul li ul li": {
        "color": "black",
        "font-size": 2
       }
      },
      "text-base": {
       "font-family": "Georgia",
       "font-size": 2.5
      }
     }
    }
   }
  }
 },
 "nbformat": 4,
 "nbformat_minor": 1
}
