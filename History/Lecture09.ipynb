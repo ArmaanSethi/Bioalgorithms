{
 "cells": [
  {
   "cell_type": "code",
   "execution_count": 1,
   "metadata": {
    "nbpresent": {
     "id": "dc69b96c-1630-4edf-b540-9e06322c2263"
    },
    "slideshow": {
     "slide_type": "skip"
    }
   },
   "outputs": [
    {
     "data": {
      "application/javascript": [
       "var width = window.innerWidth || document.documentElement.clientWidth || document.body.clientWidth;\n",
       "var height = window.innerHeight || document.documentElement.clientHeight || document.body.clientHeight;\n",
       "\n",
       "IPython.notebook.kernel.execute(\"windowSize = (\" + width + \",\" + height + \")\");\n",
       "// suitable for small screens\n",
       "nbpresent.mode.tree.set(\n",
       "    [\"app\", \"theme-manager\", \"themes\", \"my-theme\"], \n",
       "    {\n",
       "    palette: {\n",
       "        \"blue\": { id: \"blue\", rgb: [0, 153, 204] },\n",
       "        \"black\": { id: \"black\", rgb: [0, 0, 0] },\n",
       "        \"white\": { id: \"white\", rgb: [255, 255, 255] },\n",
       "        \"red\": { id: \"red\", rgb: [240, 32, 32] },\n",
       "        \"gray\": { id: \"gray\", rgb: [128, 128, 128] },\n",
       "    },\n",
       "    backgrounds: {\n",
       "        \"my-background\": {\n",
       "            \"background-color\": \"white\"\n",
       "        }\n",
       "    },\n",
       "    \"text-base\": {\n",
       "        \"font-family\": \"Georgia\",\n",
       "        \"font-size\": 2.5\n",
       "    },\n",
       "    rules: {\n",
       "        h1: {\n",
       "            \"font-size\": 5.5,\n",
       "            color: \"blue\",\n",
       "            \"text-align\": \"center\"\n",
       "        },\n",
       "        h2: {\n",
       "            \"font-size\": 3,\n",
       "            color: \"blue\",\n",
       "            \"text-align\": \"center\"\n",
       "        },\n",
       "        h3: {\n",
       "            \"font-size\": 3,\n",
       "            color: \"black\",\n",
       "        },\n",
       "        \"ul li\": {\n",
       "            \"font-size\": 2.5,\n",
       "            color: \"black\"\n",
       "        },\n",
       "        \"ul li ul li\": {\n",
       "            \"font-size\": 2.0,\n",
       "            color: \"black\"\n",
       "        },\n",
       "        \"code\": {\n",
       "            \"font-size\": 1.6,\n",
       "        },\n",
       "        \"pre\": {\n",
       "            \"font-size\": 1.6,\n",
       "        }\n",
       "    }\n",
       "});"
      ],
      "text/plain": [
       "<IPython.core.display.Javascript object>"
      ]
     },
     "metadata": {},
     "output_type": "display_data"
    }
   ],
   "source": [
    "%%javascript\n",
    "var width = window.innerWidth || document.documentElement.clientWidth || document.body.clientWidth;\n",
    "var height = window.innerHeight || document.documentElement.clientHeight || document.body.clientHeight;\n",
    "\n",
    "IPython.notebook.kernel.execute(\"windowSize = (\" + width + \",\" + height + \")\");\n",
    "// suitable for small screens\n",
    "nbpresent.mode.tree.set(\n",
    "    [\"app\", \"theme-manager\", \"themes\", \"my-theme\"], \n",
    "    {\n",
    "    palette: {\n",
    "        \"blue\": { id: \"blue\", rgb: [0, 153, 204] },\n",
    "        \"black\": { id: \"black\", rgb: [0, 0, 0] },\n",
    "        \"white\": { id: \"white\", rgb: [255, 255, 255] },\n",
    "        \"red\": { id: \"red\", rgb: [240, 32, 32] },\n",
    "        \"gray\": { id: \"gray\", rgb: [128, 128, 128] },\n",
    "    },\n",
    "    backgrounds: {\n",
    "        \"my-background\": {\n",
    "            \"background-color\": \"white\"\n",
    "        }\n",
    "    },\n",
    "    \"text-base\": {\n",
    "        \"font-family\": \"Georgia\",\n",
    "        \"font-size\": 2.5\n",
    "    },\n",
    "    rules: {\n",
    "        h1: {\n",
    "            \"font-size\": 5.5,\n",
    "            color: \"blue\",\n",
    "            \"text-align\": \"center\"\n",
    "        },\n",
    "        h2: {\n",
    "            \"font-size\": 3,\n",
    "            color: \"blue\",\n",
    "            \"text-align\": \"center\"\n",
    "        },\n",
    "        h3: {\n",
    "            \"font-size\": 3,\n",
    "            color: \"black\",\n",
    "        },\n",
    "        \"ul li\": {\n",
    "            \"font-size\": 2.5,\n",
    "            color: \"black\"\n",
    "        },\n",
    "        \"ul li ul li\": {\n",
    "            \"font-size\": 2.0,\n",
    "            color: \"black\"\n",
    "        },\n",
    "        \"code\": {\n",
    "            \"font-size\": 1.6,\n",
    "        },\n",
    "        \"pre\": {\n",
    "            \"font-size\": 1.6,\n",
    "        }\n",
    "    }\n",
    "});"
   ]
  },
  {
   "cell_type": "markdown",
   "metadata": {
    "nbpresent": {
     "id": "5cc54feb-723d-4467-809c-178c14400a39"
    },
    "slideshow": {
     "slide_type": "slide"
    }
   },
   "source": [
    "# Assembling a Genome\n",
    "\n",
    "<img src=\"http://csbio.unc.edu/mcmillan/Comp555S18/Media/ZiggyAssembly.jpg\" width=\"600px\" class=\"centerImg\">\n",
    "* An introduction to Graph algorithms\n",
    "\n",
    "<p style=\"text-align: right; clear: right; margin-right: 200px;\">1</p>"
   ]
  },
  {
   "cell_type": "markdown",
   "metadata": {
    "nbpresent": {
     "id": "66be2405-1f36-429d-88b9-43a50df1c9d8"
    },
    "slideshow": {
     "slide_type": "slide"
    }
   },
   "source": [
    "# What we know about Genomes\n",
    "\n",
    "<img src=\"http://csbio.unc.edu/mcmillan/Comp555S18/Media/HumanGenome.png\" width=\"500px\">\n",
    "\n",
    "* DNA sequences are a biological system's *hard drive*\n",
    "    - They contain an *operating system* with all the low-level support for growing, dividing, and reproducing\n",
    "    - They contain *application programs* for making cells that move our bodies, remember our mother's face, and store energy for use in lean times\n",
    "    - They are robust. They have programs for repairing and replicating themselves. They even have backups!\n",
    "\n",
    "* DNA sequences vary in size\n",
    "    - Human nuclear DNA is composed of roughly 6 billion base-pairs distrbuted over 46 pairs of chromosomes\n",
    "    - These 6 billion bases are comprised of 2 nearly identical copies\n",
    "    - One of these copies is called a *haplotype* and its sequence is called a *genome*\n",
    "    - Among humans, any two haplotypes are are 99.9% identical\n",
    "\n",
    "* How can we read off the sequence of DNA?\n",
    "\n",
    "<p style=\"text-align: right; clear: right; margin-right: 200px;\">2</p>"
   ]
  },
  {
   "cell_type": "markdown",
   "metadata": {
    "nbpresent": {
     "id": "53d8e81b-8ba9-439e-83bd-a47e674435ce"
    },
    "slideshow": {
     "slide_type": "slide"
    }
   },
   "source": [
    "# DNA Sequencing History\n",
    "\n",
    "* DNA sequencing was one of the most significant breakthroughs of the 20th century\n",
    "* This was so inherently obvious it was awarded a Noble prize only 3 years after its development\n",
    "\n",
    "<table style=\"border: none;\">\n",
    "    <tbody>\n",
    "    <tr style=\"border: none;\">\n",
    "    <td valign=\"top\" style=\"border: none;\" width=\"45%\">\n",
    "    <h3>Sanger method (1977):</h3><br>\n",
    "    Uses labeled dideoxynucleotide-triphosphates (ddNTPs) terminate DNA copying at random points.<br>\n",
    "    <img src=\"http://csbio.unc.edu/mcmillan/Comp555S18/Media/Sanger.png\" width=\"150\">\n",
    "    <p style=\"text-align: center; font-size: 80%;\">Fredrick Sanger</p>\n",
    "    </td>\n",
    "    <td style=\"border: none;\" width=\"10%\">\n",
    "    &nbsp;\n",
    "    </td>\n",
    "    <td valign=\"top\" style=\"border: none;\" width=\"45%\">\n",
    "    <h3>Gilbert method (1977):</h3><br>\n",
    "    Used various chemicals (Dimethyl Sulfate, Hydrasine) to modify and then cleave DNA at specific points (G, G+A, T+C, C).<br>\n",
    "    <img src=\"http://csbio.unc.edu/mcmillan/Comp555S18/Media/Gilbert.png\" width=\"140\">\n",
    "    <p style=\"text-align: center; font-size: 80%;\">Walter Gilbert</p>\n",
    "    </td>\n",
    "    </tr>\n",
    "    <tr style=\"border: none;\">\n",
    "    <td colspan=\"3\" style=\"border: none; text-align: center;\">\n",
    "    <br><br>\n",
    "    Both methods generate  labeled fragments of varying lengths that are further electrophoresed\n",
    "    </td>\n",
    "    </tr>\n",
    "    </tbody>\n",
    "</table>\n",
    "\n",
    "<p style=\"text-align: right; clear: right; margin-right: 200px;\">3</p>"
   ]
  },
  {
   "cell_type": "markdown",
   "metadata": {
    "nbpresent": {
     "id": "36a71650-45d1-42ca-85d2-e384dda91996"
    },
    "slideshow": {
     "slide_type": "slide"
    }
   },
   "source": [
    "# Sanger Method\n",
    "\n",
    "<table style=\"border: none;\">\n",
    "    <tbody>\n",
    "    <tr style=\"border: none;\">\n",
    "    <td style=\"border: none;\">\n",
    "    <ol>\n",
    "        <li>Use the polymerase chain reaction (PCR) to make billions of copies of a DNA sequence</li>\n",
    "        <li>Starting at *custom* primer, sort of like our the *origin of replication*, we inititate \n",
    "        one last replication</li>\n",
    "        <li>Include *chemically altered* and *fluorescently labelled nucleotides*, called dideoxynucleotide-tri-phosphates (ddNTPs)</li>\n",
    "        <li>If a ddNTP gets incorporated into a sequence it stops further replication</li>\n",
    "        <li>Separate replication products by length, using gel electrophoresis</li>\n",
    "        <li>Good for 500-1000 bases, then the error rates grow and extension rate slows</li>\n",
    "        <li>About 10 bases-per-second or 9.5 years to read an entire genome if we could do it from beginning to end</li>\n",
    "    </ol>\n",
    "    </td>\n",
    "    <td style=\"border: none;\">\n",
    "    <img src=\"http://csbio.unc.edu/mcmillan/Comp555S18/Media/DNASanger.png\" width=\"400px\">\n",
    "    </td>\n",
    "    </tr>\n",
    "    </tbody>\n",
    "</table>\n",
    "\n",
    "<p style=\"text-align: right; clear: right; margin-right: 200px;\">4</p>"
   ]
  },
  {
   "cell_type": "markdown",
   "metadata": {
    "nbpresent": {
     "id": "c97db39f-940c-4835-a31f-054712cbf31b"
    },
    "slideshow": {
     "slide_type": "slide"
    }
   },
   "source": [
    "# Sanger Method\n",
    "\n",
    "<table style=\"border: none;\">\n",
    "    <tbody>\n",
    "    <tr style=\"border: none;\">\n",
    "    <td style=\"border: none;\">\n",
    "    <ol>\n",
    "        <li>Use the polymerase chain reaction (PCR) to make billions of copies of a DNA sequence</li>\n",
    "        <li>Starting at *custom* primer, sort of like our the *origin of replication*, we inititate \n",
    "        one last replication</li>\n",
    "        <li>Include *chemically altered* and *fluorescently labelled nucleotides*, called dideoxynucleotide-tri-phosphates (ddNTPs)</li>\n",
    "        <li>If a ddNTP gets incorporated into a sequence it stops further replication</li>\n",
    "        <li>Separate replication products by length, using gel electrophoresis</li>\n",
    "        <li>Good for 500-1000 bases, then the error rates grow and extension rate slows</li>\n",
    "        <li>About 10 bases-per-second or 9.5 years to read an entire genome if we could do it from beginning to end</li>\n",
    "    </ol>\n",
    "    </td>\n",
    "    <td style=\"border: none;\">\n",
    "    <img src=\"http://csbio.unc.edu/mcmillan/Comp555S18/Media/SangerMethod.png\" width=\"400px\">\n",
    "    </td>\n",
    "    </tr>\n",
    "    </tbody>\n",
    "</table>\n",
    "\n",
    "<p style=\"text-align: right; clear: right; margin-right: 200px;\">5</p>"
   ]
  },
  {
   "cell_type": "markdown",
   "metadata": {
    "nbpresent": {
     "id": "ed23b2a9-673d-49f3-b5b0-0a7cc2612831"
    },
    "slideshow": {
     "slide_type": "slide"
    }
   },
   "source": [
    "# Assembling the Human Genome\n",
    "\n",
    "In 1990, a *moon-shot-like* project was begun to sequence the entire Human Genome.\n",
    "  * It would require 30x coverage to provide enough sequences\n",
    "  * Recall there are sequence differences-- Approximately 1:1000 bases\n",
    "  * Redundacy was needed to find the *majority* base from 16 different individuals (32 genomes)\n",
    "  * Also needed the extra coverage to assure that there is enough overlap to assemble the 500 base-pair reads\n",
    "<table style=\"border: none;\">\n",
    "    <tbody>\n",
    "    <tr style=\"border: none;\">\n",
    "    <td style=\"border: none; padding: 20px;\" width=\"50%\">\n",
    "    <span style=\"font-size: 75%;\">A $3 billion dollar NIH funded public effort led by Francis Collins with a 15-year plan.\n",
    "    It would distribute the work across several labs in a community effort by assigning primers \n",
    "    to groups on a first-come basis. New sequencing results yielded new primers, so the project \n",
    "    required a central coordination.</span><br>\n",
    "    <img src=\"http://csbio.unc.edu/mcmillan/Comp555S18/Media/Collins.jpg\">\n",
    "    </td>\n",
    "    <td style=\"border: none; padding: 20px;\"  width=\"50%\">\n",
    "    <span style=\"font-size: 75%;\">In 1997 a private company, Celera, lead by Craig Venter, suggested they could beat the public effort by dispensing with primers.\n",
    "    They'd just randomly fragment DNA and sequence each with no idea of the how sequenced fragments would fit together. In other words, they were going to rely on computer science to assemble their reads algorithmically.</span><br>\n",
    "    <img src=\"http://csbio.unc.edu/mcmillan/Comp555S18/Media/Venter.jpg\">\n",
    "    </td>    \n",
    "    </tr>\n",
    "    </tbody>\n",
    "</table>\n",
    "\n",
    "The result was that, despite tensions, the groups ended up sharing data and technologies. And the competition led to a completed draft 5 years ahead of schedule.\n",
    "\n",
    "<p style=\"text-align: right; clear: right; margin-right: 200px;\">6</p>"
   ]
  },
  {
   "cell_type": "markdown",
   "metadata": {
    "nbpresent": {
     "id": "62e592a5-ed92-4136-ab3d-5d5563bf7aff"
    },
    "slideshow": {
     "slide_type": "slide"
    }
   },
   "source": [
    "# The Sequencing Race\n",
    "\n",
    "Since the Human Genome project there have been an explosion of genomes sequenced. Initially, the focus was on model organisms, then favorites, then all of human diversity, and finally a catalog of life's diversity.\n",
    "\n",
    "<img src=\"http://csbio.unc.edu/mcmillan/Comp555S18/Media/GenomeTimeline.png\" class=\"centerImg\">\n",
    "\n",
    "<p style=\"text-align: right; clear: right; margin-right: 200px;\">7</p>"
   ]
  },
  {
   "cell_type": "markdown",
   "metadata": {
    "nbpresent": {
     "id": "318e5134-a023-4d8e-b614-4d0cb99c2537"
    },
    "slideshow": {
     "slide_type": "slide"
    }
   },
   "source": [
    "# The secret behind this explosion of genomes\n",
    "<table style=\"border: none;\" width=\"900px\">\n",
    "    <tbody>\n",
    "    <tr style=\"border: none;\">\n",
    "    <td style=\"border: none; padding: 30px;\" width=\"50%\">\n",
    "    Next generation sequencing machines have revolutionized the DNA sequencing process. They work in various ways including massiviely-parallel single-base extension methods, to captured Dnases whose motions suggest a the base being replicated, to microholes that only a single DNA molecule can pass through, and the bases are determined by detectable charge differences. \n",
    "    <img src=\"http://csbio.unc.edu/mcmillan/Comp555S18/Media/IlluminaSequencers.jpg\">\n",
    "    </td>\n",
    "    <td style=\"border: none; padding: 30px;\"  width=\"50%\">\n",
    "    In a way, the *genome moonshot* was far more successful than the real moonshot. The rate at which genomes can be sequenced, and the cost per base has seen unprecented improvements. Faster than even Moore's Law.\n",
    "    \n",
    "    <img src=\"http://csbio.unc.edu/mcmillan/Comp555S18/Media/FallingFast.png\">\n",
    "    </td>    \n",
    "    </tr>\n",
    "    </tbody>\n",
    "</table>\n",
    "\n",
    "<p style=\"text-align: right; clear: right; margin-right: 200px;\">8</p>"
   ]
  },
  {
   "cell_type": "markdown",
   "metadata": {
    "nbpresent": {
     "id": "08808131-e24e-4c1c-a912-3ec815717994"
    },
    "slideshow": {
     "slide_type": "slide"
    }
   },
   "source": [
    "# How does it all work?\n",
    "\n",
    "<img src=\"http://csbio.unc.edu/mcmillan/Comp555S18/Media/DNAAssemblySteps.png\" width=\"800px\" class=\"centerImg\">\n",
    "\n",
    "It is as if we must first smash a grecian urn in order to completely see it. \n",
    "\n",
    "<p style=\"text-align: right; clear: right; margin-right: 200px;\">9</p>\n"
   ]
  },
  {
   "cell_type": "markdown",
   "metadata": {
    "nbpresent": {
     "id": "326a74b5-ec7a-4622-ba2b-721203dd550a"
    },
    "slideshow": {
     "slide_type": "slide"
    }
   },
   "source": [
    "# An Analogy\n",
    "\n",
    "<table style=\"border: none;\" width=\"1000px\">\n",
    "    <tbody>\n",
    "    <tr style=\"border: none;\">\n",
    "    <td style=\"border: none; padding: 5px;\" width=\"25%\">\n",
    "    <img src=\"http://csbio.unc.edu/mcmillan/Comp555S18/Media/Book.jpg\">\n",
    "    </td>\n",
    "    <td style=\"border: none; padding: 5px;\"  width=\"25%\">\n",
    "    <img src=\"http://csbio.unc.edu/mcmillan/Comp555S18/Media/RemoveBinding.jpg\">\n",
    "    </td>\n",
    "    <td style=\"border: none; padding: 5px;\"  width=\"25%\">\n",
    "    <img src=\"http://csbio.unc.edu/mcmillan/Comp555S18/Media/Shred.jpg\">\n",
    "    </td> \n",
    "    <td style=\"border: none; padding: 5px;\"  width=\"25%\">\n",
    "    <img src=\"http://csbio.unc.edu/mcmillan/Comp555S18/Media/Fragments.jpg\">\n",
    "    </td> \n",
    "    </tr>\n",
    "    </tbody>\n",
    "</table>\n",
    "\n",
    "Some important differences\n",
    "  * A better analogy would have been to shred 100's of books\n",
    "  * Shuffle the pages before shredding\n",
    "  * Oh yeah, my book has approximately 850,000 characters.\n",
    "  * The entireity of Encyclopedia Britannica is approximately 250,000,000 characters. Your genome is approximately 12 times larger\n",
    "  \n",
    "<p style=\"text-align: right; clear: right; margin-right: 200px;\">10</p>"
   ]
  },
  {
   "cell_type": "markdown",
   "metadata": {
    "nbpresent": {
     "id": "872c32e9-5d0c-460a-a7ac-7e90f012918d"
    },
    "slideshow": {
     "slide_type": "slide"
    }
   },
   "source": [
    "# How would you Reassemble our Book?\n",
    "\n",
    "<img src=\"http://csbio.unc.edu/mcmillan/Comp555S18/Media/Book300Frags.png\" width=\"400px\" class=\"centerImg\">\n",
    "\n",
    "Each paper shred is like a DNA read.\n",
    "\n",
    "<p style=\"text-align: right; clear: right; margin-right: 200px;\">11</p>"
   ]
  },
  {
   "cell_type": "markdown",
   "metadata": {
    "nbpresent": {
     "id": "e9b92777-249d-4554-85f0-1c6e4e9c76c7"
    },
    "slideshow": {
     "slide_type": "slide"
    }
   },
   "source": [
    "# Searching for overlaps\n",
    "\n",
    "<img src=\"http://csbio.unc.edu/mcmillan/Comp555S18/Media/Book3Assm.png\" width=\"400px\" class=\"centerImg\">\n",
    "\n",
    "You'd look for fragments that fit together based on some *overlapping context* that they share.\n",
    "\n",
    "<img src=\"http://csbio.unc.edu/mcmillan/Comp555S18/Media/Book10Assm.png\" width=\"400px\" class=\"centerImg\">\n",
    "\n",
    "And then, build upon those to assemble a more complete picture\n",
    "\n",
    "<p style=\"text-align: right; clear: right; margin-right: 200px;\">12</p>"
   ]
  },
  {
   "cell_type": "markdown",
   "metadata": {
    "collapsed": true,
    "nbpresent": {
     "id": "f1318feb-2805-4ac9-ad4d-4b75a49ed41d"
    },
    "slideshow": {
     "slide_type": "slide"
    }
   },
   "source": [
    "# Until finally you assemble a nearly complete version\n",
    "\n",
    "<img src=\"http://csbio.unc.edu/mcmillan/Comp555S18/Media/Book300Assm.png\" width=\"400px\" class=\"centerImg\">\n",
    "\n",
    "<p style=\"text-align: right; clear: right; margin-right: 200px;\">13</p>\n"
   ]
  },
  {
   "cell_type": "markdown",
   "metadata": {
    "nbpresent": {
     "id": "8049e759-b748-4092-b8a3-4d124aa491d4"
    },
    "slideshow": {
     "slide_type": "slide"
    }
   },
   "source": [
    "# Key idea: Find links between fragment pairs\n",
    "\n",
    "This leads us to a computational analogy called a *graph*\n",
    "  * A graph is composed of *nodes*, which can represent entities, in our case read fragments\n",
    "  * Nodes are connected by *edges* that represent some relationship between a pair of nodes\n",
    "  * The edges of a graph can be directed\n",
    "  \n",
    "<img src=\"http://csbio.unc.edu/mcmillan/Comp555S18/Media/DirectedGraph.png\" width=\"360px\" class=\"centerImg\">\n",
    "\n",
    "One can devise both representaions for, and algorithms that operate on, graphs.\n",
    "  * For example, you can find the shortest path between to nodes in a graph. Your GPS solves this problem, where addresses or locales are nodes, and roads are edges.\n",
    "  * You can find a minimal set of edges that maintains that keeps the graph *connected*\n",
    "\n",
    "Let's rethink our DNA ssembly problem as a graph problem.\n",
    "\n",
    "<p style=\"text-align: right; clear: right; margin-right: 200px;\">14</p>"
   ]
  },
  {
   "cell_type": "markdown",
   "metadata": {
    "nbpresent": {
     "id": "e03d7773-3941-4ac9-87cd-4277dc5f7e92"
    },
    "slideshow": {
     "slide_type": "slide"
    }
   },
   "source": [
    "# The graph of a sequence\n",
    "\n",
    "For the moment let's imagine that reads are like k-mers from a sequence, as they do tend to be uniform in length.\n",
    "\n",
    "<pre style=\"font-size: 95%;\">\n",
    "            GACGGCGGCGCACGGCGCAA    - Our <em>toy</em> sequence\n",
    "            GACGG\n",
    "             ACGGC\n",
    "              CGGCG\n",
    "               GGCGG\n",
    "                GCGGC\n",
    "                 CGGCG\n",
    "                  GGCGC             - The complete set of 16 5-mers\n",
    "                   GCGCA\n",
    "                    CGCAC\n",
    "                     GCACG\n",
    "                      CACGG\n",
    "                       ACGGC\n",
    "                        CGGCG\n",
    "                         GGCGC\n",
    "                          GCGCA\n",
    "                           CGCAA\n",
    "</pre>\n",
    "\n",
    "Now we can construct a graph where:\n",
    "  1. Each 5-mer is a node\n",
    "  2. There is a directed edge from a k-mer that shares its (k-1)-base suffix with the (k-1)-base prefix of another k-mer\n",
    "  \n",
    "<p style=\"text-align: right; clear: right; margin-right: 200px;\">15</p>"
   ]
  },
  {
   "cell_type": "markdown",
   "metadata": {
    "nbpresent": {
     "id": "34b191ef-8acb-4bf8-9999-1ee7a914086b"
    },
    "slideshow": {
     "slide_type": "slide"
    }
   },
   "source": [
    "# A read-overlap graph\n",
    "\n",
    "The read-overlap graph for the 5-mers from: \n",
    "<pre>         GACGGCGGCGCACGGCGCAA</pre>\n",
    "\n",
    "<img src=\"http://csbio.unc.edu/mcmillan/Comp555S18/Media/HamiltonianV1.png\" width=\"600px\" class=\"centerImg\">\n",
    "\n",
    "The problem is ***How to infer the original sequence from this graph?***\n",
    "\n",
    "<p style=\"text-align: right; clear: right; margin-right: 200px;\">16</p>"
   ]
  },
  {
   "cell_type": "markdown",
   "metadata": {
    "nbpresent": {
     "id": "ca73c5e9-69ac-4661-aae6-b11b7617d5bc"
    },
    "slideshow": {
     "slide_type": "slide"
    }
   },
   "source": [
    "# The rules of our game\n",
    "\n",
    "\n",
    "* Every node, k-mer, can be used exactly once\n",
    "* The object is to find a path along edges that visits every node one time\n",
    "* This game was invented in the mid 1800's by a mathematician called ***Sir William Hamilton***\n",
    "</ul>\n",
    "<table style=\"border: none;\" width=\"800px\">\n",
    "    <tbody>\n",
    "    <tr style=\"border: none;\">\n",
    "    <td style=\"border: none; padding: 30px;\" width=\"50%\">\n",
    "    <img src=\"http://csbio.unc.edu/mcmillan/Comp555S18/Media/Hamilton.jpg\">\n",
    "    </td>\n",
    "    <td style=\"border: none; padding: 30px;\"  width=\"50%\">\n",
    "    A version of Hamilton's game:\n",
    "    <img src=\"http://csbio.unc.edu/mcmillan/Comp555S18/Media/HamiltonGame.png\" width=\"300px\">\n",
    "    <img src=\"http://csbio.unc.edu/mcmillan/Comp555S18/Media/HamiltonSolution.png\" width=\"150px\">\n",
    "    </td>    \n",
    "    </tr>\n",
    "    </tbody>\n",
    "</table>\n",
    "\n",
    "<p style=\"text-align: right; clear: right; margin-right: 200px;\">17</p>"
   ]
  },
  {
   "cell_type": "markdown",
   "metadata": {
    "nbpresent": {
     "id": "ed361641-ab05-41ea-abd9-7486f4a9760f"
    },
    "slideshow": {
     "slide_type": "slide"
    }
   },
   "source": [
    "# Finding a Hamiltonian Path in a graph\n",
    "\n",
    "Our desired sequence: \n",
    "<pre>         GACGGCGGCGCACGGCGCAA</pre>\n",
    "is indeed a path in this graph\n",
    "\n",
    "<img src=\"http://csbio.unc.edu/mcmillan/Comp555S18/Media/HamiltonianV2.png\" width=\"600px\" class=\"centerImg\">\n",
    "\n",
    "How can we write a program to solve Hamilton's puzzle?\n",
    "\n",
    "Is the solution unique?\n",
    "\n",
    "<p style=\"text-align: right; clear: right; margin-right: 200px;\">18</p>"
   ]
  },
  {
   "cell_type": "markdown",
   "metadata": {
    "nbpresent": {
     "id": "eb9a788e-8f23-4101-b757-5e6142f23dbf"
    },
    "slideshow": {
     "slide_type": "slide"
    }
   },
   "source": [
    "# Another way that to represent our k-mers in a graph\n",
    "\n",
    "* Rather than making each k-mer a node, let's try making them an edge\n",
    "* That seems odd, but it is related to the overlap idea\n",
    "  - The 5-mer <code>GACGG</code> has a prefix <code>GACG</code> and a suffix <code>ACGG</code>\n",
    "  - Think of the k-mer as the edge connecting a prefix to a suffix\n",
    "  - This leads to a series of simple graphs\n",
    "<img src=\"http://csbio.unc.edu/mcmillan/Comp555S18/Media/EulerV2.png\" width=\"800px\" class=\"centerImg\">\n",
    "* Then combine all nodes with the same Label\n",
    "\n",
    "<p style=\"text-align: right; clear: right; margin-right: 200px;\">19</p>"
   ]
  },
  {
   "cell_type": "markdown",
   "metadata": {
    "nbpresent": {
     "id": "dfca2b10-c8fa-4e1f-8570-779a34d3c26a"
    },
    "slideshow": {
     "slide_type": "slide"
    }
   },
   "source": [
    "# A De Bruijn Graph\n",
    "\n",
    "This rather odd graph is called the \"De Bruijn\" graph, was named after a famous mathematician.\n",
    "\n",
    "<img src=\"http://csbio.unc.edu/mcmillan/Comp555S18/Media/EulerV1.png\" width=\"600px\" class=\"centerImg\">\n",
    "\n",
    "The problem is ***How to infer the original sequence from this graph?***\n",
    "\n",
    "<p style=\"text-align: right; clear: right; margin-right: 200px;\">20</p>"
   ]
  },
  {
   "cell_type": "markdown",
   "metadata": {
    "nbpresent": {
     "id": "5a7320bf-1e5f-452c-9625-85e33e0f7bcf"
    },
    "slideshow": {
     "slide_type": "slide"
    }
   },
   "source": [
    "# The rules of our new game\n",
    "\n",
    "* Every *edge*, k-mer, can be used exactly once\n",
    "* The object is to find a path in the graph that uses each *edge* only one time\n",
    "* This game was invented in the late 1700's by a mathematician called Leonhard Euler\n",
    "\n",
    "<table style=\"border: none;\" width=\"800px\">\n",
    "    <tbody>\n",
    "    <tr style=\"border: none;\">\n",
    "    <td style=\"border: none; padding: 30px;\" width=\"50%\">\n",
    "    <img src=\"http://csbio.unc.edu/mcmillan/Comp555S18/Media/Euler.jpg\">\n",
    "    <p style=\"text-align: center;\">Leonhard Euler</p>\n",
    "    </td>\n",
    "    <td style=\"border: none; padding: 30px;\"  width=\"50%\">\n",
    "    A version of Euler's game:\n",
    "    <img src=\"http://csbio.unc.edu/mcmillan/Comp555S18/Media/BridgesOfKonigsberg.png\" width=\"300px\">\n",
    "    Bridges of Königsberg<br>\n",
    "    Find a city tour that crosses every bridge just once\n",
    "    </td>\n",
    "    </tr>\n",
    "    </tbody>\n",
    "</table>\n",
    "\n",
    "<p style=\"text-align: right; clear: right; margin-right: 200px;\">21</p>"
   ]
  },
  {
   "cell_type": "markdown",
   "metadata": {
    "nbpresent": {
     "id": "1ded163a-8f9e-4ac0-a03d-f89ddb80748e"
    },
    "slideshow": {
     "slide_type": "slide"
    }
   },
   "source": [
    "# Let's do a warm up exercise!\n",
    "\n",
    "What is the shortest DNA sequence that starts with the subsequence \"<code>CAT</code>\" and contains all possible dimers?\n",
    "<br>**Hint:** It's a graph problem!\n"
   ]
  },
  {
   "cell_type": "code",
   "execution_count": 9,
   "metadata": {
    "nbpresent": {
     "id": "43519318-47fa-4f46-8097-14de3ee93385"
    },
    "slideshow": {
     "slide_type": "fragment"
    }
   },
   "outputs": [
    {
     "data": {
      "image/png": "[encoded data removed]",
      "text/plain": [
       "<matplotlib.figure.Figure at 0x7e42c4756910>"
      ]
     },
     "metadata": {},
     "output_type": "display_data"
    }
   ],
   "source": [
    "import itertools\n",
    "import networkx as nx\n",
    "%matplotlib inline\n",
    "import matplotlib\n",
    "import matplotlib.pyplot as plt\n",
    "import numpy\n",
    "\n",
    "kmer = [''.join(kmer) for kmer in itertools.product(\"ACGT\", repeat=2)]\n",
    "N = len(kmer)\n",
    "G = nx.DiGraph()\n",
    "G.add_nodes_from(range(N))\n",
    "\n",
    "for i in xrange(N):\n",
    "    for j in xrange(N):\n",
    "        if kmer[j] == \"CA\":\n",
    "            continue\n",
    "        if kmer[i] == \"CA\":\n",
    "            if kmer[j] != \"AT\":\n",
    "                continue\n",
    "        if (kmer[i][1:] == kmer[j][:-1]):\n",
    "            G.add_edge(i, j)\n",
    "\n",
    "plt.figure(figsize=(8,8))\n",
    "t = numpy.arange(0.0, 2.0*numpy.pi, 2.0*numpy.pi/N) \n",
    "pos = dict(zip(range(N), zip(300*numpy.cos(t), 300*numpy.sin(t))))\n",
    "nx.draw(G, pos, node_size=800, arrows=True)\n",
    "nx.draw_networkx_labels(G,pos,dict(zip(range(N),kmer)),font_size=14)\n",
    "plt.show()"
   ]
  },
  {
   "cell_type": "markdown",
   "metadata": {
    "nbpresent": {
     "id": "a0ff4533-46b4-4add-9cdd-344e2e11a6a3"
    },
    "slideshow": {
     "slide_type": "fragment"
    }
   },
   "source": [
    "<p style=\"text-align: right; clear: right; margin-right: 200px;\">22</p>"
   ]
  },
  {
   "cell_type": "markdown",
   "metadata": {
    "nbpresent": {
     "id": "52d687f5-a232-478c-a053-6475fa410eb9"
    },
    "slideshow": {
     "slide_type": "slide"
    }
   },
   "source": [
    "# Next Time\n",
    "\n",
    "<img src=\"http://csbio.unc.edu/mcmillan/Comp555S18/Media/Drowning.gif\" width=\"700px\" class=\"centerImg\">\n",
    "\n",
    "* Code that solves our graph problems\n",
    "* Consider which code is simplier\n",
    "* Consider which code is Faster\n",
    "\n",
    "<p style=\"text-align: right; clear: right; margin-right: 200px;\">23</p>"
   ]
  }
 ],
 "metadata": {
  "anaconda-cloud": {},
  "kernelspec": {
   "display_name": "Python 3",
   "language": "python",
   "name": "python3"
  },
  "language_info": {
   "codemirror_mode": {
    "name": "ipython",
    "version": 3
   },
   "file_extension": ".py",
   "mimetype": "text/x-python",
   "name": "python",
   "nbconvert_exporter": "python",
   "pygments_lexer": "ipython3",
   "version": "3.6.7"
  },
  "nbpresent": {
   "slides": {
    "062859b1-b489-43aa-b264-64edd292fa69": {
     "id": "062859b1-b489-43aa-b264-64edd292fa69",
     "prev": "edf94e7d-6719-4259-9b61-8da0a927882d",
     "regions": {
      "33149cf2-786c-4c15-8338-e5b1ac85c288": {
       "attrs": {
        "height": 0.19569119841158922,
        "width": 0.96,
        "x": 0.02,
        "y": 0.02
       },
       "content": {
        "cell": "1ded163a-8f9e-4ac0-a03d-f89ddb80748e",
        "part": "whole"
       },
       "id": "33149cf2-786c-4c15-8338-e5b1ac85c288"
      },
      "8e3c62d1-332f-4609-bea6-0cc0d00a5144": {
       "attrs": {
        "height": 0.05306186738376462,
        "hieght": 0.48,
        "width": 0.96,
        "x": 0.021085665890430604,
        "y": 0.93426635617223
       },
       "content": {
        "cell": "a0ff4533-46b4-4add-9cdd-344e2e11a6a3",
        "part": "whole"
       },
       "id": "8e3c62d1-332f-4609-bea6-0cc0d00a5144"
      },
      "c5b22d17-1f3e-499d-8603-5c87a655bd45": {
       "attrs": {
        "height": 0.7208670048166632,
        "hieght": 0.48,
        "width": 0.96,
        "x": 0.021085665890430604,
        "y": 0.21820940138686132
       },
       "content": {
        "cell": "43519318-47fa-4f46-8097-14de3ee93385",
        "part": "outputs"
       },
       "id": "c5b22d17-1f3e-499d-8603-5c87a655bd45"
      }
     }
    },
    "22b08d4d-6949-4d28-81ce-8cc9ccdcfd71": {
     "id": "22b08d4d-6949-4d28-81ce-8cc9ccdcfd71",
     "prev": null,
     "regions": {
      "beb09c7c-1f5f-4fcf-88a4-f1cfb5dba14c": {
       "attrs": {
        "height": 0.96,
        "width": 0.96,
        "x": 0.02,
        "y": 0.02
       },
       "content": {
        "cell": "5cc54feb-723d-4467-809c-178c14400a39",
        "part": "whole"
       },
       "id": "beb09c7c-1f5f-4fcf-88a4-f1cfb5dba14c"
      }
     }
    },
    "35df2011-95bc-4b2f-a997-2fb0deae19fe": {
     "id": "35df2011-95bc-4b2f-a997-2fb0deae19fe",
     "prev": "d7826212-81d9-4229-ada8-b992001b1ada",
     "regions": {
      "a46c7fa1-a257-413a-8413-fbe9cad30fad": {
       "attrs": {
        "height": 0.96,
        "width": 0.96,
        "x": 0.02,
        "y": 0.02
       },
       "content": {
        "cell": "53d8e81b-8ba9-439e-83bd-a47e674435ce",
        "part": "whole"
       },
       "id": "a46c7fa1-a257-413a-8413-fbe9cad30fad"
      }
     }
    },
    "46664161-8e25-4453-8fc0-47c5df12d3fc": {
     "id": "46664161-8e25-4453-8fc0-47c5df12d3fc",
     "prev": "60665846-9c2b-4fcd-8411-7936abf819f9",
     "regions": {
      "8697220a-9e88-4921-9c87-3840240abf62": {
       "attrs": {
        "height": 0.96,
        "width": 0.96,
        "x": 0.02,
        "y": 0.02
       },
       "content": {
        "cell": "8049e759-b748-4092-b8a3-4d124aa491d4",
        "part": "whole"
       },
       "id": "8697220a-9e88-4921-9c87-3840240abf62"
      }
     }
    },
    "4c697040-8c7c-4251-8027-98ff9423a269": {
     "id": "4c697040-8c7c-4251-8027-98ff9423a269",
     "prev": "5292652a-7df2-4335-a158-c0ecfbffe6cd",
     "regions": {
      "7780ab97-c7dc-4e0c-ae61-f4c8ae86e0ca": {
       "attrs": {
        "height": 0.96,
        "width": 0.96,
        "x": 0.02,
        "y": 0.02
       },
       "content": {
        "cell": "08808131-e24e-4c1c-a912-3ec815717994",
        "part": "whole"
       },
       "id": "7780ab97-c7dc-4e0c-ae61-f4c8ae86e0ca"
      }
     }
    },
    "5292652a-7df2-4335-a158-c0ecfbffe6cd": {
     "id": "5292652a-7df2-4335-a158-c0ecfbffe6cd",
     "prev": "be5e4bf2-57ae-4a53-9f30-bda358f24a89",
     "regions": {
      "ea8518ae-0af6-4802-af23-1bd88f5d034c": {
       "attrs": {
        "height": 0.96,
        "width": 0.96,
        "x": 0.02,
        "y": 0.02
       },
       "content": {
        "cell": "318e5134-a023-4d8e-b614-4d0cb99c2537",
        "part": "whole"
       },
       "id": "ea8518ae-0af6-4802-af23-1bd88f5d034c"
      }
     }
    },
    "5933ab62-9021-477a-a827-22f0c88fd605": {
     "id": "5933ab62-9021-477a-a827-22f0c88fd605",
     "prev": "35df2011-95bc-4b2f-a997-2fb0deae19fe",
     "regions": {
      "6cf77989-acfb-4394-9629-ce9b4da4ca96": {
       "attrs": {
        "height": 0.96,
        "width": 0.96,
        "x": 0.02,
        "y": 0.02
       },
       "content": {
        "cell": "36a71650-45d1-42ca-85d2-e384dda91996",
        "part": "whole"
       },
       "id": "6cf77989-acfb-4394-9629-ce9b4da4ca96"
      }
     }
    },
    "60665846-9c2b-4fcd-8411-7936abf819f9": {
     "id": "60665846-9c2b-4fcd-8411-7936abf819f9",
     "prev": "b482e7e2-8c28-4800-a149-bd0576986639",
     "regions": {
      "e47d923e-ac11-489a-919b-9de09c54284f": {
       "attrs": {
        "height": 0.96,
        "width": 0.96,
        "x": 0.02,
        "y": 0.02
       },
       "content": {
        "cell": "f1318feb-2805-4ac9-ad4d-4b75a49ed41d",
        "part": "whole"
       },
       "id": "e47d923e-ac11-489a-919b-9de09c54284f"
      }
     }
    },
    "81a6a357-7515-49e0-8f8b-840f8440123c": {
     "id": "81a6a357-7515-49e0-8f8b-840f8440123c",
     "prev": "46664161-8e25-4453-8fc0-47c5df12d3fc",
     "regions": {
      "ce64ec78-95d3-45df-bf59-1677da694b3a": {
       "attrs": {
        "height": 0.96,
        "width": 0.96,
        "x": 0.02,
        "y": 0.02
       },
       "content": {
        "cell": "e03d7773-3941-4ac9-87cd-4277dc5f7e92",
        "part": "whole"
       },
       "id": "ce64ec78-95d3-45df-bf59-1677da694b3a"
      }
     }
    },
    "87490072-7662-4627-bbd9-efc3bd806a03": {
     "id": "87490072-7662-4627-bbd9-efc3bd806a03",
     "prev": "4c697040-8c7c-4251-8027-98ff9423a269",
     "regions": {
      "93d485d7-f0ee-4ff4-8374-cae5568e7d5c": {
       "attrs": {
        "height": 0.96,
        "width": 0.96,
        "x": 0.02,
        "y": 0.02
       },
       "content": {
        "cell": "326a74b5-ec7a-4622-ba2b-721203dd550a",
        "part": "whole"
       },
       "id": "93d485d7-f0ee-4ff4-8374-cae5568e7d5c"
      }
     }
    },
    "9798eb37-b495-49c9-bddb-ae56fb60ba26": {
     "id": "9798eb37-b495-49c9-bddb-ae56fb60ba26",
     "prev": "ef74f513-540a-4d6c-ba63-780aee57ce9e",
     "regions": {
      "a9a7ce9d-24fa-4fec-b756-dcc977bda90e": {
       "attrs": {
        "height": 0.96,
        "width": 0.96,
        "x": 0.02,
        "y": 0.02
       },
       "content": {
        "cell": "eb9a788e-8f23-4101-b757-5e6142f23dbf",
        "part": "whole"
       },
       "id": "a9a7ce9d-24fa-4fec-b756-dcc977bda90e"
      }
     }
    },
    "b482e7e2-8c28-4800-a149-bd0576986639": {
     "id": "b482e7e2-8c28-4800-a149-bd0576986639",
     "prev": "be00b5d0-b619-4774-be21-3f51a277f920",
     "regions": {
      "f055d881-2ca3-48ed-9d69-1870b347bfcb": {
       "attrs": {
        "height": 0.96,
        "width": 0.96,
        "x": 0.02,
        "y": 0.02
       },
       "content": {
        "cell": "e9b92777-249d-4554-85f0-1c6e4e9c76c7",
        "part": "whole"
       },
       "id": "f055d881-2ca3-48ed-9d69-1870b347bfcb"
      }
     }
    },
    "b4ef5ea1-9085-4077-9f13-e62292464c14": {
     "id": "b4ef5ea1-9085-4077-9f13-e62292464c14",
     "prev": "5933ab62-9021-477a-a827-22f0c88fd605",
     "regions": {
      "db916648-4821-4901-aaaa-14b0572def01": {
       "attrs": {
        "height": 0.96,
        "width": 0.96,
        "x": 0.02,
        "y": 0.02
       },
       "content": {
        "cell": "c97db39f-940c-4835-a31f-054712cbf31b",
        "part": "whole"
       },
       "id": "db916648-4821-4901-aaaa-14b0572def01"
      }
     }
    },
    "be00b5d0-b619-4774-be21-3f51a277f920": {
     "id": "be00b5d0-b619-4774-be21-3f51a277f920",
     "prev": "87490072-7662-4627-bbd9-efc3bd806a03",
     "regions": {
      "2bdc8e57-cc23-4159-bf17-93735f4b6f47": {
       "attrs": {
        "height": 0.96,
        "width": 0.96,
        "x": 0.02,
        "y": 0.02
       },
       "content": {
        "cell": "872c32e9-5d0c-460a-a7ac-7e90f012918d",
        "part": "whole"
       },
       "id": "2bdc8e57-cc23-4159-bf17-93735f4b6f47"
      }
     }
    },
    "be5e4bf2-57ae-4a53-9f30-bda358f24a89": {
     "id": "be5e4bf2-57ae-4a53-9f30-bda358f24a89",
     "prev": "f38f373d-0211-4e3d-8efb-46c76eca3cdb",
     "regions": {
      "9aef2cfc-fccd-4812-b605-fddf910fc5c2": {
       "attrs": {
        "height": 0.96,
        "width": 0.96,
        "x": 0.02,
        "y": 0.02
       },
       "content": {
        "cell": "62e592a5-ed92-4136-ab3d-5d5563bf7aff",
        "part": "whole"
       },
       "id": "9aef2cfc-fccd-4812-b605-fddf910fc5c2"
      }
     }
    },
    "bf621fc0-7863-42c7-8680-d7ab397e7226": {
     "id": "bf621fc0-7863-42c7-8680-d7ab397e7226",
     "prev": "d5fbd501-a48d-411c-9acf-dbe676e5502c",
     "regions": {
      "55668ca7-f69e-4aaf-980b-1b751b50be74": {
       "attrs": {
        "height": 0.96,
        "width": 0.96,
        "x": 0.02,
        "y": 0.02
       },
       "content": {
        "cell": "ca73c5e9-69ac-4661-aae6-b11b7617d5bc",
        "part": "whole"
       },
       "id": "55668ca7-f69e-4aaf-980b-1b751b50be74"
      }
     }
    },
    "d5fbd501-a48d-411c-9acf-dbe676e5502c": {
     "id": "d5fbd501-a48d-411c-9acf-dbe676e5502c",
     "prev": "81a6a357-7515-49e0-8f8b-840f8440123c",
     "regions": {
      "ea6b61c6-8eef-4bcb-aaaa-9e74855563bf": {
       "attrs": {
        "height": 0.96,
        "width": 0.96,
        "x": 0.02,
        "y": 0.02
       },
       "content": {
        "cell": "34b191ef-8acb-4bf8-9999-1ee7a914086b",
        "part": "whole"
       },
       "id": "ea6b61c6-8eef-4bcb-aaaa-9e74855563bf"
      }
     }
    },
    "d7826212-81d9-4229-ada8-b992001b1ada": {
     "id": "d7826212-81d9-4229-ada8-b992001b1ada",
     "prev": "22b08d4d-6949-4d28-81ce-8cc9ccdcfd71",
     "regions": {
      "eef6328f-a47f-4315-acda-e5f653a36147": {
       "attrs": {
        "height": 0.96,
        "width": 0.96,
        "x": 0.02,
        "y": 0.02
       },
       "content": {
        "cell": "66be2405-1f36-429d-88b9-43a50df1c9d8",
        "part": "whole"
       },
       "id": "eef6328f-a47f-4315-acda-e5f653a36147"
      }
     }
    },
    "d9292c7a-a9cc-4a09-9bba-d03695ed6d4b": {
     "id": "d9292c7a-a9cc-4a09-9bba-d03695ed6d4b",
     "prev": "062859b1-b489-43aa-b264-64edd292fa69",
     "regions": {
      "ab70a9ef-70f3-4451-b7d2-3b765c82d036": {
       "attrs": {
        "height": 0.96,
        "width": 0.96,
        "x": 0.02,
        "y": 0.02
       },
       "content": {
        "cell": "52d687f5-a232-478c-a053-6475fa410eb9",
        "part": "whole"
       },
       "id": "ab70a9ef-70f3-4451-b7d2-3b765c82d036"
      }
     }
    },
    "db747c30-33fb-4b38-849e-febbb25246eb": {
     "id": "db747c30-33fb-4b38-849e-febbb25246eb",
     "prev": "9798eb37-b495-49c9-bddb-ae56fb60ba26",
     "regions": {
      "c231a40c-660f-478d-a5c4-6a12ad08bc9c": {
       "attrs": {
        "height": 0.96,
        "width": 0.96,
        "x": 0.02,
        "y": 0.02
       },
       "content": {
        "cell": "dfca2b10-c8fa-4e1f-8570-779a34d3c26a",
        "part": "whole"
       },
       "id": "c231a40c-660f-478d-a5c4-6a12ad08bc9c"
      }
     }
    },
    "edf94e7d-6719-4259-9b61-8da0a927882d": {
     "id": "edf94e7d-6719-4259-9b61-8da0a927882d",
     "prev": "db747c30-33fb-4b38-849e-febbb25246eb",
     "regions": {
      "db1369b6-6127-4b49-8bca-e16cee785eba": {
       "attrs": {
        "height": 0.96,
        "width": 0.96,
        "x": 0.02,
        "y": 0.02
       },
       "content": {
        "cell": "5a7320bf-1e5f-452c-9625-85e33e0f7bcf",
        "part": "whole"
       },
       "id": "db1369b6-6127-4b49-8bca-e16cee785eba"
      }
     }
    },
    "ef74f513-540a-4d6c-ba63-780aee57ce9e": {
     "id": "ef74f513-540a-4d6c-ba63-780aee57ce9e",
     "prev": "bf621fc0-7863-42c7-8680-d7ab397e7226",
     "regions": {
      "103a9e08-c121-4f83-bb0b-c286fd0e2691": {
       "attrs": {
        "height": 0.96,
        "width": 0.96,
        "x": 0.02,
        "y": 0.02
       },
       "content": {
        "cell": "ed361641-ab05-41ea-abd9-7486f4a9760f",
        "part": "whole"
       },
       "id": "103a9e08-c121-4f83-bb0b-c286fd0e2691"
      }
     }
    },
    "f38f373d-0211-4e3d-8efb-46c76eca3cdb": {
     "id": "f38f373d-0211-4e3d-8efb-46c76eca3cdb",
     "prev": "b4ef5ea1-9085-4077-9f13-e62292464c14",
     "regions": {
      "0e8fd5d3-fd18-42c7-bcc9-599fa99d1d0d": {
       "attrs": {
        "height": 0.96,
        "width": 0.96,
        "x": 0.02,
        "y": 0.02
       },
       "content": {
        "cell": "ed23b2a9-673d-49f3-b5b0-0a7cc2612831",
        "part": "whole"
       },
       "id": "0e8fd5d3-fd18-42c7-bcc9-599fa99d1d0d"
      }
     }
    }
   },
   "themes": {
    "default": "0e4e50f7-31f2-4e69-a12b-8aec5da14c9c",
    "theme": {
     "0e4e50f7-31f2-4e69-a12b-8aec5da14c9c": {
      "backgrounds": {
       "my-background": {
        "background-color": "white"
       }
      },
      "id": "0e4e50f7-31f2-4e69-a12b-8aec5da14c9c",
      "palette": {
       "black": {
        "id": "black",
        "rgb": [
         0,
         0,
         0
        ]
       },
       "blue": {
        "id": "blue",
        "rgb": [
         0,
         153,
         204
        ]
       },
       "gray": {
        "id": "gray",
        "rgb": [
         128,
         128,
         128
        ]
       },
       "red": {
        "id": "red",
        "rgb": [
         240,
         32,
         32
        ]
       },
       "white": {
        "id": "white",
        "rgb": [
         255,
         255,
         255
        ]
       }
      },
      "rules": {
       "code": {
        "font-size": 1.6
       },
       "h1": {
        "color": "blue",
        "font-size": 5.5,
        "text-align": "center"
       },
       "h2": {
        "color": "blue",
        "font-size": 3,
        "text-align": "center"
       },
       "h3": {
        "color": "black",
        "font-size": 3
       },
       "pre": {
        "font-size": 1.6
       },
       "ul li": {
        "color": "black",
        "font-size": 2.5
       },
       "ul li ul li": {
        "color": "black",
        "font-size": 2
       }
      },
      "text-base": {
       "font-family": "Georgia",
       "font-size": 2.5
      }
     }
    }
   }
  }
 },
 "nbformat": 4,
 "nbformat_minor": 1
}
