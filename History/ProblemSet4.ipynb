{
 "cells": [
  {
   "cell_type": "markdown",
   "metadata": {
    "section": "header"
   },
   "source": [
    "---\n",
    "<div style=\"text-align: center;\">\n",
    "<h1>The University of North Carolina at Chapel Hill</h1>\n",
    "<h1>Comp 555 BioAlgorithms - Spring 2018</h1>\n",
    "<h1 style=\"font-size: 250%;\">Problem Set #4</h1>\n",
    "<h1>Issued Monday, 3/26/2018; Due Monday, 4/5/2018</h1>\n",
    "</div>\n",
    "\n",
    "**Homework Information:** Some of the problems are probably too long to be done the night before the due date, so plan accordingly. Late problem sets will be penalized by a factor of\t70.71% for each class meeting after the due date. Feel free to get help from others, but the work you submit in should be your own."
   ]
  },
  {
   "cell_type": "code",
   "execution_count": 2,
   "metadata": {
    "collapsed": true,
    "section": "signature"
   },
   "outputs": [],
   "source": [
    "# Replace the following string values with the requested information\n",
    "class Student:\n",
    "    first = \"\"\n",
    "    last = \"\"\n",
    "    onyen = \"\"\n",
    "    pid = \"\""
   ]
  },
  {
   "cell_type": "markdown",
   "metadata": {
    "number": 1,
    "section": "problem"
   },
   "source": [
    "---\n",
    "**Problem #1:** Find the longest common subsequence (LCS) between the first 100 bases and the last 100 bases of the [*Salmonella Typhimurium*](http://csbio.unc.edu/mcmillan/Comp555S18/data/SalmonellaTyphimurium.fa) genome. Report both the length of the LCS as well as the subsequence. Do not include the *+* sign at the start of the genome."
   ]
  },
  {
   "cell_type": "code",
   "execution_count": 180,
   "metadata": {},
   "outputs": [
    {
     "name": "stdout",
     "output_type": "stream",
     "text": [
      "GGCTCTGGGAAGAGATAGAAGGGGGTTGTTGAAAAAAAATAACAAATAACGTGGAATTTAATT\n",
      "63\n"
     ]
    }
   ],
   "source": [
    "def loadFasta(filename):\n",
    "    \"\"\" Parses a classically formatted and possibly \n",
    "        compressed FASTA file into a list of headers \n",
    "        and fragment sequences for each sequence contained\"\"\"\n",
    "    if (filename.endswith(\".gz\")):\n",
    "        fp = gzip.open(filename, 'rb')\n",
    "    else:\n",
    "        fp = open(filename, 'rb')\n",
    "    # split at headers\n",
    "    data = fp.read().split('>')\n",
    "    fp.close()\n",
    "    # ignore whatever appears before the 1st header\n",
    "    data.pop(0)     \n",
    "    headers = []\n",
    "    sequences = []\n",
    "    for sequence in data:\n",
    "        lines = sequence.split('\\n')\n",
    "        headers.append(lines.pop(0))\n",
    "        # add an extra \"+\" to make string \"1-referenced\"\n",
    "        sequences.append('+' + ''.join(lines))\n",
    "    return (headers, sequences)\n",
    "\n",
    "header, seq = loadFasta(\"SalmonellaTyphimurium.fa\")\n",
    "seq = seq[0]\n",
    "front = seq[1:101]\n",
    "back = seq[len(seq)-100:len(seq)]\n",
    "\n",
    "from numpy import *\n",
    "def findLCS(v, w):\n",
    "    score = zeros((len(v)+1,len(w)+1), dtype=\"int32\")\n",
    "    backt = zeros((len(v)+1,len(w)+1), dtype=\"int32\")\n",
    "    for i in xrange(1,len(v)+1):\n",
    "        for j in xrange(1,len(w)+1):\n",
    "            # find best score at each vertex\n",
    "            if (v[i-1] == w[j-1]):\n",
    "                score[i,j], backt[i,j] = max((score[i-1,j-1]+1,3), (score[i-1,j],1), (score[i,j-1],2))\n",
    "            else:\n",
    "                score[i,j], backt[i,j] = max((score[i-1,j],1), (score[i,j-1],2))\n",
    "    return score, backt\n",
    "def LCS(b,v,i,j):\n",
    "    if ((i == 0) and (j == 0)):\n",
    "        return ''\n",
    "    if (b[i,j] == 3):\n",
    "        result = LCS(b,v,i-1,j-1)\n",
    "        result = result + v[i-1]\n",
    "        return result\n",
    "    else:\n",
    "        if (b[i,j] == 2):\n",
    "            return LCS(b,v,i,j-1)\n",
    "        else:\n",
    "            return LCS(b,v,i-1,j)\n",
    "    \n",
    "v = front\n",
    "w = back\n",
    "s, b = findLCS(front,back)\n",
    "print LCS(b,v,b.shape[0]-1,b.shape[1]-1)\n",
    "print len(LCS(b,v,b.shape[0]-1,b.shape[1]-1))"
   ]
  },
  {
   "cell_type": "raw",
   "metadata": {
    "number": 1,
    "section": "answer"
   },
   "source": [
    "GGCTCTGGGAAGAGATAGAAGGGGGTTGTTGAAAAAAAATAACAAATAACGTGGAATTTAATT\n",
    "Length of 63"
   ]
  },
  {
   "cell_type": "markdown",
   "metadata": {
    "number": 2,
    "section": "problem"
   },
   "source": [
    "---\n",
    "**Problem #2:** Find the length of the longest *embedded* common subsequence in the following: \n",
    "\n",
    "    \"GTACAAAAACAACACAAGAAAAGACAATAAAATTCCATTCGATTCTATTCAATTGGTACA\"\n",
    "\n",
    "The longest embedded common subsequence is the longest common subsequence within in a sequence for which no symbol matches itself. As an example, consider \"TAGACTAAG\". The longest common subsequence is the sequence itself, \"TAGACTAAG\", but the longest *embedded* common subsequence is \"TAG\". "
   ]
  },
  {
   "cell_type": "code",
   "execution_count": 179,
   "metadata": {},
   "outputs": [
    {
     "name": "stdout",
     "output_type": "stream",
     "text": [
      "AAAAAACACAAAAAAAAAAAAAATTCATTCATTCTTTCA\n",
      "39\n"
     ]
    }
   ],
   "source": [
    "from numpy import *\n",
    "def findLCS(v, w):\n",
    "    score = zeros((len(v)+1,len(w)+1), dtype=\"int32\")\n",
    "    backt = zeros((len(v)+1,len(w)+1), dtype=\"int32\")\n",
    "    for i in xrange(1,len(v)+1):\n",
    "        for j in xrange(1,len(w)+1):\n",
    "            # find best score at each vertex\n",
    "            if (v[i-1] == w[j-1] and i!=j):\n",
    "                score[i,j], backt[i,j] = max((score[i-1,j-1]+1,3), (score[i-1,j],1), (score[i,j-1],2))\n",
    "            else:\n",
    "                score[i,j], backt[i,j] = max((score[i-1,j],1), (score[i,j-1],2))\n",
    "    return score, backt\n",
    "\n",
    "def LCS(b,v,i,j):\n",
    "    if ((i == 0) or (j == 0)):\n",
    "        return ''\n",
    "    if (b[i,j] == 3):\n",
    "        result = LCS(b,v,i-1,j-1)\n",
    "        result = result + v[i-1]\n",
    "        return result\n",
    "    else:\n",
    "        if (b[i,j] == 1):\n",
    "            return LCS(b,v,i-1,j)\n",
    "        else:\n",
    "            return LCS(b,v,i,j-1)\n",
    "    \n",
    "v = \"GTACAAAAACAACACAAGAAAAGACAATAAAATTCCATTCGATTCTATTCAATTGGTACA\"\n",
    "w = \"GTACAAAAACAACACAAGAAAAGACAATAAAATTCCATTCGATTCTATTCAATTGGTACA\"\n",
    "s, b = findLCS(v,w)\n",
    "\n",
    "#for i in xrange(len(s)):\n",
    "    #print \"%12s %-20s\" % ('' if i else 'backtrack =', str(b[i]))\n",
    "#for i in xrange(len(s)):\n",
    "    #print \"%10s %-20s \" % ('' if i else 'score =', str(s[i]))\n",
    "print LCS(b,v,b.shape[0]-1,b.shape[1]-1)\n",
    "print len(LCS(b,v,b.shape[0]-1,b.shape[1]-1))"
   ]
  },
  {
   "cell_type": "raw",
   "metadata": {
    "number": 2,
    "section": "answer"
   },
   "source": [
    "AAAAAACACAAAAAAAAAAAAAATTCATTCATTCTTTCA\n",
    "Length of 39"
   ]
  },
  {
   "cell_type": "markdown",
   "metadata": {
    "number": 3,
    "section": "problem"
   },
   "source": [
    "---\n",
    "**Problem #3:** On your midterm you were asked to find all 16-peptide chains whose molecular weight equals a given target (1024) using the following list of residues ordered by their weights. Most of the algorithms proposed were time-consuming with many possible answers.\n",
    "\n",
    "```python\n",
    "Residues = [\n",
    "    (186, 'W'), (163, 'Y'), (156, 'R'), (147, 'F'), (137, 'H'), \n",
    "    (131, 'M'), (129, 'E'), (128, '[K/Q]'), (115, 'D'), (114, 'N'),\n",
    "    (113, '[I/L]'), (103, 'C'), (101, 'T'), (99, 'V'), (97, 'P'), \n",
    "    (87, 'S'), (71, 'A'), (57, 'G')\n",
    "]\n",
    "```\n",
    "\n",
    "Now consider a slightly different problem: find the *length* of the *shortest peptide chain* whose molecular weight matches a target. This problem can be solved effciently using *dynamic programming*. In order to see how, consider an analogy between finding the shortest peptide combination of a given weight, and the problem of making *exact change* from an arbitrary set of coinage. \n",
    "\n",
    "In the space below given a reccurance relation for the dynamic program for finding the shortest combination of peptides, *DPShortestPeptideLength(target, Residues)*."
   ]
  },
  {
   "cell_type": "raw",
   "metadata": {
    "number": 3,
    "section": "answer"
   },
   "source": [
    "Recurrence for peptide problem with a target weight T, Residues R, and shortest combination of peptides p\n",
    "p(T) = {0 | if T = 0\n",
    "        min(p(T-R_i) + 1) | if T != 0 and R_i <= T}"
   ]
  },
  {
   "cell_type": "markdown",
   "metadata": {
    "number": 4,
    "section": "problem"
   },
   "source": [
    "---\n",
    "**Problem #4:** It is inefficient to create and fully populate a table for *DPShortestPeptideLength(target, Residues)* where every molecular weight less than your given target, as you would for computing exact change. Suggest a more efficient means for representing and populating the memoization of intermediate results needed for *DPShortestPeptideLength(target, Residues)*."
   ]
  },
  {
   "cell_type": "raw",
   "metadata": {
    "number": 4,
    "section": "answer"
   },
   "source": [
    "One issue that we face with the shortest peptide length problem is that we cannot compute exact molecular weights for all possible weights. With change there is the penny, which allows for all possible change values to be calculated. We do not have that luxury, so we shouldn't waste time and space calculating the shortest peptide lengths for these values. Therefore we only want to be storing the shortest peptide lengths for exact values and basing other weights off of these prior ones."
   ]
  },
  {
   "cell_type": "markdown",
   "metadata": {
    "number": 5,
    "section": "problem"
   },
   "source": [
    "**Problem #5: Programming Problem**\n",
    "\n",
    "Implement a *dynamic programming* solution for *DPShortestPeptideCombination(target, Residues)*, which is similar to the task described in Problem #4, except finds a shortest peptide chain whose molecular weight matches a target. In the space provided below write your function and test it by generating a shortest peptide combination whose molecular weight is 555, 1024, and 2048."
   ]
  },
  {
   "cell_type": "code",
   "execution_count": 181,
   "metadata": {
    "number": 5,
    "section": "answer"
   },
   "outputs": [
    {
     "name": "stdout",
     "output_type": "stream",
     "text": [
      "CCYW 4\n",
      "FRYWWW 6\n",
      "GMWWWWWWWWWW 12\n"
     ]
    }
   ],
   "source": [
    "# Enter your answer here\n",
    "Residues = [\n",
    "    (186, 'W'), (163, 'Y'), (156, 'R'), (147, 'F'), (137, 'H'), \n",
    "    (131, 'M'), (129, 'E'), (128, '[K/Q]'), (115, 'D'), (114, 'N'),\n",
    "    (113, '[I/L]'), (103, 'C'), (101, 'T'), (99, 'V'), (97, 'P'), \n",
    "    (87, 'S'), (71, 'A'), (57, 'G')\n",
    "]\n",
    "def shortestPeptideLength(r, weight):\n",
    "    minimum_length = [0]\n",
    "    sequence_composition = [[]]\n",
    "\n",
    "    for i in xrange(1, weight + 1):\n",
    "        best = 100000\n",
    "        best_sequence = None\n",
    "\n",
    "        for j in r:\n",
    "            if i - j > -1 and minimum_length[i - j] + 1 < best:\n",
    "                best = minimum_length[i - j] + 1\n",
    "                best_sequence = sequence_composition[i - j] + [j]\n",
    "\n",
    "        minimum_length.append(best)\n",
    "        sequence_composition.append(best_sequence)\n",
    "\n",
    "        if i == weight:\n",
    "            sequence = \"\"\n",
    "            for k in range(len(best_sequence)):\n",
    "                for z in range(len(Residues)):\n",
    "                    if best_sequence[k] == Residues[z][0]:\n",
    "                        sequence += Residues[z][1]\n",
    "            print sequence, len(sequence)\n",
    "r = []\n",
    "for i in range(len(Residues)):\n",
    "    r.append(Residues[i][0])\n",
    "\n",
    "shortestPeptideLength(r, 555)\n",
    "shortestPeptideLength(r, 1024)\n",
    "shortestPeptideLength(r, 2048)\n",
    "\n"
   ]
  },
  {
   "cell_type": "code",
   "execution_count": 177,
   "metadata": {},
   "outputs": [
    {
     "name": "stdout",
     "output_type": "stream",
     "text": [
      "CCYW 4\n",
      "FRYWWW 6\n",
      "GMWWWWWWWWWW 12\n"
     ]
    }
   ],
   "source": [
    "def DPShortestPeptideLength(target, Residues):\n",
    "    c = []\n",
    "    for i in range(len(Residues)):\n",
    "        c.append(Residues[i][0])\n",
    "    chain = [[0 for i in xrange(len(c))]]\n",
    "    print chain\n",
    "    for m in xrange(1,target+1):\n",
    "        bestChain = m+1\n",
    "        for i in xrange(len(c)):\n",
    "            if (m >= c[i]):\n",
    "                thisChain = [x for x in chain[m - c[i]]]\n",
    "                thisChain[i] += 1\n",
    "                if (sum(thisChain) < bestChain):\n",
    "                    chain[m:m] = [thisChain]\n",
    "                    bestChain = sum(thisChain)\n",
    "    print bestChain\n",
    "    summ = 0\n",
    "    peptide = \"\"\n",
    "    print chain[target]\n",
    "\n",
    "    for i in range(len(chain[target])):\n",
    "        summ += chain[target][i]\n",
    "        for j in range(chain[target][i]):\n",
    "            peptide += Residues[i][1]\n",
    "    return summ,peptide\n",
    "print DPShortestPeptideLength(555, Residues)\n",
    "print DPShortestPeptideLength(1024, Residues)\n",
    "print DPShortestPeptideLength(203, Residues)"
   ]
  },
  {
   "cell_type": "markdown",
   "metadata": {
    "section": "submit"
   },
   "source": [
    "Click [here to submit](http://csbio.unc.edu/mcmillan/index.py?run=PS.upload) your completed problem set"
   ]
  },
  {
   "cell_type": "code",
   "execution_count": null,
   "metadata": {
    "collapsed": true
   },
   "outputs": [],
   "source": []
  }
 ],
 "metadata": {
  "anaconda-cloud": {},
  "celltoolbar": "Edit Metadata",
  "kernelspec": {
   "display_name": "Python 3",
   "language": "python",
   "name": "python3"
  },
  "language_info": {
   "codemirror_mode": {
    "name": "ipython",
    "version": 3
   },
   "file_extension": ".py",
   "mimetype": "text/x-python",
   "name": "python",
   "nbconvert_exporter": "python",
   "pygments_lexer": "ipython3",
   "version": "3.6.5"
  }
 },
 "nbformat": 4,
 "nbformat_minor": 1
}
