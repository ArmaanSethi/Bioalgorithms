{
 "cells": [
  {
   "cell_type": "code",
   "execution_count": 1,
   "metadata": {
    "nbpresent": {
     "id": "511207a7-195f-424c-a07e-2fafe16b917e"
    }
   },
   "outputs": [
    {
     "data": {
      "application/javascript": [
       "var width = window.innerWidth || document.documentElement.clientWidth || document.body.clientWidth;\n",
       "var height = window.innerHeight || document.documentElement.clientHeight || document.body.clientHeight;\n",
       "\n",
       "IPython.notebook.kernel.execute(\"windowSize = (\" + width + \",\" + height + \")\");\n",
       "// suitable for small screens\n",
       "nbpresent.mode.tree.set(\n",
       "    [\"app\", \"theme-manager\", \"themes\", \"my-theme\"], \n",
       "    {\n",
       "    palette: {\n",
       "        \"blue\": { id: \"blue\", rgb: [0, 153, 204] },\n",
       "        \"black\": { id: \"black\", rgb: [0, 0, 0] },\n",
       "        \"white\": { id: \"white\", rgb: [255, 255, 255] },\n",
       "        \"red\": { id: \"red\", rgb: [240, 32, 32] },\n",
       "        \"gray\": { id: \"gray\", rgb: [128, 128, 128] },\n",
       "    },\n",
       "    backgrounds: {\n",
       "        \"my-background\": {\n",
       "            \"background-color\": \"white\"\n",
       "        }\n",
       "    },\n",
       "    \"text-base\": {\n",
       "        \"font-family\": \"Georgia\",\n",
       "        \"font-size\": 2.5\n",
       "    },\n",
       "    rules: {\n",
       "        h1: {\n",
       "            \"font-size\": 5.5,\n",
       "            color: \"blue\",\n",
       "            \"text-align\": \"center\"\n",
       "        },\n",
       "        h2: {\n",
       "            \"font-size\": 3,\n",
       "            color: \"blue\",\n",
       "            \"text-align\": \"center\"\n",
       "        },\n",
       "        h3: {\n",
       "            \"font-size\": 3,\n",
       "            color: \"black\",\n",
       "        },\n",
       "        \"ul li\": {\n",
       "            \"font-size\": 2.5,\n",
       "            color: \"black\"\n",
       "        },\n",
       "        \"ul li ul li\": {\n",
       "            \"font-size\": 2.0,\n",
       "            color: \"black\"\n",
       "        },\n",
       "        \"code\": {\n",
       "            \"font-size\": 1.6,\n",
       "        },\n",
       "        \"pre\": {\n",
       "            \"font-size\": 1.6,\n",
       "        }\n",
       "    }\n",
       "});"
      ],
      "text/plain": [
       "<IPython.core.display.Javascript object>"
      ]
     },
     "metadata": {},
     "output_type": "display_data"
    }
   ],
   "source": [
    "%%javascript\n",
    "var width = window.innerWidth || document.documentElement.clientWidth || document.body.clientWidth;\n",
    "var height = window.innerHeight || document.documentElement.clientHeight || document.body.clientHeight;\n",
    "\n",
    "IPython.notebook.kernel.execute(\"windowSize = (\" + width + \",\" + height + \")\");\n",
    "// suitable for small screens\n",
    "nbpresent.mode.tree.set(\n",
    "    [\"app\", \"theme-manager\", \"themes\", \"my-theme\"], \n",
    "    {\n",
    "    palette: {\n",
    "        \"blue\": { id: \"blue\", rgb: [0, 153, 204] },\n",
    "        \"black\": { id: \"black\", rgb: [0, 0, 0] },\n",
    "        \"white\": { id: \"white\", rgb: [255, 255, 255] },\n",
    "        \"red\": { id: \"red\", rgb: [240, 32, 32] },\n",
    "        \"gray\": { id: \"gray\", rgb: [128, 128, 128] },\n",
    "    },\n",
    "    backgrounds: {\n",
    "        \"my-background\": {\n",
    "            \"background-color\": \"white\"\n",
    "        }\n",
    "    },\n",
    "    \"text-base\": {\n",
    "        \"font-family\": \"Georgia\",\n",
    "        \"font-size\": 2.5\n",
    "    },\n",
    "    rules: {\n",
    "        h1: {\n",
    "            \"font-size\": 5.5,\n",
    "            color: \"blue\",\n",
    "            \"text-align\": \"center\"\n",
    "        },\n",
    "        h2: {\n",
    "            \"font-size\": 3,\n",
    "            color: \"blue\",\n",
    "            \"text-align\": \"center\"\n",
    "        },\n",
    "        h3: {\n",
    "            \"font-size\": 3,\n",
    "            color: \"black\",\n",
    "        },\n",
    "        \"ul li\": {\n",
    "            \"font-size\": 2.5,\n",
    "            color: \"black\"\n",
    "        },\n",
    "        \"ul li ul li\": {\n",
    "            \"font-size\": 2.0,\n",
    "            color: \"black\"\n",
    "        },\n",
    "        \"code\": {\n",
    "            \"font-size\": 1.6,\n",
    "        },\n",
    "        \"pre\": {\n",
    "            \"font-size\": 1.6,\n",
    "        }\n",
    "    }\n",
    "});"
   ]
  },
  {
   "cell_type": "markdown",
   "metadata": {
    "nbpresent": {
     "id": "2a553c55-bb44-4a7b-bca3-20b2066c902c"
    },
    "slideshow": {
     "slide_type": "slide"
    }
   },
   "source": [
    "# Protein Sequences and Antibotics\n",
    "\n",
    "* Alexander Fleming discovered Antibotics in 1928\n",
    "* Small peptide sequences that target and kill bacteria\n",
    "* Generated naturally by fungi and other bacteria\n",
    "\n",
    "* Today's questions; Where do they come from? How can one infer their sequence?\n",
    "\n",
    "<img src=\"http://csbio.unc.edu/mcmillan/Comp555S18/Media/ProVsAntiBiotics.jpg\" class=\"centerImg\">\n",
    "\n",
    "<p style=\"text-align: right; clear: right;\">1</p>"
   ]
  },
  {
   "cell_type": "markdown",
   "metadata": {
    "nbpresent": {
     "id": "21d5c7fa-db24-4ce6-83ae-963c46f729e1"
    },
    "slideshow": {
     "slide_type": "slide"
    }
   },
   "source": [
    "# Discovery of Penicillin (1928)\n",
    "\n",
    "<img src=\"http://csbio.unc.edu/mcmillan/Comp555S18/Media/Fleming.jpg\" width=\"400\" style=\"float: right; clear: right; margin: 24px;\">\n",
    "* Upon returning from holiday in 1928 a british biologist and pharmacolgist, Alexander Fleming, discovered a strange pattern of cell death in a stack of *staphylococci* cultures he had on a bench in a corner of his laboratory.\n",
    "* Fleming noticed that one culture was contaminated with a fungus, *Penicillium*, and that the colonies of staphylococci immediately surrounding the fungus had been destroyed, whereas other staphylococci colonies farther away were normal, and famously remarked \"That's funny\".\n",
    "* He attempted to isolate the agent that killed the bacteria, and even hypothesized that such an agent might be suitable for treating infections known to be caused by *staphylococci*. But, he had little luck.\n",
    "* It proved hard to collect enough Penicillin to make it viable drug throughout the 1930s.\n",
    "* Eventually, a mouldy cantalope found in Illinois in 1943, would provide a mold capable of generating high quantities of Penicillin and greatly reduce the World War II battlefield infection called *Sepsis*.\n",
    "* The chemical structure of Penicillin was not determined until 1945 by Dorothy Hodgkin, another british X-ray crystallographer like Rosalind Franklin.\n",
    "<br>\n",
    "<br>\n",
    "<p style=\"text-align: right; clear: right;\">2</p>"
   ]
  },
  {
   "cell_type": "markdown",
   "metadata": {
    "nbpresent": {
     "id": "ad1f8baa-ff76-4bbc-ab36-09143661286a"
    },
    "slideshow": {
     "slide_type": "slide"
    }
   },
   "source": [
    "# Other Antibotics\n",
    "\n",
    "<img src=\"http://csbio.unc.edu/mcmillan/Comp555S18/Media/FGause.jpg\" width=\"240\" style=\"float: right; clear: right; margin: 24px;\">\n",
    "* Meanwhile, a second important antibotic, *Gramicidin S* or *Gramicidin Soviet*, was discovered by Russian microbiologist Georgyi Gause and his wife Maria Brazhnikova in 1942. \n",
    "* This antibotic was discovered in another strain of bacteria, *Bacillus brevis*, which had the tendancy to kill *staphylococci* nearby it.\n",
    "* It was actually easier to mass-produce than Penicillin, and it saved the lives of many russians in the second world war, as well as the lives of its inventors.\n",
    "* *Gramicidin S* is largly composed of a *cyclodecapeptide*, a protein-like peptide chain composed of 10 amino-acids joined head-to-tail to form a ring, called *Tyrocidine B1*.\n",
    "* The species was reclassified into the genus *Brevibacillus* in 1996.\n",
    "* The ***Central Dogma of Molecular Biology*** suggests that templates for such peptide chains are encoded in **DNA**.\n",
    "* Our first task today is to see if we can find a genomic template where *Gramicidin S* is encoded.\n",
    "<br>\n",
    "<br>\n",
    "<p style=\"text-align: right; clear: right;\">3</p>"
   ]
  },
  {
   "cell_type": "markdown",
   "metadata": {
    "nbpresent": {
     "id": "b20af0e2-fa6c-41f1-a401-2194c7525cc7"
    },
    "slideshow": {
     "slide_type": "slide"
    }
   },
   "source": [
    "# Recall the Central Dogma from Lecture 1\n",
    "\n",
    "Francis Crick, one of the discoverers of DNA structure, originally coined the term \"Central Dogma\" in 1958. That choice of words was particularly provocative.\n",
    "\n",
    "<table>\n",
    "    <tbody>\n",
    "    <tr>\n",
    "        <td style=\"text-align: center;\"><img src=\"http://csbio.unc.edu/mcmillan/Comp555S18/Media/FCrick.jpg\" alt=\"Francis Crick\" width=\"240\"><br>Francis Crick</td>\n",
    "        <td><img src=\"http://csbio.unc.edu/mcmillan/Comp555S18/Media/CentralDogma.png\" alt=\"Central Dogma\" width=\"400\"></td>\n",
    "    </tr>\n",
    "    </tbody>\n",
    "</table>\n",
    "\n",
    "<p style=\"text-align: right; clear: right;\">4</p>"
   ]
  },
  {
   "cell_type": "markdown",
   "metadata": {
    "nbpresent": {
     "id": "a80a760b-10f9-4f60-ad8b-a3f9e2f049c7"
    },
    "slideshow": {
     "slide_type": "slide"
    }
   },
   "source": [
    "# DNA Transcription\n",
    "\n",
    "<table style=\"border-collapse: collapse; border: none;\">\n",
    "    <tbody>\n",
    "    <tr style=\"border-collapse: collapse; border: none;\">\n",
    "        <td width=\"60%\" style=\"border-collapse: collapse; border: none;\">\n",
    "        <ul>\n",
    "            <li>Triplets of nucleotide bases determine one of 20 amino acids in a protein's peptide sequence</li>\n",
    "            <li>This mapping is called the **Genetic Code**</li>\n",
    "            <li>Special STOP codes halt the translation process</li>\n",
    "            <li>However, the DNA sequence that we see may not be a perfect indicator of the DNA sequence that produced it for two reasons.\n",
    "                <ol>\n",
    "                    <li>Post-transcriptional modifications change the mRNA pattern. For example, in *eucaryotes* sections of code (Introns) are removed from the transcribed sequence.</li>\n",
    "                    <li>Post-translational modifications modify the produced amino acid chain. For example when a protein is circularized</li>\n",
    "            </ol>\n",
    "            <li>So our goal is to find a partial pattern in the DNA which might have created *Gramicidin S*</li>\n",
    "            <li>Recall the codon codings</li>\n",
    "        </ul>\n",
    "        </td>\n",
    "        <td width=\"40%\" style=\"border-collapse: collapse; border: none;\">\n",
    "        <img src=\"http://csbio.unc.edu/mcmillan/Comp555S18/Media/CodonTable.png\" alt=\"Codons\" width=\"360\">\n",
    "        </td>\n",
    "    </tr>\n",
    "    </tbody>\n",
    "</table>\n",
    "\n",
    "<p style=\"text-align: right; clear: right;\">5</p>"
   ]
  },
  {
   "cell_type": "markdown",
   "metadata": {
    "nbpresent": {
     "id": "374fa800-4eb1-45cf-aae8-48754345b937"
    },
    "slideshow": {
     "slide_type": "slide"
    }
   },
   "source": [
    "# Tyrocidine B1's Peptide Sequence\n",
    "\n",
    "Tyrocidine B1 is a small peptide composed of only 10 amino acids.\n",
    "<img src=\"http://csbio.unc.edu/mcmillan/Comp555S18/Media/TyrocidineA.png\" alt=\"Central Dogma\" width=\"360\" class=\"centeredImg\">\n",
    "<pre>\n",
    "<b>Amino Acid:</b>     Valine      Leucine    Proline  Phenylalanine  Glutamine\n",
    "<b>3-letter Abbr:</b>   <span style=\"font-size: 150%;\">Val-Lys-Leu-Phe-Pro-Trp-Phe-Asn-Gln-Tyr</span>\n",
    "<b>1-letter Abbr:</b> <span style=\"font-size: 150%;\">  V   K   L   F   P   W   F   N   Q   Y</span>\n",
    "<b>Amino Acid:</b>           Lysine  Phenylalanine Tryptophan  Asparagine   Tyrosine\n",
    "</pre>\n",
    "\n",
    "Also note that the Lysine is modified during the circularization into another non-proteinogenic amino acid, *Ornithine*.\n",
    "<p style=\"text-align: right; clear: right;\">6</p>"
   ]
  },
  {
   "cell_type": "markdown",
   "metadata": {
    "nbpresent": {
     "id": "5ee72015-26f3-4872-9d82-e82c989b1fa8"
    },
    "slideshow": {
     "slide_type": "slide"
    }
   },
   "source": [
    "# A toolkit of Python Dictionaries\n",
    "\n",
    "* The following Python Dictionaries will be used to aid our search"
   ]
  },
  {
   "cell_type": "code",
   "execution_count": 2,
   "metadata": {
    "nbpresent": {
     "id": "9e6e7c55-2d99-472e-b940-fa8d3e34fbaa"
    },
    "slideshow": {
     "slide_type": "fragment"
    }
   },
   "outputs": [],
   "source": [
    "codon = {  # Maps an RNA triplet of nucelotides to a 1-letter Amino Acid Abbrevation \n",
    "    \"AAA\": 'K', \"AAG\": 'K', \"AAC\": 'N', \"AAU\": 'N',\n",
    "    \"AGA\": 'R', \"AGG\": 'R', \"AGC\": 'S', \"AGU\": 'S',\n",
    "    \"ACA\": 'T', \"ACG\": 'T', \"ACC\": 'T', \"ACU\": 'T',\n",
    "    \"AUA\": 'I', \"AUG\": 'M', \"AUC\": 'I', \"AUU\": 'I',\n",
    "    \"GAA\": 'E', \"GAG\": 'E', \"GAC\": 'D', \"GAU\": 'D',\n",
    "    \"GGA\": 'G', \"GGG\": 'G', \"GGC\": 'G', \"GGU\": 'G',\n",
    "    \"GCA\": 'A', \"GCG\": 'A', \"GCC\": 'A', \"GCU\": 'A',\n",
    "    \"GUA\": 'V', \"GUG\": 'V', \"GUC\": 'V', \"GUU\": 'V',\n",
    "    \"CAA\": 'Q', \"CAG\": 'Q', \"CAC\": 'H', \"CAU\": 'H',\n",
    "    \"CGA\": 'R', \"CGG\": 'R', \"CGC\": 'R', \"CGU\": 'R',\n",
    "    \"CCA\": 'P', \"CCG\": 'P', \"CCC\": 'P', \"CCU\": 'P',\n",
    "    \"CUA\": 'L', \"CUG\": 'L', \"CUC\": 'L', \"CUU\": 'L',\n",
    "    \"UAA\": '*', \"UAG\": '*', \"UAC\": 'Y', \"UAU\": 'Y',\n",
    "    \"UGA\": '*', \"UGG\": 'W', \"UGC\": 'C', \"UGU\": 'C',\n",
    "    \"UCA\": 'S', \"UCG\": 'S', \"UCC\": 'S', \"UCU\": 'S',\n",
    "    \"UUA\": 'L', \"UUG\": 'L', \"UUC\": 'F', \"UUU\": 'F'\n",
    "}\n",
    "\n",
    "AminoAcid = { # Maps 1-letter Amino Acid Abbrevations to their full name\n",
    "    'A': 'Alanine', 'C': 'Cysteine', 'D': 'Aspartic acid', 'E': 'Glutamic acid', 'F': 'Phenylalanine',\n",
    "    'G': 'Glycine', 'H': 'Histidine', 'I': 'Isoleucine', 'K': 'Lysine', 'L': 'Leucine', 'M': 'Methionine',\n",
    "    'N': 'Asparagine', 'P': 'Proline', 'Q': 'Glutamine', 'R': 'Arginine', 'S': 'Serine',\n",
    "    'T': 'Theronine', 'V': 'Valine', 'W': 'Tryptophan', 'Y': 'Tyrosine', '*': 'STOP'\n",
    "}\n",
    "\n",
    "AminoAbbrv = { # Maps 1-letter Amino Acid Abbrevations to 3-letter Abbrevations\n",
    "    'A': 'Ala', 'C': 'Cys', 'D': 'Asp', 'E': 'Glu', 'F': 'Phe', 'G': 'Gly', 'H': 'His', 'I': 'Ile',\n",
    "    'K': 'Lys', 'L': 'Leu', 'M': 'Met', 'N': 'Asn', 'P': 'Pro', 'Q': 'Gln', 'R': 'Arg', 'S': 'Ser',\n",
    "    'T': 'Thr', 'V': 'Val', 'W': 'Trp', 'Y': 'Tyr', '*': 'STP'    \n",
    "}"
   ]
  },
  {
   "cell_type": "markdown",
   "metadata": {
    "nbpresent": {
     "id": "c5bbf4b4-b990-492f-8225-32be92024f5f"
    },
    "slideshow": {
     "slide_type": "fragment"
    }
   },
   "source": [
    "<p style=\"text-align: right; clear: right;\">7</p>"
   ]
  },
  {
   "cell_type": "markdown",
   "metadata": {
    "nbpresent": {
     "id": "de143d50-9a50-4b00-aaa8-7c9d4c8c5845"
    },
    "slideshow": {
     "slide_type": "slide"
    }
   },
   "source": [
    "# Now our Peptide sequence\n",
    "We'll use the 1-letter Amino Acid abbreviations to represent our sequence, and create a dictionary that provides for every peptide in our chain the set of codons that could encode it."
   ]
  },
  {
   "cell_type": "code",
   "execution_count": 3,
   "metadata": {
    "nbpresent": {
     "id": "843922b1-ba00-4ca1-b433-312a8ccf739b"
    },
    "slideshow": {
     "slide_type": "fragment"
    }
   },
   "outputs": [
    {
     "name": "stdout",
     "output_type": "stream",
     "text": [
      "           STOP (*): ['UGA', 'UAA', 'UAG']\n",
      "        Alanine (A): ['GCA', 'GCG', 'GCC', 'GCU']\n",
      "       Cysteine (C): ['UGU', 'UGC']\n",
      "  Aspartic acid (D): ['GAU', 'GAC']\n",
      "  Glutamic acid (E): ['GAG', 'GAA']\n",
      "  Phenylalanine (F): ['UUU', 'UUC']\n",
      "        Glycine (G): ['GGU', 'GGG', 'GGA', 'GGC']\n",
      "      Histidine (H): ['CAC', 'CAU']\n",
      "     Isoleucine (I): ['AUA', 'AUC', 'AUU']\n",
      "         Lysine (K): ['AAG', 'AAA']\n",
      "        Leucine (L): ['CUU', 'CUG', 'CUA', 'CUC', 'UUG', 'UUA']\n",
      "     Methionine (M): ['AUG']\n",
      "     Asparagine (N): ['AAC', 'AAU']\n",
      "        Proline (P): ['CCC', 'CCA', 'CCU', 'CCG']\n",
      "      Glutamine (Q): ['CAG', 'CAA']\n",
      "       Arginine (R): ['AGG', 'AGA', 'CGA', 'CGG', 'CGU', 'CGC']\n",
      "         Serine (S): ['AGC', 'AGU', 'UCU', 'UCG', 'UCC', 'UCA']\n",
      "      Theronine (T): ['ACC', 'ACA', 'ACU', 'ACG']\n",
      "         Valine (V): ['GUU', 'GUC', 'GUG', 'GUA']\n",
      "     Tryptophan (W): ['UGG']\n",
      "       Tyrosine (Y): ['UAU', 'UAC']\n"
     ]
    }
   ],
   "source": [
    "TyrocidineB1 = \"VKLFPWFNQY\"\n",
    "TrimerCodes = {}\n",
    "for key, code in codon.iteritems():\n",
    "    TrimerCodes[code] = TrimerCodes.get(code,[]) + [key]\n",
    "for key in sorted(TrimerCodes.iterkeys()):\n",
    "    print \"%15s (%1s): %s\" % (AminoAcid[key], key, TrimerCodes[key])"
   ]
  },
  {
   "cell_type": "markdown",
   "metadata": {
    "nbpresent": {
     "id": "2ba87f4a-8d3e-47c2-82cf-65fc93b1fa62"
    },
    "slideshow": {
     "slide_type": "fragment"
    }
   },
   "source": [
    "<p style=\"text-align: right; clear: right;\">8</p>"
   ]
  },
  {
   "cell_type": "markdown",
   "metadata": {
    "nbpresent": {
     "id": "b5e59b6f-9af7-4fc0-b197-d694d2256e9a"
    },
    "slideshow": {
     "slide_type": "slide"
    }
   },
   "source": [
    "# How many ways to code Tyrocidine B1?\n",
    "\n",
    "* Since most Amino Acids have multiple codon encodings, most peptide sequences can be codes in multiple ways.\n",
    "* Let's figure out exactly how many ways there are to encode our little peptide."
   ]
  },
  {
   "cell_type": "code",
   "execution_count": 4,
   "metadata": {
    "nbpresent": {
     "id": "99796054-27b4-47e3-871c-26639ad454e6"
    },
    "slideshow": {
     "slide_type": "fragment"
    }
   },
   "outputs": [
    {
     "name": "stdout",
     "output_type": "stream",
     "text": [
      "V Val ['GUU', 'GUC', 'GUG', 'GUA']\n",
      "K Lys ['AAG', 'AAA']\n",
      "L Leu ['CUU', 'CUG', 'CUA', 'CUC', 'UUG', 'UUA']\n",
      "F Phe ['UUU', 'UUC']\n",
      "P Pro ['CCC', 'CCA', 'CCU', 'CCG']\n",
      "W Trp ['UGG']\n",
      "F Phe ['UUU', 'UUC']\n",
      "N Asn ['AAC', 'AAU']\n",
      "Q Gln ['CAG', 'CAA']\n",
      "Y Tyr ['UAU', 'UAC']\n",
      "6144 possible sequences\n"
     ]
    }
   ],
   "source": [
    "codes = 1\n",
    "for residue in TyrocidineB1:\n",
    "    print residue, AminoAbbrv[residue], TrimerCodes[residue]\n",
    "    codes *= len(TrimerCodes[residue])\n",
    "print \"%d possible sequences\" % codes"
   ]
  },
  {
   "cell_type": "markdown",
   "metadata": {
    "nbpresent": {
     "id": "02996849-2bb5-4074-80d3-a3bdfffeb959"
    },
    "slideshow": {
     "slide_type": "fragment"
    }
   },
   "source": [
    "<p style=\"text-align: right; clear: right;\">9</p>"
   ]
  },
  {
   "cell_type": "markdown",
   "metadata": {
    "nbpresent": {
     "id": "581204b4-5b71-443b-a90e-9a63de79d9cc"
    },
    "slideshow": {
     "slide_type": "slide"
    }
   },
   "source": [
    "# Where do we start?\n",
    "\n",
    "* Consider that translation could begin at any point in the genome.\n",
    "* Genes can be encoded on either strand\n",
    "\n",
    "\n",
    "      <-C-A-A-T-T-T-G-A-A-A-A-A-G-G-G-A-C-C-A-A-A-T-T-G-G-T-C-A-T-A-\n",
    "        | | | | | | | | | | | | | | | | | | | | | | | | | | | | | |\n",
    "       -G-T-T-A-A-A-C-T-T-T-T-T-C-C-C-T-G-G-T-T-T-A-A-C-C-A-G-T-A-T->\n",
    "    \n",
    "* There are 3 possible ***open-read frames*** (mod-3 starting positions) on each strand.\n",
    "* Meanwhile, our peptide has 10 possible starting positions, since it is circular we can't be sure which codon appears first.\n",
    "* Let's start with something simple\n",
    "    - Converting a DNA sequence into a protein sequence.\n",
    "    - In other words, the computational version of translation"
   ]
  },
  {
   "cell_type": "code",
   "execution_count": 9,
   "metadata": {
    "nbpresent": {
     "id": "3721557c-1881-4009-9a60-5b311c728505"
    },
    "slideshow": {
     "slide_type": "fragment"
    }
   },
   "outputs": [],
   "source": [
    "def revComp(dnaSeq):\n",
    "    return ''.join([{'A':'T','C':'G','G':'C','T':'A'}[base] for base in reversed(dnaSeq)])\n",
    "\n",
    "def proteinTranslation(dnaSeq):\n",
    "    rnaSeq = dnaSeq.replace(\"T\", \"U\")\n",
    "    protSeq = ''\n",
    "    for i in xrange(0,len(dnaSeq),3):\n",
    "        if (i+3 > len(dnaSeq)):\n",
    "            break\n",
    "        protSeq += AminoAbbrv[codon[rnaSeq[i:i+3]]]\n",
    "    return rnaSeq, protSeq"
   ]
  },
  {
   "cell_type": "markdown",
   "metadata": {
    "nbpresent": {
     "id": "e0312256-8939-4eb2-937b-2bd74e4f8582"
    },
    "slideshow": {
     "slide_type": "fragment"
    }
   },
   "source": [
    "<p style=\"text-align: right; clear: right;\">10</p>"
   ]
  },
  {
   "cell_type": "markdown",
   "metadata": {
    "nbpresent": {
     "id": "05d2d858-c7ea-416b-9a91-6f899ce187a2"
    },
    "slideshow": {
     "slide_type": "slide"
    }
   },
   "source": [
    "# Let's test it"
   ]
  },
  {
   "cell_type": "code",
   "execution_count": 10,
   "metadata": {
    "nbpresent": {
     "id": "1ee88fa8-5b2d-48b1-ba81-4a4915953d8c"
    },
    "slideshow": {
     "slide_type": "fragment"
    }
   },
   "outputs": [
    {
     "name": "stdout",
     "output_type": "stream",
     "text": [
      "A short DNA sequence\n",
      "5'-GTGAAACTTTTTCCTTGGTTTAATCAATAT-3'\n",
      "3'-CACTTTGAAAAAGGAACCAAATTAGTTATA-5'\n",
      "\n",
      "Read frames in primary sequence\n",
      "1  GTGAAACTTTTTCCTTGGTTTAATCAATAT\n",
      "   GUGAAACUUUUUCCUUGGUUUAAUCAAUAU\n",
      "   ValLysLeuPheProTrpPheAsnGlnTyr\n",
      "\n",
      "2  GTGAAACTTTTTCCTTGGTTTAATCAATAT\n",
      "    UGAAACUUUUUCCUUGGUUUAAUCAAUAUG\n",
      "    STPAsnPhePheLeuGlyLeuIleAsnMet\n",
      "\n",
      "3  GTGAAACTTTTTCCTTGGTTTAATCAATAT\n",
      "     GAAACUUUUUCCUUGGUUUAAUCAAUAUGU\n",
      "     GluThrPheSerLeuValSTPSerIleCys\n",
      "\n",
      "\n",
      "Read frames in the reverse-complement sequence\n",
      "1  ATATTGATTAAACCAAGGAAAAAGTTTCAC\n",
      "   AUAUUGAUUAAACCAAGGAAAAAGUUUCAC\n",
      "   IleLeuIleLysProArgLysLysPheHis\n",
      "\n",
      "2  ATATTGATTAAACCAAGGAAAAAGTTTCAC\n",
      "    UAUUGAUUAAACCAAGGAAAAAGUUUCACA\n",
      "    TyrSTPLeuAsnGlnGlyLysSerPheThr\n",
      "\n",
      "3  ATATTGATTAAACCAAGGAAAAAGTTTCAC\n",
      "     AUUGAUUAAACCAAGGAAAAAGUUUCACAU\n",
      "     IleAspSTPThrLysGluLysValSerHis\n",
      "\n"
     ]
    }
   ],
   "source": [
    "# one way to code TyrocidineB1\n",
    "DNA = 'GTGAAACTTTTTCCTTGGTTTAATCAATAT' \n",
    "DNAr = revComp(DNA)\n",
    "\n",
    "print \"A short DNA sequence\"\n",
    "print \"5'-%s-3'\" % DNA\n",
    "print \"3'-%s-5'\" % ''.join([{'A':'T','C':'G','G':'C','T':'A'}[base] for base in DNA])\n",
    "print\n",
    "\n",
    "print \"Read frames in primary sequence\"\n",
    "for frame in xrange(3):\n",
    "    RNA, Peptides = proteinTranslation(DNA[frame:]+DNA[:frame])\n",
    "    print \"%d  %s\" % (frame+1,DNA)\n",
    "    print \"%s   %s\" % (frame*\" \", RNA)\n",
    "    print \"%s   %s\" % (frame*\" \", Peptides)\n",
    "    print\n",
    "\n",
    "print\n",
    "\n",
    "print \"Read frames in the reverse-complement sequence\"\n",
    "for frame in xrange(3):\n",
    "    RNA, Peptides = proteinTranslation(DNAr[frame:]+DNAr[:frame])\n",
    "    print \"%d  %s\" % (frame+1,DNAr)\n",
    "    print \"%s   %s\" % (frame*\" \", RNA)\n",
    "    print \"%s   %s\" % (frame*\" \", Peptides)\n",
    "    print\n"
   ]
  },
  {
   "cell_type": "markdown",
   "metadata": {
    "nbpresent": {
     "id": "e6e0de01-6e72-42ca-b2aa-352848101c20"
    },
    "slideshow": {
     "slide_type": "fragment"
    }
   },
   "source": [
    "<p style=\"text-align: right; clear: right;\">11</p>"
   ]
  },
  {
   "cell_type": "markdown",
   "metadata": {
    "nbpresent": {
     "id": "e9726f7c-bacd-461a-b171-fedc9279b6ad"
    },
    "slideshow": {
     "slide_type": "slide"
    }
   },
   "source": [
    "# Now let's try Something Real"
   ]
  },
  {
   "cell_type": "code",
   "execution_count": 11,
   "metadata": {
    "nbpresent": {
     "id": "61f87a9f-c521-4af8-94ae-78f9d4c61974"
    },
    "slideshow": {
     "slide_type": "fragment"
    }
   },
   "outputs": [
    {
     "ename": "IOError",
     "evalue": "[Errno 2] No such file or directory: 'data/BacillusBrevis.fa'",
     "output_type": "error",
     "traceback": [
      "\u001b[0;31m---------------------------------------------------------------------------\u001b[0m",
      "\u001b[0;31mIOError\u001b[0m                                   Traceback (most recent call last)",
      "\u001b[0;32m<ipython-input-11-3a7021a1d8db>\u001b[0m in \u001b[0;36m<module>\u001b[0;34m()\u001b[0m\n\u001b[1;32m     21\u001b[0m     \u001b[0;32mreturn\u001b[0m \u001b[0;34m(\u001b[0m\u001b[0mheaders\u001b[0m\u001b[0;34m,\u001b[0m \u001b[0msequences\u001b[0m\u001b[0;34m)\u001b[0m\u001b[0;34m\u001b[0m\u001b[0m\n\u001b[1;32m     22\u001b[0m \u001b[0;34m\u001b[0m\u001b[0m\n\u001b[0;32m---> 23\u001b[0;31m \u001b[0mheader\u001b[0m\u001b[0;34m,\u001b[0m \u001b[0mseq\u001b[0m \u001b[0;34m=\u001b[0m \u001b[0mloadFasta\u001b[0m\u001b[0;34m(\u001b[0m\u001b[0;34m\"data/BacillusBrevis.fa\"\u001b[0m\u001b[0;34m)\u001b[0m\u001b[0;34m\u001b[0m\u001b[0m\n\u001b[0m\u001b[1;32m     24\u001b[0m \u001b[0;32mfor\u001b[0m \u001b[0mi\u001b[0m \u001b[0;32min\u001b[0m \u001b[0mxrange\u001b[0m\u001b[0;34m(\u001b[0m\u001b[0mlen\u001b[0m\u001b[0;34m(\u001b[0m\u001b[0mheader\u001b[0m\u001b[0;34m)\u001b[0m\u001b[0;34m)\u001b[0m\u001b[0;34m:\u001b[0m\u001b[0;34m\u001b[0m\u001b[0m\n\u001b[1;32m     25\u001b[0m     \u001b[0;32mprint\u001b[0m \u001b[0mheader\u001b[0m\u001b[0;34m[\u001b[0m\u001b[0mi\u001b[0m\u001b[0;34m]\u001b[0m\u001b[0;34m\u001b[0m\u001b[0m\n",
      "\u001b[0;32m<ipython-input-11-3a7021a1d8db>\u001b[0m in \u001b[0;36mloadFasta\u001b[0;34m(filename)\u001b[0m\n\u001b[1;32m      6\u001b[0m         \u001b[0mfp\u001b[0m \u001b[0;34m=\u001b[0m \u001b[0mgzip\u001b[0m\u001b[0;34m.\u001b[0m\u001b[0mopen\u001b[0m\u001b[0;34m(\u001b[0m\u001b[0mfilename\u001b[0m\u001b[0;34m,\u001b[0m \u001b[0;34m'rb'\u001b[0m\u001b[0;34m)\u001b[0m\u001b[0;34m\u001b[0m\u001b[0m\n\u001b[1;32m      7\u001b[0m     \u001b[0;32melse\u001b[0m\u001b[0;34m:\u001b[0m\u001b[0;34m\u001b[0m\u001b[0m\n\u001b[0;32m----> 8\u001b[0;31m         \u001b[0mfp\u001b[0m \u001b[0;34m=\u001b[0m \u001b[0mopen\u001b[0m\u001b[0;34m(\u001b[0m\u001b[0mfilename\u001b[0m\u001b[0;34m,\u001b[0m \u001b[0;34m'rb'\u001b[0m\u001b[0;34m)\u001b[0m\u001b[0;34m\u001b[0m\u001b[0m\n\u001b[0m\u001b[1;32m      9\u001b[0m     \u001b[0;31m# split at headers\u001b[0m\u001b[0;34m\u001b[0m\u001b[0;34m\u001b[0m\u001b[0m\n\u001b[1;32m     10\u001b[0m     \u001b[0mdata\u001b[0m \u001b[0;34m=\u001b[0m \u001b[0mfp\u001b[0m\u001b[0;34m.\u001b[0m\u001b[0mread\u001b[0m\u001b[0;34m(\u001b[0m\u001b[0;34m)\u001b[0m\u001b[0;34m.\u001b[0m\u001b[0msplit\u001b[0m\u001b[0;34m(\u001b[0m\u001b[0;34m'>'\u001b[0m\u001b[0;34m)\u001b[0m\u001b[0;34m\u001b[0m\u001b[0m\n",
      "\u001b[0;31mIOError\u001b[0m: [Errno 2] No such file or directory: 'data/BacillusBrevis.fa'"
     ]
    }
   ],
   "source": [
    "def loadFasta(filename):\n",
    "    \"\"\" Parses a classically formatted and possibly \n",
    "        compressed FASTA file into a list of headers \n",
    "        and fragment sequences for each sequence contained\"\"\"\n",
    "    if (filename.endswith(\".gz\")):\n",
    "        fp = gzip.open(filename, 'rb')\n",
    "    else:\n",
    "        fp = open(filename, 'rb')\n",
    "    # split at headers\n",
    "    data = fp.read().split('>')\n",
    "    fp.close()\n",
    "    # ignore whatever appears before the 1st header\n",
    "    data.pop(0)     \n",
    "    headers = []\n",
    "    sequences = []\n",
    "    for sequence in data:\n",
    "        lines = sequence.split('\\n')\n",
    "        headers.append(lines.pop(0))\n",
    "        # add an extra \"+\" to make string \"1-referenced\"\n",
    "        sequences.append('+' + ''.join(lines))\n",
    "    return (headers, sequences)\n",
    "\n",
    "header, seq = loadFasta(\"data/BacillusBrevis.fa\")\n",
    "for i in xrange(len(header)):\n",
    "    print header[i]\n",
    "    print len(seq[i])-1, \"bases\", seq[i][:30], \"...\", seq[i][-30:]\n",
    "    print"
   ]
  },
  {
   "cell_type": "markdown",
   "metadata": {
    "nbpresent": {
     "id": "56a154af-50c5-40da-ae4d-b4ff8afb039f"
    },
    "slideshow": {
     "slide_type": "fragment"
    }
   },
   "source": [
    "Over 6 million bases to consider!\n",
    "<p style=\"text-align: right; clear: right;\">12</p>"
   ]
  },
  {
   "cell_type": "markdown",
   "metadata": {
    "nbpresent": {
     "id": "93399905-fdde-4f1d-bdd8-6330e20a7a9c"
    },
    "slideshow": {
     "slide_type": "slide"
    }
   },
   "source": [
    "# Some simple \"Computational\" experiments\n",
    "\n",
    "* Just like a biologist, it is ill-advised to jump into a problem without first getting some sense of what works and what doesn't. Let's first take a look at our data\n",
    "* One thing you might have noticed about the possible encodings of Tyrocidine B1 is that there is a single *Tryptophan* and only one encoding for this amino acid\n",
    "* Let's try to anchor our search around that seed and grow the full sequence from there.\n",
    "* Where and how many *Tryptophan* encodings"
   ]
  },
  {
   "cell_type": "code",
   "execution_count": 10,
   "metadata": {
    "nbpresent": {
     "id": "9ddca113-cd6d-493a-840b-1bb2f6d50777"
    },
    "slideshow": {
     "slide_type": "fragment"
    }
   },
   "outputs": [
    {
     "name": "stdout",
     "output_type": "stream",
     "text": [
      "Searching for TGG Found it 106555 times\n",
      "Searching for CCA Found it 107112 times\n"
     ]
    }
   ],
   "source": [
    "def CodonSeqCount(genome, codonSeq):\n",
    "    N = 0\n",
    "    start = 0\n",
    "    while True:\n",
    "        pos = genome.find(codonSeq, start)\n",
    "        if (pos < 0):\n",
    "            break\n",
    "        N += 1\n",
    "        start = pos + 1\n",
    "    return N\n",
    "    \n",
    "genome = seq[0]\n",
    "tryptophanCode = TrimerCodes['W'][0].replace('U','T')\n",
    "print \"Searching for\", tryptophanCode, \"Found it\", CodonSeqCount(genome,tryptophanCode), \"times\"\n",
    "revCompCode = revComp(tryptophanCode)\n",
    "print \"Searching for\", revCompCode, \"Found it\", CodonSeqCount(genome,revCompCode), \"times\""
   ]
  },
  {
   "cell_type": "markdown",
   "metadata": {
    "nbpresent": {
     "id": "74950cc2-1d61-44ae-8491-a708d31ba4d6"
    },
    "slideshow": {
     "slide_type": "fragment"
    }
   },
   "source": [
    "Is this about what you expected? $\\frac {6.3 \\times 10^6}{64} \\approx 100,000$.\n",
    "We've narrowed our search some, but there's still alot. \n",
    "<p style=\"text-align: right; clear: right;\">13</p>"
   ]
  },
  {
   "cell_type": "markdown",
   "metadata": {
    "nbpresent": {
     "id": "2291802f-01a1-43c2-a7ab-22cfcfe5558e"
    },
    "slideshow": {
     "slide_type": "slide"
    }
   },
   "source": [
    "# Narrowing things down more\n",
    "\n",
    "* Rather than searching for every possible string, let's examine the codons around this initial anchor."
   ]
  },
  {
   "cell_type": "code",
   "execution_count": 8,
   "metadata": {
    "nbpresent": {
     "id": "a8d14e30-0c7b-4310-a70e-788f3691ded6"
    },
    "slideshow": {
     "slide_type": "fragment"
    }
   },
   "outputs": [
    {
     "ename": "NameError",
     "evalue": "name 'genome' is not defined",
     "output_type": "error",
     "traceback": [
      "\u001b[0;31m---------------------------------------------------------------------------\u001b[0m",
      "\u001b[0;31mNameError\u001b[0m                                 Traceback (most recent call last)",
      "\u001b[0;32m<ipython-input-8-726702de2bb2>\u001b[0m in \u001b[0;36m<module>\u001b[0;34m()\u001b[0m\n\u001b[1;32m     21\u001b[0m \u001b[0mpeptide\u001b[0m \u001b[0;34m=\u001b[0m \u001b[0;34m\"WFNQY\"\u001b[0m\u001b[0;34m\u001b[0m\u001b[0m\n\u001b[1;32m     22\u001b[0m \u001b[0;32mfor\u001b[0m \u001b[0mi\u001b[0m \u001b[0;32min\u001b[0m \u001b[0mxrange\u001b[0m\u001b[0;34m(\u001b[0m\u001b[0;36m1\u001b[0m\u001b[0;34m,\u001b[0m\u001b[0mlen\u001b[0m\u001b[0;34m(\u001b[0m\u001b[0mpeptide\u001b[0m\u001b[0;34m)\u001b[0m\u001b[0;34m+\u001b[0m\u001b[0;36m1\u001b[0m\u001b[0;34m)\u001b[0m\u001b[0;34m:\u001b[0m\u001b[0;34m\u001b[0m\u001b[0m\n\u001b[0;32m---> 23\u001b[0;31m     \u001b[0mORFs\u001b[0m \u001b[0;34m=\u001b[0m \u001b[0mAminoAcidSeqCount\u001b[0m\u001b[0;34m(\u001b[0m\u001b[0mgenome\u001b[0m\u001b[0;34m,\u001b[0m\u001b[0mpeptide\u001b[0m\u001b[0;34m[\u001b[0m\u001b[0;34m:\u001b[0m\u001b[0mi\u001b[0m\u001b[0;34m]\u001b[0m\u001b[0;34m)\u001b[0m\u001b[0;34m\u001b[0m\u001b[0m\n\u001b[0m\u001b[1;32m     24\u001b[0m     \u001b[0;32mprint\u001b[0m \u001b[0mgenome\u001b[0m\u001b[0;34m\u001b[0m\u001b[0m\n\u001b[1;32m     25\u001b[0m     \u001b[0;32mprint\u001b[0m \u001b[0;34m\"Searching for\"\u001b[0m\u001b[0;34m,\u001b[0m \u001b[0mpeptide\u001b[0m\u001b[0;34m[\u001b[0m\u001b[0;34m:\u001b[0m\u001b[0mi\u001b[0m\u001b[0;34m]\u001b[0m\u001b[0;34m,\u001b[0m \u001b[0;34m\"Found it\"\u001b[0m\u001b[0;34m,\u001b[0m \u001b[0mlen\u001b[0m\u001b[0;34m(\u001b[0m\u001b[0mORFs\u001b[0m\u001b[0;34m)\u001b[0m\u001b[0;34m,\u001b[0m \u001b[0;34m\"times\"\u001b[0m\u001b[0;34m\u001b[0m\u001b[0m\n",
      "\u001b[0;31mNameError\u001b[0m: name 'genome' is not defined"
     ]
    }
   ],
   "source": [
    "def AminoAcidSeqCount(genome, peptideSeq):   # Note: Only checks primary strand\n",
    "    readframe = []\n",
    "    anchor = peptideSeq[0]\n",
    "    for rnaSeq in TrimerCodes[anchor]:\n",
    "        dnaSeq = rnaSeq.replace('U','T')\n",
    "        start = 0\n",
    "        while True:\n",
    "            pos = genome.find(dnaSeq, start)\n",
    "            if (pos < 0):\n",
    "                break\n",
    "            i = 1\n",
    "            while (i < len(peptideSeq) and (pos+3*(i+1) <= len(genome))):\n",
    "                if (codon[genome[pos+3*i:pos+3*(i+1)].replace('T','U')] != peptideSeq[i]):\n",
    "                    break\n",
    "                i += 1\n",
    "            else:\n",
    "                readframe.append(pos)\n",
    "            start = pos + 1\n",
    "        return readframe\n",
    "\n",
    "peptide = \"WFNQY\"\n",
    "for i in xrange(1,len(peptide)+1):\n",
    "    ORFs = AminoAcidSeqCount(genome,peptide[:i])\n",
    "    print genome\n",
    "    print \"Searching for\", peptide[:i], \"Found it\", len(ORFs), \"times\"    "
   ]
  },
  {
   "cell_type": "markdown",
   "metadata": {
    "nbpresent": {
     "id": "2e408991-b309-4458-b0b1-e454ed68a88c"
    },
    "slideshow": {
     "slide_type": "fragment"
    }
   },
   "source": [
    "<p style=\"text-align: right; clear: right;\">14</p>"
   ]
  },
  {
   "cell_type": "markdown",
   "metadata": {
    "nbpresent": {
     "id": "b743f689-0df3-416f-aaa4-c838da0a09e5"
    },
    "slideshow": {
     "slide_type": "slide"
    }
   },
   "source": [
    "# Could we have been Lucky this time?\n",
    "\n",
    "Let's take a look:"
   ]
  },
  {
   "cell_type": "code",
   "execution_count": 111,
   "metadata": {
    "nbpresent": {
     "id": "56e5133a-142c-4c1e-a23b-825b79b8f5cc"
    },
    "slideshow": {
     "slide_type": "fragment"
    }
   },
   "outputs": [
    {
     "name": "stdout",
     "output_type": "stream",
     "text": [
      "  2789614 TGGTTCAACCAATAT TrpPheAsnGlnTyr\n"
     ]
    }
   ],
   "source": [
    "for pos in ORFs:\n",
    "    start = pos\n",
    "    end = pos + (3*len(peptide))\n",
    "    print \"%9d %s %s\" % (start, genome[start:end], proteinTranslation(genome[start:end])[1])"
   ]
  },
  {
   "cell_type": "markdown",
   "metadata": {
    "nbpresent": {
     "id": "8678591f-071a-4ce3-8c59-c2a4799b152c"
    },
    "slideshow": {
     "slide_type": "fragment"
    }
   },
   "source": [
    "Recall we are looking for a substring of <code>ValLysLeuPheProTrpPheAsnGlnTyr</code>, which we found, but to be sure let's look around a little more."
   ]
  },
  {
   "cell_type": "code",
   "execution_count": 112,
   "metadata": {
    "nbpresent": {
     "id": "88a8dc75-41f3-42d6-9d0f-62102669b0b3"
    },
    "slideshow": {
     "slide_type": "fragment"
    }
   },
   "outputs": [
    {
     "name": "stdout",
     "output_type": "stream",
     "text": [
      "  2789608 CATGAATGGTTCAACCAATATTACGGA HisGluTrpPheAsnGlnTyrTyrGly\n"
     ]
    }
   ],
   "source": [
    "for pos in ORFs:\n",
    "    start = pos - (2*3)\n",
    "    end = pos + (3*(len(peptide)+2))\n",
    "    print \"%9d %s %s\" % (start, genome[start:end], proteinTranslation(genome[start:end])[1])"
   ]
  },
  {
   "cell_type": "markdown",
   "metadata": {
    "nbpresent": {
     "id": "eec39595-858c-44da-acd7-04317e0e1f5a"
    },
    "slideshow": {
     "slide_type": "fragment"
    }
   },
   "source": [
    "We didn't find what we were expecting.\n",
    "\n",
    "<p style=\"text-align: right; clear: right;\">15</p>"
   ]
  },
  {
   "cell_type": "markdown",
   "metadata": {
    "nbpresent": {
     "id": "e257666b-4868-455d-b243-c5a6ac472297"
    },
    "slideshow": {
     "slide_type": "slide"
    }
   },
   "source": [
    "# What Went Wrong?\n",
    "\n",
    "1. We only searched in one direction from our anchor \n",
    "2. We didn't search the reverse-complement sequence\n",
    "3. We didn't consider that the cycle could have been broken somewhere in between \"W-F-N-Q-Y\"\n",
    "   * One of the earlier 5, 111, 3922, or 106555 candidates might be the solution\n",
    "4. The best approach might be to call AminoAcidSeqCount() will all 10 circular permutations of \"VKLFPWFNQY\" (assuming that we also fix the reverse-complement sequence problem)"
   ]
  },
  {
   "cell_type": "code",
   "execution_count": 113,
   "metadata": {
    "nbpresent": {
     "id": "2a126354-7d96-4e4c-8016-e61217168ef3"
    },
    "slideshow": {
     "slide_type": "fragment"
    }
   },
   "outputs": [
    {
     "data": {
      "text/plain": [
       "['VKLFPWFNQY',\n",
       " 'KLFPWFNQYV',\n",
       " 'LFPWFNQYVK',\n",
       " 'FPWFNQYVKL',\n",
       " 'PWFNQYVKLF',\n",
       " 'WFNQYVKLFP',\n",
       " 'FNQYVKLFPW',\n",
       " 'NQYVKLFPWF',\n",
       " 'QYVKLFPWFN',\n",
       " 'YVKLFPWFNQ']"
      ]
     },
     "execution_count": 113,
     "metadata": {},
     "output_type": "execute_result"
    }
   ],
   "source": [
    "[TyrocidineB1[i:]+TyrocidineB1[:i] for i in xrange(len(TyrocidineB1))]"
   ]
  },
  {
   "cell_type": "markdown",
   "metadata": {
    "nbpresent": {
     "id": "855f6197-683a-4f39-8fff-70519d793cf5"
    },
    "slideshow": {
     "slide_type": "fragment"
    }
   },
   "source": [
    "But even if you tried alll these fixes, you would still not find the code for Tyrocidine B1 in *Brevibacillus brevis*.\n",
    "<p style=\"text-align: right; clear: right;\">16</p>"
   ]
  },
  {
   "cell_type": "markdown",
   "metadata": {
    "nbpresent": {
     "id": "a00b4018-77d7-4934-8e39-5e76ca3ae4ee"
    },
    "slideshow": {
     "slide_type": "slide"
    }
   },
   "source": [
    "# Proteins that make Petide Chains\n",
    "\n",
    "The Central Dogma is not the only way to make proteins!\n",
    "\n",
    "Bacteria and fungi use large multifunctional enzymes called *NonRibosomal Peptide Synthetases* (NRPSs) to produce peptide chains that are *not encoded* in DNA. Nonribosomal peptides are synthesized by nonribosomal peptide synthetases, which, unlike the ribosomes, are independent of messenger RNA. Each nonribosomal peptide synthetase can synthesize only one type of peptide. They are often toxins, siderophores, or pigments. Nonribosomal peptide antibiotics, cytostatics, and immunosuppressants are widely used as drugs.\n",
    "\n",
    "<img src=\"http://csbio.unc.edu/mcmillan/Comp555S18/Media/NRPSynthetase.png\" width=\"1000px\" class=\"centerImg\">\n",
    "\n",
    "<p style=\"text-align: right; clear: right;\">17</p>"
   ]
  },
  {
   "cell_type": "code",
   "execution_count": null,
   "metadata": {
    "collapsed": true
   },
   "outputs": [],
   "source": [
    "\n",
    "# We'll use this dictionary later\n",
    "Daltons = { \n",
    "    'A':  71, 'C': 103, 'D': 115, 'E': 129,\n",
    "    'F': 147, 'G':  57, 'H': 137, 'I': 113,\n",
    "    'K': 128, 'L': 113, 'M': 131, 'N': 114,\n",
    "    'P':  97, 'Q': 128, 'R': 156, 'S':  87,\n",
    "    'T': 101, 'V':  99, 'W': 186, 'Y': 163 \n",
    "}"
   ]
  },
  {
   "cell_type": "markdown",
   "metadata": {
    "collapsed": true,
    "nbpresent": {
     "id": "dd7acfc1-6c5a-4680-8466-dac71d407ad1"
    },
    "slideshow": {
     "slide_type": "slide"
    }
   },
   "source": [
    "# So we are left with a Question\n",
    "\n",
    "* How do you figure out a peptide's amino acid sequence? As we just saw, it may not appear in the genome.\n",
    "* Next time we will delve deeper into laboratory methods to start a discussion about peptide sequence inference\n",
    "\n",
    "<img src=\"http://csbio.unc.edu/mcmillan/Comp555S18/Media/MassSpec.jpg\" alt=\"Central Dogma\" width=\"400\" class=\"centeredImg\">\n",
    "\n",
    "<p style=\"text-align: right; clear: right;\">18</p>"
   ]
  },
  {
   "cell_type": "code",
   "execution_count": null,
   "metadata": {
    "collapsed": true
   },
   "outputs": [],
   "source": []
  }
 ],
 "metadata": {
  "anaconda-cloud": {},
  "kernelspec": {
   "display_name": "Python 2",
   "language": "python",
   "name": "python2"
  },
  "language_info": {
   "codemirror_mode": {
    "name": "ipython",
    "version": 2
   },
   "file_extension": ".py",
   "mimetype": "text/x-python",
   "name": "python",
   "nbconvert_exporter": "python",
   "pygments_lexer": "ipython2",
   "version": "2.7.14"
  },
  "nbpresent": {
   "slides": {
    "02b3029f-9d42-4e7f-b683-38ee271c7dc8": {
     "id": "02b3029f-9d42-4e7f-b683-38ee271c7dc8",
     "prev": "b9248a7f-e7af-4c20-b4a5-66b5de27c608",
     "regions": {
      "3f31b639-1ae7-48b3-b024-b064530ceeb5": {
       "attrs": {
        "height": 0.5705591580571282,
        "width": 0.96,
        "x": 0.020000000000000004,
        "y": 0.02
       },
       "content": {
        "cell": "581204b4-5b71-443b-a90e-9a63de79d9cc",
        "part": "whole"
       },
       "id": "3f31b639-1ae7-48b3-b024-b064530ceeb5"
      },
      "4751bc30-c2d0-4135-b4dc-1afaa5bb1044": {
       "attrs": {
        "height": 0.3349531558069917,
        "width": 0.96,
        "x": 0.02000000000000001,
        "y": 0.5913993812723066
       },
       "content": {
        "cell": "3721557c-1881-4009-9a60-5b311c728505",
        "part": "whole"
       },
       "id": "4751bc30-c2d0-4135-b4dc-1afaa5bb1044"
      },
      "f1d2441b-a75e-4e8b-a7a3-d032ae9e60ec": {
       "attrs": {
        "height": 0.05280723970552339,
        "width": 0.96,
        "x": 0.02000000000000001,
        "y": 0.9291797033656137
       },
       "content": {
        "cell": "e0312256-8939-4eb2-937b-2bd74e4f8582",
        "part": "whole"
       },
       "id": "f1d2441b-a75e-4e8b-a7a3-d032ae9e60ec"
      }
     }
    },
    "10a3450e-ccd5-42ce-808b-b3334fc3c86c": {
     "id": "10a3450e-ccd5-42ce-808b-b3334fc3c86c",
     "prev": "4bc754c6-5190-40e8-b24a-f863eeb2ecc0",
     "regions": {
      "7c0d2c14-da79-42bd-b273-dcb83ec5dedf": {
       "attrs": {
        "height": 0.96,
        "width": 0.96,
        "x": 0.02,
        "y": 0.02
       },
       "content": {
        "cell": "ad1f8baa-ff76-4bbc-ab36-09143661286a",
        "part": "whole"
       },
       "id": "7c0d2c14-da79-42bd-b273-dcb83ec5dedf"
      }
     }
    },
    "188e6166-2c41-49da-9e86-b554a2ba99fc": {
     "id": "188e6166-2c41-49da-9e86-b554a2ba99fc",
     "prev": "809a167d-38ed-4886-848a-069f16630af3",
     "regions": {
      "48834c6e-3c74-4f3c-ad5b-9f7435fe337a": {
       "attrs": {
        "height": 0.11905639941061692,
        "width": 0.96,
        "x": 0.020000000000000004,
        "y": 0.8609436005893831
       },
       "content": {
        "cell": "74950cc2-1d61-44ae-8491-a708d31ba4d6",
        "part": "whole"
       },
       "id": "48834c6e-3c74-4f3c-ad5b-9f7435fe337a"
      },
      "586851a2-d4ae-4e4c-be2c-105e021fdac6": {
       "attrs": {
        "height": 0.46609139850204034,
        "width": 0.96,
        "x": 0.02000000000000001,
        "y": 0.39794901727439047
       },
       "content": {
        "cell": "9ddca113-cd6d-493a-840b-1bb2f6d50777",
        "part": "whole"
       },
       "id": "586851a2-d4ae-4e4c-be2c-105e021fdac6"
      },
      "702db2a6-418b-4646-a8b0-190018401d6c": {
       "attrs": {
        "height": 0.3790220113319073,
        "width": 0.96,
        "x": 0.020000000000000004,
        "y": 0.02
       },
       "content": {
        "cell": "93399905-fdde-4f1d-bdd8-6330e20a7a9c",
        "part": "whole"
       },
       "id": "702db2a6-418b-4646-a8b0-190018401d6c"
      }
     }
    },
    "2b0ae062-9417-457c-a0e2-a0677d54eaaf": {
     "id": "2b0ae062-9417-457c-a0e2-a0677d54eaaf",
     "prev": "10a3450e-ccd5-42ce-808b-b3334fc3c86c",
     "regions": {
      "2ecb355d-6170-4239-af18-d08b75d6751e": {
       "attrs": {
        "height": 0.96,
        "width": 0.96,
        "x": 0.02,
        "y": 0.02
       },
       "content": {
        "cell": "b20af0e2-fa6c-41f1-a401-2194c7525cc7",
        "part": "whole"
       },
       "id": "2ecb355d-6170-4239-af18-d08b75d6751e"
      }
     }
    },
    "3360b451-f064-4bdf-b31f-42f45f45e46c": {
     "id": "3360b451-f064-4bdf-b31f-42f45f45e46c",
     "prev": "64c89af7-17ec-41ba-9f74-4d8b69d728db",
     "regions": {
      "36b28a4d-ce7c-4e56-b3d2-9bedd692b685": {
       "attrs": {
        "height": 0.96,
        "width": 0.96,
        "x": 0.02,
        "y": 0.02
       },
       "content": {
        "cell": "374fa800-4eb1-45cf-aae8-48754345b937",
        "part": "whole"
       },
       "id": "36b28a4d-ce7c-4e56-b3d2-9bedd692b685"
      }
     }
    },
    "4bc754c6-5190-40e8-b24a-f863eeb2ecc0": {
     "id": "4bc754c6-5190-40e8-b24a-f863eeb2ecc0",
     "prev": "510ab538-7295-493b-96bb-f1830b5e1aa0",
     "regions": {
      "a4c2e7dc-c888-4060-b409-16eb6842eb56": {
       "attrs": {
        "height": 0.96,
        "width": 0.96,
        "x": 0.02,
        "y": 0.02
       },
       "content": {
        "cell": "21d5c7fa-db24-4ce6-83ae-963c46f729e1",
        "part": "whole"
       },
       "id": "a4c2e7dc-c888-4060-b409-16eb6842eb56"
      }
     }
    },
    "510ab538-7295-493b-96bb-f1830b5e1aa0": {
     "id": "510ab538-7295-493b-96bb-f1830b5e1aa0",
     "prev": null,
     "regions": {
      "df9f11e5-9577-468c-9445-85926269cb68": {
       "attrs": {
        "height": 0.96,
        "width": 0.96,
        "x": 0.02,
        "y": 0.02
       },
       "content": {
        "cell": "2a553c55-bb44-4a7b-bca3-20b2066c902c",
        "part": "whole"
       },
       "id": "df9f11e5-9577-468c-9445-85926269cb68"
      }
     }
    },
    "54d27e96-60b3-4ab7-b257-728c8f5ae8c6": {
     "id": "54d27e96-60b3-4ab7-b257-728c8f5ae8c6",
     "prev": "6128615e-1f7d-4dc6-bb39-5f5caf5bdede",
     "regions": {
      "dc0fb7af-da3b-4bcb-ad8b-cffba1f25b4d": {
       "attrs": {
        "height": 0.6982422574651054,
        "width": 0.96,
        "x": 0.019982702393041975,
        "y": 0.2707893744470903
       },
       "content": {
        "cell": "843922b1-ba00-4ca1-b433-312a8ccf739b",
        "part": "whole"
       },
       "id": "dc0fb7af-da3b-4bcb-ad8b-cffba1f25b4d"
      },
      "de2ba06b-d9bb-43fb-b05c-115d4f1ff04d": {
       "attrs": {
        "height": 0.061788664722190766,
        "width": 0.96,
        "x": 0.02,
        "y": 0.9182113352778093
       },
       "content": {
        "cell": "2ba87f4a-8d3e-47c2-82cf-65fc93b1fa62",
        "part": "source"
       },
       "id": "de2ba06b-d9bb-43fb-b05c-115d4f1ff04d"
      },
      "fa6ab2d8-1c21-4925-ae0d-c1ceb6a7fa0e": {
       "attrs": {
        "height": 0.25093808531538286,
        "width": 0.96,
        "x": 0.020000000000000004,
        "y": 0.02
       },
       "content": {
        "cell": "de143d50-9a50-4b00-aaa8-7c9d4c8c5845",
        "part": "source"
       },
       "id": "fa6ab2d8-1c21-4925-ae0d-c1ceb6a7fa0e"
      }
     }
    },
    "6128615e-1f7d-4dc6-bb39-5f5caf5bdede": {
     "id": "6128615e-1f7d-4dc6-bb39-5f5caf5bdede",
     "prev": "3360b451-f064-4bdf-b31f-42f45f45e46c",
     "regions": {
      "0ddab656-81b3-4eec-b199-bc134a2c2629": {
       "attrs": {
        "height": 0.2058374355557523,
        "width": 0.96,
        "x": 0.019999999999999997,
        "y": 0.019999999999999997
       },
       "content": {
        "cell": "5ee72015-26f3-4872-9d82-e82c989b1fa8",
        "part": "source"
       },
       "id": "0ddab656-81b3-4eec-b199-bc134a2c2629"
      },
      "244630c9-242a-4fce-91d9-450bef236252": {
       "attrs": {
        "height": 0.6948488253792876,
        "width": 0.96,
        "x": 0.018802007982031382,
        "y": 0.22528712206428572
       },
       "content": {
        "cell": "9e6e7c55-2d99-472e-b940-fa8d3e34fbaa",
        "part": "whole"
       },
       "id": "244630c9-242a-4fce-91d9-450bef236252"
      },
      "ab83b368-acf0-421a-a6c9-a9e71baac219": {
       "attrs": {
        "height": 0.058735271224102416,
        "width": 0.96,
        "x": 0.020000000000000094,
        "y": 0.9168623810845349
       },
       "content": {
        "cell": "c5bbf4b4-b990-492f-8225-32be92024f5f",
        "part": "source"
       },
       "id": "ab83b368-acf0-421a-a6c9-a9e71baac219"
      }
     }
    },
    "64c89af7-17ec-41ba-9f74-4d8b69d728db": {
     "id": "64c89af7-17ec-41ba-9f74-4d8b69d728db",
     "prev": "2b0ae062-9417-457c-a0e2-a0677d54eaaf",
     "regions": {
      "11b23a2e-9dc2-487f-adf4-55049220fa7c": {
       "attrs": {
        "height": 0.96,
        "width": 0.96,
        "x": 0.02,
        "y": 0.02
       },
       "content": {
        "cell": "a80a760b-10f9-4f60-ad8b-a3f9e2f049c7",
        "part": "whole"
       },
       "id": "11b23a2e-9dc2-487f-adf4-55049220fa7c"
      }
     }
    },
    "7770422b-c65e-4abe-8ecd-9abad12adb83": {
     "id": "7770422b-c65e-4abe-8ecd-9abad12adb83",
     "prev": "02b3029f-9d42-4e7f-b683-38ee271c7dc8",
     "regions": {
      "33d6ccf5-1712-424c-9259-62a5679d8ebc": {
       "attrs": {
        "height": 0.7740675669487045,
        "width": 0.96,
        "x": 0.021152250691430573,
        "y": 0.1326685488967729
       },
       "content": {
        "cell": "1ee88fa8-5b2d-48b1-ba81-4a4915953d8c",
        "part": "source"
       },
       "id": "33d6ccf5-1712-424c-9259-62a5679d8ebc"
      },
      "781b16d8-0e23-42d6-81ec-de8b8edf6706": {
       "attrs": {
        "height": 0.07664566411597436,
        "width": 0.96,
        "x": 0.020000000000000004,
        "y": 0.9033543358840256
       },
       "content": {
        "cell": "e6e0de01-6e72-42ca-b2aa-352848101c20",
        "part": "whole"
       },
       "id": "781b16d8-0e23-42d6-81ec-de8b8edf6706"
      },
      "963970f0-9b0a-41c2-b0e9-9686954a000a": {
       "attrs": {
        "height": 0.11236502678322184,
        "width": 0.96,
        "x": 0.020000000000000004,
        "y": 0.02
       },
       "content": {
        "cell": "05d2d858-c7ea-416b-9a91-6f899ce187a2",
        "part": "whole"
       },
       "id": "963970f0-9b0a-41c2-b0e9-9686954a000a"
      }
     }
    },
    "809a167d-38ed-4886-848a-069f16630af3": {
     "id": "809a167d-38ed-4886-848a-069f16630af3",
     "prev": "9778af9e-a048-4248-9905-f1608c419ed9",
     "regions": {
      "664bfe64-5975-4b8d-8ba6-59d528d21026": {
       "attrs": {
        "height": 0.1104285887684993,
        "width": 0.96,
        "x": 0.02000000000000001,
        "y": 0.873545297373775
       },
       "content": {
        "cell": "56a154af-50c5-40da-ae4d-b4ff8afb039f",
        "part": "whole"
       },
       "id": "664bfe64-5975-4b8d-8ba6-59d528d21026"
      },
      "816e1f46-2aac-4c29-b445-cbf05be2cd0c": {
       "attrs": {
        "height": 0.11157530862445796,
        "width": 0.96,
        "x": 0.020000000000000004,
        "y": 0.02
       },
       "content": {
        "cell": "e9726f7c-bacd-461a-b171-fedc9279b6ad",
        "part": "whole"
       },
       "id": "816e1f46-2aac-4c29-b445-cbf05be2cd0c"
      },
      "88590349-c3d8-41a8-a17f-2d521e2f38bd": {
       "attrs": {
        "height": 0.7343287131055489,
        "width": 0.96,
        "x": 0.021117655477514628,
        "y": 0.13241553183963645
       },
       "content": {
        "cell": "61f87a9f-c521-4af8-94ae-78f9d4c61974",
        "part": "whole"
       },
       "id": "88590349-c3d8-41a8-a17f-2d521e2f38bd"
      }
     }
    },
    "92c3503b-5856-4c89-b072-38e62103eda7": {
     "id": "92c3503b-5856-4c89-b072-38e62103eda7",
     "prev": "d6a63053-4d76-4b9a-88c0-639168a56f74",
     "regions": {
      "fd0786df-28bc-4b98-bf60-4a64fbf0c5ba": {
       "attrs": {
        "height": 0.96,
        "width": 0.96,
        "x": 0.02,
        "y": 0.02
       },
       "content": {
        "cell": "a00b4018-77d7-4934-8e39-5e76ca3ae4ee",
        "part": "whole"
       },
       "id": "fd0786df-28bc-4b98-bf60-4a64fbf0c5ba"
      }
     }
    },
    "9778af9e-a048-4248-9905-f1608c419ed9": {
     "id": "9778af9e-a048-4248-9905-f1608c419ed9",
     "prev": "7770422b-c65e-4abe-8ecd-9abad12adb83",
     "regions": {
      "045eda27-a8db-4168-838a-5f196b7fcedb": {
       "attrs": {
        "height": 0.07277884354340755,
        "width": 0.9598247332845905,
        "x": 0.01729349466391824,
        "y": 0.9027249931598024
       },
       "content": {
        "cell": "e6e0de01-6e72-42ca-b2aa-352848101c20",
        "part": "source"
       },
       "id": "045eda27-a8db-4168-838a-5f196b7fcedb"
      },
      "b26ad7bf-0b41-4469-8fd9-97200725a12a": {
       "attrs": {
        "height": 0.7304570000897879,
        "width": 0.958707077807076,
        "x": 0.019528805618947476,
        "y": 0.17152994298134935
       },
       "content": {
        "cell": "1ee88fa8-5b2d-48b1-ba81-4a4915953d8c",
        "part": "outputs"
       },
       "id": "b26ad7bf-0b41-4469-8fd9-97200725a12a"
      },
      "b9c2c525-1f52-412f-af8b-c0a72181d141": {
       "attrs": {
        "height": 0.13965365019763543,
        "width": 0.9597644028094737,
        "x": 0.020117798595263144,
        "y": 0.02781720299591941
       },
       "content": {
        "cell": "05d2d858-c7ea-416b-9a91-6f899ce187a2",
        "part": "source"
       },
       "id": "b9c2c525-1f52-412f-af8b-c0a72181d141"
      }
     }
    },
    "b9248a7f-e7af-4c20-b4a5-66b5de27c608": {
     "id": "b9248a7f-e7af-4c20-b4a5-66b5de27c608",
     "prev": "54d27e96-60b3-4ab7-b257-728c8f5ae8c6",
     "regions": {
      "1463c8d1-417c-4c5e-b180-b966f3df4f95": {
       "attrs": {
        "height": 0.06671584120348309,
        "width": 0.96,
        "x": 0.01888234452248539,
        "y": 0.915271101867654
       },
       "content": {
        "cell": "02996849-2bb5-4074-80d3-a3bdfffeb959",
        "part": "source"
       },
       "id": "1463c8d1-417c-4c5e-b180-b966f3df4f95"
      },
      "7dd67956-0cfe-4abf-8ee1-e3cc62f96acf": {
       "attrs": {
        "height": 0.33322114485531235,
        "width": 0.96,
        "x": 0.02,
        "y": 0.02
       },
       "content": {
        "cell": "b5e59b6f-9af7-4fc0-b197-d694d2256e9a",
        "part": "whole"
       },
       "id": "7dd67956-0cfe-4abf-8ee1-e3cc62f96acf"
      },
      "cddfec37-ca70-474f-a209-c5378955d112": {
       "attrs": {
        "height": 0.5573370232680537,
        "width": 0.96,
        "x": 0.017730093831054734,
        "y": 0.3560790624428865
       },
       "content": {
        "cell": "99796054-27b4-47e3-871c-26639ad454e6",
        "part": "whole"
       },
       "id": "cddfec37-ca70-474f-a209-c5378955d112"
      }
     }
    },
    "baabe2ad-d0cd-47d4-9f8b-863b7736b1db": {
     "id": "baabe2ad-d0cd-47d4-9f8b-863b7736b1db",
     "prev": "188e6166-2c41-49da-9e86-b554a2ba99fc",
     "regions": {
      "14889692-869b-40c3-87ec-3a62cb42df6e": {
       "attrs": {
        "height": 0.24072663856671467,
        "width": 0.96,
        "x": 0.020000000000000004,
        "y": 0.02
       },
       "content": {
        "cell": "2291802f-01a1-43c2-a7ab-22cfcfe5558e",
        "part": "whole"
       },
       "id": "14889692-869b-40c3-87ec-3a62cb42df6e"
      },
      "322d1385-f750-4901-bba3-df59e02da502": {
       "attrs": {
        "height": 0.6747204209714359,
        "width": 0.96,
        "x": 0.02000000000000001,
        "y": 0.2575929756396189
       },
       "content": {
        "cell": "a8d14e30-0c7b-4310-a70e-788f3691ded6",
        "part": "whole"
       },
       "id": "322d1385-f750-4901-bba3-df59e02da502"
      },
      "5793938c-2662-40dd-8615-49a41a61303e": {
       "attrs": {
        "height": 0.04684644081045729,
        "width": 0.96,
        "x": 0.021117655477514628,
        "y": 0.933153589507888
       },
       "content": {
        "cell": "2e408991-b309-4458-b0b1-e454ed68a88c",
        "part": "whole"
       },
       "id": "5793938c-2662-40dd-8615-49a41a61303e"
      }
     }
    },
    "bd4fcb9b-7f49-4935-9dfb-c7b682be6afd": {
     "id": "bd4fcb9b-7f49-4935-9dfb-c7b682be6afd",
     "prev": "92c3503b-5856-4c89-b072-38e62103eda7",
     "regions": {
      "2134440e-b948-422c-9847-e4659cc64a3d": {
       "attrs": {
        "height": 0.96,
        "width": 0.96,
        "x": 0.02,
        "y": 0.02
       },
       "content": {
        "cell": "dd7acfc1-6c5a-4680-8466-dac71d407ad1",
        "part": "whole"
       },
       "id": "2134440e-b948-422c-9847-e4659cc64a3d"
      }
     }
    },
    "d6a63053-4d76-4b9a-88c0-639168a56f74": {
     "id": "d6a63053-4d76-4b9a-88c0-639168a56f74",
     "prev": "f8b00ed2-73eb-4a77-9823-4b942a7d9a02",
     "regions": {
      "229d490d-3e48-459b-a243-1d71e6a89feb": {
       "attrs": {
        "height": 0.43544705953815055,
        "width": 0.96,
        "x": 0.020000000000000004,
        "y": 0.02
       },
       "content": {
        "cell": "e257666b-4868-455d-b243-c5a6ac472297",
        "part": "whole"
       },
       "id": "229d490d-3e48-459b-a243-1d71e6a89feb"
      },
      "6069d08e-77f7-446c-9436-f73461a97154": {
       "attrs": {
        "height": 0.140232765153901,
        "width": 0.96,
        "x": 0.023352966432543868,
        "y": 0.839767234846099
       },
       "content": {
        "cell": "855f6197-683a-4f39-8fff-70519d793cf5",
        "part": "whole"
       },
       "id": "6069d08e-77f7-446c-9436-f73461a97154"
      },
      "f3d3421d-a846-48ee-a59e-c69a9fe16a40": {
       "attrs": {
        "height": 0.380652846443145,
        "width": 0.96,
        "x": 0.021117655477514628,
        "y": 0.460261138577258
       },
       "content": {
        "cell": "2a126354-7d96-4e4c-8016-e61217168ef3",
        "part": "whole"
       },
       "id": "f3d3421d-a846-48ee-a59e-c69a9fe16a40"
      }
     }
    },
    "f8b00ed2-73eb-4a77-9823-4b942a7d9a02": {
     "id": "f8b00ed2-73eb-4a77-9823-4b942a7d9a02",
     "prev": "baabe2ad-d0cd-47d4-9f8b-863b7736b1db",
     "regions": {
      "07ad1501-9219-4448-a1dd-662112455aaf": {
       "attrs": {
        "height": 0.19785411421687688,
        "width": 0.96,
        "x": 0.023352966432543868,
        "y": 0.2595799187107561
       },
       "content": {
        "cell": "56e5133a-142c-4c1e-a23b-825b79b8f5cc",
        "part": "whole"
       },
       "id": "07ad1501-9219-4448-a1dd-662112455aaf"
      },
      "1e87296a-43a5-48e2-8c8b-f1fc799035b3": {
       "attrs": {
        "height": 0.11241556215798161,
        "width": 0.96,
        "x": 0.022235310955029248,
        "y": 0.4582742258244661
       },
       "content": {
        "cell": "8678591f-071a-4ce3-8c59-c2a4799b152c",
        "part": "whole"
       },
       "id": "1e87296a-43a5-48e2-8c8b-f1fc799035b3"
      },
      "33c357ad-051f-4416-aa05-691b2a349d69": {
       "attrs": {
        "height": 0.26541017863553834,
        "width": 0.96,
        "x": 0.022235310955029248,
        "y": 0.5675560341003162
       },
       "content": {
        "cell": "88a8dc75-41f3-42d6-9d0f-62102669b0b3",
        "part": "whole"
       },
       "id": "33c357ad-051f-4416-aa05-691b2a349d69"
      },
      "6cee3119-1103-4026-8e24-d22ff9a9e706": {
       "attrs": {
        "height": 0.23476580935330338,
        "width": 0.96,
        "x": 0.020000000000000004,
        "y": 0.02
       },
       "content": {
        "cell": "b743f689-0df3-416f-aaa4-c838da0a09e5",
        "part": "whole"
       },
       "id": "6cee3119-1103-4026-8e24-d22ff9a9e706"
      },
      "92967382-557b-4d40-8a7a-c1e059f888f7": {
       "attrs": {
        "height": 0.13824582208276393,
        "width": 0.96,
        "x": 0.022235310955029248,
        "y": 0.8338064056326877
       },
       "content": {
        "cell": "eec39595-858c-44da-acd7-04317e0e1f5a",
        "part": "whole"
       },
       "id": "92967382-557b-4d40-8a7a-c1e059f888f7"
      }
     }
    }
   },
   "themes": {
    "default": "db55c28c-d444-405f-8edb-4847a683cf5c",
    "theme": {
     "db55c28c-d444-405f-8edb-4847a683cf5c": {
      "backgrounds": {
       "my-background": {
        "background-color": "white"
       }
      },
      "id": "db55c28c-d444-405f-8edb-4847a683cf5c",
      "palette": {
       "black": {
        "id": "black",
        "rgb": [
         0,
         0,
         0
        ]
       },
       "blue": {
        "id": "blue",
        "rgb": [
         0,
         153,
         204
        ]
       },
       "gray": {
        "id": "gray",
        "rgb": [
         128,
         128,
         128
        ]
       },
       "red": {
        "id": "red",
        "rgb": [
         240,
         32,
         32
        ]
       },
       "white": {
        "id": "white",
        "rgb": [
         255,
         255,
         255
        ]
       }
      },
      "rules": {
       "code": {
        "font-size": 1.6
       },
       "h1": {
        "color": "blue",
        "font-size": 5.5,
        "text-align": "center"
       },
       "h2": {
        "color": "blue",
        "font-size": 3,
        "text-align": "center"
       },
       "h3": {
        "color": "black",
        "font-size": 3
       },
       "pre": {
        "font-size": 1.6
       },
       "ul li": {
        "color": "black",
        "font-size": 2.5
       },
       "ul li ul li": {
        "color": "black",
        "font-size": 2
       }
      },
      "text-base": {
       "font-family": "Georgia",
       "font-size": 2.5
      }
     }
    }
   }
  }
 },
 "nbformat": 4,
 "nbformat_minor": 1
}
