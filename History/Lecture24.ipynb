{
 "cells": [
  {
   "cell_type": "code",
   "execution_count": 1,
   "metadata": {
    "nbpresent": {
     "id": "0af2d0d8-8964-46df-acc4-606552b6090c"
    }
   },
   "outputs": [
    {
     "data": {
      "application/javascript": [
       "var width = window.innerWidth || document.documentElement.clientWidth || document.body.clientWidth;\n",
       "var height = window.innerHeight || document.documentElement.clientHeight || document.body.clientHeight;\n",
       "\n",
       "IPython.notebook.kernel.execute(\"windowSize = (\" + width + \",\" + height + \")\");\n",
       "// suitable for small screens\n",
       "nbpresent.mode.tree.set(\n",
       "    [\"app\", \"theme-manager\", \"themes\", \"my-theme\"], \n",
       "    {\n",
       "    palette: {\n",
       "        \"blue\": { id: \"blue\", rgb: [0, 153, 204] },\n",
       "        \"black\": { id: \"black\", rgb: [0, 0, 0] },\n",
       "        \"white\": { id: \"white\", rgb: [255, 255, 255] },\n",
       "        \"red\": { id: \"red\", rgb: [240, 32, 32] },\n",
       "        \"gray\": { id: \"gray\", rgb: [128, 128, 128] },\n",
       "    },\n",
       "    backgrounds: {\n",
       "        \"my-background\": {\n",
       "            \"background-color\": \"white\"\n",
       "        }\n",
       "    },\n",
       "    \"text-base\": {\n",
       "        \"font-family\": \"Georgia\",\n",
       "        \"font-size\": 2.5\n",
       "    },\n",
       "    rules: {\n",
       "        h1: {\n",
       "            \"font-size\": 5.5,\n",
       "            color: \"blue\",\n",
       "            \"text-align\": \"center\"\n",
       "        },\n",
       "        h2: {\n",
       "            \"font-size\": 3,\n",
       "            color: \"blue\",\n",
       "            \"text-align\": \"center\"\n",
       "        },\n",
       "        h3: {\n",
       "            \"font-size\": 3,\n",
       "            color: \"black\",\n",
       "        },\n",
       "        \"ul li\": {\n",
       "            \"font-size\": 2.5,\n",
       "            color: \"black\"\n",
       "        },\n",
       "        \"ul li ul li\": {\n",
       "            \"font-size\": 2.0,\n",
       "            color: \"black\"\n",
       "        },\n",
       "        \"code\": {\n",
       "            \"font-size\": 1.6,\n",
       "        },\n",
       "        \"pre\": {\n",
       "            \"font-size\": 1.6,\n",
       "        }\n",
       "    }\n",
       "});"
      ],
      "text/plain": [
       "<IPython.core.display.Javascript object>"
      ]
     },
     "metadata": {},
     "output_type": "display_data"
    }
   ],
   "source": [
    "%%javascript\n",
    "var width = window.innerWidth || document.documentElement.clientWidth || document.body.clientWidth;\n",
    "var height = window.innerHeight || document.documentElement.clientHeight || document.body.clientHeight;\n",
    "\n",
    "IPython.notebook.kernel.execute(\"windowSize = (\" + width + \",\" + height + \")\");\n",
    "// suitable for small screens\n",
    "nbpresent.mode.tree.set(\n",
    "    [\"app\", \"theme-manager\", \"themes\", \"my-theme\"], \n",
    "    {\n",
    "    palette: {\n",
    "        \"blue\": { id: \"blue\", rgb: [0, 153, 204] },\n",
    "        \"black\": { id: \"black\", rgb: [0, 0, 0] },\n",
    "        \"white\": { id: \"white\", rgb: [255, 255, 255] },\n",
    "        \"red\": { id: \"red\", rgb: [240, 32, 32] },\n",
    "        \"gray\": { id: \"gray\", rgb: [128, 128, 128] },\n",
    "    },\n",
    "    backgrounds: {\n",
    "        \"my-background\": {\n",
    "            \"background-color\": \"white\"\n",
    "        }\n",
    "    },\n",
    "    \"text-base\": {\n",
    "        \"font-family\": \"Georgia\",\n",
    "        \"font-size\": 2.5\n",
    "    },\n",
    "    rules: {\n",
    "        h1: {\n",
    "            \"font-size\": 5.5,\n",
    "            color: \"blue\",\n",
    "            \"text-align\": \"center\"\n",
    "        },\n",
    "        h2: {\n",
    "            \"font-size\": 3,\n",
    "            color: \"blue\",\n",
    "            \"text-align\": \"center\"\n",
    "        },\n",
    "        h3: {\n",
    "            \"font-size\": 3,\n",
    "            color: \"black\",\n",
    "        },\n",
    "        \"ul li\": {\n",
    "            \"font-size\": 2.5,\n",
    "            color: \"black\"\n",
    "        },\n",
    "        \"ul li ul li\": {\n",
    "            \"font-size\": 2.0,\n",
    "            color: \"black\"\n",
    "        },\n",
    "        \"code\": {\n",
    "            \"font-size\": 1.6,\n",
    "        },\n",
    "        \"pre\": {\n",
    "            \"font-size\": 1.6,\n",
    "        }\n",
    "    }\n",
    "});"
   ]
  },
  {
   "cell_type": "markdown",
   "metadata": {
    "nbpresent": {
     "id": "538d5959-7afd-4651-9fce-777afa13cf5d"
    },
    "slideshow": {
     "slide_type": "slide"
    }
   },
   "source": [
    "# Genome Rearrangements - Continued\n",
    "\n",
    "<img src=\"http://csbio.unc.edu/mcmillan/Comp555S18/Media/breakpoint.jpg\" width=\"700px\" class=\"centerImg\">\n",
    "\n",
    "<p style=\"text-align: right; clear: right;\">1</p>"
   ]
  },
  {
   "cell_type": "markdown",
   "metadata": {
    "nbpresent": {
     "id": "cdc4f8ce-a5d6-4204-9d2b-71e032851831"
    },
    "slideshow": {
     "slide_type": "slide"
    }
   },
   "source": [
    "# Lessons from last time\n",
    "\n",
    "1. With each reversal, one can remove at most 2 breakpoints\n",
    "2. If there is any *decreasing* strip there exists a reversal that will remove at least one breakpoint\n",
    "3. If breakpoints remain and there is no *decreasing* strip one can be created by reserving *any* remaining strip\n",
    "\n",
    "$$\n",
    "\\begin{aligned}\n",
    "& \\overrightarrow{\\color{blue}{0}, 1, 2},\\color{red}{|}\\:\\underleftarrow{\\overrightarrow{5, 6, 7},}\\color{red}{|}\\:\\overrightarrow{3, 4}, \\color{red}{|}\\: \\overrightarrow{8,\\color{blue}{9}}\\qquad & b(p) = 3\\qquad & \\rho(3, 5)\\\\\n",
    "& \\overrightarrow{\\color{blue}{0}, 1, 2},\\color{red}{|}\\:\\overleftarrow{7, 6, 5},\\color{red}{|}\\:\\overrightarrow{3, 4}, \\color{red}{|}\\: \\overrightarrow{8,\\color{blue}{9}}\\qquad & b(p) = 3\\qquad & \\rho(6, 7)\\\\\n",
    "& \\overrightarrow{\\color{blue}{0}, 1, 2},\\color{red}{|}\\:\\overleftarrow{7, 6, 5, 4, 3}, \\color{red}{|}\\: \\overrightarrow{8,\\color{blue}{9}}\\qquad & b(p) = 2\\qquad & \\rho(3, 7)\\\\\n",
    "& \\overrightarrow{\\color{blue}{0}, 1, 2, 3, 4, 5, 6, 7, 8,\\color{blue}{9}}\\qquad & b(p) = 0\\qquad  & Done!\\\\\n",
    "\\end{aligned}\n",
    "$$\n",
    "\n",
    "An optimal algorithm would remove 2 breakpoints at every step. The last reversal always removes 2 breakpoints, thus if the number of breakpoints is odd, even the optimal algorithm must make at least one reersal that removes only 1 breakpoint. \n",
    "\n",
    "<p style=\"text-align: right; clear: right;\">2</p>"
   ]
  },
  {
   "cell_type": "markdown",
   "metadata": {
    "nbpresent": {
     "id": "d71153aa-edc6-4daf-bf4f-21aab0123116"
    },
    "slideshow": {
     "slide_type": "slide"
    }
   },
   "source": [
    "# An Improved Breakpoint Reversal Sort\n",
    "\n",
    "### ImprovedBreakpointReversalSort(π)\n",
    "```\n",
    "1. while b(π) > 0\n",
    "2.     if π has a decreasing strip\n",
    "3.         Among all possible reversals, choose reversal ρ that minimizes b(π • ρ)\n",
    "4.     else\n",
    "5.         Choose a reversal ρ that flips an increasing strip in π\n",
    "6.     π ← π • ρ\n",
    "7. output π\n",
    "8. return\n",
    "```\n",
    "\n",
    "<p style=\"text-align: right; clear: left;\">3</p>"
   ]
  },
  {
   "cell_type": "markdown",
   "metadata": {
    "nbpresent": {
     "id": "58f6c89c-1abe-4e52-a695-84ff9eaa2aa2"
    },
    "slideshow": {
     "slide_type": "slide"
    }
   },
   "source": [
    "# Improved Breakpoint Reversal Sort in Python"
   ]
  },
  {
   "cell_type": "code",
   "execution_count": 1,
   "metadata": {
    "collapsed": true,
    "slideshow": {
     "slide_type": "skip"
    }
   },
   "outputs": [],
   "source": [
    "def hasBreakpoints(seq):\n",
    "    \"\"\" returns True if sequnces in not strictly increasing by 1 \"\"\"\n",
    "    for i in xrange(1, len(seq)):\n",
    "        if (seq[i] != seq[i-1] + 1):\n",
    "            return True\n",
    "    return False\n",
    "\n",
    "def getStrips(seq):\n",
    "    \"\"\" find contained intervals where sequence is ordered, and return intervals\n",
    "    in as lists, increasing and decreasing. Single elements are considered\n",
    "    decreasing. \"Contained\" excludes the first and last interval. \"\"\"\n",
    "    deltas = [seq[i+1] - seq[i] for i in xrange(len(seq)-1)]\n",
    "    increasing = list()\n",
    "    decreasing = list()\n",
    "    start = 0\n",
    "    for i, diff in enumerate(deltas):\n",
    "        if (abs(diff) == 1) and (diff == deltas[start]):\n",
    "            continue\n",
    "        if (start > 0):\n",
    "            if deltas[start] == 1:\n",
    "                increasing.append((start, i+1))\n",
    "            else:\n",
    "                decreasing.append((start, i+1))\n",
    "        start = i+1\n",
    "    return increasing, decreasing\n",
    "\n",
    "def pickReversal(seq, strips):\n",
    "    \"\"\" test each decreasing interval to see if it leads to a reversal that\n",
    "    removes two breakpoints, otherwise, return a reversal that removes only one \"\"\"\n",
    "    for i, j in strips:\n",
    "        k = seq.index(seq[j-1]-1)\n",
    "        if (seq[k+1] + 1 == seq[j]):\n",
    "            # removes 2 breakpoints\n",
    "            return 2, (min(k+1, j), max(k+1, j))\n",
    "    # In the worst case we remove only one, but avoid the length \"1\" strips\n",
    "    for i, j in strips:\n",
    "        k = seq.index(seq[j-1]-1)\n",
    "        if (j - i > 1):\n",
    "            break\n",
    "    return 1, (min(k+1, j), max(k+1, j))\n",
    "\n",
    "def doReversal(seq,(i,j)):\n",
    "    return seq[:i] + [element for element in reversed(seq[i:j])] + seq[j:]"
   ]
  },
  {
   "cell_type": "code",
   "execution_count": 2,
   "metadata": {
    "nbpresent": {
     "id": "604635df-f533-4f9b-90c0-036ee0719a45"
    },
    "slideshow": {
     "slide_type": "fragment"
    }
   },
   "outputs": [
    {
     "name": "stdout",
     "output_type": "stream",
     "text": [
      "Strips: [(1, 3), (3, 5), (5, 8)] [(8, 11)]\n",
      "2: [0, 3, 4, 1, 2, 5, 6, 7, 10, 9, 8, 11]  rho(8, 11)\n",
      "Press Enter:\n",
      "Strips: [(1, 3), (3, 5)] []\n",
      "0: [0, 3, 4, 1, 2, 5, 6, 7, 8, 9, 10, 11]  rho(1, 3)\n",
      "Press Enter:\n",
      "Strips: [(3, 5)] [(1, 3)]\n",
      "1: [0, 4, 3, 1, 2, 5, 6, 7, 8, 9, 10, 11]  rho(3, 5)\n",
      "Press Enter:\n",
      "Strips: [] [(1, 5)]\n",
      "2: [0, 4, 3, 2, 1, 5, 6, 7, 8, 9, 10, 11]  rho(1, 5)\n",
      "Press Enter:\n",
      "[0, 1, 2, 3, 4, 5, 6, 7, 8, 9, 10, 11] Sorted\n",
      "4\n"
     ]
    }
   ],
   "source": [
    "def improvedBreakpointReversalSort(seq, verbose=True):\n",
    "    seq = [0] + seq + [max(seq)+1]                             # Extend sequence\n",
    "    N = 0\n",
    "    while hasBreakpoints(seq):\n",
    "        increasing, decreasing = getStrips(seq)\n",
    "        if len(decreasing) > 0:                                # pick a reversal that removes a decreasing strip\n",
    "            removed, reversal = pickReversal(seq, decreasing)\n",
    "        else:\n",
    "            removed, reversal = 0, increasing[0]               # No breakpoints can be removed\n",
    "        if verbose:\n",
    "            print \"Strips:\", increasing, decreasing\n",
    "            print \"%d: %s  rho%s\" % (removed, seq, reversal)\n",
    "            raw_input(\"Press Enter:\")\n",
    "        seq = doReversal(seq,reversal)\n",
    "        N += 1\n",
    "    if verbose:\n",
    "        print seq, \"Sorted\"\n",
    "    return N\n",
    "\n",
    "# Also try: [1,9,3,4,7,8,2,6,5]\n",
    "print improvedBreakpointReversalSort([3,4,1,2,5,6,7,10,9,8], verbose=True)"
   ]
  },
  {
   "cell_type": "markdown",
   "metadata": {
    "nbpresent": {
     "id": "ce55ff9d-a0ea-46db-a44b-abfa2496b07f"
    },
    "slideshow": {
     "slide_type": "fragment"
    }
   },
   "source": [
    "<p style=\"text-align: right; clear: right;\">4</p>"
   ]
  },
  {
   "cell_type": "markdown",
   "metadata": {
    "nbpresent": {
     "id": "3421db94-9acf-46ef-a52a-7a5003458854"
    },
    "slideshow": {
     "slide_type": "slide"
    }
   },
   "source": [
    "# Performance\n",
    "<img src=\"http://csbio.unc.edu/mcmillan/Comp555S18/Media/CanWeDoBetter.png\" width=\"250px\" style=\"float: right; clear: right; margin-right: 40px;\">\n",
    "* *ImprovedBreakPointReversalSort* is a greedy algorithm with a performance guarantee of no worse than 4 when compared to an optimal algorithm\n",
    "    - It eliminates at least one breakpoint in every two steps (flip an increasing then remove 1)\n",
    "    - That's at most: $2 b(\\Pi)$ steps\n",
    "    - An optimal algorithm could *at most* remove 2 breakpoints in every step, thus requiring $\\frac{b(\\Pi)}{2}$ steps\n",
    "    - The approximation ratio is:\n",
    "$$\\frac{\\mathcal{A}(\\Pi)}{OPT(\\Pi)} = \\frac{2 b(\\Pi)}{\\frac{b(\\Pi)}{2}} = 4$$\n",
    "\n",
    "* But there is a solution with far fewer flips\n",
    "\n",
    "<p style=\"text-align: right; clear: right;\">5</p>"
   ]
  },
  {
   "cell_type": "markdown",
   "metadata": {
    "nbpresent": {
     "id": "5f037260-9815-443e-aaf8-0bc5c344b934"
    },
    "slideshow": {
     "slide_type": "slide"
    }
   },
   "source": [
    "# A Better Approximation Ratio\n",
    "\n",
    "* If there is a decreasing strip, the next reversal reduces b(π) by at least one.\n",
    "* The only bad case is when there is no decreasing strip.<br>Then we do a reversal that does not reduce b(π).\n",
    "* If we always choose a reversal reducing b(π) and, *at the same time, select a permutation such that the result has at least one decreasing strip*, the bad case would never occur.\n",
    "* If all possible reversals that reduce b(π) create a permutation without decreasing strips, then there exists a reversal that reduces b(π) by 2 (Proof not given)! \n",
    "* When the algorithm creates a permutation without a decreasing strip, the previous reversal must have reduced b(π) by two.\n",
    "* At most b(π) reversals are needed.\n",
    "* The improved Approximation ratio:\n",
    "\n",
    "$$\\frac{\\mathcal{A_{new}}(\\Pi)}{OPT(\\Pi)} = \\frac{b(\\Pi)}{\\frac{b(\\Pi)}{2}} = 2$$\n",
    "\n",
    "<p style=\"text-align: right; clear: left;\">6</p>"
   ]
  },
  {
   "cell_type": "markdown",
   "metadata": {
    "nbpresent": {
     "id": "60ca4a53-4b88-4b4a-91cf-468589a05bb8"
    },
    "slideshow": {
     "slide_type": "slide"
    }
   },
   "source": [
    "# Comparing Greedy Algorithms\n",
    "\n",
    "### SimpleReversalSort\n",
    "\n",
    "* Attempts to extend the prefix(π) at each step\n",
    "* Approximation ratio $\\frac{n-1}{b(\\Pi)/2}$ steps\n",
    "\n",
    "### ImprovedBreakpointReversalSort\n",
    "\n",
    "* Attempts to reduce the numbe of breakpoints at each step\n",
    "* Approximation ratio $\\frac{b(\\Pi)}{b(\\Pi)/2} = 2$ steps\n",
    "\n",
    "<img src=\"http://csbio.unc.edu/mcmillan/Comp555S18/Media/ManMouseX.png\" width=\"300px\" class=\"centerImg\">\n",
    "\n",
    "<p style=\"text-align: right; clear: right;\">7</p>"
   ]
  },
  {
   "cell_type": "markdown",
   "metadata": {
    "nbpresent": {
     "id": "8a7b3b29-3de1-40a2-ad33-192225c66a5d"
    },
    "slideshow": {
     "slide_type": "slide"
    }
   },
   "source": [
    "\n",
    "\n",
    "<br><br><br><br><br><br>\n",
    "# Problem Set Time!\n",
    "<br><br><br><br><br><br>\n",
    "<p style=\"text-align: right; clear: right;\">8</p>"
   ]
  },
  {
   "cell_type": "code",
   "execution_count": null,
   "metadata": {
    "collapsed": true
   },
   "outputs": [],
   "source": []
  }
 ],
 "metadata": {
  "anaconda-cloud": {},
  "celltoolbar": "Slideshow",
  "kernelspec": {
   "display_name": "Python 2",
   "language": "python",
   "name": "python2"
  },
  "language_info": {
   "codemirror_mode": {
    "name": "ipython",
    "version": 2
   },
   "file_extension": ".py",
   "mimetype": "text/x-python",
   "name": "python",
   "nbconvert_exporter": "python",
   "pygments_lexer": "ipython2",
   "version": "2.7.14"
  },
  "nbpresent": {
   "slides": {
    "0d11fa6b-63e4-429d-874a-c096285fe971": {
     "id": "0d11fa6b-63e4-429d-874a-c096285fe971",
     "prev": "f89fecec-7c0f-4584-970d-18d5df744eee",
     "regions": {
      "ada7c757-0693-4f47-8844-0a69007c225f": {
       "attrs": {
        "height": 0.96,
        "width": 0.96,
        "x": 0.02,
        "y": 0.02
       },
       "content": {
        "cell": "d8c3bc8c-4af6-4f43-afbf-56de0b3d33e9",
        "part": "whole"
       },
       "id": "ada7c757-0693-4f47-8844-0a69007c225f"
      }
     }
    },
    "109ffe97-690b-4a9c-a08a-b8d081ea4367": {
     "id": "109ffe97-690b-4a9c-a08a-b8d081ea4367",
     "prev": "59e61e1a-e2ce-4449-8423-b079c31bb623",
     "regions": {
      "405a9ad4-8314-4542-8a22-43753ad13f12": {
       "attrs": {
        "height": 0.96,
        "width": 0.96,
        "x": 0.02,
        "y": 0.02
       },
       "content": {
        "cell": "908c789a-128a-47a6-8f62-2858531ed3d9",
        "part": "whole"
       },
       "id": "405a9ad4-8314-4542-8a22-43753ad13f12"
      }
     }
    },
    "21baaeda-7a87-4644-b489-9156652cc767": {
     "id": "21baaeda-7a87-4644-b489-9156652cc767",
     "prev": null,
     "regions": {
      "f18362db-9cc9-4ab5-85e6-726a421c3082": {
       "attrs": {
        "height": 0.96,
        "width": 0.96,
        "x": 0.02,
        "y": 0.02
       },
       "content": {
        "cell": "538d5959-7afd-4651-9fce-777afa13cf5d",
        "part": "whole"
       },
       "id": "f18362db-9cc9-4ab5-85e6-726a421c3082"
      }
     }
    },
    "27185f3e-2a0f-4c1e-8ac9-2f8b72365bf1": {
     "id": "27185f3e-2a0f-4c1e-8ac9-2f8b72365bf1",
     "prev": "d161c9ac-ea5f-4a16-ad30-fac5da95b9d7",
     "regions": {
      "3aee5b0a-bcdc-4793-b4cc-8367bcd4a979": {
       "attrs": {
        "height": 0.96,
        "width": 0.96,
        "x": 0.02,
        "y": 0.02
       },
       "content": {
        "cell": "3421db94-9acf-46ef-a52a-7a5003458854",
        "part": "whole"
       },
       "id": "3aee5b0a-bcdc-4793-b4cc-8367bcd4a979"
      }
     }
    },
    "2a7de429-4e87-4991-bbae-2706c26d498c": {
     "id": "2a7de429-4e87-4991-bbae-2706c26d498c",
     "prev": "54fb52a8-2b72-4d61-a616-af4ddd0834ac",
     "regions": {
      "bb953d17-425c-488e-97bd-af4857896cd2": {
       "attrs": {
        "height": 0.96,
        "width": 0.96,
        "x": 0.02,
        "y": 0.02
       },
       "content": {
        "cell": "bfcefb88-ad3c-4ffa-be70-e519c6710200",
        "part": "whole"
       },
       "id": "bb953d17-425c-488e-97bd-af4857896cd2"
      }
     }
    },
    "3d9a2f93-6cfe-44ab-b528-8518313fb843": {
     "id": "3d9a2f93-6cfe-44ab-b528-8518313fb843",
     "prev": "bfa2688b-5d59-4cd5-8f83-4f9fd90185d1",
     "regions": {
      "d4087a0f-1e57-4715-8bfb-90a028106e19": {
       "attrs": {
        "height": 0.96,
        "width": 0.96,
        "x": 0.02,
        "y": 0.02
       },
       "content": {
        "cell": "663e515f-e75a-49f9-95eb-5874c59f19ac",
        "part": "whole"
       },
       "id": "d4087a0f-1e57-4715-8bfb-90a028106e19"
      }
     }
    },
    "43d6d6a5-e2b0-4128-a81e-fb40db259d76": {
     "id": "43d6d6a5-e2b0-4128-a81e-fb40db259d76",
     "prev": "ef9920f6-e2eb-4fed-99ef-01de75833958",
     "regions": {
      "208c1abd-a1fc-449a-acc0-ef868ba7f56a": {
       "attrs": {
        "height": 0.96,
        "width": 0.96,
        "x": 0.02,
        "y": 0.02
       },
       "content": {
        "cell": "8a7b3b29-3de1-40a2-ad33-192225c66a5d",
        "part": "source"
       },
       "id": "208c1abd-a1fc-449a-acc0-ef868ba7f56a"
      }
     }
    },
    "54fb52a8-2b72-4d61-a616-af4ddd0834ac": {
     "id": "54fb52a8-2b72-4d61-a616-af4ddd0834ac",
     "prev": "109ffe97-690b-4a9c-a08a-b8d081ea4367",
     "regions": {
      "bebca8fa-ccf7-4b0b-9981-050bb2523e62": {
       "attrs": {
        "height": 0.96,
        "width": 0.96,
        "x": 0.02,
        "y": 0.02
       },
       "content": {
        "cell": "39b23bca-f6c7-4b4d-9e21-ef2f36e7c3e2",
        "part": "whole"
       },
       "id": "bebca8fa-ccf7-4b0b-9981-050bb2523e62"
      }
     }
    },
    "59e61e1a-e2ce-4449-8423-b079c31bb623": {
     "id": "59e61e1a-e2ce-4449-8423-b079c31bb623",
     "prev": "7b2cda45-8efa-4d3e-b4d0-4209b54e5bd5",
     "regions": {
      "a6c367ca-0f83-4e7b-a78b-b3380ed1d24f": {
       "attrs": {
        "height": 0.96,
        "width": 0.96,
        "x": 0.02,
        "y": 0.02
       },
       "content": {
        "cell": "407fd438-a723-443a-821a-bae5f08afafa",
        "part": "whole"
       },
       "id": "a6c367ca-0f83-4e7b-a78b-b3380ed1d24f"
      }
     }
    },
    "5ac2e041-90e9-4cdc-8599-3360927662f8": {
     "id": "5ac2e041-90e9-4cdc-8599-3360927662f8",
     "prev": "cc38386b-68f7-40b7-be5f-475078bf333c",
     "regions": {
      "e983ba21-d42f-4ef2-b7b1-e2ce15e3f5e3": {
       "attrs": {
        "height": 0.96,
        "width": 0.96,
        "x": 0.02,
        "y": 0.02
       },
       "content": {
        "cell": "32faebcf-0c54-41a2-8c9c-5675eff7bbed",
        "part": "whole"
       },
       "id": "e983ba21-d42f-4ef2-b7b1-e2ce15e3f5e3"
      }
     }
    },
    "5e90658b-acb9-4639-8ba1-b534ef6bbd4b": {
     "id": "5e90658b-acb9-4639-8ba1-b534ef6bbd4b",
     "prev": "8f493dda-9053-48c2-8d54-e50f99cad3f9",
     "regions": {
      "70235dd5-1a29-4305-b7b5-79d316477456": {
       "attrs": {
        "height": 0.96,
        "width": 0.96,
        "x": 0.02,
        "y": 0.02
       },
       "content": {
        "cell": "a61e6612-a34e-4af2-8da5-311d2939bd61",
        "part": "whole"
       },
       "id": "70235dd5-1a29-4305-b7b5-79d316477456"
      }
     }
    },
    "6542a979-9aaf-4205-b524-9f0cc4300b5a": {
     "id": "6542a979-9aaf-4205-b524-9f0cc4300b5a",
     "prev": "82d60af4-1490-4c20-ab4c-724569ee19f3",
     "regions": {
      "eae81fc5-9407-4f7f-935a-c427da54851f": {
       "attrs": {
        "height": 0.96,
        "width": 0.96,
        "x": 0.02,
        "y": 0.02
       },
       "content": {
        "cell": "d71153aa-edc6-4daf-bf4f-21aab0123116",
        "part": "whole"
       },
       "id": "eae81fc5-9407-4f7f-935a-c427da54851f"
      }
     }
    },
    "7b2cda45-8efa-4d3e-b4d0-4209b54e5bd5": {
     "id": "7b2cda45-8efa-4d3e-b4d0-4209b54e5bd5",
     "prev": "b3f7fd87-2730-4725-8d39-bdee6de006c6",
     "regions": {
      "f9286b94-1c29-49f9-b1a6-b946d211a180": {
       "attrs": {
        "height": 0.96,
        "width": 0.96,
        "x": 0.02,
        "y": 0.02
       },
       "content": {
        "cell": "27227e70-5798-4552-9360-3502b7b6d5ff",
        "part": "whole"
       },
       "id": "f9286b94-1c29-49f9-b1a6-b946d211a180"
      }
     }
    },
    "82d60af4-1490-4c20-ab4c-724569ee19f3": {
     "id": "82d60af4-1490-4c20-ab4c-724569ee19f3",
     "prev": "21baaeda-7a87-4644-b489-9156652cc767",
     "regions": {
      "b38e48ab-5a46-48e4-9b28-edc35b4ff342": {
       "attrs": {
        "height": 0.96,
        "width": 0.96,
        "x": 0.02,
        "y": 0.02
       },
       "content": {
        "cell": "cdc4f8ce-a5d6-4204-9d2b-71e032851831",
        "part": "whole"
       },
       "id": "b38e48ab-5a46-48e4-9b28-edc35b4ff342"
      }
     }
    },
    "8f493dda-9053-48c2-8d54-e50f99cad3f9": {
     "id": "8f493dda-9053-48c2-8d54-e50f99cad3f9",
     "prev": "c59160ef-4668-4a0b-a2e1-adecbd268f9c",
     "regions": {
      "ee4a3ed5-c7fb-41db-b14c-2464387c9a19": {
       "attrs": {
        "height": 0.96,
        "width": 0.96,
        "x": 0.02,
        "y": 0.02
       },
       "content": {
        "cell": "9aa56520-c165-4aa8-af0d-ce66deb1b8bd",
        "part": "whole"
       },
       "id": "ee4a3ed5-c7fb-41db-b14c-2464387c9a19"
      }
     }
    },
    "b3f7fd87-2730-4725-8d39-bdee6de006c6": {
     "id": "b3f7fd87-2730-4725-8d39-bdee6de006c6",
     "prev": "cb8a9d03-c5be-4ff1-9163-ba6880d4db46",
     "regions": {
      "60cce9c6-3451-44ef-9987-969b1976cbcf": {
       "attrs": {
        "height": 0.96,
        "width": 0.96,
        "x": 0.02,
        "y": 0.02
       },
       "content": {
        "cell": "c508b08c-959a-4fe9-9dbf-33c3df9f5930",
        "part": "whole"
       },
       "id": "60cce9c6-3451-44ef-9987-969b1976cbcf"
      }
     }
    },
    "bfa2688b-5d59-4cd5-8f83-4f9fd90185d1": {
     "id": "bfa2688b-5d59-4cd5-8f83-4f9fd90185d1",
     "prev": "5e90658b-acb9-4639-8ba1-b534ef6bbd4b",
     "regions": {
      "3fc03ae7-00ad-414e-a4bb-d49717b2f798": {
       "attrs": {
        "height": 0.96,
        "width": 0.96,
        "x": 0.02,
        "y": 0.02
       },
       "content": {
        "cell": "48dbeec5-9713-47cb-a05f-c63cc12e07e3",
        "part": "whole"
       },
       "id": "3fc03ae7-00ad-414e-a4bb-d49717b2f798"
      }
     }
    },
    "c59160ef-4668-4a0b-a2e1-adecbd268f9c": {
     "id": "c59160ef-4668-4a0b-a2e1-adecbd268f9c",
     "prev": "0d11fa6b-63e4-429d-874a-c096285fe971",
     "regions": {
      "ab8c7389-07c0-4460-bc8b-316e4c617476": {
       "attrs": {
        "height": 0.96,
        "width": 0.96,
        "x": 0.02,
        "y": 0.02
       },
       "content": {
        "cell": "c85cd3e9-c71a-4cb2-86f2-b50a3540c2e0",
        "part": "whole"
       },
       "id": "ab8c7389-07c0-4460-bc8b-316e4c617476"
      }
     }
    },
    "cb8a9d03-c5be-4ff1-9163-ba6880d4db46": {
     "id": "cb8a9d03-c5be-4ff1-9163-ba6880d4db46",
     "prev": "5ac2e041-90e9-4cdc-8599-3360927662f8",
     "regions": {
      "148cabd8-ef80-48e5-923e-9668c4bc4504": {
       "attrs": {
        "height": 0.96,
        "width": 0.96,
        "x": 0.02,
        "y": 0.02
       },
       "content": {
        "cell": "3df605a0-7299-4755-9a75-e0472f9ac29d",
        "part": "whole"
       },
       "id": "148cabd8-ef80-48e5-923e-9668c4bc4504"
      }
     }
    },
    "cc38386b-68f7-40b7-be5f-475078bf333c": {
     "id": "cc38386b-68f7-40b7-be5f-475078bf333c",
     "prev": "3d9a2f93-6cfe-44ab-b528-8518313fb843",
     "regions": {
      "c8a4c331-4993-4cea-ad7e-9e64c26e7dde": {
       "attrs": {
        "height": 0.96,
        "width": 0.96,
        "x": 0.02,
        "y": 0.02
       },
       "content": {
        "cell": "2d86cc83-1560-48a3-9e3d-f8a5ac277e0c",
        "part": "whole"
       },
       "id": "c8a4c331-4993-4cea-ad7e-9e64c26e7dde"
      }
     }
    },
    "d161c9ac-ea5f-4a16-ad30-fac5da95b9d7": {
     "id": "d161c9ac-ea5f-4a16-ad30-fac5da95b9d7",
     "prev": "6542a979-9aaf-4205-b524-9f0cc4300b5a",
     "regions": {
      "067489bb-a463-4003-a180-8cd9c39b981d": {
       "attrs": {
        "height": 0.11247434693091464,
        "width": 0.96,
        "x": 0.02,
        "y": 0.020000000000000004
       },
       "content": {
        "cell": "58f6c89c-1abe-4e52-a695-84ff9eaa2aa2",
        "part": "source"
       },
       "id": "067489bb-a463-4003-a180-8cd9c39b981d"
      },
      "4c50f044-8fd6-4418-b1db-f0d10aa01ec3": {
       "attrs": {
        "height": 0.08465346534653477,
        "width": 0.9594214108910892,
        "x": 0.022029702970297032,
        "y": 0.8982673267326732
       },
       "content": {
        "cell": "ce55ff9d-a0ea-46db-a44b-abfa2496b07f",
        "part": "source"
       },
       "id": "4c50f044-8fd6-4418-b1db-f0d10aa01ec3"
      },
      "cb854480-4faf-498b-a4dc-479aee05e5e8": {
       "attrs": {
        "height": 0.7735270441401824,
        "width": 0.9573329207920793,
        "x": 0.02133353960396036,
        "y": 0.1277105796221939
       },
       "content": {
        "cell": "604635df-f533-4f9b-90c0-036ee0719a45",
        "part": "whole"
       },
       "id": "cb854480-4faf-498b-a4dc-479aee05e5e8"
      }
     }
    },
    "d5ab7225-8e25-4d0b-8d55-31550c1a5943": {
     "id": "d5ab7225-8e25-4d0b-8d55-31550c1a5943",
     "prev": "27185f3e-2a0f-4c1e-8ac9-2f8b72365bf1",
     "regions": {
      "08c35cde-81b0-4dab-ae7a-965efbc66be5": {
       "attrs": {
        "height": 0.96,
        "width": 0.96,
        "x": 0.02,
        "y": 0.02
       },
       "content": {
        "cell": "5f037260-9815-443e-aaf8-0bc5c344b934",
        "part": "whole"
       },
       "id": "08c35cde-81b0-4dab-ae7a-965efbc66be5"
      }
     }
    },
    "ef9920f6-e2eb-4fed-99ef-01de75833958": {
     "id": "ef9920f6-e2eb-4fed-99ef-01de75833958",
     "prev": "d5ab7225-8e25-4d0b-8d55-31550c1a5943",
     "regions": {
      "7bc1c4d9-21e1-43f4-9a50-7a21bba88253": {
       "attrs": {
        "height": 0.96,
        "width": 0.96,
        "x": 0.02,
        "y": 0.02
       },
       "content": {
        "cell": "60ca4a53-4b88-4b4a-91cf-468589a05bb8",
        "part": "whole"
       },
       "id": "7bc1c4d9-21e1-43f4-9a50-7a21bba88253"
      }
     }
    },
    "f7d2c5bd-79de-4989-8481-ab7354161c2e": {
     "id": "f7d2c5bd-79de-4989-8481-ab7354161c2e",
     "prev": "2a7de429-4e87-4991-bbae-2706c26d498c",
     "regions": {
      "9085a72e-008f-427c-8c51-544ce0984f1e": {
       "attrs": {
        "height": 0.96,
        "width": 0.96,
        "x": 0.02,
        "y": 0.02
       },
       "content": {
        "cell": "372e5dd3-2da4-4d4b-bec1-baef095befe2",
        "part": "whole"
       },
       "id": "9085a72e-008f-427c-8c51-544ce0984f1e"
      }
     }
    },
    "f89fecec-7c0f-4584-970d-18d5df744eee": {
     "id": "f89fecec-7c0f-4584-970d-18d5df744eee",
     "prev": "43d6d6a5-e2b0-4128-a81e-fb40db259d76",
     "regions": {
      "b79415f2-f8b3-49ae-9327-e6342a0f279c": {
       "attrs": {
        "height": 0.96,
        "width": 0.96,
        "x": 0.02,
        "y": 0.02
       },
       "content": {
        "cell": "23e7bd20-05cf-4f9b-a51c-9435e814057a",
        "part": "whole"
       },
       "id": "b79415f2-f8b3-49ae-9327-e6342a0f279c"
      }
     }
    }
   },
   "themes": {
    "default": "e84c8589-1aee-4bd4-b152-49b9506b8a54",
    "theme": {
     "e84c8589-1aee-4bd4-b152-49b9506b8a54": {
      "backgrounds": {
       "my-background": {
        "background-color": "white"
       }
      },
      "id": "e84c8589-1aee-4bd4-b152-49b9506b8a54",
      "palette": {
       "black": {
        "id": "black",
        "rgb": [
         0,
         0,
         0
        ]
       },
       "blue": {
        "id": "blue",
        "rgb": [
         0,
         153,
         204
        ]
       },
       "gray": {
        "id": "gray",
        "rgb": [
         128,
         128,
         128
        ]
       },
       "red": {
        "id": "red",
        "rgb": [
         240,
         32,
         32
        ]
       },
       "white": {
        "id": "white",
        "rgb": [
         255,
         255,
         255
        ]
       }
      },
      "rules": {
       "code": {
        "font-size": 1.6
       },
       "h1": {
        "color": "blue",
        "font-size": 5.5,
        "text-align": "center"
       },
       "h2": {
        "color": "blue",
        "font-size": 3,
        "text-align": "center"
       },
       "h3": {
        "color": "black",
        "font-size": 3
       },
       "pre": {
        "font-size": 1.6
       },
       "ul li": {
        "color": "black",
        "font-size": 2.5
       },
       "ul li ul li": {
        "color": "black",
        "font-size": 2
       }
      },
      "text-base": {
       "font-family": "Georgia",
       "font-size": 2.5
      }
     }
    }
   }
  }
 },
 "nbformat": 4,
 "nbformat_minor": 1
}
