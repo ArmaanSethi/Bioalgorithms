{
 "cells": [
  {
   "cell_type": "code",
   "execution_count": 13,
   "metadata": {},
   "outputs": [
    {
     "data": {
      "application/javascript": [
       "var width = window.innerWidth || document.documentElement.clientWidth || document.body.clientWidth;\n",
       "var height = window.innerHeight || document.documentElement.clientHeight || document.body.clientHeight;\n",
       "\n",
       "IPython.notebook.kernel.execute(\"windowSize = (\" + width + \",\" + height + \")\");\n",
       "// suitable for small screens\n",
       "nbpresent.mode.tree.set(\n",
       "    [\"app\", \"theme-manager\", \"themes\", \"my-theme\"], \n",
       "    {\n",
       "    palette: {\n",
       "        \"blue\": { id: \"blue\", rgb: [0, 153, 204] },\n",
       "        \"black\": { id: \"black\", rgb: [0, 0, 0] },\n",
       "        \"white\": { id: \"white\", rgb: [255, 255, 255] },\n",
       "        \"red\": { id: \"red\", rgb: [240, 32, 32] },\n",
       "        \"gray\": { id: \"gray\", rgb: [128, 128, 128] },\n",
       "    },\n",
       "    backgrounds: {\n",
       "        \"my-background\": {\n",
       "            \"background-color\": \"white\"\n",
       "        }\n",
       "    },\n",
       "    \"text-base\": {\n",
       "        \"font-family\": \"Georgia\",\n",
       "        \"font-size\": 3\n",
       "    },\n",
       "    rules: {\n",
       "        h1: {\n",
       "            \"font-size\": 5.5,\n",
       "            color: \"blue\",\n",
       "            \"text-align\": \"center\"\n",
       "        },\n",
       "        h2: {\n",
       "            \"font-size\": 3,\n",
       "            color: \"blue\",\n",
       "            \"text-align\": \"center\"\n",
       "        },\n",
       "        h3: {\n",
       "            \"font-size\": 3,\n",
       "            color: \"black\",\n",
       "        },\n",
       "        \"ul li\": {\n",
       "            \"font-size\": 3,\n",
       "            color: \"black\"\n",
       "        },\n",
       "        \"ul li ul li\": {\n",
       "            \"font-size\": 2.5,\n",
       "            color: \"black\"\n",
       "        },\n",
       "        \"code\": {\n",
       "            \"font-size\": 2,\n",
       "        },\n",
       "        \"pre\": {\n",
       "            \"font-size\": 2,\n",
       "        }\n",
       "    }\n",
       "});"
      ],
      "text/plain": [
       "<IPython.core.display.Javascript object>"
      ]
     },
     "metadata": {},
     "output_type": "display_data"
    }
   ],
   "source": [
    "%%javascript\n",
    "var width = window.innerWidth || document.documentElement.clientWidth || document.body.clientWidth;\n",
    "var height = window.innerHeight || document.documentElement.clientHeight || document.body.clientHeight;\n",
    "\n",
    "IPython.notebook.kernel.execute(\"windowSize = (\" + width + \",\" + height + \")\");\n",
    "// suitable for small screens\n",
    "nbpresent.mode.tree.set(\n",
    "    [\"app\", \"theme-manager\", \"themes\", \"my-theme\"], \n",
    "    {\n",
    "    palette: {\n",
    "        \"blue\": { id: \"blue\", rgb: [0, 153, 204] },\n",
    "        \"black\": { id: \"black\", rgb: [0, 0, 0] },\n",
    "        \"white\": { id: \"white\", rgb: [255, 255, 255] },\n",
    "        \"red\": { id: \"red\", rgb: [240, 32, 32] },\n",
    "        \"gray\": { id: \"gray\", rgb: [128, 128, 128] },\n",
    "    },\n",
    "    backgrounds: {\n",
    "        \"my-background\": {\n",
    "            \"background-color\": \"white\"\n",
    "        }\n",
    "    },\n",
    "    \"text-base\": {\n",
    "        \"font-family\": \"Georgia\",\n",
    "        \"font-size\": 3\n",
    "    },\n",
    "    rules: {\n",
    "        h1: {\n",
    "            \"font-size\": 5.5,\n",
    "            color: \"blue\",\n",
    "            \"text-align\": \"center\"\n",
    "        },\n",
    "        h2: {\n",
    "            \"font-size\": 3,\n",
    "            color: \"blue\",\n",
    "            \"text-align\": \"center\"\n",
    "        },\n",
    "        h3: {\n",
    "            \"font-size\": 3,\n",
    "            color: \"black\",\n",
    "        },\n",
    "        \"ul li\": {\n",
    "            \"font-size\": 3,\n",
    "            color: \"black\"\n",
    "        },\n",
    "        \"ul li ul li\": {\n",
    "            \"font-size\": 2.5,\n",
    "            color: \"black\"\n",
    "        },\n",
    "        \"code\": {\n",
    "            \"font-size\": 2,\n",
    "        },\n",
    "        \"pre\": {\n",
    "            \"font-size\": 2,\n",
    "        }\n",
    "    }\n",
    "});"
   ]
  },
  {
   "cell_type": "markdown",
   "metadata": {},
   "source": [
    "# Preface\n",
    "\n",
    "The genomes needed to run this notebook should be downloaded from the following link and saved in a subdirectory of the directory from where you are running this notebook named \"data\".\n",
    "\n",
    "1. <a href=\"http://csbio.unc.edu/mcmillan/Comp555S18/data/ThermotogaPetrophila.fa\"><i>Thermotoga Petrophila</i></a>\n",
    "2. <a href=\"http://csbio.unc.edu/mcmillan/Comp555S18/data/VibrioCholerae.fa\"><i>Vibrio Cholerae</i></a>\n",
    "3. <a href=\"http://csbio.unc.edu/mcmillan/Comp555S18/data/EscherichiaColi.fa\"><i>Escherichia Coli</i></a>"
   ]
  },
  {
   "cell_type": "markdown",
   "metadata": {
    "nbpresent": {
     "id": "7eac78de-5922-4930-bc83-27c8fd22e6d0"
    },
    "slideshow": {
     "slide_type": "slide"
    }
   },
   "source": [
    "# Where does DNA Replication Begin?\n",
    "\n",
    "*continued from last time...*\n",
    "\n",
    "<img src=\"http://csbio.unc.edu/mcmillan/Comp555S18/Media/WhereToBegin.png\" width=\"500px\" class=\"centeredImg\">\n",
    "\n",
    "After a couple of false starts, we continue on our quest to develop an algorithm for finding the origin of replication, *OriC*, locus in a DNA sequence.\n",
    "\n",
    "<p style=\"text-align: right; clear: right; margin-right: 200px;\">1</p>"
   ]
  },
  {
   "cell_type": "markdown",
   "metadata": {
    "nbpresent": {
     "id": "47074402-82c5-4897-bb01-5a1661bffead"
    },
    "slideshow": {
     "slide_type": "slide"
    }
   },
   "source": [
    "# Let's take a closer look at the biology\n",
    "<div style=\"font-size: 80%;\">\n",
    "Recall DNA Strands have Directions:\n",
    "<img src=\"http://csbio.unc.edu/mcmillan/Comp555S18/Media/DirectionalDNA.png\" width=\"500px\" class=\"centeredImg\">\n",
    "</div>\n",
    "<p style=\"text-align: right; clear: right; margin-right: 200px;\">2</p>\n"
   ]
  },
  {
   "cell_type": "markdown",
   "metadata": {
    "collapsed": true,
    "nbpresent": {
     "id": "155b8981-9f3f-475f-8f1a-1ceff763c351"
    },
    "slideshow": {
     "slide_type": "slide"
    }
   },
   "source": [
    "# DNA Polymerases do the copying\n",
    "<div style=\"font-size: 80%;\">\n",
    "Once the DNA strands are pulled apart the process of replication begins. It proceeds in both directions on both strands and contines until the center of termimination, *terC*, is reached.\n",
    "<img src=\"http://csbio.unc.edu/mcmillan/Comp555S18/Media/WrongModel.png\" width=\"500px\" class=\"centeredImg\">\n",
    "But it doesn't exactly progress symmetrically in both directions. DNA polymerases, the proteins which actually copy the strands, operate unidirectionally. They first must attach to specific subsequences, called *primers*. Once they begin, they copy the attached strands along the (3’ &rarr; 5’) direction.\n",
    "</div>\n",
    "<p style=\"text-align: right; clear: right; margin-right: 200px;\">3</p>"
   ]
  },
  {
   "cell_type": "markdown",
   "metadata": {
    "nbpresent": {
     "id": "17b95d3e-cd5c-4cf2-84bb-0253f9ce82ef"
    },
    "slideshow": {
     "slide_type": "slide"
    }
   },
   "source": [
    "# Replication progresses in one direction\n",
    "<div style=\"font-size: 80%;\">\n",
    "Beginning at the *oriC* locus the DNA molecule is pulled apart and two DNA polymerases, one on each strand begin copying on each strand.\n",
    "<img src=\"http://csbio.unc.edu/mcmillan/Comp555S18/Media/RepStarts.png\" width=\"500px\" class=\"centeredImg\">\n",
    "As they progress the DNA separates more. The boundrary of the separation between single-stranded and double-stranded DNA is called the ***replication fork***. Eventually, this separation exposes a significantly large single-stranded DNA on the trailing edge of each strand.\n",
    "</div>\n",
    "<p style=\"text-align: right; clear: right; margin-right: 200px;\">4</p>"
   ]
  },
  {
   "cell_type": "markdown",
   "metadata": {
    "nbpresent": {
     "id": "9053fab5-6f7f-4bb9-8ab1-f36d12b64cf2"
    },
    "slideshow": {
     "slide_type": "slide"
    }
   },
   "source": [
    "# Once the replication fork opens enough...\n",
    "<div style=\"font-size: 80%;\">\n",
    "This open region of single-stranded DNA eventually allows a second phase of the replication process to begin. A second DNA polymerase detects a primer sequence, and then start replicating the exposed sequence Ahead of it and works towards the beginning of the previous replication primer. However, this DNA polymerase does not have too far to go.\n",
    "<img src=\"http://csbio.unc.edu/mcmillan/Comp555S18/Media/Strand2.png\" width=\"500px\" class=\"centeredImg\">\n",
    "<br>\n",
    "</div>\n",
    "<p style=\"text-align: right; clear: right; margin-right: 200px;\">5</p>"
   ]
  },
  {
   "cell_type": "markdown",
   "metadata": {
    "nbpresent": {
     "id": "160eb1a6-ca6a-4852-8cff-daf9adfc0864"
    },
    "slideshow": {
     "slide_type": "slide"
    }
   },
   "source": [
    "# When opened a little more\n",
    "<div style=\"font-size: 80%;\">\n",
    "As the initial, or *Leading*, polymerase continues to copy its half strand more of the complement strand is exposed, which sets off the process over and over again until the termination center is reached.\n",
    "<img src=\"http://csbio.unc.edu/mcmillan/Comp555S18/Media/Continue.png\" width=\"500px\" class=\"centeredImg\">\n",
    "<br>\n",
    "These short partial copys are called ***Okazaki fragments*** and they lie along the *Lagging* half-strand of the replication.\n",
    "</div>\n",
    "<p style=\"text-align: right; clear: right; margin-right: 200px;\">6</p>"
   ]
  },
  {
   "cell_type": "markdown",
   "metadata": {
    "nbpresent": {
     "id": "4daee5dd-9edf-49d1-9787-7c344354511a"
    },
    "slideshow": {
     "slide_type": "slide"
    }
   },
   "source": [
    "# Eventually the whole genome is replicated\n",
    "<div style=\"font-size: 80%;\">\n",
    "The lengths of Okazaki fragments in prokaryotes and eukaryotes differ. Prokaryotes tend to have longer Okazaki fragments (&approx; 2,000 nucleotides long) than eukaryotes (100 to 200 nucleotides long).\n",
    "<br>\n",
    "<img src=\"http://csbio.unc.edu/mcmillan/Comp555S18/Media/FinishedRep.png\" width=\"500px\" class=\"centeredImg\">\n",
    "<br>\n",
    "Once completed, the adjacent Okazaki fragments are joined by another important protein called a *DNA ligase*.\n",
    "</div>\n",
    "<p style=\"text-align: right; clear: right; margin-right: 200px;\">7</p>"
   ]
  },
  {
   "cell_type": "markdown",
   "metadata": {
    "nbpresent": {
     "id": "7f4ba3b0-2e12-44a5-b276-39ea8a018ff5"
    },
    "slideshow": {
     "slide_type": "slide"
    }
   },
   "source": [
    "# Observations\n",
    "\n",
    "* The *leading* half strand is copied as a single contiguous piece that progresses at a uniform rate as the DNA separates\n",
    "* The other *lagging* half strand lies *exposed* while waiting for the gap to enlarge enough, and until another primer sequence appears so that another DNA polymerase can start\n",
    "* Replication on the *lagging* half-strand proceeds in a stop-and-go fashion extending by one Okazaki fragment at a time\n",
    "* A DNA repair mechanism then comes along to fix all of the lagging half-strand fragments\n",
    "\n",
    "<div style=\"display: inline; float: right; clear: right; margin: 24px;\">\n",
    "<img src=\"http://csbio.unc.edu/mcmillan/Comp555S18/Media/Deanimation.png\" width=\"300\"><br>\n",
    "<span style=\"float: left;\">Cytosine</span> <span style=\"float: right; margin-right: 32px;\">Uracil</span>     \n",
    "</div>\n",
    "\n",
    "* What is the downside of leaving single-stranded DNA exposed?\n",
    "<br><br>\n",
    "  - Single-stranded DNA is less stable than double-stranded\n",
    "  - Single-stranded DNA can potentially mutate when exposed\n",
    "  - The most common mutation type is called *deanimation*\n",
    "  - Deanimation tends to convert **C** nucelotides into **T** nucelotides. \n",
    " \n",
    " <p style=\"text-align: right; clear: right; margin-right: 200px;\">8</p>"
   ]
  },
  {
   "cell_type": "markdown",
   "metadata": {
    "nbpresent": {
     "id": "1c29573d-755f-4309-9a51-f0c46a79bcbb"
    },
    "slideshow": {
     "slide_type": "slide"
    }
   },
   "source": [
    "# Now what?\n",
    "## How might these observations inform a new algorithm for finding ***OriC***?\n",
    "\n",
    "* When considering the half-strands on either side of a candidate *OriC* region what would we expect?\n",
    "* More primer patterns on the lagging side to promote Okazaki fragments\n",
    "* Which primer do we look for?\n",
    "* Go back to our k-mer counts from last time?<br><br>\n",
    "* But whatever the primer pattern is, there should be fewer Cytosines on the lagging side due to deanimation over multiple generations (replications)\n",
    "* **Idea:** Look for points that divide the genome such that number of Cs in the suffix, and prefix, reverse complemented, are minimal\n",
    "\n",
    "                                           fewer Cs -->\n",
    "      5'-...CAAACCTACCACCAAACTCTGTATTGACCA|TTTTAGGACAACTTCAGGGTGGTAGGTTTC...-3'\n",
    "      3'-...GTTTGGATGGTGGTTTGAGACATAACTGGT|AAAATCCTGTTGAAGTCCCACCATCCAAAG...-5'\n",
    "                              <-- fewer Cs\n",
    "\n",
    " <p style=\"text-align: right; clear: right; margin-right: 200px;\">9</p>"
   ]
  },
  {
   "cell_type": "markdown",
   "metadata": {
    "nbpresent": {
     "id": "cffa0d48-1299-4308-bb6f-05957d5055e8"
    },
    "slideshow": {
     "slide_type": "slide"
    }
   },
   "source": [
    "# Let's look for evidence\n",
    "\n",
    "Recall *Thermotoga Petrophila*, from last lecture (the bacteria whose k-mers did not match the frequent ones that we found in *Vibrio Cholerae*). Let's examine the nucleotide counts on either side of its *OriC* region:\n",
    "\n",
    "\n",
    "| base  |  Total  |  Forward|  Reverse |  Diff  |\n",
    "|:-----:|---------|---------|----------|-------:|\n",
    "|   C   |  427419 |  207901 |  219518  | -11617 |\n",
    "|   G   |  413241 |  211607 |  201634  |   9973 |\n",
    "|   A   |  491488 |  247525 |  243963  |   3562 |\n",
    "|   T   |  491363 |  244722 |  246641  |  -1919 |\n",
    "\n",
    "\n",
    "The *Lagging strand* in the primary sequence corresponds to exposed Cs in the direction of increasing indices, while Gs in the direction of decresing indices of the primary sequence correspond to Cs of the *Lagging strand*. Thus, the Lagging strands have 9973 + 11617 = 21590 fewer Cs than the Leading strands. \n",
    "<br>\n",
    "<br>\n",
    "<br>\n",
    "<br>\n",
    "<br>\n",
    "<p style=\"text-align: right; clear: right; margin-right: 200px;\">10</p>"
   ]
  },
  {
   "cell_type": "markdown",
   "metadata": {
    "nbpresent": {
     "id": "e46326dd-ddb7-4802-914d-7d125c9f941e"
    },
    "slideshow": {
     "slide_type": "slide"
    }
   },
   "source": [
    "# Code for reading sequences from last time"
   ]
  },
  {
   "cell_type": "code",
   "execution_count": 59,
   "metadata": {
    "collapsed": true,
    "nbpresent": {
     "id": "6865b26e-f9ed-4c8e-8cb7-3ba31ebadb8e"
    }
   },
   "outputs": [],
   "source": [
    "def loadFasta(filename):\n",
    "    \"\"\" Parses a classically formatted and possibly \n",
    "        compressed FASTA file into a list of headers \n",
    "        and fragment sequences for each sequence contained\"\"\"\n",
    "    if (filename.endswith(\".gz\")):\n",
    "        fp = gzip.open(filename, 'rb')\n",
    "    else:\n",
    "        fp = open(filename, 'rb')\n",
    "    # split at headers\n",
    "    data = fp.read().split('>')\n",
    "    fp.close()\n",
    "    # ignore whatever appears before the 1st header\n",
    "    data.pop(0)     \n",
    "    headers = []\n",
    "    sequences = []\n",
    "    for sequence in data:\n",
    "        lines = sequence.split('\\n')\n",
    "        headers.append(lines.pop(0))\n",
    "        # add an extra \"+\" to make string \"1-referenced\"\n",
    "        sequences.append('+' + ''.join(lines))\n",
    "    return (headers, sequences)"
   ]
  },
  {
   "cell_type": "markdown",
   "metadata": {
    "nbpresent": {
     "id": "8d7b9cac-bc2b-47ac-8548-3ca07011d4cf"
    }
   },
   "source": [
    "<p style=\"text-align: right; clear: right; margin-right: 200px;\">11</p>"
   ]
  },
  {
   "cell_type": "code",
   "execution_count": 60,
   "metadata": {
    "nbpresent": {
     "id": "fdea0c7e-e701-4244-b035-5396d553a4aa"
    }
   },
   "outputs": [
    {
     "name": "stdout",
     "output_type": "stream",
     "text": [
      "CP000702.1 Thermotoga petrophila RKU-1, complete genome\n",
      "1823511 bases +AGTTGGACGAAGGTTCTGATCCCTACAGA ... TCAATGTTATAATAAATACCGTGCAAAAAC\n",
      "\n"
     ]
    }
   ],
   "source": [
    "header, seq = loadFasta(\"data/ThermotogaPetrophila.fa\")\n",
    "\n",
    "for i in xrange(len(header)):\n",
    "    print header[i]\n",
    "    print len(seq[i])-1, \"bases\", seq[i][:30], \"...\", seq[i][-30:]\n",
    "    print\n",
    "\n",
    "oriCStart = 786686\n",
    "oriOffset = 211          # offset to the middle of OriC "
   ]
  },
  {
   "cell_type": "code",
   "execution_count": 63,
   "metadata": {},
   "outputs": [
    {
     "name": "stdout",
     "output_type": "stream",
     "text": [
      "CAAACCTACCACCAAACTCTGTATTGACCA TTTTAGGACAACTTCAGGGTGGTAGGTTTC\n",
      "GTTTGGATGGTGGTTTGAGACATAACTGGT AAAATCCTGTTGAAGTCCCACCATCCAAAG\n"
     ]
    }
   ],
   "source": [
    "# A sanity check that does not appear in the lecture\n",
    "x = seq[0][oriCStart+oriOffset-30:oriCStart+oriOffset+30]\n",
    "y = ''.join({'A':'T', 'C':'G', 'G':'C', 'T':'A'}[b] for b in x)\n",
    "print x[:30],x[30:]\n",
    "print y[:30],y[30:]"
   ]
  },
  {
   "cell_type": "markdown",
   "metadata": {
    "nbpresent": {
     "id": "a3f98005-6aed-417f-87ad-a354a1020060"
    }
   },
   "source": [
    "<p style=\"text-align: right; clear: right; margin-right: 200px;\">12</p>"
   ]
  },
  {
   "cell_type": "markdown",
   "metadata": {
    "nbpresent": {
     "id": "dd527d12-0f46-4f4d-8e83-6b1bae7ea1f7"
    },
    "slideshow": {
     "slide_type": "slide"
    }
   },
   "source": [
    "# Counting base occurences in large strings\n",
    "Here's a somewhat standard approach to counting characters in a string."
   ]
  },
  {
   "cell_type": "code",
   "execution_count": 64,
   "metadata": {
    "nbpresent": {
     "id": "60601939-7533-411c-b1b2-2412bb74a85d"
    }
   },
   "outputs": [],
   "source": [
    "def getStatsV1(sequence, start):\n",
    "    halflen = len(sequence)//2          \n",
    "    terC = start + halflen\n",
    "    # handle genome's circular nature\n",
    "    if (terC > len(sequence)):\n",
    "        terC = terC - len(sequence) + 1\n",
    "    total = { base: 0 for base in \"ACGT\" }\n",
    "    forwardCount = { base: 0 for base in \"ACGT\" }\n",
    "    reverseCount = { base: 0 for base in \"ACGT\" }\n",
    "    for position in xrange(1,len(sequence)):\n",
    "        base = sequence[position]\n",
    "        total[base] += 1\n",
    "        if (terC > start):                                 # case #1:  ----S========T---->\n",
    "            if position >= start and position < terC:\n",
    "                forwardCount[base] += 1\n",
    "            else:\n",
    "                reverseCount[base] += 1\n",
    "        else:                                              # case #2:  ====T--------S====>\n",
    "            if position >= start or position < terC: \n",
    "                forwardCount[base] += 1\n",
    "            else:\n",
    "                reverseCount[base] += 1\n",
    "    return {key: (total[key], forwardCount[key], reverseCount[key]) for key in total.iterkeys()}"
   ]
  },
  {
   "cell_type": "markdown",
   "metadata": {
    "nbpresent": {
     "id": "06b0a7f4-0b3f-43d1-9674-514dee855261"
    }
   },
   "source": [
    "<p style=\"text-align: right; clear: right; margin-right: 200px;\">13</p>"
   ]
  },
  {
   "cell_type": "markdown",
   "metadata": {
    "nbpresent": {
     "id": "5db03091-d284-4076-baab-f3c399ef13ec"
    }
   },
   "source": [
    "# Another way to count\n",
    "\n",
    "This version makes four passes, one for each base, but moves the dictionary overhead outside of the linear scan."
   ]
  },
  {
   "cell_type": "code",
   "execution_count": 65,
   "metadata": {
    "collapsed": true,
    "nbpresent": {
     "id": "a052a8de-d38b-4ab2-81b6-21dc1f45301d"
    }
   },
   "outputs": [],
   "source": [
    "def getStatsV2(sequence, start):\n",
    "    halflen = len(sequence)//2\n",
    "    terC = start + halflen\n",
    "    # handle genome's circular nature\n",
    "    if (terC > len(sequence)):\n",
    "        terC = terC - len(sequence) + 1\n",
    "    stats = {}\n",
    "    for base in \"ACGT\":\n",
    "        total = sequence.count(base)\n",
    "        if (terC > start):                                   # case 1: ----S========T---->\n",
    "            forwardCount = sequence[start:terC].count(base)\n",
    "            reverseCount = total - forwardCount\n",
    "        else:                                                # case 2: ====T--------S====>\n",
    "            reverseCount = sequence[terC:start].count(base)\n",
    "            forwardCount = total - reverseCount\n",
    "        stats[base] = (total, forwardCount, reverseCount)\n",
    "    return stats"
   ]
  },
  {
   "cell_type": "markdown",
   "metadata": {
    "nbpresent": {
     "id": "c70b4ccb-3695-4c41-a794-857b04ebca38"
    }
   },
   "source": [
    "<p style=\"text-align: right; clear: right; margin-right: 200px;\">14</p>"
   ]
  },
  {
   "cell_type": "markdown",
   "metadata": {
    "nbpresent": {
     "id": "0b90d748-e57c-4fe7-8182-c0ea95bd2c64"
    }
   },
   "source": [
    "# Let's compare counting approaches\n",
    "How much difference do you expect? Why do we care?"
   ]
  },
  {
   "cell_type": "code",
   "execution_count": 66,
   "metadata": {
    "nbpresent": {
     "id": "a99bde82-cd9f-4941-b4a7-c8ceec037176"
    }
   },
   "outputs": [
    {
     "name": "stdout",
     "output_type": "stream",
     "text": [
      "C:   427419   207901   219518   -11617\n",
      "G:   413241   211607   201634     9973\n",
      "A:   491488   247525   243963     3562\n",
      "T:   491363   244723   246640    -1917\n",
      "1 loop, best of 3: 504 ms per loop\n",
      "\n",
      "C:   427419   207901   219518   -11617\n",
      "G:   413241   211607   201634     9973\n",
      "A:   491488   247525   243963     3562\n",
      "T:   491363   244723   246640    -1917\n",
      "10 loops, best of 3: 47 ms per loop\n",
      "\n"
     ]
    }
   ],
   "source": [
    "for getStats in [getStatsV1, getStatsV2]:\n",
    "    answer = getStats(seq[0], oriCStart+oriOffset)\n",
    "    for base in \"CGAT\":\n",
    "        total, forwardCount, reverseCount = answer[base]\n",
    "        print \"%s: %8d %8d %8d %8d\" % (base,total,forwardCount,reverseCount,forwardCount-reverseCount)\n",
    "    %timeit getStats(seq[0], oriCStart+oriOffset)\n",
    "    print"
   ]
  },
  {
   "cell_type": "markdown",
   "metadata": {
    "nbpresent": {
     "id": "cf3ccaaa-6dc8-49df-a87b-deca137df0da"
    }
   },
   "source": [
    "<p style=\"text-align: right; clear: right; margin-right: 200px;\">16</p>"
   ]
  },
  {
   "cell_type": "markdown",
   "metadata": {
    "nbpresent": {
     "id": "854f50c9-98c9-405e-a717-850b3c0f710b"
    }
   },
   "source": [
    "# One more contender\n",
    "\n",
    "Python provides an optimized library called *\"numpy\"* for processing vectorized data. Our sequence can be considered a vector of bases."
   ]
  },
  {
   "cell_type": "code",
   "execution_count": 67,
   "metadata": {
    "collapsed": true,
    "nbpresent": {
     "id": "039b45b2-f27f-4d61-84c6-783ef45be1a6"
    }
   },
   "outputs": [],
   "source": [
    "import numpy\n",
    "\n",
    "def getStatsV3(sequence, start):\n",
    "    halflen = len(sequence)//2\n",
    "    terC = start + halflen\n",
    "    # handle genome's circular nature\n",
    "    if (terC > len(sequence)):\n",
    "        terC = terC - len(sequence) + 1\n",
    "    genome = numpy.fromstring(sequence, dtype=\"uint8\")\n",
    "    total = numpy.bincount(genome)\n",
    "    if (terC > start):\n",
    "        forwardCount = numpy.bincount(genome[start:terC])\n",
    "        reverseCount = total - forwardCount\n",
    "    else:\n",
    "        reverseCount = numpy.bincount(genome[terC:start])\n",
    "        forwardCount = total - reverseCount\n",
    "    return {b: (total[ord(b)],forwardCount[ord(b)],reverseCount[ord(b)]) for b in \"ACGT\"}"
   ]
  },
  {
   "cell_type": "markdown",
   "metadata": {
    "nbpresent": {
     "id": "d0d41687-148c-485b-b487-4e2a676446d7"
    }
   },
   "source": [
    "<p style=\"text-align: right; clear: right; margin-right: 200px;\">15</p>"
   ]
  },
  {
   "cell_type": "markdown",
   "metadata": {
    "nbpresent": {
     "id": "8f16faed-4b02-45dd-a6e9-ca71f7dc814e"
    }
   },
   "source": [
    "# Verify and time it\n",
    "Always make sure that an algorithm is ***correct*** before considering its performance. "
   ]
  },
  {
   "cell_type": "code",
   "execution_count": 68,
   "metadata": {
    "nbpresent": {
     "id": "273b0b7c-7d5d-4762-b672-c6a3536e9547"
    }
   },
   "outputs": [
    {
     "name": "stdout",
     "output_type": "stream",
     "text": [
      "C:   427419   207901   219518   -11617\n",
      "G:   413241   211607   201634     9973\n",
      "A:   491488   247525   243963     3562\n",
      "T:   491363   244723   246640    -1917\n",
      "\n",
      "10 loops, best of 3: 47.2 ms per loop\n",
      "100 loops, best of 3: 9.01 ms per loop\n"
     ]
    }
   ],
   "source": [
    "\n",
    "answer = getStatsV3(seq[0], oriCStart+oriOffset)\n",
    "\n",
    "for base in \"CGAT\":\n",
    "    total, forwardCount, reverseCount = answer[base]\n",
    "    print \"%s: %8d %8d %8d %8d\" % (base, total, forwardCount, reverseCount, forwardCount - reverseCount)\n",
    "print\n",
    "\n",
    "%timeit getStatsV2(seq[0], oriCStart+oriOffset)\n",
    "%timeit getStatsV3(seq[0], oriCStart+oriOffset)"
   ]
  },
  {
   "cell_type": "markdown",
   "metadata": {
    "nbpresent": {
     "id": "840b3eae-88a4-48eb-b56f-38f8650c31e3"
    }
   },
   "source": [
    "<p style=\"text-align: right; clear: right; margin-right: 200px;\">17</p>"
   ]
  },
  {
   "cell_type": "markdown",
   "metadata": {
    "nbpresent": {
     "id": "74aa3448-15a3-420c-b6ad-22a81b443a87"
    },
    "slideshow": {
     "slide_type": "slide"
    }
   },
   "source": [
    "# A New approach for finding OriC\n",
    "\n",
    "<img src=\"http://csbio.unc.edu/mcmillan/Comp555S18/Media/CGSkew.png\" width=\"600px\" class=\"centeredImg\">\n",
    "\n",
    "So let's sample the genome looking for positions where the #G - #C is maximally skewed.\n",
    "\n",
    "<p style=\"text-align: right; clear: right; margin-right: 200px;\">18</p>"
   ]
  },
  {
   "cell_type": "markdown",
   "metadata": {
    "nbpresent": {
     "id": "b462d473-2a7d-4002-82d2-93d706e55686"
    },
    "slideshow": {
     "slide_type": "slide"
    }
   },
   "source": [
    "# Counting with cummulative sums \n",
    "We'll use a vectorized cumuluative sum method to compute counts in the G-C skew genome wide. Given an input vector, V, of length N. S = V.cumsum() returns:\n",
    "\n",
    "$$S_i = \\sum\\limits_{j=0}^{i} V_j$$\n",
    "\n",
    "Cumulative sums can be used to compute counts over any interval, $Count_{[ij)} = S_j - S_i$. Example:"
   ]
  },
  {
   "cell_type": "code",
   "execution_count": 56,
   "metadata": {
    "nbpresent": {
     "id": "889662fa-5505-4248-abc1-73d74cebcc1a"
    }
   },
   "outputs": [
    {
     "name": "stdout",
     "output_type": "stream",
     "text": [
      "[1 0 0 0 1 0 0 0 0 0 1 0 1 1 0 0 0 0 1 0]\n",
      "[0 1 1 1 1 2 2 2 2 2 2 3 3 4 5 5 5 5 5 6 6]\n",
      "          [^                  ]^        \n",
      "3\n"
     ]
    }
   ],
   "source": [
    "v = numpy.array(numpy.random.random(20) < 0.25, dtype=\"int8\")    # a simulation model for DNA[i] == 'C'\n",
    "s = numpy.concatenate(([0],v.cumsum()))\n",
    "print v\n",
    "print s\n",
    "print ''.join(['[^' if (i == 5) else ']^' if (i == 15) else \"  \" for i in xrange(20)])\n",
    "print s[15] - s[5]"
   ]
  },
  {
   "cell_type": "markdown",
   "metadata": {
    "nbpresent": {
     "id": "0a530f5f-1d74-42b8-b802-7e2dcec54da8"
    }
   },
   "source": [
    "<p style=\"text-align: right; clear: right; margin-right: 200px;\">19</p>\n",
    "\n"
   ]
  },
  {
   "cell_type": "markdown",
   "metadata": {
    "nbpresent": {
     "id": "6a63519f-0f06-4125-9abb-21abc5994bd7"
    }
   },
   "source": [
    "# Finding the genome-wide GC skew"
   ]
  },
  {
   "cell_type": "code",
   "execution_count": 42,
   "metadata": {
    "nbpresent": {
     "id": "b9d678c6-83ed-414d-938f-40437285e576"
    }
   },
   "outputs": [],
   "source": [
    "def GCSkew(sequence):\n",
    "    half = len(sequence)//2\n",
    "    full = len(sequence)\n",
    "    genome = numpy.fromstring(sequence+sequence, dtype='uint8')\n",
    "    matchC = numpy.concatenate(([0], numpy.array(genome == ord('C'), dtype=\"int8\").cumsum()))\n",
    "    matchG = numpy.concatenate(([0], numpy.array(genome == ord('G'), dtype=\"int8\").cumsum()))\n",
    "    matchGC = matchG - matchC\n",
    "    skew = matchGC[half:half+full]-matchGC[0:full]+matchGC[full-half:2*full-half]-matchGC[full:2*full]\n",
    "    return skew"
   ]
  },
  {
   "cell_type": "markdown",
   "metadata": {
    "nbpresent": {
     "id": "ebbc7df2-05b4-4eac-844e-cf8bf1ad115d"
    },
    "slideshow": {
     "slide_type": "slide"
    }
   },
   "source": [
    "<p style=\"margin-top: 12px;\">Let's test it function on the short sequence: <code>CATGGGCATCGGCCATACGCC</code></p>"
   ]
  },
  {
   "cell_type": "code",
   "execution_count": 43,
   "metadata": {
    "nbpresent": {
     "id": "961a18cf-f197-4a9a-bdd8-dcb9291e47f4"
    }
   },
   "outputs": [
    {
     "data": {
      "image/png": "[encoded data removed]",
      "text/plain": [
       "<matplotlib.figure.Figure at 0x73b9b8019810>"
      ]
     },
     "metadata": {},
     "output_type": "display_data"
    }
   ],
   "source": [
    "%matplotlib inline\n",
    "import matplotlib\n",
    "import matplotlib.pyplot as plt\n",
    "\n",
    "test = \"+CATGGGCATCGGCCATACGCC\"\n",
    "y = GCSkew(test)\n",
    "plt.figure(num=None, figsize=(24, 8), dpi=100)\n",
    "plt.ylim([-10,10])\n",
    "plt.xticks(range(len(test)), [c for c in test])\n",
    "result = plt.plot(range(len(y)), y)"
   ]
  },
  {
   "cell_type": "markdown",
   "metadata": {
    "nbpresent": {
     "id": "79c8651e-f1ba-44d5-b26b-ef7ad2f378b1"
    }
   },
   "source": [
    "<p style=\"text-align: right; clear: right; margin-right: 200px;\">21</p>"
   ]
  },
  {
   "cell_type": "markdown",
   "metadata": {
    "nbpresent": {
     "id": "48f9e9e1-e539-4d9c-a198-f87ec3cda25d"
    },
    "slideshow": {
     "slide_type": "slide"
    }
   },
   "source": [
    "# Now let's revisit our genome\n"
   ]
  },
  {
   "cell_type": "code",
   "execution_count": 50,
   "metadata": {
    "nbpresent": {
     "id": "c0f27069-3ba9-4b3e-a975-6bda8a9f0532"
    }
   },
   "outputs": [
    {
     "data": {
      "image/png": "[encoded data removed]",
      "text/plain": [
       "<matplotlib.figure.Figure at 0x7fb1c3ce6850>"
      ]
     },
     "metadata": {},
     "output_type": "display_data"
    }
   ],
   "source": [
    "# Run on Thermotoga Petrophila\n",
    "y = GCSkew(seq[0])\n",
    "N = len(y)\n",
    "plt.figure(num=None, figsize=(24, 7), dpi=100)\n",
    "plt.axvline(oriCStart+oriOffset, color=\"r\", linestyle='--')\n",
    "result = plt.plot(range(0,N,1000), y[0:N:1000])"
   ]
  },
  {
   "cell_type": "markdown",
   "metadata": {
    "nbpresent": {
     "id": "1139d5f9-2b28-4477-aabe-f5a9d87f22a5"
    }
   },
   "source": [
    "<p style=\"text-align: right; clear: right; margin-right: 200px;\">22</p>"
   ]
  },
  {
   "cell_type": "markdown",
   "metadata": {
    "nbpresent": {
     "id": "95228360-91e2-40be-9a1f-1135401aa2d3"
    },
    "slideshow": {
     "slide_type": "slide"
    }
   },
   "source": [
    "# Now on the original Colera genome"
   ]
  },
  {
   "cell_type": "code",
   "execution_count": 51,
   "metadata": {
    "nbpresent": {
     "id": "99220a76-06ae-4346-a897-1bdd3092f3e6"
    }
   },
   "outputs": [
    {
     "data": {
      "image/png": "[encoded data removed]",
      "text/plain": [
       "<matplotlib.figure.Figure at 0x7fb1c0b26210>"
      ]
     },
     "metadata": {},
     "output_type": "display_data"
    }
   ],
   "source": [
    "header, seq = loadFasta(\"data/VibrioCholerae.fa\")\n",
    "oriCStart = 151887\n",
    "y = GCSkew(seq[0])\n",
    "N = len(y)\n",
    "plt.figure(num=None, figsize=(24, 7), dpi=100)\n",
    "plt.axvline(oriCStart, color=\"r\", linestyle='--')\n",
    "result = plt.plot(range(0,N,1000), y[0:N:1000])"
   ]
  },
  {
   "cell_type": "markdown",
   "metadata": {
    "nbpresent": {
     "id": "2798efe6-6f2a-4a93-a5c4-25d212397751"
    }
   },
   "source": [
    "<p style=\"text-align: right; clear: right; margin-right: 200px;\">23</p>"
   ]
  },
  {
   "cell_type": "markdown",
   "metadata": {
    "nbpresent": {
     "id": "5101b35a-8980-4ad2-9836-1cc35a321f53"
    },
    "slideshow": {
     "slide_type": "slide"
    }
   },
   "source": [
    "# A 3<sup>rd</sup> \"test\" genome"
   ]
  },
  {
   "cell_type": "code",
   "execution_count": 47,
   "metadata": {
    "nbpresent": {
     "id": "ec3cd24b-c70d-409d-9a06-fd49ce080cab"
    }
   },
   "outputs": [
    {
     "name": "stdout",
     "output_type": "stream",
     "text": [
      "CP003289.1 Escherichia coli O104:H4 str. 2011C-3493, complete genome\n",
      "5273097 bases +CATTATCGACTTTTGTTCGAGTGGAGTCC ... GTCAACAATCATGAATGTTTCAGCCTTAGT\n",
      "\n",
      "CP003291.1 Escherichia coli O104:H4 str. 2011C-3493 plasmid pAA-EA11, complete sequence\n",
      "74217 bases +GCCTCGCAAAACATTGCTCTATTCATGCA ... TTCTGACCGTCCTGATTTCTGCTTATATAA\n",
      "\n",
      "CP003290.1 Escherichia coli O104:H4 str. 2011C-3493 plasmid pESBL-EA11, complete sequence\n",
      "88544 bases +GTTGGGATGACGCCAGACCAACCTCAAAT ... CGCCTGGTGCCAGTTCTGTATGTTTATTTT\n",
      "\n",
      "CP003292.1 Escherichia coli O104:H4 str. 2011C-3493 plasmid pG-EA11, complete sequence\n",
      "1549 bases +CTAGCTGAAAAACTTGGAGTTAGCAGAAG ... TGTGGCGCTGTCGTTGCGGATCAGCAATTT\n",
      "\n"
     ]
    }
   ],
   "source": [
    "header, seq = loadFasta(\"data/EscherichiaColi.fa\")\n",
    "\n",
    "for i in xrange(len(header)):\n",
    "    print header[i]\n",
    "    print len(seq[i])-1, \"bases\", seq[i][:30], \"...\", seq[i][-30:]\n",
    "    print\n"
   ]
  },
  {
   "cell_type": "markdown",
   "metadata": {
    "nbpresent": {
     "id": "a0bc1f8b-9298-4c9a-9177-5982cab48076"
    }
   },
   "source": [
    "<p style=\"text-align: right; clear: right; margin-right: 200px;\">24</p>"
   ]
  },
  {
   "cell_type": "markdown",
   "metadata": {
    "nbpresent": {
     "id": "c551b101-5e7d-4e05-a3be-c6303330f347"
    }
   },
   "source": [
    "# Plot the G-C skew"
   ]
  },
  {
   "cell_type": "code",
   "execution_count": 58,
   "metadata": {
    "nbpresent": {
     "id": "a48bb03d-ff0a-4fc9-9a6d-1f9fdd2c31b9"
    }
   },
   "outputs": [
    {
     "data": {
      "image/png": "[encoded data removed]",
      "text/plain": [
       "<matplotlib.figure.Figure at 0x73b995791410>"
      ]
     },
     "metadata": {},
     "output_type": "display_data"
    }
   ],
   "source": [
    "shift = '+'+seq[0][1000000:]+seq[0][1:1000000]    # circular shift because the oriC is too close to the start\n",
    "y = GCSkew(shift)\n",
    "oriCGuess = y.argmax() \n",
    "N = len(y)\n",
    "plt.figure(num=None, figsize=(24, 7), dpi=100)\n",
    "plt.axvline(oriCGuess, color=\"r\", linestyle='--')\n",
    "result = plt.plot(range(0,N,1000), y[0:N:1000])"
   ]
  },
  {
   "cell_type": "markdown",
   "metadata": {
    "nbpresent": {
     "id": "f5ff4db1-5e5b-4dca-8d91-d68835f04ae5"
    }
   },
   "source": [
    "<p style=\"text-align: right; clear: right; margin-right: 200px;\">25</p>"
   ]
  },
  {
   "cell_type": "markdown",
   "metadata": {
    "collapsed": true,
    "nbpresent": {
     "id": "7e8e860f-7b47-479f-bd4f-e343f9f190a3"
    },
    "slideshow": {
     "slide_type": "slide"
    }
   },
   "source": [
    "# Did we found the OriC region of E. Coli?\n",
    "\n",
    "The minimum of the Skew Diagram points to this region in ***E. coli***:  \n",
    "\n",
    "    aatgatgatgacgtcaaaaggatccggataaaacatggtgattgcctcgcataacgcggta\n",
    "    tgaaaatggattgaagcccgggccgtggattctactcaactttgtcggcttgagaaagacc\n",
    "    tgggatcctgggtattaaaaagaagatctatttatttagagatctgttctattgtgatctc\n",
    "    ttattaggatcgcactgccctgtggataacaaggatccggcttttaagatcaacaacctgg\n",
    "    aaaggatcattaactgtgaatgatcggtgatcctggaccgtataagctgggatcagaatga\n",
    "    ggggttatacacaactcaaaaactgaacaacagttgttctttggataactaccggttgatc\n",
    "    caagcttcctgacagagttatccacagtagatcgcacgatctgtatacttatttgagtaaa\n",
    "    ttaacccacgatcccagccattcttctgccggatcttccggaatgtcgtgatcaagaatgt\n",
    "    tgatcttcagtg\n",
    "\n",
    "But there are **NO** frequent 9-mers (that appear three or more times) in this region!\n",
    "\n",
    "#### What now?\n",
    "\n",
    "<p style=\"text-align: right; clear: right; margin-right: 200px;\">26</p>"
   ]
  },
  {
   "cell_type": "markdown",
   "metadata": {
    "nbpresent": {
     "id": "a4e7267b-a474-463f-bc1a-c98f1dd0395e"
    },
    "slideshow": {
     "slide_type": "slide"
    }
   },
   "source": [
    "# *DnaA* is more forgiving than we imagined\n",
    "\n",
    "The OriC binding sites might not have exactly repeated 9-mers, but instead 9-mers that are very close in their target sequence. The DnaA is willing to look over these small differences.\n",
    "\n",
    "This leads to a new problem:\n",
    "\n",
    "<div style=\"margin: 20px 100px; padding: 10px; background-color: #ffe0e0;\">\n",
    "    <em><b>Frequent Approximate k-mer Matches:</b></em> \n",
    "    Find the most frequent k-mer allowing for a small number of mismatches.<br>\n",
    "    <ul>\n",
    "    <b>Input:</b> A string *Text*, and integers *k* and *d*<br>\n",
    "    <b>Output:</b> All most frequent k-mers with up to *d* mismatches in *Text*.\n",
    "    </ul>\n",
    "</div>\n",
    "\n",
    "<p style=\"text-align: right; clear: right; margin-right: 200px;\">27</p>"
   ]
  },
  {
   "cell_type": "markdown",
   "metadata": {
    "collapsed": true,
    "nbpresent": {
     "id": "c2736027-8826-4a2f-9326-5dc14c918487"
    },
    "slideshow": {
     "slide_type": "slide"
    }
   },
   "source": [
    "# Example: Revisiting *Vibrio Cholerae*\n",
    "\n",
    "If we allow for just one difference in the 9-mers <code><span style=\"color: green; font-weight: bold;\">ATGATCAAG</span></code> and <code><span style=\"color: blue; font-weight: bold;\">CTTGATCAT</span></code> that we found for *Vibrio Cholerae*, we see a few more potential binding regions pop out.\n",
    "\n",
    "<code><pre>\n",
    "    atca<span style=\"color: green; font-weight: bold;\">ATGATCAA</span><span style=\"color: red; font-weight: bold;\">C</span>gtaagcttctaagc<span style=\"color: green; font-weight: bold;\">ATGATCAAG</span>gtgctcacacagtttatccacaac\n",
    "    ctgagtggatgacatcaagataggtcgttgtatctccttcctctcgtactctcatgacca\n",
    "    cggaaag<span style=\"color: green; font-weight: bold;\">ATGATCAAG</span>agaggatgatttcttggccatatcgcaatgaatacttgtgactt\n",
    "    gtgcttccaattgacatcttcagcgccatattgcgctggccaaggtgacggagcgggatt\n",
    "    acgaaag<span style=\"color: blue; font-weight: bold;\">C</span><span style=\"color: red; font-weight: bold;\">A</span><span style=\"color: blue; font-weight: bold;\">TGATCAT</span>ggctgttgttctgtttatcttgttttgactgagacttgttagga\n",
    "    tagacggtttttcatcactgactagccaaagccttactctgcctgacatcgaccgtaaat\n",
    "    tgataatgaatttacatgcttccgcgacgatttacct<span style=\"color: blue; font-weight: bold;\">CTTGATCAT</span>cgatccgattgaag\n",
    "    atcttcaattgttaattctcttgcctcgactcatagccatgatgagct<span style=\"color: blue; font-weight: bold;\">CTTGATCAT</span>gtt\n",
    "    tccttaaccctctattttttacggaaga<span style=\"color: green; font-weight: bold;\">ATGATCAAG</span>ctgctgct<span style=\"color: blue; font-weight: bold;\">CTTGATCAT</span>cgtttc\n",
    "</pre></code>\n",
    "\n",
    "How would you approach this problem?\n",
    "\n",
    "<p style=\"text-align: right; clear: right; margin-right: 200px;\">28</p>"
   ]
  },
  {
   "cell_type": "markdown",
   "metadata": {
    "collapsed": true,
    "nbpresent": {
     "id": "05bb50ac-986d-4e31-8132-d9c1ca4c9211"
    },
    "slideshow": {
     "slide_type": "slide"
    }
   },
   "source": [
    "# Finally, the *DnaA* Boxes of *E. Coli*\n",
    "\n",
    "Frequent 9-mers, and their reverse complements, allowing for 1-Mismatch in the inferred *oriC* region of *E. Coli*.\n",
    "\n",
    "<code><pre>\n",
    "    aatgatgatgacgtcaaaaggatccggataaaacatggtgattgcctcgcataacgcggta\n",
    "    tgaaaatggattgaagcccgggccgtggattctactcaactttgtcggcttgagaaagacc\n",
    "    tgggatcctgggtattaaaaagaagatctatttatttagagatctgttctattgtgatctc\n",
    "    ttattaggatcgcactgccc<span style=\"color: blue; font-weight: bold;\">TGTGGATAA</span>caaggatccggcttttaagatcaacaacctgg\n",
    "    aaaggatcattaactgtgaatgatcggtgatcctggaccgtataagctgggatcagaatga\n",
    "    gggg<span style=\"color: green; font-weight: bold;\">TTAT<span style=\"color: red; font-weight: bold;\">A</span>CACA</span>actcaaaaactgaacaacagttgttc<span style=\"color: blue; font-weight: bold;\">T<span style=\"color: red; font-weight: bold;\">T</span>TGGATAA</span>ctaccggttgatc\n",
    "    caagcttcctgacagag<span style=\"color: green; font-weight: bold;\">TTATCCACA</span>gtagatcgcacgatctgtatacttatttgagtaaa\n",
    "    ttaacccacgatcccagccattcttctgccggatcttccggaatgtcgtgatcaagaatgt\n",
    "    tgatcttcagtg\n",
    "</pre></code>\n",
    "\n",
    "<p style=\"text-align: right; clear: right; margin-right: 200px;\">29</p>"
   ]
  },
  {
   "cell_type": "markdown",
   "metadata": {
    "nbpresent": {
     "id": "248169f5-56b2-4928-9c02-dbb50ca97d81"
    },
    "slideshow": {
     "slide_type": "slide"
    }
   },
   "source": [
    "# Summary\n",
    "\n",
    "The problem of finding the OriC region of the genome is really just a toy problem to get us thinking about both biology and algorithms and how they interact.\n",
    "\n",
    "Two key concepts:\n",
    "   * Algorithms must be correct-- give the expected answer for any valid input\n",
    "   * Many algorithms compute the same function, but some are faster than others\n",
    "\n",
    "Next time, we will think more about methods for analyzing sequences to allow for *approximate* matches.\n",
    "\n",
    "<p style=\"text-align: right; clear: right; margin-right: 200px;\">30</p>"
   ]
  },
  {
   "cell_type": "code",
   "execution_count": null,
   "metadata": {
    "collapsed": true
   },
   "outputs": [],
   "source": []
  }
 ],
 "metadata": {
  "anaconda-cloud": {},
  "kernelspec": {
   "display_name": "Python 2",
   "language": "python",
   "name": "python2"
  },
  "language_info": {
   "codemirror_mode": {
    "name": "ipython",
    "version": 2
   },
   "file_extension": ".py",
   "mimetype": "text/x-python",
   "name": "python",
   "nbconvert_exporter": "python",
   "pygments_lexer": "ipython2",
   "version": "2.7.14"
  },
  "nbpresent": {
   "slides": {
    "00e71a38-6eae-45ec-8104-56589a293a97": {
     "id": "00e71a38-6eae-45ec-8104-56589a293a97",
     "prev": "a061ef44-5fdb-403d-99e5-58bb94524056",
     "regions": {
      "8bf45c0a-09ae-4293-b132-26ecbc7682e8": {
       "attrs": {
        "height": 0.96,
        "width": 0.96,
        "x": 0.02,
        "y": 0.02
       },
       "content": {
        "cell": "155b8981-9f3f-475f-8f1a-1ceff763c351",
        "part": "source"
       },
       "id": "8bf45c0a-09ae-4293-b132-26ecbc7682e8"
      }
     }
    },
    "0b20baec-0073-4b3a-9c14-e1758a8826dc": {
     "id": "0b20baec-0073-4b3a-9c14-e1758a8826dc",
     "prev": "c052e7df-021b-4aaf-b683-508a80d6e412",
     "regions": {
      "a6de58df-6bb6-4158-9c93-d18f9c172722": {
       "attrs": {
        "height": 0.96,
        "width": 0.96,
        "x": 0.02,
        "y": 0.02
       },
       "content": {
        "cell": "160eb1a6-ca6a-4852-8cff-daf9adfc0864",
        "part": "source"
       },
       "id": "a6de58df-6bb6-4158-9c93-d18f9c172722"
      }
     }
    },
    "108eaadb-08f2-4bed-bb83-c85c42ba6369": {
     "id": "108eaadb-08f2-4bed-bb83-c85c42ba6369",
     "prev": "de2af829-8cd1-489c-be4c-2dcb81554d5d",
     "regions": {
      "246dd314-18af-41b7-9d76-a7f9e756913a": {
       "attrs": {
        "height": 0.17,
        "width": 0.96,
        "x": 0.019999999999999997,
        "y": 0.02
       },
       "content": {
        "cell": "e46326dd-ddb7-4802-914d-7d125c9f941e",
        "part": "source"
       },
       "id": "246dd314-18af-41b7-9d76-a7f9e756913a"
      },
      "a36c6101-c41a-4f5f-93ac-a1131884e1fc": {
       "attrs": {
        "height": 0.08,
        "width": 0.96,
        "x": 0.02,
        "y": 0.88
       },
       "content": {
        "cell": "8d7b9cac-bc2b-47ac-8548-3ca07011d4cf",
        "part": "source"
       },
       "id": "a36c6101-c41a-4f5f-93ac-a1131884e1fc"
      },
      "e5469511-9296-4050-884c-d63c5b52c281": {
       "attrs": {
        "height": 0.7206513409961685,
        "width": 0.96,
        "x": 0.019999999999999997,
        "y": 0.15934865900383144
       },
       "content": {
        "cell": "6865b26e-f9ed-4c8e-8cb7-3ba31ebadb8e",
        "part": "source"
       },
       "id": "e5469511-9296-4050-884c-d63c5b52c281"
      }
     }
    },
    "1a9f302f-d2e5-492d-b106-138278ed847e": {
     "id": "1a9f302f-d2e5-492d-b106-138278ed847e",
     "prev": "9f8eacb4-21b3-4d52-9dc2-6366f6d03f1b",
     "regions": {
      "575d1a36-bbdb-4ead-9f9c-bc36f79c955d": {
       "attrs": {
        "height": 0.5417223198594024,
        "width": 0.96,
        "x": 0.02,
        "y": 0.02
       },
       "content": {
        "cell": "b462d473-2a7d-4002-82d2-93d706e55686",
        "part": "source"
       },
       "id": "575d1a36-bbdb-4ead-9f9c-bc36f79c955d"
      },
      "5ecded27-6127-45db-bd40-4fbd0e8dee5b": {
       "attrs": {
        "height": 0.08407705930280328,
        "width": 0.9601493848857646,
        "x": 0.019925307557117765,
        "y": 0.9017056205347822
       },
       "content": {
        "cell": "0a530f5f-1d74-42b8-b802-7e2dcec54da8",
        "part": "source"
       },
       "id": "5ecded27-6127-45db-bd40-4fbd0e8dee5b"
      },
      "980319eb-668e-41da-8d01-992a22f99629": {
       "attrs": {
        "height": 0.15757428842696405,
        "width": 0.9601493848857646,
        "x": 0.019925307557117765,
        "y": 0.7446410655246483
       },
       "content": {
        "cell": "889662fa-5505-4248-abc1-73d74cebcc1a",
        "part": "outputs"
       },
       "id": "980319eb-668e-41da-8d01-992a22f99629"
      },
      "b979567d-e63b-4a35-81ef-6e9ee3ec3325": {
       "attrs": {
        "height": 0.18485209650593576,
        "width": 0.9601493848857646,
        "x": 0.019925307557117765,
        "y": 0.5622144112478031
       },
       "content": {
        "cell": "889662fa-5505-4248-abc1-73d74cebcc1a",
        "part": "source"
       },
       "id": "b979567d-e63b-4a35-81ef-6e9ee3ec3325"
      }
     }
    },
    "425d4fd4-379b-4170-a3d0-b54435f0b40a": {
     "id": "425d4fd4-379b-4170-a3d0-b54435f0b40a",
     "prev": "cbbede2b-809c-452a-ab39-82e7690d536f",
     "regions": {
      "773eea5b-24e0-4e45-aaf2-a265cb6eaa81": {
       "attrs": {
        "height": 0.08858934756154635,
        "width": 0.9600673967986522,
        "x": 0.01996630160067397,
        "y": 0.8743143311803799
       },
       "content": {
        "cell": "79c8651e-f1ba-44d5-b26b-ef7ad2f378b1",
        "part": "source"
       },
       "id": "773eea5b-24e0-4e45-aaf2-a265cb6eaa81"
      },
      "a4e17afa-1c8a-4458-92c7-51007445fb27": {
       "attrs": {
        "height": 0.14974070953851915,
        "width": 0.96,
        "x": 0.02,
        "y": 0.02
       },
       "content": {
        "cell": "6a63519f-0f06-4125-9abb-21abc5994bd7",
        "part": "source"
       },
       "id": "a4e17afa-1c8a-4458-92c7-51007445fb27"
      },
      "a988a328-2c12-46a8-aaaa-f2e6848badcd": {
       "attrs": {
        "height": 0.7011513619769725,
        "width": 0.9600673967986519,
        "x": 0.019966301600673975,
        "y": 0.17188991856220162
       },
       "content": {
        "cell": "961a18cf-f197-4a9a-bdd8-dcb9291e47f4",
        "part": "outputs"
       },
       "id": "a988a328-2c12-46a8-aaaa-f2e6848badcd"
      }
     }
    },
    "4c00f1e4-dba3-4547-83ba-cfdf5ed9c7d3": {
     "id": "4c00f1e4-dba3-4547-83ba-cfdf5ed9c7d3",
     "prev": "868c2a2b-3f7e-46a1-871b-8e6f76216e92",
     "regions": {
      "cb415d67-8b52-4dfb-9db8-843d13691751": {
       "attrs": {
        "height": 0.96,
        "width": 0.96,
        "x": 0.02,
        "y": 0.02
       },
       "content": {
        "cell": "248169f5-56b2-4928-9c02-dbb50ca97d81",
        "part": "source"
       },
       "id": "cb415d67-8b52-4dfb-9db8-843d13691751"
      }
     }
    },
    "4c58cc95-6bf2-4174-8296-f891fe7a5d7a": {
     "id": "4c58cc95-6bf2-4174-8296-f891fe7a5d7a",
     "prev": "90f1b2dd-532e-49a2-829d-b0ae15593f15",
     "regions": {
      "15eef4d6-1325-4667-b2e6-5a8dfdf1ea63": {
       "attrs": {
        "height": 0.4444444444444444,
        "width": 0.9595505617977528,
        "x": 0.020224719101123594,
        "y": 0.45555555555555555
       },
       "content": {
        "cell": "ec3cd24b-c70d-409d-9a06-fd49ce080cab",
        "part": "outputs"
       },
       "id": "15eef4d6-1325-4667-b2e6-5a8dfdf1ea63"
      },
      "42cda341-154c-4583-8eea-b3c7192a0a4e": {
       "attrs": {
        "height": 0.15101123595505608,
        "width": 0.96,
        "x": 0.02,
        "y": 0.02
       },
       "content": {
        "cell": "5101b35a-8980-4ad2-9836-1cc35a321f53",
        "part": "source"
       },
       "id": "42cda341-154c-4583-8eea-b3c7192a0a4e"
      },
      "94049154-b738-4f63-8663-ff287e16f2fc": {
       "attrs": {
        "height": 0.2866416978776529,
        "width": 0.9595505617977528,
        "x": 0.020224719101123594,
        "y": 0.16991260923845194
       },
       "content": {
        "cell": "ec3cd24b-c70d-409d-9a06-fd49ce080cab",
        "part": "source"
       },
       "id": "94049154-b738-4f63-8663-ff287e16f2fc"
      },
      "f1f89905-4654-4cc4-97a8-df74a0dc78d4": {
       "attrs": {
        "height": 0.06891385767790262,
        "width": 0.9595505617977528,
        "x": 0.020224719101123594,
        "y": 0.9049937578027466
       },
       "content": {
        "cell": "a0bc1f8b-9298-4c9a-9177-5982cab48076",
        "part": "source"
       },
       "id": "f1f89905-4654-4cc4-97a8-df74a0dc78d4"
      }
     }
    },
    "54f351c3-0c0f-4335-9dd4-d7f3d4f949a6": {
     "id": "54f351c3-0c0f-4335-9dd4-d7f3d4f949a6",
     "prev": "00e71a38-6eae-45ec-8104-56589a293a97",
     "regions": {
      "82282173-8dc7-4855-8415-db459c0dfe9b": {
       "attrs": {
        "height": 0.96,
        "width": 0.96,
        "x": 0.02,
        "y": 0.02
       },
       "content": {
        "cell": "17b95d3e-cd5c-4cf2-84bb-0253f9ce82ef",
        "part": "source"
       },
       "id": "82282173-8dc7-4855-8415-db459c0dfe9b"
      }
     }
    },
    "5840b71e-3a5f-4781-a9ff-a8fd3f8992ab": {
     "id": "5840b71e-3a5f-4781-a9ff-a8fd3f8992ab",
     "prev": "86b04543-3f52-4aad-a4f3-c0ce156634ff",
     "regions": {
      "85a0a9d7-9c0c-43bd-849b-a69a27288a2c": {
       "attrs": {
        "height": 0.6619566196425137,
        "width": 0.9595159515951596,
        "x": 0.0196919691969197,
        "y": 0.23804338035748626
       },
       "content": {
        "cell": "60601939-7533-411c-b1b2-2412bb74a85d",
        "part": "source"
       },
       "id": "85a0a9d7-9c0c-43bd-849b-a69a27288a2c"
      },
      "a0f0d852-b1c6-430f-8778-b3c6ba744c6b": {
       "attrs": {
        "height": 0.21922909995748935,
        "width": 0.96,
        "x": 0.02,
        "y": 0.02
       },
       "content": {
        "cell": "dd527d12-0f46-4f4d-8e83-6b1bae7ea1f7",
        "part": "source"
       },
       "id": "a0f0d852-b1c6-430f-8778-b3c6ba744c6b"
      },
      "f5be9c99-23da-4676-8acb-c6e79c6b5d37": {
       "attrs": {
        "height": 0.07051671732522803,
        "width": 0.9610942249240122,
        "x": 0.020972644376899698,
        "y": 0.9015310142969718
       },
       "content": {
        "cell": "06b0a7f4-0b3f-43d1-9674-514dee855261",
        "part": "source"
       },
       "id": "f5be9c99-23da-4676-8acb-c6e79c6b5d37"
      }
     }
    },
    "61d95a90-23aa-477c-a57c-6f12bb837f19": {
     "id": "61d95a90-23aa-477c-a57c-6f12bb837f19",
     "prev": "da7ad85d-e732-4ffd-abae-507b74f3a919",
     "regions": {
      "42187af8-3b21-4c2f-a680-96ad0b264995": {
       "attrs": {
        "height": 0.5676426958824518,
        "width": 0.9601493848857646,
        "x": 0.01992530755711776,
        "y": 0.3104262805030542
       },
       "content": {
        "cell": "039b45b2-f27f-4d61-84c6-783ef45be1a6",
        "part": "source"
       },
       "id": "42187af8-3b21-4c2f-a680-96ad0b264995"
      },
      "988c5b5f-6a9b-4bc8-9ab6-a3c37eceed60": {
       "attrs": {
        "height": 0.2901322041679086,
        "width": 0.9599999999999999,
        "x": 0.02,
        "y": 0.02
       },
       "content": {
        "cell": "854f50c9-98c9-405e-a717-850b3c0f710b",
        "part": "source"
       },
       "id": "988c5b5f-6a9b-4bc8-9ab6-a3c37eceed60"
      },
      "a45922bc-db28-4cb3-a6e4-781b7ff6c657": {
       "attrs": {
        "height": 0.10931458699472768,
        "width": 0.9611379613356767,
        "x": 0.019925307557117806,
        "y": 0.8763560433988701
       },
       "content": {
        "cell": "d0d41687-148c-485b-b487-4e2a676446d7",
        "part": "source"
       },
       "id": "a45922bc-db28-4cb3-a6e4-781b7ff6c657"
      }
     }
    },
    "6df77cb5-86ac-4d48-94d2-28a87c3af1d5": {
     "id": "6df77cb5-86ac-4d48-94d2-28a87c3af1d5",
     "prev": "0b20baec-0073-4b3a-9c14-e1758a8826dc",
     "regions": {
      "9f774411-de6e-4746-bc8e-9b53e8842c2b": {
       "attrs": {
        "height": 0.96,
        "width": 0.96,
        "x": 0.02,
        "y": 0.02
       },
       "content": {
        "cell": "4daee5dd-9edf-49d1-9787-7c344354511a",
        "part": "source"
       },
       "id": "9f774411-de6e-4746-bc8e-9b53e8842c2b"
      }
     }
    },
    "6fe83a48-5719-406f-a8b3-46f8cdb12400": {
     "id": "6fe83a48-5719-406f-a8b3-46f8cdb12400",
     "prev": "4c58cc95-6bf2-4174-8296-f891fe7a5d7a",
     "regions": {
      "030b4ed7-751c-4d4e-b488-230880e7cf70": {
       "attrs": {
        "height": 0.4923845193508115,
        "width": 0.9595505617977528,
        "x": 0.020224719101123594,
        "y": 0.42359550561797754
       },
       "content": {
        "cell": "a48bb03d-ff0a-4fc9-9a6d-1f9fdd2c31b9",
        "part": "outputs"
       },
       "id": "030b4ed7-751c-4d4e-b488-230880e7cf70"
      },
      "b54ca028-cd7c-43c4-9a43-360729e76b44": {
       "attrs": {
        "height": 0.2508863920099874,
        "width": 0.96,
        "x": 0.02,
        "y": 0.16781523096129838
       },
       "content": {
        "cell": "a48bb03d-ff0a-4fc9-9a6d-1f9fdd2c31b9",
        "part": "source"
       },
       "id": "b54ca028-cd7c-43c4-9a43-360729e76b44"
      },
      "ee053da0-0442-47ce-bd3b-30d0bbd9171a": {
       "attrs": {
        "height": 0.14481897627965043,
        "width": 0.9595505617977528,
        "x": 0.020224719101123594,
        "y": 0.020099875156054933
       },
       "content": {
        "cell": "c551b101-5e7d-4e05-a3be-c6303330f347",
        "part": "source"
       },
       "id": "ee053da0-0442-47ce-bd3b-30d0bbd9171a"
      },
      "f93aeb6a-8cb2-4243-a704-496ea16eee3e": {
       "attrs": {
        "height": 0.05892634207240949,
        "width": 0.9595505617977528,
        "x": 0.019101123595505618,
        "y": 0.9169787765293383
       },
       "content": {
        "cell": "f5ff4db1-5e5b-4dca-8d91-d68835f04ae5",
        "part": "source"
       },
       "id": "f93aeb6a-8cb2-4243-a704-496ea16eee3e"
      }
     }
    },
    "7884b070-4b93-45c4-8be0-4abfd3b07c53": {
     "id": "7884b070-4b93-45c4-8be0-4abfd3b07c53",
     "prev": "6fe83a48-5719-406f-a8b3-46f8cdb12400",
     "regions": {
      "78817260-662e-4400-b6dc-fb1a8ace5813": {
       "attrs": {
        "height": 0.96,
        "width": 0.96,
        "x": 0.02,
        "y": 0.02
       },
       "content": {
        "cell": "7e8e860f-7b47-479f-bd4f-e343f9f190a3",
        "part": "source"
       },
       "id": "78817260-662e-4400-b6dc-fb1a8ace5813"
      }
     }
    },
    "868c2a2b-3f7e-46a1-871b-8e6f76216e92": {
     "id": "868c2a2b-3f7e-46a1-871b-8e6f76216e92",
     "prev": "b8778b8f-d7ea-4e3d-8e83-9ae6988ef422",
     "regions": {
      "73bd9bca-5895-4066-89b2-71b4e20197ff": {
       "attrs": {
        "height": 0.96,
        "width": 0.96,
        "x": 0.02,
        "y": 0.02
       },
       "content": {
        "cell": "05bb50ac-986d-4e31-8132-d9c1ca4c9211",
        "part": "source"
       },
       "id": "73bd9bca-5895-4066-89b2-71b4e20197ff"
      }
     }
    },
    "86b04543-3f52-4aad-a4f3-c0ce156634ff": {
     "id": "86b04543-3f52-4aad-a4f3-c0ce156634ff",
     "prev": "108eaadb-08f2-4bed-bb83-c85c42ba6369",
     "regions": {
      "12fa9b26-4a07-40df-b924-fc058b4f90b8": {
       "attrs": {
        "height": 0.17,
        "width": 0.96,
        "x": 0.02,
        "y": 0.02
       },
       "content": {
        "cell": "e46326dd-ddb7-4802-914d-7d125c9f941e",
        "part": "source"
       },
       "id": "12fa9b26-4a07-40df-b924-fc058b4f90b8"
      },
      "3c2adfd2-7c3c-4fe9-9a30-04519c610d64": {
       "attrs": {
        "height": 0.34,
        "width": 0.96,
        "x": 0.02,
        "y": 0.56
       },
       "content": {
        "cell": "fdea0c7e-e701-4244-b035-5396d553a4aa",
        "part": "outputs"
       },
       "id": "3c2adfd2-7c3c-4fe9-9a30-04519c610d64"
      },
      "4b28f571-795d-4da5-8517-75fc8386ea0b": {
       "attrs": {
        "height": 0.37,
        "width": 0.96,
        "x": 0.02,
        "y": 0.19
       },
       "content": {
        "cell": "fdea0c7e-e701-4244-b035-5396d553a4aa",
        "part": "source"
       },
       "id": "4b28f571-795d-4da5-8517-75fc8386ea0b"
      },
      "7e18edda-d16f-4135-8e46-2c78ab869a0b": {
       "attrs": {
        "height": 0.06,
        "width": 0.96,
        "x": 0.02,
        "y": 0.9
       },
       "content": {
        "cell": "a3f98005-6aed-417f-87ad-a354a1020060",
        "part": "source"
       },
       "id": "7e18edda-d16f-4135-8e46-2c78ab869a0b"
      }
     }
    },
    "90f1b2dd-532e-49a2-829d-b0ae15593f15": {
     "id": "90f1b2dd-532e-49a2-829d-b0ae15593f15",
     "prev": "eeb2c483-10d3-4b68-9daf-c8d646d2de3d",
     "regions": {
      "4ae35cc1-cf89-480e-b0af-722abd7e1c16": {
       "attrs": {
        "height": 0.2706616729088639,
        "width": 0.9595505617977528,
        "x": 0.020224719101123594,
        "y": 0.16392009987515604
       },
       "content": {
        "cell": "99220a76-06ae-4346-a897-1bdd3092f3e6",
        "part": "source"
       },
       "id": "4ae35cc1-cf89-480e-b0af-722abd7e1c16"
      },
      "6534ffda-f5b9-4815-9460-32d4c1391ea8": {
       "attrs": {
        "height": 0.5043695380774033,
        "width": 0.9595505617977528,
        "x": 0.020224719101123594,
        "y": 0.43358302122347064
       },
       "content": {
        "cell": "99220a76-06ae-4346-a897-1bdd3092f3e6",
        "part": "outputs"
       },
       "id": "6534ffda-f5b9-4815-9460-32d4c1391ea8"
      },
      "cfc196c7-8b6d-4c16-a6cb-da6ab11e30f5": {
       "attrs": {
        "height": 0.13861266542321696,
        "width": 0.9600000000000001,
        "x": 0.01999999999999995,
        "y": 0.020000000000000007
       },
       "content": {
        "cell": "95228360-91e2-40be-9a1f-1135401aa2d3",
        "part": "source"
       },
       "id": "cfc196c7-8b6d-4c16-a6cb-da6ab11e30f5"
      },
      "d2f9b2c0-d373-4ee6-a901-593be9dea808": {
       "attrs": {
        "height": 0.07091136079900125,
        "width": 0.9595505617977528,
        "x": 0.020224719101123594,
        "y": 0.9289637952559301
       },
       "content": {
        "cell": "2798efe6-6f2a-4a93-a5c4-25d212397751",
        "part": "source"
       },
       "id": "d2f9b2c0-d373-4ee6-a901-593be9dea808"
      }
     }
    },
    "90fb9265-30b4-4646-9a9e-4e40a7ffcf2d": {
     "id": "90fb9265-30b4-4646-9a9e-4e40a7ffcf2d",
     "prev": "5840b71e-3a5f-4781-a9ff-a8fd3f8992ab",
     "regions": {
      "a1b50e99-d773-40f2-a4c7-148b2ed56e4a": {
       "attrs": {
        "height": 0.5692213665811027,
        "width": 0.9595159515951596,
        "x": 0.0196919691969197,
        "y": 0.2936193619361936
       },
       "content": {
        "cell": "a052a8de-d38b-4ab2-81b6-21dc1f45301d",
        "part": "source"
       },
       "id": "a1b50e99-d773-40f2-a4c7-148b2ed56e4a",
       "x": 0.02
      },
      "c6cb1e01-df6a-415d-8e6e-9799fee5b661": {
       "attrs": {
        "height": 0.265708348612639,
        "width": 0.96,
        "x": 0.02,
        "y": 0.02
       },
       "content": {
        "cell": "5db03091-d284-4076-baab-f3c399ef13ec",
        "part": "source"
       },
       "id": "c6cb1e01-df6a-415d-8e6e-9799fee5b661"
      },
      "fc4c3422-cb82-4c45-b204-e431d9af2311": {
       "attrs": {
        "height": 0.10179684635130193,
        "width": 0.9595159515951596,
        "x": 0.0196919691969197,
        "y": 0.8666544432221001
       },
       "content": {
        "cell": "c70b4ccb-3695-4c41-a794-857b04ebca38",
        "part": "source"
       },
       "id": "fc4c3422-cb82-4c45-b204-e431d9af2311",
       "width": 0.96,
       "x": 0.02
      }
     }
    },
    "946b2adf-c3f8-4c5b-864f-e70a3c617ec7": {
     "id": "946b2adf-c3f8-4c5b-864f-e70a3c617ec7",
     "prev": "61d95a90-23aa-477c-a57c-6f12bb837f19",
     "regions": {
      "441dffef-8e99-465d-a108-b8e1b025ea8d": {
       "attrs": {
        "height": 0.07329434697855751,
        "width": 0.9605263157894737,
        "x": 0.02017543859649123,
        "y": 0.9062378167641325
       },
       "content": {
        "cell": "840b3eae-88a4-48eb-b56f-38f8650c31e3",
        "part": "source"
       },
       "id": "441dffef-8e99-465d-a108-b8e1b025ea8d"
      },
      "7ee72c4d-2dbd-4237-987c-72ffb6130d3d": {
       "attrs": {
        "height": 0.3446393762183236,
        "width": 0.9596491228070175,
        "x": 0.020175438596491225,
        "y": 0.5569200779727096
       },
       "content": {
        "cell": "273b0b7c-7d5d-4762-b672-c6a3536e9547",
        "part": "outputs"
       },
       "id": "7ee72c4d-2dbd-4237-987c-72ffb6130d3d"
      },
      "8636bc09-20ac-411c-b922-8123fc50ea49": {
       "attrs": {
        "height": 0.3025341130604289,
        "width": 0.9578947368421052,
        "x": 0.02017543859649123,
        "y": 0.25282651072124757
       },
       "content": {
        "cell": "273b0b7c-7d5d-4762-b672-c6a3536e9547",
        "part": "source"
       },
       "id": "8636bc09-20ac-411c-b922-8123fc50ea49"
      },
      "977b9dfa-a7dd-4e70-bb33-f20d88fe2b72": {
       "attrs": {
        "height": 0.2364132553606239,
        "width": 0.9599999999999999,
        "x": 0.02,
        "y": 0.02
       },
       "content": {
        "cell": "8f16faed-4b02-45dd-a6e9-ca71f7dc814e",
        "part": "source"
       },
       "id": "977b9dfa-a7dd-4e70-bb33-f20d88fe2b72"
      }
     }
    },
    "9f1cc77c-1edb-4241-804b-46eb43009868": {
     "id": "9f1cc77c-1edb-4241-804b-46eb43009868",
     "prev": null,
     "regions": {
      "91bdb051-3888-47c8-ac37-ca6145aecaa2": {
       "attrs": {
        "height": 0.96,
        "width": 0.96,
        "x": 0.02,
        "y": 0.02
       },
       "content": {
        "cell": "7eac78de-5922-4930-bc83-27c8fd22e6d0",
        "part": "source"
       },
       "id": "91bdb051-3888-47c8-ac37-ca6145aecaa2"
      }
     }
    },
    "9f8eacb4-21b3-4d52-9dc2-6366f6d03f1b": {
     "id": "9f8eacb4-21b3-4d52-9dc2-6366f6d03f1b",
     "prev": "946b2adf-c3f8-4c5b-864f-e70a3c617ec7",
     "regions": {
      "45f29114-8a5b-410a-843b-3615ab15f734": {
       "attrs": {
        "height": 0.96,
        "width": 0.96,
        "x": 0.02,
        "y": 0.02
       },
       "content": {
        "cell": "74aa3448-15a3-420c-b6ad-22a81b443a87",
        "part": "source"
       },
       "id": "45f29114-8a5b-410a-843b-3615ab15f734"
      }
     }
    },
    "a061ef44-5fdb-403d-99e5-58bb94524056": {
     "id": "a061ef44-5fdb-403d-99e5-58bb94524056",
     "prev": "9f1cc77c-1edb-4241-804b-46eb43009868",
     "regions": {
      "7e149932-a618-4e5a-b499-8336445f19a7": {
       "attrs": {
        "height": 0.96,
        "width": 0.96,
        "x": 0.02,
        "y": 0.02
       },
       "content": {
        "cell": "47074402-82c5-4897-bb01-5a1661bffead",
        "part": "source"
       },
       "id": "7e149932-a618-4e5a-b499-8336445f19a7"
      }
     }
    },
    "b0121068-2dbf-4485-84c5-0107f26c9dad": {
     "id": "b0121068-2dbf-4485-84c5-0107f26c9dad",
     "prev": "e5575ab9-ca0c-4153-9082-ef8d45c4a313",
     "regions": {
      "ddbca66b-983d-4e8d-9f98-da9136df73b7": {
       "attrs": {
        "height": 0.96,
        "width": 0.96,
        "x": 0.02,
        "y": 0.02
       },
       "content": {
        "cell": "1c29573d-755f-4309-9a51-f0c46a79bcbb",
        "part": "source"
       },
       "id": "ddbca66b-983d-4e8d-9f98-da9136df73b7"
      }
     }
    },
    "b8778b8f-d7ea-4e3d-8e83-9ae6988ef422": {
     "id": "b8778b8f-d7ea-4e3d-8e83-9ae6988ef422",
     "prev": "f1c3e69b-3780-46da-acfc-733f4ee287c3",
     "regions": {
      "71e75f21-6104-4df2-9208-65563dcfb3a1": {
       "attrs": {
        "height": 0.96,
        "width": 0.96,
        "x": 0.02,
        "y": 0.02
       },
       "content": {
        "cell": "c2736027-8826-4a2f-9326-5dc14c918487",
        "part": "source"
       },
       "id": "71e75f21-6104-4df2-9208-65563dcfb3a1"
      }
     }
    },
    "c052e7df-021b-4aaf-b683-508a80d6e412": {
     "id": "c052e7df-021b-4aaf-b683-508a80d6e412",
     "prev": "54f351c3-0c0f-4335-9dd4-d7f3d4f949a6",
     "regions": {
      "a97b32db-04cb-4941-b6eb-2f2752f6e30f": {
       "attrs": {
        "height": 0.96,
        "width": 0.96,
        "x": 0.02,
        "y": 0.02
       },
       "content": {
        "cell": "9053fab5-6f7f-4bb9-8ab1-f36d12b64cf2",
        "part": "source"
       },
       "id": "a97b32db-04cb-4941-b6eb-2f2752f6e30f"
      }
     }
    },
    "cbbede2b-809c-452a-ab39-82e7690d536f": {
     "id": "cbbede2b-809c-452a-ab39-82e7690d536f",
     "prev": "1a9f302f-d2e5-492d-b106-138278ed847e",
     "regions": {
      "0640cfcc-cb36-48c7-82f2-273f7c794c13": {
       "attrs": {
        "height": 0.0636157349575703,
        "width": 0.9600673967986519,
        "x": 0.019966301600674006,
        "y": 0.9170167233148379
       },
       "content": {
        "cell": "79c8651e-f1ba-44d5-b26b-ef7ad2f378b1",
        "part": "source"
       },
       "id": "0640cfcc-cb36-48c7-82f2-273f7c794c13"
      },
      "443d55d2-4436-4cfe-8a79-ecf672de650d": {
       "attrs": {
        "height": 0.34205037329692345,
        "width": 0.9600673967986519,
        "x": 0.019966301600674006,
        "y": 0.5777684171112983
       },
       "content": {
        "cell": "961a18cf-f197-4a9a-bdd8-dcb9291e47f4",
        "part": "source"
       },
       "id": "443d55d2-4436-4cfe-8a79-ecf672de650d"
      },
      "73631f01-d235-4f4f-9a41-00f32bafbb91": {
       "attrs": {
        "height": 0.30950791944662326,
        "width": 0.96,
        "x": 0.02168491996630161,
        "y": 0.18774314331180378
       },
       "content": {
        "cell": "b9d678c6-83ed-414d-938f-40437285e576",
        "part": "source"
       },
       "id": "73631f01-d235-4f4f-9a41-00f32bafbb91"
      },
      "755ef02b-5076-403a-ad95-b7932fd4edcc": {
       "attrs": {
        "height": 0.1290274267527847,
        "width": 0.9600673967986519,
        "x": 0.01996630160067397,
        "y": 0.061059627445474114
       },
       "content": {
        "cell": "6a63519f-0f06-4125-9abb-21abc5994bd7",
        "part": "source"
       },
       "id": "755ef02b-5076-403a-ad95-b7932fd4edcc"
      },
      "d66345ea-1a05-4674-ae17-bd72f862cdfd": {
       "attrs": {
        "height": 0.08458362787154573,
        "width": 0.9600673967986519,
        "x": 0.019966301600673968,
        "y": 0.49640485850868443
       },
       "content": {
        "cell": "ebbc7df2-05b4-4eac-844e-cf8bf1ad115d",
        "part": "source"
       },
       "id": "d66345ea-1a05-4674-ae17-bd72f862cdfd"
      }
     }
    },
    "da7ad85d-e732-4ffd-abae-507b74f3a919": {
     "id": "da7ad85d-e732-4ffd-abae-507b74f3a919",
     "layout": "manual",
     "prev": "90fb9265-30b4-4646-9a9e-4e40a7ffcf2d",
     "regions": {
      "2c023cb2-d59f-4794-a6a7-be416e87ad00": {
       "attrs": {
        "height": 0.08959530728822263,
        "pad": 0.01,
        "width": 0.9614455184534271,
        "x": 0.01977152899824253,
        "y": 0.9053014046051888
       },
       "content": {
        "cell": "d0d41687-148c-485b-b487-4e2a676446d7",
        "part": "source"
       },
       "id": "2c023cb2-d59f-4794-a6a7-be416e87ad00"
      },
      "2fc6ee74-af3b-4dac-b93e-8364d2be5657": {
       "attrs": {
        "height": 0.40377227224800266,
        "pad": 0.01,
        "width": 0.9574912126537786,
        "x": 0.0224026576647121,
        "y": 0.4976926530953281
       },
       "content": {
        "cell": "a99bde82-cd9f-4941-b4a7-c8ceec037176",
        "part": "outputs"
       },
       "id": "2fc6ee74-af3b-4dac-b93e-8364d2be5657"
      },
      "e4a40976-4a6f-48c0-9740-d9583b157903": {
       "attrs": {
        "height": 0.22437695341492747,
        "pad": 0.01,
        "width": 0.960456942003515,
        "x": 0.01977152899824253,
        "y": 0.028119507908611598
       },
       "content": {
        "cell": "0b90d748-e57c-4fe7-8182-c0ea95bd2c64",
        "part": "source"
       },
       "id": "e4a40976-4a6f-48c0-9740-d9583b157903"
      },
      "e53cf098-646e-4843-97fb-2089789468d4": {
       "attrs": {
        "height": 0.25915693736128537,
        "pad": 0.01,
        "width": 0.960456942003515,
        "x": 0.020760105448154657,
        "y": 0.2551980660755703
       },
       "content": {
        "cell": "a99bde82-cd9f-4941-b4a7-c8ceec037176",
        "part": "source"
       },
       "id": "e53cf098-646e-4843-97fb-2089789468d4"
      }
     }
    },
    "de2af829-8cd1-489c-be4c-2dcb81554d5d": {
     "id": "de2af829-8cd1-489c-be4c-2dcb81554d5d",
     "prev": "b0121068-2dbf-4485-84c5-0107f26c9dad",
     "regions": {
      "b29103bd-e486-4774-9bc2-06f7342ec4fb": {
       "attrs": {
        "height": 0.96,
        "width": 0.96,
        "x": 0.02,
        "y": 0.02
       },
       "content": {
        "cell": "cffa0d48-1299-4308-bb6f-05957d5055e8",
        "part": "source"
       },
       "id": "b29103bd-e486-4774-9bc2-06f7342ec4fb"
      }
     }
    },
    "e5575ab9-ca0c-4153-9082-ef8d45c4a313": {
     "id": "e5575ab9-ca0c-4153-9082-ef8d45c4a313",
     "prev": "6df77cb5-86ac-4d48-94d2-28a87c3af1d5",
     "regions": {
      "3d0c8c97-ffc1-414b-b6b2-aa61b9534911": {
       "attrs": {
        "height": 0.96,
        "width": 0.96,
        "x": 0.02,
        "y": 0.02
       },
       "content": {
        "cell": "7f4ba3b0-2e12-44a5-b276-39ea8a018ff5",
        "part": "source"
       },
       "id": "3d0c8c97-ffc1-414b-b6b2-aa61b9534911"
      }
     }
    },
    "eeb2c483-10d3-4b68-9daf-c8d646d2de3d": {
     "id": "eeb2c483-10d3-4b68-9daf-c8d646d2de3d",
     "prev": "425d4fd4-379b-4170-a3d0-b54435f0b40a",
     "regions": {
      "0dc25ee3-f180-4b5c-9980-13c3b4a7c52a": {
       "attrs": {
        "height": 0.23639417967541676,
        "width": 0.9595938766228398,
        "x": 0.01950749745031558,
        "y": 0.14917292219863956
       },
       "content": {
        "cell": "c0f27069-3ba9-4b3e-a975-6bda8a9f0532",
        "part": "source"
       },
       "id": "0dc25ee3-f180-4b5c-9980-13c3b4a7c52a"
      },
      "2c3a7271-420b-48bb-b8eb-72076f39b282": {
       "attrs": {
        "height": 0.0536790490978865,
        "width": 0.9595232434741863,
        "x": 0.02009926541525401,
        "y": 0.9341219744510905
       },
       "content": {
        "cell": "1139d5f9-2b28-4477-aabe-f5a9d87f22a5",
        "part": "source"
       },
       "id": "2c3a7271-420b-48bb-b8eb-72076f39b282"
      },
      "2c537c8a-7b8e-4da5-8856-0ebc57aff82e": {
       "attrs": {
        "height": 0.1281000027564155,
        "width": 0.9600000000000001,
        "x": 0.019999999999999997,
        "y": 0.02
       },
       "content": {
        "cell": "48f9e9e1-e539-4d9c-a198-f87ec3cda25d",
        "part": "source"
       },
       "id": "2c537c8a-7b8e-4da5-8856-0ebc57aff82e"
      },
      "e4502486-8783-42fe-9b11-3875273b3dc8": {
       "attrs": {
        "height": 0.5464342702083543,
        "width": 0.9595585600485129,
        "x": 0.020063948840927263,
        "y": 0.38421707078781414
       },
       "content": {
        "cell": "c0f27069-3ba9-4b3e-a975-6bda8a9f0532",
        "part": "outputs"
       },
       "id": "e4502486-8783-42fe-9b11-3875273b3dc8"
      }
     }
    },
    "f1c3e69b-3780-46da-acfc-733f4ee287c3": {
     "id": "f1c3e69b-3780-46da-acfc-733f4ee287c3",
     "prev": "7884b070-4b93-45c4-8be0-4abfd3b07c53",
     "regions": {
      "25dda989-70ab-4a08-818f-34a41e1213a5": {
       "attrs": {
        "height": 0.96,
        "width": 0.96,
        "x": 0.02,
        "y": 0.02
       },
       "content": {
        "cell": "a4e7267b-a474-463f-bc1a-c98f1dd0395e",
        "part": "source"
       },
       "id": "25dda989-70ab-4a08-818f-34a41e1213a5"
      }
     }
    }
   },
   "themes": {
    "default": "c6c5bf76-4088-46c1-906b-3520571eae3c",
    "theme": {
     "c6c5bf76-4088-46c1-906b-3520571eae3c": {
      "backgrounds": {
       "my-background": {
        "background-color": "white"
       }
      },
      "id": "c6c5bf76-4088-46c1-906b-3520571eae3c",
      "palette": {
       "black": {
        "id": "black",
        "rgb": [
         0,
         0,
         0
        ]
       },
       "blue": {
        "id": "blue",
        "rgb": [
         0,
         153,
         204
        ]
       },
       "gray": {
        "id": "gray",
        "rgb": [
         128,
         128,
         128
        ]
       },
       "red": {
        "id": "red",
        "rgb": [
         240,
         32,
         32
        ]
       },
       "white": {
        "id": "white",
        "rgb": [
         255,
         255,
         255
        ]
       }
      },
      "rules": {
       "code": {
        "font-size": 2
       },
       "h1": {
        "color": "blue",
        "font-size": 5.5,
        "text-align": "center"
       },
       "h2": {
        "color": "blue",
        "font-size": 3,
        "text-align": "center"
       },
       "h3": {
        "color": "black",
        "font-size": 3
       },
       "pre": {
        "font-size": 2
       },
       "ul li": {
        "color": "black",
        "font-size": 3
       },
       "ul li ul li": {
        "color": "black",
        "font-size": 2.5
       }
      },
      "text-base": {
       "font-family": "Georgia",
       "font-size": 3
      }
     }
    }
   }
  }
 },
 "nbformat": 4,
 "nbformat_minor": 1
}
