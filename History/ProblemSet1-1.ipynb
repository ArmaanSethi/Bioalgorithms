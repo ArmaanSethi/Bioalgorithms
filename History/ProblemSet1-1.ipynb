{
 "cells": [
  {
   "cell_type": "markdown",
   "metadata": {
    "section": "header"
   },
   "source": [
    "<div style=\"text-align: center;\">\n",
    "<h1>The University of North Carolina at Chapel Hill</h1>\n",
    "<h1>Comp 555 BioAlgorithms - Spring 2018</h1>\n",
    "<h1 style=\"font-size: 250%;\">Problem Set #1 </h1>\n",
    "<h1>Issued Tuesday, 1/30/2017; Due Thursday, 2/15/2017</h1>\n",
    "</div>\n",
    "\n",
    "**Homework Information:** Some of the problems are probably too long to be done the night before the due date, so plan accordingly. Late problem sets will be penalized by a factor of\t70.71% for each class meeting after the due date. Feel free to get help from others, but the work you submit in should be your own. It is very important that you enter your answers in the provided cells. You can add extra cells to explore approaches, but only the provided cell can and will be graded."
   ]
  },
  {
   "cell_type": "code",
   "execution_count": 10,
   "metadata": {
    "scrolled": true
   },
   "outputs": [
    {
     "name": "stdout",
     "output_type": "stream",
     "text": [
      "{'ab': 1, 'ma': 1, 'ba': 1, 'na': 3, 'am': 1, 's': 1, 'an': 3, 'as': 1, 'pa': 1}\n"
     ]
    }
   ],
   "source": [
    "text = [\"abananas\",\"amabananas\",\"anamabananas\",\"ananas\",\"anas\",\"as\",\"bananas\",\"mabananas\",\"namabananas\",\"nanas\",\"nas\",\"panamabananas\",\"s\"]\n",
    "counts = {}\n",
    "for i in range(len(text)):\n",
    "    substring = text[i][0:2]\n",
    "    counts[substring] = counts.get(substring,0)+1\n",
    "print counts"
   ]
  },
  {
   "cell_type": "code",
   "execution_count": null,
   "metadata": {
    "collapsed": true
   },
   "outputs": [],
   "source": [
    "banana$\n",
    "anana$b\n",
    "nana$ba\n",
    "ana$ban\n",
    "na$bana\n",
    "a$banan\n",
    "$banana\n",
    "\n",
    "$banana\n",
    "a$banan\n",
    "ana$ban\n",
    "anana$b\n",
    "banana$\n",
    "na$bana\n",
    "nana$ba"
   ]
  },
  {
   "cell_type": "markdown",
   "metadata": {
    "number": 1,
    "section": "problem"
   },
   "source": [
    "---\n",
    "**Problem #1:** \n",
    "\n",
    "A. Find the length of the shortest *missing* *k*-mer in the genome of [Salmonella Typhimurium](http://csbio.unc.edu/mcmillan/Comp555S18/data/SalmonellaTyphimurium.fa) (ignore the second plasmid sequence). Report all missing *k*-mers of that length. \n",
    "\n",
    "B. Given that Salmonella's genome is 4857432 base-pairs in length, how does your answer in (a) compare to the *expected* length of the shortest missing *k*-mer? What are the assumptions of you answer, if any? \n"
   ]
  },
  {
   "cell_type": "code",
   "execution_count": 7,
   "metadata": {},
   "outputs": [
    {
     "name": "stdout",
     "output_type": "stream",
     "text": [
      "8\n",
      "217\n",
      "['GGCCTAGA', 'CTAGACTC', 'CTAGAGCC', 'CCTAAGTG', 'GGCTCTAG', 'AGCCCTAG', 'ACCTAGTT', 'CCTAGTGC', 'CCCCTAGT', 'TCTAGGGG', 'TTACTAGG', 'GGCCCTAG', 'ACCTAGTC', 'CTAGGGAA', 'ATCCTAGG', 'CTAGGGAC', 'CCTAGGTA', 'CCTAGGTC', 'CTAGTTCG', 'CTAGTAGA', 'AGAGCTAG', 'TAGGGCCC', 'CTCCTAGG', 'CTAGGTAG', 'TCTAGTCT', 'GACCTAGC', 'CTAGATGC', 'GACCTAGG', 'CTAGATGA', 'AGCCTAGA', 'GTCCTAGA', 'CCCTAGGA', 'TGTCCTAG', 'GTCTAGGG', 'CCTAGAGA', 'GTCTAGGA', 'CCGTCTAG', 'AGCCTAGG', 'CTACCTAG', 'CCCTAGGT', 'GCCTAGTA', 'GGTTCTAG', 'CTAGATAC', 'ACTAGATA', 'GTCTAGTA', 'CTAGAGTT', 'TCTAGAGT', 'GCTCTAGA', 'CTAGGTCT', 'ATGCTAGA', 'TCCTAGAC', 'GCTCTAGG', 'CCATCTAG', 'CTAGGCTT', 'ACACCTAG', 'GCCTAGGC', 'CTAGGTCG', 'GCCTAGGA', 'GCCTAGGG', 'CTAGGTCC', 'CGACCTAG', 'CCTAGGCA', 'ACTACTAG', 'CTAGTCCA', 'GGGTCTAG', 'CCTAGGCG', 'TGCCCTAG', 'TTTCTAGA', 'CCTAGCTA', 'CTAGGGCC', 'TACCTAGA', 'TACCTAGG', 'CTAGGGCG', 'TCTAGGAA', 'GCACCTAG', 'TCCTAGCC', 'CTAGAGAC', 'TGCCTAGG', 'AGCCTAGT', 'TAGATCTA', 'CGATCTAG', 'GTCTAGCA', 'GTCTAGCC', 'CCTCGAGA', 'ACCTAGAT', 'TATCCTAG', 'ACGTCTAG', 'TCTAGGGT', 'CGCCTAGA', 'TAGCCTAG', 'CTAGATTA', 'CCCTAGAT', 'CTAGGACC', 'CCTAGAAT', 'TACTAGTA', 'CCCTAGAG', 'GAGGGCCC', 'CCCTAGAC', 'CTAGACCC', 'TCTAGATA', 'TGCTAGAG', 'GCCTAGAC', 'TTCCAAGG', 'GCCTAGAG', 'CTAGGGTA', 'AAGTCTAG', 'GGTCTAGT', 'GCCTAGAT', 'CTCTAGTG', 'CCTAGGAG', 'CTAGGCTC', 'CCTAGGAA', 'TTCTAGAG', 'CTAGAGGA', 'TCTAGCCC', 'TAACTAGG', 'GAGCCTAG', 'ACCTAGGA', 'CCTAGGAT', 'ACCTAGGC', 'CTAGGGTG', 'CTCTAGGT', 'TCCTAGAG', 'ACCTAGGG', 'CTAGTCTA', 'CTAGAGGT', 'GACTAGGT', 'GAGTCTAG', 'TCTAGGCG', 'CCTAGTCC', 'CCTAGTCA', 'ACTCTAGG', 'CTAGATCT', 'TCTAGGCT', 'GTGCCTAG', 'GTACCTAG', 'GGGCCTAG', 'CCTAGACC', 'CCTAGACA', 'CCTAGACG', 'AGTCTAGT', 'CCCCTAGA', 'CTAGGAAC', 'CTTCTAGA', 'TTCTAGAC', 'AGTCTAGG', 'ACTAGACA', 'TGCTAGGG', 'AGTCTAGA', 'CTAGACAG', 'TAGGTCCT', 'TACTAGGG', 'ACTAGTGA', 'ACTCCTAG', 'GGGACTAG', 'GATTCTAG', 'TACTAGGT', 'CCCTAGTT', 'CCTAGGCT', 'AGGTCCTA', 'AGACTAGA', 'ATCTAGAG', 'ATCTAGTC', 'TCCTAGGT', 'CCTAGGGT', 'ACTAGGGG', 'CTTGGACC', 'GCCCTAGT', 'AAGCCTAG', 'ACTAGGGA', 'TCCTAGGG', 'TCCTAGGC', 'CACCTAGG', 'GCCCTAGA', 'CCTAGGGC', 'CCTAGATC', 'TATCTAGG', 'CCTAGATA', 'CCTAGATG', 'AACTAGGG', 'CCTAGAGG', 'GCTAGGTC', 'TACTAGAT', 'CCTAGAGC', 'GCTAGGTG', 'CAACTAGG', 'CTAGTCAT', 'AATCTAGG', 'GCCCTAGG', 'CTAGCTAG', 'CTACTAGT', 'CTAGATAG', 'AACTAGGT', 'CTAGGTGG', 'CTAGTGAG', 'ACCCTAGA', 'CCTAGTAG', 'ACTAGGTC', 'CCCTAGTA', 'GGGTCCTT', 'GGTCCTAG', 'ACTAGATG', 'TACTAGAG', 'CTAGGTAC', 'TAGACTAG', 'GGCTCGAG', 'ATCTAGGT', 'GGACCTAG', 'GTTCTAGG', 'AGGACCTA', 'ATCTAGGG', 'TTCCTAGG', 'ACTAGGTA', 'ACTAGTAT', 'TCCCTAGT', 'ATCTAGGA', 'TTCCTAGA']\n"
     ]
    }
   ],
   "source": [
    "from itertools import product\n",
    "\n",
    "\"\"\"parse FASTA files\"\"\"\n",
    "def loadFasta(filename):\n",
    "    if (filename.endswith(\".gz\")):\n",
    "        fp = gzip.open(filename, 'rb')\n",
    "    else:\n",
    "        fp = open(filename, 'rb')\n",
    " # split at headers\n",
    "    data = fp.read().split('>')\n",
    "    fp.close()\n",
    " # ignore whatever appears before the 1st header\n",
    "    data.pop(0)\n",
    "    headers = []\n",
    "    sequences = []\n",
    "    for sequence in data:\n",
    "        lines = sequence.split('\\n')\n",
    "        headers.append(lines.pop(0))\n",
    " # add an extra \"+\" to make string \"1-referenced\"\n",
    "        sequences.append('+' + ''.join(lines))\n",
    "    return (headers, sequences)\n",
    "\n",
    "\"\"\"counting k-mers\"\"\"\n",
    "def kmerFreq(k, sequence):\n",
    "    kmerCount = {}\n",
    "    for i in xrange(len(sequence)-k+1):\n",
    "        kmer = sequence[i:i+k]\n",
    "        kmerCount[kmer] = kmerCount.get(kmer,0)+1\n",
    "    return kmerCount\n",
    "\n",
    "header, seq = loadFasta(\"SalmonellaTyphimurium.fa\")\n",
    "\n",
    "seq = seq[0]\n",
    "header = header[0]\n",
    "seq = seq[1:len(seq)]\n",
    "\n",
    "condition = True\n",
    "kmer1 = {}\n",
    "kmerList = []\n",
    "shortestMissing = 1\n",
    "kmerLength = len(kmerFreq(shortestMissing, seq))\n",
    "\n",
    "while (condition == True):\n",
    "    if (pow(4, shortestMissing) == kmerLength):\n",
    "        shortestMissing = shortestMissing + 1\n",
    "        kmerLength = len(kmerFreq(shortestMissing, seq))\n",
    "    else:\n",
    "        print str(shortestMissing)\n",
    "        kmer1 = kmerFreq(shortestMissing, seq)\n",
    "        for key, value in kmer1.iteritems():\n",
    "            kmerList.append(key)\n",
    "        allKmers = list(product([\"A\", \"G\", \"C\", \"T\"], repeat = shortestMissing))\n",
    "        \n",
    "        for i in range(0, len(allKmers)):\n",
    "            tup=allKmers[i]\n",
    "            allKmers[i]=\"\".join(tup)\n",
    "        \n",
    "        missingKmers = list(set(allKmers)-set(kmerList))\n",
    "        \n",
    "        print str(len(missingKmers))\n",
    "        print missingKmers\n",
    "        \n",
    "        condition = False"
   ]
  },
  {
   "cell_type": "raw",
   "metadata": {
    "number": 1,
    "section": "answer"
   },
   "source": [
    "A. Length of the shortest missing kmer: 8\n",
    "List of all missing kmers of length 8:\n",
    "['GGCCTAGA', 'CTAGACTC', 'CTAGAGCC', 'CCTAAGTG', 'GGCTCTAG', 'AGCCCTAG', 'ACCTAGTT', 'CCTAGTGC', 'CCCCTAGT', 'TCTAGGGG', 'TTACTAGG', 'GGCCCTAG', 'ACCTAGTC', 'CTAGGGAA', 'ATCCTAGG', 'CTAGGGAC', 'CCTAGGTA', 'CCTAGGTC', 'CTAGTTCG', 'CTAGTAGA', 'AGAGCTAG', 'TAGGGCCC', 'CTCCTAGG', 'CTAGGTAG', 'TCTAGTCT', 'GACCTAGC', 'CTAGATGC', 'GACCTAGG', 'CTAGATGA', 'AGCCTAGA', 'GTCCTAGA', 'CCCTAGGA', 'TGTCCTAG', 'GTCTAGGG', 'CCTAGAGA', 'GTCTAGGA', 'CCGTCTAG', 'AGCCTAGG', 'CTACCTAG', 'CCCTAGGT', 'GCCTAGTA', 'GGTTCTAG', 'CTAGATAC', 'ACTAGATA', 'GTCTAGTA', 'CTAGAGTT', 'TCTAGAGT', 'GCTCTAGA', 'CTAGGTCT', 'ATGCTAGA', 'TCCTAGAC', 'GCTCTAGG', 'CCATCTAG', 'CTAGGCTT', 'ACACCTAG', 'GCCTAGGC', 'CTAGGTCG', 'GCCTAGGA', 'GCCTAGGG', 'CTAGGTCC', 'CGACCTAG', 'CCTAGGCA', 'ACTACTAG', 'CTAGTCCA', 'GGGTCTAG', 'CCTAGGCG', 'TGCCCTAG', 'TTTCTAGA', 'CCTAGCTA', 'CTAGGGCC', 'TACCTAGA', 'TACCTAGG', 'CTAGGGCG', 'TCTAGGAA', 'GCACCTAG', 'TCCTAGCC', 'CTAGAGAC', 'TGCCTAGG', 'AGCCTAGT', 'TAGATCTA', 'CGATCTAG', 'GTCTAGCA', 'GTCTAGCC', 'CCTCGAGA', 'ACCTAGAT', 'TATCCTAG', 'ACGTCTAG', 'TCTAGGGT', 'CGCCTAGA', 'TAGCCTAG', 'CTAGATTA', 'CCCTAGAT', 'CTAGGACC', 'CCTAGAAT', 'TACTAGTA', 'CCCTAGAG', 'GAGGGCCC', 'CCCTAGAC', 'CTAGACCC', 'TCTAGATA', 'TGCTAGAG', 'GCCTAGAC', 'TTCCAAGG', 'GCCTAGAG', 'CTAGGGTA', 'AAGTCTAG', 'GGTCTAGT', 'GCCTAGAT', 'CTCTAGTG', 'CCTAGGAG', 'CTAGGCTC', 'CCTAGGAA', 'TTCTAGAG', 'CTAGAGGA', 'TCTAGCCC', 'TAACTAGG', 'GAGCCTAG', 'ACCTAGGA', 'CCTAGGAT', 'ACCTAGGC', 'CTAGGGTG', 'CTCTAGGT', 'TCCTAGAG', 'ACCTAGGG', 'CTAGTCTA', 'CTAGAGGT', 'GACTAGGT', 'GAGTCTAG', 'TCTAGGCG', 'CCTAGTCC', 'CCTAGTCA', 'ACTCTAGG', 'CTAGATCT', 'TCTAGGCT', 'GTGCCTAG', 'GTACCTAG', 'GGGCCTAG', 'CCTAGACC', 'CCTAGACA', 'CCTAGACG', 'AGTCTAGT', 'CCCCTAGA', 'CTAGGAAC', 'CTTCTAGA', 'TTCTAGAC', 'AGTCTAGG', 'ACTAGACA', 'TGCTAGGG', 'AGTCTAGA', 'CTAGACAG', 'TAGGTCCT', 'TACTAGGG', 'ACTAGTGA', 'ACTCCTAG', 'GGGACTAG', 'GATTCTAG', 'TACTAGGT', 'CCCTAGTT', 'CCTAGGCT', 'AGGTCCTA', 'AGACTAGA', 'ATCTAGAG', 'ATCTAGTC', 'TCCTAGGT', 'CCTAGGGT', 'ACTAGGGG', 'CTTGGACC', 'GCCCTAGT', 'AAGCCTAG', 'ACTAGGGA', 'TCCTAGGG', 'TCCTAGGC', 'CACCTAGG', 'GCCCTAGA', 'CCTAGGGC', 'CCTAGATC', 'TATCTAGG', 'CCTAGATA', 'CCTAGATG', 'AACTAGGG', 'CCTAGAGG', 'GCTAGGTC', 'TACTAGAT', 'CCTAGAGC', 'GCTAGGTG', 'CAACTAGG', 'CTAGTCAT', 'AATCTAGG', 'GCCCTAGG', 'CTAGCTAG', 'CTACTAGT', 'CTAGATAG', 'AACTAGGT', 'CTAGGTGG', 'CTAGTGAG', 'ACCCTAGA', 'CCTAGTAG', 'ACTAGGTC', 'CCCTAGTA', 'GGGTCCTT', 'GGTCCTAG', 'ACTAGATG', 'TACTAGAG', 'CTAGGTAC', 'TAGACTAG', 'GGCTCGAG', 'ATCTAGGT', 'GGACCTAG', 'GTTCTAGG', 'AGGACCTA', 'ATCTAGGG', 'TTCCTAGG', 'ACTAGGTA', 'ACTAGTAT', 'TCCCTAGT', 'ATCTAGGA', 'TTCCTAGA']\n",
    "There are 217 missing kmers of length 8. \n",
    "\n",
    "B. The expected length of the shortest missing k-mer for a genome of 4,857,432 base-pairs is 12, since we need to find a length k where (N-k+1)/(4^k) <= 1, with bases of size N. "
   ]
  },
  {
   "cell_type": "markdown",
   "metadata": {
    "number": 2,
    "section": "problem"
   },
   "source": [
    "---\n",
    "**Problem #2:** Modify the <code>kmerPositions()</code> function given in Lecture 2 on slide 20 to allow for one error. Your new function:\n",
    "\n",
    "     kmersWithError(k, sequence)\n",
    "\n",
    "should return a Python dictionary whose keys are kmers that appear in either the sequence or its reverse complement, and whose values are a list of positions of a kmer that differs in no more than one base from the key or its reverse complement. Your list should include only the lexigraphically first of each kmer/reverse complement pair. Enter the code for your function in the space provided below.\n",
    "\n",
    "You can test your code on the following sequence:\n",
    "<pre>\n",
    "test = \"ggtaattgcctcgcataacgcggtgtgaaaatggattgaagcccgggcggtggattctac\"+\\\n",
    "       \"tcaactttagccgatggagaaagccccgggatccgggctattaaaaagaagatcttttta\"+\\\n",
    "       \"tttagagatctgttctattgtgatctcttattaggatcgcgccaggctgtggataacccg\"+\\\n",
    "       \"gatcctgtaataaagatcaatgcgttggaaaggatcactagctgtgaatgatcggtgatc\"+\\\n",
    "       \"gtggtccgtataagctgggatcaaaacgggtacttatacacaactcaaaaagtgaacaac\"+\\\n",
    "       \"ggttattctttggataactaccggttgatccaagctttccaccagatttatccacaatgg\"+\\\n",
    "       \"atcgcacgatctttacac\"\n",
    "</pre>\n",
    "But a different sequence will be used for grading."
   ]
  },
  {
   "cell_type": "code",
   "execution_count": 8,
   "metadata": {},
   "outputs": [
    {
     "name": "stdout",
     "output_type": "stream",
     "text": [
      "{'gtaa': [8], 'aaat': [1, 2, 3, 9, 10], 'aatt': [1, 2, 3, 10], 'acca': [6], 'caaa': [4, 5], 'ggta': [7], 'ccaa': [4, 5]}\n"
     ]
    }
   ],
   "source": [
    "def hammy(str1, str2):\n",
    "    s = 0\n",
    "    for char, char2 in zip(str1, str2):\n",
    "        if char != char2:\n",
    "            s += 1\n",
    "    return s\n",
    "\n",
    "def kmerWithError(k, sequence):\n",
    "    kmerPosition = {}\n",
    "    if sequence[0]!=\"+\":\n",
    "        sequence= \"+\" + sequence\n",
    "    for i in xrange(1,len(sequence)-k+1):\n",
    "        kmer = sequence[i:i+k]\n",
    "        kmerPosition[kmer] = kmerPosition.get(kmer,[])+[i]\n",
    "    pairPosition = {}\n",
    "    for kmer, posList in kmerPosition.iteritems():\n",
    "        krev = ''.join([{'a':'t','c':'g','g':'c','t':'a'}[base] for base in reversed(kmer)])\n",
    "        if (kmer == krev): \n",
    "            pairPosition[kmer] = posList\n",
    "        elif (kmer <= krev): \n",
    "            pairPosition[kmer] = sorted(posList + kmerPosition.get(krev, []))\n",
    "        elif (krev < kmer): \n",
    "            pairPosition[krev] = sorted(posList + kmerPosition.get(krev, []))\n",
    "            \n",
    "    diffPos = {}\n",
    "    for kmer, posList in sorted(pairPosition.iteritems(), reverse=True) :\n",
    "        match = False\n",
    "        for kmer2, posList2 in sorted(pairPosition.iteritems()):\n",
    "            krev = ''.join([{'a':'t','c':'g','g':'c','t':'a'}[base] for base in reversed(kmer2)])\n",
    "            if (hammy(kmer,kmer2) == 1 or hammy(kmer,krev) == 1) and match == False and kmer!=kmer2 :\n",
    "                if (kmer2 in diffPos):\n",
    "                    diffPos[kmer2] = sorted(diffPos.get(kmer2,[]) + posList)\n",
    "                else:\n",
    "                    diffPos[kmer2] = sorted(posList + posList2)\n",
    "                match = True\n",
    "        if match==False:\n",
    "            diffPos[kmer] = sorted(diffPos.get(kmer,[]) + posList)\n",
    "    return diffPos\n",
    "\n",
    "test = \"+aaatttggtaattgcctcgcataacgcggtgtgaaaatggattgaagcccgggcggtggattctac\"+\\\n",
    "\"tcaactttagccgatggagaaagccccgggatccgggctattaaaaagaagatcttttta\"+\\\n",
    "\"tttagagatctgttctattgtgatctcttattaggatcgcgccaggctgtggataacccg\"+\\\n",
    "\"gatcctgtaataaagatcaatgcgttggaaaggatcactagctgtgaatgatcggtgatc\"+\\\n",
    "\"gtggtccgtataagctgggatcaaaacgggtacttatacacaactcaaaaagtgaacaac\"+\\\n",
    "\"ggttattctttggataactaccggttgatccaagctttccaccagatttatccacaatgg\"+\\\n",
    "\"atcgcacgatctttacac\"\n",
    "print kmerWithError(4, test)"
   ]
  },
  {
   "cell_type": "raw",
   "metadata": {
    "number": 2,
    "section": "answer"
   },
   "source": [
    "def hammy(str1, str2):\n",
    "    s = 0\n",
    "    \n",
    "    for char, char2 in zip(str1, str2):\n",
    "        if char != char2:\n",
    "            s += 1\n",
    "            \n",
    "    return s\n",
    "\n",
    "def kmerWithError(k, sequence):\n",
    "    kmerPosition = {}\n",
    "    \n",
    "    if sequence[0]!=\"+\":\n",
    "        sequence= \"+\" + sequence\n",
    "    for i in xrange(1,len(sequence)-k+1):\n",
    "        kmer = sequence[i:i+k]\n",
    "        kmerPosition[kmer] = kmerPosition.get(kmer,[])+[i]\n",
    "    pairPosition = {}\n",
    "    for kmer, posList in kmerPosition.iteritems():\n",
    "        krev = ''.join([{'a':'t','c':'g','g':'c','t':'a'}[base] for base in reversed(kmer)])\n",
    "        if (kmer == krev): \n",
    "            pairPosition[kmer] = posList\n",
    "        elif (kmer <= krev): \n",
    "            pairPosition[kmer] = sorted(posList + kmerPosition.get(krev, []))\n",
    "        elif (krev < kmer): \n",
    "            pairPosition[krev] = sorted(posList + kmerPosition.get(krev, []))\n",
    "            \n",
    "    diffPos = {}\n",
    "    for kmer, posList in sorted(pairPosition.iteritems(), reverse=True) :\n",
    "        match = False\n",
    "        for kmer2, posList2 in sorted(pairPosition.iteritems()):\n",
    "            krev = ''.join([{'a':'t','c':'g','g':'c','t':'a'}[base] for base in reversed(kmer2)])\n",
    "            if (hammy(kmer,kmer2) == 1 or hammy(kmer,krev) == 1) and match == False and kmer!=kmer2 :\n",
    "                if (kmer2 in diffPos):\n",
    "                    diffPos[kmer2] = sorted(diffPos.get(kmer2,[]) + posList)\n",
    "                else:\n",
    "                    diffPos[kmer2] = sorted(posList + posList2)\n",
    "                match = True\n",
    "        if match==False:\n",
    "            diffPos[kmer] = sorted(diffPos.get(kmer,[]) + posList)\n",
    "    return diffPos\n"
   ]
  },
  {
   "cell_type": "code",
   "execution_count": null,
   "metadata": {
    "collapsed": true
   },
   "outputs": [],
   "source": []
  },
  {
   "cell_type": "markdown",
   "metadata": {
    "number": 3,
    "section": "problem"
   },
   "source": [
    "---\n",
    "**Problem #3:** Plot the CG skew diagram for [Salmonella Typhimurium](http://csbio.unc.edu/mcmillan/Comp555S18/data/SalmonellaTyphimurium.fa). Use this to estimate the position of the *OriC*. The true *OriC* position for this genome is between 4082788 and 4084165. How close is your answer to the true *OriC* position?"
   ]
  },
  {
   "cell_type": "code",
   "execution_count": 9,
   "metadata": {},
   "outputs": [
    {
     "data": {
      "image/png": "[encoded data removed]",
      "text/plain": [
       "<matplotlib.figure.Figure at 0x123835b90>"
      ]
     },
     "metadata": {},
     "output_type": "display_data"
    }
   ],
   "source": [
    "import numpy\n",
    "def GCSkew(sequence):\n",
    "    half = len(sequence)//2\n",
    "    full = len(sequence)\n",
    "    genome = numpy.fromstring(sequence+sequence, dtype='uint8')\n",
    "    matchC = numpy.concatenate(([0], numpy.array(genome == ord('C'), dtype=\"int8\").cumsum()))\n",
    "    matchG = numpy.concatenate(([0], numpy.array(genome == ord('G'), dtype=\"int8\").cumsum()))\n",
    "    matchGC = matchG - matchC\n",
    "    skew = matchGC[half:half+full]-matchGC[0:full]+matchGC[full-half:2*full-half]-matchGC[full:2*full]\n",
    "    return skew\n",
    "\n",
    "%matplotlib inline\n",
    "import matplotlib\n",
    "import matplotlib.pyplot as plt\n",
    "\n",
    "test = seq\n",
    "y = GCSkew(test)\n",
    "oriCGuess = y.argmax() \n",
    "N = len(y)\n",
    "plt.figure(num=None, figsize=(24, 7), dpi=100)\n",
    "plt.axvline(oriCGuess, color=\"r\", linestyle='-', label=str(oriCGuess))\n",
    "plt.legend(loc='upper right')\n",
    "result = plt.plot(range(0,N,1000), y[0:N:1000])"
   ]
  },
  {
   "cell_type": "raw",
   "metadata": {
    "number": 3,
    "section": "answer"
   },
   "source": [
    "The calculated oriC position is at 4,081,396, which is slightly lower than the range of 4,082,788 and 4,084,165. However, this is still very close to the true OriC position for the genome."
   ]
  },
  {
   "cell_type": "markdown",
   "metadata": {
    "number": 4,
    "section": "problem"
   },
   "source": [
    "**Problem #4:** A restriction enzyme is a protein produced by bacteria that cleaves DNA at specific subsequence patterns called *recognition sites*. Bacteria use restriction enzymes to defend against bacterial viruses called bacteriophages. The recognition site of a restriction enzyme is commonly a *reverse palindrome*, meaning the base sequence reads the same backwards and forwards, with a length of 4, 6, or 8 bases. The intervals between recognition sites are called *digestion fragments*.\n",
    "\n",
    "How many possible reverse palindromic recognition sites of length 8 exist? What fraction of 8-mers are reverse palindromic? Approximately how frequently, in terms of base-pairs, would you expect a given 8-base recogonition site might appear in a genome? How frequently does the recognition site GAATTC appear in the complete genome of [Salmonella Typhimurium](http://csbio.unc.edu/mcmillan/Comp555S18/data/SalmonellaTyphimurium.fa)? How many digestion fragments result?"
   ]
  },
  {
   "cell_type": "code",
   "execution_count": 10,
   "metadata": {},
   "outputs": [
    {
     "name": "stdout",
     "output_type": "stream",
     "text": [
      "256\n",
      "65536\n",
      "0.00390625\n",
      "751\n"
     ]
    }
   ],
   "source": [
    "allKmers = list(product([\"A\",\"G\",\"C\",\"T\"],repeat = 8))\n",
    "count = 0\n",
    "for a in allKmers:\n",
    "    if a[0]==a[7] and a[1]==a[6] and a[2]==a[5] and a[3]==a[4]:\n",
    "        count += 1\n",
    "print count\n",
    "print len(allKmers)\n",
    "print float(count)/float(len(allKmers))\n",
    "\n",
    "dic = kmerFreq(6, seq)\n",
    "print dic[\"GAATTC\"]"
   ]
  },
  {
   "cell_type": "raw",
   "metadata": {
    "number": 4,
    "section": "answer"
   },
   "source": [
    "There are at most 256 possible reverse palindromic recognition sites of length 8. The fraction of 8-mers that are reverse palindromic is 0.00390625, or 1/256. You would expect a given 8-base recognition site to appear in a genome with a frequency of (N-8+1)/(4*8). The recognition site GAATTC appears 751 times in the complete genome of Salmonella Typhimurium. As long as the recognition site isnt at the beginning or at the end, there would be 752 digestion fragments, or N+1."
   ]
  },
  {
   "cell_type": "markdown",
   "metadata": {
    "number": 5,
    "section": "problem"
   },
   "source": [
    "**Problem #5: Programming Problem**\n",
    "\n",
    "Write a branch-and-bound version of the *MedianStringMotifSearch()* algorithm shown below. You should base your alogrithm on the observation that, if the best alignment of a *prefix* of a candidate motif has a greater Hamming distance than the minimal Hamming distance of the best motif found so far, it could not possibly lead to a better solution.\n",
    "\n",
    "<pre>\n",
    "import itertools\n",
    "\n",
    "def ScanAndScoreMotif(DNA, motif):\n",
    "    totalDist = 0\n",
    "    bestAlignment = []\n",
    "    k = len(motif)\n",
    "    for seq in DNA:\n",
    "        minHammingDist = k+1\n",
    "        for s in xrange(len(seq)-k+1):\n",
    "            HammingDist = sum([1 for i in xrange(k) if motif[i] != seq[s+i]])\n",
    "            if (HammingDist < minHammingDist):\n",
    "                bestS = s\n",
    "                minHammingDist = HammingDist\n",
    "        bestAlignment.append(bestS)\n",
    "        totalDist += minHammingDist\n",
    "    return bestAlignment, totalDist\n",
    "\n",
    "def MedianStringMotifSearch(DNA,k):\n",
    "    \"\"\" Consider all possible 4**k motifs\"\"\"\n",
    "    bestAlignment = []\n",
    "    minHammingDist = k*len(DNA)\n",
    "    kmer = ''\n",
    "    for pattern in itertools.product('acgt', repeat=k):\n",
    "        motif = ''.join(pattern)\n",
    "        align, dist = ScanAndScoreMotif(DNA, motif)\n",
    "        if (dist < minHammingDist):\n",
    "            bestAlignment = [s for s in align]\n",
    "            minHammingDist = dist\n",
    "            kmer = motif\n",
    "    return bestAlignment, minHammingDist, kmer\n",
    "</pre>\n",
    "\n",
    "Apply your algoritm to the set of sequences used in lecture:\n",
    "\n",
    "<pre>\n",
    "seqApprox = [\n",
    "    'tagtggtcttttgagtgtagatctgaagggaaagtatttccaccagttcggggtcacccagcagggcagggtgacttaat',\n",
    "    'cgcgactcggcgctcacagttatcgcacgtttagaccaaaacggagttggatccgaaactggagtttaatcggagtcctt',\n",
    "    'gttacttgtgagcctggttagacccgaaatataattgttggctgcatagcggagctgacatacgagtaggggaaatgcgt',\n",
    "    'aacatcaggctttgattaaacaatttaagcacgtaaatccgaattgacctgatgacaatacggaacatgccggctccggg',\n",
    "    'accaccggataggctgcttattaggtccaaaaggtagtatcgtaataatggctcagccatgtcaatgtgcggcattccac',\n",
    "    'tagattcgaatcgatcgtgtttctccctctgtgggttaacgaggggtccgaccttgctcgcatgtgccgaacttgtaccc',\n",
    "    'gaaatggttcggtgcgatatcaggccgttctcttaacttggcggtgcagatccgaacgtctctggaggggtcgtgcgcta',\n",
    "    'atgtatactagacattctaacgctcgcttattggcggagaccatttgctccactacaagaggctactgtgtagatccgta',\n",
    "    'ttcttacacccttctttagatccaaacctgttggcgccatcttcttttcgagtccttgtacctccatttgctctgatgac',\n",
    "    'ctacctatgtaaaacaacatctactaacgtagtccggtctttcctgatctgccctaacctacaggtcgatccgaaattcg']\n",
    "</pre>\n",
    "\n",
    "Use the %time *magic* function to compare the performance of your method to the one given."
   ]
  },
  {
   "cell_type": "code",
   "execution_count": 11,
   "metadata": {
    "number": 5,
    "section": "answer"
   },
   "outputs": [
    {
     "name": "stdout",
     "output_type": "stream",
     "text": [
      "CPU times: user 42.4 s, sys: 167 ms, total: 42.5 s\n",
      "Wall time: 42.5 s\n"
     ]
    },
    {
     "data": {
      "text/plain": [
       "(11, [17, 47, 18, 33, 21, 0, 46, 70, 16, 65], 'tagatccgaa')"
      ]
     },
     "execution_count": 11,
     "metadata": {},
     "output_type": "execute_result"
    }
   ],
   "source": [
    "import itertools\n",
    "def ScanAndScoreMotif(DNA, motif):\n",
    "    global maxLength\n",
    "    totalDist = 0\n",
    "    bestAlignment = []\n",
    "    k = len(motif)\n",
    "    for seq in DNA:\n",
    "        minHammingDist = k+1\n",
    "        for s in xrange(len(seq)-maxLength+1):\n",
    "            HammingDist = sum([1 for i in xrange(k) if motif[i] != seq[s+i]])\n",
    "            if (HammingDist < minHammingDist):\n",
    "                bestS = s\n",
    "                minHammingDist = HammingDist\n",
    "        bestAlignment.append(bestS)\n",
    "        totalDist += minHammingDist\n",
    "    return bestAlignment, totalDist\n",
    "\n",
    "def BranchAndBoundMotifRecursion(DNA,prefix,minHamming):\n",
    "    global align1, prefix1, maxLength\n",
    "    \n",
    "    k = len(prefix)\n",
    "    if (len(prefix) > 1):\n",
    "        align, tempHamming = ScanAndScoreMotif(DNA, prefix)  \n",
    "    else: \n",
    "        tempHamming = 0\n",
    "        \n",
    "    if k != maxLength:\n",
    "        if (tempHamming > minHamming):\n",
    "            return minHamming, align1, prefix\n",
    "        \n",
    "        else:\n",
    "            for char in ['a','c','t','g']:\n",
    "                newPrefix = prefix + char\n",
    "                minHamming, tempAlign, tempPrefix = BranchAndBoundMotifRecursion(DNA, newPrefix, minHamming)\n",
    "            return minHamming, align1, prefix\n",
    "        \n",
    "    else:\n",
    "        align1, score = ScanAndScoreMotif(DNA, prefix)\n",
    "        if (tempHamming > minHamming):\n",
    "            return minHamming, align1, prefix\n",
    "        \n",
    "        else:\n",
    "            prefix1 = prefix\n",
    "            return tempHamming, align1, prefix\n",
    "        \n",
    "        \n",
    "def BranchAndBoundMedianStringMotifSearch(DNA, k):\n",
    "    global align1, prefix1, maxLength\n",
    "    maxLength = k\n",
    "    minHamming, align1, prefix = BranchAndBoundMotifRecursion(DNA, \"\", len(DNA)*k+1)\n",
    "    return minHamming, align1, prefix1\n",
    "seqApprox = [\n",
    "    'tagtggtcttttgagtgtagatctgaagggaaagtatttccaccagttcggggtcacccagcagggcagggtgacttaat',\n",
    "    'cgcgactcggcgctcacagttatcgcacgtttagaccaaaacggagttggatccgaaactggagtttaatcggagtcctt',\n",
    "    'gttacttgtgagcctggttagacccgaaatataattgttggctgcatagcggagctgacatacgagtaggggaaatgcgt',\n",
    "    'aacatcaggctttgattaaacaatttaagcacgtaaatccgaattgacctgatgacaatacggaacatgccggctccggg',\n",
    "    'accaccggataggctgcttattaggtccaaaaggtagtatcgtaataatggctcagccatgtcaatgtgcggcattccac',\n",
    "    'tagattcgaatcgatcgtgtttctccctctgtgggttaacgaggggtccgaccttgctcgcatgtgccgaacttgtaccc',\n",
    "    'gaaatggttcggtgcgatatcaggccgttctcttaacttggcggtgcagatccgaacgtctctggaggggtcgtgcgcta',\n",
    "    'atgtatactagacattctaacgctcgcttattggcggagaccatttgctccactacaagaggctactgtgtagatccgta',\n",
    "    'ttcttacacccttctttagatccaaacctgttggcgccatcttcttttcgagtccttgtacctccatttgctctgatgac',\n",
    "    'ctacctatgtaaaacaacatctactaacgtagtccggtctttcctgatctgccctaacctacaggtcgatccgaaattcg']\n",
    "%time BranchAndBoundMedianStringMotifSearch(seqApprox,10)"
   ]
  },
  {
   "cell_type": "markdown",
   "metadata": {
    "section": "submit"
   },
   "source": [
    "Click [here to submit](http://csbio.unc.edu/mcmillan/index.py?run=PS.upload) your completed problem set"
   ]
  }
 ],
 "metadata": {
  "anaconda-cloud": {},
  "kernelspec": {
   "display_name": "Python 3",
   "language": "python",
   "name": "python3"
  },
  "language_info": {
   "codemirror_mode": {
    "name": "ipython",
    "version": 3
   },
   "file_extension": ".py",
   "mimetype": "text/x-python",
   "name": "python",
   "nbconvert_exporter": "python",
   "pygments_lexer": "ipython3",
   "version": "3.6.7"
  }
 },
 "nbformat": 4,
 "nbformat_minor": 1
}
