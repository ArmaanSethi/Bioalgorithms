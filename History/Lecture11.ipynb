{
 "cells": [
  {
   "cell_type": "code",
   "execution_count": 1,
   "metadata": {
    "nbpresent": {
     "id": "95540be6-bdca-433a-9695-c176ec4aa7ad"
    },
    "slideshow": {
     "slide_type": "skip"
    }
   },
   "outputs": [
    {
     "data": {
      "application/javascript": [
       "var width = window.innerWidth || document.documentElement.clientWidth || document.body.clientWidth;\n",
       "var height = window.innerHeight || document.documentElement.clientHeight || document.body.clientHeight;\n",
       "\n",
       "IPython.notebook.kernel.execute(\"windowSize = (\" + width + \",\" + height + \")\");\n",
       "// suitable for small screens\n",
       "nbpresent.mode.tree.set(\n",
       "    [\"app\", \"theme-manager\", \"themes\", \"my-theme\"], \n",
       "    {\n",
       "    palette: {\n",
       "        \"blue\": { id: \"blue\", rgb: [0, 153, 204] },\n",
       "        \"black\": { id: \"black\", rgb: [0, 0, 0] },\n",
       "        \"white\": { id: \"white\", rgb: [255, 255, 255] },\n",
       "        \"red\": { id: \"red\", rgb: [240, 32, 32] },\n",
       "        \"gray\": { id: \"gray\", rgb: [128, 128, 128] },\n",
       "    },\n",
       "    backgrounds: {\n",
       "        \"my-background\": {\n",
       "            \"background-color\": \"white\"\n",
       "        }\n",
       "    },\n",
       "    \"text-base\": {\n",
       "        \"font-family\": \"Georgia\",\n",
       "        \"font-size\": 2.5\n",
       "    },\n",
       "    rules: {\n",
       "        h1: {\n",
       "            \"font-size\": 5.5,\n",
       "            color: \"blue\",\n",
       "            \"text-align\": \"center\"\n",
       "        },\n",
       "        h2: {\n",
       "            \"font-size\": 3,\n",
       "            color: \"blue\",\n",
       "            \"text-align\": \"center\"\n",
       "        },\n",
       "        h3: {\n",
       "            \"font-size\": 3,\n",
       "            color: \"black\",\n",
       "        },\n",
       "        \"ul li\": {\n",
       "            \"font-size\": 2.5,\n",
       "            color: \"black\"\n",
       "        },\n",
       "        \"ul li ul li\": {\n",
       "            \"font-size\": 2.0,\n",
       "            color: \"black\"\n",
       "        },\n",
       "        \"code\": {\n",
       "            \"font-size\": 1.6,\n",
       "        },\n",
       "        \"pre\": {\n",
       "            \"font-size\": 1.6,\n",
       "        }\n",
       "    }\n",
       "});\n"
      ],
      "text/plain": [
       "<IPython.core.display.Javascript object>"
      ]
     },
     "metadata": {},
     "output_type": "display_data"
    }
   ],
   "source": [
    "%%javascript\n",
    "var width = window.innerWidth || document.documentElement.clientWidth || document.body.clientWidth;\n",
    "var height = window.innerHeight || document.documentElement.clientHeight || document.body.clientHeight;\n",
    "\n",
    "IPython.notebook.kernel.execute(\"windowSize = (\" + width + \",\" + height + \")\");\n",
    "// suitable for small screens\n",
    "nbpresent.mode.tree.set(\n",
    "    [\"app\", \"theme-manager\", \"themes\", \"my-theme\"], \n",
    "    {\n",
    "    palette: {\n",
    "        \"blue\": { id: \"blue\", rgb: [0, 153, 204] },\n",
    "        \"black\": { id: \"black\", rgb: [0, 0, 0] },\n",
    "        \"white\": { id: \"white\", rgb: [255, 255, 255] },\n",
    "        \"red\": { id: \"red\", rgb: [240, 32, 32] },\n",
    "        \"gray\": { id: \"gray\", rgb: [128, 128, 128] },\n",
    "    },\n",
    "    backgrounds: {\n",
    "        \"my-background\": {\n",
    "            \"background-color\": \"white\"\n",
    "        }\n",
    "    },\n",
    "    \"text-base\": {\n",
    "        \"font-family\": \"Georgia\",\n",
    "        \"font-size\": 2.5\n",
    "    },\n",
    "    rules: {\n",
    "        h1: {\n",
    "            \"font-size\": 5.5,\n",
    "            color: \"blue\",\n",
    "            \"text-align\": \"center\"\n",
    "        },\n",
    "        h2: {\n",
    "            \"font-size\": 3,\n",
    "            color: \"blue\",\n",
    "            \"text-align\": \"center\"\n",
    "        },\n",
    "        h3: {\n",
    "            \"font-size\": 3,\n",
    "            color: \"black\",\n",
    "        },\n",
    "        \"ul li\": {\n",
    "            \"font-size\": 2.5,\n",
    "            color: \"black\"\n",
    "        },\n",
    "        \"ul li ul li\": {\n",
    "            \"font-size\": 2.0,\n",
    "            color: \"black\"\n",
    "        },\n",
    "        \"code\": {\n",
    "            \"font-size\": 1.6,\n",
    "        },\n",
    "        \"pre\": {\n",
    "            \"font-size\": 1.6,\n",
    "        }\n",
    "    }\n",
    "});"
   ]
  },
  {
   "cell_type": "markdown",
   "metadata": {
    "nbpresent": {
     "id": "839ca872-5785-48fd-a1a1-16772d015bdd"
    },
    "slideshow": {
     "slide_type": "slide"
    }
   },
   "source": [
    "# The Realities of Genome Assembly\n",
    "\n",
    "<img src=\"http://csbio.unc.edu/mcmillan/Comp555S18/Media/GenomePuzzle.png\" width=\"800\">\n",
    "\n",
    "<p style=\"text-align: right; clear: right; margin-right: 150px;\">1</p>"
   ]
  },
  {
   "cell_type": "markdown",
   "metadata": {
    "nbpresent": {
     "id": "92bd1982-bc76-43d1-81f7-6a118209ac62"
    },
    "slideshow": {
     "slide_type": "slide"
    }
   },
   "source": [
    "# From Last Time\n",
    "\n",
    "What we learned from a related \"Minimal Superstring\" problem\n",
    "\n",
    "* Can be constructed by finding a *Hamiltonian path* of an k-dimensional De Bruijn graph over &sigma; symbols\n",
    "  - Brute-force method is explores all $V!$ paths through $V$ vertices\n",
    "  - Branch-and-Bound method considers only paths composed of edges\n",
    "  - Finding a *Hamiltonian path* is an *NP-complete* problem\n",
    "    * There is no known method that can solve it efficiently as the number of vertices grows\n",
    "\n",
    "\n",
    "* Can be constructed by finding a *Eulerian path* of a (k−1)-dimensional De Bruijn graph where k-mers are edges.\n",
    "  - Euler's method finds a path using all edges in $O(E) \\equiv O(V^2)$ steps\n",
    "  - Graph must statisfy contraints to be sure that a solution exists\n",
    "    * All but two vertices must be *balanced*\n",
    "    * The other two must be *semi-balanced* \n",
    "\n",
    "<p style=\"text-align: right; clear: right; margin-right: 150px;\">2</p>"
   ]
  },
  {
   "cell_type": "markdown",
   "metadata": {
    "nbpresent": {
     "id": "921c306a-1be3-4a74-82dc-ee0f8e0d32f2"
    },
    "slideshow": {
     "slide_type": "slide"
    }
   },
   "source": [
    "# Applications to Assembling Genomes\n",
    "\n",
    "<img src=\"http://csbio.unc.edu/mcmillan/Comp555S18/Media/DNAAssemblySteps.png\" width=\"700\">\n",
    "\n",
    "* Extracted DNA is broken into random small fragments\n",
    "* 100-200 bases are read from one or both ends of the fragment\n",
    "* Typically, each base of the genome is covered by 10x - 30x fragments\n",
    "\n",
    "<p style=\"text-align: right; clear: right; margin-right: 150px;\">3</p>"
   ]
  },
  {
   "cell_type": "markdown",
   "metadata": {
    "nbpresent": {
     "id": "d0b82c28-4fb8-4eb6-ac0f-399eba7ebf8d"
    },
    "slideshow": {
     "slide_type": "slide"
    }
   },
   "source": [
    "# Genome Assembly vs Minimal Superstring\n",
    "\n",
    "<img src=\"http://csbio.unc.edu/mcmillan/Comp555S18/Media/SuperExample.png\" width=\"700\">\n",
    "\n",
    "* Mininmal substring problem\n",
    "  - Every k-mer is known and used as a vertex, (all $\\sigma^k$)\n",
    "  - Paths, and there may be multiple, are solutions\n",
    "* Read fragments\n",
    "  - No guarantee that we will see every k-mer\n",
    "  - Can't disambiguate repeats\n",
    "  \n",
    "<p style=\"text-align: right; clear: right; margin-right: 150px;\">4</p>"
   ]
  },
  {
   "cell_type": "markdown",
   "metadata": {
    "nbpresent": {
     "id": "37d0546b-eb5f-409c-a6b4-f506746b1f87"
    },
    "slideshow": {
     "slide_type": "slide"
    }
   },
   "source": [
    "# A small \"Toy\" example\n",
    "\n",
    "<pre style=\"font-size: 100%;\">\n",
    "            <strong>GACGGCGGCGCACGGCGCAA    - Our <em>toy</em> sequence from 2 lectures ago\n",
    "            GACGG   CGCAC  \n",
    "             <span style=\"color: red;\">ACGGC</span>   GCACG \n",
    "              <span style=\"color: green;\">CGGCG</span>   CACGG         - The complete set of 16 5-mers\n",
    "               GGCGG   <span style=\"color: red;\">ACGGC</span>\n",
    "                GCGGC   <span style=\"color: green;\">CGGCG</span>  \n",
    "                 <span style=\"color: green;\">CGGCG</span>   <span style=\"color: purple;\">GGCGC</span>\n",
    "                  <span style=\"color: purple;\">GGCGC</span>   <span style=\"color: blue;\">GCGCA</span>\n",
    "                   <span style=\"color: blue;\">GGCGA</span>   CGCAA</strong>\n",
    "</pre>\n",
    "\n",
    "* All *k-mers* is equivalent to *k*&times; coverage, ignoring boundaries\n",
    "* Four repeated k-mers {ACGGC, CGGCG, GCGCA, GGCGC}\n",
    "\n",
    "<p style=\"text-align: right; clear: right; margin-right: 150px;\">5</p>\n"
   ]
  },
  {
   "cell_type": "markdown",
   "metadata": {
    "nbpresent": {
     "id": "5ca5d952-1570-4fbb-88f9-0a6bd9da33ce"
    },
    "slideshow": {
     "slide_type": "slide"
    }
   },
   "source": [
    "# Some Code\n",
    "\n",
    "* First let's add a function to uniquely label repeated k-mers"
   ]
  },
  {
   "cell_type": "code",
   "execution_count": 18,
   "metadata": {
    "nbpresent": {
     "id": "0fcfd129-d996-457a-aa5a-1fef253abf43"
    },
    "slideshow": {
     "slide_type": "fragment"
    }
   },
   "outputs": [
    {
     "name": "stdout",
     "output_type": "stream",
     "text": [
      "['ACGGC_1', 'ACGGC_2', 'CACGG', 'CGCAA', 'CGCAC', 'CGGCG_1', 'CGGCG_2', 'CGGCG_3', 'GACGG', 'GCACG', 'GCGCA_1', 'GCGCA_2', 'GCGGC', 'GGCGC_1', 'GGCGC_2', 'GGCGG']\n"
     ]
    }
   ],
   "source": [
    "def kmersUnique(seq, k):\n",
    "    kmers = sorted([seq[i:i+k] for i in xrange(len(seq)-k+1)])\n",
    "    for i in xrange(1,len(kmers)):\n",
    "        if (kmers[i] == kmers[i-1][0:k]):\n",
    "            t = kmers[i-1].find('_')\n",
    "            if (t >= 0):\n",
    "                n = int(kmers[i-1][t+1:]) + 1\n",
    "                kmers[i] = kmers[i] + \"_\" + str(n)\n",
    "            else:\n",
    "                kmers[i-1] = kmers[i-1] + \"_1\"\n",
    "                kmers[i] = kmers[i] + \"_2\"\n",
    "    return kmers\n",
    "\n",
    "kmers = kmersUnique(\"GACGGCGGCGCACGGCGCAA\", 5)\n",
    "print kmers"
   ]
  },
  {
   "cell_type": "markdown",
   "metadata": {
    "nbpresent": {
     "id": "2e2ebed7-fbef-4ec8-b3cc-87aea6f7df94"
    },
    "slideshow": {
     "slide_type": "fragment"
    }
   },
   "source": [
    "<p style=\"text-align: right; clear: right; margin-right: 150px;\">6</p>"
   ]
  },
  {
   "cell_type": "markdown",
   "metadata": {
    "nbpresent": {
     "id": "06390b36-013d-4389-b409-54bca9c8da2c"
    },
    "slideshow": {
     "slide_type": "slide"
    }
   },
   "source": [
    "# Our Graph class from last lecture"
   ]
  },
  {
   "cell_type": "code",
   "execution_count": 19,
   "metadata": {
    "collapsed": true,
    "nbpresent": {
     "id": "781ff950-7eb4-4d34-8f31-2c091930e02a"
    },
    "slideshow": {
     "slide_type": "fragment"
    }
   },
   "outputs": [],
   "source": [
    "import itertools\n",
    "\n",
    "class Graph:\n",
    "    def __init__(self, vlist=[]):\n",
    "        \"\"\" Initialize a Graph with an optional vertex list \"\"\"\n",
    "        self.index = {v:i for i,v in enumerate(vlist)}\n",
    "        self.vertex = {i:v for i,v in enumerate(vlist)}\n",
    "        self.edge = []\n",
    "        self.edgelabel = []\n",
    "    def addVertex(self, label):\n",
    "        \"\"\" Add a labeled vertex to the graph \"\"\"\n",
    "        index = len(self.index)\n",
    "        self.index[label] = index\n",
    "        self.vertex[index] = label\n",
    "    def addEdge(self, vsrc, vdst, label='', repeats=True):\n",
    "        \"\"\" Add a directed edge to the graph, with an optional label. \n",
    "        Repeated edges are distinct, unless repeats is set to False. \"\"\"\n",
    "        e = (self.index[vsrc], self.index[vdst])\n",
    "        if (repeats) or (e not in self.edge):\n",
    "            self.edge.append(e)\n",
    "            self.edgelabel.append(label)\n",
    "    def hamiltonianPath(self):\n",
    "        \"\"\" A Brute-force method for finding a Hamiltonian Path. \n",
    "        Basically, all possible N! paths are enumerated and checked\n",
    "        for edges. Since edges can be reused there are no distictions\n",
    "        made for *which* version of a repeated edge. \"\"\"\n",
    "        for path in itertools.permutations(sorted(self.index.values())):\n",
    "            for i in xrange(len(path)-1):\n",
    "                if ((path[i],path[i+1]) not in self.edge):\n",
    "                    break\n",
    "            else:\n",
    "                return [self.vertex[i] for i in path]\n",
    "        return []\n",
    "    def SearchTree(self, path, verticesLeft):\n",
    "        \"\"\" A recursive Branch-and-Bound Hamiltonian Path search. \n",
    "        Paths are extended one node at a time using only available\n",
    "        edges from the graph. \"\"\"\n",
    "        if (len(verticesLeft) == 0):\n",
    "            self.PathV2result = [self.vertex[i] for i in path]\n",
    "            return True\n",
    "        for v in verticesLeft:\n",
    "            if (len(path) == 0) or ((path[-1],v) in self.edge):\n",
    "                if self.SearchTree(path+[v], [r for r in verticesLeft if r != v]):\n",
    "                    return True\n",
    "        return False\n",
    "    def hamiltonianPathV2(self):\n",
    "        \"\"\" A wrapper function for invoking the Branch-and-Bound \n",
    "        Hamiltonian Path search. \"\"\"\n",
    "        self.PathV2result = []\n",
    "        self.SearchTree([],sorted(self.index.values()))                \n",
    "        return self.PathV2result\n",
    "    def degrees(self):\n",
    "        \"\"\" Returns two dictionaries with the inDegree and outDegree\n",
    "        of each node from the graph. \"\"\"\n",
    "        inDegree = {}\n",
    "        outDegree = {}\n",
    "        for src, dst in self.edge:\n",
    "            outDegree[src] = outDegree.get(src, 0) + 1\n",
    "            inDegree[dst] = inDegree.get(dst, 0) + 1\n",
    "        return inDegree, outDegree\n",
    "    def verifyAndGetStart(self):\n",
    "        inDegree, outDegree = self.degrees()\n",
    "        start = 0\n",
    "        end = 0\n",
    "        for vert in self.vertex.iterkeys():\n",
    "            ins = inDegree.get(vert,0)\n",
    "            outs = outDegree.get(vert,0)\n",
    "            if (ins == outs):\n",
    "                continue\n",
    "            elif (ins - outs == 1):\n",
    "                end = vert\n",
    "            elif (outs - ins == 1):\n",
    "                start = vert\n",
    "            else:\n",
    "                start, end = -1, -1\n",
    "                break\n",
    "        if (start >= 0) and (end >= 0):\n",
    "            return start\n",
    "        else:\n",
    "            return -1\n",
    "    def eulerianPath(self):\n",
    "        graph = [(src,dst) for src,dst in self.edge]\n",
    "        currentVertex = self.verifyAndGetStart()\n",
    "        path = [currentVertex]\n",
    "        # \"next\" is where vertices get inserted into our tour\n",
    "        # it starts at the end (i.e. it is the same as appending),\n",
    "        # but later \"side-trips\" will insert in the middle\n",
    "        next = 1\n",
    "        while len(graph) > 0:\n",
    "            for edge in graph:\n",
    "                if (edge[0] == currentVertex):\n",
    "                    currentVertex = edge[1]\n",
    "                    graph.remove(edge)\n",
    "                    path.insert(next, currentVertex)\n",
    "                    next += 1\n",
    "                    break\n",
    "            else:\n",
    "                for edge in graph:\n",
    "                    try:\n",
    "                        next = path.index(edge[0]) + 1\n",
    "                        currentVertex = edge[0]\n",
    "                        break\n",
    "                    except ValueError:\n",
    "                        continue\n",
    "                else:\n",
    "                    print \"There is no path!\"\n",
    "                    return False\n",
    "        return path\n",
    "    def eulerEdges(self, path):\n",
    "        edgeId = {}\n",
    "        for i in xrange(len(self.edge)):\n",
    "            edgeId[self.edge[i]] = edgeId.get(self.edge[i], []) + [i]\n",
    "        edgeList = []\n",
    "        for i in xrange(len(path)-1):\n",
    "            edgeList.append(self.edgelabel[edgeId[path[i],path[i+1]].pop()])            \n",
    "        return edgeList\n",
    "    def render(self, highlightPath=[]):\n",
    "        \"\"\" Outputs a version of the graph that can be rendered\n",
    "        using graphviz tools (http://www.graphviz.org/).\"\"\"\n",
    "        edgeId = {}\n",
    "        for i in xrange(len(self.edge)):\n",
    "            edgeId[self.edge[i]] = edgeId.get(self.edge[i], []) + [i]\n",
    "        edgeSet = set()\n",
    "        for i in xrange(len(highlightPath)-1):\n",
    "            src = self.index[highlightPath[i]]\n",
    "            dst = self.index[highlightPath[i+1]]\n",
    "            edgeSet.add(edgeId[src,dst].pop())\n",
    "        result = ''\n",
    "        result += 'digraph {\\n'\n",
    "        result += '   graph [nodesep=2, size=\"10,10\"];\\n'\n",
    "        for index, label in self.vertex.iteritems():\n",
    "            result += '    N%d [shape=\"box\", style=\"rounded\", label=\"%s\"];\\n' % (index, label)\n",
    "        for i, e in enumerate(self.edge):\n",
    "            src, dst = e\n",
    "            result += '    N%d -> N%d' % (src, dst)\n",
    "            label = self.edgelabel[i]\n",
    "            if (len(label) > 0):\n",
    "                if (i in edgeSet):\n",
    "                    result += ' [label=\"%s\", penwidth=3.0]' % (label)\n",
    "                else:\n",
    "                    result += ' [label=\"%s\"]' % (label)\n",
    "            elif (i in edgeSet):\n",
    "                result += ' [penwidth=3.0]'                \n",
    "            result += ';\\n'                \n",
    "        result += '    overlap=false;\\n'\n",
    "        result += '}\\n'\n",
    "        return result"
   ]
  },
  {
   "cell_type": "markdown",
   "metadata": {
    "nbpresent": {
     "id": "e8e4d635-e502-4fc5-927b-057141bed9cc"
    },
    "slideshow": {
     "slide_type": "fragment"
    }
   },
   "source": [
    "<p style=\"text-align: right; clear: right; margin-right: 150px;\">7</p>"
   ]
  },
  {
   "cell_type": "markdown",
   "metadata": {
    "nbpresent": {
     "id": "9b4382b5-97ad-4b7a-a163-a7ced721e177"
    },
    "slideshow": {
     "slide_type": "slide"
    }
   },
   "source": [
    "# Finding Paths in our K-mer De Bruijn Graphs"
   ]
  },
  {
   "cell_type": "code",
   "execution_count": 20,
   "metadata": {
    "nbpresent": {
     "id": "4bb62f4c-c64e-471d-8f5d-03d617e7aede"
    },
    "slideshow": {
     "slide_type": "fragment"
    }
   },
   "outputs": [
    {
     "name": "stdout",
     "output_type": "stream",
     "text": [
      "['GACGG', 'ACGGC_1', 'CGGCG_1', 'GGCGC_1', 'GCGCA_1', 'CGCAC', 'GCACG', 'CACGG', 'ACGGC_2', 'CGGCG_2', 'GGCGG', 'GCGGC', 'CGGCG_3', 'GGCGC_2', 'GCGCA_2', 'CGCAA']\n",
      "GACGGCGCACGGCGGCGCAA\n",
      "False\n"
     ]
    }
   ],
   "source": [
    "k = 5\n",
    "target = \"GACGGCGGCGCACGGCGCAA\"\n",
    "kmers = kmersUnique(target, k)\n",
    "G1 = Graph(kmers)\n",
    "for vsrc in kmers:\n",
    "    for vdst in kmers:\n",
    "        if (vsrc[1:k] == vdst[0:k-1]):\n",
    "            G1.addEdge(vsrc,vdst)\n",
    "path = G1.hamiltonianPathV2()\n",
    "\n",
    "print path\n",
    "seq = path[0][0:k]\n",
    "for kmer in path[1:]:\n",
    "    seq += kmer[k-1]\n",
    "print seq\n",
    "print seq == target"
   ]
  },
  {
   "cell_type": "markdown",
   "metadata": {
    "nbpresent": {
     "id": "9bc7b331-8b0e-44c7-afd1-6cd56a4ae0ea"
    },
    "slideshow": {
     "slide_type": "fragment"
    }
   },
   "source": [
    "<p style=\"text-align: right; clear: right; margin-right: 150px;\">8</p>"
   ]
  },
  {
   "cell_type": "markdown",
   "metadata": {
    "nbpresent": {
     "id": "ff436aaa-aad0-4571-947f-dd0a98f0f1fc"
    },
    "slideshow": {
     "slide_type": "slide"
    }
   },
   "source": [
    "# Not what we Expected\n",
    "\n",
    "<table><tbody>\n",
    "<tr>\n",
    "<td style=\"text-align: center;\"><img src=\"http://csbio.unc.edu/mcmillan/Comp555S18/Media/seqHamiltonV1.png\"><br>The one we hoped for. Visits CGGCG<sub>3</sub> before CGGCG<sub>2</sub></td>\n",
    "<td style=\"text-align: center;\"><img src=\"http://csbio.unc.edu/mcmillan/Comp555S18/Media/seqHamiltonV2.png\"><br>The one we found Visits CGGCG<sub>2</sub> before CGGCG<sub>3</sub></td>\n",
    "</tr>\n",
    "</tbody></table>\n",
    "\n",
    "<p style=\"text-align: right; clear: right; margin-right: 150px;\">9</p>"
   ]
  },
  {
   "cell_type": "markdown",
   "metadata": {
    "collapsed": true,
    "nbpresent": {
     "id": "cdd61f92-8a57-4e67-8332-6c88dccd4195"
    },
    "slideshow": {
     "slide_type": "slide"
    }
   },
   "source": [
    "# What's the Problem?\n",
    "\n",
    "<img src=\"http://csbio.unc.edu/mcmillan/Comp555S18/Media/seqHamiltonV1.png\" width=\"420px\">\n",
    "* There are many possible Hamiltonian Paths\n",
    "* How do they differ?\n",
    "  - There were two possible paths leaving any [CGGCG] node \n",
    "    * [CGGCG] &rarr; [GGCGC]\n",
    "    * [CGGCG] &rarr; [GGCGG]\n",
    "  - A valid solution can be found down either path\n",
    "\n",
    "* There might be even more solutions\n",
    "\n",
    "* Genome assembly appears ambiguous like the Minimal Substring problem, but is it?\n",
    " \n",
    "<p style=\"text-align: right; clear: right; margin-right: 150px;\">10</p>\n"
   ]
  },
  {
   "cell_type": "markdown",
   "metadata": {
    "nbpresent": {
     "id": "a40ca251-2838-40d8-be8c-166d54c3590c"
    },
    "slideshow": {
     "slide_type": "slide"
    }
   },
   "source": [
    "# How about an Euler Path?\n"
   ]
  },
  {
   "cell_type": "code",
   "execution_count": 21,
   "metadata": {
    "nbpresent": {
     "id": "dedfa2c8-3531-476a-9ef8-d8ab507b21c2"
    },
    "slideshow": {
     "slide_type": "fragment"
    }
   },
   "outputs": [
    {
     "name": "stdout",
     "output_type": "stream",
     "text": [
      "['ACGGC_1', 'ACGGC_2', 'CACGG', 'CGCAA', 'CGCAC', 'CGGCG_1', 'CGGCG_2', 'CGGCG_3', 'GACGG', 'GCACG', 'GCGCA_1', 'GCGCA_2', 'GCGGC', 'GGCGC_1', 'GGCGC_2', 'GGCGG']\n",
      "['ACGG', 'CACG', 'CGCA', 'CGGC', 'GACG', 'GCAA', 'GCAC', 'GCGC', 'GCGG', 'GGCG']\n",
      "[4, 0, 3, 9, 8, 3, 9, 7, 2, 6, 1, 0, 3, 9, 7, 2, 5]\n",
      "['GACGG', 'ACGGC_2', 'CGGCG_3', 'GGCGG', 'GCGGC', 'CGGCG_2', 'GGCGC_2', 'GCGCA_2', 'CGCAC', 'GCACG', 'CACGG', 'ACGGC_1', 'CGGCG_1', 'GGCGC_1', 'GCGCA_1', 'CGCAA']\n",
      "GACGGCGGCGCACGGCGCAA\n",
      "True\n"
     ]
    }
   ],
   "source": [
    "k = 5\n",
    "target = \"GACGGCGGCGCACGGCGCAA\"\n",
    "kmers = kmersUnique(target, k)\n",
    "print kmers\n",
    "\n",
    "nodes = sorted(set([code[:k-1] for code in kmers] + [code[1:k] for code in kmers]))\n",
    "print nodes\n",
    "G2 = Graph(nodes)\n",
    "for code in kmers:\n",
    "   G2.addEdge(code[:k-1],code[1:k],code)\n",
    "path = G2.eulerianPath()\n",
    "print path\n",
    "path = G2.eulerEdges(path)\n",
    "print path\n",
    "\n",
    "seq = path[0][0:k]\n",
    "for kmer in path[1:]:\n",
    "    seq += kmer[k-1]\n",
    "print seq\n",
    "print seq == target\n"
   ]
  },
  {
   "cell_type": "markdown",
   "metadata": {
    "nbpresent": {
     "id": "8a687b54-c89d-4c20-a89b-63522f4343b4"
    },
    "slideshow": {
     "slide_type": "fragment"
    }
   },
   "source": [
    " \n",
    "<p style=\"text-align: right; clear: right; margin-right: 150px;\">11</p>"
   ]
  },
  {
   "cell_type": "markdown",
   "metadata": {
    "collapsed": true,
    "nbpresent": {
     "id": "426df71a-7640-4144-b59a-8b27eb59adc7"
    },
    "slideshow": {
     "slide_type": "slide"
    }
   },
   "source": [
    "# The k-1 De Bruijn Graph with k-mer edges\n",
    "<img src=\"http://csbio.unc.edu/mcmillan/Comp555S18/Media/seqEuler.png\" width=\"520\">\n",
    "* We got the right answer, but we were lucky.\n",
    "* There is a path in this graph that matches the Hamiltonian path that we found before\n",
    "\n",
    "<p style=\"text-align: right; clear: right; margin-right: 150px;\">12</p>"
   ]
  },
  {
   "cell_type": "markdown",
   "metadata": {
    "nbpresent": {
     "id": "4a7dbf31-dfb0-472c-b778-0ea7e7c65d08"
    },
    "slideshow": {
     "slide_type": "slide"
    }
   },
   "source": [
    "# What are the Differences?\n",
    "\n",
    "<table><tbody>\n",
    "<tr>\n",
    "<td>\n",
    "<img src=\"http://csbio.unc.edu/mcmillan/Comp555S18/Media/seqEulerAlt.png\" width=\"520\">\n",
    "</td>\n",
    "<td>\n",
    "<img src=\"http://csbio.unc.edu/mcmillan/Comp555S18/Media/seqEulerTarget.png\" width=\"520\">\n",
    "</td>\n",
    "</tr>\n",
    "</tbody>\n",
    "</table>\n",
    "\n",
    "* How might we favor one solution over the other?\n",
    "\n",
    "<p style=\"text-align: right; clear: right; margin-right: 150px;\">13</p>"
   ]
  },
  {
   "cell_type": "markdown",
   "metadata": {
    "nbpresent": {
     "id": "8478ebb5-6a4b-4a8b-bdde-99ecac2757a4"
    },
    "slideshow": {
     "slide_type": "slide"
    }
   },
   "source": [
    "#  Choose a bigger k-mer"
   ]
  },
  {
   "cell_type": "code",
   "execution_count": 15,
   "metadata": {
    "nbpresent": {
     "id": "59f770be-8a8c-44f0-9cf8-77d3786aede4"
    },
    "slideshow": {
     "slide_type": "fragment"
    }
   },
   "outputs": [
    {
     "name": "stdout",
     "output_type": "stream",
     "text": [
      "['ACGGCGCA', 'ACGGCGGC', 'CACGGCGC', 'CGCACGGC', 'CGGCGCAA', 'CGGCGCAC', 'CGGCGGCG', 'GACGGCGG', 'GCACGGCG', 'GCGCACGG', 'GCGGCGCA', 'GGCGCACG', 'GGCGGCGC']\n",
      "['ACGGCGC', 'ACGGCGG', 'CACGGCG', 'CGCACGG', 'CGGCGCA', 'CGGCGGC', 'GACGGCG', 'GCACGGC', 'GCGCACG', 'GCGGCGC', 'GGCGCAA', 'GGCGCAC', 'GGCGGCG']\n",
      "[6, 1, 5, 12, 9, 4, 11, 8, 3, 7, 2, 0, 4, 10]\n",
      "['GACGGCGG', 'ACGGCGGC', 'CGGCGGCG', 'GGCGGCGC', 'GCGGCGCA', 'CGGCGCAC', 'GGCGCACG', 'GCGCACGG', 'CGCACGGC', 'GCACGGCG', 'CACGGCGC', 'ACGGCGCA', 'CGGCGCAA']\n",
      "GACGGCGGCGCACGGCGCAA\n",
      "True\n"
     ]
    }
   ],
   "source": [
    "k = 8\n",
    "target = \"GACGGCGGCGCACGGCGCAA\"\n",
    "kmers = kmersUnique(target, k)\n",
    "print kmers\n",
    "nodes = sorted(set([code[:k-1] for code in kmers] + [code[1:k] for code in kmers]))\n",
    "print nodes\n",
    "G3 = Graph(nodes)\n",
    "for code in kmers:\n",
    "   G3.addEdge(code[:k-1],code[1:k],code)\n",
    "path = G3.eulerianPath()\n",
    "print path\n",
    "path = G3.eulerEdges(path)\n",
    "print path\n",
    "\n",
    "seq = path[0][0:k]\n",
    "for kmer in path[1:]:\n",
    "    seq += kmer[k-1]\n",
    "print seq\n",
    "print seq == target"
   ]
  },
  {
   "cell_type": "markdown",
   "metadata": {
    "nbpresent": {
     "id": "8b2eeb81-5d2c-4e1c-b5c9-b7e70e967377"
    },
    "slideshow": {
     "slide_type": "fragment"
    }
   },
   "source": [
    "\n",
    "<p style=\"text-align: right; clear: right; margin-right: 150px;\">14</p>"
   ]
  },
  {
   "cell_type": "markdown",
   "metadata": {
    "nbpresent": {
     "id": "b3df2f13-6667-4e2d-ad01-2eb371709110"
    },
    "slideshow": {
     "slide_type": "slide"
    }
   },
   "source": [
    "# Advantage of larger k-mers\n",
    "* Making k larger (8) eliminates the second choice of loops\n",
    "* There are *edges* to choose from, but they all lead to the same path of vertices\n",
    "\n",
    "<img src=\"http://csbio.unc.edu/mcmillan/Comp555S18/Media/seqEuler8mer.png\" width=\"360\">\n",
    "\n",
    "<p style=\"text-align: right; clear: right; margin-right: 150px;\">15</p>"
   ]
  },
  {
   "cell_type": "markdown",
   "metadata": {
    "nbpresent": {
     "id": "135da982-2ec0-4528-942f-b623493c02f5"
    },
    "slideshow": {
     "slide_type": "slide"
    }
   },
   "source": [
    "# Applied to the Hamiltonian Solution"
   ]
  },
  {
   "cell_type": "code",
   "execution_count": 16,
   "metadata": {
    "nbpresent": {
     "id": "5703f626-c536-4430-be04-fbfe1644573a"
    },
    "slideshow": {
     "slide_type": "fragment"
    }
   },
   "outputs": [
    {
     "name": "stdout",
     "output_type": "stream",
     "text": [
      "['GACGGCGG', 'ACGGCGGC', 'CGGCGGCG', 'GGCGGCGC', 'GCGGCGCA', 'CGGCGCAC', 'GGCGCACG', 'GCGCACGG', 'CGCACGGC', 'GCACGGCG', 'CACGGCGC', 'ACGGCGCA', 'CGGCGCAA']\n",
      "GACGGCGGCGCACGGCGCAA\n",
      "True\n"
     ]
    }
   ],
   "source": [
    "k = 8\n",
    "target = \"GACGGCGGCGCACGGCGCAA\"\n",
    "kmers = kmersUnique(target, k)\n",
    "G4 = Graph(kmers)\n",
    "for vsrc in kmers:\n",
    "    for vdst in kmers:\n",
    "        if (vsrc[1:k] == vdst[0:k-1]):\n",
    "            G4.addEdge(vsrc,vdst)\n",
    "path = G4.hamiltonianPathV2()\n",
    "\n",
    "print path\n",
    "seq = path[0][0:k]\n",
    "for kmer in path[1:]:\n",
    "    seq += kmer[k-1]\n",
    "print seq\n",
    "print seq == target"
   ]
  },
  {
   "cell_type": "markdown",
   "metadata": {
    "nbpresent": {
     "id": "da971cf1-3864-4720-87db-26d03d995bfa"
    },
    "slideshow": {
     "slide_type": "fragment"
    }
   },
   "source": [
    "<p style=\"text-align: right; clear: right; margin-right: 150px;\">16</p>"
   ]
  },
  {
   "cell_type": "markdown",
   "metadata": {
    "nbpresent": {
     "id": "384229ff-61a7-40c9-8062-f6b5861b8f8b"
    },
    "slideshow": {
     "slide_type": "slide"
    }
   },
   "source": [
    "# Graph with 8-mers as vertices\n",
    "\n",
    "<img src=\"http://csbio.unc.edu/mcmillan/Comp555S18/Media/seqHam8mer.png\" width=\"360\">\n",
    "\n",
    "* There is only one Hamiltonian path\n",
    "* There are no repeated k-mers\n",
    "<p style=\"text-align: right; clear: right; margin-right: 150px;\">17</p>\n"
   ]
  },
  {
   "cell_type": "markdown",
   "metadata": {
    "nbpresent": {
     "id": "65b066af-8d54-4910-afab-5ff6de44ccf9"
    },
    "slideshow": {
     "slide_type": "slide"
    }
   },
   "source": [
    "# Assembly in Reality\n",
    "\n",
    "* Problems with repeated k-mers\n",
    "  - We can't distinguish between repeated k-mers\n",
    "    * Recall we *knew* from our *example* that were {2:ACGGC, 3:CGGCG, 2:GCGCA, 2:GGCGC}\n",
    "    * Assembling path without repeats:"
   ]
  },
  {
   "cell_type": "code",
   "execution_count": 17,
   "metadata": {
    "nbpresent": {
     "id": "1f058383-eee1-43c4-aa3c-8d5dd0a70da6"
    },
    "slideshow": {
     "slide_type": "fragment"
    }
   },
   "outputs": [
    {
     "name": "stdout",
     "output_type": "stream",
     "text": [
      "[(0, 'ACGG'), (1, 'CACG'), (2, 'CGCA'), (3, 'CGGC'), (4, 'GACG'), (5, 'GCAA'), (6, 'GCAC'), (7, 'GCGC'), (8, 'GCGG'), (9, 'GGCG')]\n",
      "[(7, 2), (1, 0), (2, 6), (9, 8), (4, 0), (3, 9), (0, 3), (9, 7), (6, 1), (2, 5), (8, 3)]\n"
     ]
    }
   ],
   "source": [
    "k = 5\n",
    "target = \"GACGGCGGCGCACGGCGCAA\"\n",
    "kmers = set([target[i:i+k] for i in xrange(len(target)-k+1)])\n",
    "nodes = sorted(set([code[:k-1] for code in kmers] + [code[1:k] for code in kmers]))\n",
    "G5 = Graph(nodes)\n",
    "for code in kmers:\n",
    "   G5.addEdge(code[:k-1],code[1:k],code)\n",
    "\n",
    "print sorted(G5.vertex.items())\n",
    "print G5.edge"
   ]
  },
  {
   "cell_type": "markdown",
   "metadata": {
    "nbpresent": {
     "id": "f3fe27a0-cc42-4e44-b259-381f04c51106"
    },
    "slideshow": {
     "slide_type": "fragment"
    }
   },
   "source": [
    "<p style=\"text-align: right; clear: right; margin-right: 150px;\">18</p>"
   ]
  },
  {
   "cell_type": "markdown",
   "metadata": {
    "nbpresent": {
     "id": "306f0b6d-4785-42e5-aae2-10d1fb40f7d5"
    },
    "slideshow": {
     "slide_type": "slide"
    }
   },
   "source": [
    "# Resulting Graph with \"distinct\" 5-mers as edges\n",
    "\n",
    "<img src=\"http://csbio.unc.edu/mcmillan/Comp555S18/Media/eulerNoRepeats.png\" width=\"500\">\n",
    "\n",
    "* There is no single Euler Path\n",
    "* But there are is a set of paths that covers all edges ['GACGGCG', 'GGCGGC', 'GGCGCA', 'CGCAA', 'CGCACGG' ]\n",
    "  * Extend a sequence from a node until you reach a node with an out-degree > in-degree\n",
    "  * Save these partially assembled subsequences, call them *contigs*\n",
    "  * Start new contigs following each out-going edge at these branching nodes\n",
    "\n",
    "<p style=\"text-align: right; clear: right; margin-right: 150px;\">19</p>"
   ]
  },
  {
   "cell_type": "markdown",
   "metadata": {
    "nbpresent": {
     "id": "281edcf1-89d6-4528-a2ce-dde705ee2c5d"
    },
    "slideshow": {
     "slide_type": "slide"
    }
   },
   "source": [
    "# Next assemble contigs\n",
    "* Use a modified read-overlap graph to assemble these contigs\n",
    "  * Add edge-weights that indicate the amount of overlap\n",
    "\n",
    "<img src=\"http://csbio.unc.edu/mcmillan/Comp555S18/Media/readOverlapV2.png\" width=\"640\">\n",
    "\n",
    "* Usually much smaller than the graph made from k-mers\n",
    "* Find Hamiltonian paths in this *smaller graph*\n",
    "\n",
    "<p style=\"text-align: right; clear: right; margin-right: 150px;\">20</p>"
   ]
  },
  {
   "cell_type": "markdown",
   "metadata": {
    "nbpresent": {
     "id": "f4850845-30d7-46d3-87c8-6b1f6d873e5d"
    },
    "slideshow": {
     "slide_type": "slide"
    }
   },
   "source": [
    "# Discussion\n",
    "* No simple single algorithm for assembling a *real* genome sequences\n",
    "* Generally, an iterative task\n",
    "   - Choose a k-mer size, ideally such that no or few k-mers are repeated\n",
    "   - Assemble long paths (contigs) in the resulting graph\n",
    "   - Use these contigs, if they overlap suffciently, to assemble longer sequences\n",
    "* Truely repetitive subsequences are a challenge\n",
    "   - Leads to repeated k-mers and loops in graphs in the problem areas\n",
    "   - Often we assemble the \"shortest\" version of a genome consistent with our k-mer set\n",
    "* Things we've ignored\n",
    "    - Our k-mers are extracted from short read sequences that may contain errors\n",
    "    - Our short read set could be missing entire segments from the actual genome\n",
    "    - Our data actually supports *2* paths, one through the primary sequence, and a second through it again in reverse complement order. \n",
    "\n",
    "<p style=\"text-align: right; clear: right; margin-right: 150px;\">21</p>"
   ]
  },
  {
   "cell_type": "code",
   "execution_count": null,
   "metadata": {
    "collapsed": true,
    "nbpresent": {
     "id": "0346c82d-32e3-43b5-952d-be23646989aa"
    }
   },
   "outputs": [],
   "source": []
  }
 ],
 "metadata": {
  "anaconda-cloud": {},
  "kernelspec": {
   "display_name": "Python 3",
   "language": "python",
   "name": "python3"
  },
  "language_info": {
   "codemirror_mode": {
    "name": "ipython",
    "version": 3
   },
   "file_extension": ".py",
   "mimetype": "text/x-python",
   "name": "python",
   "nbconvert_exporter": "python",
   "pygments_lexer": "ipython3",
   "version": "3.6.7"
  },
  "nbpresent": {
   "slides": {
    "0a15cf00-7dc1-46d7-a4eb-c9a0fbb874e7": {
     "id": "0a15cf00-7dc1-46d7-a4eb-c9a0fbb874e7",
     "prev": "a382e95b-de2c-4992-83b8-2c3731509fba",
     "regions": {
      "a4b9df1e-9cc7-4dff-9b3f-b7b39ecd1dc6": {
       "attrs": {
        "height": 0.96,
        "width": 0.96,
        "x": 0.02,
        "y": 0.02
       },
       "content": {
        "cell": "37d0546b-eb5f-409c-a6b4-f506746b1f87",
        "part": "whole"
       },
       "id": "a4b9df1e-9cc7-4dff-9b3f-b7b39ecd1dc6"
      }
     }
    },
    "13e23fc9-9064-42f7-97a6-44c53146f263": {
     "id": "13e23fc9-9064-42f7-97a6-44c53146f263",
     "prev": "6ec4d5b8-880b-4037-a8d6-c2ca7dfcb46d",
     "regions": {
      "1c27676f-27f6-4624-91c9-dbb0e4a6676c": {
       "attrs": {
        "height": 0.96,
        "width": 0.96,
        "x": 0.02,
        "y": 0.02
       },
       "content": {
        "cell": "426df71a-7640-4144-b59a-8b27eb59adc7",
        "part": "whole"
       },
       "id": "1c27676f-27f6-4624-91c9-dbb0e4a6676c"
      }
     }
    },
    "159afba6-b6b3-4a9d-ba83-93af211e041e": {
     "id": "159afba6-b6b3-4a9d-ba83-93af211e041e",
     "prev": "77f6f7d3-f64c-4d0e-925c-c404fca3ad1d",
     "regions": {
      "1cb518b6-406f-4d75-918d-22cb5908682f": {
       "attrs": {
        "height": 0.8002504513031438,
        "width": 0.96,
        "x": 0.02,
        "y": 0.17974954869685636
       },
       "content": {
        "cell": "4bb62f4c-c64e-471d-8f5d-03d617e7aede",
        "part": "whole"
       },
       "id": "1cb518b6-406f-4d75-918d-22cb5908682f"
      },
      "a40414ae-d097-4c04-bc5e-2631a9896c82": {
       "attrs": {
        "height": 0.07884418763383037,
        "width": 0.96,
        "x": 0.02,
        "y": 0.9011558123661697
       },
       "content": {
        "cell": "9bc7b331-8b0e-44c7-afd1-6cd56a4ae0ea",
        "part": "whole"
       },
       "id": "a40414ae-d097-4c04-bc5e-2631a9896c82"
      },
      "a8c5d630-45bd-42cb-849e-e40dca04e3d5": {
       "attrs": {
        "height": 0.96,
        "width": 0.96,
        "x": 0.02,
        "y": 0.02
       },
       "content": {
        "cell": "9b4382b5-97ad-4b7a-a163-a7ced721e177",
        "part": "whole"
       },
       "id": "a8c5d630-45bd-42cb-849e-e40dca04e3d5"
      }
     }
    },
    "2ee0c250-52ef-4ad8-a97b-f14e284886ca": {
     "id": "2ee0c250-52ef-4ad8-a97b-f14e284886ca",
     "prev": "159afba6-b6b3-4a9d-ba83-93af211e041e",
     "regions": {
      "bc30f113-a9b1-4b70-86d0-2ebc806658c6": {
       "attrs": {
        "height": 0.96,
        "width": 0.96,
        "x": 0.02,
        "y": 0.02
       },
       "content": {
        "cell": "ff436aaa-aad0-4571-947f-dd0a98f0f1fc",
        "part": "whole"
       },
       "id": "bc30f113-a9b1-4b70-86d0-2ebc806658c6"
      }
     }
    },
    "2ee2d0de-28c5-4524-815b-6cafe43d819d": {
     "id": "2ee2d0de-28c5-4524-815b-6cafe43d819d",
     "prev": "631b85ad-f968-4b0c-ae97-4dce707af1f1",
     "regions": {
      "ad2bd9b5-fe05-4e2f-a0c9-d96d84ee469d": {
       "attrs": {
        "height": 0.96,
        "width": 0.96,
        "x": 0.02,
        "y": 0.02
       },
       "content": {
        "cell": "281edcf1-89d6-4528-a2ce-dde705ee2c5d",
        "part": "whole"
       },
       "id": "ad2bd9b5-fe05-4e2f-a0c9-d96d84ee469d"
      }
     }
    },
    "333743c7-41ed-4ec8-9f6a-28f5d8939c70": {
     "id": "333743c7-41ed-4ec8-9f6a-28f5d8939c70",
     "prev": null,
     "regions": {
      "c6bdb21d-9ebc-4317-81c5-515d243993b7": {
       "attrs": {
        "height": 0.96,
        "width": 0.96,
        "x": 0.02,
        "y": 0.02
       },
       "content": {
        "cell": "839ca872-5785-48fd-a1a1-16772d015bdd",
        "part": "whole"
       },
       "id": "c6bdb21d-9ebc-4317-81c5-515d243993b7"
      }
     }
    },
    "4697dd49-c0f7-4bb2-bed8-46a548762fdd": {
     "id": "4697dd49-c0f7-4bb2-bed8-46a548762fdd",
     "prev": "2ee0c250-52ef-4ad8-a97b-f14e284886ca",
     "regions": {
      "6a645764-b2e5-4407-b554-f6cfabcd26ea": {
       "attrs": {
        "height": 0.96,
        "width": 0.96,
        "x": 0.02,
        "y": 0.02
       },
       "content": {
        "cell": "cdd61f92-8a57-4e67-8332-6c88dccd4195",
        "part": "whole"
       },
       "id": "6a645764-b2e5-4407-b554-f6cfabcd26ea"
      }
     }
    },
    "498bec77-242f-41ad-9584-1b47b8eae9be": {
     "id": "498bec77-242f-41ad-9584-1b47b8eae9be",
     "prev": "333743c7-41ed-4ec8-9f6a-28f5d8939c70",
     "regions": {
      "198e9f0f-de6c-4c8e-b936-3cc6e0466fb6": {
       "attrs": {
        "height": 0.96,
        "width": 0.96,
        "x": 0.02,
        "y": 0.02
       },
       "content": {
        "cell": "92bd1982-bc76-43d1-81f7-6a118209ac62",
        "part": "whole"
       },
       "id": "198e9f0f-de6c-4c8e-b936-3cc6e0466fb6"
      }
     }
    },
    "631b85ad-f968-4b0c-ae97-4dce707af1f1": {
     "id": "631b85ad-f968-4b0c-ae97-4dce707af1f1",
     "prev": "7169136b-57dc-4339-99d6-943e1ee74cc1",
     "regions": {
      "50f000b7-0ce7-4048-b474-5d40a64c4fd5": {
       "attrs": {
        "height": 0.96,
        "width": 0.96,
        "x": 0.02,
        "y": 0.02
       },
       "content": {
        "cell": "306f0b6d-4785-42e5-aae2-10d1fb40f7d5",
        "part": "whole"
       },
       "id": "50f000b7-0ce7-4048-b474-5d40a64c4fd5"
      }
     }
    },
    "6d8cf2f8-112d-4e50-b352-99eb7c793793": {
     "id": "6d8cf2f8-112d-4e50-b352-99eb7c793793",
     "prev": "13e23fc9-9064-42f7-97a6-44c53146f263",
     "regions": {
      "cc9ae1a4-ab89-43ba-bb76-280fd14dbaf1": {
       "attrs": {
        "height": 0.96,
        "width": 0.96,
        "x": 0.02,
        "y": 0.02
       },
       "content": {
        "cell": "4a7dbf31-dfb0-472c-b778-0ea7e7c65d08",
        "part": "whole"
       },
       "id": "cc9ae1a4-ab89-43ba-bb76-280fd14dbaf1"
      }
     }
    },
    "6ec4d5b8-880b-4037-a8d6-c2ca7dfcb46d": {
     "id": "6ec4d5b8-880b-4037-a8d6-c2ca7dfcb46d",
     "prev": "4697dd49-c0f7-4bb2-bed8-46a548762fdd",
     "regions": {
      "594785da-b578-4465-8d7a-303280bdf44d": {
       "attrs": {
        "height": 0.96,
        "width": 0.96,
        "x": 0.02,
        "y": 0.02
       },
       "content": {
        "cell": "a40ca251-2838-40d8-be8c-166d54c3590c",
        "part": "whole"
       },
       "id": "594785da-b578-4465-8d7a-303280bdf44d"
      },
      "8394f894-4a1a-42a5-a72d-1311e71c5267": {
       "attrs": {
        "height": 0.7924640966872187,
        "width": 0.96,
        "x": 0.02,
        "y": 0.18753590331278122
       },
       "content": {
        "cell": "dedfa2c8-3531-476a-9ef8-d8ab507b21c2",
        "part": "whole"
       },
       "id": "8394f894-4a1a-42a5-a72d-1311e71c5267"
      },
      "bb399e5c-ca90-4bd5-8c65-f25f63f30b39": {
       "attrs": {
        "height": 0.072517617873906,
        "width": 0.96,
        "x": 0.02,
        "y": 0.907482382126094
       },
       "content": {
        "cell": "8a687b54-c89d-4c20-a89b-63522f4343b4",
        "part": "whole"
       },
       "id": "bb399e5c-ca90-4bd5-8c65-f25f63f30b39"
      }
     }
    },
    "7169136b-57dc-4339-99d6-943e1ee74cc1": {
     "id": "7169136b-57dc-4339-99d6-943e1ee74cc1",
     "prev": "9a169e0a-0a2b-4297-a9d9-b6d113aaf12e",
     "regions": {
      "0f96f9b2-6678-458d-8ba0-49361f038f62": {
       "attrs": {
        "height": 0.06520851684922269,
        "width": 0.96,
        "x": 0.02,
        "y": 0.9147914831507773
       },
       "content": {
        "cell": "f3fe27a0-cc42-4e44-b259-381f04c51106",
        "part": "whole"
       },
       "id": "0f96f9b2-6678-458d-8ba0-49361f038f62"
      },
      "621656d9-4777-4c90-b240-92cb04f4057c": {
       "attrs": {
        "height": 0.6736911771541074,
        "width": 0.96,
        "x": 0.02,
        "y": 0.30630882284589256
       },
       "content": {
        "cell": "1f058383-eee1-43c4-aa3c-8d5dd0a70da6",
        "part": "whole"
       },
       "id": "621656d9-4777-4c90-b240-92cb04f4057c"
      },
      "ad427a87-7236-46d7-849d-86b2cbf459ff": {
       "attrs": {
        "height": 0.96,
        "width": 0.96,
        "x": 0.02,
        "y": 0.02
       },
       "content": {
        "cell": "65b066af-8d54-4910-afab-5ff6de44ccf9",
        "part": "whole"
       },
       "id": "ad427a87-7236-46d7-849d-86b2cbf459ff"
      }
     }
    },
    "77f6f7d3-f64c-4d0e-925c-c404fca3ad1d": {
     "id": "77f6f7d3-f64c-4d0e-925c-c404fca3ad1d",
     "prev": "bf340f45-82be-4d2d-aecd-12c89f59acc9",
     "regions": {
      "581ac4bf-b00f-46f8-a832-11199cfece82": {
       "attrs": {
        "height": 0.13772610684112102,
        "width": 0.96,
        "x": 0.02,
        "y": 0.02
       },
       "content": {
        "cell": "06390b36-013d-4389-b409-54bca9c8da2c",
        "part": "whole"
       },
       "id": "581ac4bf-b00f-46f8-a832-11199cfece82"
      },
      "63105580-95b3-4115-b508-2570d5ef6b0a": {
       "attrs": {
        "height": 0.07434489313007682,
        "width": 0.96,
        "x": 0.02,
        "y": 0.9056551068699231
       },
       "content": {
        "cell": "e8e4d635-e502-4fc5-927b-057141bed9cc",
        "part": "whole"
       },
       "id": "63105580-95b3-4115-b508-2570d5ef6b0a"
      },
      "9f87f711-4ad0-413f-8596-3d8276f50d6c": {
       "attrs": {
        "height": 0.7504367657952897,
        "width": 0.96,
        "x": 0.02,
        "y": 0.1564722239578772
       },
       "content": {
        "cell": "781ff950-7eb4-4d34-8f31-2c091930e02a",
        "part": "source"
       },
       "id": "9f87f711-4ad0-413f-8596-3d8276f50d6c"
      }
     }
    },
    "7ef47dcb-6cac-4eae-846a-6a863679a365": {
     "id": "7ef47dcb-6cac-4eae-846a-6a863679a365",
     "prev": "87d8ee46-8f32-4b90-a2b4-495fcb2a637f",
     "regions": {
      "6d52422a-7765-4395-b120-a20f4c2b36bc": {
       "attrs": {
        "height": 0.96,
        "width": 0.96,
        "x": 0.02,
        "y": 0.02
       },
       "content": {
        "cell": "b3df2f13-6667-4e2d-ad01-2eb371709110",
        "part": "whole"
       },
       "id": "6d52422a-7765-4395-b120-a20f4c2b36bc"
      }
     }
    },
    "87d8ee46-8f32-4b90-a2b4-495fcb2a637f": {
     "id": "87d8ee46-8f32-4b90-a2b4-495fcb2a637f",
     "prev": "6d8cf2f8-112d-4e50-b352-99eb7c793793",
     "regions": {
      "156a6f5c-7384-479c-994d-8ee2eaba17c5": {
       "attrs": {
        "height": 0.7979458806327197,
        "width": 0.96,
        "x": 0.02,
        "y": 0.1820541193672803
       },
       "content": {
        "cell": "59f770be-8a8c-44f0-9cf8-77d3786aede4",
        "part": "whole"
       },
       "id": "156a6f5c-7384-479c-994d-8ee2eaba17c5"
      },
      "4ee605f5-4640-44f3-a115-7ee0a9a6798d": {
       "attrs": {
        "height": 0.16513527750669493,
        "width": 0.96,
        "x": 0.02,
        "y": 0.02
       },
       "content": {
        "cell": "8478ebb5-6a4b-4a8b-bdde-99ecac2757a4",
        "part": "whole"
       },
       "id": "4ee605f5-4640-44f3-a115-7ee0a9a6798d"
      },
      "95d593f0-7c71-46e4-876c-ee9836855db6": {
       "attrs": {
        "height": 0.07434489313007682,
        "width": 0.96,
        "x": 0.02,
        "y": 0.9056551068699231
       },
       "content": {
        "cell": "8b2eeb81-5d2c-4e1c-b5c9-b7e70e967377",
        "part": "whole"
       },
       "id": "95d593f0-7c71-46e4-876c-ee9836855db6"
      }
     }
    },
    "93749e6f-a31d-4022-a085-b7151cc70759": {
     "id": "93749e6f-a31d-4022-a085-b7151cc70759",
     "prev": "7ef47dcb-6cac-4eae-846a-6a863679a365",
     "regions": {
      "0263f4a7-46e4-4862-9acd-bab3b6b032ba": {
       "attrs": {
        "height": 0.794291330120378,
        "width": 0.96,
        "x": 0.02,
        "y": 0.18570866987962195
       },
       "content": {
        "cell": "5703f626-c536-4430-be04-fbfe1644573a",
        "part": "whole"
       },
       "id": "0263f4a7-46e4-4862-9acd-bab3b6b032ba"
      },
      "02bacd92-08b1-480b-8857-4f2efaa2c0ad": {
       "attrs": {
        "height": 0.07069034261773517,
        "width": 0.96,
        "x": 0.02,
        "y": 0.9093096573822648
       },
       "content": {
        "cell": "da971cf1-3864-4720-87db-26d03d995bfa",
        "part": "whole"
       },
       "id": "02bacd92-08b1-480b-8857-4f2efaa2c0ad"
      },
      "a8603596-ce0e-4444-a4e4-536ccd3796a3": {
       "attrs": {
        "height": 0.1706171032752074,
        "width": 0.96,
        "x": 0.02,
        "y": 0.02
       },
       "content": {
        "cell": "135da982-2ec0-4528-942f-b623493c02f5",
        "part": "whole"
       },
       "id": "a8603596-ce0e-4444-a4e4-536ccd3796a3"
      }
     }
    },
    "9a169e0a-0a2b-4297-a9d9-b6d113aaf12e": {
     "id": "9a169e0a-0a2b-4297-a9d9-b6d113aaf12e",
     "prev": "93749e6f-a31d-4022-a085-b7151cc70759",
     "regions": {
      "6297dfcf-bb33-4aea-9ed5-452ae906de35": {
       "attrs": {
        "height": 0.96,
        "width": 0.96,
        "x": 0.02,
        "y": 0.02
       },
       "content": {
        "cell": "384229ff-61a7-40c9-8062-f6b5861b8f8b",
        "part": "whole"
       },
       "id": "6297dfcf-bb33-4aea-9ed5-452ae906de35"
      }
     }
    },
    "a382e95b-de2c-4992-83b8-2c3731509fba": {
     "id": "a382e95b-de2c-4992-83b8-2c3731509fba",
     "prev": "c6ffcd49-b531-464c-a599-603a36de3b76",
     "regions": {
      "7afb8e61-3cc3-4309-bc08-2bce61c2f6a4": {
       "attrs": {
        "height": 0.96,
        "width": 0.96,
        "x": 0.02,
        "y": 0.02
       },
       "content": {
        "cell": "d0b82c28-4fb8-4eb6-ac0f-399eba7ebf8d",
        "part": "whole"
       },
       "id": "7afb8e61-3cc3-4309-bc08-2bce61c2f6a4"
      }
     }
    },
    "bf340f45-82be-4d2d-aecd-12c89f59acc9": {
     "id": "bf340f45-82be-4d2d-aecd-12c89f59acc9",
     "prev": "0a15cf00-7dc1-46d7-a4eb-c9a0fbb874e7",
     "regions": {
      "5b97ae2a-77f7-4c5a-9c97-a2304284deb4": {
       "attrs": {
        "height": 0.07799944364241847,
        "width": 0.96,
        "x": 0.02,
        "y": 0.9020005563575815
       },
       "content": {
        "cell": "2e2ebed7-fbef-4ec8-b3cc-87aea6f7df94",
        "part": "whole"
       },
       "id": "5b97ae2a-77f7-4c5a-9c97-a2304284deb4"
      },
      "c7f59cb4-9fee-4985-b124-557aead5bfd2": {
       "attrs": {
        "height": 0.96,
        "width": 0.96,
        "x": 0.02,
        "y": 0.02
       },
       "content": {
        "cell": "5ca5d952-1570-4fbb-88f9-0a6bd9da33ce",
        "part": "whole"
       },
       "id": "c7f59cb4-9fee-4985-b124-557aead5bfd2"
      },
      "da9fce9d-868c-4e04-9ea4-55f18f387be2": {
       "attrs": {
        "height": 0.6810003060607984,
        "width": 0.96,
        "x": 0.02,
        "y": 0.29899969393920156
       },
       "content": {
        "cell": "0fcfd129-d996-457a-aa5a-1fef253abf43",
        "part": "whole"
       },
       "id": "da9fce9d-868c-4e04-9ea4-55f18f387be2"
      }
     }
    },
    "c6ffcd49-b531-464c-a599-603a36de3b76": {
     "id": "c6ffcd49-b531-464c-a599-603a36de3b76",
     "prev": "498bec77-242f-41ad-9584-1b47b8eae9be",
     "regions": {
      "d850e2ec-2337-4798-a2db-c2b64292d57a": {
       "attrs": {
        "height": 0.96,
        "width": 0.96,
        "x": 0.02,
        "y": 0.02
       },
       "content": {
        "cell": "921c306a-1be3-4a74-82dc-ee0f8e0d32f2",
        "part": "whole"
       },
       "id": "d850e2ec-2337-4798-a2db-c2b64292d57a"
      }
     }
    },
    "c7470f03-2361-461d-94c4-aadcc0a58c96": {
     "id": "c7470f03-2361-461d-94c4-aadcc0a58c96",
     "prev": "2ee2d0de-28c5-4524-815b-6cafe43d819d",
     "regions": {
      "382b4cce-48b7-435a-816b-ee55624a15bf": {
       "attrs": {
        "height": 0.96,
        "width": 0.96,
        "x": 0.02,
        "y": 0.02
       },
       "content": {
        "cell": "f4850845-30d7-46d3-87c8-6b1f6d873e5d",
        "part": "whole"
       },
       "id": "382b4cce-48b7-435a-816b-ee55624a15bf"
      }
     }
    }
   },
   "themes": {
    "default": "c8bc63ed-330b-4383-8587-3803a30bc149",
    "theme": {
     "c8bc63ed-330b-4383-8587-3803a30bc149": {
      "backgrounds": {
       "my-background": {
        "background-color": "white"
       }
      },
      "id": "c8bc63ed-330b-4383-8587-3803a30bc149",
      "palette": {
       "black": {
        "id": "black",
        "rgb": [
         0,
         0,
         0
        ]
       },
       "blue": {
        "id": "blue",
        "rgb": [
         0,
         153,
         204
        ]
       },
       "gray": {
        "id": "gray",
        "rgb": [
         128,
         128,
         128
        ]
       },
       "red": {
        "id": "red",
        "rgb": [
         240,
         32,
         32
        ]
       },
       "white": {
        "id": "white",
        "rgb": [
         255,
         255,
         255
        ]
       }
      },
      "rules": {
       "code": {
        "font-size": 1.6
       },
       "h1": {
        "color": "blue",
        "font-size": 5.5,
        "text-align": "center"
       },
       "h2": {
        "color": "blue",
        "font-size": 3,
        "text-align": "center"
       },
       "h3": {
        "color": "black",
        "font-size": 3
       },
       "pre": {
        "font-size": 1.6
       },
       "ul li": {
        "color": "black",
        "font-size": 2.5
       },
       "ul li ul li": {
        "color": "black",
        "font-size": 2
       }
      },
      "text-base": {
       "font-family": "Georgia",
       "font-size": 2.5
      }
     }
    }
   }
  }
 },
 "nbformat": 4,
 "nbformat_minor": 1
}
