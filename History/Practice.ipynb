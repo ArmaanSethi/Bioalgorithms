{
 "cells": [
  {
   "cell_type": "markdown",
   "metadata": {
    "number": 1,
    "section": "problem"
   },
   "source": [
    "---\n",
    "**Problem #1:** What is the length of the longest possible sequence whose ***single longest repeated*** k-mer appears twice and has a length of 5? Assume a linear (i.e. non-circular) sequence."
   ]
  },
  {
   "cell_type": "code",
   "execution_count": null,
   "metadata": {
    "collapsed": true
   },
   "outputs": [],
   "source": []
  },
  {
   "cell_type": "raw",
   "metadata": {
    "number": 1,
    "section": "answer"
   },
   "source": [
    "4^5 + 5 = 1029"
   ]
  },
  {
   "cell_type": "markdown",
   "metadata": {
    "number": 2,
    "section": "problem"
   },
   "source": [
    "---\n",
    "**Problem #2:** In the space provided below describe a strategy for finding largest value *k* for which ***every*** *k*-mer appears at least twice in the genome of [*Salmonella Typhimurium*](http://csbio.unc.edu/mcmillan/Comp555S18/data/SalmonellaTyphimurium.fa). **Note:** The genome of *Salmonella Typhimurium* is the first 4857433 base circular sequence in the FASTA file."
   ]
  },
  {
   "cell_type": "raw",
   "metadata": {
    "number": 2,
    "section": "answer"
   },
   "source": [
    "One way that this could be accomplished is where we start with k=1 and use kmerfreq to generate the frequencies of these kmers. We then check to see the length of this dictionary. If the lenght is equal to the length of the generated list by itertools, then we check through the dictionary if every index is >=2. It is not the most effecient algorithm however. A more efficient way could be to use a suffix array in which we then use the FindFirst and FindLast functions on a suffix array to determine if the value of last-first> 2 for each kmer until we get to a point where this is not true."
   ]
  },
  {
   "cell_type": "markdown",
   "metadata": {
    "number": 3,
    "section": "problem"
   },
   "source": [
    "---\n",
    "**Problem #3:** Suggest a lower-bound on the length of a sequence for which ***every*** *k*-mer appears twice given *k*. Assume a linear (i.e. non-circular) sequence."
   ]
  },
  {
   "cell_type": "raw",
   "metadata": {
    "number": 3,
    "section": "answer"
   },
   "source": [
    "Since the probability of a kmer appearing is 1/4^k, we assume that our kmer would appear every 4^k bases. Therefore, if our kmer were to appear twice, we would think that it would appeark every 2*4^k bases. For example, if we looked at 1-mers, some combination containing at least 2 of A,G,C,T would be our lower bound. So the lowerbound in general is 2*4^k bases."
   ]
  },
  {
   "cell_type": "markdown",
   "metadata": {
    "number": 4,
    "section": "problem"
   },
   "source": [
    "---\n",
    "**Problem #4:** How many mass peaks are shared between the two peptides SMART and TRAYS match?"
   ]
  },
  {
   "cell_type": "raw",
   "metadata": {
    "number": 4,
    "section": "answer"
   },
   "source": [
    "7 Shared peaks"
   ]
  },
  {
   "cell_type": "markdown",
   "metadata": {
    "number": 5,
    "section": "problem"
   },
   "source": [
    "---\n",
    "**Problem #5** Using the given *Residue* list write a short code fragment to generate all 16-peptide sequences with a molecular weight of 1024 Daltons. (**Warning**: You probably do not have enough time to run it.) Purely brute-force methods will receive only partial credit. "
   ]
  },
  {
   "cell_type": "code",
   "execution_count": null,
   "metadata": {
    "number": 5,
    "section": "answer"
   },
   "outputs": [
    {
     "name": "stdout",
     "output_type": "stream",
     "text": [
      "1024\n",
      "[['A'], ['C'], ['E'], ['D'], ['G'], ['F'], ['I'], ['H'], ['K'], ['M'], ['L'], ['N'], ['Q'], ['P'], ['S'], ['R'], ['T'], ['W'], ['V'], ['Y']]\n"
     ]
    },
    {
     "ename": "KeyboardInterrupt",
     "evalue": "",
     "output_type": "error",
     "traceback": [
      "\u001b[0;31m---------------------------------------------------------------------------\u001b[0m",
      "\u001b[0;31mKeyboardInterrupt\u001b[0m                         Traceback (most recent call last)",
      "\u001b[0;32m<ipython-input-3-f57df824c02b>\u001b[0m in \u001b[0;36m<module>\u001b[0;34m()\u001b[0m\n\u001b[1;32m     42\u001b[0m \u001b[0;31m#prodsorted = []\u001b[0m\u001b[0;34m\u001b[0m\u001b[0;34m\u001b[0m\u001b[0m\n\u001b[1;32m     43\u001b[0m \u001b[0;34m\u001b[0m\u001b[0m\n\u001b[0;32m---> 44\u001b[0;31m \u001b[0mcombo\u001b[0m\u001b[0;34m(\u001b[0m\u001b[0mprod\u001b[0m\u001b[0;34m)\u001b[0m\u001b[0;34m\u001b[0m\u001b[0m\n\u001b[0m\u001b[1;32m     45\u001b[0m \u001b[0;32mprint\u001b[0m \u001b[0mlen\u001b[0m\u001b[0;34m(\u001b[0m\u001b[0marrsorted\u001b[0m\u001b[0;34m)\u001b[0m\u001b[0;34m\u001b[0m\u001b[0m\n\u001b[1;32m     46\u001b[0m \u001b[0;32mprint\u001b[0m \u001b[0msorted\u001b[0m\u001b[0;34m(\u001b[0m\u001b[0marrsorted\u001b[0m\u001b[0;34m)\u001b[0m\u001b[0;34m\u001b[0m\u001b[0m\n",
      "\u001b[0;32m<ipython-input-3-f57df824c02b>\u001b[0m in \u001b[0;36mcombo\u001b[0;34m(arr)\u001b[0m\n\u001b[1;32m     27\u001b[0m     \u001b[0;32mfor\u001b[0m \u001b[0mi\u001b[0m \u001b[0;32min\u001b[0m \u001b[0mrange\u001b[0m\u001b[0;34m(\u001b[0m\u001b[0mlen\u001b[0m\u001b[0;34m(\u001b[0m\u001b[0marr\u001b[0m\u001b[0;34m)\u001b[0m\u001b[0;34m)\u001b[0m\u001b[0;34m:\u001b[0m\u001b[0;34m\u001b[0m\u001b[0m\n\u001b[1;32m     28\u001b[0m         \u001b[0;32mfor\u001b[0m \u001b[0mj\u001b[0m \u001b[0;32min\u001b[0m \u001b[0mrange\u001b[0m\u001b[0;34m(\u001b[0m\u001b[0mlen\u001b[0m\u001b[0;34m(\u001b[0m\u001b[0malpha\u001b[0m\u001b[0;34m)\u001b[0m\u001b[0;34m)\u001b[0m\u001b[0;34m:\u001b[0m\u001b[0;34m\u001b[0m\u001b[0m\n\u001b[0;32m---> 29\u001b[0;31m             \u001b[0mbranch\u001b[0m\u001b[0;34m(\u001b[0m\u001b[0marr\u001b[0m\u001b[0;34m[\u001b[0m\u001b[0mi\u001b[0m\u001b[0;34m]\u001b[0m\u001b[0;34m+\u001b[0m\u001b[0;34m[\u001b[0m\u001b[0malpha\u001b[0m\u001b[0;34m[\u001b[0m\u001b[0mj\u001b[0m\u001b[0;34m]\u001b[0m\u001b[0;34m]\u001b[0m\u001b[0;34m)\u001b[0m\u001b[0;34m\u001b[0m\u001b[0m\n\u001b[0m\u001b[1;32m     30\u001b[0m \u001b[0;34m\u001b[0m\u001b[0m\n\u001b[1;32m     31\u001b[0m \u001b[0;34m\u001b[0m\u001b[0m\n",
      "\u001b[0;32m<ipython-input-3-f57df824c02b>\u001b[0m in \u001b[0;36mbranch\u001b[0;34m(arr)\u001b[0m\n\u001b[1;32m     20\u001b[0m                 \u001b[0marrsorted\u001b[0m\u001b[0;34m.\u001b[0m\u001b[0mappend\u001b[0m\u001b[0;34m(\u001b[0m\u001b[0marr\u001b[0m\u001b[0;34m+\u001b[0m\u001b[0;34m[\u001b[0m\u001b[0malpha\u001b[0m\u001b[0;34m[\u001b[0m\u001b[0mi\u001b[0m\u001b[0;34m]\u001b[0m\u001b[0;34m]\u001b[0m\u001b[0;34m)\u001b[0m\u001b[0;34m\u001b[0m\u001b[0m\n\u001b[1;32m     21\u001b[0m         \u001b[0;32melif\u001b[0m \u001b[0mDaltons\u001b[0m\u001b[0;34m[\u001b[0m\u001b[0malpha\u001b[0m\u001b[0;34m[\u001b[0m\u001b[0mi\u001b[0m\u001b[0;34m]\u001b[0m\u001b[0;34m]\u001b[0m \u001b[0;34m+\u001b[0m \u001b[0msumm\u001b[0m \u001b[0;34m<\u001b[0m \u001b[0mscore\u001b[0m\u001b[0;34m:\u001b[0m\u001b[0;34m\u001b[0m\u001b[0m\n\u001b[0;32m---> 22\u001b[0;31m             \u001b[0mbranch\u001b[0m\u001b[0;34m(\u001b[0m\u001b[0marr\u001b[0m\u001b[0;34m+\u001b[0m\u001b[0;34m[\u001b[0m\u001b[0malpha\u001b[0m\u001b[0;34m[\u001b[0m\u001b[0mi\u001b[0m\u001b[0;34m]\u001b[0m\u001b[0;34m]\u001b[0m\u001b[0;34m)\u001b[0m\u001b[0;34m\u001b[0m\u001b[0m\n\u001b[0m\u001b[1;32m     23\u001b[0m \u001b[0;34m\u001b[0m\u001b[0m\n\u001b[1;32m     24\u001b[0m \u001b[0;32mdef\u001b[0m \u001b[0mcombo\u001b[0m\u001b[0;34m(\u001b[0m\u001b[0marr\u001b[0m\u001b[0;34m)\u001b[0m\u001b[0;34m:\u001b[0m\u001b[0;34m\u001b[0m\u001b[0m\n",
      "\u001b[0;32m<ipython-input-3-f57df824c02b>\u001b[0m in \u001b[0;36mbranch\u001b[0;34m(arr)\u001b[0m\n\u001b[1;32m     20\u001b[0m                 \u001b[0marrsorted\u001b[0m\u001b[0;34m.\u001b[0m\u001b[0mappend\u001b[0m\u001b[0;34m(\u001b[0m\u001b[0marr\u001b[0m\u001b[0;34m+\u001b[0m\u001b[0;34m[\u001b[0m\u001b[0malpha\u001b[0m\u001b[0;34m[\u001b[0m\u001b[0mi\u001b[0m\u001b[0;34m]\u001b[0m\u001b[0;34m]\u001b[0m\u001b[0;34m)\u001b[0m\u001b[0;34m\u001b[0m\u001b[0m\n\u001b[1;32m     21\u001b[0m         \u001b[0;32melif\u001b[0m \u001b[0mDaltons\u001b[0m\u001b[0;34m[\u001b[0m\u001b[0malpha\u001b[0m\u001b[0;34m[\u001b[0m\u001b[0mi\u001b[0m\u001b[0;34m]\u001b[0m\u001b[0;34m]\u001b[0m \u001b[0;34m+\u001b[0m \u001b[0msumm\u001b[0m \u001b[0;34m<\u001b[0m \u001b[0mscore\u001b[0m\u001b[0;34m:\u001b[0m\u001b[0;34m\u001b[0m\u001b[0m\n\u001b[0;32m---> 22\u001b[0;31m             \u001b[0mbranch\u001b[0m\u001b[0;34m(\u001b[0m\u001b[0marr\u001b[0m\u001b[0;34m+\u001b[0m\u001b[0;34m[\u001b[0m\u001b[0malpha\u001b[0m\u001b[0;34m[\u001b[0m\u001b[0mi\u001b[0m\u001b[0;34m]\u001b[0m\u001b[0;34m]\u001b[0m\u001b[0;34m)\u001b[0m\u001b[0;34m\u001b[0m\u001b[0m\n\u001b[0m\u001b[1;32m     23\u001b[0m \u001b[0;34m\u001b[0m\u001b[0m\n\u001b[1;32m     24\u001b[0m \u001b[0;32mdef\u001b[0m \u001b[0mcombo\u001b[0m\u001b[0;34m(\u001b[0m\u001b[0marr\u001b[0m\u001b[0;34m)\u001b[0m\u001b[0;34m:\u001b[0m\u001b[0;34m\u001b[0m\u001b[0m\n",
      "\u001b[0;32m<ipython-input-3-f57df824c02b>\u001b[0m in \u001b[0;36mbranch\u001b[0;34m(arr)\u001b[0m\n\u001b[1;32m     20\u001b[0m                 \u001b[0marrsorted\u001b[0m\u001b[0;34m.\u001b[0m\u001b[0mappend\u001b[0m\u001b[0;34m(\u001b[0m\u001b[0marr\u001b[0m\u001b[0;34m+\u001b[0m\u001b[0;34m[\u001b[0m\u001b[0malpha\u001b[0m\u001b[0;34m[\u001b[0m\u001b[0mi\u001b[0m\u001b[0;34m]\u001b[0m\u001b[0;34m]\u001b[0m\u001b[0;34m)\u001b[0m\u001b[0;34m\u001b[0m\u001b[0m\n\u001b[1;32m     21\u001b[0m         \u001b[0;32melif\u001b[0m \u001b[0mDaltons\u001b[0m\u001b[0;34m[\u001b[0m\u001b[0malpha\u001b[0m\u001b[0;34m[\u001b[0m\u001b[0mi\u001b[0m\u001b[0;34m]\u001b[0m\u001b[0;34m]\u001b[0m \u001b[0;34m+\u001b[0m \u001b[0msumm\u001b[0m \u001b[0;34m<\u001b[0m \u001b[0mscore\u001b[0m\u001b[0;34m:\u001b[0m\u001b[0;34m\u001b[0m\u001b[0m\n\u001b[0;32m---> 22\u001b[0;31m             \u001b[0mbranch\u001b[0m\u001b[0;34m(\u001b[0m\u001b[0marr\u001b[0m\u001b[0;34m+\u001b[0m\u001b[0;34m[\u001b[0m\u001b[0malpha\u001b[0m\u001b[0;34m[\u001b[0m\u001b[0mi\u001b[0m\u001b[0;34m]\u001b[0m\u001b[0;34m]\u001b[0m\u001b[0;34m)\u001b[0m\u001b[0;34m\u001b[0m\u001b[0m\n\u001b[0m\u001b[1;32m     23\u001b[0m \u001b[0;34m\u001b[0m\u001b[0m\n\u001b[1;32m     24\u001b[0m \u001b[0;32mdef\u001b[0m \u001b[0mcombo\u001b[0m\u001b[0;34m(\u001b[0m\u001b[0marr\u001b[0m\u001b[0;34m)\u001b[0m\u001b[0;34m:\u001b[0m\u001b[0;34m\u001b[0m\u001b[0m\n",
      "\u001b[0;32m<ipython-input-3-f57df824c02b>\u001b[0m in \u001b[0;36mbranch\u001b[0;34m(arr)\u001b[0m\n\u001b[1;32m     20\u001b[0m                 \u001b[0marrsorted\u001b[0m\u001b[0;34m.\u001b[0m\u001b[0mappend\u001b[0m\u001b[0;34m(\u001b[0m\u001b[0marr\u001b[0m\u001b[0;34m+\u001b[0m\u001b[0;34m[\u001b[0m\u001b[0malpha\u001b[0m\u001b[0;34m[\u001b[0m\u001b[0mi\u001b[0m\u001b[0;34m]\u001b[0m\u001b[0;34m]\u001b[0m\u001b[0;34m)\u001b[0m\u001b[0;34m\u001b[0m\u001b[0m\n\u001b[1;32m     21\u001b[0m         \u001b[0;32melif\u001b[0m \u001b[0mDaltons\u001b[0m\u001b[0;34m[\u001b[0m\u001b[0malpha\u001b[0m\u001b[0;34m[\u001b[0m\u001b[0mi\u001b[0m\u001b[0;34m]\u001b[0m\u001b[0;34m]\u001b[0m \u001b[0;34m+\u001b[0m \u001b[0msumm\u001b[0m \u001b[0;34m<\u001b[0m \u001b[0mscore\u001b[0m\u001b[0;34m:\u001b[0m\u001b[0;34m\u001b[0m\u001b[0m\n\u001b[0;32m---> 22\u001b[0;31m             \u001b[0mbranch\u001b[0m\u001b[0;34m(\u001b[0m\u001b[0marr\u001b[0m\u001b[0;34m+\u001b[0m\u001b[0;34m[\u001b[0m\u001b[0malpha\u001b[0m\u001b[0;34m[\u001b[0m\u001b[0mi\u001b[0m\u001b[0;34m]\u001b[0m\u001b[0;34m]\u001b[0m\u001b[0;34m)\u001b[0m\u001b[0;34m\u001b[0m\u001b[0m\n\u001b[0m\u001b[1;32m     23\u001b[0m \u001b[0;34m\u001b[0m\u001b[0m\n\u001b[1;32m     24\u001b[0m \u001b[0;32mdef\u001b[0m \u001b[0mcombo\u001b[0m\u001b[0;34m(\u001b[0m\u001b[0marr\u001b[0m\u001b[0;34m)\u001b[0m\u001b[0;34m:\u001b[0m\u001b[0;34m\u001b[0m\u001b[0m\n",
      "\u001b[0;32m<ipython-input-3-f57df824c02b>\u001b[0m in \u001b[0;36mbranch\u001b[0;34m(arr)\u001b[0m\n\u001b[1;32m     20\u001b[0m                 \u001b[0marrsorted\u001b[0m\u001b[0;34m.\u001b[0m\u001b[0mappend\u001b[0m\u001b[0;34m(\u001b[0m\u001b[0marr\u001b[0m\u001b[0;34m+\u001b[0m\u001b[0;34m[\u001b[0m\u001b[0malpha\u001b[0m\u001b[0;34m[\u001b[0m\u001b[0mi\u001b[0m\u001b[0;34m]\u001b[0m\u001b[0;34m]\u001b[0m\u001b[0;34m)\u001b[0m\u001b[0;34m\u001b[0m\u001b[0m\n\u001b[1;32m     21\u001b[0m         \u001b[0;32melif\u001b[0m \u001b[0mDaltons\u001b[0m\u001b[0;34m[\u001b[0m\u001b[0malpha\u001b[0m\u001b[0;34m[\u001b[0m\u001b[0mi\u001b[0m\u001b[0;34m]\u001b[0m\u001b[0;34m]\u001b[0m \u001b[0;34m+\u001b[0m \u001b[0msumm\u001b[0m \u001b[0;34m<\u001b[0m \u001b[0mscore\u001b[0m\u001b[0;34m:\u001b[0m\u001b[0;34m\u001b[0m\u001b[0m\n\u001b[0;32m---> 22\u001b[0;31m             \u001b[0mbranch\u001b[0m\u001b[0;34m(\u001b[0m\u001b[0marr\u001b[0m\u001b[0;34m+\u001b[0m\u001b[0;34m[\u001b[0m\u001b[0malpha\u001b[0m\u001b[0;34m[\u001b[0m\u001b[0mi\u001b[0m\u001b[0;34m]\u001b[0m\u001b[0;34m]\u001b[0m\u001b[0;34m)\u001b[0m\u001b[0;34m\u001b[0m\u001b[0m\n\u001b[0m\u001b[1;32m     23\u001b[0m \u001b[0;34m\u001b[0m\u001b[0m\n\u001b[1;32m     24\u001b[0m \u001b[0;32mdef\u001b[0m \u001b[0mcombo\u001b[0m\u001b[0;34m(\u001b[0m\u001b[0marr\u001b[0m\u001b[0;34m)\u001b[0m\u001b[0;34m:\u001b[0m\u001b[0;34m\u001b[0m\u001b[0m\n",
      "\u001b[0;32m<ipython-input-3-f57df824c02b>\u001b[0m in \u001b[0;36mbranch\u001b[0;34m(arr)\u001b[0m\n\u001b[1;32m     20\u001b[0m                 \u001b[0marrsorted\u001b[0m\u001b[0;34m.\u001b[0m\u001b[0mappend\u001b[0m\u001b[0;34m(\u001b[0m\u001b[0marr\u001b[0m\u001b[0;34m+\u001b[0m\u001b[0;34m[\u001b[0m\u001b[0malpha\u001b[0m\u001b[0;34m[\u001b[0m\u001b[0mi\u001b[0m\u001b[0;34m]\u001b[0m\u001b[0;34m]\u001b[0m\u001b[0;34m)\u001b[0m\u001b[0;34m\u001b[0m\u001b[0m\n\u001b[1;32m     21\u001b[0m         \u001b[0;32melif\u001b[0m \u001b[0mDaltons\u001b[0m\u001b[0;34m[\u001b[0m\u001b[0malpha\u001b[0m\u001b[0;34m[\u001b[0m\u001b[0mi\u001b[0m\u001b[0;34m]\u001b[0m\u001b[0;34m]\u001b[0m \u001b[0;34m+\u001b[0m \u001b[0msumm\u001b[0m \u001b[0;34m<\u001b[0m \u001b[0mscore\u001b[0m\u001b[0;34m:\u001b[0m\u001b[0;34m\u001b[0m\u001b[0m\n\u001b[0;32m---> 22\u001b[0;31m             \u001b[0mbranch\u001b[0m\u001b[0;34m(\u001b[0m\u001b[0marr\u001b[0m\u001b[0;34m+\u001b[0m\u001b[0;34m[\u001b[0m\u001b[0malpha\u001b[0m\u001b[0;34m[\u001b[0m\u001b[0mi\u001b[0m\u001b[0;34m]\u001b[0m\u001b[0;34m]\u001b[0m\u001b[0;34m)\u001b[0m\u001b[0;34m\u001b[0m\u001b[0m\n\u001b[0m\u001b[1;32m     23\u001b[0m \u001b[0;34m\u001b[0m\u001b[0m\n\u001b[1;32m     24\u001b[0m \u001b[0;32mdef\u001b[0m \u001b[0mcombo\u001b[0m\u001b[0;34m(\u001b[0m\u001b[0marr\u001b[0m\u001b[0;34m)\u001b[0m\u001b[0;34m:\u001b[0m\u001b[0;34m\u001b[0m\u001b[0m\n",
      "\u001b[0;32m<ipython-input-3-f57df824c02b>\u001b[0m in \u001b[0;36mbranch\u001b[0;34m(arr)\u001b[0m\n\u001b[1;32m     20\u001b[0m                 \u001b[0marrsorted\u001b[0m\u001b[0;34m.\u001b[0m\u001b[0mappend\u001b[0m\u001b[0;34m(\u001b[0m\u001b[0marr\u001b[0m\u001b[0;34m+\u001b[0m\u001b[0;34m[\u001b[0m\u001b[0malpha\u001b[0m\u001b[0;34m[\u001b[0m\u001b[0mi\u001b[0m\u001b[0;34m]\u001b[0m\u001b[0;34m]\u001b[0m\u001b[0;34m)\u001b[0m\u001b[0;34m\u001b[0m\u001b[0m\n\u001b[1;32m     21\u001b[0m         \u001b[0;32melif\u001b[0m \u001b[0mDaltons\u001b[0m\u001b[0;34m[\u001b[0m\u001b[0malpha\u001b[0m\u001b[0;34m[\u001b[0m\u001b[0mi\u001b[0m\u001b[0;34m]\u001b[0m\u001b[0;34m]\u001b[0m \u001b[0;34m+\u001b[0m \u001b[0msumm\u001b[0m \u001b[0;34m<\u001b[0m \u001b[0mscore\u001b[0m\u001b[0;34m:\u001b[0m\u001b[0;34m\u001b[0m\u001b[0m\n\u001b[0;32m---> 22\u001b[0;31m             \u001b[0mbranch\u001b[0m\u001b[0;34m(\u001b[0m\u001b[0marr\u001b[0m\u001b[0;34m+\u001b[0m\u001b[0;34m[\u001b[0m\u001b[0malpha\u001b[0m\u001b[0;34m[\u001b[0m\u001b[0mi\u001b[0m\u001b[0;34m]\u001b[0m\u001b[0;34m]\u001b[0m\u001b[0;34m)\u001b[0m\u001b[0;34m\u001b[0m\u001b[0m\n\u001b[0m\u001b[1;32m     23\u001b[0m \u001b[0;34m\u001b[0m\u001b[0m\n\u001b[1;32m     24\u001b[0m \u001b[0;32mdef\u001b[0m \u001b[0mcombo\u001b[0m\u001b[0;34m(\u001b[0m\u001b[0marr\u001b[0m\u001b[0;34m)\u001b[0m\u001b[0;34m:\u001b[0m\u001b[0;34m\u001b[0m\u001b[0m\n",
      "\u001b[0;32m<ipython-input-3-f57df824c02b>\u001b[0m in \u001b[0;36mbranch\u001b[0;34m(arr)\u001b[0m\n\u001b[1;32m     20\u001b[0m                 \u001b[0marrsorted\u001b[0m\u001b[0;34m.\u001b[0m\u001b[0mappend\u001b[0m\u001b[0;34m(\u001b[0m\u001b[0marr\u001b[0m\u001b[0;34m+\u001b[0m\u001b[0;34m[\u001b[0m\u001b[0malpha\u001b[0m\u001b[0;34m[\u001b[0m\u001b[0mi\u001b[0m\u001b[0;34m]\u001b[0m\u001b[0;34m]\u001b[0m\u001b[0;34m)\u001b[0m\u001b[0;34m\u001b[0m\u001b[0m\n\u001b[1;32m     21\u001b[0m         \u001b[0;32melif\u001b[0m \u001b[0mDaltons\u001b[0m\u001b[0;34m[\u001b[0m\u001b[0malpha\u001b[0m\u001b[0;34m[\u001b[0m\u001b[0mi\u001b[0m\u001b[0;34m]\u001b[0m\u001b[0;34m]\u001b[0m \u001b[0;34m+\u001b[0m \u001b[0msumm\u001b[0m \u001b[0;34m<\u001b[0m \u001b[0mscore\u001b[0m\u001b[0;34m:\u001b[0m\u001b[0;34m\u001b[0m\u001b[0m\n\u001b[0;32m---> 22\u001b[0;31m             \u001b[0mbranch\u001b[0m\u001b[0;34m(\u001b[0m\u001b[0marr\u001b[0m\u001b[0;34m+\u001b[0m\u001b[0;34m[\u001b[0m\u001b[0malpha\u001b[0m\u001b[0;34m[\u001b[0m\u001b[0mi\u001b[0m\u001b[0;34m]\u001b[0m\u001b[0;34m]\u001b[0m\u001b[0;34m)\u001b[0m\u001b[0;34m\u001b[0m\u001b[0m\n\u001b[0m\u001b[1;32m     23\u001b[0m \u001b[0;34m\u001b[0m\u001b[0m\n\u001b[1;32m     24\u001b[0m \u001b[0;32mdef\u001b[0m \u001b[0mcombo\u001b[0m\u001b[0;34m(\u001b[0m\u001b[0marr\u001b[0m\u001b[0;34m)\u001b[0m\u001b[0;34m:\u001b[0m\u001b[0;34m\u001b[0m\u001b[0m\n",
      "\u001b[0;32m<ipython-input-3-f57df824c02b>\u001b[0m in \u001b[0;36mbranch\u001b[0;34m(arr)\u001b[0m\n\u001b[1;32m     20\u001b[0m                 \u001b[0marrsorted\u001b[0m\u001b[0;34m.\u001b[0m\u001b[0mappend\u001b[0m\u001b[0;34m(\u001b[0m\u001b[0marr\u001b[0m\u001b[0;34m+\u001b[0m\u001b[0;34m[\u001b[0m\u001b[0malpha\u001b[0m\u001b[0;34m[\u001b[0m\u001b[0mi\u001b[0m\u001b[0;34m]\u001b[0m\u001b[0;34m]\u001b[0m\u001b[0;34m)\u001b[0m\u001b[0;34m\u001b[0m\u001b[0m\n\u001b[1;32m     21\u001b[0m         \u001b[0;32melif\u001b[0m \u001b[0mDaltons\u001b[0m\u001b[0;34m[\u001b[0m\u001b[0malpha\u001b[0m\u001b[0;34m[\u001b[0m\u001b[0mi\u001b[0m\u001b[0;34m]\u001b[0m\u001b[0;34m]\u001b[0m \u001b[0;34m+\u001b[0m \u001b[0msumm\u001b[0m \u001b[0;34m<\u001b[0m \u001b[0mscore\u001b[0m\u001b[0;34m:\u001b[0m\u001b[0;34m\u001b[0m\u001b[0m\n\u001b[0;32m---> 22\u001b[0;31m             \u001b[0mbranch\u001b[0m\u001b[0;34m(\u001b[0m\u001b[0marr\u001b[0m\u001b[0;34m+\u001b[0m\u001b[0;34m[\u001b[0m\u001b[0malpha\u001b[0m\u001b[0;34m[\u001b[0m\u001b[0mi\u001b[0m\u001b[0;34m]\u001b[0m\u001b[0;34m]\u001b[0m\u001b[0;34m)\u001b[0m\u001b[0;34m\u001b[0m\u001b[0m\n\u001b[0m\u001b[1;32m     23\u001b[0m \u001b[0;34m\u001b[0m\u001b[0m\n\u001b[1;32m     24\u001b[0m \u001b[0;32mdef\u001b[0m \u001b[0mcombo\u001b[0m\u001b[0;34m(\u001b[0m\u001b[0marr\u001b[0m\u001b[0;34m)\u001b[0m\u001b[0;34m:\u001b[0m\u001b[0;34m\u001b[0m\u001b[0m\n",
      "\u001b[0;32m<ipython-input-3-f57df824c02b>\u001b[0m in \u001b[0;36mbranch\u001b[0;34m(arr)\u001b[0m\n\u001b[1;32m     20\u001b[0m                 \u001b[0marrsorted\u001b[0m\u001b[0;34m.\u001b[0m\u001b[0mappend\u001b[0m\u001b[0;34m(\u001b[0m\u001b[0marr\u001b[0m\u001b[0;34m+\u001b[0m\u001b[0;34m[\u001b[0m\u001b[0malpha\u001b[0m\u001b[0;34m[\u001b[0m\u001b[0mi\u001b[0m\u001b[0;34m]\u001b[0m\u001b[0;34m]\u001b[0m\u001b[0;34m)\u001b[0m\u001b[0;34m\u001b[0m\u001b[0m\n\u001b[1;32m     21\u001b[0m         \u001b[0;32melif\u001b[0m \u001b[0mDaltons\u001b[0m\u001b[0;34m[\u001b[0m\u001b[0malpha\u001b[0m\u001b[0;34m[\u001b[0m\u001b[0mi\u001b[0m\u001b[0;34m]\u001b[0m\u001b[0;34m]\u001b[0m \u001b[0;34m+\u001b[0m \u001b[0msumm\u001b[0m \u001b[0;34m<\u001b[0m \u001b[0mscore\u001b[0m\u001b[0;34m:\u001b[0m\u001b[0;34m\u001b[0m\u001b[0m\n\u001b[0;32m---> 22\u001b[0;31m             \u001b[0mbranch\u001b[0m\u001b[0;34m(\u001b[0m\u001b[0marr\u001b[0m\u001b[0;34m+\u001b[0m\u001b[0;34m[\u001b[0m\u001b[0malpha\u001b[0m\u001b[0;34m[\u001b[0m\u001b[0mi\u001b[0m\u001b[0;34m]\u001b[0m\u001b[0;34m]\u001b[0m\u001b[0;34m)\u001b[0m\u001b[0;34m\u001b[0m\u001b[0m\n\u001b[0m\u001b[1;32m     23\u001b[0m \u001b[0;34m\u001b[0m\u001b[0m\n\u001b[1;32m     24\u001b[0m \u001b[0;32mdef\u001b[0m \u001b[0mcombo\u001b[0m\u001b[0;34m(\u001b[0m\u001b[0marr\u001b[0m\u001b[0;34m)\u001b[0m\u001b[0;34m:\u001b[0m\u001b[0;34m\u001b[0m\u001b[0m\n",
      "\u001b[0;32m<ipython-input-3-f57df824c02b>\u001b[0m in \u001b[0;36mbranch\u001b[0;34m(arr)\u001b[0m\n\u001b[1;32m     20\u001b[0m                 \u001b[0marrsorted\u001b[0m\u001b[0;34m.\u001b[0m\u001b[0mappend\u001b[0m\u001b[0;34m(\u001b[0m\u001b[0marr\u001b[0m\u001b[0;34m+\u001b[0m\u001b[0;34m[\u001b[0m\u001b[0malpha\u001b[0m\u001b[0;34m[\u001b[0m\u001b[0mi\u001b[0m\u001b[0;34m]\u001b[0m\u001b[0;34m]\u001b[0m\u001b[0;34m)\u001b[0m\u001b[0;34m\u001b[0m\u001b[0m\n\u001b[1;32m     21\u001b[0m         \u001b[0;32melif\u001b[0m \u001b[0mDaltons\u001b[0m\u001b[0;34m[\u001b[0m\u001b[0malpha\u001b[0m\u001b[0;34m[\u001b[0m\u001b[0mi\u001b[0m\u001b[0;34m]\u001b[0m\u001b[0;34m]\u001b[0m \u001b[0;34m+\u001b[0m \u001b[0msumm\u001b[0m \u001b[0;34m<\u001b[0m \u001b[0mscore\u001b[0m\u001b[0;34m:\u001b[0m\u001b[0;34m\u001b[0m\u001b[0m\n\u001b[0;32m---> 22\u001b[0;31m             \u001b[0mbranch\u001b[0m\u001b[0;34m(\u001b[0m\u001b[0marr\u001b[0m\u001b[0;34m+\u001b[0m\u001b[0;34m[\u001b[0m\u001b[0malpha\u001b[0m\u001b[0;34m[\u001b[0m\u001b[0mi\u001b[0m\u001b[0;34m]\u001b[0m\u001b[0;34m]\u001b[0m\u001b[0;34m)\u001b[0m\u001b[0;34m\u001b[0m\u001b[0m\n\u001b[0m\u001b[1;32m     23\u001b[0m \u001b[0;34m\u001b[0m\u001b[0m\n\u001b[1;32m     24\u001b[0m \u001b[0;32mdef\u001b[0m \u001b[0mcombo\u001b[0m\u001b[0;34m(\u001b[0m\u001b[0marr\u001b[0m\u001b[0;34m)\u001b[0m\u001b[0;34m:\u001b[0m\u001b[0;34m\u001b[0m\u001b[0m\n",
      "\u001b[0;32m<ipython-input-3-f57df824c02b>\u001b[0m in \u001b[0;36mbranch\u001b[0;34m(arr)\u001b[0m\n\u001b[1;32m     14\u001b[0m     \u001b[0;32mfor\u001b[0m \u001b[0mi\u001b[0m \u001b[0;32min\u001b[0m \u001b[0mrange\u001b[0m\u001b[0;34m(\u001b[0m\u001b[0mlen\u001b[0m\u001b[0;34m(\u001b[0m\u001b[0malpha\u001b[0m\u001b[0;34m)\u001b[0m\u001b[0;34m)\u001b[0m\u001b[0;34m:\u001b[0m\u001b[0;34m\u001b[0m\u001b[0m\n\u001b[1;32m     15\u001b[0m         \u001b[0msumm\u001b[0m \u001b[0;34m=\u001b[0m \u001b[0;36m0\u001b[0m\u001b[0;34m\u001b[0m\u001b[0m\n\u001b[0;32m---> 16\u001b[0;31m         \u001b[0;32mfor\u001b[0m \u001b[0mj\u001b[0m \u001b[0;32min\u001b[0m \u001b[0mrange\u001b[0m\u001b[0;34m(\u001b[0m\u001b[0mlen\u001b[0m\u001b[0;34m(\u001b[0m\u001b[0marr\u001b[0m\u001b[0;34m)\u001b[0m\u001b[0;34m)\u001b[0m\u001b[0;34m:\u001b[0m\u001b[0;34m\u001b[0m\u001b[0m\n\u001b[0m\u001b[1;32m     17\u001b[0m             \u001b[0msumm\u001b[0m \u001b[0;34m+=\u001b[0m \u001b[0mDaltons\u001b[0m\u001b[0;34m[\u001b[0m\u001b[0marr\u001b[0m\u001b[0;34m[\u001b[0m\u001b[0mj\u001b[0m\u001b[0;34m]\u001b[0m\u001b[0;34m]\u001b[0m\u001b[0;34m\u001b[0m\u001b[0m\n\u001b[1;32m     18\u001b[0m         \u001b[0;32mif\u001b[0m \u001b[0mDaltons\u001b[0m\u001b[0;34m[\u001b[0m\u001b[0malpha\u001b[0m\u001b[0;34m[\u001b[0m\u001b[0mi\u001b[0m\u001b[0;34m]\u001b[0m\u001b[0;34m]\u001b[0m \u001b[0;34m+\u001b[0m \u001b[0msumm\u001b[0m \u001b[0;34m==\u001b[0m \u001b[0mscore\u001b[0m\u001b[0;34m:\u001b[0m\u001b[0;34m\u001b[0m\u001b[0m\n",
      "\u001b[0;31mKeyboardInterrupt\u001b[0m: "
     ]
    }
   ],
   "source": [
    "# Enter your modified code fragment here\n",
    "Daltons = { \n",
    "    'A':  71, 'C': 103, 'D': 115, 'E': 129,\n",
    "    'F': 147, 'G':  57, 'H': 137, 'I': 113,\n",
    "    'K': 128, 'L': 113, 'M': 131, 'N': 114,\n",
    "    'P':  97, 'Q': 128, 'R': 156, 'S':  87,\n",
    "    'T': 101, 'V':  99, 'W': 186, 'Y': 163 \n",
    "}\n",
    "import itertools\n",
    "\n",
    "def branch(arr):\n",
    "    global arrsorted, score\n",
    "    alpha = [\"A\",\"C\",\"D\",\"E\",\"F\",\"G\",\"H\",\"I\",\"K\",\"L\",\"M\",\"N\",\"P\",\"Q\",\"R\",\"S\",\"T\",\"V\",\"W\",\"Y\"]\n",
    "    for i in range(len(alpha)):\n",
    "        summ = 0 \n",
    "        for j in range(len(arr)):\n",
    "            summ += Daltons[arr[j]]\n",
    "        if Daltons[alpha[i]] + summ == score:\n",
    "            if len(arr)+1==16:\n",
    "                arrsorted.append(arr+[alpha[i]])\n",
    "        elif Daltons[alpha[i]] + summ < score:\n",
    "            branch(arr+[alpha[i]])\n",
    "    \n",
    "def combo(arr):\n",
    "    score = Daltons[\"Y\"]+Daltons[\"M\"]+Daltons[\"K\"]+Daltons[\"N\"]\n",
    "    alpha = [\"A\",\"C\",\"D\",\"E\",\"F\",\"G\",\"H\",\"I\",\"K\",\"L\",\"M\",\"N\",\"P\",\"Q\",\"R\",\"S\",\"T\",\"V\",\"W\",\"Y\"]\n",
    "    for i in range(len(arr)):\n",
    "        for j in range(len(alpha)):\n",
    "            branch(arr[i]+[alpha[j]])\n",
    "                \n",
    "\n",
    "global arrsorted,score\n",
    "arrsorted = []\n",
    "\n",
    "score = 1024\n",
    "print score\n",
    "prod = []\n",
    "prod += itertools.product(Daltons,repeat=1)\n",
    "for i in range(len(prod)):\n",
    "    prod[i] = list(prod[i])\n",
    "print prod\n",
    "#prodsorted = []\n",
    "\n",
    "combo(prod)\n",
    "print len(arrsorted)\n",
    "print sorted(arrsorted)"
   ]
  },
  {
   "cell_type": "markdown",
   "metadata": {
    "number": 6,
    "section": "problem"
   },
   "source": [
    "---\n",
    "**Problem #6.** Find all nucleotide sequences that correspond to Eulerian Paths through the de Bruijn graph shown below."
   ]
  },
  {
   "cell_type": "code",
   "execution_count": 2,
   "metadata": {},
   "outputs": [
    {
     "data": {
      "image/svg+xml": [
       "<svg height=\"540pt\" viewBox=\"0.00 0.00 447.45 720.00\" width=\"336pt\" xmlns=\"http://www.w3.org/2000/svg\" xmlns:xlink=\"http://www.w3.org/1999/xlink\">\n",
       "<g class=\"graph\" id=\"graph0\" transform=\"scale(.9911 .9911) rotate(0) translate(4 722.4461)\">\n",
       "<title>%3</title>\n",
       "<polygon fill=\"#ffffff\" points=\"-4,4 -4,-722.4461 447.4515,-722.4461 447.4515,4 -4,4\" stroke=\"transparent\"/>\n",
       "<!-- N0 -->\n",
       "<g class=\"node\" id=\"node1\">\n",
       "<title>N0</title>\n",
       "<path d=\"M315.2758,-567.5908C315.2758,-567.5908 282.4198,-567.5908 282.4198,-567.5908 276.4198,-567.5908 270.4198,-561.5908 270.4198,-555.5908 270.4198,-555.5908 270.4198,-543.5908 270.4198,-543.5908 270.4198,-537.5908 276.4198,-531.5908 282.4198,-531.5908 282.4198,-531.5908 315.2758,-531.5908 315.2758,-531.5908 321.2758,-531.5908 327.2758,-537.5908 327.2758,-543.5908 327.2758,-543.5908 327.2758,-555.5908 327.2758,-555.5908 327.2758,-561.5908 321.2758,-567.5908 315.2758,-567.5908\" fill=\"none\" stroke=\"#000000\"/>\n",
       "<text fill=\"#000000\" font-family=\"Times,serif\" font-size=\"14.00\" text-anchor=\"middle\" x=\"298.8478\" y=\"-545.3908\">AAGA</text>\n",
       "</g>\n",
       "<!-- N4 -->\n",
       "<g class=\"node\" id=\"node5\">\n",
       "<title>N4</title>\n",
       "<path d=\"M285.0683,-448.4232C285.0683,-448.4232 252.2123,-448.4232 252.2123,-448.4232 246.2123,-448.4232 240.2123,-442.4232 240.2123,-436.4232 240.2123,-436.4232 240.2123,-424.4232 240.2123,-424.4232 240.2123,-418.4232 246.2123,-412.4232 252.2123,-412.4232 252.2123,-412.4232 285.0683,-412.4232 285.0683,-412.4232 291.0683,-412.4232 297.0683,-418.4232 297.0683,-424.4232 297.0683,-424.4232 297.0683,-436.4232 297.0683,-436.4232 297.0683,-442.4232 291.0683,-448.4232 285.0683,-448.4232\" fill=\"none\" stroke=\"#000000\"/>\n",
       "<text fill=\"#000000\" font-family=\"Times,serif\" font-size=\"14.00\" text-anchor=\"middle\" x=\"268.6403\" y=\"-426.2232\">AGAG</text>\n",
       "</g>\n",
       "<!-- N0&#45;&gt;N4 -->\n",
       "<g class=\"edge\" id=\"edge8\">\n",
       "<title>N0-&gt;N4</title>\n",
       "<path d=\"M294.2599,-531.4918C289.3364,-512.0684 281.453,-480.9689 275.7303,-458.393\" fill=\"none\" stroke=\"#000000\"/>\n",
       "<polygon fill=\"#000000\" points=\"279.1213,-457.5259 273.2714,-448.6926 272.3359,-459.246 279.1213,-457.5259\" stroke=\"#000000\"/>\n",
       "</g>\n",
       "<!-- N1 -->\n",
       "<g class=\"node\" id=\"node2\">\n",
       "<title>N1</title>\n",
       "<path d=\"M431.5028,-96.1599C431.5028,-96.1599 401.2978,-96.1599 401.2978,-96.1599 395.2978,-96.1599 389.2978,-90.1599 389.2978,-84.1599 389.2978,-84.1599 389.2978,-72.1599 389.2978,-72.1599 389.2978,-66.1599 395.2978,-60.1599 401.2978,-60.1599 401.2978,-60.1599 431.5028,-60.1599 431.5028,-60.1599 437.5028,-60.1599 443.5028,-66.1599 443.5028,-72.1599 443.5028,-72.1599 443.5028,-84.1599 443.5028,-84.1599 443.5028,-90.1599 437.5028,-96.1599 431.5028,-96.1599\" fill=\"none\" stroke=\"#000000\"/>\n",
       "<text fill=\"#000000\" font-family=\"Times,serif\" font-size=\"14.00\" text-anchor=\"middle\" x=\"416.4003\" y=\"-73.9599\">ACAT</text>\n",
       "</g>\n",
       "<!-- N8 -->\n",
       "<g class=\"node\" id=\"node9\">\n",
       "<title>N8</title>\n",
       "<path d=\"M327.9815,-36C327.9815,-36 297.7765,-36 297.7765,-36 291.7765,-36 285.7765,-30 285.7765,-24 285.7765,-24 285.7765,-12 285.7765,-12 285.7765,-6 291.7765,0 297.7765,0 297.7765,0 327.9815,0 327.9815,0 333.9815,0 339.9815,-6 339.9815,-12 339.9815,-12 339.9815,-24 339.9815,-24 339.9815,-30 333.9815,-36 327.9815,-36\" fill=\"none\" stroke=\"#000000\"/>\n",
       "<text fill=\"#000000\" font-family=\"Times,serif\" font-size=\"14.00\" text-anchor=\"middle\" x=\"312.879\" y=\"-13.8\">CATG</text>\n",
       "</g>\n",
       "<!-- N1&#45;&gt;N8 -->\n",
       "<g class=\"edge\" id=\"edge13\">\n",
       "<title>N1-&gt;N8</title>\n",
       "<path d=\"M389.2013,-62.3536C376.9357,-55.2256 362.2746,-46.7055 349.0954,-39.0466\" fill=\"none\" stroke=\"#000000\"/>\n",
       "<polygon fill=\"#000000\" points=\"350.6605,-35.9081 340.2558,-33.9096 347.1433,-41.9603 350.6605,-35.9081\" stroke=\"#000000\"/>\n",
       "</g>\n",
       "<!-- N2 -->\n",
       "<g class=\"node\" id=\"node3\">\n",
       "<title>N2</title>\n",
       "<path d=\"M99.7323,-289.6954C99.7323,-289.6954 66.8763,-289.6954 66.8763,-289.6954 60.8763,-289.6954 54.8763,-283.6954 54.8763,-277.6954 54.8763,-277.6954 54.8763,-265.6954 54.8763,-265.6954 54.8763,-259.6954 60.8763,-253.6954 66.8763,-253.6954 66.8763,-253.6954 99.7323,-253.6954 99.7323,-253.6954 105.7323,-253.6954 111.7323,-259.6954 111.7323,-265.6954 111.7323,-265.6954 111.7323,-277.6954 111.7323,-277.6954 111.7323,-283.6954 105.7323,-289.6954 99.7323,-289.6954\" fill=\"none\" stroke=\"#000000\"/>\n",
       "<text fill=\"#000000\" font-family=\"Times,serif\" font-size=\"14.00\" text-anchor=\"middle\" x=\"83.3043\" y=\"-267.4954\">AGAA</text>\n",
       "</g>\n",
       "<!-- N3 -->\n",
       "<g class=\"node\" id=\"node4\">\n",
       "<title>N3</title>\n",
       "<path d=\"M336.0619,-298.2293C336.0619,-298.2293 304.747,-298.2293 304.747,-298.2293 298.747,-298.2293 292.747,-292.2293 292.747,-286.2293 292.747,-286.2293 292.747,-274.2293 292.747,-274.2293 292.747,-268.2293 298.747,-262.2293 304.747,-262.2293 304.747,-262.2293 336.0619,-262.2293 336.0619,-262.2293 342.0619,-262.2293 348.0619,-268.2293 348.0619,-274.2293 348.0619,-274.2293 348.0619,-286.2293 348.0619,-286.2293 348.0619,-292.2293 342.0619,-298.2293 336.0619,-298.2293\" fill=\"none\" stroke=\"#000000\"/>\n",
       "<text fill=\"#000000\" font-family=\"Times,serif\" font-size=\"14.00\" text-anchor=\"middle\" x=\"320.4045\" y=\"-276.0293\">AGAC</text>\n",
       "</g>\n",
       "<!-- N9 -->\n",
       "<g class=\"node\" id=\"node10\">\n",
       "<title>N9</title>\n",
       "<path d=\"M428.1602,-217.7575C428.1602,-217.7575 396.8453,-217.7575 396.8453,-217.7575 390.8453,-217.7575 384.8453,-211.7575 384.8453,-205.7575 384.8453,-205.7575 384.8453,-193.7575 384.8453,-193.7575 384.8453,-187.7575 390.8453,-181.7575 396.8453,-181.7575 396.8453,-181.7575 428.1602,-181.7575 428.1602,-181.7575 434.1602,-181.7575 440.1602,-187.7575 440.1602,-193.7575 440.1602,-193.7575 440.1602,-205.7575 440.1602,-205.7575 440.1602,-211.7575 434.1602,-217.7575 428.1602,-217.7575\" fill=\"none\" stroke=\"#000000\"/>\n",
       "<text fill=\"#000000\" font-family=\"Times,serif\" font-size=\"14.00\" text-anchor=\"middle\" x=\"412.5027\" y=\"-195.5575\">GACA</text>\n",
       "</g>\n",
       "<!-- N3&#45;&gt;N9 -->\n",
       "<g class=\"edge\" id=\"edge11\">\n",
       "<title>N3-&gt;N9</title>\n",
       "<path d=\"M341.303,-261.969C353.9026,-250.96 370.1259,-236.7847 383.9034,-224.7464\" fill=\"none\" stroke=\"#000000\"/>\n",
       "<polygon fill=\"#000000\" points=\"386.4594,-227.161 391.6869,-217.9455 381.8536,-221.8897 386.4594,-227.161\" stroke=\"#000000\"/>\n",
       "</g>\n",
       "<!-- N10 -->\n",
       "<g class=\"node\" id=\"node11\">\n",
       "<title>N10</title>\n",
       "<path d=\"M216.1443,-339.7021C216.1443,-339.7021 183.2882,-339.7021 183.2882,-339.7021 177.2882,-339.7021 171.2882,-333.7021 171.2882,-327.7021 171.2882,-327.7021 171.2882,-315.7021 171.2882,-315.7021 171.2882,-309.7021 177.2882,-303.7021 183.2882,-303.7021 183.2882,-303.7021 216.1443,-303.7021 216.1443,-303.7021 222.1443,-303.7021 228.1443,-309.7021 228.1443,-315.7021 228.1443,-315.7021 228.1443,-327.7021 228.1443,-327.7021 228.1443,-333.7021 222.1443,-339.7021 216.1443,-339.7021\" fill=\"none\" stroke=\"#000000\"/>\n",
       "<text fill=\"#000000\" font-family=\"Times,serif\" font-size=\"14.00\" text-anchor=\"middle\" x=\"199.7163\" y=\"-317.5021\">GAGA</text>\n",
       "</g>\n",
       "<!-- N4&#45;&gt;N10 -->\n",
       "<g class=\"edge\" id=\"edge1\">\n",
       "<title>N4-&gt;N10</title>\n",
       "<path d=\"M286.1571,-412.1715C305.3244,-377.2754 276.4194,-324.4252 238.3637,-315.016\" fill=\"none\" stroke=\"#000000\"/>\n",
       "<polygon fill=\"#000000\" points=\"238.3554,-311.4816 227.9701,-313.5781 237.396,-318.4156 238.3554,-311.4816\" stroke=\"#000000\"/>\n",
       "</g>\n",
       "<!-- N4&#45;&gt;N10 -->\n",
       "<g class=\"edge\" id=\"edge9\">\n",
       "<title>N4-&gt;N10</title>\n",
       "<path d=\"M240.4188,-438.5482C200.8374,-437.4143 166.975,-386.8428 178.3432,-349.1596\" fill=\"none\" stroke=\"#000000\"/>\n",
       "<polygon fill=\"#000000\" points=\"181.5889,-350.4701 182.2319,-339.8948 175.1344,-347.7608 181.5889,-350.4701\" stroke=\"#000000\"/>\n",
       "</g>\n",
       "<!-- N5 -->\n",
       "<g class=\"node\" id=\"node6\">\n",
       "<title>N5</title>\n",
       "<path d=\"M114.253,-415.2763C114.253,-415.2763 83.5079,-415.2763 83.5079,-415.2763 77.5079,-415.2763 71.5079,-409.2763 71.5079,-403.2763 71.5079,-403.2763 71.5079,-391.2763 71.5079,-391.2763 71.5079,-385.2763 77.5079,-379.2763 83.5079,-379.2763 83.5079,-379.2763 114.253,-379.2763 114.253,-379.2763 120.253,-379.2763 126.253,-385.2763 126.253,-391.2763 126.253,-391.2763 126.253,-403.2763 126.253,-403.2763 126.253,-409.2763 120.253,-415.2763 114.253,-415.2763\" fill=\"none\" stroke=\"#000000\"/>\n",
       "<text fill=\"#000000\" font-family=\"Times,serif\" font-size=\"14.00\" text-anchor=\"middle\" x=\"98.8804\" y=\"-393.0763\">AGAT</text>\n",
       "</g>\n",
       "<!-- N11 -->\n",
       "<g class=\"node\" id=\"node12\">\n",
       "<title>N11</title>\n",
       "<path d=\"M42,-513.4089C42,-513.4089 12,-513.4089 12,-513.4089 6,-513.4089 0,-507.4089 0,-501.4089 0,-501.4089 0,-489.4089 0,-489.4089 0,-483.4089 6,-477.4089 12,-477.4089 12,-477.4089 42,-477.4089 42,-477.4089 48,-477.4089 54,-483.4089 54,-489.4089 54,-489.4089 54,-501.4089 54,-501.4089 54,-507.4089 48,-513.4089 42,-513.4089\" fill=\"none\" stroke=\"#000000\"/>\n",
       "<text fill=\"#000000\" font-family=\"Times,serif\" font-size=\"14.00\" text-anchor=\"middle\" x=\"27\" y=\"-491.2089\">GATT</text>\n",
       "</g>\n",
       "<!-- N5&#45;&gt;N11 -->\n",
       "<g class=\"edge\" id=\"edge3\">\n",
       "<title>N5-&gt;N11</title>\n",
       "<path d=\"M85.3603,-415.7343C74.3475,-430.7691 58.6586,-452.1879 46.3207,-469.032\" fill=\"none\" stroke=\"#000000\"/>\n",
       "<polygon fill=\"#000000\" points=\"43.3023,-467.2297 40.2167,-477.3652 48.9495,-471.3661 43.3023,-467.2297\" stroke=\"#000000\"/>\n",
       "</g>\n",
       "<!-- N6 -->\n",
       "<g class=\"node\" id=\"node7\">\n",
       "<title>N6</title>\n",
       "<path d=\"M223.1037,-97.649C223.1037,-97.649 192.3586,-97.649 192.3586,-97.649 186.3586,-97.649 180.3586,-91.649 180.3586,-85.649 180.3586,-85.649 180.3586,-73.649 180.3586,-73.649 180.3586,-67.649 186.3586,-61.649 192.3586,-61.649 192.3586,-61.649 223.1037,-61.649 223.1037,-61.649 229.1037,-61.649 235.1037,-67.649 235.1037,-73.649 235.1037,-73.649 235.1037,-85.649 235.1037,-85.649 235.1037,-91.649 229.1037,-97.649 223.1037,-97.649\" fill=\"none\" stroke=\"#000000\"/>\n",
       "<text fill=\"#000000\" font-family=\"Times,serif\" font-size=\"14.00\" text-anchor=\"middle\" x=\"207.7311\" y=\"-75.449\">ATGA</text>\n",
       "</g>\n",
       "<!-- N13 -->\n",
       "<g class=\"node\" id=\"node14\">\n",
       "<title>N13</title>\n",
       "<path d=\"M197.7178,-215.8666C197.7178,-215.8666 166.9727,-215.8666 166.9727,-215.8666 160.9727,-215.8666 154.9727,-209.8666 154.9727,-203.8666 154.9727,-203.8666 154.9727,-191.8666 154.9727,-191.8666 154.9727,-185.8666 160.9727,-179.8666 166.9727,-179.8666 166.9727,-179.8666 197.7178,-179.8666 197.7178,-179.8666 203.7178,-179.8666 209.7178,-185.8666 209.7178,-191.8666 209.7178,-191.8666 209.7178,-203.8666 209.7178,-203.8666 209.7178,-209.8666 203.7178,-215.8666 197.7178,-215.8666\" fill=\"none\" stroke=\"#000000\"/>\n",
       "<text fill=\"#000000\" font-family=\"Times,serif\" font-size=\"14.00\" text-anchor=\"middle\" x=\"182.3453\" y=\"-193.6666\">TGAG</text>\n",
       "</g>\n",
       "<!-- N6&#45;&gt;N13 -->\n",
       "<g class=\"edge\" id=\"edge15\">\n",
       "<title>N6-&gt;N13</title>\n",
       "<path d=\"M203.8202,-97.8614C199.69,-117.0953 193.1264,-147.661 188.3417,-169.9425\" fill=\"none\" stroke=\"#000000\"/>\n",
       "<polygon fill=\"#000000\" points=\"184.8966,-169.3155 186.219,-179.8275 191.7406,-170.7852 184.8966,-169.3155\" stroke=\"#000000\"/>\n",
       "</g>\n",
       "<!-- N7 -->\n",
       "<g class=\"node\" id=\"node8\">\n",
       "<title>N7</title>\n",
       "<path d=\"M52.1138,-635.6293C52.1138,-635.6293 22.1138,-635.6293 22.1138,-635.6293 16.1138,-635.6293 10.1138,-629.6293 10.1138,-623.6293 10.1138,-623.6293 10.1138,-611.6293 10.1138,-611.6293 10.1138,-605.6293 16.1138,-599.6293 22.1138,-599.6293 22.1138,-599.6293 52.1138,-599.6293 52.1138,-599.6293 58.1138,-599.6293 64.1138,-605.6293 64.1138,-611.6293 64.1138,-611.6293 64.1138,-623.6293 64.1138,-623.6293 64.1138,-629.6293 58.1138,-635.6293 52.1138,-635.6293\" fill=\"none\" stroke=\"#000000\"/>\n",
       "<text fill=\"#000000\" font-family=\"Times,serif\" font-size=\"14.00\" text-anchor=\"middle\" x=\"37.1138\" y=\"-613.4293\">ATTA</text>\n",
       "</g>\n",
       "<!-- N14 -->\n",
       "<g class=\"node\" id=\"node15\">\n",
       "<title>N14</title>\n",
       "<path d=\"M143.6205,-718.4461C143.6205,-718.4461 113.6205,-718.4461 113.6205,-718.4461 107.6205,-718.4461 101.6205,-712.4461 101.6205,-706.4461 101.6205,-706.4461 101.6205,-694.4461 101.6205,-694.4461 101.6205,-688.4461 107.6205,-682.4461 113.6205,-682.4461 113.6205,-682.4461 143.6205,-682.4461 143.6205,-682.4461 149.6205,-682.4461 155.6205,-688.4461 155.6205,-694.4461 155.6205,-694.4461 155.6205,-706.4461 155.6205,-706.4461 155.6205,-712.4461 149.6205,-718.4461 143.6205,-718.4461\" fill=\"none\" stroke=\"#000000\"/>\n",
       "<text fill=\"#000000\" font-family=\"Times,serif\" font-size=\"14.00\" text-anchor=\"middle\" x=\"128.6205\" y=\"-696.2461\">TTAA</text>\n",
       "</g>\n",
       "<!-- N7&#45;&gt;N14 -->\n",
       "<g class=\"edge\" id=\"edge5\">\n",
       "<title>N7-&gt;N14</title>\n",
       "<path d=\"M57.4221,-636.0091C70.3058,-647.6692 87.1363,-662.9015 101.1988,-675.6285\" fill=\"none\" stroke=\"#000000\"/>\n",
       "<polygon fill=\"#000000\" points=\"98.9208,-678.2874 108.6838,-682.4027 103.618,-673.0974 98.9208,-678.2874\" stroke=\"#000000\"/>\n",
       "</g>\n",
       "<!-- N8&#45;&gt;N6 -->\n",
       "<g class=\"edge\" id=\"edge14\">\n",
       "<title>N8-&gt;N6</title>\n",
       "<path d=\"M285.8008,-33.8761C273.1224,-41.3096 257.8339,-50.2734 244.1593,-58.2909\" fill=\"none\" stroke=\"#000000\"/>\n",
       "<polygon fill=\"#000000\" points=\"242.3063,-55.3201 235.4499,-63.3973 245.8468,-61.3587 242.3063,-55.3201\" stroke=\"#000000\"/>\n",
       "</g>\n",
       "<!-- N9&#45;&gt;N1 -->\n",
       "<g class=\"edge\" id=\"edge12\">\n",
       "<title>N9-&gt;N1</title>\n",
       "<path d=\"M413.0862,-181.5531C413.7205,-161.7636 414.7427,-129.8749 415.4843,-106.7393\" fill=\"none\" stroke=\"#000000\"/>\n",
       "<polygon fill=\"#000000\" points=\"418.9906,-106.5958 415.8128,-96.4887 411.9942,-106.3714 418.9906,-106.5958\" stroke=\"#000000\"/>\n",
       "</g>\n",
       "<!-- N10&#45;&gt;N2 -->\n",
       "<g class=\"edge\" id=\"edge17\">\n",
       "<title>N10-&gt;N2</title>\n",
       "<path d=\"M171.2387,-309.4691C156.1588,-302.9912 137.4397,-294.9501 121.1535,-287.9541\" fill=\"none\" stroke=\"#000000\"/>\n",
       "<polygon fill=\"#000000\" points=\"122.4609,-284.7065 111.8914,-283.9754 119.6981,-291.1382 122.4609,-284.7065\" stroke=\"#000000\"/>\n",
       "</g>\n",
       "<!-- N10&#45;&gt;N3 -->\n",
       "<g class=\"edge\" id=\"edge10\">\n",
       "<title>N10-&gt;N3</title>\n",
       "<path d=\"M228.0123,-311.9786C244.4722,-306.3224 265.4136,-299.1261 283.1962,-293.0154\" fill=\"none\" stroke=\"#000000\"/>\n",
       "<polygon fill=\"#000000\" points=\"284.3822,-296.3088 292.702,-289.7489 282.1073,-289.6888 284.3822,-296.3088\" stroke=\"#000000\"/>\n",
       "</g>\n",
       "<!-- N10&#45;&gt;N5 -->\n",
       "<g class=\"edge\" id=\"edge2\">\n",
       "<title>N10-&gt;N5</title>\n",
       "<path d=\"M175.5636,-339.804C162.3157,-349.733 145.7111,-362.1777 131.3439,-372.9457\" fill=\"none\" stroke=\"#000000\"/>\n",
       "<polygon fill=\"#000000\" points=\"129.0885,-370.2621 123.1855,-379.0602 133.2866,-375.8635 129.0885,-370.2621\" stroke=\"#000000\"/>\n",
       "</g>\n",
       "<!-- N11&#45;&gt;N7 -->\n",
       "<g class=\"edge\" id=\"edge4\">\n",
       "<title>N11-&gt;N7</title>\n",
       "<path d=\"M28.4923,-513.443C30.1505,-533.4817 32.8492,-566.0937 34.7857,-589.4955\" fill=\"none\" stroke=\"#000000\"/>\n",
       "<polygon fill=\"#000000\" points=\"31.3025,-589.844 35.6153,-599.5213 38.2786,-589.2667 31.3025,-589.844\" stroke=\"#000000\"/>\n",
       "</g>\n",
       "<!-- N12 -->\n",
       "<g class=\"node\" id=\"node13\">\n",
       "<title>N12</title>\n",
       "<path d=\"M260.5229,-677.7054C260.5229,-677.7054 229.7778,-677.7054 229.7778,-677.7054 223.7778,-677.7054 217.7778,-671.7054 217.7778,-665.7054 217.7778,-665.7054 217.7778,-653.7054 217.7778,-653.7054 217.7778,-647.7054 223.7778,-641.7054 229.7778,-641.7054 229.7778,-641.7054 260.5229,-641.7054 260.5229,-641.7054 266.5229,-641.7054 272.5229,-647.7054 272.5229,-653.7054 272.5229,-653.7054 272.5229,-665.7054 272.5229,-665.7054 272.5229,-671.7054 266.5229,-677.7054 260.5229,-677.7054\" fill=\"none\" stroke=\"#000000\"/>\n",
       "<text fill=\"#000000\" font-family=\"Times,serif\" font-size=\"14.00\" text-anchor=\"middle\" x=\"245.1503\" y=\"-655.5054\">TAAG</text>\n",
       "</g>\n",
       "<!-- N12&#45;&gt;N0 -->\n",
       "<g class=\"edge\" id=\"edge7\">\n",
       "<title>N12-&gt;N0</title>\n",
       "<path d=\"M254.0174,-641.5222C262.6064,-623.9091 275.7393,-596.9783 285.5742,-576.8103\" fill=\"none\" stroke=\"#000000\"/>\n",
       "<polygon fill=\"#000000\" points=\"288.7303,-578.3234 289.9676,-567.801 282.4385,-575.2551 288.7303,-578.3234\" stroke=\"#000000\"/>\n",
       "</g>\n",
       "<!-- N13&#45;&gt;N10 -->\n",
       "<g class=\"edge\" id=\"edge16\">\n",
       "<title>N13-&gt;N10</title>\n",
       "<path d=\"M184.8712,-215.8734C187.7272,-236.2335 192.4139,-269.6444 195.7572,-293.4782\" fill=\"none\" stroke=\"#000000\"/>\n",
       "<polygon fill=\"#000000\" points=\"192.332,-294.2568 197.1873,-303.6736 199.2642,-293.2843 192.332,-294.2568\" stroke=\"#000000\"/>\n",
       "</g>\n",
       "<!-- N14&#45;&gt;N12 -->\n",
       "<g class=\"edge\" id=\"edge6\">\n",
       "<title>N14-&gt;N12</title>\n",
       "<path d=\"M155.6477,-690.9969C171.16,-685.5736 190.8664,-678.6839 207.837,-672.7507\" fill=\"none\" stroke=\"#000000\"/>\n",
       "<polygon fill=\"#000000\" points=\"209.1759,-675.9904 217.4605,-669.3862 206.8657,-669.3826 209.1759,-675.9904\" stroke=\"#000000\"/>\n",
       "</g>\n",
       "</g>\n",
       "</svg>"
      ],
      "text/plain": [
       "<IPython.core.display.SVG object>"
      ]
     },
     "execution_count": 2,
     "metadata": {},
     "output_type": "execute_result"
    }
   ],
   "source": [
    "# Hidden-Cell\n",
    "\n",
    "from IPython.display import SVG\n",
    "\n",
    "SVG(\"\"\"<svg width=\"336pt\" height=\"540pt\"\n",
    " viewBox=\"0.00 0.00 447.45 720.00\" xmlns=\"http://www.w3.org/2000/svg\" xmlns:xlink=\"http://www.w3.org/1999/xlink\">\n",
    "<g id=\"graph0\" class=\"graph\" transform=\"scale(.9911 .9911) rotate(0) translate(4 722.4461)\">\n",
    "<title>%3</title>\n",
    "<polygon fill=\"#ffffff\" stroke=\"transparent\" points=\"-4,4 -4,-722.4461 447.4515,-722.4461 447.4515,4 -4,4\"/>\n",
    "<!-- N0 -->\n",
    "<g id=\"node1\" class=\"node\">\n",
    "<title>N0</title>\n",
    "<path fill=\"none\" stroke=\"#000000\" d=\"M315.2758,-567.5908C315.2758,-567.5908 282.4198,-567.5908 282.4198,-567.5908 276.4198,-567.5908 270.4198,-561.5908 270.4198,-555.5908 270.4198,-555.5908 270.4198,-543.5908 270.4198,-543.5908 270.4198,-537.5908 276.4198,-531.5908 282.4198,-531.5908 282.4198,-531.5908 315.2758,-531.5908 315.2758,-531.5908 321.2758,-531.5908 327.2758,-537.5908 327.2758,-543.5908 327.2758,-543.5908 327.2758,-555.5908 327.2758,-555.5908 327.2758,-561.5908 321.2758,-567.5908 315.2758,-567.5908\"/>\n",
    "<text text-anchor=\"middle\" x=\"298.8478\" y=\"-545.3908\" font-family=\"Times,serif\" font-size=\"14.00\" fill=\"#000000\">AAGA</text>\n",
    "</g>\n",
    "<!-- N4 -->\n",
    "<g id=\"node5\" class=\"node\">\n",
    "<title>N4</title>\n",
    "<path fill=\"none\" stroke=\"#000000\" d=\"M285.0683,-448.4232C285.0683,-448.4232 252.2123,-448.4232 252.2123,-448.4232 246.2123,-448.4232 240.2123,-442.4232 240.2123,-436.4232 240.2123,-436.4232 240.2123,-424.4232 240.2123,-424.4232 240.2123,-418.4232 246.2123,-412.4232 252.2123,-412.4232 252.2123,-412.4232 285.0683,-412.4232 285.0683,-412.4232 291.0683,-412.4232 297.0683,-418.4232 297.0683,-424.4232 297.0683,-424.4232 297.0683,-436.4232 297.0683,-436.4232 297.0683,-442.4232 291.0683,-448.4232 285.0683,-448.4232\"/>\n",
    "<text text-anchor=\"middle\" x=\"268.6403\" y=\"-426.2232\" font-family=\"Times,serif\" font-size=\"14.00\" fill=\"#000000\">AGAG</text>\n",
    "</g>\n",
    "<!-- N0&#45;&gt;N4 -->\n",
    "<g id=\"edge8\" class=\"edge\">\n",
    "<title>N0&#45;&gt;N4</title>\n",
    "<path fill=\"none\" stroke=\"#000000\" d=\"M294.2599,-531.4918C289.3364,-512.0684 281.453,-480.9689 275.7303,-458.393\"/>\n",
    "<polygon fill=\"#000000\" stroke=\"#000000\" points=\"279.1213,-457.5259 273.2714,-448.6926 272.3359,-459.246 279.1213,-457.5259\"/>\n",
    "</g>\n",
    "<!-- N1 -->\n",
    "<g id=\"node2\" class=\"node\">\n",
    "<title>N1</title>\n",
    "<path fill=\"none\" stroke=\"#000000\" d=\"M431.5028,-96.1599C431.5028,-96.1599 401.2978,-96.1599 401.2978,-96.1599 395.2978,-96.1599 389.2978,-90.1599 389.2978,-84.1599 389.2978,-84.1599 389.2978,-72.1599 389.2978,-72.1599 389.2978,-66.1599 395.2978,-60.1599 401.2978,-60.1599 401.2978,-60.1599 431.5028,-60.1599 431.5028,-60.1599 437.5028,-60.1599 443.5028,-66.1599 443.5028,-72.1599 443.5028,-72.1599 443.5028,-84.1599 443.5028,-84.1599 443.5028,-90.1599 437.5028,-96.1599 431.5028,-96.1599\"/>\n",
    "<text text-anchor=\"middle\" x=\"416.4003\" y=\"-73.9599\" font-family=\"Times,serif\" font-size=\"14.00\" fill=\"#000000\">ACAT</text>\n",
    "</g>\n",
    "<!-- N8 -->\n",
    "<g id=\"node9\" class=\"node\">\n",
    "<title>N8</title>\n",
    "<path fill=\"none\" stroke=\"#000000\" d=\"M327.9815,-36C327.9815,-36 297.7765,-36 297.7765,-36 291.7765,-36 285.7765,-30 285.7765,-24 285.7765,-24 285.7765,-12 285.7765,-12 285.7765,-6 291.7765,0 297.7765,0 297.7765,0 327.9815,0 327.9815,0 333.9815,0 339.9815,-6 339.9815,-12 339.9815,-12 339.9815,-24 339.9815,-24 339.9815,-30 333.9815,-36 327.9815,-36\"/>\n",
    "<text text-anchor=\"middle\" x=\"312.879\" y=\"-13.8\" font-family=\"Times,serif\" font-size=\"14.00\" fill=\"#000000\">CATG</text>\n",
    "</g>\n",
    "<!-- N1&#45;&gt;N8 -->\n",
    "<g id=\"edge13\" class=\"edge\">\n",
    "<title>N1&#45;&gt;N8</title>\n",
    "<path fill=\"none\" stroke=\"#000000\" d=\"M389.2013,-62.3536C376.9357,-55.2256 362.2746,-46.7055 349.0954,-39.0466\"/>\n",
    "<polygon fill=\"#000000\" stroke=\"#000000\" points=\"350.6605,-35.9081 340.2558,-33.9096 347.1433,-41.9603 350.6605,-35.9081\"/>\n",
    "</g>\n",
    "<!-- N2 -->\n",
    "<g id=\"node3\" class=\"node\">\n",
    "<title>N2</title>\n",
    "<path fill=\"none\" stroke=\"#000000\" d=\"M99.7323,-289.6954C99.7323,-289.6954 66.8763,-289.6954 66.8763,-289.6954 60.8763,-289.6954 54.8763,-283.6954 54.8763,-277.6954 54.8763,-277.6954 54.8763,-265.6954 54.8763,-265.6954 54.8763,-259.6954 60.8763,-253.6954 66.8763,-253.6954 66.8763,-253.6954 99.7323,-253.6954 99.7323,-253.6954 105.7323,-253.6954 111.7323,-259.6954 111.7323,-265.6954 111.7323,-265.6954 111.7323,-277.6954 111.7323,-277.6954 111.7323,-283.6954 105.7323,-289.6954 99.7323,-289.6954\"/>\n",
    "<text text-anchor=\"middle\" x=\"83.3043\" y=\"-267.4954\" font-family=\"Times,serif\" font-size=\"14.00\" fill=\"#000000\">AGAA</text>\n",
    "</g>\n",
    "<!-- N3 -->\n",
    "<g id=\"node4\" class=\"node\">\n",
    "<title>N3</title>\n",
    "<path fill=\"none\" stroke=\"#000000\" d=\"M336.0619,-298.2293C336.0619,-298.2293 304.747,-298.2293 304.747,-298.2293 298.747,-298.2293 292.747,-292.2293 292.747,-286.2293 292.747,-286.2293 292.747,-274.2293 292.747,-274.2293 292.747,-268.2293 298.747,-262.2293 304.747,-262.2293 304.747,-262.2293 336.0619,-262.2293 336.0619,-262.2293 342.0619,-262.2293 348.0619,-268.2293 348.0619,-274.2293 348.0619,-274.2293 348.0619,-286.2293 348.0619,-286.2293 348.0619,-292.2293 342.0619,-298.2293 336.0619,-298.2293\"/>\n",
    "<text text-anchor=\"middle\" x=\"320.4045\" y=\"-276.0293\" font-family=\"Times,serif\" font-size=\"14.00\" fill=\"#000000\">AGAC</text>\n",
    "</g>\n",
    "<!-- N9 -->\n",
    "<g id=\"node10\" class=\"node\">\n",
    "<title>N9</title>\n",
    "<path fill=\"none\" stroke=\"#000000\" d=\"M428.1602,-217.7575C428.1602,-217.7575 396.8453,-217.7575 396.8453,-217.7575 390.8453,-217.7575 384.8453,-211.7575 384.8453,-205.7575 384.8453,-205.7575 384.8453,-193.7575 384.8453,-193.7575 384.8453,-187.7575 390.8453,-181.7575 396.8453,-181.7575 396.8453,-181.7575 428.1602,-181.7575 428.1602,-181.7575 434.1602,-181.7575 440.1602,-187.7575 440.1602,-193.7575 440.1602,-193.7575 440.1602,-205.7575 440.1602,-205.7575 440.1602,-211.7575 434.1602,-217.7575 428.1602,-217.7575\"/>\n",
    "<text text-anchor=\"middle\" x=\"412.5027\" y=\"-195.5575\" font-family=\"Times,serif\" font-size=\"14.00\" fill=\"#000000\">GACA</text>\n",
    "</g>\n",
    "<!-- N3&#45;&gt;N9 -->\n",
    "<g id=\"edge11\" class=\"edge\">\n",
    "<title>N3&#45;&gt;N9</title>\n",
    "<path fill=\"none\" stroke=\"#000000\" d=\"M341.303,-261.969C353.9026,-250.96 370.1259,-236.7847 383.9034,-224.7464\"/>\n",
    "<polygon fill=\"#000000\" stroke=\"#000000\" points=\"386.4594,-227.161 391.6869,-217.9455 381.8536,-221.8897 386.4594,-227.161\"/>\n",
    "</g>\n",
    "<!-- N10 -->\n",
    "<g id=\"node11\" class=\"node\">\n",
    "<title>N10</title>\n",
    "<path fill=\"none\" stroke=\"#000000\" d=\"M216.1443,-339.7021C216.1443,-339.7021 183.2882,-339.7021 183.2882,-339.7021 177.2882,-339.7021 171.2882,-333.7021 171.2882,-327.7021 171.2882,-327.7021 171.2882,-315.7021 171.2882,-315.7021 171.2882,-309.7021 177.2882,-303.7021 183.2882,-303.7021 183.2882,-303.7021 216.1443,-303.7021 216.1443,-303.7021 222.1443,-303.7021 228.1443,-309.7021 228.1443,-315.7021 228.1443,-315.7021 228.1443,-327.7021 228.1443,-327.7021 228.1443,-333.7021 222.1443,-339.7021 216.1443,-339.7021\"/>\n",
    "<text text-anchor=\"middle\" x=\"199.7163\" y=\"-317.5021\" font-family=\"Times,serif\" font-size=\"14.00\" fill=\"#000000\">GAGA</text>\n",
    "</g>\n",
    "<!-- N4&#45;&gt;N10 -->\n",
    "<g id=\"edge1\" class=\"edge\">\n",
    "<title>N4&#45;&gt;N10</title>\n",
    "<path fill=\"none\" stroke=\"#000000\" d=\"M286.1571,-412.1715C305.3244,-377.2754 276.4194,-324.4252 238.3637,-315.016\"/>\n",
    "<polygon fill=\"#000000\" stroke=\"#000000\" points=\"238.3554,-311.4816 227.9701,-313.5781 237.396,-318.4156 238.3554,-311.4816\"/>\n",
    "</g>\n",
    "<!-- N4&#45;&gt;N10 -->\n",
    "<g id=\"edge9\" class=\"edge\">\n",
    "<title>N4&#45;&gt;N10</title>\n",
    "<path fill=\"none\" stroke=\"#000000\" d=\"M240.4188,-438.5482C200.8374,-437.4143 166.975,-386.8428 178.3432,-349.1596\"/>\n",
    "<polygon fill=\"#000000\" stroke=\"#000000\" points=\"181.5889,-350.4701 182.2319,-339.8948 175.1344,-347.7608 181.5889,-350.4701\"/>\n",
    "</g>\n",
    "<!-- N5 -->\n",
    "<g id=\"node6\" class=\"node\">\n",
    "<title>N5</title>\n",
    "<path fill=\"none\" stroke=\"#000000\" d=\"M114.253,-415.2763C114.253,-415.2763 83.5079,-415.2763 83.5079,-415.2763 77.5079,-415.2763 71.5079,-409.2763 71.5079,-403.2763 71.5079,-403.2763 71.5079,-391.2763 71.5079,-391.2763 71.5079,-385.2763 77.5079,-379.2763 83.5079,-379.2763 83.5079,-379.2763 114.253,-379.2763 114.253,-379.2763 120.253,-379.2763 126.253,-385.2763 126.253,-391.2763 126.253,-391.2763 126.253,-403.2763 126.253,-403.2763 126.253,-409.2763 120.253,-415.2763 114.253,-415.2763\"/>\n",
    "<text text-anchor=\"middle\" x=\"98.8804\" y=\"-393.0763\" font-family=\"Times,serif\" font-size=\"14.00\" fill=\"#000000\">AGAT</text>\n",
    "</g>\n",
    "<!-- N11 -->\n",
    "<g id=\"node12\" class=\"node\">\n",
    "<title>N11</title>\n",
    "<path fill=\"none\" stroke=\"#000000\" d=\"M42,-513.4089C42,-513.4089 12,-513.4089 12,-513.4089 6,-513.4089 0,-507.4089 0,-501.4089 0,-501.4089 0,-489.4089 0,-489.4089 0,-483.4089 6,-477.4089 12,-477.4089 12,-477.4089 42,-477.4089 42,-477.4089 48,-477.4089 54,-483.4089 54,-489.4089 54,-489.4089 54,-501.4089 54,-501.4089 54,-507.4089 48,-513.4089 42,-513.4089\"/>\n",
    "<text text-anchor=\"middle\" x=\"27\" y=\"-491.2089\" font-family=\"Times,serif\" font-size=\"14.00\" fill=\"#000000\">GATT</text>\n",
    "</g>\n",
    "<!-- N5&#45;&gt;N11 -->\n",
    "<g id=\"edge3\" class=\"edge\">\n",
    "<title>N5&#45;&gt;N11</title>\n",
    "<path fill=\"none\" stroke=\"#000000\" d=\"M85.3603,-415.7343C74.3475,-430.7691 58.6586,-452.1879 46.3207,-469.032\"/>\n",
    "<polygon fill=\"#000000\" stroke=\"#000000\" points=\"43.3023,-467.2297 40.2167,-477.3652 48.9495,-471.3661 43.3023,-467.2297\"/>\n",
    "</g>\n",
    "<!-- N6 -->\n",
    "<g id=\"node7\" class=\"node\">\n",
    "<title>N6</title>\n",
    "<path fill=\"none\" stroke=\"#000000\" d=\"M223.1037,-97.649C223.1037,-97.649 192.3586,-97.649 192.3586,-97.649 186.3586,-97.649 180.3586,-91.649 180.3586,-85.649 180.3586,-85.649 180.3586,-73.649 180.3586,-73.649 180.3586,-67.649 186.3586,-61.649 192.3586,-61.649 192.3586,-61.649 223.1037,-61.649 223.1037,-61.649 229.1037,-61.649 235.1037,-67.649 235.1037,-73.649 235.1037,-73.649 235.1037,-85.649 235.1037,-85.649 235.1037,-91.649 229.1037,-97.649 223.1037,-97.649\"/>\n",
    "<text text-anchor=\"middle\" x=\"207.7311\" y=\"-75.449\" font-family=\"Times,serif\" font-size=\"14.00\" fill=\"#000000\">ATGA</text>\n",
    "</g>\n",
    "<!-- N13 -->\n",
    "<g id=\"node14\" class=\"node\">\n",
    "<title>N13</title>\n",
    "<path fill=\"none\" stroke=\"#000000\" d=\"M197.7178,-215.8666C197.7178,-215.8666 166.9727,-215.8666 166.9727,-215.8666 160.9727,-215.8666 154.9727,-209.8666 154.9727,-203.8666 154.9727,-203.8666 154.9727,-191.8666 154.9727,-191.8666 154.9727,-185.8666 160.9727,-179.8666 166.9727,-179.8666 166.9727,-179.8666 197.7178,-179.8666 197.7178,-179.8666 203.7178,-179.8666 209.7178,-185.8666 209.7178,-191.8666 209.7178,-191.8666 209.7178,-203.8666 209.7178,-203.8666 209.7178,-209.8666 203.7178,-215.8666 197.7178,-215.8666\"/>\n",
    "<text text-anchor=\"middle\" x=\"182.3453\" y=\"-193.6666\" font-family=\"Times,serif\" font-size=\"14.00\" fill=\"#000000\">TGAG</text>\n",
    "</g>\n",
    "<!-- N6&#45;&gt;N13 -->\n",
    "<g id=\"edge15\" class=\"edge\">\n",
    "<title>N6&#45;&gt;N13</title>\n",
    "<path fill=\"none\" stroke=\"#000000\" d=\"M203.8202,-97.8614C199.69,-117.0953 193.1264,-147.661 188.3417,-169.9425\"/>\n",
    "<polygon fill=\"#000000\" stroke=\"#000000\" points=\"184.8966,-169.3155 186.219,-179.8275 191.7406,-170.7852 184.8966,-169.3155\"/>\n",
    "</g>\n",
    "<!-- N7 -->\n",
    "<g id=\"node8\" class=\"node\">\n",
    "<title>N7</title>\n",
    "<path fill=\"none\" stroke=\"#000000\" d=\"M52.1138,-635.6293C52.1138,-635.6293 22.1138,-635.6293 22.1138,-635.6293 16.1138,-635.6293 10.1138,-629.6293 10.1138,-623.6293 10.1138,-623.6293 10.1138,-611.6293 10.1138,-611.6293 10.1138,-605.6293 16.1138,-599.6293 22.1138,-599.6293 22.1138,-599.6293 52.1138,-599.6293 52.1138,-599.6293 58.1138,-599.6293 64.1138,-605.6293 64.1138,-611.6293 64.1138,-611.6293 64.1138,-623.6293 64.1138,-623.6293 64.1138,-629.6293 58.1138,-635.6293 52.1138,-635.6293\"/>\n",
    "<text text-anchor=\"middle\" x=\"37.1138\" y=\"-613.4293\" font-family=\"Times,serif\" font-size=\"14.00\" fill=\"#000000\">ATTA</text>\n",
    "</g>\n",
    "<!-- N14 -->\n",
    "<g id=\"node15\" class=\"node\">\n",
    "<title>N14</title>\n",
    "<path fill=\"none\" stroke=\"#000000\" d=\"M143.6205,-718.4461C143.6205,-718.4461 113.6205,-718.4461 113.6205,-718.4461 107.6205,-718.4461 101.6205,-712.4461 101.6205,-706.4461 101.6205,-706.4461 101.6205,-694.4461 101.6205,-694.4461 101.6205,-688.4461 107.6205,-682.4461 113.6205,-682.4461 113.6205,-682.4461 143.6205,-682.4461 143.6205,-682.4461 149.6205,-682.4461 155.6205,-688.4461 155.6205,-694.4461 155.6205,-694.4461 155.6205,-706.4461 155.6205,-706.4461 155.6205,-712.4461 149.6205,-718.4461 143.6205,-718.4461\"/>\n",
    "<text text-anchor=\"middle\" x=\"128.6205\" y=\"-696.2461\" font-family=\"Times,serif\" font-size=\"14.00\" fill=\"#000000\">TTAA</text>\n",
    "</g>\n",
    "<!-- N7&#45;&gt;N14 -->\n",
    "<g id=\"edge5\" class=\"edge\">\n",
    "<title>N7&#45;&gt;N14</title>\n",
    "<path fill=\"none\" stroke=\"#000000\" d=\"M57.4221,-636.0091C70.3058,-647.6692 87.1363,-662.9015 101.1988,-675.6285\"/>\n",
    "<polygon fill=\"#000000\" stroke=\"#000000\" points=\"98.9208,-678.2874 108.6838,-682.4027 103.618,-673.0974 98.9208,-678.2874\"/>\n",
    "</g>\n",
    "<!-- N8&#45;&gt;N6 -->\n",
    "<g id=\"edge14\" class=\"edge\">\n",
    "<title>N8&#45;&gt;N6</title>\n",
    "<path fill=\"none\" stroke=\"#000000\" d=\"M285.8008,-33.8761C273.1224,-41.3096 257.8339,-50.2734 244.1593,-58.2909\"/>\n",
    "<polygon fill=\"#000000\" stroke=\"#000000\" points=\"242.3063,-55.3201 235.4499,-63.3973 245.8468,-61.3587 242.3063,-55.3201\"/>\n",
    "</g>\n",
    "<!-- N9&#45;&gt;N1 -->\n",
    "<g id=\"edge12\" class=\"edge\">\n",
    "<title>N9&#45;&gt;N1</title>\n",
    "<path fill=\"none\" stroke=\"#000000\" d=\"M413.0862,-181.5531C413.7205,-161.7636 414.7427,-129.8749 415.4843,-106.7393\"/>\n",
    "<polygon fill=\"#000000\" stroke=\"#000000\" points=\"418.9906,-106.5958 415.8128,-96.4887 411.9942,-106.3714 418.9906,-106.5958\"/>\n",
    "</g>\n",
    "<!-- N10&#45;&gt;N2 -->\n",
    "<g id=\"edge17\" class=\"edge\">\n",
    "<title>N10&#45;&gt;N2</title>\n",
    "<path fill=\"none\" stroke=\"#000000\" d=\"M171.2387,-309.4691C156.1588,-302.9912 137.4397,-294.9501 121.1535,-287.9541\"/>\n",
    "<polygon fill=\"#000000\" stroke=\"#000000\" points=\"122.4609,-284.7065 111.8914,-283.9754 119.6981,-291.1382 122.4609,-284.7065\"/>\n",
    "</g>\n",
    "<!-- N10&#45;&gt;N3 -->\n",
    "<g id=\"edge10\" class=\"edge\">\n",
    "<title>N10&#45;&gt;N3</title>\n",
    "<path fill=\"none\" stroke=\"#000000\" d=\"M228.0123,-311.9786C244.4722,-306.3224 265.4136,-299.1261 283.1962,-293.0154\"/>\n",
    "<polygon fill=\"#000000\" stroke=\"#000000\" points=\"284.3822,-296.3088 292.702,-289.7489 282.1073,-289.6888 284.3822,-296.3088\"/>\n",
    "</g>\n",
    "<!-- N10&#45;&gt;N5 -->\n",
    "<g id=\"edge2\" class=\"edge\">\n",
    "<title>N10&#45;&gt;N5</title>\n",
    "<path fill=\"none\" stroke=\"#000000\" d=\"M175.5636,-339.804C162.3157,-349.733 145.7111,-362.1777 131.3439,-372.9457\"/>\n",
    "<polygon fill=\"#000000\" stroke=\"#000000\" points=\"129.0885,-370.2621 123.1855,-379.0602 133.2866,-375.8635 129.0885,-370.2621\"/>\n",
    "</g>\n",
    "<!-- N11&#45;&gt;N7 -->\n",
    "<g id=\"edge4\" class=\"edge\">\n",
    "<title>N11&#45;&gt;N7</title>\n",
    "<path fill=\"none\" stroke=\"#000000\" d=\"M28.4923,-513.443C30.1505,-533.4817 32.8492,-566.0937 34.7857,-589.4955\"/>\n",
    "<polygon fill=\"#000000\" stroke=\"#000000\" points=\"31.3025,-589.844 35.6153,-599.5213 38.2786,-589.2667 31.3025,-589.844\"/>\n",
    "</g>\n",
    "<!-- N12 -->\n",
    "<g id=\"node13\" class=\"node\">\n",
    "<title>N12</title>\n",
    "<path fill=\"none\" stroke=\"#000000\" d=\"M260.5229,-677.7054C260.5229,-677.7054 229.7778,-677.7054 229.7778,-677.7054 223.7778,-677.7054 217.7778,-671.7054 217.7778,-665.7054 217.7778,-665.7054 217.7778,-653.7054 217.7778,-653.7054 217.7778,-647.7054 223.7778,-641.7054 229.7778,-641.7054 229.7778,-641.7054 260.5229,-641.7054 260.5229,-641.7054 266.5229,-641.7054 272.5229,-647.7054 272.5229,-653.7054 272.5229,-653.7054 272.5229,-665.7054 272.5229,-665.7054 272.5229,-671.7054 266.5229,-677.7054 260.5229,-677.7054\"/>\n",
    "<text text-anchor=\"middle\" x=\"245.1503\" y=\"-655.5054\" font-family=\"Times,serif\" font-size=\"14.00\" fill=\"#000000\">TAAG</text>\n",
    "</g>\n",
    "<!-- N12&#45;&gt;N0 -->\n",
    "<g id=\"edge7\" class=\"edge\">\n",
    "<title>N12&#45;&gt;N0</title>\n",
    "<path fill=\"none\" stroke=\"#000000\" d=\"M254.0174,-641.5222C262.6064,-623.9091 275.7393,-596.9783 285.5742,-576.8103\"/>\n",
    "<polygon fill=\"#000000\" stroke=\"#000000\" points=\"288.7303,-578.3234 289.9676,-567.801 282.4385,-575.2551 288.7303,-578.3234\"/>\n",
    "</g>\n",
    "<!-- N13&#45;&gt;N10 -->\n",
    "<g id=\"edge16\" class=\"edge\">\n",
    "<title>N13&#45;&gt;N10</title>\n",
    "<path fill=\"none\" stroke=\"#000000\" d=\"M184.8712,-215.8734C187.7272,-236.2335 192.4139,-269.6444 195.7572,-293.4782\"/>\n",
    "<polygon fill=\"#000000\" stroke=\"#000000\" points=\"192.332,-294.2568 197.1873,-303.6736 199.2642,-293.2843 192.332,-294.2568\"/>\n",
    "</g>\n",
    "<!-- N14&#45;&gt;N12 -->\n",
    "<g id=\"edge6\" class=\"edge\">\n",
    "<title>N14&#45;&gt;N12</title>\n",
    "<path fill=\"none\" stroke=\"#000000\" d=\"M155.6477,-690.9969C171.16,-685.5736 190.8664,-678.6839 207.837,-672.7507\"/>\n",
    "<polygon fill=\"#000000\" stroke=\"#000000\" points=\"209.1759,-675.9904 217.4605,-669.3862 206.8657,-669.3826 209.1759,-675.9904\"/>\n",
    "</g>\n",
    "</g>\n",
    "</svg>\"\"\")"
   ]
  },
  {
   "cell_type": "raw",
   "metadata": {
    "number": 6,
    "section": "answer"
   },
   "source": [
    "GAGAA\n",
    "GAGAC\n",
    "GAGAT\n",
    "AGACA\n",
    "GACAT\n",
    "ACATG\n",
    "CATGA\n",
    "ATGAG\n",
    "TGAGA\n",
    "AGATT\n",
    "GATTA\n",
    "ATTAT\n",
    "TTAAG\n",
    "TAAGA\n",
    "AAGAG\n",
    "AGAGA\n",
    "AGAGA"
   ]
  },
  {
   "cell_type": "markdown",
   "metadata": {
    "number": 7,
    "section": "problem"
   },
   "source": [
    "---\n",
    "**Problem #7.** The following suffix array is for a string with 1 - *$*, 8 - *A*s, 2 - *C*s, 5 - *G*s and 3 - *T*s:\n",
    "\n",
    "                [18, 17, 10, 3, 15, 8, 1, 12, 5, 11, 4, 16, 9, 2, 14, 7, 0, 13, 6]\n",
    "  \n",
    "What is the string?"
   ]
  },
  {
   "cell_type": "code",
   "execution_count": 13,
   "metadata": {},
   "outputs": [
    {
     "name": "stdout",
     "output_type": "stream",
     "text": [
      "[18, 17, 10, 3, 15, 8, 1, 12, 5, 11, 4, 16, 9, 2, 14, 7, 0, 13, 6]\n"
     ]
    }
   ],
   "source": [
    "def suffixArray(text):\n",
    "    return sorted(range(len(text)), cmp=lambda i,j: 1 if text[i:] >= text[j:] else -1)\n",
    "sa = suffixArray(\"tagacatgagacatgaga$\")\n",
    "print sa"
   ]
  },
  {
   "cell_type": "raw",
   "metadata": {
    "number": 7,
    "section": "answer"
   },
   "source": [
    "tagacatgagacatgaga$"
   ]
  },
  {
   "cell_type": "markdown",
   "metadata": {
    "number": 8,
    "section": "problem"
   },
   "source": [
    "---\n",
    "**Problem #8.** What is the BWT sequence of the string whose suffix array is given in problem 7?  If you were not able to find the string in problem 7 describe your approach for finding the BWT."
   ]
  },
  {
   "cell_type": "code",
   "execution_count": 10,
   "metadata": {},
   "outputs": [
    {
     "name": "stdout",
     "output_type": "stream",
     "text": [
      "[18, 17, 10, 3, 15, 8, 1, 12, 5, 11, 4, 16, 9, 2, 14, 7, 0, 13, 6]\n",
      "agggggtccaaaaatt$aa\n",
      "agggggtccaaaaatt$aa\n"
     ]
    }
   ],
   "source": [
    "def BWT(t):\n",
    "    # create a sorted list of all cyclic suffixes of t\n",
    "    rotation = sorted([t[i:]+t[:i] for i in xrange(len(t))])\n",
    "    # concatenate the last symbols from each suffix\n",
    "    return ''.join(r[-1] for r in rotation)\n",
    "def BWTfromSuffixArray(text, suffixarray):\n",
    "    return ''.join(text[i-1] for i in suffixarray)\n",
    "sa = suffixArray(\"tagacatgagacatgaga$\")\n",
    "print sa\n",
    "print BWT(\"tagacatgagacatgaga$\")\n",
    "print BWTfromSuffixArray(\"tagacatgagacatgaga$\", sa)"
   ]
  },
  {
   "cell_type": "raw",
   "metadata": {
    "number": 8,
    "section": "answer"
   },
   "source": [
    "agggggtccaaaaatt$aa"
   ]
  },
  {
   "cell_type": "code",
   "execution_count": 3,
   "metadata": {},
   "outputs": [
    {
     "data": {
      "text/html": [
       "<script>\n",
       "code_show=true; \n",
       "function code_toggle() {\n",
       "    if (code_show){\n",
       "        $(\"div.input:contains('Hidden-Cell')\").hide();\n",
       "    } else {\n",
       "        $(\"div.input:contains('Hidden-Cell')\").show();\n",
       "    }\n",
       "    code_show = !code_show;\n",
       "} \n",
       "$( document ).ready(code_toggle);\n",
       "</script>\n",
       "<form action=\"javascript:code_toggle()\"><input type=\"submit\" value=\"Toggle Hidden Cells\"></form>"
      ],
      "text/plain": [
       "<IPython.core.display.HTML object>"
      ]
     },
     "execution_count": 3,
     "metadata": {},
     "output_type": "execute_result"
    }
   ],
   "source": [
    "from IPython.display import HTML\n",
    "\n",
    "HTML('''<script>\n",
    "code_show=true; \n",
    "function code_toggle() {\n",
    "    if (code_show){\n",
    "        $(\"div.input:contains('Hidden-Cell')\").hide();\n",
    "    } else {\n",
    "        $(\"div.input:contains('Hidden-Cell')\").show();\n",
    "    }\n",
    "    code_show = !code_show;\n",
    "} \n",
    "$( document ).ready(code_toggle);\n",
    "</script>\n",
    "<form action=\"javascript:code_toggle()\"><input type=\"submit\" value=\"Toggle Hidden Cells\"></form>''')"
   ]
  },
  {
   "cell_type": "code",
   "execution_count": null,
   "metadata": {
    "collapsed": true
   },
   "outputs": [],
   "source": []
  },
  {
   "cell_type": "markdown",
   "metadata": {
    "section": "submit"
   },
   "source": [
    "Click [here to submit](http://csbio.unc.edu/mcmillan/index.py?run=Exam.upload) turn in your Examination"
   ]
  }
 ],
 "metadata": {
  "anaconda-cloud": {},
  "kernelspec": {
   "display_name": "Python 3",
   "language": "python",
   "name": "python3"
  },
  "language_info": {
   "codemirror_mode": {
    "name": "ipython",
    "version": 3
   },
   "file_extension": ".py",
   "mimetype": "text/x-python",
   "name": "python",
   "nbconvert_exporter": "python",
   "pygments_lexer": "ipython3",
   "version": "3.6.7"
  }
 },
 "nbformat": 4,
 "nbformat_minor": 1
}
