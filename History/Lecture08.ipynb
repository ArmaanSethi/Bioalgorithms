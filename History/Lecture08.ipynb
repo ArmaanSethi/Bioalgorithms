{
 "cells": [
  {
   "cell_type": "code",
   "execution_count": 3,
   "metadata": {
    "nbpresent": {
     "id": "18460b0b-63c1-4193-86fc-5bfbbc514381"
    },
    "slideshow": {
     "slide_type": "skip"
    }
   },
   "outputs": [
    {
     "data": {
      "application/javascript": [
       "var width = window.innerWidth || document.documentElement.clientWidth || document.body.clientWidth;\n",
       "var height = window.innerHeight || document.documentElement.clientHeight || document.body.clientHeight;\n",
       "\n",
       "IPython.notebook.kernel.execute(\"windowSize = (\" + width + \",\" + height + \")\");\n",
       "// suitable for small screens\n",
       "nbpresent.mode.tree.set(\n",
       "    [\"app\", \"theme-manager\", \"themes\", \"my-theme\"], \n",
       "    {\n",
       "    palette: {\n",
       "        \"blue\": { id: \"blue\", rgb: [0, 153, 204] },\n",
       "        \"black\": { id: \"black\", rgb: [0, 0, 0] },\n",
       "        \"white\": { id: \"white\", rgb: [255, 255, 255] },\n",
       "        \"red\": { id: \"red\", rgb: [240, 32, 32] },\n",
       "        \"gray\": { id: \"gray\", rgb: [128, 128, 128] },\n",
       "    },\n",
       "    backgrounds: {\n",
       "        \"my-background\": {\n",
       "            \"background-color\": \"white\"\n",
       "        }\n",
       "    },\n",
       "    \"text-base\": {\n",
       "        \"font-family\": \"Georgia\",\n",
       "        \"font-size\": 2.5\n",
       "    },\n",
       "    rules: {\n",
       "        h1: {\n",
       "            \"font-size\": 5.5,\n",
       "            color: \"blue\",\n",
       "            \"text-align\": \"center\"\n",
       "        },\n",
       "        h2: {\n",
       "            \"font-size\": 3,\n",
       "            color: \"blue\",\n",
       "            \"text-align\": \"center\"\n",
       "        },\n",
       "        h3: {\n",
       "            \"font-size\": 3,\n",
       "            color: \"black\",\n",
       "        },\n",
       "        \"ul li\": {\n",
       "            \"font-size\": 2.5,\n",
       "            color: \"black\"\n",
       "        },\n",
       "        \"ul li ul li\": {\n",
       "            \"font-size\": 2.0,\n",
       "            color: \"black\"\n",
       "        },\n",
       "        \"code\": {\n",
       "            \"font-size\": 1.6,\n",
       "        },\n",
       "        \"pre\": {\n",
       "            \"font-size\": 1.6,\n",
       "        }\n",
       "    }\n",
       "});"
      ],
      "text/plain": [
       "<IPython.core.display.Javascript object>"
      ]
     },
     "metadata": {},
     "output_type": "display_data"
    }
   ],
   "source": [
    "%%javascript\n",
    "var width = window.innerWidth || document.documentElement.clientWidth || document.body.clientWidth;\n",
    "var height = window.innerHeight || document.documentElement.clientHeight || document.body.clientHeight;\n",
    "\n",
    "IPython.notebook.kernel.execute(\"windowSize = (\" + width + \",\" + height + \")\");\n",
    "// suitable for small screens\n",
    "nbpresent.mode.tree.set(\n",
    "    [\"app\", \"theme-manager\", \"themes\", \"my-theme\"], \n",
    "    {\n",
    "    palette: {\n",
    "        \"blue\": { id: \"blue\", rgb: [0, 153, 204] },\n",
    "        \"black\": { id: \"black\", rgb: [0, 0, 0] },\n",
    "        \"white\": { id: \"white\", rgb: [255, 255, 255] },\n",
    "        \"red\": { id: \"red\", rgb: [240, 32, 32] },\n",
    "        \"gray\": { id: \"gray\", rgb: [128, 128, 128] },\n",
    "    },\n",
    "    backgrounds: {\n",
    "        \"my-background\": {\n",
    "            \"background-color\": \"white\"\n",
    "        }\n",
    "    },\n",
    "    \"text-base\": {\n",
    "        \"font-family\": \"Georgia\",\n",
    "        \"font-size\": 2.5\n",
    "    },\n",
    "    rules: {\n",
    "        h1: {\n",
    "            \"font-size\": 5.5,\n",
    "            color: \"blue\",\n",
    "            \"text-align\": \"center\"\n",
    "        },\n",
    "        h2: {\n",
    "            \"font-size\": 3,\n",
    "            color: \"blue\",\n",
    "            \"text-align\": \"center\"\n",
    "        },\n",
    "        h3: {\n",
    "            \"font-size\": 3,\n",
    "            color: \"black\",\n",
    "        },\n",
    "        \"ul li\": {\n",
    "            \"font-size\": 2.5,\n",
    "            color: \"black\"\n",
    "        },\n",
    "        \"ul li ul li\": {\n",
    "            \"font-size\": 2.0,\n",
    "            color: \"black\"\n",
    "        },\n",
    "        \"code\": {\n",
    "            \"font-size\": 1.6,\n",
    "        },\n",
    "        \"pre\": {\n",
    "            \"font-size\": 1.6,\n",
    "        }\n",
    "    }\n",
    "});"
   ]
  },
  {
   "cell_type": "markdown",
   "metadata": {
    "nbpresent": {
     "id": "29a11d3a-bc54-4fb5-95fe-df799349cf05"
    },
    "slideshow": {
     "slide_type": "slide"
    }
   },
   "source": [
    "\n",
    "# Scaling Up Peptide Sequencing\n",
    "\n",
    "<img src=\"http://csbio.unc.edu/mcmillan/Comp555S18/Media/Scaling.png\" width=\"500px\" class=\"centerImg\">\n",
    "\n",
    "* More Errors\n",
    "* More Residues\n",
    "\n",
    "<p style=\"text-align: right; clear: right; margin-right: 200px;\">1</p>"
   ]
  },
  {
   "cell_type": "markdown",
   "metadata": {
    "nbpresent": {
     "id": "e161f9a3-d7c0-454d-ba4d-b2f71983475b"
    },
    "slideshow": {
     "slide_type": "slide"
    }
   },
   "source": [
    "# From Last Time"
   ]
  },
  {
   "cell_type": "code",
   "execution_count": 2,
   "metadata": {
    "collapsed": true,
    "nbpresent": {
     "id": "f433307e-1a8b-4aab-96dc-e9b01d3f50dd"
    },
    "slideshow": {
     "slide_type": "fragment"
    }
   },
   "outputs": [],
   "source": [
    "AminoAcid = {\n",
    "    'A': 'Alanine', 'C': 'Cysteine', 'D': 'Aspartic acid', 'E': 'Glutamic acid',\n",
    "    'F': 'Phenylalanine', 'G': 'Glycine', 'H': 'Histidine', 'I': 'Isoleucine',\n",
    "    'K': 'Lysine', 'L': 'Leucine', 'M': 'Methionine', 'N': 'Asparagine',\n",
    "    'P': 'Proline', 'Q': 'Glutamine', 'R': 'Arginine', 'S': 'Serine',\n",
    "    'T': 'Theronine', 'V': 'Valine', 'W': 'Tryptophan', 'Y': 'Tyrosine',\n",
    "    '*': 'STOP'\n",
    "}\n",
    "\n",
    "AminoAbbrv = {\n",
    "    'A': 'Ala', 'C': 'Cys', 'D': 'Asp', 'E': 'Glu',\n",
    "    'F': 'Phe', 'G': 'Gly', 'H': 'His', 'I': 'Ile',\n",
    "    'K': 'Lys', 'L': 'Leu', 'M': 'Met', 'N': 'Asn',\n",
    "    'P': 'Pro', 'Q': 'Gln', 'R': 'Arg', 'S': 'Ser',\n",
    "    'T': 'Thr', 'V': 'Val', 'W': 'Trp', 'Y': 'Tyr',\n",
    "    '*': 'STP'    \n",
    "}\n",
    "\n",
    "# Now it's time to use this dictionary!\n",
    "Daltons = { \n",
    "    'A':  71, 'C': 103, 'D': 115, 'E': 129,\n",
    "    'F': 147, 'G':  57, 'H': 137, 'I': 113,\n",
    "    'K': 128, 'L': 113, 'M': 131, 'N': 114,\n",
    "    'P':  97, 'Q': 128, 'R': 156, 'S':  87,\n",
    "    'T': 101, 'V':  99, 'W': 186, 'Y': 163 \n",
    "}\n",
    "\n",
    "def TheoreticalSpectrum(peptide):\n",
    "    # Generate every possible fragment of a peptide\n",
    "    spectrum = set()\n",
    "    for fragLength in xrange(1,len(peptide)+1):\n",
    "        for start in xrange(0,len(peptide)-fragLength+1):\n",
    "            seq = peptide[start:start+fragLength]\n",
    "            spectrum.add(sum([Daltons[res] for res in seq]))\n",
    "    return sorted(spectrum)"
   ]
  },
  {
   "cell_type": "markdown",
   "metadata": {
    "nbpresent": {
     "id": "5569f311-8f42-499d-a39b-2a9b9855cff7"
    },
    "slideshow": {
     "slide_type": "fragment"
    }
   },
   "source": [
    "<p style=\"text-align: right; clear: right; margin-right: 200px;\">2</p>"
   ]
  },
  {
   "cell_type": "markdown",
   "metadata": {
    "nbpresent": {
     "id": "6948d2ac-1c22-4a44-84bb-b21d8de6b8c9"
    },
    "slideshow": {
     "slide_type": "slide"
    }
   },
   "source": [
    "# Recall our golf tourney approach"
   ]
  },
  {
   "cell_type": "code",
   "execution_count": 14,
   "metadata": {
    "collapsed": true,
    "nbpresent": {
     "id": "5ad7c215-f764-48dc-b1b9-36245b994b22"
    },
    "slideshow": {
     "slide_type": "fragment"
    }
   },
   "outputs": [],
   "source": [
    "import itertools\n",
    "\n",
    "def LeaderboardFindPeptide(noisySpectrum, cutThreshold=0.05):\n",
    "    # Golf Tournament Heuristic\n",
    "    spectrum = set(noisySpectrum)\n",
    "    target = max(noisySpectrum)\n",
    "    players = [''.join(peptide) for peptide in itertools.product(Daltons.keys(), repeat=2)]\n",
    "    round = 1\n",
    "    currentLeader = [0.0, '']\n",
    "    while True:\n",
    "        print \"%8d Players in round %d [%5.4f]\" % (len(players), round, currentLeader[0])\n",
    "        leaderboard = []\n",
    "        for prefix in players:\n",
    "            testSpectrum = set(TheoreticalSpectrum(prefix))\n",
    "            totalWeight = max(testSpectrum)\n",
    "            score = len(spectrum & testSpectrum)/float(len(spectrum | testSpectrum))\n",
    "            if (score > currentLeader[0]):\n",
    "                currentLeader = [score, prefix]\n",
    "            elif (score == currentLeader[0]):\n",
    "                currentLeader += [prefix]\n",
    "            if (totalWeight < target):\n",
    "                leaderboard.append((score, prefix))\n",
    "        remaining = len(leaderboard)\n",
    "        if (remaining == 0):\n",
    "            print \"Done, no sequences can be extended\"\n",
    "            break\n",
    "        leaderboard.sort(reverse=True)\n",
    "        # Prune the larger of the top 5% or the top 5 players\n",
    "        cut = leaderboard[max(min(5,remaining-1),int(remaining*cutThreshold))][0]\n",
    "        players = [p+r for s, p in leaderboard if s >= cut for r in Daltons.iterkeys()]\n",
    "        round += 1\n",
    "    return currentLeader"
   ]
  },
  {
   "cell_type": "markdown",
   "metadata": {
    "nbpresent": {
     "id": "ac62e9d4-b3ee-4d47-9824-429d0e7c7b3c"
    },
    "slideshow": {
     "slide_type": "fragment"
    }
   },
   "source": [
    "<p style=\"text-align: right; clear: right; margin-right: 200px;\">3</p>"
   ]
  },
  {
   "cell_type": "markdown",
   "metadata": {
    "nbpresent": {
     "id": "285bbc93-410c-436d-a967-012c9c315555"
    },
    "slideshow": {
     "slide_type": "slide"
    }
   },
   "source": [
    "# Let's try a Noisier Spectrum"
   ]
  },
  {
   "cell_type": "code",
   "execution_count": 15,
   "metadata": {
    "nbpresent": {
     "id": "3f3d766e-b0ef-4fe7-878a-e7eb184113aa"
    },
    "slideshow": {
     "slide_type": "fragment"
    }
   },
   "outputs": [
    {
     "name": "stdout",
     "output_type": "stream",
     "text": [
      "VKLFPWFNQY\n",
      "51 [97, 99, 113, 114, 128, 147, 163, 186, 227, 241, 242, 244, 260, 261, 283, 291, 333, 340, 357, 388, 389, 405, 430, 447, 485, 487, 543, 544, 552, 575, 577, 584, 671, 672, 690, 691, 738, 770, 804, 818, 819, 835, 917, 932, 982, 1031, 1060, 1095, 1159, 1223, 1322]\n",
      "\n",
      "Missing Masses = [1159, 114, 691, 186, 819, 357, 291, 543, 1223, 147, 671, 97, 388, 552, 447, 770, 672, 261, 738, 487, 577, 485, 932, 1031, 690, 389, 340, 575, 113, 260]\n",
      "\n",
      "False Masses =  [356, 160, 572, 879, 244]\n",
      "25 [99, 128, 160, 163, 227, 241, 242, 244, 283, 333, 356, 405, 430, 544, 572, 584, 804, 818, 835, 879, 917, 982, 1060, 1095, 1322]\n"
     ]
    }
   ],
   "source": [
    "# generate a synthetic experimental spectrum with 60% Error\n",
    "import random\n",
    "random.seed(1961)\n",
    "\n",
    "TyrocidineB1 = \"VKLFPWFNQY\"\n",
    "print TyrocidineB1\n",
    "spectrum = TheoreticalSpectrum(TyrocidineB1)\n",
    "print len(spectrum), spectrum\n",
    "\n",
    "# Pick around ~60% at random to remove\n",
    "missingMass = random.sample(spectrum[:-1], 30)\n",
    "print \"\\nMissing Masses = %s\\n\" % missingMass\n",
    "\n",
    "# Add back another ~10% of false, but actual, peptide masses\n",
    "falseMass = []\n",
    "for i in xrange(5):\n",
    "    fragment = ''.join(random.sample(Daltons.keys(), random.randint(2,len(TyrocidineB1)-2)))\n",
    "    weight = sum([Daltons[residue] for residue in fragment])\n",
    "    falseMass.append(weight)\n",
    "print \"False Masses = \", falseMass\n",
    "\n",
    "experimentalSpectrum = sorted(set([mass for mass in spectrum if mass not in missingMass] + falseMass))\n",
    "\n",
    "print len(experimentalSpectrum), experimentalSpectrum"
   ]
  },
  {
   "cell_type": "markdown",
   "metadata": {
    "nbpresent": {
     "id": "a23bdb41-ea41-488d-976c-53e1b4a24beb"
    },
    "slideshow": {
     "slide_type": "fragment"
    }
   },
   "source": [
    "<p style=\"text-align: right; clear: right; margin-right: 200px;\">4</p>"
   ]
  },
  {
   "cell_type": "markdown",
   "metadata": {
    "nbpresent": {
     "id": "77442d04-e031-404e-a77e-ef0d740df597"
    },
    "slideshow": {
     "slide_type": "slide"
    }
   },
   "source": [
    "# Find peptides via the leaderboard approach"
   ]
  },
  {
   "cell_type": "code",
   "execution_count": 16,
   "metadata": {
    "nbpresent": {
     "id": "b47f231d-dcad-4016-9b47-a0273e730911"
    },
    "slideshow": {
     "slide_type": "fragment"
    }
   },
   "outputs": [
    {
     "name": "stdout",
     "output_type": "stream",
     "text": [
      "     400 Players in round 1 [0.0000]\n",
      "     440 Players in round 2 [0.1200]\n",
      "     600 Players in round 3 [0.1481]\n",
      "    1480 Players in round 4 [0.2069]\n",
      "    1840 Players in round 5 [0.2121]\n",
      "    2320 Players in round 6 [0.2222]\n",
      "    5200 Players in round 7 [0.2619]\n",
      "    5360 Players in round 8 [0.2826]\n",
      "    8640 Players in round 9 [0.2826]\n",
      "    9040 Players in round 10 [0.3220]\n",
      "    8320 Players in round 11 [0.3220]\n",
      "     480 Players in round 12 [0.3220]\n",
      "Done, no sequences can be extended\n",
      "CPU times: user 3.91 s, sys: 56 ms, total: 3.97 s\n",
      "Wall time: 3.9 s\n",
      "[0.3220338983050847, 'VQLDEWFNQY', 'VQLDEWFNKY', 'VQIDEWFNQY', 'VQIDEWFNKY', 'VKLDEWFNQY', 'VKLDEWFNKY', 'VKIDEWFNQY', 'VKIDEWFNKY']\n",
      "8 Candidate residues with 0.322033898305 matches\n",
      "VKLFPWFNQY False\n"
     ]
    }
   ],
   "source": [
    "spectrum = TheoreticalSpectrum(TyrocidineB1)\n",
    "experimentalSpectrum = [mass for mass in spectrum if mass not in missingMass] + falseMass\n",
    "%time winners = LeaderboardFindPeptide(experimentalSpectrum)\n",
    "print winners\n",
    "print len(winners) - 1, \"Candidate residues with\", winners[0], 'matches'\n",
    "print TyrocidineB1, TyrocidineB1 in winners"
   ]
  },
  {
   "cell_type": "markdown",
   "metadata": {
    "nbpresent": {
     "id": "c943f1c7-eb7a-42fc-9d6b-dbf776865d0d"
    },
    "slideshow": {
     "slide_type": "fragment"
    }
   },
   "source": [
    "<p style=\"text-align: right; clear: right; margin-right: 200px;\">5</p>"
   ]
  },
  {
   "cell_type": "markdown",
   "metadata": {
    "nbpresent": {
     "id": "7e70a9d2-d355-46fa-bcae-c19ad2bb73e0"
    },
    "slideshow": {
     "slide_type": "slide"
    }
   },
   "source": [
    "# Let's try the example in the book\n",
    "\n",
    "The example on page 66 of the book gives a different answer using our method, because the book does not *normalize*\n",
    "it's similarity metric. While 'VKLFPADFNQY' has one more match, 'VKLFPWFNQY' it also adds 10 unmatched peaks. "
   ]
  },
  {
   "cell_type": "code",
   "execution_count": 17,
   "metadata": {
    "nbpresent": {
     "id": "9ed871aa-9c35-485d-86a7-2c91190e9254"
    },
    "slideshow": {
     "slide_type": "fragment"
    }
   },
   "outputs": [
    {
     "name": "stdout",
     "output_type": "stream",
     "text": [
      "     400 Players in round 1 [0.0000]\n",
      "     760 Players in round 2 [0.0517]\n",
      "    2680 Players in round 3 [0.1034]\n",
      "    3800 Players in round 4 [0.1724]\n",
      "    6000 Players in round 5 [0.2586]\n",
      "    7320 Players in round 6 [0.3390]\n",
      "    9160 Players in round 7 [0.4237]\n",
      "   11280 Players in round 8 [0.5082]\n",
      "   11440 Players in round 9 [0.5968]\n",
      "    7840 Players in round 10 [0.7302]\n",
      "     800 Players in round 11 [0.7302]\n",
      "Done, no sequences can be extended\n",
      "CPU times: user 4.42 s, sys: 100 ms, total: 4.52 s\n",
      "Wall time: 4.4 s\n",
      "[0.7301587301587301, 'YQNFWPFLQV', 'YQNFWPFLKV', 'YQNFWPFIQV', 'YQNFWPFIKV', 'YKNFWPFLQV', 'YKNFWPFLKV', 'YKNFWPFIQV', 'YKNFWPFIKV', 'VQLFPWFNQY', 'VQLFPWFNKY', 'VQIFPWFNQY', 'VQIFPWFNKY', 'VKLFPWFNQY', 'VKLFPWFNKY', 'VKIFPWFNQY', 'VKIFPWFNKY']\n",
      "16 Candidate residues with 0.730158730159 matches\n",
      "VKLFPWFNQY True\n",
      "\n",
      "VKLFPADFNQY Matches = 47, Union = 73\n",
      "VKLFPWFNQY Matches = 46, Union = 63\n"
     ]
    }
   ],
   "source": [
    "missingBook = [357,430,543,671,747,778,1031,1061,1225]\n",
    "falseBook = [115,256,309,330,347,385,435,599,608,653,717,827]\n",
    "spectrum = TheoreticalSpectrum(TyrocidineB1)\n",
    "experimentalSpectrum = sorted(set([mass for mass in spectrum if mass not in missingBook] + falseBook))\n",
    "%time winners = LeaderboardFindPeptide(experimentalSpectrum)\n",
    "print winners\n",
    "print len(winners) - 1, \"Candidate residues with\", winners[0], 'matches'\n",
    "print TyrocidineB1, TyrocidineB1 in winners\n",
    "print\n",
    "x = set(TheoreticalSpectrum('VKLFPADFNQY'))\n",
    "y = set(TheoreticalSpectrum('VKLFPWFNQY'))\n",
    "z = set(experimentalSpectrum)\n",
    "print \"%s Matches = %d, Union = %d\" % ('VKLFPADFNQY', len(x & z), len(x | z))\n",
    "print \"%s Matches = %d, Union = %d\" % ('VKLFPWFNQY', len(y & z), len(y | z))"
   ]
  },
  {
   "cell_type": "markdown",
   "metadata": {
    "nbpresent": {
     "id": "d07eaeb8-50ae-420a-84be-520703b20684"
    },
    "slideshow": {
     "slide_type": "fragment"
    }
   },
   "source": [
    "<p style=\"text-align: right; clear: right; margin-right: 200px;\">6</p>"
   ]
  },
  {
   "cell_type": "markdown",
   "metadata": {
    "nbpresent": {
     "id": "4ac180f2-ee47-44a6-be83-39792ad37a93"
    },
    "slideshow": {
     "slide_type": "slide"
    }
   },
   "source": [
    "# A New Idea\n",
    "\n",
    "* Maybe we are ***still*** not using our spectrum to its fullest extent\n",
    "* Is there some information about *missing masses* that we can extract?\n",
    "\n",
    "<img src=\"http://csbio.unc.edu/mcmillan/Comp555S18/Media/SBConfusedAtCompter.png\" width=\"450px\" class=\"centerImg\">\n",
    "\n",
    "<p style=\"text-align: right; clear: right; margin-right: 200px;\">7</p>"
   ]
  },
  {
   "cell_type": "markdown",
   "metadata": {
    "nbpresent": {
     "id": "921585e2-12c8-469f-b99f-794b73cd1569"
    },
    "slideshow": {
     "slide_type": "slide"
    }
   },
   "source": [
    "# Information in the Mass Differences\n",
    "\n",
    "* Recall the *theoretical spectrum* of \"PLAY\" is [71, 97, 113, 163, 184, 210, 234, 281, 347, 444]\n",
    "* Suppose we remove masses 71 and 163, can we get them back?\n",
    "* Let's generate a table of all pair-wise differences between the observed peaks\n",
    "* Notice that *interesting* numbers, (***71***, *97*, *113*, 137, ***163***, *234*) are repeated in the table\n",
    "\n",
    "|       |  97| 113| 184| 210| 234| 281| 347| 444|\n",
    "|:-----:|:--:|:--:|:--:|:--:|:--:|:--:|:--:|:--:|\n",
    "|** 97**|    |  16|  87| <span style=\"color: #c0c;\">113</span>| <span style=\"color: #0c0;\">137</span>| 184| 250| 347|\n",
    "|**113**|    |    |  <span style=\"color: #00f;\">71</span>|  <span style=\"color: #c00;\">97</span>| 121| 168| <span style=\"color: #0ac;\">234</span>| 331|\n",
    "|**184**|    |    |    |  26|  50|  <span style=\"color: #c00;\">97</span>| <span style=\"color: #a80;\">163</span>| 260|\n",
    "|**210**|    |    |    |    |  24|  <span style=\"color: #00f;\">71</span>| <span style=\"color: #0c0;\">137</span>| <span style=\"color: #0ac;\">234</span>|\n",
    "|**234**|    |    |    |    |    |  47| <span style=\"color: #c0c;\">113</span>| 210|\n",
    "|**281**|    |    |    |    |    |    |  66| <span style=\"color: #a80;\">163</span>|\n",
    "|**347**|    |    |    |    |    |    |    |  <span style=\"color: #c00;\">97</span>|\n",
    "\n",
    "* Why does this work?\n",
    "* This table of differences is called a *Spectral Convolution*\n",
    "\n",
    "<p style=\"text-align: right; clear: right; margin-right: 200px;\">8</p>"
   ]
  },
  {
   "cell_type": "markdown",
   "metadata": {
    "nbpresent": {
     "id": "60e5d559-24a9-4c70-bd82-db37951eb444"
    },
    "slideshow": {
     "slide_type": "slide"
    }
   },
   "source": [
    "# Spectral Convolution\n",
    "\n",
    "* Spectral Convolution gives us an approach for recovering some missing masses\n",
    "* Given a noisy experimental spectrum\n",
    "  1. Compute its spectral convolution\n",
    "  2. Add frequent masses above some threshold to the spectrum\n",
    "  3. Infer the peptide sequence"
   ]
  },
  {
   "cell_type": "code",
   "execution_count": 11,
   "metadata": {
    "nbpresent": {
     "id": "52ac6b35-a45b-4342-96a7-5a4696188ef9"
    },
    "slideshow": {
     "slide_type": "fragment"
    }
   },
   "outputs": [
    {
     "name": "stdout",
     "output_type": "stream",
     "text": [
      "[97, 113, 114, 147, 186, 260, 261, 291, 340, 357, 388, 389, 447, 485, 487, 543, 552, 575, 577, 671, 672, 690, 691, 738, 770, 819, 932, 1031, 1159, 1223]\n",
      "61 appears 2 times\t64 appears 2 times\t78 appears 2 times\t81 appears 2 times\t\n",
      "82 appears 2 times\t113 appears 3 times*\t114 appears 3 times*\t142 appears 2 times\t\n",
      "143 appears 2 times\t147 appears 2 times*\t164 appears 2 times\t178 appears 3 times\t\n",
      "188 appears 2 times\t216 appears 2 times\t228 appears 2 times\t234 appears 2 times\t\n",
      "251 appears 2 times\t260 appears 2 times*\t277 appears 2 times\t291 appears 2 times*\t\n",
      "302 appears 2 times\t331 appears 2 times\t340 appears 2 times*\t345 appears 2 times\t\n",
      "485 appears 2 times*\t487 appears 2 times*\t523 appears 2 times\t552 appears 2 times*\t\n",
      "577 appears 3 times*\t591 appears 2 times\t655 appears 2 times\t675 appears 2 times\t\n",
      "676 appears 2 times\t690 appears 3 times*\t719 appears 2 times\t738 appears 2 times*\t\n",
      "819 appears 2 times*\t854 appears 2 times\t932 appears 2 times*\t\n"
     ]
    }
   ],
   "source": [
    "def SpectralConvolution(spectrum):\n",
    "    delta = {}\n",
    "    for i in xrange(len(spectrum)-1):\n",
    "        for j in xrange(i+1,len(spectrum)):\n",
    "            diff = abs(spectrum[j] - spectrum[i])\n",
    "            delta[diff] = delta.get(diff, 0) + 1\n",
    "    return delta\n",
    "\n",
    "spectrum = TheoreticalSpectrum(TyrocidineB1)\n",
    "print sorted(missingMass)\n",
    "experimentalSpectrum = sorted(set([mass for mass in spectrum if mass not in missingMass] + falseMass))\n",
    "specConv = SpectralConvolution(sorted(experimentalSpectrum))\n",
    "N = 0\n",
    "for delta, count in sorted(specConv.iteritems()):\n",
    "    if (count >= 2) and (delta not in experimentalSpectrum) and (delta > min(Daltons.values())):\n",
    "        print delta, \"appears\", count, \"times*\\t\" if delta in missingMass else \"times\\t\",\n",
    "        experimentalSpectrum.append(delta)\n",
    "        N += 1\n",
    "        if (N % 4 == 0):\n",
    "            print\n",
    "print"
   ]
  },
  {
   "cell_type": "markdown",
   "metadata": {
    "nbpresent": {
     "id": "9dfa4a71-e934-4327-94d4-abca8d103398"
    },
    "slideshow": {
     "slide_type": "fragment"
    }
   },
   "source": [
    "<p style=\"text-align: right; clear: right; margin-right: 200px;\">9</p>"
   ]
  },
  {
   "cell_type": "markdown",
   "metadata": {
    "nbpresent": {
     "id": "4b31f668-657f-47fe-8658-bdbaa6b4a643"
    },
    "slideshow": {
     "slide_type": "slide"
    }
   },
   "source": [
    "# Noisey spectrum enhanced by spectral convolution"
   ]
  },
  {
   "cell_type": "code",
   "execution_count": 18,
   "metadata": {
    "nbpresent": {
     "id": "9e64c016-d89f-42fb-bb61-e36c726dfcdc"
    },
    "slideshow": {
     "slide_type": "fragment"
    }
   },
   "outputs": [
    {
     "name": "stdout",
     "output_type": "stream",
     "text": [
      "     400 Players in round 1 [0.0000]\n",
      "     760 Players in round 2 [0.0517]\n",
      "    2680 Players in round 3 [0.1034]\n",
      "    3800 Players in round 4 [0.1724]\n",
      "    6000 Players in round 5 [0.2586]\n",
      "    7320 Players in round 6 [0.3390]\n",
      "    9160 Players in round 7 [0.4237]\n",
      "   11280 Players in round 8 [0.5082]\n",
      "   11440 Players in round 9 [0.5968]\n",
      "    7840 Players in round 10 [0.7302]\n",
      "     800 Players in round 11 [0.7302]\n",
      "Done, no sequences can be extended\n",
      "[0.7301587301587301, 'YQNFWPFLQV', 'YQNFWPFLKV', 'YQNFWPFIQV', 'YQNFWPFIKV', 'YKNFWPFLQV', 'YKNFWPFLKV', 'YKNFWPFIQV', 'YKNFWPFIKV', 'VQLFPWFNQY', 'VQLFPWFNKY', 'VQIFPWFNQY', 'VQIFPWFNKY', 'VKLFPWFNQY', 'VKLFPWFNKY', 'VKIFPWFNQY', 'VKIFPWFNKY']\n",
      "16 Candidate residues with 0.730158730159 matches\n",
      "VKLFPWFNQY True\n"
     ]
    }
   ],
   "source": [
    "winners = LeaderboardFindPeptide(experimentalSpectrum)\n",
    "print winners\n",
    "print len(winners) - 1, \"Candidate residues with\", winners[0], 'matches'\n",
    "print TyrocidineB1, TyrocidineB1 in winners"
   ]
  },
  {
   "cell_type": "markdown",
   "metadata": {
    "nbpresent": {
     "id": "dedd52ed-7e80-4a28-a324-2247d11e4aa5"
    },
    "slideshow": {
     "slide_type": "fragment"
    }
   },
   "source": [
    "<p style=\"text-align: right; clear: right; margin-right: 200px;\">10</p>"
   ]
  },
  {
   "cell_type": "markdown",
   "metadata": {
    "nbpresent": {
     "id": "b1d1a26c-271f-4141-8443-7ffba57f1fbf"
    },
    "slideshow": {
     "slide_type": "slide"
    }
   },
   "source": [
    "# Some sanity checks"
   ]
  },
  {
   "cell_type": "code",
   "execution_count": 34,
   "metadata": {
    "nbpresent": {
     "id": "03c462de-777f-4bc5-822e-5301e1986a62"
    },
    "slideshow": {
     "slide_type": "fragment"
    }
   },
   "outputs": [
    {
     "name": "stdout",
     "output_type": "stream",
     "text": [
      "VKLFPAYVNQY Matches = 38, Union = 86\n",
      "VKLFPWFNQY Matches = 35, Union = 80\n",
      "\n",
      "[71, 99, 163, 234, 262, 333]\n",
      "\n",
      "[99, 128, 160, 163, 227, 241, 242, 244, 283, 333, 356, 405, 430, 544, 572, 584, 804, 818, 835, 879, 917, 982, 1060, 1095, 1322, 61, 64, 78, 81, 82, 113, 114, 142, 143, 147, 164, 178, 188, 216, 228, 234, 251, 260, 277, 291, 302, 331, 340, 345, 485, 487, 523, 552, 577, 591, 655, 675, 676, 690, 719, 738, 819, 854, 932]\n",
      "\n",
      "[97, 99, 113, 114, 128, 147, 163, 186, 227, 241, 242, 244, 260, 261, 283, 291, 333, 340, 357, 388, 389, 405, 430, 447, 485, 487, 543, 544, 552, 575, 577, 584, 671, 672, 690, 691, 738, 770, 804, 818, 819, 835, 917, 932, 982, 1031, 1060, 1095, 1159, 1223, 1322]\n"
     ]
    }
   ],
   "source": [
    "x = set(TheoreticalSpectrum('VKLFPAYVNQY'))\n",
    "y = set(TheoreticalSpectrum('VKLFPWFNQY'))\n",
    "z = set(experimentalSpectrum)\n",
    "print \"%s Matches = %d, Union = %d\" % ('VKLFPAYVNQY', len(x & z), len(x | z))\n",
    "print \"%s Matches = %d, Union = %d\" % ('VKLFPWFNQY', len(y & z), len(y | z))\n",
    "print\n",
    "print TheoreticalSpectrum('AYV')\n",
    "print\n",
    "print experimentalSpectrum\n",
    "print\n",
    "print TheoreticalSpectrum(TyrocidineB1)\n"
   ]
  },
  {
   "cell_type": "markdown",
   "metadata": {
    "nbpresent": {
     "id": "77dd8a95-8263-4486-93e6-86ed6318b3e8"
    },
    "slideshow": {
     "slide_type": "fragment"
    }
   },
   "source": [
    "<p style=\"text-align: right; clear: right; margin-right: 200px;\">11</p>"
   ]
  },
  {
   "cell_type": "markdown",
   "metadata": {
    "nbpresent": {
     "id": "ebe05fcd-587f-449a-80f1-7443cad2700f"
    },
    "slideshow": {
     "slide_type": "slide"
    }
   },
   "source": [
    "# A More *Realistic* Example\n",
    "\n",
    "For long sequences the underlying exponential growth becomes more evident."
   ]
  },
  {
   "cell_type": "code",
   "execution_count": 19,
   "metadata": {
    "nbpresent": {
     "id": "0667311c-8bb8-4614-896a-5293152d15d7"
    },
    "scrolled": false,
    "slideshow": {
     "slide_type": "fragment"
    }
   },
   "outputs": [
    {
     "name": "stdout",
     "output_type": "stream",
     "text": [
      "3407\n",
      "3307\n",
      "     324 Players in round 1 [0.0000]\n",
      "    3060 Players in round 2 [0.0009]\n",
      "   16344 Players in round 3 [0.0018]\n",
      "   55548 Players in round 4 [0.0030]\n",
      "  110304 Players in round 5 [0.0045]\n",
      "  111492 Players in round 6 [0.0064]\n",
      "   54756 Players in round 7 [0.0085]\n",
      "   12528 Players in round 8 [0.0109]\n",
      "    8694 Players in round 9 [0.0136]\n",
      "    4176 Players in round 10 [0.0166]\n",
      "     972 Players in round 11 [0.0193]\n",
      "     234 Players in round 12 [0.0224]\n",
      "     180 Players in round 13 [0.0257]\n",
      "     180 Players in round 14 [0.0290]\n",
      "     108 Players in round 15 [0.0320]\n",
      "     108 Players in round 16 [0.0356]\n",
      "     108 Players in round 17 [0.0394]\n",
      "     126 Players in round 18 [0.0430]\n",
      "     108 Players in round 19 [0.0472]\n",
      "     108 Players in round 20 [0.0514]\n",
      "     126 Players in round 21 [0.0561]\n",
      "     108 Players in round 22 [0.0602]\n",
      "     126 Players in round 23 [0.0648]\n",
      "     108 Players in round 24 [0.0696]\n",
      "     108 Players in round 25 [0.0743]\n",
      "     108 Players in round 26 [0.0789]\n",
      "     108 Players in round 27 [0.0833]\n",
      "     108 Players in round 28 [0.0877]\n",
      "     108 Players in round 29 [0.0925]\n",
      "     108 Players in round 30 [0.0973]\n",
      "     108 Players in round 31 [0.1026]\n",
      "     126 Players in round 32 [0.1071]\n",
      "     108 Players in round 33 [0.1122]\n",
      "     108 Players in round 34 [0.1177]\n",
      "     108 Players in round 35 [0.1230]\n",
      "     126 Players in round 36 [0.1291]\n",
      "     108 Players in round 37 [0.1342]\n",
      "     108 Players in round 38 [0.1389]\n",
      "     108 Players in round 39 [0.1443]\n",
      "     108 Players in round 40 [0.1498]\n",
      "     108 Players in round 41 [0.1548]\n",
      "     108 Players in round 42 [0.1607]\n",
      "     108 Players in round 43 [0.1658]\n",
      "     108 Players in round 44 [0.1712]\n",
      "     108 Players in round 45 [0.1762]\n",
      "     108 Players in round 46 [0.1821]\n",
      "     108 Players in round 47 [0.1870]\n",
      "     108 Players in round 48 [0.1928]\n",
      "     108 Players in round 49 [0.1982]\n",
      "     108 Players in round 50 [0.2031]\n",
      "     108 Players in round 51 [0.2089]\n",
      "     108 Players in round 52 [0.2143]\n",
      "     108 Players in round 53 [0.2189]\n",
      "     108 Players in round 54 [0.2234]\n",
      "     126 Players in round 55 [0.2286]\n",
      "     108 Players in round 56 [0.2333]\n",
      "     108 Players in round 57 [0.2382]\n",
      "     108 Players in round 58 [0.2434]\n",
      "     108 Players in round 59 [0.2478]\n",
      "     126 Players in round 60 [0.2527]\n",
      "     108 Players in round 61 [0.2578]\n",
      "     108 Players in round 62 [0.2643]\n",
      "     108 Players in round 63 [0.2693]\n",
      "     108 Players in round 64 [0.2738]\n",
      "     108 Players in round 65 [0.2791]\n",
      "     108 Players in round 66 [0.2847]\n",
      "     108 Players in round 67 [0.2878]\n",
      "     108 Players in round 68 [0.2926]\n",
      "     108 Players in round 69 [0.2976]\n",
      "     108 Players in round 70 [0.3023]\n",
      "     108 Players in round 71 [0.3068]\n",
      "     108 Players in round 72 [0.3113]\n",
      "     108 Players in round 73 [0.3150]\n",
      "     108 Players in round 74 [0.3175]\n",
      "     108 Players in round 75 [0.3206]\n",
      "     108 Players in round 76 [0.3227]\n",
      "     108 Players in round 77 [0.3273]\n",
      "     108 Players in round 78 [0.3303]\n",
      "     108 Players in round 79 [0.3343]\n",
      "     108 Players in round 80 [0.3367]\n",
      "     108 Players in round 81 [0.3388]\n",
      "     108 Players in round 82 [0.3405]\n",
      "     108 Players in round 83 [0.3443]\n",
      "     108 Players in round 84 [0.3489]\n",
      "     108 Players in round 85 [0.3518]\n",
      "     108 Players in round 86 [0.3543]\n",
      "     108 Players in round 87 [0.3582]\n",
      "     108 Players in round 88 [0.3617]\n",
      "     108 Players in round 89 [0.3637]\n",
      "     108 Players in round 90 [0.3655]\n",
      "     108 Players in round 91 [0.3665]\n",
      "     108 Players in round 92 [0.3676]\n",
      "     108 Players in round 93 [0.3685]\n",
      "     108 Players in round 94 [0.3699]\n",
      "      18 Players in round 95 [0.3699]\n",
      "Done, no sequences can be extended\n",
      "CPU times: user 2min, sys: 341 ms, total: 2min\n",
      "Wall time: 2min\n",
      "[0.3699289000418235, 'DNQHFEAWLHSWVERMYCQMGRSHAAFYYFVCPGAQVSPLVTCNHSELYYWNVQTRWPQSMAFCLPLMRWEPEGWHDGSALPEPGLSCVVGMFS']\n",
      "1 Candidate residues with 0.369928900042 matches\n",
      "MALWMRLLPLLALLALWGPDPAAAFVNQHLCGSHLVEALYLVCGERGFFYTPKTRREAEDLQGSLQPLALEGSLQKRGIVEQCCTSICSLYQLENYCN False\n"
     ]
    }
   ],
   "source": [
    "Insulin = \"MALWMRLLPLLALLALWGPDPAAAFVNQHLCGSHLVEALYLVCGERGFFYTPKTRREAEDLQGSLQPLALEGSLQKRGIVEQCCTSICSLYQLENYCN\"\n",
    "spectrum = TheoreticalSpectrum(Insulin)\n",
    "print len(spectrum)\n",
    "missingMass = random.sample(spectrum[:-1], 100)\n",
    "experimentalSpectrum = sorted([mass for mass in spectrum if mass not in missingMass])\n",
    "print len(experimentalSpectrum)\n",
    "\n",
    "# See slide for the following *hack*\n",
    "del Daltons['I']\n",
    "del Daltons['K']\n",
    "\n",
    "%time winners = LeaderboardFindPeptide(experimentalSpectrum, cutThreshold=0.01)\n",
    "print winners\n",
    "print len(winners) - 1, \"Candidate residues with\", winners[0], 'matches'\n",
    "print Insulin, Insulin in winners\n",
    "\n",
    "# See slide for the following *hack*\n",
    "Daltons['I'] = Daltons['L']\n",
    "Daltons['K'] = Daltons['Q']"
   ]
  },
  {
   "cell_type": "markdown",
   "metadata": {
    "nbpresent": {
     "id": "55ea1cf4-08cd-4f1a-a8ea-3bb78855df91"
    },
    "slideshow": {
     "slide_type": "fragment"
    }
   },
   "source": [
    "Some of the reasons that things blow up:\n",
    "  1. The search space got large fast\n",
    "  2. There must be a *LOT* of ties\n",
    "  3. Algorithm tends to keep all (N-k+1) subpeptides as k approaches the sequence's size (k is related to our *round*)\n",
    "  3. The I/L and K/Q ambiguities lead to exponential number of ties, hence the *hack*\n",
    "  4. Reversed sequences are doubling our leaderboard size\n",
    "\n",
    "There are bandaids to fix problems 3 and 4, but the problem remains\n",
    "\n",
    "<p style=\"text-align: right; clear: right; margin-right: 200px;\">12</p>"
   ]
  },
  {
   "cell_type": "markdown",
   "metadata": {
    "collapsed": true,
    "nbpresent": {
     "id": "82feb5ce-b746-4cf6-bd25-30f9d8c405b9"
    },
    "slideshow": {
     "slide_type": "slide"
    }
   },
   "source": [
    "# How are peptide sequences identified?\n",
    "\n",
    "<img src=\"http://csbio.unc.edu/mcmillan/Comp555S18/Media/PeptideDatabase.png\" width=\"900px\" class=\"centerImg\">\n",
    "\n",
    "<p style=\"text-align: right; clear: right; margin-right: 200px;\">13</p>"
   ]
  },
  {
   "cell_type": "markdown",
   "metadata": {
    "nbpresent": {
     "id": "59a6c201-c4a5-40ea-b2e9-39cc1da18dc0"
    },
    "slideshow": {
     "slide_type": "slide"
    }
   },
   "source": [
    "# Peptide Identification Problem\n",
    "\n",
    "**Goal:** Find a peptide from the database with maximal match between an experimental and theoretical spectrum.\n",
    "\n",
    "**Input:**\n",
    " * S: experimental spectrum\n",
    " * database of peptides\n",
    " * Δ: set of possible ion types\n",
    " * m: parent mass\n",
    "\n",
    "**Output:**\n",
    "  * A peptide of mass m from the database whose theoretical spectrum matches the experimental S spectrum the best\n",
    "\n",
    "<p style=\"text-align: right; clear: right; margin-right: 200px;\">14</p>"
   ]
  },
  {
   "cell_type": "markdown",
   "metadata": {
    "nbpresent": {
     "id": "a87314b6-3ff5-4d98-bb6e-ec51d7d7dbce"
    },
    "slideshow": {
     "slide_type": "slide"
    }
   },
   "source": [
    "# Mass Spec Database Searches\n",
    "\n",
    "How do you get a database?\n",
    "   1. Compute theoretical spectrums for all peptides from length *N* to *M*\n",
    "   2. More commonly, store theoretical spectrums for known peptide sequences\n",
    "\n",
    "* Database searches are very effective in identfying *known* or *closely related* proteins.\n",
    "\n",
    "* Experimental spectrums are compared with spectra of database peptides to find the best fit (ex. SEQUEST, Yates et al., 1995)\n",
    "\n",
    "* But reliable algorithms for identification of new proteins is a more difficult problem.\n",
    "\n",
    "**Essence of the Database Search**\n",
    "\n",
    "* We need a notion of *spectral similarity* that correlates well with the sequence similarity.\n",
    "\n",
    "* If peptides are a few mutations/modifications apart, the spectral similarity between their spectra should be high.\n",
    "\n",
    "* **Simplest measure:** *Shared Peak Counts (SPC)*\n",
    "  - Very similar to the scoring function used in our *De novo* approach.\n",
    "  \n",
    "<p style=\"text-align: right; clear: right; margin-right: 200px;\">15</p>"
   ]
  },
  {
   "cell_type": "markdown",
   "metadata": {
    "nbpresent": {
     "id": "7f5c4166-a530-47af-96fb-262929f133cc"
    },
    "slideshow": {
     "slide_type": "slide"
    }
   },
   "source": [
    "# SPC Diminishes Quickly\n"
   ]
  },
  {
   "cell_type": "code",
   "execution_count": 21,
   "metadata": {
    "nbpresent": {
     "id": "28a05e39-2f27-4343-a812-4f4aec44d83b"
    },
    "slideshow": {
     "slide_type": "fragment"
    }
   },
   "outputs": [
    {
     "name": "stdout",
     "output_type": "stream",
     "text": [
      "[97, 101, 113, 114, 129, 156, 227, 230, 242, 253, 257, 343, 354, 356, 386, 457, 483, 499, 596, 613, 710]\n",
      "[97, 101, 114, 129, 156, 163, 230, 253, 257, 277, 292, 354, 386, 393, 406, 483, 507, 549, 646, 663, 760]\n",
      "[97, 101, 114, 129, 163, 186, 230, 277, 283, 287, 292, 384, 393, 406, 416, 507, 513, 579, 676, 693, 790]\n",
      "set([97, 354, 483, 101, 230, 257, 129, 386, 114, 156, 253])\n",
      "set([97, 114, 101, 230, 129])\n"
     ]
    }
   ],
   "source": [
    "print TheoreticalSpectrum('PRTEIN')\n",
    "print TheoreticalSpectrum('PRTEYN')\n",
    "print TheoreticalSpectrum('PWTEYN')\n",
    "\n",
    "print set(TheoreticalSpectrum('PRTEIN')) & set(TheoreticalSpectrum('PRTEYN'))\n",
    "print set(TheoreticalSpectrum('PRTEIN')) & set(TheoreticalSpectrum('PWTEYN'))"
   ]
  },
  {
   "cell_type": "code",
   "execution_count": 3,
   "metadata": {
    "nbpresent": {
     "id": "f181315e-ac68-4570-8ad7-c6d3c5189182"
    },
    "slideshow": {
     "slide_type": "skip"
    }
   },
   "outputs": [
    {
     "data": {
      "image/png": "[encoded data removed]",
      "text/plain": [
       "<matplotlib.figure.Figure at 0x108980710>"
      ]
     },
     "metadata": {},
     "output_type": "display_data"
    }
   ],
   "source": [
    "import numpy\n",
    "import matplotlib\n",
    "import matplotlib.pyplot as plot\n",
    "%matplotlib inline\n",
    "import random\n",
    "\n",
    "prtein = TheoreticalSpectrum('SMART')\n",
    "prteyn = TheoreticalSpectrum('TRAYS')\n",
    "pwteyn = TheoreticalSpectrum('PWTEYN')\n",
    "\n",
    "\n",
    "height = {}\n",
    "for peak in prtein:\n",
    "    if peak not in height:\n",
    "        height[peak] = random.randint(100,800)\n",
    "for peak in prteyn:\n",
    "    if peak not in height:\n",
    "        height[peak] = random.randint(100,800)\n",
    "for peak in pwteyn:\n",
    "    if peak not in height:\n",
    "        height[peak] = random.randint(100,800)\n",
    "\n",
    "plot.figure(1, figsize = (10,4))\n",
    "matplotlib.rc('ytick', labelsize=8)\n",
    "matplotlib.rc('xtick', labelsize=8)\n",
    "plot.subplot(3, 1, 1)\n",
    "for peak in prtein:\n",
    "    plot.plot([peak, peak], [0, height[peak]], 'b')\n",
    "plot.text(550, 800, \"PRTEIN\")\n",
    "plot.xlim((0,800))\n",
    "plot.ylim((0,1000))\n",
    "\n",
    "S = 0\n",
    "plot.subplot(3, 1, 2)\n",
    "for peak in prteyn:\n",
    "    if (peak in prtein):\n",
    "        plot.axvline(x = peak, color = 'r', ls = ':')\n",
    "        S += 1\n",
    "    plot.plot([peak, peak], [0, height[peak]], 'b')\n",
    "plot.text(550, 800, \"PRTEYN (%d shared peaks)\" % S)\n",
    "plot.xlim((0,800))\n",
    "plot.ylim((0,1000))\n",
    "\n",
    "S = 0\n",
    "plot.subplot(3, 1, 3)\n",
    "for peak in pwteyn:\n",
    "    if (peak in prtein):\n",
    "        plot.axvline(x = peak, color = 'g', ls = ':')\n",
    "        S += 1\n",
    "    plot.plot([peak, peak], [0, height[peak]], 'b')\n",
    "plot.text(550, 800, \"PWTEYN (%d shared peaks)\" % S)\n",
    "plot.xlim((0,800))\n",
    "result = plot.ylim((0,1000))\n"
   ]
  },
  {
   "cell_type": "markdown",
   "metadata": {
    "nbpresent": {
     "id": "322e05ea-d448-4156-991e-b5e53c0f1e59"
    },
    "slideshow": {
     "slide_type": "fragment"
    }
   },
   "source": [
    "<p style=\"text-align: right; clear: right; margin-right: 200px;\">16</p>"
   ]
  },
  {
   "cell_type": "markdown",
   "metadata": {
    "collapsed": true,
    "nbpresent": {
     "id": "e2f510b4-d280-4d1f-9d82-09a652c6e888"
    },
    "slideshow": {
     "slide_type": "slide"
    }
   },
   "source": [
    "# Spectral Convolution to the Rescue!\n",
    "\n",
    "Difference matrix of spectrums. The elements with multiplicity > 2 are shown in colored boxes. The black outlined boxes enclose elements with multiplicity = 2. The SPC only accounts for the zero entries shown as red circles."
   ]
  },
  {
   "cell_type": "code",
   "execution_count": 22,
   "metadata": {
    "collapsed": true,
    "nbpresent": {
     "id": "17f536cb-b5b7-4522-8bda-26bde28356ae"
    },
    "slideshow": {
     "slide_type": "skip"
    }
   },
   "outputs": [],
   "source": [
    "import numpy\n",
    "import matplotlib\n",
    "import matplotlib.pyplot as plot\n",
    "%matplotlib inline\n",
    "import random\n",
    "random.seed(1961)\n",
    "\n",
    "def SpectralConvolution(peptide1, peptide2):\n",
    "    spectrum1 = TheoreticalSpectrum(peptide1)\n",
    "    spectrum2 = TheoreticalSpectrum(peptide2)\n",
    "    N = len(spectrum1)\n",
    "    M = len(spectrum2)\n",
    "    repeat = {}\n",
    "\n",
    "    matplotlib.rc('ytick', labelsize=6)\n",
    "    matplotlib.rc('xtick', labelsize=6)\n",
    "    fig = plot.figure(figsize=(6,6))\n",
    "    ax = plot.gca()\n",
    "    plot.axis([0, N+1, 0, M+1])\n",
    "    for i in xrange(len(spectrum1)):\n",
    "        for j in xrange(len(spectrum2)):\n",
    "            delta = spectrum2[j]-spectrum1[i]\n",
    "            if (delta == 0):\n",
    "                circle = plot.Circle((i+1, j+1), 0.4, color='r')\n",
    "                ax.add_artist(circle)\n",
    "            else:\n",
    "                repeat[delta] = repeat.get(delta,[]) + [(i+1,j+1)]\n",
    "            plot.text(i+1,j+1,str(delta), fontsize=6, ha=\"center\", va=\"center\")\n",
    "\n",
    "    for delta, coordList in repeat.iteritems():\n",
    "        R = len(coordList)\n",
    "        if (R < 2):\n",
    "            continue\n",
    "        if (R == 2):\n",
    "            cval = 'k'\n",
    "            for x, y in coordList:\n",
    "                box = plot.Rectangle((x-0.4,y-0.4), 0.8, 0.8, color=cval, fill=False)\n",
    "                ax.add_artist(box)\n",
    "        else:\n",
    "            cval = '#%02x%02x%02x' % (random.randint(64,255),random.randint(64,255),random.randint(64,255))\n",
    "            for x, y in coordList:\n",
    "                box = plot.Rectangle((x-0.4,y-0.4), 0.8, 0.8, color=cval)\n",
    "                ax.add_artist(box)\n",
    "\n",
    "    plot.xticks(range(1,N+1), [str(peak) for peak in spectrum1])\n",
    "    plot.yticks(range(1,M+1), [str(peak) for peak in spectrum2])\n",
    "    plot.xlabel(peptide1)\n",
    "    plot.ylabel(peptide2)"
   ]
  },
  {
   "cell_type": "code",
   "execution_count": 23,
   "metadata": {
    "nbpresent": {
     "id": "96a9ac9b-fcd7-42eb-b44b-19fcb81df36c"
    },
    "slideshow": {
     "slide_type": "fragment"
    }
   },
   "outputs": [
    {
     "data": {
      "image/png": "[encoded data removed]",
      "text/plain": [
       "<matplotlib.figure.Figure at 0x7192802d7bd0>"
      ]
     },
     "metadata": {},
     "output_type": "display_data"
    }
   ],
   "source": [
    "\n",
    "result = SpectralConvolution('PRTEIN', 'PRTEYN')"
   ]
  },
  {
   "cell_type": "markdown",
   "metadata": {
    "nbpresent": {
     "id": "8ed24be5-f962-4f8b-b113-8a29969f0541"
    },
    "slideshow": {
     "slide_type": "fragment"
    }
   },
   "source": [
    "<p style=\"text-align: right; clear: right; margin-right: 200px;\">17</p>"
   ]
  },
  {
   "cell_type": "markdown",
   "metadata": {
    "nbpresent": {
     "id": "8bba2d76-792e-4707-a731-85c91de98bbd"
    },
    "slideshow": {
     "slide_type": "slide"
    }
   },
   "source": [
    "# Spectral Convolution to the Rescue!\n",
    "\n",
    "Difference matrix of spectrums. The elements with multiplicity > 2 are shown in colored boxes. The black outlined boxes enclose elements with multiplicity = 2. The SPC only accounts for the zero entries shown as red circles."
   ]
  },
  {
   "cell_type": "code",
   "execution_count": 17,
   "metadata": {
    "nbpresent": {
     "id": "b5288055-20f8-45f5-b595-00f6a1c4f7d0"
    },
    "slideshow": {
     "slide_type": "fragment"
    }
   },
   "outputs": [
    {
     "data": {
      "image/png": "[encoded data removed]",
      "text/plain": [
       "<matplotlib.figure.Figure at 0x7f3a85088f10>"
      ]
     },
     "metadata": {},
     "output_type": "display_data"
    }
   ],
   "source": [
    "result = SpectralConvolution('PRTEIN', 'PWTEYN')"
   ]
  },
  {
   "cell_type": "markdown",
   "metadata": {
    "nbpresent": {
     "id": "a320b60a-107b-473a-8735-e1586d18cd3a"
    },
    "slideshow": {
     "slide_type": "fragment"
    }
   },
   "source": [
    "<p style=\"text-align: right; clear: right; margin-right: 200px;\">18</p>"
   ]
  },
  {
   "cell_type": "markdown",
   "metadata": {
    "nbpresent": {
     "id": "f74b15bd-01af-4abd-8ae5-0e0a76cd3438"
    }
   },
   "source": [
    "# Summary\n",
    "\n",
    "### How do protein structures actually get resolved?\n",
    "\n",
    "Database searches for protein Mass Specs is generally where most techniques begin. This works paricularly well when it agrees with an already known or very similar protein. However, one can also look for tale-tale fingerprints of peaks from known sub-peptides. For example it is fairly easy to build a library of all 20<sup>6</sup> = 64 million peptides of length 6 and look for eaches 15 associated peaks. Once several hexapeptides ar found you can assemble from there. There are also larger subpeptides 10 to 20 in length that appear frequently.\n",
    "\n",
    "Another common method is to, rather than brake a protein into every possible subpeptide, use an enzyme to cleave it between particular residue pairs. For example, Trypsin will cleave peptide chains immediately after the amino acids lysine and arginine, except when either is followed by proline. This leads to several large fragments, whose mass can be accurately measured using a Mass Spec. This technique is called Peptide Mass Fingerprinting (PMF).\n",
    "\n",
    "<p style=\"text-align: right; clear: right; margin-right: 200px;\">19</p>"
   ]
  },
  {
   "cell_type": "code",
   "execution_count": null,
   "metadata": {
    "collapsed": true
   },
   "outputs": [],
   "source": []
  }
 ],
 "metadata": {
  "anaconda-cloud": {},
  "kernelspec": {
   "display_name": "Python 2",
   "language": "python",
   "name": "python2"
  },
  "language_info": {
   "codemirror_mode": {
    "name": "ipython",
    "version": 2
   },
   "file_extension": ".py",
   "mimetype": "text/x-python",
   "name": "python",
   "nbconvert_exporter": "python",
   "pygments_lexer": "ipython2",
   "version": "2.7.14"
  },
  "nbpresent": {
   "slides": {
    "0a0c21cc-d1b1-42f5-95ac-d436a8854690": {
     "id": "0a0c21cc-d1b1-42f5-95ac-d436a8854690",
     "prev": "615e3412-16cf-4336-8bd0-f0dac8397686",
     "regions": {
      "31ef080f-2017-42d5-a407-1df506205028": {
       "attrs": {
        "height": 0.10757641836339236,
        "width": 0.96,
        "x": 0.02,
        "y": 0.8724235816366076
       },
       "content": {
        "cell": "77dd8a95-8263-4486-93e6-86ed6318b3e8",
        "part": "whole"
       },
       "id": "31ef080f-2017-42d5-a407-1df506205028"
      },
      "86265279-3258-443f-b17d-d633260e70b7": {
       "attrs": {
        "height": 0.22005314701147694,
        "width": 0.96,
        "x": 0.02,
        "y": 0.02
       },
       "content": {
        "cell": "b1d1a26c-271f-4141-8443-7ffba57f1fbf",
        "part": "whole"
       },
       "id": "86265279-3258-443f-b17d-d633260e70b7"
      },
      "a4a284ae-e625-45f3-b883-bfc8b5a871f0": {
       "attrs": {
        "height": 0.641710239394843,
        "width": 0.96,
        "x": 0.02,
        "y": 0.23374980786505686
       },
       "content": {
        "cell": "03c462de-777f-4bc5-822e-5301e1986a62",
        "part": "whole"
       },
       "id": "a4a284ae-e625-45f3-b883-bfc8b5a871f0"
      }
     }
    },
    "0fcee63e-b585-4e45-9398-3a99ebe8933f": {
     "id": "0fcee63e-b585-4e45-9398-3a99ebe8933f",
     "prev": "36382bed-1256-41c2-b08c-28a85ee2ba65",
     "regions": {
      "be3be42f-1ae7-4239-afe6-a96b891a7cc1": {
       "attrs": {
        "height": 0.75441736348063,
        "width": 0.96,
        "x": 0.02,
        "y": 0.1618786028183713
       },
       "content": {
        "cell": "b47f231d-dcad-4016-9b47-a0273e730911",
        "part": "whole"
       },
       "id": "be3be42f-1ae7-4239-afe6-a96b891a7cc1"
      },
      "e4553e4f-05cc-4270-ab96-87364ee9856f": {
       "attrs": {
        "height": 0.06674049932429066,
        "width": 0.96,
        "x": 0.02,
        "y": 0.9132595006757094
       },
       "content": {
        "cell": "c943f1c7-eb7a-42fc-9d6b-dbf776865d0d",
        "part": "whole"
       },
       "id": "e4553e4f-05cc-4270-ab96-87364ee9856f"
      },
      "f66493cc-2ac6-4692-ac42-5175c5155b8d": {
       "attrs": {
        "height": 0.14001475815697106,
        "width": 0.96,
        "x": 0.02,
        "y": 0.02
       },
       "content": {
        "cell": "77442d04-e031-404e-a77e-ef0d740df597",
        "part": "whole"
       },
       "id": "f66493cc-2ac6-4692-ac42-5175c5155b8d"
      }
     }
    },
    "21ad7bc0-a053-41d1-bc47-b3b229c86691": {
     "id": "21ad7bc0-a053-41d1-bc47-b3b229c86691",
     "prev": "445e6821-d822-4a2d-b263-ef0f4b7c75ff",
     "regions": {
      "7b5bd32b-7a43-4462-955e-3c1601f2cba0": {
       "attrs": {
        "height": 0.7576842370037583,
        "width": 0.96,
        "x": 0.02,
        "y": 0.1520779822489869
       },
       "content": {
        "cell": "5ad7c215-f764-48dc-b1b9-36245b994b22",
        "part": "whole"
       },
       "id": "7b5bd32b-7a43-4462-955e-3c1601f2cba0"
      },
      "da3df058-ca0d-4733-a40e-d1525689e44f": {
       "attrs": {
        "height": 0.13511444787227886,
        "width": 0.96,
        "x": 0.02,
        "y": 0.02
       },
       "content": {
        "cell": "6948d2ac-1c22-4a44-84bb-b21d8de6b8c9",
        "part": "whole"
       },
       "id": "da3df058-ca0d-4733-a40e-d1525689e44f"
      },
      "dc722600-5f84-49c8-8ac7-e2df1081a1d8": {
       "attrs": {
        "height": 0.06674049932429066,
        "width": 0.96,
        "x": 0.02,
        "y": 0.9132595006757094
       },
       "content": {
        "cell": "ac62e9d4-b3ee-4d47-9824-429d0e7c7b3c",
        "part": "whole"
       },
       "id": "dc722600-5f84-49c8-8ac7-e2df1081a1d8"
      }
     }
    },
    "2d755a2f-18ea-4dc7-b3ff-67efb3dcaf53": {
     "id": "2d755a2f-18ea-4dc7-b3ff-67efb3dcaf53",
     "prev": null,
     "regions": {
      "a5a9a38e-0a61-4c9e-b954-8d512d3f5158": {
       "attrs": {
        "height": 0.96,
        "width": 0.96,
        "x": 0.02,
        "y": 0.02
       },
       "content": {
        "cell": "29a11d3a-bc54-4fb5-95fe-df799349cf05",
        "part": "whole"
       },
       "id": "a5a9a38e-0a61-4c9e-b954-8d512d3f5158"
      }
     }
    },
    "2dd3ebb2-8cc6-4403-8104-c17e6e16b24f": {
     "id": "2dd3ebb2-8cc6-4403-8104-c17e6e16b24f",
     "prev": "8a323da5-5149-4f88-8dfa-ddeb9f119ddc",
     "regions": {
      "87d2c682-d5a6-45cb-8007-8bb179f3ff0e": {
       "attrs": {
        "height": 0.96,
        "width": 0.96,
        "x": 0.02,
        "y": 0.02
       },
       "content": {
        "cell": "82feb5ce-b746-4cf6-bd25-30f9d8c405b9",
        "part": "whole"
       },
       "id": "87d2c682-d5a6-45cb-8007-8bb179f3ff0e"
      }
     }
    },
    "309eb0d4-9117-41eb-aefa-8690696a6361": {
     "id": "309eb0d4-9117-41eb-aefa-8690696a6361",
     "prev": "0fcee63e-b585-4e45-9398-3a99ebe8933f",
     "regions": {
      "62d9b418-358b-4a39-8c27-fc6692e13aed": {
       "attrs": {
        "height": 0.2592556292890146,
        "width": 0.96,
        "x": 0.02,
        "y": 0.02
       },
       "content": {
        "cell": "7e70a9d2-d355-46fa-bcae-c19ad2bb73e0",
        "part": "whole"
       },
       "id": "62d9b418-358b-4a39-8c27-fc6692e13aed"
      },
      "bf9eb565-7fe6-47c5-baa5-7a1e48ac8c4c": {
       "attrs": {
        "height": 0.6302761820638944,
        "width": 0.96,
        "x": 0.02,
        "y": 0.27948603718885073
       },
       "content": {
        "cell": "9ed871aa-9c35-485d-86a7-2c91190e9254",
        "part": "whole"
       },
       "id": "bf9eb565-7fe6-47c5-baa5-7a1e48ac8c4c"
      },
      "fa6a663e-cd33-43c7-ba89-45fbe595c1f7": {
       "attrs": {
        "height": 0.07000737284741879,
        "width": 0.96,
        "x": 0.02,
        "y": 0.9099926271525812
       },
       "content": {
        "cell": "d07eaeb8-50ae-420a-84be-520703b20684",
        "part": "whole"
       },
       "id": "fa6a663e-cd33-43c7-ba89-45fbe595c1f7"
      }
     }
    },
    "36382bed-1256-41c2-b08c-28a85ee2ba65": {
     "id": "36382bed-1256-41c2-b08c-28a85ee2ba65",
     "prev": "21ad7bc0-a053-41d1-bc47-b3b229c86691",
     "regions": {
      "43d5957d-8b41-4b84-af8b-0429148e7d2a": {
       "attrs": {
        "height": 0.11714664349507412,
        "width": 0.96,
        "x": 0.02,
        "y": 0.02
       },
       "content": {
        "cell": "285bbc93-410c-436d-a967-012c9c315555",
        "part": "whole"
       },
       "id": "43d5957d-8b41-4b84-af8b-0429148e7d2a"
      },
      "a1eb399f-0701-4081-897a-a0c7df217c1c": {
       "attrs": {
        "height": 0.7707517310962707,
        "width": 0.96,
        "x": 0.02,
        "y": 0.13901048815647435
       },
       "content": {
        "cell": "3f3d766e-b0ef-4fe7-878a-e7eb184113aa",
        "part": "whole"
       },
       "id": "a1eb399f-0701-4081-897a-a0c7df217c1c"
      },
      "a99840e6-6221-4992-bb53-f62315aef26e": {
       "attrs": {
        "height": 0.07164080960898286,
        "width": 0.96,
        "x": 0.02,
        "y": 0.9083591903910171
       },
       "content": {
        "cell": "a23bdb41-ea41-488d-976c-53e1b4a24beb",
        "part": "whole"
       },
       "id": "a99840e6-6221-4992-bb53-f62315aef26e"
      }
     }
    },
    "3ca6c927-aae5-4bf8-be88-3263b759c9e9": {
     "id": "3ca6c927-aae5-4bf8-be88-3263b759c9e9",
     "prev": "7c108bd6-43c8-463c-82bb-b9ce81221ccf",
     "regions": {
      "4b357fce-a0ee-494c-ad7b-4c7dcac6853b": {
       "attrs": {
        "height": 0.28212374395091155,
        "width": 0.96,
        "x": 0.02,
        "y": 0.02
       },
       "content": {
        "cell": "8bba2d76-792e-4707-a731-85c91de98bbd",
        "part": "whole"
       },
       "id": "4b357fce-a0ee-494c-ad7b-4c7dcac6853b"
      },
      "579c1c79-e087-4fe4-9054-ea40c36c5c7a": {
       "attrs": {
        "height": 0.05693987875490643,
        "width": 0.96,
        "x": 0.02,
        "y": 0.9230601212450937
       },
       "content": {
        "cell": "a320b60a-107b-473a-8735-e1586d18cd3a",
        "part": "whole"
       },
       "id": "579c1c79-e087-4fe4-9054-ea40c36c5c7a"
      },
      "95bd711d-2b84-4dcb-97fe-f6e57e504394": {
       "attrs": {
        "height": 0.6433436761564066,
        "width": 0.96,
        "x": 0.02,
        "y": 0.29908727832761955
       },
       "content": {
        "cell": "b5288055-20f8-45f5-b595-00f6a1c4f7d0",
        "part": "outputs"
       },
       "id": "95bd711d-2b84-4dcb-97fe-f6e57e504394"
      }
     }
    },
    "445e6821-d822-4a2d-b263-ef0f4b7c75ff": {
     "id": "445e6821-d822-4a2d-b263-ef0f4b7c75ff",
     "prev": "2d755a2f-18ea-4dc7-b3ff-67efb3dcaf53",
     "regions": {
      "7c2a92f3-8348-4cdc-bba6-09ad0ca89029": {
       "attrs": {
        "height": 0.10897945968725377,
        "width": 0.96,
        "x": 0.02,
        "y": 0.02
       },
       "content": {
        "cell": "e161f9a3-d7c0-454d-ba4d-b2f71983475b",
        "part": "whole"
       },
       "id": "7c2a92f3-8348-4cdc-bba6-09ad0ca89029"
      },
      "a0001b6c-1ede-43a3-87dd-b2764f29893d": {
       "attrs": {
        "height": 0.05693987875490624,
        "width": 0.96,
        "x": 0.02,
        "y": 0.9230601212450937
       },
       "content": {
        "cell": "5569f311-8f42-499d-a39b-2a9b9855cff7",
        "part": "whole"
       },
       "id": "a0001b6c-1ede-43a3-87dd-b2764f29893d"
      },
      "d7d92a06-6996-43a6-80c1-a86a1c6694a7": {
       "attrs": {
        "height": 0.7985201560428599,
        "width": 0.96,
        "x": 0.02,
        "y": 0.1259429940639618
       },
       "content": {
        "cell": "f433307e-1a8b-4aab-96dc-e9b01d3f50dd",
        "part": "whole"
       },
       "id": "d7d92a06-6996-43a6-80c1-a86a1c6694a7"
      }
     }
    },
    "47f018aa-f414-4a89-a2d6-a63b8c42a667": {
     "id": "47f018aa-f414-4a89-a2d6-a63b8c42a667",
     "prev": "a4cfc7cb-98f6-4297-abd7-f0b61dc5736b",
     "regions": {
      "21d08340-9e12-46d7-95a3-05869553c8b7": {
       "attrs": {
        "height": 0.96,
        "width": 0.96,
        "x": 0.02,
        "y": 0.02
       },
       "content": {
        "cell": "921585e2-12c8-469f-b99f-794b73cd1569",
        "part": "whole"
       },
       "id": "21d08340-9e12-46d7-95a3-05869553c8b7"
      }
     }
    },
    "58f4cb51-affe-4d5d-813b-a7eed1b064ef": {
     "id": "58f4cb51-affe-4d5d-813b-a7eed1b064ef",
     "prev": "ee7276db-fc71-4d6d-bc79-cfc2e5e86395",
     "regions": {
      "1dd94f93-2a02-466b-891d-08d3f3ea3456": {
       "attrs": {
        "height": 0.45044454548742274,
        "width": 0.9607914312164628,
        "x": 0.0200636884809584,
        "y": 0.46262294860508973
       },
       "content": {
        "cell": "f181315e-ac68-4570-8ad7-c6d3c5189182",
        "part": "outputs"
       },
       "id": "1dd94f93-2a02-466b-891d-08d3f3ea3456"
      },
      "332b0cac-85d7-4132-b036-8ff2ee459141": {
       "attrs": {
        "height": 0.3084891275736395,
        "width": 0.96,
        "x": 0.02,
        "y": 0.1520779822489869
       },
       "content": {
        "cell": "28a05e39-2f27-4343-a812-4f4aec44d83b",
        "part": "whole"
       },
       "id": "332b0cac-85d7-4132-b036-8ff2ee459141"
      },
      "644b727e-fd3c-4fbb-b31a-2d028a8ec458": {
       "attrs": {
        "height": 0.06837393608585472,
        "width": 0.96,
        "x": 0.02,
        "y": 0.9116260639141452
       },
       "content": {
        "cell": "322e05ea-d448-4156-991e-b5e53c0f1e59",
        "part": "whole"
       },
       "id": "644b727e-fd3c-4fbb-b31a-2d028a8ec458"
      },
      "7084f725-aafd-485e-b2cb-94b0239b59b3": {
       "attrs": {
        "height": 0.1334810111107148,
        "width": 0.96,
        "x": 0.02,
        "y": 0.02
       },
       "content": {
        "cell": "7f5c4166-a530-47af-96fb-262929f133cc",
        "part": "whole"
       },
       "id": "7084f725-aafd-485e-b2cb-94b0239b59b3"
      }
     }
    },
    "615e3412-16cf-4336-8bd0-f0dac8397686": {
     "id": "615e3412-16cf-4336-8bd0-f0dac8397686",
     "prev": "d6f0e02c-1a02-4668-bb72-9d4decf949f0",
     "regions": {
      "4d77d0ba-2076-4fd3-9f04-c9390be5d041": {
       "attrs": {
        "height": 0.7625845472884504,
        "width": 0.96,
        "x": 0.02,
        "y": 0.14554423520273063
       },
       "content": {
        "cell": "9e64c016-d89f-42fb-bb61-e36c726dfcdc",
        "part": "whole"
       },
       "id": "4d77d0ba-2076-4fd3-9f04-c9390be5d041"
      },
      "6f615f7d-6037-4e89-9b84-9c96fc718467": {
       "attrs": {
        "height": 0.12531382730289445,
        "width": 0.96,
        "x": 0.02,
        "y": 0.02
       },
       "content": {
        "cell": "4b31f668-657f-47fe-8658-bdbaa6b4a643",
        "part": "whole"
       },
       "id": "6f615f7d-6037-4e89-9b84-9c96fc718467"
      },
      "ae630321-b214-4d19-89a1-64f12378e0ad": {
       "attrs": {
        "height": 0.07000737284741879,
        "width": 0.96,
        "x": 0.02,
        "y": 0.9099926271525812
       },
       "content": {
        "cell": "dedd52ed-7e80-4a28-a324-2247d11e4aa5",
        "part": "whole"
       },
       "id": "ae630321-b214-4d19-89a1-64f12378e0ad"
      }
     }
    },
    "7c108bd6-43c8-463c-82bb-b9ce81221ccf": {
     "id": "7c108bd6-43c8-463c-82bb-b9ce81221ccf",
     "prev": "58f4cb51-affe-4d5d-813b-a7eed1b064ef",
     "regions": {
      "c8d7b1f5-abd0-4ef7-b6cd-7611880cf1e2": {
       "attrs": {
        "height": 0.6351764923485865,
        "width": 0.96,
        "x": 0.02,
        "y": 0.2909200945197992
       },
       "content": {
        "cell": "96a9ac9b-fcd7-42eb-b44b-19fcb81df36c",
        "part": "outputs"
       },
       "id": "c8d7b1f5-abd0-4ef7-b6cd-7611880cf1e2"
      },
      "e6d97683-7d92-49c1-82a1-f956ae20371e": {
       "attrs": {
        "height": 0.27068968661996307,
        "width": 0.96,
        "x": 0.02,
        "y": 0.02
       },
       "content": {
        "cell": "e2f510b4-d280-4d1f-9d82-09a652c6e888",
        "part": "whole"
       },
       "id": "e6d97683-7d92-49c1-82a1-f956ae20371e"
      },
      "eb6f060e-d5a3-4a5d-931e-59339fd9e503": {
       "attrs": {
        "height": 0.05693987875490624,
        "width": 0.96,
        "x": 0.02,
        "y": 0.9230601212450937
       },
       "content": {
        "cell": "8ed24be5-f962-4f8b-b113-8a29969f0541",
        "part": "whole"
       },
       "id": "eb6f060e-d5a3-4a5d-931e-59339fd9e503"
      }
     }
    },
    "8a323da5-5149-4f88-8dfa-ddeb9f119ddc": {
     "id": "8a323da5-5149-4f88-8dfa-ddeb9f119ddc",
     "prev": "0a0c21cc-d1b1-42f5-95ac-d436a8854690",
     "regions": {
      "017757e6-1c8b-4662-8919-685d232d91bc": {
       "attrs": {
        "height": 0.3558588061211308,
        "width": 0.96,
        "x": 0.02,
        "y": 0.6241411938788692
       },
       "content": {
        "cell": "55ea1cf4-08cd-4f1a-a8ea-3bb78855df91",
        "part": "whole"
       },
       "id": "017757e6-1c8b-4662-8919-685d232d91bc"
      },
      "5d03e6d5-059e-4f49-9cdb-7df9cdb3d469": {
       "attrs": {
        "height": 0.22822033081929727,
        "width": 0.96,
        "x": 0.02,
        "y": 0.02
       },
       "content": {
        "cell": "ebe05fcd-587f-449a-80f1-7443cad2700f",
        "part": "whole"
       },
       "id": "5d03e6d5-059e-4f49-9cdb-7df9cdb3d469"
      },
      "a8cd3482-cb4f-44bb-853b-734c9fb95808": {
       "attrs": {
        "height": 0.37382661049833543,
        "width": 0.96,
        "x": 0.02,
        "y": 0.24845073871913345
       },
       "content": {
        "cell": "0667311c-8bb8-4614-896a-5293152d15d7",
        "part": "source"
       },
       "id": "a8cd3482-cb4f-44bb-853b-734c9fb95808"
      }
     }
    },
    "a4cfc7cb-98f6-4297-abd7-f0b61dc5736b": {
     "id": "a4cfc7cb-98f6-4297-abd7-f0b61dc5736b",
     "prev": "309eb0d4-9117-41eb-aefa-8690696a6361",
     "regions": {
      "61ddceb7-e487-4a3e-94c9-7587a2114470": {
       "attrs": {
        "height": 0.96,
        "width": 0.96,
        "x": 0.02,
        "y": 0.02
       },
       "content": {
        "cell": "4ac180f2-ee47-44a6-be83-39792ad37a93",
        "part": "whole"
       },
       "id": "61ddceb7-e487-4a3e-94c9-7587a2114470"
      }
     }
    },
    "b102be96-41e4-4da0-8cbd-e342b480f7f0": {
     "id": "b102be96-41e4-4da0-8cbd-e342b480f7f0",
     "prev": "3ca6c927-aae5-4bf8-be88-3263b759c9e9",
     "regions": {
      "19022c08-ed48-479a-ad44-e44c629a1415": {
       "attrs": {
        "height": 0.8898514851485149,
        "width": 0.9269028465346535,
        "x": 0.034808168316831686,
        "y": 0.054455445544554455
       },
       "content": {
        "cell": "f74b15bd-01af-4abd-8ae5-0e0a76cd3438",
        "part": "source"
       },
       "height": 0.8,
       "id": "19022c08-ed48-479a-ad44-e44c629a1415",
       "width": 0.8,
       "x": 0.1,
       "y": 0.1
      }
     }
    },
    "d6f0e02c-1a02-4668-bb72-9d4decf949f0": {
     "id": "d6f0e02c-1a02-4668-bb72-9d4decf949f0",
     "prev": "47f018aa-f414-4a89-a2d6-a63b8c42a667",
     "regions": {
      "053f3d9e-b08a-4780-bfd4-9b77587f9e34": {
       "attrs": {
        "height": 0.05693987875490624,
        "width": 0.96,
        "x": 0.02,
        "y": 0.9230601212450937
       },
       "content": {
        "cell": "9dfa4a71-e934-4327-94d4-abca8d103398",
        "part": "whole"
       },
       "id": "053f3d9e-b08a-4780-bfd4-9b77587f9e34"
      },
      "2142b79c-e157-4b69-af63-9cc3cfb2c395": {
       "attrs": {
        "height": 0.5974180380119901,
        "width": 0.96,
        "x": 0.02,
        "y": 0.32214480181013927
       },
       "content": {
        "cell": "52ac6b35-a45b-4342-96a7-5a4696188ef9",
        "part": "whole"
       },
       "id": "2142b79c-e157-4b69-af63-9cc3cfb2c395"
      },
      "33e299e0-7cc6-49e8-9145-9a78dfa1fe21": {
       "attrs": {
        "height": 0.3068648889598081,
        "width": 0.96,
        "x": 0.02,
        "y": 0.02
       },
       "content": {
        "cell": "60e5d559-24a9-4c70-bd82-db37951eb444",
        "part": "whole"
       },
       "id": "33e299e0-7cc6-49e8-9145-9a78dfa1fe21"
      }
     }
    },
    "ee7276db-fc71-4d6d-bc79-cfc2e5e86395": {
     "id": "ee7276db-fc71-4d6d-bc79-cfc2e5e86395",
     "prev": "fa11d9f1-3c9e-4974-bcb4-244627934ca2",
     "regions": {
      "47c32a05-3205-48f5-98c7-8c1c385397ed": {
       "attrs": {
        "height": 0.96,
        "width": 0.96,
        "x": 0.02,
        "y": 0.02
       },
       "content": {
        "cell": "a87314b6-3ff5-4d98-bb6e-ec51d7d7dbce",
        "part": "whole"
       },
       "id": "47c32a05-3205-48f5-98c7-8c1c385397ed"
      }
     }
    },
    "fa11d9f1-3c9e-4974-bcb4-244627934ca2": {
     "id": "fa11d9f1-3c9e-4974-bcb4-244627934ca2",
     "prev": "2dd3ebb2-8cc6-4403-8104-c17e6e16b24f",
     "regions": {
      "100efd4b-5e99-4529-879f-f4ae53d6080b": {
       "attrs": {
        "height": 0.96,
        "width": 0.96,
        "x": 0.02,
        "y": 0.02
       },
       "content": {
        "cell": "59a6c201-c4a5-40ea-b2e9-39cc1da18dc0",
        "part": "whole"
       },
       "id": "100efd4b-5e99-4529-879f-f4ae53d6080b"
      }
     }
    }
   },
   "themes": {
    "default": "9759a42a-fb01-42a5-b243-1d2b7accc733",
    "theme": {
     "9759a42a-fb01-42a5-b243-1d2b7accc733": {
      "backgrounds": {
       "my-background": {
        "background-color": "white"
       }
      },
      "id": "9759a42a-fb01-42a5-b243-1d2b7accc733",
      "palette": {
       "black": {
        "id": "black",
        "rgb": [
         0,
         0,
         0
        ]
       },
       "blue": {
        "id": "blue",
        "rgb": [
         0,
         153,
         204
        ]
       },
       "gray": {
        "id": "gray",
        "rgb": [
         128,
         128,
         128
        ]
       },
       "red": {
        "id": "red",
        "rgb": [
         240,
         32,
         32
        ]
       },
       "white": {
        "id": "white",
        "rgb": [
         255,
         255,
         255
        ]
       }
      },
      "rules": {
       "code": {
        "font-size": 1.6
       },
       "h1": {
        "color": "blue",
        "font-size": 5.5,
        "text-align": "center"
       },
       "h2": {
        "color": "blue",
        "font-size": 3,
        "text-align": "center"
       },
       "h3": {
        "color": "black",
        "font-size": 3
       },
       "pre": {
        "font-size": 1.6
       },
       "ul li": {
        "color": "black",
        "font-size": 2.5
       },
       "ul li ul li": {
        "color": "black",
        "font-size": 2
       }
      },
      "text-base": {
       "font-family": "Georgia",
       "font-size": 2.5
      }
     }
    }
   }
  }
 },
 "nbformat": 4,
 "nbformat_minor": 1
}
