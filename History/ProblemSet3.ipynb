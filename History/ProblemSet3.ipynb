{
 "cells": [
  {
   "cell_type": "markdown",
   "metadata": {
    "section": "header"
   },
   "source": [
    "<div style=\"text-align: center;\">\n",
    "<h1>The University of North Carolina at Chapel Hill</h1>\n",
    "<h1>Comp 555 BioAlgorithms - Spring 2018</h1>\n",
    "<h1 style=\"font-size: 250%;\">Problem Set #3 </h1>\n",
    "<h1>Issued Thursday, 3/1/2018; Due Thursday, 3/22/2018</h1>\n",
    "</div>\n",
    "\n",
    "**Homework Information:** Some of the problems are probably too long to be started the night before the due date, so plan accordingly. Late problem sets will be penalized by a factor of\t70.71% for each class meeting after the due date. Feel free to get help from others, but the work you submit in should be your own."
   ]
  },
  {
   "cell_type": "code",
   "execution_count": 1,
   "metadata": {
    "collapsed": true,
    "section": "signature"
   },
   "outputs": [],
   "source": [
    "# Replace the following string values with the requested information\n",
    "class Student:\n",
    "    first = \"\"\n",
    "    last = \"\"\n",
    "    onyen = \"\"\n",
    "    pid = \"\""
   ]
  },
  {
   "cell_type": "markdown",
   "metadata": {
    "number": 1,
    "section": "problem"
   },
   "source": [
    "---\n",
    "**Problem #1:** A file of *15-mers* simulating short reads from a genome can be downloaded [here](http://csbio.unc.edu/mcmillan/Comp555S18/data/kmers.txt). How many distinct nodes appear in the De Bruijn graph that represents these *15-mers* as edges? How many nodes are semi-balenced? How many nodes are balanced? How many are balanced with both in-degrees and out-degrees equal to 1?  "
   ]
  },
  {
   "cell_type": "code",
   "execution_count": 15,
   "metadata": {
    "scrolled": true
   },
   "outputs": [
    {
     "name": "stdout",
     "output_type": "stream",
     "text": [
      "93925\n",
      "93674\n",
      "AAAAAAAAGCCCGG AAAAAAAGCCCGGG\n"
     ]
    }
   ],
   "source": [
    "import itertools\n",
    "\n",
    "class Graph:\n",
    "    def __init__(self, vlist=[]):\n",
    "        \"\"\" Initialize a Graph with an optional vertex list \"\"\"\n",
    "        self.index = {v:i for i,v in enumerate(vlist)}\n",
    "        self.vertex = {i:v for i,v in enumerate(vlist)}\n",
    "        self.edge = []\n",
    "        self.edgelabel = []\n",
    "    def addVertex(self, label):\n",
    "        \"\"\" Add a labeled vertex to the graph \"\"\"\n",
    "        index = len(self.index)\n",
    "        self.index[label] = index\n",
    "        self.vertex[index] = label\n",
    "    def addEdge(self, vsrc, vdst, label='', repeats=True):\n",
    "        \"\"\" Add a directed edge to the graph, with an optional label. \n",
    "        Repeated edges are distinct, unless repeats is set to False. \"\"\"\n",
    "        e = (self.index[vsrc], self.index[vdst])\n",
    "        if (repeats) or (e not in self.edge):\n",
    "            self.edge.append(e)\n",
    "            self.edgelabel.append(label)\n",
    "    def degrees(self):\n",
    "        \"\"\" Returns two dictionaries with the inDegree and outDegree\n",
    "        of each node from the graph. \"\"\"\n",
    "        inDegree = {}\n",
    "        outDegree = {}\n",
    "        for src, dst in self.edge:\n",
    "            outDegree[src] = outDegree.get(src, 0) + 1\n",
    "            inDegree[dst] = inDegree.get(dst, 0) + 1\n",
    "        return inDegree, outDegree\n",
    "    def verifyAndGetStart(self):\n",
    "        inDegree, outDegree = self.degrees()\n",
    "        start = 0\n",
    "        end = 0\n",
    "        for vert in self.vertex.iterkeys():\n",
    "            ins = inDegree.get(vert,0)\n",
    "            outs = outDegree.get(vert,0)\n",
    "            if (ins == outs):\n",
    "                continue\n",
    "            elif (ins - outs == 1):\n",
    "                end = vert\n",
    "            elif (outs - ins == 1):\n",
    "                start = vert\n",
    "            else:\n",
    "                start, end = -1, -1\n",
    "                break\n",
    "        if (start >= 0) and (end >= 0):\n",
    "            return start\n",
    "        else:\n",
    "            return -1\n",
    "    def eulerianPath(self):\n",
    "        graph = [(src,dst) for src,dst in self.edge]\n",
    "        currentVertex = self.verifyAndGetStart()\n",
    "        path = [currentVertex]\n",
    "        # \"next\" is where vertices get inserted into our tour\n",
    "        # it starts at the end (i.e. it is the same as appending),\n",
    "        # but later \"side-trips\" will insert in the middle\n",
    "        next = 1\n",
    "        while len(graph) > 0:\n",
    "            for edge in graph:\n",
    "                if (edge[0] == currentVertex):\n",
    "                    currentVertex = edge[1]\n",
    "                    graph.remove(edge)\n",
    "                    path.insert(next, currentVertex)\n",
    "                    next += 1\n",
    "                    break\n",
    "            else:\n",
    "                for edge in graph:\n",
    "                    try:\n",
    "                        next = path.index(edge[0]) + 1\n",
    "                        currentVertex = edge[0]\n",
    "                        break\n",
    "                    except ValueError:\n",
    "                        continue\n",
    "                else:\n",
    "                    print \"There is no path!\"\n",
    "                    return False\n",
    "        return path\n",
    "    def eulerEdges(self, path):\n",
    "        edgeId = {}\n",
    "        for i in xrange(len(self.edge)):\n",
    "            edgeId[self.edge[i]] = edgeId.get(self.edge[i], []) + [i]\n",
    "        edgeList = []\n",
    "        for i in xrange(len(path)-1):\n",
    "            edgeList.append(self.edgelabel[edgeId[path[i],path[i+1]].pop()])            \n",
    "        return edgeList\n",
    "\n",
    "with open(\"kmers.txt\") as f:\n",
    "    content = f.readlines()\n",
    "content = [x.strip() for x in content] \n",
    "print len(content)\n",
    "verts = []\n",
    "\n",
    "for v in content:\n",
    "    if v[0:len(v)-1] not in verts:\n",
    "        verts.append(v[0:len(v)-1])\n",
    "    if v[1:len(v)] not in verts:\n",
    "        verts.append(v[1:len(v)])\n",
    "print len(verts)\n",
    "print verts[0],verts[1]"
   ]
  },
  {
   "cell_type": "code",
   "execution_count": 19,
   "metadata": {},
   "outputs": [
    {
     "name": "stdout",
     "output_type": "stream",
     "text": [
      "2 93672 93522\n"
     ]
    }
   ],
   "source": [
    "g = Graph(verts)\n",
    "for v in content:\n",
    "    g.addEdge(v[0:len(v)-1],v[1:len(v)],v)\n",
    "d = g.degrees()\n",
    "inn = d[0]\n",
    "out = d[1]\n",
    "semi = 0\n",
    "bal = 0\n",
    "eq = 0 \n",
    "for key in out:\n",
    "    value = out[key]\n",
    "    if abs(value - inn.get(key,0)) ==1:\n",
    "        semi +=1\n",
    "for key in inn:\n",
    "    value = inn[key]\n",
    "    if abs(value - out.get(key,0)) ==1:\n",
    "        semi +=1\n",
    "    if abs(value - out.get(key,0)) ==0:\n",
    "        bal +=1 \n",
    "    if abs(value - out.get(key,0)) ==0 and value == 1 and out.get(key,0) == 1:\n",
    "        eq +=1 \n",
    "print semi,bal,eq"
   ]
  },
  {
   "cell_type": "raw",
   "metadata": {
    "number": 1,
    "section": "answer"
   },
   "source": [
    "2 semi, 93672 balanced, 93522 balanced and 1 degree, 93674 distinct nodes"
   ]
  },
  {
   "cell_type": "markdown",
   "metadata": {
    "number": 2,
    "section": "problem"
   },
   "source": [
    "---\n",
    "**Problem #2:** What is the length of the Eulerian path that can be constructed in the De Bruijn graph described in Problem #1? How does the resulting constructed sequence compare to the plasmid sequence of [*Salmonella Typhimurium*](http://csbio.unc.edu/mcmillan/Comp555S18/data/SalmonellaTyphimurium.fa). (Hint: one method of comparison is consider how many k-mers the two sequences share. Of course you can compare where k=15, but consider what is the smallest value of k for which the two sequences differ in their set of k-mers?)"
   ]
  },
  {
   "cell_type": "code",
   "execution_count": 5,
   "metadata": {},
   "outputs": [
    {
     "name": "stdout",
     "output_type": "stream",
     "text": [
      "93926\n"
     ]
    }
   ],
   "source": [
    "eulerpath = g.eulerianPath()\n",
    "print len(eulerpath)"
   ]
  },
  {
   "cell_type": "code",
   "execution_count": 39,
   "metadata": {},
   "outputs": [
    {
     "name": "stdout",
     "output_type": "stream",
     "text": [
      "{}\n",
      "{}\n",
      "{}\n",
      "{}\n",
      "{}\n",
      "{}\n",
      "{}\n",
      "{}\n",
      "{}\n",
      "{}\n",
      "{}\n",
      "{}\n",
      "{}\n",
      "{}\n",
      "{}\n",
      "{'GTGTTTTTCATCATAA': 1, 'CGGGATGTGGTGAACG': 1, 'TCCATCACCCGCGCCA': 1, 'TATGCCATTCTGAACA': 1, 'AATGCCATTCTGAACC': 1, 'TGACCCGGATGGCGGG': 1, 'GCCATCACCCGCGCCT': 1, 'GGCTCCAGGTCATCCA': 1, 'AAGCCAGCCCGTCAGG': 1, 'AGGGATGTGGTGAACC': 1, 'CATCCGTGACGGGGAG': 1, 'TGCTGCCGGAGAGTGA': 1, 'CAATGCCATTCTGAAC': 1, 'GAATGCCATTCTGAAA': 1, 'CCAGAAAAAAAAGCCG': 1, 'GCAGGACAAATACACG': 1, 'GTGTGAAATATTTCCC': 1, 'ACTCAATTCTCATGAG': 1, 'TATAAAATAAATTTCC': 1, 'GCGGGGTGTACCTGGA': 1, 'CAGCCAGCCCGTCAGC': 1, 'CAAAATCAGCAGCGGA': 1, 'CGCCGACCTGCTGGCA': 1, 'GGGCGCTGGATACGGA': 1, 'GGACCCGGATGGCGGT': 1, 'AAAAATCAGCAGCGGC': 1, 'AATAAAATAAATTTCA': 1, 'TATCCGTGACGGGGAA': 1, 'TGGCGCTGGATACGGC': 1, 'TCAGGACAAATACACC': 1, 'CGCTGCCGGAGAGTGT': 1, 'TTGTGAAATATTTCCG': 1, 'GGATGCGCTGCTGGTT': 1, 'AGATGCGCTGCTGGTC': 1, 'GCAGAAAAAAAAGCCC': 1, 'ACGGGGTGTACCTGGG': 1, 'ATGTTTTTCATCATAT': 1, 'AGCTCCAGGTCATCCG': 1, 'CGGGCTGATACAGCCG': 1, 'AGTTTCGTGAATGTAA': 1, 'GGGGCTGATACAGCCA': 1, 'TGTTTCGTGAATGTAC': 1, 'TGCCGACCTGCTGGCG': 1, 'GCTCAATTCTCATGAC': 1}\n",
      "16\n"
     ]
    }
   ],
   "source": [
    "def kmerFreq(k, sequence):\n",
    "    kmerCount = {}\n",
    "    for i in xrange(len(sequence)-k+1):\n",
    "        kmer = sequence[i:i+k]\n",
    "        kmerCount[kmer] = kmerCount.get(kmer,0)+1\n",
    "    return kmerCount\n",
    "def loadFasta(filename):\n",
    "    \"\"\" Parses a classically formatted and possibly \n",
    "        compressed FASTA file into a list of headers \n",
    "        and fragment sequences for each sequence contained\"\"\"\n",
    "    if (filename.endswith(\".gz\")):\n",
    "        fp = gzip.open(filename, 'rb')\n",
    "    else:\n",
    "        fp = open(filename, 'rb')\n",
    "    # split at headers\n",
    "    data = fp.read().split('>')\n",
    "    fp.close()\n",
    "    # ignore whatever appears before the 1st header\n",
    "    data.pop(0)     \n",
    "    headers = []\n",
    "    sequences = []\n",
    "    for sequence in data:\n",
    "        lines = sequence.split('\\n')\n",
    "        headers.append(lines.pop(0))\n",
    "        # add an extra \"+\" to make string \"1-referenced\"\n",
    "        sequences.append('+' + ''.join(lines))\n",
    "    return (headers, sequences)\n",
    "\n",
    "header, seq = loadFasta(\"SalmonellaTyphimurium.fa\")\n",
    "seq = seq[1]\n",
    "seq = seq[1:len(seq)]\n",
    "\n",
    "euleredges = g.eulerEdges(eulerpath)\n",
    "path = euleredges[0]\n",
    "for i in range(1,len(euleredges)):\n",
    "    path = path + euleredges[i][len(euleredges[i])-1:len(euleredges[i])]\n",
    "    #euleredges[i][len(euleredges[i])-1] \n",
    "\n",
    "k = 1\n",
    "value = {}\n",
    "while len(value)==0:\n",
    "    ekmer = kmerFreq(k, path)\n",
    "    skmer = kmerFreq(k, seq)\n",
    "    value = { m : skmer[m] for m in set(skmer) - set(ekmer) }\n",
    "    print value\n",
    "    k+=1\n",
    "print k-1"
   ]
  },
  {
   "cell_type": "raw",
   "metadata": {
    "number": 2,
    "section": "answer"
   },
   "source": [
    "Length of Euler Path is 93926\n",
    "At k-mer length 16 we start to see differences between the plasmid sequence and the euler path we have created."
   ]
  },
  {
   "cell_type": "markdown",
   "metadata": {
    "number": 3,
    "section": "problem"
   },
   "source": [
    "---\n",
    "**Problem #3:** You will find a BWT of the primary \"genome\" sequence of *Salmonella Typhimurium* [here](http://csbio.unc.edu/mcmillan/Comp555S18/data/SalmonellaTyphimurium.bwt). This BWT is compressed as follows: Any run of two or more repeated characters is prefixed with an ASCII-encoded number followed by the character. For example the string \"AAACGGTTTTTTTTTT\" would be encoded as the string \"3AC2G10T\". What is the compression ratio of this BWT? Where the compression ration is given by: \n",
    "\n",
    "$$\\frac{len(compressed BWT)}{len(sequence)}$$\n",
    "\n",
    "What is the average run-length in the BWT (consider characters without runs as run-lengths of 1)?"
   ]
  },
  {
   "cell_type": "code",
   "execution_count": null,
   "metadata": {
    "collapsed": true
   },
   "outputs": [],
   "source": []
  },
  {
   "cell_type": "code",
   "execution_count": 41,
   "metadata": {},
   "outputs": [
    {
     "name": "stdout",
     "output_type": "stream",
     "text": [
      "A3T3CT2CT2CG3CT4GT2GA3GCG2A3TGATGTGA2GCGT2GT2GC3TCATGCG3C3GA3TCG2CTG3CTGCGCAGATG2CA2TGTCATC2TGTGCGCA\n",
      "4397999\n",
      "4857433 3449184 1.40828468415 0.905416297044\n"
     ]
    }
   ],
   "source": [
    "with open(\"SalmonellaTyphimurium.bwt.txt\") as f:\n",
    "    content = f.readlines()\n",
    "content = content[0]\n",
    "BWTlen = len(content)\n",
    "seqlen = 0\n",
    "print content[0:100]\n",
    "print BWTlen\n",
    "i = 0\n",
    "num = [\"0\",\"1\",\"2\",\"3\",\"4\",\"5\",\"6\",\"7\",\"8\",\"9\"]\n",
    "letters = 0\n",
    "while i < BWTlen:\n",
    "    if content[i] in num:\n",
    "        if content[i+1] in num:\n",
    "            temp = int(content[i]+content[i+1])\n",
    "            seqlen += temp\n",
    "            letters+=1\n",
    "            i += 3\n",
    "        else:\n",
    "            temp = int(content[i])\n",
    "            seqlen += temp\n",
    "            letters+=1\n",
    "            i += 2\n",
    "    else:\n",
    "        seqlen += 1\n",
    "        letters+=1\n",
    "        i += 1\n",
    "print seqlen, letters, float(seqlen)/float(letters), float(BWTlen)/float(seqlen)"
   ]
  },
  {
   "cell_type": "raw",
   "metadata": {
    "number": 3,
    "section": "answer"
   },
   "source": [
    "The average run length is 1.40828468415 and the compression ratio is 0.905416297044. We have a BWT compressed length of 4397999 and a sequence length of 4857433 "
   ]
  },
  {
   "cell_type": "markdown",
   "metadata": {
    "number": 4,
    "section": "problem"
   },
   "source": [
    "**Problem #4:** Uncompress the BWT from in Problem #3, and use code given in class to find how many times the substring \"ATGACAACGC\" and its reverse complement \"GCGTTGTCAT\" appear in the *Salmonella Typhimurium* genome. Repeat this for the substring \"ATGACAACGCAT\" and its reverse complement \"ATGCGTTGTCAT\". Note these sequences are the first few bases of the *HolC* gene that you searched for in Problem Set #2."
   ]
  },
  {
   "cell_type": "code",
   "execution_count": 36,
   "metadata": {},
   "outputs": [
    {
     "name": "stdout",
     "output_type": "stream",
     "text": [
      "(3052010, 3052023)\n"
     ]
    }
   ],
   "source": [
    "uncompressed = \"\"\n",
    "i = 0\n",
    "while i < len(content):\n",
    "    if content[i] in num:\n",
    "        if i+1 < len(content) and content[i+1] in num:\n",
    "            temp = int(content[i]+content[i+1])\n",
    "            for j in range(temp):\n",
    "                uncompressed = uncompressed + content[i+2]\n",
    "            i += 3\n",
    "        else:\n",
    "            temp = int(content[i])\n",
    "            for j in range(temp):\n",
    "                uncompressed = uncompressed + content[i+1]\n",
    "            i += 2\n",
    "    else:\n",
    "        uncompressed = uncompressed + content[i]\n",
    "        i += 1\n",
    "\n",
    "\n",
    "def FMIndex(bwt):\n",
    "    fm = [{c: 0 for c in bwt}]\n",
    "    for c in bwt:\n",
    "        row = {symbol: count + 1 if (symbol == c) else count for symbol, count in fm[-1].iteritems()}\n",
    "        fm.append(row)\n",
    "    offset = {}\n",
    "    N = 0\n",
    "    for symbol in sorted(row.keys()):\n",
    "        offset[symbol] = N\n",
    "        N += row[symbol]\n",
    "    return fm, offset\n",
    "\n",
    "def findBWT(pattern, FMIndex, Offset):\n",
    "    lo = 0\n",
    "    hi = len(FMIndex) - 1\n",
    "    for symbol in reversed(pattern):\n",
    "        lo = Offset[symbol] + FMIndex[lo][symbol]\n",
    "        hi = Offset[symbol] + FMIndex[hi][symbol]\n",
    "    return lo, hi\n",
    "bwt = uncompressed\n",
    "\n",
    "FM, Offset = FMIndex(bwt)\n",
    "\n",
    "x = findBWT(\"GCGTTGTCAT\",FM,Offset)\n",
    "print x\n"
   ]
  },
  {
   "cell_type": "raw",
   "metadata": {
    "collapsed": true,
    "number": 4,
    "section": "answer"
   },
   "source": [
    "ATGACAACGC:4 (1006271, 1006275)\n",
    "GCGTTGTCAT: 13 (3052010, 3052023)\n",
    "ATGACAACGCAT:1 (1006273, 1006274)\n",
    "ATGCGTTGTCAT:1 (1038101, 1038102)\n",
    "I included the indexes of where these strings are located"
   ]
  },
  {
   "cell_type": "markdown",
   "metadata": {
    "number": 5,
    "section": "problem"
   },
   "source": [
    "**Problem #5: Programming Problem** \n",
    "\n",
    "In class we discussed an algortihm to produce a BWT from a suffix array. In this problem you are asked to write code to do the inverse-- ***produce a suffix array from a BWT***. In the space provided below write your function and test it by finding the genomic indices for all of the substrings than you reported for Problem #4. (Hint: The first implict suffix in the BWT begins with '$', which is the last character of the original string)."
   ]
  },
  {
   "cell_type": "code",
   "execution_count": 53,
   "metadata": {
    "number": 5,
    "section": "answer"
   },
   "outputs": [],
   "source": [
    "# Enter your code here\n",
    "def resuffix(i, bwt, fmi, offset):\n",
    "    cur=bwt[i]\n",
    "    suffix = ''\n",
    "    \n",
    "    predecessor =  fmi[i][cur]+ offset[cur] \n",
    "    suffix = cur+suffix\n",
    "    while (predecessor !=i):\n",
    "        cur=bwt[predecessor]\n",
    "        \n",
    "        predecessor = offset[cur] + fmi[predecessor][cur]\n",
    "        \n",
    "        suffix = cur+suffix\n",
    "    return suffix"
   ]
  },
  {
   "cell_type": "markdown",
   "metadata": {
    "section": "submit"
   },
   "source": [
    "Click [here to submit](http://csbio.unc.edu/mcmillan/index.py?run=PS.upload) your completed problem set"
   ]
  }
 ],
 "metadata": {
  "celltoolbar": "Edit Metadata",
  "kernelspec": {
   "display_name": "Python 3",
   "language": "python",
   "name": "python3"
  },
  "language_info": {
   "codemirror_mode": {
    "name": "ipython",
    "version": 3
   },
   "file_extension": ".py",
   "mimetype": "text/x-python",
   "name": "python",
   "nbconvert_exporter": "python",
   "pygments_lexer": "ipython3",
   "version": "3.6.5"
  }
 },
 "nbformat": 4,
 "nbformat_minor": 1
}
