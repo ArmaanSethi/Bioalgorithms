{
 "cells": [
  {
   "cell_type": "markdown",
   "metadata": {
    "section": "header"
   },
   "source": [
    "##### <div style=\"text-align: center;\">\n",
    "<h1>The University of North Carolina at Chapel Hill</h1>\n",
    "<h1>Comp 555 BioAlgorithms - Spring 2018</h1>\n",
    "<h1 style=\"font-size: 250%;\">Problem Set #2 </h1>\n",
    "<h1>Issued Thursday, 2/15/2018; Due Thursday, 3/1/2018</h1>\n",
    "</div>\n",
    "\n",
    "**Homework Information:** Some of the problems are probably too long to complete the night before the due date, so plan accordingly. Late problem sets will be penalized by a factor of\t70.71% for each class meeting after the due date. Feel free to get help from others, but the work you submit in should be your own."
   ]
  },
  {
   "cell_type": "code",
   "execution_count": 1,
   "metadata": {
    "section": "signature"
   },
   "outputs": [],
   "source": [
    "# Replace the following string values with the requested information\n",
    "class Student:\n",
    "    first = \"Mohamed\"\n",
    "    last = \"Lansari\"\n",
    "    onyen = \"mlans13\"\n",
    "    pid = \"730013359\""
   ]
  },
  {
   "cell_type": "markdown",
   "metadata": {
    "number": 1,
    "section": "problem"
   },
   "source": [
    "---\n",
    "**Problem #1:** Consider the table of integer molecular weights for amino acid residues that we have used in class and is repeated below.\n",
    "\n",
    "        Daltons = { \n",
    "            'A':  71, 'C': 103, 'D': 115, 'E': 129,\n",
    "            'F': 147, 'G':  57, 'H': 137, 'I': 113,\n",
    "            'K': 128, 'L': 113, 'M': 131, 'N': 114,\n",
    "            'P':  97, 'Q': 128, 'R': 156, 'S':  87,\n",
    "            'T': 101, 'V':  99, 'W': 186, 'Y': 163 \n",
    "        }\n",
    "\n",
    "Which peptide *combinations* have a total molecular weight matching the peptide \"YMKN\"? A *combination* means that the order of the peptides is unimportant (i.e. \"AKS\" is the same combination as any of \"ASK\", \"KAS\", \"KSA\", \"SAK\", and \"SKA\"). When reporting your answer you should lexigraphically sort the resides within each combination (\"AKS\" is the sorted version of the previous example). Furthermore, the list of combinations should also be lexigraphically sorted (The python sorted() method will do this for you)."
   ]
  },
  {
   "cell_type": "code",
   "execution_count": 95,
   "metadata": {},
   "outputs": [
    {
     "name": "stdout",
     "output_type": "stream",
     "text": [
      "Sum is  536\n",
      "['AAAADH', 'AAACGY', 'AAAEGH', 'AAAEPP', 'AAAHSV', 'AAAHW', 'AAAIIP', 'AAAILP', 'AAALLP', 'AACCGM', 'AACCST', 'AACFGS', 'AACGHP', 'AACKY', 'AACPPP', 'AACQY', 'AAEHK', 'AAEHQ', 'AAGHIS', 'AAGHLS', 'AAGHTV', 'AAGSSY', 'AAHRT', 'AAIPPS', 'AALPPS', 'AAPPTV', 'AAPVVV', 'ACCCGV', 'ACCCR', 'ACCDGS', 'ACCGTT', 'ACCKM', 'ACCMQ', 'ACFGGT', 'ACFKS', 'ACFNT', 'ACFQS', 'ACGMSS', 'ACHKP', 'ACHPQ', 'ACSSST', 'ADGGHV', 'ADGHR', 'ADGPPV', 'ADHNV', 'ADPPR', 'AFFGGG', 'AFFGN', 'AFGSSS', 'AGGGMY', 'AGGHIT', 'AGGHLT', 'AGGSTY', 'AGHPSS', 'AGIPPT', 'AGIPVV', 'AGLPPT', 'AGLPVV', 'AGMNY', 'AHIKS', 'AHINT', 'AHIQS', 'AHKLS', 'AHKTV', 'AHLNT', 'AHLQS', 'AHQTV', 'AIPRV', 'AKSSY', 'ALPRV', 'ANSTY', 'APPPSS', 'AQSSY', 'CCCGGI', 'CCCGGL', 'CCCIN', 'CCCKV', 'CCCLN', 'CCCQV', 'CCDGGT', 'CCDKS', 'CCDNT', 'CCDQS', 'CCEGGS', 'CCENS', 'CCGSSV', 'CCGSW', 'CCKTT', 'CCQTT', 'CCRSS', 'CDFGGG', 'CDFGN', 'CDGSSS', 'CFGKT', 'CFGQT', 'CGGGMM', 'CGGGVY', 'CGGMST', 'CGGRY', 'CGMMN', 'CGNVY', 'CGSSTT', 'CKMSS', 'CMNST', 'CMQSS', 'CNRY', 'DEEY', 'DFHH', 'DGGGHI', 'DGGGHL', 'DGGGSY', 'DGGIPP', 'DGGLPP', 'DGHIN', 'DGHKV', 'DGHLN', 'DGHQV', 'DGNSY', 'DHKR', 'DHQR', 'DINPP', 'DKPPV', 'DLNPP', 'DPPQV', 'EEFM', 'EFFI', 'EFFL', 'EFPY', 'EGGGHV', 'EGGHR', 'EGGPPV', 'EGHNV', 'EGPPR', 'EHNR', 'EIMY', 'ELMY', 'ENPPV', 'FFGGK', 'FFGGQ', 'FFKN', 'FFNQ', 'FGGGMS', 'FGGSST', 'FGMNS', 'FIIY', 'FILY', 'FKSSS', 'FLLY', 'FNSST', 'FQSSS', 'GGGGGGGH', 'GGGGGGPP', 'GGGGGHN', 'GGGGNPP', 'GGGHMP', 'GGGHNN', 'GGGTTY', 'GGHPST', 'GGHSVV', 'GGHVW', 'GGIIPV', 'GGILPV', 'GGKMY', 'GGLLPV', 'GGMPPP', 'GGMQY', 'GGNNPP', 'GHIKT', 'GHIQT', 'GHKLT', 'GHLQT', 'GHMNP', 'GHNNN', 'GHRSV', 'GHRW', 'GIIPR', 'GILPR', 'GKSTY', 'GLLPR', 'GMSSSS', 'GNTTY', 'GPPPST', 'GPPSVV', 'GPPVW', 'GQSTY', 'HHMM', 'HHVY', 'HKPSS', 'HNPST', 'HNSVV', 'HNVW', 'HPQSS', 'HRRS', 'IINPV', 'IKPPT', 'IKPVV', 'ILNPV', 'IPPQT', 'IPQVV', 'IPYY', 'KLPPT', 'KLPVV', 'KMNY', 'LLNPV', 'LPPQT', 'LPQVV', 'LPYY', 'MNPPP', 'MNQY', 'NNNPP', 'PPRSV', 'PPRW', 'SSSSST']\n",
      "213\n"
     ]
    }
   ],
   "source": [
    "Daltons = { \n",
    "        'A':  71, 'C': 103, 'D': 115, 'E': 129,\n",
    "        'F': 147, 'G':  57, 'H': 137, 'I': 113,\n",
    "        'K': 128, 'L': 113, 'M': 131, 'N': 114,\n",
    "        'P':  97, 'Q': 128, 'R': 156, 'S':  87,\n",
    "        'T': 101, 'V':  99, 'W': 186, 'Y': 163 \n",
    "}\n",
    "\n",
    "peptide = 'YMKN'\n",
    "score = sum([Daltons[res] for res in peptide])\n",
    "\n",
    "correct = []\n",
    "\n",
    "# perform recursive branch and bound in order to calculate weights\n",
    "def checkKeys(val, chars):\n",
    "    # this checks all possible keys except the ones in chars\n",
    "    for key in Daltons:\n",
    "#         if key in chars:\n",
    "#             continue\n",
    "        if val + Daltons[key] == score:\n",
    "            nChars = chars + key\n",
    "            nChars = ''.join(sorted(nChars))\n",
    "            if nChars not in correct:\n",
    "                correct.append(nChars)\n",
    "        elif val + Daltons[key] < score:\n",
    "            checkKeys(val + Daltons[key], chars + key)        \n",
    "\n",
    "checkKeys(0, '')\n",
    "sCorrect = sorted(correct)\n",
    "print(\"Sum is \", score)\n",
    "print(sCorrect)\n",
    "print(len(sCorrect))\n"
   ]
  },
  {
   "cell_type": "raw",
   "metadata": {
    "number": 1,
    "section": "answer"
   },
   "source": [
    "['AAAADH', 'AAACGY', 'AAAEGH', 'AAAEPP', 'AAAHSV', 'AAAHW', 'AAAIIP', 'AAAILP', 'AAALLP', 'AACCGM', 'AACCST', 'AACFGS', 'AACGHP', 'AACKY', 'AACPPP', 'AACQY', 'AAEHK', 'AAEHQ', 'AAGHIS', 'AAGHLS', 'AAGHTV', 'AAGSSY', 'AAHRT', 'AAIPPS', 'AALPPS', 'AAPPTV', 'AAPVVV', 'ACCCGV', 'ACCCR', 'ACCDGS', 'ACCGTT', 'ACCKM', 'ACCMQ', 'ACFGGT', 'ACFKS', 'ACFNT', 'ACFQS', 'ACGMSS', 'ACHKP', 'ACHPQ', 'ACSSST', 'ADGGHV', 'ADGHR', 'ADGPPV', 'ADHNV', 'ADPPR', 'AFFGGG', 'AFFGN', 'AFGSSS', 'AGGGMY', 'AGGHIT', 'AGGHLT', 'AGGSTY', 'AGHPSS', 'AGIPPT', 'AGIPVV', 'AGLPPT', 'AGLPVV', 'AGMNY', 'AHIKS', 'AHINT', 'AHIQS', 'AHKLS', 'AHKTV', 'AHLNT', 'AHLQS', 'AHQTV', 'AIPRV', 'AKSSY', 'ALPRV', 'ANSTY', 'APPPSS', 'AQSSY', 'CCCGGI', 'CCCGGL', 'CCCIN', 'CCCKV', 'CCCLN', 'CCCQV', 'CCDGGT', 'CCDKS', 'CCDNT', 'CCDQS', 'CCEGGS', 'CCENS', 'CCGSSV', 'CCGSW', 'CCKTT', 'CCQTT', 'CCRSS', 'CDFGGG', 'CDFGN', 'CDGSSS', 'CFGKT', 'CFGQT', 'CGGGMM', 'CGGGVY', 'CGGMST', 'CGGRY', 'CGMMN', 'CGNVY', 'CGSSTT', 'CKMSS', 'CMNST', 'CMQSS', 'CNRY', 'DEEY', 'DFHH', 'DGGGHI', 'DGGGHL', 'DGGGSY', 'DGGIPP', 'DGGLPP', 'DGHIN', 'DGHKV', 'DGHLN', 'DGHQV', 'DGNSY', 'DHKR', 'DHQR', 'DINPP', 'DKPPV', 'DLNPP', 'DPPQV', 'EEFM', 'EFFI', 'EFFL', 'EFPY', 'EGGGHV', 'EGGHR', 'EGGPPV', 'EGHNV', 'EGPPR', 'EHNR', 'EIMY', 'ELMY', 'ENPPV', 'FFGGK', 'FFGGQ', 'FFKN', 'FFNQ', 'FGGGMS', 'FGGSST', 'FGMNS', 'FIIY', 'FILY', 'FKSSS', 'FLLY', 'FNSST', 'FQSSS', 'GGGGGGGH', 'GGGGGGPP', 'GGGGGHN', 'GGGGNPP', 'GGGHMP', 'GGGHNN', 'GGGTTY', 'GGHPST', 'GGHSVV', 'GGHVW', 'GGIIPV', 'GGILPV', 'GGKMY', 'GGLLPV', 'GGMPPP', 'GGMQY', 'GGNNPP', 'GHIKT', 'GHIQT', 'GHKLT', 'GHLQT', 'GHMNP', 'GHNNN', 'GHRSV', 'GHRW', 'GIIPR', 'GILPR', 'GKSTY', 'GLLPR', 'GMSSSS', 'GNTTY', 'GPPPST', 'GPPSVV', 'GPPVW', 'GQSTY', 'HHMM', 'HHVY', 'HKPSS', 'HNPST', 'HNSVV', 'HNVW', 'HPQSS', 'HRRS', 'IINPV', 'IKPPT', 'IKPVV', 'ILNPV', 'IPPQT', 'IPQVV', 'IPYY', 'KLPPT', 'KLPVV', 'KMNY', 'LLNPV', 'LPPQT', 'LPQVV', 'LPYY', 'MNPPP', 'MNQY', 'NNNPP', 'PPRSV', 'PPRW', 'SSSSST']\n",
    "\n",
    "I calculated this by recursively constructing all possible strings, character by character, and then branch-and-bounding based on progressive score.  This means that if the score is too small, then we move to the next recursion, and if it's too large, then we break.  If it's the correct sum, then the chain of characters is sorted, and if it has not already been found, we add it to our list of correct peptide combinations.  At the end we sort this list prior to output. "
   ]
  },
  {
   "cell_type": "markdown",
   "metadata": {
    "number": 2,
    "section": "problem"
   },
   "source": [
    "---\n",
    "**Problem #2:** The primary enzyme complex involved in prokaryotic DNA replication is the **DNA polymerase III holoenzyme**. It is comprised of 9 proteins with 6 distinct types. The *HolC* gene encodes the &chi; component of this polymerase. The peptide sequence for *HolC* in [*Salmonella Typhimurium*](http://csbio.unc.edu/mcmillan/Comp555S18/data/SalmonellaTyphimurium.fa) is: \n",
    "\n",
    "         HolC = \"MTTHLNPPQEAPYMKNATFYLLDNDTTVNGLSAVEQLVCEIAAERWRAGK\" + \\\n",
    "                \"RVLIACEDEKQAIRLDEALWARPAESFVPHNLAGEGPRGGAPVEIAWPQK\" + \\\n",
    "                \"RNSSPRDILISLRTSFADFATAFTEVVDFVPYEETLKQLARERYKAYRVA\" + \\\n",
    "                \"GFNLNTATWK\"\n",
    "       \n",
    "How many possible DNA-sequence encodings are possible for this protein?"
   ]
  },
  {
   "cell_type": "code",
   "execution_count": 2,
   "metadata": {},
   "outputs": [
    {
     "name": "stdout",
     "output_type": "stream",
     "text": [
      "{'K': ['AAA', 'AAG'], 'N': ['AAC', 'AAU'], 'R': ['AGA', 'AGG', 'CGA', 'CGG', 'CGC', 'CGU'], 'S': ['AGC', 'AGU', 'UCA', 'UCG', 'UCC', 'UCU'], 'T': ['ACA', 'ACG', 'ACC', 'ACU'], 'I': ['AUA', 'AUC', 'AUU'], 'M': ['AUG'], 'E': ['GAA', 'GAG'], 'D': ['GAC', 'GAU'], 'G': ['GGA', 'GGG', 'GGC', 'GGU'], 'A': ['GCA', 'GCG', 'GCC', 'GCU'], 'V': ['GUA', 'GUG', 'GUC', 'GUU'], 'Q': ['CAA', 'CAG'], 'H': ['CAC', 'CAU'], 'P': ['CCA', 'CCG', 'CCC', 'CCU'], 'L': ['CUA', 'CUG', 'CUC', 'CUU', 'UUA', 'UUG'], '*': ['UAA', 'UAG', 'UGA'], 'Y': ['UAC', 'UAU'], 'W': ['UGG'], 'C': ['UGC', 'UGU'], 'F': ['UUC', 'UUU']}\n",
      "277854082212010956505804149831122269065829934762767371301132511301926141288251392\n"
     ]
    }
   ],
   "source": [
    "import itertools\n",
    "\n",
    "codon = {  # Maps an RNA triplet of nucelotides to a 1-letter Amino Acid Abbrevation \n",
    "    \"AAA\": 'K', \"AAG\": 'K', \"AAC\": 'N', \"AAU\": 'N',\n",
    "    \"AGA\": 'R', \"AGG\": 'R', \"AGC\": 'S', \"AGU\": 'S',\n",
    "    \"ACA\": 'T', \"ACG\": 'T', \"ACC\": 'T', \"ACU\": 'T',\n",
    "    \"AUA\": 'I', \"AUG\": 'M', \"AUC\": 'I', \"AUU\": 'I',\n",
    "    \"GAA\": 'E', \"GAG\": 'E', \"GAC\": 'D', \"GAU\": 'D',\n",
    "    \"GGA\": 'G', \"GGG\": 'G', \"GGC\": 'G', \"GGU\": 'G',\n",
    "    \"GCA\": 'A', \"GCG\": 'A', \"GCC\": 'A', \"GCU\": 'A',\n",
    "    \"GUA\": 'V', \"GUG\": 'V', \"GUC\": 'V', \"GUU\": 'V',\n",
    "    \"CAA\": 'Q', \"CAG\": 'Q', \"CAC\": 'H', \"CAU\": 'H',\n",
    "    \"CGA\": 'R', \"CGG\": 'R', \"CGC\": 'R', \"CGU\": 'R',\n",
    "    \"CCA\": 'P', \"CCG\": 'P', \"CCC\": 'P', \"CCU\": 'P',\n",
    "    \"CUA\": 'L', \"CUG\": 'L', \"CUC\": 'L', \"CUU\": 'L',\n",
    "    \"UAA\": '*', \"UAG\": '*', \"UAC\": 'Y', \"UAU\": 'Y',\n",
    "    \"UGA\": '*', \"UGG\": 'W', \"UGC\": 'C', \"UGU\": 'C',\n",
    "    \"UCA\": 'S', \"UCG\": 'S', \"UCC\": 'S', \"UCU\": 'S',\n",
    "    \"UUA\": 'L', \"UUG\": 'L', \"UUC\": 'F', \"UUU\": 'F'\n",
    "}\n",
    "\n",
    "HolC =  \"MTTHLNPPQEAPYMKNATFYLLDNDTTVNGLSAVEQLVCEIAAERWRAGK\" + \\\n",
    "        \"RVLIACEDEKQAIRLDEALWARPAESFVPHNLAGEGPRGGAPVEIAWPQK\" + \\\n",
    "        \"RNSSPRDILISLRTSFADFATAFTEVVDFVPYEETLKQLARERYKAYRVA\" + \\\n",
    "        \"GFNLNTATWK\"\n",
    "\n",
    "# calculate the number of possible ways to represent each amino acid\n",
    "TrimerCodes = {}\n",
    "for key, code in codon.items():\n",
    "#     print(key, code)\n",
    "    if code in TrimerCodes:\n",
    "        TrimerCodes[code].append(key)\n",
    "    else:\n",
    "        TrimerCodes[code] = [key]\n",
    "#     TrimerCodes.update(code, TrimerCodes.get(code, []) + [key])\n",
    "\n",
    "    \n",
    "print(TrimerCodes)\n",
    "\n",
    "# count the amount of permutations of each acid\n",
    "CodeAmnts = {}\n",
    "for key, arr in TrimerCodes.items():\n",
    "    CodeAmnts[key] = len(TrimerCodes[key])\n",
    "    \n",
    "# print(CodeAmnts)\n",
    "\n",
    "# iterate through each character, and multiply the number of encodings of each by the prior total\n",
    "tot = 1\n",
    "for acid in HolC:\n",
    "#     print(acid)\n",
    "    tot = tot * CodeAmnts.get(acid)\n",
    "    \n",
    "print(tot)"
   ]
  },
  {
   "cell_type": "raw",
   "metadata": {
    "number": 2,
    "section": "answer"
   },
   "source": [
    "277854082212010956505804149831122269065829934762767371301132511301926141288251392\n",
    "\n",
    "We calculate there are this many possible encodings by first calculating how many encodings there are for each acid, and then in an exercise in simple combinational logic, we multiply out the independent probabilities of each encoding per acid to reach this number."
   ]
  },
  {
   "cell_type": "markdown",
   "metadata": {
    "number": 3,
    "section": "problem"
   },
   "source": [
    "---\n",
    "**Problem #3:** Find the coding sequence for the *HolC* in [*Salmonella Typhimurium*](http://csbio.unc.edu/mcmillan/Comp555S18/data/SalmonellaTyphimurium.fa). Your answer should give the sequence's slice interval in the genome (i.e. seq[start:end], where end=start+3&times;160) from the start codon to just before the stop codon. Note the the gene sequence might appear either on the primary sequence or its reverse complement."
   ]
  },
  {
   "cell_type": "code",
   "execution_count": 1,
   "metadata": {},
   "outputs": [
    {
     "name": "stdout",
     "output_type": "stream",
     "text": [
      "[]\n",
      "[137082]\n",
      "ATGACAACGCATTTAAATCCACCACAAGAAGCCCCATATATGAAAAATGCGACGTTCTATCTTCTGGATAATGACACCACCGTCAACGGTTTAAGCGCCGTTGAACAACTGGTGTGTGAAATTGCCGCAGAACGTTGGCGCGCGGGCAAGCGCGTGCTGATCGCCTGCGAAGATGAGAAGCAGGCCATTCGGCTGGATGAAGCGCTGTGGGCAAGACCGGCGGAAAGTTTTGTCCCGCACAATCTGGCAGGCGAAGGCCCACGCGGCGGCGCGCCGGTTGAAATCGCCTGGCCGCAAAAACGCAACAGCAGCCCGCGCGATATTTTAATCAGCCTGCGTACAAGCTTTGCAGATTTTGCCACCGCTTTCACAGAAGTGGTAGACTTCGTCCCTTACGAAGAAACTTTGAAACAACTGGCGCGCGAACGCTACAAAGCCTACCGCGTGGCTGGTTTTAACCTGAATACGGCAACCTGGAAA\n",
      "TTTCCAGGTTGCCGTATTCAGGTTAAAACCAGCCACGCGGTAGGCTTTGTAGCGTTCGCGCGCCAGTTGTTTCAAAGTTTCTTCGTAAGGGACGAAGTCTACCACTTCTGTGAAAGCGGTGGCAAAATCTGCAAAGCTTGTACGCAGGCTGATTAAAATATCGCGCGGGCTGCTGTTGCGTTTTTGCGGCCAGGCGATTTCAACCGGCGCGCCGCCGCGTGGGCCTTCGCCTGCCAGATTGTGCGGGACAAAACTTTCCGCCGGTCTTGCCCACAGCGCTTCATCCAGCCGAATGGCCTGCTTCTCATCTTCGCAGGCGATCAGCACGCGCTTGCCCGCGCGCCAACGTTCTGCGGCAATTTCACACACCAGTTGTTCAACGGCGCTTAAACCGTTGACGGTGGTGTCATTATCCAGAAGATAGAACGTCGCATTTTTCATATATGGGGCTTCTTGTGGTGGATTTAAATGCGTTGTCAT\n",
      "The frame on the reverse complement is 137082 to 137562\n",
      "The frame on the original sequence is then 4719871 to 4720351\n"
     ]
    }
   ],
   "source": [
    "# Important constants\n",
    "codon = {  # Maps an RNA triplet of nucelotides to a 1-letter Amino Acid Abbrevation \n",
    "    \"AAA\": 'K', \"AAG\": 'K', \"AAC\": 'N', \"AAU\": 'N',\n",
    "    \"AGA\": 'R', \"AGG\": 'R', \"AGC\": 'S', \"AGU\": 'S',\n",
    "    \"ACA\": 'T', \"ACG\": 'T', \"ACC\": 'T', \"ACU\": 'T',\n",
    "    \"AUA\": 'I', \"AUG\": 'M', \"AUC\": 'I', \"AUU\": 'I',\n",
    "    \"GAA\": 'E', \"GAG\": 'E', \"GAC\": 'D', \"GAU\": 'D',\n",
    "    \"GGA\": 'G', \"GGG\": 'G', \"GGC\": 'G', \"GGU\": 'G',\n",
    "    \"GCA\": 'A', \"GCG\": 'A', \"GCC\": 'A', \"GCU\": 'A',\n",
    "    \"GUA\": 'V', \"GUG\": 'V', \"GUC\": 'V', \"GUU\": 'V',\n",
    "    \"CAA\": 'Q', \"CAG\": 'Q', \"CAC\": 'H', \"CAU\": 'H',\n",
    "    \"CGA\": 'R', \"CGG\": 'R', \"CGC\": 'R', \"CGU\": 'R',\n",
    "    \"CCA\": 'P', \"CCG\": 'P', \"CCC\": 'P', \"CCU\": 'P',\n",
    "    \"CUA\": 'L', \"CUG\": 'L', \"CUC\": 'L', \"CUU\": 'L',\n",
    "    \"UAA\": '*', \"UAG\": '*', \"UAC\": 'Y', \"UAU\": 'Y',\n",
    "    \"UGA\": '*', \"UGG\": 'W', \"UGC\": 'C', \"UGU\": 'C',\n",
    "    \"UCA\": 'S', \"UCG\": 'S', \"UCC\": 'S', \"UCU\": 'S',\n",
    "    \"UUA\": 'L', \"UUG\": 'L', \"UUC\": 'F', \"UUU\": 'F'\n",
    "}\n",
    "\n",
    "HolC =  \"MTTHLNPPQEAPYMKNATFYLLDNDTTVNGLSAVEQLVCEIAAERWRAGK\" + \\\n",
    "        \"RVLIACEDEKQAIRLDEALWARPAESFVPHNLAGEGPRGGAPVEIAWPQK\" + \\\n",
    "        \"RNSSPRDILISLRTSFADFATAFTEVVDFVPYEETLKQLARERYKAYRVA\" + \\\n",
    "        \"GFNLNTATWK\"\n",
    "\n",
    "\n",
    "# we need to begin by loading the genome\n",
    "def loadFasta(filename):\n",
    "    \"\"\" Parses a classically formatted and possibly \n",
    "        compressed FASTA file into a list of headers \n",
    "        and fragment sequences for each sequence contained\"\"\"\n",
    "    if (filename.endswith(\".gz\")):\n",
    "        fp = gzip.open(filename, 'rb')\n",
    "    else:\n",
    "        fp = open(filename, 'r')\n",
    "    # split at headers\n",
    "    data = fp.read().split('>')\n",
    "    fp.close()\n",
    "    # ignore whatever appears before the 1st header\n",
    "    data.pop(0)     \n",
    "    headers = []\n",
    "    sequences = []\n",
    "    for sequence in data:\n",
    "        lines = sequence.split('\\n')\n",
    "        headers.append(lines.pop(0))\n",
    "        # add an extra \"+\" to make string \"1-referenced\"\n",
    "        sequences.append('+' + ''.join(lines))\n",
    "    return (headers, sequences)\n",
    "\n",
    "headers, sequences = loadFasta(\"SalmonellaTyphimurium.fa\")\n",
    "\n",
    "# Now we contstruct the TrimerCodes\n",
    "TrimerCodes = {}\n",
    "for key, code in codon.items():\n",
    "    if code in TrimerCodes:\n",
    "        TrimerCodes[code].append(key)\n",
    "    else:\n",
    "        TrimerCodes[code] = [key]\n",
    "\n",
    "# This builds the reverse complement of a DNA sequence\n",
    "def revComp(dnaSeq):\n",
    "    return ''.join([{'A':'T','C':'G','G':'C','T':'A'}.get(base, '') for base in reversed(dnaSeq)])\n",
    "\n",
    "# This calculates the amount of occurences of a single amino acid sequence in \n",
    "def AminoAcidSeqCount(genome, peptideSeq):   # Note: Only checks primary strand\n",
    "    readframe = []\n",
    "    anchor = peptideSeq[0]\n",
    "    for rnaSeq in TrimerCodes[anchor]:\n",
    "        dnaSeq = rnaSeq.replace('U','T')\n",
    "        start = 0\n",
    "        while True:\n",
    "            pos = genome.find(dnaSeq, start)\n",
    "            if (pos < 0):\n",
    "                break\n",
    "            i = 1\n",
    "            while (i < len(peptideSeq) and (pos+3*(i+1) <= len(genome))):\n",
    "                if (codon[genome[pos+3*i:pos+3*(i+1)].replace('T','U')] != peptideSeq[i]):\n",
    "                    break\n",
    "                i += 1\n",
    "            else:\n",
    "                readframe.append(pos)\n",
    "            start = pos + 1\n",
    "        return readframe\n",
    "\n",
    "# now that we have loaed the genome, we must look for the encoding\n",
    "DNA = sequences[0]\n",
    "\n",
    "# check the original DNA sequence for the acid encoding\n",
    "rf1 = AminoAcidSeqCount(DNA, HolC)\n",
    "print(rf1)\n",
    "# check the reverse complement for the acid encoding\n",
    "rDNA = revComp(DNA)\n",
    "rf2 = AminoAcidSeqCount(rDNA, HolC)\n",
    "print(rf2)\n",
    "\n",
    "# check the returned frame\n",
    "print(rDNA[rf2[0]:rf2[0] + (3 * len(HolC))])\n",
    "\n",
    "# check the reverse of the returned frame\n",
    "end = len(DNA) - rf2[0]\n",
    "start = len(DNA) - rf2[0] - (3 * len(HolC))\n",
    "print(DNA[start:end])\n",
    "\n",
    "# Print the frame\n",
    "print(\"The frame on the reverse complement is\", rf2[0], \"to\", rf2[0] + (3 * len(HolC)))\n",
    "print(\"The frame on the original sequence is then\", start , \"to\", end)"
   ]
  },
  {
   "cell_type": "raw",
   "metadata": {
    "number": 3,
    "section": "answer"
   },
   "source": [
    "[4719871:4720351] in the original sequence\n",
    "[137082:137562] in the reverse complement\n",
    "\n",
    "We search through the genome sequence for the first item in the amino acid sequence, and then move from there onto the second one, checking repeatedly on the multiples of three for all encodings of each acid.  We search both the genome and the reverse complement for the amino acid sequence, and this was found in the reverse complement. We then calculate an inverse going along the string backwards to find the original location on the original sequence."
   ]
  },
  {
   "cell_type": "markdown",
   "metadata": {
    "number": 4,
    "section": "problem"
   },
   "source": [
    "**Problem #4:** How many *distinct* subpeptides can the *HolC* protein from problems 3 and 4 be broken into? How many *distinct* molecular weights appear in its Theoretical Spectrum?"
   ]
  },
  {
   "cell_type": "code",
   "execution_count": 67,
   "metadata": {},
   "outputs": [
    {
     "name": "stdout",
     "output_type": "stream",
     "text": [
      "We have 12704 distinct subpeptides\n",
      "We have 7909 distinct molecular weights\n"
     ]
    }
   ],
   "source": [
    "# Important constants\n",
    "codon = {  # Maps an RNA triplet of nucelotides to a 1-letter Amino Acid Abbrevation \n",
    "    \"AAA\": 'K', \"AAG\": 'K', \"AAC\": 'N', \"AAU\": 'N',\n",
    "    \"AGA\": 'R', \"AGG\": 'R', \"AGC\": 'S', \"AGU\": 'S',\n",
    "    \"ACA\": 'T', \"ACG\": 'T', \"ACC\": 'T', \"ACU\": 'T',\n",
    "    \"AUA\": 'I', \"AUG\": 'M', \"AUC\": 'I', \"AUU\": 'I',\n",
    "    \"GAA\": 'E', \"GAG\": 'E', \"GAC\": 'D', \"GAU\": 'D',\n",
    "    \"GGA\": 'G', \"GGG\": 'G', \"GGC\": 'G', \"GGU\": 'G',\n",
    "    \"GCA\": 'A', \"GCG\": 'A', \"GCC\": 'A', \"GCU\": 'A',\n",
    "    \"GUA\": 'V', \"GUG\": 'V', \"GUC\": 'V', \"GUU\": 'V',\n",
    "    \"CAA\": 'Q', \"CAG\": 'Q', \"CAC\": 'H', \"CAU\": 'H',\n",
    "    \"CGA\": 'R', \"CGG\": 'R', \"CGC\": 'R', \"CGU\": 'R',\n",
    "    \"CCA\": 'P', \"CCG\": 'P', \"CCC\": 'P', \"CCU\": 'P',\n",
    "    \"CUA\": 'L', \"CUG\": 'L', \"CUC\": 'L', \"CUU\": 'L',\n",
    "    \"UAA\": '*', \"UAG\": '*', \"UAC\": 'Y', \"UAU\": 'Y',\n",
    "    \"UGA\": '*', \"UGG\": 'W', \"UGC\": 'C', \"UGU\": 'C',\n",
    "    \"UCA\": 'S', \"UCG\": 'S', \"UCC\": 'S', \"UCU\": 'S',\n",
    "    \"UUA\": 'L', \"UUG\": 'L', \"UUC\": 'F', \"UUU\": 'F'\n",
    "}\n",
    "\n",
    "HolC =  \"MTTHLNPPQEAPYMKNATFYLLDNDTTVNGLSAVEQLVCEIAAERWRAGK\" + \\\n",
    "        \"RVLIACEDEKQAIRLDEALWARPAESFVPHNLAGEGPRGGAPVEIAWPQK\" + \\\n",
    "        \"RNSSPRDILISLRTSFADFATAFTEVVDFVPYEETLKQLARERYKAYRVA\" + \\\n",
    "        \"GFNLNTATWK\"\n",
    "        \n",
    "Daltons = { \n",
    "        'A':  71, 'C': 103, 'D': 115, 'E': 129,\n",
    "        'F': 147, 'G':  57, 'H': 137, 'I': 113,\n",
    "        'K': 128, 'L': 113, 'M': 131, 'N': 114,\n",
    "        'P':  97, 'Q': 128, 'R': 156, 'S':  87,\n",
    "        'T': 101, 'V':  99, 'W': 186, 'Y': 163 \n",
    "}\n",
    "        \n",
    "def TheoreticalSpectrum(peptide):\n",
    "    # Generate every possible fragment of a peptide\n",
    "    spectrum = set()\n",
    "    fragments = set()\n",
    "    for fragLength in range(1,len(peptide)+1):\n",
    "        for start in range(0,len(peptide)-fragLength+1):\n",
    "            seq = peptide[start:start+fragLength]\n",
    "            spectrum.add(sum([Daltons[res] for res in seq]))\n",
    "            fragments.add(seq)\n",
    "    return sorted(spectrum), sorted(fragments)\n",
    "\n",
    "\n",
    "# print the subpeptides and molecular weights\n",
    "spec, frag = TheoreticalSpectrum(HolC)\n",
    "print(\"We have\", len(frag), \"distinct subpeptides\")\n",
    "print(\"We have\", len(spec), \"distinct molecular weights\")"
   ]
  },
  {
   "cell_type": "raw",
   "metadata": {
    "number": 4,
    "section": "answer"
   },
   "source": [
    "[12704, 7909]\n",
    "\n",
    "There are 12704 distinct subpeptides, as well as 7909 distinct molecular weights in HolC's theoretical spectrum.\n",
    "This is calculated by breaking down all the separate substrings of the HolC chain, and placing them and their calculated molecular weights into sets, which maintain the unique items within them.  "
   ]
  },
  {
   "cell_type": "markdown",
   "metadata": {
    "number": 5,
    "section": "problem"
   },
   "source": [
    "**Problem #5: Programming Problem**\n",
    "\n",
    "In class, we discussed techniques for finding occurrences of a motif in a larger DNA string. However, because a DNA strand coding for a protein is often interspersed with introns (segments of DNA that do not code for proteins), we need a way to recognize a motif that has been chopped up into pieces along a chromosome.\n",
    "\n",
    "A subsequence of a string is a collection of symbols contained in order (though not necessarily contiguously) in the string (e.g., ACG is a subsequence of TATGCTAAGATC). The indices of a subsequence are the positions in the string at which the symbols of the subsequence appear. For example, the indices of ACG in TATGCTAAGATCG can be represented by 6 combinations of indices: (2, 5, 9), (2, 5, 13), (2, 12, 13), (7, 12, 13), (8, 12, 13), and (10, 12, 13). \n",
    "\n",
    "Write a program that takes two strings: a string `s` and a sequence, and returns a list of index tuples for which `s` appears as a subsequence in the sequence:\n",
    "\n",
    "\n",
    "     findSubsequences(s, sequence)\n",
    "\n",
    "\n",
    "Apply your algorithm to the following set of sequences:\n",
    "\n",
    "<pre>\n",
    "test =  \"ggtaattgcctcgcataacgcggtgtgaaaatggattgaagcccgggcggtggattctac\"+\\\n",
    "        \"tcaactttagccgatggagaaagccccgggatccgggctattaaaaagaagatcttttta\"+\\\n",
    "        \"tttagagatctgttctattgtgatctcttattaggatcgcgccaggctgtggataacccg\"+\\\n",
    "        \"gatcctgtaataaagatcaatgcgttggaaaggatcactagctgtgaatgatcggtgatc\"\n",
    "\n",
    "subseq=\"gactc\"\n",
    "</pre>\n",
    "\n",
    "Use the %time *magic* function to gauge the performance of your method to the one given."
   ]
  },
  {
   "cell_type": "code",
   "execution_count": 4,
   "metadata": {
    "number": 5,
    "section": "answer"
   },
   "outputs": [
    {
     "name": "stdout",
     "output_type": "stream",
     "text": [
      "CPU times: user 2.07 s, sys: 154 ms, total: 2.22 s\n",
      "Wall time: 2.26 s\n"
     ]
    }
   ],
   "source": [
    "# Enter your program here\n",
    "def findSubsequences(s, sequence):\n",
    "    \"\"\"Read in a sequence and a substring to find within it, and output locations of the substrings\"\"\"\n",
    "    # begin by processing the sequence and caching it into a dictionary\n",
    "    contents = {}\n",
    "    for i in range(len(sequence)):\n",
    "        if sequence[i] in contents:\n",
    "            contents[sequence[i]].append(i)\n",
    "        else:\n",
    "            contents[sequence[i]] = [i]\n",
    "\n",
    "    # iterate through and find all characters in order, starting at each first character\n",
    "    correct = [(i,) for i in contents.get(s[0])]\n",
    "    \n",
    "    for i in range(1, len(s)):\n",
    "        newcorrect = []\n",
    "        for ind in contents[s[i]]:\n",
    "            for cor in correct:\n",
    "                if cor[i - 1] > ind:\n",
    "                    continue\n",
    "                else:\n",
    "                    newcorrect.append(cor + (ind, ))\n",
    "        correct = newcorrect\n",
    "    \n",
    "test =  \"ggtaattgcctcgcataacgcggtgtgaaaatggattgaagcccgggcggtggattctac\"+\\\n",
    "        \"tcaactttagccgatggagaaagccccgggatccgggctattaaaaagaagatcttttta\"+\\\n",
    "        \"tttagagatctgttctattgtgatctcttattaggatcgcgccaggctgtggataacccg\"+\\\n",
    "        \"gatcctgtaataaagatcaatgcgttggaaaggatcactagctgtgaatgatcggtgatc\"\n",
    "\n",
    "subseq=\"gactc\"\n",
    "\n",
    "%time findSubsequences(subseq, test)"
   ]
  },
  {
   "cell_type": "markdown",
   "metadata": {
    "section": "submit"
   },
   "source": [
    "Click [here to submit](http://csbio.unc.edu/mcmillan/index.py?run=PS.upload) your completed problem set. **Make sure that you do not overwrite a previous problem set!**"
   ]
  }
 ],
 "metadata": {
  "celltoolbar": "Edit Metadata",
  "kernelspec": {
   "display_name": "Python 2",
   "language": "python",
   "name": "python2"
  },
  "language_info": {
   "codemirror_mode": {
    "name": "ipython",
    "version": 2
   },
   "file_extension": ".py",
   "mimetype": "text/x-python",
   "name": "python",
   "nbconvert_exporter": "python",
   "pygments_lexer": "ipython2",
   "version": "2.7.14"
  }
 },
 "nbformat": 4,
 "nbformat_minor": 1
}
