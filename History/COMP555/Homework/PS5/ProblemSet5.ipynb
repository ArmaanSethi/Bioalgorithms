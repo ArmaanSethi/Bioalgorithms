{
 "cells": [
  {
   "cell_type": "markdown",
   "metadata": {
    "section": "header"
   },
   "source": [
    "---\n",
    "<div style=\"text-align: center;\">\n",
    "<h1>The University of North Carolina at Chapel Hill</h1>\n",
    "<h1>Comp 555 BioAlgorithms - Spring 2017</h1>\n",
    "<h1 style=\"font-size: 250%;\">Problem Set #5</h1>\n",
    "<h1>Issued Thursday, 4/19/2018; Due Thursday, 4/19/2018</h1>\n",
    "</div>\n",
    "\n",
    "**Homework Information:** These problems are so simple that you only have 60 minutes to complete and turn them in. BTW, they are each worth 10 points, which will be added to the 60 points that everyone will be credited, whether or not that turn in a problem set."
   ]
  },
  {
   "cell_type": "code",
   "execution_count": 1,
   "metadata": {
    "section": "signature"
   },
   "outputs": [],
   "source": [
    "# Replace the following string values with the requested information\n",
    "class Student:\n",
    "    first = \"Mohamed\"\n",
    "    last = \"Lansari\"\n",
    "    onyen = \"mlans13\"\n",
    "    pid = \"730013359\""
   ]
  },
  {
   "cell_type": "markdown",
   "metadata": {
    "number": 1,
    "section": "problem"
   },
   "source": [
    "---\n",
    "**Problem #1:** How many reversal breakpoints does the permutation [8, 7, 10, 9, 6, 5, 4, 3, 2, 1] have? What does this imply about the lower bound on the number of reversals necessary to sort the given permutation?"
   ]
  },
  {
   "cell_type": "raw",
   "metadata": {
    "number": 1,
    "section": "answer"
   },
   "source": [
    "This permutation has 4 breakpoints in it, countable by the two within the permutation, and the one at the beginning and the end.  The Oracle-level bound to sort the permutation, which is the most efficient, would take two reversals, giving us our lower bound."
   ]
  },
  {
   "cell_type": "markdown",
   "metadata": {
    "number": 2,
    "section": "problem"
   },
   "source": [
    "---\n",
    "**Problem #2:** How many reversals does the **GreedyReversalSort()** algorithm require to sort the given permutation? How many reversals does the **improvedBreakpointReversalSort()** algorithm require? Is this what you'd expected? Explain why?"
   ]
  },
  {
   "cell_type": "code",
   "execution_count": 6,
   "metadata": {},
   "outputs": [
    {
     "name": "stdout",
     "output_type": "stream",
     "text": [
      "rho( 1,10) = [1, 2, 3, 4, 5, 6, 9, 10, 7, 8]\n",
      "rho( 7, 9) = [1, 2, 3, 4, 5, 6, 7, 10, 9, 8]\n",
      "rho( 8,10) = [1, 2, 3, 4, 5, 6, 7, 8, 9, 10]\n",
      "\n",
      "\n"
     ]
    },
    {
     "data": {
      "text/plain": [
       "8"
      ]
     },
     "execution_count": 6,
     "metadata": {},
     "output_type": "execute_result"
    }
   ],
   "source": [
    "# UTIL\n",
    "def hasBreakpoints(seq):\n",
    "    \"\"\" returns True if sequnces in not strictly increasing by 1 \"\"\"\n",
    "    for i in xrange(1, len(seq)):\n",
    "        if (seq[i] != seq[i-1] + 1):\n",
    "            return True\n",
    "    return False\n",
    "\n",
    "def getStrips(seq):\n",
    "    \"\"\" find contained intervals where sequence is ordered, and return intervals\n",
    "    in as lists, increasing and decreasing. Single elements are considered\n",
    "    decreasing. \"Contained\" excludes the first and last interval. \"\"\"\n",
    "    deltas = [seq[i+1] - seq[i] for i in xrange(len(seq)-1)]\n",
    "    increasing = list()\n",
    "    decreasing = list()\n",
    "    start = 0\n",
    "    for i, diff in enumerate(deltas):\n",
    "        if (abs(diff) == 1) and (diff == deltas[start]):\n",
    "            continue\n",
    "        if (start > 0):\n",
    "            if deltas[start] == 1:\n",
    "                increasing.append((start, i+1))\n",
    "            else:\n",
    "                decreasing.append((start, i+1))\n",
    "        start = i+1\n",
    "    return increasing, decreasing\n",
    "\n",
    "def pickReversal(seq, strips):\n",
    "    \"\"\" test each decreasing interval to see if it leads to a reversal that\n",
    "    removes two breakpoints, otherwise, return a reversal that removes only one \"\"\"\n",
    "    for i, j in strips:\n",
    "        k = seq.index(seq[j-1]-1)\n",
    "        if (seq[k+1] + 1 == seq[j]):\n",
    "            # removes 2 breakpoints\n",
    "            return 2, (min(k+1, j), max(k+1, j))\n",
    "    # In the worst case we remove only one, but avoid the length \"1\" strips\n",
    "    for i, j in strips:\n",
    "        k = seq.index(seq[j-1]-1)\n",
    "        if (j - i > 1):\n",
    "            break\n",
    "    return 1, (min(k+1, j), max(k+1, j))\n",
    "\n",
    "def doReversal(seq,(i,j)):\n",
    "    return seq[:i] + [element for element in reversed(seq[i:j])] + seq[j:]\n",
    "\n",
    "# SORTs\n",
    "def GreedyReversalSort(pi):\n",
    "    t = 0\n",
    "    for i in xrange(len(pi)-1):\n",
    "        j = pi.index(min(pi[i:]))\n",
    "        if (j != i):\n",
    "            pi = pi[:i] + [v for v in reversed(pi[i:j+1])] + pi[j+1:]\n",
    "            print \"rho(%2d,%2d) = %s\" % (i+1,j+1,pi)\n",
    "            t += 1\n",
    "    return t\n",
    "\n",
    "def improvedBreakpointReversalSort(seq, verbose=True):\n",
    "    seq = [0] + seq + [max(seq)+1]                             # Extend sequence\n",
    "    N = 0\n",
    "    while hasBreakpoints(seq):\n",
    "        increasing, decreasing = getStrips(seq)\n",
    "        if len(decreasing) > 0:                                # pick a reversal that removes a decreasing strip\n",
    "            removed, reversal = pickReversal(seq, decreasing)\n",
    "        else:\n",
    "            removed, reversal = 0, increasing[0]               # No breakpoints can be removed\n",
    "        if verbose:\n",
    "            print \"Strips:\", increasing, decreasing\n",
    "            print \"%d: %s  rho%s\" % (removed, seq, reversal)\n",
    "            raw_input(\"Press Enter:\")\n",
    "        seq = doReversal(seq,reversal)\n",
    "        N += 1\n",
    "    if verbose:\n",
    "        print seq, \"Sorted\"\n",
    "    return N\n",
    "\n",
    "\n",
    "\n",
    "pi = [8, 7, 10, 9, 6, 5, 4, 3, 2, 1]\n",
    "GreedyReversalSort(pi)\n",
    "\n",
    "print '\\n'\n",
    "\n",
    "improvedBreakpointReversalSort(pi, False)"
   ]
  },
  {
   "cell_type": "raw",
   "metadata": {
    "number": 2,
    "section": "answer"
   },
   "source": [
    "Greedy Reversal sort requires three (3) reversals to sort our permutation.\n",
    "Improved breakpoint reversal sort requires eight (8) reversals to sort our permutation.  This is what I would have expected, as it does function at up to 4 times the optimal algorithm, which is what we got.  However, it tends to be efficient over the large set of problems."
   ]
  },
  {
   "cell_type": "markdown",
   "metadata": {
    "number": 3,
    "section": "problem"
   },
   "source": [
    "---\n",
    "**Problem #3:** Every permutation of length 10 can be generated using <code>itertools.permuations(range(1,11))</code> (there are 10! = 3,628,800). The number of breakpoints in each permutation can be determined using the results of **getStrips()** and from this the lower bound of the optimal algorithm can be computed $b(\\Pi)/2$. Find the approximation ratio for the **improvedBreakpointReversalSort()** algorithm over all permuations of length 10 and an example permutation that achieves it."
   ]
  },
  {
   "cell_type": "code",
   "execution_count": 10,
   "metadata": {},
   "outputs": [
    {
     "name": "stdout",
     "output_type": "stream",
     "text": [
      "3.0 100000\n",
      "3.0 200000\n",
      "3.5 300000\n",
      "3.5 400000\n",
      "3.5 500000\n",
      "3.5 600000\n",
      "3.5 700000\n",
      "3.5 800000\n",
      "3.5 900000\n",
      "3.5 1000000\n",
      "3.5 1100000\n",
      "3.5 1200000\n",
      "3.5 1300000\n",
      "3.5 1400000\n",
      "3.5 1500000\n",
      "3.5 1600000\n",
      "3.5 1700000\n",
      "3.5 1800000\n",
      "3.5 1900000\n",
      "3.5 2000000\n",
      "3.5 2100000\n",
      "3.5 2200000\n",
      "3.5 2300000\n",
      "3.5 2400000\n",
      "3.5 2500000\n",
      "3.5 2600000\n",
      "3.5 2700000\n",
      "3.5 2800000\n",
      "4.0 2900000\n",
      "4.0 3000000\n",
      "4.0 3100000\n",
      "4.0 3200000\n",
      "4.0 3300000\n",
      "4.0 3400000\n",
      "4.0 3500000\n",
      "4.0 3600000\n",
      "3628800 4.0 [8, 7, 10, 9, 6, 5, 4, 3, 2, 1]\n"
     ]
    }
   ],
   "source": [
    "import itertools\n",
    "\n",
    "#globals\n",
    "n = 0\n",
    "rhi = 0\n",
    "worst = []\n",
    "\n",
    "for pi in itertools.permutations(range(1, 11)):\n",
    "    # test per permutation\n",
    "    increasing, decreasing = getStrips([0] + list(pi) + [max(pi) + 1])\n",
    "    opt = ((len(increasing) + len(decreasing) + 1) + 1) / 2\n",
    "    a = improvedBreakpointReversalSort(list(pi), False)\n",
    "    \n",
    "    r = a / float(opt)\n",
    "    if (r > rhi):\n",
    "        rhi = r\n",
    "        worst = [v for v in pi]\n",
    "    n += 1\n",
    "    \n",
    "    if (n % 100000 == 0):\n",
    "        print rhi, n\n",
    "    \n",
    "print n, rhi, worst"
   ]
  },
  {
   "cell_type": "raw",
   "metadata": {
    "number": 3,
    "section": "answer"
   },
   "source": [
    "The approximation ratio over all permutations of length 10 is what is predicted in the worst case for improvedBreakpointReversalSort, four (4).  A permutation that achieves this is [8, 7, 10, 9, 6, 5, 4, 3, 2, 1]."
   ]
  },
  {
   "cell_type": "markdown",
   "metadata": {
    "number": 4,
    "section": "problem"
   },
   "source": [
    "---\n",
    "**Problem #4:** I decided that the setup required and the potential for mistakes made doing a realistic HMM problem prohibitive. So here is a toy question similar to one you might have on a final exam:\n",
    "\n",
    "Consider the following list of path probabilities for a series of 6 coin flips seen in the ***Unfair Casino*** game described in class:\n",
    "\n",
    "<pre>\n",
    "       P     &pi;            P     &pi;            P     &pi;           P     &pi;\n",
    "    0.0058 BBBBBB      0.0001 BBBFFB      0.0000 FFFBFF     0.0000 FBBFBF\n",
    "    0.0046 FFFFFF      0.0001 FFFFBF      0.0000 FFBFBB     0.0000 BFBBFF\n",
    "    0.0013 FBBBBB      0.0001 FFBFFF      0.0000 FBFFBB     0.0000 BFFBBF\n",
    "    0.0012 FFFFBB      0.0001 FBFFFF      0.0000 FBBFFB     0.0000 BBFBFF\n",
    "    0.0009 FFBBBB      0.0001 FFBBBF      0.0000 FFBFFB     0.0000 FFBFBF\n",
    "    0.0008 FFFFFB      0.0001 BFFFBB      0.0000 FBFFFB     0.0000 FBFFBF\n",
    "    0.0006 FFFBBB      0.0001 FBBBFF      0.0000 FBFBBB     0.0000 BFFBFF\n",
    "    0.0006 BBBFFF      0.0001 BBFFFB      0.0000 FBBBFB     0.0000 BFBFBB\n",
    "    0.0004 BBBBBF      0.0000 BFBBBB      0.0000 BBBFBF     0.0000 FBFBBF\n",
    "    0.0004 BBFFFF      0.0000 BBBBFB      0.0000 FFBBFB     0.0000 BFBFFB\n",
    "    0.0003 BBBBFF      0.0000 BBFBBB      0.0000 BBFFBF     0.0000 FBFBFF\n",
    "    0.0003 BFFFFF      0.0000 BFFFFB      0.0000 BFFFBF     0.0000 BFBBFB\n",
    "    0.0001 BBBFBB      0.0000 FFFBBF      0.0000 BFBFFF     0.0000 BBFBFB\n",
    "    0.0001 FBBFFF      0.0000 FFBBFF      0.0000 FFFBFB     0.0000 BFFBFB\n",
    "    0.0001 FBBBBF      0.0000 FBBFBB      0.0000 BFBBBF     0.0000 FBFBFB\n",
    "    0.0001 BBFFBB      0.0000 BFFBBB      0.0000 BBFBBF     0.0000 BFBFBF\n",
    "</pre>\n",
    "\n",
    "They are sorted from the highest to the lowest probable. The most probable path is <code>BBBBBB</code>, which suggest that the *biased* coin was used for every flip. If we examine the probability of what coin was used at each flip, is there any position where the most likely state differs from the same state in the most probable path? If so, at what position? If not, explain why?"
   ]
  },
  {
   "cell_type": "code",
   "execution_count": 25,
   "metadata": {},
   "outputs": [
    {
     "name": "stdout",
     "output_type": "stream",
     "text": [
      "The result at pos 0 is 0.0101 for f and 0.0083 for b\n",
      "This one is different\n",
      "The result at pos 1 is 0.0088 for f and 0.0096 for b\n",
      "The result at pos 2 is 0.0084 for f and 0.01 for b\n",
      "The result at pos 3 is 0.0088 for f and 0.0096 for b\n",
      "The result at pos 4 is 0.0076 for f and 0.0108 for b\n",
      "The result at pos 5 is 0.0073 for f and 0.0111 for b\n"
     ]
    }
   ],
   "source": [
    "probs = \"\"\"0.0058 BBBBBB\n",
    "0.0001 BBBFFB\n",
    "0.0000 FFFBFF\n",
    "0.0000 FBBFBF\n",
    "0.0046 FFFFFF\n",
    "0.0001 FFFFBF\n",
    "0.0000 FFBFBB\n",
    "0.0000 BFBBFF\n",
    "0.0013 FBBBBB\n",
    "0.0001 FFBFFF\n",
    "0.0000 FBFFBB\n",
    "0.0000 BFFBBF\n",
    "0.0012 FFFFBB\n",
    "0.0001 FBFFFF\n",
    "0.0000 FBBFFB\n",
    "0.0000 BBFBFF\n",
    "0.0009 FFBBBB\n",
    "0.0001 FFBBBF\n",
    "0.0000 FFBFFB\n",
    "0.0000 FFBFBF\n",
    "0.0008 FFFFFB\n",
    "0.0001 BFFFBB\n",
    "0.0000 FBFFFB\n",
    "0.0000 FBFFBF\n",
    "0.0006 FFFBBB\n",
    "0.0001 FBBBFF\n",
    "0.0000 FBFBBB\n",
    "0.0000 BFFBFF\n",
    "0.0006 BBBFFF\n",
    "0.0001 BBFFFB\n",
    "0.0000 FBBBFB\n",
    "0.0000 BFBFBB\n",
    "0.0004 BBBBBF\n",
    "0.0000 BFBBBB\n",
    "0.0000 BBBFBF\n",
    "0.0000 FBFBBF\n",
    "0.0004 BBFFFF\n",
    "0.0000 BBBBFB\n",
    "0.0000 FFBBFB\n",
    "0.0000 BFBFFB\n",
    "0.0003 BBBBFF\n",
    "0.0000 BBFBBB\n",
    "0.0000 BBFFBF\n",
    "0.0000 FBFBFF\n",
    "0.0003 BFFFFF\n",
    "0.0000 BFFFFB\n",
    "0.0000 BFFFBF\n",
    "0.0000 BFBBFB\n",
    "0.0001 BBBFBB\n",
    "0.0000 FFFBBF\n",
    "0.0000 BFBFFF\n",
    "0.0000 BBFBFB\n",
    "0.0001 FBBFFF\n",
    "0.0000 FFBBFF\n",
    "0.0000 FFFBFB\n",
    "0.0000 BFFBFB\n",
    "0.0001 FBBBBF\n",
    "0.0000 FBBFBB\n",
    "0.0000 BFBBBF\n",
    "0.0000 FBFBFB\n",
    "0.0001 BBFFBB\n",
    "0.0000 BFFBBB\n",
    "0.0000 BBFBBF\n",
    "0.0000 BFBFBF\"\"\"\n",
    "\n",
    "dat = probs.split('\\n')\n",
    "info = [(float(v.split()[0]), v.split()[1]) for v in dat]\n",
    "    \n",
    "for x in xrange(6):\n",
    "    fprob, bprob = 0.0, 0.0\n",
    "    \n",
    "    for t in info:\n",
    "        if t[1][x] == 'F':\n",
    "            fprob += t[0]\n",
    "        else:\n",
    "            bprob += t[0]\n",
    "    \n",
    "    # print the result\n",
    "    print \"The result at pos \" + str(x) + \" is \" + str(fprob) + \" for f and \" + str(bprob) + \" for b\" \n",
    "    if fprob > bprob:\n",
    "        print \"This one is different\""
   ]
  },
  {
   "cell_type": "raw",
   "metadata": {
    "number": 4,
    "section": "answer"
   },
   "source": [
    "At the initial state, the probability of f is higher than b, with 0.0101 greater than .0083, though the most probable path has b at the first position.  This is the location at which the individual probability differs from the path."
   ]
  },
  {
   "cell_type": "markdown",
   "metadata": {
    "section": "submit"
   },
   "source": [
    "Click [here to submit](http://csbio.unc.edu/mcmillan/index.py?run=PS.upload) your completed problem set"
   ]
  }
 ],
 "metadata": {
  "anaconda-cloud": {},
  "kernelspec": {
   "display_name": "Python 3",
   "language": "python",
   "name": "python3"
  },
  "language_info": {
   "codemirror_mode": {
    "name": "ipython",
    "version": 3
   },
   "file_extension": ".py",
   "mimetype": "text/x-python",
   "name": "python",
   "nbconvert_exporter": "python",
   "pygments_lexer": "ipython3",
   "version": "3.6.7"
  }
 },
 "nbformat": 4,
 "nbformat_minor": 1
}
