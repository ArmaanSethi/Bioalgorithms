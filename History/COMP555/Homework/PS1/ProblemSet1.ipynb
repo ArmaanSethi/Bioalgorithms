{
 "cells": [
  {
   "cell_type": "markdown",
   "metadata": {
    "section": "header"
   },
   "source": [
    "<div style=\"text-align: center;\">\n",
    "<h1>The University of North Carolina at Chapel Hill</h1>\n",
    "<h1>Comp 555 BioAlgorithms - Spring 2018</h1>\n",
    "<h1 style=\"font-size: 250%;\">Problem Set #1 </h1>\n",
    "<h1>Issued Tuesday, 1/30/2017; Due Thursday, 2/15/2017</h1>\n",
    "</div>\n",
    "\n",
    "**Homework Information:** Some of the problems are probably too long to be done the night before the due date, so plan accordingly. Late problem sets will be penalized by a factor of\t70.71% for each class meeting after the due date. Feel free to get help from others, but the work you submit in should be your own. It is very important that you enter your answers in the provided cells. You can add extra cells to explore approaches, but only the provided cell can and will be graded."
   ]
  },
  {
   "cell_type": "code",
   "execution_count": 1,
   "metadata": {
    "collapsed": true,
    "section": "signature"
   },
   "outputs": [],
   "source": [
    "# Replace the following string values with the requested information\n",
    "class Student:\n",
    "    first = \"Mohamed\"\n",
    "    last = \"Lansari\"\n",
    "    onyen = \"mlans13\"\n",
    "    pid = \"730013359\""
   ]
  },
  {
   "cell_type": "markdown",
   "metadata": {
    "number": 1,
    "section": "problem"
   },
   "source": [
    "---\n",
    "**Problem #1:** \n",
    "\n",
    "A. Find the length of the shortest *missing* *k*-mer in the genome of [Salmonella Typhimurium](http://csbio.unc.edu/mcmillan/Comp555S18/data/SalmonellaTyphimurium.fa) (ignore the second plasmid sequence). Report all missing *k*-mers of that length. \n",
    "\n",
    "B. Given that Salmonella's genome is 4857432 base-pairs in length, how does your answer in (a) compare to the *expected* length of the shortest missing *k*-mer? What are the assumptions of you answer, if any? \n"
   ]
  },
  {
   "cell_type": "code",
   "execution_count": null,
   "metadata": {
    "collapsed": true
   },
   "outputs": [],
   "source": [
    "def loadFasta(filename):\n",
    "    \"\"\" Parses a classically formatted and possibly\n",
    "    compressed FASTA file into a list of headers\n",
    "    and fragment sequences for each sequence contained\"\"\"\n",
    "    if (filename.endswith(\".gz\")):\n",
    "        fp = gzip.open(filename, 'rb')\n",
    "    else:\n",
    "        fp = open(filename, 'rb')\n",
    "    # split at headers\n",
    "    data = fp.read().split('>')\n",
    "    fp.close()\n",
    "    # ignore whatever appears before the 1st header\n",
    "    data.pop(0)\n",
    "    headers = []\n",
    "    sequences = []\n",
    "    for sequence in data:\n",
    "        lines = sequence.split('\\n')\n",
    "        headers.append(lines.pop(0))\n",
    "        # add an extra \"+\" to make string \"1-referenced\"\n",
    "        sequences.append('+' + ''.join(lines))\n",
    "    return (headers, sequences)\n",
    "\n",
    "# A)\n",
    "# Find all of the k-mers in the genome\n",
    "def findKmers(k, sequence):\n",
    "    kmerCount = {}\n",
    "    for i in xrange(len(sequence) - k + 1):\n",
    "        kmer = sequence[i:i + k]\n",
    "        kmerCount[kmer] = kmerCount.get(kmer, 0) + 1\n",
    "    return kmerCount\n",
    "\n",
    "# Iterate through from k = 1 -> N\n",
    "def searchKmers():\n",
    "    k = 1\n",
    "    headers, seqs = loadFasta(\"SalmonellaTyphimurium.fa\")\n",
    "    while k < 100:\n",
    "        count = findKmers(k, seqs[0])\n",
    "        n = 4 ** k\n",
    "        num = len(count.keys())\n",
    "        if n != num:\n",
    "            break\n",
    "    \n"
   ]
  },
  {
   "cell_type": "raw",
   "metadata": {
    "number": 1,
    "section": "answer"
   },
   "source": [
    "Enter your answers here"
   ]
  },
  {
   "cell_type": "markdown",
   "metadata": {
    "number": 2,
    "section": "problem"
   },
   "source": [
    "---\n",
    "**Problem #2:** Modify the <code>kmerPositions()</code> function given in Lecture 2 on slide 20 to allow for one error. Your new function:\n",
    "\n",
    "     kmersWithError(k, sequence)\n",
    "\n",
    "should return a Python dictionary whose keys are kmers that appear in either the sequence or its reverse complement, and whose values are a list of positions of a kmer that differs in no more than one base from the key or its reverse complement. Your list should include only the lexigraphically first of each kmer/reverse complement pair. Enter the code for your function in the space provided below.\n",
    "\n",
    "You can test your code on the following sequence:\n",
    "<pre>\n",
    "test = \"ggtaattgcctcgcataacgcggtgtgaaaatggattgaagcccgggcggtggattctac\"+\\\n",
    "       \"tcaactttagccgatggagaaagccccgggatccgggctattaaaaagaagatcttttta\"+\\\n",
    "       \"tttagagatctgttctattgtgatctcttattaggatcgcgccaggctgtggataacccg\"+\\\n",
    "       \"gatcctgtaataaagatcaatgcgttggaaaggatcactagctgtgaatgatcggtgatc\"+\\\n",
    "       \"gtggtccgtataagctgggatcaaaacgggtacttatacacaactcaaaaagtgaacaac\"+\\\n",
    "       \"ggttattctttggataactaccggttgatccaagctttccaccagatttatccacaatgg\"+\\\n",
    "       \"atcgcacgatctttacac\"\n",
    "</pre>\n",
    "But a different sequence will be used for grading."
   ]
  },
  {
   "cell_type": "raw",
   "metadata": {
    "number": 2,
    "section": "answer"
   },
   "source": [
    "Enter your answer here"
   ]
  },
  {
   "cell_type": "markdown",
   "metadata": {
    "number": 3,
    "section": "problem"
   },
   "source": [
    "---\n",
    "**Problem #3:** Plot the CG skew diagram for [Salmonella Typhimurium](http://csbio.unc.edu/mcmillan/Comp555S18/data/SalmonellaTyphimurium.fa). Use this to estimate the position of the *OriC*. The true *OriC* position for this genome is between 4082788 and 4084165. How close is your answer to the true *OriC* position?"
   ]
  },
  {
   "cell_type": "raw",
   "metadata": {
    "number": 3,
    "section": "answer"
   },
   "source": [
    "Enter your answer here"
   ]
  },
  {
   "cell_type": "markdown",
   "metadata": {
    "number": 4,
    "section": "problem"
   },
   "source": [
    "**Problem #4:** A restriction enzyme is a protein produced by bacteria that cleaves DNA at specific subsequence patterns called *recognition sites*. Bacteria use restriction enzymes to defend against bacterial viruses called bacteriophages. The recognition site of a restriction enzyme is commonly a *reverse palindrome*, meaning the base sequence reads the same backwards and forwards, with a length of 4, 6, or 8 bases. The intervals between recognition sites are called *digestion fragments*.\n",
    "\n",
    "How many possible reverse palindromic recognition sites of length 8 exist? What fraction of 8-mers are reverse palindromic? Approximately how frequently, in terms of base-pairs, would you expect a given 8-base recogonition site might appear in a genome? How frequently does the recognition site GAATTC appear in chromosome 1 of [Salmonella Typhimurium](http://csbio.unc.edu/mcmillan/Comp555S18/data/SalmonellaTyphimurium.fa)? How many digestion fragments result?"
   ]
  },
  {
   "cell_type": "raw",
   "metadata": {
    "number": 4,
    "section": "answer"
   },
   "source": [
    "Enter your answer here"
   ]
  },
  {
   "cell_type": "markdown",
   "metadata": {
    "number": 5,
    "section": "problem"
   },
   "source": [
    "**Problem #5: Programming Problem**\n",
    "\n",
    "Write a branch-and-bound version of the *MedianStringMotifSearch()* algorithm shown below. You should base your alogrithm on the observation that, if the best alignment of a *prefix* of a candidate motif has a greater Hamming distance than the minimal Hamming distance of the best motif found so far, it could not possibly lead to a better solution.\n",
    "\n",
    "<pre>\n",
    "import itertools\n",
    "\n",
    "def ScanAndScoreMotif(DNA, motif):\n",
    "    totalDist = 0\n",
    "    bestAlignment = []\n",
    "    k = len(motif)\n",
    "    for seq in DNA:\n",
    "        minHammingDist = k+1\n",
    "        for s in xrange(len(seq)-k+1):\n",
    "            HammingDist = sum([1 for i in xrange(k) if motif[i] != seq[s+i]])\n",
    "            if (HammingDist < minHammingDist):\n",
    "                bestS = s\n",
    "                minHammingDist = HammingDist\n",
    "        bestAlignment.append(bestS)\n",
    "        totalDist += minHammingDist\n",
    "    return bestAlignment, totalDist\n",
    "\n",
    "def MedianStringMotifSearch(DNA,k):\n",
    "    \"\"\" Consider all possible 4**k motifs\"\"\"\n",
    "    bestAlignment = []\n",
    "    minHammingDist = k*len(DNA)\n",
    "    kmer = ''\n",
    "    for pattern in itertools.product('acgt', repeat=k):\n",
    "        motif = ''.join(pattern)\n",
    "        align, dist = ScanAndScoreMotif(DNA, motif)\n",
    "        if (dist < minHammingDist):\n",
    "            bestAlignment = [s for s in align]\n",
    "            minHammingDist = dist\n",
    "            kmer = motif\n",
    "    return bestAlignment, minHammingDist, kmer\n",
    "</pre>\n",
    "\n",
    "Apply your algoritm to the set of sequences used in lecture:\n",
    "\n",
    "<pre>\n",
    "seqApprox = [\n",
    "    'tagtggtcttttgagtgtagatctgaagggaaagtatttccaccagttcggggtcacccagcagggcagggtgacttaat',\n",
    "    'cgcgactcggcgctcacagttatcgcacgtttagaccaaaacggagttggatccgaaactggagtttaatcggagtcctt',\n",
    "    'gttacttgtgagcctggttagacccgaaatataattgttggctgcatagcggagctgacatacgagtaggggaaatgcgt',\n",
    "    'aacatcaggctttgattaaacaatttaagcacgtaaatccgaattgacctgatgacaatacggaacatgccggctccggg',\n",
    "    'accaccggataggctgcttattaggtccaaaaggtagtatcgtaataatggctcagccatgtcaatgtgcggcattccac',\n",
    "    'tagattcgaatcgatcgtgtttctccctctgtgggttaacgaggggtccgaccttgctcgcatgtgccgaacttgtaccc',\n",
    "    'gaaatggttcggtgcgatatcaggccgttctcttaacttggcggtgcagatccgaacgtctctggaggggtcgtgcgcta',\n",
    "    'atgtatactagacattctaacgctcgcttattggcggagaccatttgctccactacaagaggctactgtgtagatccgta',\n",
    "    'ttcttacacccttctttagatccaaacctgttggcgccatcttcttttcgagtccttgtacctccatttgctctgatgac',\n",
    "    'ctacctatgtaaaacaacatctactaacgtagtccggtctttcctgatctgccctaacctacaggtcgatccgaaattcg']\n",
    "</pre>\n",
    "\n",
    "Use the %time *magic* function to compare the performance of your method to the one given."
   ]
  },
  {
   "cell_type": "code",
   "execution_count": null,
   "metadata": {
    "collapsed": true,
    "number": 5,
    "section": "answer"
   },
   "outputs": [],
   "source": [
    "#Enter your program here\n",
    "\n",
    "%time BranchAndBoundMedianStringMotifSearch(seqApprox,10)"
   ]
  },
  {
   "cell_type": "markdown",
   "metadata": {
    "section": "submit"
   },
   "source": [
    "Click [here to submit](http://csbio.unc.edu/mcmillan/index.py?run=PS.upload) your completed problem set"
   ]
  }
 ],
 "metadata": {
  "anaconda-cloud": {},
  "kernelspec": {
   "display_name": "Python 3",
   "language": "python",
   "name": "python3"
  },
  "language_info": {
   "codemirror_mode": {
    "name": "ipython",
    "version": 2
   },
   "file_extension": ".py",
   "mimetype": "text/x-python",
   "name": "python",
   "nbconvert_exporter": "python",
   "pygments_lexer": "ipython2",
   "version": "2.7.14"
  }
 },
 "nbformat": 4,
 "nbformat_minor": 1
}
