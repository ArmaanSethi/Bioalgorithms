{
 "cells": [
  {
   "cell_type": "markdown",
   "metadata": {
    "section": "header"
   },
   "source": [
    "---\n",
    "<div style=\"text-align: center;\">\n",
    "<h1>The University of North Carolina at Chapel Hill</h1>\n",
    "<h1>Comp 555 BioAlgorithms - Spring 2018</h1>\n",
    "<h1 style=\"font-size: 250%;\">Problem Set #4</h1>\n",
    "<h1>Issued Monday, 3/26/2018; Due Monday, 4/5/2018</h1>\n",
    "</div>\n",
    "\n",
    "**Homework Information:** Some of the problems are probably too long to be done the night before the due date, so plan accordingly. Late problem sets will be penalized by a factor of\t70.71% for each class meeting after the due date. Feel free to get help from others, but the work you submit in should be your own."
   ]
  },
  {
   "cell_type": "code",
   "execution_count": 1,
   "metadata": {
    "section": "signature"
   },
   "outputs": [],
   "source": [
    "# Replace the following string values with the requested information\n",
    "class Student:\n",
    "    first = \"Mohamed\"\n",
    "    last = \"Lansari\"\n",
    "    onyen = \"mlans13\"\n",
    "    pid = \"730013359\""
   ]
  },
  {
   "cell_type": "markdown",
   "metadata": {
    "number": 1,
    "section": "problem"
   },
   "source": [
    "---\n",
    "**Problem #1:** Find the longest common subsequence (LCS) between the first 100 bases and the last 100 bases of the [*Salmonella Typhimurium*](http://csbio.unc.edu/mcmillan/Comp555S18/data/SalmonellaTyphimurium.fa) genome. Report both the length of the LCS as well as the subsequence. Do not include the *+* sign at the start of the genome."
   ]
  },
  {
   "cell_type": "code",
   "execution_count": 3,
   "metadata": {},
   "outputs": [
    {
     "name": "stdout",
     "output_type": "stream",
     "text": [
      "The longest common subsequence is: GGCTCTGGGAAGAGATAGAAGGGGGTTGTTGAAAAAAAATAACAAATAACGTGGAATTTAATT\n",
      "The length of the subsequence is: 63\n"
     ]
    }
   ],
   "source": [
    "# function to load the genome\n",
    "def loadFasta(filename):\n",
    "    \"\"\" Parses a classically formatted and possibly \n",
    "        compressed FASTA file into a list of headers \n",
    "        and fragment sequences for each sequence contained\"\"\"\n",
    "    if (filename.endswith(\".gz\")):\n",
    "        fp = gzip.open(filename, 'rb')\n",
    "    else:\n",
    "        fp = open(filename, 'r')\n",
    "    # split at headers\n",
    "    data = fp.read().split('>')\n",
    "    fp.close()\n",
    "    # ignore whatever appears before the 1st header\n",
    "    data.pop(0)     \n",
    "    headers = []\n",
    "    sequences = []\n",
    "    for sequence in data:\n",
    "        lines = sequence.split('\\n')\n",
    "        headers.append(lines.pop(0))\n",
    "        # add an extra \"+\" to make string \"1-referenced\"\n",
    "        sequences.append('+' + ''.join(lines))\n",
    "    return (headers, sequences)\n",
    "\n",
    "# LCS location function\n",
    "def findLCS(v, w):\n",
    "    # create our tabulation\n",
    "    score = [[0 for i in xrange(len(v) + 1)] for j in xrange(len(w) + 1)]\n",
    "    backtrace = [[0 for i in xrange(len(v) + 1)] for j in xrange(len(w) + 1)]\n",
    "    \n",
    "    # iterate through our strings\n",
    "    for i in xrange(1, len(v) + 1):\n",
    "        for j in xrange(1, len(w) + 1):\n",
    "            # checking each intersection, determine right response\n",
    "            if (v[i - 1] == w[j - 1]):\n",
    "                score[i][j], backtrace[i][j] = max((score[i - 1][j - 1] + 1, 3), (score[i - 1][j], 1), (score[i][j - 1], 2))\n",
    "            else:\n",
    "                score[i][j], backtrace[i][j] = max((score[i - 1][j], 1), (score[i][j - 1], 2))\n",
    "    return score, backtrace\n",
    "\n",
    "\n",
    "def extractLCS(b,v,i,j):\n",
    "    if ((i == 0) and (j == 0)):\n",
    "        return ''\n",
    "    if (b[i][j] == 3):\n",
    "        result = extractLCS(b,v,i-1,j-1)\n",
    "        result = result + v[i-1]\n",
    "        return result\n",
    "    else:\n",
    "        if (b[i][j] == 2):\n",
    "            return extractLCS(b,v,i,j-1)\n",
    "        else:\n",
    "            return extractLCS(b,v,i-1,j)\n",
    "\n",
    "# load the fasta\n",
    "headers, sequences = loadFasta(\"SalmonellaTyphimurium.fa\")\n",
    "# parse down to the first and last 100 bases\n",
    "first = sequences[0][1:101]     # be sure to omit the +\n",
    "last = sequences[0][len(sequences[0]) - 100:len(sequences[0])]\n",
    "\n",
    "# calculate the least common substring\n",
    "sc, bt = findLCS(first, last)\n",
    "# backtrace to read the lcs\n",
    "res = extractLCS(bt, first, len(bt) - 1, len(bt[0]) - 1)\n",
    "\n",
    "# print our results\n",
    "print \"The longest common subsequence is: \" + res\n",
    "print \"The length of the subsequence is: \" + str(len(res))"
   ]
  },
  {
   "cell_type": "raw",
   "metadata": {
    "number": 1,
    "section": "answer"
   },
   "source": [
    "The longest common subsequenc1e is: GGCTCTGGGAAGAGATAGAAGGGGGTTGTTGAAAAAAAATAACAAATAACGTGGAATTTAATT\n",
    "The length of the subsequence is: 63"
   ]
  },
  {
   "cell_type": "markdown",
   "metadata": {
    "number": 2,
    "section": "problem"
   },
   "source": [
    "---\n",
    "**Problem #2:** Find the length of the longest *embedded* common subsequence in the following: \n",
    "\n",
    "    \"GTACAAAAACAACACAAGAAAAGACAATAAAATTCCATTCGATTCTATTCAATTGGTACA\"\n",
    "\n",
    "The longest embedded common subsequence is the longest common subsequence within in a sequence for which no symbol matches itself. As an example, consider \"TAGACATAAG\". The longest common subsequence is the sequence itself, \"TAGACTAAG\", but the longest *embedded* common subsequence is \"TAG\". "
   ]
  },
  {
   "cell_type": "code",
   "execution_count": 6,
   "metadata": {},
   "outputs": [
    {
     "name": "stdout",
     "output_type": "stream",
     "text": [
      "The longest embedded subsequence is AAAAAACACAAAAAAAAAAAAAATTCATTCATTCTTTCA\n",
      "The length of this is 39\n"
     ]
    }
   ],
   "source": [
    "# LCS location function\n",
    "def findLECS(v, w):\n",
    "    # create our tabulation\n",
    "    score = [[0 for i in xrange(len(v) + 1)] for j in xrange(len(w) + 1)]\n",
    "    backtrace = [[0 for i in xrange(len(v) + 1)] for j in xrange(len(w) + 1)]\n",
    "    \n",
    "    # iterate through our strings\n",
    "    for i in xrange(1, len(v) + 1):\n",
    "        for j in xrange(1, len(w) + 1):\n",
    "            # checking each intersection, determine right response\n",
    "            if (v[i - 1] == w[j - 1]) and i != j:\n",
    "                score[i][j], backtrace[i][j] = max((score[i - 1][j - 1] + 1, 3), (score[i - 1][j], 1), (score[i][j - 1], 2))\n",
    "            else:\n",
    "                score[i][j], backtrace[i][j] = max((score[i - 1][j], 1), (score[i][j - 1], 2))\n",
    "    return score, backtrace\n",
    "\n",
    "\n",
    "def extractLCS(b,v,i,j):\n",
    "    if ((i == 0) and (j == 0)):\n",
    "        return ''\n",
    "    if (b[i][j] == 3):\n",
    "        result = extractLCS(b,v,i-1,j-1)\n",
    "        result = result + v[i-1]\n",
    "        return result\n",
    "    else:\n",
    "        if (b[i][j] == 2):\n",
    "            return extractLCS(b,v,i,j-1)\n",
    "        else:\n",
    "            return extractLCS(b,v,i-1,j)\n",
    "\n",
    "# this is the sampled sequence\n",
    "test = \"GTACAAAAACAACACAAGAAAAGACAATAAAATTCCATTCGATTCTATTCAATTGGTACA\"\n",
    "# run the test\n",
    "sc, bt = findLECS(test, test)\n",
    "res = extractLCS(bt, test, len(bt) - 1, len(bt[0]) - 1)\n",
    "\n",
    "print \"The longest embedded subsequence is \" + res\n",
    "print \"The length of this is \" + str(len(res))"
   ]
  },
  {
   "cell_type": "raw",
   "metadata": {
    "number": 2,
    "section": "answer"
   },
   "source": [
    "The length of the longest embedded subsequence is 39\n",
    "This subsequence is AAAAAACACAAAAAAAAAAAAAATTCATTCATTCTTTCA"
   ]
  },
  {
   "cell_type": "markdown",
   "metadata": {
    "number": 3,
    "section": "problem"
   },
   "source": [
    "---\n",
    "**Problem #3:** On your midterm you were asked to find all 16-peptide chains whose molecular weight equals a given target (1024) using the following list of residues ordered by their weights. Most of the algorithms proposed were time-consuming with many possible answers.\n",
    "\n",
    "```python\n",
    "Residues = [\n",
    "    (186, 'W'), (163, 'Y'), (156, 'R'), (147, 'F'), (137, 'H'), \n",
    "    (131, 'M'), (129, 'E'), (128, '[K/Q]'), (115, 'D'), (114, 'N'),\n",
    "    (113, '[I/L]'), (103, 'C'), (101, 'T'), (99, 'V'), (97, 'P'), \n",
    "    (87, 'S'), (71, 'A'), (57, 'G')\n",
    "]\n",
    "```\n",
    "\n",
    "Now consider a slightly different problem: find the *length* of the *shortest peptide chain* whose molecular weight matches a target. This problem can be solved effciently using *dynamic programming*. In order to see how, consider an analogy between finding the shortest peptide combination of a given weight, and the problem of making *exact change* from an arbitrary set of coinage. \n",
    "\n",
    "In the space below give a reccurance relation for the dynamic program for finding the shortest combination of peptides, *DPShortestPeptideLength(target, Residues)*."
   ]
  },
  {
   "cell_type": "code",
   "execution_count": null,
   "metadata": {},
   "outputs": [],
   "source": [
    "Residues = [\n",
    "    (186, 'W'), (163, 'Y'), (156, 'R'), (147, 'F'), (137, 'H'), \n",
    "    (131, 'M'), (129, 'E'), (128, '[K/Q]'), (115, 'D'), (114, 'N'),\n",
    "    (113, '[I/L]'), (103, 'C'), (101, 'T'), (99, 'V'), (97, 'P'), \n",
    "    (87, 'S'), (71, 'A'), (57, 'G')\n",
    "]\n",
    "\n"
   ]
  },
  {
   "cell_type": "raw",
   "metadata": {
    "number": 3,
    "section": "answer"
   },
   "source": [
    "Our recurrence relation for DPShortestPeptideLength(target, residues) is as follows, in three cases.\n",
    "1) If our target is below the smallest target value, then we return a length of 0, as there is no valid chain.\n",
    "2) Our next subproblem answer is DPShortestPeptideLength(target - residue) + 1 if target - residue is our subproblem solution\n",
    "3) If we cannot construct the next value subproblem as DPShortestPeptideLength(target - residue) given some residue then we have 0 for no answer"
   ]
  },
  {
   "cell_type": "markdown",
   "metadata": {
    "number": 4,
    "section": "problem"
   },
   "source": [
    "---\n",
    "**Problem #4:** It is inefficient to create and fully populate a table for *DPShortestPeptideLength(target, Residues)* where every molecular weight less than your given target, as you would for computing exact change. Suggest a more efficient means for representing and populating the memoization of intermediate results needed for *DPShortestPeptideLength(target, Residues)*."
   ]
  },
  {
   "cell_type": "raw",
   "metadata": {
    "number": 4,
    "section": "answer"
   },
   "source": [
    " The simplest way in which to more efficiently represent and populate the memoization of intermediate subproblems is to take a top-down approach as opposed to a bottom-up approach, wherein we find the largest possible peptide residue that fits into our current target value, add 1 to our shortestlength value, and update our subproblem for that to be target - residueValue.  Thus we only generate all subproblems that lead directly to the solution of the problem being calculated.\n",
    "This is, in essence, as follows\n",
    "DPShortestPeptideLength(target, Residues) = DPShortestPeptideLength(target - residue, Residues) + 1 for the smallest value of target - residue"
   ]
  },
  {
   "cell_type": "markdown",
   "metadata": {
    "number": 5,
    "section": "problem"
   },
   "source": [
    "**Problem #5: Programming Problem**\n",
    "\n",
    "Implement a *dynamic programming* solution for *DPShortestPeptideCombination(target, Residues)*, which is similar to the task described in Problem #4, except finds a shortest peptide chain whose molecular weight matches a target. In the space provided below write your function and test it by generating a shortest peptide combination whose molecular weight is 555, 1024, and 2048."
   ]
  },
  {
   "cell_type": "code",
   "execution_count": 3,
   "metadata": {},
   "outputs": [],
   "source": [
    "Residues = [\n",
    "    (186, 'W'), (163, 'Y'), (156, 'R'), (147, 'F'), (137, 'H'), \n",
    "    (131, 'M'), (129, 'E'), (128, '[K/Q]'), (115, 'D'), (114, 'N'),\n",
    "    (113, '[I/L]'), (103, 'C'), (101, 'T'), (99, 'V'), (97, 'P'), \n",
    "    (87, 'S'), (71, 'A'), (57, 'G')\n",
    "]\n",
    "\n",
    "# this is the main function\n",
    "# def DPShortestPeptideCombination(target, residues):\n",
    "#     # start by generating a dictionary for the residues\n",
    "#     resDict = dict()\n",
    "#     for r in residues:\n",
    "#         resDict[r[0]] = r[1]\n",
    "        \n",
    "#     # build a tabulation\n",
    "#     orderedKeys = sorted(resDict.keys())\n",
    "#     chain = [[0 for i in xrange(len(orderedKeys))]]\n",
    "    \n",
    "#     for val in xrange(orderedKeys[0], target + 1):\n",
    "#         # set the maximum possible peptide length\n",
    "#         bestLength = val + 1\n",
    "        \n",
    "#         for i in xrange(len(orderedKeys)):\n",
    "#             if val >= orderedKeys[i]:\n",
    "#                 currChain = [j for j in chain[val - orderedKeys[i]]]\n",
    "#                 currChain[i] += 1\n",
    "#                 if (sum(currChain) < bestLength):\n",
    "#                     chain[val:val] = [currChain]\n",
    "#                     bestLength = sum(currChain)\n",
    "                    \n",
    "#         print str(len(chain)) + \" \" + str(val)\n",
    "\n",
    "#     print chain[target - orderedKeys[0]]\n",
    "                    \n",
    "#     return ''.join([chain[target][i] * resDict[orderedKeys[i]] for i in xrange(len(orderedKeys))])"
   ]
  },
  {
   "cell_type": "code",
   "execution_count": 4,
   "metadata": {
    "number": 5,
    "section": "answer"
   },
   "outputs": [
    {
     "name": "stdout",
     "output_type": "stream",
     "text": [
      "GRRW\n",
      "FRYWWW\n",
      "GMWWWWWWWWWW\n"
     ]
    }
   ],
   "source": [
    "Residues = [\n",
    "    (186, 'W'), (163, 'Y'), (156, 'R'), (147, 'F'), (137, 'H'), \n",
    "    (131, 'M'), (129, 'E'), (128, '[K/Q]'), (115, 'D'), (114, 'N'),\n",
    "    (113, '[I/L]'), (103, 'C'), (101, 'T'), (99, 'V'), (97, 'P'), \n",
    "    (87, 'S'), (71, 'A'), (57, 'G')\n",
    "]\n",
    "\n",
    "# this is the main function\n",
    "# def DPShortestPeptideCombination(target, residues):\n",
    "#     # start by generating a dictionary for the residues\n",
    "#     resDict = dict()\n",
    "#     for r in residues:\n",
    "#         resDict[r[0]] = r[1]\n",
    "        \n",
    "#     # build a tabulation\n",
    "#     orderedKeys = sorted(resDict.keys())\n",
    "#     chain = [[0 for i in xrange(len(orderedKeys))]]\n",
    "    \n",
    "#     for val in xrange(orderedKeys[0], target + 1):\n",
    "#         # set the maximum possible peptide length\n",
    "#         bestLength = val + 1\n",
    "        \n",
    "#         for i in xrange(len(orderedKeys)):\n",
    "#             if val >= orderedKeys[i]:\n",
    "#                 currChain = [j for j in chain[val - orderedKeys[i]]]\n",
    "#                 currChain[i] += 1\n",
    "#                 if (sum(currChain) < bestLength):\n",
    "#                     chain[val:val] = [currChain]\n",
    "#                     bestLength = sum(currChain)\n",
    "                    \n",
    "#         print str(len(chain)) + \" \" + str(val)\n",
    "\n",
    "#     print chain[target - orderedKeys[0]]\n",
    "                    \n",
    "#     return ''.join([chain[target][i] * resDict[orderedKeys[i]] for i in xrange(len(orderedKeys))])\n",
    "\n",
    "def DPShortestPeptideCombination(target, residues):\n",
    "    # generate a dictionary\n",
    "    resDict = dict()\n",
    "    for r in residues:\n",
    "        resDict[r[0]] = r[1]\n",
    "    \n",
    "    orderedKeys = sorted([r[0] for r in residues])\n",
    "    minProteins = [9999 for _ in xrange(target + 2)]\n",
    "    proteinsUsed = [0 for _ in xrange(target + 2)]\n",
    "    \n",
    "    # calculate the chain\n",
    "    for val in xrange(target + 1):\n",
    "        count = val\n",
    "        nextProtein = None\n",
    "        for p in [v for v in orderedKeys if v <= val]:\n",
    "            if minProteins[val - p] + 1 < count:\n",
    "                count = minProteins[val - p] + 1\n",
    "                nextProtein = p\n",
    "        minProteins[val] = count\n",
    "        proteinsUsed[val] = nextProtein\n",
    "        \n",
    "    # trace back the chain\n",
    "    num = target\n",
    "    proteinChain = []\n",
    "    while num >= orderedKeys[0]:\n",
    "        currP = proteinsUsed[num]\n",
    "        proteinChain.append(resDict[currP])\n",
    "        num -= currP\n",
    "        \n",
    "    return ''.join(proteinChain)\n",
    "    \n",
    "print DPShortestPeptideCombination(555, Residues)\n",
    "print DPShortestPeptideCombination(1024, Residues)\n",
    "print DPShortestPeptideCombination(2048, Residues)"
   ]
  },
  {
   "cell_type": "markdown",
   "metadata": {
    "section": "submit"
   },
   "source": [
    "Click [here to submit](http://csbio.unc.edu/mcmillan/index.py?run=PS.upload) your completed problem set"
   ]
  },
  {
   "cell_type": "code",
   "execution_count": null,
   "metadata": {},
   "outputs": [],
   "source": []
  }
 ],
 "metadata": {
  "anaconda-cloud": {},
  "celltoolbar": "Edit Metadata",
  "kernelspec": {
   "display_name": "Python 2",
   "language": "python",
   "name": "python2"
  },
  "language_info": {
   "codemirror_mode": {
    "name": "ipython",
    "version": 2
   },
   "file_extension": ".py",
   "mimetype": "text/x-python",
   "name": "python",
   "nbconvert_exporter": "python",
   "pygments_lexer": "ipython2",
   "version": "2.7.14"
  }
 },
 "nbformat": 4,
 "nbformat_minor": 1
}
