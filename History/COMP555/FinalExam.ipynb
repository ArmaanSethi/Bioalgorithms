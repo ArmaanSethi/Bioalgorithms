{
 "cells": [
  {
   "cell_type": "markdown",
   "metadata": {
    "number": 1,
    "section": "problem"
   },
   "source": [
    "---\n",
    "**Problem #1:** (10 points) Given the following DNA alignment scoring matrix:\n",
    "\n",
    "<table style=\"border-collapse: collapse; border: 1px solid black; background-color: white;\">\n",
    "    <tr style=\"background-color: white;\">\n",
    "        <th>&delta;</th>\n",
    "        <th style=\"border: 1px solid black;\">  A </th>\n",
    "        <th style=\"border: 1px solid black;\">  C </th>\n",
    "        <th style=\"border: 1px solid black;\">  G </th>\n",
    "        <th style=\"border: 1px solid black;\">  T </th>\n",
    "    </tr>\n",
    "    <tr style=\"background-color: white;\">\n",
    "        <th style=\"border: 1px solid black;\">   A  </th>\n",
    "        <td style=\"background-color: #f0fff0;\">  2 </td>\n",
    "        <td style=\"background-color: #fff0f0;\"> -2 </td>\n",
    "        <td style=\"background-color: #fff0f0;\"> -1 </td>\n",
    "        <td style=\"background-color: #fff0f0;\"> -2 </td>\n",
    "    </tr>\n",
    "    <tr style=\"background-color: white;\">\n",
    "        <th style=\"border: 1px solid black;\">   C  </th>\n",
    "        <td style=\"background-color: #fff0f0;\"> -2 </td>\n",
    "        <td style=\"background-color: #f0fff0;\">  2 </td>\n",
    "        <td style=\"background-color: #fff0f0;\"> -2 </td>\n",
    "        <td style=\"background-color: #fff0f0;\"> -1 </td>\n",
    "    </tr>\n",
    "    <tr style=\"background-color: white;\">\n",
    "        <th style=\"border: 1px solid black;\">   G  </th>\n",
    "        <td style=\"background-color: #fff0f0;\"> -1 </td>\n",
    "        <td style=\"background-color: #fff0f0;\"> -2 </td>\n",
    "        <td style=\"background-color: #f0fff0;\">  2 </td>\n",
    "        <td style=\"background-color: #fff0f0;\"> -2 </td>\n",
    "    </tr>\n",
    "    <tr style=\"background-color: white;\">\n",
    "        <th style=\"border: 1px solid black;\">   T  </th>\n",
    "        <td style=\"background-color: #fff0f0;\"> -2 </td>\n",
    "        <td style=\"background-color: #fff0f0;\"> -1 </td>\n",
    "        <td style=\"background-color: #fff0f0;\"> -2 </td>\n",
    "        <td style=\"background-color: #f0fff0;\">  2 </td>\n",
    "    </tr>\n",
    "</table>\n",
    "\n",
    "and an *InDel* penalty of -3, what is the best *global alignment score*, and alignment for the following DNA sequences?\n",
    "\n",
    "    v = \"ATGTCAGAAATCATGAGCAATACAGCCAGGGTCAAC\"\n",
    "    w = \"CATCAGAAATCAGAGCAAGACAAATACAGCCAGGGC\"\n",
    "\n",
    "In the space provided below give a ***number for your global alignment score*** and ***show an alignment*** in the style of the Alignment() method given in class (Lecture 16, slide 27). "
   ]
  },
  {
   "cell_type": "code",
   "execution_count": 1,
   "metadata": {},
   "outputs": [
    {
     "ename": "SyntaxError",
     "evalue": "Missing parentheses in call to 'print'. Did you mean print(\"score =\", s[b.shape[0] - 1, b.shape[1] - 1])? (<ipython-input-1-c6a5155837d6>, line 53)",
     "output_type": "error",
     "traceback": [
      "\u001b[0;36m  File \u001b[0;32m\"<ipython-input-1-c6a5155837d6>\"\u001b[0;36m, line \u001b[0;32m53\u001b[0m\n\u001b[0;31m    print \"score =\", s[b.shape[0] - 1, b.shape[1] - 1]\u001b[0m\n\u001b[0m                  ^\u001b[0m\n\u001b[0;31mSyntaxError\u001b[0m\u001b[0;31m:\u001b[0m Missing parentheses in call to 'print'. Did you mean print(\"score =\", s[b.shape[0] - 1, b.shape[1] - 1])?\n"
     ]
    }
   ],
   "source": [
    "import numpy\n",
    "\n",
    "def Alignment(b,v,w,i,j):\n",
    "    if ((i == 0) and (j == 0)):\n",
    "        return ['','']\n",
    "    if (b[i,j] == 3):\n",
    "        result = Alignment(b,v,w,i-1,j-1)\n",
    "        result[0] += v[i-1]\n",
    "        result[1] += w[j-1]\n",
    "        return result\n",
    "    else:\n",
    "        if (b[i,j] == 2):\n",
    "            result = Alignment(b,v,w,i,j-1)\n",
    "            result[0] += \"_\"\n",
    "            result[1] += w[j-1]\n",
    "            return result\n",
    "        else:\n",
    "            result = Alignment(b,v,w,i-1,j)\n",
    "            result[0] += v[i-1]\n",
    "            result[1] += \"_\"\n",
    "            return result\n",
    "\n",
    "\n",
    "def GlobalAlign(v, w, scorematrix, indel):\n",
    "    s = numpy.zeros((len(v)+1,len(w)+1), dtype=\"int32\")\n",
    "    b = numpy.zeros((len(v)+1,len(w)+1), dtype=\"int32\")\n",
    "    for i in xrange(1,len(v)+1):\n",
    "        for j in xrange(1,len(w)+1):\n",
    "            score = s[i-1,j-1] + scorematrix[v[i-1],w[j-1]]\n",
    "            vskip = s[i-1,j] + indel\n",
    "            wskip = s[i,j-1] + indel\n",
    "            s[i,j] = max(vskip, wskip, score)\n",
    "            if (s[i,j] == vskip):\n",
    "               b[i,j] = 1\n",
    "            elif (s[i,j] == wskip):\n",
    "               b[i,j] = 2\n",
    "            else:\n",
    "               b[i,j] = 3\n",
    "    return (s, b)\n",
    "\n",
    "\n",
    "match = {('A','A'):  2, ('A','C'): -2, ('A','G'): -1, ('A','T'): -2,\n",
    "         ('C','A'): -2, ('C','C'):  2, ('C','G'): -2, ('C','T'): -1,\n",
    "         ('G','A'): -1, ('G','C'): -2, ('G','G'):  2, ('G','T'): -2,\n",
    "         ('T','A'): -2, ('T','C'): -1, ('T','G'): -2, ('T','T'):  2}\n",
    "\n",
    "v = \"ATGTCAGAAATCATGAGCAATACAGCCAGGGTCAAC\"\n",
    "w = \"CATCAGAAATCAGAGCAAGACAAATACAGCCAGGGC\"\n",
    "\n",
    "s, b = GlobalAlign(v, w, match, -3)\n",
    "align = Alignment(b, v, w, b.shape[0] - 1, b.shape[1] - 1)\n",
    "\n",
    "print \"score =\", s[b.shape[0] - 1, b.shape[1] - 1]\n",
    "print \"v =\", align[0]\n",
    "print \"w =\", align[1]"
   ]
  },
  {
   "cell_type": "raw",
   "metadata": {
    "number": 1,
    "section": "answer"
   },
   "source": [
    "score = 26\n",
    "v = ATGTCAGAAATCATGAGCAATACAGCCAGGGTCAA__C\n",
    "w = _CATCAGAAATCA_GAGCAAGACAAATACAGCCAGGGC\n",
    "\n",
    "We perform the alignment using the O(MN) global alignment method from class which takes in a scoring matrix, and then we get the score by looking at the end result of the scoring within the scoring matrix for this particular global alignment"
   ]
  },
  {
   "cell_type": "markdown",
   "metadata": {
    "number": 2,
    "section": "problem"
   },
   "source": [
    "---\n",
    "**Problem #2:** (10 points) Reconsider the DNA sequences given in problem #1 and find the best *local alignment* score. In the space provided below give the ***number for this local alignment score*** and the ***ranges of v and w*** to which it applies."
   ]
  },
  {
   "cell_type": "code",
   "execution_count": 65,
   "metadata": {},
   "outputs": [
    {
     "name": "stdout",
     "output_type": "stream",
     "text": [
      "v: 1 : 31 TGTCAGAAATCATGAGCAATACAGCCAGGG\n",
      "w: 2 : 35 TCAGAAATCAGAGCAAGACAAATACAGCCAGGG\n",
      "score: 37\n",
      "[(31, 35), (30, 34), (29, 33), (28, 32), (27, 31), (26, 30), (25, 29), (24, 28), (23, 27), (22, 26), (21, 25), (21, 24), (20, 23), (20, 22), (20, 21), (20, 20), (20, 19), (20, 18), (19, 17), (18, 16), (17, 15), (16, 14), (15, 13), (14, 13), (13, 12), (12, 11), (11, 10), (10, 9), (9, 8), (8, 7), (7, 6), (6, 5), (5, 4), (4, 3), (3, 3), (2, 3), (1, 2)]\n"
     ]
    }
   ],
   "source": [
    "numpy.set_printoptions(threshold=numpy.nan)\n",
    "\n",
    "match = {('A','A'):  2, ('A','C'): -2, ('A','G'): -1, ('A','T'): -2,\n",
    "         ('C','A'): -2, ('C','C'):  2, ('C','G'): -2, ('C','T'): -1,\n",
    "         ('G','A'): -1, ('G','C'): -2, ('G','G'):  2, ('G','T'): -2,\n",
    "         ('T','A'): -2, ('T','C'): -1, ('T','G'): -2, ('T','T'):  2}\n",
    "\n",
    "def LocalAlign(v, w, scorematrix, indel):\n",
    "    s = numpy.zeros((len(v)+1,len(w)+1), dtype=\"int32\")\n",
    "    b = numpy.zeros((len(v)+1,len(w)+1), dtype=\"int32\")\n",
    "    for i in xrange(1,len(v)+1):\n",
    "        for j in xrange(1,len(w)+1):\n",
    "            score = s[i-1,j-1] + scorematrix[v[i-1],w[j-1]]\n",
    "            vskip = s[i-1,j] + indel\n",
    "            wskip = s[i,j-1] + indel\n",
    "            s[i,j] = max(0, vskip, wskip, score)    # add in the zero as a way to get a local alignment\n",
    "            if (s[i,j] == vskip):\n",
    "               b[i,j] = 1\n",
    "            elif (s[i,j] == wskip):\n",
    "               b[i,j] = 2\n",
    "            elif s[i, j] == score:\n",
    "               b[i,j] = 3\n",
    "            else:\n",
    "                b[i, j] = 0\n",
    "    return (s, b)\n",
    "            \n",
    "def locBackTrack(i, j, score):\n",
    "    # v is i and w is j\n",
    "    vstart = i\n",
    "    wstart = j\n",
    "    path = [(i, j)]\n",
    "    val = score[i, j]\n",
    "    x = i\n",
    "    y = j\n",
    "    while val > 0:\n",
    "        left = score[vstart-1, wstart]\n",
    "        diag = score[vstart-1, wstart-1]\n",
    "        top = score[vstart, wstart - 1]\n",
    "        val = max(left, diag, top)\n",
    "        if val == 0:\n",
    "            break\n",
    "        if val == left:\n",
    "            vstart -= 1\n",
    "        elif val == diag:\n",
    "            vstart -= 1\n",
    "            wstart -= 1\n",
    "        elif val == top:\n",
    "            wstart -= 1\n",
    "        path.append((vstart, wstart))\n",
    "    return [vstart, i, wstart, j], path\n",
    "    \n",
    "    \n",
    "# we will create a function which will search for the highest score and backtrack from there\n",
    "def LocalFinding(v, w, scores, backtrack):\n",
    "    maxVal = -10000\n",
    "    loc = (0, 0)\n",
    "    for i in range(scores.shape[0]):\n",
    "        for j in range(scores.shape[1]):\n",
    "            if scores[i, j] > maxVal:\n",
    "                maxVal = scores[i, j]\n",
    "                loc = (i, j)\n",
    "    \n",
    "    # backtrack from our located position\n",
    "#     align = LocalAlignCreate(backtrack, scores, v, w, loc[0], loc[1])\n",
    "    return loc\n",
    "    \n",
    "                \n",
    "# run the process\n",
    "s, b = LocalAlign(v, w, match, -3)\n",
    "loc = LocalFinding(v, w, s, b)\n",
    "ranges, path = locBackTrack(loc[0], loc[1], s)\n",
    "print \"v:\", ranges[0], \":\", ranges[1], v[ranges[0]:ranges[1]]\n",
    "print \"w:\", ranges[2], \":\", ranges[3], w[ranges[2]:ranges[3]]\n",
    "print \"score:\", s[loc[0], loc[1]]\n",
    "print path"
   ]
  },
  {
   "cell_type": "raw",
   "metadata": {
    "number": 2,
    "section": "answer"
   },
   "source": [
    "The best local alignment score is 37.\n",
    "This alignment applies across the range of v from 1 to 31, and across the range of w from 2 to 35."
   ]
  },
  {
   "cell_type": "code",
   "execution_count": 66,
   "metadata": {},
   "outputs": [
    {
     "name": "stdout",
     "output_type": "stream",
     "text": [
      "442512540276836779204\n"
     ]
    }
   ],
   "source": [
    "# we start each edge node at 1, and then sum from there\n",
    "vals = [[1 for i in xrange(len(v) + 1)] for j in xrange(len(w) + 1)]\n",
    "for i in xrange(1, len(v) + 1):\n",
    "    for j in xrange(1, len(w) + 1):\n",
    "        vals[i][j] = vals[i-1][j] + vals[i][j-1]\n",
    "\n",
    "print vals[len(v)][len(w)]"
   ]
  },
  {
   "cell_type": "raw",
   "metadata": {
    "number": 3,
    "section": "answer"
   },
   "source": [
    "442512540276836779204 paths out of the 536244125400727996482 total possible paths are composed entirely of horizontal and vertical edges, with no diagonals.  "
   ]
  },
  {
   "cell_type": "markdown",
   "metadata": {
    "number": 4,
    "section": "problem"
   },
   "source": [
    "---\n",
    "**Problem #4.** (10 points) The following questions assume the definitions of *breakpoint* and *strip* used in the discussion of reversal sorting from Lectures 22 to 24. Moreover, you should assume all permutations are extended (i.e. sandwiched between the fixed elements 0 and n+1). Is it possible to have a permutation of ***N*** elements with exactly 2 breakpoints where those breakpoints are both sides of a single element? Give an example, or explain why not. How many permutations of ***N*** elements have exactly 2 breakpoints? How many permutations of ***N*** elements have a single breakpoint?"
   ]
  },
  {
   "cell_type": "raw",
   "metadata": {
    "number": 4,
    "section": "answer"
   },
   "source": [
    "We define this for a permutation of N generic orderable elements. If we were to try to satisfy the most basic case, wherein N=1 and so we could have 2 breakpoints, we would not find a breakpoint existent.  Instead, we must look at larger cases, wherein there are N = 2 or greater elements.  In these cases we find that any single element flanked by two breakpoints will, even if surrounded by continuous strips, cause there to be breakpoints next to the extensions.  This is due to the fact that, if there are exactly 2 breakpoints, there must be 3 strips, with one of the strips length 1.  At least one of these strips must be reversed in order for the sequence not to be ordered, and the sequence of length 1 cannot be reversed.  Thus one of the outside strips must be reversed, creating a breakpoint next to the fixed element.\n",
    "In order for any sequence of length N to have two breakpoints, it must be built of three strips.  There are also N+1 possible breakpoint locations in an extended sequence of length N, so the amount of permutations of N with 2 breakpoints is (N+1)N\n",
    "Similar math yields that there are N+1 permutations of an N length sequence with 1 breakpoint.\n",
    "\n",
    "All of these sequences are assumed to be N generic orderable elements."
   ]
  },
  {
   "cell_type": "markdown",
   "metadata": {
    "number": 5,
    "section": "problem"
   },
   "source": [
    "---\n",
    "**Problem #5.** (10 points) While **midSelect(L,(len(L)+1)/2)** performs better (only 6 splits) on the given worst-case input for **select(L,(len(L)+1)/2)**, it still exhibits a worst-case of *len(L)* splits on some other input, since it makes a determistic decision of partitioning the list based on its middle value. Give an example of such an input using values from the range 0...10. (Note: A worst-case sequence may not be unique, but it is *trival to test* that it is worst-case)"
   ]
  },
  {
   "cell_type": "code",
   "execution_count": 68,
   "metadata": {},
   "outputs": [
    {
     "name": "stdout",
     "output_type": "stream",
     "text": [
      "iterating 1 times\n",
      "iterating 2 times\n",
      "iterating 3 times\n",
      "iterating 4 times\n",
      "iterating 5 times\n",
      "iterating 6 times\n",
      "iterating 7 times\n",
      "iterating 8 times\n",
      "iterating 9 times\n",
      "iterating 10 times\n",
      "iterating 11 times\n"
     ]
    },
    {
     "data": {
      "text/plain": [
       "5"
      ]
     },
     "execution_count": 68,
     "metadata": {},
     "output_type": "execute_result"
    }
   ],
   "source": [
    "def midSelect(L, k, i):\n",
    "    # use the middle element to partition the list\n",
    "    print \"iterating\", i, \"times\"\n",
    "    value = L[len(L)//2]\n",
    "    Llo = [t for t in L if t < value]\n",
    "    Lhi = [t for t in L if t > value]\n",
    "    below = len(Llo) + 1\n",
    "    if (k <= len(Llo)):\n",
    "        return midSelect(Llo, k, i+1)\n",
    "    elif (k > below):\n",
    "        return midSelect(Lhi, k - below, i+1)\n",
    "    else:\n",
    "        return value\n",
    "    \n",
    "L = [5, 3, 1, 6, 8, 10, 9, 7, 0, 2, 4]\n",
    "midSelect(L, (len(L) + 1) / 2, 1)"
   ]
  },
  {
   "cell_type": "raw",
   "metadata": {
    "number": 5,
    "section": "answer"
   },
   "source": [
    "L = [5, 3, 1, 6, 8, 10, 9, 8, 0, 2, 4]\n",
    "\n",
    "These values are effective due to the fact that we split on the middle index, and the middle index is predictable per split; as a result, we can cause partitions that still create single arrays, similar to the example solution for select, and the logic is simply to work from that."
   ]
  },
  {
   "cell_type": "markdown",
   "metadata": {
    "number": 6,
    "section": "problem"
   },
   "source": [
    "---\n",
    "**Problem #6.** (10 points) Just because an algorithm is randomized does not mean that it always achieves a good *average performance* for every input. Consider **coinflipSelect(L,(len(L)+1)/2)**. Give an example of an input using values from the range 0...10 where **coinFlipSelect(L,(len(L)+1)/2)** exhibits a worst-case of &ge; (len(L)+1)/2 splits regardless of its random decisions. (Note: This worst-case sequence may not be unique, but it is *easy to explain* why it is worst-case)"
   ]
  },
  {
   "cell_type": "code",
   "execution_count": 69,
   "metadata": {},
   "outputs": [
    {
     "name": "stdout",
     "output_type": "stream",
     "text": [
      "iterating 1 times\n",
      "iterating 2 times\n",
      "iterating 3 times\n",
      "iterating 4 times\n",
      "iterating 5 times\n",
      "iterating 6 times\n",
      "iterating 7 times\n",
      "iterating 8 times\n",
      "iterating 9 times\n"
     ]
    },
    {
     "data": {
      "text/plain": [
       "5"
      ]
     },
     "execution_count": 69,
     "metadata": {},
     "output_type": "execute_result"
    }
   ],
   "source": [
    "import random\n",
    "\n",
    "def coinFlipSelect(L, k, i):\n",
    "    # randomly select between the first and last element to partition the list\n",
    "    print \"iterating\", i, \"times\"\n",
    "    value = L[0] if random.random() >= 0.5 else L[-1]\n",
    "    Llo = [t for t in L if t < value]\n",
    "    Lhi = [t for t in L if t > value]\n",
    "    below = len(Llo) + 1\n",
    "    if (k <= len(Llo)):\n",
    "        return coinFlipSelect(Llo, k, i + 1)\n",
    "    elif (k > below):\n",
    "        return coinFlipSelect(Lhi, k - below, i + 1)\n",
    "    else:\n",
    "        return value\n",
    "    \n",
    "L = [0, 1, 2, 3, 4, 5, 6, 7, 8, 9, 10]\n",
    "coinFlipSelect(L, (len(L) + 1) /2, 1)"
   ]
  },
  {
   "cell_type": "raw",
   "metadata": {
    "number": 6,
    "section": "answer"
   },
   "source": [
    "L = [0, 1, 2, 3, 4, 5, 6, 7, 8, 9, 10]\n",
    "\n",
    "Due to the fact that the input is ordered, and we are either choosing the first or the last element in the array as a partitioner, the number chosen from the front or back will always be either the smallest or largest number, and so a partition will still create a single array.  This means that in the best case the performance we can expect from this input is (len(L) + 1) / 2."
   ]
  },
  {
   "cell_type": "markdown",
   "metadata": {
    "number": 7,
    "section": "problem"
   },
   "source": [
    "\n",
    "---\n",
    "**Problem #7.** (10 points) Suppose that you are given the following *constrained global alignment problem* for the sequences $v$ of length $n$, and $w$ of length $m$, which forces $v_i$ to be aligned with $w_j$. \n",
    "\n",
    "$$\\begin{aligned}\n",
    "v_1, v_2, ... v_{i-1}, &v_i, v_{i+1}, ... v_n \\\\\n",
    "                       &\\:|  \\\\\n",
    "w_1, w_2, ... w_{j-1}, &w_j, w_{j+1}, ... w_m \\\\\n",
    "\\end{aligned}$$\n",
    "\n",
    "How does the choice of $i$ and $j$ impact the performace of the algorithm? What choice of $i, j$ leads to the greatest speed up over a standard global alignment? Use this insight to suggest a *divide-and-conquer* approach for making a fast, if not optimal, sequence alignment (an explanation will suffice, you don't need to write code). "
   ]
  },
  {
   "cell_type": "raw",
   "metadata": {
    "number": 7,
    "section": "answer"
   },
   "source": [
    " Treating this global alignment problem as a potential target for divide and conquer gives significant insight into the impact of partiacular selections of i and j.  Intuitively, we realize that the closer that (i, j) is to the point at which the best scoring path crosses the midpoint of the table, the better that the performance of the algorithm will be.  Indeed a selection of i, j as the point at which the optimal path crosses the middle column of the table will yield by far the greatest speedup over standard global alignment.  Alternately to this, if we are looking for speed, selecting i and j as simply the midpoints of each of the sequences will yield a useful constraint to the problem.  \n",
    "Moving from this, we can realize that the selection of the midpoint of each of the sequences will allow us to predetermine our first division in a divide and conquer implementation of this sequence alignment, as well as set us up for fast and near-optimal continued divisions."
   ]
  },
  {
   "cell_type": "markdown",
   "metadata": {
    "number": 9,
    "section": "problem"
   },
   "source": [
    "---\n",
    "The start of most mammalian genes are associated with promoter regions that exhbit a higher than expected occurance of *CG* dinucleotides. These regions are called ***\"CG-islands\"***. Assume a simplified hidden-Markov model of a genome which alternates betten two states, normal (**N**) and CG-island (**I**), as depicted below:  \n",
    "\n",
    "<div align=\"center\"><img src=\"http://csbio.unc.edu/mcmillan/Comp555S18/Media/FinalCGHMM.png\" width=\"400px\"></div>\n",
    "\n",
    "---\n",
    "**Problem #8.** (10 points) How many Cs or Gs within a window of length *n* would imply that you are most likely within a CG-island?"
   ]
  },
  {
   "cell_type": "raw",
   "metadata": {
    "number": 8,
    "section": "answer"
   },
   "source": [
    "4n/10 Cs or Gs within a windows of length n would lead to indication that we are likely within a CG island, and as the size of n goes up, so would the confidence. The standard rate for C and G in normal is 2/10, but it's 4/10 in the CG island, and as a result that frequency would be a good indicator that we are within a CG island."
   ]
  },
  {
   "cell_type": "markdown",
   "metadata": {
    "number": 10,
    "section": "problem"
   },
   "source": [
    "---\n",
    "**Problem 9.** (10 points) The following graph shows the Log-Odds of $P(b_i | N)$ over $P(b_i | I)$ for the sequence shown along the x-axis computed in two ways. \n",
    "<br><br>\n",
    "\n",
    "<div align=\"center\"><img src=\"http://csbio.unc.edu/mcmillan/Comp555S18/Media/FinalLogOdds.png\" width=\"800px\"></div>\n",
    "\n",
    "The blue line is based on ratios from the Forward-Backward solution at every base, and the gold line is based on a 7-base window (extending 3-bases on both sides of the plotted point) assuming a state sequence of \"NNNNNNN\" and \"IIIIIII\". Use this to predict the hidden state for each base of the given 50-base sequence.  "
   ]
  },
  {
   "cell_type": "raw",
   "metadata": {
    "number": 9,
    "section": "answer"
   },
   "source": [
    "TCATA|ATCTG|GGGGT|CGGCG|CGGGG|GGCCG|GACGG|CTCAC|GATGT|ACTTG\n",
    "My prediction based on the graph is\n",
    "NNNNN NNNNN NNIII IIIII IIIII IIIII IIIII INNNN NNNNN NNNNN"
   ]
  },
  {
   "cell_type": "markdown",
   "metadata": {
    "number": 11,
    "section": "problem"
   },
   "source": [
    "---\n",
    "**Problem 10.** (10 points) How does the likelihood of your state predictions from problem 9 compare to the actual series of states used to generate the given base sequence shown below?\n",
    "\n",
    "                             |    |    |    |    |    |    |    |    |    |\n",
    "            sequence:    TCATAATCTGGGGGTCGGCGCGGGGGGCCGGACGGCTCACGATGTACTTG\n",
    "            NI-state:    NNNNNNNNNNNIIIIIIIIIIIIIIIIIIIIIIIIIINNNNNNNNNIIII\n",
    "\n",
    "What does this imply?"
   ]
  },
  {
   "cell_type": "raw",
   "metadata": {
    "number": 10,
    "section": "answer"
   },
   "source": [
    "                 |    |    |    |    |    |    |    |    |    |\n",
    "sequence:    TCATAATCTGGGGGTCGGCGCGGGGGGCCGGACGGCTCACGATGTACTTG\n",
    "NI-state:    NNNNNNNNNNNIIIIIIIIIIIIIIIIIIIIIIIIIINNNNNNNNNIIII\n",
    "My state:    NNNNNNNNNNNNIIIIIIIIIIIIIIIIIIIIIIIINNNNNNNNNNNNNN\n",
    "\n",
    "The overal shape of the states matches well, except for the switch back to island mode at the end.  What this implies is that the probabilistic analysis of the behaviour of a hidden markov model in order to determine the states works well in larger regions of activity, where probabilistic behaviour has the opportunity to behave in a manner which matches the state probabilities.  In small sample regions, it is difficult to decide if the behaviour is simply less probable or if it is indicative of state change.  The larger swath of island state is clearly indicated by the forward-backwards solution and the prediction method based on that shows that.  It is logical to extrapolate if the sequence was extended further in island it would be reflected in the analysis."
   ]
  },
  {
   "cell_type": "markdown",
   "metadata": {
    "number": 13,
    "section": "problem"
   },
   "source": [
    "---\n",
    "**Last Call:** If you have any remaining issues with problem-set grading describe them in the following cell. Indicate clearly the *problem set* and the *problem number* for each issue."
   ]
  },
  {
   "cell_type": "raw",
   "metadata": {
    "number": 11,
    "section": "answer"
   },
   "source": [
    "No issues"
   ]
  },
  {
   "cell_type": "markdown",
   "metadata": {
    "section": "submit"
   },
   "source": [
    "Click [here to submit](http://csbio.unc.edu/mcmillan/index.py?run=Exam.upload) turn in your Examination"
   ]
  }
 ],
 "metadata": {
  "anaconda-cloud": {},
  "kernelspec": {
   "display_name": "Python 3",
   "language": "python",
   "name": "python3"
  },
  "language_info": {
   "codemirror_mode": {
    "name": "ipython",
    "version": 3
   },
   "file_extension": ".py",
   "mimetype": "text/x-python",
   "name": "python",
   "nbconvert_exporter": "python",
   "pygments_lexer": "ipython3",
   "version": "3.6.7"
  }
 },
 "nbformat": 4,
 "nbformat_minor": 1
}
