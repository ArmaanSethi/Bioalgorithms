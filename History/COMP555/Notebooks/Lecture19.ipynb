{
 "cells": [
  {
   "cell_type": "code",
   "execution_count": 2,
   "metadata": {
    "nbpresent": {
     "id": "0af2d0d8-8964-46df-acc4-606552b6090c"
    }
   },
   "outputs": [
    {
     "data": {
      "application/javascript": [
       "var width = window.innerWidth || document.documentElement.clientWidth || document.body.clientWidth;\n",
       "var height = window.innerHeight || document.documentElement.clientHeight || document.body.clientHeight;\n",
       "\n",
       "IPython.notebook.kernel.execute(\"windowSize = (\" + width + \",\" + height + \")\");\n",
       "// suitable for small screens\n",
       "nbpresent.mode.tree.set(\n",
       "    [\"app\", \"theme-manager\", \"themes\", \"my-theme\"], \n",
       "    {\n",
       "    palette: {\n",
       "        \"blue\": { id: \"blue\", rgb: [0, 153, 204] },\n",
       "        \"black\": { id: \"black\", rgb: [0, 0, 0] },\n",
       "        \"white\": { id: \"white\", rgb: [255, 255, 255] },\n",
       "        \"red\": { id: \"red\", rgb: [240, 32, 32] },\n",
       "        \"gray\": { id: \"gray\", rgb: [128, 128, 128] },\n",
       "    },\n",
       "    backgrounds: {\n",
       "        \"my-background\": {\n",
       "            \"background-color\": \"white\"\n",
       "        }\n",
       "    },\n",
       "    \"text-base\": {\n",
       "        \"font-family\": \"Georgia\",\n",
       "        \"font-size\": 2.5\n",
       "    },\n",
       "    rules: {\n",
       "        h1: {\n",
       "            \"font-size\": 5.5,\n",
       "            color: \"blue\",\n",
       "            \"text-align\": \"center\"\n",
       "        },\n",
       "        h2: {\n",
       "            \"font-size\": 3,\n",
       "            color: \"blue\",\n",
       "            \"text-align\": \"center\"\n",
       "        },\n",
       "        h3: {\n",
       "            \"font-size\": 3,\n",
       "            color: \"black\",\n",
       "        },\n",
       "        \"ul li\": {\n",
       "            \"font-size\": 2.5,\n",
       "            color: \"black\"\n",
       "        },\n",
       "        \"ul li ul li\": {\n",
       "            \"font-size\": 2.0,\n",
       "            color: \"black\"\n",
       "        },\n",
       "        \"code\": {\n",
       "            \"font-size\": 1.6,\n",
       "        },\n",
       "        \"pre\": {\n",
       "            \"font-size\": 1.6,\n",
       "        }\n",
       "    }\n",
       "});"
      ],
      "text/plain": [
       "<IPython.core.display.Javascript object>"
      ]
     },
     "metadata": {},
     "output_type": "display_data"
    }
   ],
   "source": [
    "%%javascript\n",
    "var width = window.innerWidth || document.documentElement.clientWidth || document.body.clientWidth;\n",
    "var height = window.innerHeight || document.documentElement.clientHeight || document.body.clientHeight;\n",
    "\n",
    "IPython.notebook.kernel.execute(\"windowSize = (\" + width + \",\" + height + \")\");\n",
    "// suitable for small screens\n",
    "nbpresent.mode.tree.set(\n",
    "    [\"app\", \"theme-manager\", \"themes\", \"my-theme\"], \n",
    "    {\n",
    "    palette: {\n",
    "        \"blue\": { id: \"blue\", rgb: [0, 153, 204] },\n",
    "        \"black\": { id: \"black\", rgb: [0, 0, 0] },\n",
    "        \"white\": { id: \"white\", rgb: [255, 255, 255] },\n",
    "        \"red\": { id: \"red\", rgb: [240, 32, 32] },\n",
    "        \"gray\": { id: \"gray\", rgb: [128, 128, 128] },\n",
    "    },\n",
    "    backgrounds: {\n",
    "        \"my-background\": {\n",
    "            \"background-color\": \"white\"\n",
    "        }\n",
    "    },\n",
    "    \"text-base\": {\n",
    "        \"font-family\": \"Georgia\",\n",
    "        \"font-size\": 2.5\n",
    "    },\n",
    "    rules: {\n",
    "        h1: {\n",
    "            \"font-size\": 5.5,\n",
    "            color: \"blue\",\n",
    "            \"text-align\": \"center\"\n",
    "        },\n",
    "        h2: {\n",
    "            \"font-size\": 3,\n",
    "            color: \"blue\",\n",
    "            \"text-align\": \"center\"\n",
    "        },\n",
    "        h3: {\n",
    "            \"font-size\": 3,\n",
    "            color: \"black\",\n",
    "        },\n",
    "        \"ul li\": {\n",
    "            \"font-size\": 2.5,\n",
    "            color: \"black\"\n",
    "        },\n",
    "        \"ul li ul li\": {\n",
    "            \"font-size\": 2.0,\n",
    "            color: \"black\"\n",
    "        },\n",
    "        \"code\": {\n",
    "            \"font-size\": 1.6,\n",
    "        },\n",
    "        \"pre\": {\n",
    "            \"font-size\": 1.6,\n",
    "        }\n",
    "    }\n",
    "});"
   ]
  },
  {
   "cell_type": "markdown",
   "metadata": {
    "nbpresent": {
     "id": "538d5959-7afd-4651-9fce-777afa13cf5d"
    },
    "slideshow": {
     "slide_type": "slide"
    }
   },
   "source": [
    "# Divide and Conquer Algorithms\n",
    "\n",
    "<img src=\"http://csbio.unc.edu/mcmillan/Comp555S18/Media/DPMultiplyConquer.jpg\" width=\"400px\" class=\"centerImg\">\n",
    "\n",
    "* Problem Set #3 is graded\n",
    "* Problem Set #4 due on Thursday\n",
    "\n",
    "<p style=\"text-align: right; clear: right;\">1</p>"
   ]
  },
  {
   "cell_type": "markdown",
   "metadata": {
    "nbpresent": {
     "id": "cdc4f8ce-a5d6-4204-9d2b-71e032851831"
    },
    "slideshow": {
     "slide_type": "slide"
    }
   },
   "source": [
    "# The Essence of Divide and Conquer\n",
    "\n",
    "* Divide problem into sub-problems\n",
    "* Conquer by solving sub-problems recursively.\n",
    "  - If the sub-problems are small enough, solve them in brute force fashion\n",
    "* Combine the solutions of sub-problems into a solution of the original problem\n",
    "  - This is the tricky part\n",
    "\n",
    "<img src=\"http://csbio.unc.edu/mcmillan/Comp555S18/Media/subdivison.jpeg\" width=\"600px\" class=\"centerImg\">\n",
    "\n",
    "<p style=\"text-align: right; clear: right;\">2</p>"
   ]
  },
  {
   "cell_type": "markdown",
   "metadata": {
    "nbpresent": {
     "id": "d71153aa-edc6-4daf-bf4f-21aab0123116"
    },
    "slideshow": {
     "slide_type": "slide"
    }
   },
   "source": [
    "# Divide and Conquer Applied to Sorting\n",
    "\n",
    "### Problem\n",
    "\n",
    "* Given an unsorted array of items\n",
    "\n",
    "<table style=\"font-size: 150%; background-color: #ffffff;\"><tbody>\n",
    "<tr style=\"border: 1px solid black; padding: 0px;\">\n",
    "<td>5</td><td>2</td><td>4</td><td>7</td><td>1</td><td>3</td><td>2</td><td>6</td>\n",
    "</tr></tbody></table>\n",
    "  \n",
    "* Reorganize them such that they are in non-decreasing order\n",
    "\n",
    "<table style=\"font-size: 150%; background-color: #ffffff;\"><tbody>\n",
    "<tr style=\"border: 1px solid black; padding: 0px;\">\n",
    "<td>1</td><td>2</td><td>2</td><td>3</td><td>4</td><td>5</td><td>6</td><td>7</td>\n",
    "</tr></tbody></table>\n",
    "\n",
    "<p style=\"text-align: right; clear: right;\">3</p>"
   ]
  },
  {
   "cell_type": "markdown",
   "metadata": {
    "nbpresent": {
     "id": "8ad274be-b461-483e-bca5-16473887ac9c"
    },
    "slideshow": {
     "slide_type": "slide"
    }
   },
   "source": [
    "# Mergesort: Divide Phase\n",
    "\n",
    "### Step 1 - Divide\n",
    "\n",
    "<table style=\"font-size: 100%; background-color: #ffffff;\">\n",
    "<tbody><tr style=\"border: 1px solid black; padding: 0px;\">\n",
    "<td>5</td><td>2</td><td>4</td><td>7</td><td>1</td><td>3</td><td>2</td><td>6</td>\n",
    "</tr></tbody></table>\n",
    "\n",
    "<h3 style=\"margin: 0px; font-size: 150%; text-align: center;\">\n",
    "&nbsp;&nbsp;&nbsp;&nbsp;&nbsp;&nbsp;&nbsp;&nbsp;&nbsp;&darr;\n",
    "&nbsp;&nbsp;&nbsp;&nbsp;&nbsp;&nbsp;&nbsp;&nbsp;&nbsp;&nbsp;&nbsp;&nbsp;&nbsp;&nbsp;&darr;\n",
    "</h3>\n",
    "\n",
    "<table style=\"font-size: 100%; background-color: #ffffff;\"><tbody>\n",
    "<tr style=\"border: none;\">\n",
    "<td style=\"border: 1px solid black; padding: 0px;\">\n",
    "    <table style=\"font-size: 100%; background-color: #ffffff;\"><tbody><tr>\n",
    "    <td>5</td><td>2</td><td>4</td><td>7</td>\n",
    "    </tr></tbody></table>\n",
    "</td>\n",
    "<td style=\"border: 1px solid black; padding: 0px;\">\n",
    "    <table style=\"font-size: 100%; background-color: #ffffff;\"><tbody><tr>\n",
    "    <td>1</td><td>3</td><td>2</td><td>6</td>\n",
    "    </tr></tbody></table>\n",
    "</td>\n",
    "</tr></tbody></table>\n",
    "\n",
    "<h3 style=\"margin: 0px; font-size: 150%; text-align: center;\">\n",
    "&nbsp;&nbsp;&nbsp;&nbsp;&nbsp;&nbsp;&nbsp;&nbsp;&nbsp;&nbsp;&darr;\n",
    "&nbsp;&nbsp;&nbsp;&nbsp;&darr;\n",
    "&nbsp;&nbsp;&nbsp;&nbsp;&nbsp;&nbsp;&darr;\n",
    "&nbsp;&nbsp;&nbsp;&nbsp;&nbsp;&darr;\n",
    "</h3>\n",
    "\n",
    "\n",
    "<table style=\"font-size: 100%; background-color: #ffffff;\"><tbody>\n",
    "<tr style=\"border: none;\">\n",
    "<td style=\"border: 1px solid black; padding: 0px;\">\n",
    "    <table style=\"font-size: 100%; background-color: #ffffff;\"><tbody><tr>\n",
    "    <td>5</td><td>2</td>\n",
    "    </tr></tbody></table>\n",
    "</td>\n",
    "<td style=\"border: 1px solid black; padding: 0px;\">\n",
    "    <table style=\"font-size: 100%; background-color: #ffffff;\"><tbody><tr>\n",
    "    <td>4</td><td>7</td>\n",
    "    </tr></tbody></table>\n",
    "</td>\n",
    "<td style=\"border: 1px solid black; padding: 0px;\">\n",
    "    <table style=\"font-size: 100%; background-color: #ffffff;\"><tbody><tr>\n",
    "    <td>1</td><td>3</td>\n",
    "    </tr></tbody></table>\n",
    "</td>\n",
    "<td style=\"border: 1px solid black; padding: 0px;\">\n",
    "    <table style=\"font-size: 100%; background-color: #ffffff;\"><tbody><tr>\n",
    "    <td>2</td><td>6</td>\n",
    "    </tr></tbody></table>\n",
    "</td>\n",
    "</tr></tbody></table>\n",
    "\n",
    "<h3 style=\"margin: 0px; font-size: 150%; text-align: center;\">\n",
    "&nbsp;&nbsp;&nbsp;&nbsp;&nbsp;&nbsp;&nbsp;\n",
    "&nbsp;&darr;\n",
    "&nbsp;&darr;\n",
    "&nbsp;&darr;\n",
    "&nbsp;&darr;\n",
    "&nbsp;&nbsp;&darr;\n",
    "&nbsp;&darr;\n",
    "&nbsp;&darr;\n",
    "&nbsp;&darr;\n",
    "</h3>\n",
    "\n",
    "\n",
    "<table style=\"font-size: 100%; background-color: #ffffff;\"><tbody>\n",
    "<tr style=\"border: none;\">\n",
    "<td style=\"border: 1px solid black; padding: 0px;\">\n",
    "    <table style=\"font-size: 100%; background-color: #ffffff;\"><tbody><tr>\n",
    "    <td>5</td>\n",
    "    </tr></tbody></table>\n",
    "</td>\n",
    "<td style=\"border: 1px solid black; padding: 0px;\">\n",
    "    <table style=\"font-size: 100%; background-color: #ffffff;\"><tbody><tr>\n",
    "    <td>2</td>\n",
    "    </tr></tbody></table>\n",
    "</td>\n",
    "<td style=\"border: 1px solid black; padding: 0px;\">\n",
    "    <table style=\"font-size: 100%; background-color: #ffffff;\"><tbody><tr>\n",
    "    <td>4</td>\n",
    "    </tr></tbody></table>\n",
    "</td>\n",
    "<td style=\"border: 1px solid black; padding: 0px;\">\n",
    "    <table style=\"font-size: 100%; background-color: #ffffff;\"><tbody><tr>\n",
    "    <td>7</td>\n",
    "    </tr></tbody></table>\n",
    "</td>\n",
    "<td style=\"border: 1px solid black; padding: 0px;\">\n",
    "    <table style=\"font-size: 100%; background-color: #ffffff;\"><tbody><tr>\n",
    "    <td>1</td>\n",
    "    </tr></tbody></table>\n",
    "</td>\n",
    "<td style=\"border: 1px solid black; padding: 0px;\">\n",
    "    <table style=\"font-size: 100%; background-color: #ffffff;\"><tbody><tr>\n",
    "    <td>3</td>\n",
    "    </tr></tbody></table>\n",
    "</td>\n",
    "<td style=\"border: 1px solid black; padding: 0px;\">\n",
    "    <table style=\"font-size: 100%; background-color: #ffffff;\"><tbody><tr>\n",
    "    <td>2</td>\n",
    "    </tr></tbody></table>\n",
    "</td>\n",
    "<td style=\"border: 1px solid black; padding: 0px;\">\n",
    "    <table style=\"font-size: 100%; background-color: #ffffff;\"><tbody><tr>\n",
    "    <td>6</td>\n",
    "    </tr></tbody></table>\n",
    "</td>\n",
    "</tr></tbody></table>\n",
    "\n",
    "$log_2(n)$ divisions to split an array of size *n* into single elements \n",
    "\n",
    "\n",
    "<p style=\"text-align: right; clear: right;\">4</p>"
   ]
  },
  {
   "cell_type": "markdown",
   "metadata": {
    "nbpresent": {
     "id": "3421db94-9acf-46ef-a52a-7a5003458854"
    },
    "slideshow": {
     "slide_type": "slide"
    }
   },
   "source": [
    "# Mergesort: Combine Solutions\n",
    "\n",
    "### Merge\n",
    "\n",
    "* 2 arrays of size 1 can be easily merged to form a sorted array of size 2 \n",
    "\n",
    "<table style=\"font-size: 100%; background-color: #ffffff;\"><tbody>\n",
    "<tr style=\"border: none;\">\n",
    "<td style=\"border: 1px solid black; padding: 0px;\">\n",
    "    <table style=\"font-size: 100%; background-color: #ffffff;\"><tbody><tr>\n",
    "    <td>5</td>\n",
    "    </tr></tbody></table>\n",
    "</td>\n",
    "<td style=\"border: 1px solid black; padding: 0px;\">\n",
    "    <table style=\"font-size: 100%; background-color: #ffffff;\"><tbody><tr>\n",
    "    <td>2</td>\n",
    "    </tr></tbody></table>\n",
    "</td>\n",
    "<td style=\"border: none; font-size: 30px; padding: 0px; background-color: #ffffff;\">\n",
    "    &rarr;\n",
    "</td>\n",
    "<td style=\"border: 1px solid black; padding: 0px;\">\n",
    "    <table style=\"font-size: 100%; background-color: #ffffff;\"><tbody><tr>\n",
    "    <td>2</td><td>5</td>\n",
    "    </tr></tbody></table>\n",
    "</td>\n",
    "</tr></tbody></table>\n",
    "\n",
    "<table style=\"font-size: 100%; background-color: #ffffff;\"><tbody>\n",
    "<tr style=\"border: none;\">\n",
    "<td style=\"border: 1px solid black; padding: 0px;\">\n",
    "    <table style=\"font-size: 100%; background-color: #ffffff;\"><tbody><tr>\n",
    "    <td>4</td>\n",
    "    </tr></tbody></table>\n",
    "</td>\n",
    "<td style=\"border: 1px solid black; padding: 0px;\">\n",
    "    <table style=\"font-size: 100%; background-color: #ffffff;\"><tbody><tr>\n",
    "    <td>7</td>\n",
    "    </tr></tbody></table>\n",
    "</td>\n",
    "<td style=\"border: none; font-size: 30px; padding: 0px; background-color: #ffffff;\">\n",
    "    &rarr;\n",
    "</td>\n",
    "<td style=\"border: 1px solid black; padding: 0px;\">\n",
    "    <table style=\"font-size: 100%; background-color: #ffffff;\"><tbody><tr>\n",
    "    <td>4</td><td>7</td>\n",
    "    </tr></tbody></table>\n",
    "</td>\n",
    "</tr></tbody></table>\n",
    "\n",
    "<table style=\"font-size: 100%; background-color: #ffffff;\"><tbody>\n",
    "<tr style=\"border: none;\">\n",
    "<td style=\"border: 1px solid black; padding: 0px;\">\n",
    "    <table style=\"font-size: 100%; background-color: #ffffff;\"><tbody><tr>\n",
    "    <td>2</td><td>5</td>\n",
    "    </tr></tbody></table>\n",
    "</td>\n",
    "<td style=\"border: 1px solid black; padding: 0px;\">\n",
    "    <table style=\"font-size: 100%; background-color: #ffffff;\"><tbody><tr>\n",
    "    <td>4</td><td>7</td>\n",
    "    </tr></tbody></table>\n",
    "</td>\n",
    "<td style=\"border: none; font-size: 30px; padding: 0px; background-color: #ffffff;\">\n",
    "    &rarr;\n",
    "</td>\n",
    "<td style=\"border: 1px solid black; padding: 0px;\">\n",
    "    <table style=\"font-size: 100%; background-color: #ffffff;\"><tbody><tr>\n",
    "    <td>2</td><td>4</td><td>5</td><td>7</td>\n",
    "    </tr></tbody></table>\n",
    "</td>\n",
    "</tr></tbody></table>\n",
    "\n",
    "* Move the smaller first value of the two arrays to the next slot in the merged array. Repeat. \n",
    "\n",
    "* 2 sorted arrays of size p and q can be  merged in $O(p+q)$ time to form a sorted array of size *p+q*\n",
    "\n",
    "<p style=\"text-align: right; clear: right;\">5</p>"
   ]
  },
  {
   "cell_type": "markdown",
   "metadata": {
    "nbpresent": {
     "id": "5f037260-9815-443e-aaf8-0bc5c344b934"
    },
    "slideshow": {
     "slide_type": "slide"
    }
   },
   "source": [
    "# Mergesort: Conquer Step\n",
    "\n",
    "### Step 2 - Conquer\n",
    "\n",
    "<table style=\"font-size: 100%; background-color: #ffffff;\"><tbody>\n",
    "<tr style=\"border: none;\">\n",
    "<td style=\"border: 1px solid black; padding: 0px;\">\n",
    "    <table style=\"font-size: 100%; background-color: #ffffff;\"><tbody><tr>\n",
    "    <td>5</td>\n",
    "    </tr></tbody></table>\n",
    "</td>\n",
    "<td style=\"border: 1px solid black; padding: 0px;\">\n",
    "    <table style=\"font-size: 100%; background-color: #ffffff;\"><tbody><tr>\n",
    "    <td>2</td>\n",
    "    </tr></tbody></table>\n",
    "</td>\n",
    "<td style=\"border: 1px solid black; padding: 0px;\">\n",
    "    <table style=\"font-size: 100%; background-color: #ffffff;\"><tbody><tr>\n",
    "    <td>4</td>\n",
    "    </tr></tbody></table>\n",
    "</td>\n",
    "<td style=\"border: 1px solid black; padding: 0px;\">\n",
    "    <table style=\"font-size: 100%; background-color: #ffffff;\"><tbody><tr>\n",
    "    <td>7</td>\n",
    "    </tr></tbody></table>\n",
    "</td>\n",
    "<td style=\"border: 1px solid black; padding: 0px;\">\n",
    "    <table style=\"font-size: 100%; background-color: #ffffff;\"><tbody><tr>\n",
    "    <td>1</td>\n",
    "    </tr></tbody></table>\n",
    "</td>\n",
    "<td style=\"border: 1px solid black; padding: 0px;\">\n",
    "    <table style=\"font-size: 100%; background-color: #ffffff;\"><tbody><tr>\n",
    "    <td>3</td>\n",
    "    </tr></tbody></table>\n",
    "</td>\n",
    "<td style=\"border: 1px solid black; padding: 0px;\">\n",
    "    <table style=\"font-size: 100%; background-color: #ffffff;\"><tbody><tr>\n",
    "    <td>2</td>\n",
    "    </tr></tbody></table>\n",
    "</td>\n",
    "<td style=\"border: 1px solid black; padding: 0px;\">\n",
    "    <table style=\"font-size: 100%; background-color: #ffffff;\"><tbody><tr>\n",
    "    <td>6</td>\n",
    "    </tr></tbody></table>\n",
    "</td>\n",
    "</tr></tbody></table>\n",
    "<h3 style=\"text-align: center;\">\n",
    "<em>O(n)</em>\n",
    "&nbsp;&nbsp;&nbsp;&darr;\n",
    "&nbsp;&nbsp;&nbsp;&nbsp;&nbsp;&nbsp;&nbsp;&nbsp;&darr;\n",
    "&nbsp;&nbsp;&nbsp;&nbsp;&nbsp;&nbsp;&nbsp;&darr;\n",
    "&nbsp;&nbsp;&nbsp;&nbsp;&nbsp;&nbsp;&nbsp;&nbsp;&darr;&nbsp;&nbsp;&nbsp;&nbsp;\n",
    "</h3>\n",
    "\n",
    "\n",
    "<table style=\"font-size: 100%; background-color: #ffffff;\"><tbody><tr style=\"border: none;\">\n",
    "<td style=\"border: 1px solid black; padding: 0px;\">\n",
    "    <table style=\"font-size: 100%; background-color: #ffffff;\"><tbody><tr>\n",
    "    <td>2</td><td>5</td>\n",
    "    </tr></tbody></table>\n",
    "</td>\n",
    "<td style=\"border: 1px solid black; padding: 0px;\">\n",
    "    <table style=\"font-size: 100%; background-color: #ffffff;\"><tbody><tr>\n",
    "    <td>4</td><td>7</td>\n",
    "    </tr></tbody></table>\n",
    "</td>\n",
    "<td style=\"border: 1px solid black; padding: 0px;\">\n",
    "    <table style=\"font-size: 100%; background-color: #ffffff;\"><tbody><tr>\n",
    "    <td>1</td><td>3</td>\n",
    "    </tr></tbody></table>\n",
    "</td>\n",
    "<td style=\"border: 1px solid black; padding: 0px;\">\n",
    "    <table style=\"font-size: 100%; background-color: #ffffff;\"><tbody><tr>\n",
    "    <td>2</td><td>6</td>\n",
    "    </tr></tbody></table>\n",
    "</td>\n",
    "</tr></tbody></table>\n",
    "<h3 style=\"text-align: center;\">\n",
    "<em>O(n)</em>\n",
    "&nbsp;&nbsp;&nbsp;&darr;&nbsp;&nbsp;&nbsp;\n",
    "&nbsp;&nbsp;&nbsp;&nbsp;&nbsp;&nbsp;&nbsp;&nbsp;&nbsp;&nbsp;&nbsp;&nbsp;&nbsp;&nbsp;&nbsp;&darr;\n",
    "&nbsp;&nbsp;&nbsp;\n",
    "</h3>\n",
    "\n",
    "<table style=\"font-size: 100%; background-color: #ffffff;\"><tbody><tr style=\"border: none;\">\n",
    "<td style=\"border: 1px solid black; padding: 0px;\">\n",
    "    <table style=\"font-size: 100%; background-color: #ffffff;\"><tbody><tr>\n",
    "    <td>2</td><td>4</td><td>5</td><td>7</td>\n",
    "    </tr></tbody></table>\n",
    "</td>\n",
    "<td style=\"border: 1px solid black; padding: 0px;\">\n",
    "    <table style=\"font-size: 100%; background-color: #ffffff;\"><tbody><tr>\n",
    "    <td>1</td><td>2</td><td>3</td><td>6</td>\n",
    "    </tr></tbody></table>\n",
    "</td>\n",
    "</tr></tbody></table>\n",
    "<h3 style=\"text-align: center;\">\n",
    "<em>O(n)</em>&nbsp;&nbsp;&nbsp;&nbsp;&darr;&nbsp;&nbsp;&nbsp;\n",
    "</h3>\n",
    "\n",
    "<table style=\"font-size: 100%; background-color: #ffffff;\"><tbody>\n",
    "<tr style=\"border: 1px solid black; padding: 0px;\">\n",
    "<td>1</td><td>2</td><td>2</td><td>3</td><td>4</td><td>5</td><td>6</td><td>7</td>\n",
    "</tr></tbody></table>\n",
    "\n",
    "$log_2(n)$ iterations, each iteration takes $O(n)$ time, for a total time $O(n log(n))$\n",
    "\n",
    "<p style=\"text-align: right; clear: right;\">6</p>"
   ]
  },
  {
   "cell_type": "markdown",
   "metadata": {
    "nbpresent": {
     "id": "60ca4a53-4b88-4b4a-91cf-468589a05bb8"
    },
    "slideshow": {
     "slide_type": "slide"
    }
   },
   "source": [
    "# Now back to Biology\n",
    "\n",
    "### All algorithms for aligning a pair of sequences thus far have required *quadratic memory*\n",
    "\n",
    "The tables used by the dynamic programming method\n",
    "\n",
    "<img src=\"http://csbio.unc.edu/mcmillan/Comp555S18/Media/DPSketch.png\" width=\"400px\" class=\"centerImg\">\n",
    "\n",
    "* Space complexity for computing alignment path for sequences of length n and m is O(nm)\n",
    "* We kept a table of all scores and arrival directions in memory to reconstruct the final best path (backtracking)\n",
    "\n",
    "\n",
    "<p style=\"text-align: right; clear: right;\">7</p>"
   ]
  },
  {
   "cell_type": "markdown",
   "metadata": {
    "nbpresent": {
     "id": "de4e77f2-a1fa-4489-9dfd-8d36ab1dd295"
    },
    "slideshow": {
     "slide_type": "slide"
    }
   },
   "source": [
    "# Computing Alignments with Linear Memory\n",
    "\n",
    "<img src=\"http://csbio.unc.edu/mcmillan/Comp555S18/Media/DPColumns.png\" width=\"300px\" class=\"centerImg\">\n",
    "\n",
    "* If appropriately ordered, the space needed to compute *just the score* can be reduced to O(n)\n",
    "* For example, we only need the previous column to calculate the current column, and we can throw away that previous column once we’re done using it\n",
    "\n",
    "<p style=\"text-align: right; clear: right;\">8</p>"
   ]
  },
  {
   "cell_type": "markdown",
   "metadata": {
    "collapsed": true,
    "nbpresent": {
     "id": "23e7bd20-05cf-4f9b-a51c-9435e814057a"
    },
    "slideshow": {
     "slide_type": "slide"
    }
   },
   "source": [
    "# Recycling Columns\n",
    "\n",
    "### Only two columns of scores are needed at any given time\n",
    "\n",
    "<img src=\"http://csbio.unc.edu/mcmillan/Comp555S18/Media/DPRecycle.png\" width=\"700px\" class=\"centerImg\">\n",
    "\n",
    "<p style=\"text-align: right; clear: right;\">9</p>"
   ]
  },
  {
   "cell_type": "markdown",
   "metadata": {
    "nbpresent": {
     "id": "d8c3bc8c-4af6-4f43-afbf-56de0b3d33e9"
    },
    "slideshow": {
     "slide_type": "slide"
    }
   },
   "source": [
    "# An Aside\n",
    "\n",
    "### Suppose that we reverse the source and destination of our Manhattan Tour\n",
    "\n",
    "* Does the path with the most attractions change?\n",
    "\n",
    "<img src=\"http://csbio.unc.edu/mcmillan/Comp555S18/Media/DPReverseTour.png\" width=\"600px\" class=\"centerImg\">\n",
    "\n",
    "<p style=\"text-align: right; clear: right;\">10</p>"
   ]
  },
  {
   "cell_type": "markdown",
   "metadata": {
    "nbpresent": {
     "id": "c85cd3e9-c71a-4cb2-86f2-b50a3540c2e0"
    },
    "slideshow": {
     "slide_type": "slide"
    }
   },
   "source": [
    "# More Aside\n",
    "\n",
    "Now suppose that we made two tours\n",
    "* One from the source towards the destination\n",
    "* A second from the destination of towards the source\n",
    "* And we stop both tours at the middle column\n",
    "\n",
    "<img src=\"http://csbio.unc.edu/mcmillan/Comp555S18/Media/DPReverseTour.png\" width=\"500px\" class=\"centerImg\">\n",
    "\n",
    "* Can we combine these two separate solutions to find the overall best score?\n",
    "\n",
    "<p style=\"text-align: right; clear: right;\">11</p>"
   ]
  },
  {
   "cell_type": "markdown",
   "metadata": {
    "nbpresent": {
     "id": "9aa56520-c165-4aa8-af0d-ce66deb1b8bd"
    },
    "slideshow": {
     "slide_type": "slide"
    }
   },
   "source": [
    "# A Divide & Conquer Approach to<br>&nbsp; find the best Alignment score\n",
    "\n",
    "<img src=\"http://csbio.unc.edu/mcmillan/Comp555S18/Media/DPMiddleCol.png\" width=\"350px\" class=\"centerImg\">\n",
    "\n",
    "* We want to calculate the longest path from (0,0) to (n,m) that passes through (i,m/2) where i ranges from 0 to n and represents the i-th row\n",
    "\n",
    "* Define Score(i) as the score of the path from (0,0) to (n,m) that passes through vertex (i, m/2)\n",
    "\n",
    "<p style=\"text-align: right; clear: right;\">12</p>"
   ]
  },
  {
   "cell_type": "markdown",
   "metadata": {
    "nbpresent": {
     "id": "a61e6612-a34e-4af2-8da5-311d2939bd61"
    },
    "slideshow": {
     "slide_type": "slide"
    }
   },
   "source": [
    "# Finding the Midline\n",
    "\n",
    "Define (mid,m/2) as the vertex where the best score crosses the middle column.\n",
    "\n",
    "<img src=\"http://csbio.unc.edu/mcmillan/Comp555S18/Media/DPMidline.png\" width=\"450px\" class=\"centerImg\">\n",
    "\n",
    "* How hard is the problem compared to the original DP approach?\n",
    "* What does it lack?\n",
    "\n",
    "<p style=\"text-align: right; clear: right;\">13</p>"
   ]
  },
  {
   "cell_type": "markdown",
   "metadata": {
    "nbpresent": {
     "id": "48dbeec5-9713-47cb-a05f-c63cc12e07e3"
    },
    "slideshow": {
     "slide_type": "slide"
    }
   },
   "source": [
    "# We know the Best Score\n",
    "\n",
    "### How do we find the best path?\n",
    "\n",
    "* We actually know one vertex on our path, (m/2, mid).\n",
    "* How do we find more?\n",
    "\n",
    "<img src=\"http://csbio.unc.edu/mcmillan/Comp555S18/Media/DPMidConstraints.png\" width=\"450px\" class=\"centerImg\">\n",
    "\n",
    "* **Hint:** Knowing *mid* actually constrains where the paths can go\n",
    "\n",
    "<p style=\"text-align: right; clear: right;\">14</p>"
   ]
  },
  {
   "cell_type": "markdown",
   "metadata": {
    "nbpresent": {
     "id": "663e515f-e75a-49f9-95eb-5874c59f19ac"
    },
    "slideshow": {
     "slide_type": "slide"
    }
   },
   "source": [
    "# A Mid's Mid\n",
    "\n",
    "### We can now solve for the paths from (0,0) to (m/2, mid) and (m/2, mid) to (m,n)\n",
    "\n",
    "<img src=\"http://csbio.unc.edu/mcmillan/Comp555S18/Media/DPMidMid.png\" width=\"450px\" class=\"centerImg\">\n",
    "\n",
    "<p style=\"text-align: right; clear: right;\">15</p>"
   ]
  },
  {
   "cell_type": "markdown",
   "metadata": {
    "nbpresent": {
     "id": "2d86cc83-1560-48a3-9e3d-f8a5ac277e0c"
    },
    "slideshow": {
     "slide_type": "slide"
    }
   },
   "source": [
    "# And Mid-Mid's Mids (recursively)\n",
    "\n",
    "### And repeat this process until the path is from (i,j) to (i,j)\n",
    "\n",
    "<img src=\"http://csbio.unc.edu/mcmillan/Comp555S18/Media/DPMidMidMid.png\" width=\"450px\" class=\"centerImg\">\n",
    "\n",
    "<p style=\"text-align: right; clear: right;\">16</p>"
   ]
  },
  {
   "cell_type": "markdown",
   "metadata": {
    "nbpresent": {
     "id": "32faebcf-0c54-41a2-8c9c-5675eff7bbed"
    },
    "slideshow": {
     "slide_type": "slide"
    }
   },
   "source": [
    "# Algorithm's Performance\n",
    "\n",
    "* On first level, the algorithm fills every entry in the matrix, thus it does $O(nm)$ work\n",
    "\n",
    "<img src=\"http://csbio.unc.edu/mcmillan/Comp555S18/Media/DPArea1.png\" width=\"500px\" class=\"centerImg\">\n",
    "\n",
    "<p style=\"text-align: right; clear: right;\">17</p>"
   ]
  },
  {
   "cell_type": "markdown",
   "metadata": {
    "nbpresent": {
     "id": "3df605a0-7299-4755-9a75-e0472f9ac29d"
    },
    "slideshow": {
     "slide_type": "slide"
    }
   },
   "source": [
    "# Work done on a second pass\n",
    "\n",
    "* On second level, the algorithm fills half the entries in the matrix, thus it does $O(nm)/2$ work\n",
    "\n",
    "<img src=\"http://csbio.unc.edu/mcmillan/Comp555S18/Media/DPArea2.png\" width=\"500px\" class=\"centerImg\">\n",
    "\n",
    "<p style=\"text-align: right; clear: right;\">18</p>"
   ]
  },
  {
   "cell_type": "markdown",
   "metadata": {
    "nbpresent": {
     "id": "c508b08c-959a-4fe9-9dbf-33c3df9f5930"
    },
    "slideshow": {
     "slide_type": "slide"
    }
   },
   "source": [
    "# Work done on an Alternate second pass \n",
    "\n",
    "* This is true regardless of what *mid* is\n",
    "\n",
    "<img src=\"http://csbio.unc.edu/mcmillan/Comp555S18/Media/DPArea3.png\" width=\"500px\" class=\"centerImg\">\n",
    "\n",
    "<p style=\"text-align: right; clear: right;\">19</p>"
   ]
  },
  {
   "cell_type": "markdown",
   "metadata": {
    "nbpresent": {
     "id": "27227e70-5798-4552-9360-3502b7b6d5ff"
    },
    "slideshow": {
     "slide_type": "slide"
    }
   },
   "source": [
    "# Work done on a third pass \n",
    "\n",
    "* On the third pass, the algorithm fills a quarter of the entries in the matrix, thus it does $O(nm)/4$ work\n",
    "\n",
    "<img src=\"http://csbio.unc.edu/mcmillan/Comp555S18/Media/DPArea4.png\" width=\"500px\" class=\"centerImg\">\n",
    "\n",
    "<p style=\"text-align: right; clear: right;\">20</p>"
   ]
  },
  {
   "cell_type": "markdown",
   "metadata": {
    "nbpresent": {
     "id": "407fd438-a723-443a-821a-bae5f08afafa"
    },
    "slideshow": {
     "slide_type": "slide"
    }
   },
   "source": [
    "# Sum of a Geometric Series\n",
    "\n",
    "<img src=\"http://csbio.unc.edu/mcmillan/Comp555S18/Media/DPArea5.png\" width=\"600px\" class=\"centerImg\">\n",
    "\n",
    "<p style=\"text-align: right; clear: right;\">21</p>"
   ]
  },
  {
   "cell_type": "markdown",
   "metadata": {
    "nbpresent": {
     "id": "908c789a-128a-47a6-8f62-2858531ed3d9"
    },
    "slideshow": {
     "slide_type": "slide"
    }
   },
   "source": [
    "# Can We Do Even Better?\n",
    "\n",
    "* Align in Subquadratic Time?\n",
    "* Dynamic Programming takes *O(nm)* for global alignment, which is quadratic assuming n ≈ m\n",
    "* Yes, using the Four-Russians Speedup\n",
    "\n",
    "<img src=\"./Media/DPFourRussians.png\" width=\"300px\" class=\"centerImg\">\n",
    "\n",
    "<p style=\"text-align: right; clear: right;\">22</p>"
   ]
  },
  {
   "cell_type": "markdown",
   "metadata": {
    "nbpresent": {
     "id": "39b23bca-f6c7-4b4d-9e21-ef2f36e7c3e2"
    },
    "slideshow": {
     "slide_type": "slide"
    }
   },
   "source": [
    "# Partitioning the Alignment Grid\n",
    "\n",
    "### Into smaller blocks\n",
    "\n",
    "<img src=\"./Media/DPBlocks.png\" width=\"500px\" class=\"centerImg\">\n",
    "\n",
    "<p style=\"text-align: right; clear: right;\">23</p>"
   ]
  },
  {
   "cell_type": "markdown",
   "metadata": {
    "nbpresent": {
     "id": "bfcefb88-ad3c-4ffa-be70-e519c6710200"
    },
    "slideshow": {
     "slide_type": "slide"
    }
   },
   "source": [
    "# Block Logic\n",
    "\n",
    "* How does a block relate to a correct alignment?\n",
    "  - the alignment path passes through block\n",
    "  - the path does not use the block\n",
    "\n",
    "* The alignment passes through *O(n/t)* total blocks\n",
    "\n",
    "<img src=\"./Media/DPBlockPath.png\" width=\"200px\" class=\"centerImg\">\n",
    "\n",
    "* Paths enter from the top or left and exit from the right or bottom\n",
    "\n",
    "* If we know the best score at the boundaries, perhaps we can peice together a solution as we did before.\n",
    "\n",
    "<p style=\"text-align: right; clear: right;\">24</p>"
   ]
  },
  {
   "cell_type": "markdown",
   "metadata": {
    "nbpresent": {
     "id": "372e5dd3-2da4-4d4b-bec1-baef095befe2"
    },
    "slideshow": {
     "slide_type": "slide"
    }
   },
   "source": [
    "# Recall our Bag of Tricks\n",
    "\n",
    "* A key insight of dynamic programming was to reuse repeated computations by storing them in a tableau\n",
    "* Are there any repeated computations in Block Alignments?\n",
    "* Let’s check out some numbers…\n",
    "  - Lets assume n = m = 4000 and t = 4\n",
    "  - n/t = 1000, so there are 1,000,000 blocks\n",
    "  - How many possible many blocks are there?\n",
    "    * Assume we are aligning DNA with DNA, so there sequences are over an alphabet of {A,C,G,T}\n",
    "    * Possible sequences are 4t = 44 = 256,\n",
    "    * Possible alignments are 4t x 4t = 65536\n",
    "* There are fewer possible alignments than blocks, thus we must be frequently revisiting block alignments!\n",
    "\n",
    "<p style=\"text-align: right; clear: right;\">25</p>"
   ]
  },
  {
   "cell_type": "markdown",
   "metadata": {
    "nbpresent": {
     "id": "75149944-925d-4ab3-a7ad-58c2494f5fe8"
    },
    "slideshow": {
     "slide_type": "slide"
    }
   },
   "source": [
    "# Next Time\n",
    "\n",
    "### Hidden Markov Models\n",
    "<img src=\"http://csbio.unc.edu/mcmillan/Comp555S18/Media/L23Hmm.gif\" width=\"500px\">\n",
    "\n",
    "<p style=\"text-align: right; clear: right;\">26</p>"
   ]
  },
  {
   "cell_type": "code",
   "execution_count": null,
   "metadata": {},
   "outputs": [],
   "source": []
  }
 ],
 "metadata": {
  "anaconda-cloud": {},
  "celltoolbar": "Slideshow",
  "kernelspec": {
   "display_name": "Python 2",
   "language": "python",
   "name": "python2"
  },
  "language_info": {
   "codemirror_mode": {
    "name": "ipython",
    "version": 2
   },
   "file_extension": ".py",
   "mimetype": "text/x-python",
   "name": "python",
   "nbconvert_exporter": "python",
   "pygments_lexer": "ipython2",
   "version": "2.7.14"
  },
  "nbpresent": {
   "slides": {
    "0d11fa6b-63e4-429d-874a-c096285fe971": {
     "id": "0d11fa6b-63e4-429d-874a-c096285fe971",
     "prev": "f89fecec-7c0f-4584-970d-18d5df744eee",
     "regions": {
      "ada7c757-0693-4f47-8844-0a69007c225f": {
       "attrs": {
        "height": 0.96,
        "width": 0.96,
        "x": 0.02,
        "y": 0.02
       },
       "content": {
        "cell": "d8c3bc8c-4af6-4f43-afbf-56de0b3d33e9",
        "part": "whole"
       },
       "id": "ada7c757-0693-4f47-8844-0a69007c225f"
      }
     }
    },
    "109ffe97-690b-4a9c-a08a-b8d081ea4367": {
     "id": "109ffe97-690b-4a9c-a08a-b8d081ea4367",
     "prev": "59e61e1a-e2ce-4449-8423-b079c31bb623",
     "regions": {
      "405a9ad4-8314-4542-8a22-43753ad13f12": {
       "attrs": {
        "height": 0.96,
        "width": 0.96,
        "x": 0.02,
        "y": 0.02
       },
       "content": {
        "cell": "908c789a-128a-47a6-8f62-2858531ed3d9",
        "part": "whole"
       },
       "id": "405a9ad4-8314-4542-8a22-43753ad13f12"
      }
     }
    },
    "21baaeda-7a87-4644-b489-9156652cc767": {
     "id": "21baaeda-7a87-4644-b489-9156652cc767",
     "prev": null,
     "regions": {
      "f18362db-9cc9-4ab5-85e6-726a421c3082": {
       "attrs": {
        "height": 0.96,
        "width": 0.96,
        "x": 0.02,
        "y": 0.02
       },
       "content": {
        "cell": "538d5959-7afd-4651-9fce-777afa13cf5d",
        "part": "whole"
       },
       "id": "f18362db-9cc9-4ab5-85e6-726a421c3082"
      }
     }
    },
    "27185f3e-2a0f-4c1e-8ac9-2f8b72365bf1": {
     "id": "27185f3e-2a0f-4c1e-8ac9-2f8b72365bf1",
     "prev": "d161c9ac-ea5f-4a16-ad30-fac5da95b9d7",
     "regions": {
      "3aee5b0a-bcdc-4793-b4cc-8367bcd4a979": {
       "attrs": {
        "height": 0.96,
        "width": 0.96,
        "x": 0.02,
        "y": 0.02
       },
       "content": {
        "cell": "3421db94-9acf-46ef-a52a-7a5003458854",
        "part": "whole"
       },
       "id": "3aee5b0a-bcdc-4793-b4cc-8367bcd4a979"
      }
     }
    },
    "2a7de429-4e87-4991-bbae-2706c26d498c": {
     "id": "2a7de429-4e87-4991-bbae-2706c26d498c",
     "prev": "54fb52a8-2b72-4d61-a616-af4ddd0834ac",
     "regions": {
      "bb953d17-425c-488e-97bd-af4857896cd2": {
       "attrs": {
        "height": 0.96,
        "width": 0.96,
        "x": 0.02,
        "y": 0.02
       },
       "content": {
        "cell": "bfcefb88-ad3c-4ffa-be70-e519c6710200",
        "part": "whole"
       },
       "id": "bb953d17-425c-488e-97bd-af4857896cd2"
      }
     }
    },
    "3d9a2f93-6cfe-44ab-b528-8518313fb843": {
     "id": "3d9a2f93-6cfe-44ab-b528-8518313fb843",
     "prev": "bfa2688b-5d59-4cd5-8f83-4f9fd90185d1",
     "regions": {
      "d4087a0f-1e57-4715-8bfb-90a028106e19": {
       "attrs": {
        "height": 0.96,
        "width": 0.96,
        "x": 0.02,
        "y": 0.02
       },
       "content": {
        "cell": "663e515f-e75a-49f9-95eb-5874c59f19ac",
        "part": "whole"
       },
       "id": "d4087a0f-1e57-4715-8bfb-90a028106e19"
      }
     }
    },
    "43d6d6a5-e2b0-4128-a81e-fb40db259d76": {
     "id": "43d6d6a5-e2b0-4128-a81e-fb40db259d76",
     "prev": "ef9920f6-e2eb-4fed-99ef-01de75833958",
     "regions": {
      "208c1abd-a1fc-449a-acc0-ef868ba7f56a": {
       "attrs": {
        "height": 0.96,
        "width": 0.96,
        "x": 0.02,
        "y": 0.02
       },
       "content": {
        "cell": "de4e77f2-a1fa-4489-9dfd-8d36ab1dd295",
        "part": "whole"
       },
       "id": "208c1abd-a1fc-449a-acc0-ef868ba7f56a"
      }
     }
    },
    "54fb52a8-2b72-4d61-a616-af4ddd0834ac": {
     "id": "54fb52a8-2b72-4d61-a616-af4ddd0834ac",
     "prev": "109ffe97-690b-4a9c-a08a-b8d081ea4367",
     "regions": {
      "bebca8fa-ccf7-4b0b-9981-050bb2523e62": {
       "attrs": {
        "height": 0.96,
        "width": 0.96,
        "x": 0.02,
        "y": 0.02
       },
       "content": {
        "cell": "39b23bca-f6c7-4b4d-9e21-ef2f36e7c3e2",
        "part": "whole"
       },
       "id": "bebca8fa-ccf7-4b0b-9981-050bb2523e62"
      }
     }
    },
    "59e61e1a-e2ce-4449-8423-b079c31bb623": {
     "id": "59e61e1a-e2ce-4449-8423-b079c31bb623",
     "prev": "7b2cda45-8efa-4d3e-b4d0-4209b54e5bd5",
     "regions": {
      "a6c367ca-0f83-4e7b-a78b-b3380ed1d24f": {
       "attrs": {
        "height": 0.96,
        "width": 0.96,
        "x": 0.02,
        "y": 0.02
       },
       "content": {
        "cell": "407fd438-a723-443a-821a-bae5f08afafa",
        "part": "whole"
       },
       "id": "a6c367ca-0f83-4e7b-a78b-b3380ed1d24f"
      }
     }
    },
    "5ac2e041-90e9-4cdc-8599-3360927662f8": {
     "id": "5ac2e041-90e9-4cdc-8599-3360927662f8",
     "prev": "cc38386b-68f7-40b7-be5f-475078bf333c",
     "regions": {
      "e983ba21-d42f-4ef2-b7b1-e2ce15e3f5e3": {
       "attrs": {
        "height": 0.96,
        "width": 0.96,
        "x": 0.02,
        "y": 0.02
       },
       "content": {
        "cell": "32faebcf-0c54-41a2-8c9c-5675eff7bbed",
        "part": "whole"
       },
       "id": "e983ba21-d42f-4ef2-b7b1-e2ce15e3f5e3"
      }
     }
    },
    "5e90658b-acb9-4639-8ba1-b534ef6bbd4b": {
     "id": "5e90658b-acb9-4639-8ba1-b534ef6bbd4b",
     "prev": "8f493dda-9053-48c2-8d54-e50f99cad3f9",
     "regions": {
      "70235dd5-1a29-4305-b7b5-79d316477456": {
       "attrs": {
        "height": 0.96,
        "width": 0.96,
        "x": 0.02,
        "y": 0.02
       },
       "content": {
        "cell": "a61e6612-a34e-4af2-8da5-311d2939bd61",
        "part": "whole"
       },
       "id": "70235dd5-1a29-4305-b7b5-79d316477456"
      }
     }
    },
    "6542a979-9aaf-4205-b524-9f0cc4300b5a": {
     "id": "6542a979-9aaf-4205-b524-9f0cc4300b5a",
     "prev": "82d60af4-1490-4c20-ab4c-724569ee19f3",
     "regions": {
      "eae81fc5-9407-4f7f-935a-c427da54851f": {
       "attrs": {
        "height": 0.96,
        "width": 0.96,
        "x": 0.02,
        "y": 0.02
       },
       "content": {
        "cell": "d71153aa-edc6-4daf-bf4f-21aab0123116",
        "part": "whole"
       },
       "id": "eae81fc5-9407-4f7f-935a-c427da54851f"
      }
     }
    },
    "7b2cda45-8efa-4d3e-b4d0-4209b54e5bd5": {
     "id": "7b2cda45-8efa-4d3e-b4d0-4209b54e5bd5",
     "prev": "b3f7fd87-2730-4725-8d39-bdee6de006c6",
     "regions": {
      "f9286b94-1c29-49f9-b1a6-b946d211a180": {
       "attrs": {
        "height": 0.96,
        "width": 0.96,
        "x": 0.02,
        "y": 0.02
       },
       "content": {
        "cell": "27227e70-5798-4552-9360-3502b7b6d5ff",
        "part": "whole"
       },
       "id": "f9286b94-1c29-49f9-b1a6-b946d211a180"
      }
     }
    },
    "82d60af4-1490-4c20-ab4c-724569ee19f3": {
     "id": "82d60af4-1490-4c20-ab4c-724569ee19f3",
     "prev": "21baaeda-7a87-4644-b489-9156652cc767",
     "regions": {
      "b38e48ab-5a46-48e4-9b28-edc35b4ff342": {
       "attrs": {
        "height": 0.96,
        "width": 0.96,
        "x": 0.02,
        "y": 0.02
       },
       "content": {
        "cell": "cdc4f8ce-a5d6-4204-9d2b-71e032851831",
        "part": "whole"
       },
       "id": "b38e48ab-5a46-48e4-9b28-edc35b4ff342"
      }
     }
    },
    "8f493dda-9053-48c2-8d54-e50f99cad3f9": {
     "id": "8f493dda-9053-48c2-8d54-e50f99cad3f9",
     "prev": "c59160ef-4668-4a0b-a2e1-adecbd268f9c",
     "regions": {
      "ee4a3ed5-c7fb-41db-b14c-2464387c9a19": {
       "attrs": {
        "height": 0.96,
        "width": 0.96,
        "x": 0.02,
        "y": 0.02
       },
       "content": {
        "cell": "9aa56520-c165-4aa8-af0d-ce66deb1b8bd",
        "part": "whole"
       },
       "id": "ee4a3ed5-c7fb-41db-b14c-2464387c9a19"
      }
     }
    },
    "b3f7fd87-2730-4725-8d39-bdee6de006c6": {
     "id": "b3f7fd87-2730-4725-8d39-bdee6de006c6",
     "prev": "cb8a9d03-c5be-4ff1-9163-ba6880d4db46",
     "regions": {
      "60cce9c6-3451-44ef-9987-969b1976cbcf": {
       "attrs": {
        "height": 0.96,
        "width": 0.96,
        "x": 0.02,
        "y": 0.02
       },
       "content": {
        "cell": "c508b08c-959a-4fe9-9dbf-33c3df9f5930",
        "part": "whole"
       },
       "id": "60cce9c6-3451-44ef-9987-969b1976cbcf"
      }
     }
    },
    "bfa2688b-5d59-4cd5-8f83-4f9fd90185d1": {
     "id": "bfa2688b-5d59-4cd5-8f83-4f9fd90185d1",
     "prev": "5e90658b-acb9-4639-8ba1-b534ef6bbd4b",
     "regions": {
      "3fc03ae7-00ad-414e-a4bb-d49717b2f798": {
       "attrs": {
        "height": 0.96,
        "width": 0.96,
        "x": 0.02,
        "y": 0.02
       },
       "content": {
        "cell": "48dbeec5-9713-47cb-a05f-c63cc12e07e3",
        "part": "whole"
       },
       "id": "3fc03ae7-00ad-414e-a4bb-d49717b2f798"
      }
     }
    },
    "c59160ef-4668-4a0b-a2e1-adecbd268f9c": {
     "id": "c59160ef-4668-4a0b-a2e1-adecbd268f9c",
     "prev": "0d11fa6b-63e4-429d-874a-c096285fe971",
     "regions": {
      "ab8c7389-07c0-4460-bc8b-316e4c617476": {
       "attrs": {
        "height": 0.96,
        "width": 0.96,
        "x": 0.02,
        "y": 0.02
       },
       "content": {
        "cell": "c85cd3e9-c71a-4cb2-86f2-b50a3540c2e0",
        "part": "whole"
       },
       "id": "ab8c7389-07c0-4460-bc8b-316e4c617476"
      }
     }
    },
    "cb8a9d03-c5be-4ff1-9163-ba6880d4db46": {
     "id": "cb8a9d03-c5be-4ff1-9163-ba6880d4db46",
     "prev": "5ac2e041-90e9-4cdc-8599-3360927662f8",
     "regions": {
      "148cabd8-ef80-48e5-923e-9668c4bc4504": {
       "attrs": {
        "height": 0.96,
        "width": 0.96,
        "x": 0.02,
        "y": 0.02
       },
       "content": {
        "cell": "3df605a0-7299-4755-9a75-e0472f9ac29d",
        "part": "whole"
       },
       "id": "148cabd8-ef80-48e5-923e-9668c4bc4504"
      }
     }
    },
    "cc38386b-68f7-40b7-be5f-475078bf333c": {
     "id": "cc38386b-68f7-40b7-be5f-475078bf333c",
     "prev": "3d9a2f93-6cfe-44ab-b528-8518313fb843",
     "regions": {
      "c8a4c331-4993-4cea-ad7e-9e64c26e7dde": {
       "attrs": {
        "height": 0.96,
        "width": 0.96,
        "x": 0.02,
        "y": 0.02
       },
       "content": {
        "cell": "2d86cc83-1560-48a3-9e3d-f8a5ac277e0c",
        "part": "whole"
       },
       "id": "c8a4c331-4993-4cea-ad7e-9e64c26e7dde"
      }
     }
    },
    "cc9b72d1-1bc6-4166-b0b8-ff0882b8c721": {
     "id": "cc9b72d1-1bc6-4166-b0b8-ff0882b8c721",
     "prev": "f7d2c5bd-79de-4989-8481-ab7354161c2e",
     "regions": {
      "a701fc72-ba3f-4dae-8b66-c0764c8b18f5": {
       "attrs": {
        "height": 0.9182859990034878,
        "width": 0.9630044843049327,
        "x": 0.020179372197309416,
        "y": 0.04185351270553064
       },
       "content": {
        "cell": "75149944-925d-4ab3-a7ad-58c2494f5fe8",
        "part": "source"
       },
       "id": "a701fc72-ba3f-4dae-8b66-c0764c8b18f5"
      }
     }
    },
    "d161c9ac-ea5f-4a16-ad30-fac5da95b9d7": {
     "id": "d161c9ac-ea5f-4a16-ad30-fac5da95b9d7",
     "prev": "6542a979-9aaf-4205-b524-9f0cc4300b5a",
     "regions": {
      "067489bb-a463-4003-a180-8cd9c39b981d": {
       "attrs": {
        "height": 0.96,
        "width": 0.96,
        "x": 0.02,
        "y": 0.02
       },
       "content": {
        "cell": "8ad274be-b461-483e-bca5-16473887ac9c",
        "part": "whole"
       },
       "id": "067489bb-a463-4003-a180-8cd9c39b981d"
      }
     }
    },
    "d5ab7225-8e25-4d0b-8d55-31550c1a5943": {
     "id": "d5ab7225-8e25-4d0b-8d55-31550c1a5943",
     "prev": "27185f3e-2a0f-4c1e-8ac9-2f8b72365bf1",
     "regions": {
      "08c35cde-81b0-4dab-ae7a-965efbc66be5": {
       "attrs": {
        "height": 0.96,
        "width": 0.96,
        "x": 0.02,
        "y": 0.02
       },
       "content": {
        "cell": "5f037260-9815-443e-aaf8-0bc5c344b934",
        "part": "whole"
       },
       "id": "08c35cde-81b0-4dab-ae7a-965efbc66be5"
      }
     }
    },
    "ef9920f6-e2eb-4fed-99ef-01de75833958": {
     "id": "ef9920f6-e2eb-4fed-99ef-01de75833958",
     "prev": "d5ab7225-8e25-4d0b-8d55-31550c1a5943",
     "regions": {
      "7bc1c4d9-21e1-43f4-9a50-7a21bba88253": {
       "attrs": {
        "height": 0.96,
        "width": 0.96,
        "x": 0.02,
        "y": 0.02
       },
       "content": {
        "cell": "60ca4a53-4b88-4b4a-91cf-468589a05bb8",
        "part": "whole"
       },
       "id": "7bc1c4d9-21e1-43f4-9a50-7a21bba88253"
      }
     }
    },
    "f7d2c5bd-79de-4989-8481-ab7354161c2e": {
     "id": "f7d2c5bd-79de-4989-8481-ab7354161c2e",
     "prev": "2a7de429-4e87-4991-bbae-2706c26d498c",
     "regions": {
      "9085a72e-008f-427c-8c51-544ce0984f1e": {
       "attrs": {
        "height": 0.96,
        "width": 0.96,
        "x": 0.02,
        "y": 0.02
       },
       "content": {
        "cell": "372e5dd3-2da4-4d4b-bec1-baef095befe2",
        "part": "whole"
       },
       "id": "9085a72e-008f-427c-8c51-544ce0984f1e"
      }
     }
    },
    "f89fecec-7c0f-4584-970d-18d5df744eee": {
     "id": "f89fecec-7c0f-4584-970d-18d5df744eee",
     "prev": "43d6d6a5-e2b0-4128-a81e-fb40db259d76",
     "regions": {
      "b79415f2-f8b3-49ae-9327-e6342a0f279c": {
       "attrs": {
        "height": 0.96,
        "width": 0.96,
        "x": 0.02,
        "y": 0.02
       },
       "content": {
        "cell": "23e7bd20-05cf-4f9b-a51c-9435e814057a",
        "part": "whole"
       },
       "id": "b79415f2-f8b3-49ae-9327-e6342a0f279c"
      }
     }
    }
   },
   "themes": {
    "default": "e84c8589-1aee-4bd4-b152-49b9506b8a54",
    "theme": {
     "e84c8589-1aee-4bd4-b152-49b9506b8a54": {
      "backgrounds": {
       "my-background": {
        "background-color": "white"
       }
      },
      "id": "e84c8589-1aee-4bd4-b152-49b9506b8a54",
      "palette": {
       "black": {
        "id": "black",
        "rgb": [
         0,
         0,
         0
        ]
       },
       "blue": {
        "id": "blue",
        "rgb": [
         0,
         153,
         204
        ]
       },
       "gray": {
        "id": "gray",
        "rgb": [
         128,
         128,
         128
        ]
       },
       "red": {
        "id": "red",
        "rgb": [
         240,
         32,
         32
        ]
       },
       "white": {
        "id": "white",
        "rgb": [
         255,
         255,
         255
        ]
       }
      },
      "rules": {
       "code": {
        "font-size": 1.6
       },
       "h1": {
        "color": "blue",
        "font-size": 5.5,
        "text-align": "center"
       },
       "h2": {
        "color": "blue",
        "font-size": 3,
        "text-align": "center"
       },
       "h3": {
        "color": "black",
        "font-size": 3
       },
       "pre": {
        "font-size": 1.6
       },
       "ul li": {
        "color": "black",
        "font-size": 2.5
       },
       "ul li ul li": {
        "color": "black",
        "font-size": 2
       }
      },
      "text-base": {
       "font-family": "Georgia",
       "font-size": 2.5
      }
     }
    }
   }
  }
 },
 "nbformat": 4,
 "nbformat_minor": 1
}
