{
 "cells": [
  {
   "cell_type": "code",
   "execution_count": 1,
   "metadata": {
    "nbpresent": {
     "id": "a529e8f6-bdbf-41fb-ac6e-208254cdc1c7"
    },
    "slideshow": {
     "slide_type": "skip"
    }
   },
   "outputs": [
    {
     "data": {
      "application/javascript": [
       "var width = window.innerWidth || document.documentElement.clientWidth || document.body.clientWidth;\n",
       "var height = window.innerHeight || document.documentElement.clientHeight || document.body.clientHeight;\n",
       "\n",
       "IPython.notebook.kernel.execute(\"windowSize = (\" + width + \",\" + height + \")\");\n",
       "// suitable for small screens\n",
       "nbpresent.mode.tree.set(\n",
       "    [\"app\", \"theme-manager\", \"themes\", \"my-theme\"], \n",
       "    {\n",
       "    palette: {\n",
       "        \"blue\": { id: \"blue\", rgb: [0, 153, 204] },\n",
       "        \"black\": { id: \"black\", rgb: [0, 0, 0] },\n",
       "        \"white\": { id: \"white\", rgb: [255, 255, 255] },\n",
       "        \"red\": { id: \"red\", rgb: [240, 32, 32] },\n",
       "        \"gray\": { id: \"gray\", rgb: [128, 128, 128] },\n",
       "    },\n",
       "    backgrounds: {\n",
       "        \"my-background\": {\n",
       "            \"background-color\": \"white\"\n",
       "        }\n",
       "    },\n",
       "    \"text-base\": {\n",
       "        \"font-family\": \"Georgia\",\n",
       "        \"font-size\": 2.5\n",
       "    },\n",
       "    rules: {\n",
       "        h1: {\n",
       "            \"font-size\": 5.5,\n",
       "            color: \"blue\",\n",
       "            \"text-align\": \"center\"\n",
       "        },\n",
       "        h2: {\n",
       "            \"font-size\": 3,\n",
       "            color: \"blue\",\n",
       "            \"text-align\": \"center\"\n",
       "        },\n",
       "        h3: {\n",
       "            \"font-size\": 3,\n",
       "            color: \"black\",\n",
       "        },\n",
       "        \"ul li\": {\n",
       "            \"font-size\": 2.5,\n",
       "            color: \"black\"\n",
       "        },\n",
       "        \"ul li ul li\": {\n",
       "            \"font-size\": 2.0,\n",
       "            color: \"black\"\n",
       "        },\n",
       "        \"code\": {\n",
       "            \"font-size\": 1.6,\n",
       "        },\n",
       "        \"pre\": {\n",
       "            \"font-size\": 1.6,\n",
       "        }\n",
       "    }\n",
       "});"
      ],
      "text/plain": [
       "<IPython.core.display.Javascript object>"
      ]
     },
     "metadata": {},
     "output_type": "display_data"
    }
   ],
   "source": [
    "%%javascript\n",
    "var width = window.innerWidth || document.documentElement.clientWidth || document.body.clientWidth;\n",
    "var height = window.innerHeight || document.documentElement.clientHeight || document.body.clientHeight;\n",
    "\n",
    "IPython.notebook.kernel.execute(\"windowSize = (\" + width + \",\" + height + \")\");\n",
    "// suitable for small screens\n",
    "nbpresent.mode.tree.set(\n",
    "    [\"app\", \"theme-manager\", \"themes\", \"my-theme\"], \n",
    "    {\n",
    "    palette: {\n",
    "        \"blue\": { id: \"blue\", rgb: [0, 153, 204] },\n",
    "        \"black\": { id: \"black\", rgb: [0, 0, 0] },\n",
    "        \"white\": { id: \"white\", rgb: [255, 255, 255] },\n",
    "        \"red\": { id: \"red\", rgb: [240, 32, 32] },\n",
    "        \"gray\": { id: \"gray\", rgb: [128, 128, 128] },\n",
    "    },\n",
    "    backgrounds: {\n",
    "        \"my-background\": {\n",
    "            \"background-color\": \"white\"\n",
    "        }\n",
    "    },\n",
    "    \"text-base\": {\n",
    "        \"font-family\": \"Georgia\",\n",
    "        \"font-size\": 2.5\n",
    "    },\n",
    "    rules: {\n",
    "        h1: {\n",
    "            \"font-size\": 5.5,\n",
    "            color: \"blue\",\n",
    "            \"text-align\": \"center\"\n",
    "        },\n",
    "        h2: {\n",
    "            \"font-size\": 3,\n",
    "            color: \"blue\",\n",
    "            \"text-align\": \"center\"\n",
    "        },\n",
    "        h3: {\n",
    "            \"font-size\": 3,\n",
    "            color: \"black\",\n",
    "        },\n",
    "        \"ul li\": {\n",
    "            \"font-size\": 2.5,\n",
    "            color: \"black\"\n",
    "        },\n",
    "        \"ul li ul li\": {\n",
    "            \"font-size\": 2.0,\n",
    "            color: \"black\"\n",
    "        },\n",
    "        \"code\": {\n",
    "            \"font-size\": 1.6,\n",
    "        },\n",
    "        \"pre\": {\n",
    "            \"font-size\": 1.6,\n",
    "        }\n",
    "    }\n",
    "});"
   ]
  },
  {
   "cell_type": "markdown",
   "metadata": {
    "nbpresent": {
     "id": "f176bbeb-e404-4a90-a978-bcc4b2d86e30"
    },
    "slideshow": {
     "slide_type": "slide"
    }
   },
   "source": [
    "# Hidden Markov Models\n",
    "\n",
    "<img src=\"http://csbio.unc.edu/mcmillan/Comp555S18/Media/L24Tshirt.jpg\" width=\"400px\">\n",
    "\n",
    "<p style=\"text-align: right; clear: right;\">1</p>"
   ]
  },
  {
   "cell_type": "markdown",
   "metadata": {
    "nbpresent": {
     "id": "276ef7e8-da6e-4c9e-bf76-28c3289ed2af"
    },
    "slideshow": {
     "slide_type": "slide"
    }
   },
   "source": [
    "# Dinucleotide Frequency\n",
    "\n",
    "<img src=\"http://csbio.unc.edu/mcmillan/Comp555S18/Media/CGseascape.jpg\" width=\"400px\" style=\"float: right; margin: 0px 20px 0px 20px;\">\n",
    "* Consider all 2-mers in a sequence<br>{AA,AC,AG,AT,CA,CC,CG,CT,GA,GC,GG,GT,TA,TC,TG,TT}\n",
    "* Given 4 nucleotides: each with a probability of occurrence of $\\approx \\frac{1}{4}$.<br>Thus, one would expect that the probability of occurrence of any given dinucleotide is $\\approx \\frac{1}{16}$.\n",
    "* However, the frequencies of dinucleotides in DNA sequences vary widely.\n",
    "* In particular, CG is typically underepresented<br> (frequency of CG is typically < $\\frac{1}{16}$)\n",
    "\n",
    "<p style=\"text-align: right; clear: right;\">2</p>"
   ]
  },
  {
   "cell_type": "markdown",
   "metadata": {
    "nbpresent": {
     "id": "d35b329f-211e-4d12-af2e-4f287d31f5f2"
    },
    "slideshow": {
     "slide_type": "slide"
    }
   },
   "source": [
    "# Example\n",
    "\n",
    "* From a 291829 base sequence\n",
    "<img src=\"http://csbio.unc.edu/mcmillan/Comp555S18/Media/L24DimerFreq.png\" width=\"450px\">\n",
    "\n",
    "* Expected value 0.0625\n",
    "* CG is 7 times smaller than expected\n",
    "\n",
    "<p style=\"text-align: right; clear: right;\">3</p>"
   ]
  },
  {
   "cell_type": "markdown",
   "metadata": {
    "nbpresent": {
     "id": "a947ccfa-e32d-4af4-8ea9-866ae4fbe9eb"
    },
    "slideshow": {
     "slide_type": "slide"
    }
   },
   "source": [
    "# Why so few CGs?\n",
    "\n",
    "* CG is the least frequent dinucleotide because C in CG is easily *methylated*. And, methylated Cs are easily mutated into Ts.\n",
    "<img src=\"http://csbio.unc.edu/mcmillan/Comp555S18/Media/L24Methylation.png\" width=\"600px\">\n",
    "* However, methylation is suppressed around genes and transcription factor binding sites\n",
    "* So, CG appears at relatively *higher* frequency in these important areas\n",
    "* These localized areas of higher CG frequency are called ***CG-islands***\n",
    "* Finding the CG islands within a genome is among the most reliable gene finding approaches\n",
    "\n",
    "<p style=\"text-align: right; clear: right;\">4</p>"
   ]
  },
  {
   "cell_type": "markdown",
   "metadata": {
    "nbpresent": {
     "id": "4f094e79-a3e7-47c2-906d-34d0245a955d"
    },
    "slideshow": {
     "slide_type": "slide"
    }
   },
   "source": [
    "# CG Island Analogy\n",
    "\n",
    "<img src=\"http://csbio.unc.edu/mcmillan/Comp555S18/Media/L24Dealer.png\" style=\"float: right; margin: 0px 50px 0px 50px;\">\n",
    "* The CG islands problem can be modeled by a toy problem named<br> ***\"The Fair Bet Casino\"***\n",
    "* The outcome of the game is determined by coin flips with two possible outcomes: Heads or Tails\n",
    "* However, there are two different coins\n",
    "   - A **F**air coin:<br>**H**eads and **T**ails with same probability $\\frac{1}{2}$.\n",
    "   - The **B**iased coin:<br>**H**eads with prob. $\\frac{3}{4}$,<br>**T**ails with prob. $\\frac{1}{4}$.\n",
    "\n",
    "<p style=\"text-align: right; clear: right;\">5</p>"
   ]
  },
  {
   "cell_type": "markdown",
   "metadata": {
    "nbpresent": {
     "id": "b3b74b84-1afe-47cf-9e0c-3afecdd847b8"
    },
    "slideshow": {
     "slide_type": "slide"
    }
   },
   "source": [
    "# The \"Fair Bet Casino\"\n",
    "\n",
    "<img src=\"http://csbio.unc.edu/mcmillan/Comp555S18/Media/L24CoinFlip.png\" width=\"200px\" style=\"float: right; margin: 0px 150px 0px 50px;\">\n",
    "* Thus, we define the probabilities:<br><br>\n",
    "    - $P(H|Fair) = \\frac{1}{2},\\quad P(T|Fair) = \\frac{1}{2}$\n",
    "    - $P(H|Bias) = \\frac{3}{4},\\quad P(T|Bias) = \\frac{1}{4}$<br><br>\n",
    "* The house doesn’t want to get caught switching between coins, so they do so infrequently\n",
    "* Changes between Fair and Biased coins occur with probability  10%\n",
    "\n",
    "<p style=\"text-align: right; clear: right;\">6</p>"
   ]
  },
  {
   "cell_type": "markdown",
   "metadata": {
    "nbpresent": {
     "id": "4d668b02-9a24-4369-90d9-0d512c466e03"
    },
    "slideshow": {
     "slide_type": "slide"
    }
   },
   "source": [
    "# Fair Bet Casino Problem\n",
    "* **Input:** A sequence $x = x_1, x_2, x_3, \\dots, x_n$ of observed coin tosses made by some combination of the two possible coins (**F** or **B**).\n",
    " \n",
    "* **Output:** A sequence $\\pi = \\pi_1,\\pi_2,\\pi_3,\\dots, \\pi_n$, with each $\\pi_i$ being either **F** or **B** indicating that $x_i$ is the result of tossing the Fair or Biased coin respectively.\n",
    "\n",
    "<img src=\"http://csbio.unc.edu/mcmillan/Comp555S18/Media/L24CoinFlips.png\" width=\"500px\">\n",
    "\n",
    "<p style=\"text-align: right; clear: right;\">7</p>"
   ]
  },
  {
   "cell_type": "markdown",
   "metadata": {
    "nbpresent": {
     "id": "f6e67f82-f425-4ede-a7ad-098f2824cb25"
    },
    "slideshow": {
     "slide_type": "slide"
    }
   },
   "source": [
    "# Problem Subtleties\n",
    "\n",
    "* Any observed outcome of coin tosses *could* have been generated by *any combination* of coin exchanges\n",
    "* However, all coin-exchange combinations are not equally likely.\n",
    "\n",
    "       Tosses: T H H H H\n",
    "       Coins1: F F F F F    P(Tosses|Coins1) = 1/2 1/2 1/2 1/2 1/2 = 1/32 = 0.03125\n",
    "       Coins2: B B B B B    P(Tosses|Coins2) = 1/4 3/4 3/4 3/4 3/4 =  81/1024 = 0.0791\n",
    "       Coins3: F F B B B    P(Tosses|Coins3) = 1/2 1/2 3/4 3/4 3/4 = 81/256 = 0.3164\n",
    "\n",
    "* We ask, \"What ***coin-exchange combination*** has the highest probability of generating the observed series of tosses?\"\n",
    "* The coin tosses are a signal, and figuring out the most likely coin-exchange sequence is a *Decoding Problem*\n",
    "\n",
    "<p style=\"text-align: right; clear: right;\">8</p>"
   ]
  },
  {
   "cell_type": "markdown",
   "metadata": {
    "nbpresent": {
     "id": "d4c33dbf-fc44-443b-a97d-8d9285808d91"
    },
    "slideshow": {
     "slide_type": "slide"
    }
   },
   "source": [
    "# Let's consider the extreme cases\n",
    "\n",
    "<img src=\"http://csbio.unc.edu/mcmillan/Comp555S18/Media/SameCoin.jpg\" width=\"150px\" style=\"float: right; margin: 0px 100px 0px 20px;\">\n",
    "* Suppose that the dealer *never* exchanges coins. \n",
    "* Some definitions:\n",
    "   - *P(x|Fair)*: prob. of generating the *x* using the Fair coin.\n",
    "   - *P(x|Biased)*: prob. of generating *x* using the Biased coin .\n",
    "\n",
    "<p style=\"text-align: right; clear: right;\">9</p>"
   ]
  },
  {
   "cell_type": "markdown",
   "metadata": {
    "nbpresent": {
     "id": "01e0ad43-a7a9-4204-bd2c-a0499d157cb4"
    },
    "slideshow": {
     "slide_type": "slide"
    }
   },
   "source": [
    "# P(x|fair coin) vs. P(x|biased coin)\n",
    "\n",
    "$$P(x|Fair) = P(x_1 … x_n|Fair) = \\prod_{i=1,n} p(x_i|Fair) = \\left(\\frac{1}{2}\\right)^n$$\n",
    "\n",
    "\n",
    "$$P(x|Biased) = P(x_1 … x_n|Biased) = \\prod_{i=1,n} p (x_i|Biased) = \\left(\\frac{3}{4}\\right)^k \\left(\\frac{1}{4}\\right)^{n-k} = \\frac{3^k}{4^n}$$\n",
    "\n",
    "\n",
    "\n",
    "* Where *k* is the number of **H**eads observed in *x*\n",
    "<p style=\"text-align: right; clear: right;\">10</p>"
   ]
  },
  {
   "cell_type": "markdown",
   "metadata": {
    "nbpresent": {
     "id": "ae113dff-67c4-4cd4-9c03-ca817fccd0da"
    },
    "slideshow": {
     "slide_type": "slide"
    }
   },
   "source": [
    "# P(x|Fair coin) = P(x|Biased coin)\n",
    "\n",
    "* When is a sequence equally likely to have come from the Fair or Biased coin?\n",
    "\n",
    "$$\\begin{align}\n",
    "P(x|Fair) &= P(x|Biased)\\\\\n",
    "\\left(\\frac{1}{2}\\right)^n &= \\frac{3^k}{4^n}\\\\ \n",
    "2^n &= 3^k\\\\\n",
    "n &= k \\log_23\n",
    "\\end{align}$$\n",
    "\n",
    "\n",
    "* when $k = \\frac{n}{\\log_23}\\qquad (k \\approx 0.63 n)$\n",
    "* So when the number of heads over a contiguous sequence of tosses is greater than 63% the dealer is most likely used the biased coin\n",
    "\n",
    "<p style=\"text-align: right; clear: right;\">11</p>"
   ]
  },
  {
   "cell_type": "markdown",
   "metadata": {
    "nbpresent": {
     "id": "2e3a17bb-15a2-40a5-a1c0-1baf79dd800b"
    },
    "slideshow": {
     "slide_type": "slide"
    }
   },
   "source": [
    "# Log-odds Ratio\n",
    "\n",
    "* We can define the log-odds ratio as follows:\n",
    "\n",
    "$$\\begin{align}\n",
    "\\log_2\\left(\\frac{P(x|Fair)}{P(x|Biased)}\\right) &= \\sum_{i=1}^k \\log_2\\left(\\frac{P(x_i|Fair)} {P(x_i|Biased)}\\right)\\\\ \n",
    "&= n – k \\log_23\n",
    "\\end{align}$$\n",
    "\n",
    "* The log-odds ratio is a means (threshold) for deciding which of two alternative hypotheses is most likely\n",
    "* *\"Zero-crossing\"* measure:\n",
    "    - If the log-odds ratio is > 0 then the numerator (Fair coin) is more likely\n",
    "    - if the log-odds ratio is < 0 then the denominator (Biased coin) is more likely\n",
    "    - They are equally likely if the log-odds ratio = 0\n",
    "\n",
    "<p style=\"text-align: right; clear: right;\">12</p>"
   ]
  },
  {
   "cell_type": "markdown",
   "metadata": {
    "nbpresent": {
     "id": "ab896799-a344-447a-8ae1-2a11ab3326ce"
    },
    "slideshow": {
     "slide_type": "slide"
    }
   },
   "source": [
    "# Log-odds over a sliding window\n",
    "\n",
    "* Given a sequence of length *n*, consider the log-odds ratio of a sliding window of length *w << n*\n",
    "$$\n",
    "x_1,x_2,\\underline{x_3,x_4,x_5,x_6,x_7},x_8,x_9, \\dots x_n\n",
    "$$"
   ]
  },
  {
   "cell_type": "code",
   "execution_count": 3,
   "metadata": {
    "nbpresent": {
     "id": "54cae00c-7d8c-4892-94b3-3e576a4f1ab9"
    },
    "slideshow": {
     "slide_type": "fragment"
    }
   },
   "outputs": [
    {
     "data": {
      "image/png": "[encoded data removed]",
      "text/plain": [
       "<matplotlib.figure.Figure at 0x7a4c4cd43050>"
      ]
     },
     "metadata": {},
     "output_type": "display_data"
    }
   ],
   "source": [
    "import numpy\n",
    "import matplotlib.pyplot as plot\n",
    "%matplotlib inline\n",
    "\n",
    "rolls = \"HHHHTHHHHHHHHHHHHHHHHHHHHHTHHHTTHTHHHHTHHTHHTHHTHHTTHHHTHHT\"\n",
    "\n",
    "w = 25\n",
    "slope = numpy.log2(3)\n",
    "y = [w - slope*rolls[i:i+w].count('H') for i in xrange(len(rolls)-w+1)]\n",
    "x = range(len(y))\n",
    "\n",
    "fig, ax = plot.subplots(figsize=(16,5))\n",
    "plot.title(\"Window size = %d\" % w)\n",
    "plot.hlines(0, 0, len(x), linestyles='dotted')\n",
    "plot.plot(x,y,'b')\n",
    "ax.set_xticks([i for i in xrange(len(rolls))])\n",
    "result = ax.set_xticklabels([c for c in rolls])"
   ]
  },
  {
   "cell_type": "markdown",
   "metadata": {
    "nbpresent": {
     "id": "21a04320-1fef-4348-9ba4-fa91c36434e4"
    },
    "slideshow": {
     "slide_type": "fragment"
    }
   },
   "source": [
    "Disadvantages:\n",
    "- The length of CG-island (appropriate window size) is not known in advance\n",
    "- Different window sizes may classify the same position differently\n",
    "- What about the rule that they don't swap out the coins frequently?\n",
    "\n",
    "<p style=\"text-align: right; clear: right;\">13</p>"
   ]
  },
  {
   "cell_type": "markdown",
   "metadata": {
    "nbpresent": {
     "id": "ca34c3a1-a6f6-4714-97f5-8afeb5a784f9"
    },
    "slideshow": {
     "slide_type": "slide"
    }
   },
   "source": [
    "# Key Elements of the Problem\n",
    "\n",
    "* There is an unknown or *hidden* state for each observation (Was the coin the Fair or Biased?)\n",
    "* Outcomes are modeled probabilistically:\n",
    "    - $P(H|Fair) = \\frac{1}{2},\\quad P(T|Fair) = \\frac{1}{2}$\n",
    "    - $P(H|Bias) = \\frac{3}{4},\\quad P(T|Bias) = \\frac{1}{4}$\n",
    "* Transitions between states are modeled probabilistically:\n",
    "    - $P(\\pi_i = Bias\\ |\\ \\pi_{i-1} = Bias) = a_{BB} = 0.9$\n",
    "    - $P(\\pi_i = Bias\\ |\\ \\pi_{i-1} = Fair) = a_{FB} = 0.1$\n",
    "    - $P(\\pi_i = Fair\\ |\\ \\pi_{i-1} = Bias) = a_{BF} = 0.1$\n",
    "    - $P(\\pi_i = Fair\\ |\\ \\pi_{i-1} = Fair) = a_{FF} = 0.9$\n",
    "    \n",
    "<p style=\"text-align: right; clear: right;\">14</p>"
   ]
  },
  {
   "cell_type": "markdown",
   "metadata": {
    "nbpresent": {
     "id": "1cc2aaef-f150-4878-ac70-4e0638f27b53"
    },
    "slideshow": {
     "slide_type": "slide"
    }
   },
   "source": [
    "# Hidden Markov Model (HMM)\n",
    "\n",
    "* A generalization of this class of problem\n",
    "* Can be viewed as an abstract machine with *k hidden* states that emits symbols from an alphabet Σ.\n",
    "* Each state emits outputs with its own probability distribution, and the machine switches between states according to some other probability distribution.\n",
    "* While in a certain state, the machine makes 2 decisions:\n",
    "   - What symbol from the alphabet Σ should I emit?\n",
    "   - What state should I move to next?\n",
    "\n",
    "<p style=\"text-align: right; clear: right;\">15</p>"
   ]
  },
  {
   "cell_type": "markdown",
   "metadata": {
    "collapsed": true,
    "nbpresent": {
     "id": "b0ab9d73-7179-49e9-b54f-9d4fd34e220d"
    },
    "slideshow": {
     "slide_type": "slide"
    }
   },
   "source": [
    "# Why \"Hidden\"?\n",
    "\n",
    "* Observers see the emitted symbols of an HMM but cannot see which state the HMM is currently in.\n",
    "* Thus, the goal is to infer the most likely hidden states of an HMM based on the given sequence of emitted symbols.\n",
    "\n",
    "<img src=\"http://csbio.unc.edu/mcmillan/Comp555S18/Media/L24GuessState.png\">\n",
    "\n",
    "<p style=\"text-align: right; clear: right;\">16</p>"
   ]
  },
  {
   "cell_type": "markdown",
   "metadata": {
    "nbpresent": {
     "id": "cc8e9693-4c30-4679-ad12-cc799127ed1e"
    },
    "slideshow": {
     "slide_type": "slide"
    }
   },
   "source": [
    "# HMM Parameters\n",
    "\n",
    "* **Σ**: set of emission characters.<br>Example: Σ = {0, 1} for coin tossing \n",
    "    - (0 for Tails and 1 Heads)\n",
    "    - Σ = {1, 2, 3, 4, 5, 6} for dice tossing\n",
    "\n",
    "\n",
    "* **Q**: set of hidden states, emitting symbols from Σ.<br>Q = {Fair,Bias} for coin tossing\n",
    "\n",
    "<p style=\"text-align: right; clear: right;\">17</p>"
   ]
  },
  {
   "cell_type": "markdown",
   "metadata": {
    "nbpresent": {
     "id": "86bf78cf-b9d9-40f9-a03d-ab6388cc44a0"
    },
    "slideshow": {
     "slide_type": "slide"
    }
   },
   "source": [
    "# HMM for Fair Bet Casino\n",
    "\n",
    "* The Fair Bet Casino in HMM terms:\n",
    "\t- Σ = {0, 1} (0 for Tails and 1 Heads)\n",
    "\t- Q = {F,B} – F for Fair & B for Biased coin\n",
    "    \n",
    "* Transition Probabilities *A*, Emission Probabilities *E*\n",
    "\n",
    "<img src=\"http://csbio.unc.edu/mcmillan/Comp555S18/Media/L24TransitionEmission.png\">\n",
    "<p style=\"text-align: right; clear: right;\">18</p>"
   ]
  },
  {
   "cell_type": "markdown",
   "metadata": {
    "nbpresent": {
     "id": "3c872226-abff-4c2e-9351-81b297a8b433"
    },
    "slideshow": {
     "slide_type": "slide"
    }
   },
   "source": [
    "# HMM as a Graphical Model\n",
    "\n",
    "<img src=\"http://csbio.unc.edu/mcmillan/Comp555S18/Media/L24GraphicalModel.png\">\n",
    "\n",
    "* Directed graph with two types nodes and two types of edges\n",
    "   - hidden states are shown as squares\n",
    "   - emission outputs are shown as circles\n",
    "   - transition edges\n",
    "   - emission edges\n",
    "\n",
    "<p style=\"text-align: right; clear: right;\">19</p>"
   ]
  },
  {
   "cell_type": "markdown",
   "metadata": {
    "nbpresent": {
     "id": "7535e51c-65ef-4874-a113-ccc0f70649ba"
    },
    "slideshow": {
     "slide_type": "slide"
    }
   },
   "source": [
    "# Hidden Paths\n",
    "\n",
    "* A path **π** = π<sub>1</sub>… π<sub>n</sub> in the HMM is defined as a sequence of hidden states.\n",
    "* Consider\n",
    "    - path π = FFFBBBBBFFF\n",
    "    - sequence x = 01011101001\n",
    "\n",
    "$$\\begin{matrix}\n",
    "  x & = & 0 & 1 & 0 & 1 & 1 & 1 & 0 & 1 & 0 & 0 & 1\\\\\n",
    "\\pi & = & F & F & F & B & B & B & B & B & F & F & F\\\\\n",
    "P(x_i|\\pi_i) & & \\frac{1}{2} & \\frac{1}{2} & \\frac{1}{2} & \\frac{3}{4} & \\frac{3}{4} & \\frac{3}{4} & \\frac{1}{4} & \\frac{3}{4} & \\frac{1}{2} & \\frac{1}{2} & \\frac{1}{2}\\\\\n",
    "P(\\pi_i \\rightarrow \\pi_{i+1}) & & \\frac{9}{10} & \\frac{9}{10} & \\frac{1}{10} & \\frac{9}{10} & \\frac{9}{10} & \\frac{9}{10} & \\frac{9}{10} & \\frac{1}{10} & \\frac{9}{10} & \\frac{9}{10} & \\\\\n",
    "\\end{matrix}$$\n",
    "\n",
    "* What is the probability of the given path (<code>FFFBBBBBFFF</code>)?\n",
    "\n",
    "<p style=\"text-align: right; clear: right;\">20</p>"
   ]
  },
  {
   "cell_type": "markdown",
   "metadata": {
    "nbpresent": {
     "id": "77384b07-0692-4ed7-b347-e4169551cd3e"
    },
    "slideshow": {
     "slide_type": "slide"
    }
   },
   "source": [
    "# P(x|&pi;) calculation\n",
    "\n",
    "* **P(x|π):** Probability that sequence *x* was generated by the path *π*:\n",
    "\n",
    "$$\\begin{align}\n",
    "P(x|\\pi) &= \\prod_{i=1}^{n} P(x_i| \\pi_i) \\cdot P(\\pi_i \\rightarrow \\pi_{i+1})\\\\\n",
    " &= \\prod_{i=1}^{n} E_{\\pi_i,x_i} \\cdot A_{\\pi_i, \\pi_{i+1}}\n",
    "\\end{align}$$\n",
    "\n",
    "* How many such paths exist? $2^n$\n",
    "* What algorithmic approach would you use to find the best path? Branch and Bound? Divide and Conquer? Dynamic Programming?\n",
    "\n",
    "<p style=\"text-align: right; clear: right;\">21</p>"
   ]
  },
  {
   "cell_type": "markdown",
   "metadata": {
    "nbpresent": {
     "id": "9d56a4a1-1e36-4624-a9fc-33ebdcebaf01"
    },
    "slideshow": {
     "slide_type": "slide"
    }
   },
   "source": [
    "# Decoding Problem\n",
    "\n",
    "<img src=\"http://csbio.unc.edu/mcmillan/Comp555S18/Media/L24Constellation.jpg\" width=\"300px\" style=\"float: right; margin: 0px 50px 0px 50px;\">\n",
    "\n",
    "Finding the optimal path in a graph is equivalent to a classical problem of decoding a message using *constellations*. This is very commonly used when a discrete set of symbols is encoded for transport over an analog medium (e.x. modems, wired internet, wireless internet, digital television).\n",
    "\n",
    "A simple binary coding does not make good use of the dynamic range of a digital signal, however, if you put the codes too close noise becomes a problem.\n",
    "\n",
    "* **Goal:** Find an optimal hidden path of state transitions given a set of observations.\n",
    "* **Input:** Sequence of observations x = x1…xn generated by an HMM M(Σ, Q, A, E)\n",
    "* **Output:** A path that maximizes P(x|π) over all possible paths π.\n",
    "\n",
    "<p style=\"text-align: right; clear: right;\">22</p>"
   ]
  },
  {
   "cell_type": "markdown",
   "metadata": {
    "nbpresent": {
     "id": "40bd0aa7-b6f7-4d80-836c-47bd5cd3a234"
    },
    "slideshow": {
     "slide_type": "slide"
    }
   },
   "source": [
    "# How do we solve this?\n",
    "\n",
    "* Brute Force approach:\n",
    "    * Enumerate every possible path\n",
    "    * Compute P(x1..n|π1..n) for each one\n",
    "    * Keep track of the most probable path\n",
    "\n",
    "* A better approach:\n",
    "    * Break any path in two parts, $P(x_{1..i}|\\pi_{1..i}), P(x_{i..n}|\\pi_{i..n})$\n",
    "    * $P(x_{1..n}|\\pi_{1..n}) = P(x_{1..i}|\\pi_{1..i}) \\times P(x_{i..n}|\\pi_{i..n})$\n",
    "    * Will less than the highest $P(x_{1..i}|\\pi_{1..i})$ ever improve the total probability?\n",
    "    * Thus to find the maximum $P(x_{1..n}|\\pi_{1..n})$ we need find the maximum of each subproblem $P(x_{1..i}|\\pi_{1..i})$, for i from 1 to n\n",
    "    * What algorithm design approach does this remind you of?\n",
    "\n",
    "<p style=\"text-align: right; clear: right;\">23</p>"
   ]
  },
  {
   "cell_type": "markdown",
   "metadata": {
    "nbpresent": {
     "id": "1b5f1d6f-c1c3-4cb4-858a-289b70bbc51d"
    },
    "slideshow": {
     "slide_type": "slide"
    }
   },
   "source": [
    "# Building Manhattan for Decoding\n",
    "\n",
    "<img src=\"http://csbio.unc.edu/mcmillan/Comp555S18/Media/L24ViterbiHeadshot.jpg\" width=\"240px\" style=\"float: right; margin: 0px 50px 0px 50px;\">\n",
    "* In 1967, Andrew Viterbi developed a “Manhattan-like grid” (Dynamic program) model to solve the Decoding Problem.\n",
    "* Every choice of $\\pi = \\pi_1,\\pi_2, \\dots \\pi_n$ corresponds to a path in the graph.\n",
    "* The only valid direction in the graph is eastward.\n",
    "* This graph has $|Q|^2 (n-1)$ edges.\n",
    "\n",
    "<p style=\"text-align: right; clear: right;\">24</p>"
   ]
  },
  {
   "cell_type": "markdown",
   "metadata": {
    "nbpresent": {
     "id": "85bab8d3-da62-4bd6-bf4e-b5c6e0c7b9f1"
    },
    "slideshow": {
     "slide_type": "slide"
    }
   },
   "source": [
    "# Edit Graph for Decoding Problem\n",
    "\n",
    "<img src=\"http://csbio.unc.edu/mcmillan/Comp555S18/Media/L24ViterbiGraph.png\">\n",
    "\n",
    "<p style=\"text-align: right; clear: right;\">25</p>"
   ]
  },
  {
   "cell_type": "markdown",
   "metadata": {
    "nbpresent": {
     "id": "e0fd357e-864f-43df-bbaa-e143518c24a4"
    },
    "slideshow": {
     "slide_type": "slide"
    }
   },
   "source": [
    "# Viterbi Decoding of Fair-Bet Casino\n",
    "\n",
    "* Each vertex represents a possible state at a given position in the output sequence\n",
    "* The observed sequence conditions the likelihood of each state\n",
    "* Dynamic programming reduces search space to:<br> |Q|+transition_edges×(n-1) = 2+4×5 from naïve 2<sup>6</sup>\n",
    "\n",
    "<img src=\"http://csbio.unc.edu/mcmillan/Comp555S18/Media/L24FairCasinoViterbi.png\">\n",
    "\n",
    "<p style=\"text-align: right; clear: right;\">26</p>"
   ]
  },
  {
   "cell_type": "markdown",
   "metadata": {
    "nbpresent": {
     "id": "98ebcb3c-7269-4b80-8553-80e72ec61334"
    },
    "slideshow": {
     "slide_type": "slide"
    }
   },
   "source": [
    "# Decoding Problem Solution\n",
    "\n",
    "* The *Decoding Problem* is equivalent to finding a longest path in the *directed acyclic graph* (DAG), where \"longest\" is defined as the maximum product of the probabilities along the path.\n",
    "\n",
    "<img src=\"http://csbio.unc.edu/mcmillan/Comp555S18/Media/L24FairCasinoViterbi.png\">\n",
    "\n",
    "<p style=\"text-align: right; clear: right;\">27</p>"
   ]
  },
  {
   "cell_type": "markdown",
   "metadata": {
    "nbpresent": {
     "id": "580d4275-838d-4444-b1ee-220a1eac4059"
    },
    "slideshow": {
     "slide_type": "slide"
    }
   },
   "source": [
    "# Next Time\n",
    "\n",
    "* We'll find the DP recurrance equations\n",
    "* See examples and what it looks like in code\n",
    "* See how truth and maximum likelihood do not always agree\n",
    "* Apply to HMMs to problems of biological interest.\n",
    "\n",
    "<p style=\"text-align: right; clear: right;\">28</p>"
   ]
  },
  {
   "cell_type": "code",
   "execution_count": null,
   "metadata": {
    "collapsed": true
   },
   "outputs": [],
   "source": []
  }
 ],
 "metadata": {
  "anaconda-cloud": {},
  "celltoolbar": "Slideshow",
  "kernelspec": {
   "display_name": "Python 2",
   "language": "python",
   "name": "python2"
  },
  "language_info": {
   "codemirror_mode": {
    "name": "ipython",
    "version": 2
   },
   "file_extension": ".py",
   "mimetype": "text/x-python",
   "name": "python",
   "nbconvert_exporter": "python",
   "pygments_lexer": "ipython2",
   "version": "2.7.14"
  },
  "nbpresent": {
   "slides": {
    "011be57a-2976-4a02-a7d7-b2ea15a58e95": {
     "id": "011be57a-2976-4a02-a7d7-b2ea15a58e95",
     "prev": "12fa6a69-cdc1-4068-9d6f-cb160bed2c48",
     "regions": {
      "69f6952c-7352-4092-91f8-de27037a67c4": {
       "attrs": {
        "height": 0.96,
        "width": 0.96,
        "x": 0.02,
        "y": 0.02
       },
       "content": {
        "cell": "86bf78cf-b9d9-40f9-a03d-ab6388cc44a0",
        "part": "whole"
       },
       "id": "69f6952c-7352-4092-91f8-de27037a67c4"
      }
     }
    },
    "1123823a-5744-49c2-a657-841ffffd911a": {
     "id": "1123823a-5744-49c2-a657-841ffffd911a",
     "prev": "96749c58-3bd4-4045-a701-6b3d033babe8",
     "regions": {
      "f41d7926-f69f-4a7c-963b-5df14fe271b4": {
       "attrs": {
        "height": 0.96,
        "width": 0.96,
        "x": 0.02,
        "y": 0.02
       },
       "content": {
        "cell": "1cc2aaef-f150-4878-ac70-4e0638f27b53",
        "part": "whole"
       },
       "id": "f41d7926-f69f-4a7c-963b-5df14fe271b4"
      }
     }
    },
    "12fa6a69-cdc1-4068-9d6f-cb160bed2c48": {
     "id": "12fa6a69-cdc1-4068-9d6f-cb160bed2c48",
     "prev": "1e5f647e-a59b-4ddc-9dc2-a84578b30ff3",
     "regions": {
      "68444a2f-ed73-4147-9685-2af41d2cad2e": {
       "attrs": {
        "height": 0.96,
        "width": 0.96,
        "x": 0.02,
        "y": 0.02
       },
       "content": {
        "cell": "cc8e9693-4c30-4679-ad12-cc799127ed1e",
        "part": "whole"
       },
       "id": "68444a2f-ed73-4147-9685-2af41d2cad2e"
      }
     }
    },
    "13517aaa-005a-435b-beeb-0c2f067207fd": {
     "id": "13517aaa-005a-435b-beeb-0c2f067207fd",
     "prev": "f5ef70a2-51c6-42fe-9c19-dfe9a8fdbc75",
     "regions": {
      "d8b780f4-f156-4f13-9591-b189c3e2c569": {
       "attrs": {
        "height": 0.96,
        "width": 0.96,
        "x": 0.02,
        "y": 0.02
       },
       "content": {
        "cell": "2e3a17bb-15a2-40a5-a1c0-1baf79dd800b",
        "part": "whole"
       },
       "id": "d8b780f4-f156-4f13-9591-b189c3e2c569"
      }
     }
    },
    "1e5f647e-a59b-4ddc-9dc2-a84578b30ff3": {
     "id": "1e5f647e-a59b-4ddc-9dc2-a84578b30ff3",
     "prev": "1123823a-5744-49c2-a657-841ffffd911a",
     "regions": {
      "74013051-9c4d-4d1c-978f-4cacf1435166": {
       "attrs": {
        "height": 0.96,
        "width": 0.96,
        "x": 0.02,
        "y": 0.02
       },
       "content": {
        "cell": "b0ab9d73-7179-49e9-b54f-9d4fd34e220d",
        "part": "whole"
       },
       "id": "74013051-9c4d-4d1c-978f-4cacf1435166"
      }
     }
    },
    "1fc2dc11-adcf-4698-b09d-d9d9cd8c379e": {
     "id": "1fc2dc11-adcf-4698-b09d-d9d9cd8c379e",
     "prev": "13517aaa-005a-435b-beeb-0c2f067207fd",
     "regions": {
      "4ee1ef42-f298-41ea-a5db-eed2fa7ea77f": {
       "attrs": {
        "height": 0.2303050480432591,
        "width": 0.9276170596576849,
        "x": 0.028409942143249906,
        "y": 0.7176522209879939
       },
       "content": {
        "cell": "21a04320-1fef-4348-9ba4-fa91c36434e4",
        "part": "whole"
       },
       "id": "4ee1ef42-f298-41ea-a5db-eed2fa7ea77f"
      },
      "65e432f3-15fc-4307-98a0-1d5751d55330": {
       "attrs": {
        "height": 0.40184451034735597,
        "width": 0.8217882863939211,
        "x": 0.13631378954778922,
        "y": 0.315548965264412
       },
       "content": {
        "cell": "54cae00c-7d8c-4892-94b3-3e576a4f1ab9",
        "part": "outputs"
       },
       "id": "65e432f3-15fc-4307-98a0-1d5751d55330"
      },
      "f38b0997-6b15-4729-b1cb-e2d0738cdf2e": {
       "attrs": {
        "height": 0.2743145510035742,
        "width": 0.9307296708688481,
        "x": 0.027372405072862222,
        "y": 0.04097566888461184
       },
       "content": {
        "cell": "ab896799-a344-447a-8ae1-2a11ab3326ce",
        "part": "whole"
       },
       "id": "f38b0997-6b15-4729-b1cb-e2d0738cdf2e"
      }
     }
    },
    "2a7af41a-9161-4d0c-b0ad-208433ad4a8d": {
     "id": "2a7af41a-9161-4d0c-b0ad-208433ad4a8d",
     "prev": "78514654-f5c5-4ab7-957f-faefd68c4ba5",
     "regions": {
      "107ba91c-192d-4ba4-b45e-a82ff66c7c7c": {
       "attrs": {
        "height": 0.96,
        "width": 0.96,
        "x": 0.02,
        "y": 0.02
       },
       "content": {
        "cell": "4f094e79-a3e7-47c2-906d-34d0245a955d",
        "part": "whole"
       },
       "id": "107ba91c-192d-4ba4-b45e-a82ff66c7c7c"
      }
     }
    },
    "473d4adc-f922-4ac1-adfb-f4c3b283ebc3": {
     "id": "473d4adc-f922-4ac1-adfb-f4c3b283ebc3",
     "prev": null,
     "regions": {
      "d1e3c471-8951-42b6-a946-8a394f10a3dc": {
       "attrs": {
        "height": 0.96,
        "width": 0.96,
        "x": 0.02,
        "y": 0.02
       },
       "content": {
        "cell": "f176bbeb-e404-4a90-a978-bcc4b2d86e30",
        "part": "whole"
       },
       "id": "d1e3c471-8951-42b6-a946-8a394f10a3dc"
      }
     }
    },
    "4b7c86b2-72d7-4ab7-af9b-a2e765512b94": {
     "id": "4b7c86b2-72d7-4ab7-af9b-a2e765512b94",
     "prev": "011be57a-2976-4a02-a7d7-b2ea15a58e95",
     "regions": {
      "259a59bd-0219-4f18-8437-c5c1798e5e4a": {
       "attrs": {
        "height": 0.96,
        "width": 0.96,
        "x": 0.02,
        "y": 0.02
       },
       "content": {
        "cell": "3c872226-abff-4c2e-9351-81b297a8b433",
        "part": "whole"
       },
       "id": "259a59bd-0219-4f18-8437-c5c1798e5e4a"
      }
     }
    },
    "562d0dbd-9b21-421f-be90-64ea03669ec1": {
     "id": "562d0dbd-9b21-421f-be90-64ea03669ec1",
     "prev": "866b0d7d-91db-43db-afa5-f8921a76d4af",
     "regions": {
      "e09aabee-e26a-4116-a8de-8b796b5823c4": {
       "attrs": {
        "height": 0.96,
        "width": 0.96,
        "x": 0.02,
        "y": 0.02
       },
       "content": {
        "cell": "01e0ad43-a7a9-4204-bd2c-a0499d157cb4",
        "part": "whole"
       },
       "id": "e09aabee-e26a-4116-a8de-8b796b5823c4"
      }
     }
    },
    "56677d6f-85c5-4b96-a1c5-5f984417a48b": {
     "id": "56677d6f-85c5-4b96-a1c5-5f984417a48b",
     "prev": "d4ad710c-b6b8-4f04-b0ab-14bc04060959",
     "regions": {
      "54397e9c-ced4-4e59-ad3f-ca42d7cfce81": {
       "attrs": {
        "height": 0.96,
        "width": 0.96,
        "x": 0.02,
        "y": 0.02
       },
       "content": {
        "cell": "580d4275-838d-4444-b1ee-220a1eac4059",
        "part": "whole"
       },
       "id": "54397e9c-ced4-4e59-ad3f-ca42d7cfce81"
      }
     }
    },
    "5f2b2006-1f94-4a61-aa18-ce2572f92f70": {
     "id": "5f2b2006-1f94-4a61-aa18-ce2572f92f70",
     "prev": "d04c7bc1-5e0f-4001-8006-837a9198f1c5",
     "regions": {
      "77cd0754-5052-4ead-a5a0-2aff43abf7d6": {
       "attrs": {
        "height": 0.96,
        "width": 0.96,
        "x": 0.02,
        "y": 0.02
       },
       "content": {
        "cell": "40bd0aa7-b6f7-4d80-836c-47bd5cd3a234",
        "part": "whole"
       },
       "id": "77cd0754-5052-4ead-a5a0-2aff43abf7d6"
      }
     }
    },
    "76846e67-a0a7-49d6-aa2d-cdba57326c34": {
     "id": "76846e67-a0a7-49d6-aa2d-cdba57326c34",
     "prev": "4b7c86b2-72d7-4ab7-af9b-a2e765512b94",
     "regions": {
      "7030f746-3154-41f6-8043-bfc9fd8ad763": {
       "attrs": {
        "height": 0.96,
        "width": 0.96,
        "x": 0.02,
        "y": 0.02
       },
       "content": {
        "cell": "7535e51c-65ef-4874-a113-ccc0f70649ba",
        "part": "whole"
       },
       "id": "7030f746-3154-41f6-8043-bfc9fd8ad763"
      }
     }
    },
    "78514654-f5c5-4ab7-957f-faefd68c4ba5": {
     "id": "78514654-f5c5-4ab7-957f-faefd68c4ba5",
     "prev": "ef9c20ea-58b3-49dd-956f-4738f78515ea",
     "regions": {
      "d3823813-86f1-49d2-9f72-034218d33d0d": {
       "attrs": {
        "height": 0.96,
        "width": 0.96,
        "x": 0.02,
        "y": 0.02
       },
       "content": {
        "cell": "a947ccfa-e32d-4af4-8ea9-866ae4fbe9eb",
        "part": "whole"
       },
       "id": "d3823813-86f1-49d2-9f72-034218d33d0d"
      }
     }
    },
    "83afb92c-fb2c-4744-b45e-696f307d7d2a": {
     "id": "83afb92c-fb2c-4744-b45e-696f307d7d2a",
     "prev": "2a7af41a-9161-4d0c-b0ad-208433ad4a8d",
     "regions": {
      "73f9ca26-0571-4c2c-90da-56a6c7ffe032": {
       "attrs": {
        "height": 0.96,
        "width": 0.96,
        "x": 0.02,
        "y": 0.02
       },
       "content": {
        "cell": "b3b74b84-1afe-47cf-9e0c-3afecdd847b8",
        "part": "whole"
       },
       "id": "73f9ca26-0571-4c2c-90da-56a6c7ffe032"
      }
     }
    },
    "866b0d7d-91db-43db-afa5-f8921a76d4af": {
     "id": "866b0d7d-91db-43db-afa5-f8921a76d4af",
     "prev": "d2c06e4b-9621-4a71-92cd-563bf4cbef0d",
     "regions": {
      "6ee52c2f-d4df-40dc-802f-b0ce35700e2b": {
       "attrs": {
        "height": 0.96,
        "width": 0.96,
        "x": 0.02,
        "y": 0.02
       },
       "content": {
        "cell": "d4c33dbf-fc44-443b-a97d-8d9285808d91",
        "part": "whole"
       },
       "id": "6ee52c2f-d4df-40dc-802f-b0ce35700e2b"
      }
     }
    },
    "93eb9740-d2ce-48aa-a56e-df9d7dcb0870": {
     "id": "93eb9740-d2ce-48aa-a56e-df9d7dcb0870",
     "prev": "83afb92c-fb2c-4744-b45e-696f307d7d2a",
     "regions": {
      "a0706be8-c8a6-4fdd-95f3-c38915d8e355": {
       "attrs": {
        "height": 0.96,
        "width": 0.96,
        "x": 0.02,
        "y": 0.02
       },
       "content": {
        "cell": "4d668b02-9a24-4369-90d9-0d512c466e03",
        "part": "whole"
       },
       "id": "a0706be8-c8a6-4fdd-95f3-c38915d8e355"
      }
     }
    },
    "96749c58-3bd4-4045-a701-6b3d033babe8": {
     "id": "96749c58-3bd4-4045-a701-6b3d033babe8",
     "prev": "1fc2dc11-adcf-4698-b09d-d9d9cd8c379e",
     "regions": {
      "922fca5e-571c-4c0b-b70c-d9dedd000e2b": {
       "attrs": {
        "height": 0.96,
        "width": 0.96,
        "x": 0.02,
        "y": 0.02
       },
       "content": {
        "cell": "ca34c3a1-a6f6-4714-97f5-8afeb5a784f9",
        "part": "whole"
       },
       "id": "922fca5e-571c-4c0b-b70c-d9dedd000e2b"
      }
     }
    },
    "9ea372f2-e5cd-46be-80a6-5b5dd2f57782": {
     "id": "9ea372f2-e5cd-46be-80a6-5b5dd2f57782",
     "prev": "c8dbb4f1-f8a2-4bd0-bbd1-1eaaec935865",
     "regions": {
      "839b5c9c-85fd-4d35-8d59-2211ca54d8bd": {
       "attrs": {
        "height": 0.96,
        "width": 0.96,
        "x": 0.02,
        "y": 0.02
       },
       "content": {
        "cell": "85bab8d3-da62-4bd6-bf4e-b5c6e0c7b9f1",
        "part": "whole"
       },
       "id": "839b5c9c-85fd-4d35-8d59-2211ca54d8bd"
      }
     }
    },
    "c8dbb4f1-f8a2-4bd0-bbd1-1eaaec935865": {
     "id": "c8dbb4f1-f8a2-4bd0-bbd1-1eaaec935865",
     "prev": "5f2b2006-1f94-4a61-aa18-ce2572f92f70",
     "regions": {
      "2c1bda8c-df2b-4dd5-866e-2cb3b50c1928": {
       "attrs": {
        "height": 0.96,
        "width": 0.96,
        "x": 0.02,
        "y": 0.02
       },
       "content": {
        "cell": "1b5f1d6f-c1c3-4cb4-858a-289b70bbc51d",
        "part": "whole"
       },
       "id": "2c1bda8c-df2b-4dd5-866e-2cb3b50c1928"
      }
     }
    },
    "d04c7bc1-5e0f-4001-8006-837a9198f1c5": {
     "id": "d04c7bc1-5e0f-4001-8006-837a9198f1c5",
     "prev": "e384dd16-d82a-4b10-9fe8-c5b0819a46b9",
     "regions": {
      "a9035fae-1a00-46e2-b6a3-4a55130cfa95": {
       "attrs": {
        "height": 0.96,
        "width": 0.96,
        "x": 0.02,
        "y": 0.02
       },
       "content": {
        "cell": "9d56a4a1-1e36-4624-a9fc-33ebdcebaf01",
        "part": "whole"
       },
       "id": "a9035fae-1a00-46e2-b6a3-4a55130cfa95"
      }
     }
    },
    "d2c06e4b-9621-4a71-92cd-563bf4cbef0d": {
     "id": "d2c06e4b-9621-4a71-92cd-563bf4cbef0d",
     "prev": "93eb9740-d2ce-48aa-a56e-df9d7dcb0870",
     "regions": {
      "1364532f-5b2c-4c66-9ce9-a59c0c63e655": {
       "attrs": {
        "height": 0.96,
        "width": 0.96,
        "x": 0.02,
        "y": 0.02
       },
       "content": {
        "cell": "f6e67f82-f425-4ede-a7ad-098f2824cb25",
        "part": "whole"
       },
       "id": "1364532f-5b2c-4c66-9ce9-a59c0c63e655"
      }
     }
    },
    "d43db060-49ed-4a05-b39c-ea9fe16b908f": {
     "id": "d43db060-49ed-4a05-b39c-ea9fe16b908f",
     "prev": "9ea372f2-e5cd-46be-80a6-5b5dd2f57782",
     "regions": {
      "28fe9193-4d83-4b9f-b23b-a790f58c5f01": {
       "attrs": {
        "height": 0.96,
        "width": 0.96,
        "x": 0.02,
        "y": 0.02
       },
       "content": {
        "cell": "e0fd357e-864f-43df-bbaa-e143518c24a4",
        "part": "whole"
       },
       "id": "28fe9193-4d83-4b9f-b23b-a790f58c5f01"
      }
     }
    },
    "d4a0086a-0589-4dab-b9c6-7f5a3723b152": {
     "id": "d4a0086a-0589-4dab-b9c6-7f5a3723b152",
     "prev": "473d4adc-f922-4ac1-adfb-f4c3b283ebc3",
     "regions": {
      "94a7510c-53b4-43d0-8580-60b931646d7d": {
       "attrs": {
        "height": 0.96,
        "width": 0.96,
        "x": 0.02,
        "y": 0.02
       },
       "content": {
        "cell": "276ef7e8-da6e-4c9e-bf76-28c3289ed2af",
        "part": "whole"
       },
       "id": "94a7510c-53b4-43d0-8580-60b931646d7d"
      }
     }
    },
    "d4ad710c-b6b8-4f04-b0ab-14bc04060959": {
     "id": "d4ad710c-b6b8-4f04-b0ab-14bc04060959",
     "prev": "d43db060-49ed-4a05-b39c-ea9fe16b908f",
     "regions": {
      "83a56266-cf17-40cb-8d66-612f1792e1bf": {
       "attrs": {
        "height": 0.96,
        "width": 0.96,
        "x": 0.02,
        "y": 0.02
       },
       "content": {
        "cell": "98ebcb3c-7269-4b80-8553-80e72ec61334",
        "part": "whole"
       },
       "id": "83a56266-cf17-40cb-8d66-612f1792e1bf"
      }
     }
    },
    "e384dd16-d82a-4b10-9fe8-c5b0819a46b9": {
     "id": "e384dd16-d82a-4b10-9fe8-c5b0819a46b9",
     "prev": "76846e67-a0a7-49d6-aa2d-cdba57326c34",
     "regions": {
      "ce3a06f6-3c69-40e9-8221-69a10608259f": {
       "attrs": {
        "height": 0.96,
        "width": 0.96,
        "x": 0.02,
        "y": 0.02
       },
       "content": {
        "cell": "77384b07-0692-4ed7-b347-e4169551cd3e",
        "part": "whole"
       },
       "id": "ce3a06f6-3c69-40e9-8221-69a10608259f"
      }
     }
    },
    "ef9c20ea-58b3-49dd-956f-4738f78515ea": {
     "id": "ef9c20ea-58b3-49dd-956f-4738f78515ea",
     "prev": "d4a0086a-0589-4dab-b9c6-7f5a3723b152",
     "regions": {
      "8c95ad2f-582d-4bc7-addd-cc1c01807c7c": {
       "attrs": {
        "height": 0.96,
        "width": 0.96,
        "x": 0.02,
        "y": 0.02
       },
       "content": {
        "cell": "d35b329f-211e-4d12-af2e-4f287d31f5f2",
        "part": "whole"
       },
       "id": "8c95ad2f-582d-4bc7-addd-cc1c01807c7c"
      }
     }
    },
    "f5ef70a2-51c6-42fe-9c19-dfe9a8fdbc75": {
     "id": "f5ef70a2-51c6-42fe-9c19-dfe9a8fdbc75",
     "prev": "562d0dbd-9b21-421f-be90-64ea03669ec1",
     "regions": {
      "72e3215f-420b-4cc9-803e-fb5b74ed4835": {
       "attrs": {
        "height": 0.96,
        "width": 0.96,
        "x": 0.02,
        "y": 0.02
       },
       "content": {
        "cell": "ae113dff-67c4-4cd4-9c03-ca817fccd0da",
        "part": "whole"
       },
       "id": "72e3215f-420b-4cc9-803e-fb5b74ed4835"
      }
     }
    }
   },
   "themes": {
    "default": "1a717ba1-8fde-4efe-b0a5-c6424a8a872e",
    "theme": {
     "1a717ba1-8fde-4efe-b0a5-c6424a8a872e": {
      "backgrounds": {
       "my-background": {
        "background-color": "white"
       }
      },
      "id": "1a717ba1-8fde-4efe-b0a5-c6424a8a872e",
      "palette": {
       "black": {
        "id": "black",
        "rgb": [
         0,
         0,
         0
        ]
       },
       "blue": {
        "id": "blue",
        "rgb": [
         0,
         153,
         204
        ]
       },
       "gray": {
        "id": "gray",
        "rgb": [
         128,
         128,
         128
        ]
       },
       "red": {
        "id": "red",
        "rgb": [
         240,
         32,
         32
        ]
       },
       "white": {
        "id": "white",
        "rgb": [
         255,
         255,
         255
        ]
       }
      },
      "rules": {
       "code": {
        "font-size": 1.6
       },
       "h1": {
        "color": "blue",
        "font-size": 5.5,
        "text-align": "center"
       },
       "h2": {
        "color": "blue",
        "font-size": 3,
        "text-align": "center"
       },
       "h3": {
        "color": "black",
        "font-size": 3
       },
       "pre": {
        "font-size": 1.6
       },
       "ul li": {
        "color": "black",
        "font-size": 2.5
       },
       "ul li ul li": {
        "color": "black",
        "font-size": 2
       }
      },
      "text-base": {
       "font-family": "Georgia",
       "font-size": 2.5
      }
     }
    }
   }
  }
 },
 "nbformat": 4,
 "nbformat_minor": 1
}
