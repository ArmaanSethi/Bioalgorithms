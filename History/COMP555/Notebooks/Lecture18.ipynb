{
 "cells": [
  {
   "cell_type": "code",
   "execution_count": 2,
   "metadata": {
    "nbpresent": {
     "id": "c0e31aa0-0fb1-46db-bd88-0dde9b954641"
    },
    "slideshow": {
     "slide_type": "-"
    }
   },
   "outputs": [
    {
     "data": {
      "application/javascript": [
       "var width = window.innerWidth || document.documentElement.clientWidth || document.body.clientWidth;\n",
       "var height = window.innerHeight || document.documentElement.clientHeight || document.body.clientHeight;\n",
       "\n",
       "IPython.notebook.kernel.execute(\"windowSize = (\" + width + \",\" + height + \")\");\n",
       "// suitable for small screens\n",
       "nbpresent.mode.tree.set(\n",
       "    [\"app\", \"theme-manager\", \"themes\", \"my-theme\"], \n",
       "    {\n",
       "    palette: {\n",
       "        \"blue\": { id: \"blue\", rgb: [0, 153, 204] },\n",
       "        \"black\": { id: \"black\", rgb: [0, 0, 0] },\n",
       "        \"white\": { id: \"white\", rgb: [255, 255, 255] },\n",
       "        \"red\": { id: \"red\", rgb: [240, 32, 32] },\n",
       "        \"gray\": { id: \"gray\", rgb: [128, 128, 128] },\n",
       "    },\n",
       "    backgrounds: {\n",
       "        \"my-background\": {\n",
       "            \"background-color\": \"white\"\n",
       "        }\n",
       "    },\n",
       "    \"text-base\": {\n",
       "        \"font-family\": \"Georgia\",\n",
       "        \"font-size\": 2.5\n",
       "    },\n",
       "    rules: {\n",
       "        h1: {\n",
       "            \"font-size\": 5.5,\n",
       "            color: \"blue\",\n",
       "            \"text-align\": \"center\"\n",
       "        },\n",
       "        h2: {\n",
       "            \"font-size\": 3,\n",
       "            color: \"blue\",\n",
       "            \"text-align\": \"center\"\n",
       "        },\n",
       "        h3: {\n",
       "            \"font-size\": 3,\n",
       "            color: \"black\",\n",
       "        },\n",
       "        \"ul li\": {\n",
       "            \"font-size\": 2.5,\n",
       "            color: \"black\"\n",
       "        },\n",
       "        \"ul li ul li\": {\n",
       "            \"font-size\": 2.0,\n",
       "            color: \"black\"\n",
       "        },\n",
       "        \"code\": {\n",
       "            \"font-size\": 1.6,\n",
       "        },\n",
       "        \"pre\": {\n",
       "            \"font-size\": 1.6,\n",
       "        }\n",
       "    }\n",
       "});"
      ],
      "text/plain": [
       "<IPython.core.display.Javascript object>"
      ]
     },
     "metadata": {},
     "output_type": "display_data"
    }
   ],
   "source": [
    "%%javascript\n",
    "var width = window.innerWidth || document.documentElement.clientWidth || document.body.clientWidth;\n",
    "var height = window.innerHeight || document.documentElement.clientHeight || document.body.clientHeight;\n",
    "\n",
    "IPython.notebook.kernel.execute(\"windowSize = (\" + width + \",\" + height + \")\");\n",
    "// suitable for small screens\n",
    "nbpresent.mode.tree.set(\n",
    "    [\"app\", \"theme-manager\", \"themes\", \"my-theme\"], \n",
    "    {\n",
    "    palette: {\n",
    "        \"blue\": { id: \"blue\", rgb: [0, 153, 204] },\n",
    "        \"black\": { id: \"black\", rgb: [0, 0, 0] },\n",
    "        \"white\": { id: \"white\", rgb: [255, 255, 255] },\n",
    "        \"red\": { id: \"red\", rgb: [240, 32, 32] },\n",
    "        \"gray\": { id: \"gray\", rgb: [128, 128, 128] },\n",
    "    },\n",
    "    backgrounds: {\n",
    "        \"my-background\": {\n",
    "            \"background-color\": \"white\"\n",
    "        }\n",
    "    },\n",
    "    \"text-base\": {\n",
    "        \"font-family\": \"Georgia\",\n",
    "        \"font-size\": 2.5\n",
    "    },\n",
    "    rules: {\n",
    "        h1: {\n",
    "            \"font-size\": 5.5,\n",
    "            color: \"blue\",\n",
    "            \"text-align\": \"center\"\n",
    "        },\n",
    "        h2: {\n",
    "            \"font-size\": 3,\n",
    "            color: \"blue\",\n",
    "            \"text-align\": \"center\"\n",
    "        },\n",
    "        h3: {\n",
    "            \"font-size\": 3,\n",
    "            color: \"black\",\n",
    "        },\n",
    "        \"ul li\": {\n",
    "            \"font-size\": 2.5,\n",
    "            color: \"black\"\n",
    "        },\n",
    "        \"ul li ul li\": {\n",
    "            \"font-size\": 2.0,\n",
    "            color: \"black\"\n",
    "        },\n",
    "        \"code\": {\n",
    "            \"font-size\": 1.6,\n",
    "        },\n",
    "        \"pre\": {\n",
    "            \"font-size\": 1.6,\n",
    "        }\n",
    "    }\n",
    "});"
   ]
  },
  {
   "cell_type": "markdown",
   "metadata": {
    "nbpresent": {
     "id": "4592ee64-d4a4-4af2-98ac-acf8679451cd"
    },
    "slideshow": {
     "slide_type": "slide"
    }
   },
   "source": [
    "# Returning to Dynamic Programming\n",
    "\n",
    "<img src=\"http://csbio.unc.edu/mcmillan/Comp555S18/Media/TSproblem.png\" width=\"800px\" class=\"centerImg\">\n",
    "\n",
    "<p style=\"text-align: right; clear: right;\">1</p>"
   ]
  },
  {
   "cell_type": "markdown",
   "metadata": {
    "nbpresent": {
     "id": "8f3ef11e-d0b8-4101-a866-5a3c0beb5f72"
    },
    "slideshow": {
     "slide_type": "slide"
    }
   },
   "source": [
    "# What is an Algorithm?\n",
    "\n",
    "* An algorithm is a sequence of instructions that one must perform in order to solve a well-formulated problem.\n",
    "\n",
    "<img src=\"http://csbio.unc.edu/mcmillan/Comp555S18/Media/AlgorithmComplexity.png\" width=\"800px\" class=\"centerImg\">\n",
    "\n",
    "<p style=\"text-align: right; clear: right;\">2</p>"
   ]
  },
  {
   "cell_type": "markdown",
   "metadata": {
    "nbpresent": {
     "id": "f9c3a89c-d29c-4bf4-b442-a2813b34ab14"
    },
    "slideshow": {
     "slide_type": "slide"
    }
   },
   "source": [
    "# Correctness\n",
    "\n",
    "* An algorithm is correct only if it produces correct result for all input instances. \n",
    " - If the algorithm gives an incorrect answer for one or more input instances, it is an incorrect algorithm. \n",
    "* Coin change problem\n",
    " - **Input:** an amount of money *M* in cents \n",
    " - **Output:** the smallest number of coins\n",
    "* US coin change problem\n",
    "\n",
    "<img src=\"http://csbio.unc.edu/mcmillan/Comp555S18/Media/Coins.png\" width=\"600px\" class=\"centerImg\">\n",
    "\n",
    "<p style=\"text-align: right; clear: right;\">3</p>"
   ]
  },
  {
   "cell_type": "markdown",
   "metadata": {
    "nbpresent": {
     "id": "17c33f84-2727-4cd5-96b4-8d768768ee3e"
    },
    "slideshow": {
     "slide_type": "slide"
    }
   },
   "source": [
    "# US Coin Change\n",
    "\n",
    "<img src=\"http://csbio.unc.edu/mcmillan/Comp555S18/Media/USCoinChange.png\" width=\"600px\" class=\"centerImg\">\n",
    "\n",
    "<p style=\"text-align: right; clear: right;\">4</p>"
   ]
  },
  {
   "cell_type": "markdown",
   "metadata": {
    "nbpresent": {
     "id": "1833aa5e-80bd-42eb-b05e-54f4c39a49cc"
    },
    "slideshow": {
     "slide_type": "slide"
    }
   },
   "source": [
    "# Change Problem\n",
    "\n",
    "* Input: \n",
    "  - an amount of money M\n",
    "  - an array of denominations c = (c<sub>1</sub>, c<sub>2</sub>, …,c<sub>d</sub>) <br>in order of decreasing value\n",
    "* Output: the smallest number of coins\n",
    "\n",
    "<img src=\"http://csbio.unc.edu/mcmillan/Comp555S18/Media/IncorrectBox.png\" width=\"600px\" class=\"centerImg\">\n",
    "\n",
    "<p style=\"text-align: right; clear: right;\">5</p>"
   ]
  },
  {
   "cell_type": "markdown",
   "metadata": {
    "nbpresent": {
     "id": "7fa18117-e161-42b5-bc8a-0174d3b7846a"
    },
    "slideshow": {
     "slide_type": "slide"
    }
   },
   "source": [
    "# Another Approach?\n",
    "\n",
    "<img src=\"http://csbio.unc.edu/mcmillan/Comp555S18/Media/BruteForce.jpg\" width=\"160\" style=\"float: right; clear: right; margin: 24px;\">\n",
    "* Let's bring back brute force\n",
    "  - Test every coin combination and see if it adds up to our target\n",
    "  - Is there exhaustive search algorithm?"
   ]
  },
  {
   "cell_type": "code",
   "execution_count": 3,
   "metadata": {
    "nbpresent": {
     "id": "4acc7481-0a17-4221-8a74-57cd0a7c2641"
    }
   },
   "outputs": [
    {
     "name": "stdout",
     "output_type": "stream",
     "text": [
      "[2, 0, 0, 2, 0]\n"
     ]
    }
   ],
   "source": [
    "def exhaustiveChange(amount, denominations):\n",
    "    bestN = 100\n",
    "    count = [0 for i in xrange(len(denominations))]\n",
    "    while True:\n",
    "        for i, coinValue in enumerate(denominations):\n",
    "            count[i] += 1\n",
    "            if (count[i]*coinValue < 100):\n",
    "                break\n",
    "            count[i] = 0\n",
    "        n = sum(count)\n",
    "        if n == 0:\n",
    "            break\n",
    "        value = sum([count[i]*denominations[i] for i in xrange(len(denominations))])\n",
    "        if (value == amount):\n",
    "            if (n < bestN):\n",
    "                solution = [count[i] for i in xrange(len(denominations))]\n",
    "                bestN = n\n",
    "    return solution\n",
    "\n",
    "print exhaustiveChange(42, [1,5,10,20,25])"
   ]
  },
  {
   "cell_type": "markdown",
   "metadata": {
    "nbpresent": {
     "id": "f546bee3-b791-4abe-bdac-76ca290c26f0"
    }
   },
   "source": [
    "<p style=\"text-align: right; clear: right;\">6</p>"
   ]
  },
  {
   "cell_type": "markdown",
   "metadata": {
    "nbpresent": {
     "id": "b1c65aeb-c71d-41bb-b2ce-1f1892d0b59d"
    },
    "slideshow": {
     "slide_type": "slide"
    }
   },
   "source": [
    "# Other Tricks?\n",
    "\n",
    "* A branch and bound algorithm"
   ]
  },
  {
   "cell_type": "code",
   "execution_count": 6,
   "metadata": {
    "nbpresent": {
     "id": "7984bb96-319b-45de-8259-388b838765a0"
    }
   },
   "outputs": [
    {
     "name": "stdout",
     "output_type": "stream",
     "text": [
      "[2, 0, 0, 2, 0]\n"
     ]
    }
   ],
   "source": [
    "def branchAndBoundChange(amount, denominations):\n",
    "    bestN = amount\n",
    "    count = [0 for i in xrange(len(denominations))]\n",
    "    while True:\n",
    "        for i, coinValue in enumerate(denominations):\n",
    "            count[i] += 1\n",
    "            if (count[i]*coinValue < amount):\n",
    "                break\n",
    "            count[i] = 0\n",
    "        n = sum(count)\n",
    "        if n == 0:\n",
    "            break\n",
    "        if (n > bestN):\n",
    "            continue\n",
    "        value = sum([count[i]*denominations[i] for i in xrange(len(denominations))])\n",
    "        if (value == amount):\n",
    "            if (n < bestN):\n",
    "                solution = [count[i] for i in xrange(len(denominations))]\n",
    "                bestN = n\n",
    "    return solution\n",
    "\n",
    "print branchAndBoundChange(42, [1,5,10,20,25])"
   ]
  },
  {
   "cell_type": "markdown",
   "metadata": {
    "nbpresent": {
     "id": "13a15eaf-04d6-40f8-b2c8-9044c79b22a0"
    }
   },
   "source": [
    "* Correct, and works well for most cases, but might be as slow as an exhaustive search for some inputs.\n",
    "\n",
    "<p style=\"text-align: right; clear: right;\">7</p>"
   ]
  },
  {
   "cell_type": "markdown",
   "metadata": {
    "nbpresent": {
     "id": "78114b70-575f-41f0-b512-68243bc79e02"
    },
    "slideshow": {
     "slide_type": "slide"
    }
   },
   "source": [
    "# Is there another Approach?\n",
    "\n",
    "<img src=\"http://csbio.unc.edu/mcmillan/Comp555S18/Media/Tabulate.png\" width=\"300\" style=\"float: right; clear: right; margin: 24px;\">\n",
    "\n",
    "* Tabulating Answers\n",
    "   - If it is costly to compute the answer for a given input, then there may be advantages to caching the result of previous calculations in a table\n",
    "   - This trades-off time-complexity for space\n",
    "   - How could we fill in the table in the first place?\n",
    "   - Run our best correct algorithm\n",
    "   - Can the table itself be used to speed up the process?\n",
    "\n",
    "<p style=\"text-align: right; clear: right;\">8</p>"
   ]
  },
  {
   "cell_type": "markdown",
   "metadata": {
    "nbpresent": {
     "id": "eab2e6bc-692f-4bae-bff5-48ef3c177482"
    },
    "slideshow": {
     "slide_type": "slide"
    }
   },
   "source": [
    "# Solutions using a Table\n",
    "\n",
    "<img src=\"http://csbio.unc.edu/mcmillan/Comp555S18/Media/RecursiveIdea.png\" width=\"250\" style=\"float: right; clear: right; margin: 24px;\">\n",
    "\n",
    "* Suppose you are asked to fill-in the unknown table entry for 67&cent;\n",
    "* It must differ from previous known optimal result by at most one coin…\n",
    "\n",
    "* So what are the possibilities?\n",
    "\n",
    "  - BestChange(67&cent;) = 25&cent; + BestChange(42&cent;), or\n",
    "  - BestChange(67&cent;) = 20&cent; + BestChange(47&cent;), or\n",
    "  - BestChange(67&cent;) = 10&cent; + BestChange(57&cent;), or\n",
    "  - BestChange(67&cent;) = 5&cent; + BestChange(62&cent;), or\n",
    "  - BestChange(67&cent;) = 1&cent; + BestChange(66&cent;)\n",
    "\n",
    "<p style=\"text-align: right; clear: right;\">9</p>"
   ]
  },
  {
   "cell_type": "markdown",
   "metadata": {
    "nbpresent": {
     "id": "2e82abdd-c16a-4ac9-a2d7-b20a72dbb0ad"
    },
    "slideshow": {
     "slide_type": "slide"
    }
   },
   "source": [
    "# A Recursive Coin-Change Algorithm"
   ]
  },
  {
   "cell_type": "code",
   "execution_count": 7,
   "metadata": {
    "nbpresent": {
     "id": "c60affdc-94c7-4927-aed0-73d7a32c484b"
    }
   },
   "outputs": [
    {
     "name": "stdout",
     "output_type": "stream",
     "text": [
      "[2, 0, 0, 2, 0]\n"
     ]
    }
   ],
   "source": [
    "def RecursiveChange(M, c):\n",
    "    if (M == 0):\n",
    "        return [0 for i in xrange(len(c))]\n",
    "    smallestNumberOfCoins = M+1\n",
    "    for i in xrange(len(c)):\n",
    "        if (M >= c[i]):\n",
    "            thisChange = RecursiveChange(M - c[i], c)\n",
    "            thisChange[i] += 1\n",
    "            if (sum(thisChange) < smallestNumberOfCoins):\n",
    "                bestChange = thisChange\n",
    "                smallestNumberOfCoins = sum(thisChange)\n",
    "    return bestChange\n",
    "\n",
    "print RecursiveChange(42, [1,5,10,20,25])"
   ]
  },
  {
   "cell_type": "markdown",
   "metadata": {
    "nbpresent": {
     "id": "55736028-8edc-4d1c-88fa-228602bb960f"
    }
   },
   "source": [
    "* The only problem is... it is too slow\n",
    "* Let’s see why...\n",
    "<p style=\"text-align: right; clear: right;\">10</p>"
   ]
  },
  {
   "cell_type": "markdown",
   "metadata": {
    "nbpresent": {
     "id": "b043a840-5bbf-40b6-86cc-1fecacec2133"
    },
    "slideshow": {
     "slide_type": "slide"
    }
   },
   "source": [
    "# Recursion Recalculations\n",
    "\n",
    "<img src=\"http://csbio.unc.edu/mcmillan/Comp555S18/Media/ChangeCalls.png\" width=\"400\" style=\"float: right; margin-right: 100px;\">\n",
    "\n",
    "* Recursion often results in many redundant calls\n",
    "* Even after only two levels of recursion 6 different change values are repeated multiple times\n",
    "* How can we avoid this repetition?\n",
    "* Cache precomputed results in a table!\n",
    "\n",
    "<p style=\"text-align: right; clear: right;\">11</p>"
   ]
  },
  {
   "cell_type": "markdown",
   "metadata": {
    "nbpresent": {
     "id": "df1a5189-6990-4a79-8311-ee389d8d1634"
    },
    "slideshow": {
     "slide_type": "slide"
    }
   },
   "source": [
    "# Back to Table Evaluation\n",
    "\n",
    "* When do we fill in the values of the table?\n",
    "* We could do it lazily as needed… as each call to BestChange() progresses from M down to 1\n",
    "* Or we could do it from the bottom-up –  tabulating all values from 1 up to M\n",
    "* Thus, instead of just trying to find the minimal number of coins to change M cents, we attempt the solve the superficially harder problem of solving for the optimal change for all values from 1 to M\n",
    "\n",
    "<img src=\"http://csbio.unc.edu/mcmillan/Comp555S18/Media/FillingTable.png\" width=\"800px\" class=\"centerImg\">\n",
    "\n",
    "<p style=\"text-align: right; clear: right;\">12</p>"
   ]
  },
  {
   "cell_type": "markdown",
   "metadata": {
    "nbpresent": {
     "id": "e4316ff8-50f6-43e1-98ba-57b90c646e7c"
    },
    "slideshow": {
     "slide_type": "slide"
    }
   },
   "source": [
    "# Change via Dynamic Programming"
   ]
  },
  {
   "cell_type": "code",
   "execution_count": 6,
   "metadata": {
    "nbpresent": {
     "id": "85ef0be4-94a5-41ec-bb70-f1412e17f3ad"
    }
   },
   "outputs": [
    {
     "name": "stdout",
     "output_type": "stream",
     "text": [
      "2 1\n",
      "3 2\n",
      "4 3\n",
      "5 4\n",
      "7 5\n",
      "8 6\n",
      "9 7\n",
      "10 8\n",
      "11 9\n",
      "14 10\n",
      "15 11\n",
      "16 12\n",
      "17 13\n",
      "18 14\n",
      "20 15\n",
      "21 16\n",
      "22 17\n",
      "23 18\n",
      "24 19\n",
      "28 20\n",
      "29 21\n",
      "30 22\n",
      "31 23\n",
      "32 24\n",
      "35 25\n",
      "36 26\n",
      "37 27\n",
      "38 28\n",
      "39 29\n",
      "41 30\n",
      "42 31\n",
      "43 32\n",
      "44 33\n",
      "45 34\n",
      "48 35\n",
      "49 36\n",
      "50 37\n",
      "51 38\n",
      "52 39\n",
      "55 40\n",
      "56 41\n",
      "57 42\n",
      "[2, 0, 0, 2, 0]\n"
     ]
    }
   ],
   "source": [
    "def DPChange(M, c):\n",
    "    change = [[0 for i in xrange(len(c))]]\n",
    "    for m in xrange(1,M+1):\n",
    "#         print change\n",
    "        bestNumCoins = m+1\n",
    "        for i in xrange(len(c)):\n",
    "            if (m >= c[i]):\n",
    "                thisChange = [x for x in change[m - c[i]]]\n",
    "                thisChange[i] += 1\n",
    "                if (sum(thisChange) < bestNumCoins):\n",
    "                    change[m:m] = [thisChange]\n",
    "                    bestNumCoins = sum(thisChange)\n",
    "        print str(len(change)) + \" \" + str(m)\n",
    "    return change[M]\n",
    "\n",
    "print DPChange(42, [1,5,10,20,25])"
   ]
  },
  {
   "cell_type": "markdown",
   "metadata": {
    "nbpresent": {
     "id": "d62a3a32-fd4c-4b65-810a-103080845731"
    }
   },
   "source": [
    "* Recall, BruteForceChange( ) was O(M<sup>d</sup>)\n",
    "* DPChange( ) is O(Md)\n",
    "\n",
    "<p style=\"text-align: right; clear: right;\">13</p>"
   ]
  },
  {
   "cell_type": "markdown",
   "metadata": {
    "nbpresent": {
     "id": "5759b8e9-5d4f-451d-9235-49339371a4a3"
    },
    "slideshow": {
     "slide_type": "slide"
    }
   },
   "source": [
    "# Dynamic Programming\n",
    "\n",
    "* Dynamic Programming is a general technique for computing recurrence relations efficiently by storing partial or intermediate results\n",
    "\n",
    "* Three keys to constructing a dynamic programming solution:\n",
    "  1. Formulate the answer as a recurrence relation\n",
    "  2. Consider all instances of the recurrence at each step\n",
    "  3. Order evaluations so you will always have precomputed the needed partial results\n",
    "\n",
    "\n",
    "* We'll see it again, and again\n",
    "\n",
    "<p style=\"text-align: right; clear: right;\">14</p>"
   ]
  },
  {
   "cell_type": "markdown",
   "metadata": {
    "nbpresent": {
     "id": "b7fd0144-6d5b-41d9-9740-44e6f7304026"
    },
    "slideshow": {
     "slide_type": "slide"
    }
   },
   "source": [
    "# Next Time\n",
    "\n",
    "* Back to sequence alignment\n",
    "* Another algorithm design approach.. Divide and Conquer\n",
    "\n",
    "<img src=\"http://csbio.unc.edu/mcmillan/Comp555S18/Media/DivideCartoon.jpg\" width=\"700px\" class=\"centerImg\">\n",
    "\n",
    "<p style=\"text-align: right; clear: right;\">15</p>"
   ]
  },
  {
   "cell_type": "code",
   "execution_count": null,
   "metadata": {},
   "outputs": [],
   "source": []
  }
 ],
 "metadata": {
  "celltoolbar": "Slideshow",
  "kernelspec": {
   "display_name": "Python 2",
   "language": "python",
   "name": "python2"
  },
  "language_info": {
   "codemirror_mode": {
    "name": "ipython",
    "version": 2
   },
   "file_extension": ".py",
   "mimetype": "text/x-python",
   "name": "python",
   "nbconvert_exporter": "python",
   "pygments_lexer": "ipython2",
   "version": "2.7.14"
  },
  "nbpresent": {
   "slides": {
    "1941583c-5078-4ef0-8484-1b607f9d71cd": {
     "id": "1941583c-5078-4ef0-8484-1b607f9d71cd",
     "prev": "42898866-997a-41f5-82bc-6755c4b854ba",
     "regions": {
      "221f22df-8d97-4dd3-97b2-f60082d4f96d": {
       "attrs": {
        "height": 0.96,
        "width": 0.96,
        "x": 0.02,
        "y": 0.02
       },
       "content": {
        "cell": "78114b70-575f-41f0-b512-68243bc79e02",
        "part": "whole"
       },
       "id": "221f22df-8d97-4dd3-97b2-f60082d4f96d"
      }
     }
    },
    "2a384e15-2506-4618-afee-8a552d5db6cb": {
     "id": "2a384e15-2506-4618-afee-8a552d5db6cb",
     "prev": "c837e366-3ee7-4d35-8ae2-2ff57c8f8e49",
     "regions": {
      "31c4ae81-ddad-4dc6-b788-58336ab6b863": {
       "attrs": {
        "height": 0.1488291628050663,
        "width": 0.96,
        "x": 0.02,
        "y": 0.832818453300381
       },
       "content": {
        "cell": "55736028-8edc-4d1c-88fa-228602bb960f",
        "part": "whole"
       },
       "id": "31c4ae81-ddad-4dc6-b788-58336ab6b863"
      },
      "c15c0cc4-3abf-463c-8932-b6b00e798b01": {
       "attrs": {
        "height": 0.5821521985377406,
        "width": 0.96,
        "x": 0.02,
        "y": 0.24461950365564825
       },
       "content": {
        "cell": "c60affdc-94c7-4927-aed0-73d7a32c484b",
        "part": "whole"
       },
       "id": "c15c0cc4-3abf-463c-8932-b6b00e798b01"
      },
      "d2617ed9-2d1d-4429-b53b-bb65bf979266": {
       "attrs": {
        "height": 0.22516321697044578,
        "width": 0.96,
        "x": 0.02,
        "y": 0.02
       },
       "content": {
        "cell": "2e82abdd-c16a-4ac9-a2d7-b20a72dbb0ad",
        "part": "whole"
       },
       "id": "d2617ed9-2d1d-4429-b53b-bb65bf979266"
      }
     }
    },
    "2ebee0f9-0661-410b-aba6-24c9ef52914c": {
     "id": "2ebee0f9-0661-410b-aba6-24c9ef52914c",
     "prev": "734a54ae-2ec0-45a9-be56-b78e2fd76d2f",
     "regions": {
      "7ee33cfd-1bb2-47c3-8749-2183901fb5a6": {
       "attrs": {
        "height": 0.96,
        "width": 0.96,
        "x": 0.02,
        "y": 0.02
       },
       "content": {
        "cell": "1833aa5e-80bd-42eb-b05e-54f4c39a49cc",
        "part": "whole"
       },
       "id": "7ee33cfd-1bb2-47c3-8749-2183901fb5a6"
      }
     }
    },
    "35eaa8fa-5f64-40ae-9f2f-fb07de17dcf5": {
     "id": "35eaa8fa-5f64-40ae-9f2f-fb07de17dcf5",
     "prev": "a62986f5-b464-4675-a015-5fbf60bca806",
     "regions": {
      "167c320e-8083-4c33-8b6f-ea3c4885e9a2": {
       "attrs": {
        "height": 0.96,
        "width": 0.96,
        "x": 0.02,
        "y": 0.02
       },
       "content": {
        "cell": "df1a5189-6990-4a79-8311-ee389d8d1634",
        "part": "whole"
       },
       "id": "167c320e-8083-4c33-8b6f-ea3c4885e9a2"
      }
     }
    },
    "42898866-997a-41f5-82bc-6755c4b854ba": {
     "id": "42898866-997a-41f5-82bc-6755c4b854ba",
     "prev": "a79e62c6-6508-4a33-bbe6-6d7c9ffd385f",
     "regions": {
      "35d2eee7-8cd2-4214-bb68-996792b8aa5e": {
       "attrs": {
        "height": 0.26964885181752635,
        "width": 0.96,
        "x": 0.02,
        "y": 0.02
       },
       "content": {
        "cell": "b1c65aeb-c71d-41bb-b2ce-1f1892d0b59d",
        "part": "whole"
       },
       "id": "35d2eee7-8cd2-4214-bb68-996792b8aa5e"
      },
      "6d17a4fc-ce56-44ce-a787-2c14f1d1b921": {
       "attrs": {
        "height": 0.16695293996498803,
        "width": 0.96,
        "x": 0.02,
        "y": 0.8130470600350118
       },
       "content": {
        "cell": "13a15eaf-04d6-40f8-b2c8-9044c79b22a0",
        "part": "whole"
       },
       "id": "6d17a4fc-ce56-44ce-a787-2c14f1d1b921"
      },
      "9e94d74d-9082-4c48-8b0d-4cb25af0f869": {
       "attrs": {
        "height": 0.5162475543198434,
        "width": 0.96,
        "x": 0.02,
        "y": 0.29240037071362374
       },
       "content": {
        "cell": "7984bb96-319b-45de-8259-388b838765a0",
        "part": "whole"
       },
       "id": "9e94d74d-9082-4c48-8b0d-4cb25af0f869"
      }
     }
    },
    "44e6ee69-c42b-4644-9bfb-5144db647879": {
     "id": "44e6ee69-c42b-4644-9bfb-5144db647879",
     "prev": "eacc5c14-9fc6-4a42-9141-a6ed306e988e",
     "regions": {
      "1279ac1a-04c6-4599-8b93-91ff6802106c": {
       "attrs": {
        "height": 0.96,
        "width": 0.96,
        "x": 0.02,
        "y": 0.02
       },
       "content": {
        "cell": "8f3ef11e-d0b8-4101-a866-5a3c0beb5f72",
        "part": "whole"
       },
       "id": "1279ac1a-04c6-4599-8b93-91ff6802106c"
      }
     }
    },
    "4a5de199-2d29-4f8a-9814-86671efc919c": {
     "id": "4a5de199-2d29-4f8a-9814-86671efc919c",
     "prev": "44e6ee69-c42b-4644-9bfb-5144db647879",
     "regions": {
      "117dbcb0-47c0-4d6e-9c36-f488c5de8930": {
       "attrs": {
        "height": 0.96,
        "width": 0.96,
        "x": 0.02,
        "y": 0.02
       },
       "content": {
        "cell": "f9c3a89c-d29c-4bf4-b442-a2813b34ab14",
        "part": "whole"
       },
       "id": "117dbcb0-47c0-4d6e-9c36-f488c5de8930"
      }
     }
    },
    "734a54ae-2ec0-45a9-be56-b78e2fd76d2f": {
     "id": "734a54ae-2ec0-45a9-be56-b78e2fd76d2f",
     "prev": "4a5de199-2d29-4f8a-9814-86671efc919c",
     "regions": {
      "6d6aa82a-a6bb-432f-bfdd-fb93547ae2e9": {
       "attrs": {
        "height": 0.96,
        "width": 0.96,
        "x": 0.02,
        "y": 0.02
       },
       "content": {
        "cell": "17c33f84-2727-4cd5-96b4-8d768768ee3e",
        "part": "whole"
       },
       "id": "6d6aa82a-a6bb-432f-bfdd-fb93547ae2e9"
      }
     }
    },
    "a62986f5-b464-4675-a015-5fbf60bca806": {
     "id": "a62986f5-b464-4675-a015-5fbf60bca806",
     "prev": "2a384e15-2506-4618-afee-8a552d5db6cb",
     "regions": {
      "2c1e06c6-a141-4d03-ab9a-f7c6080558cc": {
       "attrs": {
        "height": 0.96,
        "width": 0.96,
        "x": 0.02,
        "y": 0.02
       },
       "content": {
        "cell": "b043a840-5bbf-40b6-86cc-1fecacec2133",
        "part": "whole"
       },
       "id": "2c1e06c6-a141-4d03-ab9a-f7c6080558cc"
      }
     }
    },
    "a79e62c6-6508-4a33-bbe6-6d7c9ffd385f": {
     "id": "a79e62c6-6508-4a33-bbe6-6d7c9ffd385f",
     "prev": "2ebee0f9-0661-410b-aba6-24c9ef52914c",
     "regions": {
      "6eb26a30-0e8b-4c04-b549-214ce5f402b8": {
       "attrs": {
        "height": 0.3899248275151889,
        "width": 0.96,
        "x": 0.02,
        "y": 0.044714241581711396
       },
       "content": {
        "cell": "7fa18117-e161-42b5-bc8a-0174d3b7846a",
        "part": "whole"
       },
       "id": "6eb26a30-0e8b-4c04-b549-214ce5f402b8"
      },
      "7e516f17-1b4f-4dfd-918d-c38e3954f1ef": {
       "attrs": {
        "height": 0.06974358974358963,
        "width": 0.96,
        "x": 0.02,
        "y": 0.9102564102564102
       },
       "content": {
        "cell": "f546bee3-b791-4abe-bdac-76ca290c26f0",
        "part": "whole"
       },
       "id": "7e516f17-1b4f-4dfd-918d-c38e3954f1ef"
      },
      "93de4c94-1e8f-4c99-9b7e-df4d3e33f344": {
       "attrs": {
        "height": 0.4783523838945524,
        "width": 0.96,
        "x": 0.02,
        "y": 0.4308001235712079
       },
       "content": {
        "cell": "4acc7481-0a17-4221-8a74-57cd0a7c2641",
        "part": "whole"
       },
       "id": "93de4c94-1e8f-4c99-9b7e-df4d3e33f344"
      }
     }
    },
    "c60e0692-cb62-4584-97d4-6e8ddffcb942": {
     "id": "c60e0692-cb62-4584-97d4-6e8ddffcb942",
     "prev": "35eaa8fa-5f64-40ae-9f2f-fb07de17dcf5",
     "regions": {
      "080a7999-a7b1-45de-926d-243657a9a524": {
       "attrs": {
        "height": 0.1702481721758829,
        "width": 0.96,
        "x": 0.02,
        "y": 0.8031613634023272
       },
       "content": {
        "cell": "d62a3a32-fd4c-4b65-810a-103080845731",
        "part": "whole"
       },
       "id": "080a7999-a7b1-45de-926d-243657a9a524"
      },
      "97cb4591-89df-457e-aef0-b62a7a59d546": {
       "attrs": {
        "height": 0.5623808052723714,
        "width": 0.96,
        "x": 0.02,
        "y": 0.23967665533930593
       },
       "content": {
        "cell": "85ef0be4-94a5-41ec-bb70-f1412e17f3ad",
        "part": "whole"
       },
       "id": "97cb4591-89df-457e-aef0-b62a7a59d546"
      },
      "9e1018bb-727c-4bfe-a645-2fe4feffd22f": {
       "attrs": {
        "height": 0.22351560086499836,
        "width": 0.96,
        "x": 0.02,
        "y": 0.02
       },
       "content": {
        "cell": "e4316ff8-50f6-43e1-98ba-57b90c646e7c",
        "part": "whole"
       },
       "id": "9e1018bb-727c-4bfe-a645-2fe4feffd22f"
      }
     }
    },
    "c837e366-3ee7-4d35-8ae2-2ff57c8f8e49": {
     "id": "c837e366-3ee7-4d35-8ae2-2ff57c8f8e49",
     "prev": "1941583c-5078-4ef0-8484-1b607f9d71cd",
     "regions": {
      "9604d432-659c-4856-b39e-75a0f4d32d86": {
       "attrs": {
        "height": 0.96,
        "width": 0.96,
        "x": 0.02,
        "y": 0.02
       },
       "content": {
        "cell": "eab2e6bc-692f-4bae-bff5-48ef3c177482",
        "part": "whole"
       },
       "id": "9604d432-659c-4856-b39e-75a0f4d32d86"
      }
     }
    },
    "e6966e54-0987-441d-b773-e7c98b1ab28e": {
     "id": "e6966e54-0987-441d-b773-e7c98b1ab28e",
     "prev": "fe0e6b22-91b5-4c80-a9a1-7e24415e5462",
     "regions": {
      "7c1d774c-7e63-46ce-b685-9e639742b2f0": {
       "attrs": {
        "height": 0.96,
        "width": 0.96,
        "x": 0.02,
        "y": 0.02
       },
       "content": {
        "cell": "b7fd0144-6d5b-41d9-9740-44e6f7304026",
        "part": "whole"
       },
       "id": "7c1d774c-7e63-46ce-b685-9e639742b2f0"
      }
     }
    },
    "eacc5c14-9fc6-4a42-9141-a6ed306e988e": {
     "id": "eacc5c14-9fc6-4a42-9141-a6ed306e988e",
     "prev": null,
     "regions": {
      "4b45cad4-37f3-4e56-9696-521842e6b40f": {
       "attrs": {
        "height": 0.96,
        "width": 0.96,
        "x": 0.02,
        "y": 0.02
       },
       "content": {
        "cell": "4592ee64-d4a4-4af2-98ac-acf8679451cd",
        "part": "whole"
       },
       "id": "4b45cad4-37f3-4e56-9696-521842e6b40f"
      }
     }
    },
    "fe0e6b22-91b5-4c80-a9a1-7e24415e5462": {
     "id": "fe0e6b22-91b5-4c80-a9a1-7e24415e5462",
     "prev": "c60e0692-cb62-4584-97d4-6e8ddffcb942",
     "regions": {
      "6c1e68b2-1a94-40f1-b1e3-21bfc9757b16": {
       "attrs": {
        "height": 0.96,
        "width": 0.96,
        "x": 0.02,
        "y": 0.02
       },
       "content": {
        "cell": "5759b8e9-5d4f-451d-9235-49339371a4a3",
        "part": "whole"
       },
       "id": "6c1e68b2-1a94-40f1-b1e3-21bfc9757b16"
      }
     }
    }
   },
   "themes": {
    "default": "cd3ea7e2-dab7-46d4-ac1c-1525aa3a4c8c",
    "theme": {
     "cd3ea7e2-dab7-46d4-ac1c-1525aa3a4c8c": {
      "backgrounds": {
       "my-background": {
        "background-color": "white"
       }
      },
      "id": "cd3ea7e2-dab7-46d4-ac1c-1525aa3a4c8c",
      "palette": {
       "black": {
        "id": "black",
        "rgb": [
         0,
         0,
         0
        ]
       },
       "blue": {
        "id": "blue",
        "rgb": [
         0,
         153,
         204
        ]
       },
       "gray": {
        "id": "gray",
        "rgb": [
         128,
         128,
         128
        ]
       },
       "red": {
        "id": "red",
        "rgb": [
         240,
         32,
         32
        ]
       },
       "white": {
        "id": "white",
        "rgb": [
         255,
         255,
         255
        ]
       }
      },
      "rules": {
       "code": {
        "font-size": 1.6
       },
       "h1": {
        "color": "blue",
        "font-size": 5.5,
        "text-align": "center"
       },
       "h2": {
        "color": "blue",
        "font-size": 3,
        "text-align": "center"
       },
       "h3": {
        "color": "black",
        "font-size": 3
       },
       "pre": {
        "font-size": 1.6
       },
       "ul li": {
        "color": "black",
        "font-size": 2.5
       },
       "ul li ul li": {
        "color": "black",
        "font-size": 2
       }
      },
      "text-base": {
       "font-family": "Georgia",
       "font-size": 2.5
      }
     }
    }
   }
  }
 },
 "nbformat": 4,
 "nbformat_minor": 2
}
