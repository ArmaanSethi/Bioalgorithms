{
 "cells": [
  {
   "cell_type": "code",
   "execution_count": 4,
   "metadata": {
    "nbpresent": {
     "id": "d6b8b30f-3299-483c-b474-5f7c076c13c4"
    },
    "slideshow": {
     "slide_type": "skip"
    }
   },
   "outputs": [
    {
     "data": {
      "application/javascript": [
       "var width = window.innerWidth || document.documentElement.clientWidth || document.body.clientWidth;\n",
       "var height = window.innerHeight || document.documentElement.clientHeight || document.body.clientHeight;\n",
       "\n",
       "IPython.notebook.kernel.execute(\"windowSize = (\" + width + \",\" + height + \")\");\n",
       "// suitable for small screens\n",
       "nbpresent.mode.tree.set(\n",
       "    [\"app\", \"theme-manager\", \"themes\", \"my-theme\"], \n",
       "    {\n",
       "    palette: {\n",
       "        \"blue\": { id: \"blue\", rgb: [0, 153, 204] },\n",
       "        \"black\": { id: \"black\", rgb: [0, 0, 0] },\n",
       "        \"white\": { id: \"white\", rgb: [255, 255, 255] },\n",
       "        \"red\": { id: \"red\", rgb: [240, 32, 32] },\n",
       "        \"gray\": { id: \"gray\", rgb: [128, 128, 128] },\n",
       "    },\n",
       "    backgrounds: {\n",
       "        \"my-background\": {\n",
       "            \"background-color\": \"white\"\n",
       "        }\n",
       "    },\n",
       "    \"text-base\": {\n",
       "        \"font-family\": \"Georgia\",\n",
       "        \"font-size\": 2.5\n",
       "    },\n",
       "    rules: {\n",
       "        h1: {\n",
       "            \"font-size\": 5.5,\n",
       "            color: \"blue\",\n",
       "            \"text-align\": \"center\"\n",
       "        },\n",
       "        h2: {\n",
       "            \"font-size\": 3,\n",
       "            color: \"blue\",\n",
       "            \"text-align\": \"center\"\n",
       "        },\n",
       "        h3: {\n",
       "            \"font-size\": 3,\n",
       "            color: \"black\",\n",
       "        },\n",
       "        \"ul li\": {\n",
       "            \"font-size\": 2.5,\n",
       "            color: \"black\"\n",
       "        },\n",
       "        \"ul li ul li\": {\n",
       "            \"font-size\": 2.0,\n",
       "            color: \"black\"\n",
       "        },\n",
       "        \"code\": {\n",
       "            \"font-size\": 1.6,\n",
       "        },\n",
       "        \"pre\": {\n",
       "            \"font-size\": 1.6,\n",
       "        }\n",
       "    }\n",
       "});"
      ],
      "text/plain": [
       "<IPython.core.display.Javascript object>"
      ]
     },
     "metadata": {},
     "output_type": "display_data"
    }
   ],
   "source": [
    "%%javascript\n",
    "var width = window.innerWidth || document.documentElement.clientWidth || document.body.clientWidth;\n",
    "var height = window.innerHeight || document.documentElement.clientHeight || document.body.clientHeight;\n",
    "\n",
    "IPython.notebook.kernel.execute(\"windowSize = (\" + width + \",\" + height + \")\");\n",
    "// suitable for small screens\n",
    "nbpresent.mode.tree.set(\n",
    "    [\"app\", \"theme-manager\", \"themes\", \"my-theme\"], \n",
    "    {\n",
    "    palette: {\n",
    "        \"blue\": { id: \"blue\", rgb: [0, 153, 204] },\n",
    "        \"black\": { id: \"black\", rgb: [0, 0, 0] },\n",
    "        \"white\": { id: \"white\", rgb: [255, 255, 255] },\n",
    "        \"red\": { id: \"red\", rgb: [240, 32, 32] },\n",
    "        \"gray\": { id: \"gray\", rgb: [128, 128, 128] },\n",
    "    },\n",
    "    backgrounds: {\n",
    "        \"my-background\": {\n",
    "            \"background-color\": \"white\"\n",
    "        }\n",
    "    },\n",
    "    \"text-base\": {\n",
    "        \"font-family\": \"Georgia\",\n",
    "        \"font-size\": 2.5\n",
    "    },\n",
    "    rules: {\n",
    "        h1: {\n",
    "            \"font-size\": 5.5,\n",
    "            color: \"blue\",\n",
    "            \"text-align\": \"center\"\n",
    "        },\n",
    "        h2: {\n",
    "            \"font-size\": 3,\n",
    "            color: \"blue\",\n",
    "            \"text-align\": \"center\"\n",
    "        },\n",
    "        h3: {\n",
    "            \"font-size\": 3,\n",
    "            color: \"black\",\n",
    "        },\n",
    "        \"ul li\": {\n",
    "            \"font-size\": 2.5,\n",
    "            color: \"black\"\n",
    "        },\n",
    "        \"ul li ul li\": {\n",
    "            \"font-size\": 2.0,\n",
    "            color: \"black\"\n",
    "        },\n",
    "        \"code\": {\n",
    "            \"font-size\": 1.6,\n",
    "        },\n",
    "        \"pre\": {\n",
    "            \"font-size\": 1.6,\n",
    "        }\n",
    "    }\n",
    "});"
   ]
  },
  {
   "cell_type": "markdown",
   "metadata": {
    "nbpresent": {
     "id": "717a1a20-142a-4ea0-a4c1-1d2da104b2bb"
    },
    "slideshow": {
     "slide_type": "slide"
    }
   },
   "source": [
    "# Path Finding in Graphs\n",
    "\n",
    "<img src=\"http://csbio.unc.edu/mcmillan/Comp555S18/Media/forkintheroad.jpg\" width=\"800\">\n",
    "\n",
    "* Problem Set #2 will be posted by tonight\n",
    "\n",
    "<p style=\"text-align: right; clear: right; margin-right: 200px;\">1</p>"
   ]
  },
  {
   "cell_type": "markdown",
   "metadata": {
    "nbpresent": {
     "id": "fb572e2b-6e23-4123-9e16-fe3c16fe7177"
    },
    "slideshow": {
     "slide_type": "slide"
    }
   },
   "source": [
    "# From Last Time\n",
    "\n",
    "<table style=\"border: none;\">\n",
    "    <tbody>\n",
    "    <tr style=\"border: none;\">\n",
    "    <td colspan=\"3\" style=\"border: none; text-align: center;\">\n",
    "    <h3>Two graphs representing 5-mers from the sequence \"<code style=\"font-size: 100%;\">GACGGCGGCGCACGGCGCAA</code>\"</h3>\n",
    "    </td>\n",
    "    </tr>\n",
    "    <tr style=\"border: none;\">\n",
    "    <td style=\"border: none; vertical-align: top;\" width=\"45%\">\n",
    "    <h3>Hamiltonian Path:</h3>\n",
    "    <img src=\"http://csbio.unc.edu/mcmillan/Comp555S18/Media/HamiltonianV1.png\" width=\"400\">\n",
    "    Each k-mer is a vertex.\n",
    "    Find a path that passes through every <em>vertex</em> of this graph exactly once.\n",
    "    </td>\n",
    "    <td style=\"border: none;\" width=\"10%\">\n",
    "    &nbsp;\n",
    "    </td>\n",
    "    <td style=\"border: none;  vertical-align: top;\" width=\"45%\">\n",
    "    <h3>Eulerian Path:</h3>\n",
    "    <img src=\"http://csbio.unc.edu/mcmillan/Comp555S18/Media/EulerV1.png\" width=\"400\">\n",
    "    Each k-mer is an edge. Find a path that passes through every <em>edge</em> of this graph exactly once.\n",
    "    </td>\n",
    "    </tr>\n",
    "    </tbody>\n",
    "</table>\n",
    "\n",
    "<p style=\"text-align: right; clear: right; margin-right: 200px;\">2</p>"
   ]
  },
  {
   "cell_type": "markdown",
   "metadata": {
    "nbpresent": {
     "id": "76600d0e-0e9e-4271-a3ea-c22fc4470abe"
    },
    "slideshow": {
     "slide_type": "slide"
    }
   },
   "source": [
    "# De Bruijn's Problem\n",
    "\n",
    "<table style=\"border: none;\">\n",
    "    <tbody>\n",
    "    <tr style=\"border: none;\">\n",
    "    <td style=\"border: none; vertical-align: top; padding: 0px 40px; text-align: center;\" width=\"40%\">\n",
    "    <h3>Nicolaas de Bruijn<br>(1918-2012)</h3>\n",
    "    <img src=\"http://csbio.unc.edu/mcmillan/Comp555S18/Media/DeBruijn.jpg\" width=\"200\">\n",
    "    <span style=\"font-size: 80%\">A dutch mathematician noted for his many contributions in the fields of graph theory, number theory, combinatorics and logic.</span>\n",
    "    </td>\n",
    "    <td style=\"border: none;  vertical-align: top;\" width=\"60%\">\n",
    "    <h3>Minimal Superstring Problem:</h3>\n",
    "    <p>Find the shortest sequence that contains all \n",
    "    $\\left|\\Sigma\\right|^k$ strings of length $k$ from the alphabet $\\Sigma$ \n",
    "    as a substring.<p>\n",
    "    <p style=\"margin-left: 25px;\"><b>Example:</b> All strings of length 3 from the alphabet {'0','1'}.</p>\n",
    "    <img src=\"http://csbio.unc.edu/mcmillan/Comp555S18/Media/SuperExample.png\" width=\"600\">\n",
    "    <p>He solved this problem by mapping it to a graph. Note, this particular problem leads to cyclic sequence.</p>\n",
    "    </td>\n",
    "    </tr>\n",
    "    </tbody>\n",
    "</table>\n",
    "\n",
    "<p style=\"text-align: right; clear: right; margin-right: 200px;\">3</p>"
   ]
  },
  {
   "cell_type": "markdown",
   "metadata": {
    "nbpresent": {
     "id": "85548a16-98ba-4d43-8840-e18b6d06540d"
    },
    "slideshow": {
     "slide_type": "slide"
    }
   },
   "source": [
    "# De Bruijn's Graphs\n",
    "\n",
    "<table style=\"border: none;\">\n",
    "    <tbody>\n",
    "    <tr style=\"border: none;\">\n",
    "    <td style=\"border: none; vertical-align: top;\" width=\"45%\">\n",
    "    <p>Minimal Superstrings can be constructed by finding a Hamiltonian path of an k-dimensional De Bruijn graph. Defined as a graph with $\\left|\\Sigma\\right|^k$ nodes and edges from nodes whose $k-1$ suffix matches a node's $k-1$ prefix </p>\n",
    "    <img src=\"http://csbio.unc.edu/mcmillan/Comp555S18/Media/superstring.png\" width=\"400\">\n",
    "    </td>\n",
    "    <td style=\"border: none;\" width=\"10%\">\n",
    "    &nbsp;\n",
    "    </td>\n",
    "    <td style=\"border: none;  vertical-align: top;\" width=\"45%\">\n",
    "    <p>Or, equivalently, a Eulerian cycle of a<br>(k−1)-dimensional De Bruijn graph. Here edges represent the k-length substrings.</p>\n",
    "    <img src=\"http://csbio.unc.edu/mcmillan/Comp555S18/Media/supereuler.png\" width=\"400\">\n",
    "    </td>\n",
    "    </tr>\n",
    "    </tbody>\n",
    "</table>\n",
    "\n",
    "<p style=\"text-align: right; clear: right; margin-right: 200px;\">4</p>"
   ]
  },
  {
   "cell_type": "markdown",
   "metadata": {
    "nbpresent": {
     "id": "c03ff453-1999-4a32-b43d-c852e59c2ed8"
    },
    "slideshow": {
     "slide_type": "slide"
    }
   },
   "source": [
    "# Solving Graph Problems on a Computer\n",
    "\n",
    "* Graph Representations\n",
    "\n",
    "<table style=\"border: none;\">\n",
    "    <tbody>\n",
    "    <tr style=\"border: none;\">\n",
    "    <td style=\"border: none; vertical-align: top;\" width=\"35%\">\n",
    "    <p>An example graph:</p>\n",
    "    <img src=\"http://csbio.unc.edu/mcmillan/Comp555S18/Media/simpleGraph.png\" width=\"200\">\n",
    "    </td>\n",
    "    <td style=\"border: none; vertical-align: top;\" width=\"30%\">\n",
    "    <p>An Adjacency Matrix:</p>\n",
    "        <table>\n",
    "        <tbody>\n",
    "        <tr style=\"border: none;\"><th> &nbsp;</th><th>A</th><th>B</th><th>C</th><th>D</th><th>E</th></tr>\n",
    "        <tr style=\"border: none;\"><th>A&nbsp;</th><td>0</td><td>1</td><td>0</td><td>0</td><td>1</td></tr>\n",
    "        <tr style=\"border: none;\"><th>B&nbsp;</th><td>0</td><td>0</td><td>1</td><td>1</td><td>0</td></tr>\n",
    "        <tr style=\"border: none;\"><th>C&nbsp;</th><td>1</td><td>0</td><td>0</td><td>0</td><td>0</td></tr>\n",
    "        <tr style=\"border: none;\"><th>D&nbsp;</th><td>1</td><td>0</td><td>0</td><td>0</td><td>0</td></tr>\n",
    "        <tr style=\"border: none;\"><th>E&nbsp;</th><td>0</td><td>1</td><td>1</td><td>1</td><td>0</td></tr>\n",
    "        </tbody>\n",
    "        </table>\n",
    "    <p>An <em>n &times; n</em> matrix where A<sub>ij</sub> is 1 if there is an edge connecting\n",
    "    the i<sup>th</sup> vertex to the j<sup>th</sup> vertex and 0 otherwise.</p>\n",
    "    </td>\n",
    "    <td style=\"border: none; vertical-align: top;\" width=\"35%\">\n",
    "    <p>Adjacency Lists:</p>\n",
    "    <p style=\"margin-left: 25px;\">Edge = [(0,1), (0,4),<br>\n",
    "    &nbsp;&nbsp;&nbsp;&nbsp;&nbsp;&nbsp;&nbsp;&nbsp;&nbsp;&nbsp;&nbsp;&nbsp;&nbsp;&nbsp;(1,2), (1,3),<br>\n",
    "    &nbsp;&nbsp;&nbsp;&nbsp;&nbsp;&nbsp;&nbsp;&nbsp;&nbsp;&nbsp;&nbsp;&nbsp;&nbsp;&nbsp;(2,0),<br>\n",
    "    &nbsp;&nbsp;&nbsp;&nbsp;&nbsp;&nbsp;&nbsp;&nbsp;&nbsp;&nbsp;&nbsp;&nbsp;&nbsp;&nbsp;(3,0),<br>\n",
    "    &nbsp;&nbsp;&nbsp;&nbsp;&nbsp;&nbsp;&nbsp;&nbsp;&nbsp;&nbsp;&nbsp;&nbsp;&nbsp;&nbsp;(4,1), (4,2), (4,3)]</p>\n",
    "    <p>An array or list of vertex pairs <em>(i,j)</em> indicating an edge from the i<sup>th</sup> vertex to the j<sup>th</sup> vertex.</p>\n",
    "    </td>\n",
    "    </tr>\n",
    "    </tbody>\n",
    "</table>\n",
    "\n",
    "<p style=\"text-align: right; clear: right; margin-right: 200px;\">5</p>"
   ]
  },
  {
   "cell_type": "markdown",
   "metadata": {
    "nbpresent": {
     "id": "1554a7dd-f9ab-4fdf-9529-bb7171fd97ca"
    },
    "slideshow": {
     "slide_type": "slide"
    }
   },
   "source": [
    "# An adjacency list graph object"
   ]
  },
  {
   "cell_type": "code",
   "execution_count": 2,
   "metadata": {
    "nbpresent": {
     "id": "502bdb68-9784-4fc3-988c-ae3a2952979a"
    },
    "slideshow": {
     "slide_type": "fragment"
    }
   },
   "outputs": [],
   "source": [
    "class BasicGraph:\n",
    "    def __init__(self, vlist=[]):\n",
    "        \"\"\" Initialize a Graph with an optional vertex list \"\"\"\n",
    "        self.index = {v:i for i,v in enumerate(vlist)}    # looks up index given name\n",
    "        self.vertex = {i:v for i,v in enumerate(vlist)}   # looks up name given index\n",
    "        self.edge = []\n",
    "        self.edgelabel = []\n",
    "    def addVertex(self, label):\n",
    "        \"\"\" Add a labeled vertex to the graph \"\"\"\n",
    "        index = len(self.index)\n",
    "        self.index[label] = index\n",
    "        self.vertex[index] = label\n",
    "    def addEdge(self, vsrc, vdst, label='', repeats=True):\n",
    "        \"\"\" Add a directed edge to the graph, with an optional label. \n",
    "        Repeated edges are distinct, unless repeats is set to False. \"\"\"\n",
    "        e = (self.index[vsrc], self.index[vdst])\n",
    "        if (repeats) or (e not in self.edge):\n",
    "            self.edge.append(e)\n",
    "            self.edgelabel.append(label)"
   ]
  },
  {
   "cell_type": "markdown",
   "metadata": {
    "nbpresent": {
     "id": "edbb873d-6fdf-49ff-aa3a-a42273d7382e"
    },
    "slideshow": {
     "slide_type": "fragment"
    }
   },
   "source": [
    "<p style=\"text-align: right; clear: right; margin-right: 200px;\">6</p>"
   ]
  },
  {
   "cell_type": "markdown",
   "metadata": {
    "nbpresent": {
     "id": "9015e773-18fe-4af6-896d-473f0344581f"
    },
    "slideshow": {
     "slide_type": "slide"
    }
   },
   "source": [
    "# Usage example\n",
    "\n",
    "Let's generate the vertices needed to find De Bruijn's superstring of 4-bit binary strings... and create a graph object using them."
   ]
  },
  {
   "cell_type": "code",
   "execution_count": 3,
   "metadata": {
    "nbpresent": {
     "id": "efd7e3ec-c591-41ec-9684-fdb56acba3c9"
    },
    "slideshow": {
     "slide_type": "fragment"
    }
   },
   "outputs": [
    {
     "name": "stdout",
     "output_type": "stream",
     "text": [
      "2.7.14 (default, Jan  5 2018, 10:41:29) \n",
      "[GCC 7.2.1 20171224]\n",
      "['0000', '0001', '0010', '0011', '0100', '0101', '0110', '0111', '1000', '1001', '1010', '1011', '1100', '1101', '1110', '1111']\n",
      "\n",
      "Vertex indices =  {'0110': 6, '0111': 7, '0000': 0, '0001': 1, '0011': 3, '0010': 2, '0101': 5, '0100': 4, '1111': 15, '1110': 14, '1100': 12, '1101': 13, '1010': 10, '1011': 11, '1001': 9, '1000': 8}\n",
      "\n",
      "Index to Vertex =  {0: '0000', 1: '0001', 2: '0010', 3: '0011', 4: '0100', 5: '0101', 6: '0110', 7: '0111', 8: '1000', 9: '1001', 10: '1010', 11: '1011', 12: '1100', 13: '1101', 14: '1110', 15: '1111'}\n",
      "\n",
      "Edges =  [(0, 0), (0, 1), (1, 2), (1, 3), (2, 4), (2, 5), (3, 6), (3, 7), (4, 8), (4, 9), (5, 10), (5, 11), (6, 12), (6, 13), (7, 14), (7, 15), (8, 0), (8, 1), (9, 2), (9, 3), (10, 4), (10, 5), (11, 6), (11, 7), (12, 8), (12, 9), (13, 10), (13, 11), (14, 12), (14, 13), (15, 14), (15, 15)]\n"
     ]
    }
   ],
   "source": [
    "import itertools, sys\n",
    "\n",
    "print(sys.version)\n",
    "\n",
    "binary = [''.join(t) for t in itertools.product('01', repeat=4)]\n",
    "\n",
    "print binary\n",
    "\n",
    "G1 = BasicGraph(binary)\n",
    "for vsrc in binary:\n",
    "    G1.addEdge(vsrc,vsrc[1:]+'0')\n",
    "    G1.addEdge(vsrc,vsrc[1:]+'1')\n",
    "    \n",
    "print\n",
    "print \"Vertex indices = \", G1.index\n",
    "print\n",
    "print \"Index to Vertex = \",G1.vertex\n",
    "print\n",
    "print \"Edges = \", G1.edge"
   ]
  },
  {
   "cell_type": "markdown",
   "metadata": {
    "nbpresent": {
     "id": "790246c1-8315-4f6a-be65-27db50061ac1"
    },
    "slideshow": {
     "slide_type": "fragment"
    }
   },
   "source": [
    "<p style=\"text-align: right; clear: right; margin-right: 200px;\">7</p>"
   ]
  },
  {
   "cell_type": "markdown",
   "metadata": {
    "nbpresent": {
     "id": "14da2e90-25a4-423a-9284-5d0bf8c20bcf"
    },
    "slideshow": {
     "slide_type": "slide"
    }
   },
   "source": [
    "# The resulting graph\n",
    "\n",
    "<img src=\"http://csbio.unc.edu/mcmillan/Comp555S18/Media/superstring.png\" width=\"700\">\n",
    "\n",
    "\n",
    "<p style=\"text-align: right; clear: right; margin-right: 200px;\">8</p>"
   ]
  },
  {
   "cell_type": "markdown",
   "metadata": {
    "nbpresent": {
     "id": "5f5f608b-7d2c-4f2b-9cf6-122664ee7d7e"
    },
    "slideshow": {
     "slide_type": "slide"
    }
   },
   "source": [
    "# The Hamiltonian Path Problem\n",
    "\n",
    "\n",
    "Next, we need an *algorithm* to find a path in a graph that visits every node exactly once, if such a path exists.\n",
    "<br><br>\n",
    "### How?\n",
    "<img src=\"http://csbio.unc.edu/mcmillan/Comp555S18/Media/BruteForce.jpg\">\n",
    "### Approach:\n",
    "* Enumerate every possible path (all permutations of *N* vertices). Python's <code>itertools.permutations()</code> does this.\n",
    "* Verify that there is an edge connecting all *N-1*&nbsp;pairs of adjacent vertices\n",
    "\n",
    "<p style=\"text-align: right; clear: right; margin-right: 200px;\">9</p>"
   ]
  },
  {
   "cell_type": "markdown",
   "metadata": {
    "nbpresent": {
     "id": "e7d1378c-f9d4-405b-9c08-6eaaad3111f7"
    },
    "slideshow": {
     "slide_type": "slide"
    }
   },
   "source": [
    "# All vertex permutations &equals; *every*&nbsp; possible path\n",
    "\n",
    "* A simple graph with 4 vertices\n",
    "\n",
    "<img src=\"http://csbio.unc.edu/mcmillan/Comp555S18/Media/Graph4Nodes.png\" width=\"200\">"
   ]
  },
  {
   "cell_type": "code",
   "execution_count": 5,
   "metadata": {
    "nbpresent": {
     "id": "1945980f-9c92-43f0-8192-d0906626ea54"
    },
    "slideshow": {
     "slide_type": "fragment"
    }
   },
   "outputs": [
    {
     "name": "stdout",
     "output_type": "stream",
     "text": [
      "\n",
      "(1, 2, 3, 4) (1, 2, 4, 3) (1, 3, 2, 4) (1, 3, 4, 2) (1, 4, 2, 3) (1, 4, 3, 2)\n",
      "(2, 1, 3, 4) (2, 1, 4, 3) (2, 3, 1, 4) (2, 3, 4, 1) (2, 4, 1, 3) (2, 4, 3, 1)\n",
      "(3, 1, 2, 4) (3, 1, 4, 2) (3, 2, 1, 4) (3, 2, 4, 1) (3, 4, 1, 2) (3, 4, 2, 1)\n",
      "(4, 1, 2, 3) (4, 1, 3, 2) (4, 2, 1, 3) (4, 2, 3, 1) (4, 3, 1, 2) (4, 3, 2, 1)\n"
     ]
    }
   ],
   "source": [
    "import itertools\n",
    "\n",
    "start = 0\n",
    "for path in itertools.permutations([1,2,3,4]):\n",
    "    if (path[0] != start):\n",
    "        print\n",
    "        start = path[0]\n",
    "    print path,"
   ]
  },
  {
   "cell_type": "markdown",
   "metadata": {
    "nbpresent": {
     "id": "aa8556dc-e3d6-4789-ae4f-2b0ea7b1de67"
    },
    "slideshow": {
     "slide_type": "fragment"
    }
   },
   "source": [
    "Only some of these vertex permutions are actual paths in the graph\n",
    "\n",
    "<p style=\"text-align: right; clear: right; margin-right: 200px;\">10</p>"
   ]
  },
  {
   "cell_type": "markdown",
   "metadata": {
    "nbpresent": {
     "id": "b1c59a58-3b48-4f48-b7d6-e0aae4973686"
    },
    "slideshow": {
     "slide_type": "slide"
    }
   },
   "source": [
    "# A Hamiltonian Path Algorithm\n",
    "\n",
    "* Test each vertex permutation to see if it is a valid path\n",
    "* Let's extend our *BasicGraph* into an *EnhancedGraph* class\n",
    "* Create the superstring graph and find a Hamiltonian Path"
   ]
  },
  {
   "cell_type": "code",
   "execution_count": 11,
   "metadata": {
    "nbpresent": {
     "id": "e6dad450-9a99-4554-8053-b12d6f4e55f9"
    },
    "slideshow": {
     "slide_type": "fragment"
    }
   },
   "outputs": [
    {
     "name": "stdout",
     "output_type": "stream",
     "text": [
      "CPU times: user 31min 55s, sys: 9.21 s, total: 32min 4s\n",
      "Wall time: 31min 54s\n",
      "['0000', '0001', '0010', '0100', '1001', '0011', '0110', '1101', '1010', '0101', '1011', '0111', '1111', '1110', '1100', '1000']\n",
      "0000100110101111000\n"
     ]
    }
   ],
   "source": [
    "import itertools\n",
    "\n",
    "class EnhancedGraph(BasicGraph):\n",
    "    def hamiltonianPath(self):\n",
    "        \"\"\" A Brute-force method for finding a Hamiltonian Path. \n",
    "        Basically, all possible N! paths are enumerated and checked\n",
    "        for edges. Since edges can be reused there are no distictions\n",
    "        made for *which* version of a repeated edge. \"\"\"\n",
    "        for path in itertools.permutations(sorted(self.index.values())):\n",
    "            for i in xrange(len(path)-1):\n",
    "                if ((path[i],path[i+1]) not in self.edge):\n",
    "                    break\n",
    "            else:\n",
    "                return [self.vertex[i] for i in path]\n",
    "        return []\n",
    "    \n",
    "G1 = EnhancedGraph(binary)\n",
    "for vsrc in binary:\n",
    "    G1.addEdge(vsrc,vsrc[1:]+'0')\n",
    "    G1.addEdge(vsrc,vsrc[1:]+'1')\n",
    "\n",
    "# WARNING: takes about 30 mins\n",
    "%time path = G1.hamiltonianPath()\n",
    "print path\n",
    "superstring = path[0] + ''.join([path[i][3] for i in xrange(1,len(path))])\n",
    "print superstring"
   ]
  },
  {
   "cell_type": "markdown",
   "metadata": {
    "nbpresent": {
     "id": "1785d58b-4ebd-41fb-a78e-23794a84703e"
    },
    "slideshow": {
     "slide_type": "fragment"
    }
   },
   "source": [
    "<p style=\"text-align: right; clear: right; margin-right: 200px;\">11</p>"
   ]
  },
  {
   "cell_type": "markdown",
   "metadata": {
    "nbpresent": {
     "id": "0914c85d-899a-4914-a61b-37d7019f7cbf"
    },
    "slideshow": {
     "slide_type": "slide"
    }
   },
   "source": [
    "# Visualizing the result"
   ]
  },
  {
   "cell_type": "markdown",
   "metadata": {
    "nbpresent": {
     "id": "292dbfe8-60e6-47c5-87f0-d39c88952afa"
    },
    "slideshow": {
     "slide_type": "fragment"
    }
   },
   "source": [
    "<img src=\"http://csbio.unc.edu/mcmillan/Comp555S18/Media/superPathV1.png\" width=\"600\">\n",
    "\n",
    "<p style=\"text-align: right; clear: right; margin-right: 200px;\">12</p>"
   ]
  },
  {
   "cell_type": "markdown",
   "metadata": {
    "nbpresent": {
     "id": "2e300183-600d-43d9-8915-b3d9de961d42"
    },
    "slideshow": {
     "slide_type": "slide"
    }
   },
   "source": [
    "# Is this solution unique?\n",
    "\n",
    "<table style=\"border: none;\">\n",
    "<tr style=\"border: none;\">\n",
    "<td style=\"border: none;\">\n",
    "How about the path = \"0000111101001011000\"<br><br>\n",
    "&bullet; Our Hamiltonian path finder produces a single path, if one exists.<br>\n",
    "&bullet; How would you modify it to produce every valid Hamiltonian path?<br>\n",
    "&bullet; How long would that take?<br><br>\n",
    "One of De Bruijn's contributions is that there are:<br><br>\n",
    "$$\\frac{(\\sigma!)^{\\sigma^{k-1}}}{\\sigma^k}$$\n",
    "<br>paths leading to superstrings where $\\sigma = \\left|\\Sigma\\right|$.\n",
    "</td>\n",
    "<td style=\"border: none;\">\n",
    "<img src=\"http://csbio.unc.edu/mcmillan/Comp555S18/Media/superPathV2.png\" width=\"500\">\n",
    "</td>\n",
    "</tr>\n",
    "</table>\n",
    "\n",
    "\n",
    "\n",
    "In our case $\\sigma = 2$ and *k = 4*, so there should be $\\frac{2^{2^3}}{2^4} = 16$ paths (ignoring those that are just different starting points on the same cycle) \n",
    "</div>\n",
    "<p style=\"text-align: right; clear: right; margin-right: 200px;\">13</p>"
   ]
  },
  {
   "cell_type": "markdown",
   "metadata": {
    "nbpresent": {
     "id": "6b4891f6-fa26-409f-9969-3208dc36dc44"
    },
    "slideshow": {
     "slide_type": "slide"
    }
   },
   "source": [
    "# Brute Force is slow!\n",
    "\n",
    "* There are *N!* possible paths for *N* vertices.\n",
    "  - Our 16 vertices give 20,922,789,888,000 possible paths\n",
    "\n",
    "<img src=\"http://csbio.unc.edu/mcmillan/Comp555S18/Media/Maze.gif\" width=\"400\">\n",
    "\n",
    "* There is a fairly simple ***Branch-and-Bound evaluation strategy***\n",
    "  - Grow the path using only *valid* edges\n",
    "* Use recursion to extend paths along graph *edges*\n",
    "* Trick is to maintain two lists:\n",
    "   - The *path so far*, where each adjacent pair of vertices is connected by an edge\n",
    "   - *Unused* vertices. When the unused list becomes empty we've found a path\n",
    "\n",
    "<p style=\"text-align: right; clear: right; margin-right: 200px;\">14</p>"
   ]
  },
  {
   "cell_type": "markdown",
   "metadata": {
    "nbpresent": {
     "id": "cb110f41-4fb2-4733-96d2-ce5b38e75686"
    },
    "slideshow": {
     "slide_type": "slide"
    }
   },
   "source": [
    "# A Branch-and-Bound Hamiltonian Path Finder"
   ]
  },
  {
   "cell_type": "code",
   "execution_count": 7,
   "metadata": {
    "nbpresent": {
     "id": "d6bcdf59-2661-45b0-b11e-1a76a809cca5"
    },
    "slideshow": {
     "slide_type": "fragment"
    }
   },
   "outputs": [
    {
     "name": "stdout",
     "output_type": "stream",
     "text": [
      "10000 loops, best of 3: 134 µs per loop\n",
      "['0000', '0001', '0010', '0100', '1001', '0011', '0110', '1101', '1010', '0101', '1011', '0111', '1111', '1110', '1100', '1000']\n",
      "0000100110101111000\n"
     ]
    }
   ],
   "source": [
    "import itertools\n",
    "\n",
    "class ImprovedGraph(BasicGraph):\n",
    "    def SearchTree(self, path, verticesLeft):\n",
    "        \"\"\" A recursive Branch-and-Bound Hamiltonian Path search. \n",
    "        Paths are extended one node at a time using only available\n",
    "        edges from the graph. \"\"\"\n",
    "        if (len(verticesLeft) == 0):\n",
    "            self.PathV2result = [self.vertex[i] for i in path]\n",
    "            return True\n",
    "        for v in verticesLeft:\n",
    "            if (len(path) == 0) or ((path[-1],v) in self.edge):\n",
    "                if self.SearchTree(path+[v], [r for r in verticesLeft if r != v]):\n",
    "                    return True\n",
    "        return False\n",
    "    def hamiltonianPath(self):\n",
    "        \"\"\" A wrapper function for invoking the Branch-and-Bound \n",
    "        Hamiltonian Path search. \"\"\"\n",
    "        self.PathV2result = []\n",
    "        self.SearchTree([],sorted(self.index.values()))                \n",
    "        return self.PathV2result\n",
    "\n",
    "G1 = ImprovedGraph(binary)\n",
    "for vsrc in binary:\n",
    "    G1.addEdge(vsrc,vsrc[1:]+'0')\n",
    "    G1.addEdge(vsrc,vsrc[1:]+'1')\n",
    "%timeit path = G1.hamiltonianPath()\n",
    "path = G1.hamiltonianPath()\n",
    "print path\n",
    "superstring = path[0] + ''.join([path[i][3] for i in xrange(1,len(path))])\n",
    "print superstring"
   ]
  },
  {
   "cell_type": "markdown",
   "metadata": {
    "nbpresent": {
     "id": "1d37f319-86bd-4168-8182-70748a3597d8"
    },
    "slideshow": {
     "slide_type": "fragment"
    }
   },
   "source": [
    "That's a considerable speed up, but it *still* might be too slow for some graphs ...\n",
    "\n",
    "<p style=\"text-align: right; clear: right; margin-right: 200px;\">15</p>"
   ]
  },
  {
   "cell_type": "markdown",
   "metadata": {
    "nbpresent": {
     "id": "98fa56be-c239-4de9-be11-1775ca5edc4e"
    },
    "slideshow": {
     "slide_type": "slide"
    }
   },
   "source": [
    "# Is there a better Hamiltonian Path Algorithm?\n",
    "* Better in what sense?\n",
    "* Better = number of steps to find a solution are polynomial in either the number of edges or vertices\n",
    "    - Polynomial: ${variable}^{constant}$\n",
    "    - Exponential: ${constant}^{variable}$ or worse, ${variable}^{variable}$\n",
    "    - For example our Brute-Force algorithm was $O(V!) = O(V^V)$ where *V* is the number of vertices in our graph, a problem variable \n",
    "* We can only practically solve only small problems if the algorithm for solving them takes a number of steps that grows exponentially with a problem variable (i.e. the number of vertices), or else be satisfied with heuristic or *approximate* solutions\n",
    "* Can we *prove* that there is no algorithm that can find a Hamiltonian Path in a time that is polynomial in the number of vertices or edges in the graph?\n",
    "    - No one has, and here is a [million-dollar reward](http://www.claymath.org/millennium-problems) if you can!\n",
    "    - If instead of a *brute* who just enumerates all possible answers we knew an *oracle* could just tell us the right answer (i.e. *Nondeterministically*)\n",
    "    - It's easy to verify that an answer is correct in *Polynomial* time.\n",
    "    - A lot of known similar problems will suddenly become solvable using your algorithm\n",
    "\n",
    "<table style=\"border: none;\">\n",
    "<tr style=\"border: none;\">\n",
    "<td style=\"border: none;\"><img src=\"http://csbio.unc.edu/mcmillan/Comp555S18/Media/ComplexityClasses.png\"></td>\n",
    "<td style=\"border: none;\"><img src=\"http://csbio.unc.edu/mcmillan/Comp555S18/Media/ComplexityCollapses.png\"></td>\n",
    "</tr>\n",
    "</table>\n",
    "\n",
    "<p style=\"text-align: right; clear: right; margin-right: 200px;\">16</p>"
   ]
  },
  {
   "cell_type": "markdown",
   "metadata": {
    "nbpresent": {
     "id": "4ee4778d-038b-4fe1-87a2-f3fcab20d310"
    },
    "slideshow": {
     "slide_type": "slide"
    }
   },
   "source": [
    "# De Bruijn's Key Insight\n",
    "\n",
    "<table style=\"border: none;\">\n",
    "    <tbody>\n",
    "    <tr style=\"border: none;\">\n",
    "    <td style=\"border: none; vertical-align: top;\" width=\"50%\">\n",
    "    <div style=\"font-size: 80%;\">\n",
    "    <p>De Bruijn realized that Minimal Superstrings were ***Eulerian cycles*** in a<br> (k−1)-dimensional \"De Bruijn graph\" (i.e. a graph where the desired strings are *edges*, and vertices are the (k-1)-mer suffixes and prefixes of the string set).</p>\n",
    "    <p>He also knew that Euler had an ingenous way to solve this problem.</p>\n",
    "    <p>Recall Euler's desire to counstuct a tour where each bridge was crossed only once.</p>\n",
    "    <ul>\n",
    "    <li style=\"font-size: 100%;\">Start at any vertex *v*, and follow edges until you return to *v*</li>\n",
    "    <li style=\"font-size: 100%;\">As long as there exists any vertex *u* that belongs to the current tour, but has adjacent edges that are not part of the tour\n",
    "      <ul>\n",
    "      <li>Start a new trail from *u*</li>\n",
    "      <li>Following unused edges until returning to *u*</li> \n",
    "      <li>Join the new trail to the original tour</li>\n",
    "      </ul>\n",
    "    </ul>\n",
    "    <p>He didn't solve the general Hamiltonian Path problem, but he was able to remap the Minimal Superstring problem to a simpler problem. Note every Minimal Superstring Problem can be fomulated as a Hamiltonian Path in some graph, but the converse is not true. Instead, he found a clever mapping of every Minimal Superstring Problem to a Eulerian Path problem.<p>\n",
    "    <p>Let's demonstrate using the islands and bridges shown to the right</p>\n",
    "    </div>\n",
    "    </td>\n",
    "    <td style=\"border: none; vertical-align: top;\" width=\"50%\">\n",
    "    <img src=\"http://csbio.unc.edu/mcmillan/Comp555S18/Media/IslandGraph.png\" width=\"400\">\n",
    "    </td>\n",
    "    </tr>\n",
    "    </tbody>\n",
    "</table>\n",
    "\n",
    "<p style=\"text-align: right; clear: right; margin-right: 200px;\">17</p>"
   ]
  },
  {
   "cell_type": "markdown",
   "metadata": {
    "collapsed": true,
    "nbpresent": {
     "id": "213011a9-3675-4e8a-a782-ac13ff3a08ca"
    },
    "slideshow": {
     "slide_type": "slide"
    }
   },
   "source": [
    "# An algorithm for finding an Eulerian cycle\n",
    "\n",
    "Our first path:\n",
    "<img src=\"http://csbio.unc.edu/mcmillan/Comp555S18/Media/EulerTourPart1.png\" width=\"600\">\n",
    "\n",
    "Take a side-trip, and merge it in:\n",
    "<img src=\"http://csbio.unc.edu/mcmillan/Comp555S18/Media/EulerTourPart2.png\" width=\"600\">\n",
    "\n",
    "<p style=\"text-align: right; clear: right; margin-right: 200px;\">18</p>"
   ]
  },
  {
   "cell_type": "markdown",
   "metadata": {
    "nbpresent": {
     "id": "5fa76999-97cb-4fb3-b916-76aa4af16745"
    },
    "slideshow": {
     "slide_type": "slide"
    }
   },
   "source": [
    "# Continue making side trips\n",
    "\n",
    "Merging in a second side-trip:\n",
    "<img src=\"http://csbio.unc.edu/mcmillan/Comp555S18/Media/EulerTourPart3.png\" width=\"600\">\n",
    "\n",
    "Merging in a third side-trip:\n",
    "<img src=\"http://csbio.unc.edu/mcmillan/Comp555S18/Media/EulerTourPart4.png\" width=\"600\">\n",
    "\n",
    "<p style=\"text-align: right; clear: right; margin-right: 200px;\">19</p>"
   ]
  },
  {
   "cell_type": "markdown",
   "metadata": {
    "nbpresent": {
     "id": "f8fdefdd-37a1-46d2-97f7-d6010d40ba67"
    },
    "slideshow": {
     "slide_type": "slide"
    }
   },
   "source": [
    "# Repeat until there are no more side trips to take\n",
    "Merging in a final side-trip:\n",
    "<img src=\"http://csbio.unc.edu/mcmillan/Comp555S18/Media/EulerTourPart5.png\" width=\"600\">\n",
    "\n",
    "This algorithm requires a number of steps that is linear in the number of graph edges, $O(E)$. The number of edges in a general graph is $E = O(V^2)$ (the adjacency matrix tells us this).\n",
    "\n",
    "<p style=\"text-align: right; clear: right; margin-right: 200px;\">20</p>"
   ]
  },
  {
   "cell_type": "markdown",
   "metadata": {
    "nbpresent": {
     "id": "7c5c20ef-1fce-4b05-b2cf-8ac2a572ae48"
    },
    "slideshow": {
     "slide_type": "slide"
    }
   },
   "source": [
    "# Converting to code"
   ]
  },
  {
   "cell_type": "code",
   "execution_count": 18,
   "metadata": {
    "collapsed": true,
    "nbpresent": {
     "id": "b61bb143-a1ab-4128-973a-6dbc83ffa0e5"
    },
    "slideshow": {
     "slide_type": "fragment"
    }
   },
   "outputs": [],
   "source": [
    "    # A new method for our Graph Class\n",
    "    def eulerianPath(self):\n",
    "        graph = [(src,dst) for src,dst in self.edge]\n",
    "        currentVertex = self.verifyAndGetStart()\n",
    "        path = [currentVertex]\n",
    "        # \"next\" is the list index where vertices get inserted into our tour\n",
    "        # it starts at the end (i.e. same as appending), but later \"side-trips\" will insert in the middle\n",
    "        next = 1\n",
    "        while len(graph) > 0:\n",
    "            # follows a path until it ends\n",
    "            for edge in graph:\n",
    "                if (edge[0] == currentVertex):\n",
    "                    currentVertex = edge[1]\n",
    "                    graph.remove(edge)\n",
    "                    path.insert(next, currentVertex)\n",
    "                    next += 1\n",
    "                    break\n",
    "            else:\n",
    "                # Look for side-trips along the path\n",
    "                for edge in graph:\n",
    "                    try:\n",
    "                        # insert our side-trip after the \"u\" vertex that is starts from\n",
    "                        next = path.index(edge[0]) + 1\n",
    "                        currentVertex = edge[0]\n",
    "                        break\n",
    "                    except ValueError:\n",
    "                        continue\n",
    "                else:\n",
    "                    print \"There is no path!\"\n",
    "                    return False\n",
    "        return path"
   ]
  },
  {
   "cell_type": "markdown",
   "metadata": {
    "nbpresent": {
     "id": "4fc15071-e650-4d1a-bff2-501e73f5941a"
    },
    "slideshow": {
     "slide_type": "fragment"
    }
   },
   "source": [
    "Some issues with our code:\n",
    "  * Where do we start our tour? (The mysterious VerifyandGetStart() method)\n",
    "  * Where will it end?\n",
    "  * How do we know that each side-trip will rejoin the graph at the same point where it began?\n",
    "\n",
    "<p style=\"text-align: right; clear: right; margin-right: 200px;\">21</p>"
   ]
  },
  {
   "cell_type": "markdown",
   "metadata": {
    "nbpresent": {
     "id": "f92187fb-73eb-48c8-8060-4e295da9286a"
    },
    "slideshow": {
     "slide_type": "slide"
    }
   },
   "source": [
    "# Euler's Theorems\n",
    "\n",
    "* A graph is balanced if for every vertex the number of incoming edges equals to the number of outgoing edges:\n",
    "\n",
    "$$in(v) = out(v)$$\n",
    "\n",
    "* **Theorem 1:**  A connected graph has a *Eulerian Cycle* if and only if each of its vertices are balanced.\n",
    "  - **Sketch of Proof:**\n",
    "  - In mid-tour of a valid Euler cycle, there must be a path onto an island and another path off\n",
    "  - This is true until no paths exist\n",
    "  - Thus every vertex must be balanced\n",
    "\n",
    "\n",
    "* **Theorem 2**:  A connected graph has an *Eulerian Path* if and only if it contains at exacty two semi-balanced vertices and all others are balanced.\n",
    "  - Exceptions are allowed for the start and end of the tour\n",
    "  - A single start vertex can have one more outgoing path than incoming paths\n",
    "  - A single end vertex can have one more incoming path than outgoing paths \n",
    "\n",
    "$$\\mbox{Semi-balanced vertex: }\\left|in(v) - out(v)\\right| = 1$$\n",
    "\n",
    "  - One of the semi-balanced vertices, with $out(v) = in(v) + 1$ is the start of the tour\n",
    "  - The othersemi-balanced vertex, with $in(v) = out(v) + 1$ is the end of the tour\n",
    "\n",
    "<p style=\"text-align: right; clear: right; margin-right: 200px;\">22</p>"
   ]
  },
  {
   "cell_type": "markdown",
   "metadata": {
    "nbpresent": {
     "id": "c36f9bf0-8850-410a-aa27-7d8b5388b789"
    },
    "slideshow": {
     "slide_type": "slide"
    }
   },
   "source": [
    "# VerifyAndGetStart code"
   ]
  },
  {
   "cell_type": "code",
   "execution_count": 19,
   "metadata": {
    "collapsed": true,
    "nbpresent": {
     "id": "a999ee1a-349c-4030-a617-32699119b21c"
    }
   },
   "outputs": [],
   "source": [
    "    # More new methods for the Graph Class\n",
    "    def degrees(self):\n",
    "        \"\"\" Returns two dictionaries with the inDegree and outDegree\n",
    "        of each node from the graph. \"\"\"\n",
    "        inDegree = {}\n",
    "        outDegree = {}\n",
    "        for src, dst in self.edge:\n",
    "            outDegree[src] = outDegree.get(src, 0) + 1\n",
    "            inDegree[dst] = inDegree.get(dst, 0) + 1\n",
    "        return inDegree, outDegree\n",
    "    def verifyAndGetStart(self):\n",
    "        inDegree, outDegree = self.degrees()\n",
    "        start, end = 0, 0\n",
    "        # node 0 will be the starting node is a Euler cycle is found\n",
    "        for vert in self.vertex.iterkeys():\n",
    "            ins = inDegree.get(vert,0)\n",
    "            outs = outDegree.get(vert,0)\n",
    "            if (ins == outs):\n",
    "                continue\n",
    "            elif (ins - outs == 1):\n",
    "                end = vert\n",
    "            elif (outs - ins == 1):\n",
    "                start = vert\n",
    "            else:\n",
    "                start, end = -1, -1\n",
    "                break\n",
    "        if (start >= 0) and (end >= 0):\n",
    "            return start\n",
    "        else:\n",
    "            return -1"
   ]
  },
  {
   "cell_type": "markdown",
   "metadata": {
    "nbpresent": {
     "id": "41eeb9af-2364-470c-b3f1-15f5b6376873"
    }
   },
   "source": [
    "<p style=\"text-align: right; clear: right; margin-right: 200px;\">23</p>"
   ]
  },
  {
   "cell_type": "markdown",
   "metadata": {
    "nbpresent": {
     "id": "beb5435d-a697-491d-bec7-427714a7f3eb"
    },
    "slideshow": {
     "slide_type": "slide"
    }
   },
   "source": [
    "# A New Graph Class"
   ]
  },
  {
   "cell_type": "code",
   "execution_count": 20,
   "metadata": {
    "collapsed": true,
    "nbpresent": {
     "id": "264e242e-31db-45dd-97de-1bd761dbec53"
    },
    "slideshow": {
     "slide_type": "fragment"
    }
   },
   "outputs": [],
   "source": [
    "import itertools\n",
    "\n",
    "class AwesomeGraph(ImprovedGraph):\n",
    "    def degrees(self):\n",
    "        \"\"\" Returns two dictionaries with the inDegree and outDegree\n",
    "        of each node from the graph. \"\"\"\n",
    "        inDegree = {}\n",
    "        outDegree = {}\n",
    "        for src, dst in self.edge:\n",
    "            outDegree[src] = outDegree.get(src, 0) + 1\n",
    "            inDegree[dst] = inDegree.get(dst, 0) + 1\n",
    "        return inDegree, outDegree\n",
    "    def verifyAndGetStart(self):\n",
    "        inDegree, outDegree = self.degrees()\n",
    "        start = 0\n",
    "        end = 0\n",
    "        for vert in self.vertex.iterkeys():\n",
    "            ins = inDegree.get(vert,0)\n",
    "            outs = outDegree.get(vert,0)\n",
    "            if (ins == outs):\n",
    "                continue\n",
    "            elif (ins - outs == 1):\n",
    "                end = vert\n",
    "            elif (outs - ins == 1):\n",
    "                start = vert\n",
    "            else:\n",
    "                start, end = -1, -1\n",
    "                break\n",
    "        if (start >= 0) and (end >= 0):\n",
    "            return start\n",
    "        else:\n",
    "            return -1\n",
    "    def eulerianPath(self):\n",
    "        graph = [(src,dst) for src,dst in self.edge]\n",
    "        currentVertex = self.verifyAndGetStart()\n",
    "        path = [currentVertex]\n",
    "        # \"next\" is where vertices get inserted into our tour\n",
    "        # it starts at the end (i.e. it is the same as appending),\n",
    "        # but later \"side-trips\" will insert in the middle\n",
    "        next = 1\n",
    "        while len(graph) > 0:\n",
    "            for edge in graph:\n",
    "                if (edge[0] == currentVertex):\n",
    "                    currentVertex = edge[1]\n",
    "                    graph.remove(edge)\n",
    "                    path.insert(next, currentVertex)\n",
    "                    next += 1\n",
    "                    break\n",
    "            else:\n",
    "                for edge in graph:\n",
    "                    try:\n",
    "                        next = path.index(edge[0]) + 1\n",
    "                        currentVertex = edge[0]\n",
    "                        break\n",
    "                    except ValueError:\n",
    "                        continue\n",
    "                else:\n",
    "                    print \"There is no path!\"\n",
    "                    return False\n",
    "        return path\n",
    "    def eulerEdges(self, path):\n",
    "        edgeId = {}\n",
    "        for i in xrange(len(self.edge)):\n",
    "            edgeId[self.edge[i]] = edgeId.get(self.edge[i], []) + [i]\n",
    "        edgeList = []\n",
    "        for i in xrange(len(path)-1):\n",
    "            edgeList.append(self.edgelabel[edgeId[path[i],path[i+1]].pop()])            \n",
    "        return edgeList\n",
    "    def render(self, highlightPath=[]):\n",
    "        \"\"\" Outputs a version of the graph that can be rendered\n",
    "        using graphviz tools (http://www.graphviz.org/).\"\"\"\n",
    "        edgeId = {}\n",
    "        for i in xrange(len(self.edge)):\n",
    "            edgeId[self.edge[i]] = edgeId.get(self.edge[i], []) + [i]\n",
    "        edgeSet = set()\n",
    "        for i in xrange(len(highlightPath)-1):\n",
    "            src = self.index[highlightPath[i]]\n",
    "            dst = self.index[highlightPath[i+1]]\n",
    "            edgeSet.add(edgeId[src,dst].pop())\n",
    "        result = ''\n",
    "        result += 'digraph {\\n'\n",
    "        result += '   graph [nodesep=2, size=\"10,10\"];\\n'\n",
    "        for index, label in self.vertex.iteritems():\n",
    "            result += '    N%d [shape=\"box\", style=\"rounded\", label=\"%s\"];\\n' % (index, label)\n",
    "        for i, e in enumerate(self.edge):\n",
    "            src, dst = e\n",
    "            result += '    N%d -> N%d' % (src, dst)\n",
    "            label = self.edgelabel[i]\n",
    "            if (len(label) > 0):\n",
    "                if (i in edgeSet):\n",
    "                    result += ' [label=\"%s\", penwidth=3.0]' % (label)\n",
    "                else:\n",
    "                    result += ' [label=\"%s\"]' % (label)\n",
    "            elif (i in edgeSet):\n",
    "                result += ' [penwidth=3.0]'                \n",
    "            result += ';\\n'                \n",
    "        result += '    overlap=false;\\n'\n",
    "        result += '}\\n'\n",
    "        return result"
   ]
  },
  {
   "cell_type": "markdown",
   "metadata": {
    "nbpresent": {
     "id": "077eb48d-078d-4ed5-91c0-8c8e67683b2a"
    },
    "slideshow": {
     "slide_type": "fragment"
    }
   },
   "source": [
    "<b>Note:</b> I also added an eulerEdges() method to the class. The Eulerian Path algorithm returns a list of vertices along the path, which is consistent with the Hamiltonian Path algorithm. However, in our case, we are less interested in the series of vertices visited than we are the series of edges. Thus, eulerEdges(), returns the edge labels along a path.\n",
    "\n",
    "<p style=\"text-align: right; clear: right; margin-right: 200px;\">24</p>"
   ]
  },
  {
   "cell_type": "markdown",
   "metadata": {
    "nbpresent": {
     "id": "4fb753ea-6dff-4234-9e8d-dedc79ad230d"
    },
    "slideshow": {
     "slide_type": "slide"
    }
   },
   "source": [
    "# Finding Minimal Superstrings with an Euler Path"
   ]
  },
  {
   "cell_type": "code",
   "execution_count": 23,
   "metadata": {
    "nbpresent": {
     "id": "97ef64d4-3c48-45e9-aa7a-e1edf7b6160f"
    },
    "slideshow": {
     "slide_type": "fragment"
    }
   },
   "outputs": [
    {
     "name": "stdout",
     "output_type": "stream",
     "text": [
      "10000 loops, best of 3: 30.2 µs per loop\n",
      "['000', '001', '010', '011', '100', '101', '110', '111']\n",
      "[0, 0, 1, 3, 7, 7, 6, 5, 3, 6, 4, 1, 2, 5, 2, 4, 0]\n",
      "['0000', '0001', '0011', '0111', '1111', '1110', '1101', '1011', '0110', '1100', '1001', '0010', '0101', '1010', '0100', '1000']\n"
     ]
    }
   ],
   "source": [
    "binary = [''.join(t) for t in itertools.product('01', repeat=4)]\n",
    "\n",
    "nodes = sorted(set([code[:-1] for code in binary] + [code[1:] for code in binary]))\n",
    "G2 = AwesomeGraph(nodes)\n",
    "for code in binary:\n",
    "   # Here I give each edge a label\n",
    "   G2.addEdge(code[:-1],code[1:],code)\n",
    "\n",
    "%timeit path = G2.eulerianPath()\n",
    "print nodes\n",
    "print path\n",
    "print G2.eulerEdges(path)"
   ]
  },
  {
   "cell_type": "markdown",
   "metadata": {
    "nbpresent": {
     "id": "17cff094-7826-4e9c-b276-a212826631f5"
    },
    "slideshow": {
     "slide_type": "fragment"
    }
   },
   "source": [
    "Perhaps we should have called it *WickedAwesomeGraph*!\n",
    "\n",
    "<p style=\"text-align: right; clear: right; margin-right: 200px;\">25</p>"
   ]
  },
  {
   "cell_type": "markdown",
   "metadata": {
    "nbpresent": {
     "id": "3dc7db77-03c5-4609-ace8-938d3033c7cd"
    },
    "slideshow": {
     "slide_type": "slide"
    }
   },
   "source": [
    "# Our graph and its Euler path \n",
    "* In this case our the graph was fully balanced. So the Euler Path is a cycle.\n",
    "* Our tour starts arbitarily with the first vertex, '000'\n",
    "\n",
    "<img src=\"http://csbio.unc.edu/mcmillan/Comp555S18/Media/supereuler.png\" width=\"500\">\n",
    "\n",
    "000 &rarr; 000 &rarr; 001 &rarr; 011 &rarr; 111 &rarr; 111 &rarr; 110 &rarr; 101 &rarr; 011 &rarr; 110 &rarr; 100 &rarr; 001 &rarr; 010 &rarr; 101 &rarr; 010 &rarr; 100 &rarr; 000\n",
    "\n",
    "superstring = \"<code>0000111101100101000</code>\"\n",
    "<p style=\"text-align: right; clear: right; margin-right: 200px;\">26</p>"
   ]
  },
  {
   "cell_type": "markdown",
   "metadata": {
    "nbpresent": {
     "id": "a22e9ef8-3bf9-4fd1-86a9-d536e88b4e1b"
    },
    "slideshow": {
     "slide_type": "slide"
    }
   },
   "source": [
    "# Next Time\n",
    "\n",
    "* We return to genome assembly\n",
    "<img src=\"http://csbio.unc.edu/mcmillan/Comp555S18/Media/Eureka.gif\" width=\"500\">\n",
    "\n",
    "<p style=\"text-align: right; clear: right; margin-right: 200px;\">27</p>"
   ]
  }
 ],
 "metadata": {
  "anaconda-cloud": {},
  "celltoolbar": "Slideshow",
  "kernelspec": {
   "display_name": "Python 2",
   "language": "python",
   "name": "python2"
  },
  "language_info": {
   "codemirror_mode": {
    "name": "ipython",
    "version": 2
   },
   "file_extension": ".py",
   "mimetype": "text/x-python",
   "name": "python",
   "nbconvert_exporter": "python",
   "pygments_lexer": "ipython2",
   "version": "2.7.14"
  },
  "nbpresent": {
   "slides": {
    "04d8c93c-45dd-4582-b5ca-fb1e4d91d719": {
     "id": "04d8c93c-45dd-4582-b5ca-fb1e4d91d719",
     "prev": "ff55470d-523d-4623-a0e6-effed934f61b",
     "regions": {
      "d886d1bc-a03a-4ab8-9ecf-f50306fe50d5": {
       "attrs": {
        "height": 0.96,
        "width": 0.96,
        "x": 0.02,
        "y": 0.02
       },
       "content": {
        "cell": "f92187fb-73eb-48c8-8060-4e295da9286a",
        "part": "whole"
       },
       "id": "d886d1bc-a03a-4ab8-9ecf-f50306fe50d5"
      }
     }
    },
    "05c3af69-bd0b-4cf6-bfa5-6990cdef9b52": {
     "id": "05c3af69-bd0b-4cf6-bfa5-6990cdef9b52",
     "prev": "f9cbaf1e-1683-4436-a1ed-efaa959a838b",
     "regions": {
      "31a0dae7-119b-4530-8da2-a58e1bf79575": {
       "attrs": {
        "height": 0.96,
        "width": 0.96,
        "x": 0.02,
        "y": 0.02
       },
       "content": {
        "cell": "5fa76999-97cb-4fb3-b916-76aa4af16745",
        "part": "whole"
       },
       "id": "31a0dae7-119b-4530-8da2-a58e1bf79575"
      }
     }
    },
    "20895cb3-9e13-4bb5-9feb-43809f37a8c2": {
     "id": "20895cb3-9e13-4bb5-9feb-43809f37a8c2",
     "prev": "e86312f0-79f3-40b6-94f0-c2408aedcc21",
     "regions": {
      "b139fd3f-b9c2-4608-b0bb-8dec32ce2fcf": {
       "attrs": {
        "height": 0.96,
        "width": 0.96,
        "x": 0.02,
        "y": 0.02
       },
       "content": {
        "cell": "2e300183-600d-43d9-8915-b3d9de961d42",
        "part": "whole"
       },
       "id": "b139fd3f-b9c2-4608-b0bb-8dec32ce2fcf"
      }
     }
    },
    "279a01cd-6a75-4a03-bf96-ab18e8e7e988": {
     "id": "279a01cd-6a75-4a03-bf96-ab18e8e7e988",
     "prev": "d4ea117a-c57a-4d8b-acc1-77469cde2dac",
     "regions": {
      "15eb698c-c825-44cf-b8a0-1c85781835b9": {
       "attrs": {
        "height": 0.96,
        "width": 0.96,
        "x": 0.02,
        "y": 0.02
       },
       "content": {
        "cell": "76600d0e-0e9e-4271-a3ea-c22fc4470abe",
        "part": "whole"
       },
       "id": "15eb698c-c825-44cf-b8a0-1c85781835b9"
      }
     }
    },
    "2fbce397-39e5-480e-9104-587ff8189e5b": {
     "id": "2fbce397-39e5-480e-9104-587ff8189e5b",
     "prev": "c1ad1f8b-bcb2-4721-be46-8d10973fb785",
     "regions": {
      "6e2c0ae2-d001-419b-b996-78f5114ac895": {
       "attrs": {
        "height": 0.96,
        "width": 0.96,
        "x": 0.02,
        "y": 0.02
       },
       "content": {
        "cell": "4ee4778d-038b-4fe1-87a2-f3fcab20d310",
        "part": "whole"
       },
       "id": "6e2c0ae2-d001-419b-b996-78f5114ac895"
      }
     }
    },
    "40ce6a34-9f79-4ede-a71c-d2cd8ec447cf": {
     "id": "40ce6a34-9f79-4ede-a71c-d2cd8ec447cf",
     "prev": "279a01cd-6a75-4a03-bf96-ab18e8e7e988",
     "regions": {
      "4f3dd5b1-5cdd-4b8f-a5a3-4d2e1caec61b": {
       "attrs": {
        "height": 0.96,
        "width": 0.96,
        "x": 0.02,
        "y": 0.02
       },
       "content": {
        "cell": "85548a16-98ba-4d43-8840-e18b6d06540d",
        "part": "whole"
       },
       "id": "4f3dd5b1-5cdd-4b8f-a5a3-4d2e1caec61b"
      }
     }
    },
    "439e06e5-6397-4997-a967-7ff26319252f": {
     "id": "439e06e5-6397-4997-a967-7ff26319252f",
     "prev": "40ce6a34-9f79-4ede-a71c-d2cd8ec447cf",
     "regions": {
      "9d85a0fe-4d7b-48b2-98e9-96ffb7d6a85f": {
       "attrs": {
        "height": 0.96,
        "width": 0.96,
        "x": 0.02,
        "y": 0.02
       },
       "content": {
        "cell": "c03ff453-1999-4a32-b43d-c852e59c2ed8",
        "part": "whole"
       },
       "id": "9d85a0fe-4d7b-48b2-98e9-96ffb7d6a85f"
      }
     }
    },
    "47a12331-c8b2-491f-904c-223687acbe9b": {
     "id": "47a12331-c8b2-491f-904c-223687acbe9b",
     "prev": "86b504a8-c29b-443e-9519-21093d4a12c0",
     "regions": {
      "76f7c33e-a660-45b0-ac4c-26e0d60cbb22": {
       "attrs": {
        "height": 0.25649899849222463,
        "width": 0.96,
        "x": 0.02,
        "y": 0.02
       },
       "content": {
        "cell": "9015e773-18fe-4af6-896d-473f0344581f",
        "part": "whole"
       },
       "id": "76f7c33e-a660-45b0-ac4c-26e0d60cbb22"
      },
      "84294a93-c616-4af0-801e-94a88e6ebc51": {
       "attrs": {
        "height": 0.7065821038831746,
        "width": 0.96,
        "x": 0.02,
        "y": 0.2734178961168254
       },
       "content": {
        "cell": "efd7e3ec-c591-41ec-9684-fdb56acba3c9",
        "part": "whole"
       },
       "id": "84294a93-c616-4af0-801e-94a88e6ebc51"
      },
      "d413de35-3942-43f6-8fd0-cbc6fc18892a": {
       "attrs": {
        "height": 0.06886306736156435,
        "width": 0.96,
        "x": 0.02,
        "y": 0.9111369326384356
       },
       "content": {
        "cell": "790246c1-8315-4f6a-be65-27db50061ac1",
        "part": "whole"
       },
       "id": "d413de35-3942-43f6-8fd0-cbc6fc18892a"
      }
     }
    },
    "4cc2e9be-99f0-4f99-b1a0-a2fbec4c1791": {
     "id": "4cc2e9be-99f0-4f99-b1a0-a2fbec4c1791",
     "prev": "4e8563b9-e4a8-4611-be1f-719f9619b2b7",
     "regions": {
      "4db240e8-d3f8-48ae-a67a-faffd0f8b170": {
       "attrs": {
        "height": 0.10953497739370968,
        "width": 0.96,
        "x": 0.02,
        "y": 0.8704650226062903
       },
       "content": {
        "cell": "1d37f319-86bd-4168-8182-70748a3597d8",
        "part": "whole"
       },
       "id": "4db240e8-d3f8-48ae-a67a-faffd0f8b170"
      },
      "7e9ee46b-4232-4eea-9bd1-2a5c2b45aebc": {
       "attrs": {
        "height": 0.7153365306775327,
        "width": 0.96,
        "x": 0.02102784233159607,
        "y": 0.15829952709605571
       },
       "content": {
        "cell": "d6bcdf59-2661-45b0-b11e-1a76a809cca5",
        "part": "whole"
       },
       "id": "7e9ee46b-4232-4eea-9bd1-2a5c2b45aebc"
      },
      "ca81255e-8d93-41f4-98a2-ce86de7ef8a8": {
       "attrs": {
        "height": 0.14138062947145497,
        "width": 0.96,
        "x": 0.02,
        "y": 0.02
       },
       "content": {
        "cell": "cb110f41-4fb2-4733-96d2-ce5b38e75686",
        "part": "whole"
       },
       "id": "ca81255e-8d93-41f4-98a2-ce86de7ef8a8"
      }
     }
    },
    "4e8563b9-e4a8-4611-be1f-719f9619b2b7": {
     "id": "4e8563b9-e4a8-4611-be1f-719f9619b2b7",
     "prev": "20895cb3-9e13-4bb5-9feb-43809f37a8c2",
     "regions": {
      "8f637f47-24b4-498f-9a54-8c08254aba16": {
       "attrs": {
        "height": 0.96,
        "width": 0.96,
        "x": 0.02,
        "y": 0.02
       },
       "content": {
        "cell": "6b4891f6-fa26-409f-9969-3208dc36dc44",
        "part": "whole"
       },
       "id": "8f637f47-24b4-498f-9a54-8c08254aba16"
      }
     }
    },
    "59b984b4-eabd-466a-a192-9174eeacfceb": {
     "id": "59b984b4-eabd-466a-a192-9174eeacfceb",
     "prev": "747c14e0-685f-437e-82ef-753346b7ee49",
     "regions": {
      "dec4bfd8-000a-494d-a568-fbe6d391b12f": {
       "attrs": {
        "height": 0.12733587555903075,
        "width": 0.96,
        "x": 0.02,
        "y": 0.8526641244409693
       },
       "content": {
        "cell": "aa8556dc-e3d6-4789-ae4f-2b0ea7b1de67",
        "part": "whole"
       },
       "id": "dec4bfd8-000a-494d-a568-fbe6d391b12f"
      },
      "e2328431-6aa5-48cb-b3fc-2b3c685cf7e2": {
       "attrs": {
        "height": 0.4593265240451785,
        "width": 0.96,
        "x": 0.02,
        "y": 0.02
       },
       "content": {
        "cell": "e7d1378c-f9d4-405b-9c08-6eaaad3111f7",
        "part": "whole"
       },
       "id": "e2328431-6aa5-48cb-b3fc-2b3c685cf7e2"
      },
      "e7278700-910d-462e-a0c7-0f9d47b73aae": {
       "attrs": {
        "height": 0.5055818535863915,
        "width": 0.96,
        "x": 0.02,
        "y": 0.47441814641360847
       },
       "content": {
        "cell": "1945980f-9c92-43f0-8192-d0906626ea54",
        "part": "whole"
       },
       "id": "e7278700-910d-462e-a0c7-0f9d47b73aae"
      }
     }
    },
    "641aa65a-b1e4-4715-b921-31cbba2a2906": {
     "id": "641aa65a-b1e4-4715-b921-31cbba2a2906",
     "prev": "a0b7c0ea-5e92-4c76-9305-f52775616591",
     "regions": {
      "8ae7cbaf-f780-48ab-94cf-3f626ee6a425": {
       "attrs": {
        "height": 0.6261297459760362,
        "width": 0.96,
        "x": 0.02,
        "y": 0.1651962572337938
       },
       "content": {
        "cell": "264e242e-31db-45dd-97de-1bd761dbec53",
        "part": "source"
       },
       "id": "8ae7cbaf-f780-48ab-94cf-3f626ee6a425"
      },
      "c0c29e74-8a51-422d-91af-f3ed8499de71": {
       "attrs": {
        "height": 0.14426262736724466,
        "width": 0.96,
        "x": 0.02,
        "y": 0.02
       },
       "content": {
        "cell": "beb5435d-a697-491d-bec7-427714a7f3eb",
        "part": "whole"
       },
       "id": "c0c29e74-8a51-422d-91af-f3ed8499de71"
      },
      "f02b3c5f-67b5-4fec-8e6b-a823276337f0": {
       "attrs": {
        "height": 0.18959011143676247,
        "width": 0.96,
        "x": 0.02,
        "y": 0.7904098885632375
       },
       "content": {
        "cell": "077eb48d-078d-4ed5-91c0-8c8e67683b2a",
        "part": "whole"
       },
       "id": "f02b3c5f-67b5-4fec-8e6b-a823276337f0"
      }
     }
    },
    "68e009fc-2dea-44a0-9d3e-c6328107cef9": {
     "id": "68e009fc-2dea-44a0-9d3e-c6328107cef9",
     "prev": "803bdf87-8efa-4cbc-92e9-7ef26f2a6072",
     "regions": {
      "63ab983d-72de-4f4f-a7a2-1195bdd8cfe7": {
       "attrs": {
        "height": 0.96,
        "width": 0.96,
        "x": 0.02,
        "y": 0.02
       },
       "content": {
        "cell": "3dc7db77-03c5-4609-ace8-938d3033c7cd",
        "part": "whole"
       },
       "id": "63ab983d-72de-4f4f-a7a2-1195bdd8cfe7"
      }
     }
    },
    "747c14e0-685f-437e-82ef-753346b7ee49": {
     "id": "747c14e0-685f-437e-82ef-753346b7ee49",
     "prev": "e56f4c4d-8a7e-476b-b93e-cfa5a4af75b6",
     "regions": {
      "74575684-ed66-4464-80f6-44c97bc6f99a": {
       "attrs": {
        "height": 0.96,
        "width": 0.96,
        "x": 0.02,
        "y": 0.02
       },
       "content": {
        "cell": "5f5f608b-7d2c-4f2b-9cf6-122664ee7d7e",
        "part": "whole"
       },
       "id": "74575684-ed66-4464-80f6-44c97bc6f99a"
      }
     }
    },
    "7f8723b3-e86d-4f32-8305-450661058a15": {
     "id": "7f8723b3-e86d-4f32-8305-450661058a15",
     "prev": "59b984b4-eabd-466a-a192-9174eeacfceb",
     "regions": {
      "259b2a25-bfc2-43b4-9d81-bd42a7afa2b6": {
       "attrs": {
        "height": 0.27641924437232945,
        "width": 0.96,
        "x": 0.02,
        "y": 0.02
       },
       "content": {
        "cell": "b1c59a58-3b48-4f48-b7d6-e0aae4973686",
        "part": "whole"
       },
       "id": "259b2a25-bfc2-43b4-9d81-bd42a7afa2b6"
      },
      "5927d2e2-1b3c-4f0a-8a13-eb8a0a55f329": {
       "attrs": {
        "height": 0.06520851684922269,
        "width": 0.96,
        "x": 0.02,
        "y": 0.9147914831507773
       },
       "content": {
        "cell": "1785d58b-4ebd-41fb-a78e-23794a84703e",
        "part": "whole"
       },
       "id": "5927d2e2-1b3c-4f0a-8a13-eb8a0a55f329"
      },
      "b5af426b-3ace-4437-818b-deb1485e921f": {
       "attrs": {
        "height": 0.6903838162863236,
        "width": 0.96,
        "x": 0.02,
        "y": 0.2896161837136762
       },
       "content": {
        "cell": "e6dad450-9a99-4554-8053-b12d6f4e55f9",
        "part": "whole"
       },
       "id": "b5af426b-3ace-4437-818b-deb1485e921f"
      }
     }
    },
    "803bdf87-8efa-4cbc-92e9-7ef26f2a6072": {
     "id": "803bdf87-8efa-4cbc-92e9-7ef26f2a6072",
     "prev": "641aa65a-b1e4-4715-b921-31cbba2a2906",
     "regions": {
      "0e0b07aa-b0e7-4339-8221-d07da8da3f7c": {
       "attrs": {
        "height": 0.12550860030285993,
        "width": 0.96,
        "x": 0.02,
        "y": 0.85449139969714
       },
       "content": {
        "cell": "17cff094-7826-4e9c-b276-a212826631f5",
        "part": "whole"
       },
       "id": "0e0b07aa-b0e7-4339-8221-d07da8da3f7c"
      },
      "3e939a97-47c6-428f-aea7-7c510bae0219": {
       "attrs": {
        "height": 0.699273030740499,
        "width": 0.96,
        "x": 0.02,
        "y": 0.1564722518398849
       },
       "content": {
        "cell": "97ef64d4-3c48-45e9-aa7a-e1edf7b6160f",
        "part": "whole"
       },
       "id": "3e939a97-47c6-428f-aea7-7c510bae0219"
      },
      "66f0e41f-8d6b-4b51-94aa-446b28cd3f55": {
       "attrs": {
        "height": 0.13772613472312872,
        "width": 0.96,
        "x": 0.02,
        "y": 0.02
       },
       "content": {
        "cell": "4fb753ea-6dff-4234-9e8d-dedc79ad230d",
        "part": "whole"
       },
       "id": "66f0e41f-8d6b-4b51-94aa-446b28cd3f55"
      }
     }
    },
    "86b504a8-c29b-443e-9519-21093d4a12c0": {
     "id": "86b504a8-c29b-443e-9519-21093d4a12c0",
     "prev": "439e06e5-6397-4997-a967-7ff26319252f",
     "regions": {
      "1221045c-60c1-4fae-be54-ceed951a0dcd": {
       "attrs": {
        "height": 0.18523524956055862,
        "width": 0.96,
        "x": 0.02,
        "y": 0.02
       },
       "content": {
        "cell": "1554a7dd-f9ab-4fdf-9529-bb7171fd97ca",
        "part": "whole"
       },
       "id": "1221045c-60c1-4fae-be54-ceed951a0dcd"
      },
      "622f7d7f-166a-4946-b084-3d5bc6488bc6": {
       "attrs": {
        "height": 0.07069034261773517,
        "width": 0.96,
        "x": 0.02,
        "y": 0.9093096573822648
       },
       "content": {
        "cell": "edbb873d-6fdf-49ff-aa3a-a42273d7382e",
        "part": "whole"
       },
       "id": "622f7d7f-166a-4946-b084-3d5bc6488bc6"
      },
      "62730450-d79b-46e7-99d7-259f664c7976": {
       "attrs": {
        "height": 0.7687094765339865,
        "width": 0.96,
        "x": 0.02,
        "y": 0.21129052346601349
       },
       "content": {
        "cell": "502bdb68-9784-4fc3-988c-ae3a2952979a",
        "part": "whole"
       },
       "id": "62730450-d79b-46e7-99d7-259f664c7976"
      }
     }
    },
    "86eea233-9d7a-40f8-93be-738c61b894ad": {
     "id": "86eea233-9d7a-40f8-93be-738c61b894ad",
     "prev": "68e009fc-2dea-44a0-9d3e-c6328107cef9",
     "regions": {
      "f865a8f3-1cf6-485b-bb39-273bf7ba0012": {
       "attrs": {
        "height": 0.96,
        "width": 0.96,
        "x": 0.02,
        "y": 0.02
       },
       "content": {
        "cell": "a22e9ef8-3bf9-4fd1-86a9-d536e88b4e1b",
        "part": "whole"
       },
       "id": "f865a8f3-1cf6-485b-bb39-273bf7ba0012"
      }
     }
    },
    "a0b7c0ea-5e92-4c76-9305-f52775616591": {
     "id": "a0b7c0ea-5e92-4c76-9305-f52775616591",
     "prev": "04d8c93c-45dd-4582-b5ca-fb1e4d91d719",
     "regions": {
      "0468aeff-fb09-431e-9e9d-6f2e787a7432": {
       "attrs": {
        "height": 0.13131441577525318,
        "width": 0.96,
        "x": 0.02,
        "y": 0.02
       },
       "content": {
        "cell": "c36f9bf0-8850-410a-aa27-7d8b5388b789",
        "part": "whole"
       },
       "id": "0468aeff-fb09-431e-9e9d-6f2e787a7432"
      },
      "814184e6-d884-4c10-82c0-e66e8fa6afbe": {
       "attrs": {
        "height": 0.7685600734879424,
        "width": 0.96,
        "x": 0.02,
        "y": 0.15039830112866076
       },
       "content": {
        "cell": "a999ee1a-349c-4030-a617-32699119b21c",
        "part": "whole"
       },
       "id": "814184e6-d884-4c10-82c0-e66e8fa6afbe"
      },
      "de4b7cc8-0620-44fe-b603-e67186da7846": {
       "attrs": {
        "height": 0.058258251003706026,
        "width": 0.96,
        "x": 0.02,
        "y": 0.9217417489962939
       },
       "content": {
        "cell": "41eeb9af-2364-470c-b3f1-15f5b6376873",
        "part": "whole"
       },
       "id": "de4b7cc8-0620-44fe-b603-e67186da7846"
      }
     }
    },
    "c1ad1f8b-bcb2-4721-be46-8d10973fb785": {
     "id": "c1ad1f8b-bcb2-4721-be46-8d10973fb785",
     "prev": "4cc2e9be-99f0-4f99-b1a0-a2fbec4c1791",
     "regions": {
      "981599db-cbfc-4d1a-9551-76cb7353733e": {
       "attrs": {
        "height": 0.96,
        "width": 0.96,
        "x": 0.02,
        "y": 0.02
       },
       "content": {
        "cell": "98fa56be-c239-4de9-be11-1775ca5edc4e",
        "part": "whole"
       },
       "id": "981599db-cbfc-4d1a-9551-76cb7353733e"
      }
     }
    },
    "d4ea117a-c57a-4d8b-acc1-77469cde2dac": {
     "id": "d4ea117a-c57a-4d8b-acc1-77469cde2dac",
     "prev": "ffcd6820-6c71-4690-b03e-e1ad5096189a",
     "regions": {
      "1e897624-8ff1-4417-b07c-d6171e8ef3be": {
       "attrs": {
        "height": 0.96,
        "width": 0.96,
        "x": 0.02,
        "y": 0.02
       },
       "content": {
        "cell": "fb572e2b-6e23-4123-9e16-fe3c16fe7177",
        "part": "whole"
       },
       "id": "1e897624-8ff1-4417-b07c-d6171e8ef3be"
      }
     }
    },
    "e56f4c4d-8a7e-476b-b93e-cfa5a4af75b6": {
     "id": "e56f4c4d-8a7e-476b-b93e-cfa5a4af75b6",
     "prev": "47a12331-c8b2-491f-904c-223687acbe9b",
     "regions": {
      "8ed8d68e-914f-4adf-9ee7-7065adf94f64": {
       "attrs": {
        "height": 0.96,
        "width": 0.96,
        "x": 0.02,
        "y": 0.02
       },
       "content": {
        "cell": "14da2e90-25a4-423a-9284-5d0bf8c20bcf",
        "part": "whole"
       },
       "id": "8ed8d68e-914f-4adf-9ee7-7065adf94f64"
      }
     }
    },
    "e86312f0-79f3-40b6-94f0-c2408aedcc21": {
     "id": "e86312f0-79f3-40b6-94f0-c2408aedcc21",
     "prev": "7f8723b3-e86d-4f32-8305-450661058a15",
     "regions": {
      "16679b42-30be-43ff-9b81-87d64263a8b5": {
       "attrs": {
        "height": 0.7540912884256238,
        "width": 0.96,
        "x": 0.02,
        "y": 0.22590871157437625
       },
       "content": {
        "cell": "292dbfe8-60e6-47c5-87f0-d39c88952afa",
        "part": "whole"
       },
       "id": "16679b42-30be-43ff-9b81-87d64263a8b5"
      },
      "bc657e5c-1f7e-403b-8a84-5a38d8a2d18d": {
       "attrs": {
        "height": 0.19985343766892139,
        "width": 0.96,
        "x": 0.02,
        "y": 0.02
       },
       "content": {
        "cell": "0914c85d-899a-4914-a61b-37d7019f7cbf",
        "part": "whole"
       },
       "id": "bc657e5c-1f7e-403b-8a84-5a38d8a2d18d"
      }
     }
    },
    "f9cbaf1e-1683-4436-a1ed-efaa959a838b": {
     "id": "f9cbaf1e-1683-4436-a1ed-efaa959a838b",
     "prev": "2fbce397-39e5-480e-9104-587ff8189e5b",
     "regions": {
      "be0ec96f-67c5-4cdf-bb02-80e13cc45e6c": {
       "attrs": {
        "height": 0.96,
        "width": 0.96,
        "x": 0.02,
        "y": 0.02
       },
       "content": {
        "cell": "213011a9-3675-4e8a-a782-ac13ff3a08ca",
        "part": "whole"
       },
       "id": "be0ec96f-67c5-4cdf-bb02-80e13cc45e6c"
      }
     }
    },
    "fd79e36c-3286-4aa4-a91a-0670e62ee5b5": {
     "id": "fd79e36c-3286-4aa4-a91a-0670e62ee5b5",
     "prev": "05c3af69-bd0b-4cf6-bfa5-6990cdef9b52",
     "regions": {
      "d9f8db87-b921-4805-b7c6-61348e36f823": {
       "attrs": {
        "height": 0.96,
        "width": 0.96,
        "x": 0.02,
        "y": 0.02
       },
       "content": {
        "cell": "f8fdefdd-37a1-46d2-97f7-d6010d40ba67",
        "part": "whole"
       },
       "id": "d9f8db87-b921-4805-b7c6-61348e36f823"
      }
     }
    },
    "ff55470d-523d-4623-a0e6-effed934f61b": {
     "id": "ff55470d-523d-4623-a0e6-effed934f61b",
     "prev": "fd79e36c-3286-4aa4-a91a-0670e62ee5b5",
     "regions": {
      "2b924c62-e4ae-4177-8725-740822966c80": {
       "attrs": {
        "height": 0.6491052363159665,
        "width": 0.96,
        "x": 0.02,
        "y": 0.10896309517944344
       },
       "content": {
        "cell": "b61bb143-a1ab-4128-973a-6dbc83ffa0e5",
        "part": "whole"
       },
       "id": "2b924c62-e4ae-4177-8725-740822966c80"
      },
      "618d2e35-db36-48cc-938f-61147707a945": {
       "attrs": {
        "height": 0.22688504041411706,
        "width": 0.96,
        "x": 0.02,
        "y": 0.7531149595858829
       },
       "content": {
        "cell": "4fc15071-e650-4d1a-bff2-501e73f5941a",
        "part": "whole"
       },
       "id": "618d2e35-db36-48cc-938f-61147707a945"
      },
      "cd02f64b-d7ff-475e-9018-0cf8ff998c2e": {
       "attrs": {
        "height": 0.09021697806268726,
        "width": 0.96,
        "x": 0.02,
        "y": 0.02
       },
       "content": {
        "cell": "7c5c20ef-1fce-4b05-b2cf-8ac2a572ae48",
        "part": "whole"
       },
       "id": "cd02f64b-d7ff-475e-9018-0cf8ff998c2e"
      }
     }
    },
    "ffcd6820-6c71-4690-b03e-e1ad5096189a": {
     "id": "ffcd6820-6c71-4690-b03e-e1ad5096189a",
     "prev": null,
     "regions": {
      "6830d890-198c-4eac-b479-3d5103d7ccf8": {
       "attrs": {
        "height": 0.96,
        "width": 0.96,
        "x": 0.02,
        "y": 0.02
       },
       "content": {
        "cell": "717a1a20-142a-4ea0-a4c1-1d2da104b2bb",
        "part": "source"
       },
       "id": "6830d890-198c-4eac-b479-3d5103d7ccf8"
      }
     }
    }
   },
   "themes": {
    "default": "c8e28dfe-957a-42f5-b521-dd285a09cbc2",
    "theme": {
     "c8e28dfe-957a-42f5-b521-dd285a09cbc2": {
      "backgrounds": {
       "my-background": {
        "background-color": "white"
       }
      },
      "id": "c8e28dfe-957a-42f5-b521-dd285a09cbc2",
      "palette": {
       "black": {
        "id": "black",
        "rgb": [
         0,
         0,
         0
        ]
       },
       "blue": {
        "id": "blue",
        "rgb": [
         0,
         153,
         204
        ]
       },
       "gray": {
        "id": "gray",
        "rgb": [
         128,
         128,
         128
        ]
       },
       "red": {
        "id": "red",
        "rgb": [
         240,
         32,
         32
        ]
       },
       "white": {
        "id": "white",
        "rgb": [
         255,
         255,
         255
        ]
       }
      },
      "rules": {
       "code": {
        "font-size": 1.6
       },
       "h1": {
        "color": "blue",
        "font-size": 5.5,
        "text-align": "center"
       },
       "h2": {
        "color": "blue",
        "font-size": 3,
        "text-align": "center"
       },
       "h3": {
        "color": "black",
        "font-size": 3
       },
       "pre": {
        "font-size": 1.6
       },
       "ul li": {
        "color": "black",
        "font-size": 2.5
       },
       "ul li ul li": {
        "color": "black",
        "font-size": 2
       }
      },
      "text-base": {
       "font-family": "Georgia",
       "font-size": 2.5
      }
     }
    }
   }
  }
 },
 "nbformat": 4,
 "nbformat_minor": 1
}
