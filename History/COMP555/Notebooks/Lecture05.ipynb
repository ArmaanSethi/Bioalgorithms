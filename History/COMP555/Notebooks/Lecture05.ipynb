{
 "cells": [
  {
   "cell_type": "code",
   "execution_count": 5,
   "metadata": {
    "nbpresent": {
     "id": "69c5fea8-11dc-4066-88c6-dbf3b55dff1b"
    },
    "slideshow": {
     "slide_type": "skip"
    }
   },
   "outputs": [
    {
     "data": {
      "application/javascript": [
       "var width = window.innerWidth || document.documentElement.clientWidth || document.body.clientWidth;\n",
       "var height = window.innerHeight || document.documentElement.clientHeight || document.body.clientHeight;\n",
       "\n",
       "IPython.notebook.kernel.execute(\"windowSize = (\" + width + \",\" + height + \")\");\n",
       "// suitable for small screens\n",
       "nbpresent.mode.tree.set(\n",
       "    [\"app\", \"theme-manager\", \"themes\", \"my-theme\"], \n",
       "    {\n",
       "    palette: {\n",
       "        \"blue\": { id: \"blue\", rgb: [0, 153, 204] },\n",
       "        \"black\": { id: \"black\", rgb: [0, 0, 0] },\n",
       "        \"white\": { id: \"white\", rgb: [255, 255, 255] },\n",
       "        \"red\": { id: \"red\", rgb: [240, 32, 32] },\n",
       "        \"gray\": { id: \"gray\", rgb: [128, 128, 128] },\n",
       "    },\n",
       "    backgrounds: {\n",
       "        \"my-background\": {\n",
       "            \"background-color\": \"white\"\n",
       "        }\n",
       "    },\n",
       "    \"text-base\": {\n",
       "        \"font-family\": \"Georgia\",\n",
       "        \"font-size\": 3\n",
       "    },\n",
       "    rules: {\n",
       "        h1: {\n",
       "            \"font-size\": 5.5,\n",
       "            color: \"blue\",\n",
       "            \"text-align\": \"center\"\n",
       "        },\n",
       "        h2: {\n",
       "            \"font-size\": 3,\n",
       "            color: \"blue\",\n",
       "            \"text-align\": \"center\"\n",
       "        },\n",
       "        h3: {\n",
       "            \"font-size\": 3,\n",
       "            color: \"black\",\n",
       "        },\n",
       "        \"ul li\": {\n",
       "            \"font-size\": 3,\n",
       "            color: \"black\"\n",
       "        },\n",
       "        \"ul li ul li\": {\n",
       "            \"font-size\": 2.5,\n",
       "            color: \"black\"\n",
       "        },\n",
       "        \"code\": {\n",
       "            \"font-size\": 2,\n",
       "        },\n",
       "        \"pre\": {\n",
       "            \"font-size\": 2,\n",
       "        }\n",
       "    }\n",
       "});"
      ],
      "text/plain": [
       "<IPython.core.display.Javascript object>"
      ]
     },
     "metadata": {},
     "output_type": "display_data"
    }
   ],
   "source": [
    "%%javascript\n",
    "var width = window.innerWidth || document.documentElement.clientWidth || document.body.clientWidth;\n",
    "var height = window.innerHeight || document.documentElement.clientHeight || document.body.clientHeight;\n",
    "\n",
    "IPython.notebook.kernel.execute(\"windowSize = (\" + width + \",\" + height + \")\");\n",
    "// suitable for small screens\n",
    "nbpresent.mode.tree.set(\n",
    "    [\"app\", \"theme-manager\", \"themes\", \"my-theme\"], \n",
    "    {\n",
    "    palette: {\n",
    "        \"blue\": { id: \"blue\", rgb: [0, 153, 204] },\n",
    "        \"black\": { id: \"black\", rgb: [0, 0, 0] },\n",
    "        \"white\": { id: \"white\", rgb: [255, 255, 255] },\n",
    "        \"red\": { id: \"red\", rgb: [240, 32, 32] },\n",
    "        \"gray\": { id: \"gray\", rgb: [128, 128, 128] },\n",
    "    },\n",
    "    backgrounds: {\n",
    "        \"my-background\": {\n",
    "            \"background-color\": \"white\"\n",
    "        }\n",
    "    },\n",
    "    \"text-base\": {\n",
    "        \"font-family\": \"Georgia\",\n",
    "        \"font-size\": 3\n",
    "    },\n",
    "    rules: {\n",
    "        h1: {\n",
    "            \"font-size\": 5.5,\n",
    "            color: \"blue\",\n",
    "            \"text-align\": \"center\"\n",
    "        },\n",
    "        h2: {\n",
    "            \"font-size\": 3,\n",
    "            color: \"blue\",\n",
    "            \"text-align\": \"center\"\n",
    "        },\n",
    "        h3: {\n",
    "            \"font-size\": 3,\n",
    "            color: \"black\",\n",
    "        },\n",
    "        \"ul li\": {\n",
    "            \"font-size\": 3,\n",
    "            color: \"black\"\n",
    "        },\n",
    "        \"ul li ul li\": {\n",
    "            \"font-size\": 2.5,\n",
    "            color: \"black\"\n",
    "        },\n",
    "        \"code\": {\n",
    "            \"font-size\": 2,\n",
    "        },\n",
    "        \"pre\": {\n",
    "            \"font-size\": 2,\n",
    "        }\n",
    "    }\n",
    "});"
   ]
  },
  {
   "cell_type": "code",
   "execution_count": 6,
   "metadata": {},
   "outputs": [
    {
     "name": "stdout",
     "output_type": "stream",
     "text": [
      "(1303, 838)\n"
     ]
    }
   ],
   "source": [
    "print windowSize"
   ]
  },
  {
   "cell_type": "markdown",
   "metadata": {
    "nbpresent": {
     "id": "797cdc62-4a45-4787-a81b-f0f4c515fb1d"
    },
    "slideshow": {
     "slide_type": "slide"
    }
   },
   "source": [
    "# Finding TFBS Motifs in our Lifetime\n",
    "\n",
    "<img src=\"http://csbio.unc.edu/mcmillan/Comp555S18/Media/LifetimeAchievement.jpg\" width=\"300\" style=\"float: right; clear: right; margin: 24px;\">\n",
    "\n",
    "* Recall from last time that the *Brute Force* approach for finding a common 10-mer motif common to 10 sequences of length 80 bases was going to take up roughly 30,000 years\n",
    "* Today well consider alternative and non-obvious approaches for solving this problem\n",
    "* We will trade one old man (us) for another (an Oracle)\n",
    "\n",
    "<p style=\"text-align: right; clear: right;\">1</p>"
   ]
  },
  {
   "cell_type": "markdown",
   "metadata": {
    "nbpresent": {
     "id": "9703e011-c105-4f0c-8b59-48b6b45c29e9"
    },
    "slideshow": {
     "slide_type": "slide"
    }
   },
   "source": [
    "# Recall from last Lecture\n",
    "\n",
    "* The following set of 10 sequences have an embedded noisy motif, *TAGATCCGAA*.\n",
    "\n",
    "<pre><code>\n",
    " 1 tagtggtcttttgagtg<span style=\"color: blue; font-weight: bold;\">TAGATC<span style=\"color: red; font-weight: bold;\">T</span>GAA</span>gggaaagtatttccaccagttcggggtcacccagcagggcagggtgacttaat   TAGATCTGAA\n",
    " 2 cgcgactcggcgctcacagttatcgcacgtttagaccaaaacggagt<span style=\"color: blue; font-weight: bold;\">T<span style=\"color: red; font-weight: bold;\">G</span>GATCCGAA</span>actggagtttaatcggagtcctt   TGGATCCGAA\n",
    " 3 gttacttgtgagcctggt<span style=\"color: blue; font-weight: bold;\">TAGA<span style=\"color: red; font-weight: bold;\">C</span>CCGAA</span>atataattgttggctgcatagcggagctgacatacgagtaggggaaatgcgt   TAGACCCGAA\n",
    " 4 aacatcaggctttgattaaacaatttaagcacg<span style=\"color: blue; font-weight: bold;\">TA<span style=\"color: red; font-weight: bold;\">A</span>ATCCGAA</span>ttgacctgatgacaatacggaacatgccggctccggg   TAAATCCGAA\n",
    " 5 accaccggataggctgcttat<span style=\"color: blue; font-weight: bold;\">TAG<span style=\"color: red; font-weight: bold;\">G</span>TCC<span style=\"color: red; font-weight: bold;\">A</span>AA</span>aggtagtatcgtaataatggctcagccatgtcaatgtgcggcattccac   TAGGTCCAAA\n",
    " 6 <span style=\"color: blue; font-weight: bold;\">TAGAT<span style=\"color: red; font-weight: bold;\">T</span>CGAA</span>tcgatcgtgtttctccctctgtgggttaacgaggggtccgaccttgctcgcatgtgccgaacttgtaccc   TAGATTCGAA\n",
    " 7 gaaatggttcggtgcgatatcaggccgttctcttaacttggcggtg<span style=\"color: blue; font-weight: bold;\"><span style=\"color: red; font-weight: bold;\">C</span>AGATCCGAA</span>cgtctctggaggggtcgtgcgcta   CAGATCCGAA\n",
    " 8 atgtatactagacattctaacgctcgcttattggcggagaccatttgctccactacaagaggctactgtg<span style=\"color: blue; font-weight: bold;\">TAGATCCG<span style=\"color: red; font-weight: bold;\">T</span>A</span>   TAGATCCGTA\n",
    " 9 ttcttacacccttctt<span style=\"color: blue; font-weight: bold;\">TAGATCC<span style=\"color: red; font-weight: bold;\">A</span>AA</span>cctgttggcgccatcttcttttcgagtccttgtacctccatttgctctgatgac   TAGATCCAAA\n",
    "10 ctacctatgtaaaacaacatctactaacgtagtccggtctttcctgatctgccctaacctacagg<span style=\"color: blue; font-weight: bold;\">T<span style=\"color: red; font-weight: bold;\">C</span>GATCCGAA</span>attcg   TCGATCCGAA\n",
    "                                                                                      9+9+9+9+9\n",
    "                                                                                      +8+9+9+8+10\n",
    "                                                                                      = 89\n",
    "</code></pre>\n",
    "\n",
    "Some notes:\n",
    "1. There are no exact matches\n",
    "2. The consensus motif gives a good score  \n",
    "\n",
    "<p style=\"text-align: right; clear: right;\">2</p>"
   ]
  },
  {
   "cell_type": "markdown",
   "metadata": {
    "nbpresent": {
     "id": "510b7827-fb53-4b26-a26c-ef4381cb9ac7"
    },
    "slideshow": {
     "slide_type": "slide"
    }
   },
   "source": [
    "# Consensus Scoring Function\n",
    "<div>\n",
    "&bullet;&nbsp;We developed an $O(k)$ consensus scoring function to address noise (inexact matches)<br>\n",
    "&bullet;&nbsp;But, we need to apply it an exponential number, $O(N^M)$ of times!<br>\n",
    "&bullet;&nbsp;Here's the scoring function...\n",
    "</div>"
   ]
  },
  {
   "cell_type": "code",
   "execution_count": 7,
   "metadata": {
    "nbpresent": {
     "id": "c7cf6d0b-715d-4280-bcbf-f34a0cf78357"
    },
    "slideshow": {
     "slide_type": "fragment"
    }
   },
   "outputs": [],
   "source": [
    "def Score(s, DNA, k):\n",
    "    \"\"\" \n",
    "        compute the consensus SCORE of a given k-mer \n",
    "        alignment given offsets into each DNA string.\n",
    "            s = list of starting indices, 1-based, 0 means ignore\n",
    "            DNA = list of nucleotide strings\n",
    "            k = Target Motif length\n",
    "    \"\"\"\n",
    "    score = 0\n",
    "    for i in xrange(k):\n",
    "        # loop over string positions\n",
    "        cnt = dict(zip(\"acgt\",(0,0,0,0)))\n",
    "        for j, sval in enumerate(s):\n",
    "            # loop over DNA strands\n",
    "            base = DNA[j][sval+i] \n",
    "            cnt[base] += 1\n",
    "        score += max(cnt.itervalues())\n",
    "    return score"
   ]
  },
  {
   "cell_type": "markdown",
   "metadata": {
    "nbpresent": {
     "id": "ebb9a0c0-745e-4811-abf6-f2cfb56df4ad"
    },
    "slideshow": {
     "slide_type": "fragment"
    }
   },
   "source": [
    "<p style=\"text-align: right; clear: right;\">3</p>"
   ]
  },
  {
   "cell_type": "markdown",
   "metadata": {
    "nbpresent": {
     "id": "263075fc-36be-4a32-9aa6-0956a06dad23"
    },
    "slideshow": {
     "slide_type": "slide"
    }
   },
   "source": [
    "# And here's the Score we're looking for..."
   ]
  },
  {
   "cell_type": "code",
   "execution_count": 8,
   "metadata": {
    "collapsed": true,
    "nbpresent": {
     "id": "5da030fd-dd37-434f-8d77-c4327837d3e4"
    },
    "slideshow": {
     "slide_type": "fragment"
    }
   },
   "outputs": [],
   "source": [
    "seqApprox = [\n",
    "    'tagtggtcttttgagtgtagatctgaagggaaagtatttccaccagttcggggtcacccagcagggcagggtgacttaat',\n",
    "    'cgcgactcggcgctcacagttatcgcacgtttagaccaaaacggagttggatccgaaactggagtttaatcggagtcctt',\n",
    "    'gttacttgtgagcctggttagacccgaaatataattgttggctgcatagcggagctgacatacgagtaggggaaatgcgt',\n",
    "    'aacatcaggctttgattaaacaatttaagcacgtaaatccgaattgacctgatgacaatacggaacatgccggctccggg',\n",
    "    'accaccggataggctgcttattaggtccaaaaggtagtatcgtaataatggctcagccatgtcaatgtgcggcattccac',\n",
    "    'tagattcgaatcgatcgtgtttctccctctgtgggttaacgaggggtccgaccttgctcgcatgtgccgaacttgtaccc',\n",
    "    'gaaatggttcggtgcgatatcaggccgttctcttaacttggcggtgcagatccgaacgtctctggaggggtcgtgcgcta',\n",
    "    'atgtatactagacattctaacgctcgcttattggcggagaccatttgctccactacaagaggctactgtgtagatccgta',\n",
    "    'ttcttacacccttctttagatccaaacctgttggcgccatcttcttttcgagtccttgtacctccatttgctctgatgac',\n",
    "    'ctacctatgtaaaacaacatctactaacgtagtccggtctttcctgatctgccctaacctacaggtcgatccgaaattcg']"
   ]
  },
  {
   "cell_type": "code",
   "execution_count": 9,
   "metadata": {
    "nbpresent": {
     "id": "fa75bf22-6db0-49b7-b1be-9d6bca090cc4"
    },
    "slideshow": {
     "slide_type": "fragment"
    }
   },
   "outputs": [
    {
     "name": "stdout",
     "output_type": "stream",
     "text": [
      "89\n"
     ]
    }
   ],
   "source": [
    "print Score([17, 47, 18, 33, 21, 0, 46, 70, 16, 65], seqApprox, 10)"
   ]
  },
  {
   "cell_type": "code",
   "execution_count": 13,
   "metadata": {
    "nbpresent": {
     "id": "ceb91874-6862-4723-b61f-431468dfaff9"
    },
    "slideshow": {
     "slide_type": "fragment"
    }
   },
   "outputs": [
    {
     "name": "stdout",
     "output_type": "stream",
     "text": [
      "10000 loops, best of 3: 40 µs per loop\n"
     ]
    }
   ],
   "source": [
    "%timeit Score([17, 47, 18, 33, 21, 0, 46, 70, 16, 65], seqApprox, 10)"
   ]
  },
  {
   "cell_type": "markdown",
   "metadata": {
    "nbpresent": {
     "id": "2d359b6d-28d7-4862-a235-f284f16de6b7"
    },
    "slideshow": {
     "slide_type": "fragment"
    }
   },
   "source": [
    "So even at a blazing $40 \\mu s$ we'll need many lifetimes to compute the $70^{10}$ scores \n",
    "\n",
    "<p style=\"text-align: right; clear: right;\">4</p>"
   ]
  },
  {
   "cell_type": "markdown",
   "metadata": {
    "nbpresent": {
     "id": "8b043c85-3c37-4466-9d27-ef9d5859fc31"
    },
    "slideshow": {
     "slide_type": "slide"
    }
   },
   "source": [
    "# Pruning Trees\n",
    "<div style=\"font-size: 80%;\">\n",
    "<img src=\"http://csbio.unc.edu/mcmillan/Comp555S18/Media/PruneTrees.png\" width=\"160\" style=\"float: right; clear: right; margin: 24px;\">\n",
    "&bullet;&nbsp;One method for reducing the computational cost of a search algorithm is to *prune* the space of permutations that could not possibly lead to a better answer than the current best answer.\n",
    "\n",
    "&bullet;&nbsp;Pruning decisions are based on ***solutions to subproblems*** that appear early on and offer no hope\n",
    "\n",
    "&bullet;&nbsp;How does this apply to our Motif finding problem?\n",
    "\n",
    "Consider any permutation of offsets that begins with the indices [25, 63, 10, 43, ....]. Just based on the first 4 indices the largest possible score is 17 + 6*10 = 87, which assumes that all 6 remaining strings match perfectly at all 10 positions.\n",
    "\n",
    "<pre style=\"color: #000080; font-weight: bold;\">\n",
    " DNA[0][25:35]        a  a  g  g  g  a  a  a  g  t\n",
    " DNA[1][63:73]        g  t  t  t  a  a  t  c  g  g\n",
    " DNA[2][10:20]        a  g  c  c  t  g  g  t  t  a\n",
    " DNA[3][43:53]        t  t  g  a  c  c  t  g  a  t\n",
    "                   a [2, 1, 0, 1, 1, 2, 1, 1, 1, 1]\n",
    "       Profile     c [0, 0, 1, 1, 1, 1, 0, 1, 0, 0]\n",
    "                   g [1, 1, 2, 1, 1, 1, 1, 1, 2, 1]\n",
    "                   t [1, 2, 1, 1, 1, 0, 2, 1, 1, 2]\n",
    "                     [2, 2, 2, 1, 1, 2, 2, 1, 2, 2] Score = 17\n",
    "</pre>\n",
    "\n",
    "If the best answer so far is 89, there is no need to consider the 70<sup>6</sup> offset permuations that start with these 4 indices.\n",
    "</div>\n",
    "<p style=\"text-align: right; clear: right;\">5</p>"
   ]
  },
  {
   "cell_type": "markdown",
   "metadata": {
    "nbpresent": {
     "id": "437ae491-55fa-4d61-b478-3dcf633c6d2e"
    },
    "slideshow": {
     "slide_type": "slide"
    }
   },
   "source": [
    "# Search Trees\n",
    "\n",
    "* Our standard method for enumerating permutations can be considered as a traversal of leaf nodes in a search tree\n",
    "* Suppose after checking the first few offsets could know already that *any* score of children nodes could not beat the best score seen so far?\n",
    "\n",
    "<img src=\"http://csbio.unc.edu/mcmillan/Comp555S18/Media/SearchTree.png\" width=\"600\" class=\"centeredImg\">\n",
    "\n",
    "<p style=\"text-align: right; clear: right;\">6</p>"
   ]
  },
  {
   "cell_type": "markdown",
   "metadata": {
    "nbpresent": {
     "id": "9be13730-c626-492a-8e94-a80a0e78e355"
    },
    "slideshow": {
     "slide_type": "slide"
    }
   },
   "source": [
    "# Branch-and-Bound Motif Search\n",
    "\n",
    "<img src=\"http://csbio.unc.edu/mcmillan/Comp555S18/Media/TreeTrim.png\" width=\"400\" style=\"float: right; clear: right; margin: 24px;\">\n",
    "\n",
    "* Since each level of the tree goes deeper into search, discarding a prefix discards all following branches\n",
    "* This saves us from looking at $(N – k + 1)^{M-depth}$ leaves\n",
    "* Note our enumeration of tree-branches is *depth-first*\n",
    "* We'll formulate of trimming algorithm as a recursive algorithm\n",
    "\n",
    "<p style=\"text-align: right; clear: right;\">7</p>"
   ]
  },
  {
   "cell_type": "markdown",
   "metadata": {
    "nbpresent": {
     "id": "6b3ababa-b9a9-48d9-a4de-e396cc66f671"
    },
    "slideshow": {
     "slide_type": "slide"
    }
   },
   "source": [
    "# A Recursive Exploration of a Search Tree"
   ]
  },
  {
   "cell_type": "code",
   "execution_count": 14,
   "metadata": {
    "nbpresent": {
     "id": "9ba1701c-d04d-42b0-bccb-1daf8c06efc3"
    },
    "slideshow": {
     "slide_type": "fragment"
    }
   },
   "outputs": [
    {
     "name": "stdout",
     "output_type": "stream",
     "text": [
      "[17, 47, 18, 33, 21, 0] 53 8615931\n",
      "CPU times: user 5min 17s, sys: 713 ms, total: 5min 18s\n",
      "Wall time: 5min 17s\n"
     ]
    }
   ],
   "source": [
    "bestAlignment = []\n",
    "prunedPaths = 0\n",
    "\n",
    "def exploreMotifs(DNA,k,path,bestScore):\n",
    "    \"\"\" Search for a k-length motif in the list of DNA sequences by exploring\n",
    "        all paths in a search tree. Each call extends path by one. Once the\n",
    "        path reaches the number of DNA strings a score is computed. \"\"\"\n",
    "    global bestAlignment, prunedPaths\n",
    "    depth = len(path)\n",
    "    M = len(DNA)\n",
    "    if (depth == M):            # here we have an index in all M sequences\n",
    "        s = Score(path,DNA,k)\n",
    "        if (s > bestScore):\n",
    "            bestAlignment = [p for p in path]\n",
    "            return s\n",
    "        else:\n",
    "            return bestScore\n",
    "    else:\n",
    "        # Let's consider if an optimistic best score can beat the best score so far\n",
    "        if (depth > 1):\n",
    "            OptimisticScore = k*(M-depth) + Score(path,DNA,k)\n",
    "        else:\n",
    "            OptimisticScore = k*M\n",
    "        if (OptimisticScore < bestScore):\n",
    "            prunedPaths = prunedPaths + 1\n",
    "            return bestScore\n",
    "        else:\n",
    "            for s in xrange(len(DNA[depth])-k+1):\n",
    "                newPath = tuple([i for i in path] + [s])\n",
    "                bestScore = exploreMotifs(DNA,k,newPath,bestScore)\n",
    "            return bestScore\n",
    "\n",
    "def BranchAndBoundMotifSearch(DNA, k):\n",
    "    \"\"\" Finds a k-length motif within a list of DNA sequences\"\"\"\n",
    "    global bestAlignment, prunedPaths\n",
    "    bestAlignment = []\n",
    "    prunedPaths = 0\n",
    "    bestScore = 0\n",
    "    bestScore = exploreMotifs(DNA,k,[],bestScore)\n",
    "    print bestAlignment, bestScore, prunedPaths\n",
    "\n",
    "%time BranchAndBoundMotifSearch(seqApprox[0:6], 10)"
   ]
  },
  {
   "cell_type": "markdown",
   "metadata": {
    "nbpresent": {
     "id": "493767f7-016b-4e07-ad81-4216fab4e9cd"
    },
    "slideshow": {
     "slide_type": "fragment"
    }
   },
   "source": [
    "<p style=\"text-align: right; clear: right;\">8</p>"
   ]
  },
  {
   "cell_type": "markdown",
   "metadata": {
    "nbpresent": {
     "id": "1c088614-aaf4-483f-a829-fe47aba33e3e"
    },
    "slideshow": {
     "slide_type": "slide"
    }
   },
   "source": [
    "# Observations\n",
    "\n",
    "<img src=\"http://csbio.unc.edu/mcmillan/Comp555S18/Media/AWinner.png\" width=\"100\" style=\"float: right; clear: right; margin: 24px;\">\n",
    "\n",
    "* For our problem instance, Branch-and-Bound Motif finding is significantly faster\n",
    "  - It found a motif in the first 6 strings in less time than the Brute Force approach found a solution in the first 4 strings\n",
    "  - More than $70^2 \\approx 5000$ times faster\n",
    "  - It did so by trimming more than 8 Million paths\n",
    "  - Trimming added extra calls to Score (no worse than doubling the worst-case number of calls), but ended up saving even more *hopeless* calls along longer paths.\n",
    "  - In practice, Branch-and-Bound, significantly improved the average performance \n",
    "* Does this improve the worst-case performance from $O(kN^M)$?\n",
    "  - What if all of our motifs were found at the end of each DNA string?\n",
    "  - How do we avoid these worse case data sets?\n",
    "  - Randomize the search-tree tranversal order\n",
    "\n",
    "<p style=\"text-align: right; clear: right;\">9</p>\n"
   ]
  },
  {
   "cell_type": "markdown",
   "metadata": {
    "nbpresent": {
     "id": "f66e940d-b656-4d99-bde0-8fa32aa2ddf7"
    },
    "slideshow": {
     "slide_type": "slide"
    }
   },
   "source": [
    "# We need a new approach\n",
    "\n",
    "<img src=\"http://csbio.unc.edu/mcmillan/Comp555S18/Media/guru.jpg\" width=\"400\" style=\"float: right; clear: right; margin: 24px;\">\n",
    "\n",
    "* Enumerating every possible permuation of motif positions is *still* not getting us the speed we want.\n",
    "* Let's try another tried-and-tested approach to algorithm design, *mixing up the problem*\n",
    "  - Suppose that some *Oracle* could tell us what the motif is\n",
    "  - How long would it take us to find its position in each string?\n",
    "  - We could compute the Hamming Distance from our given motif to the k-mer at every position of each DNA sequence and keep track of the smallest distance and its position on each string.\n",
    "  - These positions are our best guess of where the motif can be found on each string\n",
    "* Let's call this approach *scanning-and-scoring* to find a given motif.\n",
    "\n",
    "<p style=\"text-align: right; clear: right;\">10</p>"
   ]
  },
  {
   "cell_type": "markdown",
   "metadata": {
    "nbpresent": {
     "id": "a5dd0dba-55c4-41c7-a33a-1edc5961260c"
    },
    "slideshow": {
     "slide_type": "slide"
    }
   },
   "source": [
    "# Scanning-and-Scoring a Motif "
   ]
  },
  {
   "cell_type": "code",
   "execution_count": 19,
   "metadata": {},
   "outputs": [
    {
     "name": "stdout",
     "output_type": "stream",
     "text": [
      "aaa\n",
      "aac\n",
      "aag\n",
      "aat\n",
      "aca\n",
      "acc\n",
      "acg\n",
      "act\n",
      "aga\n",
      "agc\n",
      "agg\n",
      "agt\n",
      "ata\n",
      "atc\n",
      "atg\n",
      "att\n",
      "caa\n",
      "cac\n",
      "cag\n",
      "cat\n",
      "cca\n",
      "ccc\n",
      "ccg\n",
      "cct\n",
      "cga\n",
      "cgc\n",
      "cgg\n",
      "cgt\n",
      "cta\n",
      "ctc\n",
      "ctg\n",
      "ctt\n",
      "gaa\n",
      "gac\n",
      "gag\n",
      "gat\n",
      "gca\n",
      "gcc\n",
      "gcg\n",
      "gct\n",
      "gga\n",
      "ggc\n",
      "ggg\n",
      "ggt\n",
      "gta\n",
      "gtc\n",
      "gtg\n",
      "gtt\n",
      "taa\n",
      "tac\n",
      "tag\n",
      "tat\n",
      "tca\n",
      "tcc\n",
      "tcg\n",
      "tct\n",
      "tga\n",
      "tgc\n",
      "tgg\n",
      "tgt\n",
      "tta\n",
      "ttc\n",
      "ttg\n",
      "ttt\n"
     ]
    }
   ],
   "source": [
    "import itertools\n",
    "\n",
    "for pattern in itertools.product('acgt', repeat=3):\n",
    "    print ''.join(pattern)\n"
   ]
  },
  {
   "cell_type": "code",
   "execution_count": 15,
   "metadata": {
    "nbpresent": {
     "id": "32a456e2-931b-40ae-a0d4-5a801dc14b8e"
    },
    "slideshow": {
     "slide_type": "fragment"
    }
   },
   "outputs": [],
   "source": [
    "def ScanAndScoreMotif(DNA, motif):\n",
    "    totalDist = 0\n",
    "    bestAlignment = []\n",
    "    k = len(motif)\n",
    "    for seq in DNA:\n",
    "        minHammingDist = k+1\n",
    "        for s in xrange(len(seq)-k+1):\n",
    "            HammingDist = sum([1 for i in xrange(k) if motif[i] != seq[s+i]])\n",
    "            if (HammingDist < minHammingDist):\n",
    "                bestS = s\n",
    "                minHammingDist = HammingDist\n",
    "        bestAlignment.append(bestS)\n",
    "        totalDist += minHammingDist\n",
    "    return bestAlignment, totalDist"
   ]
  },
  {
   "cell_type": "code",
   "execution_count": 16,
   "metadata": {
    "nbpresent": {
     "id": "66aa237f-3e57-4449-90e2-7b6e7d1988cb"
    },
    "slideshow": {
     "slide_type": "fragment"
    }
   },
   "outputs": [
    {
     "name": "stdout",
     "output_type": "stream",
     "text": [
      "([17, 47, 18, 33, 21, 0, 46, 70, 16, 65], 11)\n",
      "1000 loops, best of 3: 1.4 ms per loop\n"
     ]
    }
   ],
   "source": [
    "print ScanAndScoreMotif(seqApprox, \"tagatccgaa\")\n",
    "%timeit ScanAndScoreMotif(seqApprox, \"tagatccgaa\")"
   ]
  },
  {
   "cell_type": "markdown",
   "metadata": {
    "nbpresent": {
     "id": "e3a05fd6-0849-4f63-bcd4-4ea457b7a12d"
    },
    "slideshow": {
     "slide_type": "fragment"
    }
   },
   "source": [
    "##### Wow, we can test over 650 motifs per second!\n",
    "<p style=\"text-align: right; clear: right;\">11</p>"
   ]
  },
  {
   "cell_type": "markdown",
   "metadata": {
    "nbpresent": {
     "id": "23988de6-0d07-4e38-92ec-54a211822abe"
    },
    "slideshow": {
     "slide_type": "slide"
    }
   },
   "source": [
    "# Scan-and-Score Motif Performance\n",
    "\n",
    "<img src=\"http://csbio.unc.edu/mcmillan/Comp555S18/Media/ConsensusDist.png\" width=\"500\" style=\"float: right; clear: right; margin: 16px;\">\n",
    "\n",
    "* There are $M (N - k + 1)$ positions to test the motif,<br> and each test requires $k$ tests.\n",
    "* So each scan is $O(M N k)$.<br><br>\n",
    "* So where where do we get candidate motifs?\n",
    "* Can we try all of them? There are $4^{10} = 1048576$ in our example.\n",
    "  - Do the math, 1048576 motifs &times; 2 mS  &approx; 35 mins\n",
    "  - Not fast, but less than a lifetime<br><br>\n",
    "* This approach is called a ***Median String Motif Search***\n",
    "* Recall from last Lecture that a string that minimizes *Hamming distance* is like finding a middle or median string that is closer to all instances than the instances are to each other.\n",
    "\n",
    "<p style=\"text-align: right; clear: right;\">12</p>"
   ]
  },
  {
   "cell_type": "markdown",
   "metadata": {
    "nbpresent": {
     "id": "9d13c399-03aa-47d3-807e-30a976f49f6e"
    },
    "slideshow": {
     "slide_type": "slide"
    }
   },
   "source": [
    "# Let's Do It"
   ]
  },
  {
   "cell_type": "code",
   "execution_count": 32,
   "metadata": {
    "nbpresent": {
     "id": "78c98b4a-7586-4fe0-92a0-f31f853bd0ab"
    },
    "slideshow": {
     "slide_type": "fragment"
    }
   },
   "outputs": [
    {
     "name": "stdout",
     "output_type": "stream",
     "text": [
      "CPU times: user 26min 35s, sys: 613 ms, total: 26min 35s\n",
      "Wall time: 26min 35s\n"
     ]
    },
    {
     "data": {
      "text/plain": [
       "([17, 47, 18, 33, 21, 0, 46, 70, 16, 65], 11, 'tagatccgaa')"
      ]
     },
     "execution_count": 32,
     "metadata": {},
     "output_type": "execute_result"
    }
   ],
   "source": [
    "import itertools\n",
    "\n",
    "def MedianStringMotifSearch(DNA,k):\n",
    "    \"\"\" Consider all possible 4**k motifs\"\"\"\n",
    "    bestAlignment = []\n",
    "    minHammingDist = k*len(DNA)\n",
    "    kmer = ''\n",
    "    for pattern in itertools.product('acgt', repeat=k):\n",
    "        motif = ''.join(pattern)\n",
    "        align, dist = ScanAndScoreMotif(DNA, motif)\n",
    "        if (dist < minHammingDist):\n",
    "            bestAlignment = [p for p in align]\n",
    "            minHammingDist = dist\n",
    "            kmer = motif\n",
    "    return bestAlignment, minHammingDist, kmer\n",
    "\n",
    "%time MedianStringMotifSearch(seqApprox,10)"
   ]
  },
  {
   "cell_type": "markdown",
   "metadata": {
    "nbpresent": {
     "id": "991e47c9-eb61-49a5-8013-a29a04e952db"
    },
    "slideshow": {
     "slide_type": "fragment"
    }
   },
   "source": [
    "<span style=\"font-size: 80%;\">Should we declare victory and move on? Do you find anything uncomfortable about an algorithm that requires $O(M N k 4^k)$ steps?</span>\n",
    "\n",
    "<p style=\"text-align: right; clear: right;\">13</p>"
   ]
  },
  {
   "cell_type": "markdown",
   "metadata": {
    "nbpresent": {
     "id": "d9b93ac6-af02-4de2-a26f-9b1b95a5da18"
    },
    "slideshow": {
     "slide_type": "slide"
    }
   },
   "source": [
    "# Notes on Median String Motif Search\n",
    "* Similarities between finding and alignment with minimal Hamming Distance and maximizing a Motif's consensus score.\n",
    "* In fact, if instead of counting mismatches as in the code fragment:\n",
    "     <pre>HammingDist = sum([1 for i in xrange(k) if motif[i] != seq[s+i]])</pre>\n",
    "  we had counted matches\n",
    "     <pre>Matches = sum([1 for i in xrange(k) if motif[i] == seq[s+i]])</pre>\n",
    "  and found the *maximum(TotalMatches)* instead of the *min(TotalHammingDistance)* we would be using the same measure as *Score()*.\n",
    "* Thus, we expect *MedianStringMotifSearch()* to give the same answer as either *BruteForceMotifSearch()* or *BranchAndBoundMotifSearch()*.\n",
    "* However, the $4^k$ term raises some concerns. If k were instead 20, then we'd have to Scan-and-Score more than $10^{12}$ times. Another *not-in-a-lifetime* algorithm\n",
    "* We can also apply the *Branch-and-Bound* approach to the Median string method, but, as before it would only improve the average case.\n",
    "<p style=\"text-align: right; clear: right;\">14</p>"
   ]
  },
  {
   "cell_type": "markdown",
   "metadata": {
    "nbpresent": {
     "id": "2d83de9f-27a2-474f-8016-7da789c2afe3"
    },
    "slideshow": {
     "slide_type": "slide"
    }
   },
   "source": [
    "# Other ways to guess the motif?\n",
    "\n",
    "* If we *knew* that the motif that we are looking for was contained *somewhere* in our DNA sequences we could test the $(N-k+1)t$ motifs from our DNA, giving a $O(N^2t^2)$ algorithm.<br><br>\n",
    "* Unfortunately, as you may recall ***our motif***&nbsp; did not appear actually appear in our data.<br><br>\n",
    "* You could keep track of a few good *motif candidates* using a manageable and perhaps random subsets of the given DNA sequences, and use them as your candidate motifs.\n",
    "\n",
    "<p style=\"text-align: right; clear: right;\">15</p>"
   ]
  },
  {
   "cell_type": "markdown",
   "metadata": {
    "nbpresent": {
     "id": "05e31eb6-3e1e-4d9c-9596-8b479b828cae"
    },
    "slideshow": {
     "slide_type": "slide"
    }
   },
   "source": [
    "# Let's try considering only Motifs seen in the DNA"
   ]
  },
  {
   "cell_type": "code",
   "execution_count": 29,
   "metadata": {
    "nbpresent": {
     "id": "2c7116de-085b-42f5-afd7-115334746080"
    },
    "slideshow": {
     "slide_type": "fragment"
    }
   },
   "outputs": [
    {
     "name": "stdout",
     "output_type": "stream",
     "text": [
      "709 Motifs in our set\n",
      "CPU times: user 1.04 s, sys: 11 ms, total: 1.05 s\n",
      "Wall time: 1.04 s\n"
     ]
    },
    {
     "data": {
      "text/plain": [
       "([17, 31, 18, 33, 21, 0, 46, 70, 16, 65], 17, 'tagatccaaa')"
      ]
     },
     "execution_count": 29,
     "metadata": {},
     "output_type": "execute_result"
    }
   ],
   "source": [
    "def ContainedMotifSearch(DNA,k):\n",
    "    \"\"\" Consider only motifs from the given DNA sequences\"\"\"\n",
    "    motifSet = set()\n",
    "    for seq in DNA:\n",
    "        for i in xrange(len(seq)-k+1):\n",
    "            motifSet.add(seq[i:i+k])\n",
    "    print \"%d Motifs in our set\" % len(motifSet)\n",
    "    bestAlignment = []\n",
    "    minHammingDist = k*len(DNA)\n",
    "    kmer = ''\n",
    "    for motif in motifSet:\n",
    "        align, dist = ScanAndScoreMotif(DNA, motif)\n",
    "        if (dist < minHammingDist):\n",
    "            bestAlignment = [s for s in align]\n",
    "            minHammingDist = dist\n",
    "            kmer = motif\n",
    "    return bestAlignment, minHammingDist, kmer\n",
    "\n",
    "%time ContainedMotifSearch(seqApprox,10)"
   ]
  },
  {
   "cell_type": "markdown",
   "metadata": {
    "nbpresent": {
     "id": "0098dafb-2e63-4102-b8a3-3cebb5527acd"
    },
    "slideshow": {
     "slide_type": "fragment"
    }
   },
   "source": [
    "<span style=\"font-size: 80%;\">Not exactly the motif we were looking for (off by a 'g'),\n",
    "&nbsp;&nbsp;&nbsp;[17, 47, 18, 33, 21, 0, 46, 70, 16, 65], 11, 'tagatcc<span style=\"color: red;\">g</span>aa',\n",
    "but boy was it fast! Where's a good Oracle when you need one?</span>\n",
    "<p style=\"text-align: right; clear: right;\">16</p>"
   ]
  },
  {
   "cell_type": "markdown",
   "metadata": {
    "nbpresent": {
     "id": "6ebb772d-10f7-4150-b96f-534f5b7b785a"
    },
    "slideshow": {
     "slide_type": "slide"
    }
   },
   "source": [
    "# Insights from the consensus score matrix\n",
    "\n",
    "If we call Score([17, 47, 18, 33, 21, 0, 46, 70, 16, 65], seqApprox, 10)\n",
    "\n",
    "<pre style=\"color: #000080; font-weight: bold;\">\n",
    "\n",
    "DNA[0][17:27]    t  a  g  a  t  c  t  g  a  a\n",
    "DNA[1][31:41]    t  a  g  a  c  c  a  a  a  a\n",
    "DNA[2][18:28]    t  a  g  a  c  c  c  g  a  a\n",
    "DNA[3][33:43]    t  a  a  a  t  c  c  g  a  a\n",
    "DNA[4][21:31]    t  a  g  g  t  c  c  a  a  a\n",
    "DNA[5][ 0:10]    t  a  g  a  t  t  c  g  a  a\n",
    "DNA[6][46:56]    c  a  g  a  t  c  c  g  a  a\n",
    "DNA[7][70:80]    t  a  g  a  t  c  c  g  t  a\n",
    "DNA[8][16:26]    t  a  g  a  t  c  c  a  a  a\n",
    "DNA[9][65:75]    t  c  g  a  t  c  c  g  a  a\n",
    "              a [0, 9, 1, 9, 0, 0, 1, 3, 9,10]\n",
    "              c [1, 1, 0, 0, 2, 9, 8, 0, 0, 0]\n",
    "              g [0, 0, 9, 1, 0, 0, 0, 7, 0, 0]\n",
    "              t [9, 0, 0, 0, 8, 1, 1, 0, 1, 0]\n",
    "                [9, 9, 9, 9, 8, 9, 8, 7, 9,10]  Score = 87\n",
    "Consensus        t  a  g  a  t  c  c  g  a  a   Our motif!\n",
    "</pre>\n",
    "\n",
    "Any Ideas?\n",
    "\n",
    "<p style=\"text-align: right; clear: right;\">17</p>"
   ]
  },
  {
   "cell_type": "markdown",
   "metadata": {
    "nbpresent": {
     "id": "79a46ed6-b7d8-4a46-a8f9-1f6d0da9d730"
    },
    "slideshow": {
     "slide_type": "slide"
    }
   },
   "source": [
    "# Contained Consensus Motif Search"
   ]
  },
  {
   "cell_type": "code",
   "execution_count": 30,
   "metadata": {
    "nbpresent": {
     "id": "66af2820-c39b-4538-9894-5da00ae113fc"
    },
    "slideshow": {
     "slide_type": "fragment"
    }
   },
   "outputs": [
    {
     "name": "stdout",
     "output_type": "stream",
     "text": [
      "709 Motifs in our set\n",
      "CPU times: user 1.06 s, sys: 23 ms, total: 1.08 s\n",
      "Wall time: 1.06 s\n"
     ]
    },
    {
     "data": {
      "text/plain": [
       "([17, 47, 18, 33, 21, 0, 46, 70, 16, 65], 11, 'tagatccgaa')"
      ]
     },
     "execution_count": 30,
     "metadata": {},
     "output_type": "execute_result"
    }
   ],
   "source": [
    "def Consensus(s, DNA, k):\n",
    "    \"\"\" compute the consensus k-Motif of an alignment given offsets into each DNA string.\n",
    "            s = list of starting indices, 1-based, 0 means ignore, DNA = list of nucleotide strings,\n",
    "            k = Target Motif length \"\"\"\n",
    "    consensus = ''\n",
    "    for i in xrange(k):\n",
    "        # loop over string positions\n",
    "        cnt = dict(zip(\"acgt\",(0,0,0,0)))\n",
    "        for j, sval in enumerate(s):\n",
    "            # loop over DNA strands\n",
    "            base = DNA[j][sval+i] \n",
    "            cnt[base] += 1\n",
    "        consensus += max(cnt.iteritems(), key=lambda tup: tup[1])[0]\n",
    "    return consensus\n",
    "\n",
    "def ContainedConsensusMotifSearch(DNA,k):\n",
    "    bestAlignment, minHammingDist, kmer = ContainedMotifSearch(DNA,k)\n",
    "    motif = Consensus(bestAlignment,DNA,k)\n",
    "    newAlignment, HammingDist = ScanAndScoreMotif(DNA, motif)\n",
    "    return newAlignment, HammingDist, motif\n",
    "\n",
    "%time ContainedConsensusMotifSearch(seqApprox,10)"
   ]
  },
  {
   "cell_type": "markdown",
   "metadata": {
    "nbpresent": {
     "id": "f732c40c-6d98-4eaa-999a-9618b4e38a2b"
    },
    "slideshow": {
     "slide_type": "fragment"
    }
   },
   "source": [
    "<p style=\"margin-left: 800px;\">Now we're cooking!</p>\n",
    "\n",
    "<p style=\"text-align: right; clear: right;\">18</p>"
   ]
  },
  {
   "cell_type": "markdown",
   "metadata": {
    "nbpresent": {
     "id": "cba52461-f82b-42cb-a0a1-f6f939338630"
    },
    "slideshow": {
     "slide_type": "slide"
    }
   },
   "source": [
    "# Dad, are we there yet?\n",
    "\n",
    "<img src=\"http://csbio.unc.edu/mcmillan/Comp555S18/Media/AreWeThere.jpg\" width=\"350\" style=\"float: right; clear: right; margin: 16px;\">\n",
    "\n",
    "We got the answer that we were looking for, <span style=\"font-size: 200%;\">but</span>\n",
    "\n",
    "* How can we be sure it will always give the correct answer?\n",
    "  - Our other methods were exhaustive, they examined every possibility\n",
    "  - This method considers only a subset of solutions, picks the best one in a *greedy* fashion\n",
    "  - What if there had been ties amoung the candidate motifs?\n",
    "  - What if the consensus score (87% matches) had been lower\n",
    "  - Would we, should we, be satisfied?<br><br>\n",
    "* It's one thing to be greedy, and another to be both *greedy and biased*\n",
    "    - Our method is greedy in that it considers only the best contained motif, greedy methods are subject to falling into *local minimums*\n",
    "    - Since consider only subsequences as motifs we introduce bias<br><br>\n",
    "* Note that Consensus can generate motifs not seen in our data\n",
    "\n",
    "<p style=\"text-align: right; clear: right;\">19</p>"
   ]
  },
  {
   "cell_type": "markdown",
   "metadata": {
    "nbpresent": {
     "id": "a2f1b586-f5af-4532-afc9-fc021d3758f2"
    },
    "slideshow": {
     "slide_type": "slide"
    }
   },
   "source": [
    "# A randomized approach to motif finding\n",
    "\n",
    "<img src=\"http://csbio.unc.edu/mcmillan/Comp555S18/Media/Randomized.png\" width=\"300\" style=\"float: right; clear: right; margin: 16px;\">\n",
    "\n",
    "* One way to avoid bias and local minima is to introduce *randomness*\n",
    "* We can generate candidate motifs from our data by treating it as distribution\n",
    "  - likely motif candidates from this distribution are those generated by Consensus\n",
    "  - Consensus strings can be tested by Scan-and-Score and their alignments lead to new consensus strings\n",
    "  - Eventually, we should converge to some local minimal answer\n",
    "* To avoid finding a local minimum, we try several random starts, and search for the best score amongst all these starts.\n",
    "* A randomized algorithm does not guarantee an optimal solution. Instead it promises a good/plausible answer on average, and it is not susceptible to a worse-case data sets as our greedy/biased method was.\n",
    "\n",
    "<p style=\"text-align: right; clear: right;\">20</p>"
   ]
  },
  {
   "cell_type": "markdown",
   "metadata": {
    "nbpresent": {
     "id": "1d6b6e8f-8f04-419f-afc5-ec66ff6e5982"
    },
    "slideshow": {
     "slide_type": "slide"
    }
   },
   "source": [
    "# Code for Randomized Motif Search"
   ]
  },
  {
   "cell_type": "code",
   "execution_count": 31,
   "metadata": {
    "nbpresent": {
     "id": "4b9a72ad-13d3-4fd7-9ccb-859c2b80fd53"
    },
    "slideshow": {
     "slide_type": "fragment"
    }
   },
   "outputs": [],
   "source": [
    "import random\n",
    "\n",
    "def RandomizedMotifSearch(DNA,k):\n",
    "    \"\"\" Searches for a k-length motif that appears \n",
    "    in all given DNA sequences. It begins with a\n",
    "    random set of candidate consensus motifs \n",
    "    derived from the data. It refines the motif\n",
    "    until a true consensus emerges.\"\"\"\n",
    "    \n",
    "    # Seed motifs from random alignments\n",
    "    motifSet = set()\n",
    "    for i in xrange(500):\n",
    "        randomAlignment = [random.randint(0,len(DNA[j])-k) for j in xrange(len(DNA))]\n",
    "        motif = Consensus(randomAlignment, DNA, k)\n",
    "        motifSet.add(motif)\n",
    "\n",
    "    bestAlignment = []\n",
    "    minHammingDist = k*len(DNA)\n",
    "    kmer = ''\n",
    "    testSet = motifSet.copy()\n",
    "    while (len(testSet) > 0):\n",
    "        print len(motifSet),\n",
    "        nextSet = set()\n",
    "        for motif in testSet:\n",
    "            align, dist = ScanAndScoreMotif(DNA, motif)\n",
    "            # add new motifs based on these alignments\n",
    "            newMotif = Consensus(align, DNA, k)\n",
    "            if (newMotif not in motifSet):\n",
    "                nextSet.add(newMotif)\n",
    "            if (dist < minHammingDist):\n",
    "                bestAlignment = [s for s in align]\n",
    "                minHammingDist = dist\n",
    "                kmer = motif\n",
    "        testSet = nextSet.copy()\n",
    "        motifSet = motifSet | nextSet\n",
    "    return bestAlignment, minHammingDist, kmer"
   ]
  },
  {
   "cell_type": "markdown",
   "metadata": {
    "nbpresent": {
     "id": "0183c52e-289f-4785-a0b5-1009353c40f0"
    }
   },
   "source": [
    "<p style=\"text-align: right; clear: right;\">21</p>"
   ]
  },
  {
   "cell_type": "markdown",
   "metadata": {
    "nbpresent": {
     "id": "7dd38ba2-b31d-4edc-b55b-2cfe0ce50e74"
    }
   },
   "source": [
    "# Let's try it"
   ]
  },
  {
   "cell_type": "code",
   "execution_count": 28,
   "metadata": {
    "nbpresent": {
     "id": "69ec48fd-c5d9-4e1c-a5d6-2c6a35718f62"
    }
   },
   "outputs": [
    {
     "name": "stdout",
     "output_type": "stream",
     "text": [
      "500 749 822 839 842CPU times: user 1.43 s, sys: 23 ms, total: 1.45 s\n",
      "Wall time: 1.56 s\n"
     ]
    },
    {
     "data": {
      "text/plain": [
       "([17, 47, 18, 33, 21, 0, 46, 70, 16, 65], 11, 'tagatccgaa')"
      ]
     },
     "execution_count": 28,
     "metadata": {},
     "output_type": "execute_result"
    },
    {
     "name": "stdout",
     "output_type": "stream",
     "text": [
      "\n"
     ]
    }
   ],
   "source": [
    "%time RandomizedMotifSearch(seqApprox,10)"
   ]
  },
  {
   "cell_type": "markdown",
   "metadata": {
    "nbpresent": {
     "id": "7e6758fd-ab76-4bab-9059-76d633096c4c"
    },
    "slideshow": {
     "slide_type": "fragment"
    }
   },
   "source": [
    "<br>\n",
    "Randomized algorithms should be restarted multiple times to insure a stable solution."
   ]
  },
  {
   "cell_type": "code",
   "execution_count": 29,
   "metadata": {
    "nbpresent": {
     "id": "132b6894-d059-46e0-925f-a2e6192b7ba5"
    },
    "slideshow": {
     "slide_type": "fragment"
    }
   },
   "outputs": [
    {
     "name": "stdout",
     "output_type": "stream",
     "text": [
      "500 751 820 836 837 ([17, 47, 18, 33, 21, 0, 46, 70, 16, 65], 11, 'tagatccgaa')\n",
      "500 750 825 838 844 ([17, 47, 18, 33, 21, 0, 46, 70, 16, 65], 11, 'tagatccgaa')\n",
      "500 755 837 856 859 ([17, 47, 18, 33, 21, 0, 46, 70, 16, 65], 11, 'tagatccgaa')\n",
      "499 745 814 831 834 ([17, 47, 18, 33, 21, 0, 46, 70, 16, 65], 11, 'tagatccgaa')\n",
      "500 760 837 859 862 863 864 ([17, 47, 18, 33, 21, 0, 46, 70, 16, 65], 11, 'tagatccgaa')\n",
      "500 744 813 825 827 ([17, 47, 18, 33, 21, 0, 46, 70, 16, 65], 11, 'tagatccgaa')\n",
      "498 746 830 846 850 851 ([17, 47, 18, 33, 21, 0, 46, 70, 16, 65], 11, 'tagatccgaa')\n",
      "500 766 848 864 866 ([17, 47, 18, 33, 21, 0, 46, 70, 16, 65], 11, 'tagatccgaa')\n",
      "500 728 800 810 811 ([17, 47, 18, 33, 21, 0, 46, 70, 16, 65], 11, 'tagatccgaa')\n",
      "500 750 833 851 852 ([17, 47, 18, 33, 21, 0, 46, 70, 16, 65], 11, 'tagatccgaa')\n"
     ]
    }
   ],
   "source": [
    "for i in xrange(10):\n",
    "    print RandomizedMotifSearch(seqApprox,10)"
   ]
  },
  {
   "cell_type": "markdown",
   "metadata": {
    "nbpresent": {
     "id": "5c9dd46b-6875-4a9c-a320-627978f3b320"
    },
    "slideshow": {
     "slide_type": "fragment"
    }
   },
   "source": [
    "<p style=\"text-align: right; clear: right;\">22</p>"
   ]
  },
  {
   "cell_type": "markdown",
   "metadata": {
    "nbpresent": {
     "id": "3f74af67-1fff-4331-9393-5831c2599b31"
    },
    "slideshow": {
     "slide_type": "slide"
    }
   },
   "source": [
    "# Lessons Learned\n",
    "\n",
    "* We can find Motifs in our lifetime\n",
    "  - Practical exhaustive search algorithm for small k, MedianStringMotifSearch()\n",
    "  - Practical fast algorthim RandomizedMotifSearch(DNA,k)\n",
    "* Three algorithm design approaches \"Branch-and-Bound\", \"Greedy\", and \"Randomized\"\n",
    "* Reversing the objective, pretending that you know the answer, and validating it\n",
    "* The power of randomness\n",
    "  - Not susceptable to worse case data\n",
    "  - Avoids local minimums that plague some greedy algorithms\n",
    "<div align=\"center\">\n",
    "<img width=\"200px\" src=\"http://csbio.unc.edu/mcmillan/Comp555S18/Media/branch.png\" style=\"display: inline;\">\n",
    "<img width=\"200px\" src=\"http://csbio.unc.edu/mcmillan/Comp555S18/Media/greedy.png\" style=\"display: inline;\">\n",
    "<img width=\"200px\" src=\"http://csbio.unc.edu/mcmillan/Comp555S18/Media/random.png\" style=\"display: inline;\">\n",
    "</div>\n",
    "<p style=\"text-align: right; clear: right;\">23</p>"
   ]
  }
 ],
 "metadata": {
  "anaconda-cloud": {},
  "kernelspec": {
   "display_name": "Python 2",
   "language": "python",
   "name": "python2"
  },
  "language_info": {
   "codemirror_mode": {
    "name": "ipython",
    "version": 3
   },
   "file_extension": ".py",
   "mimetype": "text/x-python",
   "name": "python",
   "nbconvert_exporter": "python",
   "pygments_lexer": "ipython3",
   "version": "3.6.4"
  },
  "nbpresent": {
   "slides": {
    "17c95464-2c20-4d1c-95cf-14d1cbe23c1d": {
     "id": "17c95464-2c20-4d1c-95cf-14d1cbe23c1d",
     "prev": "c15551fe-bf63-4ae8-b6e7-2647dd30467e",
     "regions": {
      "05969eac-62ee-438f-9538-c77f8437715b": {
       "attrs": {
        "height": 0.96,
        "width": 0.96,
        "x": 0.02,
        "y": 0.02
       },
       "content": {
        "cell": "2d83de9f-27a2-474f-8016-7da789c2afe3",
        "part": "whole"
       },
       "id": "05969eac-62ee-438f-9538-c77f8437715b"
      }
     }
    },
    "303882a2-e8ab-44dc-8229-86b73c27bff9": {
     "id": "303882a2-e8ab-44dc-8229-86b73c27bff9",
     "prev": "fa2c974b-1d47-4961-98fa-ae7240fb1583",
     "regions": {
      "1f277891-dbf7-46da-a070-a9e0685dc1fd": {
       "attrs": {
        "height": 0.96,
        "width": 0.96,
        "x": 0.02,
        "y": 0.02
       },
       "content": {
        "cell": "cba52461-f82b-42cb-a0a1-f6f939338630",
        "part": "whole"
       },
       "id": "1f277891-dbf7-46da-a070-a9e0685dc1fd"
      }
     }
    },
    "4232473d-6b9f-4b87-8708-63a8ec8b0b8b": {
     "id": "4232473d-6b9f-4b87-8708-63a8ec8b0b8b",
     "prev": "e15e2a04-787d-425b-b6e1-65dd630acf10",
     "regions": {
      "0c110b86-9ec6-4e8c-adfd-1d241b26ae03": {
       "attrs": {
        "height": 0.14806303610612404,
        "width": 0.9600000000000001,
        "x": 0.021795332136445217,
        "y": 0.8255535607420706
       },
       "content": {
        "cell": "2d359b6d-28d7-4862-a235-f284f16de6b7",
        "part": "source"
       },
       "id": "0c110b86-9ec6-4e8c-adfd-1d241b26ae03"
      },
      "2d212bec-3b04-46ef-b914-3ebb302faeab": {
       "attrs": {
        "height": 0.3952298479804664,
        "width": 0.9600000000000001,
        "x": 0.019999999999999976,
        "y": 0.12197342351364891
       },
       "content": {
        "cell": "5da030fd-dd37-434f-8d77-c4327837d3e4",
        "part": "source"
       },
       "id": "2d212bec-3b04-46ef-b914-3ebb302faeab"
      },
      "45be3c58-f5da-4314-a2e2-e5eb3f0a98b9": {
       "attrs": {
        "height": 0.1509036505086774,
        "width": 0.9600000000000001,
        "x": 0.02,
        "y": 0.02
       },
       "content": {
        "cell": "263075fc-36be-4a32-9aa6-0956a06dad23",
        "part": "source"
       },
       "id": "45be3c58-f5da-4314-a2e2-e5eb3f0a98b9"
      },
      "a28bcad1-21db-4c62-ad6f-11f362b845e7": {
       "attrs": {
        "height": 0.16082984240973464,
        "width": 0.9600000000000001,
        "x": 0.02269299820466784,
        "y": 0.5175543586674646
       },
       "content": {
        "cell": "fa75bf22-6db0-49b7-b1be-9d6bca090cc4",
        "part": "whole"
       },
       "id": "a28bcad1-21db-4c62-ad6f-11f362b845e7"
      },
      "e19b924e-dadd-4778-9bd4-3595d0987ad4": {
       "attrs": {
        "height": 0.15125473768202677,
        "width": 0.9600000000000001,
        "x": 0.021795332136445217,
        "y": 0.6723518850987432
       },
       "content": {
        "cell": "ceb91874-6862-4723-b61f-431468dfaff9",
        "part": "whole"
       },
       "id": "e19b924e-dadd-4778-9bd4-3595d0987ad4"
      }
     }
    },
    "4808df96-7ac9-4e4f-899d-f5109ae535b5": {
     "id": "4808df96-7ac9-4e4f-899d-f5109ae535b5",
     "prev": "75f52236-48fd-4ab0-9c03-833b7d688cd7",
     "regions": {
      "321e656b-4ba6-4a4f-a1f8-392769e1b77a": {
       "attrs": {
        "height": 0.1368819251763596,
        "width": 0.9600000000000001,
        "x": 0.02,
        "y": 0.02
       },
       "content": {
        "cell": "a5dd0dba-55c4-41c7-a33a-1edc5961260c",
        "part": "source"
       },
       "id": "321e656b-4ba6-4a4f-a1f8-392769e1b77a"
      },
      "7ab4a044-0f38-49b3-b6be-c3f0be33d24c": {
       "attrs": {
        "height": 0.12319791130330142,
        "width": 0.9600000000000001,
        "x": 0.019999999999999976,
        "y": 0.8520145363328447
       },
       "content": {
        "cell": "e3a05fd6-0849-4f63-bcd4-4ea457b7a12d",
        "part": "source"
       },
       "id": "7ab4a044-0f38-49b3-b6be-c3f0be33d24c"
      },
      "7bda79ec-116a-4d45-9627-c8a8b2665c73": {
       "attrs": {
        "height": 0.21464966446581799,
        "width": 0.9600000000000001,
        "x": 0.020897666068222596,
        "y": 0.6404348693397167
       },
       "content": {
        "cell": "66aa237f-3e57-4449-90e2-7b6e7d1988cb",
        "part": "whole"
       },
       "id": "7bda79ec-116a-4d45-9627-c8a8b2665c73"
      },
      "e51b0aca-61ca-42ed-b6e9-0f4c003dcde6": {
       "attrs": {
        "height": 0.4832751210489093,
        "width": 0.9600000000000001,
        "x": 0.020897666068222596,
        "y": 0.1536169595415556
       },
       "content": {
        "cell": "32a456e2-931b-40ae-a0d4-5a801dc14b8e",
        "part": "source"
       },
       "id": "e51b0aca-61ca-42ed-b6e9-0f4c003dcde6"
      }
     }
    },
    "4a2f5566-096f-42c1-90d1-0b4ce44af821": {
     "id": "4a2f5566-096f-42c1-90d1-0b4ce44af821",
     "prev": "4232473d-6b9f-4b87-8708-63a8ec8b0b8b",
     "regions": {
      "2379007b-3b0f-4bfa-a510-0f25ca30ef51": {
       "attrs": {
        "height": 0.96,
        "width": 0.96,
        "x": 0.02,
        "y": 0.02
       },
       "content": {
        "cell": "8b043c85-3c37-4466-9d27-ef9d5859fc31",
        "part": "source"
       },
       "id": "2379007b-3b0f-4bfa-a510-0f25ca30ef51"
      }
     }
    },
    "6e81d8c4-0b23-4ce6-95f9-a40232f7d0b9": {
     "id": "6e81d8c4-0b23-4ce6-95f9-a40232f7d0b9",
     "prev": "f9375ef5-1a79-4740-9f79-8b5039b30554",
     "regions": {
      "1574c643-fb89-40f9-ac0c-0f6e778a965a": {
       "attrs": {
        "height": 0.96,
        "width": 0.96,
        "x": 0.02,
        "y": 0.02
       },
       "content": {
        "cell": "6ebb772d-10f7-4150-b96f-534f5b7b785a",
        "part": "whole"
       },
       "id": "1574c643-fb89-40f9-ac0c-0f6e778a965a"
      }
     }
    },
    "75f52236-48fd-4ab0-9c03-833b7d688cd7": {
     "id": "75f52236-48fd-4ab0-9c03-833b7d688cd7",
     "prev": "9625c85b-dd51-4c73-b5cc-41172aedbb10",
     "regions": {
      "111a97dc-94ad-4bc5-a1f4-9c2e45474cbe": {
       "attrs": {
        "height": 0.96,
        "width": 0.96,
        "x": 0.02,
        "y": 0.02
       },
       "content": {
        "cell": "f66e940d-b656-4d99-bde0-8fa32aa2ddf7",
        "part": "source"
       },
       "id": "111a97dc-94ad-4bc5-a1f4-9c2e45474cbe"
      }
     }
    },
    "9625c85b-dd51-4c73-b5cc-41172aedbb10": {
     "id": "9625c85b-dd51-4c73-b5cc-41172aedbb10",
     "prev": "9fab2f4e-c55b-496d-8e24-7ed33cbdf7e6",
     "regions": {
      "385c0411-079e-4ccb-a8e8-4eaa42d10ebe": {
       "attrs": {
        "height": 0.96,
        "width": 0.96,
        "x": 0.02,
        "y": 0.02
       },
       "content": {
        "cell": "1c088614-aaf4-483f-a829-fe47aba33e3e",
        "part": "source"
       },
       "id": "385c0411-079e-4ccb-a8e8-4eaa42d10ebe"
      }
     }
    },
    "9744b6f4-3b1b-4705-9c0a-e2383fef44e4": {
     "id": "9744b6f4-3b1b-4705-9c0a-e2383fef44e4",
     "prev": "b40975e5-e016-44d2-8523-a991d7c542b7",
     "regions": {
      "98814bc1-88f0-48ba-8883-122a377ebdc4": {
       "attrs": {
        "height": 0.96,
        "width": 0.96,
        "x": 0.02,
        "y": 0.02
       },
       "content": {
        "cell": "9be13730-c626-492a-8e94-a80a0e78e355",
        "part": "source"
       },
       "id": "98814bc1-88f0-48ba-8883-122a377ebdc4"
      }
     }
    },
    "9fab2f4e-c55b-496d-8e24-7ed33cbdf7e6": {
     "id": "9fab2f4e-c55b-496d-8e24-7ed33cbdf7e6",
     "prev": "9744b6f4-3b1b-4705-9c0a-e2383fef44e4",
     "regions": {
      "5f152109-d376-481f-ae25-e3ba3ff8ab41": {
       "attrs": {
        "height": 0.13356183015069917,
        "width": 0.9615798922800717,
        "x": 0.017834992655459493,
        "y": 0.7919717824565221
       },
       "content": {
        "cell": "9ba1701c-d04d-42b0-bccb-1daf8c06efc3",
        "part": "outputs"
       },
       "id": "5f152109-d376-481f-ae25-e3ba3ff8ab41"
      },
      "6b326014-0733-4f62-9153-9ab71ea77523": {
       "attrs": {
        "height": 0.11260323159784552,
        "width": 0.9600000000000001,
        "x": 0.018204667863554732,
        "y": 0.024787552363854024
       },
       "content": {
        "cell": "6b3ababa-b9a9-48d9-a4de-e396cc66f671",
        "part": "source"
       },
       "id": "6b326014-0733-4f62-9153-9ab71ea77523"
      },
      "8f2a9488-bedc-47d3-aba9-ebe7e20ed223": {
       "attrs": {
        "height": 0.6521487768166403,
        "width": 0.9600000000000001,
        "x": 0.017965970295413768,
        "y": 0.14050922147870082
       },
       "content": {
        "cell": "9ba1701c-d04d-42b0-bccb-1daf8c06efc3",
        "part": "source"
       },
       "id": "8f2a9488-bedc-47d3-aba9-ebe7e20ed223"
      },
      "b6253e3d-ffe3-4d84-b737-cf0004681230": {
       "attrs": {
        "height": 0.05231198882904444,
        "width": 0.9600000000000001,
        "x": 0.02,
        "y": 0.9276880111709556
       },
       "content": {
        "cell": "493767f7-016b-4e07-ad81-4216fab4e9cd",
        "part": "source"
       },
       "id": "b6253e3d-ffe3-4d84-b737-cf0004681230"
      }
     }
    },
    "b40975e5-e016-44d2-8523-a991d7c542b7": {
     "id": "b40975e5-e016-44d2-8523-a991d7c542b7",
     "prev": "4a2f5566-096f-42c1-90d1-0b4ce44af821",
     "regions": {
      "09edca40-da4c-486b-a905-71dd360a2222": {
       "attrs": {
        "height": 0.96,
        "width": 0.96,
        "x": 0.02,
        "y": 0.02
       },
       "content": {
        "cell": "437ae491-55fa-4d61-b478-3dcf633c6d2e",
        "part": "source"
       },
       "id": "09edca40-da4c-486b-a905-71dd360a2222"
      }
     }
    },
    "bda64821-4db1-4fba-990d-ad87754d7d33": {
     "id": "bda64821-4db1-4fba-990d-ad87754d7d33",
     "prev": "c6d32850-7b65-4ab1-948b-39e83e5a1dd7",
     "regions": {
      "285e40ff-adeb-43f3-95ff-199f88a234fa": {
       "attrs": {
        "height": 0.4276522929500344,
        "width": 0.9550308008213553,
        "x": 0.025051334702258732,
        "y": 0.4723477070499658
       },
       "content": {
        "cell": "132b6894-d059-46e0-925f-a2e6192b7ba5",
        "part": "whole"
       },
       "id": "285e40ff-adeb-43f3-95ff-199f88a234fa"
      },
      "8bbca3ad-0e3d-4b31-a320-8572e2e3e232": {
       "attrs": {
        "height": 0.12283823864932712,
        "width": 0.960164271047228,
        "x": 0.021971252566735117,
        "y": 0.35370750627424136
       },
       "content": {
        "cell": "7e6758fd-ab76-4bab-9059-76d633096c4c",
        "part": "source"
       },
       "id": "8bbca3ad-0e3d-4b31-a320-8572e2e3e232"
      },
      "9b176ce8-2e35-43aa-9b62-1067dd56392b": {
       "attrs": {
        "height": 0.07662331736253711,
        "width": 0.96,
        "x": 0.02410677618069817,
        "y": 0.903376682637463
       },
       "content": {
        "cell": "5c9dd46b-6875-4a9c-a320-627978f3b320",
        "part": "source"
       },
       "id": "9b176ce8-2e35-43aa-9b62-1067dd56392b"
      },
      "dc3d2ba9-6572-4fc2-bc91-1c6550a6fa87": {
       "attrs": {
        "height": 0.12769336071184126,
        "width": 0.96,
        "x": 0.02,
        "y": 0.02
       },
       "content": {
        "cell": "7dd38ba2-b31d-4edc-b55b-2cfe0ce50e74",
        "part": "source"
       },
       "id": "dc3d2ba9-6572-4fc2-bc91-1c6550a6fa87"
      },
      "f6c3eabf-66eb-46cc-9e85-0d2fef4142d4": {
       "attrs": {
        "height": 0.2086242299794663,
        "width": 0.9611909650924025,
        "x": 0.02094455852156055,
        "y": 0.14745608031028976
       },
       "content": {
        "cell": "69ec48fd-c5d9-4e1c-a5d6-2c6a35718f62",
        "part": "whole"
       },
       "id": "f6c3eabf-66eb-46cc-9e85-0d2fef4142d4"
      }
     }
    },
    "c0c6a402-883b-4a2a-a83c-da891673e284": {
     "id": "c0c6a402-883b-4a2a-a83c-da891673e284",
     "prev": "4808df96-7ac9-4e4f-899d-f5109ae535b5",
     "regions": {
      "59f08445-ddfa-4dc7-aff9-b79f4b00ee8b": {
       "attrs": {
        "height": 0.96,
        "width": 0.96,
        "x": 0.02,
        "y": 0.02
       },
       "content": {
        "cell": "23988de6-0d07-4e38-92ec-54a211822abe",
        "part": "source"
       },
       "id": "59f08445-ddfa-4dc7-aff9-b79f4b00ee8b"
      }
     }
    },
    "c15551fe-bf63-4ae8-b6e7-2647dd30467e": {
     "id": "c15551fe-bf63-4ae8-b6e7-2647dd30467e",
     "prev": "c3b7f8a8-508a-4a39-8261-793db2d67410",
     "regions": {
      "cfc20873-61b5-4c05-8539-b5766d9510e4": {
       "attrs": {
        "height": 0.96,
        "width": 0.96,
        "x": 0.02,
        "y": 0.02
       },
       "content": {
        "cell": "d9b93ac6-af02-4de2-a26f-9b1b95a5da18",
        "part": "whole"
       },
       "id": "cfc20873-61b5-4c05-8539-b5766d9510e4"
      }
     }
    },
    "c3b7f8a8-508a-4a39-8261-793db2d67410": {
     "id": "c3b7f8a8-508a-4a39-8261-793db2d67410",
     "prev": "c0c6a402-883b-4a2a-a83c-da891673e284",
     "regions": {
      "2cb5c03c-9272-408c-a71b-7004bca740f9": {
       "attrs": {
        "height": 0.17516105614668248,
        "width": 0.96,
        "x": 0.02,
        "y": 0.8048389438533176
       },
       "content": {
        "cell": "991e47c9-eb61-49a5-8013-a29a04e952db",
        "part": "whole"
       },
       "id": "2cb5c03c-9272-408c-a71b-7004bca740f9"
      },
      "4f7051ae-d760-487a-81a2-e043877a4efb": {
       "attrs": {
        "height": 0.6843598199655695,
        "width": 0.96,
        "x": 0.020000000000000025,
        "y": 0.12860224420799374
       },
       "content": {
        "cell": "78c98b4a-7586-4fe0-92a0-f31f853bd0ab",
        "part": "whole"
       },
       "id": "4f7051ae-d760-487a-81a2-e043877a4efb"
      },
      "5153adfc-1f0d-4212-b772-0559f7eafc31": {
       "attrs": {
        "height": 0.12969696969696962,
        "width": 0.96,
        "x": 0.02,
        "y": 0.02
       },
       "content": {
        "cell": "9d13c399-03aa-47d3-807e-30a976f49f6e",
        "part": "whole"
       },
       "id": "5153adfc-1f0d-4212-b772-0559f7eafc31"
      }
     }
    },
    "c6d32850-7b65-4ab1-948b-39e83e5a1dd7": {
     "id": "c6d32850-7b65-4ab1-948b-39e83e5a1dd7",
     "prev": "cbb80288-7cc6-4c26-826b-a522a6487287",
     "regions": {
      "14dad939-61e3-4b94-a430-52bb4b22c5b4": {
       "attrs": {
        "height": 0.716039242527949,
        "width": 0.9611909650924025,
        "x": 0.024024640657084196,
        "y": 0.14745608031028976
       },
       "content": {
        "cell": "4b9a72ad-13d3-4fd7-9ccb-859c2b80fd53",
        "part": "source"
       },
       "id": "14dad939-61e3-4b94-a430-52bb4b22c5b4"
      },
      "721196bd-94d7-40e9-b519-0657715728e5": {
       "attrs": {
        "height": 0.12769336071184126,
        "width": 0.96,
        "x": 0.02,
        "y": 0.02
       },
       "content": {
        "cell": "1d6b6e8f-8f04-419f-afc5-ec66ff6e5982",
        "part": "whole"
       },
       "id": "721196bd-94d7-40e9-b519-0657715728e5"
      },
      "c06c9d97-087b-4956-b691-6eed41d22642": {
       "attrs": {
        "height": 0.11312799452429846,
        "width": 0.96,
        "x": 0.02410677618069817,
        "y": 0.8668720054757015
       },
       "content": {
        "cell": "0183c52e-289f-4785-a0b5-1009353c40f0",
        "part": "source"
       },
       "id": "c06c9d97-087b-4956-b691-6eed41d22642"
      }
     }
    },
    "cbb80288-7cc6-4c26-826b-a522a6487287": {
     "id": "cbb80288-7cc6-4c26-826b-a522a6487287",
     "prev": "303882a2-e8ab-44dc-8229-86b73c27bff9",
     "regions": {
      "bf513757-4a09-45a3-9c05-8064f9521fad": {
       "attrs": {
        "height": 0.96,
        "width": 0.96,
        "x": 0.02,
        "y": 0.02
       },
       "content": {
        "cell": "a2f1b586-f5af-4532-afc9-fc021d3758f2",
        "part": "whole"
       },
       "id": "bf513757-4a09-45a3-9c05-8064f9521fad"
      }
     }
    },
    "d0497eb9-c9e3-4fea-97a6-48c7c5c24bfb": {
     "id": "d0497eb9-c9e3-4fea-97a6-48c7c5c24bfb",
     "prev": null,
     "regions": {
      "eaea3779-1618-49d9-bb62-d40bf5ce62e9": {
       "attrs": {
        "height": 0.96,
        "width": 0.96,
        "x": 0.02,
        "y": 0.02
       },
       "content": {
        "cell": "797cdc62-4a45-4787-a81b-f0f4c515fb1d",
        "part": "source"
       },
       "id": "eaea3779-1618-49d9-bb62-d40bf5ce62e9"
      }
     }
    },
    "d3d70e98-2032-414a-906e-38446e569abd": {
     "id": "d3d70e98-2032-414a-906e-38446e569abd",
     "prev": "bda64821-4db1-4fba-990d-ad87754d7d33",
     "regions": {
      "ad135178-c24f-4a37-8663-3da1e5287795": {
       "attrs": {
        "height": 0.96,
        "width": 0.96,
        "x": 0.02,
        "y": 0.02
       },
       "content": {
        "cell": "3f74af67-1fff-4331-9393-5831c2599b31",
        "part": "whole"
       },
       "id": "ad135178-c24f-4a37-8663-3da1e5287795"
      }
     }
    },
    "e15e2a04-787d-425b-b6e1-65dd630acf10": {
     "id": "e15e2a04-787d-425b-b6e1-65dd630acf10",
     "prev": "fc93ea6f-bb3d-4093-980c-696fe3e7d36a",
     "regions": {
      "6008c0fc-0693-4cee-996f-9773df435816": {
       "attrs": {
        "height": 0.1,
        "width": 0.96,
        "x": 0.02,
        "y": 0.88
       },
       "content": {
        "cell": "ebb9a0c0-745e-4811-abf6-f2cfb56df4ad",
        "part": "source"
       },
       "id": "6008c0fc-0693-4cee-996f-9773df435816"
      },
      "94cfcedf-3d1f-4a67-a1b4-452a2a6c6f26": {
       "attrs": {
        "height": 0.3,
        "width": 0.96,
        "x": 0.02,
        "y": 0.02
       },
       "content": {
        "cell": "510b7827-fb53-4b26-a26c-ef4381cb9ac7",
        "part": "source"
       },
       "id": "94cfcedf-3d1f-4a67-a1b4-452a2a6c6f26"
      },
      "a84f9496-1d23-49f8-9760-379f93d89606": {
       "attrs": {
        "height": 0.56,
        "width": 0.96,
        "x": 0.02,
        "y": 0.32
       },
       "content": {
        "cell": "c7cf6d0b-715d-4280-bcbf-f34a0cf78357",
        "part": "whole"
       },
       "id": "a84f9496-1d23-49f8-9760-379f93d89606"
      }
     }
    },
    "f9375ef5-1a79-4740-9f79-8b5039b30554": {
     "id": "f9375ef5-1a79-4740-9f79-8b5039b30554",
     "prev": "17c95464-2c20-4d1c-95cf-14d1cbe23c1d",
     "regions": {
      "53358072-e5e3-4740-9fcd-243adc6425ed": {
       "attrs": {
        "height": 0.720930869267625,
        "width": 0.96,
        "x": 0.021026694045174557,
        "y": 0.12400182523385808
       },
       "content": {
        "cell": "2c7116de-085b-42f5-afd7-115334746080",
        "part": "whole"
       },
       "id": "53358072-e5e3-4740-9fcd-243adc6425ed"
      },
      "7e384512-de93-474c-a931-b91f826f0c2f": {
       "attrs": {
        "height": 0.14050650239561946,
        "width": 0.96,
        "x": 0.020000000000000018,
        "y": 0.8449691991786448
       },
       "content": {
        "cell": "0098dafb-2e63-4102-b8a3-3cebb5527acd",
        "part": "whole"
       },
       "id": "7e384512-de93-474c-a931-b91f826f0c2f"
      },
      "ada20b93-d8ec-46a5-b329-fb037cef247b": {
       "attrs": {
        "height": 0.12039242527948897,
        "width": 0.96,
        "x": 0.02,
        "y": 0.02
       },
       "content": {
        "cell": "05e31eb6-3e1e-4d9c-9596-8b479b828cae",
        "part": "whole"
       },
       "id": "ada20b93-d8ec-46a5-b329-fb037cef247b"
      }
     }
    },
    "fa2c974b-1d47-4961-98fa-ae7240fb1583": {
     "id": "fa2c974b-1d47-4961-98fa-ae7240fb1583",
     "prev": "6e81d8c4-0b23-4ce6-95f9-a40232f7d0b9",
     "regions": {
      "32e5418a-189d-4d7a-835b-bd4ea34f63ea": {
       "attrs": {
        "height": 0.13316906228610545,
        "width": 0.96,
        "x": 0.02,
        "y": 0.02
       },
       "content": {
        "cell": "79a46ed6-b7d8-4a46-a8f9-1f6d0da9d730",
        "part": "whole"
       },
       "id": "32e5418a-189d-4d7a-835b-bd4ea34f63ea"
      },
      "687c4727-3a02-4cee-b726-d240108faf28": {
       "attrs": {
        "height": 0.6570476842345426,
        "width": 0.96,
        "x": 0.020000000000000018,
        "y": 0.12035135751768196
       },
       "content": {
        "cell": "66af2820-c39b-4538-9894-5da00ae113fc",
        "part": "whole"
       },
       "id": "687c4727-3a02-4cee-b726-d240108faf28"
      },
      "c4810f98-b847-4fe5-9e14-73403a7a95f0": {
       "attrs": {
        "height": 0.2007392197125257,
        "width": 0.96,
        "x": 0.02,
        "y": 0.7792607802874744
       },
       "content": {
        "cell": "f732c40c-6d98-4eaa-999a-9618b4e38a2b",
        "part": "whole"
       },
       "id": "c4810f98-b847-4fe5-9e14-73403a7a95f0"
      }
     }
    },
    "fc93ea6f-bb3d-4093-980c-696fe3e7d36a": {
     "id": "fc93ea6f-bb3d-4093-980c-696fe3e7d36a",
     "prev": "d0497eb9-c9e3-4fea-97a6-48c7c5c24bfb",
     "regions": {
      "e6c5cdf0-556f-4478-8319-b7872bdcd382": {
       "attrs": {
        "height": 0.96,
        "width": 0.96,
        "x": 0.02,
        "y": 0.02
       },
       "content": {
        "cell": "9703e011-c105-4f0c-8b59-48b6b45c29e9",
        "part": "source"
       },
       "id": "e6c5cdf0-556f-4478-8319-b7872bdcd382"
      }
     }
    }
   },
   "themes": {
    "default": "f571f356-84d6-4dd3-a9e9-67632b4bda6a",
    "theme": {
     "f571f356-84d6-4dd3-a9e9-67632b4bda6a": {
      "backgrounds": {
       "my-background": {
        "background-color": "white"
       }
      },
      "id": "f571f356-84d6-4dd3-a9e9-67632b4bda6a",
      "palette": {
       "black": {
        "id": "black",
        "rgb": [
         0,
         0,
         0
        ]
       },
       "blue": {
        "id": "blue",
        "rgb": [
         0,
         153,
         204
        ]
       },
       "gray": {
        "id": "gray",
        "rgb": [
         128,
         128,
         128
        ]
       },
       "red": {
        "id": "red",
        "rgb": [
         240,
         32,
         32
        ]
       },
       "white": {
        "id": "white",
        "rgb": [
         255,
         255,
         255
        ]
       }
      },
      "rules": {
       "code": {
        "font-size": 2
       },
       "h1": {
        "color": "blue",
        "font-size": 5.5,
        "text-align": "center"
       },
       "h2": {
        "color": "blue",
        "font-size": 3,
        "text-align": "center"
       },
       "h3": {
        "color": "black",
        "font-size": 3
       },
       "pre": {
        "font-size": 2
       },
       "ul li": {
        "color": "black",
        "font-size": 3
       },
       "ul li ul li": {
        "color": "black",
        "font-size": 2.5
       }
      },
      "text-base": {
       "font-family": "Georgia",
       "font-size": 3
      }
     }
    }
   }
  }
 },
 "nbformat": 4,
 "nbformat_minor": 1
}
