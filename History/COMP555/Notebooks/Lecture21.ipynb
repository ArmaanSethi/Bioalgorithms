{
 "cells": [
  {
   "cell_type": "code",
   "execution_count": 1,
   "metadata": {
    "nbpresent": {
     "id": "d0dc238f-213a-47c1-8e07-d489f0487de4"
    },
    "slideshow": {
     "slide_type": "skip"
    }
   },
   "outputs": [
    {
     "data": {
      "application/javascript": [
       "var width = window.innerWidth || document.documentElement.clientWidth || document.body.clientWidth;\n",
       "var height = window.innerHeight || document.documentElement.clientHeight || document.body.clientHeight;\n",
       "\n",
       "IPython.notebook.kernel.execute(\"windowSize = (\" + width + \",\" + height + \")\");\n",
       "// suitable for small screens\n",
       "nbpresent.mode.tree.set(\n",
       "    [\"app\", \"theme-manager\", \"themes\", \"my-theme\"], \n",
       "    {\n",
       "    palette: {\n",
       "        \"blue\": { id: \"blue\", rgb: [0, 153, 204] },\n",
       "        \"black\": { id: \"black\", rgb: [0, 0, 0] },\n",
       "        \"white\": { id: \"white\", rgb: [255, 255, 255] },\n",
       "        \"red\": { id: \"red\", rgb: [240, 32, 32] },\n",
       "        \"gray\": { id: \"gray\", rgb: [128, 128, 128] },\n",
       "    },\n",
       "    backgrounds: {\n",
       "        \"my-background\": {\n",
       "            \"background-color\": \"white\"\n",
       "        }\n",
       "    },\n",
       "    \"text-base\": {\n",
       "        \"font-family\": \"Georgia\",\n",
       "        \"font-size\": 2.5\n",
       "    },\n",
       "    rules: {\n",
       "        h1: {\n",
       "            \"font-size\": 5.5,\n",
       "            color: \"blue\",\n",
       "            \"text-align\": \"center\"\n",
       "        },\n",
       "        h2: {\n",
       "            \"font-size\": 3,\n",
       "            color: \"blue\",\n",
       "            \"text-align\": \"center\"\n",
       "        },\n",
       "        h3: {\n",
       "            \"font-size\": 3,\n",
       "            color: \"black\",\n",
       "        },\n",
       "        \"ul li\": {\n",
       "            \"font-size\": 2.5,\n",
       "            color: \"black\"\n",
       "        },\n",
       "        \"ul li ul li\": {\n",
       "            \"font-size\": 2.0,\n",
       "            color: \"black\"\n",
       "        },\n",
       "        \"code\": {\n",
       "            \"font-size\": 1.6,\n",
       "        },\n",
       "        \"pre\": {\n",
       "            \"font-size\": 1.6,\n",
       "        }\n",
       "    }\n",
       "});"
      ],
      "text/plain": [
       "<IPython.core.display.Javascript object>"
      ]
     },
     "metadata": {},
     "output_type": "display_data"
    }
   ],
   "source": [
    "%%javascript\n",
    "var width = window.innerWidth || document.documentElement.clientWidth || document.body.clientWidth;\n",
    "var height = window.innerHeight || document.documentElement.clientHeight || document.body.clientHeight;\n",
    "\n",
    "IPython.notebook.kernel.execute(\"windowSize = (\" + width + \",\" + height + \")\");\n",
    "// suitable for small screens\n",
    "nbpresent.mode.tree.set(\n",
    "    [\"app\", \"theme-manager\", \"themes\", \"my-theme\"], \n",
    "    {\n",
    "    palette: {\n",
    "        \"blue\": { id: \"blue\", rgb: [0, 153, 204] },\n",
    "        \"black\": { id: \"black\", rgb: [0, 0, 0] },\n",
    "        \"white\": { id: \"white\", rgb: [255, 255, 255] },\n",
    "        \"red\": { id: \"red\", rgb: [240, 32, 32] },\n",
    "        \"gray\": { id: \"gray\", rgb: [128, 128, 128] },\n",
    "    },\n",
    "    backgrounds: {\n",
    "        \"my-background\": {\n",
    "            \"background-color\": \"white\"\n",
    "        }\n",
    "    },\n",
    "    \"text-base\": {\n",
    "        \"font-family\": \"Georgia\",\n",
    "        \"font-size\": 2.5\n",
    "    },\n",
    "    rules: {\n",
    "        h1: {\n",
    "            \"font-size\": 5.5,\n",
    "            color: \"blue\",\n",
    "            \"text-align\": \"center\"\n",
    "        },\n",
    "        h2: {\n",
    "            \"font-size\": 3,\n",
    "            color: \"blue\",\n",
    "            \"text-align\": \"center\"\n",
    "        },\n",
    "        h3: {\n",
    "            \"font-size\": 3,\n",
    "            color: \"black\",\n",
    "        },\n",
    "        \"ul li\": {\n",
    "            \"font-size\": 2.5,\n",
    "            color: \"black\"\n",
    "        },\n",
    "        \"ul li ul li\": {\n",
    "            \"font-size\": 2.0,\n",
    "            color: \"black\"\n",
    "        },\n",
    "        \"code\": {\n",
    "            \"font-size\": 1.6,\n",
    "        },\n",
    "        \"pre\": {\n",
    "            \"font-size\": 1.6,\n",
    "        }\n",
    "    }\n",
    "});"
   ]
  },
  {
   "cell_type": "markdown",
   "metadata": {
    "nbpresent": {
     "id": "fd266d55-0190-4581-af95-9ba283ad8df2"
    },
    "slideshow": {
     "slide_type": "slide"
    }
   },
   "source": [
    "# Inferring Ancestory using HMMs\n",
    "\n",
    "<img src=\"http://csbio.unc.edu/mcmillan/Comp555S18/Media/NucleoDice.png\">\n",
    "\n",
    "* This lecture is key for Problem Set #5\n",
    "\n",
    "<p style=\"text-align: right; clear: right;\">1</p>"
   ]
  },
  {
   "cell_type": "markdown",
   "metadata": {
    "nbpresent": {
     "id": "b420927d-ea1a-4fc8-b53f-e1309de37ba2"
    },
    "slideshow": {
     "slide_type": "slide"
    }
   },
   "source": [
    "# Decoding Problem Solution\n",
    "\n",
    "* The *Decoding Problem* is equivalent to finding a longest path in the *directed acyclic graph* (DAG), where \"longest\" is defined as the maximum product of the probabilities along the path.\n",
    "\n",
    "<img src=\"http://csbio.unc.edu/mcmillan/Comp555S18/Media/L24FairCasinoViterbi.png\">\n",
    "\n",
    "<p style=\"text-align: right; clear: right;\">2</p>"
   ]
  },
  {
   "cell_type": "markdown",
   "metadata": {
    "nbpresent": {
     "id": "50fe30dc-65c4-4a01-a31a-68c1f9e90d88"
    },
    "slideshow": {
     "slide_type": "slide"
    }
   },
   "source": [
    "# Viterbi Decoding Algorithm\n",
    "\n",
    "* Since the *longest path* is a product of edge weights, if we use the **log** of the weights we can make it a sum again!\n",
    "* The value of the product can become extremely small, which leads to underflow.\n",
    "* Logs avoid underflow (precision loss due to adding numbers of vastly different magnitudes) \n",
    "\n",
    "$$\n",
    "\t\ts_{k,i+1} = \\log(e_l(x_{i+1})) + \\max_{k \\in Q } \\{s_{k,i}  + \\log(a_{kl})\\}\n",
    "$$\n",
    "\n",
    "<p style=\"text-align: right; clear: right;\">3</p>"
   ]
  },
  {
   "cell_type": "markdown",
   "metadata": {
    "nbpresent": {
     "id": "6cccbd35-0c18-4595-b232-a974798dd771"
    },
    "slideshow": {
     "slide_type": "slide"
    }
   },
   "source": [
    "# Viterbi Decoding Problem (cont)\n",
    "\n",
    "* Every path in the graph has the probability $P(x|\\pi)$.\n",
    "* The Viterbi decoding algorithm finds the path that maximizes P(x|π) among all possible paths.\n",
    "* The Viterbi decoding algorithm runs in $O(n|Q|^2)$ time (length of sequence times number of states squared).\n",
    "* The Viterbi decoding algorithm can be efficiently implemented as a dynamic program\n",
    "\n",
    "Dynamic Program's Recursion\n",
    "\n",
    "$$\\begin{align}\n",
    "s_{l,i+1} &= \\max_{k \\in Q} \\{ s_{k,i} \\cdot \\text{weight of edge between } (k,i) \\text{ and } (l,i+1) \\}\\\\\n",
    "          &=  \\max_{k \\in Q} \\{ s_{k,i} \\cdot  a_{kl} \\cdot e_l (x_{i+1}) \\}\\\\\n",
    "          &= e_l(x_{i+1}) \\cdot \\max_{k \\in Q} \\{ s_{k,i} \\cdot a_{kl} \\}\n",
    "\\end{align}$$\n",
    "\n",
    "<p style=\"text-align: right; clear: right;\">4</p>"
   ]
  },
  {
   "cell_type": "markdown",
   "metadata": {
    "nbpresent": {
     "id": "5edd9739-93eb-469a-ac34-3052b004807d"
    },
    "slideshow": {
     "slide_type": "slide"
    }
   },
   "source": [
    "# Viterbi  Example\n",
    "\n",
    "* Solves all subproblems implied by observed sequence\n",
    "* How likely is this path? *0.006*\n",
    "* What is it? ***BBBBBB***\n",
    "\n",
    "<img src=\"http://csbio.unc.edu/mcmillan/Comp555S18/Media/L25ViterbiExample.png\">\n",
    "\n",
    "<p style=\"text-align: right; clear: right;\">5</p>"
   ]
  },
  {
   "cell_type": "markdown",
   "metadata": {
    "nbpresent": {
     "id": "1365e0ca-55e3-4fbc-be3b-f93d71ed1e3b"
    },
    "slideshow": {
     "slide_type": "slide"
    }
   },
   "source": [
    "# How likely is most likely?\n",
    "\n",
    "* The \"most likely path\" may not be a lot more likely than a 2nd or 3rd most likely paths (more so in more realistic cases than this one).\n",
    "* Actual probability of the \"most likely path” is not that high.\n",
    "\n",
    "<pre style=\"font-size: 70%;\">\n",
    "       P     &pi;            P     &pi;            P     &pi;           P     &pi;\n",
    "    0.0058 BBBBBB      0.0001 BBBFFB      0.0000 FFFBFF     0.0000 FBBFBF\n",
    "    0.0046 FFFFFF      0.0001 FFFFBF      0.0000 FFBFBB     0.0000 BFBBFF\n",
    "    0.0013 FBBBBB      0.0001 FFBFFF      0.0000 FBFFBB     0.0000 BFFBBF\n",
    "    0.0012 FFFFBB      0.0001 FBFFFF      0.0000 FBBFFB     0.0000 BBFBFF\n",
    "    0.0009 FFBBBB      0.0001 FFBBBF      0.0000 FFBFFB     0.0000 FFBFBF\n",
    "    0.0008 FFFFFB      0.0001 BFFFBB      0.0000 FBFFFB     0.0000 FBFFBF\n",
    "    0.0006 FFFBBB      0.0001 FBBBFF      0.0000 FBFBBB     0.0000 BFFBFF\n",
    "    0.0006 BBBFFF      0.0001 BBFFFB      0.0000 FBBBFB     0.0000 BFBFBB\n",
    "    0.0004 BBBBBF      0.0000 BFBBBB      0.0000 BBBFBF     0.0000 FBFBBF\n",
    "    0.0004 BBFFFF      0.0000 BBBBFB      0.0000 FFBBFB     0.0000 BFBFFB\n",
    "    0.0003 BBBBFF      0.0000 BBFBBB      0.0000 BBFFBF     0.0000 FBFBFF\n",
    "    0.0003 BFFFFF      0.0000 BFFFFB      0.0000 BFFFBF     0.0000 BFBBFB\n",
    "    0.0001 BBBFBB      0.0000 FFFBBF      0.0000 BFBFFF     0.0000 BBFBFB\n",
    "    0.0001 FBBFFF      0.0000 FFBBFF      0.0000 FFFBFB     0.0000 BFFBFB\n",
    "    0.0001 FBBBBF      0.0000 FBBFBB      0.0000 BFBBBF     0.0000 FBFBFB\n",
    "    0.0001 BBFFBB      0.0000 BFFBBB      0.0000 BBFBBF     0.0000 BFBFBF\n",
    "</pre>\n",
    "\n",
    "<p style=\"text-align: right; clear: right;\">6</p>"
   ]
  },
  {
   "cell_type": "markdown",
   "metadata": {
    "nbpresent": {
     "id": "6838a397-6410-4a37-9bc4-52dddaa8d3c6"
    },
    "slideshow": {
     "slide_type": "slide"
    }
   },
   "source": [
    "# HMMs in Biology\n",
    "\n",
    "<img src=\"http://csbio.unc.edu/mcmillan/Comp555S18/Media/L25CollaborativeCross.png\" style=\"float: right; margin: 0px 50px;\">\n",
    "* Inferring ancestral contributions to a descendant\n",
    "* Collaborative Cross project \n",
    "* Maintained at UNC since 2006\n",
    "* Objective:\n",
    "   - Create new reproducible<br>\n",
    "   mouse strains by randomly<br>\n",
    "   combining the genomes of<br>\n",
    "   eight diverse mice strains\n",
    "* Problem:\n",
    "   - Given an extant strain,<br>\n",
    "   which parts of its genome<br>\n",
    "   came from which founder\n",
    "\n",
    "<p style=\"text-align: right; clear: right;\">7</p>"
   ]
  },
  {
   "cell_type": "markdown",
   "metadata": {
    "nbpresent": {
     "id": "85c8760b-e28f-487a-9b38-5604538571a8"
    },
    "slideshow": {
     "slide_type": "slide"
    }
   },
   "source": [
    "# Mixing Genomes\n",
    "\n",
    "<img src=\"http://csbio.unc.edu/mcmillan/Comp555S18/Media/L25BreedingFunnel.png\" style=\"float: right; margin: 0px 50px;\">\n",
    "* A randomized breeding scheme was used to\n",
    "    - Mix the genomes by recombination\n",
    "    - Fix the genomes by selective inbreeding\n",
    "* A breeding funnel\n",
    "    - 8 genomes go in\n",
    "    - A mosaic comes out\n",
    "* Genotyping was used to track founder contributions\n",
    "\n",
    "<p style=\"text-align: right; clear: right;\">8</p>"
   ]
  },
  {
   "cell_type": "markdown",
   "metadata": {
    "nbpresent": {
     "id": "9fed7904-18f1-41a6-8d71-9315b26656c5"
    },
    "slideshow": {
     "slide_type": "slide"
    }
   },
   "source": [
    "# A Genome Mosaic\n",
    "\n",
    "<img src=\"http://csbio.unc.edu/mcmillan/Comp555S18/Media/L25Mosaic.png\" width=\"400px\" style=\"float: right; margin: 0px 80px;\">\n",
    "\n",
    "* A Hidden Markov Model is used to infer the \"hidden\" state of which of the 8 founders contributed to which parts of the genome\n",
    "* A Viterbi Solution finds the most likely mosaic given a set of genotypes\n",
    "\n",
    "<p style=\"text-align: right; clear: right;\">9</p>"
   ]
  },
  {
   "cell_type": "markdown",
   "metadata": {
    "nbpresent": {
     "id": "e2216040-4553-434f-8c3d-ee19fe10391d"
    },
    "slideshow": {
     "slide_type": "slide"
    }
   },
   "source": [
    "# Genotyping Microarrays\n",
    "\n",
    "<img src=\"http://csbio.unc.edu/mcmillan/Comp555S18/Media/L25Microarrays.png\" width=\"500px\" style=\"float: right; margin: 0px 50px;\">\n",
    "\n",
    "* DNA probes to query the state of specific “known” and “informative”<br>\n",
    "Single Nucleotide Polymorphisms (SNPs)\n",
    "* Each probe distinguishes 4 cases<br>\n",
    "(\"Ref\", \"Alt\", \"H\", \"N\")\n",
    "* From these observations we infer the founder at every marker\n",
    "\n",
    "<p style=\"text-align: right; clear: right;\">10</p>"
   ]
  },
  {
   "cell_type": "markdown",
   "metadata": {
    "nbpresent": {
     "id": "aedf5b76-fe5e-416f-aa15-fcdd315d6194"
    },
    "slideshow": {
     "slide_type": "slide"
    }
   },
   "source": [
    "# Example Genotypes\n",
    "\n",
    "<img src=\"http://csbio.unc.edu/mcmillan/Comp555S18/Media/L25Genotypes.png\" style=\"float: right; margin: 0px 50px;\">\n",
    "\n",
    "* Genotypes for a chromosome\n",
    "* 8112 probes with position of variant\n",
    "* Alleles are indicated by the nucleotide\n",
    "* Rarely can a single maker resolve the founder\n",
    "* Which strain would you guess for the beginning?\n",
    "\n",
    "<p style=\"text-align: right; clear: right;\">11</p>"
   ]
  },
  {
   "cell_type": "markdown",
   "metadata": {
    "nbpresent": {
     "id": "c75b9686-973e-4864-9a83-b30f34a9dce6"
    },
    "slideshow": {
     "slide_type": "slide"
    }
   },
   "source": [
    "# Noise\n",
    "\n",
    "* One last issue, between 1% and 5% of genotypes are simply wrong\n",
    "* Technical errors\n",
    "    - A probe didn't glow bright enough\n",
    "    - A section of the array was damaged<br>\n",
    "    (fingerprints, cracks, hair, etc.)\n",
    "    - Messed up fabricating a probe’s sequence\n",
    "    - DNA was contaminated\n",
    "* Error types:\n",
    "    - Unexpected calls (observation is uninformative)\n",
    "    - A possible, but incorrect call\n",
    "\n",
    "<p style=\"text-align: right; clear: right;\">12</p>"
   ]
  },
  {
   "cell_type": "markdown",
   "metadata": {
    "nbpresent": {
     "id": "26194c28-8306-47da-81eb-7e6721cc0718"
    },
    "slideshow": {
     "slide_type": "slide"
    }
   },
   "source": [
    "# Read Genotypes"
   ]
  },
  {
   "cell_type": "code",
   "execution_count": 62,
   "metadata": {
    "nbpresent": {
     "id": "f87ee0c2-fec9-4b89-aae3-dacd6f660947"
    },
    "slideshow": {
     "slide_type": "fragment"
    }
   },
   "outputs": [
    {
     "name": "stdout",
     "output_type": "stream",
     "text": [
      "['chromosome', 'position', 'A/J', 'C57BL/6J', '129S1/SvImJ', 'NOD/ShiLtJ', 'NZO/H1LtJ', 'CAST/EiJ', 'PWK/PhJ', 'WSB/EiJ', 'OR3199m266']\n",
      "Number of probes 8112\n",
      "data[1000] = ['2', 25896880, 'T', 'C', 'C', 'C', 'T', 'C', 'T', 'T', 'T']\n",
      "data[1001] = ['2', 25914367, 'A', 'G', 'G', 'G', 'G', 'G', 'G', 'G', 'G']\n",
      "data[1002] = ['2', 25936735, 'T', 'T', 'T', 'T', 'C', 'C', 'T', 'T', 'T']\n",
      "data[1003] = ['2', 25940660, 'G', 'A', 'A', 'A', 'G', 'G', 'G', 'G', 'G']\n",
      "data[1004] = ['2', 25947335, 'C', 'C', 'C', 'C', 'C', 'C', 'A', 'C', 'C']\n"
     ]
    }
   ],
   "source": [
    "fp = open(\"data/genotypes.csv\", 'rU')\n",
    "data = fp.read().split('\\n')        # break file into lines\n",
    "fp.close()\n",
    "header = data.pop(0).split(',')     # First line is header\n",
    "while (len(data[-1].strip()) < 1):  # remove extra lines\n",
    "    data.pop()\n",
    "for i, line in enumerate(data):     # make a list from each row\n",
    "    field = line.split(',')\n",
    "    field[1] = int(field[1])        # convert position to integer\n",
    "    data[i] = field\n",
    "fp.close()\n",
    "\n",
    "print header\n",
    "print \"Number of probes\", len(data)\n",
    "for i in xrange(1000,1005):\n",
    "    print \"data[%d] = %s\" % (i, data[i])"
   ]
  },
  {
   "cell_type": "markdown",
   "metadata": {
    "nbpresent": {
     "id": "bdf0a8ea-8de0-4ca3-b5a5-e4eed81004ed"
    },
    "slideshow": {
     "slide_type": "fragment"
    }
   },
   "source": [
    "<p style=\"text-align: right; clear: right;\">13</p>"
   ]
  },
  {
   "cell_type": "code",
   "execution_count": 88,
   "metadata": {},
   "outputs": [
    {
     "name": "stdout",
     "output_type": "stream",
     "text": [
      "Enter locus [0, 8112] to see its Emission probability:1500\n",
      "['2', 34819156, 'A', 'A', 'A', 'A', 'G', 'G', 'A', 'G', 'G']\n",
      "                A/J, C57BL/6J, 129S1/Sv, NOD/ShiL, NZO/H1Lt, CAST/EiJ,  PWK/PhJ,  WSB/EiJ\n",
      "    A:  5 ['0.1900', '0.1900', '0.1900', '0.1900', '0.0167', '0.0167', '0.1900', '0.0167']\n",
      "    C:  0 ['0.1250', '0.1250', '0.1250', '0.1250', '0.1250', '0.1250', '0.1250', '0.1250']\n",
      "    G:  3 ['0.0100', '0.0100', '0.0100', '0.0100', '0.3167', '0.3167', '0.0100', '0.3167']\n",
      "    H:  0 ['0.1250', '0.1250', '0.1250', '0.1250', '0.1250', '0.1250', '0.1250', '0.1250']\n",
      "    N:  0 ['0.1250', '0.1250', '0.1250', '0.1250', '0.1250', '0.1250', '0.1250', '0.1250']\n",
      "    T:  0 ['0.1250', '0.1250', '0.1250', '0.1250', '0.1250', '0.1250', '0.1250', '0.1250']\n"
     ]
    }
   ],
   "source": [
    "# Code to examine the Emission probabilities\n",
    "\n",
    "i = int(raw_input(\"Enter locus [0, %d] to see its Emission probability:\" % len(data)))\n",
    "\n",
    "print data[i]\n",
    "Nstates = 8\n",
    "ErrorRate = 0.05\n",
    "# Count expected genotypes\n",
    "count = dict([(call, data[i][2:2+Nstates].count(call)) for call in \"ACGTHN\"])\n",
    "print \"          \", ', '.join([\"%8s\" % v[0:8] for v in header[2:2+Nstates]])\n",
    "for base in count.keys():\n",
    "    # Compute emission probability, assuming 5% error rate\n",
    "    if (count[base] == 0):\n",
    "        emission = [1.0/Nstates for j in xrange(2,2+Nstates)]   # unexpected \n",
    "    else:\n",
    "        emission = [(1.0 - ErrorRate)/count[base] if data[i][j] == base else ErrorRate/(Nstates - count[base])\n",
    "                    for j in xrange(2,2+Nstates)]\n",
    "    emission = [\"%6.4f\" % v for v in emission]\n",
    "    print \"    %s: %2d %s\" % (base, count[base], emission)\n"
   ]
  },
  {
   "cell_type": "markdown",
   "metadata": {
    "nbpresent": {
     "id": "a5ecaafc-9f17-4351-bd29-1f9e85b84d08"
    },
    "slideshow": {
     "slide_type": "slide"
    }
   },
   "source": [
    "# Viterbi Dynamic Program"
   ]
  },
  {
   "cell_type": "code",
   "execution_count": 57,
   "metadata": {
    "nbpresent": {
     "id": "acfe73d8-f38e-4431-a8cb-c90e5fdf0955"
    },
    "slideshow": {
     "slide_type": "fragment"
    }
   },
   "outputs": [
    {
     "name": "stdout",
     "output_type": "stream",
     "text": [
      "Length of paths: 8113\n"
     ]
    }
   ],
   "source": [
    "from math import exp, log10\n",
    "\n",
    "Nstates = 8\n",
    "prevpos = 1\n",
    "state = [[(float(len(data)),i) for i in xrange(Nstates)]]   # (log(p), PathToHere)\n",
    "for i in xrange(len(data)):\n",
    "    # Count expected genotypes\n",
    "    count = dict([(call, data[i][2:2+Nstates].count(call)) for call in \"ACGTHN\"])\n",
    "    # Get the target genotype at this probe\n",
    "    observed = data[i][-1]\n",
    "    # Compute emission probability, assuming 5% error rate\n",
    "    if (count[observed] == 0):\n",
    "        emission = [1.0/Nstates for j in xrange(2,2+Nstates)]   # unexpected \n",
    "    else:\n",
    "        emission = [0.95/count[data[i][j]] if data[i][j] == observed else 0.05/(Nstates - count[data[i][j]])\n",
    "                    for j in xrange(2,2+Nstates)]\n",
    "    # compute transition probability\n",
    "    position = data[i][1]\n",
    "    delta = position - prevpos\n",
    "    prevpos = position\n",
    "    stay = ((Nstates - 1.0)*exp(-delta/10000000.0) + 1.0)/Nstates\n",
    "    switch = (1.0 - stay)/(Nstates - 1.0)\n",
    "    # update state probailities for all paths leading to the ith state\n",
    "    path = []\n",
    "    for j in xrange(Nstates):\n",
    "        choices = [(log10(emission[j])+(log10(stay) if (k==j) else log10(switch))+state[-1][k][0],k)\n",
    "                   for k in xrange(Nstates)]\n",
    "        path.append(max(choices))\n",
    "    state.append(path)\n",
    "print \"Length of paths:\", len(state)"
   ]
  },
  {
   "cell_type": "markdown",
   "metadata": {
    "nbpresent": {
     "id": "35a420f2-1d46-4c3c-8de4-4a5aaf5c5ebf"
    },
    "slideshow": {
     "slide_type": "fragment"
    }
   },
   "source": [
    "<p style=\"text-align: right; clear: right;\">14</p>"
   ]
  },
  {
   "cell_type": "code",
   "execution_count": 61,
   "metadata": {
    "nbpresent": {
     "id": "66b742f9-bb38-4871-816b-4b7704057063"
    },
    "scrolled": true
   },
   "outputs": [
    {
     "data": {
      "image/png": "[encoded data removed]",
      "text/plain": [
       "<matplotlib.figure.Figure at 0x73e636b5cd90>"
      ]
     },
     "metadata": {},
     "output_type": "display_data"
    }
   ],
   "source": [
    "%matplotlib inline\n",
    "import numpy\n",
    "import matplotlib.pyplot as plot\n",
    "\n",
    "fig = plot.figure(figsize = (12,9))\n",
    "axes = fig.add_subplot(111)\n",
    "\n",
    "Nstates = 8\n",
    "scale = 10000000.0\n",
    "x = numpy.arange(0,100000000.0,200000.0)\n",
    "stay = ((Nstates - 1.0) * numpy.exp(-x/scale) + 1.0) / Nstates \n",
    "switch = (1.0 - stay) / (Nstates - 1.0)\n",
    "\n",
    "plot.plot(x, stay, x, switch)\n",
    "plot.text(10000000, 0.7, r'$stay = P(s_{k,i} = s_{k,i-1})$', size=\"18\")\n",
    "plot.text(40000000, 0.05, r'$switch = P(s_{k,i} = s_{j,i-1}; k \\neq j)$', size=\"18\")\n",
    "plot.xlim((0,100000000.0))\n",
    "plot.ylim((0,1.0))\n",
    "pos, labels = plot.xticks()\n",
    "result = plot.xticks(pos, [\"%5.1fM\" % (p/1000000) for p in pos])"
   ]
  },
  {
   "cell_type": "markdown",
   "metadata": {
    "nbpresent": {
     "id": "bd400196-c2d6-4d9d-9c96-b6e4029c0b32"
    },
    "slideshow": {
     "slide_type": "slide"
    }
   },
   "source": [
    "# Transition Probability\n",
    "\n",
    "* Recombination likelihood is modeled using an exponential distribution\n",
    "* Recombinations between nearby probes are unlikely\n",
    "* Distant probes are more likely to be from other founders"
   ]
  },
  {
   "cell_type": "markdown",
   "metadata": {
    "nbpresent": {
     "id": "351c5b67-0eaf-4bb9-b82f-48406c0450f0"
    },
    "slideshow": {
     "slide_type": "fragment"
    }
   },
   "source": [
    "<p style=\"text-align: right; clear: right;\">15</p>"
   ]
  },
  {
   "cell_type": "markdown",
   "metadata": {
    "nbpresent": {
     "id": "90281b3c-90f4-466a-8d82-836cd29e9fef"
    },
    "slideshow": {
     "slide_type": "slide"
    }
   },
   "source": [
    "# Backtracking"
   ]
  },
  {
   "cell_type": "code",
   "execution_count": 54,
   "metadata": {
    "nbpresent": {
     "id": "18bfb016-785d-4fd5-a68e-9e358eb820ca"
    },
    "slideshow": {
     "slide_type": "fragment"
    }
   },
   "outputs": [
    {
     "name": "stdout",
     "output_type": "stream",
     "text": [
      "5 (2743.7737749674434, 5) CAST/EiJ\n"
     ]
    }
   ],
   "source": [
    "# backtrack\n",
    "path = state[-1]\n",
    "maxi = 0\n",
    "maxp = path[0][0]\n",
    "for i in xrange(1,Nstates):\n",
    "    if (path[i][0] > maxp):\n",
    "        maxp = path[i][0]\n",
    "        maxi = i\n",
    "print maxi, path[maxi], header[2+maxi]\n",
    "\n",
    "for j in xrange(len(state)-2,-1,-1):\n",
    "    data[j].append(header[2+maxi])\n",
    "    maxi = state[j+1][maxi][1]\n",
    "\n",
    "header.append(\"Founder\")\n",
    "fp = open(\"result.csv\", 'w')\n",
    "fp.write(','.join(header)+'\\n')\n",
    "for row in data:\n",
    "    fp.write(','.join([str(v) for v in row])+'\\n')\n",
    "fp.close()"
   ]
  },
  {
   "cell_type": "markdown",
   "metadata": {
    "nbpresent": {
     "id": "134392a1-f1c8-4e22-bf2b-f2bcd14792a7"
    },
    "slideshow": {
     "slide_type": "fragment"
    }
   },
   "source": [
    "<p style=\"text-align: right; clear: right;\">16</p>"
   ]
  },
  {
   "cell_type": "markdown",
   "metadata": {
    "nbpresent": {
     "id": "14da7f2e-687f-4af2-88b8-2024f7028253"
    },
    "slideshow": {
     "slide_type": "slide"
    }
   },
   "source": [
    "# Output\n",
    "\n",
    "<img src=\"http://csbio.unc.edu/mcmillan/Comp555S18/Media/L25Output.png\" style=\"float: right; margin: 0px 50px;\">\n",
    "* The inferred Mosaic\n",
    "* Repeat for every chromosome\n",
    "* Most likely, but how likely?\n",
    "* Other approaches\n",
    "<img src=\"http://csbio.unc.edu/mcmillan/Comp555S18/Media/L25Haplotype.png\" style=\"margin-top: 50px;\">\n",
    "<p style=\"text-align: right; clear: right;\">17</p>"
   ]
  },
  {
   "cell_type": "markdown",
   "metadata": {
    "nbpresent": {
     "id": "b9eff491-a5b6-4795-8172-bcf067e7e2cc"
    },
    "slideshow": {
     "slide_type": "slide"
    }
   },
   "source": [
    "# Back to the Casino with new questions\n",
    "\n",
    "* Are there common aspects of the most likely solutions?\n",
    "* Which coin was I most likely using on the 4<sup>th</sup> roll\n",
    "\n",
    "<pre>\n",
    "       P     &pi;            P     &pi;            P     &pi;           P     &pi;\n",
    "    0.0058 BBBBBB      0.0001 BBBFFB      0.0000 FFFBFF     0.0000 FBBFBF\n",
    "    0.0046 FFFFFF      0.0001 FFFFBF      0.0000 FFBFBB     0.0000 BFBBFF\n",
    "    0.0013 FBBBBB      0.0001 FFBFFF      0.0000 FBFFBB     0.0000 BFFBBF\n",
    "    0.0012 FFFFBB      0.0001 FBFFFF      0.0000 FBBFFB     0.0000 BBFBFF\n",
    "    0.0009 FFBBBB      0.0001 FFBBBF      0.0000 FFBFFB     0.0000 FFBFBF\n",
    "    0.0008 FFFFFB      0.0001 BFFFBB      0.0000 FBFFFB     0.0000 FBFFBF\n",
    "    0.0006 FFFBBB      0.0001 FBBBFF      0.0000 FBFBBB     0.0000 BFFBFF\n",
    "    0.0006 BBBFFF      0.0001 BBFFFB      0.0000 FBBBFB     0.0000 BFBFBB\n",
    "    0.0004 BBBBBF      0.0000 BFBBBB      0.0000 BBBFBF     0.0000 FBFBBF\n",
    "    0.0004 BBFFFF      0.0000 BBBBFB      0.0000 FFBBFB     0.0000 BFBFFB\n",
    "    0.0003 BBBBFF      0.0000 BBFBBB      0.0000 BBFFBF     0.0000 FBFBFF\n",
    "    0.0003 BFFFFF      0.0000 BFFFFB      0.0000 BFFFBF     0.0000 BFBBFB\n",
    "    0.0001 BBBFBB      0.0000 FFFBBF      0.0000 BFBFFF     0.0000 BBFBFB\n",
    "    0.0001 FBBFFF      0.0000 FFBBFF      0.0000 FFFBFB     0.0000 BFFBFB\n",
    "    0.0001 FBBBBF      0.0000 FBBFBB      0.0000 BFBBBF     0.0000 FBFBFB\n",
    "    0.0001 BBFFBB      0.0000 BFFBBB      0.0000 BBFBBF     0.0000 BFBFBF\n",
    "</pre>\n",
    "\n",
    "<p style=\"text-align: right; clear: right;\">18</p>"
   ]
  },
  {
   "cell_type": "markdown",
   "metadata": {
    "nbpresent": {
     "id": "9efe99d7-cd96-4bee-adce-91778c5e03fe"
    },
    "slideshow": {
     "slide_type": "slide"
    }
   },
   "source": [
    "# Forward-Backward Problem\n",
    "\n",
    "**Given:** A sequence of coin tosses generated by an HMM.\n",
    "\n",
    "<img src=\"http://csbio.unc.edu/mcmillan/Comp555S18/Media/UnfairCasinoHMM.png\" width=\"300px\">\n",
    "\n",
    "**Goal:** Find the most probable coin that was in use at a particular flip.\n",
    "\n",
    "$$\n",
    "P(\\pi_i = k | x) = \\frac{P(x,\\pi_i = k)}{P(x)}\n",
    "$$\n",
    "\n",
    "Where $P(x,\\pi_i = k)$ is the probabilites of all paths in state *k* at *i*, and $P(x)$ is the probability of sequence *x*.\n",
    "<p style=\"text-align: right; clear: right;\">19</p>"
   ]
  },
  {
   "cell_type": "markdown",
   "metadata": {
    "nbpresent": {
     "id": "fad8bfad-4419-4d9d-bcd5-9a2ecb014534"
    },
    "slideshow": {
     "slide_type": "slide"
    }
   },
   "source": [
    "# Illustrating the difference\n",
    "\n",
    "<img src=\"http://csbio.unc.edu/mcmillan/Comp555S18/Media/L25ForwardBackward.png\">\n",
    "\n",
    "<p style=\"text-align: right; clear: right;\">20</p>"
   ]
  },
  {
   "cell_type": "markdown",
   "metadata": {
    "nbpresent": {
     "id": "e836321e-c570-4343-ba54-55760aeeb147"
    },
    "slideshow": {
     "slide_type": "slide"
    }
   },
   "source": [
    "# Forward Algorithm\n",
    "\n",
    "* Define $f_{k,i}$ (forward probability) as the probability of emitting the prefix $x_1…x_i$ and reaching the state $\\pi_i = k$.\n",
    "\n",
    "\n",
    "* The recurrence for the forward algorithm is:\n",
    "\n",
    "$$\n",
    "f_{k,i} = e_k(x_i) \\cdot \\sum_{l \\in Q} f_{l,i-1} \\cdot A_{l,k}\n",
    "$$\n",
    "\n",
    "\n",
    "* Same as Viterbi, excepts stops at *k*\n",
    "\n",
    "<p style=\"text-align: right; clear: right;\">21</p>"
   ]
  },
  {
   "cell_type": "markdown",
   "metadata": {
    "nbpresent": {
     "id": "a8e1d7bc-509e-41a7-924b-42f431ccdb25"
    },
    "slideshow": {
     "slide_type": "slide"
    }
   },
   "source": [
    "# Backward Algorithm\n",
    "\n",
    "However, *forward probability* is not the only factor effecting $P(\\pi_i = k|x)$.\n",
    "\n",
    "* The sequence of transitions and emissions that the HMM undergoes between $\\pi_i$ and $\\pi_{i+1}$ also affect $P(\\pi_i = k|x)$.\n",
    "\n",
    "* *Backward probability* $b_{k,i}$ ≡ the probability of being in state $\\pi_i = k$ and emitting the suffix $x_{i+1}…x_n$.\n",
    "\n",
    "* The backward algorithm’s recurrence:\n",
    "\n",
    "$$\n",
    "b_{k,i} = \\sum_{l \\in Q} e_l(x_{i+1}) \\cdot b_{l,i+1} \\cdot A_{k,l}\n",
    "$$\n",
    "\n",
    "<p style=\"text-align: right; clear: right;\">22</p>"
   ]
  },
  {
   "cell_type": "markdown",
   "metadata": {
    "nbpresent": {
     "id": "d1007af4-0bf2-47f9-88c4-a4615cb0d387"
    },
    "slideshow": {
     "slide_type": "slide"
    }
   },
   "source": [
    "# Forward-Backward Algorithm\n",
    "\n",
    "* The probability that the dealer used a biased coin at any moment *i* is as follows:\n",
    "\n",
    "$$\n",
    "P(\\pi_i = k | x) = \\frac{P(x,\\pi_i = k)}{P(x)} = \\frac{f_k(i) \\cdot b_k(i)}{P(x)}\n",
    "$$\n",
    "\n",
    "* So, to find $P(\\pi_i = k|x)$ for all $i$, we solve two dynamic programs\n",
    "\n",
    "    - One from beginning to end\n",
    "    - One from the end to the beginning\n",
    "    - Combine the corresponding states \n",
    "\n",
    "<img src=\"http://csbio.unc.edu/mcmillan/Comp555S18/Media/L25FBcalculation.png\" width=\"600px\">\n",
    "\n",
    "<p style=\"text-align: right; clear: right;\">23</p>"
   ]
  },
  {
   "cell_type": "markdown",
   "metadata": {
    "nbpresent": {
     "id": "c86fc8f5-169b-40cb-bcc6-45f5665ac5e2"
    },
    "slideshow": {
     "slide_type": "slide"
    }
   },
   "source": [
    "# Next Time\n",
    "\n",
    "\n",
    "### Genome Rearrangements\n",
    "\n",
    "<img src=\"http://csbio.unc.edu/mcmillan/Comp555S18/Media/GenomeRearrangement.png\">\n",
    "\n",
    "<p style=\"text-align: right; clear: right;\">24</p>"
   ]
  },
  {
   "cell_type": "code",
   "execution_count": 87,
   "metadata": {},
   "outputs": [
    {
     "data": {
      "text/plain": [
       "0.016666666666666666"
      ]
     },
     "execution_count": 87,
     "metadata": {},
     "output_type": "execute_result"
    }
   ],
   "source": [
    "0.05/3"
   ]
  },
  {
   "cell_type": "code",
   "execution_count": null,
   "metadata": {},
   "outputs": [],
   "source": []
  }
 ],
 "metadata": {
  "anaconda-cloud": {},
  "celltoolbar": "Slideshow",
  "kernelspec": {
   "display_name": "Python 2",
   "language": "python",
   "name": "python2"
  },
  "language_info": {
   "codemirror_mode": {
    "name": "ipython",
    "version": 2
   },
   "file_extension": ".py",
   "mimetype": "text/x-python",
   "name": "python",
   "nbconvert_exporter": "python",
   "pygments_lexer": "ipython2",
   "version": "2.7.14"
  },
  "nbpresent": {
   "slides": {
    "0c382477-1c45-442f-b309-d904d8b13fc0": {
     "id": "0c382477-1c45-442f-b309-d904d8b13fc0",
     "prev": "fde27ca0-bd6a-43c2-88c4-f2cbebc809a5",
     "regions": {
      "e2874cf8-ea3a-46c8-8537-1f8cc255e617": {
       "attrs": {
        "height": 0.96,
        "width": 0.96,
        "x": 0.02,
        "y": 0.02
       },
       "content": {
        "cell": "fad8bfad-4419-4d9d-bcd5-9a2ecb014534",
        "part": "whole"
       },
       "id": "e2874cf8-ea3a-46c8-8537-1f8cc255e617"
      }
     }
    },
    "18698e9f-8da7-4d64-b158-da101fbe607d": {
     "id": "18698e9f-8da7-4d64-b158-da101fbe607d",
     "prev": "2db61e58-8748-434c-a3f0-bc9760aa1ddf",
     "regions": {
      "d8357abc-4b59-4cd0-92eb-4f44b57bcb82": {
       "attrs": {
        "height": 0.96,
        "width": 0.96,
        "x": 0.02,
        "y": 0.02
       },
       "content": {
        "cell": "5edd9739-93eb-469a-ac34-3052b004807d",
        "part": "whole"
       },
       "id": "d8357abc-4b59-4cd0-92eb-4f44b57bcb82"
      }
     }
    },
    "21c04fb2-bc1a-45f1-8b79-c24b025f1262": {
     "id": "21c04fb2-bc1a-45f1-8b79-c24b025f1262",
     "prev": "8c0e3128-e097-49a0-b472-9c822f3ae85c",
     "regions": {
      "529b9a7a-c312-46d4-b82a-399d67497756": {
       "attrs": {
        "height": 0.96,
        "width": 0.96,
        "x": 0.02,
        "y": 0.02
       },
       "content": {
        "cell": "c75b9686-973e-4864-9a83-b30f34a9dce6",
        "part": "whole"
       },
       "id": "529b9a7a-c312-46d4-b82a-399d67497756"
      }
     }
    },
    "2ab57ba3-0ea6-4817-a7f5-dc6eeb87f37b": {
     "id": "2ab57ba3-0ea6-4817-a7f5-dc6eeb87f37b",
     "prev": "5fa372d7-5abf-4145-8b9e-b0521218a60b",
     "regions": {
      "2958f50a-236f-44e8-bf23-96e9db4a2c44": {
       "attrs": {
        "height": 0.8055535607420705,
        "width": 0.9600000000000001,
        "x": 0.02,
        "y": 0.17444643925792938
       },
       "content": {
        "cell": "acfe73d8-f38e-4431-a8cb-c90e5fdf0955",
        "part": "whole"
       },
       "id": "2958f50a-236f-44e8-bf23-96e9db4a2c44"
      },
      "b048104b-1e97-4e0e-8624-7fd481d3e3d5": {
       "attrs": {
        "height": 0.15569120287253138,
        "width": 0.9600000000000001,
        "x": 0.02,
        "y": 0.02
       },
       "content": {
        "cell": "a5ecaafc-9f17-4351-bd29-1f9e85b84d08",
        "part": "whole"
       },
       "id": "b048104b-1e97-4e0e-8624-7fd481d3e3d5"
      },
      "be0565f8-0dce-4935-94e3-59e7d6bd9d4a": {
       "attrs": {
        "height": 0.0618870935567524,
        "width": 0.9600000000000001,
        "x": 0.02,
        "y": 0.9181129064432476
       },
       "content": {
        "cell": "35a420f2-1d46-4c3c-8de4-4a5aaf5c5ebf",
        "part": "whole"
       },
       "id": "be0565f8-0dce-4935-94e3-59e7d6bd9d4a"
      }
     }
    },
    "2db61e58-8748-434c-a3f0-bc9760aa1ddf": {
     "id": "2db61e58-8748-434c-a3f0-bc9760aa1ddf",
     "prev": "4bff1002-93bb-40eb-8e87-5d35801c36dc",
     "regions": {
      "73e07c26-4bc7-44d3-bc14-ae87152fb366": {
       "attrs": {
        "height": 0.96,
        "width": 0.96,
        "x": 0.02,
        "y": 0.02
       },
       "content": {
        "cell": "6cccbd35-0c18-4595-b232-a974798dd771",
        "part": "whole"
       },
       "id": "73e07c26-4bc7-44d3-bc14-ae87152fb366"
      }
     }
    },
    "306e9878-36ff-43f8-9159-5633bf1c6003": {
     "id": "306e9878-36ff-43f8-9159-5633bf1c6003",
     "prev": "5e1c28ae-c497-4d57-b93c-188c0bef3603",
     "regions": {
      "0cdf3b76-86ec-49b9-966e-6b205674be9f": {
       "attrs": {
        "height": 0.96,
        "width": 0.96,
        "x": 0.02,
        "y": 0.02
       },
       "content": {
        "cell": "e2216040-4553-434f-8c3d-ee19fe10391d",
        "part": "whole"
       },
       "id": "0cdf3b76-86ec-49b9-966e-6b205674be9f"
      }
     }
    },
    "4b6b38a6-66c7-4b7c-9b62-4e1f0daa44d9": {
     "id": "4b6b38a6-66c7-4b7c-9b62-4e1f0daa44d9",
     "prev": "8aaa9682-838e-401c-a061-a45c5a11e8b5",
     "regions": {
      "6cd0d0c0-a55a-46c3-93b6-2143d5c5ff57": {
       "attrs": {
        "height": 0.96,
        "width": 0.96,
        "x": 0.02,
        "y": 0.02
       },
       "content": {
        "cell": "6838a397-6410-4a37-9bc4-52dddaa8d3c6",
        "part": "whole"
       },
       "id": "6cd0d0c0-a55a-46c3-93b6-2143d5c5ff57"
      }
     }
    },
    "4bff1002-93bb-40eb-8e87-5d35801c36dc": {
     "id": "4bff1002-93bb-40eb-8e87-5d35801c36dc",
     "prev": "4cba0913-7ffb-4a8f-8f68-79b833455023",
     "regions": {
      "1a0743e9-f89c-48b9-bc7a-32f4355c6a1b": {
       "attrs": {
        "height": 0.96,
        "width": 0.96,
        "x": 0.02,
        "y": 0.02
       },
       "content": {
        "cell": "50fe30dc-65c4-4a01-a31a-68c1f9e90d88",
        "part": "whole"
       },
       "id": "1a0743e9-f89c-48b9-bc7a-32f4355c6a1b"
      }
     }
    },
    "4cba0913-7ffb-4a8f-8f68-79b833455023": {
     "id": "4cba0913-7ffb-4a8f-8f68-79b833455023",
     "prev": "79bd8c4c-efd3-4c81-bd3a-bb5e2612552a",
     "regions": {
      "5594ad01-8d1f-4f69-9fdc-b4a3b6a0a4f5": {
       "attrs": {
        "height": 0.96,
        "width": 0.96,
        "x": 0.02,
        "y": 0.02
       },
       "content": {
        "cell": "b420927d-ea1a-4fc8-b53f-e1309de37ba2",
        "part": "whole"
       },
       "id": "5594ad01-8d1f-4f69-9fdc-b4a3b6a0a4f5"
      }
     }
    },
    "5d56965e-228b-435a-9fcb-381bbc5886ec": {
     "id": "5d56965e-228b-435a-9fcb-381bbc5886ec",
     "prev": "4b6b38a6-66c7-4b7c-9b62-4e1f0daa44d9",
     "regions": {
      "62e9d9c3-aa86-4e95-bbc5-276df19a835a": {
       "attrs": {
        "height": 0.96,
        "width": 0.96,
        "x": 0.02,
        "y": 0.02
       },
       "content": {
        "cell": "85c8760b-e28f-487a-9b38-5604538571a8",
        "part": "whole"
       },
       "id": "62e9d9c3-aa86-4e95-bbc5-276df19a835a"
      }
     }
    },
    "5e1c28ae-c497-4d57-b93c-188c0bef3603": {
     "id": "5e1c28ae-c497-4d57-b93c-188c0bef3603",
     "prev": "5d56965e-228b-435a-9fcb-381bbc5886ec",
     "regions": {
      "348da45a-a776-4d68-8add-1ee8141643f0": {
       "attrs": {
        "height": 0.96,
        "width": 0.96,
        "x": 0.02,
        "y": 0.02
       },
       "content": {
        "cell": "9fed7904-18f1-41a6-8d71-9315b26656c5",
        "part": "whole"
       },
       "id": "348da45a-a776-4d68-8add-1ee8141643f0"
      }
     }
    },
    "5fa372d7-5abf-4145-8b9e-b0521218a60b": {
     "id": "5fa372d7-5abf-4145-8b9e-b0521218a60b",
     "prev": "21c04fb2-bc1a-45f1-8b79-c24b025f1262",
     "regions": {
      "3b08748a-000c-4d19-9b32-c5030ecb296a": {
       "attrs": {
        "height": 0.05869539198084975,
        "width": 0.9600000000000001,
        "x": 0.02,
        "y": 0.9213046080191503
       },
       "content": {
        "cell": "bdf0a8ea-8de0-4ca3-b5a5-e4eed81004ed",
        "part": "whole"
       },
       "id": "3b08748a-000c-4d19-9b32-c5030ecb296a"
      },
      "ce8f6abb-a89c-49dd-ae17-edb60a3caf6e": {
       "attrs": {
        "height": 0.16845800917614198,
        "width": 0.9600000000000001,
        "x": 0.02,
        "y": 0.02
       },
       "content": {
        "cell": "26194c28-8306-47da-81eb-7e6721cc0718",
        "part": "whole"
       },
       "id": "ce8f6abb-a89c-49dd-ae17-edb60a3caf6e"
      },
      "e7d825be-cb49-4167-82d3-94b8b91dcafc": {
       "attrs": {
        "height": 0.79278675443846,
        "width": 0.9600000000000001,
        "x": 0.02,
        "y": 0.1872132455615399
       },
       "content": {
        "cell": "f87ee0c2-fec9-4b89-aae3-dacd6f660947",
        "part": "whole"
       },
       "id": "e7d825be-cb49-4167-82d3-94b8b91dcafc"
      }
     }
    },
    "679e0b84-0820-4ad6-b0b3-120ec397a97b": {
     "id": "679e0b84-0820-4ad6-b0b3-120ec397a97b",
     "prev": "b9c5b440-ef93-4f76-a967-35eff2e6e325",
     "regions": {
      "b291be28-20ab-4c47-b3cc-333ad1017792": {
       "attrs": {
        "height": 0.96,
        "width": 0.96,
        "x": 0.02,
        "y": 0.02
       },
       "content": {
        "cell": "b9eff491-a5b6-4795-8172-bcf067e7e2cc",
        "part": "whole"
       },
       "id": "b291be28-20ab-4c47-b3cc-333ad1017792"
      }
     }
    },
    "79bd8c4c-efd3-4c81-bd3a-bb5e2612552a": {
     "id": "79bd8c4c-efd3-4c81-bd3a-bb5e2612552a",
     "prev": null,
     "regions": {
      "b7e43759-fc6e-4428-9a16-7d05455e7a18": {
       "attrs": {
        "height": 0.96,
        "width": 0.96,
        "x": 0.02,
        "y": 0.02
       },
       "content": {
        "cell": "fd266d55-0190-4581-af95-9ba283ad8df2",
        "part": "whole"
       },
       "id": "b7e43759-fc6e-4428-9a16-7d05455e7a18"
      }
     }
    },
    "8393f9a0-3e1a-4680-b362-adca696acff0": {
     "id": "8393f9a0-3e1a-4680-b362-adca696acff0",
     "prev": "cd52cdf9-cd72-4e52-be3e-581468c13d97",
     "regions": {
      "4f355de1-1918-48b4-a6a0-98a463b54fb5": {
       "attrs": {
        "height": 0.96,
        "width": 0.96,
        "x": 0.02,
        "y": 0.02
       },
       "content": {
        "cell": "d1007af4-0bf2-47f9-88c4-a4615cb0d387",
        "part": "whole"
       },
       "id": "4f355de1-1918-48b4-a6a0-98a463b54fb5"
      }
     }
    },
    "8aaa9682-838e-401c-a061-a45c5a11e8b5": {
     "id": "8aaa9682-838e-401c-a061-a45c5a11e8b5",
     "prev": "18698e9f-8da7-4d64-b158-da101fbe607d",
     "regions": {
      "686bb3c8-5411-47ac-9c4a-97f88164eaa1": {
       "attrs": {
        "height": 0.96,
        "width": 0.96,
        "x": 0.02,
        "y": 0.02
       },
       "content": {
        "cell": "1365e0ca-55e3-4fbc-be3b-f93d71ed1e3b",
        "part": "whole"
       },
       "id": "686bb3c8-5411-47ac-9c4a-97f88164eaa1"
      }
     }
    },
    "8c0e3128-e097-49a0-b472-9c822f3ae85c": {
     "id": "8c0e3128-e097-49a0-b472-9c822f3ae85c",
     "prev": "306e9878-36ff-43f8-9159-5633bf1c6003",
     "regions": {
      "c2118912-a5b2-4cda-b648-fb94d063a084": {
       "attrs": {
        "height": 0.96,
        "width": 0.96,
        "x": 0.02,
        "y": 0.02
       },
       "content": {
        "cell": "aedf5b76-fe5e-416f-aa15-fcdd315d6194",
        "part": "whole"
       },
       "id": "c2118912-a5b2-4cda-b648-fb94d063a084"
      }
     }
    },
    "a16beee3-9c0a-40bd-ab4d-c945f560de21": {
     "id": "a16beee3-9c0a-40bd-ab4d-c945f560de21",
     "prev": "8393f9a0-3e1a-4680-b362-adca696acff0",
     "regions": {
      "5def5f14-92a0-4ab2-b54b-e891e56be0a8": {
       "attrs": {
        "height": 0.96,
        "width": 0.96,
        "x": 0.02,
        "y": 0.02
       },
       "content": {
        "cell": "c86fc8f5-169b-40cb-bcc6-45f5665ac5e2",
        "part": "whole"
       },
       "id": "5def5f14-92a0-4ab2-b54b-e891e56be0a8"
      }
     }
    },
    "b9c5b440-ef93-4f76-a967-35eff2e6e325": {
     "id": "b9c5b440-ef93-4f76-a967-35eff2e6e325",
     "prev": "de40830c-97b7-47a2-92c0-5e748792a679",
     "regions": {
      "c727083a-7cc0-46aa-b1b1-902265a868b6": {
       "attrs": {
        "height": 0.96,
        "width": 0.96,
        "x": 0.02,
        "y": 0.02
       },
       "content": {
        "cell": "14da7f2e-687f-4af2-88b8-2024f7028253",
        "part": "whole"
       },
       "id": "c727083a-7cc0-46aa-b1b1-902265a868b6"
      }
     }
    },
    "cd52cdf9-cd72-4e52-be3e-581468c13d97": {
     "id": "cd52cdf9-cd72-4e52-be3e-581468c13d97",
     "prev": "d49415ee-d139-49db-841e-411175abd2a6",
     "regions": {
      "a2d9d91e-25ab-4c9e-850b-15a727d288be": {
       "attrs": {
        "height": 0.96,
        "width": 0.96,
        "x": 0.02,
        "y": 0.02
       },
       "content": {
        "cell": "a8e1d7bc-509e-41a7-924b-42f431ccdb25",
        "part": "whole"
       },
       "id": "a2d9d91e-25ab-4c9e-850b-15a727d288be"
      }
     }
    },
    "d49415ee-d139-49db-841e-411175abd2a6": {
     "id": "d49415ee-d139-49db-841e-411175abd2a6",
     "prev": "0c382477-1c45-442f-b309-d904d8b13fc0",
     "regions": {
      "508f5055-4e16-4e8d-98cc-9a43db42e900": {
       "attrs": {
        "height": 0.96,
        "width": 0.96,
        "x": 0.02,
        "y": 0.02
       },
       "content": {
        "cell": "e836321e-c570-4343-ba54-55760aeeb147",
        "part": "whole"
       },
       "id": "508f5055-4e16-4e8d-98cc-9a43db42e900"
      }
     }
    },
    "d946b580-251b-4e5e-98aa-4575a7e5894a": {
     "id": "d946b580-251b-4e5e-98aa-4575a7e5894a",
     "prev": "2ab57ba3-0ea6-4817-a7f5-dc6eeb87f37b",
     "regions": {
      "254d725c-e043-4c0c-bec0-e52a67dde644": {
       "attrs": {
        "height": 0.5698019801980199,
        "width": 0.492295792079208,
        "x": 0.48706683168316833,
        "y": 0.32400990099009896
       },
       "content": {
        "cell": "66b742f9-bb38-4871-816b-4b7704057063",
        "part": "outputs"
       },
       "id": "254d725c-e043-4c0c-bec0-e52a67dde644"
      },
      "6f8c5fb3-df5d-4852-aeb6-fbef136dbb46": {
       "attrs": {
        "height": 0.0759900990099011,
        "width": 0.9594214108910892,
        "x": 0.019941212871287133,
        "y": 0.9019801980198019
       },
       "content": {
        "cell": "351c5b67-0eaf-4bb9-b82f-48406c0450f0",
        "part": "whole"
       },
       "id": "6f8c5fb3-df5d-4852-aeb6-fbef136dbb46"
      },
      "fab98333-d675-4abe-858e-aca352fcc554": {
       "attrs": {
        "height": 0.8783168316831682,
        "width": 0.96,
        "x": 0.02,
        "y": 0.02
       },
       "content": {
        "cell": "bd400196-c2d6-4d9d-9c96-b6e4029c0b32",
        "part": "whole"
       },
       "id": "fab98333-d675-4abe-858e-aca352fcc554"
      }
     }
    },
    "de40830c-97b7-47a2-92c0-5e748792a679": {
     "id": "de40830c-97b7-47a2-92c0-5e748792a679",
     "prev": "d946b580-251b-4e5e-98aa-4575a7e5894a",
     "regions": {
      "4be789a2-0abf-4675-ab5c-d7414f1e01f9": {
       "attrs": {
        "height": 0.16047875523638536,
        "width": 0.9600000000000001,
        "x": 0.02,
        "y": 0.02
       },
       "content": {
        "cell": "90281b3c-90f4-466a-8d82-836cd29e9fef",
        "part": "whole"
       },
       "id": "4be789a2-0abf-4675-ab5c-d7414f1e01f9"
      },
      "7d6b6987-2749-49aa-bffb-57a4b703bcbb": {
       "attrs": {
        "height": 0.8007660083782165,
        "width": 0.9600000000000001,
        "x": 0.02,
        "y": 0.17923399162178336
       },
       "content": {
        "cell": "18bfb016-785d-4fd5-a68e-9e358eb820ca",
        "part": "whole"
       },
       "id": "7d6b6987-2749-49aa-bffb-57a4b703bcbb"
      },
      "875a1237-255c-4d53-ba67-cf2f3578ee98": {
       "attrs": {
        "height": 0.06986634749650904,
        "width": 0.9600000000000001,
        "x": 0.02,
        "y": 0.9101336525034909
       },
       "content": {
        "cell": "134392a1-f1c8-4e22-bf2b-f2bcd14792a7",
        "part": "whole"
       },
       "id": "875a1237-255c-4d53-ba67-cf2f3578ee98"
      }
     }
    },
    "fde27ca0-bd6a-43c2-88c4-f2cbebc809a5": {
     "id": "fde27ca0-bd6a-43c2-88c4-f2cbebc809a5",
     "prev": "679e0b84-0820-4ad6-b0b3-120ec397a97b",
     "regions": {
      "f843ae1b-1187-42de-bfb0-e17abebc70a3": {
       "attrs": {
        "height": 0.96,
        "width": 0.96,
        "x": 0.02,
        "y": 0.02
       },
       "content": {
        "cell": "9efe99d7-cd96-4bee-adce-91778c5e03fe",
        "part": "whole"
       },
       "id": "f843ae1b-1187-42de-bfb0-e17abebc70a3"
      }
     }
    }
   },
   "themes": {
    "default": "110e5272-01a8-42f6-ae7c-b85a72523630",
    "theme": {
     "110e5272-01a8-42f6-ae7c-b85a72523630": {
      "backgrounds": {
       "my-background": {
        "background-color": "white"
       }
      },
      "id": "110e5272-01a8-42f6-ae7c-b85a72523630",
      "palette": {
       "black": {
        "id": "black",
        "rgb": [
         0,
         0,
         0
        ]
       },
       "blue": {
        "id": "blue",
        "rgb": [
         0,
         153,
         204
        ]
       },
       "gray": {
        "id": "gray",
        "rgb": [
         128,
         128,
         128
        ]
       },
       "red": {
        "id": "red",
        "rgb": [
         240,
         32,
         32
        ]
       },
       "white": {
        "id": "white",
        "rgb": [
         255,
         255,
         255
        ]
       }
      },
      "rules": {
       "code": {
        "font-size": 1.6
       },
       "h1": {
        "color": "blue",
        "font-size": 5.5,
        "text-align": "center"
       },
       "h2": {
        "color": "blue",
        "font-size": 3,
        "text-align": "center"
       },
       "h3": {
        "color": "black",
        "font-size": 3
       },
       "pre": {
        "font-size": 1.6
       },
       "ul li": {
        "color": "black",
        "font-size": 2.5
       },
       "ul li ul li": {
        "color": "black",
        "font-size": 2
       }
      },
      "text-base": {
       "font-family": "Georgia",
       "font-size": 2.5
      }
     }
    }
   }
  }
 },
 "nbformat": 4,
 "nbformat_minor": 1
}
