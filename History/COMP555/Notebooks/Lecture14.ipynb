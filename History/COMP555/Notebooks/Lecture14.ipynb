{
 "cells": [
  {
   "cell_type": "code",
   "execution_count": 19,
   "metadata": {
    "nbpresent": {
     "id": "a529e8f6-bdbf-41fb-ac6e-208254cdc1c7"
    },
    "slideshow": {
     "slide_type": "skip"
    }
   },
   "outputs": [
    {
     "data": {
      "application/javascript": [
       "var width = window.innerWidth || document.documentElement.clientWidth || document.body.clientWidth;\n",
       "var height = window.innerHeight || document.documentElement.clientHeight || document.body.clientHeight;\n",
       "\n",
       "IPython.notebook.kernel.execute(\"windowSize = (\" + width + \",\" + height + \")\");\n",
       "// suitable for small screens\n",
       "nbpresent.mode.tree.set(\n",
       "    [\"app\", \"theme-manager\", \"themes\", \"my-theme\"], \n",
       "    {\n",
       "    palette: {\n",
       "        \"blue\": { id: \"blue\", rgb: [0, 153, 204] },\n",
       "        \"black\": { id: \"black\", rgb: [0, 0, 0] },\n",
       "        \"white\": { id: \"white\", rgb: [255, 255, 255] },\n",
       "        \"red\": { id: \"red\", rgb: [240, 32, 32] },\n",
       "        \"gray\": { id: \"gray\", rgb: [128, 128, 128] },\n",
       "    },\n",
       "    backgrounds: {\n",
       "        \"my-background\": {\n",
       "            \"background-color\": \"white\"\n",
       "        }\n",
       "    },\n",
       "    \"text-base\": {\n",
       "        \"font-family\": \"Georgia\",\n",
       "        \"font-size\": 2.5\n",
       "    },\n",
       "    rules: {\n",
       "        h1: {\n",
       "            \"font-size\": 5.5,\n",
       "            color: \"blue\",\n",
       "            \"text-align\": \"center\"\n",
       "        },\n",
       "        h2: {\n",
       "            \"font-size\": 3,\n",
       "            color: \"blue\",\n",
       "            \"text-align\": \"center\"\n",
       "        },\n",
       "        h3: {\n",
       "            \"font-size\": 3,\n",
       "            color: \"black\",\n",
       "        },\n",
       "        \"ul li\": {\n",
       "            \"font-size\": 2.5,\n",
       "            color: \"black\"\n",
       "        },\n",
       "        \"ul li ul li\": {\n",
       "            \"font-size\": 2.0,\n",
       "            color: \"black\"\n",
       "        },\n",
       "        \"code\": {\n",
       "            \"font-size\": 1.6,\n",
       "        },\n",
       "        \"pre\": {\n",
       "            \"font-size\": 1.6,\n",
       "        }\n",
       "    }\n",
       "});"
      ],
      "text/plain": [
       "<IPython.core.display.Javascript object>"
      ]
     },
     "metadata": {},
     "output_type": "display_data"
    }
   ],
   "source": [
    "%%javascript\n",
    "var width = window.innerWidth || document.documentElement.clientWidth || document.body.clientWidth;\n",
    "var height = window.innerHeight || document.documentElement.clientHeight || document.body.clientHeight;\n",
    "\n",
    "IPython.notebook.kernel.execute(\"windowSize = (\" + width + \",\" + height + \")\");\n",
    "// suitable for small screens\n",
    "nbpresent.mode.tree.set(\n",
    "    [\"app\", \"theme-manager\", \"themes\", \"my-theme\"], \n",
    "    {\n",
    "    palette: {\n",
    "        \"blue\": { id: \"blue\", rgb: [0, 153, 204] },\n",
    "        \"black\": { id: \"black\", rgb: [0, 0, 0] },\n",
    "        \"white\": { id: \"white\", rgb: [255, 255, 255] },\n",
    "        \"red\": { id: \"red\", rgb: [240, 32, 32] },\n",
    "        \"gray\": { id: \"gray\", rgb: [128, 128, 128] },\n",
    "    },\n",
    "    backgrounds: {\n",
    "        \"my-background\": {\n",
    "            \"background-color\": \"white\"\n",
    "        }\n",
    "    },\n",
    "    \"text-base\": {\n",
    "        \"font-family\": \"Georgia\",\n",
    "        \"font-size\": 2.5\n",
    "    },\n",
    "    rules: {\n",
    "        h1: {\n",
    "            \"font-size\": 5.5,\n",
    "            color: \"blue\",\n",
    "            \"text-align\": \"center\"\n",
    "        },\n",
    "        h2: {\n",
    "            \"font-size\": 3,\n",
    "            color: \"blue\",\n",
    "            \"text-align\": \"center\"\n",
    "        },\n",
    "        h3: {\n",
    "            \"font-size\": 3,\n",
    "            color: \"black\",\n",
    "        },\n",
    "        \"ul li\": {\n",
    "            \"font-size\": 2.5,\n",
    "            color: \"black\"\n",
    "        },\n",
    "        \"ul li ul li\": {\n",
    "            \"font-size\": 2.0,\n",
    "            color: \"black\"\n",
    "        },\n",
    "        \"code\": {\n",
    "            \"font-size\": 1.6,\n",
    "        },\n",
    "        \"pre\": {\n",
    "            \"font-size\": 1.6,\n",
    "        }\n",
    "    }\n",
    "});"
   ]
  },
  {
   "cell_type": "markdown",
   "metadata": {
    "nbpresent": {
     "id": "f176bbeb-e404-4a90-a978-bcc4b2d86e30"
    },
    "slideshow": {
     "slide_type": "slide"
    }
   },
   "source": [
    "# Multi-String BWTs\n",
    "\n",
    "<img src=\"http://csbio.unc.edu/mcmillan/Comp555S18/Media/L23Library.png\" width=\"600px\">\n",
    "\n",
    "<p style=\"text-align: right; clear: right;\">1</p>"
   ]
  },
  {
   "cell_type": "markdown",
   "metadata": {
    "nbpresent": {
     "id": "276ef7e8-da6e-4c9e-bf76-28c3289ed2af"
    },
    "slideshow": {
     "slide_type": "slide"
    }
   },
   "source": [
    "# MSBWT\n",
    "\n",
    "A BWT containing a ***string collection*** instead of just a single string\n",
    "\n",
    "* Earliest: Mantaci et al. (2005), used concatenation approach\n",
    "* Bauer et al. (2011) - proposed version we will discuss today\n",
    "\n",
    "Analogy:\n",
    "\n",
    "* Instead of searching for a substring within a single book, search every book of a library\n",
    "    - Each book has it's own text, suffix array, and end-of-text delimiter\n",
    "    - Searching allows us to find how many times a substring appears and in which texts\n",
    "\n",
    "Bioinformatics?\n",
    "* Search all genomes? You could, but that's not the main application.\n",
    "* Search multiple chromosomes of an organism? You should, but even that is not the killer app\n",
    "\n",
    "<p style=\"text-align: right; clear: right;\">2</p>"
   ]
  },
  {
   "cell_type": "markdown",
   "metadata": {
    "nbpresent": {
     "id": "d35b329f-211e-4d12-af2e-4f287d31f5f2"
    },
    "slideshow": {
     "slide_type": "slide"
    }
   },
   "source": [
    "# Naive Construction\n",
    "\n",
    "<img src=\"http://csbio.unc.edu/mcmillan/Comp555S18/Media/L23MSBWTExample.png\" width=\"400px\" style=\"float: right; margin: 0px 50px;\">\n",
    "* Create all rotations for all strings in the collection\n",
    "\n",
    "* Sort all rotations together (Suffix Array)\n",
    "\n",
    "* Store the predecessor of each suffix\n",
    "\n",
    "* Strings are “cyclic”\n",
    "\n",
    "* The predecessor is always from the same string\n",
    "\n",
    "* Impossible to “jump” from one string to another\n",
    "\n",
    "* Strings can have different lengths\n",
    "\n",
    "<p style=\"text-align: right; clear: right;\">3</p>"
   ]
  },
  {
   "cell_type": "markdown",
   "metadata": {
    "nbpresent": {
     "id": "a947ccfa-e32d-4af4-8ea9-866ae4fbe9eb"
    },
    "slideshow": {
     "slide_type": "slide"
    }
   },
   "source": [
    "# MSBWT's FM-index\n",
    "\n",
    "<img src=\"http://csbio.unc.edu/mcmillan/Comp555S18/Media/L23MSBWTFMindex.png\" width=\"500px\" style=\"float: right; margin: 0px 50px;\">\n",
    "Identical Definition\n",
    "* Find k-mer “CA”\n",
    "* Initialize to full range ('')\n",
    "* lo, hi = 0, 10\n",
    "* Find occurrences of 'A'\n",
    "   - lo = Offset['A'] + FMindex[lo]['A'] = 2 + 0 = 2\n",
    "   - hi = Offset['A'] + FMindex[hi]['A'] = 2 + 5 = 7\n",
    "\n",
    "* Find occurrences of “CA”\n",
    "    - lo = Offset['C'] + FMindex[lo]['C'] = 7 + 0 = 7\n",
    "    - hi = Offset['C'] + FMindex[hi]['C'] = 7 + 2 = 9\n",
    "\n",
    "\n",
    "* Searching and extracting suffixes are identical to a BWT\n",
    "<p style=\"text-align: right; clear: right;\">4</p>"
   ]
  },
  {
   "cell_type": "markdown",
   "metadata": {
    "nbpresent": {
     "id": "fffaf327-51e9-4194-82b8-4032585240cc"
    },
    "slideshow": {
     "slide_type": "skip"
    }
   },
   "source": [
    "# Extra Slide\n",
    "<pre style=\"font-weight: 500; font-size: 150%\">\n",
    "                                        FM-index\n",
    "    String1       Sorted     MSBWT        $  A  C\n",
    "    <span style=\"color: red;\">ACCA&dollar;</span>         <span style=\"color: red;\">&dollar;ACCA</span>        <span style=\"color: red;\">A</span>      0:  0  0  0\n",
    "    <span style=\"color: red;\">CCA&dollar;A</span>         <span style=\"color: blue;\">&dollar;CAAA</span>        <span style=\"color: blue;\">A</span>      1:  0  1  0\n",
    "    <span style=\"color: red;\">CA&dollar;AC</span>         <span style=\"color: red;\">A&dollar;ACC</span>        <span style=\"color: red;\">C</span>      2:  0  2  0\n",
    "    <span style=\"color: red;\">A&dollar;ACC</span>         <span style=\"color: blue;\">A&dollar;CAA</span>        <span style=\"color: blue;\">A</span>      3:  0  2  1\n",
    "    <span style=\"color: red;\">&dollar;ACCA</span>         <span style=\"color: blue;\">AA&dollar;CA</span>        <span style=\"color: blue;\">A</span>      4:  0  3  1\n",
    "                  <span style=\"color: blue;\">AAA&dollar;C</span>        <span style=\"color: blue;\">C</span>      5:  0  4  1\n",
    "    String2       <span style=\"color: red;\">ACCA&dollar;</span>        <span style=\"color: red;\">&dollar;</span>      6:  0  4  2\n",
    "    <span style=\"color: blue;\">CAAA&dollar;</span>         <span style=\"color: red;\">CA&dollar;AC</span>        <span style=\"color: red;\">C</span>      7:  1  4  2\n",
    "    <span style=\"color: blue;\">AAA&dollar;C</span>         <span style=\"color: blue;\">CAAA&dollar;</span>        <span style=\"color: blue;\">&dollar;</span>      8:  1  4  3\n",
    "    <span style=\"color: blue;\">AA&dollar;CA</span>         <span style=\"color: red;\">CCA&dollar;A</span>        <span style=\"color: red;\">A</span>      9:  2  4  3\n",
    "    <span style=\"color: blue;\">A&dollar;CAA</span>                            10:  2  5  3\n",
    "    <span style=\"color: blue;\">&dollar;CAAA</span>                        Offset:  0  2  7\n",
    "</pre>\n",
    "\n"
   ]
  },
  {
   "cell_type": "markdown",
   "metadata": {
    "nbpresent": {
     "id": "4f094e79-a3e7-47c2-906d-34d0245a955d"
    },
    "slideshow": {
     "slide_type": "slide"
    }
   },
   "source": [
    "# Incremental MSBWT Construction\n",
    "\n",
    "<img src=\"http://csbio.unc.edu/mcmillan/Comp555S18/Media/L23IncrementalMSBWT.png\" width=\"400px\" style=\"float: right; margin: 0px 50px 0px 50px;\">\n",
    "* A key tool missing from the BWTs toolbox--<br> *adding new strings to an existing msBWT*\n",
    "\n",
    "\n",
    "* You could reconstruct the suffix array of the msBWT using suffix(i, fmindex) for all i, and then insert the suffixes of the new string.\n",
    "* Variant of find(); Find the insertion point of new string's j<sup>th</sup> suffix, s<sub>j</sub>\n",
    "* Add last character to msBWT\n",
    "* Update the FMindex\n",
    "\n",
    "<p style=\"text-align: right; clear: right;\">5</p>"
   ]
  },
  {
   "cell_type": "code",
   "execution_count": 20,
   "metadata": {
    "slideshow": {
     "slide_type": "skip"
    }
   },
   "outputs": [
    {
     "name": "stdout",
     "output_type": "stream",
     "text": [
      " 0: $ACAT\n",
      " 1: $ATAG\n",
      " 2: $GAGA\n",
      " 3: A$GAG\n",
      " 4: ACAT$\n",
      " 5: AG$AT\n",
      " 6: AGA$G\n",
      " 7: AT$AC\n",
      " 8: ATAG$\n",
      " 9: CAT$A\n",
      "10: G$ATA\n",
      "11: GA$GA\n",
      "12: GAGA$\n",
      "13: T$ACA\n",
      "14: TAG$A\n",
      "TGAAGT$TGCT$AAA$AAA$\n"
     ]
    }
   ],
   "source": [
    "def FMIndex(bwt):\n",
    "    fm = [{c: 0 for c in bwt}]\n",
    "    for c in bwt:\n",
    "        row = {symbol: count + 1 if (symbol == c) else count for symbol, count in fm[-1].iteritems()}\n",
    "        fm.append(row)\n",
    "    offset = {}\n",
    "    N = 0\n",
    "    for symbol in sorted(row.keys()):\n",
    "        offset[symbol] = N\n",
    "        N += row[symbol]\n",
    "    return fm, offset\n",
    "\n",
    "def inverseBWT(bwt):\n",
    "    # initialize the table from t\n",
    "    table = ['' for c in bwt]\n",
    "    for j in xrange(len(bwt)):\n",
    "        #insert the BWT as the first column\n",
    "        table = sorted([c+table[i] for i, c in enumerate(bwt)])\n",
    "    #return the row that ends with ‘$’\n",
    "    return table[bwt.index('$')]\n",
    "\n",
    "def BWT(t):\n",
    "    # create a sorted list of all cyclic suffixes of t\n",
    "    rotation = sorted([t[i:]+t[:i] for i in xrange(len(t))])\n",
    "    # concatenate the last symbols from each suffix\n",
    "    return ''.join(r[-1] for r in rotation)\n",
    "\n",
    "def recoverSuffix(i, BWT, FMIndex, Offset):\n",
    "    suffix = ''\n",
    "    c = BWT[i]\n",
    "    predec = Offset[c] + FMIndex[i][c]\n",
    "    suffix = c + suffix\n",
    "    while (predec != i):\n",
    "        c = BWT[predec]\n",
    "        predec = Offset[c] + FMIndex[predec][c]\n",
    "        suffix = c + suffix\n",
    "    return suffix\n",
    "\n",
    "def findBWT(pattern, FMIndex, Offset):\n",
    "    lo = 0\n",
    "    hi = len(FMIndex) - 1\n",
    "    for symbol in reversed(pattern):\n",
    "        lo = Offset[symbol] + FMIndex[lo][symbol]\n",
    "        hi = Offset[symbol] + FMIndex[hi][symbol]\n",
    "    return lo, hi\n",
    "\n",
    "bwt = \"TGAG$TGC$AAA$AA\"\n",
    "fm, off = FMIndex(bwt)\n",
    "for i in xrange(len(bwt)):\n",
    "    print \"%2d: %s\" % (i, recoverSuffix(i, bwt, fm, off))\n",
    "\n",
    "new = \"TATA$\"\n",
    "inserts = []\n",
    "for i in xrange(len(new)):\n",
    "    l, h = findBWT(new[i:]+new[:i],fm,off)\n",
    "    inserts.append((h,new[i-1]))\n",
    "\n",
    "for i, c in sorted(inserts, reverse=True):\n",
    "    bwt = bwt[:i] + c + bwt[i:]\n",
    "\n",
    "print bwt"
   ]
  },
  {
   "cell_type": "markdown",
   "metadata": {
    "nbpresent": {
     "id": "b3b74b84-1afe-47cf-9e0c-3afecdd847b8"
    },
    "slideshow": {
     "slide_type": "slide"
    }
   },
   "source": [
    "# Merging msBWTs\n",
    "\n",
    "<img src=\"http://csbio.unc.edu/mcmillan/Comp555S18/Media/L23MergeMSBWT.png\" width=\"200px\" style=\"float: right; margin: 0px 150px 0px 50px;\">\n",
    "* BETTER YET! Rather than inserting new strings, build a BWT of the new strings and merge the new and old BWTs\n",
    "* Suffixes of BTWs are already sorted\n",
    "* BTWs are interleaved\n",
    "* In the worse case (ties) the entire suffix must be considered, but general the longest common prefix of suffixes is smaller\n",
    "* Minimal overhead\n",
    "* Well suited for divide an conquer approaches (like merge sort)\n",
    "* Easy to merge multiple data sets! \n",
    "* Compression improves!\n",
    "\n",
    "<p style=\"text-align: right; clear: right;\">6</p>"
   ]
  },
  {
   "cell_type": "markdown",
   "metadata": {
    "nbpresent": {
     "id": "4d668b02-9a24-4369-90d9-0d512c466e03"
    },
    "slideshow": {
     "slide_type": "slide"
    }
   },
   "source": [
    "# Merging Steps\n",
    "\n",
    "* msBWT merging alternates between sorting and interleaving\n",
    "<img src=\"http://csbio.unc.edu/mcmillan/Comp555S18/Media/L23MergeSteps.png\" width=\"700px\">\n",
    "\n",
    "<p style=\"text-align: right; clear: right;\">7</p>"
   ]
  },
  {
   "cell_type": "markdown",
   "metadata": {
    "nbpresent": {
     "id": "f6e67f82-f425-4ede-a7ad-098f2824cb25"
    },
    "slideshow": {
     "slide_type": "slide"
    }
   },
   "source": [
    "# In Python"
   ]
  },
  {
   "cell_type": "code",
   "execution_count": 21,
   "metadata": {
    "nbpresent": {
     "id": "9e0cd4c8-4e92-44cc-99de-3049f8b36f41"
    },
    "slideshow": {
     "slide_type": "skip"
    }
   },
   "outputs": [],
   "source": [
    "def FMIndex(bwt):\n",
    "    fm = [{c: 0 for c in bwt}]\n",
    "    for c in bwt:\n",
    "        row = {symbol: count + 1 if (symbol == c) else count for symbol, count in fm[-1].iteritems()}\n",
    "        fm.append(row)\n",
    "    offset = {}\n",
    "    N = 0\n",
    "    for symbol in sorted(row.keys()):\n",
    "        offset[symbol] = N\n",
    "        N += row[symbol]\n",
    "    return fm, offset\n",
    "\n",
    "def recoverSuffix(i, BWT, FMIndex, Offset):\n",
    "    suffix = ''\n",
    "    c = BWT[i]\n",
    "    predec = Offset[c] + FMIndex[i][c]\n",
    "    suffix = c + suffix\n",
    "    while (predec != i):\n",
    "        c = BWT[predec]\n",
    "        predec = Offset[c] + FMIndex[predec][c]\n",
    "        suffix = c + suffix\n",
    "    return suffix"
   ]
  },
  {
   "cell_type": "code",
   "execution_count": 22,
   "metadata": {
    "nbpresent": {
     "id": "73204501-2170-42de-ac72-90e436563e4b"
    },
    "scrolled": false,
    "slideshow": {
     "slide_type": "fragment"
    }
   },
   "outputs": [
    {
     "name": "stdout",
     "output_type": "stream",
     "text": [
      "TGAAGT$TGCT$AAA$AAA$\n",
      " 0: $ACAT   5: A$TAT  10: ATA$T  15: GAGA$ \n",
      " 1: $ATAG   6: ACAT$  11: ATAG$  16: T$ACA \n",
      " 2: $GAGA   7: AG$AT  12: CAT$A  17: TA$TA \n",
      " 3: $TATA   8: AGA$G  13: G$ATA  18: TAG$A \n",
      " 4: A$GAG   9: AT$AC  14: GA$GA  19: TATA$ \n"
     ]
    }
   ],
   "source": [
    "def mergeBWT(bwt1, bwt2):\n",
    "    interleave = [(c, 0) for c in bwt1] + [(c, 1) for c in bwt2]\n",
    "    passes = min(len(bwt1), len(bwt2))\n",
    "    for p in xrange(passes):\n",
    "        i, j = 0, 0\n",
    "        nextInterleave = []\n",
    "        for c, k in sorted(interleave, key=lambda x: x[0]):\n",
    "            if (k == 0):\n",
    "                b = bwt1[i]\n",
    "                i += 1\n",
    "            else:\n",
    "                b = bwt2[j]\n",
    "                j += 1\n",
    "            nextInterleave.append((b, k))\n",
    "        if (nextInterleave == interleave):\n",
    "            break\n",
    "        interleave = nextInterleave\n",
    "    return ''.join([c for c, k in interleave])\n",
    "\n",
    "bwt1 = \"TG$TC$AAAA\"\n",
    "bwt2 = \"AAGTGTA$A$\"\n",
    "bwt12 = mergeBWT(bwt1, bwt2)\n",
    "print bwt12\n",
    "FM, Offset = FMIndex(bwt12)\n",
    "for i in xrange(len(bwt12)):\n",
    "    j = (i>>2)+(i&3)*(len(bwt12)/4)\n",
    "    print \"%2d: %s\" % (j, recoverSuffix(j,bwt12,FM,Offset)), \"\\n\" if (i % 4 == 3) else \"\","
   ]
  },
  {
   "cell_type": "markdown",
   "metadata": {
    "nbpresent": {
     "id": "ccf927c2-c3b2-450d-bbdb-599702cf45c0"
    },
    "slideshow": {
     "slide_type": "fragment"
    }
   },
   "source": [
    "<p style=\"text-align: right; clear: right;\">8</p>"
   ]
  },
  {
   "cell_type": "markdown",
   "metadata": {
    "nbpresent": {
     "id": "d4c33dbf-fc44-443b-a97d-8d9285808d91"
    },
    "slideshow": {
     "slide_type": "slide"
    }
   },
   "source": [
    "# MSBWT Applications\n",
    "\n",
    "* Instead of building a BWT of a reference genome, build a MSBWT of every sequenced reads\n",
    "* Arbitrary exact-match k-mer queries\n",
    "* O(k) time\n",
    "* Enables fast searches/counting\n",
    "* Recover an arbitrary read of length L from MSBWT\n",
    "* O(L) time\n",
    "* Enables extraction of user-selected reads\n",
    "\n",
    "<p style=\"text-align: right; clear: right;\">9</p>"
   ]
  },
  {
   "cell_type": "markdown",
   "metadata": {
    "nbpresent": {
     "id": "01e0ad43-a7a9-4204-bd2c-a0499d157cb4"
    },
    "slideshow": {
     "slide_type": "slide"
    }
   },
   "source": [
    "# Compression of high-throughput sequencing\n",
    "\n",
    "* Using Run-length encoding again\n",
    "* Reasons we expect compression:\n",
    "* True genomic repeats: gene families, long repeats, etc.\n",
    "* Over-sampling: 30x coverage means we expect 30 copies of every k-mer pattern\n",
    "* Sequencing errors may break up runs\n",
    "* Technical errors may cause biases for or against a particular pattern\n",
    "* Real Mouse DNA-seq:\n",
    "   * 368654191 &times; 151 &times; 2 = ~112 Giga-bases\n",
    "   * Compresses to ~15.3 GB using RLE (1.09 bits/base)\n",
    "* Real Mouse RNA-seq:\n",
    "   * ~8.9 Giga-bases\n",
    "   * ~1.2 GB using RLE (1.05 bits/base)\n",
    "   \n",
    "<p style=\"text-align: right; clear: right;\">10</p>"
   ]
  },
  {
   "cell_type": "markdown",
   "metadata": {
    "nbpresent": {
     "id": "ae113dff-67c4-4cd4-9c03-ca817fccd0da"
    },
    "slideshow": {
     "slide_type": "slide"
    }
   },
   "source": [
    "# K-mer Search & Extraction\n",
    "\n",
    "Basic Use:\n",
    "<img src=\"http://csbio.unc.edu/mcmillan/Comp555S18/Media/L23KmerSearch.png\">\n",
    "<p style=\"text-align: center;\">Green: query k-mer. Red: forward reads. Blue: reverse-complement reads.</p>\n",
    "\n",
    "* Search for all reads with a given k-mer\n",
    "* Extract all reads with that k-mer and its reverse-complement\n",
    "* Build a consensus\n",
    "<p style=\"text-align: right; clear: right;\">11</p>"
   ]
  },
  {
   "cell_type": "markdown",
   "metadata": {
    "nbpresent": {
     "id": "2e3a17bb-15a2-40a5-a1c0-1baf79dd800b"
    },
    "slideshow": {
     "slide_type": "slide"
    }
   },
   "source": [
    "# Reference-based Searches\n",
    "\n",
    "<img src=\"http://csbio.unc.edu/mcmillan/Comp555S18/Media/L23Egr3.png\" width=\"500px\" style=\"float: right;\">\n",
    "* Given a reference genome and region of that genome\n",
    "* Split reference into k-mers\n",
    "* Count the abundance of each k-mer and plot\n",
    "* Fast - O(k) time per k-mer\n",
    "* Similar to a post-alignment pileup\n",
    "\n",
    "<p style=\"text-align: right; clear: right;\">12</p>"
   ]
  },
  {
   "cell_type": "markdown",
   "metadata": {
    "nbpresent": {
     "id": "ab896799-a344-447a-8ae1-2a11ab3326ce"
    },
    "slideshow": {
     "slide_type": "slide"
    }
   },
   "source": [
    "# Reference Correction\n",
    "\n",
    "<img src=\"http://csbio.unc.edu/mcmillan/Comp555S18/Media/L23RefCorrection.png\" width=\"800px\">\n",
    "\n",
    "<p style=\"text-align: right; clear: right;\">13</p>"
   ]
  },
  {
   "cell_type": "markdown",
   "metadata": {
    "nbpresent": {
     "id": "ca34c3a1-a6f6-4714-97f5-8afeb5a784f9"
    },
    "slideshow": {
     "slide_type": "slide"
    }
   },
   "source": [
    "# Summary\n",
    "\n",
    "* Burrows-Wheeler Transform\n",
    "    - Permutation of characters that represents a suffix array\n",
    "    - Run-length encoded for compression\n",
    "\n",
    "* FM-index\n",
    "    - Derived from BWT\n",
    "    - Exploits LF-mapping property\n",
    "    - O(k) search time for arbitrary k-mer, independent of BWT's size\n",
    "    - Used in many fast aligners\n",
    "\n",
    "* MSBWT\n",
    "    - Applies to string collections\n",
    "    - Enables database-like access to reads via k-mer searches\n",
    "    \n",
    "<p style=\"text-align: right; clear: right;\">14</p>"
   ]
  },
  {
   "cell_type": "markdown",
   "metadata": {
    "nbpresent": {
     "id": "1cc2aaef-f150-4878-ac70-4e0638f27b53"
    },
    "slideshow": {
     "slide_type": "slide"
    }
   },
   "source": [
    "# Next Time\n",
    "\n",
    "### Sequence Alignment\n",
    "<img src=\"http://csbio.unc.edu/mcmillan/Comp555S18/Media/AlignCartoon.png\">\n",
    "\n",
    "<p style=\"text-align: right; clear: right;\">15</p>"
   ]
  },
  {
   "cell_type": "code",
   "execution_count": null,
   "metadata": {
    "collapsed": true,
    "nbpresent": {
     "id": "21cc8ca3-cea4-49d9-b376-3ac57046bf17"
    }
   },
   "outputs": [],
   "source": []
  }
 ],
 "metadata": {
  "anaconda-cloud": {},
  "kernelspec": {
   "display_name": "Python 2",
   "language": "python",
   "name": "python2"
  },
  "language_info": {
   "codemirror_mode": {
    "name": "ipython",
    "version": 2
   },
   "file_extension": ".py",
   "mimetype": "text/x-python",
   "name": "python",
   "nbconvert_exporter": "python",
   "pygments_lexer": "ipython2",
   "version": "2.7.14"
  },
  "nbpresent": {
   "slides": {
    "069494d0-2cf8-447d-b688-d4a00ba656c4": {
     "id": "069494d0-2cf8-447d-b688-d4a00ba656c4",
     "prev": "72aa4ab3-3f13-4b7a-b537-9aee9095a427",
     "regions": {
      "1f5c8948-faf8-4abb-b436-fec664239ad6": {
       "attrs": {
        "height": 0.96,
        "width": 0.96,
        "x": 0.02,
        "y": 0.02
       },
       "content": {
        "cell": "d35b329f-211e-4d12-af2e-4f287d31f5f2",
        "part": "whole"
       },
       "id": "1f5c8948-faf8-4abb-b436-fec664239ad6"
      }
     }
    },
    "06a4bf53-c02f-43af-815b-219b0c688b1d": {
     "id": "06a4bf53-c02f-43af-815b-219b0c688b1d",
     "prev": "57cca31b-b294-4009-be23-d0462f96e919",
     "regions": {
      "2fe31a24-f779-47ce-9bd1-211b01cb04cb": {
       "attrs": {
        "height": 0.96,
        "width": 0.96,
        "x": 0.02,
        "y": 0.02
       },
       "content": {
        "cell": "01e0ad43-a7a9-4204-bd2c-a0499d157cb4",
        "part": "whole"
       },
       "id": "2fe31a24-f779-47ce-9bd1-211b01cb04cb"
      }
     }
    },
    "3506cdb7-8c86-40f0-80e0-a754b2f89f4f": {
     "id": "3506cdb7-8c86-40f0-80e0-a754b2f89f4f",
     "prev": "dd60d5c5-afa0-43c3-b6a6-8265ce466ef3",
     "regions": {
      "eca4f896-78ac-413b-9995-99d25481c07d": {
       "attrs": {
        "height": 0.96,
        "width": 0.96,
        "x": 0.02,
        "y": 0.02
       },
       "content": {
        "cell": "ca34c3a1-a6f6-4714-97f5-8afeb5a784f9",
        "part": "whole"
       },
       "id": "eca4f896-78ac-413b-9995-99d25481c07d"
      }
     }
    },
    "40422ff6-c17c-4e46-8664-9a3189a44098": {
     "id": "40422ff6-c17c-4e46-8664-9a3189a44098",
     "prev": null,
     "regions": {
      "2e86df22-88ba-4749-9c72-165511161df9": {
       "attrs": {
        "height": 0.96,
        "width": 0.96,
        "x": 0.02,
        "y": 0.02
       },
       "content": {
        "cell": "f176bbeb-e404-4a90-a978-bcc4b2d86e30",
        "part": "whole"
       },
       "id": "2e86df22-88ba-4749-9c72-165511161df9"
      }
     }
    },
    "57cca31b-b294-4009-be23-d0462f96e919": {
     "id": "57cca31b-b294-4009-be23-d0462f96e919",
     "prev": "c09e7f5f-493c-4663-9546-d0789232e5af",
     "regions": {
      "1fa189e6-1b0d-42ff-a992-9c9536ebf6de": {
       "attrs": {
        "height": 0.96,
        "width": 0.96,
        "x": 0.02,
        "y": 0.02
       },
       "content": {
        "cell": "d4c33dbf-fc44-443b-a97d-8d9285808d91",
        "part": "whole"
       },
       "id": "1fa189e6-1b0d-42ff-a992-9c9536ebf6de"
      }
     }
    },
    "664d9006-9242-4bfa-9fe3-581d0649f768": {
     "id": "664d9006-9242-4bfa-9fe3-581d0649f768",
     "prev": "069494d0-2cf8-447d-b688-d4a00ba656c4",
     "regions": {
      "6df1491f-6da2-4a4a-95eb-3a8e6cbf2940": {
       "attrs": {
        "height": 0.96,
        "width": 0.96,
        "x": 0.02,
        "y": 0.02
       },
       "content": {
        "cell": "a947ccfa-e32d-4af4-8ea9-866ae4fbe9eb",
        "part": "whole"
       },
       "id": "6df1491f-6da2-4a4a-95eb-3a8e6cbf2940"
      }
     }
    },
    "72aa4ab3-3f13-4b7a-b537-9aee9095a427": {
     "id": "72aa4ab3-3f13-4b7a-b537-9aee9095a427",
     "prev": "40422ff6-c17c-4e46-8664-9a3189a44098",
     "regions": {
      "5d98bd7d-da1d-4807-8df3-4cfdc58c59f4": {
       "attrs": {
        "height": 0.96,
        "width": 0.96,
        "x": 0.02,
        "y": 0.02
       },
       "content": {
        "cell": "276ef7e8-da6e-4c9e-bf76-28c3289ed2af",
        "part": "whole"
       },
       "id": "5d98bd7d-da1d-4807-8df3-4cfdc58c59f4"
      }
     }
    },
    "79d3c375-4135-4100-9cfd-9beaf3fec996": {
     "id": "79d3c375-4135-4100-9cfd-9beaf3fec996",
     "prev": "b1b4ab9f-4054-4f2e-8a79-0915d13cd51d",
     "regions": {
      "97df5bb7-4601-4c7c-b918-4edc406459b5": {
       "attrs": {
        "height": 0.96,
        "width": 0.96,
        "x": 0.02,
        "y": 0.02
       },
       "content": {
        "cell": "2e3a17bb-15a2-40a5-a1c0-1baf79dd800b",
        "part": "whole"
       },
       "id": "97df5bb7-4601-4c7c-b918-4edc406459b5"
      }
     }
    },
    "a97585d2-7d1d-4cde-9c58-cce142476d9c": {
     "id": "a97585d2-7d1d-4cde-9c58-cce142476d9c",
     "prev": "c7a006d4-976b-44db-86de-e819222fba87",
     "regions": {
      "b56f4868-d067-4b64-a85f-4d0024429af8": {
       "attrs": {
        "height": 0.96,
        "width": 0.96,
        "x": 0.02,
        "y": 0.02
       },
       "content": {
        "cell": "b3b74b84-1afe-47cf-9e0c-3afecdd847b8",
        "part": "whole"
       },
       "id": "b56f4868-d067-4b64-a85f-4d0024429af8"
      }
     }
    },
    "b1b4ab9f-4054-4f2e-8a79-0915d13cd51d": {
     "id": "b1b4ab9f-4054-4f2e-8a79-0915d13cd51d",
     "prev": "06a4bf53-c02f-43af-815b-219b0c688b1d",
     "regions": {
      "6fd76eb5-eaa1-457d-9860-33b1157d0d43": {
       "attrs": {
        "height": 0.96,
        "width": 0.96,
        "x": 0.02,
        "y": 0.02
       },
       "content": {
        "cell": "ae113dff-67c4-4cd4-9c03-ca817fccd0da",
        "part": "whole"
       },
       "id": "6fd76eb5-eaa1-457d-9860-33b1157d0d43"
      }
     }
    },
    "b9a626a0-9903-4146-9371-6638446c0676": {
     "id": "b9a626a0-9903-4146-9371-6638446c0676",
     "prev": "a97585d2-7d1d-4cde-9c58-cce142476d9c",
     "regions": {
      "f863feab-082a-4c7d-accf-44ded18dfeda": {
       "attrs": {
        "height": 0.96,
        "width": 0.96,
        "x": 0.02,
        "y": 0.02
       },
       "content": {
        "cell": "4d668b02-9a24-4369-90d9-0d512c466e03",
        "part": "whole"
       },
       "id": "f863feab-082a-4c7d-accf-44ded18dfeda"
      }
     }
    },
    "c09e7f5f-493c-4663-9546-d0789232e5af": {
     "id": "c09e7f5f-493c-4663-9546-d0789232e5af",
     "prev": "b9a626a0-9903-4146-9371-6638446c0676",
     "regions": {
      "86b3fd3e-f21b-4c8d-a470-acae3f37f8c8": {
       "attrs": {
        "height": 0.0673161564785495,
        "width": 0.96,
        "x": 0.020000000000000004,
        "y": 0.9126838435214505
       },
       "content": {
        "cell": "ccf927c2-c3b2-450d-bbdb-599702cf45c0",
        "part": "whole"
       },
       "id": "86b3fd3e-f21b-4c8d-a470-acae3f37f8c8"
      },
      "a81b14b4-f50d-40ca-82ac-705fe5075bad": {
       "attrs": {
        "height": 0.8436520722669698,
        "width": 0.96,
        "x": 0.020000000000000004,
        "y": 0.13634792773303012
       },
       "content": {
        "cell": "73204501-2170-42de-ac72-90e436563e4b",
        "part": "whole"
       },
       "id": "a81b14b4-f50d-40ca-82ac-705fe5075bad"
      },
      "e13a4ac0-d9b1-4126-beea-2e90533aaebd": {
       "attrs": {
        "height": 0.11420245243024828,
        "width": 0.96,
        "x": 0.020000000000000004,
        "y": 0.02
       },
       "content": {
        "cell": "f6e67f82-f425-4ede-a7ad-098f2824cb25",
        "part": "whole"
       },
       "id": "e13a4ac0-d9b1-4126-beea-2e90533aaebd"
      }
     }
    },
    "c7a006d4-976b-44db-86de-e819222fba87": {
     "id": "c7a006d4-976b-44db-86de-e819222fba87",
     "prev": "664d9006-9242-4bfa-9fe3-581d0649f768",
     "regions": {
      "c65d7f2c-9917-4244-9990-982069868f18": {
       "attrs": {
        "height": 0.96,
        "width": 0.96,
        "x": 0.02,
        "y": 0.02
       },
       "content": {
        "cell": "4f094e79-a3e7-47c2-906d-34d0245a955d",
        "part": "whole"
       },
       "id": "c65d7f2c-9917-4244-9990-982069868f18"
      }
     }
    },
    "c7cfc457-5851-47e5-aa6c-0f64f118f878": {
     "id": "c7cfc457-5851-47e5-aa6c-0f64f118f878",
     "prev": "3506cdb7-8c86-40f0-80e0-a754b2f89f4f",
     "regions": {
      "ab46e5d7-170d-4b24-8f0c-da604de793f0": {
       "attrs": {
        "height": 0.96,
        "width": 0.96,
        "x": 0.02,
        "y": 0.02
       },
       "content": {
        "cell": "1cc2aaef-f150-4878-ac70-4e0638f27b53",
        "part": "whole"
       },
       "id": "ab46e5d7-170d-4b24-8f0c-da604de793f0"
      }
     }
    },
    "dd60d5c5-afa0-43c3-b6a6-8265ce466ef3": {
     "id": "dd60d5c5-afa0-43c3-b6a6-8265ce466ef3",
     "prev": "79d3c375-4135-4100-9cfd-9beaf3fec996",
     "regions": {
      "aafc7915-032a-4a79-8cad-48c3330cd1eb": {
       "attrs": {
        "height": 0.96,
        "width": 0.96,
        "x": 0.02,
        "y": 0.02
       },
       "content": {
        "cell": "ab896799-a344-447a-8ae1-2a11ab3326ce",
        "part": "whole"
       },
       "id": "aafc7915-032a-4a79-8cad-48c3330cd1eb"
      }
     }
    }
   },
   "themes": {
    "default": "1a717ba1-8fde-4efe-b0a5-c6424a8a872e",
    "theme": {
     "1a717ba1-8fde-4efe-b0a5-c6424a8a872e": {
      "backgrounds": {
       "my-background": {
        "background-color": "white"
       }
      },
      "id": "1a717ba1-8fde-4efe-b0a5-c6424a8a872e",
      "palette": {
       "black": {
        "id": "black",
        "rgb": [
         0,
         0,
         0
        ]
       },
       "blue": {
        "id": "blue",
        "rgb": [
         0,
         153,
         204
        ]
       },
       "gray": {
        "id": "gray",
        "rgb": [
         128,
         128,
         128
        ]
       },
       "red": {
        "id": "red",
        "rgb": [
         240,
         32,
         32
        ]
       },
       "white": {
        "id": "white",
        "rgb": [
         255,
         255,
         255
        ]
       }
      },
      "rules": {
       "code": {
        "font-size": 1.6
       },
       "h1": {
        "color": "blue",
        "font-size": 5.5,
        "text-align": "center"
       },
       "h2": {
        "color": "blue",
        "font-size": 3,
        "text-align": "center"
       },
       "h3": {
        "color": "black",
        "font-size": 3
       },
       "pre": {
        "font-size": 1.6
       },
       "ul li": {
        "color": "black",
        "font-size": 2.5
       },
       "ul li ul li": {
        "color": "black",
        "font-size": 2
       }
      },
      "text-base": {
       "font-family": "Georgia",
       "font-size": 2.5
      }
     }
    }
   }
  }
 },
 "nbformat": 4,
 "nbformat_minor": 1
}
