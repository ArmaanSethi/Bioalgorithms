{
 "cells": [
  {
   "cell_type": "code",
   "execution_count": 23,
   "metadata": {
    "scrolled": true
   },
   "outputs": [
    {
     "data": {
      "application/javascript": [
       "var width = window.innerWidth || document.documentElement.clientWidth || document.body.clientWidth;\n",
       "var height = window.innerHeight || document.documentElement.clientHeight || document.body.clientHeight;\n",
       "\n",
       "IPython.notebook.kernel.execute(\"windowSize = (\" + width + \",\" + height + \")\");\n",
       "// suitable for small screens\n",
       "nbpresent.mode.tree.set(\n",
       "    [\"app\", \"theme-manager\", \"themes\", \"my-theme\"], \n",
       "    {\n",
       "    palette: {\n",
       "        \"blue\": { id: \"blue\", rgb: [0, 153, 204] },\n",
       "        \"black\": { id: \"black\", rgb: [0, 0, 0] },\n",
       "        \"white\": { id: \"white\", rgb: [255, 255, 255] },\n",
       "        \"red\": { id: \"red\", rgb: [240, 32, 32] },\n",
       "        \"gray\": { id: \"gray\", rgb: [128, 128, 128] },\n",
       "    },\n",
       "    backgrounds: {\n",
       "        \"my-background\": {\n",
       "            \"background-color\": \"white\"\n",
       "        }\n",
       "    },\n",
       "    \"text-base\": {\n",
       "        \"font-family\": \"Georgia\",\n",
       "        \"font-size\": 3\n",
       "    },\n",
       "    rules: {\n",
       "        body: {\n",
       "            \"-webkit-print-color-adjust\": \"exact\"\n",
       "        },\n",
       "        h1: {\n",
       "            \"font-size\": 5.5,\n",
       "            color: \"blue\",\n",
       "            \"text-align\": \"center\"\n",
       "        },\n",
       "        h2: {\n",
       "            \"font-size\": 3,\n",
       "            color: \"blue\",\n",
       "            \"text-align\": \"center\"\n",
       "        },\n",
       "        h3: {\n",
       "            \"font-size\": 3,\n",
       "            color: \"black\",\n",
       "        },\n",
       "        \"ul li\": {\n",
       "            \"font-size\": 3,\n",
       "            color: \"black\"\n",
       "        },\n",
       "        \"ul li ul li\": {\n",
       "            \"font-size\": 2.5,\n",
       "            color: \"black\"\n",
       "        },\n",
       "        \"code\": {\n",
       "            \"font-size\": 2,\n",
       "        },\n",
       "        \"pre\": {\n",
       "            \"font-size\": 2,\n",
       "        }\n",
       "    }\n",
       "});"
      ],
      "text/plain": [
       "<IPython.core.display.Javascript object>"
      ]
     },
     "metadata": {},
     "output_type": "display_data"
    }
   ],
   "source": [
    "%%javascript\n",
    "var width = window.innerWidth || document.documentElement.clientWidth || document.body.clientWidth;\n",
    "var height = window.innerHeight || document.documentElement.clientHeight || document.body.clientHeight;\n",
    "\n",
    "IPython.notebook.kernel.execute(\"windowSize = (\" + width + \",\" + height + \")\");\n",
    "// suitable for small screens\n",
    "nbpresent.mode.tree.set(\n",
    "    [\"app\", \"theme-manager\", \"themes\", \"my-theme\"], \n",
    "    {\n",
    "    palette: {\n",
    "        \"blue\": { id: \"blue\", rgb: [0, 153, 204] },\n",
    "        \"black\": { id: \"black\", rgb: [0, 0, 0] },\n",
    "        \"white\": { id: \"white\", rgb: [255, 255, 255] },\n",
    "        \"red\": { id: \"red\", rgb: [240, 32, 32] },\n",
    "        \"gray\": { id: \"gray\", rgb: [128, 128, 128] },\n",
    "    },\n",
    "    backgrounds: {\n",
    "        \"my-background\": {\n",
    "            \"background-color\": \"white\"\n",
    "        }\n",
    "    },\n",
    "    \"text-base\": {\n",
    "        \"font-family\": \"Georgia\",\n",
    "        \"font-size\": 3\n",
    "    },\n",
    "    rules: {\n",
    "        body: {\n",
    "            \"-webkit-print-color-adjust\": \"exact\"\n",
    "        },\n",
    "        h1: {\n",
    "            \"font-size\": 5.5,\n",
    "            color: \"blue\",\n",
    "            \"text-align\": \"center\"\n",
    "        },\n",
    "        h2: {\n",
    "            \"font-size\": 3,\n",
    "            color: \"blue\",\n",
    "            \"text-align\": \"center\"\n",
    "        },\n",
    "        h3: {\n",
    "            \"font-size\": 3,\n",
    "            color: \"black\",\n",
    "        },\n",
    "        \"ul li\": {\n",
    "            \"font-size\": 3,\n",
    "            color: \"black\"\n",
    "        },\n",
    "        \"ul li ul li\": {\n",
    "            \"font-size\": 2.5,\n",
    "            color: \"black\"\n",
    "        },\n",
    "        \"code\": {\n",
    "            \"font-size\": 2,\n",
    "        },\n",
    "        \"pre\": {\n",
    "            \"font-size\": 2,\n",
    "        }\n",
    "    }\n",
    "});"
   ]
  },
  {
   "cell_type": "code",
   "execution_count": 26,
   "metadata": {},
   "outputs": [],
   "source": [
    "page = 1"
   ]
  },
  {
   "cell_type": "markdown",
   "metadata": {
    "nbpresent": {
     "id": "50d53953-8342-4f1d-9e55-08b5eae2fcbd"
    },
    "slideshow": {
     "slide_type": "slide"
    }
   },
   "source": [
    "\n",
    "# Finding Hidden Patterns in DNA\n",
    "\n",
    "* What makes searching for frequent subsequences hard?\n",
    "    - Allowing for errors?\n",
    "    - All the places they could be hiding?\n",
    "\n",
    "<img src=\"http://csbio.unc.edu/mcmillan/Comp555S18/Media/HideAndSeek.png\" width=\"300\" class=\"centeredImg\">\n",
    "\n",
    "<p style=\"text-align: right; clear: right; margin-right: 200px;\">1</p>"
   ]
  },
  {
   "cell_type": "markdown",
   "metadata": {
    "nbpresent": {
     "id": "1b929579-3650-4999-8b42-2f227cde5fe7"
    },
    "slideshow": {
     "slide_type": "slide"
    }
   },
   "source": [
    "# Initiating Transcription\n",
    "\n",
    "* As a precursor to transcription (the reading of DNA to construct RNAs, that eventually leading to protein synthesis) special proteins bind to the DNA, and separate it to enable its reading. \n",
    "* How do these proteins know where the coding genes are in order to bind?\n",
    "<img src=\"http://csbio.unc.edu/mcmillan/Comp555S18/Media/SearchingHaystack.png\" width=\"200\" style=\"float: right; clear: right; margin: 24px;\">\n",
    "* Genes are relatively rare\n",
    "  - O(1,000,000,000) bases/genome\n",
    "  - O(10000) genes/genome \n",
    "  - O(1000) bases/gene\n",
    "* Approximately 1% of DNA codes for genes (10<sup>3</sup>10<sup>4</sup>/10<sup>9</sup>)\n",
    "\n",
    "<p style=\"text-align: right; clear: right; margin-right: 200px;\">2</p>"
   ]
  },
  {
   "cell_type": "markdown",
   "metadata": {
    "nbpresent": {
     "id": "168424a7-1be2-4e50-b149-03a243b63a0e"
    },
    "slideshow": {
     "slide_type": "slide"
    }
   },
   "source": [
    "# Regulatory Regions\n",
    "\n",
    "* RNA polymerases seek out *regulatory* or *promoting* regions located 100-1000 bp upstream from the coding region\n",
    "* They work in conjunction with special proteins called *transcription factors (TFs)* whose presence enables gene expression\n",
    "* Within these regions are the *Transcription Factor Binding Sites (TFBS)*, special DNA sequence patterns known as *motifs* that are specific to a given transcription factor\n",
    "* A Single TF can influence the expression of many genes. Through biological experiments one can infer, at least a subset of these affected genes.\n",
    "\n",
    "<img src=\"http://csbio.unc.edu/mcmillan/Comp555S18/Media/TranscriptionFactor.png\" width=\"500\" class=\"centeredImg\">\n",
    "\n",
    "<p style=\"text-align: right; clear: right; margin-right: 200px;\">3</p>"
   ]
  },
  {
   "cell_type": "markdown",
   "metadata": {
    "nbpresent": {
     "id": "a406738a-bac9-4361-9a31-90a9c974c89d"
    },
    "slideshow": {
     "slide_type": "slide"
    }
   },
   "source": [
    "# Transcription Factor Binding Sites\n",
    "\n",
    "* A TFBS can be located anywhere within the regulatory region.\n",
    "* TFBS may vary slightly across different regulatory regions since non-essential bases could mutate\n",
    "* Transcription factors are robust (they will still bind) in the presence of small sequence differences by a few bases\n",
    "\n",
    "<img src=\"http://csbio.unc.edu/mcmillan/Comp555S18/Media/BindingMotif.png\" width=\"500\" class=\"centeredImg\">\n",
    "\n",
    "<p style=\"text-align: right; clear: right; margin-right: 200px;\">4</p>"
   ]
  },
  {
   "cell_type": "markdown",
   "metadata": {
    "collapsed": true,
    "nbpresent": {
     "id": "1616bbca-742b-4581-8cd4-8ee8f836187c"
    },
    "slideshow": {
     "slide_type": "slide"
    }
   },
   "source": [
    "# Identifying Motifs: Complications\n",
    "\n",
    "* We don’t know the motif sequence for every TF\n",
    "<img src=\"http://csbio.unc.edu/mcmillan/Comp555S18/Media/SBConfusedAtCompter.png\" width=\"100\" style=\"float: right; clear: right; margin: 24px;\">\n",
    "* We don’t know where it is located relative to a gene’s start\n",
    "* Moreover, motifs can differ slightly from one gene to the next\n",
    "* We *only* know that it occurs somewhere near genes that share a TF\n",
    "* How to discern a Motif’s frequent *similar* pattern from *random* patterns?\n",
    "* How is this problem different that finding frequent k-mers from Lecture 2?\n",
    "\n",
    "<p style=\"text-align: right; clear: right; margin-right: 200px;\">5</p>"
   ]
  },
  {
   "cell_type": "markdown",
   "metadata": {
    "nbpresent": {
     "id": "9e07dbcf-310a-4f33-955c-3ea5b906e018"
    },
    "slideshow": {
     "slide_type": "slide"
    }
   },
   "source": [
    "# Let's look for an *Easy* Motif\n",
    "\n",
    "<pre><code>\n",
    " 1 tagtggtcttttgagtgtagatccgaagggaaagtatttccaccagttcggggtcacccagcagggcagggtgacttaat\n",
    " 2 cgcgactcggcgctcacagttatcgcacgtttagaccaaaacggagttagatccgaaactggagtttaatcggagtcctt\n",
    " 3 gttacttgtgagcctggttagatccgaaatataattgttggctgcatagcggagctgacatacgagtaggggaaatgcgt\n",
    " 4 aacatcaggctttgattaaacaatttaagcacgtagatccgaattgacctgatgacaatacggaacatgccggctccggg\n",
    " 5 accaccggataggctgcttattagatccgaaaggtagtatcgtaataatggctcagccatgtcaatgtgcggcattccac\n",
    " 6 tagatccgaatcgatcgtgtttctccctctgtgggttaacgaggggtccgaccttgctcgcatgtgccgaacttgtaccc\n",
    " 7 gaaatggttcggtgcgatatcaggccgttctcttaacttggcggtgtagatccgaacgtctctggaggggtcgtgcgcta\n",
    " 8 atgtatactagacattctaacgctcgcttattggcggagaccatttgctccactacaagaggctactgtgtagatccgaa\n",
    " 9 ttcttacacccttctttagatccgaacctgttggcgccatcttcttttcgagtccttgtacctccatttgctctgatgac\n",
    "10 ctacctatgtaaaacaacatctactaacgtagtccggtctttcctgatctgccctaacctacaggtagatccgaaattcg\n",
    "</code></pre>\n",
    "\n",
    "### **Problem:** Given *M* sequences of length *N* find any *k*-mer that appears in each sequence.\n",
    "\n",
    "How would you go about finding a 10-mer that appears in *every one* of these strings?\n",
    "\n",
    "<p style=\"text-align: right; clear: right; margin-right: 200px;\">6</p>\n"
   ]
  },
  {
   "cell_type": "markdown",
   "metadata": {
    "nbpresent": {
     "id": "057a66d8-a176-462a-93fd-664d39b8d46a"
    },
    "slideshow": {
     "slide_type": "slide"
    }
   },
   "source": [
    "# Sneak Peek at the Answer\n",
    "\n",
    "<code><pre>\n",
    " 1 tagtggtcttttgagtg<span style=\"color: blue; font-weight: bold;\">TAGATCCGAA</span>gggaaagtatttccaccagttcggggtcacccagcagggcagggtgacttaat\n",
    " 2 cgcgactcggcgctcacagttatcgcacgtttagaccaaaacggagt<span style=\"color: blue; font-weight: bold;\">TAGATCCGAA</span>actggagtttaatcggagtcctt\n",
    " 3 gttacttgtgagcctggt<span style=\"color: blue; font-weight: bold;\">TAGATCCGAA</span>atataattgttggctgcatagcggagctgacatacgagtaggggaaatgcgt\n",
    " 4 aacatcaggctttgattaaacaatttaagcacg<span style=\"color: blue; font-weight: bold;\">TAGATCCGAA</span>ttgacctgatgacaatacggaacatgccggctccggg\n",
    " 5 accaccggataggctgcttat<span style=\"color: blue; font-weight: bold;\">TAGATCCGAA</span>aggtagtatcgtaataatggctcagccatgtcaatgtgcggcattccac\n",
    " 6 <span style=\"color: blue; font-weight: bold;\">TAGATCCGAA</span>tcgatcgtgtttctccctctgtgggttaacgaggggtccgaccttgctcgcatgtgccgaacttgtaccc\n",
    " 7 gaaatggttcggtgcgatatcaggccgttctcttaacttggcggtg<span style=\"color: blue; font-weight: bold;\">TAGATCCGAA</span>cgtctctggaggggtcgtgcgcta\n",
    " 8 atgtatactagacattctaacgctcgcttattggcggagaccatttgctccactacaagaggctactgtg<span style=\"color: blue; font-weight: bold;\">TAGATCCGAA</span>\n",
    " 9 ttcttacacccttctt<span style=\"color: blue; font-weight: bold;\">TAGATCCGAA</span>cctgttggcgccatcttcttttcgagtccttgtacctccatttgctctgatgac\n",
    "10 ctacctatgtaaaacaacatctactaacgtagtccggtctttcctgatctgccctaacctacagg<span style=\"color: blue; font-weight: bold;\">TAGATCCGAA</span>attcg\n",
    "</pre></code>\n",
    "\n",
    "Now that you've seen the answer, how would you find it?\n",
    "\n",
    "<p style=\"text-align: right; clear: right; margin-right: 200px;\">7</p>"
   ]
  },
  {
   "cell_type": "markdown",
   "metadata": {
    "nbpresent": {
     "id": "fcec38f2-b79a-4967-8e29-c9249490f5e3"
    },
    "slideshow": {
     "slide_type": "slide"
    }
   },
   "source": [
    "# Meet Mr *Brute Force*\n",
    "\n",
    "<img src=\"http://csbio.unc.edu/mcmillan/Comp555S18/Media/BruteForce.jpg\" width=\"160\" style=\"float: right; clear: right; margin: 24px;\">\n",
    "\n",
    "* He's often the best starting point when approaching a problem\n",
    "* He'll also serve as a straw-man when designing new approaches\n",
    "* Though he's seldom elegant, he gets the job done\n",
    "* Often, we can't afford to wait for him\n",
    "\n",
    "For our current problem a brute force solution would consider every k-mer position in all strings and see if they match. Given M sequences of length N, there are:\n",
    "\n",
    "$$(N-k+1)^M$$ position combinations to consider.\n",
    "\n",
    "How do you write *M* nested loops when *M* is a variable?\n",
    "\n",
    "<p style=\"text-align: right; clear: right; margin-right: 200px;\">8</p>"
   ]
  },
  {
   "cell_type": "markdown",
   "metadata": {
    "nbpresent": {
     "id": "2b5d1275-4a5c-4a2c-9c8c-086b589eeefb"
    },
    "slideshow": {
     "slide_type": "slide"
    }
   },
   "source": [
    "# A Library of Helper Functions\n",
    "\n",
    "* There's a tendancy to approach this problem with a series of nested for-loops, while the approach is valid, it doesn't generalize. It assumes a specific number of sequences.\n",
    "* What we need is an *iterator* that generates all permutations of a sequence.\n",
    "* This nested-for-loop iterator is called a *Cartesian Product* over sets.\n",
    "* Python has a library to accomplish this\n",
    "\n",
    "<p style=\"text-align: right; clear: right; margin-right: 200px;\">9</p>"
   ]
  },
  {
   "cell_type": "markdown",
   "metadata": {
    "nbpresent": {
     "id": "a918b702-1dec-4089-b916-c6a3781c2233"
    }
   },
   "source": [
    "# Using *itertools*"
   ]
  },
  {
   "cell_type": "code",
   "execution_count": 12,
   "metadata": {
    "nbpresent": {
     "id": "4bbd6a5c-2eb8-44f3-9b9d-c87d4ab06516"
    }
   },
   "outputs": [
    {
     "name": "stdout",
     "output_type": "stream",
     "text": [
      "000\n",
      "001\n",
      "010\n",
      "011\n",
      "100\n",
      "101\n",
      "110\n",
      "111\n"
     ]
    }
   ],
   "source": [
    "import itertools\n",
    "\n",
    "for number in itertools.product(\"01\", repeat=3):\n",
    "    print ''.join(number)"
   ]
  },
  {
   "cell_type": "markdown",
   "metadata": {
    "nbpresent": {
     "id": "a5402359-4af4-40e5-8d4c-e4882562f3b7"
    }
   },
   "source": [
    "<p style=\"text-align: right; clear: right; margin-right: 200px;\">10</p>"
   ]
  },
  {
   "cell_type": "markdown",
   "metadata": {
    "nbpresent": {
     "id": "e9f39daa-fae4-4baf-819e-474397f3b75f"
    }
   },
   "source": [
    "# All permutations of items from a list"
   ]
  },
  {
   "cell_type": "code",
   "execution_count": 13,
   "metadata": {
    "nbpresent": {
     "id": "d6695a49-cd71-47ec-bd95-32f494ca06fc"
    }
   },
   "outputs": [
    {
     "name": "stdout",
     "output_type": "stream",
     "text": [
      "(0, 0, 0) (0, 0, 1) (0, 0, 2) (0, 1, 0) (0, 1, 1)\n",
      "(0, 1, 2) (0, 2, 0) (0, 2, 1) (0, 2, 2) (1, 0, 0)\n",
      "(1, 0, 1) (1, 0, 2) (1, 1, 0) (1, 1, 1) (1, 1, 2)\n",
      "(1, 2, 0) (1, 2, 1) (1, 2, 2) (2, 0, 0) (2, 0, 1)\n",
      "(2, 0, 2) (2, 1, 0) (2, 1, 1) (2, 1, 2) (2, 2, 0)\n",
      "(2, 2, 1) (2, 2, 2)\n"
     ]
    }
   ],
   "source": [
    "N = 0\n",
    "for number in itertools.product(range(3), repeat=3):\n",
    "    print number,\n",
    "    N += 1\n",
    "    if (N % 5 == 0):\n",
    "        print"
   ]
  },
  {
   "cell_type": "markdown",
   "metadata": {
    "nbpresent": {
     "id": "a7d48a5d-63f5-432a-9473-07adbb159f86"
    }
   },
   "source": [
    "<p style=\"text-align: right; clear: right; margin-right: 200px;\">11</p>"
   ]
  },
  {
   "cell_type": "markdown",
   "metadata": {
    "nbpresent": {
     "id": "ffe5bed8-f918-425f-bebb-2f21351f3c21"
    }
   },
   "source": [
    "# Permutations of mixed types"
   ]
  },
  {
   "cell_type": "code",
   "execution_count": 14,
   "metadata": {
    "nbpresent": {
     "id": "44dcfb85-7f84-4020-9813-a305951abafd"
    }
   },
   "outputs": [
    {
     "name": "stdout",
     "output_type": "stream",
     "text": [
      "('I', 'A', 1)\n",
      "('I', 'A', 2)\n",
      "('I', 'B', 1)\n",
      "('I', 'B', 2)\n",
      "('I', 'C', 1)\n",
      "('I', 'C', 2)\n",
      "('II', 'A', 1)\n",
      "('II', 'A', 2)\n",
      "('II', 'B', 1)\n",
      "('II', 'B', 2)\n",
      "('II', 'C', 1)\n",
      "('II', 'C', 2)\n",
      "('III', 'A', 1)\n",
      "('III', 'A', 2)\n",
      "('III', 'B', 1)\n",
      "('III', 'B', 2)\n",
      "('III', 'C', 1)\n",
      "('III', 'C', 2)\n",
      "('IV', 'A', 1)\n",
      "('IV', 'A', 2)\n",
      "('IV', 'B', 1)\n",
      "('IV', 'B', 2)\n",
      "('IV', 'C', 1)\n",
      "('IV', 'C', 2)\n"
     ]
    }
   ],
   "source": [
    "for section in itertools.product((\"I\", \"II\", \"III\", \"IV\"),\"ABC\",range(1,3)):\n",
    "    print section"
   ]
  },
  {
   "cell_type": "markdown",
   "metadata": {
    "collapsed": true,
    "nbpresent": {
     "id": "3f4e1ee5-f163-4174-8750-140f06f1ca97"
    }
   },
   "source": [
    "<p style=\"text-align: right; clear: right; margin-right: 200px;\">12</p>"
   ]
  },
  {
   "cell_type": "markdown",
   "metadata": {
    "nbpresent": {
     "id": "92a46594-d066-49a2-981b-beb3f326e20b"
    },
    "slideshow": {
     "slide_type": "slide"
    }
   },
   "source": [
    "# Now let's try some *Brute Force* code"
   ]
  },
  {
   "cell_type": "code",
   "execution_count": 15,
   "metadata": {
    "collapsed": true,
    "nbpresent": {
     "id": "ad4ab19c-57fa-49e4-88ed-0cb48c8f292f"
    }
   },
   "outputs": [],
   "source": [
    "sequences = [\n",
    "    'tagtggtcttttgagtgtagatccgaagggaaagtatttccaccagttcggggtcacccagcagggcagggtgacttaat',\n",
    "    'cgcgactcggcgctcacagttatcgcacgtttagaccaaaacggagttagatccgaaactggagtttaatcggagtcctt',\n",
    "    'gttacttgtgagcctggttagatccgaaatataattgttggctgcatagcggagctgacatacgagtaggggaaatgcgt',\n",
    "    'aacatcaggctttgattaaacaatttaagcacgtagatccgaattgacctgatgacaatacggaacatgccggctccggg',\n",
    "    'accaccggataggctgcttattagatccgaaaggtagtatcgtaataatggctcagccatgtcaatgtgcggcattccac',\n",
    "    'tagatccgaatcgatcgtgtttctccctctgtgggttaacgaggggtccgaccttgctcgcatgtgccgaacttgtaccc',\n",
    "    'gaaatggttcggtgcgatatcaggccgttctcttaacttggcggtgtagatccgaacgtctctggaggggtcgtgcgcta',\n",
    "    'atgtatactagacattctaacgctcgcttattggcggagaccatttgctccactacaagaggctactgtgtagatccgaa',\n",
    "    'ttcttacacccttctttagatccgaacctgttggcgccatcttcttttcgagtccttgtacctccatttgctctgatgac',\n",
    "    'ctacctatgtaaaacaacatctactaacgtagtccggtctttcctgatctgccctaacctacaggtagatccgaaattcg']\n",
    "\n",
    "def bruteForce(dna,k):\n",
    "    \"\"\"Finds a *k*-mer common to all sequences from a\n",
    "       list of *dna* fragments with the same length\"\"\"\n",
    "    M = len(dna)     # how many sequences\n",
    "    N = len(dna[0])  # length of sequences\n",
    "    for offset in itertools.product(range(N-k+1), repeat=M):\n",
    "        for i in xrange(1,len(offset)):\n",
    "            if dna[0][offset[0]:offset[0]+k] != dna[i][offset[i]:offset[i]+k]:\n",
    "                break\n",
    "        else:\n",
    "            return offset, dna[0][offset[0]:offset[0]+10]"
   ]
  },
  {
   "cell_type": "markdown",
   "metadata": {
    "nbpresent": {
     "id": "a081961e-08ba-40d0-9675-369d14ce9975"
    }
   },
   "source": [
    "<p style=\"text-align: right; clear: right; margin-right: 200px;\">13</p>"
   ]
  },
  {
   "cell_type": "markdown",
   "metadata": {
    "nbpresent": {
     "id": "dd5d127c-7d6f-483d-bb25-f10902f92794"
    }
   },
   "source": [
    "# Test and then time it"
   ]
  },
  {
   "cell_type": "code",
   "execution_count": 19,
   "metadata": {
    "nbpresent": {
     "id": "d87656fd-9904-4c5a-a451-88baa6b62fb8"
    }
   },
   "outputs": [
    {
     "name": "stdout",
     "output_type": "stream",
     "text": [
      "(17, 47, 18, 33) tagatccgaa\n",
      "\n",
      "tagtggtcttttgagtgTAGATCCGAAgggaaagtatttccaccagttcggggtcacccagcagggcagggtgacttaat\n",
      "cgcgactcggcgctcacagttatcgcacgtttagaccaaaacggagtTAGATCCGAAactggagtttaatcggagtcctt\n",
      "gttacttgtgagcctggtTAGATCCGAAatataattgttggctgcatagcggagctgacatacgagtaggggaaatgcgt\n",
      "aacatcaggctttgattaaacaatttaagcacgTAGATCCGAAttgacctgatgacaatacggaacatgccggctccggg\n",
      "\n",
      "1 loop, best of 3: 4.74 s per loop\n"
     ]
    }
   ],
   "source": [
    "M = 4\n",
    "position, motif = bruteForce(sequences[0:M], 10)\n",
    "print position, motif\n",
    "print\n",
    "for i in xrange(M):\n",
    "    p = position[i]\n",
    "    print sequences[i][:p]+sequences[i][p:p+10].upper()+sequences[i][p+10:]\n",
    "print\n",
    "\n",
    "%timeit bruteForce(sequences[0:M], 10)\n",
    "# you can try a larger value of M, but be prepared to wait"
   ]
  },
  {
   "cell_type": "markdown",
   "metadata": {
    "nbpresent": {
     "id": "0e8b2baa-0075-49f9-8b23-e1ab13774b85"
    }
   },
   "source": [
    "<p style=\"text-align: right; clear: right; margin-right: 200px;\">14</p>"
   ]
  },
  {
   "cell_type": "markdown",
   "metadata": {
    "nbpresent": {
     "id": "45c89779-b459-47b5-8ccc-0be5245b3b63"
    },
    "slideshow": {
     "slide_type": "slide"
    }
   },
   "source": [
    "# Approximate Matching\n",
    "\n",
    "Now let's consider a more realistic motif finding problem, where the binding sites do not need to match exactly.\n",
    "\n",
    "<pre><code>\n",
    " 1 tagtggtcttttgagtg<span style=\"color: blue; font-weight: bold;\">TAGATC<span style=\"color: red; font-weight: bold;\">T</span>GAA</span>gggaaagtatttccaccagttcggggtcacccagcagggcagggtgacttaat\n",
    " 2 cgcgactcggcgctcacagttatcgcacgtttagaccaaaacggagt<span style=\"color: blue; font-weight: bold;\">T<span style=\"color: red; font-weight: bold;\">G</span>GATCCGAA</span>actggagtttaatcggagtcctt\n",
    " 3 gttacttgtgagcctggt<span style=\"color: blue; font-weight: bold;\">TAGA<span style=\"color: red; font-weight: bold;\">C</span>CCGAA</span>atataattgttggctgcatagcggagctgacatacgagtaggggaaatgcgt\n",
    " 4 aacatcaggctttgattaaacaatttaagcacg<span style=\"color: blue; font-weight: bold;\">TA<span style=\"color: red; font-weight: bold;\">A</span>ATCCGAA</span>ttgacctgatgacaatacggaacatgccggctccggg\n",
    " 5 accaccggataggctgcttat<span style=\"color: blue; font-weight: bold;\">TAG<span style=\"color: red; font-weight: bold;\">G</span>TCC<span style=\"color: red; font-weight: bold;\">A</span>AA</span>aggtagtatcgtaataatggctcagccatgtcaatgtgcggcattccac\n",
    " 6 <span style=\"color: blue; font-weight: bold;\">TAGAT<span style=\"color: red; font-weight: bold;\">T</span>CGAA</span>tcgatcgtgtttctccctctgtgggttaacgaggggtccgaccttgctcgcatgtgccgaacttgtaccc\n",
    " 7 gaaatggttcggtgcgatatcaggccgttctcttaacttggcggtg<span style=\"color: blue; font-weight: bold;\"><span style=\"color: red; font-weight: bold;\">C</span>AGATCCGAA</span>cgtctctggaggggtcgtgcgcta\n",
    " 8 atgtatactagacattctaacgctcgcttattggcggagaccatttgctccactacaagaggctactgtg<span style=\"color: blue; font-weight: bold;\">TAGATCCG<span style=\"color: red; font-weight: bold;\">T</span>A</span>\n",
    " 9 ttcttacacccttctt<span style=\"color: blue; font-weight: bold;\">TAGATCC<span style=\"color: red; font-weight: bold;\">A</span>AA</span>cctgttggcgccatcttcttttcgagtccttgtacctccatttgctctgatgac\n",
    "10 ctacctatgtaaaacaacatctactaacgtagtccggtctttcctgatctgccctaacctacagg<span style=\"color: blue; font-weight: bold;\">T<span style=\"color: red; font-weight: bold;\">C</span>GATCCGAA</span>attcg\n",
    "</code></pre>\n",
    "\n",
    "Actually, none of the sequences have an unmodified copy of the original motif\n",
    "\n",
    "<p style=\"text-align: right; clear: right; margin-right: 200px;\">15</p>"
   ]
  },
  {
   "cell_type": "markdown",
   "metadata": {
    "nbpresent": {
     "id": "87a28309-9ef4-4ecc-97ff-e150d0160bd1"
    },
    "slideshow": {
     "slide_type": "slide"
    }
   },
   "source": [
    "# Profile and Consensus\n",
    "\n",
    "<img src=\"http://csbio.unc.edu/mcmillan/Comp555S18/Media/Consensus.png\" width=\"600\" style=\"float: right; clear: right; margin: 12px; display: inline;\">\n",
    "\n",
    "How to find approximate string matches?\n",
    "\n",
    "* Align candidate motifs by their start indexes $$s = (s_1, s_2, …, s_t)$$\n",
    "* Construct a matrix profile with the frequencies of each nucleotide in columns\n",
    "* Consensus nucleotide in each position has the highest score in each column\n",
    "\n",
    "<p style=\"text-align: right; clear: right; margin-right: 200px;\">16</p>"
   ]
  },
  {
   "cell_type": "markdown",
   "metadata": {
    "nbpresent": {
     "id": "67486277-7a43-4f8a-82a3-2091bc537543"
    },
    "slideshow": {
     "slide_type": "slide"
    }
   },
   "source": [
    "# Consensus\n",
    "\n",
    "* One can think of the consensus as an ***ancestor*** motif, from which mutated motifs emerged\n",
    "* The *distance* between an actual motif and the consensus sequence is generally less than that for any two actual motifs\n",
    "* *Hamming distance* is number of positions that differ between two strings\n",
    "\n",
    "<img src=\"http://csbio.unc.edu/mcmillan/Comp555S18/Media/HammingDistance.png\" width=\"600\" class=\"centeredImg\">\n",
    "\n",
    "<p style=\"text-align: right; clear: right; margin-right: 200px;\">17</p>"
   ]
  },
  {
   "cell_type": "markdown",
   "metadata": {
    "nbpresent": {
     "id": "942efef1-23d8-4553-8c0d-f7c9f74cd384"
    },
    "slideshow": {
     "slide_type": "slide"
    }
   },
   "source": [
    "# Consensus Properties\n",
    "\n",
    "* A consensus string has a minimal hamming distance to all its source strings\n",
    "\n",
    "<img src=\"http://csbio.unc.edu/mcmillan/Comp555S18/Media/ConsensusDist.png\" width=\"600\" class=\"centeredImg\">\n",
    "\n",
    "<p style=\"text-align: right; clear: right; margin-right: 200px;\">18</p>"
   ]
  },
  {
   "cell_type": "markdown",
   "metadata": {
    "nbpresent": {
     "id": "710c99b9-e223-4d30-b54f-ddf5a80eb9cb"
    },
    "slideshow": {
     "slide_type": "slide"
    }
   },
   "source": [
    "# Scoring Motifs\n",
    "<img src=\"http://csbio.unc.edu/mcmillan/Comp555S18/Media/ScoreMatrix.png\" width=\"400\"  style=\"float: right; clear: right; margin: 12px; display: inline;\">\n",
    "* Given $s = (s_1, s_2, …, s_t)$ and *DNA*<br><br>\n",
    "$$Score(s,DNA) = \\sum_{i=1}^{k} \\max_{j \\in {A,C,G,T}} count(j,i)$$<br>\n",
    "* So our approach is back to *brute force*\n",
    "  - We consider every candidate motif in every string\n",
    "  - Return the set of indices with the highest score\n",
    "<p style=\"text-align: right; clear: right; margin-right: 200px;\">19</p>"
   ]
  },
  {
   "cell_type": "markdown",
   "metadata": {
    "nbpresent": {
     "id": "9b0d7e9b-7e8d-4aff-bca1-bfc300c44860"
    },
    "slideshow": {
     "slide_type": "slide"
    }
   },
   "source": [
    "# Let's try again, and handle errors this time!"
   ]
  },
  {
   "cell_type": "code",
   "execution_count": 20,
   "metadata": {
    "collapsed": true,
    "nbpresent": {
     "id": "28cef8ac-f41a-4f88-950d-22f6786753b2"
    }
   },
   "outputs": [],
   "source": [
    "def Score(s, DNA, k):\n",
    "    \"\"\" \n",
    "        compute the consensus SCORE of a given k-mer alignment given \n",
    "        offsets into each DNA string. s = list of starting indices.\n",
    "        DNA = list of nucleotide strings. k = Target Motif length\n",
    "    \"\"\"\n",
    "    score = 0\n",
    "    for i in xrange(k):\n",
    "        # loop over string positions\n",
    "        cnt = dict(zip(\"acgt\",(0,0,0,0)))\n",
    "        for j, sval in enumerate(s):\n",
    "            base = DNA[j][sval+i] \n",
    "            cnt[base] += 1\n",
    "        score += max(cnt.values())\n",
    "    return score\n",
    "\n",
    "def BruteForceMotifSearch(dna,k):\n",
    "    M = len(dna)     # how many sequences\n",
    "    N = len(dna[0])  # length of sequences\n",
    "    bestScore = 0\n",
    "    bestAlignment = []\n",
    "    for offset in itertools.product(range(N-k+1), repeat=M):\n",
    "        s = Score(offset,dna,k)\n",
    "        if (s > bestScore):\n",
    "            bestAlignment = [p for p in offset]\n",
    "            bestScore = s\n",
    "    print bestAlignment, bestScore\n"
   ]
  },
  {
   "cell_type": "markdown",
   "metadata": {
    "nbpresent": {
     "id": "ebe33835-dd53-49df-aba4-0f90533a6f6d"
    }
   },
   "source": [
    "<p style=\"text-align: right; clear: right; margin-right: 200px;\">20</p>"
   ]
  },
  {
   "cell_type": "markdown",
   "metadata": {
    "nbpresent": {
     "id": "f95af745-e16c-426d-8b3a-67b6fd6f9712"
    }
   },
   "source": [
    "# Test and time"
   ]
  },
  {
   "cell_type": "code",
   "execution_count": 27,
   "metadata": {
    "nbpresent": {
     "id": "a79c544d-edbd-471d-85e9-b111a605e4a2"
    }
   },
   "outputs": [
    {
     "name": "stdout",
     "output_type": "stream",
     "text": [
      "10000 loops, best of 3: 40.6 µs per loop\n",
      "[17, 47, 18, 33] 36\n",
      "CPU times: user 17min 22s, sys: 1.97 s, total: 17min 24s\n",
      "Wall time: 17min 24s\n"
     ]
    }
   ],
   "source": [
    "seqApprox = [\n",
    "    'tagtggtcttttgagtgtagatctgaagggaaagtatttccaccagttcggggtcacccagcagggcagggtgacttaat',\n",
    "    'cgcgactcggcgctcacagttatcgcacgtttagaccaaaacggagttggatccgaaactggagtttaatcggagtcctt',\n",
    "    'gttacttgtgagcctggttagacccgaaatataattgttggctgcatagcggagctgacatacgagtaggggaaatgcgt',\n",
    "    'aacatcaggctttgattaaacaatttaagcacgtaaatccgaattgacctgatgacaatacggaacatgccggctccggg',\n",
    "    'accaccggataggctgcttattaggtccaaaaggtagtatcgtaataatggctcagccatgtcaatgtgcggcattccac',\n",
    "    'tagattcgaatcgatcgtgtttctccctctgtgggttaacgaggggtccgaccttgctcgcatgtgccgaacttgtaccc',\n",
    "    'gaaatggttcggtgcgatatcaggccgttctcttaacttggcggtgcagatccgaacgtctctggaggggtcgtgcgcta',\n",
    "    'atgtatactagacattctaacgctcgcttattggcggagaccatttgctccactacaagaggctactgtgtagatccgta',\n",
    "    'ttcttacacccttctttagatccaaacctgttggcgccatcttcttttcgagtccttgtacctccatttgctctgatgac',\n",
    "    'ctacctatgtaaaacaacatctactaacgtagtccggtctttcctgatctgccctaacctacaggtcgatccgaaattcg']\n",
    "\n",
    "%timeit Score([17, 47, 18, 33, 21, 0, 46, 70, 16, 65], seqApprox, 10)\n",
    "%time BruteForceMotifSearch(seqApprox[0:4], 10)"
   ]
  },
  {
   "cell_type": "markdown",
   "metadata": {
    "nbpresent": {
     "id": "ede3142a-4132-4024-9310-854ecfee7521"
    },
    "slideshow": {
     "slide_type": "-"
    }
   },
   "source": [
    "<p style=\"text-align: right; clear: right; margin-right: 200px;\">21</p>"
   ]
  },
  {
   "cell_type": "markdown",
   "metadata": {
    "nbpresent": {
     "id": "dda1b288-e6b5-485f-b943-f0761bb79cfa"
    },
    "slideshow": {
     "slide_type": "slide"
    }
   },
   "source": [
    "# Running Time of BruteForceMotifSearch\n",
    "\n",
    "* Search *(N - k + 1)* positions in each of *M* sequences, by examining (N - k + 1)<sup>M</sup> sets of starting positions\n",
    "* For each set of starting positions, the scoring function makes *O(Mk)* operations, so complexity is \n",
    "$$M k (N – k + 1)^M = O(M k N^M)$$\n",
    "<img src=\"http://csbio.unc.edu/mcmillan/Comp555S18/Media/FatherTime.png\" width=\"160\" style=\"float: right; clear: right; margin: 24px;\">\n",
    "\n",
    "\n",
    "* That means that for *M = 10, N = 80, k = 10* we must perform approximately $10^{21}$ computations\n",
    "* Generously assuming $10^9$ comps/sec it will require only $10^{12}$ secs\n",
    "$\\frac{10^{12}}{(60 * 60 * 24 *365)} > 30000 $ years\n",
    "* Want to wait?\n",
    "\n",
    "<p style=\"text-align: right; clear: right; margin-right: 200px;\">22</p>"
   ]
  },
  {
   "cell_type": "markdown",
   "metadata": {
    "nbpresent": {
     "id": "dfd674c7-f368-4366-af24-3f2e2010e7dc"
    },
    "slideshow": {
     "slide_type": "slide"
    }
   },
   "source": [
    "# How conservative is this estimate?\n",
    "\n",
    "* For the example we just did *M = 4, N = 80, k = 10*\n",
    "<img src=\"http://csbio.unc.edu/mcmillan/Comp555S18/Media/SBSlowTime.png\" width=\"160\" style=\"float: right; clear: right; margin: 24px;\">\n",
    "* So that gives &approx; $4.0 \\times 10^9$ operations\n",
    "* Using our $10^9$ operations per second estimate, it should have taken ***only 4 secs***.\n",
    "* Instead it took closer to 700 secs, which suggests we are getting around 5.85 million operations per second.\n",
    "* So, in reality it will even take longer!\n",
    "\n",
    "<p style=\"text-align: right; clear: right; margin-right: 200px;\">23</p>"
   ]
  },
  {
   "cell_type": "markdown",
   "metadata": {
    "nbpresent": {
     "id": "5f536b47-4fb6-4975-9bf9-15d2bafaf263"
    },
    "slideshow": {
     "slide_type": "slide"
    }
   },
   "source": [
    "# How can we find Motifs in our lifetime?\n",
    "\n",
    "* Should we give up on Python and write in C? Assembly Language?\n",
    "* Will biological insights save us this time?\n",
    "* Are there other ways to find Motifs?\n",
    "\n",
    "\n",
    "  - Consider that if you knew what motif you were looking for, it would take only<br><br>\n",
    "  $$k (N – k + 1) M = O(k N M)$$<br>\n",
    "  - Is that significantly better?\n",
    "\n",
    "<img src=\"http://csbio.unc.edu/mcmillan/Comp555S18/Media/Lifetime.jpg\" width=\"400\" class=\"centeredImg\">\n",
    "\n",
    "<p style=\"text-align: right; clear: right; margin-right: 200px;\">24</p>"
   ]
  },
  {
   "cell_type": "code",
   "execution_count": null,
   "metadata": {
    "collapsed": true,
    "nbpresent": {
     "id": "b7e9ba71-33db-4966-a686-7275734e9169"
    }
   },
   "outputs": [],
   "source": []
  }
 ],
 "metadata": {
  "anaconda-cloud": {},
  "kernelspec": {
   "display_name": "Python 2",
   "language": "python",
   "name": "python2"
  },
  "language_info": {
   "codemirror_mode": {
    "name": "ipython",
    "version": 3
   },
   "file_extension": ".py",
   "mimetype": "text/x-python",
   "name": "python",
   "nbconvert_exporter": "python",
   "pygments_lexer": "ipython3",
   "version": "3.6.4"
  },
  "nbpresent": {
   "slides": {
    "10572696-d2d5-4447-9b4d-bee15c2f0120": {
     "id": "10572696-d2d5-4447-9b4d-bee15c2f0120",
     "prev": "b9b5a6fd-013d-408f-a223-abc153528b33",
     "regions": {
      "d2017cf7-cb1f-4331-8a84-61e4da4f160b": {
       "attrs": {
        "height": 0.8,
        "width": 0.8,
        "x": 0.1,
        "y": 0.1
       },
       "content": {
        "cell": "1616bbca-742b-4581-8cd4-8ee8f836187c",
        "part": "whole"
       },
       "id": "d2017cf7-cb1f-4331-8a84-61e4da4f160b"
      }
     }
    },
    "106c05a1-74ed-402f-bf30-a44d346ada06": {
     "id": "106c05a1-74ed-402f-bf30-a44d346ada06",
     "prev": "1b325b21-fdeb-439a-8305-dc9396a9d443",
     "regions": {
      "d2b5dd58-2e30-4ecc-b541-8eda7763db53": {
       "attrs": {
        "height": 0.8,
        "width": 0.8,
        "x": 0.1,
        "y": 0.1
       },
       "content": {
        "cell": "710c99b9-e223-4d30-b54f-ddf5a80eb9cb",
        "part": "whole"
       },
       "id": "d2b5dd58-2e30-4ecc-b541-8eda7763db53"
      }
     }
    },
    "1b325b21-fdeb-439a-8305-dc9396a9d443": {
     "id": "1b325b21-fdeb-439a-8305-dc9396a9d443",
     "prev": "28a4633b-fd0c-487e-acea-92de77775fd3",
     "regions": {
      "ae9548bf-89e9-4afa-bd70-a387cb21bfe1": {
       "attrs": {
        "height": 0.8,
        "width": 0.8,
        "x": 0.1,
        "y": 0.1
       },
       "content": {
        "cell": "942efef1-23d8-4553-8c0d-f7c9f74cd384",
        "part": "whole"
       },
       "id": "ae9548bf-89e9-4afa-bd70-a387cb21bfe1"
      }
     }
    },
    "240b2665-8143-4fa5-86c4-8241287df982": {
     "id": "240b2665-8143-4fa5-86c4-8241287df982",
     "prev": "3ca60747-ef46-491f-a13f-3e7c8493f481",
     "regions": {
      "b98ad6f7-8282-4931-921c-bd22833baeef": {
       "attrs": {
        "height": 0.8,
        "width": 0.8,
        "x": 0.1,
        "y": 0.1
       },
       "content": {
        "cell": "2b5d1275-4a5c-4a2c-9c8c-086b589eeefb",
        "part": "whole"
       },
       "id": "b98ad6f7-8282-4931-921c-bd22833baeef"
      }
     }
    },
    "28a4633b-fd0c-487e-acea-92de77775fd3": {
     "id": "28a4633b-fd0c-487e-acea-92de77775fd3",
     "prev": "b0652b1f-400c-4103-9793-82da3c9f2c75",
     "regions": {
      "a406479d-5c7f-492a-ac0b-476a2e626704": {
       "attrs": {
        "height": 0.8,
        "width": 0.8,
        "x": 0.1,
        "y": 0.1
       },
       "content": {
        "cell": "67486277-7a43-4f8a-82a3-2091bc537543",
        "part": "whole"
       },
       "id": "a406479d-5c7f-492a-ac0b-476a2e626704"
      }
     }
    },
    "3ca60747-ef46-491f-a13f-3e7c8493f481": {
     "id": "3ca60747-ef46-491f-a13f-3e7c8493f481",
     "prev": "7e1c79c5-ff3f-419a-a37b-467907188d99",
     "regions": {
      "bdf1b33a-111f-429f-b8c9-3c4549105e0e": {
       "attrs": {
        "height": 0.8,
        "width": 0.8,
        "x": 0.1,
        "y": 0.1
       },
       "content": {
        "cell": "fcec38f2-b79a-4967-8e29-c9249490f5e3",
        "part": "whole"
       },
       "id": "bdf1b33a-111f-429f-b8c9-3c4549105e0e"
      }
     }
    },
    "415dde6d-08ce-4f1a-bbca-b2998f1fd17e": {
     "id": "415dde6d-08ce-4f1a-bbca-b2998f1fd17e",
     "prev": "5d915e0a-98b9-49dc-b6b5-f3638a7b20f9",
     "regions": {
      "575965db-54ff-47b9-ba43-d5fcc39cb949": {
       "attrs": {
        "height": 0.05633353281468194,
        "width": 0.8,
        "x": 0.1008976660682226,
        "y": 0.931438260522641
       },
       "content": {
        "cell": "3f4e1ee5-f163-4174-8750-140f06f1ca97",
        "part": "source"
       },
       "id": "575965db-54ff-47b9-ba43-d5fcc39cb949"
      },
      "a5c9cc4b-fed6-4c0d-a846-a734dbbf83ec": {
       "attrs": {
        "height": 0.8,
        "width": 0.8,
        "x": 0.09999999999999998,
        "y": 0.12872531418312383
       },
       "content": {
        "cell": "44dcfb85-7f84-4020-9813-a305951abafd",
        "part": "whole"
       },
       "id": "a5c9cc4b-fed6-4c0d-a846-a734dbbf83ec"
      },
      "c26868b0-3be1-4d23-9d5c-14083b2b1772": {
       "attrs": {
        "height": 0.09463395172551368,
        "width": 0.8,
        "x": 0.09910233393177736,
        "y": 0.03297426690604423
       },
       "content": {
        "cell": "ffe5bed8-f918-425f-bebb-2f21351f3c21",
        "part": "source"
       },
       "id": "c26868b0-3be1-4d23-9d5c-14083b2b1772"
      }
     }
    },
    "47084bfa-e6f6-4e9c-9208-353ad93bcaac": {
     "id": "47084bfa-e6f6-4e9c-9208-353ad93bcaac",
     "prev": "8e031e74-f208-4967-95b4-253425bbd1fc",
     "regions": {
      "02052849-c292-4a94-907b-722eb4614973": {
       "attrs": {
        "height": 0.09383206443782419,
        "width": 0.8,
        "x": 0.10099304865938424,
        "y": 0.05586450402736403
       },
       "content": {
        "cell": "f95af745-e16c-426d-8b3a-67b6fd6f9712",
        "part": "source"
       },
       "id": "02052849-c292-4a94-907b-722eb4614973"
      },
      "23c2d5e1-0f09-453d-b631-ac39cb0b5e9f": {
       "attrs": {
        "height": 0.7593953437051749,
        "width": 0.8,
        "x": 0.1,
        "y": 0.1476663356504469
       },
       "content": {
        "cell": "a79c544d-edbd-471d-85e9-b111a605e4a2",
        "part": "whole"
       },
       "id": "23c2d5e1-0f09-453d-b631-ac39cb0b5e9f"
      },
      "4d47c2e4-5f78-42fc-b9e2-8ace3e51efe4": {
       "attrs": {
        "height": 0.06558534701533715,
        "width": 0.8,
        "x": 0.10099304865938424,
        "y": 0.9103277060575967
       },
       "content": {
        "cell": "ede3142a-4132-4024-9310-854ecfee7521",
        "part": "source"
       },
       "id": "4d47c2e4-5f78-42fc-b9e2-8ace3e51efe4"
      }
     }
    },
    "4c344548-c7b9-4018-9a8f-8d5be3e9fe4c": {
     "id": "4c344548-c7b9-4018-9a8f-8d5be3e9fe4c",
     "prev": null,
     "regions": {
      "b61feac9-1f79-4359-b5a1-ed146c3ab486": {
       "attrs": {
        "height": 0.8,
        "width": 0.8,
        "x": 0.1,
        "y": 0.1
       },
       "content": {
        "cell": "50d53953-8342-4f1d-9e55-08b5eae2fcbd",
        "part": "whole"
       },
       "id": "b61feac9-1f79-4359-b5a1-ed146c3ab486"
      }
     }
    },
    "5d915e0a-98b9-49dc-b6b5-f3638a7b20f9": {
     "id": "5d915e0a-98b9-49dc-b6b5-f3638a7b20f9",
     "prev": "e21737e1-0866-4cc2-911e-b57e9eaedda0",
     "regions": {
      "16543843-995c-4bcf-8672-af218e76e098": {
       "attrs": {
        "height": 0.8,
        "width": 0.8,
        "x": 0.09820466786355474,
        "y": 0.13830041891083178
       },
       "content": {
        "cell": "d6695a49-cd71-47ec-bd95-32f494ca06fc",
        "part": "whole"
       },
       "id": "16543843-995c-4bcf-8672-af218e76e098"
      },
      "37ec7b4b-fca7-4217-b801-d3fff8a3ec40": {
       "attrs": {
        "height": 0.10899660881707553,
        "width": 0.8026929982046679,
        "x": 0.0964093357271095,
        "y": 0.029782565330141668
       },
       "content": {
        "cell": "e9f39daa-fae4-4baf-819e-474397f3b75f",
        "part": "source"
       },
       "id": "37ec7b4b-fca7-4217-b801-d3fff8a3ec40"
      },
      "f701bef0-0599-47f9-b0fb-bd3d8f0b1306": {
       "attrs": {
        "height": 0.04516257729902265,
        "width": 0.8,
        "x": 0.09730700179533211,
        "y": 0.9394175144623976
       },
       "content": {
        "cell": "a7d48a5d-63f5-432a-9473-07adbb159f86",
        "part": "source"
       },
       "id": "f701bef0-0599-47f9-b0fb-bd3d8f0b1306"
      }
     }
    },
    "6616d336-9c2d-408a-bc9c-f6a738687653": {
     "id": "6616d336-9c2d-408a-bc9c-f6a738687653",
     "prev": "4c344548-c7b9-4018-9a8f-8d5be3e9fe4c",
     "regions": {
      "bad7c8cc-f267-40be-9f92-42297172f384": {
       "attrs": {
        "height": 0.8,
        "width": 0.8,
        "x": 0.1,
        "y": 0.1
       },
       "content": {
        "cell": "1b929579-3650-4999-8b42-2f227cde5fe7",
        "part": "whole"
       },
       "id": "bad7c8cc-f267-40be-9f92-42297172f384"
      }
     }
    },
    "72757078-237e-49b0-a7fd-b3ed48124786": {
     "id": "72757078-237e-49b0-a7fd-b3ed48124786",
     "prev": "6616d336-9c2d-408a-bc9c-f6a738687653",
     "regions": {
      "1220a097-0668-44f3-9a02-149447d318a5": {
       "attrs": {
        "height": 0.8,
        "width": 0.8,
        "x": 0.1,
        "y": 0.1
       },
       "content": {
        "cell": "168424a7-1be2-4e50-b149-03a243b63a0e",
        "part": "whole"
       },
       "id": "1220a097-0668-44f3-9a02-149447d318a5"
      }
     }
    },
    "7e1c79c5-ff3f-419a-a37b-467907188d99": {
     "id": "7e1c79c5-ff3f-419a-a37b-467907188d99",
     "prev": "b5313282-74d5-4773-a827-232ecf38b911",
     "regions": {
      "17635a12-d442-4eb4-963f-0c70dbc392a7": {
       "attrs": {
        "height": 0.8,
        "width": 0.8,
        "x": 0.1,
        "y": 0.1
       },
       "content": {
        "cell": "057a66d8-a176-462a-93fd-664d39b8d46a",
        "part": "whole"
       },
       "id": "17635a12-d442-4eb4-963f-0c70dbc392a7"
      }
     }
    },
    "8e031e74-f208-4967-95b4-253425bbd1fc": {
     "id": "8e031e74-f208-4967-95b4-253425bbd1fc",
     "prev": "106c05a1-74ed-402f-bf30-a44d346ada06",
     "regions": {
      "2a77d652-894d-4401-85e7-901abdd883c3": {
       "attrs": {
        "height": 0.1167825223435949,
        "width": 0.8,
        "x": 0.1,
        "y": 0.031148626282687858
       },
       "content": {
        "cell": "9b0d7e9b-7e8d-4aff-bca1-bfc300c44860",
        "part": "whole"
       },
       "id": "2a77d652-894d-4401-85e7-901abdd883c3"
      },
      "33d6a97c-5323-4747-9ef3-9d5a1bed0748": {
       "attrs": {
        "height": 0.07088160653205357,
        "width": 0.8,
        "x": 0.1,
        "y": 0.915623965574313
       },
       "content": {
        "cell": "ebe33835-dd53-49df-aba4-0f90533a6f6d",
        "part": "source"
       },
       "id": "33d6a97c-5323-4747-9ef3-9d5a1bed0748"
      },
      "5857d105-e72c-4fa3-865c-f39ef5c8b6ef": {
       "attrs": {
        "height": 0.7664570230607967,
        "width": 0.8,
        "x": 0.09999999999999994,
        "y": 0.1476663356504469
       },
       "content": {
        "cell": "28cef8ac-f41a-4f88-950d-22f6786753b2",
        "part": "source"
       },
       "id": "5857d105-e72c-4fa3-865c-f39ef5c8b6ef"
      }
     }
    },
    "9816c663-092a-4193-a14b-2aff8631b7b8": {
     "id": "9816c663-092a-4193-a14b-2aff8631b7b8",
     "prev": "dc93973d-af59-4da6-bcef-434f8b833664",
     "regions": {
      "e8d182b5-7a7f-4369-b46d-19ff1ca5129d": {
       "attrs": {
        "height": 0.8,
        "width": 0.8,
        "x": 0.1,
        "y": 0.1
       },
       "content": {
        "cell": "dfd674c7-f368-4366-af24-3f2e2010e7dc",
        "part": "whole"
       },
       "id": "e8d182b5-7a7f-4369-b46d-19ff1ca5129d"
      }
     }
    },
    "99573552-faad-4ef3-99ae-f3c8ff67176a": {
     "id": "99573552-faad-4ef3-99ae-f3c8ff67176a",
     "prev": "9816c663-092a-4193-a14b-2aff8631b7b8",
     "regions": {
      "dd8e852c-841d-457a-85f6-39cb878b5eec": {
       "attrs": {
        "height": 0.8,
        "width": 0.8,
        "x": 0.1,
        "y": 0.1
       },
       "content": {
        "cell": "5f536b47-4fb6-4975-9bf9-15d2bafaf263",
        "part": "whole"
       },
       "id": "dd8e852c-841d-457a-85f6-39cb878b5eec"
      }
     }
    },
    "ad6f85a5-181a-4c95-9bb4-c6abed520d0a": {
     "id": "ad6f85a5-181a-4c95-9bb4-c6abed520d0a",
     "prev": "c3298548-c0a8-42c8-b578-2a273702e169",
     "regions": {
      "5b03fadb-f471-44ee-89ab-24926e7fe819": {
       "attrs": {
        "height": 0.8,
        "width": 0.8,
        "x": 0.1,
        "y": 0.1
       },
       "content": {
        "cell": "45c89779-b459-47b5-8ccc-0be5245b3b63",
        "part": "whole"
       },
       "id": "5b03fadb-f471-44ee-89ab-24926e7fe819"
      }
     }
    },
    "b0652b1f-400c-4103-9793-82da3c9f2c75": {
     "id": "b0652b1f-400c-4103-9793-82da3c9f2c75",
     "prev": "ad6f85a5-181a-4c95-9bb4-c6abed520d0a",
     "regions": {
      "45a6a6c9-c0cc-4690-9dc7-2f02a071ef07": {
       "attrs": {
        "height": 0.8,
        "width": 0.8,
        "x": 0.1,
        "y": 0.1
       },
       "content": {
        "cell": "87a28309-9ef4-4ecc-97ff-e150d0160bd1",
        "part": "whole"
       },
       "id": "45a6a6c9-c0cc-4690-9dc7-2f02a071ef07"
      }
     }
    },
    "b0f981df-c8c6-49da-9d02-b2e6a7c0977c": {
     "id": "b0f981df-c8c6-49da-9d02-b2e6a7c0977c",
     "prev": "415dde6d-08ce-4f1a-bbca-b2998f1fd17e",
     "regions": {
      "50eb4e6a-52f8-4955-a2c9-f7102701e049": {
       "attrs": {
        "height": 0.7329742669060442,
        "width": 0.8,
        "x": 0.1,
        "y": 0.1654298823060044
       },
       "content": {
        "cell": "ad4ab19c-57fa-49e4-88ed-0cb48c8f292f",
        "part": "source"
       },
       "id": "50eb4e6a-52f8-4955-a2c9-f7102701e049"
      },
      "586cd8f7-386a-4e80-97ca-f2216dad78a7": {
       "attrs": {
        "height": 0.1361260722122482,
        "width": 0.8,
        "x": 0.1,
        "y": 0.029782565330141633
       },
       "content": {
        "cell": "92a46594-d066-49a2-981b-beb3f326e20b",
        "part": "whole"
       },
       "id": "586cd8f7-386a-4e80-97ca-f2216dad78a7"
      },
      "c1f4942f-c054-440a-9d1e-982cbe90cd13": {
       "attrs": {
        "height": 0.07548374227009785,
        "width": 0.8,
        "x": 0.10179533213644522,
        "y": 0.8979253939756632
       },
       "content": {
        "cell": "a081961e-08ba-40d0-9675-369d14ce9975",
        "part": "source"
       },
       "id": "c1f4942f-c054-440a-9d1e-982cbe90cd13"
      }
     }
    },
    "b5313282-74d5-4773-a827-232ecf38b911": {
     "id": "b5313282-74d5-4773-a827-232ecf38b911",
     "prev": "10572696-d2d5-4447-9b4d-bee15c2f0120",
     "regions": {
      "93b0d055-c6dd-42cd-8f58-661d9cca1e50": {
       "attrs": {
        "height": 0.8,
        "width": 0.8,
        "x": 0.1,
        "y": 0.1
       },
       "content": {
        "cell": "9e07dbcf-310a-4f33-955c-3ea5b906e018",
        "part": "whole"
       },
       "id": "93b0d055-c6dd-42cd-8f58-661d9cca1e50"
      }
     }
    },
    "b9b5a6fd-013d-408f-a223-abc153528b33": {
     "id": "b9b5a6fd-013d-408f-a223-abc153528b33",
     "prev": "72757078-237e-49b0-a7fd-b3ed48124786",
     "regions": {
      "1a0883ce-6f27-4c8c-b6bf-6205ee161def": {
       "attrs": {
        "height": 0.8,
        "width": 0.8,
        "x": 0.1,
        "y": 0.1
       },
       "content": {
        "cell": "a406738a-bac9-4361-9a31-90a9c974c89d",
        "part": "whole"
       },
       "id": "1a0883ce-6f27-4c8c-b6bf-6205ee161def"
      }
     }
    },
    "c3298548-c0a8-42c8-b578-2a273702e169": {
     "id": "c3298548-c0a8-42c8-b578-2a273702e169",
     "prev": "b0f981df-c8c6-49da-9d02-b2e6a7c0977c",
     "regions": {
      "2300f18b-838e-43aa-bdd5-9c249d26489c": {
       "attrs": {
        "height": 0.10580490724117297,
        "width": 0.8,
        "x": 0.0964093357271095,
        "y": 0.039357670057849715
       },
       "content": {
        "cell": "dd5d127c-7d6f-483d-bb25-f10902f92794",
        "part": "source"
       },
       "id": "2300f18b-838e-43aa-bdd5-9c249d26489c"
      },
      "36ad33fe-d90a-4e72-ba63-d94c42f870fe": {
       "attrs": {
        "height": 0.8,
        "width": 0.8,
        "x": 0.09551166965888687,
        "y": 0.14308797127468575
       },
       "content": {
        "cell": "d87656fd-9904-4c5a-a451-88baa6b62fb8",
        "part": "whole"
       },
       "id": "36ad33fe-d90a-4e72-ba63-d94c42f870fe"
      },
      "690ad170-4405-4ff0-a298-2b8f8aff3ed6": {
       "attrs": {
        "height": 0.04197087572312,
        "width": 0.8,
        "x": 0.09192100538599639,
        "y": 0.9442050668262516
       },
       "content": {
        "cell": "0e8b2baa-0075-49f9-8b23-e1ab13774b85",
        "part": "source"
       },
       "id": "690ad170-4405-4ff0-a298-2b8f8aff3ed6"
      }
     }
    },
    "dc93973d-af59-4da6-bcef-434f8b833664": {
     "id": "dc93973d-af59-4da6-bcef-434f8b833664",
     "prev": "47084bfa-e6f6-4e9c-9208-353ad93bcaac",
     "regions": {
      "f65eb98d-9e62-4971-9fa2-9c7267d76145": {
       "attrs": {
        "height": 0.8,
        "width": 0.8,
        "x": 0.1,
        "y": 0.1
       },
       "content": {
        "cell": "dda1b288-e6b5-485f-b943-f0761bb79cfa",
        "part": "whole"
       },
       "id": "f65eb98d-9e62-4971-9fa2-9c7267d76145"
      }
     }
    },
    "e21737e1-0866-4cc2-911e-b57e9eaedda0": {
     "id": "e21737e1-0866-4cc2-911e-b57e9eaedda0",
     "prev": "240b2665-8143-4fa5-86c4-8241287df982",
     "regions": {
      "014e5d3b-386f-4371-98dc-7cdda3671b0b": {
       "attrs": {
        "height": 0.04995012966287663,
        "width": 0.8,
        "x": 0.1,
        "y": 0.9458009176142032
       },
       "content": {
        "cell": "a5402359-4af4-40e5-8d4c-e4882562f3b7",
        "part": "source"
       },
       "id": "014e5d3b-386f-4371-98dc-7cdda3671b0b"
      },
      "4b57e21d-f9d7-4094-97bd-2c13a57b7b21": {
       "attrs": {
        "height": 0.8,
        "width": 0.8,
        "x": 0.09910233393177736,
        "y": 0.14149212048673443
       },
       "content": {
        "cell": "4bbd6a5c-2eb8-44f3-9b9d-c87d4ab06516",
        "part": "whole"
       },
       "id": "4b57e21d-f9d7-4094-97bd-2c13a57b7b21"
      },
      "88bf9410-9755-499c-8ed3-5d7bd1c9f869": {
       "attrs": {
        "height": 0.09303810093756236,
        "width": 0.8,
        "x": 0.09999999999999998,
        "y": 0.04414522242170352
       },
       "content": {
        "cell": "a918b702-1dec-4089-b916-c6a3781c2233",
        "part": "source"
       },
       "id": "88bf9410-9755-499c-8ed3-5d7bd1c9f869"
      }
     }
    }
   },
   "themes": {
    "default": "6613d02b-6dff-4a60-a744-0e02435de7d7",
    "theme": {
     "6613d02b-6dff-4a60-a744-0e02435de7d7": {
      "backgrounds": {
       "my-background": {
        "background-color": "white"
       }
      },
      "id": "6613d02b-6dff-4a60-a744-0e02435de7d7",
      "palette": {
       "black": {
        "id": "black",
        "rgb": [
         0,
         0,
         0
        ]
       },
       "blue": {
        "id": "blue",
        "rgb": [
         0,
         153,
         204
        ]
       },
       "gray": {
        "id": "gray",
        "rgb": [
         128,
         128,
         128
        ]
       },
       "red": {
        "id": "red",
        "rgb": [
         240,
         32,
         32
        ]
       },
       "white": {
        "id": "white",
        "rgb": [
         255,
         255,
         255
        ]
       }
      },
      "rules": {
       "code": {
        "font-size": 2
       },
       "h1": {
        "color": "blue",
        "font-size": 5.5,
        "text-align": "center"
       },
       "h2": {
        "color": "blue",
        "font-size": 3,
        "text-align": "center"
       },
       "h3": {
        "color": "black",
        "font-size": 3
       },
       "pre": {
        "font-size": 2
       },
       "ul li": {
        "color": "black",
        "font-size": 3
       },
       "ul li ul li": {
        "color": "black",
        "font-size": 2.5
       }
      },
      "text-base": {
       "font-family": "Georgia",
       "font-size": 3
      }
     }
    }
   }
  }
 },
 "nbformat": 4,
 "nbformat_minor": 1
}
