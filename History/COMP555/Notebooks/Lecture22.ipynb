{
 "cells": [
  {
   "cell_type": "code",
   "execution_count": 1,
   "metadata": {
    "nbpresent": {
     "id": "0af2d0d8-8964-46df-acc4-606552b6090c"
    }
   },
   "outputs": [
    {
     "data": {
      "application/javascript": [
       "var width = window.innerWidth || document.documentElement.clientWidth || document.body.clientWidth;\n",
       "var height = window.innerHeight || document.documentElement.clientHeight || document.body.clientHeight;\n",
       "\n",
       "IPython.notebook.kernel.execute(\"windowSize = (\" + width + \",\" + height + \")\");\n",
       "// suitable for small screens\n",
       "nbpresent.mode.tree.set(\n",
       "    [\"app\", \"theme-manager\", \"themes\", \"my-theme\"], \n",
       "    {\n",
       "    palette: {\n",
       "        \"blue\": { id: \"blue\", rgb: [0, 153, 204] },\n",
       "        \"black\": { id: \"black\", rgb: [0, 0, 0] },\n",
       "        \"white\": { id: \"white\", rgb: [255, 255, 255] },\n",
       "        \"red\": { id: \"red\", rgb: [240, 32, 32] },\n",
       "        \"gray\": { id: \"gray\", rgb: [128, 128, 128] },\n",
       "    },\n",
       "    backgrounds: {\n",
       "        \"my-background\": {\n",
       "            \"background-color\": \"white\"\n",
       "        }\n",
       "    },\n",
       "    \"text-base\": {\n",
       "        \"font-family\": \"Georgia\",\n",
       "        \"font-size\": 2.5\n",
       "    },\n",
       "    rules: {\n",
       "        h1: {\n",
       "            \"font-size\": 5.5,\n",
       "            color: \"blue\",\n",
       "            \"text-align\": \"center\"\n",
       "        },\n",
       "        h2: {\n",
       "            \"font-size\": 3,\n",
       "            color: \"blue\",\n",
       "            \"text-align\": \"center\"\n",
       "        },\n",
       "        h3: {\n",
       "            \"font-size\": 3,\n",
       "            color: \"black\",\n",
       "        },\n",
       "        \"ul li\": {\n",
       "            \"font-size\": 2.5,\n",
       "            color: \"black\"\n",
       "        },\n",
       "        \"ul li ul li\": {\n",
       "            \"font-size\": 2.0,\n",
       "            color: \"black\"\n",
       "        },\n",
       "        \"code\": {\n",
       "            \"font-size\": 1.6,\n",
       "        },\n",
       "        \"pre\": {\n",
       "            \"font-size\": 1.6,\n",
       "        }\n",
       "    }\n",
       "});"
      ],
      "text/plain": [
       "<IPython.core.display.Javascript object>"
      ]
     },
     "metadata": {},
     "output_type": "display_data"
    }
   ],
   "source": [
    "%%javascript\n",
    "var width = window.innerWidth || document.documentElement.clientWidth || document.body.clientWidth;\n",
    "var height = window.innerHeight || document.documentElement.clientHeight || document.body.clientHeight;\n",
    "\n",
    "IPython.notebook.kernel.execute(\"windowSize = (\" + width + \",\" + height + \")\");\n",
    "// suitable for small screens\n",
    "nbpresent.mode.tree.set(\n",
    "    [\"app\", \"theme-manager\", \"themes\", \"my-theme\"], \n",
    "    {\n",
    "    palette: {\n",
    "        \"blue\": { id: \"blue\", rgb: [0, 153, 204] },\n",
    "        \"black\": { id: \"black\", rgb: [0, 0, 0] },\n",
    "        \"white\": { id: \"white\", rgb: [255, 255, 255] },\n",
    "        \"red\": { id: \"red\", rgb: [240, 32, 32] },\n",
    "        \"gray\": { id: \"gray\", rgb: [128, 128, 128] },\n",
    "    },\n",
    "    backgrounds: {\n",
    "        \"my-background\": {\n",
    "            \"background-color\": \"white\"\n",
    "        }\n",
    "    },\n",
    "    \"text-base\": {\n",
    "        \"font-family\": \"Georgia\",\n",
    "        \"font-size\": 2.5\n",
    "    },\n",
    "    rules: {\n",
    "        h1: {\n",
    "            \"font-size\": 5.5,\n",
    "            color: \"blue\",\n",
    "            \"text-align\": \"center\"\n",
    "        },\n",
    "        h2: {\n",
    "            \"font-size\": 3,\n",
    "            color: \"blue\",\n",
    "            \"text-align\": \"center\"\n",
    "        },\n",
    "        h3: {\n",
    "            \"font-size\": 3,\n",
    "            color: \"black\",\n",
    "        },\n",
    "        \"ul li\": {\n",
    "            \"font-size\": 2.5,\n",
    "            color: \"black\"\n",
    "        },\n",
    "        \"ul li ul li\": {\n",
    "            \"font-size\": 2.0,\n",
    "            color: \"black\"\n",
    "        },\n",
    "        \"code\": {\n",
    "            \"font-size\": 1.6,\n",
    "        },\n",
    "        \"pre\": {\n",
    "            \"font-size\": 1.6,\n",
    "        }\n",
    "    }\n",
    "});"
   ]
  },
  {
   "cell_type": "markdown",
   "metadata": {
    "nbpresent": {
     "id": "538d5959-7afd-4651-9fce-777afa13cf5d"
    },
    "slideshow": {
     "slide_type": "slide"
    }
   },
   "source": [
    "# Genome Rearrangements\n",
    "\n",
    "<img src=\"http://csbio.unc.edu/mcmillan/Comp555S18/Media/ManOrMouse.jpg\" width=\"500px\" class=\"centerImg\">\n",
    "\n",
    "<p style=\"text-align: right; clear: right;\">1</p>"
   ]
  },
  {
   "cell_type": "markdown",
   "metadata": {
    "nbpresent": {
     "id": "cdc4f8ce-a5d6-4204-9d2b-71e032851831"
    },
    "slideshow": {
     "slide_type": "slide"
    }
   },
   "source": [
    "# Revisiting Greedy Algorithms\n",
    "\n",
    "<img src=\"http://csbio.unc.edu/mcmillan/Comp555S18/Media/CoinChange.png\" width=\"250px\" style=\"float: right; clear: right; margin-right: 40px;\">\n",
    "An iterative algorithm where, at each step, one takes what seems to be the immediately best option\n",
    "\n",
    "* Cons\n",
    "   - It may return incorrect results\n",
    "   - It may require more steps than necessary\n",
    "\n",
    "* Pros\n",
    "   - It oftern requires very little time to make a greedy choice\n",
    "   - Chices are considered independently\n",
    "   \n",
    "Have we seen greedy algorithms in previous lectures?\n",
    "\n",
    "<p style=\"text-align: right; clear: right;\">2</p>"
   ]
  },
  {
   "cell_type": "markdown",
   "metadata": {
    "nbpresent": {
     "id": "d71153aa-edc6-4daf-bf4f-21aab0123116"
    },
    "slideshow": {
     "slide_type": "slide"
    }
   },
   "source": [
    "# The Pancake Flipping Problem\n",
    "\n",
    "<img src=\"http://csbio.unc.edu/mcmillan/Comp555S18/Media/HowManyFlips.png\" width=\"250px\" style=\"float: left; clear: left; margin: 0px 20px;\">\n",
    "The chef at \"Breadman's\" is sloppy.\n",
    "\n",
    "He makes pancakes of nonuniform sizes, and just throws them onto the plate.\n",
    "\n",
    "Before the waitress delivers them to your table, she rearranges them so that the smaller pancakes are atacked on the larger ones.\n",
    "\n",
    "Since she has only one free hand to perform this culinary rearrangement, she does it by inserting a spatula into the stack and then she flips all the cakes above the spatula. She repeats the process over and over until the entire stack is sorted.\n",
    "\n",
    "I was wondering, how many such flips are needed for her to transform a sloppy stack into a sorted one? \n",
    "\n",
    "<p style=\"text-align: right; clear: left;\">3</p>"
   ]
  },
  {
   "cell_type": "markdown",
   "metadata": {
    "nbpresent": {
     "id": "8ad274be-b461-483e-bca5-16473887ac9c"
    },
    "slideshow": {
     "slide_type": "slide"
    }
   },
   "source": [
    "# Pancake Flipping Problem: Formulation\n",
    "\n",
    "* **Goal:** Given a stack of *n* pancakes, what is the minimun number of flips to rearrange them into a sorted stack (small on top of large)?\n",
    "\n",
    "* **Input:** A permutation $\\Pi$\n",
    "\n",
    "* **Output:** A series of *prefix reversals*, $\\rho_1, \\rho_2, \\rho_t$ that transforms $\\Pi$ into the indentity permutation such that *t* is minimal.\n",
    "\n",
    "$$\\Pi = \\underline{\\pi_1, ..., \\pi_{i-1}, \\pi_i,} \\pi_{i+1} ... \\pi_n$$\n",
    "\n",
    "$$\\Pi = \\pi_i, \\pi_{i-1}, ..., \\pi_1, \\pi_{i+1} ... \\pi_n$$\n",
    "\n",
    "<p style=\"text-align: right; clear: right;\">4</p>"
   ]
  },
  {
   "cell_type": "markdown",
   "metadata": {
    "nbpresent": {
     "id": "3421db94-9acf-46ef-a52a-7a5003458854"
    },
    "slideshow": {
     "slide_type": "slide"
    }
   },
   "source": [
    "# Turning Pancakes into Numbers\n",
    "\n",
    "<img src=\"http://csbio.unc.edu/mcmillan/Comp555S18/Media/FewestFlips.png\" width=\"500px\" class=\"centerImg\">\n",
    "\n",
    "<p style=\"text-align: right; clear: right;\">5</p>"
   ]
  },
  {
   "cell_type": "markdown",
   "metadata": {
    "nbpresent": {
     "id": "5f037260-9815-443e-aaf8-0bc5c344b934"
    },
    "slideshow": {
     "slide_type": "slide"
    }
   },
   "source": [
    "# \"Bring-to-Top\" Algorithm\n",
    "\n",
    "<img src=\"http://csbio.unc.edu/mcmillan/Comp555S18/Media/FlipSort.png\" width=\"250px\" style=\"float: left; clear: left; margin: 0px 20px;\">\n",
    "1. Flip the biggest pancake to the top of the stack\n",
    "2. Flip the entire stack (*n*), to place the biggest pancake on the bottom\n",
    "3. Flip the next largest pancake to the top\n",
    "4. Flip the n-1 top pancakes, thus, placing the 2nd largest on top of the largest\n",
    "5. Repeat until sorted\n",
    "\n",
    "<p style=\"text-align: right; clear: left;\">6</p>"
   ]
  },
  {
   "cell_type": "markdown",
   "metadata": {
    "nbpresent": {
     "id": "60ca4a53-4b88-4b4a-91cf-468589a05bb8"
    },
    "slideshow": {
     "slide_type": "slide"
    }
   },
   "source": [
    "# \"Bring-to-Top\" Algorithm for *n* Pancakes\n",
    "\n",
    "* If *n* = 1, the smallest pancake is already on top - we are done\n",
    "* Otherwise, flip pancake *n* to the top, and then flip it to position *n*\n",
    "* Now use:\n",
    "\n",
    "<div style=\"margin: 0 auto; width: 280px; background-color: #62C6F2; padding: 20px; border-style: solid; text-align: center;\">\n",
    "Bring-to-Top(n)<br>Pancakes\n",
    "</div>\n",
    "\n",
    "* Analysis:\n",
    "    - Performs 2 flips to put the i<sup>th</sup> pancake into its correct position.\n",
    "    - There are (n-1) pancakes to sort\n",
    "    - So, no more then $2(n-1)$ flips are needed to sort the entire stack\n",
    "\n",
    "<p style=\"text-align: right; clear: right;\">7</p>"
   ]
  },
  {
   "cell_type": "markdown",
   "metadata": {
    "nbpresent": {
     "id": "de4e77f2-a1fa-4489-9dfd-8d36ab1dd295"
    },
    "slideshow": {
     "slide_type": "slide"
    }
   },
   "source": [
    "# Is that the best we can do?\n",
    "\n",
    "* Our algorithm is correct, but can it be done with fewer flips?\n",
    "* Apply it to the following stack\n",
    "\n",
    "<img src=\"http://csbio.unc.edu/mcmillan/Comp555S18/Media/Only5Flips.png\" width=\"600px\" class=\"centerImg\">\n",
    "\n",
    "* The \"Bring-to-Top\" algoithm did it in only 5 flips! The predicted \"8\" flips is an upper-bound on the number of flips required by \"Bring-to-top\"\n",
    "* Is there another algorithm that can always rearrange the stack in fewer flips?\n",
    "\n",
    "<p style=\"text-align: right; clear: right;\">8</p>"
   ]
  },
  {
   "cell_type": "markdown",
   "metadata": {
    "collapsed": true,
    "nbpresent": {
     "id": "23e7bd20-05cf-4f9b-a51c-9435e814057a"
    },
    "slideshow": {
     "slide_type": "slide"
    }
   },
   "source": [
    "# You can do it in 4 flips!\n",
    "\n",
    "<img src=\"http://csbio.unc.edu/mcmillan/Comp555S18/Media/DoItIn4Flips.png\" width=\"600px\" class=\"centerImg\">\n",
    "\n",
    "William Gates III (yeah, the Micorsoft guy) and Christos Papadimitriou showed in the mid-1970s that this problem can be solved by at least *17/16 n* and at most *5/3 (n+1)* prefix reversals (flips) of *n* pancakes.\n",
    "\n",
    "<p style=\"text-align: right; clear: right;\">9</p>"
   ]
  },
  {
   "cell_type": "markdown",
   "metadata": {
    "nbpresent": {
     "id": "d8c3bc8c-4af6-4f43-afbf-56de0b3d33e9"
    },
    "slideshow": {
     "slide_type": "slide"
    }
   },
   "source": [
    "# A Serious Scientific Problem\n",
    "\n",
    "<img src=\"http://csbio.unc.edu/mcmillan/Comp555S18/Media/OddOrganisms.png\" width=\"220px\" style=\"float: right; clear: right; margin-right: 40px;\">\n",
    "\n",
    "* Some organisms are obviously similar...\n",
    "* Some organisms are obviously different...\n",
    "* Some are close calls...\n",
    "* The differences are all in their genes!\n",
    "* And the gene order is important!\n",
    "\n",
    "<p style=\"text-align: right; clear: right;\">10</p>"
   ]
  },
  {
   "cell_type": "markdown",
   "metadata": {
    "nbpresent": {
     "id": "c85cd3e9-c71a-4cb2-86f2-b50a3540c2e0"
    },
    "slideshow": {
     "slide_type": "slide"
    }
   },
   "source": [
    "# Genome Rearrangements\n",
    "\n",
    "<img src=\"http://csbio.unc.edu/mcmillan/Comp555S18/Media/HumanMouseChromo.png\" width=\"250px\" style=\"float: right; clear: right; margin-right: 40px;\">\n",
    "\n",
    "* Humans and mice have similar genomes, but their genes are ordered differently\n",
    "* &approx; 245 rearrangements\n",
    "* &approx; 300 large synteny blocks\n",
    "\n",
    "<img src=\"http://csbio.unc.edu/mcmillan/Comp555S18/Media/HumanMouseBlocks.png\" width=\"300px\" style=\"float: left; clear: left; margin: 0px 20px;\">\n",
    "\n",
    "<p style=\"text-align: right; clear: right;\">11</p>"
   ]
  },
  {
   "cell_type": "markdown",
   "metadata": {
    "nbpresent": {
     "id": "9aa56520-c165-4aa8-af0d-ce66deb1b8bd"
    },
    "slideshow": {
     "slide_type": "slide"
    }
   },
   "source": [
    "# Genomes are Connected\n",
    "\n",
    "<img src=\"http://csbio.unc.edu/mcmillan/Comp555S18/Media/CommonAncestor.png\" width=\"640px\" class=\"centerImg\">\n",
    "\n",
    "* What are the syntenty blocks, and how do we find them?\n",
    "* What is the architecture of the common ancestral genome?\n",
    "* What is the evolutionary scenario fo transforming one genome into the other?\n",
    "\n",
    "<p style=\"text-align: right; clear: right;\">12</p>"
   ]
  },
  {
   "cell_type": "markdown",
   "metadata": {
    "nbpresent": {
     "id": "a61e6612-a34e-4af2-8da5-311d2939bd61"
    },
    "slideshow": {
     "slide_type": "slide"
    }
   },
   "source": [
    "# The History of X\n",
    "\n",
    "<img src=\"http://csbio.unc.edu/mcmillan/Comp555S18/Media/XAncestor.png\" width=\"500px\" style=\"float: right; clear: right; margin-right: 80px;\">\n",
    "### Rat Consortium, Nature 2004\n",
    "\n",
    "Rearrangement Events:\n",
    "\n",
    "* Reversals\n",
    "* Fusions\n",
    "* Fissions\n",
    "* Translocations\n",
    "\n",
    "<p style=\"text-align: right; clear: right;\">13</p>"
   ]
  },
  {
   "cell_type": "markdown",
   "metadata": {
    "nbpresent": {
     "id": "48dbeec5-9713-47cb-a05f-c63cc12e07e3"
    },
    "slideshow": {
     "slide_type": "slide"
    }
   },
   "source": [
    "# Reversals\n",
    "\n",
    "<img src=\"http://csbio.unc.edu/mcmillan/Comp555S18/Media/Reversal.png\" width=\"640px\" class=\"centerImg\">\n",
    "\n",
    "* Blocks represent conserved genes\n",
    "* Reversals, or inversions, are particularly relevant to speciation. Recombinations cannot occur between reversed and normally ordered segments.\n",
    "\n",
    "<p style=\"text-align: right; clear: right;\">14</p>"
   ]
  },
  {
   "cell_type": "markdown",
   "metadata": {
    "nbpresent": {
     "id": "663e515f-e75a-49f9-95eb-5874c59f19ac"
    },
    "slideshow": {
     "slide_type": "slide"
    }
   },
   "source": [
    "# Reversals\n",
    "\n",
    "<img src=\"http://csbio.unc.edu/mcmillan/Comp555S18/Media/ReversalAfter.png\" width=\"640px\" class=\"centerImg\">\n",
    "\n",
    "* Blocks represent conserved genes\n",
    "* In the course of evolution, blocks 1 ... 10 could be reordered as 1 2 3 <span style=\"color: #008070;\">8 7 6 5 4</span> 9 10 \n",
    "<p style=\"text-align: right; clear: right;\">15</p>"
   ]
  },
  {
   "cell_type": "markdown",
   "metadata": {
    "nbpresent": {
     "id": "2d86cc83-1560-48a3-9e3d-f8a5ac277e0c"
    },
    "slideshow": {
     "slide_type": "slide"
    }
   },
   "source": [
    "# Reversal Breakpoints\n",
    "\n",
    "<img src=\"http://csbio.unc.edu/mcmillan/Comp555S18/Media/ReversalBreakpoints.png\" width=\"640px\" class=\"centerImg\">\n",
    "\n",
    "* The inversion introduced two breakpoints (disruptions in order).\n",
    "\n",
    "<p style=\"text-align: right; clear: right;\">16</p>"
   ]
  },
  {
   "cell_type": "markdown",
   "metadata": {
    "nbpresent": {
     "id": "32faebcf-0c54-41a2-8c9c-5675eff7bbed"
    },
    "slideshow": {
     "slide_type": "slide"
    }
   },
   "source": [
    "# Other Types of Rearrangements\n",
    "\n",
    "<img src=\"http://csbio.unc.edu/mcmillan/Comp555S18/Media/Translocation.png\" width=\"640px\" class=\"centerImg\">\n",
    "\n",
    "<p style=\"text-align: right; clear: right;\">17</p>"
   ]
  },
  {
   "cell_type": "markdown",
   "metadata": {
    "nbpresent": {
     "id": "3df605a0-7299-4755-9a75-e0472f9ac29d"
    },
    "slideshow": {
     "slide_type": "slide"
    }
   },
   "source": [
    "# Reversals and Gene Orders\n",
    "\n",
    "* Gene order can be represented by a permuation $\\Pi$:\n",
    "\n",
    "<img src=\"http://csbio.unc.edu/mcmillan/Comp555S18/Media/Permutation.png\" width=\"640px\" class=\"centerImg\">\n",
    "\n",
    "* Reversal $\\rho(i,j)$ referses (flips) the elements from *i* to *j* in $\\Pi$\n",
    "<p style=\"text-align: right; clear: right;\">18</p>"
   ]
  },
  {
   "cell_type": "markdown",
   "metadata": {
    "nbpresent": {
     "id": "c508b08c-959a-4fe9-9dbf-33c3df9f5930"
    },
    "slideshow": {
     "slide_type": "slide"
    }
   },
   "source": [
    "# Reversal Examples\n",
    "\n",
    "$$\\Large \\Pi = 1, 2, \\underline{\\color{red} {3, 4, 5},} 6, 7, 8$$\n",
    "\n",
    "$$\\Large \\rho(3,5)\\quad \\Big\\downarrow\\qquad$$\n",
    "\n",
    "$$\\Large \\Pi = 1, 2, 5, 4, \\underline{\\color{purple} {3, 6},} 7, 8$$\n",
    "\n",
    "$$\\Large \\rho(5,6)\\qquad \\Big\\downarrow$$\n",
    "\n",
    "$$\\Large \\Pi = 1, 2, 5, 4, 6, 3, 7, 8$$\n",
    "\n",
    "<p style=\"text-align: right; clear: right;\">19</p>"
   ]
  },
  {
   "cell_type": "markdown",
   "metadata": {
    "nbpresent": {
     "id": "27227e70-5798-4552-9360-3502b7b6d5ff"
    },
    "slideshow": {
     "slide_type": "slide"
    }
   },
   "source": [
    "# \"Reversal Distance\" Problem\n",
    "\n",
    "* **Goal:** Given two permutations over *n* elements, find the shortest series of reversals that transforms one into another.\n",
    "* **Input:** Permutations $\\Pi$ and $\\Sigma$\n",
    "* **Output:** A series of reversals $\\rho_1(s_1,e_1), \\rho_2(s_2,e_2), ... \\rho_t(s_t,e_t)$ transforming $\\Pi$ to $\\Sigma$ such that $t$ is minimal\n",
    "* $t$ - reversal distance between $\\Pi$ and $\\Sigma$\n",
    "\n",
    "<p style=\"text-align: right; clear: right;\">20</p>"
   ]
  },
  {
   "cell_type": "markdown",
   "metadata": {
    "nbpresent": {
     "id": "407fd438-a723-443a-821a-bae5f08afafa"
    },
    "slideshow": {
     "slide_type": "slide"
    }
   },
   "source": [
    "# \"Sorting By Reversals\" Problem\n",
    "\n",
    "*A simplified restatement of the same problem...*\n",
    "\n",
    "* **Goal:** Given two pemutations find the shortest series of reversals that transforms it into the identity permuations $1, 2, 3, ... n$.\n",
    "* **Input:** Permutations $\\Pi$\n",
    "* **Output:** A series of reversals $\\rho_1(s_1,e_1), \\rho_2(s_2,e_2), ... \\rho_t(s_t,e_t)$ transforming $\\Pi$ to the identity permutation such that $t$ is minimal\n",
    "* $t = d(\\Pi)$ - reversal distance of $\\Pi$\n",
    "\n",
    "<p style=\"text-align: right; clear: right;\">21</p>"
   ]
  },
  {
   "cell_type": "markdown",
   "metadata": {
    "nbpresent": {
     "id": "908c789a-128a-47a6-8f62-2858531ed3d9"
    },
    "slideshow": {
     "slide_type": "slide"
    }
   },
   "source": [
    "# Sorting By Reversals: Examples\n",
    "\n",
    "$$\\Large \n",
    "\\begin{aligned}\n",
    "\\Pi_0 &= \\underline{\\color{purple}{3, 4}}, 2, 1, 5, 6, 7, 10, 9, 8\\qquad \\rho(1, 2) \\\\\n",
    "\\Pi_1 &= 4, 3, 2, 1, 5, 6, 7, \\underline{\\color{red}{10, 9, 8}}\\qquad \\rho(8, 10) \\\\\n",
    "\\Pi_2 &= \\underline{\\color{green}{4, 3, 2, 1}}, 5, 6, 7, 8, 9, 10\\qquad \\rho(1, 4) \\\\\n",
    "\\Pi_3 &= 1, 2, 3, 4, 5, 6, 7, 8, 9, 10 \\\\\n",
    "\\\\\n",
    "d(\\Pi) &= 3 \\\\\n",
    "\\end{aligned}\n",
    "$$\n",
    "\n",
    "<p style=\"text-align: right; clear: right;\">22</p>"
   ]
  },
  {
   "cell_type": "markdown",
   "metadata": {
    "nbpresent": {
     "id": "39b23bca-f6c7-4b4d-9e21-ef2f36e7c3e2"
    },
    "slideshow": {
     "slide_type": "slide"
    }
   },
   "source": [
    "# Sorting By Reversals: Another example\n",
    "\n",
    "$$\\Large \n",
    "\\begin{aligned}\n",
    "\\Pi_0 &= 2, \\underline{\\color{purple}{4, 3}}, 5, 8, 7, 6, 1\\qquad \\rho(2, 3) \\\\\n",
    "\\Pi_1 &= 2, 3, 4, 5, \\underline{\\color{red}{8, 7, 6}}, 1\\qquad \\rho(5, 7) \\\\\n",
    "\\Pi_2 &= \\underline{\\color{green}{2, 3, 4, 5, 6, 7, 8}}, 1\\qquad \\rho(1, 7) \\\\\n",
    "\\Pi_3 &= \\underline{\\color{blue}{8, 7, 6, 5, 4, 3, 2, 1}}\\qquad \\rho(1, 8) \\\\\n",
    "\\Pi_4 &= 1, 2, 3, 4, 5, 6, 7, 8 \\\\\n",
    "\\\\\n",
    "d(\\Pi) &= 4 \\\\\n",
    "\\end{aligned}\n",
    "$$\n",
    "\n",
    "* But, is 4 the minimum number of reversals? Can it be done in 3? \n",
    "\n",
    "<p style=\"text-align: right; clear: right;\">23</p>"
   ]
  },
  {
   "cell_type": "markdown",
   "metadata": {
    "nbpresent": {
     "id": "bfcefb88-ad3c-4ffa-be70-e519c6710200"
    },
    "slideshow": {
     "slide_type": "slide"
    }
   },
   "source": [
    "# Next Time\n",
    "\n",
    "* Examples are not an algorithm\n",
    "\n",
    "* Next time we'll discuss algorithms for performing reversal sorts\n",
    "\n",
    "<img src=\"http://csbio.unc.edu/mcmillan/Comp555S18/Media/RoleReversal.jpg\" width=\"640px\" class=\"centerImg\">\n",
    "\n",
    "<p style=\"text-align: right; clear: right;\">24</p>"
   ]
  },
  {
   "cell_type": "code",
   "execution_count": null,
   "metadata": {},
   "outputs": [],
   "source": []
  },
  {
   "cell_type": "code",
   "execution_count": null,
   "metadata": {},
   "outputs": [],
   "source": []
  }
 ],
 "metadata": {
  "anaconda-cloud": {},
  "celltoolbar": "Slideshow",
  "kernelspec": {
   "display_name": "Python 2",
   "language": "python",
   "name": "python2"
  },
  "language_info": {
   "codemirror_mode": {
    "name": "ipython",
    "version": 2
   },
   "file_extension": ".py",
   "mimetype": "text/x-python",
   "name": "python",
   "nbconvert_exporter": "python",
   "pygments_lexer": "ipython2",
   "version": "2.7.14"
  },
  "nbpresent": {
   "slides": {
    "0d11fa6b-63e4-429d-874a-c096285fe971": {
     "id": "0d11fa6b-63e4-429d-874a-c096285fe971",
     "prev": "f89fecec-7c0f-4584-970d-18d5df744eee",
     "regions": {
      "ada7c757-0693-4f47-8844-0a69007c225f": {
       "attrs": {
        "height": 0.96,
        "width": 0.96,
        "x": 0.02,
        "y": 0.02
       },
       "content": {
        "cell": "d8c3bc8c-4af6-4f43-afbf-56de0b3d33e9",
        "part": "whole"
       },
       "id": "ada7c757-0693-4f47-8844-0a69007c225f"
      }
     }
    },
    "109ffe97-690b-4a9c-a08a-b8d081ea4367": {
     "id": "109ffe97-690b-4a9c-a08a-b8d081ea4367",
     "prev": "59e61e1a-e2ce-4449-8423-b079c31bb623",
     "regions": {
      "405a9ad4-8314-4542-8a22-43753ad13f12": {
       "attrs": {
        "height": 0.96,
        "width": 0.96,
        "x": 0.02,
        "y": 0.02
       },
       "content": {
        "cell": "908c789a-128a-47a6-8f62-2858531ed3d9",
        "part": "whole"
       },
       "id": "405a9ad4-8314-4542-8a22-43753ad13f12"
      }
     }
    },
    "21baaeda-7a87-4644-b489-9156652cc767": {
     "id": "21baaeda-7a87-4644-b489-9156652cc767",
     "prev": null,
     "regions": {
      "f18362db-9cc9-4ab5-85e6-726a421c3082": {
       "attrs": {
        "height": 0.96,
        "width": 0.96,
        "x": 0.02,
        "y": 0.02
       },
       "content": {
        "cell": "538d5959-7afd-4651-9fce-777afa13cf5d",
        "part": "whole"
       },
       "id": "f18362db-9cc9-4ab5-85e6-726a421c3082"
      }
     }
    },
    "27185f3e-2a0f-4c1e-8ac9-2f8b72365bf1": {
     "id": "27185f3e-2a0f-4c1e-8ac9-2f8b72365bf1",
     "prev": "d161c9ac-ea5f-4a16-ad30-fac5da95b9d7",
     "regions": {
      "3aee5b0a-bcdc-4793-b4cc-8367bcd4a979": {
       "attrs": {
        "height": 0.96,
        "width": 0.96,
        "x": 0.02,
        "y": 0.02
       },
       "content": {
        "cell": "3421db94-9acf-46ef-a52a-7a5003458854",
        "part": "whole"
       },
       "id": "3aee5b0a-bcdc-4793-b4cc-8367bcd4a979"
      }
     }
    },
    "2a7de429-4e87-4991-bbae-2706c26d498c": {
     "id": "2a7de429-4e87-4991-bbae-2706c26d498c",
     "prev": "54fb52a8-2b72-4d61-a616-af4ddd0834ac",
     "regions": {
      "bb953d17-425c-488e-97bd-af4857896cd2": {
       "attrs": {
        "height": 0.96,
        "width": 0.96,
        "x": 0.02,
        "y": 0.02
       },
       "content": {
        "cell": "bfcefb88-ad3c-4ffa-be70-e519c6710200",
        "part": "whole"
       },
       "id": "bb953d17-425c-488e-97bd-af4857896cd2"
      }
     }
    },
    "3d9a2f93-6cfe-44ab-b528-8518313fb843": {
     "id": "3d9a2f93-6cfe-44ab-b528-8518313fb843",
     "prev": "bfa2688b-5d59-4cd5-8f83-4f9fd90185d1",
     "regions": {
      "d4087a0f-1e57-4715-8bfb-90a028106e19": {
       "attrs": {
        "height": 0.96,
        "width": 0.96,
        "x": 0.02,
        "y": 0.02
       },
       "content": {
        "cell": "663e515f-e75a-49f9-95eb-5874c59f19ac",
        "part": "whole"
       },
       "id": "d4087a0f-1e57-4715-8bfb-90a028106e19"
      }
     }
    },
    "43d6d6a5-e2b0-4128-a81e-fb40db259d76": {
     "id": "43d6d6a5-e2b0-4128-a81e-fb40db259d76",
     "prev": "ef9920f6-e2eb-4fed-99ef-01de75833958",
     "regions": {
      "208c1abd-a1fc-449a-acc0-ef868ba7f56a": {
       "attrs": {
        "height": 0.96,
        "width": 0.96,
        "x": 0.02,
        "y": 0.02
       },
       "content": {
        "cell": "de4e77f2-a1fa-4489-9dfd-8d36ab1dd295",
        "part": "whole"
       },
       "id": "208c1abd-a1fc-449a-acc0-ef868ba7f56a"
      }
     }
    },
    "54fb52a8-2b72-4d61-a616-af4ddd0834ac": {
     "id": "54fb52a8-2b72-4d61-a616-af4ddd0834ac",
     "prev": "109ffe97-690b-4a9c-a08a-b8d081ea4367",
     "regions": {
      "bebca8fa-ccf7-4b0b-9981-050bb2523e62": {
       "attrs": {
        "height": 0.96,
        "width": 0.96,
        "x": 0.02,
        "y": 0.02
       },
       "content": {
        "cell": "39b23bca-f6c7-4b4d-9e21-ef2f36e7c3e2",
        "part": "whole"
       },
       "id": "bebca8fa-ccf7-4b0b-9981-050bb2523e62"
      }
     }
    },
    "59e61e1a-e2ce-4449-8423-b079c31bb623": {
     "id": "59e61e1a-e2ce-4449-8423-b079c31bb623",
     "prev": "7b2cda45-8efa-4d3e-b4d0-4209b54e5bd5",
     "regions": {
      "a6c367ca-0f83-4e7b-a78b-b3380ed1d24f": {
       "attrs": {
        "height": 0.96,
        "width": 0.96,
        "x": 0.02,
        "y": 0.02
       },
       "content": {
        "cell": "407fd438-a723-443a-821a-bae5f08afafa",
        "part": "whole"
       },
       "id": "a6c367ca-0f83-4e7b-a78b-b3380ed1d24f"
      }
     }
    },
    "5ac2e041-90e9-4cdc-8599-3360927662f8": {
     "id": "5ac2e041-90e9-4cdc-8599-3360927662f8",
     "prev": "cc38386b-68f7-40b7-be5f-475078bf333c",
     "regions": {
      "e983ba21-d42f-4ef2-b7b1-e2ce15e3f5e3": {
       "attrs": {
        "height": 0.96,
        "width": 0.96,
        "x": 0.02,
        "y": 0.02
       },
       "content": {
        "cell": "32faebcf-0c54-41a2-8c9c-5675eff7bbed",
        "part": "whole"
       },
       "id": "e983ba21-d42f-4ef2-b7b1-e2ce15e3f5e3"
      }
     }
    },
    "5e90658b-acb9-4639-8ba1-b534ef6bbd4b": {
     "id": "5e90658b-acb9-4639-8ba1-b534ef6bbd4b",
     "prev": "8f493dda-9053-48c2-8d54-e50f99cad3f9",
     "regions": {
      "70235dd5-1a29-4305-b7b5-79d316477456": {
       "attrs": {
        "height": 0.96,
        "width": 0.96,
        "x": 0.02,
        "y": 0.02
       },
       "content": {
        "cell": "a61e6612-a34e-4af2-8da5-311d2939bd61",
        "part": "whole"
       },
       "id": "70235dd5-1a29-4305-b7b5-79d316477456"
      }
     }
    },
    "6542a979-9aaf-4205-b524-9f0cc4300b5a": {
     "id": "6542a979-9aaf-4205-b524-9f0cc4300b5a",
     "prev": "82d60af4-1490-4c20-ab4c-724569ee19f3",
     "regions": {
      "eae81fc5-9407-4f7f-935a-c427da54851f": {
       "attrs": {
        "height": 0.96,
        "width": 0.96,
        "x": 0.02,
        "y": 0.02
       },
       "content": {
        "cell": "d71153aa-edc6-4daf-bf4f-21aab0123116",
        "part": "whole"
       },
       "id": "eae81fc5-9407-4f7f-935a-c427da54851f"
      }
     }
    },
    "7b2cda45-8efa-4d3e-b4d0-4209b54e5bd5": {
     "id": "7b2cda45-8efa-4d3e-b4d0-4209b54e5bd5",
     "prev": "b3f7fd87-2730-4725-8d39-bdee6de006c6",
     "regions": {
      "f9286b94-1c29-49f9-b1a6-b946d211a180": {
       "attrs": {
        "height": 0.96,
        "width": 0.96,
        "x": 0.02,
        "y": 0.02
       },
       "content": {
        "cell": "27227e70-5798-4552-9360-3502b7b6d5ff",
        "part": "whole"
       },
       "id": "f9286b94-1c29-49f9-b1a6-b946d211a180"
      }
     }
    },
    "82d60af4-1490-4c20-ab4c-724569ee19f3": {
     "id": "82d60af4-1490-4c20-ab4c-724569ee19f3",
     "prev": "21baaeda-7a87-4644-b489-9156652cc767",
     "regions": {
      "b38e48ab-5a46-48e4-9b28-edc35b4ff342": {
       "attrs": {
        "height": 0.96,
        "width": 0.96,
        "x": 0.02,
        "y": 0.02
       },
       "content": {
        "cell": "cdc4f8ce-a5d6-4204-9d2b-71e032851831",
        "part": "whole"
       },
       "id": "b38e48ab-5a46-48e4-9b28-edc35b4ff342"
      }
     }
    },
    "8f493dda-9053-48c2-8d54-e50f99cad3f9": {
     "id": "8f493dda-9053-48c2-8d54-e50f99cad3f9",
     "prev": "c59160ef-4668-4a0b-a2e1-adecbd268f9c",
     "regions": {
      "ee4a3ed5-c7fb-41db-b14c-2464387c9a19": {
       "attrs": {
        "height": 0.96,
        "width": 0.96,
        "x": 0.02,
        "y": 0.02
       },
       "content": {
        "cell": "9aa56520-c165-4aa8-af0d-ce66deb1b8bd",
        "part": "whole"
       },
       "id": "ee4a3ed5-c7fb-41db-b14c-2464387c9a19"
      }
     }
    },
    "b3f7fd87-2730-4725-8d39-bdee6de006c6": {
     "id": "b3f7fd87-2730-4725-8d39-bdee6de006c6",
     "prev": "cb8a9d03-c5be-4ff1-9163-ba6880d4db46",
     "regions": {
      "60cce9c6-3451-44ef-9987-969b1976cbcf": {
       "attrs": {
        "height": 0.96,
        "width": 0.96,
        "x": 0.02,
        "y": 0.02
       },
       "content": {
        "cell": "c508b08c-959a-4fe9-9dbf-33c3df9f5930",
        "part": "whole"
       },
       "id": "60cce9c6-3451-44ef-9987-969b1976cbcf"
      }
     }
    },
    "bfa2688b-5d59-4cd5-8f83-4f9fd90185d1": {
     "id": "bfa2688b-5d59-4cd5-8f83-4f9fd90185d1",
     "prev": "5e90658b-acb9-4639-8ba1-b534ef6bbd4b",
     "regions": {
      "3fc03ae7-00ad-414e-a4bb-d49717b2f798": {
       "attrs": {
        "height": 0.96,
        "width": 0.96,
        "x": 0.02,
        "y": 0.02
       },
       "content": {
        "cell": "48dbeec5-9713-47cb-a05f-c63cc12e07e3",
        "part": "whole"
       },
       "id": "3fc03ae7-00ad-414e-a4bb-d49717b2f798"
      }
     }
    },
    "c59160ef-4668-4a0b-a2e1-adecbd268f9c": {
     "id": "c59160ef-4668-4a0b-a2e1-adecbd268f9c",
     "prev": "0d11fa6b-63e4-429d-874a-c096285fe971",
     "regions": {
      "ab8c7389-07c0-4460-bc8b-316e4c617476": {
       "attrs": {
        "height": 0.96,
        "width": 0.96,
        "x": 0.02,
        "y": 0.02
       },
       "content": {
        "cell": "c85cd3e9-c71a-4cb2-86f2-b50a3540c2e0",
        "part": "whole"
       },
       "id": "ab8c7389-07c0-4460-bc8b-316e4c617476"
      }
     }
    },
    "cb8a9d03-c5be-4ff1-9163-ba6880d4db46": {
     "id": "cb8a9d03-c5be-4ff1-9163-ba6880d4db46",
     "prev": "5ac2e041-90e9-4cdc-8599-3360927662f8",
     "regions": {
      "148cabd8-ef80-48e5-923e-9668c4bc4504": {
       "attrs": {
        "height": 0.96,
        "width": 0.96,
        "x": 0.02,
        "y": 0.02
       },
       "content": {
        "cell": "3df605a0-7299-4755-9a75-e0472f9ac29d",
        "part": "whole"
       },
       "id": "148cabd8-ef80-48e5-923e-9668c4bc4504"
      }
     }
    },
    "cc38386b-68f7-40b7-be5f-475078bf333c": {
     "id": "cc38386b-68f7-40b7-be5f-475078bf333c",
     "prev": "3d9a2f93-6cfe-44ab-b528-8518313fb843",
     "regions": {
      "c8a4c331-4993-4cea-ad7e-9e64c26e7dde": {
       "attrs": {
        "height": 0.96,
        "width": 0.96,
        "x": 0.02,
        "y": 0.02
       },
       "content": {
        "cell": "2d86cc83-1560-48a3-9e3d-f8a5ac277e0c",
        "part": "whole"
       },
       "id": "c8a4c331-4993-4cea-ad7e-9e64c26e7dde"
      }
     }
    },
    "d161c9ac-ea5f-4a16-ad30-fac5da95b9d7": {
     "id": "d161c9ac-ea5f-4a16-ad30-fac5da95b9d7",
     "prev": "6542a979-9aaf-4205-b524-9f0cc4300b5a",
     "regions": {
      "067489bb-a463-4003-a180-8cd9c39b981d": {
       "attrs": {
        "height": 0.96,
        "width": 0.96,
        "x": 0.02,
        "y": 0.02
       },
       "content": {
        "cell": "8ad274be-b461-483e-bca5-16473887ac9c",
        "part": "whole"
       },
       "id": "067489bb-a463-4003-a180-8cd9c39b981d"
      }
     }
    },
    "d5ab7225-8e25-4d0b-8d55-31550c1a5943": {
     "id": "d5ab7225-8e25-4d0b-8d55-31550c1a5943",
     "prev": "27185f3e-2a0f-4c1e-8ac9-2f8b72365bf1",
     "regions": {
      "08c35cde-81b0-4dab-ae7a-965efbc66be5": {
       "attrs": {
        "height": 0.96,
        "width": 0.96,
        "x": 0.02,
        "y": 0.02
       },
       "content": {
        "cell": "5f037260-9815-443e-aaf8-0bc5c344b934",
        "part": "whole"
       },
       "id": "08c35cde-81b0-4dab-ae7a-965efbc66be5"
      }
     }
    },
    "ef9920f6-e2eb-4fed-99ef-01de75833958": {
     "id": "ef9920f6-e2eb-4fed-99ef-01de75833958",
     "prev": "d5ab7225-8e25-4d0b-8d55-31550c1a5943",
     "regions": {
      "7bc1c4d9-21e1-43f4-9a50-7a21bba88253": {
       "attrs": {
        "height": 0.96,
        "width": 0.96,
        "x": 0.02,
        "y": 0.02
       },
       "content": {
        "cell": "60ca4a53-4b88-4b4a-91cf-468589a05bb8",
        "part": "whole"
       },
       "id": "7bc1c4d9-21e1-43f4-9a50-7a21bba88253"
      }
     }
    },
    "f7d2c5bd-79de-4989-8481-ab7354161c2e": {
     "id": "f7d2c5bd-79de-4989-8481-ab7354161c2e",
     "prev": "2a7de429-4e87-4991-bbae-2706c26d498c",
     "regions": {
      "9085a72e-008f-427c-8c51-544ce0984f1e": {
       "attrs": {
        "height": 0.96,
        "width": 0.96,
        "x": 0.02,
        "y": 0.02
       },
       "content": {
        "cell": "372e5dd3-2da4-4d4b-bec1-baef095befe2",
        "part": "whole"
       },
       "id": "9085a72e-008f-427c-8c51-544ce0984f1e"
      }
     }
    },
    "f89fecec-7c0f-4584-970d-18d5df744eee": {
     "id": "f89fecec-7c0f-4584-970d-18d5df744eee",
     "prev": "43d6d6a5-e2b0-4128-a81e-fb40db259d76",
     "regions": {
      "b79415f2-f8b3-49ae-9327-e6342a0f279c": {
       "attrs": {
        "height": 0.96,
        "width": 0.96,
        "x": 0.02,
        "y": 0.02
       },
       "content": {
        "cell": "23e7bd20-05cf-4f9b-a51c-9435e814057a",
        "part": "whole"
       },
       "id": "b79415f2-f8b3-49ae-9327-e6342a0f279c"
      }
     }
    }
   },
   "themes": {
    "default": "e84c8589-1aee-4bd4-b152-49b9506b8a54",
    "theme": {
     "e84c8589-1aee-4bd4-b152-49b9506b8a54": {
      "backgrounds": {
       "my-background": {
        "background-color": "white"
       }
      },
      "id": "e84c8589-1aee-4bd4-b152-49b9506b8a54",
      "palette": {
       "black": {
        "id": "black",
        "rgb": [
         0,
         0,
         0
        ]
       },
       "blue": {
        "id": "blue",
        "rgb": [
         0,
         153,
         204
        ]
       },
       "gray": {
        "id": "gray",
        "rgb": [
         128,
         128,
         128
        ]
       },
       "red": {
        "id": "red",
        "rgb": [
         240,
         32,
         32
        ]
       },
       "white": {
        "id": "white",
        "rgb": [
         255,
         255,
         255
        ]
       }
      },
      "rules": {
       "code": {
        "font-size": 1.6
       },
       "h1": {
        "color": "blue",
        "font-size": 5.5,
        "text-align": "center"
       },
       "h2": {
        "color": "blue",
        "font-size": 3,
        "text-align": "center"
       },
       "h3": {
        "color": "black",
        "font-size": 3
       },
       "pre": {
        "font-size": 1.6
       },
       "ul li": {
        "color": "black",
        "font-size": 2.5
       },
       "ul li ul li": {
        "color": "black",
        "font-size": 2
       }
      },
      "text-base": {
       "font-family": "Georgia",
       "font-size": 2.5
      }
     }
    }
   }
  }
 },
 "nbformat": 4,
 "nbformat_minor": 1
}
