{
 "cells": [
  {
   "cell_type": "markdown",
   "metadata": {},
   "source": [
    "%%javascript\n",
    "// suitable for small screens\n",
    "nbpresent.mode.tree.set(\n",
    "    [\"app\", \"theme-manager\", \"themes\", \"my-theme\"], \n",
    "    {\n",
    "    palette: {\n",
    "        \"blue\": { id: \"blue\", rgb: [0, 153, 204] },\n",
    "        \"black\": { id: \"black\", rgb: [0, 0, 0] },\n",
    "        \"white\": { id: \"white\", rgb: [255, 255, 255] },\n",
    "        \"red\": { id: \"red\", rgb: [240, 32, 32] },\n",
    "        \"gray\": { id: \"gray\", rgb: [128, 128, 128] },\n",
    "    },\n",
    "    backgrounds: {\n",
    "        \"my-background\": {\n",
    "            \"background-color\": \"white\"\n",
    "        }\n",
    "    },\n",
    "    \"text-base\": {\n",
    "        \"font-family\": \"Georgia\",\n",
    "        \"font-size\": 3\n",
    "    },\n",
    "    rules: {\n",
    "        h1: {\n",
    "            \"font-size\": 5.5,\n",
    "            color: \"blue\",\n",
    "            \"text-align\": \"center\"\n",
    "        },\n",
    "        h2: {\n",
    "            \"font-size\": 3,\n",
    "            color: \"blue\",\n",
    "            \"text-align\": \"center\"\n",
    "        },\n",
    "        h3: {\n",
    "            \"font-size\": 3,\n",
    "            color: \"black\",\n",
    "        },\n",
    "        \"ul li\": {\n",
    "            \"font-size\": 3,\n",
    "            color: \"black\"\n",
    "        },\n",
    "        \"ul li ul li\": {\n",
    "            \"font-size\": 2.5,\n",
    "            color: \"black\"\n",
    "        },\n",
    "        \"pre\": {\n",
    "            \"font-size\": 2,            \n",
    "        },\n",
    "        \"code\": {\n",
    "            \"font-size\": 2,            \n",
    "        },\n",
    "    }\n",
    "});"
   ]
  },
  {
   "cell_type": "markdown",
   "metadata": {
    "nbpresent": {
     "id": "02946766-51c9-45c9-9530-083fdca2baf0"
    },
    "slideshow": {
     "slide_type": "slide"
    }
   },
   "source": [
    "# COMP 555 &ndash; BioAlgorithms &ndash; Spring 2017\n",
    "## **Lecture 2:** Searching for patterns in data\n",
    "\n",
    "<table>\n",
    "    <tbody>\n",
    "    <tr>\n",
    "    <td>\n",
    "        <img src=\"http://csbio.unc.edu/mcmillan/Comp555S18/Media/Patterns01.jpg\" width=\"200px\">\n",
    "    </td>\n",
    "    <td>\n",
    "        <img src=\"http://csbio.unc.edu/mcmillan/Comp555S18/Media/Patterns02.jpg\" width=\"200px\">\n",
    "    </td>\n",
    "    <td>\n",
    "        <img src=\"http://csbio.unc.edu/mcmillan/Comp555S18/Media/Patterns03.jpg\" width=\"200px\">\n",
    "    </td>\n",
    "    </tr>\n",
    "    <tr>\n",
    "    <td colspan=\"3\" style=\"text-align: center;\">\n",
    "         From Daniel Becker's <a href=\"http://www.visual-dna.de/index_en.htm\">VisualDNA project</a>\n",
    "    </td>\n",
    "    </tr>\n",
    "    </tbody>\n",
    "</table>\n",
    "\n",
    "<span style=\"font-size: 90%;\">*From Chapter 1 of \"Bioinformatics Algorithms: An Active Learning Approach,\" Compeau & Pevzner*</span>\n",
    "<br>\n",
    "<p style=\"text-align: right; clear: right;\">1</p>"
   ]
  },
  {
   "cell_type": "markdown",
   "metadata": {
    "nbpresent": {
     "id": "99e107f9-028f-4a1e-a03a-aacf0c3b4527"
    },
    "slideshow": {
     "slide_type": "slide"
    }
   },
   "source": [
    "# <span style=\"font-size: 95%;\">Life &equiv; Reproduction &equiv; Replicating a Genome</span>\n",
    "\n",
    "One of the most incredible things about DNA is that it provides instructions for replicating itself. Today, rather than looking for those instructions we consider how the process initiates.\n",
    "\n",
    "<img src=\"http://csbio.unc.edu/mcmillan/Comp555S18/Media/DNAReplication.png\" width=\"500px\" class=\"centeredImg\">\n",
    "<p style=\"text-align: right; clear: right;\">2</p>"
   ]
  },
  {
   "cell_type": "markdown",
   "metadata": {
    "nbpresent": {
     "id": "3bbc093a-adac-4faa-80a0-d0e8dd3df710"
    },
    "slideshow": {
     "slide_type": "slide"
    }
   },
   "source": [
    "# Where Does Replication Begin?\n",
    "\n",
    "<img src=\"http://csbio.unc.edu/mcmillan/Comp555S18/Media/ReplicationOrigin.jpg\" width=\"800px\" class=\"centeredImg\">\n",
    "\n",
    "The DNA replication process begins reliably at a regions of the genome called the *origins of replication* or *oriC*. Today we investigate how these regions are identified?\n",
    "\n",
    "<p style=\"text-align: right; clear: right; margin-top: 50px;\">3</p>"
   ]
  },
  {
   "cell_type": "markdown",
   "metadata": {
    "nbpresent": {
     "id": "5d549e64-2203-40c8-8bee-7aca93e79fe4"
    },
    "slideshow": {
     "slide_type": "slide"
    }
   },
   "source": [
    "# Let's Start with Bacterial Genomes\n",
    "\n",
    "In order to simplify our problem, we first consider Bacterial DNA.\n",
    "\n",
    "<img src=\"http://csbio.unc.edu/mcmillan/Comp555S18/Media/BacterialDNA.png\" width=\"300px\" class=\"centeredImg\">\n",
    "\n",
    "Characteristics of Bacterial DNA\n",
    " * A Circular primary chromosome\n",
    " * Independent, and generally smaller, circular plasmids\n",
    " * Simple highly conserved mechanism \n",
    " * Replication is constant (i.e. simple cell cycle)\n",
    " \n",
    "<p style=\"text-align: right; clear: right;\">4</p>"
   ]
  },
  {
   "cell_type": "markdown",
   "metadata": {
    "nbpresent": {
     "id": "dc68fe38-fd1f-489d-ad3b-cea162cc7c5b"
    },
    "slideshow": {
     "slide_type": "slide"
    }
   },
   "source": [
    "# A cartoon of the DNA replication process\n",
    "\n",
    "<img src=\"http://csbio.unc.edu/mcmillan/Comp555S18/Media/DNAReplication.jpg\" width=\"800px\" class=\"centeredImg\">\n",
    "<br><br>\n",
    "We seek to find the DNA sequence at this point of origin, which is consistent.<br>\n",
    "<p style=\"text-align: right; clear: right;\">5</p>"
   ]
  },
  {
   "cell_type": "markdown",
   "metadata": {
    "nbpresent": {
     "id": "fb274437-eb0b-4312-ac39-9f83bc165a04"
    },
    "slideshow": {
     "slide_type": "slide"
    }
   },
   "source": [
    "# The *oriC* &nbsp;finding Problem\n",
    "\n",
    "<div>\n",
    "Given a genome, find the *oriC* regions.\n",
    "</div>\n",
    "\n",
    "<table style=\"border-collapse: collapse; border: none;\">\n",
    "    <tbody>\n",
    "    <tr style=\"border-collapse: collapse; border: none;\">\n",
    "        <td width=\"50%\" style=\"border-collapse: collapse; border: none; vertical-align: top;\">\n",
    "        <b>Biology Approach</b><br>\n",
    "        <img src=\"http://csbio.unc.edu/mcmillan/Comp555S18/Media/BioApproach.png\" width=\"300px\">\n",
    "        <br><br>\n",
    "        <strong>Advantage:</strong> You can start immediately<br>\n",
    "        <strong>Disadvantage:</strong> It can take a long time\n",
    "        </td>\n",
    "        <td width=\"50%\" style=\"border-collapse: collapse; border: none; vertical-align: top;\">\n",
    "        <b>Computer Science Approach</b><br>\n",
    "        <img src=\"http://csbio.unc.edu/mcmillan/Comp555S18/Media/CSApproach.png\" width=\"300px\">\n",
    "        <br><br>\n",
    "        <strong>Advantage:</strong> It can be fast, and <em>general</em><br>\n",
    "        <strong>Disadvantage:</strong> Problem is not adequately specified\n",
    "        </td>\n",
    "    </tr>\n",
    "    </tbody>\n",
    "</table>\n",
    "<p style=\"text-align: right; clear: right;\">6</p>"
   ]
  },
  {
   "cell_type": "markdown",
   "metadata": {
    "nbpresent": {
     "id": "4497c8d6-7f74-4bc3-95de-78837d10e526"
    },
    "slideshow": {
     "slide_type": "slide"
    }
   },
   "source": [
    "# Let's look at an example oriC\n",
    "<div style=\"font-size: 85%;\">\n",
    "The replication origin of *Vibrio Cholerae*:\n",
    "\n",
    "    atcaatgatcaacgtaagcttctaagcatgatcaaggtgctcacacagtttatccacaacctgagtggatgacatcaagataggtcgttg\n",
    "    tatctccttcctctcgtactctcatgaccacggaaagatgatcaagagaggatgatttcttggccatatcgcaatgaatacttgtgactt\n",
    "    gtgcttccaattgacatcttcagcgccatattgcgctggccaaggtgacggagcgggattacgaaagcatgatcatggctgttgttctgt\n",
    "    ttatcttgttttgactgagacttgttaggatagacggtttttcatcactgactagccaaagccttactctgcctgacatcgaccgtaaat\n",
    "    tgataatgaatttacatgcttccgcgacgatttacctcttgatcatcgatccgattgaagatcttcaattgttaattctcttgcctcgac\n",
    "    tcatagccatgatgagctcttgatcatgtttccttaaccctctattttttacggaagaatgatcaagctgctgctcttgatcatcgtttc\n",
    "\n",
    "Is there a pattern which might help us to develop an algorithm?\n",
    "\n",
    "<div style=\"width: 80%; margin: 0px auto; padding: 10px; background: #ffcccc; font-size: 80%; line-height: 100%; font-family: times;\">\n",
    "<h3 style=\"margin: 0px 0px;\">Vibrio Cholerae</h3>\n",
    "<h5 style=\"margin: 0px 20px;\">Aquatic organism that causes Cholera</h5>\n",
    "<div style=\"font-size: 70%; line-height: 95%;\">\n",
    "<p>An abundant marine and freshwater bacterium that causes <i>Cholera</i>. Vibrio can affect shellfish, finfish, and other marine animals and a number of species are pathogenic for humans. <strong><i>Vibrio cholerae</i></strong> colonizes the mucosal surface of the small intestines of humans where it causes, a severe and sudden onset diarrheal disease.</p> \n",
    "\n",
    "<p>One famous outbreak was traced to a contaminated well in London in 1854 by John Snow. Epidemics, which can occur with extreme rapidity, are often associated with conditions of poor sanitation. The disease is highly lethal if untreated. Millions have died over the centuries incuding seven major pandemics between 1817 and today. Six were attributed to the classical biotype, while the 7th, which started in 1961, is associated with this <i>El Tor</i> biotype.</p>\n",
    "</div>\n",
    "</div>\n",
    "</div>\n",
    "<p style=\"text-align: right; clear: right;\">7</p>"
   ]
  },
  {
   "cell_type": "markdown",
   "metadata": {
    "nbpresent": {
     "id": "cae933e4-16c6-4a07-b1f6-6b1823507f59"
    },
    "slideshow": {
     "slide_type": "subslide"
    }
   },
   "source": [
    "# An Aside: *Accessing Sequence Data?*\n",
    "<span style=\"font-size: 80%;\">\n",
    "Genomes are archived as FASTA files, which are text files. Lines beginning with '>' are sequence headers. They are followed by lines of nucleotide sequences.\n",
    "Here's what one looks like:</span>\n"
   ]
  },
  {
   "cell_type": "code",
   "execution_count": 83,
   "metadata": {
    "nbpresent": {
     "id": "043027de-2fd3-49bb-b795-35d8bc551007"
    },
    "slideshow": {
     "slide_type": "-"
    }
   },
   "outputs": [
    {
     "name": "stdout",
     "output_type": "stream",
     "text": [
      ">gi|146313784|gb|CP000626.1| Vibrio cholerae O395 chromosome 1, complete genome\r\n",
      "ACAATGAGGTCACTATGTTCGAGCTCTTCAAACCGGCTGCGCATACGCAGCGGCTGCCATCCGATAAGGT\r\n",
      "GGACAGCGTCTATTCACGCCTTCGTTGGCAACTTTTCATCGGTATTTTTGTTGGCTATGCAGGCTACTAT\r\n",
      "TTGGTTCGTAAGAACTTTAGCTTGGCAATGCCTTACCTGATTGAACAAGGCTTTAGTCGTGGCGATCTGG\r\n",
      "GTGTGGCTCTCGGTGCGGTTTCAATCGCGTATGGTCTGTCTAAATTTTTGATGGGGAACGTCTCTGACCG\r\n",
      "TTCTAACCCGCGCTACTTTCTGAGTGCAGGTCTACTCCTTTCGGCACTAGTGATGTTCTGCTTCGGCTTT\r\n",
      "ATGCCATGGGCAACGGGCAGCATTACTGCGATGTTTATTCTGCTGTTCTTAAACGGCTGGTTCCAAGGCA\r\n",
      "TGGGTTGGCCTGCTTGTGGCCGTACTATGGTGCACTGGTGGTCACGCAAAGAGCGTGGTGAGATTGTTTC\r\n",
      "GGTCTGGAACGTCGCTCACAACGTCGGTGGTGGTTTGATTGGCCCCATTTTCCTGCTCGGCCTATGGATG\r\n",
      "TTTAACGATGATTGGCGCACGGCCTTCTATGTCCCCGCTTTCTTTGCGGTGCTGGTTGCCGTATTTACTT\r\n"
     ]
    }
   ],
   "source": [
    "!head data/VibrioCholerae.fa"
   ]
  },
  {
   "cell_type": "markdown",
   "metadata": {
    "nbpresent": {
     "id": "811fb74e-a37f-4316-a540-2a13d6b46c49"
    }
   },
   "source": [
    "<br>\n",
    "<p style=\"text-align: right; clear: right;\">8</p>"
   ]
  },
  {
   "cell_type": "markdown",
   "metadata": {
    "nbpresent": {
     "id": "f4be16da-3c0f-4614-8720-ced8b9e3dc37"
    },
    "slideshow": {
     "slide_type": "-"
    }
   },
   "source": [
    "# A Python function to parse FASTA files"
   ]
  },
  {
   "cell_type": "code",
   "execution_count": 76,
   "metadata": {
    "collapsed": true,
    "nbpresent": {
     "id": "defe828d-4bdf-4202-9bc3-432cfd893c94"
    },
    "slideshow": {
     "slide_type": "-"
    }
   },
   "outputs": [],
   "source": [
    "def loadFasta(filename):\n",
    "    \"\"\" Parses a classically formatted and possibly \n",
    "        compressed FASTA file into a list of headers \n",
    "        and fragment sequences for each sequence contained\"\"\"\n",
    "    if (filename.endswith(\".gz\")):\n",
    "        fp = gzip.open(filename, 'rb')\n",
    "    else:\n",
    "        fp = open(filename, 'rb')\n",
    "    # split at headers\n",
    "    data = fp.read().split('>')\n",
    "    fp.close()\n",
    "    # ignore whatever appears before the 1st header\n",
    "    data.pop(0)     \n",
    "    headers = []\n",
    "    sequences = []\n",
    "    for sequence in data:\n",
    "        lines = sequence.split('\\n')\n",
    "        headers.append(lines.pop(0))\n",
    "        # add an extra \"+\" to make string \"1-referenced\"\n",
    "        sequences.append('+' + ''.join(lines))\n",
    "    return (headers, sequences)"
   ]
  },
  {
   "cell_type": "markdown",
   "metadata": {
    "nbpresent": {
     "id": "eccb951c-4d7f-469b-9d63-03b571260460"
    }
   },
   "source": [
    "<p style=\"text-align: right; clear: right;\">9</p>"
   ]
  },
  {
   "cell_type": "markdown",
   "metadata": {
    "nbpresent": {
     "id": "828a01f5-bb4e-4ade-b785-c83faa1ca936"
    },
    "slideshow": {
     "slide_type": "-"
    }
   },
   "source": [
    "# Example Usage"
   ]
  },
  {
   "cell_type": "code",
   "execution_count": 84,
   "metadata": {
    "nbpresent": {
     "id": "6038be83-8052-4717-81dd-260ba12ba9a0"
    },
    "slideshow": {
     "slide_type": "-"
    }
   },
   "outputs": [
    {
     "name": "stdout",
     "output_type": "stream",
     "text": [
      "gi|146313784|gb|CP000626.1| Vibrio cholerae O395 chromosome 1, complete genome\n",
      "1108250 bases +ACAATGAGGTCACTATGTTCGAGCTCTTC ... CCGATAGTAGAGGTTTATACCATCGCAAAA\n",
      "\n",
      "gi|147673035|ref|NC_009457.1| Vibrio cholerae O395 chromosome 2, complete genome\n",
      "3024069 bases +GTTCGCCAGAGCGGTTTTTGACTAGCTTG ... TTTCTGGGTTAAACAGATACTCGGGGCTGG\n",
      "\n",
      "oriC:\n",
      "    atcaatgatcaacgtaagcttctaagcatgatcaaggtgctcacacagtttatccacaac\n",
      "    ctgagtggatgacatcaagataggtcgttgtatctccttcctctcgtactctcatgacca\n",
      "    cggaaagatgatcaagagaggatgatttcttggccatatcgcaatgaatacttgtgactt\n",
      "    gtgcttccaattgacatcttcagcgccatattgcgctggccaaggtgacggagcgggatt\n",
      "    acgaaagcatgatcatggctgttgttctgtttatcttgttttgactgagacttgttagga\n",
      "    tagacggtttttcatcactgactagccaaagccttactctgcctgacatcgaccgtaaat\n",
      "    tgataatgaatttacatgcttccgcgacgatttacctcttgatcatcgatccgattgaag\n",
      "    atcttcaattgttaattctcttgcctcgactcatagccatgatgagctcttgatcatgtt\n",
      "    tccttaaccctctattttttacggaagaatgatcaagctgctgctcttgatcatcgtttc\n"
     ]
    }
   ],
   "source": [
    "header, seq = loadFasta(\"data/VibrioCholerae.fa\")\n",
    "\n",
    "for i in xrange(len(header)):\n",
    "    print header[i]\n",
    "    print len(seq[i])-1, \"bases\", seq[i][:30], \"...\", seq[i][-30:]\n",
    "    print\n",
    "\n",
    "genome = seq[0]\n",
    "print \"oriC:\"\n",
    "OriCStart = 151887\n",
    "oriC = genome[OriCStart:OriCStart+540]\n",
    "for i in xrange(9):\n",
    "    print \"    %s\" % oriC[60*i:60*(i+1)].lower()"
   ]
  },
  {
   "cell_type": "markdown",
   "metadata": {
    "nbpresent": {
     "id": "3673d299-da06-4a4c-baec-8eb6289288cb"
    }
   },
   "source": [
    "* Outputs the header, length, the 1<sup>st</sup> 30 characters, and last 30 characters of each sequence in the file\n",
    "    - Note the addition of a \"+\" as first character\n",
    "    - Why might their be multiple sequences in a file?\n",
    "    \n",
    "* Then it outputs a subsequence on the first sequence\n",
    "<p style=\"text-align: right; clear: right;\">10</p>"
   ]
  },
  {
   "cell_type": "markdown",
   "metadata": {
    "nbpresent": {
     "id": "cd1aebce-f5a4-4ea0-8b38-e7760187a078"
    },
    "slideshow": {
     "slide_type": "slide"
    }
   },
   "source": [
    "# Looking for Interesting Patterns\n",
    "&bullet; So let's look at our example *oriC* region to see if we can find any *interesting* patterns<br>\n",
    "&bullet; Still not sure what *\"interesting\"* &nbsp;means yet<br>\n",
    "&bullet; So let's consider **every** pattern of a given length, *k*\n",
    "\n",
    "A new *well-specified* problem: Find the frequency of all subsequences of length k, *k-mers*\n",
    "<pre><code style=\"font-size: 120%\">\n",
    "    atcaatgatcaacgtaagcttctaagcatgatcaaggtgctcacacagtttatccacaac<span style=\"color: #48f;\">\n",
    "    atca     caacg     ttctaa     atcaagg     acacagtt\n",
    "     tcaa     aacgt     tctaag     tcaaggt     cacagttt\n",
    "      caat     acgta     ctaagc     caaggtg     acagttta\n",
    "       aatg     cgtaa     taagca     aaggtgc     cagtttat\n",
    "        atga     gtaag     aagcat     aggtgct     agtttatc\n",
    "         tgat     taagc     agcatg     ggtgctc     gtttatcc</span>\n",
    "       4-mers    5-mers     6-mers      7-mers       8-mers\n",
    "</code></pre>\n",
    "\n",
    "&bullet; Let's count the occurence of every k-mer in a sequence, given a value for k.\n",
    "<p style=\"text-align: right; clear: right;\">11</p>"
   ]
  },
  {
   "cell_type": "markdown",
   "metadata": {
    "nbpresent": {
     "id": "89c67296-8bae-415a-b423-10dec9dc132e"
    }
   },
   "source": [
    "# Code for counting k-mers\n",
    "In a string of length *N*, there are *N-k+1*, substrings of length *k*"
   ]
  },
  {
   "cell_type": "code",
   "execution_count": 78,
   "metadata": {
    "nbpresent": {
     "id": "c78f98f6-072b-4780-a2df-032f11bcf3a5"
    },
    "slideshow": {
     "slide_type": "-"
    }
   },
   "outputs": [
    {
     "name": "stdout",
     "output_type": "stream",
     "text": [
      "{'ACA': 1, 'TAG': 1, 'GAC': 1, 'AGA': 1, 'CAT': 1}\n",
      "{'sis': 1, 'sip': 1, 'iss': 3, 'ppi': 1, 'ssm': 1, 'ipp': 1, 'ssi': 2, 'smi': 1, 'mis': 2}\n"
     ]
    }
   ],
   "source": [
    "def kmerFreq(k, sequence):\n",
    "    \"\"\" returns the count of all k-mers in sequence as a dictionary\"\"\"\n",
    "    kmerCount = {}\n",
    "    for i in xrange(len(sequence)-k+1):\n",
    "        kmer = sequence[i:i+k]\n",
    "        kmerCount[kmer] = kmerCount.get(kmer,0)+1\n",
    "    return kmerCount\n",
    "\n",
    "print kmerFreq(3, \"TAGACAT\")\n",
    "print kmerFreq(3, \"missmississippi\")"
   ]
  },
  {
   "cell_type": "markdown",
   "metadata": {
    "nbpresent": {
     "id": "6026e347-9fe0-4aee-b5c0-df518825acdf"
    }
   },
   "source": [
    "<p style=\"text-align: right; clear: right;\">12</p>"
   ]
  },
  {
   "cell_type": "markdown",
   "metadata": {
    "nbpresent": {
     "id": "912d7469-3145-4cf9-96c5-323051c5ce8a"
    },
    "slideshow": {
     "slide_type": "slide"
    }
   },
   "source": [
    "# An exhaustive scan for patterns\n",
    "* Is there some obvious pattern?\n",
    "* Let's consider a range of \"K\" values"
   ]
  },
  {
   "cell_type": "code",
   "execution_count": 79,
   "metadata": {
    "nbpresent": {
     "id": "4877f9a8-41b7-46e9-b239-80445b951cc0"
    },
    "slideshow": {
     "slide_type": "fragment"
    }
   },
   "outputs": [
    {
     "name": "stdout",
     "output_type": "stream",
     "text": [
      "1 [('T', 174), ('A', 136), ('C', 122), ('G', 108)]\n",
      "2 [('TT', 55), ('AT', 54), ('TC', 48), ('GA', 47), ('TG', 47)]\n",
      "3 [('TGA', 25), ('ATC', 21), ('GAT', 21), ('CTT', 17), ('TCA', 17)]\n",
      "4 [('ATGA', 12), ('ATCA', 11), ('TGAT', 11), ('GATC', 10), ('CTTG', 9)]\n",
      "5 [('GATCA', 8), ('TGATC', 8), ('ATGAT', 7), ('TCTTG', 6), ('ATCAA', 6)]\n",
      "6 [('TGATCA', 8), ('ATGATC', 5), ('ATCAAG', 4), ('CTCTTG', 4), ('GATCAT', 4)]\n",
      "7 [('ATGATCA', 5), ('TGATCAA', 4), ('TGATCAT', 4), ('TCTTGAT', 3), ('TTGATCA', 3)]\n",
      "8 [('ATGATCAA', 4), ('TCTTGATC', 3), ('CTCTTGAT', 3), ('TTGATCAT', 3), ('TGATCAAG', 3)]\n",
      "9 [('CTTGATCAT', 3), ('TCTTGATCA', 3), ('CTCTTGATC', 3), ('ATGATCAAG', 3), ('TTGATCATC', 2)]\n"
     ]
    }
   ],
   "source": [
    "def mostFreqKmer(start, end, sequence):\n",
    "    for k in xrange(start,end):\n",
    "        kmerCounts = kmerFreq(k,sequence).items()\n",
    "        kmerCounts = sorted(kmerCounts,reverse=True,key=lambda tup: tup[1])\n",
    "        mostFreq = kmerCounts[0:5] \n",
    "        print k, mostFreq\n",
    "\n",
    "mostFreqKmer(1,10,oriC)"
   ]
  },
  {
   "cell_type": "markdown",
   "metadata": {
    "nbpresent": {
     "id": "51777651-4544-4573-a98c-c79dfd47884f"
    }
   },
   "source": [
    "<p style=\"text-align: right; clear: right;\">13</p>\n"
   ]
  },
  {
   "cell_type": "markdown",
   "metadata": {
    "nbpresent": {
     "id": "347ebfc0-8db7-4be8-a3c9-980d8f43bc90"
    },
    "slideshow": {
     "slide_type": "fragment"
    }
   },
   "source": [
    "# Examine the result\n",
    "Are two 5-mers repeated 8 times interesting? Surprizing?\n",
    "How about four 9-mers repeated 3 times?"
   ]
  },
  {
   "cell_type": "markdown",
   "metadata": {
    "nbpresent": {
     "id": "f61920c9-ba5a-492c-9b23-f49708aa0aac"
    }
   },
   "source": [
    "<p style=\"text-align: right; clear: right;\">14</p>"
   ]
  },
  {
   "cell_type": "markdown",
   "metadata": {
    "nbpresent": {
     "id": "088fd0ad-7be2-40b5-9a46-99edfc0ce9bf"
    },
    "slideshow": {
     "slide_type": "slide"
    }
   },
   "source": [
    "# k-mer Likelihoods\n",
    "Under the assumption that all k-mers are equally likely, we'd expect a given k-mer to occur:\n",
    "\n",
    "$$p(k) = \\frac{1}{4^k}$$\n",
    "\n",
    "So we expect a specific 5-mer once per 1024 bases, so having 8 in 535 (540 - 5) bases is more likely than expected. We also expect a specific 9-mer once per 262,144 bases, so having 3 in 531 (540 - 9) is *much* more than expected.\n",
    "\n",
    "Moreover, is their any relationship between the 9-mers <code><span style=\"color: green; font-weight: bold;\">ATGATCAAG</span></code> and <code><span style=\"color: red; font-weight: bold;\">CTTGATCAT</span></code>?\n",
    "\n",
    "<code style=\"font-size: 75%; line-height: 80%;\"><pre>\n",
    "    atcaatgatcaacgtaagcttctaagc<span style=\"color: green; font-weight: bold;\">ATGATCAAG</span>gtgctcacacagtttatccacaac\n",
    "    ctgagtggatgacatcaagataggtcgttgtatctccttcctctcgtactctcatgacca\n",
    "    cggaaag<span style=\"color: green; font-weight: bold;\">ATGATCAAG</span>agaggatgatttcttggccatatcgcaatgaatacttgtgactt\n",
    "    gtgcttccaattgacatcttcagcgccatattgcgctggccaaggtgacggagcgggatt\n",
    "    acgaaagcatgatcatggctgttgttctgtttatcttgttttgactgagacttgttagga\n",
    "    tagacggtttttcatcactgactagccaaagccttactctgcctgacatcgaccgtaaat\n",
    "    tgataatgaatttacatgcttccgcgacgatttacct<span style=\"color: red; font-weight: bold;\">CTTGATCAT</span>cgatccgattgaag\n",
    "    atcttcaattgttaattctcttgcctcgactcatagccatgatgagct<span style=\"color: red; font-weight: bold;\">CTTGATCAT</span>gtt\n",
    "    tccttaaccctctattttttacggaaga<span style=\"color: green; font-weight: bold;\">ATGATCAAG</span>ctgctgct<span style=\"color: red; font-weight: bold;\">CTTGATCAT</span>cgtttc\n",
    "</pre></code>\n",
    "<p style=\"text-align: right; clear: right;\">15</p>"
   ]
  },
  {
   "cell_type": "markdown",
   "metadata": {
    "nbpresent": {
     "id": "4e504ee4-9dbf-46b8-ba56-c5c6a3debfe0"
    },
    "slideshow": {
     "slide_type": "slide"
    }
   },
   "source": [
    "# Any Biological Insights to Guide us?\n",
    "<img src=\"http://csbio.unc.edu/mcmillan/Comp555S18/Media/InitiationOfReplication.png\" width=\"350\" style=\"float: right; clear: right; margin: 0px 25px;\">\n",
    "&bullet;&nbsp;Replication is performed by a DNA polymerase, and the initiation of replication is mediated by a protein called <i>DnaA</i>.\n",
    "\n",
    "&bullet;&nbsp;<i>DnaA</i> binds to short (&approx; 9 nucleotides long) segments within the replication origin known as a <i>DnaA</i> box (&approx; 500 bases).\n",
    "\n",
    "&bullet;&nbsp;A <i>DnaA</i> box is a signal telling <i>DnaA</i> to “bind here!”\n",
    "\n",
    "&bullet;&nbsp;<i>DnaA</i> can bind to either strand. Thus, both the <i>DnaA</i> box <strong>and its reverse-complement</strong> are equal targets.\n",
    "\n",
    "&bullet;&nbsp;For reliablity <i>Life</i> wants to see multiple nearby <i>DnaA</i> boxes.\n",
    "\n",
    "&bullet;&nbsp;Sequences used by <i>DnaA</i> tend to be \"AT-rich\" (rich in adenine and thymine bases), because A-T base pairs have two hydrogen bonds (rather than the three formed in a C-G pair) which makes them easier to unzip. (Recall A-T was the second most common dimer with 54 after T-T with 55)\n",
    "\n",
    "&bullet;&nbsp;Once the origin has been located, these initiators recruit other proteins and form the pre-replication complex, which unzips the double-stranded DNA.\n",
    "<p style=\"text-align: right; clear: right;\">16</p>"
   ]
  },
  {
   "cell_type": "markdown",
   "metadata": {
    "nbpresent": {
     "id": "fa1f014e-cb7e-46ba-9cc7-c1c2fee93305"
    },
    "slideshow": {
     "slide_type": "slide"
    }
   },
   "source": [
    "# Do these Patterns Generalize?\n",
    "Let's consider the *OriC* region of another bacteria *Thermotoga petrophila*\n",
    "\n",
    "    aactctatacctcctttttgtcgaatttgtgtgatttatagagaaaatcttattaactgaaactaaaatggtaggtttggtggtaggttt\n",
    "    tgtgtacattttgtagtatctgatttttaattacataccgtatattgtattaaattgacgaacaattgcatggaattgaatatatgcaaa\n",
    "    acaaacctaccaccaaactctgtattgaccattttaggacaacttcagggtggtaggtttctgaagctctcatcaatagactattttagt\n",
    "    ctttacaaacaatattaccgttcagattcaagattctacaacgctgttttaatgggcgttgcagaaaacttaccacctaaaatccagtat\n",
    "    ccaagccgatttcagagaaacctaccacttacctaccacttacctaccacccgggtggtaagttgcagacattattaaaaacctcatcag\n",
    "    aagcttgttcaaaaatttcaatactcgaaacctaccacctgcgtcccctattatttactactactaataatagcagtataattgatctga\n",
    "    aaagaggtggtaaaaaa\n",
    "\n",
    "The most frequent 9-mers are: [(<code>ACCTACCAC</code>,5), (<code>GGTAGGTTT</code>,3), (<code>CCTACCACC</code>,3), (<code>AACCTACCA</code>,3), (<code>TGGTAGGTT</code>,3), (<code>AAACCTACC</code>,3)]\n",
    "\n",
    "There is no occurence of the patterns <code><span style=\"color: green; font-weight: bold;\">ATGATCAAG</span></code> and <code><span style=\"color: red; font-weight: bold;\">CTTGATCAT</span></code>\n",
    "\n",
    "Thus, it appears that different genomes have different <i>DnaA</i> box patterns. Let's go back to the drawing board. By the way, the <i>DnaA</i> box pattern of *Thermotoga petrophila* is:\n",
    "\n",
    "<pre><code>\n",
    "                    <span style=\"color: green; font-weight: bold;\">CCTACCACC</span>\n",
    "                    |||||||||\n",
    "                    <span style=\"color: red; font-weight: bold;\">GGATGGTGG</span>\n",
    "</code></pre>\n",
    "<p style=\"text-align: right; clear: right;\">17</p>"
   ]
  },
  {
   "cell_type": "markdown",
   "metadata": {
    "nbpresent": {
     "id": "638b8167-2e4c-4332-b8b3-c934a7ad94c5"
    },
    "slideshow": {
     "slide_type": "slide"
    }
   },
   "source": [
    "# A New Strategy\n",
    "\n",
    "* Our previous strategy was to find frequent words in oriC region as candidate DnaA boxes, as if\n",
    "\n",
    "<p style=\"text-align: center; font-size: 140%;\">replication origin &rarr; frequent words</p>\n",
    "\n",
    "* Suppose that we reverse our approach, we use ***clumps*** of frequent words to infer the replication origin, testing if\n",
    "\n",
    "<p style=\"text-align: center; font-size: 140%;\">nearby frequent words &rarr; replication origin</p>\n",
    "\n",
    "* We can apply this approach to find candidate <i>DnaA</i> boxes.\n",
    "\n",
    "<img src=\"http://csbio.unc.edu/mcmillan/Comp555S18/Media/kmerClumps.png\" width=\"500px\" class=\"centerImg\">\n",
    "\n",
    "<p style=\"text-align: right; clear: right;\">18</p>"
   ]
  },
  {
   "cell_type": "markdown",
   "metadata": {
    "nbpresent": {
     "id": "d2bf172d-7eb9-4e1c-b874-d55b0b9ed532"
    },
    "slideshow": {
     "slide_type": "slide"
    }
   },
   "source": [
    "# What is a Clump?\n",
    "\n",
    "We have an initition of what is meant by a *clump* of k-mers, but in order to define an algorithm we will need more precise definitons.\n",
    "\n",
    "<dl style=\"margin: 20px 30px;\">\n",
    "    <dt><b>Formal Definition:</b></dt>\n",
    "    <dd style=\"margin-left: 30px;\">A k-mer forms an (L, t)-clump inside Genome if there is a short (length L) interval of Genome in which it appears many (at least t) times.</dd>\n",
    "    <br>\n",
    "    <dt><b>Clump Finding Problem:</b></dt>\n",
    "    <dd style=\"margin-left: 30px;\">Find patterns that form clumps within a string.\n",
    "        <ul>\n",
    "            <strong>Input:</strong> A string and integers <i>k</i> (length of a pattern), <i>L</i> (window length),<br>\n",
    "            &nbsp;&nbsp;&nbsp;&nbsp;&nbsp;&nbsp;&nbsp;&nbsp;&nbsp;&nbsp;&nbsp;&nbsp;\n",
    "            and <i>t</i> (number of patterns in a clump).<br>\n",
    "            <strong>Output:</strong> All k-mers forming (L,t) clumps in the string\n",
    "        </ul>\n",
    "    </dd>\n",
    "</dl>\n",
    "<br>\n",
    "<p style=\"text-align: right; clear: right;\">19</p>"
   ]
  },
  {
   "cell_type": "markdown",
   "metadata": {
    "nbpresent": {
     "id": "9f248e6c-2657-4079-ac17-c88039e6eb66"
    },
    "slideshow": {
     "slide_type": "slide"
    }
   },
   "source": [
    "# K-mer counter that tracks positions"
   ]
  },
  {
   "cell_type": "code",
   "execution_count": 35,
   "metadata": {
    "collapsed": true,
    "nbpresent": {
     "id": "9b8aca8f-dcb1-459e-b900-ab10e3130c1d"
    },
    "slideshow": {
     "slide_type": "-"
    }
   },
   "outputs": [],
   "source": [
    "def kmerPositions(k, sequence):\n",
    "    \"\"\" returns the position of all k-mers in sequence as a dictionary\"\"\"\n",
    "    kmerPosition = {}\n",
    "    for i in xrange(1,len(sequence)-k+1):\n",
    "        kmer = sequence[i:i+k]\n",
    "        kmerPosition[kmer] = kmerPosition.get(kmer,[])+[i]\n",
    "    # combine kmers with their reverse complements\n",
    "    pairPosition = {}\n",
    "    for kmer, posList in kmerPosition.iteritems():\n",
    "        krev = ''.join([{'A':'T','C':'G','G':'C','T':'A'}[base] for base in reversed(kmer)])   # one-liner\n",
    "        if (kmer == krev):\n",
    "            pairPosition[kmer] = posList\n",
    "        elif (kmer <= krev):\n",
    "            pairPosition[kmer] = posList + kmerPosition.get(krev, [])\n",
    "        elif (krev < kmer):\n",
    "            pairPosition[krev] = kmerPosition.get(krev, []) + posList\n",
    "    return pairPosition"
   ]
  },
  {
   "cell_type": "markdown",
   "metadata": {
    "nbpresent": {
     "id": "6877aef9-f276-42b9-b1bb-c8c234327a37"
    }
   },
   "source": [
    "A modification of our k-mer counting function from earlier. Now we keep track of positions, and consider reverse complements. \n",
    "<br>\n",
    "<p style=\"text-align: right; clear: right;\">20</p>"
   ]
  },
  {
   "cell_type": "markdown",
   "metadata": {
    "collapsed": true,
    "nbpresent": {
     "id": "c6d61fd1-26f3-4833-b415-fab3cbffc983"
    },
    "slideshow": {
     "slide_type": "slide"
    }
   },
   "source": [
    "# Lets play a little with that *one-liner*. \n",
    "<div style=\"font-size: 75%;\">\n",
    "It is a Python list-comprehension. The Python language provides a rich set of tools not only for specifying algorithms, but also for specifying data structures. It can also specify *map-reduce* type operations on data structures, we'll discuss this in more detail later on.\n",
    "</div>"
   ]
  },
  {
   "cell_type": "code",
   "execution_count": 36,
   "metadata": {
    "nbpresent": {
     "id": "72fa8745-34c3-4b49-b26b-da896cb0d6e0"
    }
   },
   "outputs": [
    {
     "name": "stdout",
     "output_type": "stream",
     "text": [
      "ATGTCTC\n"
     ]
    }
   ],
   "source": [
    "mySeq = \"GAGACAT\"\n",
    "print ''.join([{'A':'T','C':'G','G':'C','T':'A'}[base] for base in reversed(mySeq)])"
   ]
  },
  {
   "cell_type": "markdown",
   "metadata": {
    "nbpresent": {
     "id": "ffc2184f-8483-4239-827f-6bac6db485f5"
    }
   },
   "source": [
    "<div style=\"font-size: 75%;\">\n",
    "The *join* method of a string combines the elements of the list it given using the given string as glue between them. Since our string is empty, '', it just glues them together. If we used a ',' string instead we'd get:\n",
    "</div>"
   ]
  },
  {
   "cell_type": "code",
   "execution_count": 37,
   "metadata": {
    "nbpresent": {
     "id": "0c7cc084-25f2-41b7-be5d-7fcfcca0c3e5"
    }
   },
   "outputs": [
    {
     "name": "stdout",
     "output_type": "stream",
     "text": [
      "A,T,G,T,C,T,C\n",
      "A and, T and, G and, T and, C and, T and, C\n"
     ]
    }
   ],
   "source": [
    "print ','.join([{'A':'T','C':'G','G':'C','T':'A'}[base] for base in reversed(mySeq)])\n",
    "print ' and, '.join([{'A':'T','C':'G','G':'C','T':'A'}[base] for base in reversed(mySeq)])"
   ]
  },
  {
   "cell_type": "markdown",
   "metadata": {
    "nbpresent": {
     "id": "ce56e6af-1fc4-458b-a23b-c3a2deeda4d3"
    }
   },
   "source": [
    "<p style=\"text-align: right; clear: right;\">21</p>"
   ]
  },
  {
   "cell_type": "markdown",
   "metadata": {
    "nbpresent": {
     "id": "9b61f858-e9e1-4b49-8abc-4d2645a81a8c"
    }
   },
   "source": [
    "# More on List Comprehensions\n",
    "\n",
    "The argument of the join method is a list construction shorthand called a list comprehension. It is basically a recipe for constructing a list. Here are some simple examples."
   ]
  },
  {
   "cell_type": "code",
   "execution_count": 38,
   "metadata": {
    "nbpresent": {
     "id": "87217d0c-c78d-4bc9-9167-c957b7d27875"
    }
   },
   "outputs": [
    {
     "name": "stdout",
     "output_type": "stream",
     "text": [
      "['G', 'A', 'G', 'A', 'C', 'A', 'T']\n",
      "['T', 'A', 'C', 'A', 'G', 'A', 'G']\n",
      "['T', 'C', 'G', 'G']\n"
     ]
    }
   ],
   "source": [
    "mySeq = \"GAGACAT\"\n",
    "\n",
    "print [base for base in mySeq]\n",
    "print [base for base in reversed(mySeq)]\n",
    "print [base for base in reversed(mySeq) if base != 'A']"
   ]
  },
  {
   "cell_type": "markdown",
   "metadata": {
    "nbpresent": {
     "id": "fe2c32f0-1653-4194-9485-7c0c01efdd19"
    }
   },
   "source": [
    "<p style=\"text-align: right; clear: right;\">22</p>"
   ]
  },
  {
   "cell_type": "markdown",
   "metadata": {
    "nbpresent": {
     "id": "325eadae-d303-4ed5-b2fa-5dba306dec38"
    },
    "slideshow": {
     "slide_type": "slide"
    }
   },
   "source": [
    "# Back to Finding Clumps\n",
    "<div style=\"font-size: 80%\">\n",
    "By allowing each k-mer to appear in no more than 1 clump, we avoid smaller clumps reported within larger ones.\n",
    "</div>"
   ]
  },
  {
   "cell_type": "code",
   "execution_count": 68,
   "metadata": {
    "nbpresent": {
     "id": "66287878-5a75-4d02-bff8-24e84e76f050"
    }
   },
   "outputs": [],
   "source": [
    "def findClumps(string, k, L, t):\n",
    "    \"\"\" Find clumps of repeated k-mers in string. A clump occurs when t or more k-mers appear \n",
    "        within a window of size L. A list of (k-mer, position, count) tuples is returned \"\"\"\n",
    "    clumps = []\n",
    "    kmers = kmerPositions(k, string)\n",
    "    for kmer, posList in kmers.iteritems():\n",
    "        for start in xrange(len(posList)-t):\n",
    "            end = start + t - 1\n",
    "            while ((posList[end] - posList[start]) <= L-k):\n",
    "                end += 1\n",
    "                if (end >= len(posList)):\n",
    "                    break\n",
    "            if (end - start >= t):\n",
    "                clumps.append((kmer, posList[start], end - start))\n",
    "    return clumps"
   ]
  },
  {
   "cell_type": "markdown",
   "metadata": {
    "nbpresent": {
     "id": "7f74be47-2730-45d2-a9c6-694940bc6ab6"
    }
   },
   "source": [
    "<p style=\"text-align: right; clear: right;\">23</p>"
   ]
  },
  {
   "cell_type": "markdown",
   "metadata": {
    "nbpresent": {
     "id": "dd0ddaf5-77db-4569-9495-9168a96d5524"
    },
    "slideshow": {
     "slide_type": "slide"
    }
   },
   "source": [
    "# Now let's try it"
   ]
  },
  {
   "cell_type": "code",
   "execution_count": 69,
   "metadata": {
    "nbpresent": {
     "id": "fa1ede2c-9078-40ca-aea8-40a7db084ed1"
    }
   },
   "outputs": [
    {
     "name": "stdout",
     "output_type": "stream",
     "text": [
      "167031\n",
      "[('ACGCCATCT', 291283, 6), ('CGTACTGAA', 559257, 6), ('ATGTTCACC', 518368, 9), ('ATGTTCACC', 591388, 9), ('ATGTTCACC', 692949, 8), ('ATGTTCACC', 693194, 7), ('ATGTTCACC', 739849, 7), ('ACGCCATCC', 702082, 8), ('ACGCCATCC', 719921, 8), ('ACGCCATCC', 739064, 7), ('ACGCCATCC', 740571, 6), ('ACGCCATCC', 1058401, 9), ('GGCACAGAA', 800151, 9), ('ACGCCATCA', 750950, 12), ('ACGCCATCA', 766470, 11), ('ACGCCATCA', 782336, 10), ('ACGCCATCA', 787441, 9), ('ACGCCATCA', 1018652, 9), ('AGGCGGCAG', 754717, 10), ('AGGCGGCAG', 927020, 9)]\n"
     ]
    }
   ],
   "source": [
    "clumpList = findClumps(genome, 9, 500, 6)\n",
    "print len(clumpList)\n",
    "print [clumpList[i] for i in xrange(min(20,len(clumpList)))]"
   ]
  },
  {
   "cell_type": "markdown",
   "metadata": {
    "nbpresent": {
     "id": "758eadc5-5750-4be4-9d92-a75b53499059"
    }
   },
   "source": [
    "Wow, that's a lot more than expected. I guess that means that genomes are not that random at all.\n",
    "\n",
    "<img src=\"http://csbio.unc.edu/mcmillan/Comp555S18/Media/SBConfusedAtCompter.png\" width=\"180px\">\n",
    "<p style=\"text-align: right; clear: right;\">24</p>"
   ]
  },
  {
   "cell_type": "markdown",
   "metadata": {
    "nbpresent": {
     "id": "2b4d435b-996d-4563-ae6e-40aa60d6a0ab"
    },
    "slideshow": {
     "slide_type": "slide"
    }
   },
   "source": [
    "# Let's view things differently"
   ]
  },
  {
   "cell_type": "code",
   "execution_count": 73,
   "metadata": {
    "nbpresent": {
     "id": "6d9f84ee-c1f0-412a-b6e3-586651240f52"
    }
   },
   "outputs": [
    {
     "name": "stdout",
     "output_type": "stream",
     "text": [
      "['ATGATCAAG', 'AACAAACGC', 'GCGTTTCCA', 'ACAAACGCC', 'AACGCCTCA', 'AGCCCCTTA', 'AGGCGGGCG', 'AAGAGGGAC', 'CAAGAGGGA', 'ACTGTCAAC']\n"
     ]
    }
   ],
   "source": [
    "# Lets get the positions of all k-mers again\n",
    "kmers = kmerPositions(9, genome)\n",
    "top10 = ['ATGATCAAG']\n",
    "for kmer,start,clumpSize in sorted(clumpList,reverse=True,key=lambda t:t[2]):\n",
    "    if kmer not in top10:\n",
    "        top10.append(kmer)\n",
    "        if (len(top10) == 10):\n",
    "            break\n",
    "print top10"
   ]
  },
  {
   "cell_type": "code",
   "execution_count": 72,
   "metadata": {
    "nbpresent": {
     "id": "4092de68-1a88-4954-be98-28a3d1bc9fb8"
    }
   },
   "outputs": [
    {
     "data": {
      "image/png": "[encoded data removed]",
      "text/plain": [
       "<matplotlib.figure.Figure at 0x70fb3c6e0290>"
      ]
     },
     "metadata": {},
     "output_type": "display_data"
    }
   ],
   "source": [
    "%matplotlib inline\n",
    "import matplotlib\n",
    "import matplotlib.pyplot as plt\n",
    "\n",
    "plt.figure(num=None, figsize=(16, 6), dpi=100, facecolor='w', edgecolor='k')\n",
    "plt.plot([OriCStart, OriCStart], [0,10], 'k--')\n",
    "for n, kmer in enumerate(top10):\n",
    "    positions = kmers[kmer]\n",
    "    plt.text(1120000, n+0.4, kmer, fontsize=8)\n",
    "    plt.plot(positions, [n + 0.5 for i in xrange(len(positions))], 'o', markersize=4.0)\n",
    "limit = plt.xlim((0,1200000))"
   ]
  },
  {
   "cell_type": "markdown",
   "metadata": {
    "collapsed": true,
    "nbpresent": {
     "id": "788d5ffd-3fd0-4650-a5f0-7cbdcce88a19"
    }
   },
   "source": [
    "<p style=\"text-align: right; clear: right;\">25</p>"
   ]
  },
  {
   "cell_type": "markdown",
   "metadata": {
    "nbpresent": {
     "id": "fb9111de-eebe-472f-9a5a-2175efe06157"
    },
    "slideshow": {
     "slide_type": "slide"
    }
   },
   "source": [
    "# Summary\n",
    "\n",
    "\n",
    "<img src=\"http://csbio.unc.edu/mcmillan/Comp555S18/Media/DrawingBoard.jpg\" width=\"300\" style=\"float: right; clear: right; margin: 24px;\">\n",
    "\n",
    "Things have not gone as planned\n",
    "\n",
    "  * We still don't have a working algorithm for finding *OriC*\n",
    "  * We tried searching for patterns in a known *OriC* region, but the patterns we found did not generalize to other genomes.\n",
    "  * We tried to find clumps of repeated k-mers, but that led to too many hypotheses to follow up on\n",
    "\n",
    "But we won't give up\n",
    "  * Let's see ***next time*** if there are any more biological insights that we might leverage\n",
    "\n",
    "<p style=\"text-align: right; clear: right;\">26</p>"
   ]
  },
  {
   "cell_type": "code",
   "execution_count": null,
   "metadata": {
    "collapsed": true
   },
   "outputs": [],
   "source": []
  }
 ],
 "metadata": {
  "anaconda-cloud": {},
  "kernelspec": {
   "display_name": "Python 3",
   "language": "python",
   "name": "python3"
  },
  "language_info": {
   "codemirror_mode": {
    "name": "ipython",
    "version": 3
   },
   "file_extension": ".py",
   "mimetype": "text/x-python",
   "name": "python",
   "nbconvert_exporter": "python",
   "pygments_lexer": "ipython3",
   "version": "3.6.4"
  },
  "nbpresent": {
   "slides": {
    "09a7011a-ed24-4b50-82a8-4b54827da0b3": {
     "id": "09a7011a-ed24-4b50-82a8-4b54827da0b3",
     "prev": "d331cc5e-4d2a-46dc-bd67-1ce5a9d74446",
     "regions": {
      "4e5c32fd-a413-48d0-bc15-241a51860a90": {
       "attrs": {
        "height": 0.96,
        "width": 0.96,
        "x": 0.02,
        "y": 0.02
       },
       "content": {
        "cell": "fb274437-eb0b-4312-ac39-9f83bc165a04",
        "part": "whole"
       },
       "id": "4e5c32fd-a413-48d0-bc15-241a51860a90"
      }
     }
    },
    "09d24238-d43c-4ae1-91ff-368539b2562a": {
     "id": "09d24238-d43c-4ae1-91ff-368539b2562a",
     "prev": "df3ce6f5-d2b4-4801-9a93-b4aaf7095433",
     "regions": {
      "2ca616cc-b232-447a-9718-e5fc454f7fcb": {
       "attrs": {
        "height": 0.96,
        "width": 0.96,
        "x": 0.02,
        "y": 0.02
       },
       "content": {
        "cell": "d2bf172d-7eb9-4e1c-b874-d55b0b9ed532",
        "part": "whole"
       },
       "id": "2ca616cc-b232-447a-9718-e5fc454f7fcb"
      }
     }
    },
    "16b4edae-65fc-4d39-9ecf-8f7d4fac9440": {
     "id": "16b4edae-65fc-4d39-9ecf-8f7d4fac9440",
     "prev": "28de78fe-4c62-419c-af94-8e674f5999f1",
     "regions": {
      "6b43bb80-bc8f-4927-aa21-1b43024b8e5d": {
       "attrs": {
        "height": 0.35672665101788026,
        "width": 0.9600646725949877,
        "x": 0.019967663702506064,
        "y": 0.6151317878575352
       },
       "content": {
        "cell": "3673d299-da06-4a4c-baec-8eb6289288cb",
        "part": "source"
       },
       "id": "6b43bb80-bc8f-4927-aa21-1b43024b8e5d"
      },
      "77877f6a-3062-41df-9fd6-87b9d37a16fe": {
       "attrs": {
        "height": 0.12787927782268926,
        "width": 0.96,
        "x": 0.02,
        "y": 0.02
       },
       "content": {
        "cell": "828a01f5-bb4e-4ade-b785-c83faa1ca936",
        "part": "whole"
       },
       "id": "77877f6a-3062-41df-9fd6-87b9d37a16fe"
      },
      "d4d8607f-7faa-405d-8c0b-771157109688": {
       "attrs": {
        "height": 0.4655349228883443,
        "width": 0.9600646725949877,
        "x": 0.019967663702506064,
        "y": 0.1474265696577742
       },
       "content": {
        "cell": "6038be83-8052-4717-81dd-260ba12ba9a0",
        "part": "source"
       },
       "id": "d4d8607f-7faa-405d-8c0b-771157109688"
      }
     }
    },
    "1c8ff845-2b60-4a1c-b3d2-a67e80f0df76": {
     "id": "1c8ff845-2b60-4a1c-b3d2-a67e80f0df76",
     "prev": "e665da57-d0b5-4b44-b5b1-fd572f9945e8",
     "regions": {
      "9b47d144-bd4e-4318-8938-f1e3ff5fe1d6": {
       "attrs": {
        "height": 0.96,
        "width": 0.96,
        "x": 0.02,
        "y": 0.02
       },
       "content": {
        "cell": "fa1f014e-cb7e-46ba-9cc7-c1c2fee93305",
        "part": "whole"
       },
       "id": "9b47d144-bd4e-4318-8938-f1e3ff5fe1d6"
      }
     }
    },
    "258f7341-c90a-4192-8de9-345083fdd512": {
     "id": "258f7341-c90a-4192-8de9-345083fdd512",
     "prev": "dab507b3-16eb-47b8-be64-32af1ed7ee6e",
     "regions": {
      "313ae41a-24cc-45ee-a813-5c4aaa4056e0": {
       "attrs": {
        "height": 0.5147123407992973,
        "width": 0.9596837944664032,
        "x": 0.02015810276679842,
        "y": 0.3276679841897233
       },
       "content": {
        "cell": "66287878-5a75-4d02-bff8-24e84e76f050",
        "part": "source"
       },
       "id": "313ae41a-24cc-45ee-a813-5c4aaa4056e0"
      },
      "99b380b3-3765-40bf-b925-7dd57317af8f": {
       "attrs": {
        "height": 0.09451032059727713,
        "width": 0.9596837944664032,
        "x": 0.02015810276679842,
        "y": 0.8406236275801493
       },
       "content": {
        "cell": "7f74be47-2730-45d2-a9c6-694940bc6ab6",
        "part": "source"
       },
       "id": "99b380b3-3765-40bf-b925-7dd57317af8f"
      },
      "dc263065-8af4-41e3-b81e-38892ee89c3c": {
       "attrs": {
        "height": 0.30791392182696536,
        "width": 0.9599999999999999,
        "x": 0.02,
        "y": 0.02
       },
       "content": {
        "cell": "325eadae-d303-4ed5-b2fa-5dba306dec38",
        "part": "whole"
       },
       "id": "dc263065-8af4-41e3-b81e-38892ee89c3c"
      }
     }
    },
    "28de78fe-4c62-419c-af94-8e674f5999f1": {
     "id": "28de78fe-4c62-419c-af94-8e674f5999f1",
     "prev": "ae183a96-bf49-453a-883b-10f8f567fafa",
     "regions": {
      "034e48c2-4735-46c7-989c-23d7594a7a6e": {
       "attrs": {
        "height": 0.10009880535345367,
        "width": 0.9600646725949878,
        "x": 0.019967663702506064,
        "y": 0.8746339710769783
       },
       "content": {
        "cell": "eccb951c-4d7f-469b-9d63-03b571260460",
        "part": "source"
       },
       "id": "034e48c2-4735-46c7-989c-23d7594a7a6e"
      },
      "a0675c59-c1b5-45ab-bb5c-940b18488da7": {
       "attrs": {
        "height": 0.7094583670169764,
        "width": 0.9600646725949878,
        "x": 0.019967663702506064,
        "y": 0.16467259498787387
       },
       "content": {
        "cell": "defe828d-4bdf-4202-9bc3-432cfd893c94",
        "part": "source"
       },
       "id": "a0675c59-c1b5-45ab-bb5c-940b18488da7"
      },
      "dda83eda-942d-4d85-bacf-d0b6dd6d0b41": {
       "attrs": {
        "height": 0.14225096559777242,
        "width": 0.96,
        "x": 0.02,
        "y": 0.02
       },
       "content": {
        "cell": "f4be16da-3c0f-4614-8720-ced8b9e3dc37",
        "part": "whole"
       },
       "id": "dda83eda-942d-4d85-bacf-d0b6dd6d0b41"
      }
     }
    },
    "2a504b58-640f-4f59-b450-6fb402a8eb7c": {
     "id": "2a504b58-640f-4f59-b450-6fb402a8eb7c",
     "prev": "258f7341-c90a-4192-8de9-345083fdd512",
     "regions": {
      "1bd833ef-02d9-4616-943a-0177e6f7bd66": {
       "attrs": {
        "height": 0.12662274923144498,
        "width": 0.9599999999999999,
        "x": 0.02,
        "y": 0.02
       },
       "content": {
        "cell": "dd0ddaf5-77db-4569-9495-9168a96d5524",
        "part": "whole"
       },
       "id": "1bd833ef-02d9-4616-943a-0177e6f7bd66"
      },
      "67da4a0a-6b57-4339-b018-7ccee75f73d5": {
       "attrs": {
        "height": 0.4029523990724621,
        "width": 0.9596837944664032,
        "x": 0.02015810276679842,
        "y": 0.5546672759385172
       },
       "content": {
        "cell": "758eadc5-5750-4be4-9d92-a75b53499059",
        "part": "source"
       },
       "id": "67da4a0a-6b57-4339-b018-7ccee75f73d5"
      },
      "aebfe62d-0197-4910-a14f-eee3a7e25e14": {
       "attrs": {
        "height": 0.2254356348079214,
        "width": 0.9604743083003954,
        "x": 0.02015810276679842,
        "y": 0.32487241227870917
       },
       "content": {
        "cell": "fa1ede2c-9078-40ca-aea8-40a7db084ed1",
        "part": "outputs"
       },
       "id": "aebfe62d-0197-4910-a14f-eee3a7e25e14"
      },
      "d3abf8c3-33e7-4c9f-8e02-f521ed3dacc8": {
       "attrs": {
        "height": 0.17424621022821923,
        "width": 0.9596837944664032,
        "x": 0.020158102766798417,
        "y": 0.15148789241742763
       },
       "content": {
        "cell": "fa1ede2c-9078-40ca-aea8-40a7db084ed1",
        "part": "source"
       },
       "id": "d3abf8c3-33e7-4c9f-8e02-f521ed3dacc8"
      }
     }
    },
    "36684dce-406c-4b5d-a60c-8515f5a4da22": {
     "id": "36684dce-406c-4b5d-a60c-8515f5a4da22",
     "prev": "8406b823-42d7-466c-970f-273cd5fa4e01",
     "regions": {
      "4ac17337-7fda-4331-b490-7164f591e2d2": {
       "attrs": {
        "height": 0.96,
        "width": 0.96,
        "x": 0.02,
        "y": 0.02
       },
       "content": {
        "cell": "cd1aebce-f5a4-4ea0-8b38-e7760187a078",
        "part": "whole"
       },
       "id": "4ac17337-7fda-4331-b490-7164f591e2d2"
      }
     }
    },
    "40b54698-1b59-496e-ada6-b7973a306aba": {
     "id": "40b54698-1b59-496e-ada6-b7973a306aba",
     "prev": "09a7011a-ed24-4b50-82a8-4b54827da0b3",
     "regions": {
      "34e74dc0-137e-48c2-994b-82dac9bc9363": {
       "attrs": {
        "height": 0.96,
        "width": 0.96,
        "x": 0.02,
        "y": 0.02
       },
       "content": {
        "cell": "4497c8d6-7f74-4bc3-95de-78837d10e526",
        "part": "whole"
       },
       "id": "34e74dc0-137e-48c2-994b-82dac9bc9363"
      }
     }
    },
    "719e938e-3d4e-4b7b-81a5-d18c70149132": {
     "id": "719e938e-3d4e-4b7b-81a5-d18c70149132",
     "prev": "bfe916a9-7090-4ec7-ae06-422abbc147a7",
     "regions": {
      "08c9f51d-af74-4cec-9d5b-28e78aac1a16": {
       "attrs": {
        "height": 0.2952657004830919,
        "width": 0.9599999999999999,
        "x": 0.02,
        "y": 0.02
       },
       "content": {
        "cell": "347ebfc0-8db7-4be8-a3c9-980d8f43bc90",
        "part": "source"
       },
       "id": "08c9f51d-af74-4cec-9d5b-28e78aac1a16"
      },
      "b1601db1-4fa1-4547-bb1d-cee8c306e2c1": {
       "attrs": {
        "height": 0.1844532279314888,
        "width": 0.9596837944664032,
        "x": 0.020948616600790514,
        "y": 0.7801932367149759
       },
       "content": {
        "cell": "f61920c9-ba5a-492c-9b23-f49708aa0aac",
        "part": "source"
       },
       "id": "b1601db1-4fa1-4547-bb1d-cee8c306e2c1"
      },
      "fe2599f4-6150-4405-b97b-936d81313ef5": {
       "attrs": {
        "height": 0.4599033816425121,
        "width": 0.9604743083003953,
        "x": 0.02015810276679842,
        "y": 0.32204655248133507
       },
       "content": {
        "cell": "4877f9a8-41b7-46e9-b239-80445b951cc0",
        "part": "outputs"
       },
       "id": "fe2599f4-6150-4405-b97b-936d81313ef5"
      }
     }
    },
    "71deabf8-16c7-46fc-9825-2c816ab0ab0f": {
     "id": "71deabf8-16c7-46fc-9825-2c816ab0ab0f",
     "prev": "36684dce-406c-4b5d-a60c-8515f5a4da22",
     "regions": {
      "40e9bfec-10d4-4438-a5d5-b5abd74e45ec": {
       "attrs": {
        "height": 0.25420440261707555,
        "width": 0.9601186063750927,
        "x": 0.019940696812453675,
        "y": 0.01961123465941851
       },
       "content": {
        "cell": "89c67296-8bae-415a-b423-10dec9dc132e",
        "part": "source"
       },
       "id": "40e9bfec-10d4-4438-a5d5-b5abd74e45ec"
      },
      "424e8f83-d924-4552-80c8-e1b394988c4e": {
       "attrs": {
        "height": 0.20797836474983097,
        "width": 0.9601186063750927,
        "x": 0.019940696812453675,
        "y": 0.6568980655571534
       },
       "content": {
        "cell": "c78f98f6-072b-4780-a2df-032f11bcf3a5",
        "part": "outputs"
       },
       "id": "424e8f83-d924-4552-80c8-e1b394988c4e"
      },
      "790bc6df-51bf-499a-954d-fbcb07224739": {
       "attrs": {
        "height": 0.38408986332810174,
        "width": 0.9599999999999999,
        "x": 0.020000000000000018,
        "y": 0.27422601950142483
       },
       "content": {
        "cell": "c78f98f6-072b-4780-a2df-032f11bcf3a5",
        "part": "source"
       },
       "id": "790bc6df-51bf-499a-954d-fbcb07224739"
      },
      "79a2af60-8c17-4d6e-afa2-526679c4c58b": {
       "attrs": {
        "height": 0.11380824739145577,
        "width": 0.9596837944664032,
        "x": 0.02015810276679842,
        "y": 0.8634864385988824
       },
       "content": {
        "cell": "6026e347-9fe0-4aee-b5c0-df518825acdf",
        "part": "source"
       },
       "id": "79a2af60-8c17-4d6e-afa2-526679c4c58b"
      }
     }
    },
    "7531808a-a4bb-4635-80e0-501d6781b744": {
     "id": "7531808a-a4bb-4635-80e0-501d6781b744",
     "prev": "e7325c02-b194-4b1b-8422-9849bdfbd678",
     "regions": {
      "a723a2b1-1559-48b2-a7e6-5a51c492f26a": {
       "attrs": {
        "height": 0.96,
        "width": 0.96,
        "x": 0.02,
        "y": 0.02
       },
       "content": {
        "cell": "fb9111de-eebe-472f-9a5a-2175efe06157",
        "part": "source"
       },
       "id": "a723a2b1-1559-48b2-a7e6-5a51c492f26a"
      }
     }
    },
    "75e34522-4bba-47c7-aab5-6076f96e52ad": {
     "id": "75e34522-4bba-47c7-aab5-6076f96e52ad",
     "prev": "b503eaab-581a-4029-b025-f393fbc0e3e8",
     "regions": {
      "78e9b015-c687-4457-93c7-9b545e89385d": {
       "attrs": {
        "height": 0.96,
        "width": 0.96,
        "x": 0.02,
        "y": 0.02
       },
       "content": {
        "cell": "99e107f9-028f-4a1e-a03a-aacf0c3b4527",
        "part": "whole"
       },
       "id": "78e9b015-c687-4457-93c7-9b545e89385d"
      }
     }
    },
    "78ef3f5d-8276-478c-9690-86667efbc0b3": {
     "id": "78ef3f5d-8276-478c-9690-86667efbc0b3",
     "prev": "09d24238-d43c-4ae1-91ff-368539b2562a",
     "regions": {
      "091f9611-223a-48d0-b0c5-4cedf0a132f7": {
       "attrs": {
        "height": 0.14541032514046018,
        "width": 0.9599999999999999,
        "x": 0.019999999999999997,
        "y": 0.02
       },
       "content": {
        "cell": "9f248e6c-2657-4079-ac17-c88039e6eb66",
        "part": "whole"
       },
       "id": "091f9611-223a-48d0-b0c5-4cedf0a132f7"
      },
      "29130c63-9912-442e-875e-7f47df4620bd": {
       "attrs": {
        "height": 0.617806248390956,
        "width": 0.9596837944664032,
        "x": 0.020158102766798414,
        "y": 0.16133296987869702
       },
       "content": {
        "cell": "9b8aca8f-dcb1-459e-b900-ab10e3130c1d",
        "part": "source"
       },
       "id": "29130c63-9912-442e-875e-7f47df4620bd"
      },
      "c99096a3-b3f2-4029-a207-d3ab73a18588": {
       "attrs": {
        "height": 0.12121212121212122,
        "width": 0.9596837944664032,
        "x": 0.020158102766798414,
        "y": 0.7787878787878788
       },
       "content": {
        "cell": "6877aef9-f276-42b9-b1bb-c8c234327a37",
        "part": "source"
       },
       "id": "c99096a3-b3f2-4029-a207-d3ab73a18588"
      }
     }
    },
    "8406b823-42d7-466c-970f-273cd5fa4e01": {
     "id": "8406b823-42d7-466c-970f-273cd5fa4e01",
     "prev": "16b4edae-65fc-4d39-9ecf-8f7d4fac9440",
     "regions": {
      "4e9d67b2-771c-4432-a397-a1027611f7bb": {
       "attrs": {
        "height": 0.11446931613686549,
        "width": 0.96,
        "x": 0.019999999999999997,
        "y": 0.02
       },
       "content": {
        "cell": "828a01f5-bb4e-4ade-b785-c83faa1ca936",
        "part": "source"
       },
       "id": "4e9d67b2-771c-4432-a397-a1027611f7bb"
      },
      "513b083d-926d-403d-98a9-4aa54e53b0a2": {
       "attrs": {
        "height": 0.2877611337765009,
        "width": 0.9600646725949877,
        "x": 0.019967663702506064,
        "y": 0.6840973050989145
       },
       "content": {
        "cell": "3673d299-da06-4a4c-baec-8eb6289288cb",
        "part": "source"
       },
       "id": "513b083d-926d-403d-98a9-4aa54e53b0a2"
      },
      "cba18a8c-24e7-4151-855d-ba4169f0e241": {
       "attrs": {
        "height": 0.5555732370645895,
        "width": 0.9600646725949877,
        "x": 0.019967663702506064,
        "y": 0.13018519034742937
       },
       "content": {
        "cell": "6038be83-8052-4717-81dd-260ba12ba9a0",
        "part": "outputs"
       },
       "id": "cba18a8c-24e7-4151-855d-ba4169f0e241"
      }
     }
    },
    "8e272bbe-5fc9-4eef-a26b-902dc5ef7cb2": {
     "id": "8e272bbe-5fc9-4eef-a26b-902dc5ef7cb2",
     "prev": "2a504b58-640f-4f59-b450-6fb402a8eb7c",
     "regions": {
      "0a9e3554-2765-47db-9b1f-f2fb7ad18ea6": {
       "attrs": {
        "height": 0.10856389986824769,
        "width": 0.9604743083003954,
        "x": 0.02015810276679842,
        "y": 0.0437856829161177
       },
       "content": {
        "cell": "2b4d435b-996d-4563-ae6e-40aa60d6a0ab",
        "part": "source"
       },
       "id": "0a9e3554-2765-47db-9b1f-f2fb7ad18ea6"
      },
      "3bfa33e7-be01-45ac-a479-875dedc16912": {
       "attrs": {
        "height": 0.3213953719868168,
        "width": 0.9604743083003954,
        "x": 0.02015810276679842,
        "y": 0.1500825344903306
       },
       "content": {
        "cell": "6d9f84ee-c1f0-412a-b6e3-586651240f52",
        "part": "source"
       },
       "id": "3bfa33e7-be01-45ac-a479-875dedc16912"
      },
      "97b38037-0ffa-4744-83df-2778b8c453eb": {
       "attrs": {
        "height": 0.10390825073238662,
        "width": 0.9604743083003954,
        "x": 0.020158102766798386,
        "y": 0.4707577671713968
       },
       "content": {
        "cell": "6d9f84ee-c1f0-412a-b6e3-586651240f52",
        "part": "outputs"
       },
       "id": "97b38037-0ffa-4744-83df-2778b8c453eb"
      },
      "d7f83c9b-9187-4d7a-9993-973e30ba666c": {
       "attrs": {
        "height": 0.10416814632254855,
        "width": 0.9596837944664032,
        "x": 0.020158102766798386,
        "y": 0.8934148803459355
       },
       "content": {
        "cell": "788d5ffd-3fd0-4650-a5f0-7cbdcce88a19",
        "part": "source"
       },
       "id": "d7f83c9b-9187-4d7a-9993-973e30ba666c"
      },
      "f6270606-6a62-44cf-b882-a809bec2e06a": {
       "attrs": {
        "height": 0.3799655961796302,
        "width": 0.9596837944664032,
        "x": 0.020158102766798386,
        "y": 0.576159611703676
       },
       "content": {
        "cell": "4092de68-1a88-4954-be98-28a3d1bc9fb8",
        "part": "source"
       },
       "id": "f6270606-6a62-44cf-b882-a809bec2e06a"
      }
     }
    },
    "ae183a96-bf49-453a-883b-10f8f567fafa": {
     "id": "ae183a96-bf49-453a-883b-10f8f567fafa",
     "prev": "40b54698-1b59-496e-ada6-b7973a306aba",
     "regions": {
      "072c0de4-e300-40cb-bed3-81471f427203": {
       "attrs": {
        "height": 0.11514396744514091,
        "width": 0.9608730800323362,
        "x": 0.019967663702506064,
        "y": 0.3494828424078835
       },
       "content": {
        "cell": "043027de-2fd3-49bb-b795-35d8bc551007",
        "part": "source"
       },
       "id": "072c0de4-e300-40cb-bed3-81471f427203"
      },
      "86166cd5-8e03-450e-ae4f-c3db407e4dbd": {
       "attrs": {
        "height": 0.3901832541087691,
        "width": 0.9599131408737519,
        "x": 0.019967663702506064,
        "y": 0.46382734501096506
       },
       "content": {
        "cell": "043027de-2fd3-49bb-b795-35d8bc551007",
        "part": "outputs"
       },
       "id": "86166cd5-8e03-450e-ae4f-c3db407e4dbd"
      },
      "bb2e6f04-f25c-4e01-a8c3-d891ed6a257b": {
       "attrs": {
        "height": 0.11303332435102845,
        "width": 0.9597616091525158,
        "x": 0.019967663702506064,
        "y": 0.8502021018593371
       },
       "content": {
        "cell": "811fb74e-a37f-4316-a540-2a13d6b46c49",
        "part": "source"
       },
       "id": "bb2e6f04-f25c-4e01-a8c3-d891ed6a257b"
      },
      "fc411780-4aa2-4f08-9e8f-ccbe0195f44c": {
       "attrs": {
        "height": 0.31666146074196694,
        "width": 0.960064672594988,
        "x": 0.019967663702506064,
        "y": 0.03245306745710949
       },
       "content": {
        "cell": "cae933e4-16c6-4a07-b1f6-6b1823507f59",
        "part": "source"
       },
       "id": "fc411780-4aa2-4f08-9e8f-ccbe0195f44c"
      }
     }
    },
    "b503eaab-581a-4029-b025-f393fbc0e3e8": {
     "id": "b503eaab-581a-4029-b025-f393fbc0e3e8",
     "prev": null,
     "regions": {
      "6ccaf77d-952f-4048-9401-7ca914ac4636": {
       "attrs": {
        "height": 0.96,
        "width": 0.96,
        "x": 0.02,
        "y": 0.02
       },
       "content": {
        "cell": "02946766-51c9-45c9-9530-083fdca2baf0",
        "part": "whole"
       },
       "id": "6ccaf77d-952f-4048-9401-7ca914ac4636"
      }
     }
    },
    "bfe916a9-7090-4ec7-ae06-422abbc147a7": {
     "id": "bfe916a9-7090-4ec7-ae06-422abbc147a7",
     "prev": "71deabf8-16c7-46fc-9825-2c816ab0ab0f",
     "regions": {
      "100d1773-0acf-4664-bc66-5f6e8936d2f1": {
       "attrs": {
        "height": 0.4992534036012296,
        "width": 0.9604743083003953,
        "x": 0.02015810276679842,
        "y": 0.3543697848045675
       },
       "content": {
        "cell": "4877f9a8-41b7-46e9-b239-80445b951cc0",
        "part": "source"
       },
       "id": "100d1773-0acf-4664-bc66-5f6e8936d2f1"
      },
      "8df4b45c-777b-4950-bb2f-abe9984e8890": {
       "attrs": {
        "height": 0.33602108036890654,
        "width": 0.9599999999999999,
        "x": 0.02,
        "y": 0.02
       },
       "content": {
        "cell": "912d7469-3145-4cf9-96c5-323051c5ce8a",
        "part": "whole"
       },
       "id": "8df4b45c-777b-4950-bb2f-abe9984e8890"
      },
      "aa060234-2e04-4879-870f-44bffe22b589": {
       "attrs": {
        "height": 0.10434782608695652,
        "width": 0.9636363636363636,
        "x": 0.019367588932806323,
        "y": 0.8617039964866052
       },
       "content": {
        "cell": "51777651-4544-4573-a98c-c79dfd47884f",
        "part": "source"
       },
       "id": "aa060234-2e04-4879-870f-44bffe22b589"
      }
     }
    },
    "d331cc5e-4d2a-46dc-bd67-1ce5a9d74446": {
     "id": "d331cc5e-4d2a-46dc-bd67-1ce5a9d74446",
     "prev": "f850102c-456e-4492-b68f-901a8b4b24c7",
     "regions": {
      "45eb7988-19e7-43df-bf15-b8422133c788": {
       "attrs": {
        "height": 0.96,
        "width": 0.96,
        "x": 0.02,
        "y": 0.02
       },
       "content": {
        "cell": "dc68fe38-fd1f-489d-ad3b-cea162cc7c5b",
        "part": "whole"
       },
       "id": "45eb7988-19e7-43df-bf15-b8422133c788"
      }
     }
    },
    "dab507b3-16eb-47b8-be64-32af1ed7ee6e": {
     "id": "dab507b3-16eb-47b8-be64-32af1ed7ee6e",
     "prev": "dcae1bbe-5faf-4c0e-a2ee-b767878f8284",
     "regions": {
      "3e400c6a-4eff-44c3-85a7-0c609330ecaa": {
       "attrs": {
        "height": 0.2308300395256917,
        "width": 0.9596837944664032,
        "x": 0.02015810276679842,
        "y": 0.4218269653052262
       },
       "content": {
        "cell": "87217d0c-c78d-4bc9-9167-c957b7d27875",
        "part": "source"
       },
       "id": "3e400c6a-4eff-44c3-85a7-0c609330ecaa"
      },
      "5a8bdf20-66e5-4b66-af39-3cd6022ee2f0": {
       "attrs": {
        "height": 0.08888888888888889,
        "width": 0.9604743083003953,
        "x": 0.02015810276679842,
        "y": 0.8321914800175669
       },
       "content": {
        "cell": "fe2c32f0-1653-4194-9485-7c0c01efdd19",
        "part": "source"
       },
       "id": "5a8bdf20-66e5-4b66-af39-3cd6022ee2f0"
      },
      "957714d3-3f14-4a68-9ad7-d848deefe85c": {
       "attrs": {
        "height": 0.17602108036890646,
        "width": 0.9604743083003953,
        "x": 0.02015810276679842,
        "y": 0.6537110232762406
       },
       "content": {
        "cell": "87217d0c-c78d-4bc9-9167-c957b7d27875",
        "part": "outputs"
       },
       "id": "957714d3-3f14-4a68-9ad7-d848deefe85c"
      },
      "e77657be-a11c-44af-9c3d-cc9e1ef680ea": {
       "attrs": {
        "height": 0.4006675450153712,
        "width": 0.9599999999999999,
        "x": 0.019999999999999966,
        "y": 0.01718928414580587
       },
       "content": {
        "cell": "9b61f858-e9e1-4b49-8abc-4d2645a81a8c",
        "part": "whole"
       },
       "id": "e77657be-a11c-44af-9c3d-cc9e1ef680ea"
      }
     }
    },
    "dcae1bbe-5faf-4c0e-a2ee-b767878f8284": {
     "id": "dcae1bbe-5faf-4c0e-a2ee-b767878f8284",
     "prev": "78ef3f5d-8276-478c-9690-86667efbc0b3",
     "regions": {
      "27541291-abd4-4032-8a6c-a05ceb89a122": {
       "attrs": {
        "height": 0.10715854194115064,
        "width": 0.9596837944664032,
        "x": 0.02015810276679842,
        "y": 0.36280193236714975
       },
       "content": {
        "cell": "72fa8745-34c3-4b49-b26b-da896cb0d6e0",
        "part": "source"
       },
       "id": "27541291-abd4-4032-8a6c-a05ceb89a122"
      },
      "35f76d3a-b0db-423e-9741-362829f64551": {
       "attrs": {
        "height": 0.3416425120772948,
        "width": 0.9599999999999999,
        "x": 0.02,
        "y": 0.02
       },
       "content": {
        "cell": "c6d61fd1-26f3-4833-b415-fab3cbffc983",
        "part": "whole"
       },
       "id": "35f76d3a-b0db-423e-9741-362829f64551"
      },
      "969bb0f6-ca23-4b50-9077-a5fd9aab0316": {
       "attrs": {
        "height": 0.0987263943785683,
        "width": 0.9588932806324111,
        "x": 0.02015810276679842,
        "y": 0.5426877470355731
       },
       "content": {
        "cell": "ffc2184f-8483-4239-827f-6bac6db485f5",
        "part": "source"
       },
       "id": "969bb0f6-ca23-4b50-9077-a5fd9aab0316"
      },
      "a92d2f1f-3ca6-4ae7-bd39-884ad420d921": {
       "attrs": {
        "height": 0.0970696469946846,
        "width": 0.9596837944664032,
        "x": 0.02015810276679842,
        "y": 0.6438735177865612
       },
       "content": {
        "cell": "0c7cc084-25f2-41b7-be5d-7fcfcca0c3e5",
        "part": "source"
       },
       "id": "a92d2f1f-3ca6-4ae7-bd39-884ad420d921"
      },
      "aee6e771-6362-43b0-a8d6-2087897818cd": {
       "attrs": {
        "height": 0.10702527524116728,
        "width": 0.9596837944664032,
        "x": 0.02015810276679842,
        "y": 0.7367604076749504
       },
       "content": {
        "cell": "0c7cc084-25f2-41b7-be5d-7fcfcca0c3e5",
        "part": "outputs"
       },
       "id": "aee6e771-6362-43b0-a8d6-2087897818cd"
      },
      "ed70c9bb-0412-41a8-af30-9df026ccf574": {
       "attrs": {
        "height": 0.07342995169082125,
        "width": 0.9596837944664032,
        "x": 0.02015810276679842,
        "y": 0.47241985068072023
       },
       "content": {
        "cell": "72fa8745-34c3-4b49-b26b-da896cb0d6e0",
        "part": "outputs"
       },
       "id": "ed70c9bb-0412-41a8-af30-9df026ccf574"
      },
      "fa472373-70e0-4b33-9c3d-373e57961759": {
       "attrs": {
        "height": 0.08045674132630655,
        "width": 0.9596837944664032,
        "x": 0.020948616600790514,
        "y": 0.8462450592885375
       },
       "content": {
        "cell": "ce56e6af-1fc4-458b-a23b-c3a2deeda4d3",
        "part": "source"
       },
       "id": "fa472373-70e0-4b33-9c3d-373e57961759"
      }
     }
    },
    "de9a82e4-a9e8-42ab-a0aa-8caa38150505": {
     "id": "de9a82e4-a9e8-42ab-a0aa-8caa38150505",
     "prev": "75e34522-4bba-47c7-aab5-6076f96e52ad",
     "regions": {
      "6170d46b-ad16-4564-aeb3-aa2fb0fb1588": {
       "attrs": {
        "height": 0.96,
        "width": 0.96,
        "x": 0.02,
        "y": 0.02
       },
       "content": {
        "cell": "3bbc093a-adac-4faa-80a0-d0e8dd3df710",
        "part": "whole"
       },
       "id": "6170d46b-ad16-4564-aeb3-aa2fb0fb1588"
      }
     }
    },
    "df3ce6f5-d2b4-4801-9a93-b4aaf7095433": {
     "id": "df3ce6f5-d2b4-4801-9a93-b4aaf7095433",
     "prev": "1c8ff845-2b60-4a1c-b3d2-a67e80f0df76",
     "regions": {
      "5bd47dbd-f96d-4c12-a5f5-aa081faa7059": {
       "attrs": {
        "height": 0.96,
        "width": 0.96,
        "x": 0.02,
        "y": 0.02
       },
       "content": {
        "cell": "638b8167-2e4c-4332-b8b3-c934a7ad94c5",
        "part": "whole"
       },
       "id": "5bd47dbd-f96d-4c12-a5f5-aa081faa7059"
      }
     }
    },
    "e665da57-d0b5-4b44-b5b1-fd572f9945e8": {
     "id": "e665da57-d0b5-4b44-b5b1-fd572f9945e8",
     "prev": "fe22c4e0-2660-4e71-8ec5-fc88eb5d29d4",
     "regions": {
      "7e882b84-0ac0-4297-a75b-a2134f81c27a": {
       "attrs": {
        "height": 0.96,
        "width": 0.96,
        "x": 0.02,
        "y": 0.02
       },
       "content": {
        "cell": "4e504ee4-9dbf-46b8-ba56-c5c6a3debfe0",
        "part": "whole"
       },
       "id": "7e882b84-0ac0-4297-a75b-a2134f81c27a"
      }
     }
    },
    "e7325c02-b194-4b1b-8422-9849bdfbd678": {
     "id": "e7325c02-b194-4b1b-8422-9849bdfbd678",
     "prev": "8e272bbe-5fc9-4eef-a26b-902dc5ef7cb2",
     "regions": {
      "1c3d5012-693a-4f2d-b658-16b09a3931bf": {
       "attrs": {
        "height": 0.10835309617918323,
        "width": 0.9599999999999999,
        "x": 0.02079051383399206,
        "y": 0.043891084760649984
       },
       "content": {
        "cell": "2b4d435b-996d-4563-ae6e-40aa60d6a0ab",
        "part": "source"
       },
       "id": "1c3d5012-693a-4f2d-b658-16b09a3931bf"
      },
      "569efee0-7c63-4f06-8849-5a4b46e5a048": {
       "attrs": {
        "height": 0.6707070707070709,
        "width": 0.9604743083003953,
        "x": 0.020158102766798417,
        "y": 0.1534036012296882
       },
       "content": {
        "cell": "4092de68-1a88-4954-be98-28a3d1bc9fb8",
        "part": "outputs"
       },
       "id": "569efee0-7c63-4f06-8849-5a4b46e5a048"
      },
      "b456756a-8801-426b-b146-e4989a36f00b": {
       "attrs": {
        "height": 0.1015371102327624,
        "width": 0.9604743083003953,
        "x": 0.02015810276679842,
        "y": 0.8279754062362757
       },
       "content": {
        "cell": "788d5ffd-3fd0-4650-a5f0-7cbdcce88a19",
        "part": "source"
       },
       "id": "b456756a-8801-426b-b146-e4989a36f00b"
      }
     }
    },
    "f850102c-456e-4492-b68f-901a8b4b24c7": {
     "id": "f850102c-456e-4492-b68f-901a8b4b24c7",
     "prev": "de9a82e4-a9e8-42ab-a0aa-8caa38150505",
     "regions": {
      "0397f653-780b-43cf-a603-6827e53aa044": {
       "attrs": {
        "height": 0.96,
        "width": 0.96,
        "x": 0.02,
        "y": 0.02
       },
       "content": {
        "cell": "5d549e64-2203-40c8-8bee-7aca93e79fe4",
        "part": "whole"
       },
       "id": "0397f653-780b-43cf-a603-6827e53aa044"
      }
     }
    },
    "fe22c4e0-2660-4e71-8ec5-fc88eb5d29d4": {
     "id": "fe22c4e0-2660-4e71-8ec5-fc88eb5d29d4",
     "prev": "719e938e-3d4e-4b7b-81a5-d18c70149132",
     "regions": {
      "3d9ef69b-5cb7-4791-8bb5-20b73e4031a6": {
       "attrs": {
        "height": 0.96,
        "width": 0.96,
        "x": 0.02,
        "y": 0.02
       },
       "content": {
        "cell": "088fd0ad-7be2-40b5-9a46-99edfc0ce9bf",
        "part": "whole"
       },
       "id": "3d9ef69b-5cb7-4791-8bb5-20b73e4031a6"
      }
     }
    }
   },
   "themes": {
    "default": "5fea1f45-9eec-4376-abc1-d4bc02860072",
    "theme": {
     "5fea1f45-9eec-4376-abc1-d4bc02860072": {
      "backgrounds": {
       "my-background": {
        "background-color": "white"
       }
      },
      "id": "5fea1f45-9eec-4376-abc1-d4bc02860072",
      "palette": {
       "black": {
        "id": "black",
        "rgb": [
         0,
         0,
         0
        ]
       },
       "blue": {
        "id": "blue",
        "rgb": [
         0,
         153,
         204
        ]
       },
       "gray": {
        "id": "gray",
        "rgb": [
         128,
         128,
         128
        ]
       },
       "red": {
        "id": "red",
        "rgb": [
         240,
         32,
         32
        ]
       },
       "white": {
        "id": "white",
        "rgb": [
         255,
         255,
         255
        ]
       }
      },
      "rules": {
       "code": {
        "font-size": 2
       },
       "h1": {
        "color": "blue",
        "font-size": 5.5,
        "text-align": "center"
       },
       "h2": {
        "color": "blue",
        "font-size": 3,
        "text-align": "center"
       },
       "h3": {
        "color": "black",
        "font-size": 3
       },
       "pre": {
        "font-size": 2
       },
       "ul li": {
        "color": "black",
        "font-size": 3
       },
       "ul li ul li": {
        "color": "black",
        "font-size": 2.5
       }
      },
      "text-base": {
       "font-family": "Georgia",
       "font-size": 3
      }
     }
    }
   }
  }
 },
 "nbformat": 4,
 "nbformat_minor": 1
}
