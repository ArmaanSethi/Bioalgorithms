{
 "cells": [
  {
   "cell_type": "code",
   "execution_count": 1,
   "metadata": {
    "nbpresent": {
     "id": "809ee4e9-172f-421f-95c9-11ba2e9a7845"
    },
    "slideshow": {
     "slide_type": "skip"
    }
   },
   "outputs": [
    {
     "data": {
      "application/javascript": [
       "var width = window.innerWidth || document.documentElement.clientWidth || document.body.clientWidth;\n",
       "var height = window.innerHeight || document.documentElement.clientHeight || document.body.clientHeight;\n",
       "\n",
       "IPython.notebook.kernel.execute(\"windowSize = (\" + width + \",\" + height + \")\");\n",
       "// suitable for small screens\n",
       "nbpresent.mode.tree.set(\n",
       "    [\"app\", \"theme-manager\", \"themes\", \"my-theme\"], \n",
       "    {\n",
       "    palette: {\n",
       "        \"blue\": { id: \"blue\", rgb: [0, 153, 204] },\n",
       "        \"black\": { id: \"black\", rgb: [0, 0, 0] },\n",
       "        \"white\": { id: \"white\", rgb: [255, 255, 255] },\n",
       "        \"red\": { id: \"red\", rgb: [240, 32, 32] },\n",
       "        \"gray\": { id: \"gray\", rgb: [128, 128, 128] },\n",
       "    },\n",
       "    backgrounds: {\n",
       "        \"my-background\": {\n",
       "            \"background-color\": \"white\"\n",
       "        }\n",
       "    },\n",
       "    \"text-base\": {\n",
       "        \"font-family\": \"Georgia\",\n",
       "        \"font-size\": 2.5\n",
       "    },\n",
       "    rules: {\n",
       "        h1: {\n",
       "            \"font-size\": 5.5,\n",
       "            color: \"blue\",\n",
       "            \"text-align\": \"center\"\n",
       "        },\n",
       "        h2: {\n",
       "            \"font-size\": 3,\n",
       "            color: \"blue\",\n",
       "            \"text-align\": \"center\"\n",
       "        },\n",
       "        h3: {\n",
       "            \"font-size\": 3,\n",
       "            color: \"black\",\n",
       "        },\n",
       "        \"ul li\": {\n",
       "            \"font-size\": 2.5,\n",
       "            color: \"black\"\n",
       "        },\n",
       "        \"ul li ul li\": {\n",
       "            \"font-size\": 2.0,\n",
       "            color: \"black\"\n",
       "        },\n",
       "        \"code\": {\n",
       "            \"font-size\": 1.6,\n",
       "        },\n",
       "        \"pre\": {\n",
       "            \"font-size\": 1.6,\n",
       "        }\n",
       "    }\n",
       "});"
      ],
      "text/plain": [
       "<IPython.core.display.Javascript object>"
      ]
     },
     "metadata": {},
     "output_type": "display_data"
    }
   ],
   "source": [
    "%%javascript\n",
    "var width = window.innerWidth || document.documentElement.clientWidth || document.body.clientWidth;\n",
    "var height = window.innerHeight || document.documentElement.clientHeight || document.body.clientHeight;\n",
    "\n",
    "IPython.notebook.kernel.execute(\"windowSize = (\" + width + \",\" + height + \")\");\n",
    "// suitable for small screens\n",
    "nbpresent.mode.tree.set(\n",
    "    [\"app\", \"theme-manager\", \"themes\", \"my-theme\"], \n",
    "    {\n",
    "    palette: {\n",
    "        \"blue\": { id: \"blue\", rgb: [0, 153, 204] },\n",
    "        \"black\": { id: \"black\", rgb: [0, 0, 0] },\n",
    "        \"white\": { id: \"white\", rgb: [255, 255, 255] },\n",
    "        \"red\": { id: \"red\", rgb: [240, 32, 32] },\n",
    "        \"gray\": { id: \"gray\", rgb: [128, 128, 128] },\n",
    "    },\n",
    "    backgrounds: {\n",
    "        \"my-background\": {\n",
    "            \"background-color\": \"white\"\n",
    "        }\n",
    "    },\n",
    "    \"text-base\": {\n",
    "        \"font-family\": \"Georgia\",\n",
    "        \"font-size\": 2.5\n",
    "    },\n",
    "    rules: {\n",
    "        h1: {\n",
    "            \"font-size\": 5.5,\n",
    "            color: \"blue\",\n",
    "            \"text-align\": \"center\"\n",
    "        },\n",
    "        h2: {\n",
    "            \"font-size\": 3,\n",
    "            color: \"blue\",\n",
    "            \"text-align\": \"center\"\n",
    "        },\n",
    "        h3: {\n",
    "            \"font-size\": 3,\n",
    "            color: \"black\",\n",
    "        },\n",
    "        \"ul li\": {\n",
    "            \"font-size\": 2.5,\n",
    "            color: \"black\"\n",
    "        },\n",
    "        \"ul li ul li\": {\n",
    "            \"font-size\": 2.0,\n",
    "            color: \"black\"\n",
    "        },\n",
    "        \"code\": {\n",
    "            \"font-size\": 1.6,\n",
    "        },\n",
    "        \"pre\": {\n",
    "            \"font-size\": 1.6,\n",
    "        }\n",
    "    }\n",
    "});"
   ]
  },
  {
   "cell_type": "markdown",
   "metadata": {
    "nbpresent": {
     "id": "234f8060-ea6c-48a7-b261-d4b5ade6cf4b"
    },
    "slideshow": {
     "slide_type": "slide"
    }
   },
   "source": [
    "# Comparing Sequences\n",
    "\n",
    "<img src=\"http://csbio.unc.edu/mcmillan/Comp555S18/Media/Clustal.gif\" width=\"700\">\n",
    "<p style=\"text-align: center;\">By Miguel Andrade at English Wikipedia</p>\n",
    "\n",
    "<p style=\"text-align: right; clear: right;\">1</p>"
   ]
  },
  {
   "cell_type": "markdown",
   "metadata": {
    "nbpresent": {
     "id": "4a401125-ab5b-4982-b876-dc86b6ab6465"
    },
    "slideshow": {
     "slide_type": "slide"
    }
   },
   "source": [
    "# Sequence Similarity\n",
    "\n",
    "* A common problem in Biology\n",
    "\n",
    "<table style=\"font-size: 14px;\"><tbody>\n",
    "<tr>\n",
    "<th colspan=\"2\" style=\"text-align: center;\">\n",
    "Insulin Protein Sequence\n",
    "</th>\n",
    "</tr>\n",
    "<tr>\n",
    "<td style=\"text-align: right;\">Human</td>\n",
    "<td><code>MALWMRLLPLLALLALWGPDPAAAFVNQHLCGSHLVEALYLVCGERGFFYTPKTRREAEDLQGSLQPLALEGSLQKRGIVEQCCTSICSLYQLENYCN</code></td>\n",
    "</tr>\n",
    "<tr>\n",
    "<td style=\"text-align: right;\">Dog</td>\n",
    "<td><code>MALWMRLLPLLALLALWAPAPTRAFVNQHLCGSHLVEALYLVCGERGFFYTPKARREVEDLQVRDVELAGAPGEGGLQPLALEGALQKRGIVEQCCTSICSLYQLENYCN</code></td>\n",
    "</tr>\n",
    "<tr>\n",
    "<td style=\"text-align: right;\">Cat</td>\n",
    "<td><code>MAPWTRLLPLLALLSLWIPAPTRAFVNQHLCGSHLVEALYLVCGERGFFYTPKARREAEDLQGKDAELGEAPGAGGLQPSALEAPLQKRGIVEQCCASVCSLYQLEHYCN</code></td>\n",
    "</tr>\n",
    "<tr>\n",
    "<td style=\"text-align: right;\">Pig</td>\n",
    "<td><code>MALWTRLLPLLALLALWAPAPAQAFVNQHLCGSHLVEALYLVCGERGFFYTPKARREAENPQAGAVELGGGLGGLQALALEGPPQKRGIVEQCCTSICSLYQLENYCN</code></td>\n",
    "</tr>\n",
    "</tbody></table>\n",
    "<img src=\"http://csbio.unc.edu/mcmillan/Comp555S18/Media/InsulinHexamer.jpg\" width=\"240\" style=\"float: right; margin-right: 120px;\">\n",
    "\n",
    "* All similar, but how similar?\n",
    "* How do you measure similarity?\n",
    "* Does Hamming distance work here?\n",
    "* Uses\n",
    "  - To establish a *phylogeny*\n",
    "  - To identify *functional* or *conserved* components of the sequence\n",
    "\n",
    "<p style=\"text-align: right; clear: right;\">2</p>"
   ]
  },
  {
   "cell_type": "markdown",
   "metadata": {
    "nbpresent": {
     "id": "3071f7bf-8199-4127-9cbb-8dffed2967f3"
    },
    "slideshow": {
     "slide_type": "slide"
    }
   },
   "source": [
    "# Hand Alignments\n",
    "\n",
    "* Not that long ago, many aligments were done by hand\n",
    "\n",
    "<pre  style=\"font-size: 14px;\">\n",
    "Human : MALWMRLLPLLALLALWGPdPAaAFVNQHLCGSHLVEALYLVCGERGFFYTPKTRREAEDLQ_____________GSLQPLALEGs_LQKRGIVEQCCTSICSLYQLENYCN\n",
    "        ||||||||||||||||||||||||||||||||||||||||||||||||||||||||||||||             |||||||||||||||||||||||||||||||||||||\n",
    "  Dog : MALWMRLLPLLALLALWAPAPtRAFVNQHLCGSHLVEALYLVCGERGFFYTPKARREvEDLQvrDVELaG_APGeGGLQPLALEGA_LQKRGIVEQCCTSICSLYQLENYCN\n",
    "        ||||||||||||||||||||||||||||||||||||||||||||||||||||||||||||||  |||| | ||| ||||||||| | |||||||||||||||||||||||||\n",
    "  Cat : MApWtRLLPLLALLsLWiPAPtRAFVNQHLCGSHLVEALYLVCGERGFFYTPKARREAEDLQgkDaEL_GeAPGaGGLQPsALE_APLQKRGIVEQCCaSvCSLYQLEHYCN\n",
    "        ||||||||||||||||||||||||||||||||||||||||||||||||||||||||||||||  |||| | ||  |||||||||||| ||||||||||||||||||||||||\n",
    "  Pig : MALWtRLLPLLALLAlWAPAPAqAFVNQHLCGSHLVEALYLVCGERGFFYTPKARREAEnpQagaVEL_Gggl__GGLQaLALEGpP_QKRGIVEQCCTSICSLYQLENYCN\n",
    "                               <span style=\"color: red;\">AFVNQHLCGSHLVEALYLVCGERGFFYTPKARREAE                             QKRGIVEQCC SICSLYQLENYCN</span>\n",
    "</pre>\n",
    "\n",
    "* Long conserved regions are shown below\n",
    "* Solution strategy?\n",
    "* Is this a well defined problem?\n",
    "  - Is there an optimal or best solution\n",
    "  - Did we find it\n",
    "* By the way, this is an easy case. Within vertebrates, the amino acid sequence of insulin is strongly conserved.\n",
    "\n",
    "<p style=\"text-align: right; clear: right;\">3</p>"
   ]
  },
  {
   "cell_type": "markdown",
   "metadata": {
    "nbpresent": {
     "id": "fbc259b0-aecf-4071-9380-2edc94794734"
    },
    "slideshow": {
     "slide_type": "slide"
    }
   },
   "source": [
    "# The Alignment Game\n",
    "\n",
    "Let's simplify the problem a bit by considering only 2 sequences, and estabishing rules as if it were a game.\n",
    "\n",
    "* Rules:\n",
    "  - You must remove all characters from both sequences\n",
    "  - There are 3 possible moves at any point in the game.\n",
    "  - Each move removes at least one character from one of the two given strings\n",
    "  - Pressing [Match] removes one left-most character from both sequences\n",
    "   * You get 1 point if the characters match, otherwise you get 0 points\n",
    "  - Pressing [Del] removes the left-most character from the top sequence\n",
    "   * You lose 1 point\n",
    "  - Pressing [Ins] removes the left-most character from the bottom sequence\n",
    "   * You lose 1 point\n",
    "  - Your point total is allowed to go negative\n",
    "\n",
    "* Objective: Get the most points"
   ]
  },
  {
   "cell_type": "code",
   "execution_count": 10,
   "metadata": {
    "nbpresent": {
     "id": "393557bc-2688-46db-9392-76f21666b9ad"
    },
    "slideshow": {
     "slide_type": "fragment"
    }
   },
   "outputs": [
    {
     "data": {
      "application/javascript": [
       "\n",
       "var Insulin = {\n",
       "    \"Human\" : \"MALWMRLLPLLALLALWGPDPAAAFVNQHLCGSHLVEALYLVCGERGFFYTPKTRREAEDLQGSLQPLALEGSLQKRGIVEQCCTSICSLYQLENYCN\",    \n",
       "    \"Dog\" : \"MALWMRLLPLLALLALWAPAPTRAFVNQHLCGSHLVEALYLVCGERGFFYTPKARREVEDLQVRDVELAGAPGEGGLQPLALEGALQKRGIVEQCCTSICSLYQLENYCN\",\n",
       "    \"Cat\" : \"MAPWTRLLPLLALLSLWIPAPTRAFVNQHLCGSHLVEALYLVCGERGFFYTPKARREAEDLQGKDAELGEAPGAGGLQPSALEAPLQKRGIVEQCCASVCSLYQLEHYCN\",\n",
       "    \"Pig\" : \"MALWTRLLPLLALLALWAPAPAQAFVNQHLCGSHLVEALYLVCGERGFFYTPKARREAENPQAGAVELGGGLGGLQALALEGPPQKRGIVEQCCTSICSLYQLENYCN\"\n",
       "};\n",
       "\n",
       "var score = 0;\n",
       "var topIndex = 0;\n",
       "var botIndex = 0;\n",
       "\n",
       "function Match() {\n",
       "    var top = Insulin[document.getElementById(\"top\").value];\n",
       "    var bot = Insulin[document.getElementById(\"bot\").value];\n",
       "    score += (top[topIndex] == bot[botIndex]) ? 1 : 0;\n",
       "    topIndex += 1;\n",
       "    botIndex += 1;    \n",
       "    document.getElementById(\"topseq\").innerHTML = top.substring(topIndex,topIndex+24);\n",
       "    document.getElementById(\"botseq\").innerHTML = bot.substring(botIndex,botIndex+24);\n",
       "    document.getElementById(\"scoreboard\").innerHTML = score;    \n",
       "}\n",
       "\n",
       "function Delete() {\n",
       "    var top = Insulin[document.getElementById(\"top\").value];\n",
       "    score -= 1;\n",
       "    topIndex += 1;    \n",
       "    document.getElementById(\"topseq\").innerHTML = top.substring(topIndex,topIndex+24);\n",
       "    document.getElementById(\"scoreboard\").innerHTML = score;    \n",
       "}\n",
       "\n",
       "function Insert() {\n",
       "    var bot = Insulin[document.getElementById(\"bot\").value];\n",
       "    score -= 1;\n",
       "    botIndex += 1;    \n",
       "    document.getElementById(\"botseq\").innerHTML = bot.substring(botIndex,botIndex+24);\n",
       "    document.getElementById(\"scoreboard\").innerHTML = score;    \n",
       "}\n",
       "\n",
       "\n",
       "function onStart() {\n",
       "    var row, cell, button;\n",
       "    var board = document.getElementById(\"board\");\n",
       "    var table = document.createElement(\"table\");\n",
       "    var tbody = document.createElement(\"tbody\");\n",
       "    \n",
       "    topIndex = 0;\n",
       "    botIndex = 0;\n",
       "    var topseq = document.createElement(\"pre\");\n",
       "    topseq.id = \"topseq\";\n",
       "    topseq.style = \"color: blue; font-size: 50px; line-height: 100%;\"\n",
       "    topseq.innerHTML = Insulin[document.getElementById(\"top\").value].substring(topIndex,topIndex+24);\n",
       "    \n",
       "    var botseq = document.createElement(\"pre\");\n",
       "    botseq.id = \"botseq\";\n",
       "    botseq.style = \"color: blue; font-size: 50px; line-height: 100%;\"\n",
       "    botseq.innerHTML = Insulin[document.getElementById(\"bot\").value].substring(topIndex,topIndex+24);\n",
       "    \n",
       "    row = document.createElement(\"tr\");\n",
       "    cell = document.createElement(\"td\");\n",
       "    cell.style = \"padding: 5px; background-color: white;\";\n",
       "    cell.rowSpan = 2;\n",
       "    button = document.createElement(\"input\");\n",
       "    button.style = \"height: 100px; background-color: #c0ffc0;\";\n",
       "    button.type = \"button\";\n",
       "    button.value = \"Match\";\n",
       "    button.addEventListener(\"click\", Match, false);\n",
       "    cell.appendChild(button);\n",
       "    row.appendChild(cell);\n",
       "    cell = document.createElement(\"td\");\n",
       "    cell.style = \"background-color: white;\"\n",
       "    button = document.createElement(\"input\");\n",
       "    button.style = \"height: 40px; background-color: #ffc0c0;\";\n",
       "    button.type = \"button\";\n",
       "    button.value = \"DEL\";\n",
       "    button.addEventListener(\"click\", Delete, false);\n",
       "    cell.appendChild(button);\n",
       "    row.appendChild(cell);\n",
       "    cell = document.createElement(\"td\");\n",
       "    cell.style = \"padding-left: 20px; background-color: white;\"\n",
       "    cell.appendChild(topseq);\n",
       "    row.appendChild(cell);\n",
       "    tbody.appendChild(row);\n",
       "\n",
       "    row = document.createElement(\"tr\");\n",
       "    cell = document.createElement(\"td\");\n",
       "    cell.style = \"background-color: white;\"\n",
       "    button = document.createElement(\"input\");\n",
       "    button.style = \"height: 40px; background-color: #ffc0c0;\";\n",
       "    button.type = \"button\";\n",
       "    button.value = \"INS\";\n",
       "    button.addEventListener(\"click\", Insert, false);\n",
       "    cell.appendChild(button);\n",
       "    row.appendChild(cell);\n",
       "    cell = document.createElement(\"td\");\n",
       "    cell.appendChild(botseq);\n",
       "    cell.style = \"padding-left: 20px; background-color: white;\"\n",
       "    row.appendChild(cell);\n",
       "    tbody.appendChild(row);\n",
       "    table.appendChild(tbody);\n",
       "\n",
       "    board.innerHTML = \"\";\n",
       "    board.appendChild(table);\n",
       "    score = 0;\n",
       "    document.getElementById(\"scoreboard\").innerHTML = score;\n",
       "}\n",
       "\n",
       "function selection(name, check) {\n",
       "    var element = document.createElement(\"select\");\n",
       "    element.id = name;\n",
       "    for (var key in Insulin) {\n",
       "        var option = document.createElement(\"option\");\n",
       "        option.value = key;\n",
       "        option.appendChild(document.createTextNode(key));\n",
       "        option.selected = (key == check);\n",
       "        element.appendChild(option);\n",
       "    }\n",
       "    return element;\n",
       "}\n",
       "\n",
       "element.append(selection(\"top\", \"Human\"));\n",
       "element.append(\"&nbsp;&nbsp;&nbsp;\");\n",
       "element.append(selection(\"bot\", \"Dog\"));\n",
       "element.append(\"&nbsp;&nbsp;&nbsp;\");\n",
       "\n",
       "var start = document.createElement(\"input\");\n",
       "start.type = \"button\";\n",
       "start.value = \"Start\";\n",
       "start.addEventListener(\"click\", onStart, false);\n",
       "element.append(start);\n",
       "\n",
       "element.append(\"&nbsp;&nbsp;&nbsp; <b>Score:</b> \");\n",
       "var scoreboard = document.createElement(\"span\");\n",
       "scoreboard.id = \"scoreboard\";\n",
       "scoreboard.innerHTML = score;\n",
       "element.append(scoreboard);\n",
       "\n",
       "var board = document.createElement(\"div\");\n",
       "board.id = \"board\";\n",
       "board.style = \"margin: 20px; height: 160px;\"\n",
       "element.append(board);\n",
       "\n",
       "// Hidden-Cell"
      ],
      "text/plain": [
       "<IPython.core.display.Javascript object>"
      ]
     },
     "metadata": {},
     "output_type": "display_data"
    }
   ],
   "source": [
    "%%javascript\n",
    "\n",
    "var Insulin = {\n",
    "    \"Human\" : \"MALWMRLLPLLALLALWGPDPAAAFVNQHLCGSHLVEALYLVCGERGFFYTPKTRREAEDLQGSLQPLALEGSLQKRGIVEQCCTSICSLYQLENYCN\",    \n",
    "    \"Dog\" : \"MALWMRLLPLLALLALWAPAPTRAFVNQHLCGSHLVEALYLVCGERGFFYTPKARREVEDLQVRDVELAGAPGEGGLQPLALEGALQKRGIVEQCCTSICSLYQLENYCN\",\n",
    "    \"Cat\" : \"MAPWTRLLPLLALLSLWIPAPTRAFVNQHLCGSHLVEALYLVCGERGFFYTPKARREAEDLQGKDAELGEAPGAGGLQPSALEAPLQKRGIVEQCCASVCSLYQLEHYCN\",\n",
    "    \"Pig\" : \"MALWTRLLPLLALLALWAPAPAQAFVNQHLCGSHLVEALYLVCGERGFFYTPKARREAENPQAGAVELGGGLGGLQALALEGPPQKRGIVEQCCTSICSLYQLENYCN\"\n",
    "};\n",
    "\n",
    "var score = 0;\n",
    "var topIndex = 0;\n",
    "var botIndex = 0;\n",
    "\n",
    "function Match() {\n",
    "    var top = Insulin[document.getElementById(\"top\").value];\n",
    "    var bot = Insulin[document.getElementById(\"bot\").value];\n",
    "    score += (top[topIndex] == bot[botIndex]) ? 1 : 0;\n",
    "    topIndex += 1;\n",
    "    botIndex += 1;    \n",
    "    document.getElementById(\"topseq\").innerHTML = top.substring(topIndex,topIndex+24);\n",
    "    document.getElementById(\"botseq\").innerHTML = bot.substring(botIndex,botIndex+24);\n",
    "    document.getElementById(\"scoreboard\").innerHTML = score;    \n",
    "}\n",
    "\n",
    "function Delete() {\n",
    "    var top = Insulin[document.getElementById(\"top\").value];\n",
    "    score -= 1;\n",
    "    topIndex += 1;    \n",
    "    document.getElementById(\"topseq\").innerHTML = top.substring(topIndex,topIndex+24);\n",
    "    document.getElementById(\"scoreboard\").innerHTML = score;    \n",
    "}\n",
    "\n",
    "function Insert() {\n",
    "    var bot = Insulin[document.getElementById(\"bot\").value];\n",
    "    score -= 1;\n",
    "    botIndex += 1;    \n",
    "    document.getElementById(\"botseq\").innerHTML = bot.substring(botIndex,botIndex+24);\n",
    "    document.getElementById(\"scoreboard\").innerHTML = score;    \n",
    "}\n",
    "\n",
    "\n",
    "function onStart() {\n",
    "    var row, cell, button;\n",
    "    var board = document.getElementById(\"board\");\n",
    "    var table = document.createElement(\"table\");\n",
    "    var tbody = document.createElement(\"tbody\");\n",
    "    \n",
    "    topIndex = 0;\n",
    "    botIndex = 0;\n",
    "    var topseq = document.createElement(\"pre\");\n",
    "    topseq.id = \"topseq\";\n",
    "    topseq.style = \"color: blue; font-size: 50px; line-height: 100%;\"\n",
    "    topseq.innerHTML = Insulin[document.getElementById(\"top\").value].substring(topIndex,topIndex+24);\n",
    "    \n",
    "    var botseq = document.createElement(\"pre\");\n",
    "    botseq.id = \"botseq\";\n",
    "    botseq.style = \"color: blue; font-size: 50px; line-height: 100%;\"\n",
    "    botseq.innerHTML = Insulin[document.getElementById(\"bot\").value].substring(topIndex,topIndex+24);\n",
    "    \n",
    "    row = document.createElement(\"tr\");\n",
    "    cell = document.createElement(\"td\");\n",
    "    cell.style = \"padding: 5px; background-color: white;\";\n",
    "    cell.rowSpan = 2;\n",
    "    button = document.createElement(\"input\");\n",
    "    button.style = \"height: 100px; background-color: #c0ffc0;\";\n",
    "    button.type = \"button\";\n",
    "    button.value = \"Match\";\n",
    "    button.addEventListener(\"click\", Match, false);\n",
    "    cell.appendChild(button);\n",
    "    row.appendChild(cell);\n",
    "    cell = document.createElement(\"td\");\n",
    "    cell.style = \"background-color: white;\"\n",
    "    button = document.createElement(\"input\");\n",
    "    button.style = \"height: 40px; background-color: #ffc0c0;\";\n",
    "    button.type = \"button\";\n",
    "    button.value = \"DEL\";\n",
    "    button.addEventListener(\"click\", Delete, false);\n",
    "    cell.appendChild(button);\n",
    "    row.appendChild(cell);\n",
    "    cell = document.createElement(\"td\");\n",
    "    cell.style = \"padding-left: 20px; background-color: white;\"\n",
    "    cell.appendChild(topseq);\n",
    "    row.appendChild(cell);\n",
    "    tbody.appendChild(row);\n",
    "\n",
    "    row = document.createElement(\"tr\");\n",
    "    cell = document.createElement(\"td\");\n",
    "    cell.style = \"background-color: white;\"\n",
    "    button = document.createElement(\"input\");\n",
    "    button.style = \"height: 40px; background-color: #ffc0c0;\";\n",
    "    button.type = \"button\";\n",
    "    button.value = \"INS\";\n",
    "    button.addEventListener(\"click\", Insert, false);\n",
    "    cell.appendChild(button);\n",
    "    row.appendChild(cell);\n",
    "    cell = document.createElement(\"td\");\n",
    "    cell.appendChild(botseq);\n",
    "    cell.style = \"padding-left: 20px; background-color: white;\"\n",
    "    row.appendChild(cell);\n",
    "    tbody.appendChild(row);\n",
    "    table.appendChild(tbody);\n",
    "\n",
    "    board.innerHTML = \"\";\n",
    "    board.appendChild(table);\n",
    "    score = 0;\n",
    "    document.getElementById(\"scoreboard\").innerHTML = score;\n",
    "}\n",
    "\n",
    "function selection(name, check) {\n",
    "    var element = document.createElement(\"select\");\n",
    "    element.id = name;\n",
    "    for (var key in Insulin) {\n",
    "        var option = document.createElement(\"option\");\n",
    "        option.value = key;\n",
    "        option.appendChild(document.createTextNode(key));\n",
    "        option.selected = (key == check);\n",
    "        element.appendChild(option);\n",
    "    }\n",
    "    return element;\n",
    "}\n",
    "\n",
    "element.append(selection(\"top\", \"Human\"));\n",
    "element.append(\"&nbsp;&nbsp;&nbsp;\");\n",
    "element.append(selection(\"bot\", \"Dog\"));\n",
    "element.append(\"&nbsp;&nbsp;&nbsp;\");\n",
    "\n",
    "var start = document.createElement(\"input\");\n",
    "start.type = \"button\";\n",
    "start.value = \"Start\";\n",
    "start.addEventListener(\"click\", onStart, false);\n",
    "element.append(start);\n",
    "\n",
    "element.append(\"&nbsp;&nbsp;&nbsp; <b>Score:</b> \");\n",
    "var scoreboard = document.createElement(\"span\");\n",
    "scoreboard.id = \"scoreboard\";\n",
    "scoreboard.innerHTML = score;\n",
    "element.append(scoreboard);\n",
    "\n",
    "var board = document.createElement(\"div\");\n",
    "board.id = \"board\";\n",
    "board.style = \"margin: 20px; height: 160px;\"\n",
    "element.append(board);\n",
    "\n",
    "// Hidden-Cell"
   ]
  },
  {
   "cell_type": "markdown",
   "metadata": {
    "nbpresent": {
     "id": "842fbe75-489d-4e86-a29d-222a5eb94adf"
    },
    "slideshow": {
     "slide_type": "fragment"
    }
   },
   "source": [
    "<p style=\"text-align: right; clear: right;\">4</p>"
   ]
  },
  {
   "cell_type": "markdown",
   "metadata": {
    "nbpresent": {
     "id": "731cbdb8-e863-4089-972b-9888b549a67e"
    },
    "slideshow": {
     "slide_type": "slide"
    }
   },
   "source": [
    "# How do you get the highest possible score?\n",
    "\n",
    "* The solution may not be unique\n",
    "<img src=\"http://csbio.unc.edu/mcmillan/Comp555S18/Media/BruteForce.jpg\" width=\"250\" style=\"float: right; padding-right: 30px\">\n",
    "\n",
    "* How many presses?\n",
    "  - Minimum moves = *Max(len(top), len(bot))*\n",
    "  - Maximum moves = *len(top) + len(bot)*\n",
    "\n",
    "* How many possible moves?\n",
    "  - Less than $O(3^{len(top) + len(bot)})$\n",
    "\n",
    "* How big are these for our problem instance?\n",
    "  - len(Human) = 98, len(dog) = 110\n",
    "  - $3^{208} \\approx 1.73 \\times 10^{99}$, almost a googol (not a google)\n",
    "\n",
    "* What algorithm is solves this problem\n",
    "  - Make each move by considering only a short horizon following the current aligment thus far\n",
    "\n",
    "<p style=\"text-align: right; clear: right;\">5</p>"
   ]
  },
  {
   "cell_type": "markdown",
   "metadata": {
    "nbpresent": {
     "id": "def9db65-3649-442f-bad6-9e48f99474ad"
    },
    "slideshow": {
     "slide_type": "slide"
    }
   },
   "source": [
    "# There is an effcient solution\n",
    "\n",
    "* It relies on a rather suprising idea\n",
    "\n",
    "  - The best score can be found for the len(top) and len(bot) strings by finding the best score for every pair of substrings len(top[0:*n*]) and len(bot[0:*m*]) for all values of *n* up to len(top) and *m* up to len(bot) \n",
    "  - Finding this solution requires only $O(len(top)len(bot))$ steps\n",
    "  - It also requires a table of size $Max(len(top),len(bot))$\n",
    "\n",
    "* But before we solve this problem, let's look at another related related problem\n",
    "\n",
    "* Finding a best city tour on a Manhattan grid\n",
    "\n",
    "<img src=\"http://csbio.unc.edu/mcmillan/Comp555S18/Media/ManhattanGrid.jpg\" width=\"400\">\n",
    "\n",
    "<p style=\"text-align: right; clear: right;\">6</p>"
   ]
  },
  {
   "cell_type": "markdown",
   "metadata": {
    "nbpresent": {
     "id": "764fb0e1-f693-4c62-a016-d3b497ba5269"
    },
    "slideshow": {
     "slide_type": "slide"
    }
   },
   "source": [
    "# Manhattan Tourist Problem (MTP)\n",
    "\n",
    "Imagine seeking a path from a given source to given destination in a Manhattan-like city grid that maximizes the number of attractions (<span style=\"color: red;\">\\*</span>) passed. With the following caveat– at every step you must make progress towards the goal.\n",
    "We treat the city map as a graph, with a *vertices* at each intersection, and *weighted edges* along each block. The weights are the number of attractions along each block.\n",
    "\n",
    "<img src=\"http://csbio.unc.edu/mcmillan/Comp555S18/Media/MTPVer01.png\" width=\"400\">\n",
    "\n",
    "<p style=\"text-align: right; clear: right;\">7</p>"
   ]
  },
  {
   "cell_type": "markdown",
   "metadata": {
    "nbpresent": {
     "id": "bcbad0df-0b9b-4f42-bb82-994ce08cd076"
    },
    "slideshow": {
     "slide_type": "slide"
    }
   },
   "source": [
    "# Manhattan Tourist Game\n",
    "\n",
    "**Goal:** Find the maximum weighted shortest path in a grid.\n",
    "\n",
    "**Input:** A weighted grid G with two distinct vertices, one labeled *source* and the other labeled *destination*\n",
    "\n",
    "**Output:** A *shortest* path in G from *source* to *destination* with the *greatest* weight\n",
    "  * There are many *shortest* paths that go south 4 blocks and east 4 blocks\n",
    "  * Of those paths, which sees the most sites?\n",
    "\n",
    "<img src=\"http://csbio.unc.edu/mcmillan/Comp555S18/Media/TallestMidget.jpg\" width=\"150\">\n",
    "\n",
    "<p style=\"text-align: right; clear: right;\">8</p>"
   ]
  },
  {
   "cell_type": "markdown",
   "metadata": {
    "nbpresent": {
     "id": "53cb24ce-7c49-46d0-ab9b-de9a23465e10"
    },
    "slideshow": {
     "slide_type": "slide"
    }
   },
   "source": [
    "# MTP: A Greedy Algorithm Is Not Optimal\n",
    "\n",
    "<img src=\"http://csbio.unc.edu/mcmillan/Comp555S18/Media/MTPGreedy.png\" width=\"500\">\n",
    "\n",
    "Different types of ***Greedy***\n",
    "* <span style=\"color: red;\">*Short horizon*</span>: At each block select the direction where the next block offers the most attractions\n",
    "* <span style=\"color: magenta;\">*Long horizon*</span>: Look ahead at all streets between your current position and the destination, and go towards the street with the most attractions\n",
    "\n",
    "<p style=\"text-align: right; clear: right;\">9</p>"
   ]
  },
  {
   "cell_type": "markdown",
   "metadata": {
    "nbpresent": {
     "id": "70049119-8e2d-4c96-8d6d-110d5dd2e948"
    },
    "slideshow": {
     "slide_type": "slide"
    }
   },
   "source": [
    "# MTP: Observations\n",
    "\n",
    "* There are limited number of ways to reach any destination\n",
    "  - For example, in our grid, one can reach the desitination node, *(n,m)*, from either the north, *(n,m-1)*, or the    west *(n-1,m)*.\n",
    "  - for each of those routes there is a known number of sites to see, so the best path is:\n",
    "  \n",
    "  $$Score(n,m) = Max(Score(n-1,m)+Edge(n-1,m), Score(n,m-1)+Edge(n,m-1))$$\n",
    "\n",
    "\n",
    "  - Why is there only one edge per intersection? Because only one direction makes progress to our goal\n",
    "  - This rule applies recursively with the base case\n",
    "  \n",
    "  $$Score(0,0) = 0$$\n",
    "\n",
    "* We could write this strategy as a recursive algorithm, but it would still not be effcient. Why?\n",
    "\n",
    "<img src=\"http://csbio.unc.edu/mcmillan/Comp555S18/Media/MTPInsight.png\" width=\"320\">\n",
    "\n",
    "<p style=\"text-align: right; clear: right;\">10</p>"
   ]
  },
  {
   "cell_type": "markdown",
   "metadata": {
    "nbpresent": {
     "id": "c752781c-1fe2-4298-ada0-1fb2ffc8d8d2"
    },
    "slideshow": {
     "slide_type": "slide"
    }
   },
   "source": [
    "# A New Solution Strategy\n",
    "\n",
    "*Dynamic Programming* is a technique for *computing recurrence relations efficiently by storing and reusing intermediate results*\n",
    "\n",
    "Three keys to constructing a dynamic programming solution:\n",
    "  1. Formulate the answer as a recurrence relation\n",
    "  2. Consider all instances of the recurrence at each step (In our case this means all paths that lead to a vertex).\n",
    "  3. Order evaluations so you will always have precomputed the needed partial results\n",
    "\n",
    "**Irony:** Often the most effcient approach to solving a specific problem involves solving ***every*** smaller subproblem.\n",
    "\n",
    "<p style=\"text-align: right; clear: right;\">11</p>"
   ]
  },
  {
   "cell_type": "markdown",
   "metadata": {
    "nbpresent": {
     "id": "3eda724c-a441-4f44-8261-61cb9170fb6d"
    },
    "slideshow": {
     "slide_type": "slide"
    }
   },
   "source": [
    "# MTP Dynamic Program Solution\n",
    "\n",
    "<img src=\"http://csbio.unc.edu/mcmillan/Comp555S18/Media/MTP2.png\" width=\"600\">\n",
    "\n",
    "The solution may not be unique, but it will have the best possible score\n",
    "\n",
    "<p style=\"text-align: right; clear: right;\">12</p>"
   ]
  },
  {
   "cell_type": "markdown",
   "metadata": {
    "nbpresent": {
     "id": "1917e060-2032-4982-a850-3d74cd62e2a0"
    },
    "slideshow": {
     "slide_type": "slide"
    }
   },
   "source": [
    "# MTP Dynamic Program Strategy\n",
    "\n",
    "* Instead of solving the Manhattan Tourist problem directly, (i.e. the path from (0,0) to (n,m)) we will solve a more general problem: find the longest path from (0,0) to any arbitrary vertex (i,j).\n",
    "\n",
    "\n",
    "* If the longest path from (0,0) to (n,m) passes through some vertex (i,j), then the path from (0,0) to (i,j) must be the longest. Otherwise, you could increase the weight along your path by changing it.\n",
    "\n",
    "<img src=\"http://csbio.unc.edu/mcmillan/Comp555S18/Media/cityblock.jpg\" width=\"500\">\n",
    "\n",
    "<p style=\"text-align: right; clear: right;\">13</p>"
   ]
  },
  {
   "cell_type": "markdown",
   "metadata": {
    "nbpresent": {
     "id": "ab388926-c2e7-4aee-956b-419b732fb20f"
    },
    "slideshow": {
     "slide_type": "slide"
    }
   },
   "source": [
    "# MTP: Dynamic Program\n",
    "\n",
    "* Calculate optimal path score for *every* vertex in the graph between our source and destination\n",
    "* Each vertex’s score is the maximum of the prior vertices score plus the weight of the connecting edge in between\n",
    "\n",
    "<img src=\"http://csbio.unc.edu/mcmillan/Comp555S18/Media/MTPOrder.png\" width=\"500\">\n",
    "\n",
    "<p style=\"text-align: right; clear: right;\">14</p>"
   ]
  },
  {
   "cell_type": "markdown",
   "metadata": {
    "nbpresent": {
     "id": "78fcce82-e469-44f5-87b0-51694359aaf2"
    },
    "slideshow": {
     "slide_type": "slide"
    }
   },
   "source": [
    "# MTP: Dynamic Program Continued\n",
    "\n",
    "<img src=\"http://csbio.unc.edu/mcmillan/Comp555S18/Media/MTPOrderPart2.png\" width=\"500\">\n",
    "\n",
    "<p style=\"text-align: right; clear: right;\">15</p>"
   ]
  },
  {
   "cell_type": "markdown",
   "metadata": {
    "nbpresent": {
     "id": "e7b0c756-f18a-4324-9f0a-5762b2be66a1"
    },
    "slideshow": {
     "slide_type": "slide"
    }
   },
   "source": [
    "# MTP: Dynamic Program Continued\n",
    "\n",
    "<img src=\"http://csbio.unc.edu/mcmillan/Comp555S18/Media/MTPOrderPart3.png\" width=\"500\">\n",
    "\n",
    "<p style=\"text-align: right; clear: right;\">16</p>"
   ]
  },
  {
   "cell_type": "markdown",
   "metadata": {
    "nbpresent": {
     "id": "a983e18d-724e-4fc3-9a08-af5240493c42"
    },
    "slideshow": {
     "slide_type": "slide"
    }
   },
   "source": [
    "# MTP: Dynamic Program Continued\n",
    "\n",
    "<img src=\"http://csbio.unc.edu/mcmillan/Comp555S18/Media/MTPOrderPart4.png\" width=\"500\">\n",
    "\n",
    "<p style=\"text-align: right; clear: right;\">17</p>"
   ]
  },
  {
   "cell_type": "markdown",
   "metadata": {
    "nbpresent": {
     "id": "e0c796b9-6ae0-4544-b78f-9f1c39213ab3"
    },
    "slideshow": {
     "slide_type": "slide"
    }
   },
   "source": [
    "# MTP: Dynamic Program Continued\n",
    "\n",
    "<img src=\"http://csbio.unc.edu/mcmillan/Comp555S18/Media/MTPOrderPart5.png\" width=\"500\">\n",
    "\n",
    "<p style=\"text-align: right; clear: right;\">18</p>"
   ]
  },
  {
   "cell_type": "markdown",
   "metadata": {
    "nbpresent": {
     "id": "95364961-f99f-482b-919e-ea618388453f"
    },
    "slideshow": {
     "slide_type": "slide"
    }
   },
   "source": [
    "# MTP: Dynamic Program Continued\n",
    "\n",
    "<img src=\"http://csbio.unc.edu/mcmillan/Comp555S18/Media/MTPOrderPart6.png\" width=\"400\">\n",
    "\n",
    "* Once the *destination* node (intersection) is reached, we’re done.\n",
    "* Our table will have the answer of the maximum number of attractions stored in the entry associated with the destination.\n",
    "* We use the *links* back in the table to recover the path. (Backtracking)\n",
    "\n",
    "<p style=\"text-align: right; clear: right;\">19</p>"
   ]
  },
  {
   "cell_type": "markdown",
   "metadata": {
    "nbpresent": {
     "id": "ada914fd-9bfa-4b4c-b3af-bf9e2b58e67b"
    },
    "slideshow": {
     "slide_type": "slide"
    }
   },
   "source": [
    "# MTP: Recurrence\n",
    "\n",
    "Computing the score for a point (i,j) by the recurrence relation:\n",
    "\n",
    "<img src=\"http://csbio.unc.edu/mcmillan/Comp555S18/Media/MTPRecurrence.png\" width=\"600\">\n",
    "\n",
    "The running time is *nm*  for a n &times; m grid\n",
    " * (You visit all intersections once, and perform 2 tests)\n",
    "\n",
    "(n = # of rows, m = # of columns)\n",
    "\n",
    "<p style=\"text-align: right; clear: right;\">20</p>"
   ]
  },
  {
   "cell_type": "markdown",
   "metadata": {
    "nbpresent": {
     "id": "1a9ed0af-bafc-4416-988a-a9325aaad2df"
    },
    "slideshow": {
     "slide_type": "slide"
    }
   },
   "source": [
    "# Manhattan Is Not A Perfect Grid\n",
    "\n",
    "<img src=\"http://csbio.unc.edu/mcmillan/Comp555S18/Media/Broadway.png\" width=\"500\">\n",
    "\n",
    "* Easy to fix. Just adds more recursion cases. \n",
    "* The score at point B is given by:\n",
    "\n",
    "<img src=\"http://csbio.unc.edu/mcmillan/Comp555S18/Media/DiagGrid.png\" width=\"400\">\n",
    "\n",
    "<p style=\"text-align: right; clear: right;\">21</p>"
   ]
  },
  {
   "cell_type": "markdown",
   "metadata": {
    "nbpresent": {
     "id": "1465ce6f-4573-47c8-8635-385607666027"
    },
    "slideshow": {
     "slide_type": "slide"
    }
   },
   "source": [
    "# Other ways to safely explore the Manhattan\n",
    "\n",
    "* We chose to evaluate our table in a particular order. Uniform distances from the source (all points one block away, then 2 blocks, etc.)\n",
    "* Other strategies:\n",
    "  - Column by column\n",
    "  - Row by row\n",
    "  - Along diagonals\n",
    "* This choice can have performance implications\n",
    "\n",
    "<table style=\"border: none;\">\n",
    "<tr style=\"border: none;\">\n",
    "<td style=\"border: none; padding: 0px 20px;\"><img src=\"http://csbio.unc.edu/mcmillan/Comp555S18/Media/Traversal2.png\" width=\"192px\"></td>\n",
    "<td style=\"border: none;\"><img src=\"http://csbio.unc.edu/mcmillan/Comp555S18/Media/Traversal1.png\" width=\"400px\"></td>\n",
    "</tr>\n",
    "</table>\n",
    "\n",
    "<p style=\"text-align: right; clear: right;\">22</p>"
   ]
  },
  {
   "cell_type": "markdown",
   "metadata": {
    "nbpresent": {
     "id": "e9837de8-b46d-4eb0-ba83-6ff1813b7a62"
    },
    "slideshow": {
     "slide_type": "slide"
    }
   },
   "source": [
    "# Next Time (after the break)\n",
    "\n",
    "* Return to biology\n",
    "* Solving sequence alignments using Dynamic Programming\n",
    "\n",
    "<img src=\"http://csbio.unc.edu/mcmillan/Comp555S18/Media/McDNAs.png\" width=\"600\">\n",
    "\n",
    "<p style=\"text-align: right; clear: right;\">23</p>"
   ]
  },
  {
   "cell_type": "code",
   "execution_count": 1,
   "metadata": {
    "nbpresent": {
     "id": "2a38a35f-924b-4b6e-abf5-13fd9b32f3da"
    },
    "slideshow": {
     "slide_type": "skip"
    }
   },
   "outputs": [
    {
     "data": {
      "text/html": [
       "<script>\n",
       "code_show=true; \n",
       "function code_toggle() {\n",
       "if (code_show){\n",
       "    $(\"div.input:contains('Hidden-Cell')\").hide();\n",
       "} else {\n",
       "    $(\"div.input:contains('Hidden-Cell')\").show();\n",
       "}\n",
       "code_show = !code_show;\n",
       "} \n",
       "$( document ).ready(code_toggle);\n",
       "</script>\n",
       "<form action=\"javascript:code_toggle()\"><input type=\"submit\" value=\"Toggle Hidden Cells\"></form>"
      ],
      "text/plain": [
       "<IPython.core.display.HTML object>"
      ]
     },
     "execution_count": 1,
     "metadata": {},
     "output_type": "execute_result"
    }
   ],
   "source": [
    "    from IPython.display import HTML\n",
    "\n",
    "HTML('''<script>\n",
    "code_show=true; \n",
    "function code_toggle() {\n",
    "    if (code_show){\n",
    "        $(\"div.input:contains('Hidden-Cell')\").hide();\n",
    "    } else {\n",
    "        $(\"div.input:contains('Hidden-Cell')\").show();\n",
    "    }\n",
    "    code_show = !code_show;\n",
    "} \n",
    "$( document ).ready(code_toggle);\n",
    "</script>\n",
    "<form action=\"javascript:code_toggle()\"><input type=\"submit\" value=\"Toggle Hidden Cells\"></form>''')"
   ]
  },
  {
   "cell_type": "code",
   "execution_count": null,
   "metadata": {},
   "outputs": [],
   "source": []
  }
 ],
 "metadata": {
  "anaconda-cloud": {},
  "celltoolbar": "Slideshow",
  "kernelspec": {
   "display_name": "Python 2",
   "language": "python",
   "name": "python2"
  },
  "language_info": {
   "codemirror_mode": {
    "name": "ipython",
    "version": 2
   },
   "file_extension": ".py",
   "mimetype": "text/x-python",
   "name": "python",
   "nbconvert_exporter": "python",
   "pygments_lexer": "ipython2",
   "version": "2.7.14"
  },
  "nbpresent": {
   "slides": {
    "12113c98-e8d4-409f-b426-81222fb1adef": {
     "id": "12113c98-e8d4-409f-b426-81222fb1adef",
     "prev": "c625595a-ab57-428c-97c4-ecf703223503",
     "regions": {
      "e29993a1-0c41-49d3-93aa-9c5b96833437": {
       "attrs": {
        "height": 0.96,
        "width": 0.96,
        "x": 0.02,
        "y": 0.02
       },
       "content": {
        "cell": "731cbdb8-e863-4089-972b-9888b549a67e",
        "part": "whole"
       },
       "id": "e29993a1-0c41-49d3-93aa-9c5b96833437"
      }
     }
    },
    "18f0f8f1-0eb4-4567-bdd5-04b5eb6bdc24": {
     "id": "18f0f8f1-0eb4-4567-bdd5-04b5eb6bdc24",
     "prev": "a916522c-389f-4b74-9923-f0f91e0120c0",
     "regions": {
      "09a3da2b-6dfb-4359-886b-e318530c2d57": {
       "attrs": {
        "height": 0.96,
        "width": 0.96,
        "x": 0.02,
        "y": 0.02
       },
       "content": {
        "cell": "ada914fd-9bfa-4b4c-b3af-bf9e2b58e67b",
        "part": "whole"
       },
       "id": "09a3da2b-6dfb-4359-886b-e318530c2d57"
      }
     }
    },
    "1c7da110-84b7-4e09-a0dd-e71b20d0e6aa": {
     "id": "1c7da110-84b7-4e09-a0dd-e71b20d0e6aa",
     "prev": "519b8b77-3df5-411f-8148-90ec1bcc6cf4",
     "regions": {
      "543fd525-a1af-4b56-b80a-88655c046e63": {
       "attrs": {
        "height": 0.96,
        "width": 0.96,
        "x": 0.02,
        "y": 0.02
       },
       "content": {
        "cell": "53cb24ce-7c49-46d0-ab9b-de9a23465e10",
        "part": "whole"
       },
       "id": "543fd525-a1af-4b56-b80a-88655c046e63"
      }
     }
    },
    "260fc22c-bee1-48da-b4f0-79ec1eb98de6": {
     "id": "260fc22c-bee1-48da-b4f0-79ec1eb98de6",
     "prev": "d8f2673b-c184-4336-b8c9-a8fc1e1ecf85",
     "regions": {
      "32d44d91-e698-4316-9c33-57cb5cf4b184": {
       "attrs": {
        "height": 0.96,
        "width": 0.96,
        "x": 0.02,
        "y": 0.02
       },
       "content": {
        "cell": "c752781c-1fe2-4298-ada0-1fb2ffc8d8d2",
        "part": "whole"
       },
       "id": "32d44d91-e698-4316-9c33-57cb5cf4b184"
      }
     }
    },
    "3b192031-dcd6-4e9b-9123-3551c79cd48e": {
     "id": "3b192031-dcd6-4e9b-9123-3551c79cd48e",
     "prev": "aa0e66d4-b286-4d6b-8b5d-b2da5ce66274",
     "regions": {
      "b271d732-d17d-4cc8-a1c2-f6debd5ce77f": {
       "attrs": {
        "height": 0.96,
        "width": 0.96,
        "x": 0.02,
        "y": 0.02
       },
       "content": {
        "cell": "764fb0e1-f693-4c62-a016-d3b497ba5269",
        "part": "whole"
       },
       "id": "b271d732-d17d-4cc8-a1c2-f6debd5ce77f"
      }
     }
    },
    "41d56f91-2de9-4d33-bbc3-b6473fd1f2b2": {
     "id": "41d56f91-2de9-4d33-bbc3-b6473fd1f2b2",
     "prev": "94845bbe-5a5d-4842-9587-1433dd004aa7",
     "regions": {
      "dd801343-99d7-49cd-8d00-433124fb46ff": {
       "attrs": {
        "height": 0.96,
        "width": 0.96,
        "x": 0.02,
        "y": 0.02
       },
       "content": {
        "cell": "e0c796b9-6ae0-4544-b78f-9f1c39213ab3",
        "part": "whole"
       },
       "id": "dd801343-99d7-49cd-8d00-433124fb46ff"
      }
     }
    },
    "519b8b77-3df5-411f-8148-90ec1bcc6cf4": {
     "id": "519b8b77-3df5-411f-8148-90ec1bcc6cf4",
     "prev": "3b192031-dcd6-4e9b-9123-3551c79cd48e",
     "regions": {
      "971f8edd-7dfe-421e-a353-b756bb4a1d68": {
       "attrs": {
        "height": 0.96,
        "width": 0.96,
        "x": 0.02,
        "y": 0.02
       },
       "content": {
        "cell": "bcbad0df-0b9b-4f42-bb82-994ce08cd076",
        "part": "whole"
       },
       "id": "971f8edd-7dfe-421e-a353-b756bb4a1d68"
      }
     }
    },
    "54fce86b-551f-4247-abfb-c7062e960043": {
     "id": "54fce86b-551f-4247-abfb-c7062e960043",
     "prev": "18f0f8f1-0eb4-4567-bdd5-04b5eb6bdc24",
     "regions": {
      "47dfddf3-fc35-4c85-8ed8-f565f93500ae": {
       "attrs": {
        "height": 0.96,
        "width": 0.96,
        "x": 0.02,
        "y": 0.02
       },
       "content": {
        "cell": "1a9ed0af-bafc-4416-988a-a9325aaad2df",
        "part": "whole"
       },
       "id": "47dfddf3-fc35-4c85-8ed8-f565f93500ae"
      }
     }
    },
    "554ca677-0c14-434d-b02b-d2b9a9e0a081": {
     "id": "554ca677-0c14-434d-b02b-d2b9a9e0a081",
     "prev": null,
     "regions": {
      "4c248a35-8c34-4ce3-b39d-3a090ed5592c": {
       "attrs": {
        "height": 0.96,
        "width": 0.96,
        "x": 0.02,
        "y": 0.02
       },
       "content": {
        "cell": "234f8060-ea6c-48a7-b261-d4b5ade6cf4b",
        "part": "whole"
       },
       "id": "4c248a35-8c34-4ce3-b39d-3a090ed5592c"
      }
     }
    },
    "585d6aac-c682-42b3-83d6-15f086b3b045": {
     "id": "585d6aac-c682-42b3-83d6-15f086b3b045",
     "prev": "ef115b5c-ddb4-4091-a768-cb3094eecc70",
     "regions": {
      "b64c9be8-ea64-4599-ba24-5127117d9dab": {
       "attrs": {
        "height": 0.96,
        "width": 0.96,
        "x": 0.02,
        "y": 0.02
       },
       "content": {
        "cell": "e7b0c756-f18a-4324-9f0a-5762b2be66a1",
        "part": "whole"
       },
       "id": "b64c9be8-ea64-4599-ba24-5127117d9dab"
      }
     }
    },
    "73d95228-84c7-482e-b450-6056bdb79e7c": {
     "id": "73d95228-84c7-482e-b450-6056bdb79e7c",
     "prev": "54fce86b-551f-4247-abfb-c7062e960043",
     "regions": {
      "cfdb0484-92d9-4a40-b9b1-bafa8ee35837": {
       "attrs": {
        "height": 0.96,
        "width": 0.96,
        "x": 0.02,
        "y": 0.02
       },
       "content": {
        "cell": "1465ce6f-4573-47c8-8635-385607666027",
        "part": "whole"
       },
       "id": "cfdb0484-92d9-4a40-b9b1-bafa8ee35837"
      }
     }
    },
    "8f965c18-a155-4384-97e6-a92eb9d2059e": {
     "id": "8f965c18-a155-4384-97e6-a92eb9d2059e",
     "prev": "bdac3916-73af-4fac-a712-451c9e5daf85",
     "regions": {
      "c1349ce8-bb5b-48d7-9114-9bffe4582e71": {
       "attrs": {
        "height": 0.96,
        "width": 0.96,
        "x": 0.02,
        "y": 0.02
       },
       "content": {
        "cell": "ab388926-c2e7-4aee-956b-419b732fb20f",
        "part": "whole"
       },
       "id": "c1349ce8-bb5b-48d7-9114-9bffe4582e71"
      }
     }
    },
    "94845bbe-5a5d-4842-9587-1433dd004aa7": {
     "id": "94845bbe-5a5d-4842-9587-1433dd004aa7",
     "prev": "585d6aac-c682-42b3-83d6-15f086b3b045",
     "regions": {
      "fe3df9cd-a162-4e0c-b410-1cae4a8130ec": {
       "attrs": {
        "height": 0.96,
        "width": 0.96,
        "x": 0.02,
        "y": 0.02
       },
       "content": {
        "cell": "a983e18d-724e-4fc3-9a08-af5240493c42",
        "part": "whole"
       },
       "id": "fe3df9cd-a162-4e0c-b410-1cae4a8130ec"
      }
     }
    },
    "96d73346-55ef-4ee2-bb35-daa4388b0f51": {
     "id": "96d73346-55ef-4ee2-bb35-daa4388b0f51",
     "prev": "73d95228-84c7-482e-b450-6056bdb79e7c",
     "regions": {
      "af932d2a-4899-4032-9cef-85f2a6c06d25": {
       "attrs": {
        "height": 0.96,
        "width": 0.96,
        "x": 0.02,
        "y": 0.02
       },
       "content": {
        "cell": "e9837de8-b46d-4eb0-ba83-6ff1813b7a62",
        "part": "whole"
       },
       "id": "af932d2a-4899-4032-9cef-85f2a6c06d25"
      }
     }
    },
    "a6cbbdd0-0573-4848-9067-4d665ea716ee": {
     "id": "a6cbbdd0-0573-4848-9067-4d665ea716ee",
     "prev": "ba137894-1153-4f6f-9847-2612fa5900bb",
     "regions": {
      "d9e5a958-e67c-40b6-93b7-c72e1d4f5f82": {
       "attrs": {
        "height": 0.96,
        "width": 0.96,
        "x": 0.02,
        "y": 0.02
       },
       "content": {
        "cell": "3071f7bf-8199-4127-9cbb-8dffed2967f3",
        "part": "whole"
       },
       "id": "d9e5a958-e67c-40b6-93b7-c72e1d4f5f82"
      }
     }
    },
    "a916522c-389f-4b74-9923-f0f91e0120c0": {
     "id": "a916522c-389f-4b74-9923-f0f91e0120c0",
     "prev": "41d56f91-2de9-4d33-bbc3-b6473fd1f2b2",
     "regions": {
      "d75be735-f829-4efa-9268-fae0cc81c352": {
       "attrs": {
        "height": 0.96,
        "width": 0.96,
        "x": 0.02,
        "y": 0.02
       },
       "content": {
        "cell": "95364961-f99f-482b-919e-ea618388453f",
        "part": "whole"
       },
       "id": "d75be735-f829-4efa-9268-fae0cc81c352"
      }
     }
    },
    "aa0e66d4-b286-4d6b-8b5d-b2da5ce66274": {
     "id": "aa0e66d4-b286-4d6b-8b5d-b2da5ce66274",
     "prev": "12113c98-e8d4-409f-b426-81222fb1adef",
     "regions": {
      "fa65923f-dfc8-490e-b316-84239afef95f": {
       "attrs": {
        "height": 0.96,
        "width": 0.96,
        "x": 0.02,
        "y": 0.02
       },
       "content": {
        "cell": "def9db65-3649-442f-bad6-9e48f99474ad",
        "part": "whole"
       },
       "id": "fa65923f-dfc8-490e-b316-84239afef95f"
      }
     }
    },
    "ba137894-1153-4f6f-9847-2612fa5900bb": {
     "id": "ba137894-1153-4f6f-9847-2612fa5900bb",
     "prev": "554ca677-0c14-434d-b02b-d2b9a9e0a081",
     "regions": {
      "0ec6515e-4309-4e16-a95b-a62507c04013": {
       "attrs": {
        "height": 0.96,
        "width": 0.96,
        "x": 0.02,
        "y": 0.02
       },
       "content": {
        "cell": "4a401125-ab5b-4982-b876-dc86b6ab6465",
        "part": "whole"
       },
       "id": "0ec6515e-4309-4e16-a95b-a62507c04013"
      }
     }
    },
    "bdac3916-73af-4fac-a712-451c9e5daf85": {
     "id": "bdac3916-73af-4fac-a712-451c9e5daf85",
     "prev": "c03005e0-3e94-47b5-951c-d2bfade078a9",
     "regions": {
      "15081206-e363-4dd7-bb37-906f20a54e0e": {
       "attrs": {
        "height": 0.96,
        "width": 0.96,
        "x": 0.02,
        "y": 0.02
       },
       "content": {
        "cell": "1917e060-2032-4982-a850-3d74cd62e2a0",
        "part": "whole"
       },
       "id": "15081206-e363-4dd7-bb37-906f20a54e0e"
      }
     }
    },
    "c03005e0-3e94-47b5-951c-d2bfade078a9": {
     "id": "c03005e0-3e94-47b5-951c-d2bfade078a9",
     "prev": "260fc22c-bee1-48da-b4f0-79ec1eb98de6",
     "regions": {
      "299dcc4b-a0ce-4eb6-bbde-839c370ad1b4": {
       "attrs": {
        "height": 0.96,
        "width": 0.96,
        "x": 0.02,
        "y": 0.02
       },
       "content": {
        "cell": "3eda724c-a441-4f44-8261-61cb9170fb6d",
        "part": "whole"
       },
       "id": "299dcc4b-a0ce-4eb6-bbde-839c370ad1b4"
      }
     }
    },
    "c625595a-ab57-428c-97c4-ecf703223503": {
     "id": "c625595a-ab57-428c-97c4-ecf703223503",
     "prev": "a6cbbdd0-0573-4848-9067-4d665ea716ee",
     "regions": {
      "196bf5aa-79e7-4d56-8016-1922a3f2cae4": {
       "attrs": {
        "height": 0.08348126941093094,
        "width": 0.96,
        "x": 0.02,
        "y": 0.8965187305890691
       },
       "content": {
        "cell": "842fbe75-489d-4e86-a29d-222a5eb94adf",
        "part": "whole"
       },
       "id": "196bf5aa-79e7-4d56-8016-1922a3f2cae4"
      },
      "1eddc218-b2b6-4e94-9a33-639b63224b5a": {
       "attrs": {
        "height": 0.697947279957083,
        "width": 0.96,
        "x": 0.019999999999999987,
        "y": 0.0017272474382917745
       },
       "content": {
        "cell": "fbc259b0-aecf-4071-9380-2edc94794734",
        "part": "whole"
       },
       "id": "1eddc218-b2b6-4e94-9a33-639b63224b5a"
      },
      "4fe0024b-4925-4651-a78f-18701878cf30": {
       "attrs": {
        "height": 0.3148857081163755,
        "width": 0.96,
        "x": 0.02,
        "y": 0.6773561553061994
       },
       "content": {
        "cell": "393557bc-2688-46db-9392-76f21666b9ad",
        "part": "outputs"
       },
       "id": "4fe0024b-4925-4651-a78f-18701878cf30"
      }
     }
    },
    "d8f2673b-c184-4336-b8c9-a8fc1e1ecf85": {
     "id": "d8f2673b-c184-4336-b8c9-a8fc1e1ecf85",
     "prev": "1c7da110-84b7-4e09-a0dd-e71b20d0e6aa",
     "regions": {
      "fcea1bda-e1d5-4894-90c6-b270efde179d": {
       "attrs": {
        "height": 0.96,
        "width": 0.96,
        "x": 0.02,
        "y": 0.02
       },
       "content": {
        "cell": "70049119-8e2d-4c96-8d6d-110d5dd2e948",
        "part": "whole"
       },
       "id": "fcea1bda-e1d5-4894-90c6-b270efde179d"
      }
     }
    },
    "ef115b5c-ddb4-4091-a768-cb3094eecc70": {
     "id": "ef115b5c-ddb4-4091-a768-cb3094eecc70",
     "prev": "8f965c18-a155-4384-97e6-a92eb9d2059e",
     "regions": {
      "1c03bad6-25c5-47da-8b1d-ae2453885f25": {
       "attrs": {
        "height": 0.96,
        "width": 0.96,
        "x": 0.02,
        "y": 0.02
       },
       "content": {
        "cell": "78fcce82-e469-44f5-87b0-51694359aaf2",
        "part": "whole"
       },
       "id": "1c03bad6-25c5-47da-8b1d-ae2453885f25"
      }
     }
    }
   },
   "themes": {
    "default": "c6d834fe-7cd9-4167-b0bc-db76b280a5d8",
    "theme": {
     "c6d834fe-7cd9-4167-b0bc-db76b280a5d8": {
      "backgrounds": {
       "my-background": {
        "background-color": "white"
       }
      },
      "id": "c6d834fe-7cd9-4167-b0bc-db76b280a5d8",
      "palette": {
       "black": {
        "id": "black",
        "rgb": [
         0,
         0,
         0
        ]
       },
       "blue": {
        "id": "blue",
        "rgb": [
         0,
         153,
         204
        ]
       },
       "gray": {
        "id": "gray",
        "rgb": [
         128,
         128,
         128
        ]
       },
       "red": {
        "id": "red",
        "rgb": [
         240,
         32,
         32
        ]
       },
       "white": {
        "id": "white",
        "rgb": [
         255,
         255,
         255
        ]
       }
      },
      "rules": {
       "code": {
        "font-size": 1.6
       },
       "h1": {
        "color": "blue",
        "font-size": 5.5,
        "text-align": "center"
       },
       "h2": {
        "color": "blue",
        "font-size": 3,
        "text-align": "center"
       },
       "h3": {
        "color": "black",
        "font-size": 3
       },
       "pre": {
        "font-size": 1.6
       },
       "ul li": {
        "color": "black",
        "font-size": 2.5
       },
       "ul li ul li": {
        "color": "black",
        "font-size": 2
       }
      },
      "text-base": {
       "font-family": "Georgia",
       "font-size": 2.5
      }
     }
    }
   }
  }
 },
 "nbformat": 4,
 "nbformat_minor": 1
}
