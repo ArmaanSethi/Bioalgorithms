{
 "cells": [
  {
   "cell_type": "code",
   "execution_count": 1,
   "metadata": {
    "nbpresent": {
     "id": "81dc1fb0-5145-4f2a-b0d8-8e2d8cee2242"
    },
    "slideshow": {
     "slide_type": "skip"
    }
   },
   "outputs": [
    {
     "data": {
      "application/javascript": [
       "var width = window.innerWidth || document.documentElement.clientWidth || document.body.clientWidth;\n",
       "var height = window.innerHeight || document.documentElement.clientHeight || document.body.clientHeight;\n",
       "\n",
       "IPython.notebook.kernel.execute(\"windowSize = (\" + width + \",\" + height + \")\");\n",
       "// suitable for small screens\n",
       "nbpresent.mode.tree.set(\n",
       "    [\"app\", \"theme-manager\", \"themes\", \"my-theme\"], \n",
       "    {\n",
       "    palette: {\n",
       "        \"blue\": { id: \"blue\", rgb: [0, 153, 204] },\n",
       "        \"black\": { id: \"black\", rgb: [0, 0, 0] },\n",
       "        \"white\": { id: \"white\", rgb: [255, 255, 255] },\n",
       "        \"red\": { id: \"red\", rgb: [240, 32, 32] },\n",
       "        \"gray\": { id: \"gray\", rgb: [128, 128, 128] },\n",
       "    },\n",
       "    backgrounds: {\n",
       "        \"my-background\": {\n",
       "            \"background-color\": \"white\"\n",
       "        }\n",
       "    },\n",
       "    \"text-base\": {\n",
       "        \"font-family\": \"Georgia\",\n",
       "        \"font-size\": 2.5\n",
       "    },\n",
       "    rules: {\n",
       "        h1: {\n",
       "            \"font-size\": 5.5,\n",
       "            color: \"blue\",\n",
       "            \"text-align\": \"center\"\n",
       "        },\n",
       "        h2: {\n",
       "            \"font-size\": 3,\n",
       "            color: \"blue\",\n",
       "            \"text-align\": \"center\"\n",
       "        },\n",
       "        h3: {\n",
       "            \"font-size\": 3,\n",
       "            color: \"black\",\n",
       "        },\n",
       "        \"ul li\": {\n",
       "            \"font-size\": 2.5,\n",
       "            color: \"black\"\n",
       "        },\n",
       "        \"ul li ul li\": {\n",
       "            \"font-size\": 2.0,\n",
       "            color: \"black\"\n",
       "        },\n",
       "        \"code\": {\n",
       "            \"font-size\": 1.6,\n",
       "        },\n",
       "        \"pre\": {\n",
       "            \"font-size\": 1.6,\n",
       "        }\n",
       "    }\n",
       "});"
      ],
      "text/plain": [
       "<IPython.core.display.Javascript object>"
      ]
     },
     "metadata": {},
     "output_type": "display_data"
    }
   ],
   "source": [
    "%%javascript\n",
    "var width = window.innerWidth || document.documentElement.clientWidth || document.body.clientWidth;\n",
    "var height = window.innerHeight || document.documentElement.clientHeight || document.body.clientHeight;\n",
    "\n",
    "IPython.notebook.kernel.execute(\"windowSize = (\" + width + \",\" + height + \")\");\n",
    "// suitable for small screens\n",
    "nbpresent.mode.tree.set(\n",
    "    [\"app\", \"theme-manager\", \"themes\", \"my-theme\"], \n",
    "    {\n",
    "    palette: {\n",
    "        \"blue\": { id: \"blue\", rgb: [0, 153, 204] },\n",
    "        \"black\": { id: \"black\", rgb: [0, 0, 0] },\n",
    "        \"white\": { id: \"white\", rgb: [255, 255, 255] },\n",
    "        \"red\": { id: \"red\", rgb: [240, 32, 32] },\n",
    "        \"gray\": { id: \"gray\", rgb: [128, 128, 128] },\n",
    "    },\n",
    "    backgrounds: {\n",
    "        \"my-background\": {\n",
    "            \"background-color\": \"white\"\n",
    "        }\n",
    "    },\n",
    "    \"text-base\": {\n",
    "        \"font-family\": \"Georgia\",\n",
    "        \"font-size\": 2.5\n",
    "    },\n",
    "    rules: {\n",
    "        h1: {\n",
    "            \"font-size\": 5.5,\n",
    "            color: \"blue\",\n",
    "            \"text-align\": \"center\"\n",
    "        },\n",
    "        h2: {\n",
    "            \"font-size\": 3,\n",
    "            color: \"blue\",\n",
    "            \"text-align\": \"center\"\n",
    "        },\n",
    "        h3: {\n",
    "            \"font-size\": 3,\n",
    "            color: \"black\",\n",
    "        },\n",
    "        \"ul li\": {\n",
    "            \"font-size\": 2.5,\n",
    "            color: \"black\"\n",
    "        },\n",
    "        \"ul li ul li\": {\n",
    "            \"font-size\": 2.0,\n",
    "            color: \"black\"\n",
    "        },\n",
    "        \"code\": {\n",
    "            \"font-size\": 1.6,\n",
    "        },\n",
    "        \"pre\": {\n",
    "            \"font-size\": 1.6,\n",
    "        }\n",
    "    }\n",
    "});\n"
   ]
  },
  {
   "cell_type": "markdown",
   "metadata": {
    "nbpresent": {
     "id": "90045e6b-811f-43ca-a2d5-b704ba0ead81"
    },
    "slideshow": {
     "slide_type": "slide"
    }
   },
   "source": [
    "# Combinatorial Pattern Matching\n",
    "\n",
    "<img src=\"http://csbio.unc.edu/mcmillan/Comp555S18/Media/L21CombinatorialPillowTalk.jpg\" width=\"700px\">\n",
    "\n",
    "<p style=\"text-align: right; clear: right;\">1</p>"
   ]
  },
  {
   "cell_type": "markdown",
   "metadata": {
    "nbpresent": {
     "id": "99946b98-302f-4dc7-815d-faf57afc342b"
    },
    "slideshow": {
     "slide_type": "slide"
    }
   },
   "source": [
    "# A Recurring Problem\n",
    "\n",
    "<img src=\"http://csbio.unc.edu/mcmillan/Comp555S18/Media/L21FindPattern.jpg\" width=\"400px\" style=\"float: right; margin: 0px 80px 0px 80px;\">\n",
    "\n",
    "* Finding patterns within sequences<br><br>\n",
    "* Variants on this idea\n",
    "   - Finding repeated motifs amoungst a set of strings \n",
    "   - What are the most frequent k-mers\n",
    "   - How many time does a specific k-mer appear<br><br>\n",
    "* Fundamental problem: *Pattern Matching*\n",
    "   - Find all positions of a particular substring in given sequence?\n",
    "<br><br><br><br><br><br>\n",
    "<p style=\"text-align: right; clear: right;\">2</p>"
   ]
  },
  {
   "cell_type": "markdown",
   "metadata": {
    "nbpresent": {
     "id": "8a2b65e9-7d26-4619-9c51-862a78d2ecbc"
    },
    "slideshow": {
     "slide_type": "slide"
    }
   },
   "source": [
    "# Pattern Matching \n",
    "\n",
    "* <u>**Goal:**</u> Find all occurrences of a pattern in a text\n",
    "\n",
    "* <u>**Input:**</u> Pattern $p = p_1, p_2, … p_n$ and text $t = t_1, t_2, … t_m$\n",
    "\n",
    "* <u>**Output:**</u> All positions 1 < i < (m – n + 1) such that the *n*-letter substring of t starting at i matches p"
   ]
  },
  {
   "cell_type": "code",
   "execution_count": 11,
   "metadata": {
    "nbpresent": {
     "id": "d0811029-d837-4a14-92a7-69c425dd46f7"
    },
    "slideshow": {
     "slide_type": "fragment"
    }
   },
   "outputs": [
    {
     "name": "stdout",
     "output_type": "stream",
     "text": [
      "[11, 14]\n"
     ]
    }
   ],
   "source": [
    "def bruteForcePatternMatching(p, t):\n",
    "    locations = []\n",
    "    for i in xrange(0, len(t)-len(p)+1):\n",
    "        if t[i:i+len(p)] == p:\n",
    "            locations.append(i)\n",
    "    return locations\n",
    "\n",
    "print bruteForcePatternMatching(\"ssi\", \"imissmissmississippi\")"
   ]
  },
  {
   "cell_type": "markdown",
   "metadata": {
    "nbpresent": {
     "id": "2a399392-b71a-43bc-bd0e-510fb04a87e6"
    },
    "slideshow": {
     "slide_type": "fragment"
    }
   },
   "source": [
    "<p style=\"text-align: right; clear: right;\">3</p>"
   ]
  },
  {
   "cell_type": "markdown",
   "metadata": {
    "nbpresent": {
     "id": "7837a365-6409-49db-b53f-49fa7c506ecd"
    },
    "slideshow": {
     "slide_type": "slide"
    }
   },
   "source": [
    "# Pattern Matching Performance\n",
    "\n",
    "* Performance:\n",
    "     - *m* - length of the text *t*\n",
    "     - *n* - the length of the pattern *p*\n",
    "     - Search Loop - executed *O(m)* times\n",
    "     - Comparison - *O(n)* symbols compared \n",
    "     - Total cost - *O(mn)* per pattern\n",
    "\n",
    "* In practice, most comparisons terminate early\n",
    "\n",
    "* Worst-case:\n",
    "     - <code>p = \"AAAT\"</code>\n",
    "     - <code>t = \"AAAAAAAAAAAAAAAAAAAAAAAT\"</code>\n",
    "\n",
    "<p style=\"text-align: right; clear: right;\">4</p>"
   ]
  },
  {
   "cell_type": "markdown",
   "metadata": {
    "nbpresent": {
     "id": "daed284c-325e-402f-acc4-e82170f81009"
    },
    "slideshow": {
     "slide_type": "slide"
    }
   },
   "source": [
    "# We can do better!\n",
    "\n",
    "If we preprocess our pattern we can search more effciently (*O(n)*)\n",
    "\n",
    "Example:\n",
    "<pre style=\"font-size: 80%\">    \n",
    "            imissmissmississippi\n",
    "         1. s                      \n",
    "         2.  s\n",
    "         3.   s\n",
    "         4.    SSi\n",
    "         5.       s\n",
    "         6.        SSi\n",
    "         7.           s\n",
    "         8.            SSI             - match at 11\n",
    "         9.               SSI          - match at 14\n",
    "         10.                 s\n",
    "         11.                  s\n",
    "         12.                   s\n",
    "</pre>\n",
    "\n",
    "* At steps 4  and 6 after finding the mismatch $i \\ne m$ we can skip over all positions tested because we know that the suffix *\"sm\"* is not a prefix of our pattern *\"ssi\"*\n",
    "* Even works for our worst-case example \"AAAAT\" in \"AAAAAAAAAAAAAAT\" by recognizing the shared prefixes (\"AAA\" in \"AAAA\").\n",
    "* How about finding multiple patterns $[p_1, p_2, ..., p_3]$ in $t$\n",
    "\n",
    "<p style=\"text-align: right; clear: right;\">5</p>"
   ]
  },
  {
   "cell_type": "markdown",
   "metadata": {
    "nbpresent": {
     "id": "bd4deede-e11b-4bac-bc69-985c609a2ba4"
    },
    "slideshow": {
     "slide_type": "slide"
    }
   },
   "source": [
    "# Keyword Trees \n",
    "\n",
    "<img src=\"http://csbio.unc.edu/mcmillan/Comp555S18/Media/L21KeywordTree.png\" width=\"300px\" style=\"float: right; margin: 0px 80px 0px 80px;\">\n",
    "\n",
    "* We can preprocess the set of strings we are seeking to minimize the number of comparisons\n",
    "\n",
    "* **Idea:** Combine patterns that share prefixes, to *share* those comparisons\n",
    "    - Stores a set of keywords in a rooted labeled tree\n",
    "    - Each edge labeled with a letter from an alphabet\n",
    "    - All edges leaving a given vertex have distinct labels\n",
    "    - Leaf vertices are indicated\n",
    "    - Every keyword stored can be spelled on a path from root to some leaf vertex\n",
    "    - Searches are performed by “threading” the target pattern through the tree \n",
    "\n",
    "* A tree is a special graph as discussed previously\n",
    "    - one connected component\n",
    "    - *N* nodes\n",
    "    - *N-1* edges\n",
    "    - No loops\n",
    "    - Exactly one path from any. \n",
    "\n",
    "* A ***Trie*** is a tree that is related to a sequence.\n",
    "    - Generally, there is a 1-to-1 correspondence between either nodes or edges of the *trie* and a symbol of the sequence \n",
    "<p style=\"text-align: right; clear: right;\">6</p>"
   ]
  },
  {
   "cell_type": "markdown",
   "metadata": {
    "nbpresent": {
     "id": "5e3d4355-32ca-419a-b491-bf08bb2d18ab"
    },
    "slideshow": {
     "slide_type": "slide"
    }
   },
   "source": [
    "# Prefix *Trie* Match\n",
    "\n",
    "<img src=\"http://csbio.unc.edu/mcmillan/Comp555S18/Media/L21KeywordTree.png\" width=\"300px\" style=\"float: right; margin: 0px 80px 0px 80px;\">\n",
    "* <u>**Input:**</u> A text *t* and a trie *P* of patterns\n",
    "* <u>**Output:**</u> True if *t* leads to a leaf in *P*; False otherwise\n",
    "\n",
    "What is output for:\n",
    "   * *apple*\n",
    "   * *band*\n",
    "   * *april*\n",
    "   \n",
    "Performance:\n",
    "   * $O(m)$ - the length of the text, *t*\n",
    "   * Independent of how many strings are in the Keyword Trie\n",
    "\n",
    "<p style=\"text-align: right; clear: right;\">7</p>"
   ]
  },
  {
   "cell_type": "code",
   "execution_count": 42,
   "metadata": {},
   "outputs": [
    {
     "name": "stdout",
     "output_type": "stream",
     "text": [
      "{'a': {'p': {'p': {'l': {'e': {'$': True}}}, 'r': {'i': {'c': {'o': {'t': {'$': True}}}}}}}, 'b': {'a': {'n': {'a': {'n': {'a': {'$': True}}}, 'd': {'a': {'n': {'a': {'$': True}}}}}}}, 'o': {'r': {'a': {'n': {'g': {'e': {'$': True}}}}}}}\n",
      "[True, True, True, True, False, False, True]\n"
     ]
    }
   ],
   "source": [
    "def path(string, parent):\n",
    "    if (len(string) > 0):\n",
    "        if (string[0] in parent):\n",
    "            child = parent[string[0]]\n",
    "        else:\n",
    "            child = {}\n",
    "            parent[string[0]] = child\n",
    "        path(string[1:], child)\n",
    "    else:\n",
    "        parent['$'] = True\n",
    "\n",
    "class PrefixTrie:\n",
    "    def __init__(self):\n",
    "        \"\"\" Tree is a dictionary of the children at each node\"\"\"\n",
    "        self.root = {}\n",
    "    def add(self, string):\n",
    "        \"\"\" Add a path from the Trie's root\"\"\"\n",
    "        path(string, self.root)\n",
    "    def match(self, string):\n",
    "        \"\"\" Check if there is a path from the root to a '$' \"\"\"\n",
    "        parent = self.root\n",
    "        for c in string:\n",
    "            if c not in parent:\n",
    "                break\n",
    "            parent = parent[c]\n",
    "        return '$' in parent\n",
    "\n",
    "\n",
    "T = PrefixTrie()\n",
    "T.add(\"apple\")\n",
    "T.add(\"banana\")\n",
    "T.add(\"apricot\")\n",
    "T.add(\"bandana\")\n",
    "T.add(\"orange\")\n",
    "print T.root\n",
    "print map(T.match, ['apple', 'banana', 'apricot', 'orange', 'band', 'april', 'bananapple'])\n"
   ]
  },
  {
   "cell_type": "markdown",
   "metadata": {
    "collapsed": true,
    "nbpresent": {
     "id": "16320813-b771-4265-8b6c-fb023a2296f7"
    },
    "slideshow": {
     "slide_type": "slide"
    }
   },
   "source": [
    "# Multiple Pattern Matching\n",
    "\n",
    "* *t* - the text to search through\n",
    "* *P* - the trie of patterns to search for\n",
    "\n",
    "``` python\n",
    "def multiplePatternMatching(t, P):\n",
    "    locations = []\n",
    "    for i in xrange(0, len(t)):\n",
    "        if PrefixTrieMatch(t[i:], P):\n",
    "            locations.append(i)\n",
    "    return locations\n",
    "```\n",
    "\n",
    "<p style=\"text-align: right; clear: right;\">8</p>"
   ]
  },
  {
   "cell_type": "markdown",
   "metadata": {
    "nbpresent": {
     "id": "8c5089a0-ec28-4b98-ad5c-d9fc5e92ee3c"
    },
    "slideshow": {
     "slide_type": "slide"
    }
   },
   "source": [
    "# Multiple Pattern Matching Example\n",
    "\n",
    "<img src=\"http://csbio.unc.edu/mcmillan/Comp555S18/Media/L21KeywordTree.png\" width=\"320px\" style=\"float: right; margin: 0px 80px 0px 80px;\">\n",
    "\n",
    "``` python\n",
    "multiplePatternMatching(“bananapple”, P):\n",
    " 0:  PrefixTrieMatching(“bananapple”, P) = True\n",
    " 1:  PrefixTrieMatching(“ananapple”, P) = False\n",
    " 2:  PrefixTrieMatching(“nanapple”, P) = False\n",
    " 3:  PrefixTrieMatching(“anapple”, P) = False\n",
    " 4:  PrefixTrieMatching(“napple”, P) = False\n",
    " 5:  PrefixTrieMatching(“apple”, P) = True\n",
    " 6:  PrefixTrieMatching(“pple”, P) = False\n",
    " 7:  PrefixTrieMatching(“ple”, P) = False\n",
    " 8:  PrefixTrieMatching(“le”, P) = False\n",
    " 9:  PrefixTrieMatching(“e”, P) = False\n",
    "\n",
    "locations = [0, 5]\n",
    "```\n",
    "<p style=\"text-align: right; clear: right;\">9</p>"
   ]
  },
  {
   "cell_type": "markdown",
   "metadata": {
    "nbpresent": {
     "id": "78ff1661-212c-4630-8acd-0448563b0da0"
    },
    "slideshow": {
     "slide_type": "slide"
    }
   },
   "source": [
    "# Improvements\n",
    "\n",
    "<img src=\"http://csbio.unc.edu/mcmillan/Comp555S18/Media/L21Multistring.png\" width=\"300px\" style=\"float: right; margin: 0px 80px 0px 80px;\">\n",
    "\n",
    "* Based on our previous speed-up\n",
    "* We can add failure edges to our Trie\n",
    "* *Aho-Corasick* Algorithm\n",
    "\n",
    "<code style=\"font-size: 180%; line-height: 1.2;\">\n",
    "    bapple\n",
    "    <span style=\"color: blue;\">ba</span><span style=\"color: red;\">p</span>\n",
    "     <span style=\"color: gray;\">a</span><span style=\"color: blue;\">pple</span>\n",
    "</code>\n",
    "\n",
    "<p style=\"text-align: right; clear: right;\">10</p>"
   ]
  },
  {
   "cell_type": "markdown",
   "metadata": {
    "nbpresent": {
     "id": "5b6b636f-9050-44e3-9904-2faaa69e262c"
    },
    "slideshow": {
     "slide_type": "slide"
    }
   },
   "source": [
    "# Multiple Pattern Matching Performance\n",
    "\n",
    "<img src=\"http://csbio.unc.edu/mcmillan/Comp555S18/Media/L21KeywordTree.png\" width=\"320px\" style=\"float: right; margin: 0px 80px 0px 80px;\">\n",
    "* m - len(t)\n",
    "* d - max depth of P (longest pattern in P)\n",
    "* O(md) to find all patterns\n",
    "* Can be decreased further to O(m) using Aho-Corasick Algorithm (see pg 353)\n",
    "* Memory issues\n",
    "    - Tries require a lot of memory\n",
    "    - Practical implementation is challenging\n",
    "    - Genomic reads - millions to billions of\n",
    "\n",
    "* Patterns typically of length > 100\n",
    "\n",
    "<p style=\"text-align: right; clear: right;\">11</p>"
   ]
  },
  {
   "cell_type": "markdown",
   "metadata": {
    "nbpresent": {
     "id": "33cad5aa-aa57-45e6-926c-5d4d1fc808ba"
    },
    "slideshow": {
     "slide_type": "slide"
    }
   },
   "source": [
    "# Another Twist\n",
    "\n",
    "<img src=\"http://csbio.unc.edu/mcmillan/Comp555S18/Media/L21KeywordSuffix.png\" width=\"320px\" style=\"float: right; margin: 0px 80px 0px 80px;\">\n",
    "\n",
    "<ul style=\"font-size: 120%;\">\n",
    "<li>What if our list of keywords were simply all suffixes of a given string</li>\n",
    "<pre style=\"font-size: 120%;\">\n",
    "      Example: ACATG\n",
    "                CATG\n",
    "                 ATG\n",
    "                  TG\n",
    "                   G\n",
    "</pre>\n",
    "<li>The resulting keyword tree:</li>\n",
    "<li>A <strong>Suffix Trie</strong></li>\n",
    "</ul>\n",
    "\n",
    "<p style=\"text-align: right; clear: right;\">12</p>"
   ]
  },
  {
   "cell_type": "markdown",
   "metadata": {
    "nbpresent": {
     "id": "38c72cb9-233e-4b86-b098-61394be5859c"
    },
    "slideshow": {
     "slide_type": "slide"
    }
   },
   "source": [
    "# Suffix Tree\n",
    "\n",
    "### A *compressed* Suffix Trie\n",
    "\n",
    "<img src=\"http://csbio.unc.edu/mcmillan/Comp555S18/Media/L21KeywordSuffix.png\" width=\"300px\" style=\"float: left; margin: 0px 80px 0px 40px;\">\n",
    "<img src=\"http://csbio.unc.edu/mcmillan/Comp555S18/Media/L21SuffixTree.png\" width=\"300px\" style=\"float: right; margin: 0px 40px 0px 80px;\">\n",
    "\n",
    "<ul>\n",
    "<li style=\"font-size: 120%\">Combines nodes with in and out degree 1</li>\n",
    "<li style=\"font-size: 120%\">Edges are text substrings</li>\n",
    "<li style=\"font-size: 120%\">All internal nodes have at least 3 edges</li>\n",
    "<li style=\"font-size: 120%\">All leaf nodes are labeled with an index</li>\n",
    "</ul>\n",
    "<br><br><br><br><br>\n",
    "<p style=\"text-align: right; clear: left;\">13</p>"
   ]
  },
  {
   "cell_type": "markdown",
   "metadata": {
    "nbpresent": {
     "id": "4e403fc2-cead-4ea4-ad9e-4f24353624db"
    },
    "slideshow": {
     "slide_type": "slide"
    }
   },
   "source": [
    "# Uses for Suffix Trees\n",
    "\n",
    "<img src=\"http://csbio.unc.edu/mcmillan/Comp555S18/Media/L21SuffixTree.png\" width=\"400px\" style=\"float: right; margin: 0px 80px 0px 40px;\">\n",
    "* Suffix trees hold all suffixes of a text, T\n",
    "    - i.e., ATCGC: ATCGC, TCGC, CGC, GC, C\n",
    "* Can be built in $O(m)$ time for text of length $m$\n",
    "* To find any pattern P in a text:\n",
    "    - Build suffix tree for text, $O(m)$, $m = |T|$\n",
    "    - Thread the pattern through the suffix tree\n",
    "    - Can find pattern in $O(n)$ time! ($n = |P|$)\n",
    "* $O(|T| + |P|)$ time for \"Pattern Matching Problem\"<br>(better than Naïve O(|P||T|)\n",
    "* Build suffix tree and lookup pattern\n",
    "* Multiple Pattern Matching in $O(|T| + k|P|)$\n",
    "\n",
    "<p style=\"text-align: right; clear: left;\">14</p>"
   ]
  },
  {
   "cell_type": "markdown",
   "metadata": {
    "nbpresent": {
     "id": "86047104-6641-420a-94d0-de572fd8df94"
    },
    "slideshow": {
     "slide_type": "slide"
    }
   },
   "source": [
    "# Suffix Tree Overhead \n",
    "\n",
    "* Input: text of length m\n",
    "* Computation\n",
    "  - O(m) to compute a suffix tree\n",
    "  - Does not require building the suffix trie first\n",
    "* Memory\n",
    "  - O(m) - nodes are stored as offsets and lengths\n",
    "\n",
    "* Huge hidden constant, best implementations\n",
    "\n",
    "* Requires about 20*m bytes\n",
    "\n",
    "* 3 GB human genome = 60 GB RAM\n",
    "\n",
    "<p style=\"text-align: right; clear: left;\">15</p>"
   ]
  },
  {
   "cell_type": "markdown",
   "metadata": {
    "nbpresent": {
     "id": "3e7979fe-2686-43fa-a150-bdcffb2f4249"
    },
    "slideshow": {
     "slide_type": "slide"
    }
   },
   "source": [
    "# Suffix Tree Examples\n",
    "\n",
    "<img src=\"http://csbio.unc.edu/mcmillan/Comp555S18/Media/L21STExample.png\" width=\"600px\" style=\"float: right; margin: 0px 80px 0px 80px;\">\n",
    "* What is the string represented in the suffix tree?\n",
    "* What letter occurs most frequently?\n",
    "* How many times doaes \"ATG\" appear, and where?\n",
    "* How long is the longest repeated k-mer?\n",
    "\n",
    "<p style=\"text-align: right; clear: right;\">16</p>"
   ]
  },
  {
   "cell_type": "markdown",
   "metadata": {
    "nbpresent": {
     "id": "aced7be8-d391-4102-8855-a7eecd7fb8f6"
    },
    "slideshow": {
     "slide_type": "slide"
    }
   },
   "source": [
    "# Suffix Trees: Theory vs. Practice\n",
    "\n",
    "* In theory, suffix trees are extremely powerful for making a variety of queries concerning a sequence\n",
    "  - What is the shortest unique substring?\n",
    "  - How many times does a given string appear in a text?\n",
    "* Despite the existence of linear-time construction algorithms, and O(m) search times, suffix trees are still rarely used for genome-scale searching\n",
    "* Large storage overhead\n",
    "\n",
    "<p style=\"text-align: right; clear: right;\">17</p>"
   ]
  },
  {
   "cell_type": "markdown",
   "metadata": {
    "nbpresent": {
     "id": "e5d23fe3-71b1-440e-8c83-967bf18785c9"
    },
    "slideshow": {
     "slide_type": "slide"
    }
   },
   "source": [
    "# Substring Searching\n",
    "\n",
    "* Is there some other data structure to gain efficent access to all of the suffixes of a given string with less overhead than a suffix tree?\n",
    "* Some things we know\n",
    "    - Searching an unordered list of items with length *n* generally requires *O(n)* steps\n",
    "    - However, if we sort our items first, then we can search using *O(log(n))* steps\n",
    "    - Thus, if we plan to do frequent searchs there is some advantage to performing a sort first and amortizing its cost over many searchs\n",
    "* For strings *suffixes* are interesting *items*. Why?\n",
    "\n",
    "        Suffixes: panamabananas        Sorted Suffixes:  abananas\n",
    "                  anamabananas                           amabananas\n",
    "                  namabananas                            anamabananas\n",
    "                  amabananas                             ananas\n",
    "                  mabananas                              anas\n",
    "                  abananas                               as\n",
    "                  bananas                                bananas\n",
    "                  ananas                                 mabananas\n",
    "                  nanas                                  namabananas\n",
    "                  anas                                   nanas\n",
    "                  nas                                    nas\n",
    "                  as                                     panamabananas\n",
    "                  s                                      s\n",
    "<p style=\"text-align: right; clear: right;\">18</p>"
   ]
  },
  {
   "cell_type": "markdown",
   "metadata": {
    "nbpresent": {
     "id": "ccb6e961-f50a-4c24-bd9c-cd13757af075"
    },
    "slideshow": {
     "slide_type": "slide"
    }
   },
   "source": [
    "# Questions you can ask\n",
    "\n",
    "Is there any use for a list of sorted suffixes?\n",
    "\n",
    "<img src=\"http://csbio.unc.edu/mcmillan/Comp555S18/Media/L21Questions.jpg\" style=\"float: left; margin: 0px 0px 0px 20px;\">\n",
    "\n",
    "          Sorted Suffixes:  abananas\n",
    "                            amabananas\n",
    "                            anamabananas\n",
    "                            ananas\n",
    "                            anas\n",
    "                            as\n",
    "                            bananas\n",
    "                            mabananas\n",
    "                            namabananas\n",
    "                            nanas\n",
    "                            nas\n",
    "                            panamabananas\n",
    "                            s\n",
    "\n",
    "<br style=\"clear: left;\">\n",
    "* Does the substring \"nana\" appear in the orginal string? How?\n",
    "* How many times does \"ana\" appear in the string?\n",
    "* What is the most/least frequent letter in the orginal string?\n",
    "* What is the most frequent two-letter substring in the orginal string?\n",
    "\n",
    "<p style=\"text-align: right; clear: right;\">19</p>"
   ]
  },
  {
   "cell_type": "markdown",
   "metadata": {
    "nbpresent": {
     "id": "f90e9b22-3e91-454b-8e6c-5271da2e81c6"
    },
    "slideshow": {
     "slide_type": "slide"
    }
   },
   "source": [
    "# Properties of a Naive sorted suffix implementation\n",
    "\n",
    "* Size of the sorted list if the given text has a length of *m*?  $O(m^2)$\n",
    "* Cost of the sort? $O(m^2 log(m))$\n",
    "* Not practical for big *m*\n",
    "\n",
    "* There are many ways to sort\n",
    "   - What is an *in place* sort?\n",
    "   - What is a *stable* sort?\n",
    "   - What is an *arg sort*?\n",
    "\n",
    "<p style=\"text-align: right; clear: right;\">20</p>"
   ]
  },
  {
   "cell_type": "markdown",
   "metadata": {
    "nbpresent": {
     "id": "2191a8da-6426-41fb-8843-f467c7c141f4"
    },
    "slideshow": {
     "slide_type": "slide"
    }
   },
   "source": [
    "# Arg Sorting\n",
    "\n",
    "Consider the list: <pre>[7,2,4,3,1,5,0,6]</pre>\n",
    "\n",
    "When sorted it is simply: <pre>[0,1,2,3,4,5,6,7]</pre>\n",
    "\n",
    "Its arg sort is: <pre>[6, 4, 1, 3, 2, 5, 7, 0]</pre>\n",
    "\n",
    "* The *i<sup>th</sup>* element in the arg sort is the *index* of the *i<sup>th</sup>* element from the orginal list when sorted.\n",
    "* Thus, <code>[A[i] for i in argsort(A)] == sorted[A]</code>\n",
    "\n",
    "<p style=\"text-align: right; clear: right;\">21</p>"
   ]
  },
  {
   "cell_type": "markdown",
   "metadata": {
    "nbpresent": {
     "id": "76d79435-f52e-41f9-b6df-979f5aa220c4"
    },
    "slideshow": {
     "slide_type": "slide"
    }
   },
   "source": [
    "# Code for Arg Sorting"
   ]
  },
  {
   "cell_type": "code",
   "execution_count": 41,
   "metadata": {
    "nbpresent": {
     "id": "4caabf7a-5c7e-45d0-a597-ceba3eff0a34"
    },
    "slideshow": {
     "slide_type": "fragment"
    }
   },
   "outputs": [
    {
     "name": "stdout",
     "output_type": "stream",
     "text": [
      "[6, 4, 1, 3, 2, 5, 7, 0]\n",
      "[0, 1, 2, 3, 4, 5, 6, 7]\n",
      "\n",
      "[3, 1, 5, 4, 2, 6, 0]\n",
      "['ACAT', 'AGACAT', 'AT', 'CAT', 'GACAT', 'T', 'TAGACAT']\n"
     ]
    }
   ],
   "source": [
    "def argsort(input):\n",
    "    return sorted(range(len(input)), cmp=lambda i,j: 1 if input[i] >= input[j] else -1)\n",
    "\n",
    "A = [7,2,4,3,1,5,0,6]\n",
    "print argsort(A)\n",
    "print [A[i] for i in argsort(A)]\n",
    "\n",
    "print\n",
    "B = [\"TAGACAT\", \"AGACAT\", \"GACAT\", \"ACAT\", \"CAT\", \"AT\", \"T\"]\n",
    "print argsort(B)\n",
    "print [B[i] for i in argsort(B)]"
   ]
  },
  {
   "cell_type": "markdown",
   "metadata": {
    "nbpresent": {
     "id": "cb5b4795-c9bc-4fcc-8c3c-2200402e2f43"
    },
    "slideshow": {
     "slide_type": "fragment"
    }
   },
   "source": [
    "<p style=\"text-align: right; clear: right;\">22</p>"
   ]
  },
  {
   "cell_type": "markdown",
   "metadata": {
    "nbpresent": {
     "id": "a507ee59-9564-4af9-862f-1f262a1ecada"
    },
    "slideshow": {
     "slide_type": "slide"
    }
   },
   "source": [
    "# Next Time\n",
    "\n",
    "<img src=\"http://csbio.unc.edu/mcmillan/Comp555S18/Media/suffixCartoon.gif\" width=\"400px\" style=\"float: right; margin: 0px 80px 0px 80px;\">\n",
    "* We'll see how arg sorting can be used to simplify representing our sorted list of suffixes\n",
    "* Suffix arrays\n",
    "* Burrows-Wheeler Transforms\n",
    "* Applications in sequence alignment\n",
    "\n",
    "<p style=\"text-align: right; clear: right;\">23</p>"
   ]
  },
  {
   "cell_type": "code",
   "execution_count": null,
   "metadata": {},
   "outputs": [],
   "source": []
  }
 ],
 "metadata": {
  "anaconda-cloud": {},
  "kernelspec": {
   "display_name": "Python 2",
   "language": "python",
   "name": "python2"
  },
  "language_info": {
   "codemirror_mode": {
    "name": "ipython",
    "version": 2
   },
   "file_extension": ".py",
   "mimetype": "text/x-python",
   "name": "python",
   "nbconvert_exporter": "python",
   "pygments_lexer": "ipython2",
   "version": "2.7.14"
  },
  "nbpresent": {
   "slides": {
    "0217fa95-87e2-4280-94b2-d62148f5463c": {
     "id": "0217fa95-87e2-4280-94b2-d62148f5463c",
     "prev": "12e541b2-e307-46ec-9228-3c9e8f3c0be5",
     "regions": {
      "5e10ab03-407c-46f7-8f82-be07ace4904d": {
       "attrs": {
        "height": 0.96,
        "width": 0.96,
        "x": 0.02,
        "y": 0.02
       },
       "content": {
        "cell": "3e7979fe-2686-43fa-a150-bdcffb2f4249",
        "part": "whole"
       },
       "id": "5e10ab03-407c-46f7-8f82-be07ace4904d"
      }
     }
    },
    "1199ac96-e6ef-4771-9e25-f96568ab041e": {
     "id": "1199ac96-e6ef-4771-9e25-f96568ab041e",
     "prev": "ec7a5f2d-b317-4fb8-8f0e-5048e28cf47a",
     "regions": {
      "9d00bc85-d59c-4410-8bf8-0f820bf789b1": {
       "attrs": {
        "height": 0.96,
        "width": 0.96,
        "x": 0.02,
        "y": 0.02
       },
       "content": {
        "cell": "5b6b636f-9050-44e3-9904-2faaa69e262c",
        "part": "whole"
       },
       "id": "9d00bc85-d59c-4410-8bf8-0f820bf789b1"
      }
     }
    },
    "12e541b2-e307-46ec-9228-3c9e8f3c0be5": {
     "id": "12e541b2-e307-46ec-9228-3c9e8f3c0be5",
     "prev": "da4827fe-dcdc-496e-ac85-ad9f2043acdc",
     "regions": {
      "346539bd-cb1a-415b-8292-88a3d9dc266a": {
       "attrs": {
        "height": 0.96,
        "width": 0.96,
        "x": 0.02,
        "y": 0.02
       },
       "content": {
        "cell": "86047104-6641-420a-94d0-de572fd8df94",
        "part": "whole"
       },
       "id": "346539bd-cb1a-415b-8292-88a3d9dc266a"
      }
     }
    },
    "3a9fd0af-d2f5-4137-b8a0-d5a86385406b": {
     "id": "3a9fd0af-d2f5-4137-b8a0-d5a86385406b",
     "prev": "86e3d813-5417-4785-a8cb-e19544db72eb",
     "regions": {
      "61e08468-c6bd-4980-9ede-074caa7ed30d": {
       "attrs": {
        "height": 0.06475757348582822,
        "width": 0.96,
        "x": 0.02,
        "y": 0.9152424265141719
       },
       "content": {
        "cell": "2a399392-b71a-43bc-bd0e-510fb04a87e6",
        "part": "whole"
       },
       "id": "61e08468-c6bd-4980-9ede-074caa7ed30d"
      },
      "76b58b44-261e-47d7-94e8-8a8f27dee611": {
       "attrs": {
        "height": 0.3995157994759535,
        "width": 0.96,
        "x": 0.02,
        "y": 0.02
       },
       "content": {
        "cell": "8a2b65e9-7d26-4619-9c51-862a78d2ecbc",
        "part": "whole"
       },
       "id": "76b58b44-261e-47d7-94e8-8a8f27dee611"
      },
      "b3891502-498c-4062-b730-4d2446d140cc": {
       "attrs": {
        "height": 0.5600691958574261,
        "width": 0.96,
        "x": 0.02,
        "y": 0.41993080414257405
       },
       "content": {
        "cell": "d0811029-d837-4a14-92a7-69c425dd46f7",
        "part": "whole"
       },
       "id": "b3891502-498c-4062-b730-4d2446d140cc"
      }
     }
    },
    "5ff68b59-c4ca-4034-b5d1-e7c830b3c736": {
     "id": "5ff68b59-c4ca-4034-b5d1-e7c830b3c736",
     "prev": "a3aa4a02-42ef-49d6-b081-361c6cdd3e07",
     "regions": {
      "50301c3d-7128-4b23-8428-a12d4813e9b4": {
       "attrs": {
        "height": 0.96,
        "width": 0.96,
        "x": 0.02,
        "y": 0.02
       },
       "content": {
        "cell": "8c5089a0-ec28-4b98-ad5c-d9fc5e92ee3c",
        "part": "whole"
       },
       "id": "50301c3d-7128-4b23-8428-a12d4813e9b4"
      }
     }
    },
    "63563689-48a2-46c5-8b7e-f330880d9895": {
     "id": "63563689-48a2-46c5-8b7e-f330880d9895",
     "prev": "0217fa95-87e2-4280-94b2-d62148f5463c",
     "regions": {
      "be09b0f4-1f01-44f2-af9e-811f2ba15fac": {
       "attrs": {
        "height": 0.96,
        "width": 0.96,
        "x": 0.02,
        "y": 0.02
       },
       "content": {
        "cell": "aced7be8-d391-4102-8855-a7eecd7fb8f6",
        "part": "whole"
       },
       "id": "be09b0f4-1f01-44f2-af9e-811f2ba15fac"
      }
     }
    },
    "725ca30b-6cd8-43ab-8823-db96ee99b3d4": {
     "id": "725ca30b-6cd8-43ab-8823-db96ee99b3d4",
     "prev": "e20cd601-6c72-4ac8-bd7d-e0dd42b00c36",
     "regions": {
      "b71f705f-5175-4d79-9bbe-4264be8d3ef6": {
       "attrs": {
        "height": 0.96,
        "width": 0.96,
        "x": 0.02,
        "y": 0.02
       },
       "content": {
        "cell": "f90e9b22-3e91-454b-8e6c-5271da2e81c6",
        "part": "whole"
       },
       "id": "b71f705f-5175-4d79-9bbe-4264be8d3ef6"
      }
     }
    },
    "84d12a66-dcd9-4fc4-9caa-46f3d2c83d61": {
     "id": "84d12a66-dcd9-4fc4-9caa-46f3d2c83d61",
     "prev": "1199ac96-e6ef-4771-9e25-f96568ab041e",
     "regions": {
      "be15a3ca-8916-466f-841a-c43c28e9e03c": {
       "attrs": {
        "height": 0.96,
        "width": 0.96,
        "x": 0.02,
        "y": 0.02
       },
       "content": {
        "cell": "33cad5aa-aa57-45e6-926c-5d4d1fc808ba",
        "part": "whole"
       },
       "id": "be15a3ca-8916-466f-841a-c43c28e9e03c"
      }
     }
    },
    "86e3d813-5417-4785-a8cb-e19544db72eb": {
     "id": "86e3d813-5417-4785-a8cb-e19544db72eb",
     "prev": "bc0f57c1-9580-4a0c-860e-02ab666a1bb4",
     "regions": {
      "6c25e754-0cd5-4a98-a38c-b7bd6b6ec576": {
       "attrs": {
        "height": 0.96,
        "width": 0.96,
        "x": 0.02,
        "y": 0.02
       },
       "content": {
        "cell": "99946b98-302f-4dc7-815d-faf57afc342b",
        "part": "whole"
       },
       "id": "6c25e754-0cd5-4a98-a38c-b7bd6b6ec576"
      }
     }
    },
    "952539b7-0a46-44d3-88fd-0cdd5afa352b": {
     "id": "952539b7-0a46-44d3-88fd-0cdd5afa352b",
     "prev": "3a9fd0af-d2f5-4137-b8a0-d5a86385406b",
     "regions": {
      "2fb1f696-b99b-447c-b73c-056dee4af6cb": {
       "attrs": {
        "height": 0.96,
        "width": 0.96,
        "x": 0.02,
        "y": 0.02
       },
       "content": {
        "cell": "7837a365-6409-49db-b53f-49fa7c506ecd",
        "part": "whole"
       },
       "id": "2fb1f696-b99b-447c-b73c-056dee4af6cb"
      }
     }
    },
    "9557d1a0-22b5-417f-8bd7-2105cc9c7c8f": {
     "id": "9557d1a0-22b5-417f-8bd7-2105cc9c7c8f",
     "prev": "84d12a66-dcd9-4fc4-9caa-46f3d2c83d61",
     "regions": {
      "3eacb27e-7bff-4e93-91b0-ce08fe536e11": {
       "attrs": {
        "height": 0.96,
        "width": 0.96,
        "x": 0.02,
        "y": 0.02
       },
       "content": {
        "cell": "38c72cb9-233e-4b86-b098-61394be5859c",
        "part": "whole"
       },
       "id": "3eacb27e-7bff-4e93-91b0-ce08fe536e11"
      }
     }
    },
    "a3aa4a02-42ef-49d6-b081-361c6cdd3e07": {
     "id": "a3aa4a02-42ef-49d6-b081-361c6cdd3e07",
     "prev": "e57c6661-9cfa-4a44-be55-75711ae90c6d",
     "regions": {
      "ba4ca92c-4cad-4a71-8242-81b6ad62c33c": {
       "attrs": {
        "height": 0.96,
        "width": 0.96,
        "x": 0.02,
        "y": 0.02
       },
       "content": {
        "cell": "16320813-b771-4265-8b6c-fb023a2296f7",
        "part": "whole"
       },
       "id": "ba4ca92c-4cad-4a71-8242-81b6ad62c33c"
      }
     }
    },
    "a3eed826-83b0-4c04-958a-12e0901d4d48": {
     "id": "a3eed826-83b0-4c04-958a-12e0901d4d48",
     "prev": "725ca30b-6cd8-43ab-8823-db96ee99b3d4",
     "regions": {
      "ffc91b81-0c82-416f-81e7-43e6852eda2f": {
       "attrs": {
        "height": 0.96,
        "width": 0.96,
        "x": 0.02,
        "y": 0.02
       },
       "content": {
        "cell": "2191a8da-6426-41fb-8843-f467c7c141f4",
        "part": "whole"
       },
       "id": "ffc91b81-0c82-416f-81e7-43e6852eda2f"
      }
     }
    },
    "a915d02d-1cc1-4118-82a5-0f2f82099a59": {
     "id": "a915d02d-1cc1-4118-82a5-0f2f82099a59",
     "prev": "a3eed826-83b0-4c04-958a-12e0901d4d48",
     "regions": {
      "5a81a446-7330-403e-ac56-11f1cca2599e": {
       "attrs": {
        "height": 0.19654978457910854,
        "width": 0.96,
        "x": 0.02,
        "y": 0.02
       },
       "content": {
        "cell": "76d79435-f52e-41f9-b6df-979f5aa220c4",
        "part": "whole"
       },
       "id": "5a81a446-7330-403e-ac56-11f1cca2599e"
      },
      "ef47643e-3143-44de-be85-0710c6e00f0b": {
       "attrs": {
        "height": 0.10199904671579879,
        "width": 0.96,
        "x": 0.02,
        "y": 0.8780009532842014
       },
       "content": {
        "cell": "cb5b4795-c9bc-4fcc-8c3c-2200402e2f43",
        "part": "whole"
       },
       "id": "ef47643e-3143-44de-be85-0710c6e00f0b"
      },
      "f585a01a-5d43-4f16-b3ea-a6e1323f37ad": {
       "attrs": {
        "height": 0.6587590715038587,
        "width": 0.96,
        "x": 0.02104741643459286,
        "y": 0.21882684870073296
       },
       "content": {
        "cell": "4caabf7a-5c7e-45d0-a597-ceba3eff0a34",
        "part": "whole"
       },
       "id": "f585a01a-5d43-4f16-b3ea-a6e1323f37ad"
      }
     }
    },
    "bc0f57c1-9580-4a0c-860e-02ab666a1bb4": {
     "id": "bc0f57c1-9580-4a0c-860e-02ab666a1bb4",
     "prev": null,
     "regions": {
      "fbf46522-a58c-488f-8083-e9624a847998": {
       "attrs": {
        "height": 0.96,
        "width": 0.96,
        "x": 0.02,
        "y": 0.02
       },
       "content": {
        "cell": "90045e6b-811f-43ca-a2d5-b704ba0ead81",
        "part": "whole"
       },
       "id": "fbf46522-a58c-488f-8083-e9624a847998"
      }
     }
    },
    "c13f6865-b298-4f3e-a45f-d72c58a60611": {
     "id": "c13f6865-b298-4f3e-a45f-d72c58a60611",
     "prev": "ef208a16-772a-408c-bd2f-89a1a7b1fd89",
     "regions": {
      "26dde4ad-43bc-4e32-a95e-7270aff06ab6": {
       "attrs": {
        "height": 0.96,
        "width": 0.96,
        "x": 0.02,
        "y": 0.02
       },
       "content": {
        "cell": "bd4deede-e11b-4bac-bc69-985c609a2ba4",
        "part": "whole"
       },
       "id": "26dde4ad-43bc-4e32-a95e-7270aff06ab6"
      }
     }
    },
    "d6d6053d-b683-4011-99b3-0afd90139c35": {
     "id": "d6d6053d-b683-4011-99b3-0afd90139c35",
     "prev": "63563689-48a2-46c5-8b7e-f330880d9895",
     "regions": {
      "ac0e1d1b-da77-4407-9871-7494a696750d": {
       "attrs": {
        "height": 0.96,
        "width": 0.96,
        "x": 0.02,
        "y": 0.02
       },
       "content": {
        "cell": "e5d23fe3-71b1-440e-8c83-967bf18785c9",
        "part": "whole"
       },
       "id": "ac0e1d1b-da77-4407-9871-7494a696750d"
      }
     }
    },
    "da4827fe-dcdc-496e-ac85-ad9f2043acdc": {
     "id": "da4827fe-dcdc-496e-ac85-ad9f2043acdc",
     "prev": "9557d1a0-22b5-417f-8bd7-2105cc9c7c8f",
     "regions": {
      "1ec3a310-8ac7-48b7-8954-5443dde7ea20": {
       "attrs": {
        "height": 0.96,
        "width": 0.96,
        "x": 0.02,
        "y": 0.02
       },
       "content": {
        "cell": "4e403fc2-cead-4ea4-ad9e-4f24353624db",
        "part": "whole"
       },
       "id": "1ec3a310-8ac7-48b7-8954-5443dde7ea20"
      }
     }
    },
    "e20cd601-6c72-4ac8-bd7d-e0dd42b00c36": {
     "id": "e20cd601-6c72-4ac8-bd7d-e0dd42b00c36",
     "prev": "d6d6053d-b683-4011-99b3-0afd90139c35",
     "regions": {
      "59cd6ac5-dd87-4304-96c4-903167ffba3d": {
       "attrs": {
        "height": 0.96,
        "width": 0.96,
        "x": 0.02,
        "y": 0.02
       },
       "content": {
        "cell": "ccb6e961-f50a-4c24-bd9c-cd13757af075",
        "part": "whole"
       },
       "id": "59cd6ac5-dd87-4304-96c4-903167ffba3d"
      }
     }
    },
    "e57c6661-9cfa-4a44-be55-75711ae90c6d": {
     "id": "e57c6661-9cfa-4a44-be55-75711ae90c6d",
     "prev": "c13f6865-b298-4f3e-a45f-d72c58a60611",
     "regions": {
      "13517c8b-7c4d-4e10-9647-806c2313a770": {
       "attrs": {
        "height": 0.96,
        "width": 0.96,
        "x": 0.02,
        "y": 0.02
       },
       "content": {
        "cell": "5e3d4355-32ca-419a-b491-bf08bb2d18ab",
        "part": "whole"
       },
       "id": "13517c8b-7c4d-4e10-9647-806c2313a770"
      }
     }
    },
    "e8e64b1d-727a-4821-a909-52ed73bc4670": {
     "id": "e8e64b1d-727a-4821-a909-52ed73bc4670",
     "prev": "a915d02d-1cc1-4118-82a5-0f2f82099a59",
     "regions": {
      "611d8f3a-e3da-4146-9d2f-65aa6f10499e": {
       "attrs": {
        "height": 0.96,
        "width": 0.96,
        "x": 0.02,
        "y": 0.02
       },
       "content": {
        "cell": "a507ee59-9564-4af9-862f-1f262a1ecada",
        "part": "whole"
       },
       "id": "611d8f3a-e3da-4146-9d2f-65aa6f10499e"
      }
     }
    },
    "ec7a5f2d-b317-4fb8-8f0e-5048e28cf47a": {
     "id": "ec7a5f2d-b317-4fb8-8f0e-5048e28cf47a",
     "prev": "5ff68b59-c4ca-4034-b5d1-e7c830b3c736",
     "regions": {
      "d8f85b81-c6a8-4e47-8fe9-9dc38247e0af": {
       "attrs": {
        "height": 0.96,
        "width": 0.96,
        "x": 0.02,
        "y": 0.02
       },
       "content": {
        "cell": "78ff1661-212c-4630-8acd-0448563b0da0",
        "part": "whole"
       },
       "id": "d8f85b81-c6a8-4e47-8fe9-9dc38247e0af"
      }
     }
    },
    "ef208a16-772a-408c-bd2f-89a1a7b1fd89": {
     "id": "ef208a16-772a-408c-bd2f-89a1a7b1fd89",
     "prev": "952539b7-0a46-44d3-88fd-0cdd5afa352b",
     "regions": {
      "f4d70112-bf22-4633-945a-d641c148bd5e": {
       "attrs": {
        "height": 0.96,
        "width": 0.96,
        "x": 0.02,
        "y": 0.02
       },
       "content": {
        "cell": "daed284c-325e-402f-acc4-e82170f81009",
        "part": "whole"
       },
       "id": "f4d70112-bf22-4633-945a-d641c148bd5e"
      }
     }
    }
   },
   "themes": {
    "default": "5063eebd-7c07-4311-af42-9a95ede54a90",
    "theme": {
     "5063eebd-7c07-4311-af42-9a95ede54a90": {
      "backgrounds": {
       "my-background": {
        "background-color": "white"
       }
      },
      "id": "5063eebd-7c07-4311-af42-9a95ede54a90",
      "palette": {
       "black": {
        "id": "black",
        "rgb": [
         0,
         0,
         0
        ]
       },
       "blue": {
        "id": "blue",
        "rgb": [
         0,
         153,
         204
        ]
       },
       "gray": {
        "id": "gray",
        "rgb": [
         128,
         128,
         128
        ]
       },
       "red": {
        "id": "red",
        "rgb": [
         240,
         32,
         32
        ]
       },
       "white": {
        "id": "white",
        "rgb": [
         255,
         255,
         255
        ]
       }
      },
      "rules": {
       "code": {
        "font-size": 1.6
       },
       "h1": {
        "color": "blue",
        "font-size": 5.5,
        "text-align": "center"
       },
       "h2": {
        "color": "blue",
        "font-size": 3,
        "text-align": "center"
       },
       "h3": {
        "color": "black",
        "font-size": 3
       },
       "pre": {
        "font-size": 1.6
       },
       "ul li": {
        "color": "black",
        "font-size": 2.5
       },
       "ul li ul li": {
        "color": "black",
        "font-size": 2
       }
      },
      "text-base": {
       "font-family": "Georgia",
       "font-size": 2.5
      }
     }
    }
   }
  }
 },
 "nbformat": 4,
 "nbformat_minor": 1
}
