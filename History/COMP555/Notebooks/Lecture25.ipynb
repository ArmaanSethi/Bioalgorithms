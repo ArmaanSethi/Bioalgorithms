{
 "cells": [
  {
   "cell_type": "code",
   "execution_count": 3,
   "metadata": {
    "nbpresent": {
     "id": "0af2d0d8-8964-46df-acc4-606552b6090c"
    }
   },
   "outputs": [
    {
     "data": {
      "application/javascript": [
       "var width = window.innerWidth || document.documentElement.clientWidth || document.body.clientWidth;\n",
       "var height = window.innerHeight || document.documentElement.clientHeight || document.body.clientHeight;\n",
       "\n",
       "IPython.notebook.kernel.execute(\"windowSize = (\" + width + \",\" + height + \")\");\n",
       "// suitable for small screens\n",
       "nbpresent.mode.tree.set(\n",
       "    [\"app\", \"theme-manager\", \"themes\", \"my-theme\"], \n",
       "    {\n",
       "    palette: {\n",
       "        \"blue\": { id: \"blue\", rgb: [0, 153, 204] },\n",
       "        \"black\": { id: \"black\", rgb: [0, 0, 0] },\n",
       "        \"white\": { id: \"white\", rgb: [255, 255, 255] },\n",
       "        \"red\": { id: \"red\", rgb: [240, 32, 32] },\n",
       "        \"gray\": { id: \"gray\", rgb: [128, 128, 128] },\n",
       "    },\n",
       "    backgrounds: {\n",
       "        \"my-background\": {\n",
       "            \"background-color\": \"white\"\n",
       "        }\n",
       "    },\n",
       "    \"text-base\": {\n",
       "        \"font-family\": \"Georgia\",\n",
       "        \"font-size\": 2.5\n",
       "    },\n",
       "    rules: {\n",
       "        h1: {\n",
       "            \"font-size\": 5.5,\n",
       "            color: \"blue\",\n",
       "            \"text-align\": \"center\"\n",
       "        },\n",
       "        h2: {\n",
       "            \"font-size\": 3,\n",
       "            color: \"blue\",\n",
       "            \"text-align\": \"center\"\n",
       "        },\n",
       "        h3: {\n",
       "            \"font-size\": 3,\n",
       "            color: \"black\",\n",
       "        },\n",
       "        \"ul li\": {\n",
       "            \"font-size\": 2.5,\n",
       "            color: \"black\"\n",
       "        },\n",
       "        \"ul li ul li\": {\n",
       "            \"font-size\": 2.0,\n",
       "            color: \"black\"\n",
       "        },\n",
       "        \"code\": {\n",
       "            \"font-size\": 1.6,\n",
       "        },\n",
       "        \"pre\": {\n",
       "            \"font-size\": 1.6,\n",
       "        }\n",
       "    }\n",
       "});"
      ],
      "text/plain": [
       "<IPython.core.display.Javascript object>"
      ]
     },
     "metadata": {},
     "output_type": "display_data"
    }
   ],
   "source": [
    "%%javascript\n",
    "var width = window.innerWidth || document.documentElement.clientWidth || document.body.clientWidth;\n",
    "var height = window.innerHeight || document.documentElement.clientHeight || document.body.clientHeight;\n",
    "\n",
    "IPython.notebook.kernel.execute(\"windowSize = (\" + width + \",\" + height + \")\");\n",
    "// suitable for small screens\n",
    "nbpresent.mode.tree.set(\n",
    "    [\"app\", \"theme-manager\", \"themes\", \"my-theme\"], \n",
    "    {\n",
    "    palette: {\n",
    "        \"blue\": { id: \"blue\", rgb: [0, 153, 204] },\n",
    "        \"black\": { id: \"black\", rgb: [0, 0, 0] },\n",
    "        \"white\": { id: \"white\", rgb: [255, 255, 255] },\n",
    "        \"red\": { id: \"red\", rgb: [240, 32, 32] },\n",
    "        \"gray\": { id: \"gray\", rgb: [128, 128, 128] },\n",
    "    },\n",
    "    backgrounds: {\n",
    "        \"my-background\": {\n",
    "            \"background-color\": \"white\"\n",
    "        }\n",
    "    },\n",
    "    \"text-base\": {\n",
    "        \"font-family\": \"Georgia\",\n",
    "        \"font-size\": 2.5\n",
    "    },\n",
    "    rules: {\n",
    "        h1: {\n",
    "            \"font-size\": 5.5,\n",
    "            color: \"blue\",\n",
    "            \"text-align\": \"center\"\n",
    "        },\n",
    "        h2: {\n",
    "            \"font-size\": 3,\n",
    "            color: \"blue\",\n",
    "            \"text-align\": \"center\"\n",
    "        },\n",
    "        h3: {\n",
    "            \"font-size\": 3,\n",
    "            color: \"black\",\n",
    "        },\n",
    "        \"ul li\": {\n",
    "            \"font-size\": 2.5,\n",
    "            color: \"black\"\n",
    "        },\n",
    "        \"ul li ul li\": {\n",
    "            \"font-size\": 2.0,\n",
    "            color: \"black\"\n",
    "        },\n",
    "        \"code\": {\n",
    "            \"font-size\": 1.6,\n",
    "        },\n",
    "        \"pre\": {\n",
    "            \"font-size\": 1.6,\n",
    "        }\n",
    "    }\n",
    "});"
   ]
  },
  {
   "cell_type": "markdown",
   "metadata": {
    "nbpresent": {
     "id": "538d5959-7afd-4651-9fce-777afa13cf5d"
    },
    "slideshow": {
     "slide_type": "slide"
    }
   },
   "source": [
    "# Randomized Algorithms\n",
    "\n",
    "<img src=\"http://csbio.unc.edu/mcmillan/Comp555S18/Media/RandomDilbert.jpg\" class=\"centerImg\">\n",
    "\n",
    "* Problem Set #4 has been graded \n",
    "* Problem Set #5 by Thursday\n",
    "\n",
    "<p style=\"text-align: right; clear: right;\">1</p>"
   ]
  },
  {
   "cell_type": "markdown",
   "metadata": {
    "nbpresent": {
     "id": "cdc4f8ce-a5d6-4204-9d2b-71e032851831"
    },
    "slideshow": {
     "slide_type": "slide"
    }
   },
   "source": [
    "# Randomized Algorithms\n",
    "\n",
    "<img src=\"http://csbio.unc.edu/mcmillan/Comp555S18/Media/Randomized.png\" width=\"250px\" style=\"float: right; clear: right; margin-right: 40px;\">\n",
    "* Randomized algorithms incorporate random, rather than deterministic, decisions\n",
    "* Commonly used in situations where no exact and/or fast algorithm is known\n",
    "* Works for algorithms that behave well on typical data, but poorly in special cases\n",
    "* Main advantage is that no input can reliably produce worst-case results because the algorithm runs differently each time.\n",
    "\n",
    "<p style=\"text-align: right; clear: right;\">2</p>"
   ]
  },
  {
   "cell_type": "markdown",
   "metadata": {
    "nbpresent": {
     "id": "d71153aa-edc6-4daf-bf4f-21aab0123116"
    },
    "slideshow": {
     "slide_type": "slide"
    }
   },
   "source": [
    "# Select Algorithm\n",
    "\n",
    "* ***Select(L, k)*** finds the $k^{th}$ smallest element in *L*\n",
    "* *Select(L,1)* find the smallest element in a list:\n",
    " - Well known $O(n)$ algorithm\n",
    " \n",
    "              minv = HUGE\n",
    "              for v in L:\n",
    "                  if (v < minv):\n",
    "                      minv = v\n",
    "\n",
    "\n",
    "* *Select(L, len(L)/2)* finds the median…\n",
    " - How? \n",
    " - median = sorted(L)[len(L)/2] &rarr; $O(n logn)$\n",
    "* Can we find medians, or 1st quartiles in O(n)?\n",
    "\n",
    "<p style=\"text-align: right; clear: left;\">3</p>"
   ]
  },
  {
   "cell_type": "markdown",
   "metadata": {
    "nbpresent": {
     "id": "58f6c89c-1abe-4e52-a695-84ff9eaa2aa2"
    },
    "slideshow": {
     "slide_type": "slide"
    }
   },
   "source": [
    "# Recursive Select\n",
    "\n",
    "* ***Select(L, k)*** finds the $k^{th}$ smallest element in *L*\n",
    " - Select an element *m* from unsorted list *L* and partition *L* into two smaller lists:\n",
    "\n",
    "<div style=\"margin-left:100px\">\n",
    "$L_{lo}$ - elements smaller than *m*<br>\n",
    "$L_{hi}$ - elements larger than *m*   \n",
    "\n",
    "if len($L_{lo}$) > k:<br>&nbsp;&nbsp;&nbsp;&nbsp;Select($L_{lo}$, k)<br>elif k > len($L_{lo}$) + 1:<br>&nbsp;&nbsp;&nbsp;&nbsp;Select($L_{hi}$, k - len($L_{lo}$) - 1 )<br>else:<br>&nbsp;&nbsp;&nbsp;&nbsp;*m* is the $k^{th}$ smallest element\n",
    "</div>\n",
    "\n",
    "<p style=\"text-align: right; clear: right;\">4</p>"
   ]
  },
  {
   "cell_type": "markdown",
   "metadata": {
    "nbpresent": {
     "id": "3421db94-9acf-46ef-a52a-7a5003458854"
    },
    "slideshow": {
     "slide_type": "slide"
    }
   },
   "source": [
    "# Example of *Select(L,5)*\n",
    "\n",
    "Given the array: $L = \\{ 6, 3, 2, 8, 4, 5, 1, 7, 0, 9 \\}$\n",
    "\n",
    "* **Step 1:** Choose the first element as *m*\n",
    "\n",
    "$$\\Large L = \\{ \\color{red}{6}, 3, 2, 8, 4, 5, 1, 7, 0, 9 \\}$$\n",
    "\n",
    "* **Step 2:** Split into two lists\n",
    "\n",
    "$$\\Large\n",
    "\\begin{aligned}\n",
    "L_{lo} &= \\{ \\color{blue}{3, 2, 4, 5, 1, 0} \\} \\\\\n",
    "L_{hi} &= \\{ \\color{green}{8, 7, 9} \\} \\\\\n",
    "\\end{aligned}$$\n",
    "\n",
    "<p style=\"text-align: right; clear: right;\">5</p>"
   ]
  },
  {
   "cell_type": "markdown",
   "metadata": {
    "nbpresent": {
     "id": "5f037260-9815-443e-aaf8-0bc5c344b934"
    },
    "slideshow": {
     "slide_type": "slide"
    }
   },
   "source": [
    "# Example of *Select(L,5)* (continued)\n",
    "\n",
    "* **Step 3** Recurively call Select on either $L_{lo}$ or $L_{hi}$ until len($L_{lo}$) = k, then return *m*.\n",
    "\n",
    "$$ \n",
    "\\begin{aligned}\n",
    "len(L_{lo}) > k = 5 & \\rightarrow & \\\\\n",
    "       & Select(\\{ 3, 2, 4, 5, 1, 0 \\}, 5) & \\\\\n",
    "       & m = \\color{red}{3}\\qquad L_{lo} = \\{ \\color{blue}{2, 1, 0} \\}\\qquad L_{hi} = \\{ \\color{green}{4, 5} \\} \\\\\n",
    "k = 5 > len(L_{lo}) + 1 & \\rightarrow & \\\\\n",
    "       & Select(\\{ 4, 5 \\}, 5 - 3 - 1) & \\\\\n",
    "       & m = \\color{red}{4}\\qquad L_{lo} = \\{ \\}\\qquad L_{hi} = \\{ \\color{green}{5} \\} \\\\\n",
    "k = 1 > len(L_{lo}) + 1 & \\rightarrow & \\\\\n",
    "       & return\\; 4 & \\\\\n",
    "\\end{aligned}\n",
    "$$\n",
    "\n",
    "<p style=\"text-align: right; clear: left;\">6</p>"
   ]
  },
  {
   "cell_type": "markdown",
   "metadata": {
    "nbpresent": {
     "id": "60ca4a53-4b88-4b4a-91cf-468589a05bb8"
    },
    "slideshow": {
     "slide_type": "slide"
    }
   },
   "source": [
    "# Select in Python"
   ]
  },
  {
   "cell_type": "code",
   "execution_count": 16,
   "metadata": {
    "nbpresent": {
     "id": "4c926412-2d60-406e-a14c-2e60e237a56a"
    },
    "slideshow": {
     "slide_type": "fragment"
    }
   },
   "outputs": [
    {
     "name": "stdout",
     "output_type": "stream",
     "text": [
      "4\n"
     ]
    }
   ],
   "source": [
    "def select(L, k):\n",
    "    value = L[0]\n",
    "    Llo = [t for t in L if t < value]\n",
    "    Lhi = [t for t in L if t > value]\n",
    "    below = len(Llo) + 1\n",
    "    if (k < len(Llo)):\n",
    "        return select(Llo, k)\n",
    "    elif (k > below):\n",
    "        return select(Lhi, k - below)\n",
    "    else:\n",
    "        return value\n",
    "\n",
    "print select([6,3,2,8,4,5,1,7,0,9], 5)"
   ]
  },
  {
   "cell_type": "markdown",
   "metadata": {
    "nbpresent": {
     "id": "9d6e7199-e0e6-4bb1-81ff-c1b7fd73ff83"
    },
    "slideshow": {
     "slide_type": "fragment"
    }
   },
   "source": [
    "<p style=\"text-align: right; clear: right;\">7</p>"
   ]
  },
  {
   "cell_type": "markdown",
   "metadata": {
    "nbpresent": {
     "id": "de4e77f2-a1fa-4489-9dfd-8d36ab1dd295"
    },
    "slideshow": {
     "slide_type": "slide"
    }
   },
   "source": [
    "# *Select(L,k)* Performance\n",
    "\n",
    "Runtime depends on our selection of *m*:\n",
    "\n",
    "* A *good* selection will split *L* evenly such that\n",
    "\n",
    "$$|L_{lo}| = |L_{hi}|= \\frac{|L|}{2}$$\n",
    "\n",
    "* The recurrence relation is:\n",
    "$$T(n)  =  T\\left(\\frac{n}{2}\\right)$$\n",
    "\n",
    "\n",
    "$$ n + \\frac{n}{2} + \\frac{n}{4} + \\frac{n}{8} + \\frac{n}{16} + ... = 2n \\rightarrow O(n)$$\n",
    "\n",
    "* which is the same as the seach for *min(L)* or *max(L)*\n",
    "\n",
    "<p style=\"text-align: right; clear: right;\">8</p>"
   ]
  },
  {
   "cell_type": "markdown",
   "metadata": {
    "collapsed": true,
    "nbpresent": {
     "id": "23e7bd20-05cf-4f9b-a51c-9435e814057a"
    },
    "slideshow": {
     "slide_type": "slide"
    }
   },
   "source": [
    "# *Select(L,k)* with bad splits\n",
    "\n",
    "However, a poor selection will split *L* unevenly and in the  worst case, all elements will be greater or less than *m* so that one Sublist is full and the other is empty.\n",
    "\n",
    "* For a poor selection, the recurrence relation is:\n",
    "\n",
    "$$T(n)  =  T(n-1)$$\n",
    "\n",
    "* In this case, the runtime is $O(n^2)$, which is worse than sorting first and selecting the $k^{th}$ value\n",
    "\n",
    "\n",
    "Our dimemma: $O(n)$ or $O(n^2)$ depending on the list... or $O(n \\log n)$ independent of it\n",
    "\n",
    "\n",
    "<p style=\"text-align: right; clear: right;\">9</p>"
   ]
  },
  {
   "cell_type": "markdown",
   "metadata": {
    "nbpresent": {
     "id": "d8c3bc8c-4af6-4f43-afbf-56de0b3d33e9"
    },
    "slideshow": {
     "slide_type": "slide"
    }
   },
   "source": [
    "# Select(L,k) verdict\n",
    "\n",
    "* Select seems risky compared to sort\n",
    "* To improve Select, we need to choose *m* to give good ‘splits’\n",
    "* It can be proven that to achieve $O(n)$ running time, we don’t need a perfect splits, just reasonably good ones.\n",
    "* In fact, if both subarrays are at least of size $n/4$, then running time will be $O(n)$.\n",
    "* This implies that half of the choices of *m* make good splitters.\n",
    "\n",
    "<p style=\"text-align: right; clear: right;\">10</p>"
   ]
  },
  {
   "cell_type": "markdown",
   "metadata": {
    "nbpresent": {
     "id": "c85cd3e9-c71a-4cb2-86f2-b50a3540c2e0"
    },
    "slideshow": {
     "slide_type": "slide"
    }
   },
   "source": [
    "# A Randomized Approach\n",
    "\n",
    "* To improve *Select(L,k)*, randomly select *m*.\n",
    "* Since half of the elements will be good splitters, if we choose *m* at random we will get a 50% chance that *m* will be a good choice.\n",
    "* This approach will make sure that no matter what input is received, the expected running time is small.\n",
    "\n",
    "<p style=\"text-align: right; clear: right;\">11</p>"
   ]
  },
  {
   "cell_type": "markdown",
   "metadata": {
    "nbpresent": {
     "id": "9aa56520-c165-4aa8-af0d-ce66deb1b8bd"
    },
    "slideshow": {
     "slide_type": "slide"
    }
   },
   "source": [
    "# Randomized Select"
   ]
  },
  {
   "cell_type": "code",
   "execution_count": 18,
   "metadata": {
    "nbpresent": {
     "id": "13597e05-763d-40bc-99fc-6dc33e780823"
    }
   },
   "outputs": [
    {
     "name": "stdout",
     "output_type": "stream",
     "text": [
      "5\n",
      "100 loops, best of 3: 1.97 ms per loop\n"
     ]
    }
   ],
   "source": [
    "import random\n",
    "\n",
    "def randomizedSelect(L, k):\n",
    "    value = random.choice(L)\n",
    "    Llo = [t for t in L if t < value]\n",
    "    Lhi = [t for t in L if t > value]\n",
    "    below = len(Llo) + 1\n",
    "    if (k < len(Llo)):\n",
    "        return randomizedSelect(Llo, k)\n",
    "    elif (k > below):\n",
    "        return randomizedSelect(Lhi, k-below)\n",
    "    else:\n",
    "        return value\n",
    "\n",
    "print randomizedSelect([6,3,2,8,4,5,1,7,0,9], 5)\n",
    "%timeit randomizedSelect(range(10000), 500)"
   ]
  },
  {
   "cell_type": "markdown",
   "metadata": {
    "nbpresent": {
     "id": "3e15742f-2f15-444d-9eca-e993c35bef09"
    }
   },
   "source": [
    "<p style=\"text-align: right; clear: right;\">12</p>"
   ]
  },
  {
   "cell_type": "markdown",
   "metadata": {
    "nbpresent": {
     "id": "a61e6612-a34e-4af2-8da5-311d2939bd61"
    },
    "slideshow": {
     "slide_type": "slide"
    }
   },
   "source": [
    "# *RandomizedSelect(L,k)* Performance\n",
    "\n",
    "* Worst case runtime: $O(n^2)$\n",
    "* Expected runtime: $O(n)$\n",
    "* Expected runtime is a good measure of the performance of randomized algorithms, often more informative than worst case runtimes.\n",
    "* Worst case runtimes are rarely repeated \n",
    "* *RandomizedSelect(L,k)* always returns the correct answer, which offers a way to classify Randomized Algorithms.\n",
    "\n",
    "\n",
    "<p style=\"text-align: right; clear: right;\">13</p>"
   ]
  },
  {
   "cell_type": "markdown",
   "metadata": {
    "nbpresent": {
     "id": "48dbeec5-9713-47cb-a05f-c63cc12e07e3"
    },
    "slideshow": {
     "slide_type": "slide"
    }
   },
   "source": [
    "# Two Types of Randomized Algorithms\n",
    "\n",
    "<img src=\"http://csbio.unc.edu/mcmillan/Comp555S18/Media/LasVegas.jpeg\" width=\"200px\" style=\"float: right; clear: right; margin-right: 40px;\">\n",
    "* ***Las Vegas Algorithms*** – always produce the correct solution (i.e. randomizedSelect)\n",
    "\n",
    "* ***Monte Carlo Algorithms*** – do not always return the correct solution.\n",
    "<img src=\"http://csbio.unc.edu/mcmillan/Comp555S18/Media/MonteCarlo.jpg\" width=\"200px\" style=\"float: right; clear: right; margin-right: 40px;\">\n",
    "* Las Vegas Algorithms are always preferred, but they are often hard to come by.\n",
    "\n",
    "\n",
    "<p style=\"text-align: right; clear: right;\">14</p>"
   ]
  },
  {
   "cell_type": "markdown",
   "metadata": {
    "nbpresent": {
     "id": "663e515f-e75a-49f9-95eb-5874c59f19ac"
    },
    "slideshow": {
     "slide_type": "slide"
    }
   },
   "source": [
    "# The Motif Finding Problem\n",
    "\n",
    "Given a list of *t* sequences each of length *n*, find the “best” matching pattern of length *l* that appears in each of the *t* sequences.\n",
    "   \n",
    "<img src=\"http://csbio.unc.edu/mcmillan/Comp555S18/Media/MotifExample.png\" width=\"600px\" class=\"centerImg\">\n",
    "\n",
    "<p style=\"text-align: right; clear: right;\">15</p>"
   ]
  },
  {
   "cell_type": "markdown",
   "metadata": {
    "nbpresent": {
     "id": "2d86cc83-1560-48a3-9e3d-f8a5ac277e0c"
    },
    "slideshow": {
     "slide_type": "slide"
    }
   },
   "source": [
    "# A New Approach\n",
    "\n",
    "* ***Motif Finding Problem:*** Given a list of *t* sequences each of length *n*, find the “best” pattern of length *l* that appears in each of the *t* sequences.\n",
    "* ***Previously:*** we solved the Motif Finding Problem using a Branch and Bound or a Greedy technique.\n",
    "* ***Now:*** *Randomly* select possible locations and find a way to greedily change those locations until we converge to the hidden motif.\n",
    "\n",
    "<p style=\"text-align: right; clear: right;\">16</p>"
   ]
  },
  {
   "cell_type": "markdown",
   "metadata": {
    "nbpresent": {
     "id": "32faebcf-0c54-41a2-8c9c-5675eff7bbed"
    },
    "slideshow": {
     "slide_type": "slide"
    }
   },
   "source": [
    "# Profiles Revisited\n",
    "\n",
    "<img src=\"http://csbio.unc.edu/mcmillan/Comp555S18/Media/ProfileRevisit.png\" width=\"500px\" style=\"float: right; clear: right; margin-right: 40px;\">\n",
    "* Let $s = (s_1,s_2, ..., s_t)$ be the starting positions for *l*-mers in our *t* sequences.  \n",
    "* The substrings corresponding to these starting positions will form:\n",
    "    - $t \\times l$ alignment matrix \n",
    "    - $4 \\times l$ profile matrix\n",
    "* Normalized counts that they represent the fraction of each base at each position\n",
    "\n",
    "<p style=\"text-align: right; clear: right;\">17</p>"
   ]
  },
  {
   "cell_type": "markdown",
   "metadata": {
    "nbpresent": {
     "id": "3df605a0-7299-4755-9a75-e0472f9ac29d"
    },
    "slideshow": {
     "slide_type": "slide"
    }
   },
   "source": [
    "# Scoring Strings with a Profile\n",
    "\n",
    "* Let k-mer,  $\\boldsymbol{a} = a_1, a_2, a_3, ... a_k$ \n",
    "* $Prob(\\boldsymbol{a}|P)$ is defined as the probability that an k-mer **a** was created by the Profile *P*. \n",
    "* If $\\boldsymbol{a}$ is very similar to the consensus string of *P* then $Prob(\\boldsymbol{a}|P)$  will be high\n",
    "* If $\\boldsymbol{a}$ is very different, then $Prob(\\boldsymbol{a}|P)$ will be low.\n",
    "\n",
    "$$Prob(\\boldsymbol{a}|P) = \\prod_{i=1}^{l} p(a_i,i)$$\n",
    "\n",
    "<p style=\"text-align: right; clear: right;\">18</p>"
   ]
  },
  {
   "cell_type": "markdown",
   "metadata": {
    "nbpresent": {
     "id": "c508b08c-959a-4fe9-9dbf-33c3df9f5930"
    },
    "slideshow": {
     "slide_type": "slide"
    }
   },
   "source": [
    "# Scoring with a Profile\n",
    "\n",
    "Given the profile: $P =$\n",
    "\n",
    "|base| 1  |  2  |  3  |  4  |  5  |  6  |\n",
    "|:--:|:--:|:---:|:---:|:---:|:---:|:---:|\n",
    "| A | 1/2 | 7/8 | 3/8 |  0  | 1/8 |  0  |\n",
    "| C | 1/8 |  0  | 1/2 | 5/8 | 3/8 |  0  |\n",
    "| T | 1/8 | 1/8 |  0  |  0  | 1/4 | 7/8 |\n",
    "| G | 1/4 |  0  | 1/8 | 3/8 | 1/4 | 1/8 |\n",
    "\n",
    "The probability of the consequence string: $Prob(aaacct|P) = 1/2 \\times 7/8 \\times 3/8 \\times 5/8 \\times 3/8 \\times 7/8 = 0.033646$\n",
    "\n",
    "The probability of a different string: $Prob(atacag|P) = 1/2 \\times 1/8 \\times 3/8 \\times 5/8 \\times 1/8 \\times 1/8 = 0.001602$\n",
    "\n",
    "<p style=\"text-align: right; clear: right;\">19</p>"
   ]
  },
  {
   "cell_type": "markdown",
   "metadata": {
    "nbpresent": {
     "id": "27227e70-5798-4552-9360-3502b7b6d5ff"
    },
    "slideshow": {
     "slide_type": "slide"
    }
   },
   "source": [
    "# P-Most Probable k-mer\n",
    "\n",
    "* Define the **P**-most probable k-mer from a sequence as a k-mer in that sequence which has the highest probability of being created from the profile *P*.\n",
    "\n",
    "|base| 1  |  2  |  3  |  4  |  5  |  6  |\n",
    "|:--:|:--:|:---:|:---:|:---:|:---:|:---:|\n",
    "| A | 1/2 | 7/8 | 3/8 |  0  | 1/8 |  0  |\n",
    "| C | 1/8 |  0  | 1/2 | 5/8 | 3/8 |  0  |\n",
    "| T | 1/8 | 1/8 |  0  |  0  | 1/4 | 7/8 |\n",
    "| G | 1/4 |  0  | 1/8 | 3/8 | 1/4 | 1/8 |\n",
    "\n",
    "Given a sequence = <code>CTATAAACCTTACATC</code>, find the P-most probable k-mer\n",
    "\n",
    "Find the $Prob(\\boldsymbol{a}|P)$ of every possible 6-mer\n",
    "\n",
    "<pre>\n",
    "           <span style=\"color: red;\">CTATAA</span>ACCTTACATC\n",
    "           C<span style=\"color: red;\">TATAAA</span>CCTTACATC\n",
    "           CT<span style=\"color: red;\">ATAAAC</span>CTTACATC\n",
    "           CTA<span style=\"color: red;\">TAAACC</span>TTACATC\n",
    "           CTAT<span style=\"color: red;\">AAACCT</span>TACATC\n",
    "           CTATA<span style=\"color: red;\">AACCTT</span>ACATC\n",
    "           CTATAA<span style=\"color: red;\">ACCTTA</span>CATC\n",
    "           CTATAAA<span style=\"color: red;\">CCTTAC</span>ATC\n",
    "</pre>\n",
    "<p style=\"text-align: right; clear: right;\">20</p>"
   ]
  },
  {
   "cell_type": "markdown",
   "metadata": {
    "nbpresent": {
     "id": "407fd438-a723-443a-821a-bae5f08afafa"
    },
    "slideshow": {
     "slide_type": "slide"
    }
   },
   "source": [
    "# P-Most Probable k-mer\n",
    "\n",
    "Compute $Prob(\\boldsymbol{a}|P)$ of every possible 6-mer\n",
    "\n",
    "|String highlighted in red                        | Path                                            | Prob |\n",
    "|:-----------------------------------------------:|:-----------------------------------------------:|:----:|\n",
    "|<span style=\"color: red;\">CTATAA</span>ACCTTACATC|1/8&times;1/8&times;3/8&times;0&times;1/8&times;0| 0 |\n",
    "|C<span style=\"color: red;\">TATAAA</span>CCTTACATC|1/2&times;7/8&times;0&times;0&times;1/8&times;0  | 0 |\n",
    "|CT<span style=\"color: red;\">ATAAAC</span>CTTACATC|1/2&times;1/8&times;3/8&times;0&times;1/8&times;0| 0 |\n",
    "|CTA<span style=\"color: red;\">TAAACC</span>TTACATC|1/8&times;7/8&times;3/8&times;0&times;3/8&times;0| 0 |\n",
    "|CTAT<span style=\"color: red;\">AAACCT</span>TACATC|1/2&times;7/8&times;3/8&times;5/8&times;3/8&times;7/8| **0.0336** |\n",
    "|CTATA<span style=\"color: red;\">AACCTT</span>ACATC|1/2&times;7/8&times;1/2&times;5/8&times;1/4&times;7/8| 0.0299 |\n",
    "|CTATAA<span style=\"color: red;\">ACCTTA</span>CATC|1/2&times;0&times;1/2&times;0&times;1/4&times;0| 0 |\n",
    "|CTATAAA<span style=\"color: red;\">CCTTAC</span>ATC|1/8&times;0&times;0&times;0&times;1/8&times;0| 0 |\n",
    "|CTATAAAC<span style=\"color: red;\">CTTACA</span>TC|1/8&times;1/8&times;0&times;0&times;3/8&times;0| 0 |\n",
    "|CTATAAACC<span style=\"color: red;\">TTACAT</span>C|1/8&times;1/8&times;3/8&times;5/8&times;1/8&times;7/8| 0.0004 |\n",
    "|CTATAAACCT<span style=\"color: red;\">TACATC</span>|1/8&times;7/8&times;1/2&times;0&times;1/4&times;0| 0 |\n",
    "\n",
    "* <code>AAACCT</code> is the P-most probable 6-mer\n",
    "\n",
    "<p style=\"text-align: right; clear: right;\">21</p>"
   ]
  },
  {
   "cell_type": "markdown",
   "metadata": {
    "nbpresent": {
     "id": "908c789a-128a-47a6-8f62-2858531ed3d9"
    },
    "slideshow": {
     "slide_type": "slide"
    }
   },
   "source": [
    "# Dealing with Zeros\n",
    "\n",
    "* In our toy example $Prob(\\boldsymbol{a}|P)$ in many cases. In practice, there will be enough sequences so that the number of  elements in the profile with a frequency of zero is small.\n",
    "* To avoid many entries with $Prob(\\boldsymbol{a}|P)$, there exist techniques to equate zero to a very small number so that one zero does not make the entire probability of a string zero (assigning a *prior* probability, we will not address these techniques here).\n",
    "\n",
    "<p style=\"text-align: right; clear: right;\">22</p>"
   ]
  },
  {
   "cell_type": "markdown",
   "metadata": {
    "nbpresent": {
     "id": "39b23bca-f6c7-4b4d-9e21-ef2f36e7c3e2"
    },
    "slideshow": {
     "slide_type": "slide"
    }
   },
   "source": [
    "# P-Most Probable k-mers in Many Sequences\n",
    "\n",
    "<img src=\"http://csbio.unc.edu/mcmillan/Comp555S18/Media/PMostProbsinMany.png\" width=\"200px\" style=\"float: right; clear: right; margin-right: 40px;\">\n",
    "* Find the P-most probable k-mer in each of the “t” sequences.\n",
    "\n",
    "|base| 1  |  2  |  3  |  4  |  5  |  6  |\n",
    "|:--:|:--:|:---:|:---:|:---:|:---:|:---:|\n",
    "| A | 1/2 | 7/8 | 3/8 |  0  | 1/8 |  0  |\n",
    "| C | 1/8 |  0  | 1/2 | 5/8 | 3/8 |  0  |\n",
    "| T | 1/8 | 1/8 |  0  |  0  | 1/4 | 7/8 |\n",
    "| G | 1/4 |  0  | 1/8 | 3/8 | 1/4 | 1/8 |\n",
    "\n",
    "<p style=\"text-align: right; clear: right;\">23</p>"
   ]
  },
  {
   "cell_type": "markdown",
   "metadata": {
    "nbpresent": {
     "id": "bfcefb88-ad3c-4ffa-be70-e519c6710200"
    },
    "slideshow": {
     "slide_type": "slide"
    }
   },
   "source": [
    "# Next Time\n",
    "\n",
    "* A consensus of consensus\n",
    "* When does randomization show up?\n",
    "\n",
    "<img src=\"http://csbio.unc.edu/mcmillan/Comp555S18/Media/ConsensusConsensus.png\" width=\"600px\" class=\"centerImg\">\n",
    "\n",
    "<p style=\"text-align: right; clear: right;\">24</p>"
   ]
  },
  {
   "cell_type": "code",
   "execution_count": null,
   "metadata": {},
   "outputs": [],
   "source": []
  }
 ],
 "metadata": {
  "anaconda-cloud": {},
  "celltoolbar": "Slideshow",
  "kernelspec": {
   "display_name": "Python 2",
   "language": "python",
   "name": "python2"
  },
  "language_info": {
   "codemirror_mode": {
    "name": "ipython",
    "version": 2
   },
   "file_extension": ".py",
   "mimetype": "text/x-python",
   "name": "python",
   "nbconvert_exporter": "python",
   "pygments_lexer": "ipython2",
   "version": "2.7.14"
  },
  "nbpresent": {
   "slides": {
    "0d11fa6b-63e4-429d-874a-c096285fe971": {
     "id": "0d11fa6b-63e4-429d-874a-c096285fe971",
     "prev": "f89fecec-7c0f-4584-970d-18d5df744eee",
     "regions": {
      "ada7c757-0693-4f47-8844-0a69007c225f": {
       "attrs": {
        "height": 0.96,
        "width": 0.96,
        "x": 0.02,
        "y": 0.02
       },
       "content": {
        "cell": "d8c3bc8c-4af6-4f43-afbf-56de0b3d33e9",
        "part": "whole"
       },
       "id": "ada7c757-0693-4f47-8844-0a69007c225f"
      }
     }
    },
    "109ffe97-690b-4a9c-a08a-b8d081ea4367": {
     "id": "109ffe97-690b-4a9c-a08a-b8d081ea4367",
     "prev": "59e61e1a-e2ce-4449-8423-b079c31bb623",
     "regions": {
      "405a9ad4-8314-4542-8a22-43753ad13f12": {
       "attrs": {
        "height": 0.96,
        "width": 0.96,
        "x": 0.02,
        "y": 0.02
       },
       "content": {
        "cell": "908c789a-128a-47a6-8f62-2858531ed3d9",
        "part": "whole"
       },
       "id": "405a9ad4-8314-4542-8a22-43753ad13f12"
      }
     }
    },
    "21baaeda-7a87-4644-b489-9156652cc767": {
     "id": "21baaeda-7a87-4644-b489-9156652cc767",
     "prev": null,
     "regions": {
      "f18362db-9cc9-4ab5-85e6-726a421c3082": {
       "attrs": {
        "height": 0.96,
        "width": 0.96,
        "x": 0.02,
        "y": 0.02
       },
       "content": {
        "cell": "538d5959-7afd-4651-9fce-777afa13cf5d",
        "part": "whole"
       },
       "id": "f18362db-9cc9-4ab5-85e6-726a421c3082"
      }
     }
    },
    "27185f3e-2a0f-4c1e-8ac9-2f8b72365bf1": {
     "id": "27185f3e-2a0f-4c1e-8ac9-2f8b72365bf1",
     "prev": "d161c9ac-ea5f-4a16-ad30-fac5da95b9d7",
     "regions": {
      "3aee5b0a-bcdc-4793-b4cc-8367bcd4a979": {
       "attrs": {
        "height": 0.96,
        "width": 0.96,
        "x": 0.02,
        "y": 0.02
       },
       "content": {
        "cell": "3421db94-9acf-46ef-a52a-7a5003458854",
        "part": "whole"
       },
       "id": "3aee5b0a-bcdc-4793-b4cc-8367bcd4a979"
      }
     }
    },
    "2a7de429-4e87-4991-bbae-2706c26d498c": {
     "id": "2a7de429-4e87-4991-bbae-2706c26d498c",
     "prev": "54fb52a8-2b72-4d61-a616-af4ddd0834ac",
     "regions": {
      "bb953d17-425c-488e-97bd-af4857896cd2": {
       "attrs": {
        "height": 0.96,
        "width": 0.96,
        "x": 0.02,
        "y": 0.02
       },
       "content": {
        "cell": "bfcefb88-ad3c-4ffa-be70-e519c6710200",
        "part": "whole"
       },
       "id": "bb953d17-425c-488e-97bd-af4857896cd2"
      }
     }
    },
    "3d9a2f93-6cfe-44ab-b528-8518313fb843": {
     "id": "3d9a2f93-6cfe-44ab-b528-8518313fb843",
     "prev": "bfa2688b-5d59-4cd5-8f83-4f9fd90185d1",
     "regions": {
      "d4087a0f-1e57-4715-8bfb-90a028106e19": {
       "attrs": {
        "height": 0.96,
        "width": 0.96,
        "x": 0.02,
        "y": 0.02
       },
       "content": {
        "cell": "663e515f-e75a-49f9-95eb-5874c59f19ac",
        "part": "whole"
       },
       "id": "d4087a0f-1e57-4715-8bfb-90a028106e19"
      }
     }
    },
    "43d6d6a5-e2b0-4128-a81e-fb40db259d76": {
     "id": "43d6d6a5-e2b0-4128-a81e-fb40db259d76",
     "prev": "ef9920f6-e2eb-4fed-99ef-01de75833958",
     "regions": {
      "208c1abd-a1fc-449a-acc0-ef868ba7f56a": {
       "attrs": {
        "height": 0.96,
        "width": 0.96,
        "x": 0.02,
        "y": 0.02
       },
       "content": {
        "cell": "de4e77f2-a1fa-4489-9dfd-8d36ab1dd295",
        "part": "whole"
       },
       "id": "208c1abd-a1fc-449a-acc0-ef868ba7f56a"
      }
     }
    },
    "54fb52a8-2b72-4d61-a616-af4ddd0834ac": {
     "id": "54fb52a8-2b72-4d61-a616-af4ddd0834ac",
     "prev": "109ffe97-690b-4a9c-a08a-b8d081ea4367",
     "regions": {
      "bebca8fa-ccf7-4b0b-9981-050bb2523e62": {
       "attrs": {
        "height": 0.96,
        "width": 0.96,
        "x": 0.02,
        "y": 0.02
       },
       "content": {
        "cell": "39b23bca-f6c7-4b4d-9e21-ef2f36e7c3e2",
        "part": "whole"
       },
       "id": "bebca8fa-ccf7-4b0b-9981-050bb2523e62"
      }
     }
    },
    "59e61e1a-e2ce-4449-8423-b079c31bb623": {
     "id": "59e61e1a-e2ce-4449-8423-b079c31bb623",
     "prev": "7b2cda45-8efa-4d3e-b4d0-4209b54e5bd5",
     "regions": {
      "a6c367ca-0f83-4e7b-a78b-b3380ed1d24f": {
       "attrs": {
        "height": 0.96,
        "width": 0.96,
        "x": 0.02,
        "y": 0.02
       },
       "content": {
        "cell": "407fd438-a723-443a-821a-bae5f08afafa",
        "part": "whole"
       },
       "id": "a6c367ca-0f83-4e7b-a78b-b3380ed1d24f"
      }
     }
    },
    "5ac2e041-90e9-4cdc-8599-3360927662f8": {
     "id": "5ac2e041-90e9-4cdc-8599-3360927662f8",
     "prev": "cc38386b-68f7-40b7-be5f-475078bf333c",
     "regions": {
      "e983ba21-d42f-4ef2-b7b1-e2ce15e3f5e3": {
       "attrs": {
        "height": 0.96,
        "width": 0.96,
        "x": 0.02,
        "y": 0.02
       },
       "content": {
        "cell": "32faebcf-0c54-41a2-8c9c-5675eff7bbed",
        "part": "whole"
       },
       "id": "e983ba21-d42f-4ef2-b7b1-e2ce15e3f5e3"
      }
     }
    },
    "5e90658b-acb9-4639-8ba1-b534ef6bbd4b": {
     "id": "5e90658b-acb9-4639-8ba1-b534ef6bbd4b",
     "prev": "8f493dda-9053-48c2-8d54-e50f99cad3f9",
     "regions": {
      "70235dd5-1a29-4305-b7b5-79d316477456": {
       "attrs": {
        "height": 0.96,
        "width": 0.96,
        "x": 0.02,
        "y": 0.02
       },
       "content": {
        "cell": "a61e6612-a34e-4af2-8da5-311d2939bd61",
        "part": "whole"
       },
       "id": "70235dd5-1a29-4305-b7b5-79d316477456"
      }
     }
    },
    "6542a979-9aaf-4205-b524-9f0cc4300b5a": {
     "id": "6542a979-9aaf-4205-b524-9f0cc4300b5a",
     "prev": "82d60af4-1490-4c20-ab4c-724569ee19f3",
     "regions": {
      "eae81fc5-9407-4f7f-935a-c427da54851f": {
       "attrs": {
        "height": 0.96,
        "width": 0.96,
        "x": 0.02,
        "y": 0.02
       },
       "content": {
        "cell": "d71153aa-edc6-4daf-bf4f-21aab0123116",
        "part": "whole"
       },
       "id": "eae81fc5-9407-4f7f-935a-c427da54851f"
      }
     }
    },
    "7b2cda45-8efa-4d3e-b4d0-4209b54e5bd5": {
     "id": "7b2cda45-8efa-4d3e-b4d0-4209b54e5bd5",
     "prev": "b3f7fd87-2730-4725-8d39-bdee6de006c6",
     "regions": {
      "f9286b94-1c29-49f9-b1a6-b946d211a180": {
       "attrs": {
        "height": 0.96,
        "width": 0.96,
        "x": 0.02,
        "y": 0.02
       },
       "content": {
        "cell": "27227e70-5798-4552-9360-3502b7b6d5ff",
        "part": "whole"
       },
       "id": "f9286b94-1c29-49f9-b1a6-b946d211a180"
      }
     }
    },
    "82d60af4-1490-4c20-ab4c-724569ee19f3": {
     "id": "82d60af4-1490-4c20-ab4c-724569ee19f3",
     "prev": "21baaeda-7a87-4644-b489-9156652cc767",
     "regions": {
      "b38e48ab-5a46-48e4-9b28-edc35b4ff342": {
       "attrs": {
        "height": 0.96,
        "width": 0.96,
        "x": 0.02,
        "y": 0.02
       },
       "content": {
        "cell": "cdc4f8ce-a5d6-4204-9d2b-71e032851831",
        "part": "whole"
       },
       "id": "b38e48ab-5a46-48e4-9b28-edc35b4ff342"
      }
     }
    },
    "8f493dda-9053-48c2-8d54-e50f99cad3f9": {
     "id": "8f493dda-9053-48c2-8d54-e50f99cad3f9",
     "prev": "c59160ef-4668-4a0b-a2e1-adecbd268f9c",
     "regions": {
      "02ff5c34-a71f-447e-ab29-a9e32b06442c": {
       "attrs": {
        "height": 0.10487435664547398,
        "width": 0.9566757493188012,
        "x": 0.025068119891008184,
        "y": 0.848410535876476
       },
       "content": {
        "cell": "3e15742f-2f15-444d-9eca-e993c35bef09",
        "part": "whole"
       },
       "id": "02ff5c34-a71f-447e-ab29-a9e32b06442c"
      },
      "58870187-69b2-462e-8875-6c188bc90e12": {
       "attrs": {
        "height": 0.6667877686951258,
        "width": 0.9566757493188012,
        "x": 0.023705722070844693,
        "y": 0.17750529821374506
       },
       "content": {
        "cell": "13597e05-763d-40bc-99fc-6dc33e780823",
        "part": "whole"
       },
       "id": "58870187-69b2-462e-8875-6c188bc90e12"
      },
      "ee4a3ed5-c7fb-41db-b14c-2464387c9a19": {
       "attrs": {
        "height": 0.15588808909234034,
        "width": 0.96,
        "x": 0.02,
        "y": 0.02
       },
       "content": {
        "cell": "9aa56520-c165-4aa8-af0d-ce66deb1b8bd",
        "part": "whole"
       },
       "id": "ee4a3ed5-c7fb-41db-b14c-2464387c9a19"
      }
     }
    },
    "b3f7fd87-2730-4725-8d39-bdee6de006c6": {
     "id": "b3f7fd87-2730-4725-8d39-bdee6de006c6",
     "prev": "cb8a9d03-c5be-4ff1-9163-ba6880d4db46",
     "regions": {
      "60cce9c6-3451-44ef-9987-969b1976cbcf": {
       "attrs": {
        "height": 0.96,
        "width": 0.96,
        "x": 0.02,
        "y": 0.02
       },
       "content": {
        "cell": "c508b08c-959a-4fe9-9dbf-33c3df9f5930",
        "part": "whole"
       },
       "id": "60cce9c6-3451-44ef-9987-969b1976cbcf"
      }
     }
    },
    "bfa2688b-5d59-4cd5-8f83-4f9fd90185d1": {
     "id": "bfa2688b-5d59-4cd5-8f83-4f9fd90185d1",
     "prev": "5e90658b-acb9-4639-8ba1-b534ef6bbd4b",
     "regions": {
      "3fc03ae7-00ad-414e-a4bb-d49717b2f798": {
       "attrs": {
        "height": 0.96,
        "width": 0.96,
        "x": 0.02,
        "y": 0.02
       },
       "content": {
        "cell": "48dbeec5-9713-47cb-a05f-c63cc12e07e3",
        "part": "whole"
       },
       "id": "3fc03ae7-00ad-414e-a4bb-d49717b2f798"
      }
     }
    },
    "c59160ef-4668-4a0b-a2e1-adecbd268f9c": {
     "id": "c59160ef-4668-4a0b-a2e1-adecbd268f9c",
     "prev": "0d11fa6b-63e4-429d-874a-c096285fe971",
     "regions": {
      "ab8c7389-07c0-4460-bc8b-316e4c617476": {
       "attrs": {
        "height": 0.96,
        "width": 0.96,
        "x": 0.02,
        "y": 0.02
       },
       "content": {
        "cell": "c85cd3e9-c71a-4cb2-86f2-b50a3540c2e0",
        "part": "whole"
       },
       "id": "ab8c7389-07c0-4460-bc8b-316e4c617476"
      }
     }
    },
    "cb8a9d03-c5be-4ff1-9163-ba6880d4db46": {
     "id": "cb8a9d03-c5be-4ff1-9163-ba6880d4db46",
     "prev": "5ac2e041-90e9-4cdc-8599-3360927662f8",
     "regions": {
      "148cabd8-ef80-48e5-923e-9668c4bc4504": {
       "attrs": {
        "height": 0.96,
        "width": 0.96,
        "x": 0.02,
        "y": 0.02
       },
       "content": {
        "cell": "3df605a0-7299-4755-9a75-e0472f9ac29d",
        "part": "whole"
       },
       "id": "148cabd8-ef80-48e5-923e-9668c4bc4504"
      }
     }
    },
    "cc38386b-68f7-40b7-be5f-475078bf333c": {
     "id": "cc38386b-68f7-40b7-be5f-475078bf333c",
     "prev": "3d9a2f93-6cfe-44ab-b528-8518313fb843",
     "regions": {
      "c8a4c331-4993-4cea-ad7e-9e64c26e7dde": {
       "attrs": {
        "height": 0.96,
        "width": 0.96,
        "x": 0.02,
        "y": 0.02
       },
       "content": {
        "cell": "2d86cc83-1560-48a3-9e3d-f8a5ac277e0c",
        "part": "whole"
       },
       "id": "c8a4c331-4993-4cea-ad7e-9e64c26e7dde"
      }
     }
    },
    "d161c9ac-ea5f-4a16-ad30-fac5da95b9d7": {
     "id": "d161c9ac-ea5f-4a16-ad30-fac5da95b9d7",
     "prev": "6542a979-9aaf-4205-b524-9f0cc4300b5a",
     "regions": {
      "067489bb-a463-4003-a180-8cd9c39b981d": {
       "attrs": {
        "height": 0.16173267326732663,
        "width": 0.96,
        "x": 0.02,
        "y": 0.02
       },
       "content": {
        "cell": "58f6c89c-1abe-4e52-a695-84ff9eaa2aa2",
        "part": "source"
       },
       "id": "067489bb-a463-4003-a180-8cd9c39b981d"
      },
      "4c50f044-8fd6-4418-b1db-f0d10aa01ec3": {
       "attrs": {
        "height": 0.08465346534653477,
        "width": 0.9594214108910892,
        "x": 0.022029702970297032,
        "y": 0.8982673267326732
       },
       "content": {
        "cell": "ce55ff9d-a0ea-46db-a44b-abfa2496b07f",
        "part": "source"
       },
       "id": "4c50f044-8fd6-4418-b1db-f0d10aa01ec3"
      },
      "cb854480-4faf-498b-a4dc-479aee05e5e8": {
       "attrs": {
        "height": 0.7220297029702971,
        "width": 0.9573329207920793,
        "x": 0.02133353960396036,
        "y": 0.17920792079207915
       },
       "content": {
        "cell": "604635df-f533-4f9b-90c0-036ee0719a45",
        "part": "whole"
       },
       "id": "cb854480-4faf-498b-a4dc-479aee05e5e8"
      }
     }
    },
    "d5ab7225-8e25-4d0b-8d55-31550c1a5943": {
     "id": "d5ab7225-8e25-4d0b-8d55-31550c1a5943",
     "prev": "27185f3e-2a0f-4c1e-8ac9-2f8b72365bf1",
     "regions": {
      "08c35cde-81b0-4dab-ae7a-965efbc66be5": {
       "attrs": {
        "height": 0.96,
        "width": 0.96,
        "x": 0.02,
        "y": 0.02
       },
       "content": {
        "cell": "5f037260-9815-443e-aaf8-0bc5c344b934",
        "part": "whole"
       },
       "id": "08c35cde-81b0-4dab-ae7a-965efbc66be5"
      }
     }
    },
    "ef9920f6-e2eb-4fed-99ef-01de75833958": {
     "id": "ef9920f6-e2eb-4fed-99ef-01de75833958",
     "prev": "d5ab7225-8e25-4d0b-8d55-31550c1a5943",
     "regions": {
      "55ee4a25-7377-425d-9c2a-f963240d0ab8": {
       "attrs": {
        "height": 0.6643657281259463,
        "width": 0.9594005449591281,
        "x": 0.02098092643051772,
        "y": 0.19688162276718132
       },
       "content": {
        "cell": "4c926412-2d60-406e-a14c-2e60e237a56a",
        "part": "whole"
       },
       "id": "55ee4a25-7377-425d-9c2a-f963240d0ab8"
      },
      "7bc1c4d9-21e1-43f4-9a50-7a21bba88253": {
       "attrs": {
        "height": 0.17283681501665157,
        "width": 0.96,
        "x": 0.024087193460490396,
        "y": 0.01757795943082045
       },
       "content": {
        "cell": "60ca4a53-4b88-4b4a-91cf-468589a05bb8",
        "part": "whole"
       },
       "id": "7bc1c4d9-21e1-43f4-9a50-7a21bba88253"
      },
      "df47bdec-7363-4d14-850b-c0c74ec8402d": {
       "attrs": {
        "height": 0.09276415379957631,
        "width": 0.9621253405994551,
        "x": 0.019618528610354232,
        "y": 0.8580986981531942
       },
       "content": {
        "cell": "9d6e7199-e0e6-4bb1-81ff-c1b7fd73ff83",
        "part": "whole"
       },
       "id": "df47bdec-7363-4d14-850b-c0c74ec8402d"
      }
     }
    },
    "f7d2c5bd-79de-4989-8481-ab7354161c2e": {
     "id": "f7d2c5bd-79de-4989-8481-ab7354161c2e",
     "prev": "2a7de429-4e87-4991-bbae-2706c26d498c",
     "regions": {
      "9085a72e-008f-427c-8c51-544ce0984f1e": {
       "attrs": {
        "height": 0.96,
        "width": 0.96,
        "x": 0.02,
        "y": 0.02
       },
       "content": {
        "cell": "372e5dd3-2da4-4d4b-bec1-baef095befe2",
        "part": "whole"
       },
       "id": "9085a72e-008f-427c-8c51-544ce0984f1e"
      }
     }
    },
    "f89fecec-7c0f-4584-970d-18d5df744eee": {
     "id": "f89fecec-7c0f-4584-970d-18d5df744eee",
     "prev": "43d6d6a5-e2b0-4128-a81e-fb40db259d76",
     "regions": {
      "b79415f2-f8b3-49ae-9327-e6342a0f279c": {
       "attrs": {
        "height": 0.96,
        "width": 0.96,
        "x": 0.02,
        "y": 0.02
       },
       "content": {
        "cell": "23e7bd20-05cf-4f9b-a51c-9435e814057a",
        "part": "whole"
       },
       "id": "b79415f2-f8b3-49ae-9327-e6342a0f279c"
      }
     }
    }
   },
   "themes": {
    "default": "e84c8589-1aee-4bd4-b152-49b9506b8a54",
    "theme": {
     "e84c8589-1aee-4bd4-b152-49b9506b8a54": {
      "backgrounds": {
       "my-background": {
        "background-color": "white"
       }
      },
      "id": "e84c8589-1aee-4bd4-b152-49b9506b8a54",
      "palette": {
       "black": {
        "id": "black",
        "rgb": [
         0,
         0,
         0
        ]
       },
       "blue": {
        "id": "blue",
        "rgb": [
         0,
         153,
         204
        ]
       },
       "gray": {
        "id": "gray",
        "rgb": [
         128,
         128,
         128
        ]
       },
       "red": {
        "id": "red",
        "rgb": [
         240,
         32,
         32
        ]
       },
       "white": {
        "id": "white",
        "rgb": [
         255,
         255,
         255
        ]
       }
      },
      "rules": {
       "code": {
        "font-size": 1.6
       },
       "h1": {
        "color": "blue",
        "font-size": 5.5,
        "text-align": "center"
       },
       "h2": {
        "color": "blue",
        "font-size": 3,
        "text-align": "center"
       },
       "h3": {
        "color": "black",
        "font-size": 3
       },
       "pre": {
        "font-size": 1.6
       },
       "ul li": {
        "color": "black",
        "font-size": 2.5
       },
       "ul li ul li": {
        "color": "black",
        "font-size": 2
       }
      },
      "text-base": {
       "font-family": "Georgia",
       "font-size": 2.5
      }
     }
    }
   }
  }
 },
 "nbformat": 4,
 "nbformat_minor": 1
}
