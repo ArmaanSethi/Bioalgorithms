{
 "cells": [
  {
   "cell_type": "code",
   "execution_count": 1,
   "metadata": {
    "nbpresent": {
     "id": "0af2d0d8-8964-46df-acc4-606552b6090c"
    }
   },
   "outputs": [
    {
     "data": {
      "application/javascript": [
       "var width = window.innerWidth || document.documentElement.clientWidth || document.body.clientWidth;\n",
       "var height = window.innerHeight || document.documentElement.clientHeight || document.body.clientHeight;\n",
       "\n",
       "IPython.notebook.kernel.execute(\"windowSize = (\" + width + \",\" + height + \")\");\n",
       "// suitable for small screens\n",
       "nbpresent.mode.tree.set(\n",
       "    [\"app\", \"theme-manager\", \"themes\", \"my-theme\"], \n",
       "    {\n",
       "    palette: {\n",
       "        \"blue\": { id: \"blue\", rgb: [0, 153, 204] },\n",
       "        \"black\": { id: \"black\", rgb: [0, 0, 0] },\n",
       "        \"white\": { id: \"white\", rgb: [255, 255, 255] },\n",
       "        \"red\": { id: \"red\", rgb: [240, 32, 32] },\n",
       "        \"gray\": { id: \"gray\", rgb: [128, 128, 128] },\n",
       "    },\n",
       "    backgrounds: {\n",
       "        \"my-background\": {\n",
       "            \"background-color\": \"white\"\n",
       "        }\n",
       "    },\n",
       "    \"text-base\": {\n",
       "        \"font-family\": \"Georgia\",\n",
       "        \"font-size\": 2.5\n",
       "    },\n",
       "    rules: {\n",
       "        h1: {\n",
       "            \"font-size\": 5.5,\n",
       "            color: \"blue\",\n",
       "            \"text-align\": \"center\"\n",
       "        },\n",
       "        h2: {\n",
       "            \"font-size\": 3,\n",
       "            color: \"blue\",\n",
       "            \"text-align\": \"center\"\n",
       "        },\n",
       "        h3: {\n",
       "            \"font-size\": 3,\n",
       "            color: \"black\",\n",
       "        },\n",
       "        \"ul li\": {\n",
       "            \"font-size\": 2.5,\n",
       "            color: \"black\"\n",
       "        },\n",
       "        \"ul li ul li\": {\n",
       "            \"font-size\": 2.0,\n",
       "            color: \"black\"\n",
       "        },\n",
       "        \"code\": {\n",
       "            \"font-size\": 1.6,\n",
       "        },\n",
       "        \"pre\": {\n",
       "            \"font-size\": 1.6,\n",
       "        }\n",
       "    }\n",
       "});"
      ],
      "text/plain": [
       "<IPython.core.display.Javascript object>"
      ]
     },
     "metadata": {},
     "output_type": "display_data"
    }
   ],
   "source": [
    "%%javascript\n",
    "var width = window.innerWidth || document.documentElement.clientWidth || document.body.clientWidth;\n",
    "var height = window.innerHeight || document.documentElement.clientHeight || document.body.clientHeight;\n",
    "\n",
    "IPython.notebook.kernel.execute(\"windowSize = (\" + width + \",\" + height + \")\");\n",
    "// suitable for small screens\n",
    "nbpresent.mode.tree.set(\n",
    "    [\"app\", \"theme-manager\", \"themes\", \"my-theme\"], \n",
    "    {\n",
    "    palette: {\n",
    "        \"blue\": { id: \"blue\", rgb: [0, 153, 204] },\n",
    "        \"black\": { id: \"black\", rgb: [0, 0, 0] },\n",
    "        \"white\": { id: \"white\", rgb: [255, 255, 255] },\n",
    "        \"red\": { id: \"red\", rgb: [240, 32, 32] },\n",
    "        \"gray\": { id: \"gray\", rgb: [128, 128, 128] },\n",
    "    },\n",
    "    backgrounds: {\n",
    "        \"my-background\": {\n",
    "            \"background-color\": \"white\"\n",
    "        }\n",
    "    },\n",
    "    \"text-base\": {\n",
    "        \"font-family\": \"Georgia\",\n",
    "        \"font-size\": 2.5\n",
    "    },\n",
    "    rules: {\n",
    "        h1: {\n",
    "            \"font-size\": 5.5,\n",
    "            color: \"blue\",\n",
    "            \"text-align\": \"center\"\n",
    "        },\n",
    "        h2: {\n",
    "            \"font-size\": 3,\n",
    "            color: \"blue\",\n",
    "            \"text-align\": \"center\"\n",
    "        },\n",
    "        h3: {\n",
    "            \"font-size\": 3,\n",
    "            color: \"black\",\n",
    "        },\n",
    "        \"ul li\": {\n",
    "            \"font-size\": 2.5,\n",
    "            color: \"black\"\n",
    "        },\n",
    "        \"ul li ul li\": {\n",
    "            \"font-size\": 2.0,\n",
    "            color: \"black\"\n",
    "        },\n",
    "        \"code\": {\n",
    "            \"font-size\": 1.6,\n",
    "        },\n",
    "        \"pre\": {\n",
    "            \"font-size\": 1.6,\n",
    "        }\n",
    "    }\n",
    "});"
   ]
  },
  {
   "cell_type": "markdown",
   "metadata": {
    "nbpresent": {
     "id": "538d5959-7afd-4651-9fce-777afa13cf5d"
    },
    "slideshow": {
     "slide_type": "slide"
    }
   },
   "source": [
    "# Genome Rearrangements - Continued\n",
    "\n",
    "<img src=\"http://csbio.unc.edu/mcmillan/Comp555S18/Media/FlippingPancakes.jpg\" class=\"centerImg\">\n",
    "\n",
    "<p style=\"text-align: right; clear: right;\">1</p>"
   ]
  },
  {
   "cell_type": "markdown",
   "metadata": {
    "nbpresent": {
     "id": "cdc4f8ce-a5d6-4204-9d2b-71e032851831"
    },
    "slideshow": {
     "slide_type": "slide"
    }
   },
   "source": [
    "# A Greedy Algorithm for Sorting by Reversals\n",
    "\n",
    "* When sorting the permutation, $\\Pi = 1, 2, 3, 6, 4, 5$, one notices that the first three elements are already in order. \n",
    "* So it does not make sense to break them apart.\n",
    "* The length of the already sorted prefix of $\\Pi$ is denoted as $prefix(\\Pi) = 3$\n",
    "* This inspires the following simple *greedy* algorithm\n",
    "<p style=\"margin-left:80px;\">\n",
    "while $prefix(\\Pi) < len(\\Pi)$:<br>\n",
    "&nbsp;&nbsp;&nbsp;&nbsp;&nbsp;&nbsp;perform a reversal $\\rho(prefix(\\Pi)+1,k)$ such that $prefix(\\Pi)$ increases by at least 1.\n",
    "</p>\n",
    "\n",
    "\n",
    "* Such a reversal must always exist\n",
    "* Finding, $k$, is as simple as finding the index of the minimum value of the remaining unsorted part \n",
    "\n",
    "<p style=\"text-align: right; clear: right;\">2</p>"
   ]
  },
  {
   "cell_type": "markdown",
   "metadata": {
    "nbpresent": {
     "id": "d71153aa-edc6-4daf-bf4f-21aab0123116"
    },
    "slideshow": {
     "slide_type": "slide"
    }
   },
   "source": [
    "# Geedy Reversal Sort: Example\n",
    "\n",
    "$$\\Large \n",
    "\\begin{aligned}\n",
    "Step 1: \\Pi_1 &= \\color{red}{1, 2, 3}, \\underline{6, 4}, 5\\qquad \\rho(4, 5) \\\\\n",
    "Step 2: \\Pi_2 &= \\color{red}{1, 2, 3, 4}, \\underline{6, 5}\\qquad \\rho(5, 6) \\\\\n",
    "Done: \\Pi_3 &= \\color{red}{1, 2, 3, 4, 5, 6} \\\\\n",
    "\\end{aligned}\n",
    "$$\n",
    "\n",
    "* The number of steps to sort any permuation of length $n$ is at most $(n - 1)$\n",
    "\n",
    "<p style=\"text-align: right; clear: left;\">3</p>"
   ]
  },
  {
   "cell_type": "markdown",
   "metadata": {
    "nbpresent": {
     "id": "58f6c89c-1abe-4e52-a695-84ff9eaa2aa2"
    },
    "slideshow": {
     "slide_type": "slide"
    }
   },
   "source": [
    "# Greedy Reversal Sort as code"
   ]
  },
  {
   "cell_type": "code",
   "execution_count": 5,
   "metadata": {
    "nbpresent": {
     "id": "604635df-f533-4f9b-90c0-036ee0719a45"
    },
    "slideshow": {
     "slide_type": "fragment"
    }
   },
   "outputs": [
    {
     "name": "stdout",
     "output_type": "stream",
     "text": [
      "rho( 1, 4) = [1, 2, 4, 3, 5, 6, 7, 10, 9, 8]\n",
      "rho( 3, 4) = [1, 2, 3, 4, 5, 6, 7, 10, 9, 8]\n",
      "rho( 8,10) = [1, 2, 3, 4, 5, 6, 7, 8, 9, 10]\n",
      "3\n"
     ]
    }
   ],
   "source": [
    "def GreedyReversalSort(pi):\n",
    "    t = 0\n",
    "    for i in xrange(len(pi)-1):\n",
    "        j = pi.index(min(pi[i:]))\n",
    "        if (j != i):\n",
    "            pi = pi[:i] + [v for v in reversed(pi[i:j+1])] + pi[j+1:]\n",
    "            print \"rho(%2d,%2d) = %s\" % (i+1,j+1,pi)\n",
    "            t += 1\n",
    "    return t\n",
    "\n",
    "print GreedyReversalSort([3,4,2,1,5,6,7,10,9,8])"
   ]
  },
  {
   "cell_type": "markdown",
   "metadata": {
    "nbpresent": {
     "id": "ce55ff9d-a0ea-46db-a44b-abfa2496b07f"
    },
    "slideshow": {
     "slide_type": "fragment"
    }
   },
   "source": [
    "<p style=\"text-align: right; clear: right;\">4</p>"
   ]
  },
  {
   "cell_type": "markdown",
   "metadata": {
    "nbpresent": {
     "id": "3421db94-9acf-46ef-a52a-7a5003458854"
    },
    "slideshow": {
     "slide_type": "slide"
    }
   },
   "source": [
    "# Analyzing GreedyReversalSort()\n",
    "\n",
    "* GreedyReversalSort requires at most $n - 1$ steps\n",
    "* For example, on $\\Pi = 6,1,2,3,4,5$, $t = 5$ \n",
    "\n",
    "$$\\Large \n",
    "\\begin{aligned}\n",
    "\\Pi_1 &: 6, 1, 2, 3, 4, 5 \\\\\n",
    "\\rho(1,2) &: \\color{red}{1}, 6, 2, 3, 4, 5 \\\\\n",
    "\\rho(2,3) &: \\color{red}{1, 2}, 6, 3, 4, 5 \\\\\n",
    "\\rho(3,4) &: \\color{red}{1, 2, 3}, 6, 4, 5 \\\\\n",
    "\\rho(4,5) &: \\color{red}{1, 2, 3, 4}, 6, 5 \\\\\n",
    "\\rho(5,6) &: \\color{red}{1, 2, 3, 4, 5, 6} \\\\\n",
    "\\end{aligned}\n",
    "$$\n",
    "\n",
    "* But there is a solution with far fewer flips\n",
    "\n",
    "<p style=\"text-align: right; clear: right;\">5</p>"
   ]
  },
  {
   "cell_type": "markdown",
   "metadata": {
    "nbpresent": {
     "id": "5f037260-9815-443e-aaf8-0bc5c344b934"
    },
    "slideshow": {
     "slide_type": "slide"
    }
   },
   "source": [
    "# Greed Gone Wrong\n",
    "\n",
    "* The same sequence sorted with two reversals\n",
    "$$\\Large \n",
    "\\begin{aligned}\n",
    "\\Pi &: 6, 1, 2, 3, 4, 5 \\\\\n",
    "\\rho(1,6) &: 5, 4, 3, 2, 1, 6 \\\\\n",
    "\\rho(1,5) &: \\color{red}{1, 2, 3, 4, 5, 6} \\\\\n",
    "\\end{aligned}\n",
    "$$\n",
    "\n",
    "\n",
    "* Note, this solution makes no progress (no elements of the permuation are placed in their correct order) after its first move\n",
    "* Yet it beats a greedy approach handily.\n",
    "* So SimpleReversalSort(&pi;) is correct (as a sorting routine), but non-optimal\n",
    "* For many problems there is no known optimal algorithm, in such cases *approximation algorithms* are often used.\n",
    "\n",
    "<p style=\"text-align: right; clear: left;\">6</p>"
   ]
  },
  {
   "cell_type": "markdown",
   "metadata": {
    "nbpresent": {
     "id": "60ca4a53-4b88-4b4a-91cf-468589a05bb8"
    },
    "slideshow": {
     "slide_type": "slide"
    }
   },
   "source": [
    "# Approximation Algorithms\n",
    "\n",
    "* Today's algorithms find approximate solutions rather than optimal solutions\n",
    "\n",
    "* The *approximation ratio* of an algorthim, $\\mathcal{A}$ on input $\\Pi$ is:\n",
    "\n",
    "$$r = \\frac{\\mathcal{A}(\\Pi)}{OPT(\\Pi)}$$\n",
    "\n",
    "* where:\n",
    "    - $\\mathcal{A}(\\Pi)$ is the number of steps using the given algorithm \n",
    "    - $OPT(\\Pi)$ is the number of steps required using, a possibly unknown, optimal algorithm\n",
    "\n",
    "<p style=\"text-align: right; clear: right;\">7</p>"
   ]
  },
  {
   "cell_type": "markdown",
   "metadata": {
    "nbpresent": {
     "id": "de4e77f2-a1fa-4489-9dfd-8d36ab1dd295"
    },
    "slideshow": {
     "slide_type": "slide"
    }
   },
   "source": [
    "# Performance Guarantees\n",
    "\n",
    "* On an occasional input our approximation algorithm may give an optimal result, however we want to consider the value of *r* for the worst case input \n",
    "\n",
    "* When our objective is to minimize something (like reversals in our case)\n",
    "\n",
    "$$r = \\max_{i = 0}^{len(\\Pi)!} \\frac{\\mathcal{A}(\\Pi_i)}{OPT(\\Pi_i)} \\ge 1.0$$\n",
    "\n",
    "* Or when our ojective is to maximize something (like money)\n",
    "\n",
    "$$r = \\max_{i = 0}^{len(\\Pi)!} \\frac{\\mathcal{A}(\\Pi_i)}{OPT(\\Pi_i)} \\le 1.0$$\n",
    "\n",
    "* Sounds cool in theory, but there are lots of open ends here\n",
    "   - if we don't know $OPT(\\Pi_i)$ how are we supposed to know how many steps it requires?\n",
    "   - do we really need to test for all $len(\\Pi)!$ possible inputs?\n",
    "\n",
    "<p style=\"text-align: right; clear: right;\">8</p>"
   ]
  },
  {
   "cell_type": "markdown",
   "metadata": {
    "collapsed": true,
    "nbpresent": {
     "id": "23e7bd20-05cf-4f9b-a51c-9435e814057a"
    },
    "slideshow": {
     "slide_type": "slide"
    }
   },
   "source": [
    "# How do we get Approximation Ratios?\n",
    "\n",
    "<img src=\"http://csbio.unc.edu/mcmillan/Comp555S18/Media/ApproxOptWhat.png\" width=\"250px\" style=\"float: right; clear: right; margin-right: 40px;\">\n",
    "<div style=\"margin: 20px 100px; width: 550px; background-color: #C0FFFF; padding: 10px; border-style: solid;\">\n",
    "<code style=\"background-color: #C0FFFF;\">def <u>GreedyReversalSort(pi)</u>:\n",
    "    for i in xrange(len(pi)-1):\n",
    "        j = pi.index(min(pi[i:]))\n",
    "        if (j != i):\n",
    "            pi = pi[:i] \n",
    "               + [v for v in reversed(pi[i:j+1])] \n",
    "               + pi[j+1:]\n",
    "    return pi\n",
    "</code>\n",
    "</div>\n",
    "\n",
    "<div style=\"margin-left: 80px;\">\n",
    "<div style=\"display: inline-block; margin: 20px; width: 250px; background-color: #F0F0C0; padding: 10px; border-style: solid;\">\n",
    "<code style=\"background-color: #F0F0C0;\">        <b>A(&Pi;)</b>\n",
    "Step 0: <u>6 1</u> 2 3 4 5\n",
    "Step 1: 1 <u>6 2</u> 3 4 5\n",
    "Step 2: 1 2 <u>6 3</u> 4 5\n",
    "Step 3: 1 2 3 <u>6 4</u> 5\n",
    "Step 4: 1 2 3 4 <u>6 5</u>\n",
    "Step 5: 1 2 3 4 5 6\n",
    "</code>\n",
    "</div>\n",
    "<div style=\"display: inline-block; vertical-align: top; margin: 20px; width: 250px; background-color: #F0F0C0; padding: 10px; border-style: solid;\">\n",
    "<code style=\"background-color: #F0F0C0;\">        <b>OPT(&Pi;)?</b>\n",
    "Step 0: <u>6 1 2 3 4 5</u>\n",
    "Step 1: <u>5 4 3 2 1</u> 6\n",
    "Step 2: 1 2 3 4 5 6\n",
    "</code>\n",
    "</div>\n",
    "</div>\n",
    "\n",
    "<p style=\"text-align: right; clear: right;\">9</p>"
   ]
  },
  {
   "cell_type": "markdown",
   "metadata": {
    "nbpresent": {
     "id": "d8c3bc8c-4af6-4f43-afbf-56de0b3d33e9"
    },
    "slideshow": {
     "slide_type": "slide"
    }
   },
   "source": [
    "# New Idea: Adjacencies\n",
    "\n",
    "* Recall breakpoints from last lecture. Adjacencies are the opposite.\n",
    "* Assume a permutation:\n",
    "$$\\Pi = \\pi_1,\\pi_2,\\pi_3, ... \\pi_{n-1},\\pi_n,$$\n",
    "\n",
    "\n",
    "* A pair of neighboring elements $\\pi_i$ and $\\pi_{i+1}$ are *adjacent if:\n",
    "\n",
    "$$\\pi_{i+1} = \\pi_{i} + 1$$\n",
    "\n",
    "\n",
    "* For example:\n",
    "$$\\Pi = 1, 9, \\underline{3, 4}, \\underline{7, 8}, 2, \\underline{6, 5}$$\n",
    "\n",
    "\n",
    "* (3,4) and (7,8) and (6,5) are adjcencies.\n",
    "\n",
    "<p style=\"text-align: right; clear: right;\">10</p>"
   ]
  },
  {
   "cell_type": "markdown",
   "metadata": {
    "nbpresent": {
     "id": "c85cd3e9-c71a-4cb2-86f2-b50a3540c2e0"
    },
    "slideshow": {
     "slide_type": "slide"
    }
   },
   "source": [
    "# Adjacencies and Breakpoints\n",
    "\n",
    "* *Breakpoints* occure between neighboring non-adjacent elements\n",
    "\n",
    "$$\\Pi = 1,\\color{red}{|}\\: 9,\\color{red}{|}\\: \\underline{3, 4},\\color{red}{|}\\: \\underline{7, 8},\\color{red}{|}\\: 2,\\color{red}{|}\\: \\underline{6, 5}$$\n",
    "\n",
    "\n",
    "* There are 5 breakpints in our permuation between pairs (1,9), (9,3), (4,7), (8,2) and (2,5)\n",
    "\n",
    "\n",
    "* We define $b(\\Pi)$ as the number of breakpoints in permutation $\\Pi$\n",
    "\n",
    "<p style=\"text-align: right; clear: right;\">11</p>"
   ]
  },
  {
   "cell_type": "markdown",
   "metadata": {
    "nbpresent": {
     "id": "9aa56520-c165-4aa8-af0d-ce66deb1b8bd"
    },
    "slideshow": {
     "slide_type": "slide"
    }
   },
   "source": [
    "# Extending Permutations\n",
    "\n",
    "* One can place two elements, $\\pi_0 = 0$ and $\\pi_{n+1} =  n + 1$ at the beginning and end of $\\Pi$ respectively\n",
    "\n",
    "$$\\Large \n",
    "\\begin{aligned}\n",
    "& 1,\\color{red}{|}\\: 9,\\color{red}{|}\\: \\underline{3, 4},\\color{red}{|}\\: \\underline{7, 8},\\color{red}{|}\\: 2,\\color{red}{|}\\: \\underline{6, 5} \\\\\n",
    "& \\qquad \\qquad \\qquad \\big\\downarrow \\\\\n",
    "\\Pi = \\color{blue}{0 }\\: & 1,\\color{red}{|}\\: 9,\\color{red}{|}\\: \\underline{3, 4},\\color{red}{|}\\: \\underline{7, 8},\\color{red}{|}\\: 2,\\color{red}{|}\\: \\underline{6, 5}, \\color{red}{|}\\:\\color{blue}{10} \\\\\n",
    "\\end{aligned}\n",
    "$$\n",
    "\n",
    "* An addtional breakpoint was created after extending\n",
    "\n",
    "* An extended permutation of length $n$ can have at most $(n+1)$ breakpoints\n",
    "* $(n-1)$ between the original elements plus 2 for the extending elements\n",
    "<p style=\"text-align: right; clear: right;\">12</p>"
   ]
  },
  {
   "cell_type": "markdown",
   "metadata": {
    "nbpresent": {
     "id": "a61e6612-a34e-4af2-8da5-311d2939bd61"
    },
    "slideshow": {
     "slide_type": "slide"
    }
   },
   "source": [
    "# How Reversals Effect Breakpoints\n",
    "\n",
    "<img src=\"http://csbio.unc.edu/mcmillan/Comp555S18/Media/RequiredReversals.png\" width=\"200px\" style=\"float: right; clear: right; margin-right: 80px;\">\n",
    "* Breakpoints are the *targets* for sorting by reversals.\n",
    "* Once they are removed, the permutation is sorted.\n",
    "* Each \"useful\" reversal eliminates at least 1, and at most 2 breakpoints.\n",
    "* Consider the following application of<br>GreedyReversalSort(Extend($\\Pi$))\n",
    "\n",
    "$$\\Large \n",
    "\\begin{aligned}\n",
    "\\Pi =&\\quad\\: 2, 3, 1, 4, 6, 5 \\\\\n",
    "& \\color{blue}{0}\\:\\color{red}{|}\\:\\underline{2, 3\\color{red}{|}\\:1}\\color{red}{|}\\:4\\color{red}{|}\\:6, 5\\color{red}{|}\\:\\color{blue}{7}\\qquad b(\\Pi) = 5 \\\\\n",
    "& \\color{blue}{0},\\:1\\color{red}{|}\\underline{3, 2}\\color{red}{|}\\:4\\color{red}{|}\\:6, 5\\color{red}{|}\\:\\color{blue}{7}\\qquad b(\\Pi) = 4 \\\\\n",
    "& \\color{blue}{0}, 1, 2, 3, 4\\color{red}{|}\\:\\underline{6, 5}\\color{red}{|}\\:\\color{blue}{7}\\qquad b(\\Pi) = 2 \\\\\n",
    "& \\color{blue}{0}, 1, 2, 3, 4, 5, 6,\\color{blue}{7}\\qquad b(\\Pi) = 0 \\\\\n",
    "\\end{aligned}\n",
    "$$\n",
    "\n",
    "<p style=\"text-align: right; clear: right;\">13</p>"
   ]
  },
  {
   "cell_type": "markdown",
   "metadata": {
    "nbpresent": {
     "id": "48dbeec5-9713-47cb-a05f-c63cc12e07e3"
    },
    "slideshow": {
     "slide_type": "slide"
    }
   },
   "source": [
    "# Sorting By Reversals:<br> A second Greedy Algorithm\n",
    "\n",
    "<img src=\"http://csbio.unc.edu/mcmillan/Comp555S18/Media/GreedyReversal.png\" width=\"300px\" style=\"float: right; clear: right; margin-right: 40px;\">\n",
    "<u>BreakpointReversalSort(&pi;):</u>\n",
    "1. while $b(\\pi) > 0$:\n",
    "2. &nbsp;&nbsp;&nbsp;&nbsp;Among all possible reversals, choose reversal &rho; minimizing $b(\\pi)$\n",
    "3. &nbsp;&nbsp;&nbsp;&nbsp;$\\Pi \\leftarrow \\Pi\\: \\dot\\: \\rho(i,j)$\n",
    "4. &nbsp;&nbsp;&nbsp;&nbsp;output $\\Pi$\n",
    "5. return\n",
    "\n",
    "<p style=\"text-align: right; clear: right;\">14</p>"
   ]
  },
  {
   "cell_type": "markdown",
   "metadata": {
    "nbpresent": {
     "id": "663e515f-e75a-49f9-95eb-5874c59f19ac"
    },
    "slideshow": {
     "slide_type": "slide"
    }
   },
   "source": [
    "# New Concept: <em>Strips</em>\n",
    "\n",
    "* ***Strip***: an interval between two consecutive breakpoints in a permutation \n",
    "    - *Decreasing strip:* strip of elements in decreasing order (e.g. 6 5 and 3 2 ).\n",
    "    - *Increasing strip:* strip of elements in increasing order (e.g. 7 8)\n",
    "    - A single-element strip can be declared either increasing or decreasing. \n",
    "    - We will choose to declare them as decreasing with exception of extension strips (with 0 and n+1)\n",
    "\n",
    "$$\\overrightarrow{\\color{blue}{0}, 1},  \\overleftarrow{9},  \\overleftarrow{4,  3},  \\overrightarrow{7,  8},  \\overleftarrow{2},  \\overrightarrow{5,  6}, \\overrightarrow{\\color{blue}{10}}$$    \n",
    "\n",
    "<p style=\"text-align: right; clear: right;\">15</p>"
   ]
  },
  {
   "cell_type": "markdown",
   "metadata": {
    "nbpresent": {
     "id": "2d86cc83-1560-48a3-9e3d-f8a5ac277e0c"
    },
    "slideshow": {
     "slide_type": "slide"
    }
   },
   "source": [
    "# Reducing the Number of Breakpoints\n",
    "\n",
    "<img src=\"http://csbio.unc.edu/mcmillan/Comp555S18/Media/WhichReversal.png\" width=\"300px\" style=\"float: right; clear: right; margin-right: 40px;\">\n",
    "\n",
    "* Consider $\\Pi = 1, 4, 6, 5, 7, 8, 3, 2$\n",
    "\n",
    "$$\\overrightarrow{\\color{blue}{0}, 1},\\color{red}{|}\\:  \\overleftarrow{4},\\color{red}{|}\\:  \\overleftarrow{6,  5},\\color{red}{|}\\:  \\overrightarrow{7,  8},\\color{red}{|}\\:  \\overleftarrow{3, 2},\\color{red}{|}\\: \\overrightarrow{\\color{blue}{9}}\\qquad b(p) = 5$$\n",
    "\n",
    "<br><br>|\n",
    "<img src=\"http://csbio.unc.edu/mcmillan/Comp555S18/Media/OneDecreasing.png\" width=\"400px\">\n",
    "\n",
    "<p style=\"text-align: right; clear: right;\">16</p>"
   ]
  },
  {
   "cell_type": "markdown",
   "metadata": {
    "nbpresent": {
     "id": "32faebcf-0c54-41a2-8c9c-5675eff7bbed"
    },
    "slideshow": {
     "slide_type": "slide"
    }
   },
   "source": [
    "# Things to Consider\n",
    "\n",
    "* Consider $\\Pi = 1, 4, 6, 5, 7, 8, 3, 2$\n",
    "\n",
    "$$\\Large \\overrightarrow{\\color{blue}{0}, 1},\\color{red}{|}\\:\\underleftarrow{\\overleftarrow{4},\\color{red}{|}\\:  \\overleftarrow{6,  5},\\color{red}{|}\\:  \\overrightarrow{7,  8},\\color{red}{|}\\:  \\overleftarrow{3, 2},}\\color{red}{|}\\: \\overrightarrow{\\color{blue}{9}}\\qquad b(p) = 5$$\n",
    "\n",
    "* Choose the decreassing strip with the smallest elment k in $\\Pi$\n",
    "  - It'll always be the rightmost element of that strip\n",
    "* Find $k-1$ in the permutation\n",
    "  - it'll always be flanked by a breakpoint\n",
    "* Reverse the segment between $k$ and $k - 1$\n",
    "\n",
    "<p style=\"text-align: right; clear: right;\">17</p>"
   ]
  },
  {
   "cell_type": "markdown",
   "metadata": {
    "nbpresent": {
     "id": "3df605a0-7299-4755-9a75-e0472f9ac29d"
    },
    "slideshow": {
     "slide_type": "slide"
    }
   },
   "source": [
    "# Things to Consider\n",
    "\n",
    "* Consider $\\Pi = 1, 4, 6, 5, 7, 8, 3, 2$\n",
    "\n",
    "$$\\Large \\overrightarrow{\\color{blue}{0}, 1, 2, 3},\\color{red}{|}\\:\\underleftarrow{\\overleftarrow{8, 7},\\color{red}{|}\\:\\overrightarrow{5,  6},\\color{red}{|}\\:  \\overleftarrow{4}},\\color{red}{|}\\: \\overrightarrow{\\color{blue}{9}}\\qquad b(p) = 4$$\n",
    "\n",
    "* Choose the decreassing strip with the smallest elment k in $\\Pi$\n",
    "  - It'll always be the rightmost element of that strip\n",
    "* Find $k-1$ in the permutation\n",
    "  - it'll always be flanked by a breakpoint\n",
    "* Reverse the segment between $k$ and $k - 1$\n",
    "\n",
    "<p style=\"text-align: right; clear: right;\">18</p>"
   ]
  },
  {
   "cell_type": "markdown",
   "metadata": {
    "nbpresent": {
     "id": "c508b08c-959a-4fe9-9dbf-33c3df9f5930"
    },
    "slideshow": {
     "slide_type": "slide"
    }
   },
   "source": [
    "# Reversal Examples\n",
    "\n",
    "* Consider $\\Pi = 1, 4, 6, 5, 7, 8, 3, 2$\n",
    "\n",
    "    $$\\Large \\overrightarrow{\\color{blue}{0}, 1, 2, 3, 4},\\color{red}{|}\\:\\underleftarrow{\\overleftarrow{6, 5}},\\color{red}{|}\\: \\overrightarrow{7, 8,\\color{blue}{9}}\\qquad b(p) = 2$$\n",
    "\n",
    "\n",
    "* Choose the decreasing strip with the smallest elment k in $\\Pi$\n",
    "  - It'll always be the rightmost element of that strip\n",
    "* Find $k-1$ in the permutation\n",
    "  - it'll always be flanked by a breakpoint\n",
    "* Reverse the segment between $k$ and $k - 1$\n",
    "\n",
    "<p style=\"text-align: right; clear: right;\">19</p>"
   ]
  },
  {
   "cell_type": "markdown",
   "metadata": {
    "nbpresent": {
     "id": "27227e70-5798-4552-9360-3502b7b6d5ff"
    },
    "slideshow": {
     "slide_type": "slide"
    }
   },
   "source": [
    "# Reversal Examples\n",
    "\n",
    "* Consider $\\Pi = 1, 4, 6, 5, 7, 8, 3, 2$\n",
    "\n",
    "    $$\\Large \\overrightarrow{\\color{blue}{0}, 1, 2, 3, 4, 5, 6, 7, 8,\\color{blue}{9}}\\qquad b(p) = 0$$\n",
    "\n",
    "\n",
    "* Choose the decreasing strip with the smallest elment k in $\\Pi$\n",
    "  - It'll always be the rightmost element of that strip\n",
    "* Find $k-1$ in the permutation\n",
    "  - it'll always be flanked by a breakpoint\n",
    "* Reverse the segment between $k$ and $k - 1$\n",
    "\n",
    "<p style=\"text-align: right; clear: right;\">20</p>"
   ]
  },
  {
   "cell_type": "markdown",
   "metadata": {
    "nbpresent": {
     "id": "407fd438-a723-443a-821a-bae5f08afafa"
    },
    "slideshow": {
     "slide_type": "slide"
    }
   },
   "source": [
    "# Things to Consider\n",
    "\n",
    "<img src=\"http://csbio.unc.edu/mcmillan/Comp555S18/Media/DoesItWorkForAny.png\" width=\"250px\" style=\"float: right; clear: right; margin-right: 40px;\">\n",
    "\n",
    "* Consider $\\Pi = 1, 4, 6, 5, 7, 8, 3, 2$\n",
    "\n",
    "$$\n",
    "\\begin{aligned}\n",
    "& \\overrightarrow{\\color{blue}{0}, 1},\\color{red}{|}\\:\\overleftarrow{4},\\color{red}{|}\\:  \\overleftarrow{6,  5},\\color{red}{|}\\:  \\overrightarrow{7,  8},\\color{red}{|}\\:  \\overleftarrow{3, 2},\\color{red}{|}\\: \\overrightarrow{ \\color{blue}{9}}\\qquad & b(p) = 5 \\\\\n",
    "& \\overrightarrow{\\color{blue}{0}, 1, 2, 3},\\color{red}{|}\\:\\overleftarrow{8, 7},\\color{red}{|}\\:\\overrightarrow{5,  6},\\color{red}{|}\\:  \\overleftarrow{4},\\color{red}{|}\\: \\overrightarrow{\\color{blue}{9}}\\qquad & b(p) = 4 \\\\\n",
    "& \\overrightarrow{\\color{blue}{0}, 1, 2, 3, 4},\\color{red}{|}\\:\\overleftarrow{6, 5},\\color{red}{|}\\: \\overrightarrow{7, 8,\\color{blue}{9}}\\qquad & b(p) = 2 \\\\\n",
    "& \\overrightarrow{\\color{blue}{0}, 1, 2, 3, 4, 5, 6, 7, 8,\\color{blue}{9}}\\qquad & b(p) = 0 \\\\\n",
    "\\\\\n",
    "\\\\\n",
    "& & d(\\Pi) = 3 \\\\\n",
    "\\end{aligned}\n",
    "$$\n",
    "\n",
    "<p style=\"text-align: right; clear: right;\">21</p>"
   ]
  },
  {
   "cell_type": "markdown",
   "metadata": {
    "nbpresent": {
     "id": "908c789a-128a-47a6-8f62-2858531ed3d9"
    },
    "slideshow": {
     "slide_type": "slide"
    }
   },
   "source": [
    "# Potential Gotcha\n",
    "\n",
    "$$\\Large \\overrightarrow{\\color{blue}{0}, 1, 2},\\color{red}{|}\\:\\overrightarrow{5, 6, 7},\\color{red}{|}\\:\\overrightarrow{3, 4}, \\color{red}{|}\\: \\overrightarrow{8,\\color{blue}{9}}\\qquad b(p) = 3$$\n",
    "\n",
    "\n",
    "<img src=\"http://csbio.unc.edu/mcmillan/Comp555S18/Media/NoDecreasing.png\" width=\"300px\" style=\"float: right; clear: right; margin: 0px 40px;\">\n",
    "* If there is no decreasing strip, there may be *no strip-reversal $\\rho$ that reduces the number of breakpoints* (i.e. $b(\\Pi\\;\\dot\\;\\rho(i,j)) \\ge b(\\Pi)$ for any  reversal $\\rho$).\n",
    "* However, reversing an increasing strip creates a decreasing strip, and the number of breakpoints remains unchanged. \n",
    "* Then the number of breakpoints will be reduced in the following steps.\n",
    "\n",
    "<p style=\"text-align: right; clear: right;\">22</p>"
   ]
  },
  {
   "cell_type": "markdown",
   "metadata": {
    "nbpresent": {
     "id": "39b23bca-f6c7-4b4d-9e21-ef2f36e7c3e2"
    },
    "slideshow": {
     "slide_type": "slide"
    }
   },
   "source": [
    "# Potential Gotcha\n",
    "\n",
    "$$\\Large\n",
    "\\begin{aligned}\n",
    "& \\overrightarrow{\\color{blue}{0}, 1, 2},\\color{red}{|}\\:\\underleftarrow{\\overrightarrow{5, 6, 7},}\\color{red}{|}\\:\\overrightarrow{3, 4}, \\color{red}{|}\\: \\overrightarrow{8,\\color{blue}{9}}\\qquad & b(p) = 3 \\\\\n",
    "\\\\\n",
    "& \\overrightarrow{\\color{blue}{0}, 1, 2},\\color{red}{|}\\:\\overleftarrow{7, 6, 5},\\color{red}{|}\\:\\overrightarrow{3, 4}, \\color{red}{|}\\: \\overrightarrow{8,\\color{blue}{9}}\\qquad & b(p) = 3 \\\\\n",
    "\\end{aligned}\n",
    "$$\n",
    "\n",
    "\n",
    "<img src=\"http://csbio.unc.edu/mcmillan/Comp555S18/Media/NoDecreasing.png\" width=\"300px\" style=\"float: right; clear: right; margin: 0px 40px;\">\n",
    "* If there is no decreasing strip, there may be *no strip-reversal $\\rho$ that reduces the number of breakpoints* (i.e. $b(\\Pi\\;\\dot\\;\\rho(i,j)) \\ge b(\\Pi)$ for any  reversal $\\rho$).\n",
    "* However, reversing an increasing strip creates a decreasing strip, and the number of breakpoints remains unchanged. \n",
    "* Then the number of breakpoints will be reduced in the following steps.\n",
    "\n",
    "<p style=\"text-align: right; clear: right;\">23</p>"
   ]
  },
  {
   "cell_type": "markdown",
   "metadata": {
    "nbpresent": {
     "id": "bfcefb88-ad3c-4ffa-be70-e519c6710200"
    },
    "slideshow": {
     "slide_type": "slide"
    }
   },
   "source": [
    "# Next Time\n",
    "\n",
    "* Look at the Code\n",
    "\n",
    "* How about performance?\n",
    "\n",
    "<img src=\"http://csbio.unc.edu/mcmillan/Comp555S18/Media/flipflop.jpg\" width=\"400px\" class=\"centerImg\">\n",
    "\n",
    "<p style=\"text-align: right; clear: right;\">24</p>"
   ]
  },
  {
   "cell_type": "code",
   "execution_count": null,
   "metadata": {},
   "outputs": [],
   "source": []
  },
  {
   "cell_type": "code",
   "execution_count": null,
   "metadata": {},
   "outputs": [],
   "source": []
  },
  {
   "cell_type": "code",
   "execution_count": null,
   "metadata": {},
   "outputs": [],
   "source": []
  }
 ],
 "metadata": {
  "anaconda-cloud": {},
  "celltoolbar": "Slideshow",
  "kernelspec": {
   "display_name": "Python 2",
   "language": "python",
   "name": "python2"
  },
  "language_info": {
   "codemirror_mode": {
    "name": "ipython",
    "version": 2
   },
   "file_extension": ".py",
   "mimetype": "text/x-python",
   "name": "python",
   "nbconvert_exporter": "python",
   "pygments_lexer": "ipython2",
   "version": "2.7.14"
  },
  "nbpresent": {
   "slides": {
    "0d11fa6b-63e4-429d-874a-c096285fe971": {
     "id": "0d11fa6b-63e4-429d-874a-c096285fe971",
     "prev": "f89fecec-7c0f-4584-970d-18d5df744eee",
     "regions": {
      "ada7c757-0693-4f47-8844-0a69007c225f": {
       "attrs": {
        "height": 0.96,
        "width": 0.96,
        "x": 0.02,
        "y": 0.02
       },
       "content": {
        "cell": "d8c3bc8c-4af6-4f43-afbf-56de0b3d33e9",
        "part": "whole"
       },
       "id": "ada7c757-0693-4f47-8844-0a69007c225f"
      }
     }
    },
    "109ffe97-690b-4a9c-a08a-b8d081ea4367": {
     "id": "109ffe97-690b-4a9c-a08a-b8d081ea4367",
     "prev": "59e61e1a-e2ce-4449-8423-b079c31bb623",
     "regions": {
      "405a9ad4-8314-4542-8a22-43753ad13f12": {
       "attrs": {
        "height": 0.96,
        "width": 0.96,
        "x": 0.02,
        "y": 0.02
       },
       "content": {
        "cell": "908c789a-128a-47a6-8f62-2858531ed3d9",
        "part": "whole"
       },
       "id": "405a9ad4-8314-4542-8a22-43753ad13f12"
      }
     }
    },
    "21baaeda-7a87-4644-b489-9156652cc767": {
     "id": "21baaeda-7a87-4644-b489-9156652cc767",
     "prev": null,
     "regions": {
      "f18362db-9cc9-4ab5-85e6-726a421c3082": {
       "attrs": {
        "height": 0.96,
        "width": 0.96,
        "x": 0.02,
        "y": 0.02
       },
       "content": {
        "cell": "538d5959-7afd-4651-9fce-777afa13cf5d",
        "part": "whole"
       },
       "id": "f18362db-9cc9-4ab5-85e6-726a421c3082"
      }
     }
    },
    "27185f3e-2a0f-4c1e-8ac9-2f8b72365bf1": {
     "id": "27185f3e-2a0f-4c1e-8ac9-2f8b72365bf1",
     "prev": "d161c9ac-ea5f-4a16-ad30-fac5da95b9d7",
     "regions": {
      "3aee5b0a-bcdc-4793-b4cc-8367bcd4a979": {
       "attrs": {
        "height": 0.96,
        "width": 0.96,
        "x": 0.02,
        "y": 0.02
       },
       "content": {
        "cell": "3421db94-9acf-46ef-a52a-7a5003458854",
        "part": "whole"
       },
       "id": "3aee5b0a-bcdc-4793-b4cc-8367bcd4a979"
      }
     }
    },
    "2a7de429-4e87-4991-bbae-2706c26d498c": {
     "id": "2a7de429-4e87-4991-bbae-2706c26d498c",
     "prev": "54fb52a8-2b72-4d61-a616-af4ddd0834ac",
     "regions": {
      "bb953d17-425c-488e-97bd-af4857896cd2": {
       "attrs": {
        "height": 0.96,
        "width": 0.96,
        "x": 0.02,
        "y": 0.02
       },
       "content": {
        "cell": "bfcefb88-ad3c-4ffa-be70-e519c6710200",
        "part": "whole"
       },
       "id": "bb953d17-425c-488e-97bd-af4857896cd2"
      }
     }
    },
    "3d9a2f93-6cfe-44ab-b528-8518313fb843": {
     "id": "3d9a2f93-6cfe-44ab-b528-8518313fb843",
     "prev": "bfa2688b-5d59-4cd5-8f83-4f9fd90185d1",
     "regions": {
      "d4087a0f-1e57-4715-8bfb-90a028106e19": {
       "attrs": {
        "height": 0.96,
        "width": 0.96,
        "x": 0.02,
        "y": 0.02
       },
       "content": {
        "cell": "663e515f-e75a-49f9-95eb-5874c59f19ac",
        "part": "whole"
       },
       "id": "d4087a0f-1e57-4715-8bfb-90a028106e19"
      }
     }
    },
    "43d6d6a5-e2b0-4128-a81e-fb40db259d76": {
     "id": "43d6d6a5-e2b0-4128-a81e-fb40db259d76",
     "prev": "ef9920f6-e2eb-4fed-99ef-01de75833958",
     "regions": {
      "208c1abd-a1fc-449a-acc0-ef868ba7f56a": {
       "attrs": {
        "height": 0.96,
        "width": 0.96,
        "x": 0.02,
        "y": 0.02
       },
       "content": {
        "cell": "de4e77f2-a1fa-4489-9dfd-8d36ab1dd295",
        "part": "whole"
       },
       "id": "208c1abd-a1fc-449a-acc0-ef868ba7f56a"
      }
     }
    },
    "54fb52a8-2b72-4d61-a616-af4ddd0834ac": {
     "id": "54fb52a8-2b72-4d61-a616-af4ddd0834ac",
     "prev": "109ffe97-690b-4a9c-a08a-b8d081ea4367",
     "regions": {
      "bebca8fa-ccf7-4b0b-9981-050bb2523e62": {
       "attrs": {
        "height": 0.96,
        "width": 0.96,
        "x": 0.02,
        "y": 0.02
       },
       "content": {
        "cell": "39b23bca-f6c7-4b4d-9e21-ef2f36e7c3e2",
        "part": "whole"
       },
       "id": "bebca8fa-ccf7-4b0b-9981-050bb2523e62"
      }
     }
    },
    "59e61e1a-e2ce-4449-8423-b079c31bb623": {
     "id": "59e61e1a-e2ce-4449-8423-b079c31bb623",
     "prev": "7b2cda45-8efa-4d3e-b4d0-4209b54e5bd5",
     "regions": {
      "a6c367ca-0f83-4e7b-a78b-b3380ed1d24f": {
       "attrs": {
        "height": 0.96,
        "width": 0.96,
        "x": 0.02,
        "y": 0.02
       },
       "content": {
        "cell": "407fd438-a723-443a-821a-bae5f08afafa",
        "part": "whole"
       },
       "id": "a6c367ca-0f83-4e7b-a78b-b3380ed1d24f"
      }
     }
    },
    "5ac2e041-90e9-4cdc-8599-3360927662f8": {
     "id": "5ac2e041-90e9-4cdc-8599-3360927662f8",
     "prev": "cc38386b-68f7-40b7-be5f-475078bf333c",
     "regions": {
      "e983ba21-d42f-4ef2-b7b1-e2ce15e3f5e3": {
       "attrs": {
        "height": 0.96,
        "width": 0.96,
        "x": 0.02,
        "y": 0.02
       },
       "content": {
        "cell": "32faebcf-0c54-41a2-8c9c-5675eff7bbed",
        "part": "whole"
       },
       "id": "e983ba21-d42f-4ef2-b7b1-e2ce15e3f5e3"
      }
     }
    },
    "5e90658b-acb9-4639-8ba1-b534ef6bbd4b": {
     "id": "5e90658b-acb9-4639-8ba1-b534ef6bbd4b",
     "prev": "8f493dda-9053-48c2-8d54-e50f99cad3f9",
     "regions": {
      "70235dd5-1a29-4305-b7b5-79d316477456": {
       "attrs": {
        "height": 0.96,
        "width": 0.96,
        "x": 0.02,
        "y": 0.02
       },
       "content": {
        "cell": "a61e6612-a34e-4af2-8da5-311d2939bd61",
        "part": "whole"
       },
       "id": "70235dd5-1a29-4305-b7b5-79d316477456"
      }
     }
    },
    "6542a979-9aaf-4205-b524-9f0cc4300b5a": {
     "id": "6542a979-9aaf-4205-b524-9f0cc4300b5a",
     "prev": "82d60af4-1490-4c20-ab4c-724569ee19f3",
     "regions": {
      "eae81fc5-9407-4f7f-935a-c427da54851f": {
       "attrs": {
        "height": 0.96,
        "width": 0.96,
        "x": 0.02,
        "y": 0.02
       },
       "content": {
        "cell": "d71153aa-edc6-4daf-bf4f-21aab0123116",
        "part": "whole"
       },
       "id": "eae81fc5-9407-4f7f-935a-c427da54851f"
      }
     }
    },
    "7b2cda45-8efa-4d3e-b4d0-4209b54e5bd5": {
     "id": "7b2cda45-8efa-4d3e-b4d0-4209b54e5bd5",
     "prev": "b3f7fd87-2730-4725-8d39-bdee6de006c6",
     "regions": {
      "f9286b94-1c29-49f9-b1a6-b946d211a180": {
       "attrs": {
        "height": 0.96,
        "width": 0.96,
        "x": 0.02,
        "y": 0.02
       },
       "content": {
        "cell": "27227e70-5798-4552-9360-3502b7b6d5ff",
        "part": "whole"
       },
       "id": "f9286b94-1c29-49f9-b1a6-b946d211a180"
      }
     }
    },
    "82d60af4-1490-4c20-ab4c-724569ee19f3": {
     "id": "82d60af4-1490-4c20-ab4c-724569ee19f3",
     "prev": "21baaeda-7a87-4644-b489-9156652cc767",
     "regions": {
      "b38e48ab-5a46-48e4-9b28-edc35b4ff342": {
       "attrs": {
        "height": 0.96,
        "width": 0.96,
        "x": 0.02,
        "y": 0.02
       },
       "content": {
        "cell": "cdc4f8ce-a5d6-4204-9d2b-71e032851831",
        "part": "whole"
       },
       "id": "b38e48ab-5a46-48e4-9b28-edc35b4ff342"
      }
     }
    },
    "8f493dda-9053-48c2-8d54-e50f99cad3f9": {
     "id": "8f493dda-9053-48c2-8d54-e50f99cad3f9",
     "prev": "c59160ef-4668-4a0b-a2e1-adecbd268f9c",
     "regions": {
      "ee4a3ed5-c7fb-41db-b14c-2464387c9a19": {
       "attrs": {
        "height": 0.96,
        "width": 0.96,
        "x": 0.02,
        "y": 0.02
       },
       "content": {
        "cell": "9aa56520-c165-4aa8-af0d-ce66deb1b8bd",
        "part": "whole"
       },
       "id": "ee4a3ed5-c7fb-41db-b14c-2464387c9a19"
      }
     }
    },
    "b3f7fd87-2730-4725-8d39-bdee6de006c6": {
     "id": "b3f7fd87-2730-4725-8d39-bdee6de006c6",
     "prev": "cb8a9d03-c5be-4ff1-9163-ba6880d4db46",
     "regions": {
      "60cce9c6-3451-44ef-9987-969b1976cbcf": {
       "attrs": {
        "height": 0.96,
        "width": 0.96,
        "x": 0.02,
        "y": 0.02
       },
       "content": {
        "cell": "c508b08c-959a-4fe9-9dbf-33c3df9f5930",
        "part": "whole"
       },
       "id": "60cce9c6-3451-44ef-9987-969b1976cbcf"
      }
     }
    },
    "bfa2688b-5d59-4cd5-8f83-4f9fd90185d1": {
     "id": "bfa2688b-5d59-4cd5-8f83-4f9fd90185d1",
     "prev": "5e90658b-acb9-4639-8ba1-b534ef6bbd4b",
     "regions": {
      "3fc03ae7-00ad-414e-a4bb-d49717b2f798": {
       "attrs": {
        "height": 0.96,
        "width": 0.96,
        "x": 0.02,
        "y": 0.02
       },
       "content": {
        "cell": "48dbeec5-9713-47cb-a05f-c63cc12e07e3",
        "part": "whole"
       },
       "id": "3fc03ae7-00ad-414e-a4bb-d49717b2f798"
      }
     }
    },
    "c59160ef-4668-4a0b-a2e1-adecbd268f9c": {
     "id": "c59160ef-4668-4a0b-a2e1-adecbd268f9c",
     "prev": "0d11fa6b-63e4-429d-874a-c096285fe971",
     "regions": {
      "ab8c7389-07c0-4460-bc8b-316e4c617476": {
       "attrs": {
        "height": 0.96,
        "width": 0.96,
        "x": 0.02,
        "y": 0.02
       },
       "content": {
        "cell": "c85cd3e9-c71a-4cb2-86f2-b50a3540c2e0",
        "part": "whole"
       },
       "id": "ab8c7389-07c0-4460-bc8b-316e4c617476"
      }
     }
    },
    "cb8a9d03-c5be-4ff1-9163-ba6880d4db46": {
     "id": "cb8a9d03-c5be-4ff1-9163-ba6880d4db46",
     "prev": "5ac2e041-90e9-4cdc-8599-3360927662f8",
     "regions": {
      "148cabd8-ef80-48e5-923e-9668c4bc4504": {
       "attrs": {
        "height": 0.96,
        "width": 0.96,
        "x": 0.02,
        "y": 0.02
       },
       "content": {
        "cell": "3df605a0-7299-4755-9a75-e0472f9ac29d",
        "part": "whole"
       },
       "id": "148cabd8-ef80-48e5-923e-9668c4bc4504"
      }
     }
    },
    "cc38386b-68f7-40b7-be5f-475078bf333c": {
     "id": "cc38386b-68f7-40b7-be5f-475078bf333c",
     "prev": "3d9a2f93-6cfe-44ab-b528-8518313fb843",
     "regions": {
      "c8a4c331-4993-4cea-ad7e-9e64c26e7dde": {
       "attrs": {
        "height": 0.96,
        "width": 0.96,
        "x": 0.02,
        "y": 0.02
       },
       "content": {
        "cell": "2d86cc83-1560-48a3-9e3d-f8a5ac277e0c",
        "part": "whole"
       },
       "id": "c8a4c331-4993-4cea-ad7e-9e64c26e7dde"
      }
     }
    },
    "d161c9ac-ea5f-4a16-ad30-fac5da95b9d7": {
     "id": "d161c9ac-ea5f-4a16-ad30-fac5da95b9d7",
     "prev": "6542a979-9aaf-4205-b524-9f0cc4300b5a",
     "regions": {
      "067489bb-a463-4003-a180-8cd9c39b981d": {
       "attrs": {
        "height": 0.16173267326732663,
        "width": 0.96,
        "x": 0.02,
        "y": 0.02
       },
       "content": {
        "cell": "58f6c89c-1abe-4e52-a695-84ff9eaa2aa2",
        "part": "source"
       },
       "id": "067489bb-a463-4003-a180-8cd9c39b981d"
      },
      "4c50f044-8fd6-4418-b1db-f0d10aa01ec3": {
       "attrs": {
        "height": 0.08465346534653477,
        "width": 0.9594214108910892,
        "x": 0.022029702970297032,
        "y": 0.8982673267326732
       },
       "content": {
        "cell": "ce55ff9d-a0ea-46db-a44b-abfa2496b07f",
        "part": "source"
       },
       "id": "4c50f044-8fd6-4418-b1db-f0d10aa01ec3"
      },
      "cb854480-4faf-498b-a4dc-479aee05e5e8": {
       "attrs": {
        "height": 0.7220297029702971,
        "width": 0.9573329207920793,
        "x": 0.02133353960396036,
        "y": 0.17920792079207915
       },
       "content": {
        "cell": "604635df-f533-4f9b-90c0-036ee0719a45",
        "part": "whole"
       },
       "id": "cb854480-4faf-498b-a4dc-479aee05e5e8"
      }
     }
    },
    "d5ab7225-8e25-4d0b-8d55-31550c1a5943": {
     "id": "d5ab7225-8e25-4d0b-8d55-31550c1a5943",
     "prev": "27185f3e-2a0f-4c1e-8ac9-2f8b72365bf1",
     "regions": {
      "08c35cde-81b0-4dab-ae7a-965efbc66be5": {
       "attrs": {
        "height": 0.96,
        "width": 0.96,
        "x": 0.02,
        "y": 0.02
       },
       "content": {
        "cell": "5f037260-9815-443e-aaf8-0bc5c344b934",
        "part": "whole"
       },
       "id": "08c35cde-81b0-4dab-ae7a-965efbc66be5"
      }
     }
    },
    "ef9920f6-e2eb-4fed-99ef-01de75833958": {
     "id": "ef9920f6-e2eb-4fed-99ef-01de75833958",
     "prev": "d5ab7225-8e25-4d0b-8d55-31550c1a5943",
     "regions": {
      "7bc1c4d9-21e1-43f4-9a50-7a21bba88253": {
       "attrs": {
        "height": 0.96,
        "width": 0.96,
        "x": 0.02,
        "y": 0.02
       },
       "content": {
        "cell": "60ca4a53-4b88-4b4a-91cf-468589a05bb8",
        "part": "whole"
       },
       "id": "7bc1c4d9-21e1-43f4-9a50-7a21bba88253"
      }
     }
    },
    "f7d2c5bd-79de-4989-8481-ab7354161c2e": {
     "id": "f7d2c5bd-79de-4989-8481-ab7354161c2e",
     "prev": "2a7de429-4e87-4991-bbae-2706c26d498c",
     "regions": {
      "9085a72e-008f-427c-8c51-544ce0984f1e": {
       "attrs": {
        "height": 0.96,
        "width": 0.96,
        "x": 0.02,
        "y": 0.02
       },
       "content": {
        "cell": "372e5dd3-2da4-4d4b-bec1-baef095befe2",
        "part": "whole"
       },
       "id": "9085a72e-008f-427c-8c51-544ce0984f1e"
      }
     }
    },
    "f89fecec-7c0f-4584-970d-18d5df744eee": {
     "id": "f89fecec-7c0f-4584-970d-18d5df744eee",
     "prev": "43d6d6a5-e2b0-4128-a81e-fb40db259d76",
     "regions": {
      "b79415f2-f8b3-49ae-9327-e6342a0f279c": {
       "attrs": {
        "height": 0.96,
        "width": 0.96,
        "x": 0.02,
        "y": 0.02
       },
       "content": {
        "cell": "23e7bd20-05cf-4f9b-a51c-9435e814057a",
        "part": "whole"
       },
       "id": "b79415f2-f8b3-49ae-9327-e6342a0f279c"
      }
     }
    }
   },
   "themes": {
    "default": "e84c8589-1aee-4bd4-b152-49b9506b8a54",
    "theme": {
     "e84c8589-1aee-4bd4-b152-49b9506b8a54": {
      "backgrounds": {
       "my-background": {
        "background-color": "white"
       }
      },
      "id": "e84c8589-1aee-4bd4-b152-49b9506b8a54",
      "palette": {
       "black": {
        "id": "black",
        "rgb": [
         0,
         0,
         0
        ]
       },
       "blue": {
        "id": "blue",
        "rgb": [
         0,
         153,
         204
        ]
       },
       "gray": {
        "id": "gray",
        "rgb": [
         128,
         128,
         128
        ]
       },
       "red": {
        "id": "red",
        "rgb": [
         240,
         32,
         32
        ]
       },
       "white": {
        "id": "white",
        "rgb": [
         255,
         255,
         255
        ]
       }
      },
      "rules": {
       "code": {
        "font-size": 1.6
       },
       "h1": {
        "color": "blue",
        "font-size": 5.5,
        "text-align": "center"
       },
       "h2": {
        "color": "blue",
        "font-size": 3,
        "text-align": "center"
       },
       "h3": {
        "color": "black",
        "font-size": 3
       },
       "pre": {
        "font-size": 1.6
       },
       "ul li": {
        "color": "black",
        "font-size": 2.5
       },
       "ul li ul li": {
        "color": "black",
        "font-size": 2
       }
      },
      "text-base": {
       "font-family": "Georgia",
       "font-size": 2.5
      }
     }
    }
   }
  }
 },
 "nbformat": 4,
 "nbformat_minor": 1
}
