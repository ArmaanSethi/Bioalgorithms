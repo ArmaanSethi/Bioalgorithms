{
 "cells": [
  {
   "cell_type": "code",
   "execution_count": 16,
   "metadata": {
    "nbpresent": {
     "id": "a386c3f3-e191-4e02-9a11-5ea25e60bb80"
    },
    "slideshow": {
     "slide_type": "skip"
    }
   },
   "outputs": [
    {
     "data": {
      "application/javascript": [
       "var width = window.innerWidth || document.documentElement.clientWidth || document.body.clientWidth;\n",
       "var height = window.innerHeight || document.documentElement.clientHeight || document.body.clientHeight;\n",
       "\n",
       "IPython.notebook.kernel.execute(\"windowSize = (\" + width + \",\" + height + \")\");\n",
       "// suitable for small screens\n",
       "nbpresent.mode.tree.set(\n",
       "    [\"app\", \"theme-manager\", \"themes\", \"my-theme\"], \n",
       "    {\n",
       "    palette: {\n",
       "        \"blue\": { id: \"blue\", rgb: [0, 153, 204] },\n",
       "        \"black\": { id: \"black\", rgb: [0, 0, 0] },\n",
       "        \"white\": { id: \"white\", rgb: [255, 255, 255] },\n",
       "        \"red\": { id: \"red\", rgb: [240, 32, 32] },\n",
       "        \"gray\": { id: \"gray\", rgb: [128, 128, 128] },\n",
       "    },\n",
       "    backgrounds: {\n",
       "        \"my-background\": {\n",
       "            \"background-color\": \"white\"\n",
       "        }\n",
       "    },\n",
       "    \"text-base\": {\n",
       "        \"font-family\": \"Georgia\",\n",
       "        \"font-size\": 2.5\n",
       "    },\n",
       "    rules: {\n",
       "        h1: {\n",
       "            \"font-size\": 5.5,\n",
       "            color: \"blue\",\n",
       "            \"text-align\": \"center\"\n",
       "        },\n",
       "        h2: {\n",
       "            \"font-size\": 3,\n",
       "            color: \"blue\",\n",
       "            \"text-align\": \"center\"\n",
       "        },\n",
       "        h3: {\n",
       "            \"font-size\": 3,\n",
       "            color: \"black\",\n",
       "        },\n",
       "        \"ul li\": {\n",
       "            \"font-size\": 2.5,\n",
       "            color: \"black\"\n",
       "        },\n",
       "        \"ul li ul li\": {\n",
       "            \"font-size\": 2.0,\n",
       "            color: \"black\"\n",
       "        },\n",
       "        \"code\": {\n",
       "            \"font-size\": 1.6,\n",
       "        },\n",
       "        \"pre\": {\n",
       "            \"font-size\": 1.6,\n",
       "        }\n",
       "    }\n",
       "});"
      ],
      "text/plain": [
       "<IPython.core.display.Javascript object>"
      ]
     },
     "metadata": {},
     "output_type": "display_data"
    }
   ],
   "source": [
    "%%javascript\n",
    "var width = window.innerWidth || document.documentElement.clientWidth || document.body.clientWidth;\n",
    "var height = window.innerHeight || document.documentElement.clientHeight || document.body.clientHeight;\n",
    "\n",
    "IPython.notebook.kernel.execute(\"windowSize = (\" + width + \",\" + height + \")\");\n",
    "// suitable for small screens\n",
    "nbpresent.mode.tree.set(\n",
    "    [\"app\", \"theme-manager\", \"themes\", \"my-theme\"], \n",
    "    {\n",
    "    palette: {\n",
    "        \"blue\": { id: \"blue\", rgb: [0, 153, 204] },\n",
    "        \"black\": { id: \"black\", rgb: [0, 0, 0] },\n",
    "        \"white\": { id: \"white\", rgb: [255, 255, 255] },\n",
    "        \"red\": { id: \"red\", rgb: [240, 32, 32] },\n",
    "        \"gray\": { id: \"gray\", rgb: [128, 128, 128] },\n",
    "    },\n",
    "    backgrounds: {\n",
    "        \"my-background\": {\n",
    "            \"background-color\": \"white\"\n",
    "        }\n",
    "    },\n",
    "    \"text-base\": {\n",
    "        \"font-family\": \"Georgia\",\n",
    "        \"font-size\": 2.5\n",
    "    },\n",
    "    rules: {\n",
    "        h1: {\n",
    "            \"font-size\": 5.5,\n",
    "            color: \"blue\",\n",
    "            \"text-align\": \"center\"\n",
    "        },\n",
    "        h2: {\n",
    "            \"font-size\": 3,\n",
    "            color: \"blue\",\n",
    "            \"text-align\": \"center\"\n",
    "        },\n",
    "        h3: {\n",
    "            \"font-size\": 3,\n",
    "            color: \"black\",\n",
    "        },\n",
    "        \"ul li\": {\n",
    "            \"font-size\": 2.5,\n",
    "            color: \"black\"\n",
    "        },\n",
    "        \"ul li ul li\": {\n",
    "            \"font-size\": 2.0,\n",
    "            color: \"black\"\n",
    "        },\n",
    "        \"code\": {\n",
    "            \"font-size\": 1.6,\n",
    "        },\n",
    "        \"pre\": {\n",
    "            \"font-size\": 1.6,\n",
    "        }\n",
    "    }\n",
    "});"
   ]
  },
  {
   "cell_type": "markdown",
   "metadata": {
    "nbpresent": {
     "id": "7c1f5e88-6621-43d9-a2c4-eea01b1dc7a2"
    },
    "slideshow": {
     "slide_type": "slide"
    }
   },
   "source": [
    "# Sequence Alignment\n",
    "\n",
    "<img src=\"http://csbio.unc.edu/mcmillan/Comp555S18/Media/CityGrid.jpg\" width=\"400\" style=\"centerImg\">\n",
    "\n",
    "* Relating sequence alignment to our Manhattan Tour Problem\n",
    "* Go over Midterm exam\n",
    "* You should see grades for PS#1, PS#2, and Midterm online\n",
    "* PS#3 is due tonight\n",
    "* PS#4 will be posted before the weekend.\n",
    "<p style=\"text-align: right; clear: right;\">1</p>"
   ]
  },
  {
   "cell_type": "markdown",
   "metadata": {
    "nbpresent": {
     "id": "800cdfa0-4c4f-413a-ba16-16e8a55467ef"
    },
    "slideshow": {
     "slide_type": "slide"
    }
   },
   "source": [
    "# A Biological Dynamic Programming Problem\n",
    "\n",
    "* How to measure the similarity between a pair of nucleotide or amino acid sequences\n",
    "* When Motif-Searching we used Hamming distance as a measure of sequence similarity\n",
    "* Is Hamming distance the best measure?\n",
    "* How can we distinguish matches that occur by chance from slightly modified patterns?\n",
    "* What sorts of modifications should we allow?\n",
    "\n",
    "<img src=\"http://csbio.unc.edu/mcmillan/Comp555S18/Media/Clustal.gif\" width=\"500\">\n",
    "\n",
    "<p style=\"text-align: right; clear: right;\">2</p>"
   ]
  },
  {
   "cell_type": "markdown",
   "metadata": {
    "nbpresent": {
     "id": "0b7021b6-5b1e-4b34-b583-a42d6ce529fa"
    },
    "slideshow": {
     "slide_type": "slide"
    }
   },
   "source": [
    "# Best Sequence Matches\n",
    "\n",
    "* Depends on how you define *Best*\n",
    "* Consider the two DNA sequences *v* and *w* :\n",
    "\n",
    "<pre style=\"font-size: 160%;\">\n",
    "         v: TAGACAAT\n",
    "         w: AGAGACAT\n",
    "            11111111\n",
    "</pre>\n",
    "\n",
    "\n",
    "* The Hamming distance: *dH(v, w) = 8* is large but the sequences have similarity\n",
    "* What if we allowed insertions and deletions?\n",
    "\n",
    "<p style=\"text-align: right; clear: right;\">3</p>"
   ]
  },
  {
   "cell_type": "markdown",
   "metadata": {
    "nbpresent": {
     "id": "71121e55-f87e-4811-b0d6-0dd1d2d05ccb"
    },
    "slideshow": {
     "slide_type": "slide"
    }
   },
   "source": [
    "# Allowing Insertions and Deletions\n",
    "\n",
    "* By shifting one sequence over one position:\n",
    "\n",
    "<pre style=\"font-size: 160%;\">\n",
    "         v: _TAGACAAT\n",
    "         w: AGAGACA_T\n",
    "            110000010\n",
    "</pre>\n",
    "\n",
    "* The edit distance: *dH(v, w) = 3*.\n",
    "* Hamming distance neglects insertions and deletions\n",
    "\n",
    "<p style=\"text-align: right; clear: right;\">4</p>"
   ]
  },
  {
   "cell_type": "markdown",
   "metadata": {
    "nbpresent": {
     "id": "9130f4aa-158c-4a5d-9b72-9b389c8af6ed"
    },
    "slideshow": {
     "slide_type": "slide"
    }
   },
   "source": [
    "# Edit Distance\n",
    "\n",
    "<img src=\"http://csbio.unc.edu/mcmillan/Comp555S18/Media/Levenshtein.jpg\" style=\"float: right;\">\n",
    "* Levenshtein introduced the notion of an “edit distance” between two strings as the minimum number of elementary operations (insertions, deletions, and substitutions) to transform one string into the other in 1965.\n",
    "<br><br>\n",
    "* d(v,w) = Minimum number of elementary operations to transform *v &rarr; w*\n",
    "<br><br>\n",
    "* Computing Hamming distance is a trivial task\n",
    "<br><br>\n",
    "* Computing edit distance is less trivial\n",
    "<br><br>\n",
    "<p style=\"text-align: right; clear: right;\">5</p>"
   ]
  },
  {
   "cell_type": "markdown",
   "metadata": {
    "nbpresent": {
     "id": "952ea61e-66cf-430a-af37-dcc6411972f1"
    },
    "slideshow": {
     "slide_type": "slide"
    }
   },
   "source": [
    "# Edit Distance: Example\n",
    "\n",
    "<pre style=\"font-size: 120%;\">\n",
    "    TGCATAT &rarr; ATCCGAT in 5 steps\n",
    "\n",
    "    TGCATAT &rarr; (DELETE last T)\n",
    "    TGCATA  &rarr; (DELETE last A)\n",
    "    TGCAT   &rarr; (INSERT A at front)\n",
    "    ATGCAT  &rarr; (SUBSTITUTE C for G)\n",
    "    ATCCAT  &rarr; (INSERT G before last A) \n",
    "    ATCCGAT   (Done)\n",
    "</pre>\n",
    "\n",
    "What is the edit distance?  5?\n",
    "\n",
    "<p style=\"text-align: right; clear: right;\">6</p>"
   ]
  },
  {
   "cell_type": "markdown",
   "metadata": {
    "nbpresent": {
     "id": "715256a4-04e6-4c13-9efc-f80ac2eebe9f"
    },
    "slideshow": {
     "slide_type": "slide"
    }
   },
   "source": [
    "# Edit Distance: Example (2<sup>nd</sup> Try)\n",
    "\n",
    "<pre style=\"font-size: 120%;\">\n",
    "    TGCATAT &rarr; ATCCGAT in 4 steps\n",
    "\n",
    "    TGCATAT  &rarr; (INSERT A at front)\n",
    "    ATGCATAT &rarr; (DELETE 2nd T)\n",
    "    ATGCAAT  &rarr; (SUBSTITUTE G for 2nd A)\n",
    "    ATGCGAT  &rarr; (SUBSTITUTE C for 1st G)\n",
    "    ATCCGAT    (Done)\n",
    "</pre>   \n",
    "\n",
    "Is 4 the minimum edit distance?    3?\n",
    "\n",
    "* A little jargon: Since the effect of insertion in one string can be accomplished via a deletion in the other string these two operations are correlated. Often algorithms will consider them together as a single operation called INDEL\n",
    "\n",
    "<p style=\"text-align: right; clear: right;\">7</p>"
   ]
  },
  {
   "cell_type": "markdown",
   "metadata": {
    "nbpresent": {
     "id": "c013cc52-fc84-481a-8fdf-93fd9a5532ee"
    },
    "slideshow": {
     "slide_type": "slide"
    }
   },
   "source": [
    "# Longest Common Subsequence\n",
    "\n",
    "* A special case of edit distance where no *substitutions* are allowed\n",
    "* A subsequence need not be contiguous, but the symbol order must be preserved<br>\n",
    "\tEx. If v = ATTGCTA then AGCA and TTTA are subsequences of v, but TGTT and ACGA are not\n",
    "* All substrings of *v* are subsequences, but not vice versa\n",
    "* The edit distance, *d*, is related to the length of the LCS, *s*, by:\n",
    "\n",
    "$$d(u,w) = len(v) + len(w) – 2 s(u,w)$$\n",
    "\n",
    "\n",
    "<pre style=\"font-size: 120%;\">\n",
    "        ANUNCLEIKE\n",
    "        UNCBEATDUKE\n",
    "        \n",
    "        anUNC_lE____iKE  10 - 6 = 4 \n",
    "        __UNCb_Eatdu_KE  11 - 6 = 5\n",
    "</pre>\n",
    "\n",
    "<p style=\"text-align: right; clear: right;\">8</p>"
   ]
  },
  {
   "cell_type": "markdown",
   "metadata": {
    "nbpresent": {
     "id": "c85316ff-1a06-46be-96f0-eb4997e73465"
    },
    "slideshow": {
     "slide_type": "slide"
    }
   },
   "source": [
    "# LCS as a Dynamic Program\n",
    "\n",
    "<img src=\"http://csbio.unc.edu/mcmillan/Comp555S18/Media/LCSgrid.png\" width=\"300\" class=\"centerImg\">\n",
    "\n",
    "* All possible possible alignments can be represented as a path from the string’s beginning (source) to its end (destination)\n",
    "* Horizontal edges add gaps in v. Vertical edges add gaps in w. Diagonal edges are a match  \n",
    "* Notice that we’ve only included valid diagonal edges appear in our graph\n",
    "\n",
    "<p style=\"text-align: right; clear: right;\">9</p>"
   ]
  },
  {
   "cell_type": "markdown",
   "metadata": {
    "nbpresent": {
     "id": "f0d6cae7-f4c2-47f9-94c7-9dfaa630deea"
    },
    "slideshow": {
     "slide_type": "slide"
    }
   },
   "source": [
    "# Various Alignments\n",
    "\n",
    "<img src=\"http://csbio.unc.edu/mcmillan/Comp555S18/Media/LCSpath1.png\" width=\"360\" style=\"float: right;\">\n",
    "* Introduce coordinates for the grid\n",
    "* All valid paths from the source to the destination represent *some* alignment\n",
    "<pre style=\"font-size: 120%;\">\n",
    "                    0 1 2 2 3 4 5 6 7 7\n",
    "                    v A T _ G T T A T _\n",
    "                    w A T C G T _ A _ C\n",
    "                    0 1 2 3 4 5 5 6 6 7  \n",
    "</pre>\n",
    "* Path: (0,0), (1,1), (2,2), (2,3), (3,4), (4,5), (5,5), (6,6), (7,6), (7,7)\n",
    "<br><br><br><br><br><br>\n",
    "\n",
    "<p style=\"text-align: right; clear: right;\">10</p>"
   ]
  },
  {
   "cell_type": "markdown",
   "metadata": {
    "nbpresent": {
     "id": "3870e4f8-b65a-47d0-bd16-ae3f97187248"
    },
    "slideshow": {
     "slide_type": "slide"
    }
   },
   "source": [
    "# Alternate Alignment\n",
    "\n",
    "<img src=\"http://csbio.unc.edu/mcmillan/Comp555S18/Media/LCSpath2.png\" width=\"360\" style=\"float: right;\">\n",
    "* Introduce coordinates for the grid\n",
    "* All valid paths from the source to the destination represent some alignment\n",
    "<pre style=\"font-size: 120%;\">\n",
    "                    0 1 2 2 3 4 5 6 6 7\n",
    "                    v A T _ G T T A _ T\n",
    "                    w A T C G _ T A C _\n",
    "                    0 1 2 3 4 4 5 6 7 7  \n",
    "</pre>\n",
    "* Path: (0,0), (1,1), (2,2), (2,3), (3,4), (4,4), (5,5), (6,6), (6,7), (7,7)\n",
    "<br><br><br><br><br><br>\n",
    "\n",
    "<p style=\"text-align: right; clear: right;\">11</p>"
   ]
  },
  {
   "cell_type": "markdown",
   "metadata": {
    "nbpresent": {
     "id": "e212ac1b-97ed-4420-b065-acc84e925531"
    },
    "slideshow": {
     "slide_type": "slide"
    }
   },
   "source": [
    "# Even Bad Alignments\n",
    "\n",
    "<img src=\"http://csbio.unc.edu/mcmillan/Comp555S18/Media/LCSpath3.png\" width=\"360\" style=\"float: right;\">\n",
    "* Introduce coordinates for the grid\n",
    "* All valid paths from the source to the destination represent some alignment\n",
    "<pre style=\"font-size: 120%;\">\n",
    "            0 0 0 0 0 0 1 2 3 4 5 6 7 7\n",
    "            v _ _ _ _ _ A T G T T A T _\n",
    "            w A T C G T A _ _ _ _ _ _ C\n",
    "            0 1 2 3 4 5 6 6 6 6 6 6 6 7 \n",
    "</pre>\n",
    "* Path: (0,0), (0,1), (0,2), (0,3), (0,4), (0,5), (1,6), (2,6), (3,6), (4,6), (5,6), (6,6), (7,6), (7,7)\n",
    "<br><br><br><br><br>\n",
    "\n",
    "<p style=\"text-align: right; clear: right;\">12</p>"
   ]
  },
  {
   "cell_type": "markdown",
   "metadata": {
    "nbpresent": {
     "id": "9fc84fe1-ff1d-46ef-b977-3ca0f3570713"
    },
    "slideshow": {
     "slide_type": "slide"
    }
   },
   "source": [
    "# What makes a good alignment?\n",
    "\n",
    "<img src=\"http://csbio.unc.edu/mcmillan/Comp555S18/Media/CartoonAlignments.jpg\" width=\"360\" style=\"float: right;\">\n",
    "* Using as many diagonal segments (matches) as possible. Why?\n",
    "<br><br>\n",
    "* The end of a good alignment from (j...k) begins with a good alignment from (i..j)\n",
    "<br><br>\n",
    "* Same as Manhattan Tourist problem, where ***sites*** are only on the diagonal streets!\n",
    "<br><br>\n",
    "* Set diagonal street weights = 1, and horizontal and vertical weights = 0\n",
    "<br><br><br><br><br><br><br><br><br><br>\n",
    "\n",
    "<p style=\"text-align: right; clear: right;\">13</p>"
   ]
  },
  {
   "cell_type": "markdown",
   "metadata": {
    "collapsed": true,
    "nbpresent": {
     "id": "e8b1a851-9e60-4c04-90fb-f3169087c7d8"
    },
    "slideshow": {
     "slide_type": "slide"
    }
   },
   "source": [
    "# Alignment: Dynamic Program\n",
    "\n",
    "<img src=\"http://csbio.unc.edu/mcmillan/Comp555S18/Media/LCSDP1.png\" width=\"500\" class=\"centerImg\">\n",
    "\n",
    "<p style=\"text-align: right; clear: right;\">14</p>"
   ]
  },
  {
   "cell_type": "markdown",
   "metadata": {
    "nbpresent": {
     "id": "9f941165-aaa4-414d-9e09-9a3be0571c70"
    },
    "slideshow": {
     "slide_type": "slide"
    }
   },
   "source": [
    "# Step 1\n",
    "\n",
    "Initialize 1st row and 1st column to all zeroes.\n",
    "\n",
    "<img src=\"http://csbio.unc.edu/mcmillan/Comp555S18/Media/LCSDP2.png\" width=\"290\" style=\"margin-left: 360px;\">\n",
    "\n",
    "* Note intersections/vertices are rows in this matrix\n",
    "\n",
    "<p style=\"text-align: right; clear: right;\">15</p>"
   ]
  },
  {
   "cell_type": "markdown",
   "metadata": {
    "nbpresent": {
     "id": "246d2cea-bfed-43fe-808e-2bc37c6b3b67"
    },
    "slideshow": {
     "slide_type": "slide"
    }
   },
   "source": [
    "# Step 2\n",
    "\n",
    "Evaluate recursion for next row and/or next column\n",
    "\n",
    "<img src=\"http://csbio.unc.edu/mcmillan/Comp555S18/Media/LCSDP3.png\" width=\"600\" class=\"centerImg\">\n",
    "\n",
    "<p style=\"text-align: right; clear: right;\">16</p>"
   ]
  },
  {
   "cell_type": "markdown",
   "metadata": {
    "nbpresent": {
     "id": "21ed5e09-799d-4dbd-8817-c87680afbad7"
    },
    "slideshow": {
     "slide_type": "slide"
    }
   },
   "source": [
    "# Step 3\n",
    "\n",
    "Continue recursion for next row and/or next column\n",
    "\n",
    "<img src=\"http://csbio.unc.edu/mcmillan/Comp555S18/Media/LCSDP4.png\" width=\"600\" class=\"centerImg\">\n",
    "\n",
    "<p style=\"text-align: right; clear: right;\">17</p>"
   ]
  },
  {
   "cell_type": "markdown",
   "metadata": {
    "nbpresent": {
     "id": "5387dfdc-da8f-4b2a-9fdc-54cb442e838b"
    },
    "slideshow": {
     "slide_type": "slide"
    }
   },
   "source": [
    "# Step 4\n",
    "\n",
    "Then one more row and/or column\n",
    "\n",
    "<img src=\"http://csbio.unc.edu/mcmillan/Comp555S18/Media/LCSDP5.png\" width=\"600\" class=\"centerImg\">\n",
    "\n",
    "<p style=\"text-align: right; clear: right;\">18</p>"
   ]
  },
  {
   "cell_type": "markdown",
   "metadata": {
    "nbpresent": {
     "id": "1e2199dd-a5de-470f-a126-d652b47c0147"
    },
    "slideshow": {
     "slide_type": "slide"
    }
   },
   "source": [
    "# Step 5\n",
    "\n",
    "And so on... \n",
    "\n",
    "<img src=\"http://csbio.unc.edu/mcmillan/Comp555S18/Media/LCSDP6.png\" width=\"600\" class=\"centerImg\">\n",
    "\n",
    "<p style=\"text-align: right; clear: right;\">19</p>"
   ]
  },
  {
   "cell_type": "markdown",
   "metadata": {
    "nbpresent": {
     "id": "143297b6-5c58-4d2c-9a02-9e78d780cead"
    },
    "slideshow": {
     "slide_type": "slide"
    }
   },
   "source": [
    "# Step 6\n",
    "\n",
    "And so on... \n",
    "\n",
    "<img src=\"http://csbio.unc.edu/mcmillan/Comp555S18/Media/LCSDP7.png\" width=\"600\" class=\"centerImg\">\n",
    "\n",
    "<p style=\"text-align: right; clear: right;\">20</p>"
   ]
  },
  {
   "cell_type": "markdown",
   "metadata": {
    "nbpresent": {
     "id": "965af311-e28e-4439-bed3-cc51401b80c8"
    },
    "slideshow": {
     "slide_type": "slide"
    }
   },
   "source": [
    "# Step 7\n",
    "\n",
    "Getting closer\n",
    "\n",
    "<img src=\"http://csbio.unc.edu/mcmillan/Comp555S18/Media/LCSDP8.png\" width=\"600\" class=\"centerImg\">\n",
    "\n",
    "<p style=\"text-align: right; clear: right;\">21</p>"
   ]
  },
  {
   "cell_type": "markdown",
   "metadata": {
    "nbpresent": {
     "id": "e1407acc-e992-47a9-82c0-6968751bebe9"
    },
    "slideshow": {
     "slide_type": "slide"
    }
   },
   "source": [
    "# Step 8\n",
    "\n",
    "Until we reach the last row and column\n",
    "\n",
    "<img src=\"http://csbio.unc.edu/mcmillan/Comp555S18/Media/LCSDP9.png\" width=\"600\" class=\"centerImg\">\n",
    "\n",
    "<p style=\"text-align: right; clear: right;\">22</p>"
   ]
  },
  {
   "cell_type": "markdown",
   "metadata": {
    "nbpresent": {
     "id": "b4e58a31-8f5f-4e47-9327-999b31d85478"
    },
    "slideshow": {
     "slide_type": "slide"
    }
   },
   "source": [
    "# Finally\n",
    "\n",
    "We reach the end, which corresponds to an LCS of length 5\n",
    "\n",
    "<img src=\"http://csbio.unc.edu/mcmillan/Comp555S18/Media/LCSDP10.png\" width=\"600\" class=\"centerImg\">\n",
    "\n",
    "Our answer includes both an optimal score, and a path back to find the alignment\n",
    "\n",
    "<p style=\"text-align: right; clear: right;\">23</p>"
   ]
  },
  {
   "cell_type": "markdown",
   "metadata": {
    "nbpresent": {
     "id": "44ee81d2-0865-4f7e-8f36-844237c03837"
    },
    "slideshow": {
     "slide_type": "slide"
    }
   },
   "source": [
    "# LCS Code\n",
    "\n",
    "Let's see how well the code matches the approach we sketched out..."
   ]
  },
  {
   "cell_type": "code",
   "execution_count": 6,
   "metadata": {
    "nbpresent": {
     "id": "a56db61a-9f5e-44a8-9e8e-65dc803d93fd"
    },
    "slideshow": {
     "slide_type": "fragment"
    }
   },
   "outputs": [
    {
     "name": "stdout",
     "output_type": "stream",
     "text": [
      "   score = [0 0 0 0 0 0 0 0]        backtrack = [0 0 0 0 0 0 0 0]   \n",
      "           [0 1 1 1 1 1 1 1]                    [0 3 2 2 2 2 3 2]   \n",
      "           [0 1 2 2 2 2 2 2]                    [0 1 3 2 2 3 2 2]   \n",
      "           [0 1 2 2 3 3 3 3]                    [0 1 1 2 3 2 2 2]   \n",
      "           [0 1 2 2 3 4 4 4]                    [0 1 3 2 1 3 2 2]   \n",
      "           [0 1 2 2 3 4 4 4]                    [0 1 3 2 1 3 2 2]   \n",
      "           [0 1 2 2 3 4 5 5]                    [0 3 1 2 1 1 3 2]   \n",
      "           [0 1 2 2 3 4 5 5]                    [0 1 3 2 1 3 1 2]   \n"
     ]
    }
   ],
   "source": [
    "from numpy import *\n",
    "\n",
    "def findLCS(v, w):\n",
    "    score = zeros((len(v)+1,len(w)+1), dtype=\"int32\")\n",
    "    backt = zeros((len(v)+1,len(w)+1), dtype=\"int32\")\n",
    "    for i in xrange(1,len(v)+1):\n",
    "        for j in xrange(1,len(w)+1):\n",
    "            # find best score at each vertex\n",
    "            if (v[i-1] == w[j-1]):\n",
    "                score[i,j], backt[i,j] = max((score[i-1,j-1]+1,3), (score[i-1,j],1), (score[i,j-1],2))\n",
    "            else:\n",
    "                score[i,j], backt[i,j] = max((score[i-1,j],1), (score[i,j-1],2))\n",
    "    return score, backt\n",
    "\n",
    "v = \"ATGTTAT\"\n",
    "w = \"ATCGTAC\"\n",
    "s, b = findLCS(v,w)\n",
    "for i in xrange(len(s)):\n",
    "    print \"%10s %-20s    %12s %-20s\" % ('' if i else 'score =', str(s[i]), '' if i else 'backtrack =', str(b[i]))"
   ]
  },
  {
   "cell_type": "markdown",
   "metadata": {
    "nbpresent": {
     "id": "5155ceb9-6448-47bb-a84e-69a4cca18e8e"
    },
    "slideshow": {
     "slide_type": "fragment"
    }
   },
   "source": [
    "\n",
    "* The same score matrix that we found by hand\n",
    "* *\"backtrack\"* keeps track of the arrows that we used\n",
    "\n",
    "<p style=\"text-align: right; clear: right;\">24</p>"
   ]
  },
  {
   "cell_type": "markdown",
   "metadata": {
    "nbpresent": {
     "id": "c8205f50-fa3e-4bc6-8aaf-9bc89d2fcfb2"
    },
    "slideshow": {
     "slide_type": "slide"
    }
   },
   "source": [
    "# Backtracking\n",
    "\n",
    "<img src=\"http://csbio.unc.edu/mcmillan/Comp555S18/Media/Backtrack.png\" width=\"360\" class=\"centerImg\">\n",
    "\n",
    "In our example we used arrows {&darr;, &rarr;, &searr;}, which were represented in our matrix as {1,2,3} respectively. This numbering is arbitrrary, except that it does break ties in our implementation (matches > *w* deletions > *w* insertions).\n",
    "\n",
    "Next we need code that finds a path from the end of our strings to the beginning using our *arrow* matrix\n",
    "\n",
    "\n",
    "<p style=\"text-align: right; clear: right;\">25</p>"
   ]
  },
  {
   "cell_type": "markdown",
   "metadata": {
    "nbpresent": {
     "id": "47be85c4-9a1f-46b7-9753-cbeade867016"
    },
    "slideshow": {
     "slide_type": "slide"
    }
   },
   "source": [
    "# Code to extract our answer\n",
    "\n",
    "We can write a simple recursive routine to return along the path of arrows that led to our best score."
   ]
  },
  {
   "cell_type": "code",
   "execution_count": 7,
   "metadata": {
    "nbpresent": {
     "id": "c33ab645-7113-4d5d-a645-a22d87ff0d29"
    },
    "slideshow": {
     "slide_type": "fragment"
    }
   },
   "outputs": [
    {
     "name": "stdout",
     "output_type": "stream",
     "text": [
      "ATGTA\n"
     ]
    }
   ],
   "source": [
    "def LCS(b,v,i,j):\n",
    "    if ((i == 0) and (j == 0)):\n",
    "        return ''\n",
    "    if (b[i,j] == 3):\n",
    "        result = LCS(b,v,i-1,j-1)\n",
    "        result = result + v[i-1]\n",
    "        return result\n",
    "    else:\n",
    "        if (b[i,j] == 2):\n",
    "            return LCS(b,v,i,j-1)\n",
    "        else:\n",
    "            return LCS(b,v,i-1,j)\n",
    "        \n",
    "print LCS(b,v,b.shape[0]-1,b.shape[1]-1)"
   ]
  },
  {
   "cell_type": "markdown",
   "metadata": {
    "nbpresent": {
     "id": "4847c421-ce81-4f0e-bc9d-87db3786be29"
    },
    "slideshow": {
     "slide_type": "fragment"
    }
   },
   "source": [
    "* Technically correct, ATGTA is the LCS\n",
    "\n",
    "       w = ATcGT_A_c\n",
    "       v = AT_GTtAt_ \n",
    "\n",
    "* Notice that we only need one of *v* or *w* since both contain the LCS\n",
    "* Perhaps we would like to get more than just the LCS; for example, the correpsonding alignment.\n",
    "\n",
    "<p style=\"text-align: right; clear: right;\">26</p>"
   ]
  },
  {
   "cell_type": "markdown",
   "metadata": {
    "nbpresent": {
     "id": "7fbdb100-eec8-4fa6-8cf6-19b00a95a655"
    },
    "slideshow": {
     "slide_type": "slide"
    }
   },
   "source": [
    "# An alignment of *v* and *w*"
   ]
  },
  {
   "cell_type": "code",
   "execution_count": 8,
   "metadata": {
    "nbpresent": {
     "id": "b890d7d0-f4bc-4218-a882-35b39e828257"
    },
    "slideshow": {
     "slide_type": "fragment"
    }
   },
   "outputs": [
    {
     "name": "stdout",
     "output_type": "stream",
     "text": [
      "v = AT_GTTAT_\n",
      "w = ATCG_TA_C\n"
     ]
    }
   ],
   "source": [
    "def Alignment(b,v,w,i,j):\n",
    "    if ((i == 0) and (j == 0)):\n",
    "        return ['','']\n",
    "    if (b[i,j] == 3):\n",
    "        result = Alignment(b,v,w,i-1,j-1)\n",
    "        result[0] += v[i-1]\n",
    "        result[1] += w[j-1]\n",
    "        return result\n",
    "    else:\n",
    "        if (b[i,j] == 2):\n",
    "            result = Alignment(b,v,w,i,j-1)\n",
    "            result[0] += \"_\"\n",
    "            result[1] += w[j-1]\n",
    "            return result\n",
    "        else:\n",
    "            result = Alignment(b,v,w,i-1,j)\n",
    "            result[0] += v[i-1]\n",
    "            result[1] += \"_\"\n",
    "            return result\n",
    "\n",
    "align = Alignment(b,v,w,b.shape[0]-1,b.shape[1]-1)\n",
    "print \"v =\", align[0]\n",
    "print \"w =\", align[1]"
   ]
  },
  {
   "cell_type": "markdown",
   "metadata": {
    "nbpresent": {
     "id": "f3885f96-cae5-44ae-9a30-625ea198be92"
    },
    "slideshow": {
     "slide_type": "fragment"
    }
   },
   "source": [
    "\n",
    "<p style=\"text-align: right; clear: right;\">27</p>"
   ]
  },
  {
   "cell_type": "markdown",
   "metadata": {
    "nbpresent": {
     "id": "d5345787-67b3-4a53-b7bf-826e1548104c"
    },
    "slideshow": {
     "slide_type": "slide"
    }
   },
   "source": [
    "# Alignment with a Scoring Matrix\n",
    "\n",
    "<img src=\"http://csbio.unc.edu/mcmillan/Comp555S18/Media/ScoreMatrix1.png\" width=\"250\" style=\"float: right;\">\n",
    "* Rather *edit distance* one could use a table with costs for every symbol aligned to any other\n",
    "* Scoring matrices allow alignments to consider biological constraints \n",
    "* Alignments can be thought of as two sequences that differ due to mutations.  \n",
    "* Some types of mutations are more common, or have little effect on the protein’s function, therefore some mismatch penalties, &delta;(v<sub>i</sub>, w<sub>j</sub>), should be less harsh than others.\n",
    "<br><br>\n",
    "\n",
    "**Example:**\n",
    "* Although R (arginine) and K (lysine) are different amino acids, they might still have a positive score.\n",
    "* Why? They are both positively charged amino acids and hydrophillic implying such a substitution may not greatly change function of protein.\n",
    "\n",
    "<p style=\"text-align: right; clear: right;\">28</p>"
   ]
  },
  {
   "cell_type": "markdown",
   "metadata": {
    "nbpresent": {
     "id": "05c4efb7-d4d8-4364-9e04-8fcbb7d95253"
    },
    "slideshow": {
     "slide_type": "slide"
    }
   },
   "source": [
    "# Functional Conservation\n",
    "\n",
    "* Amino acid changes that tend to preserve the electro-chemical properties of the original residue\n",
    "  - Polar to polar (aspartate &rarr; glutamate)\n",
    "  - Nonpolar to nonpolar (alanine &rarr; valine)\n",
    "  - Similarly behaving residues (leucine &rarr; isoleucine)\n",
    "\n",
    "* Common Amino acid substitution matrices\n",
    "  - PAM\n",
    "  - BLOSUM\n",
    "\n",
    "* DNA substitution matrices\n",
    "  - DNA is less conserved than protein sequences\n",
    "  - Less effective to compare coding regions at nucleotide level\n",
    "\n",
    "<p style=\"text-align: right; clear: right;\">29</p>"
   ]
  },
  {
   "cell_type": "markdown",
   "metadata": {
    "nbpresent": {
     "id": "5e1767d0-06df-4fc0-81fb-6ffdfc1392c6"
    },
    "slideshow": {
     "slide_type": "slide"
    }
   },
   "source": [
    "# PAM\n",
    "\n",
    "* **P**oint **A**ccepted **M**utation (Dayhoff et al.)\n",
    "* 1 PAM = PAM<sub>1</sub> = 1% average change of all amino acid positions\n",
    "  - After 100 PAMs of evolution, not every residue will have changed\n",
    "    * some residues may have mutated several times\n",
    "    * some residues may have returned to their original state\n",
    "    * some residues may not changed at all\n",
    "* PAM<sub>x</sub> ~ (PAM<sub>1</sub>)<sup>x</sup>\n",
    "* PAM<sub>1</sub> is a widely used scoring matrix for very sequences\n",
    "* PAM<sub>250</sub> is a widely used scoring matrix for evolutionarily distant sequences\n",
    "\n",
    "<pre>\n",
    "                 Ala  Arg  Asn  Asp  Cys  Gln  Glu  Gly  His  Ile  Leu  Lys ...\n",
    "                  A    R    N    D    C    Q    E    G    H    I    L    K  ...\n",
    "        Ala A    13    6    9    9    5    8    9   12    6    8    6    7  ...\n",
    "        Arg R     3   17    4    3    2    5    3    2    6    3    2    9\n",
    "        Asn N     4    4    6    7    2    5    6    4    6    3    2    5\n",
    "        Asp D     5    4    8   11    1    7   10    5    6    3    2    5\n",
    "        Cys C     2    1    1    1   52    1    1    2    2    2    1    1\n",
    "        Gln Q     3    5    5    6    1   10    7    3    7    2    3    5\n",
    "        ...\n",
    "        Trp W     0    2    0    0    0    0    0    0    1    0    1    0\n",
    "        Tyr Y     1    1    2    1    3    1    1    1    3    2    2    1\n",
    "        Val V     7    4    4    4    4    4    4    4    5    4   15   10\n",
    "</pre>\n",
    "\n",
    "<p style=\"text-align: right; clear: right;\">30</p>"
   ]
  },
  {
   "cell_type": "markdown",
   "metadata": {
    "nbpresent": {
     "id": "5231af0a-8e18-4a10-b21c-dfcb37267dd9"
    },
    "slideshow": {
     "slide_type": "slide"
    }
   },
   "source": [
    "# BLOSUM\n",
    "\n",
    "<img src=\"http://csbio.unc.edu/mcmillan/Comp555S18/Media/Blosum50.png\" width=\"400\" style=\"float: right; margin-left: 100px;\">\n",
    "\n",
    "* **Blo**ck **Su**bstitution **M**atrix \n",
    "* Scores derived from observations of the frequencies of substitutions in blocks of *local alignments* in related proteins\n",
    "* Matrix name indicates evolutionary distance\n",
    "* BLOSUM50 was created using actual sequences sharing no more than 50% identity\n",
    "\n",
    "<p style=\"text-align: right; clear: right;\">31</p>"
   ]
  },
  {
   "cell_type": "markdown",
   "metadata": {
    "nbpresent": {
     "id": "83765a71-c6cf-4dbd-821b-90704ad842c2"
    },
    "slideshow": {
     "slide_type": "slide"
    }
   },
   "source": [
    "# Global Alignment using a scoring matrix"
   ]
  },
  {
   "cell_type": "code",
   "execution_count": 45,
   "metadata": {
    "nbpresent": {
     "id": "0722490f-8f21-4f17-9e3b-a77e3ea175cc"
    },
    "slideshow": {
     "slide_type": "fragment"
    }
   },
   "outputs": [
    {
     "name": "stdout",
     "output_type": "stream",
     "text": [
      "v = TTCCGAGCGTTA\n",
      "w = TTTC_AG_GTTA\n"
     ]
    }
   ],
   "source": [
    "import numpy\n",
    "\n",
    "def GlobalAlign(v, w, scorematrix, indel):\n",
    "    s = numpy.zeros((len(v)+1,len(w)+1), dtype=\"int32\")\n",
    "    b = numpy.zeros((len(v)+1,len(w)+1), dtype=\"int32\")\n",
    "    for i in xrange(1,len(v)+1):\n",
    "        for j in xrange(1,len(w)+1):\n",
    "            score = s[i-1,j-1] + scorematrix[v[i-1],w[j-1]]\n",
    "            vskip = s[i-1,j] + indel\n",
    "            wskip = s[i,j-1] + indel\n",
    "            s[i,j] = max(vskip, wskip, score)\n",
    "            if (s[i,j] == vskip):\n",
    "               b[i,j] = 1\n",
    "            elif (s[i,j] == wskip):\n",
    "               b[i,j] = 2\n",
    "            else:\n",
    "               b[i,j] = 3\n",
    "    return (s, b)\n",
    "\n",
    "match = {('A','A'):  2, ('A','C'): -1, ('A','G'):  0, ('A','T'): -1,\n",
    "         ('C','A'): -1, ('C','C'):  2, ('C','G'): -1, ('C','T'):  0,\n",
    "         ('G','A'):  0, ('G','C'): -1, ('G','G'):  2, ('G','T'): -1,\n",
    "         ('T','A'): -1, ('T','C'):  0, ('T','G'): -1, ('T','T'):  2}\n",
    "\n",
    "v = \"TTCCGAGCGTTA\"\n",
    "w = \"TTTCAGGTTA\"\n",
    "\n",
    "s, b = GlobalAlign(v,w,match,-1)\n",
    "align = Alignment(b,v,w,b.shape[0]-1,b.shape[1]-1)\n",
    "print \"v =\", align[0]\n",
    "print \"w =\", align[1]"
   ]
  },
  {
   "cell_type": "markdown",
   "metadata": {
    "nbpresent": {
     "id": "237380ce-9bab-4cdf-ab37-e7a99587ec83"
    },
    "slideshow": {
     "slide_type": "fragment"
    }
   },
   "source": [
    "<p style=\"text-align: right; clear: right;\">31</p>"
   ]
  },
  {
   "cell_type": "markdown",
   "metadata": {
    "nbpresent": {
     "id": "d15cba01-a576-4c65-9852-cd4b538d51b1"
    },
    "slideshow": {
     "slide_type": "slide"
    }
   },
   "source": [
    "# Local vs. Global Alignment\n",
    "\n",
    "* The *Global Alignment Problem* tries to find the highest scoring path between vertices (0,0) and (n,m) in the edit graph.\n",
    "\n",
    "* The *Local Alignment Problem* tries to find the highest scoring subpath between all vertex pairs $(i_1,j_1)$ and $(i_2, j_2)$ in the edit graph where $i_2 > i_1$ and $j_2 > j_1$.\n",
    "\n",
    "* In an edit graph with negatively-weighted scores, a Local Alignment may score higher than a Global Alignment\n",
    "\n",
    "Example:\n",
    "* Global Alignment\n",
    "<pre style=\"font-size: 80%;\">\n",
    "        --T—-CC-C-AGT—-TATGT-CAGGGGACACG—A-GCATGCAGA-GAC\n",
    "          |  || |  ||  | | | |||    || | | |  | ||||   |\n",
    "        AATTGCCGCC-GTCGT-T-TTCAG----CA-GTTATG—T-CAGAT--C\n",
    "</pre>\n",
    "* Local Alignment finds longer conserved segment\n",
    "<pre style=\"font-size: 80%;\">\n",
    "                          tccCAGTTATGTCAGgggacacgagcatgcagagac\n",
    "                             ||||||||||||\n",
    "        aattgccgccgtcgttttcagCAGTTATGTCAGatc\n",
    "</pre>\n",
    "\n",
    "<p style=\"text-align: right; clear: right;\">32</p>"
   ]
  },
  {
   "cell_type": "markdown",
   "metadata": {
    "nbpresent": {
     "id": "501ee409-d7e3-4e62-9bfc-f662760e13bf"
    },
    "slideshow": {
     "slide_type": "slide"
    }
   },
   "source": [
    "# Local Alignments: Why?\n",
    "\n",
    "* Two genes in different species may be similar over short conserved regions and dissimilar over remaining regions.\n",
    "* Example:\n",
    "  - Homeobox genes have a short region called the homeodomain that is highly conserved between species. \n",
    "  - A global alignment would not find the homeodomain because it would try to align the ENTIRE sequence\n",
    "\n",
    "\n",
    "**Local Alignment Problem:**\n",
    "* **Goal**: Find the best local alignment between two strings\n",
    "* **Input**: Strings *v*, *w* and scoring matrix δ\n",
    "* **Output**: Alignment of substrings of *v* and *w* whose alignment score is maximum among all possible alignment of all possible substrings\n",
    "\n",
    "<p style=\"text-align: right; clear: right;\">33</p>"
   ]
  },
  {
   "cell_type": "markdown",
   "metadata": {
    "nbpresent": {
     "id": "1d6ab0a2-d8a0-4d1f-b4a2-1d775a266e96"
    },
    "slideshow": {
     "slide_type": "slide"
    }
   },
   "source": [
    "# Local Alignment Approach\n",
    "\n",
    "A local alignment is a subpath in a global alignment\n",
    "\n",
    "<img src=\"http://csbio.unc.edu/mcmillan/Comp555S18/Media/LocalAlign.png\" width=\"800\" class=\"centerImg\">\n",
    "\n",
    "<p style=\"text-align: right; clear: right;\">34</p>"
   ]
  },
  {
   "cell_type": "markdown",
   "metadata": {
    "nbpresent": {
     "id": "2718aba7-4b24-401e-a4a1-58f872d4e965"
    },
    "slideshow": {
     "slide_type": "slide"
    }
   },
   "source": [
    "# Brute Force Local Alignment\n",
    "\n",
    "Find the best global alignment amoung all blocks $(i_1,j_1,i_2,j_2)$\n",
    "\n",
    "<img src=\"http://csbio.unc.edu/mcmillan/Comp555S18/Media/LocalAlignBlocks.png\" width=\"400\" class=\"centerImg\">\n",
    "\n",
    "* Long run time $O(n^4)$:\n",
    "  - In the grid of size n x n there are $O(n^2)$ vertices $(i_1,j_1)$ that may serve as a source. \n",
    "  - For each such vertex computing alignments from $(i_1,j_1)$ to $(i_2,j_2)$ takes $O(n^2)$ time.\n",
    "  \n",
    "* This can be remedied by giving free rides\n",
    "\n",
    "<p style=\"text-align: right; clear: right;\">35</p>"
   ]
  },
  {
   "cell_type": "markdown",
   "metadata": {
    "nbpresent": {
     "id": "f46ce448-ffae-422f-a0c3-0d64203fe75f"
    },
    "slideshow": {
     "slide_type": "slide"
    }
   },
   "source": [
    "# Local Alignment: Free Rides\n",
    "\n",
    "* ***Key Ideas:*** Add extra edges to our graph, consider all scores in matrix\n",
    "\n",
    "<img src=\"http://csbio.unc.edu/mcmillan/Comp555S18/Media/FreeRides.png\" width=\"500\" class=\"centerImg\">\n",
    "\n",
    "* The dashed edges represent a *free ride* from (0,0) to any other node\n",
    "* The largest value of s<sub>i,j</sub> over the *whole score matrix* is the end point of the best local alignment (instead of s<sub>n,m</sub>).\n",
    "\n",
    "<p style=\"text-align: right; clear: right;\">36</p>"
   ]
  },
  {
   "cell_type": "markdown",
   "metadata": {
    "nbpresent": {
     "id": "54c988cd-30ab-46e7-a671-26d1753aff13"
    },
    "slideshow": {
     "slide_type": "slide"
    }
   },
   "source": [
    "# The Local Alignment Recurrence\n",
    "\n",
    "<img src=\"http://csbio.unc.edu/mcmillan/Comp555S18/Media/LocalRecurrence.png\" width=\"600\" class=\"centerImg\">\n",
    "\n",
    "* The *zero* is our *free ride* that allows the node to restart with a score of 0 at any point\n",
    "  - What does this imply?\n",
    "* After solving for the entire score matrix, we then search for s<sub>i,j</sub> with the highest score, this is $(i_2,j_2)$\n",
    "* We follow our back tracking matrix until we reach a *score* of 0, whose coordinate becomes $(i_1,j_1)$\n",
    "\n",
    "<p style=\"text-align: right; clear: right;\">37</p>"
   ]
  },
  {
   "cell_type": "markdown",
   "metadata": {
    "nbpresent": {
     "id": "f3cd4bfe-30ba-4e75-b46c-529530bc5645"
    },
    "slideshow": {
     "slide_type": "slide"
    }
   },
   "source": [
    "# Next Time\n",
    "\n",
    "<img src=\"http://csbio.unc.edu/mcmillan/Comp555S18/Media/MindTheGap.png\" width=\"360\" class=\"centerImg\">\n",
    "\n",
    "* Alignment with Gap Penalities\n",
    "* Multiple Alignment problem\n",
    "* Can we do better than $O(MN)$?\n",
    "\n",
    "<p style=\"text-align: right; clear: right;\">38</p>"
   ]
  },
  {
   "cell_type": "code",
   "execution_count": null,
   "metadata": {
    "collapsed": true,
    "nbpresent": {
     "id": "6786eed1-f892-42d7-8b33-8e1a03559591"
    }
   },
   "outputs": [],
   "source": []
  }
 ],
 "metadata": {
  "anaconda-cloud": {},
  "celltoolbar": "Slideshow",
  "kernelspec": {
   "display_name": "Python 2",
   "language": "python",
   "name": "python2"
  },
  "language_info": {
   "codemirror_mode": {
    "name": "ipython",
    "version": 2
   },
   "file_extension": ".py",
   "mimetype": "text/x-python",
   "name": "python",
   "nbconvert_exporter": "python",
   "pygments_lexer": "ipython2",
   "version": "2.7.14"
  },
  "nbpresent": {
   "slides": {
    "02bb6991-fb97-49cc-a738-17fe67260058": {
     "id": "02bb6991-fb97-49cc-a738-17fe67260058",
     "prev": "82a77964-3082-44c6-b2ec-bb257ad9e1e0",
     "regions": {
      "a134f4cf-ed4e-4e50-b885-e39f1d8df373": {
       "attrs": {
        "height": 0.96,
        "width": 0.96,
        "x": 0.02,
        "y": 0.02
       },
       "content": {
        "cell": "c8205f50-fa3e-4bc6-8aaf-9bc89d2fcfb2",
        "part": "whole"
       },
       "id": "a134f4cf-ed4e-4e50-b885-e39f1d8df373"
      }
     }
    },
    "04103e3c-a650-40be-a86c-67de6accc845": {
     "id": "04103e3c-a650-40be-a86c-67de6accc845",
     "prev": "b85c4c06-9f6e-4908-b5c2-05b0708f6a32",
     "regions": {
      "010327b2-91f1-453a-9f4f-1451262f5ea6": {
       "attrs": {
        "height": 0.96,
        "width": 0.96,
        "x": 0.02,
        "y": 0.02
       },
       "content": {
        "cell": "e212ac1b-97ed-4420-b065-acc84e925531",
        "part": "whole"
       },
       "id": "010327b2-91f1-453a-9f4f-1451262f5ea6"
      }
     }
    },
    "0b8262d6-3221-4dc3-904b-d2403d038b74": {
     "id": "0b8262d6-3221-4dc3-904b-d2403d038b74",
     "prev": "59e335ce-0921-40c9-877f-0778885986d0",
     "regions": {
      "30509a1d-1e13-4140-8cd6-acbf61706da0": {
       "attrs": {
        "height": 0.96,
        "width": 0.96,
        "x": 0.02,
        "y": 0.02
       },
       "content": {
        "cell": "54c988cd-30ab-46e7-a671-26d1753aff13",
        "part": "whole"
       },
       "id": "30509a1d-1e13-4140-8cd6-acbf61706da0"
      }
     }
    },
    "0c106585-2577-4ce0-a5d4-e4866c310d10": {
     "id": "0c106585-2577-4ce0-a5d4-e4866c310d10",
     "prev": "1a381fe5-55f6-4fa3-8212-e92121de1827",
     "regions": {
      "980a2816-1881-4122-b732-ae8bcfcb3997": {
       "attrs": {
        "height": 0.96,
        "width": 0.96,
        "x": 0.02,
        "y": 0.02
       },
       "content": {
        "cell": "715256a4-04e6-4c13-9efc-f80ac2eebe9f",
        "part": "whole"
       },
       "id": "980a2816-1881-4122-b732-ae8bcfcb3997"
      }
     }
    },
    "0ef9aa8c-afce-47b9-9fea-165e206186f3": {
     "id": "0ef9aa8c-afce-47b9-9fea-165e206186f3",
     "prev": "161aaa35-dd31-4e49-b302-973bd40ea2b5",
     "regions": {
      "e984daf6-875a-4cac-9ddb-8e5d1c78201f": {
       "attrs": {
        "height": 0.96,
        "width": 0.96,
        "x": 0.02,
        "y": 0.02
       },
       "content": {
        "cell": "501ee409-d7e3-4e62-9bfc-f662760e13bf",
        "part": "whole"
       },
       "id": "e984daf6-875a-4cac-9ddb-8e5d1c78201f"
      }
     }
    },
    "153c50b7-f39d-4543-8266-d73d4402210c": {
     "id": "153c50b7-f39d-4543-8266-d73d4402210c",
     "prev": "c8753e8d-b614-4600-9ef3-f927b53fb02e",
     "regions": {
      "18820775-e595-44c3-89d6-c0989d08a4b9": {
       "attrs": {
        "height": 0.96,
        "width": 0.96,
        "x": 0.02,
        "y": 0.02
       },
       "content": {
        "cell": "c85316ff-1a06-46be-96f0-eb4997e73465",
        "part": "whole"
       },
       "id": "18820775-e595-44c3-89d6-c0989d08a4b9"
      }
     }
    },
    "161aaa35-dd31-4e49-b302-973bd40ea2b5": {
     "id": "161aaa35-dd31-4e49-b302-973bd40ea2b5",
     "prev": "2442c888-5182-43ad-8726-884b2b8e8b28",
     "regions": {
      "14020ab3-d862-442a-8b8d-bb61d11a5e7d": {
       "attrs": {
        "height": 0.96,
        "width": 0.96,
        "x": 0.02,
        "y": 0.02
       },
       "content": {
        "cell": "d15cba01-a576-4c65-9852-cd4b538d51b1",
        "part": "whole"
       },
       "id": "14020ab3-d862-442a-8b8d-bb61d11a5e7d"
      }
     }
    },
    "1a381fe5-55f6-4fa3-8212-e92121de1827": {
     "id": "1a381fe5-55f6-4fa3-8212-e92121de1827",
     "prev": "fe9f9bf3-72fa-4618-8473-dd32bf7c529d",
     "regions": {
      "aaffa8f4-80ed-45bd-b38a-537f0067d2c5": {
       "attrs": {
        "height": 0.96,
        "width": 0.96,
        "x": 0.02,
        "y": 0.02
       },
       "content": {
        "cell": "952ea61e-66cf-430a-af37-dcc6411972f1",
        "part": "whole"
       },
       "id": "aaffa8f4-80ed-45bd-b38a-537f0067d2c5"
      }
     }
    },
    "2442c888-5182-43ad-8726-884b2b8e8b28": {
     "id": "2442c888-5182-43ad-8726-884b2b8e8b28",
     "prev": "6f91bc85-9468-4407-8f5a-46a7ac12920b",
     "regions": {
      "228ef73f-7b28-4980-96d7-e52c03916982": {
       "attrs": {
        "height": 0.10632355874725713,
        "width": 0.9766606822262118,
        "x": 0.012567324955116697,
        "y": 0.020746060243367247
       },
       "content": {
        "cell": "83765a71-c6cf-4dbd-821b-90704ad842c2",
        "part": "source"
       },
       "id": "228ef73f-7b28-4980-96d7-e52c03916982"
      },
      "41fe097b-499e-48ec-975a-4b83db64f54f": {
       "attrs": {
        "height": 0.07388789148214635,
        "width": 0.975044883303411,
        "x": 0.013824057450628372,
        "y": 0.8995212447636146
       },
       "content": {
        "cell": "237380ce-9bab-4cdf-ab37-e7a99587ec83",
        "part": "source"
       },
       "id": "41fe097b-499e-48ec-975a-4b83db64f54f"
      },
      "e772ef68-72dc-4c8a-b00e-af615f920f4b": {
       "attrs": {
        "height": 0.7680829842409734,
        "width": 0.9759425493716336,
        "x": 0.013824057450628372,
        "y": 0.13191701575902653
       },
       "content": {
        "cell": "0722490f-8f21-4f17-9e3b-a77e3ea175cc",
        "part": "whole"
       },
       "id": "e772ef68-72dc-4c8a-b00e-af615f920f4b"
      }
     }
    },
    "2c0edddc-7eee-45c1-b9f1-ba0f6ff057fd": {
     "id": "2c0edddc-7eee-45c1-b9f1-ba0f6ff057fd",
     "prev": "9f508656-9bba-4ae9-8787-32eb70cb1879",
     "regions": {
      "9507636c-5ea6-46df-bcbb-88d79fe60e41": {
       "attrs": {
        "height": 0.96,
        "width": 0.96,
        "x": 0.02,
        "y": 0.02
       },
       "content": {
        "cell": "b4e58a31-8f5f-4e47-9327-999b31d85478",
        "part": "whole"
       },
       "id": "9507636c-5ea6-46df-bcbb-88d79fe60e41"
      }
     }
    },
    "302e9d93-7596-4759-8754-b64564e7e0f1": {
     "id": "302e9d93-7596-4759-8754-b64564e7e0f1",
     "prev": "8d358515-d447-42b9-8f05-04911670b250",
     "regions": {
      "0a6ef06d-2d52-45f5-978d-6e37ae394843": {
       "attrs": {
        "height": 0.96,
        "width": 0.96,
        "x": 0.02,
        "y": 0.02
       },
       "content": {
        "cell": "e8b1a851-9e60-4c04-90fb-f3169087c7d8",
        "part": "whole"
       },
       "id": "0a6ef06d-2d52-45f5-978d-6e37ae394843"
      }
     }
    },
    "363f205e-9e78-440c-8620-cc3aaa9ce1ba": {
     "id": "363f205e-9e78-440c-8620-cc3aaa9ce1ba",
     "prev": "78636906-75c9-4263-aa4e-8aad2fe6c561",
     "regions": {
      "5abc7fb7-66c9-4070-8020-98f1c11a7192": {
       "attrs": {
        "height": 0.96,
        "width": 0.96,
        "x": 0.02,
        "y": 0.02
       },
       "content": {
        "cell": "5e1767d0-06df-4fc0-81fb-6ffdfc1392c6",
        "part": "whole"
       },
       "id": "5abc7fb7-66c9-4070-8020-98f1c11a7192"
      }
     }
    },
    "37bb1b45-a30b-400a-a568-415b39e07e33": {
     "id": "37bb1b45-a30b-400a-a568-415b39e07e33",
     "prev": "f3c1c5ba-280b-4292-8dbc-23eb8b66b570",
     "regions": {
      "89949543-7f03-41d7-8cf2-72ef56e5d786": {
       "attrs": {
        "height": 0.96,
        "width": 0.96,
        "x": 0.02,
        "y": 0.02
       },
       "content": {
        "cell": "0b7021b6-5b1e-4b34-b583-a42d6ce529fa",
        "part": "whole"
       },
       "id": "89949543-7f03-41d7-8cf2-72ef56e5d786"
      }
     }
    },
    "3d4264b6-bfbd-48e8-920c-146b92609738": {
     "id": "3d4264b6-bfbd-48e8-920c-146b92609738",
     "prev": "aec57e61-b163-4556-a7c1-e73fae32f919",
     "regions": {
      "a1a3b951-19d8-4682-a52b-6bed3f708267": {
       "attrs": {
        "height": 0.96,
        "width": 0.96,
        "x": 0.02,
        "y": 0.02
       },
       "content": {
        "cell": "5387dfdc-da8f-4b2a-9fdc-54cb442e838b",
        "part": "whole"
       },
       "id": "a1a3b951-19d8-4682-a52b-6bed3f708267"
      }
     }
    },
    "4fbeaf79-4f00-4477-8eba-834e48b918c4": {
     "id": "4fbeaf79-4f00-4477-8eba-834e48b918c4",
     "prev": "7d275494-0e90-4111-af03-a3e07d07e3bb",
     "regions": {
      "ee1e6e34-df87-41ce-b308-0f7ae8db5b67": {
       "attrs": {
        "height": 0.96,
        "width": 0.96,
        "x": 0.02,
        "y": 0.02
       },
       "content": {
        "cell": "143297b6-5c58-4d2c-9a02-9e78d780cead",
        "part": "whole"
       },
       "id": "ee1e6e34-df87-41ce-b308-0f7ae8db5b67"
      }
     }
    },
    "572fdbf4-b18e-4f69-9b24-f5bf2831de66": {
     "id": "572fdbf4-b18e-4f69-9b24-f5bf2831de66",
     "prev": "e9a9b1b6-4397-4431-8d32-26c1212d9117",
     "regions": {
      "c66035ae-b1a8-4e30-8e48-12a56744a00a": {
       "attrs": {
        "height": 0.96,
        "width": 0.96,
        "x": 0.02,
        "y": 0.02
       },
       "content": {
        "cell": "2718aba7-4b24-401e-a4a1-58f872d4e965",
        "part": "whole"
       },
       "id": "c66035ae-b1a8-4e30-8e48-12a56744a00a"
      }
     }
    },
    "59e335ce-0921-40c9-877f-0778885986d0": {
     "id": "59e335ce-0921-40c9-877f-0778885986d0",
     "prev": "572fdbf4-b18e-4f69-9b24-f5bf2831de66",
     "regions": {
      "fb163f5a-0278-48c6-bda8-5fa2454cbe21": {
       "attrs": {
        "height": 0.96,
        "width": 0.96,
        "x": 0.02,
        "y": 0.02
       },
       "content": {
        "cell": "f46ce448-ffae-422f-a0c3-0d64203fe75f",
        "part": "whole"
       },
       "id": "fb163f5a-0278-48c6-bda8-5fa2454cbe21"
      }
     }
    },
    "5b3b633f-bf29-49aa-afc0-534f05efd6fa": {
     "id": "5b3b633f-bf29-49aa-afc0-534f05efd6fa",
     "prev": "37bb1b45-a30b-400a-a568-415b39e07e33",
     "regions": {
      "5ed06f52-7700-4a07-9371-8cd898b09411": {
       "attrs": {
        "height": 0.96,
        "width": 0.96,
        "x": 0.02,
        "y": 0.02
       },
       "content": {
        "cell": "71121e55-f87e-4811-b0d6-0dd1d2d05ccb",
        "part": "whole"
       },
       "id": "5ed06f52-7700-4a07-9371-8cd898b09411"
      }
     }
    },
    "6004c80e-660a-40c2-aedf-bd571222d440": {
     "id": "6004c80e-660a-40c2-aedf-bd571222d440",
     "prev": "302e9d93-7596-4759-8754-b64564e7e0f1",
     "regions": {
      "3b77ae0a-bb08-4380-a32a-7da7dd865bae": {
       "attrs": {
        "height": 0.96,
        "width": 0.96,
        "x": 0.02,
        "y": 0.02
       },
       "content": {
        "cell": "9f941165-aaa4-414d-9e09-9a3be0571c70",
        "part": "whole"
       },
       "id": "3b77ae0a-bb08-4380-a32a-7da7dd865bae"
      }
     }
    },
    "6e8e9f79-bc20-43f3-8afe-51424c031a17": {
     "id": "6e8e9f79-bc20-43f3-8afe-51424c031a17",
     "prev": "8383e8b7-8131-4c26-a1d0-a3fcfd112277",
     "regions": {
      "02d875e4-9c7b-4bf7-ad46-971df12abc70": {
       "attrs": {
        "height": 0.17975342379204615,
        "width": 0.96,
        "x": 0.02,
        "y": 0.02
       },
       "content": {
        "cell": "7fbdb100-eec8-4fa6-8cf6-19b00a95a655",
        "part": "whole"
       },
       "id": "02d875e4-9c7b-4bf7-ad46-971df12abc70"
      },
      "0c9e4973-192e-4559-91c3-17454668739e": {
       "attrs": {
        "height": 0.08713581992327259,
        "width": 0.96,
        "x": 0.02,
        "y": 0.8928641800767274
       },
       "content": {
        "cell": "f3885f96-cae5-44ae-9a30-625ea198be92",
        "part": "whole"
       },
       "id": "0c9e4973-192e-4559-91c3-17454668739e"
      },
      "67cd8114-9d6a-4710-abda-e3d8a44e604a": {
       "attrs": {
        "height": 0.7029275115478214,
        "width": 0.96,
        "x": 0.02,
        "y": 0.1893632203919636
       },
       "content": {
        "cell": "b890d7d0-f4bc-4218-a882-35b39e828257",
        "part": "whole"
       },
       "id": "67cd8114-9d6a-4710-abda-e3d8a44e604a"
      }
     }
    },
    "6f91bc85-9468-4407-8f5a-46a7ac12920b": {
     "id": "6f91bc85-9468-4407-8f5a-46a7ac12920b",
     "prev": "363f205e-9e78-440c-8620-cc3aaa9ce1ba",
     "regions": {
      "d2089fbc-194a-4fd3-a994-b887d3fd0d76": {
       "attrs": {
        "height": 0.96,
        "width": 0.96,
        "x": 0.02,
        "y": 0.02
       },
       "content": {
        "cell": "5231af0a-8e18-4a10-b21c-dfcb37267dd9",
        "part": "whole"
       },
       "id": "d2089fbc-194a-4fd3-a994-b887d3fd0d76"
      }
     }
    },
    "78636906-75c9-4263-aa4e-8aad2fe6c561": {
     "id": "78636906-75c9-4263-aa4e-8aad2fe6c561",
     "prev": "8fc1f1da-c019-4b69-9543-7ab1e21cf5dc",
     "regions": {
      "db2ad011-6364-45ae-9f5e-209de6667a9e": {
       "attrs": {
        "height": 0.96,
        "width": 0.96,
        "x": 0.02,
        "y": 0.02
       },
       "content": {
        "cell": "05c4efb7-d4d8-4364-9e04-8fcbb7d95253",
        "part": "whole"
       },
       "id": "db2ad011-6364-45ae-9f5e-209de6667a9e"
      }
     }
    },
    "7d275494-0e90-4111-af03-a3e07d07e3bb": {
     "id": "7d275494-0e90-4111-af03-a3e07d07e3bb",
     "prev": "3d4264b6-bfbd-48e8-920c-146b92609738",
     "regions": {
      "f71d63be-a650-4bcf-a54a-d5a997c13684": {
       "attrs": {
        "height": 0.96,
        "width": 0.96,
        "x": 0.02,
        "y": 0.02
       },
       "content": {
        "cell": "1e2199dd-a5de-470f-a126-d652b47c0147",
        "part": "whole"
       },
       "id": "f71d63be-a650-4bcf-a54a-d5a997c13684"
      }
     }
    },
    "7db98688-ae0a-460d-a992-9a4d9443c905": {
     "id": "7db98688-ae0a-460d-a992-9a4d9443c905",
     "prev": "0b8262d6-3221-4dc3-904b-d2403d038b74",
     "regions": {
      "1ce6e3a6-63fd-443b-a84d-17759d9210cd": {
       "attrs": {
        "height": 0.96,
        "width": 0.96,
        "x": 0.02,
        "y": 0.02
       },
       "content": {
        "cell": "f3cd4bfe-30ba-4e75-b46c-529530bc5645",
        "part": "whole"
       },
       "id": "1ce6e3a6-63fd-443b-a84d-17759d9210cd"
      }
     }
    },
    "82a77964-3082-44c6-b2ec-bb257ad9e1e0": {
     "id": "82a77964-3082-44c6-b2ec-bb257ad9e1e0",
     "prev": "2c0edddc-7eee-45c1-b9f1-ba0f6ff057fd",
     "regions": {
      "1e747fd8-72f1-44c5-8ee4-21326d79f639": {
       "attrs": {
        "height": 0.695618508110165,
        "width": 0.96,
        "x": 0.02,
        "y": 0.28438149188983497
       },
       "content": {
        "cell": "a56db61a-9f5e-44a8-9e8e-65dc803d93fd",
        "part": "whole"
       },
       "id": "1e747fd8-72f1-44c5-8ee4-21326d79f639"
      },
      "6eda2e74-b1f1-4740-8940-8974c5919f4f": {
       "attrs": {
        "height": 0.21504508785523035,
        "width": 0.4902760544605872,
        "x": 0.4897239455394127,
        "y": 0.7649549121447696
       },
       "content": {
        "cell": "5155ceb9-6448-47bb-a84e-69a4cca18e8e",
        "part": "whole"
       },
       "id": "6eda2e74-b1f1-4740-8940-8974c5919f4f"
      },
      "a899e4b2-c75f-4cd1-883f-29a761cd5f2e": {
       "attrs": {
        "height": 0.26563543053709415,
        "width": 0.96,
        "x": 0.02,
        "y": 0.02
       },
       "content": {
        "cell": "44ee81d2-0865-4f7e-8f36-844237c03837",
        "part": "whole"
       },
       "id": "a899e4b2-c75f-4cd1-883f-29a761cd5f2e"
      }
     }
    },
    "8383e8b7-8131-4c26-a1d0-a3fcfd112277": {
     "id": "8383e8b7-8131-4c26-a1d0-a3fcfd112277",
     "prev": "02bb6991-fb97-49cc-a738-17fe67260058",
     "regions": {
      "281f7714-82bc-42f2-8f04-c9039ee12724": {
       "attrs": {
        "height": 0.24075748029348035,
        "width": 0.96,
        "x": 0.02,
        "y": 0.02
       },
       "content": {
        "cell": "47be85c4-9a1f-46b7-9753-cbeade867016",
        "part": "whole"
       },
       "id": "281f7714-82bc-42f2-8f04-c9039ee12724"
      },
      "c0fb6b81-a3d7-4219-bcda-2e0552a451e1": {
       "attrs": {
        "height": 0.32039944810686377,
        "width": 0.96,
        "x": 0.02,
        "y": 0.6596005518931359
       },
       "content": {
        "cell": "4847c421-ce81-4f0e-bc9d-87db3786be29",
        "part": "whole"
       },
       "id": "c0fb6b81-a3d7-4219-bcda-2e0552a451e1"
      },
      "fe97a7d7-d792-4f6e-844c-cd0ac32f37ce": {
       "attrs": {
        "height": 0.40547802402465716,
        "width": 0.96,
        "x": 0.02,
        "y": 0.25775259840593173
       },
       "content": {
        "cell": "c33ab645-7113-4d5d-a645-a22d87ff0d29",
        "part": "whole"
       },
       "id": "fe97a7d7-d792-4f6e-844c-cd0ac32f37ce"
      }
     }
    },
    "8d358515-d447-42b9-8f05-04911670b250": {
     "id": "8d358515-d447-42b9-8f05-04911670b250",
     "prev": "04103e3c-a650-40be-a86c-67de6accc845",
     "regions": {
      "68dbf5bd-c443-4d8e-9538-c64b3f53e4dc": {
       "attrs": {
        "height": 0.96,
        "width": 0.96,
        "x": 0.02,
        "y": 0.02
       },
       "content": {
        "cell": "9fc84fe1-ff1d-46ef-b977-3ca0f3570713",
        "part": "whole"
       },
       "id": "68dbf5bd-c443-4d8e-9538-c64b3f53e4dc"
      }
     }
    },
    "8fc1f1da-c019-4b69-9543-7ab1e21cf5dc": {
     "id": "8fc1f1da-c019-4b69-9543-7ab1e21cf5dc",
     "prev": "6e8e9f79-bc20-43f3-8afe-51424c031a17",
     "regions": {
      "b76b8b49-7339-4712-83da-b6ebc2bf6ae9": {
       "attrs": {
        "height": 0.96,
        "width": 0.96,
        "x": 0.02,
        "y": 0.02
       },
       "content": {
        "cell": "d5345787-67b3-4a53-b7bf-826e1548104c",
        "part": "whole"
       },
       "id": "b76b8b49-7339-4712-83da-b6ebc2bf6ae9"
      }
     }
    },
    "9e725147-c130-47a2-a362-b8a272e81f38": {
     "id": "9e725147-c130-47a2-a362-b8a272e81f38",
     "prev": "6004c80e-660a-40c2-aedf-bd571222d440",
     "regions": {
      "870d62bb-75c7-4322-9705-dce7b1e2e56b": {
       "attrs": {
        "height": 0.96,
        "width": 0.96,
        "x": 0.02,
        "y": 0.02
       },
       "content": {
        "cell": "246d2cea-bfed-43fe-808e-2bc37c6b3b67",
        "part": "whole"
       },
       "id": "870d62bb-75c7-4322-9705-dce7b1e2e56b"
      }
     }
    },
    "9f508656-9bba-4ae9-8787-32eb70cb1879": {
     "id": "9f508656-9bba-4ae9-8787-32eb70cb1879",
     "prev": "bf5a67a7-3683-48d9-a9fa-b7a2193fa040",
     "regions": {
      "d70edb2c-ac5f-4165-a783-7112263196c0": {
       "attrs": {
        "height": 0.96,
        "width": 0.96,
        "x": 0.02,
        "y": 0.02
       },
       "content": {
        "cell": "e1407acc-e992-47a9-82c0-6968751bebe9",
        "part": "whole"
       },
       "id": "d70edb2c-ac5f-4165-a783-7112263196c0"
      }
     }
    },
    "aec57e61-b163-4556-a7c1-e73fae32f919": {
     "id": "aec57e61-b163-4556-a7c1-e73fae32f919",
     "prev": "9e725147-c130-47a2-a362-b8a272e81f38",
     "regions": {
      "80e9323f-5dd8-48de-8c85-e4c8bc5483d0": {
       "attrs": {
        "height": 0.96,
        "width": 0.96,
        "x": 0.02,
        "y": 0.02
       },
       "content": {
        "cell": "21ed5e09-799d-4dbd-8817-c87680afbad7",
        "part": "whole"
       },
       "id": "80e9323f-5dd8-48de-8c85-e4c8bc5483d0"
      }
     }
    },
    "b85c4c06-9f6e-4908-b5c2-05b0708f6a32": {
     "id": "b85c4c06-9f6e-4908-b5c2-05b0708f6a32",
     "prev": "f11e32cb-66c5-47b4-810c-e29e8825cb69",
     "regions": {
      "121055c6-17a7-4f53-a0e7-59da471a0021": {
       "attrs": {
        "height": 0.96,
        "width": 0.96,
        "x": 0.02,
        "y": 0.02
       },
       "content": {
        "cell": "3870e4f8-b65a-47d0-bd16-ae3f97187248",
        "part": "whole"
       },
       "id": "121055c6-17a7-4f53-a0e7-59da471a0021"
      }
     }
    },
    "bf5a67a7-3683-48d9-a9fa-b7a2193fa040": {
     "id": "bf5a67a7-3683-48d9-a9fa-b7a2193fa040",
     "prev": "4fbeaf79-4f00-4477-8eba-834e48b918c4",
     "regions": {
      "f8136c0b-d71b-42a1-ba98-27efbb45bad1": {
       "attrs": {
        "height": 0.96,
        "width": 0.96,
        "x": 0.02,
        "y": 0.02
       },
       "content": {
        "cell": "965af311-e28e-4439-bed3-cc51401b80c8",
        "part": "whole"
       },
       "id": "f8136c0b-d71b-42a1-ba98-27efbb45bad1"
      }
     }
    },
    "c8753e8d-b614-4600-9ef3-f927b53fb02e": {
     "id": "c8753e8d-b614-4600-9ef3-f927b53fb02e",
     "prev": "0c106585-2577-4ce0-a5d4-e4866c310d10",
     "regions": {
      "d3d54ce6-5353-47a4-9d5e-dadeb94d56db": {
       "attrs": {
        "height": 0.96,
        "width": 0.96,
        "x": 0.02,
        "y": 0.02
       },
       "content": {
        "cell": "c013cc52-fc84-481a-8fdf-93fd9a5532ee",
        "part": "whole"
       },
       "id": "d3d54ce6-5353-47a4-9d5e-dadeb94d56db"
      }
     }
    },
    "d37398f2-b756-48c1-9286-768ff466488d": {
     "id": "d37398f2-b756-48c1-9286-768ff466488d",
     "prev": null,
     "regions": {
      "34289817-f95d-4932-b35f-beb180271a03": {
       "attrs": {
        "height": 0.96,
        "width": 0.96,
        "x": 0.02,
        "y": 0.02
       },
       "content": {
        "cell": "7c1f5e88-6621-43d9-a2c4-eea01b1dc7a2",
        "part": "whole"
       },
       "id": "34289817-f95d-4932-b35f-beb180271a03"
      }
     }
    },
    "e9a9b1b6-4397-4431-8d32-26c1212d9117": {
     "id": "e9a9b1b6-4397-4431-8d32-26c1212d9117",
     "prev": "0ef9aa8c-afce-47b9-9fea-165e206186f3",
     "regions": {
      "c6803c3a-2091-47c9-b52d-9da455bf37d1": {
       "attrs": {
        "height": 0.96,
        "width": 0.96,
        "x": 0.02,
        "y": 0.02
       },
       "content": {
        "cell": "1d6ab0a2-d8a0-4d1f-b4a2-1d775a266e96",
        "part": "whole"
       },
       "id": "c6803c3a-2091-47c9-b52d-9da455bf37d1"
      }
     }
    },
    "f11e32cb-66c5-47b4-810c-e29e8825cb69": {
     "id": "f11e32cb-66c5-47b4-810c-e29e8825cb69",
     "prev": "153c50b7-f39d-4543-8266-d73d4402210c",
     "regions": {
      "c1be2166-58e7-425b-ba03-55a7d4a6d64f": {
       "attrs": {
        "height": 0.96,
        "width": 0.96,
        "x": 0.02,
        "y": 0.02
       },
       "content": {
        "cell": "f0d6cae7-f4c2-47f9-94c7-9dfaa630deea",
        "part": "whole"
       },
       "id": "c1be2166-58e7-425b-ba03-55a7d4a6d64f"
      }
     }
    },
    "f3c1c5ba-280b-4292-8dbc-23eb8b66b570": {
     "id": "f3c1c5ba-280b-4292-8dbc-23eb8b66b570",
     "prev": "d37398f2-b756-48c1-9286-768ff466488d",
     "regions": {
      "7c84f169-5e4f-47a4-bf68-f50988141bd8": {
       "attrs": {
        "height": 0.96,
        "width": 0.96,
        "x": 0.02,
        "y": 0.02
       },
       "content": {
        "cell": "800cdfa0-4c4f-413a-ba16-16e8a55467ef",
        "part": "whole"
       },
       "id": "7c84f169-5e4f-47a4-bf68-f50988141bd8"
      }
     }
    },
    "fe9f9bf3-72fa-4618-8473-dd32bf7c529d": {
     "id": "fe9f9bf3-72fa-4618-8473-dd32bf7c529d",
     "prev": "5b3b633f-bf29-49aa-afc0-534f05efd6fa",
     "regions": {
      "7e358d9f-248f-4644-8450-7c5f769fb1e8": {
       "attrs": {
        "height": 0.96,
        "width": 0.96,
        "x": 0.02,
        "y": 0.02
       },
       "content": {
        "cell": "9130f4aa-158c-4a5d-9b72-9b389c8af6ed",
        "part": "whole"
       },
       "id": "7e358d9f-248f-4644-8450-7c5f769fb1e8"
      }
     }
    }
   },
   "themes": {
    "default": "e63d7840-adbf-427c-a232-18acc648faed",
    "theme": {
     "e63d7840-adbf-427c-a232-18acc648faed": {
      "backgrounds": {
       "my-background": {
        "background-color": "white"
       }
      },
      "id": "e63d7840-adbf-427c-a232-18acc648faed",
      "palette": {
       "black": {
        "id": "black",
        "rgb": [
         0,
         0,
         0
        ]
       },
       "blue": {
        "id": "blue",
        "rgb": [
         0,
         153,
         204
        ]
       },
       "gray": {
        "id": "gray",
        "rgb": [
         128,
         128,
         128
        ]
       },
       "red": {
        "id": "red",
        "rgb": [
         240,
         32,
         32
        ]
       },
       "white": {
        "id": "white",
        "rgb": [
         255,
         255,
         255
        ]
       }
      },
      "rules": {
       "code": {
        "font-size": 1.6
       },
       "h1": {
        "color": "blue",
        "font-size": 5.5,
        "text-align": "center"
       },
       "h2": {
        "color": "blue",
        "font-size": 3,
        "text-align": "center"
       },
       "h3": {
        "color": "black",
        "font-size": 3
       },
       "pre": {
        "font-size": 1.6
       },
       "ul li": {
        "color": "black",
        "font-size": 2.5
       },
       "ul li ul li": {
        "color": "black",
        "font-size": 2
       }
      },
      "text-base": {
       "font-family": "Georgia",
       "font-size": 2.5
      }
     }
    }
   }
  }
 },
 "nbformat": 4,
 "nbformat_minor": 1
}
