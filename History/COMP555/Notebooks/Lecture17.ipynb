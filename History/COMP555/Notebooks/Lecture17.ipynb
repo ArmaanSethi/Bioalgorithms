{
 "cells": [
  {
   "cell_type": "code",
   "execution_count": 1,
   "metadata": {
    "nbpresent": {
     "id": "8dc05d6a-bb1d-43de-a8e2-617a92aac61b"
    },
    "slideshow": {
     "slide_type": "skip"
    }
   },
   "outputs": [
    {
     "data": {
      "application/javascript": [
       "var width = window.innerWidth || document.documentElement.clientWidth || document.body.clientWidth;\n",
       "var height = window.innerHeight || document.documentElement.clientHeight || document.body.clientHeight;\n",
       "\n",
       "IPython.notebook.kernel.execute(\"windowSize = (\" + width + \",\" + height + \")\");\n",
       "// suitable for small screens\n",
       "nbpresent.mode.tree.set(\n",
       "    [\"app\", \"theme-manager\", \"themes\", \"my-theme\"], \n",
       "    {\n",
       "    palette: {\n",
       "        \"blue\": { id: \"blue\", rgb: [0, 153, 204] },\n",
       "        \"black\": { id: \"black\", rgb: [0, 0, 0] },\n",
       "        \"white\": { id: \"white\", rgb: [255, 255, 255] },\n",
       "        \"red\": { id: \"red\", rgb: [240, 32, 32] },\n",
       "        \"gray\": { id: \"gray\", rgb: [128, 128, 128] },\n",
       "    },\n",
       "    backgrounds: {\n",
       "        \"my-background\": {\n",
       "            \"background-color\": \"white\"\n",
       "        }\n",
       "    },\n",
       "    \"text-base\": {\n",
       "        \"font-family\": \"Georgia\",\n",
       "        \"font-size\": 2.5\n",
       "    },\n",
       "    rules: {\n",
       "        h1: {\n",
       "            \"font-size\": 5.5,\n",
       "            color: \"blue\",\n",
       "            \"text-align\": \"center\"\n",
       "        },\n",
       "        h2: {\n",
       "            \"font-size\": 3,\n",
       "            color: \"blue\",\n",
       "            \"text-align\": \"center\"\n",
       "        },\n",
       "        h3: {\n",
       "            \"font-size\": 3,\n",
       "            color: \"black\",\n",
       "        },\n",
       "        \"ul li\": {\n",
       "            \"font-size\": 2.5,\n",
       "            color: \"black\"\n",
       "        },\n",
       "        \"ul li ul li\": {\n",
       "            \"font-size\": 2.0,\n",
       "            color: \"black\"\n",
       "        },\n",
       "        \"code\": {\n",
       "            \"font-size\": 1.6,\n",
       "        },\n",
       "        \"pre\": {\n",
       "            \"font-size\": 1.6,\n",
       "        }\n",
       "    }\n",
       "});"
      ],
      "text/plain": [
       "<IPython.core.display.Javascript object>"
      ]
     },
     "metadata": {},
     "output_type": "display_data"
    }
   ],
   "source": [
    "%%javascript\n",
    "var width = window.innerWidth || document.documentElement.clientWidth || document.body.clientWidth;\n",
    "var height = window.innerHeight || document.documentElement.clientHeight || document.body.clientHeight;\n",
    "\n",
    "IPython.notebook.kernel.execute(\"windowSize = (\" + width + \",\" + height + \")\");\n",
    "// suitable for small screens\n",
    "nbpresent.mode.tree.set(\n",
    "    [\"app\", \"theme-manager\", \"themes\", \"my-theme\"], \n",
    "    {\n",
    "    palette: {\n",
    "        \"blue\": { id: \"blue\", rgb: [0, 153, 204] },\n",
    "        \"black\": { id: \"black\", rgb: [0, 0, 0] },\n",
    "        \"white\": { id: \"white\", rgb: [255, 255, 255] },\n",
    "        \"red\": { id: \"red\", rgb: [240, 32, 32] },\n",
    "        \"gray\": { id: \"gray\", rgb: [128, 128, 128] },\n",
    "    },\n",
    "    backgrounds: {\n",
    "        \"my-background\": {\n",
    "            \"background-color\": \"white\"\n",
    "        }\n",
    "    },\n",
    "    \"text-base\": {\n",
    "        \"font-family\": \"Georgia\",\n",
    "        \"font-size\": 2.5\n",
    "    },\n",
    "    rules: {\n",
    "        h1: {\n",
    "            \"font-size\": 5.5,\n",
    "            color: \"blue\",\n",
    "            \"text-align\": \"center\"\n",
    "        },\n",
    "        h2: {\n",
    "            \"font-size\": 3,\n",
    "            color: \"blue\",\n",
    "            \"text-align\": \"center\"\n",
    "        },\n",
    "        h3: {\n",
    "            \"font-size\": 3,\n",
    "            color: \"black\",\n",
    "        },\n",
    "        \"ul li\": {\n",
    "            \"font-size\": 2.5,\n",
    "            color: \"black\"\n",
    "        },\n",
    "        \"ul li ul li\": {\n",
    "            \"font-size\": 2.0,\n",
    "            color: \"black\"\n",
    "        },\n",
    "        \"code\": {\n",
    "            \"font-size\": 1.6,\n",
    "        },\n",
    "        \"pre\": {\n",
    "            \"font-size\": 1.6,\n",
    "        }\n",
    "    }\n",
    "});"
   ]
  },
  {
   "cell_type": "markdown",
   "metadata": {
    "nbpresent": {
     "id": "2d886be1-e870-4008-9afc-a9ff7af4f3e2"
    },
    "slideshow": {
     "slide_type": "slide"
    }
   },
   "source": [
    "# Advanced Sequence Alignment\n",
    "\n",
    "<img src=\"http://csbio.unc.edu/mcmillan/Comp555S18/Media/Clustal.png\" width=\"800\" class=\"centerImg\">\n",
    "\n",
    "* Problem Set #4 is posted.\n",
    "\n",
    "<p style=\"text-align: right; clear: right;\">1</p>"
   ]
  },
  {
   "cell_type": "markdown",
   "metadata": {
    "nbpresent": {
     "id": "d930868c-db09-47d2-9d2c-1032589ac595"
    },
    "slideshow": {
     "slide_type": "slide"
    }
   },
   "source": [
    "# Recall Local Alignment\n",
    "\n",
    "\n",
    "<img src=\"http://csbio.unc.edu/mcmillan/Comp555S18/Media/LocalRecurrence.png\" width=\"600\" class=\"centerImg\">\n",
    "\n",
    "* The *zero* is our *free ride* that allows the node to restart with a score of 0 at any point\n",
    "  - What does this imply?\n",
    "* After solving for the entire score matrix, we then search for s<sub>i,j</sub> with the highest score, this is $(i_2,j_2)$\n",
    "* We follow our back tracking matrix until we reach a *score* of 0, whose coordinate becomes $(i_1,j_1)$\n",
    "\n",
    "<p style=\"text-align: right; clear: right;\">2</p>"
   ]
  },
  {
   "cell_type": "markdown",
   "metadata": {
    "nbpresent": {
     "id": "9ab41e57-225e-455c-b3a9-39ec2836e291"
    },
    "slideshow": {
     "slide_type": "slide"
    }
   },
   "source": [
    "# Smith-Waterman Local Alignment\n",
    "\n",
    "<img src=\"http://csbio.unc.edu/mcmillan/Comp555S18/Media/SmithWaterman.png\" width=\"600\" class=\"centerImg\">\n",
    "\n",
    "**Key idea:** Adding *\"free-rides\"* from the source to any intersection\n",
    "\n",
    "<p style=\"text-align: right; clear: right;\">3</p>"
   ]
  },
  {
   "cell_type": "markdown",
   "metadata": {
    "nbpresent": {
     "id": "3f1f0697-06af-4fa8-b65d-c4a8778ab056"
    },
    "slideshow": {
     "slide_type": "slide"
    }
   },
   "source": [
    "# A Local Alignment Example\n",
    "\n",
    "<img src=\"http://csbio.unc.edu/mcmillan/Comp555S18/Media/LocalExample01.png\" width=\"800\" class=\"centerImg\">\n",
    "\n",
    "<p style=\"text-align: right; clear: right;\">4</p>"
   ]
  },
  {
   "cell_type": "markdown",
   "metadata": {
    "nbpresent": {
     "id": "bc7ec20a-7301-47d7-ad7c-31d447f70fff"
    },
    "slideshow": {
     "slide_type": "slide"
    }
   },
   "source": [
    "# A Local Alignment Example - continued\n",
    "\n",
    "<img src=\"http://csbio.unc.edu/mcmillan/Comp555S18/Media/LocalExample02.png\" width=\"800\" class=\"centerImg\">\n",
    "\n",
    "<p style=\"text-align: right; clear: right;\">5</p>"
   ]
  },
  {
   "cell_type": "markdown",
   "metadata": {
    "nbpresent": {
     "id": "31f1d180-c42a-4719-8810-dbfad2ade4d2"
    },
    "slideshow": {
     "slide_type": "slide"
    }
   },
   "source": [
    "# A Local Alignment Example - continued\n",
    "\n",
    "<img src=\"http://csbio.unc.edu/mcmillan/Comp555S18/Media/LocalExample03.png\" width=\"800\" class=\"centerImg\">\n",
    "\n",
    "<p style=\"text-align: right; clear: right;\">6</p>"
   ]
  },
  {
   "cell_type": "markdown",
   "metadata": {
    "nbpresent": {
     "id": "f07d57f1-bd0e-4035-ae17-be3613158684"
    },
    "slideshow": {
     "slide_type": "slide"
    }
   },
   "source": [
    "# A Local Alignment Example - continued\n",
    "\n",
    "<img src=\"http://csbio.unc.edu/mcmillan/Comp555S18/Media/LocalExample04.png\" width=\"800\" class=\"centerImg\">\n",
    "\n",
    "<p style=\"text-align: right; clear: right;\">7</p>"
   ]
  },
  {
   "cell_type": "markdown",
   "metadata": {
    "nbpresent": {
     "id": "9780cee1-13e5-417e-99dd-0e8d84d06a84"
    },
    "slideshow": {
     "slide_type": "slide"
    }
   },
   "source": [
    "# A Local Alignment Example - continued\n",
    "\n",
    "<img src=\"http://csbio.unc.edu/mcmillan/Comp555S18/Media/LocalExample05.png\" width=\"800\" class=\"centerImg\">\n",
    "\n",
    "* Once the matrix is filled in we find the best alignment\n",
    "* Rather than using the score of the last entry as we did for a global alignment,<br> we search for the entire matrix for the maximum entry (*O(m n)* steps)\n",
    "\n",
    "<p style=\"text-align: right; clear: right;\">8</p>"
   ]
  },
  {
   "cell_type": "markdown",
   "metadata": {
    "nbpresent": {
     "id": "1a80039a-ed2a-4578-88b9-1ee66324edbd"
    },
    "slideshow": {
     "slide_type": "slide"
    }
   },
   "source": [
    "# A Local Alignment Example - continued\n",
    "\n",
    "<img src=\"http://csbio.unc.edu/mcmillan/Comp555S18/Media/LocalExample06.png\" width=\"600\" class=\"centerImg\">\n",
    "\n",
    "* From the largest score attained, then backtrack from there until a beginning \"0\" is reached to find the alignment.\n",
    "\n",
    "<p style=\"text-align: right; clear: right;\">9</p>"
   ]
  },
  {
   "cell_type": "markdown",
   "metadata": {
    "nbpresent": {
     "id": "4fdc020a-f905-4321-bb87-98b61b43ddee"
    },
    "slideshow": {
     "slide_type": "slide"
    }
   },
   "source": [
    "# A Local Alignment Example - continued\n",
    "\n",
    "<img src=\"http://csbio.unc.edu/mcmillan/Comp555S18/Media/LocalExample07.png\" width=\"600\" class=\"centerImg\">\n",
    "\n",
    "<p style=\"text-align: right; clear: right;\">10</p>"
   ]
  },
  {
   "cell_type": "markdown",
   "metadata": {
    "nbpresent": {
     "id": "bee98fc8-f9fe-4eb7-85fb-4a84aadcfd87"
    },
    "slideshow": {
     "slide_type": "slide"
    }
   },
   "source": [
    "# Scoring Indels: Naive Approach\n",
    "\n",
    "<pre style=\"font-size: 100%;\">\n",
    "            ATCTTCAGCCATAAAAGATGAAGTT        Reference\n",
    "            ATCTTCAGCCAAAGATGAAGTT           3 base deletion relative to the reference<br>\n",
    "            ATCTTCAGCC<span style=\"background: red;\">---</span>AAAGATGAAGTT        version 1\n",
    "            ATCTTCAGCCA<span style=\"background: red;\">---</span>AAGATGAAGTT        version 2\n",
    "            ATCTTCAGCCA<span style=\"background: red;\">--</span>A<span style=\"background: red;\">-</span>AGATGAAGTT        version 3\n",
    "            ATCTTCAGCCA<span style=\"background: red;\">-</span>AA<span style=\"background: red;\">--</span>GATGAAGTT        version 4\n",
    "            ATCTTCAGCCA<span style=\"background: red;\">-</span>A<span style=\"background: red;\">-</span>A<span style=\"background: red;\">-</span>GATGAAGTT        version 5<br>\n",
    "            ATCTTCAGCCATA<span style=\"background: green;\">TGTG</span>AAAGATGAAGTT    4 base insertion\n",
    "</pre>\n",
    "* A fixed penalty σ is given to every indel:\n",
    "  - -σ for 1 indel, \n",
    "  - -2σ for 2 consecutive  indels\n",
    "  - -3σ for 3 consecutive  indels, etc.\n",
    "\n",
    "* Can be too severe penalty for a series of 100 consecutive indels\n",
    "  - large insertions or deletions might result from a single event\n",
    "\n",
    "<p style=\"text-align: right; clear: right;\">11</p>"
   ]
  },
  {
   "cell_type": "markdown",
   "metadata": {
    "nbpresent": {
     "id": "473df24e-4cc8-4854-a6a5-b143fc785253"
    },
    "slideshow": {
     "slide_type": "slide"
    }
   },
   "source": [
    "# Affine Gap Penalties\n",
    "\n",
    "* In nature, a series of *k* indels often come as a single event rather than a series of *k* single nucleotide events:\n",
    "<br><br>\n",
    "<img src=\"http://csbio.unc.edu/mcmillan/Comp555S18/Media/AffineGapPenalties.png\" width=\"700\" class=\"centerImg\">\n",
    "\n",
    "<p style=\"text-align: right; clear: right;\">12</p>"
   ]
  },
  {
   "cell_type": "markdown",
   "metadata": {
    "nbpresent": {
     "id": "b5788f43-1343-4880-8194-2bfdeaf4689e"
    },
    "slideshow": {
     "slide_type": "slide"
    }
   },
   "source": [
    "# Accounting for Gaps\n",
    "\n",
    "* Gaps- contiguous sequence of indels in one of the rows\n",
    "\n",
    "* Modify the scoring for a gap of length x to be:\n",
    "\n",
    " <span style=\"font-size: 150%; margin-left: 550px;\">-(&rho; + &sigma;x)</span>\n",
    "\n",
    "    where &rho;+&sigma; > 0 is the penalty for introducing a gap:\n",
    "    \n",
    "    <p style=\"color: red;text-align: center;\">&rho; = gap opening penalty</p>\n",
    "                      \n",
    "    and σ is the cost of extending it further (ρ+σ >>σ):\n",
    "    \n",
    "    <p style=\"color: red;text-align: center;\">&sigma; = gap extension penalty</p>\n",
    "\n",
    "    because you do not want to add too much of a penalty for further extending the gap, once it is opened.\n",
    "\n",
    "<p style=\"text-align: right; clear: right;\">13</p>"
   ]
  },
  {
   "cell_type": "markdown",
   "metadata": {
    "nbpresent": {
     "id": "705194e5-9dfd-45ad-ae52-25ce5d4c5a98"
    },
    "slideshow": {
     "slide_type": "slide"
    }
   },
   "source": [
    "# Affine Gap Penalties\n",
    "\n",
    "Gap penalties:\n",
    "<ul style=\"font-size: 150%;\">\n",
    "    <li>-ρ - σ  when there is 1 indel</li>\n",
    "    <li>-ρ - 2σ  when there are 2 indels</li>\n",
    "    <li>-ρ - 3σ  when there are 3 indels, etc.</li> \n",
    "    <li>-ρ - x·σ (-gap opening - x gap extensions)</li>\n",
    "</ul>\n",
    "\n",
    "Somehow reduced penalties (as compared to naïve scoring) are given to runs of horizontal and vertical edges\n",
    "\n",
    "<p style=\"text-align: right; clear: right;\">14</p>"
   ]
  },
  {
   "cell_type": "markdown",
   "metadata": {
    "nbpresent": {
     "id": "8fa70934-d6a6-410e-9562-98dc0005ca44"
    },
    "slideshow": {
     "slide_type": "slide"
    }
   },
   "source": [
    "# Adding Affine Gap Penalties to our Graph\n",
    "\n",
    "<img src=\"http://csbio.unc.edu/mcmillan/Comp555S18/Media/AffineGraph.png\" width=\"400\" style=\"float: right;\">\n",
    "\n",
    "* To reflect affine gap penalties we have to add “long” horizontal and vertical edges to the edit graph.\n",
    "\n",
    "* Each such edge of length x should have weight -ρ - x·σ\n",
    "\n",
    "* There are many such edges!\n",
    "\n",
    "* Adding them to the graph increases the running time of the alignment algorithm by a factor of n (where n is the number of vertices)\n",
    "\n",
    "* So the complexity increases from $O(n^2)$ to $O(n^3)$\n",
    "\n",
    "<p style=\"text-align: right; clear: right;\">15</p>"
   ]
  },
  {
   "cell_type": "markdown",
   "metadata": {
    "nbpresent": {
     "id": "4d370a97-121b-498c-84bc-a73a3e88376d"
    },
    "slideshow": {
     "slide_type": "slide"
    }
   },
   "source": [
    "# Adding Two More Tables\n",
    "\n",
    "* Affine Gap penalties can be more easily expressed in terms of 3 recurrences\n",
    "\n",
    "<img src=\"http://csbio.unc.edu/mcmillan/Comp555S18/Media/AffineGapRecurrences.png\" width=\"800\" class=\"centerImg\">\n",
    "\n",
    "<p style=\"text-align: right; clear: right;\">16</p>"
   ]
  },
  {
   "cell_type": "markdown",
   "metadata": {
    "nbpresent": {
     "id": "a945aa62-9f18-4508-b141-0e40b1a6dc14"
    },
    "slideshow": {
     "slide_type": "slide"
    }
   },
   "source": [
    "# A 3-level Manhattan Grid\n",
    "\n",
    "<img src=\"http://csbio.unc.edu/mcmillan/Comp555S18/Media/Manhattan3Level.png\" width=\"600\" class=\"centerImg\">\n",
    "\n",
    "\n",
    "* The three recurrences for the scoring algorithm creates a 3-layered graph. \n",
    "* The top level creates/extends gaps in the sequence *w*.  \n",
    "* The bottom level creates/extends gaps in sequence *v*. \n",
    "* The middle level extends matches and mismatches.\n",
    "\n",
    "<p style=\"text-align: right; clear: right;\">17</p>"
   ]
  },
  {
   "cell_type": "markdown",
   "metadata": {
    "nbpresent": {
     "id": "6f7e6afd-1a2f-4298-a320-d8f92d5412f5"
    },
    "slideshow": {
     "slide_type": "slide"
    }
   },
   "source": [
    "# Switching between 3 Layers\n",
    "\n",
    "<img src=\"http://csbio.unc.edu/mcmillan/Comp555S18/Media/Manhattan3Layer.png\" width=\"500\" class=\"centerImg\">\n",
    "\n",
    "* Levels:\n",
    "  - The main level is for diagonal edges  \n",
    "  - The lower level is for horizontal edges\n",
    "  - The upper level is for vertical edges\n",
    "  \n",
    "* A jumping penalty is assigned to moving from the main level to either the upper level or the lower level (-ρ - σ)\n",
    "\n",
    "* There is a gap extension penalty for each continuation on a level other than the main level (-σ)\n",
    "\n",
    "<p style=\"text-align: right; clear: right;\">18</p>"
   ]
  },
  {
   "cell_type": "markdown",
   "metadata": {
    "nbpresent": {
     "id": "1239caab-4ef3-4798-b35f-8922c9f664d7"
    },
    "slideshow": {
     "slide_type": "slide"
    }
   },
   "source": [
    "# Multiple Alignment versus Pairwise Alignment\n",
    "\n",
    "<table style=\"float: right; margin-left: 50px;\"><tbody>\n",
    "<tr><td><img src=\"http://csbio.unc.edu/mcmillan/Comp555S18/Media/MWaterman.jpg\"></td><td><img src=\"http://csbio.unc.edu/mcmillan/Comp555S18/Media/Cat.jpg\"></td></tr>\n",
    "<tr><td><img src=\"http://csbio.unc.edu/mcmillan/Comp555S18/Media/Dog.jpg\"></td><td><img src=\"http://csbio.unc.edu/mcmillan/Comp555S18/Media/Pig.jpg\"></td></tr>\n",
    "</tbody></table>\n",
    "\n",
    "* Up until now we have only tried to align two sequences. \n",
    "* What about more than two?  And what for? \n",
    "* A faint similarity between two sequences becomes significant if present in many\n",
    "* Multiple alignments can reveal subtle similarities that pairwise alignments do not reveal\n",
    "\n",
    "\n",
    "<p style=\"text-align: right; clear: right;\">19</p>"
   ]
  },
  {
   "cell_type": "markdown",
   "metadata": {
    "nbpresent": {
     "id": "9f62cc46-9168-4648-a7d8-45f32941803f"
    },
    "slideshow": {
     "slide_type": "slide"
    }
   },
   "source": [
    "# Generalizing Pairwise Alignment\n",
    "\n",
    "* Alignment of 2 sequences is represented as a 2-row matrix\n",
    "* In a similar way, we represent alignment of 3 sequences as a 3-row matrix \n",
    "\n",
    "<pre style=\"font-size: 120%;\">\n",
    "          A T _ G C G _\n",
    "          A _ C G T _ A\n",
    "          A T C A C _ A\n",
    "</pre>\n",
    "\n",
    "* Score: more conserved columns, better alignment\n",
    "\n",
    "<p style=\"text-align: right; clear: right;\">20</p>"
   ]
  },
  {
   "cell_type": "markdown",
   "metadata": {
    "nbpresent": {
     "id": "e18af1e8-3f9f-4dea-9388-a9bce58eb52c"
    },
    "slideshow": {
     "slide_type": "slide"
    }
   },
   "source": [
    "# Three-D Alignment Paths\n",
    "\n",
    "* An alignment of 3 sequences: ATGC, AATC, ATGC\n",
    "\n",
    "<img src=\"http://csbio.unc.edu/mcmillan/Comp555S18/Media/AlignThree.png\" width=\"600\" class=\"centerImg\">\n",
    "\n",
    "* Resulting path in (x,y,z) space:<br>\n",
    "    (0,0,0) &rarr; (1,1,0) &rarr; (1,2,1) &rarr; (2,3,2) &rarr; (3,3,3) &rarr; (4,4,4)\n",
    "* Is there a better one?\n",
    "\n",
    "<p style=\"text-align: right; clear: right;\">21</p>"
   ]
  },
  {
   "cell_type": "markdown",
   "metadata": {
    "nbpresent": {
     "id": "5b9c10a5-4b75-4126-bf10-e795a84ee78c"
    },
    "slideshow": {
     "slide_type": "slide"
    }
   },
   "source": [
    "# Aligning Three Sequences\n",
    "\n",
    "<img src=\"http://csbio.unc.edu/mcmillan/Comp555S18/Media/AlignmentCube.png\" width=\"400\" class=\"centerImg\">\n",
    "\n",
    "* Same strategy as aligning two sequences\n",
    "* Use a 3-D “Manhattan Cube”, with each axis representing a sequence to align\n",
    "* For global alignments, go from source to sink\n",
    "\n",
    "<p style=\"text-align: right; clear: right;\">22</p>"
   ]
  },
  {
   "cell_type": "markdown",
   "metadata": {
    "collapsed": true,
    "nbpresent": {
     "id": "1f4a0baa-9613-4959-b90e-0872a3861453"
    },
    "slideshow": {
     "slide_type": "slide"
    }
   },
   "source": [
    "# 2-sequence vs 3-sequence Alignment\n",
    "\n",
    "<img src=\"http://csbio.unc.edu/mcmillan/Comp555S18/Media/EditGraphs2D3D.png\" width=\"700\" class=\"centerImg\">\n",
    "\n",
    "<p style=\"text-align: right; clear: right;\">23</p>"
   ]
  },
  {
   "cell_type": "markdown",
   "metadata": {
    "collapsed": true,
    "nbpresent": {
     "id": "0e4e71e4-9fa9-4aa2-9d55-3b42f833b22c"
    },
    "slideshow": {
     "slide_type": "slide"
    }
   },
   "source": [
    "# A 2-D cell versus a 3-D Alignment Cell\n",
    "\n",
    "<img src=\"http://csbio.unc.edu/mcmillan/Comp555S18/Media/AlignmentEdges.png\" width=\"600\" class=\"centerImg\">\n",
    "\n",
    "* 2-D *[(i-1,j-1), (i-1,j), (i,j-1)] &rarr; (i,j)* (3 directions)\n",
    "* 3-D *[(i-1,j-1,k-1), (i-1,j,k), (i,j-1,k), (i,j,k-1), (i,j-1,k-1), (i-1,j,k-1), (i-1,j-1,k),] &rarr; (i,j,k)*  (7 directions)\n",
    "* N-D (2<sup>N</sup> -1 directions)\n",
    "\n",
    "<p style=\"text-align: right; clear: right;\">24</p>"
   ]
  },
  {
   "cell_type": "markdown",
   "metadata": {
    "collapsed": true,
    "nbpresent": {
     "id": "6816c394-8275-417b-9862-36b3b2670413"
    },
    "slideshow": {
     "slide_type": "slide"
    }
   },
   "source": [
    "# Structure of a 3-D Alignment Cell\n",
    "\n",
    "<img src=\"http://csbio.unc.edu/mcmillan/Comp555S18/Media/AlignmentPaths.png\" width=\"700\" class=\"centerImg\">\n",
    "\n",
    "<p style=\"text-align: right; clear: right;\">25</p>"
   ]
  },
  {
   "cell_type": "markdown",
   "metadata": {
    "nbpresent": {
     "id": "9e78874b-c719-46c0-9396-612a230a1607"
    },
    "slideshow": {
     "slide_type": "slide"
    }
   },
   "source": [
    "# Multiple Alignment: Recursion Relation\n",
    "\n",
    "<img src=\"http://csbio.unc.edu/mcmillan/Comp555S18/Media/Align3Recursion.png\" width=\"700\" class=\"centerImg\">\n",
    "\n",
    "<p style=\"text-align: right; clear: right;\">26</p>"
   ]
  },
  {
   "cell_type": "markdown",
   "metadata": {
    "nbpresent": {
     "id": "01285d25-e982-448f-9f47-fc6b4a9ef925"
    },
    "slideshow": {
     "slide_type": "slide"
    }
   },
   "source": [
    "# Multiple Alignment: Running Time\n",
    "\n",
    "* For 3 sequences of length n, the run time is $7n^3$; $O(n^3)$\n",
    "\n",
    "* For k sequences, build a k-dimensional Manhattan, with run time $(2^k-1)(n^k)$; $O(2^kn^k)$\n",
    "\n",
    "* Conclusion: dynamic programming approach for alignment between two sequences is easily extended to k sequences but it is impractical due to exponential running time\n",
    "\n",
    "<p style=\"text-align: right; clear: right;\">27</p>"
   ]
  },
  {
   "cell_type": "markdown",
   "metadata": {
    "nbpresent": {
     "id": "0937b201-df23-4f9e-a285-df564ea1f222"
    },
    "slideshow": {
     "slide_type": "slide"
    }
   },
   "source": [
    "# Multiple Alignment Induces Pairwise Alignments\n",
    "\n",
    "Every multiple alignment induces pairwise alignments\n",
    "<pre style=\"font-size: 120%;\">\t\t\n",
    "\t\t\t  x:\tAC-GCGG-C\t\t\n",
    "\t\t\t  y:\tAC-GC-GAG\n",
    "\t\t\t  z:\tGCCGC-GAG\n",
    "</pre>\n",
    "Induces:\n",
    "<pre style=\"font-size: 120%;\">\t\t\n",
    "        x: ACGCGG-C;  x: AC-GCGG-C;  y: AC-GCGAG\n",
    "        y: ACGC-GAC;  z: GCCGC-GAG;  z: GCCGCGAG\n",
    "</pre>\n",
    "<p style=\"text-align: right; clear: right;\">28</p>"
   ]
  },
  {
   "cell_type": "markdown",
   "metadata": {
    "nbpresent": {
     "id": "0a6994bd-2288-4fa2-a139-57db3b1cfabf"
    },
    "slideshow": {
     "slide_type": "slide"
    }
   },
   "source": [
    "# Inverse Problem\n",
    "\n",
    "Do Pairwise Alignments imply a Multiple Alignment?\n",
    "\n",
    "* Given 3 arbitrary pairwise alignments: \n",
    "<pre style=\"font-size: 120%;\">\n",
    "        x: ACGCTGG-C;  x: AC-GCTGG-C;  y: AC-GC-GAG\n",
    "        y: ACGC--GAC;  z: GCCGCA-GAG;  z: GCCGCAGAG\n",
    "</pre>\n",
    "  \n",
    "* Can we construct a multiple alignment that induces  them?     \n",
    "         \n",
    "<p style=\"text-align: center; font-size: 120%;\">NOT ALWAYS</p>\n",
    "\n",
    "* Why? Because pairwise alignments may be arbitrarily inconsistent\n",
    "\n",
    "<p style=\"text-align: right; clear: right;\">29</p>"
   ]
  },
  {
   "cell_type": "markdown",
   "metadata": {
    "nbpresent": {
     "id": "4c722027-e930-4b71-9e7e-b98d105a3c3a"
    },
    "slideshow": {
     "slide_type": "slide"
    }
   },
   "source": [
    "# Combining Optimal Pairwise Alignments \n",
    "\n",
    "<img src=\"http://csbio.unc.edu/mcmillan/Comp555S18/Media/MultipleFromPairs.png\" width=\"500\" style=\"float: right;\">\n",
    "\n",
    "* In some cases we can combine pairwie alignments into a single multiple alignment\n",
    "* But, in others we cannot because one alignment makes a choice that is inconsistent with the overall best choice\n",
    "<pre style=\"font-size: 100%;\">\n",
    " AAAATTTT--------          ----AAAATTTT----\n",
    " ----TTTTGGGG----   -OR-   --------TTTTGGGG\n",
    " --------GGGGAAAA          GGGGAAAA--------\n",
    "</pre>\n",
    "* Is there another way?\n",
    "\n",
    "<p style=\"text-align: right; clear: right;\">30</p>"
   ]
  },
  {
   "cell_type": "markdown",
   "metadata": {
    "nbpresent": {
     "id": "0bd6e466-92ba-4521-a561-4c1ea6f499d9"
    },
    "slideshow": {
     "slide_type": "slide"
    }
   },
   "source": [
    "# Multiple Alignment from Pairwise Alignments\n",
    "\n",
    "* From an optimal multiple alignment, we can infer pairwise alignments between all pairs of sequences, but they are not necessarily optimal\n",
    "* It is difficult to infer a “good” multiple alignment from optimal pairwise alignments between all sequences\n",
    "* Are we stuck, or is there some other trick?\n",
    "\n",
    "<p style=\"text-align: right; clear: right;\">31</p>"
   ]
  },
  {
   "cell_type": "markdown",
   "metadata": {
    "nbpresent": {
     "id": "58f8ee12-7ddd-4584-8031-869a84ff0e30"
    },
    "slideshow": {
     "slide_type": "slide"
    }
   },
   "source": [
    "# Multiple Alignment using a Profile Scores\n",
    "\n",
    "* We used profile scores earlier when we discussed Motif finding\n",
    "<pre style=\"font-size: 100%;\">\n",
    "              -  A  G  G  C  T  A  T  C  A  C  C  T  G \n",
    "              T  A  G  –  C  T  A  C  C  A  -  -  -  G \n",
    "              C  A  G  –  C  T  A  C  C  A  -  -  -  G \n",
    "              C  A  G  –  C  T  A  T  C  A  C  –  G  G \n",
    "              C  A  G  –  C  T  A  T  C  G  C  –  G  G \n",
    "\n",
    "        A\t 0  5  0  0  0  0  5  0  0  4  0  0  0  0    \n",
    "        C\t 3  0  0  0  5  0  0  2  5  0  3  1  0  0\n",
    "        G\t 0  0  5  1  0  0  0  0  0  1  0  0  2  5\n",
    "        T\t 1  0  0  0  0  5  0  3  0  0  0  0  1  0\n",
    "        -\t 1  0  0  4  0  0  0  0  0  0  2  4  2  0\n",
    "</pre>\n",
    "* Thus far we have aligned sequences against other sequences\n",
    "\n",
    "* Can we align a sequence against a profile? \n",
    "\n",
    "* Can we align a profile against a profile? \n",
    "\n",
    "<p style=\"text-align: right; clear: right;\">32</p>"
   ]
  },
  {
   "cell_type": "markdown",
   "metadata": {
    "nbpresent": {
     "id": "767181a9-64d9-482d-96d2-7114369e85ce"
    },
    "slideshow": {
     "slide_type": "slide"
    }
   },
   "source": [
    "# Aligning Alignments\n",
    "\n",
    "A more general version of the multi-alignment problem:\n",
    "\n",
    "* Given two alignments, can we align them? \n",
    "<pre style=\"font-size: 100%;\">\n",
    "        x: GGGCACTGCAT\n",
    "        y: GGTTACGTC--    Alignment 1 \n",
    "        z: GGGAACTGCAG\n",
    "\n",
    "        w: GGACGTACC--    Alignment 2\n",
    "        v: GGACCT-----\n",
    "</pre>\n",
    "\n",
    "* Idea: don’t use the sequences, but align their profiles\n",
    "\n",
    "<pre style=\"font-size: 100%;\">\n",
    "        x: GGGCAC=TGCAT\n",
    "        y: GGTTAC=GTC-- \n",
    "        z: GGGAAC=TGCAG     Combined Alignment\n",
    "           ||  || | |\n",
    "        w: GG==ACGTACC--    \n",
    "        v: GG==ACCT-----\n",
    "</pre>\n",
    "<p style=\"text-align: right; clear: right;\">33</p>"
   ]
  },
  {
   "cell_type": "markdown",
   "metadata": {
    "nbpresent": {
     "id": "293bb6d3-2414-4f14-8782-c2cfe47bfc52"
    },
    "slideshow": {
     "slide_type": "slide"
    }
   },
   "source": [
    "# Profile-Based Multiple Alignment: A Greedy Approach\n",
    "\n",
    "* Choose the most similar pair of strings and combine them into a profile, thereby reducing alignment of *k* sequences to an alignment of of *k-1* sequences/profiles. **Repeat**\n",
    "* This is a heuristic *greedy* method\n",
    "\n",
    "<img src=\"http://csbio.unc.edu/mcmillan/Comp555S18/Media/ProfileAlign.png\" width=\"800\" class=\"centerImg\">\n",
    "\n",
    "<p style=\"text-align: right; clear: right;\">34</p>"
   ]
  },
  {
   "cell_type": "markdown",
   "metadata": {
    "nbpresent": {
     "id": "08ce266b-b74d-4825-899d-482b30beee08"
    },
    "slideshow": {
     "slide_type": "slide"
    }
   },
   "source": [
    "# Example\n",
    "\n",
    "* Consider these 4 sequences\n",
    "\n",
    "<pre style=\"font-size: 150%;\">\n",
    "\n",
    "    s<sub>1</sub>:\tGATTCA\n",
    "    s<sub>2</sub>:\tGTCTGA\n",
    "    s<sub>3</sub>:\tGATATT\n",
    "    s<sub>4</sub>:\tGTCAGC\n",
    "\n",
    "</pre>\n",
    "\n",
    "* with the scoring matrix: {Match = 1, Mismatch = -1, Indel = -1}\n",
    "\n",
    "<p style=\"text-align: right; clear: right;\">35</p>"
   ]
  },
  {
   "cell_type": "markdown",
   "metadata": {
    "nbpresent": {
     "id": "6999e165-77a5-49cf-bcd8-33afd57b1af6"
    },
    "slideshow": {
     "slide_type": "slide"
    }
   },
   "source": [
    "# Example (continued)\n",
    "\n",
    "* There are ${4 \\choose 2} = 6$ possible pairwise alignments\n",
    "\n",
    "<pre style=\"font-size: 100%;\">\n",
    "\n",
    "    s<sub>2</sub>:  GTCTGA                          s<sub>1</sub>:  GATTCA--\n",
    "    s<sub>4</sub>:  GTCAGC (score = 2)              s<sub>4</sub>:  G-T-CAGC (score = 0)\n",
    "\n",
    "    s<sub>1</sub>:  GAT-TCA                         s<sub>2</sub>:  G-TCTGA\n",
    "    s<sub>2</sub>:  G-TCTGA (score = 1)             s<sub>3</sub>:  GATAT-T (score  = -1)\n",
    "\n",
    "    s<sub>1</sub>:  GAT-TCA                         s<sub>3</sub>:  GAT-ATT\n",
    "    s<sub>3</sub>:  GATAT-T (score  = 1)            s<sub>4</sub>:  G-TCAGC (score = -1)\n",
    "\n",
    "</pre>\n",
    "\n",
    "* The best pairwise score, 2, is between s<sub>2</sub> and s<sub>4</sub>\n",
    "\n",
    "<p style=\"text-align: right; clear: right;\">36</p>"
   ]
  },
  {
   "cell_type": "markdown",
   "metadata": {
    "nbpresent": {
     "id": "1cfb0b4a-dfeb-4621-9547-0dd2a011a485"
    },
    "slideshow": {
     "slide_type": "slide"
    }
   },
   "source": [
    "# Example (continued)\n",
    "\n",
    "* Combine s<sub>2</sub> and s<sub>4</sub>:\n",
    "<pre style=\"font-size: 80%;\">\n",
    "      s<sub>2</sub>:  G T C T G A\n",
    "           | | |   |         &rarr;      s<sub>2,4</sub>:  G T C t/a G a/c\n",
    "      s<sub>4</sub>:  G T C A G C\n",
    "</pre>\n",
    "* Giving a set of three sequences:\n",
    "<pre style=\"font-size: 80%;\">\n",
    "    s<sub>1  </sub>:\tG  A  T  T  C  A\n",
    "    s<sub>3  </sub>:\tG  A  T  A  T  T\n",
    "    s<sub>2,4</sub>:    G  T  C t/a G a/c\n",
    "</pre>\n",
    "\n",
    "* **Repeat** for ${3 \\choose 2} = 3$ possible pairwise alignments\n",
    "<pre style=\"font-size: 80%;\">\n",
    "    s<sub>1  </sub>:  GAT-TCA\n",
    "    s<sub>3  </sub>:  GATAT-T (score  = 1 + 1 + 1 - 1 + 1 - 1 - 1 = 1)\n",
    "\n",
    "    s<sub>1  </sub>:  GAT-TCA\n",
    "    s<sub>2,4</sub>:  G-TCtGa (score  = 2 - 2 + 2 - 2 + &half; - 1 + &half; = 0)\n",
    "\n",
    "    s<sub>3  </sub>:  GATAT-T\n",
    "    s<sub>2,4</sub>:  G-TCtGa (score  = 2 - 2 + 2 - 2 + &half; - 1 - 1 = -1&half;)\n",
    "</pre>\n",
    "\n",
    "<p style=\"text-align: right; clear: right;\">37</p>"
   ]
  },
  {
   "cell_type": "markdown",
   "metadata": {
    "nbpresent": {
     "id": "a7d0145f-b3ed-4364-b679-f86c15446191"
    },
    "slideshow": {
     "slide_type": "slide"
    }
   },
   "source": [
    "# Progressive Alignment\n",
    "\n",
    "* Progressive alignment is a variation of a greedy profile alignment algorithm with a somewhat more intelligent strategy for choosing the order of alignments.\n",
    "\n",
    "* Progressive alignment works well for close sequences, but deteriorates for distant sequences\n",
    "  * Once a gap appears in a consensus string it is permanent\n",
    "  * Uses profiles to compare sequences\n",
    "\n",
    "* CLUSTAL OMEGA\n",
    "\n",
    "<p style=\"text-align: right; clear: right;\">38</p>"
   ]
  },
  {
   "cell_type": "markdown",
   "metadata": {
    "nbpresent": {
     "id": "c09d687e-c065-4f84-8378-81e1b06c3e72"
    },
    "slideshow": {
     "slide_type": "slide"
    }
   },
   "source": [
    "# Clustal Omega\n",
    "\n",
    "* A popular multiple alignment tool commonly used today\n",
    "* ‘W’ stands for ‘weighted’ (different parts of alignment are weighted differently).\n",
    "\n",
    "* Three-step process\n",
    "  1. Construct pairwise alignments\n",
    "  2. Build Guide Tree\n",
    "  3. Progressive Alignment guided by the tree\n",
    "\n",
    "<p style=\"text-align: right; clear: right;\">39</p>"
   ]
  },
  {
   "cell_type": "markdown",
   "metadata": {
    "nbpresent": {
     "id": "5db91a40-1843-487c-90d7-cddcf4c9a127"
    },
    "slideshow": {
     "slide_type": "slide"
    }
   },
   "source": [
    "# Clustal Omega's First Step\n",
    "\n",
    "Pairwise alignment\n",
    "\n",
    "* Align each sequence against all others giving a similarity matrix\n",
    "* Similarity = exact matches / sequence length (percent identity)\n",
    "\n",
    "\n",
    "<img src=\"http://csbio.unc.edu/mcmillan/Comp555S18/Media/ClustalWStep1.png\" width=\"700\" class=\"centerImg\">\n",
    "\n",
    "<p style=\"text-align: right; clear: right;\">40</p>"
   ]
  },
  {
   "cell_type": "markdown",
   "metadata": {
    "nbpresent": {
     "id": "31212d4b-b214-4655-9a03-4db36c11945c"
    },
    "slideshow": {
     "slide_type": "slide"
    }
   },
   "source": [
    "# ClustalW's Second Step\n",
    "\n",
    "* Create Guide Tree using the similarity matrix\n",
    "  - ClustalW uses the neighbor-joining method<br>(we will discuss this later in the course, in the section on clustering)\n",
    "  - Guide tree roughly reflects evolutionary relations\n",
    "\n",
    "<img src=\"http://csbio.unc.edu/mcmillan/Comp555S18/Media/ClustalWStep2.png\" width=\"700\" class=\"centerImg\">\n",
    "\n",
    "<p style=\"text-align: right; clear: right;\">41</p>"
   ]
  },
  {
   "cell_type": "markdown",
   "metadata": {
    "nbpresent": {
     "id": "b4d46d64-9159-412d-a4c3-412c41cef9fe"
    },
    "slideshow": {
     "slide_type": "slide"
    }
   },
   "source": [
    "# ClustalW's Third Step\n",
    "\n",
    "* Start by aligning the two most similar sequences\n",
    "* Following the guide tree, add in the next sequences, aligning to the existing alignment\n",
    "* Insert gaps as necessary\n",
    "\n",
    "<img src=\"http://csbio.unc.edu/mcmillan/Comp555S18/Media/ClustalWStep3.png\" width=\"900\" class=\"centerImg\">\n",
    "\n",
    "<p style=\"text-align: right; clear: right;\">42</p>"
   ]
  },
  {
   "cell_type": "markdown",
   "metadata": {
    "nbpresent": {
     "id": "b28b0aec-6f35-404f-aac1-2b0b8555d93c"
    },
    "slideshow": {
     "slide_type": "slide"
    }
   },
   "source": [
    "# Next Time\n",
    "\n",
    "<img src=\"http://csbio.unc.edu/mcmillan/Comp555S18/Media/DPCartoon.png\" width=\"500\" style=\"float: right; margin-right: 100px;\">\n",
    "<ul style=\"font-size: 24px; line-height: 32px;\">\n",
    "<li>Other approaches to sequence alignment</li>\n",
    "<li>Divide-and-Conquer Alignment</li>\n",
    "<li>Other Dynamic Programming problems</li>\n",
    "</ul>\n",
    "\n",
    "<p style=\"text-align: right; clear: right;\">43</p>"
   ]
  },
  {
   "cell_type": "code",
   "execution_count": null,
   "metadata": {},
   "outputs": [],
   "source": [
    "    "
   ]
  }
 ],
 "metadata": {
  "anaconda-cloud": {},
  "celltoolbar": "Slideshow",
  "kernelspec": {
   "display_name": "Python 2",
   "language": "python",
   "name": "python2"
  },
  "language_info": {
   "codemirror_mode": {
    "name": "ipython",
    "version": 2
   },
   "file_extension": ".py",
   "mimetype": "text/x-python",
   "name": "python",
   "nbconvert_exporter": "python",
   "pygments_lexer": "ipython2",
   "version": "2.7.14"
  },
  "nbpresent": {
   "slides": {
    "0135a1dd-841a-4aee-88b1-2af26a8ca470": {
     "id": "0135a1dd-841a-4aee-88b1-2af26a8ca470",
     "prev": "ba8ed675-7270-4a4e-aa11-876e41165981",
     "regions": {
      "09f2e874-5dd2-4cb8-809d-8d5d91381aa0": {
       "attrs": {
        "height": 0.96,
        "width": 0.96,
        "x": 0.02,
        "y": 0.02
       },
       "content": {
        "cell": "b28b0aec-6f35-404f-aac1-2b0b8555d93c",
        "part": "whole"
       },
       "id": "09f2e874-5dd2-4cb8-809d-8d5d91381aa0"
      }
     }
    },
    "085a3a48-1e3f-436e-9ec7-522e2821cf4f": {
     "id": "085a3a48-1e3f-436e-9ec7-522e2821cf4f",
     "prev": "ac29e3e3-8bdb-4267-9683-1dcca5aa2ee1",
     "regions": {
      "692107d0-1c19-4b2d-85d7-6cc080435c6c": {
       "attrs": {
        "height": 0.96,
        "width": 0.96,
        "x": 0.02,
        "y": 0.02
       },
       "content": {
        "cell": "6999e165-77a5-49cf-bcd8-33afd57b1af6",
        "part": "whole"
       },
       "id": "692107d0-1c19-4b2d-85d7-6cc080435c6c"
      }
     }
    },
    "0a608525-3e15-4a14-abf4-244ca59a2867": {
     "id": "0a608525-3e15-4a14-abf4-244ca59a2867",
     "prev": "129b407e-d2db-4b22-b045-07cbc37f018c",
     "regions": {
      "7e20bede-290d-4cee-aca6-dd9f25e0775e": {
       "attrs": {
        "height": 0.96,
        "width": 0.96,
        "x": 0.02,
        "y": 0.02
       },
       "content": {
        "cell": "31f1d180-c42a-4719-8810-dbfad2ade4d2",
        "part": "whole"
       },
       "id": "7e20bede-290d-4cee-aca6-dd9f25e0775e"
      }
     }
    },
    "0aa95a8b-5bab-48fe-8be7-3f3d0e1fc0ae": {
     "id": "0aa95a8b-5bab-48fe-8be7-3f3d0e1fc0ae",
     "prev": "b283ff32-c447-4680-8082-a33815066f9b",
     "regions": {
      "9f06086f-efc2-4302-94ce-abc120915fc3": {
       "attrs": {
        "height": 0.96,
        "width": 0.96,
        "x": 0.02,
        "y": 0.02
       },
       "content": {
        "cell": "767181a9-64d9-482d-96d2-7114369e85ce",
        "part": "whole"
       },
       "id": "9f06086f-efc2-4302-94ce-abc120915fc3"
      }
     }
    },
    "129b407e-d2db-4b22-b045-07cbc37f018c": {
     "id": "129b407e-d2db-4b22-b045-07cbc37f018c",
     "prev": "9c2e388c-6df7-4d53-829c-a8b035e5b358",
     "regions": {
      "65786479-69b5-48b8-8dba-790c169578ab": {
       "attrs": {
        "height": 0.96,
        "width": 0.96,
        "x": 0.02,
        "y": 0.02
       },
       "content": {
        "cell": "bc7ec20a-7301-47d7-ad7c-31d447f70fff",
        "part": "whole"
       },
       "id": "65786479-69b5-48b8-8dba-790c169578ab"
      }
     }
    },
    "1326920c-5c05-44c5-a3bf-48a0cb317e21": {
     "id": "1326920c-5c05-44c5-a3bf-48a0cb317e21",
     "prev": "68464a19-1080-4933-9f4e-90d2d7776861",
     "regions": {
      "bfb3bf69-74dc-4e03-815b-c6d94bc2459a": {
       "attrs": {
        "height": 0.96,
        "width": 0.96,
        "x": 0.02,
        "y": 0.02
       },
       "content": {
        "cell": "0937b201-df23-4f9e-a285-df564ea1f222",
        "part": "whole"
       },
       "id": "bfb3bf69-74dc-4e03-815b-c6d94bc2459a"
      }
     }
    },
    "1a786b71-3654-4998-b580-9ff710894372": {
     "id": "1a786b71-3654-4998-b580-9ff710894372",
     "prev": "7aa602d4-4cb3-4a41-b643-eaa38a97b9e5",
     "regions": {
      "9d3aa453-75b7-49c7-b354-db90e6cd8f41": {
       "attrs": {
        "height": 0.96,
        "width": 0.96,
        "x": 0.02,
        "y": 0.02
       },
       "content": {
        "cell": "1a80039a-ed2a-4578-88b9-1ee66324edbd",
        "part": "whole"
       },
       "id": "9d3aa453-75b7-49c7-b354-db90e6cd8f41"
      }
     }
    },
    "1edd21c1-bb37-417b-8503-8c52b85863b4": {
     "id": "1edd21c1-bb37-417b-8503-8c52b85863b4",
     "prev": "e552f3ef-85a9-48b1-8f58-142e6acf33fe",
     "regions": {
      "92a6e7e8-e0c5-4789-8aa5-c90e655e542b": {
       "attrs": {
        "height": 0.96,
        "width": 0.96,
        "x": 0.02,
        "y": 0.02
       },
       "content": {
        "cell": "b5788f43-1343-4880-8194-2bfdeaf4689e",
        "part": "whole"
       },
       "id": "92a6e7e8-e0c5-4789-8aa5-c90e655e542b"
      }
     }
    },
    "20ae5cf4-a1b8-4128-a883-10a6dfb2c58d": {
     "id": "20ae5cf4-a1b8-4128-a883-10a6dfb2c58d",
     "prev": "5e80d994-8655-424f-8561-f5667bbc58fc",
     "regions": {
      "2e4d4887-5b0b-4a7a-b18e-b11e190de527": {
       "attrs": {
        "height": 0.96,
        "width": 0.96,
        "x": 0.02,
        "y": 0.02
       },
       "content": {
        "cell": "0bd6e466-92ba-4521-a561-4c1ea6f499d9",
        "part": "whole"
       },
       "id": "2e4d4887-5b0b-4a7a-b18e-b11e190de527"
      }
     }
    },
    "2568dfa4-f116-481d-a1d4-15f17389fe0c": {
     "id": "2568dfa4-f116-481d-a1d4-15f17389fe0c",
     "prev": "b29eb124-d1b2-4b4d-b35e-49408d6ad9a4",
     "regions": {
      "08a24698-fa40-4f9a-ad42-503bb37cc6ce": {
       "attrs": {
        "height": 0.96,
        "width": 0.96,
        "x": 0.02,
        "y": 0.02
       },
       "content": {
        "cell": "e18af1e8-3f9f-4dea-9388-a9bce58eb52c",
        "part": "whole"
       },
       "id": "08a24698-fa40-4f9a-ad42-503bb37cc6ce"
      }
     }
    },
    "31bdc129-3bbe-4888-9aea-b015cd7064de": {
     "id": "31bdc129-3bbe-4888-9aea-b015cd7064de",
     "prev": "45f4ef60-44fd-41d5-97c4-c5484d62f9ca",
     "regions": {
      "03a4ede4-a91d-4954-80d3-d040ae219dcc": {
       "attrs": {
        "height": 0.96,
        "width": 0.96,
        "x": 0.02,
        "y": 0.02
       },
       "content": {
        "cell": "8fa70934-d6a6-410e-9562-98dc0005ca44",
        "part": "whole"
       },
       "id": "03a4ede4-a91d-4954-80d3-d040ae219dcc"
      }
     }
    },
    "45f4ef60-44fd-41d5-97c4-c5484d62f9ca": {
     "id": "45f4ef60-44fd-41d5-97c4-c5484d62f9ca",
     "prev": "1edd21c1-bb37-417b-8503-8c52b85863b4",
     "regions": {
      "0d6c9dfc-b4d9-453b-b7c4-523a38c04452": {
       "attrs": {
        "height": 0.96,
        "width": 0.96,
        "x": 0.02,
        "y": 0.02
       },
       "content": {
        "cell": "705194e5-9dfd-45ad-ae52-25ce5d4c5a98",
        "part": "whole"
       },
       "id": "0d6c9dfc-b4d9-453b-b7c4-523a38c04452"
      }
     }
    },
    "4806e7dd-3023-46e5-ab0a-189551302df0": {
     "id": "4806e7dd-3023-46e5-ab0a-189551302df0",
     "prev": "f471b5dd-1375-47dc-ab64-c5f977ffcfbd",
     "regions": {
      "0f9fb780-5aef-4ba7-9044-68bc4311ca9c": {
       "attrs": {
        "height": 0.96,
        "width": 0.96,
        "x": 0.02,
        "y": 0.02
       },
       "content": {
        "cell": "d930868c-db09-47d2-9d2c-1032589ac595",
        "part": "whole"
       },
       "id": "0f9fb780-5aef-4ba7-9044-68bc4311ca9c"
      }
     }
    },
    "54733df7-024a-4c02-97ef-46e310890bda": {
     "id": "54733df7-024a-4c02-97ef-46e310890bda",
     "prev": "5951e4c5-b183-4db5-b833-38e13fb39822",
     "regions": {
      "7bb0ab2e-35cb-4b43-b190-651dae597d49": {
       "attrs": {
        "height": 0.96,
        "width": 0.96,
        "x": 0.02,
        "y": 0.02
       },
       "content": {
        "cell": "bee98fc8-f9fe-4eb7-85fb-4a84aadcfd87",
        "part": "whole"
       },
       "id": "7bb0ab2e-35cb-4b43-b190-651dae597d49"
      }
     }
    },
    "58289bcb-a288-42f1-9a93-ada6e4b7ff91": {
     "id": "58289bcb-a288-42f1-9a93-ada6e4b7ff91",
     "prev": "0aa95a8b-5bab-48fe-8be7-3f3d0e1fc0ae",
     "regions": {
      "6acb4667-89c9-4d3d-96a4-fb5a3acaffc6": {
       "attrs": {
        "height": 0.96,
        "width": 0.96,
        "x": 0.02,
        "y": 0.02
       },
       "content": {
        "cell": "293bb6d3-2414-4f14-8782-c2cfe47bfc52",
        "part": "whole"
       },
       "id": "6acb4667-89c9-4d3d-96a4-fb5a3acaffc6"
      }
     }
    },
    "58d7b7ce-6a92-47bc-aec4-edd205cc312b": {
     "id": "58d7b7ce-6a92-47bc-aec4-edd205cc312b",
     "prev": "d8b27f85-cfe3-44de-91da-190edfcdf42a",
     "regions": {
      "07b2a1f9-9c02-42a1-b96b-7b679c300c28": {
       "attrs": {
        "height": 0.96,
        "width": 0.96,
        "x": 0.02,
        "y": 0.02
       },
       "content": {
        "cell": "6816c394-8275-417b-9862-36b3b2670413",
        "part": "whole"
       },
       "id": "07b2a1f9-9c02-42a1-b96b-7b679c300c28"
      }
     }
    },
    "5951e4c5-b183-4db5-b833-38e13fb39822": {
     "id": "5951e4c5-b183-4db5-b833-38e13fb39822",
     "prev": "1a786b71-3654-4998-b580-9ff710894372",
     "regions": {
      "514b55c0-1ea6-4bf3-b1b2-beab4e695295": {
       "attrs": {
        "height": 0.96,
        "width": 0.96,
        "x": 0.02,
        "y": 0.02
       },
       "content": {
        "cell": "4fdc020a-f905-4321-bb87-98b61b43ddee",
        "part": "whole"
       },
       "id": "514b55c0-1ea6-4bf3-b1b2-beab4e695295"
      }
     }
    },
    "5d7ab93c-ddbd-4b6a-993a-e2e62f0c8b65": {
     "id": "5d7ab93c-ddbd-4b6a-993a-e2e62f0c8b65",
     "prev": "4806e7dd-3023-46e5-ab0a-189551302df0",
     "regions": {
      "a14d9e6c-efaf-461e-934c-98455b2465b5": {
       "attrs": {
        "height": 0.96,
        "width": 0.96,
        "x": 0.02,
        "y": 0.02
       },
       "content": {
        "cell": "9ab41e57-225e-455c-b3a9-39ec2836e291",
        "part": "whole"
       },
       "id": "a14d9e6c-efaf-461e-934c-98455b2465b5"
      }
     }
    },
    "5e80d994-8655-424f-8561-f5667bbc58fc": {
     "id": "5e80d994-8655-424f-8561-f5667bbc58fc",
     "prev": "e20815d8-515a-4494-ad4f-411807ed2b78",
     "regions": {
      "df12f31d-bb40-4ec9-91d0-7548053222c7": {
       "attrs": {
        "height": 0.96,
        "width": 0.96,
        "x": 0.02,
        "y": 0.02
       },
       "content": {
        "cell": "4c722027-e930-4b71-9e7e-b98d105a3c3a",
        "part": "whole"
       },
       "id": "df12f31d-bb40-4ec9-91d0-7548053222c7"
      }
     }
    },
    "64fbc200-979f-46c1-9815-156f370a5992": {
     "id": "64fbc200-979f-46c1-9815-156f370a5992",
     "prev": "2568dfa4-f116-481d-a1d4-15f17389fe0c",
     "regions": {
      "218cf877-70c4-4f47-ba80-dd4ac4f26fbd": {
       "attrs": {
        "height": 0.96,
        "width": 0.96,
        "x": 0.02,
        "y": 0.02
       },
       "content": {
        "cell": "5b9c10a5-4b75-4126-bf10-e795a84ee78c",
        "part": "whole"
       },
       "id": "218cf877-70c4-4f47-ba80-dd4ac4f26fbd"
      }
     }
    },
    "68464a19-1080-4933-9f4e-90d2d7776861": {
     "id": "68464a19-1080-4933-9f4e-90d2d7776861",
     "prev": "c70d0e56-ef7c-4722-92de-884313e9dfea",
     "regions": {
      "bca5031a-2a60-48da-b3a3-774aa67ba9b8": {
       "attrs": {
        "height": 0.96,
        "width": 0.96,
        "x": 0.02,
        "y": 0.02
       },
       "content": {
        "cell": "01285d25-e982-448f-9f47-fc6b4a9ef925",
        "part": "whole"
       },
       "id": "bca5031a-2a60-48da-b3a3-774aa67ba9b8"
      }
     }
    },
    "706e3008-5d78-45be-96aa-88730d3ba852": {
     "id": "706e3008-5d78-45be-96aa-88730d3ba852",
     "prev": "085a3a48-1e3f-436e-9ec7-522e2821cf4f",
     "regions": {
      "5f46e46d-b162-401e-84be-b131bc4b772a": {
       "attrs": {
        "height": 0.96,
        "width": 0.96,
        "x": 0.02,
        "y": 0.02
       },
       "content": {
        "cell": "1cfb0b4a-dfeb-4621-9547-0dd2a011a485",
        "part": "whole"
       },
       "id": "5f46e46d-b162-401e-84be-b131bc4b772a"
      }
     }
    },
    "7aa602d4-4cb3-4a41-b643-eaa38a97b9e5": {
     "id": "7aa602d4-4cb3-4a41-b643-eaa38a97b9e5",
     "prev": "a95d1319-2f6c-4891-a599-591fb068a939",
     "regions": {
      "69b1d8a7-da5c-4d90-a6cb-975fca7f927a": {
       "attrs": {
        "height": 0.96,
        "width": 0.96,
        "x": 0.02,
        "y": 0.02
       },
       "content": {
        "cell": "9780cee1-13e5-417e-99dd-0e8d84d06a84",
        "part": "whole"
       },
       "id": "69b1d8a7-da5c-4d90-a6cb-975fca7f927a"
      }
     }
    },
    "91577f36-24ee-47f8-bcce-eddf4a85d853": {
     "id": "91577f36-24ee-47f8-bcce-eddf4a85d853",
     "prev": "c0920c1a-0fa2-4c30-8e10-50b9d59f1bf1",
     "regions": {
      "b31c8319-4a5a-4c28-bcd7-0d518d2bff93": {
       "attrs": {
        "height": 0.96,
        "width": 0.96,
        "x": 0.02,
        "y": 0.02
       },
       "content": {
        "cell": "a945aa62-9f18-4508-b141-0e40b1a6dc14",
        "part": "whole"
       },
       "id": "b31c8319-4a5a-4c28-bcd7-0d518d2bff93"
      }
     }
    },
    "9c2e388c-6df7-4d53-829c-a8b035e5b358": {
     "id": "9c2e388c-6df7-4d53-829c-a8b035e5b358",
     "prev": "5d7ab93c-ddbd-4b6a-993a-e2e62f0c8b65",
     "regions": {
      "8fb0f632-2b81-4d02-9ba0-51fb4906c1fc": {
       "attrs": {
        "height": 0.96,
        "width": 0.96,
        "x": 0.02,
        "y": 0.02
       },
       "content": {
        "cell": "3f1f0697-06af-4fa8-b65d-c4a8778ab056",
        "part": "whole"
       },
       "id": "8fb0f632-2b81-4d02-9ba0-51fb4906c1fc"
      }
     }
    },
    "a4a178a8-2e7d-4026-aaaf-d52629f176d5": {
     "id": "a4a178a8-2e7d-4026-aaaf-d52629f176d5",
     "prev": "706e3008-5d78-45be-96aa-88730d3ba852",
     "regions": {
      "dcb35dea-66c2-431f-b4a7-863e6a5af49b": {
       "attrs": {
        "height": 0.96,
        "width": 0.96,
        "x": 0.02,
        "y": 0.02
       },
       "content": {
        "cell": "a7d0145f-b3ed-4364-b679-f86c15446191",
        "part": "whole"
       },
       "id": "dcb35dea-66c2-431f-b4a7-863e6a5af49b"
      }
     }
    },
    "a95d1319-2f6c-4891-a599-591fb068a939": {
     "id": "a95d1319-2f6c-4891-a599-591fb068a939",
     "prev": "0a608525-3e15-4a14-abf4-244ca59a2867",
     "regions": {
      "5cf93a47-7dae-4e5e-8e8b-f6151d769ddd": {
       "attrs": {
        "height": 0.96,
        "width": 0.96,
        "x": 0.02,
        "y": 0.02
       },
       "content": {
        "cell": "f07d57f1-bd0e-4035-ae17-be3613158684",
        "part": "whole"
       },
       "id": "5cf93a47-7dae-4e5e-8e8b-f6151d769ddd"
      }
     }
    },
    "ac29e3e3-8bdb-4267-9683-1dcca5aa2ee1": {
     "id": "ac29e3e3-8bdb-4267-9683-1dcca5aa2ee1",
     "prev": "58289bcb-a288-42f1-9a93-ada6e4b7ff91",
     "regions": {
      "301d3b10-c063-4403-b669-2cfcfb09e596": {
       "attrs": {
        "height": 0.96,
        "width": 0.96,
        "x": 0.02,
        "y": 0.02
       },
       "content": {
        "cell": "08ce266b-b74d-4825-899d-482b30beee08",
        "part": "whole"
       },
       "id": "301d3b10-c063-4403-b669-2cfcfb09e596"
      }
     }
    },
    "b0b13680-17c3-4c68-bf8c-b0a86cbb1d28": {
     "id": "b0b13680-17c3-4c68-bf8c-b0a86cbb1d28",
     "prev": "fa9347b6-2b5a-4001-9d85-6e173445b443",
     "regions": {
      "47ebd47a-6ddc-41cc-93b2-dcf4ada5a7c8": {
       "attrs": {
        "height": 0.96,
        "width": 0.96,
        "x": 0.02,
        "y": 0.02
       },
       "content": {
        "cell": "31212d4b-b214-4655-9a03-4db36c11945c",
        "part": "whole"
       },
       "id": "47ebd47a-6ddc-41cc-93b2-dcf4ada5a7c8"
      }
     }
    },
    "b283ff32-c447-4680-8082-a33815066f9b": {
     "id": "b283ff32-c447-4680-8082-a33815066f9b",
     "prev": "20ae5cf4-a1b8-4128-a883-10a6dfb2c58d",
     "regions": {
      "f25f1616-f6c8-4631-a43f-a78f47f9d053": {
       "attrs": {
        "height": 0.96,
        "width": 0.96,
        "x": 0.02,
        "y": 0.02
       },
       "content": {
        "cell": "58f8ee12-7ddd-4584-8031-869a84ff0e30",
        "part": "whole"
       },
       "id": "f25f1616-f6c8-4631-a43f-a78f47f9d053"
      }
     }
    },
    "b29eb124-d1b2-4b4d-b35e-49408d6ad9a4": {
     "id": "b29eb124-d1b2-4b4d-b35e-49408d6ad9a4",
     "prev": "d7814ac9-d35d-47e9-8245-86cfc6735f11",
     "regions": {
      "94b3ac0a-bee9-407a-acd7-ba8815519a92": {
       "attrs": {
        "height": 0.96,
        "width": 0.96,
        "x": 0.02,
        "y": 0.02
       },
       "content": {
        "cell": "9f62cc46-9168-4648-a7d8-45f32941803f",
        "part": "whole"
       },
       "id": "94b3ac0a-bee9-407a-acd7-ba8815519a92"
      }
     }
    },
    "ba8ed675-7270-4a4e-aa11-876e41165981": {
     "id": "ba8ed675-7270-4a4e-aa11-876e41165981",
     "prev": "b0b13680-17c3-4c68-bf8c-b0a86cbb1d28",
     "regions": {
      "f2b3a42e-5bdf-4a06-8c05-1beda7edfaa0": {
       "attrs": {
        "height": 0.96,
        "width": 0.96,
        "x": 0.02,
        "y": 0.02
       },
       "content": {
        "cell": "b4d46d64-9159-412d-a4c3-412c41cef9fe",
        "part": "whole"
       },
       "id": "f2b3a42e-5bdf-4a06-8c05-1beda7edfaa0"
      }
     }
    },
    "c0920c1a-0fa2-4c30-8e10-50b9d59f1bf1": {
     "id": "c0920c1a-0fa2-4c30-8e10-50b9d59f1bf1",
     "prev": "31bdc129-3bbe-4888-9aea-b015cd7064de",
     "regions": {
      "8087c71b-1fba-456f-b93f-a634f3c72524": {
       "attrs": {
        "height": 0.96,
        "width": 0.96,
        "x": 0.02,
        "y": 0.02
       },
       "content": {
        "cell": "4d370a97-121b-498c-84bc-a73a3e88376d",
        "part": "whole"
       },
       "id": "8087c71b-1fba-456f-b93f-a634f3c72524"
      }
     }
    },
    "c70d0e56-ef7c-4722-92de-884313e9dfea": {
     "id": "c70d0e56-ef7c-4722-92de-884313e9dfea",
     "prev": "58d7b7ce-6a92-47bc-aec4-edd205cc312b",
     "regions": {
      "6908810b-1796-4aea-9c24-e5438408bcf4": {
       "attrs": {
        "height": 0.96,
        "width": 0.96,
        "x": 0.02,
        "y": 0.02
       },
       "content": {
        "cell": "9e78874b-c719-46c0-9396-612a230a1607",
        "part": "whole"
       },
       "id": "6908810b-1796-4aea-9c24-e5438408bcf4"
      }
     }
    },
    "c84238ba-6b24-4411-91e1-c24d9c798949": {
     "id": "c84238ba-6b24-4411-91e1-c24d9c798949",
     "prev": "91577f36-24ee-47f8-bcce-eddf4a85d853",
     "regions": {
      "30ca73ee-7164-4baf-988d-4cd12ebf80cd": {
       "attrs": {
        "height": 0.96,
        "width": 0.96,
        "x": 0.02,
        "y": 0.02
       },
       "content": {
        "cell": "6f7e6afd-1a2f-4298-a320-d8f92d5412f5",
        "part": "whole"
       },
       "id": "30ca73ee-7164-4baf-988d-4cd12ebf80cd"
      }
     }
    },
    "d7814ac9-d35d-47e9-8245-86cfc6735f11": {
     "id": "d7814ac9-d35d-47e9-8245-86cfc6735f11",
     "prev": "c84238ba-6b24-4411-91e1-c24d9c798949",
     "regions": {
      "bf621c52-89f9-4313-85db-385e692e3633": {
       "attrs": {
        "height": 0.96,
        "width": 0.96,
        "x": 0.02,
        "y": 0.02
       },
       "content": {
        "cell": "1239caab-4ef3-4798-b35f-8922c9f664d7",
        "part": "whole"
       },
       "id": "bf621c52-89f9-4313-85db-385e692e3633"
      }
     }
    },
    "d8b27f85-cfe3-44de-91da-190edfcdf42a": {
     "id": "d8b27f85-cfe3-44de-91da-190edfcdf42a",
     "prev": "de93e335-ff2b-4d4c-9e3a-ae94858792ae",
     "regions": {
      "fd45028e-5f1b-4c14-a13c-e17bb133e1ae": {
       "attrs": {
        "height": 0.96,
        "width": 0.96,
        "x": 0.02,
        "y": 0.02
       },
       "content": {
        "cell": "0e4e71e4-9fa9-4aa2-9d55-3b42f833b22c",
        "part": "whole"
       },
       "id": "fd45028e-5f1b-4c14-a13c-e17bb133e1ae"
      }
     }
    },
    "de93e335-ff2b-4d4c-9e3a-ae94858792ae": {
     "id": "de93e335-ff2b-4d4c-9e3a-ae94858792ae",
     "prev": "64fbc200-979f-46c1-9815-156f370a5992",
     "regions": {
      "36efb1a2-2be3-4355-8d2e-3df07524ba5f": {
       "attrs": {
        "height": 0.96,
        "width": 0.96,
        "x": 0.02,
        "y": 0.02
       },
       "content": {
        "cell": "1f4a0baa-9613-4959-b90e-0872a3861453",
        "part": "whole"
       },
       "id": "36efb1a2-2be3-4355-8d2e-3df07524ba5f"
      }
     }
    },
    "df698b8e-9e95-420a-ae25-6fc79c3ef7c2": {
     "id": "df698b8e-9e95-420a-ae25-6fc79c3ef7c2",
     "prev": "a4a178a8-2e7d-4026-aaaf-d52629f176d5",
     "regions": {
      "9cd7094b-4ec1-417d-ab01-c82d39db816f": {
       "attrs": {
        "height": 0.96,
        "width": 0.96,
        "x": 0.02,
        "y": 0.02
       },
       "content": {
        "cell": "c09d687e-c065-4f84-8378-81e1b06c3e72",
        "part": "whole"
       },
       "id": "9cd7094b-4ec1-417d-ab01-c82d39db816f"
      }
     }
    },
    "e20815d8-515a-4494-ad4f-411807ed2b78": {
     "id": "e20815d8-515a-4494-ad4f-411807ed2b78",
     "prev": "1326920c-5c05-44c5-a3bf-48a0cb317e21",
     "regions": {
      "1923adf0-4d66-4d2d-a216-82ec99999973": {
       "attrs": {
        "height": 0.96,
        "width": 0.96,
        "x": 0.02,
        "y": 0.02
       },
       "content": {
        "cell": "0a6994bd-2288-4fa2-a139-57db3b1cfabf",
        "part": "whole"
       },
       "id": "1923adf0-4d66-4d2d-a216-82ec99999973"
      }
     }
    },
    "e552f3ef-85a9-48b1-8f58-142e6acf33fe": {
     "id": "e552f3ef-85a9-48b1-8f58-142e6acf33fe",
     "prev": "54733df7-024a-4c02-97ef-46e310890bda",
     "regions": {
      "8559c8ae-a7f4-457b-bed9-7a7531fb1eaf": {
       "attrs": {
        "height": 0.96,
        "width": 0.96,
        "x": 0.02,
        "y": 0.02
       },
       "content": {
        "cell": "473df24e-4cc8-4854-a6a5-b143fc785253",
        "part": "whole"
       },
       "id": "8559c8ae-a7f4-457b-bed9-7a7531fb1eaf"
      }
     }
    },
    "f471b5dd-1375-47dc-ab64-c5f977ffcfbd": {
     "id": "f471b5dd-1375-47dc-ab64-c5f977ffcfbd",
     "prev": null,
     "regions": {
      "ce549905-ae3b-4bfd-9f5d-beb1eddc84f3": {
       "attrs": {
        "height": 0.96,
        "width": 0.96,
        "x": 0.02,
        "y": 0.02
       },
       "content": {
        "cell": "2d886be1-e870-4008-9afc-a9ff7af4f3e2",
        "part": "whole"
       },
       "id": "ce549905-ae3b-4bfd-9f5d-beb1eddc84f3"
      }
     }
    },
    "fa9347b6-2b5a-4001-9d85-6e173445b443": {
     "id": "fa9347b6-2b5a-4001-9d85-6e173445b443",
     "prev": "df698b8e-9e95-420a-ae25-6fc79c3ef7c2",
     "regions": {
      "cb2e4f1e-c4f6-4221-a2af-62ddd1573e81": {
       "attrs": {
        "height": 0.96,
        "width": 0.96,
        "x": 0.02,
        "y": 0.02
       },
       "content": {
        "cell": "5db91a40-1843-487c-90d7-cddcf4c9a127",
        "part": "whole"
       },
       "id": "cb2e4f1e-c4f6-4221-a2af-62ddd1573e81"
      }
     }
    }
   },
   "themes": {
    "default": "51b5dcb7-1154-4f31-9ba8-3330e8bd60ef",
    "theme": {
     "51b5dcb7-1154-4f31-9ba8-3330e8bd60ef": {
      "backgrounds": {
       "my-background": {
        "background-color": "white"
       }
      },
      "id": "51b5dcb7-1154-4f31-9ba8-3330e8bd60ef",
      "palette": {
       "black": {
        "id": "black",
        "rgb": [
         0,
         0,
         0
        ]
       },
       "blue": {
        "id": "blue",
        "rgb": [
         0,
         153,
         204
        ]
       },
       "gray": {
        "id": "gray",
        "rgb": [
         128,
         128,
         128
        ]
       },
       "red": {
        "id": "red",
        "rgb": [
         240,
         32,
         32
        ]
       },
       "white": {
        "id": "white",
        "rgb": [
         255,
         255,
         255
        ]
       }
      },
      "rules": {
       "code": {
        "font-size": 1.6
       },
       "h1": {
        "color": "blue",
        "font-size": 5.5,
        "text-align": "center"
       },
       "h2": {
        "color": "blue",
        "font-size": 3,
        "text-align": "center"
       },
       "h3": {
        "color": "black",
        "font-size": 3
       },
       "pre": {
        "font-size": 1.6
       },
       "ul li": {
        "color": "black",
        "font-size": 2.5
       },
       "ul li ul li": {
        "color": "black",
        "font-size": 2
       }
      },
      "text-base": {
       "font-family": "Georgia",
       "font-size": 2.5
      }
     }
    }
   }
  }
 },
 "nbformat": 4,
 "nbformat_minor": 1
}
