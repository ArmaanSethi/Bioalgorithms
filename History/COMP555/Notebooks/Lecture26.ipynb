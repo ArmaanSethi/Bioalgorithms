{
 "cells": [
  {
   "cell_type": "code",
   "execution_count": 16,
   "metadata": {
    "nbpresent": {
     "id": "0af2d0d8-8964-46df-acc4-606552b6090c"
    }
   },
   "outputs": [
    {
     "data": {
      "application/javascript": [
       "var width = window.innerWidth || document.documentElement.clientWidth || document.body.clientWidth;\n",
       "var height = window.innerHeight || document.documentElement.clientHeight || document.body.clientHeight;\n",
       "\n",
       "IPython.notebook.kernel.execute(\"windowSize = (\" + width + \",\" + height + \")\");\n",
       "// suitable for small screens\n",
       "nbpresent.mode.tree.set(\n",
       "    [\"app\", \"theme-manager\", \"themes\", \"my-theme\"], \n",
       "    {\n",
       "    palette: {\n",
       "        \"blue\": { id: \"blue\", rgb: [0, 153, 204] },\n",
       "        \"black\": { id: \"black\", rgb: [0, 0, 0] },\n",
       "        \"white\": { id: \"white\", rgb: [255, 255, 255] },\n",
       "        \"red\": { id: \"red\", rgb: [240, 32, 32] },\n",
       "        \"gray\": { id: \"gray\", rgb: [128, 128, 128] },\n",
       "    },\n",
       "    backgrounds: {\n",
       "        \"my-background\": {\n",
       "            \"background-color\": \"white\"\n",
       "        }\n",
       "    },\n",
       "    \"text-base\": {\n",
       "        \"font-family\": \"Georgia\",\n",
       "        \"font-size\": 2.5\n",
       "    },\n",
       "    rules: {\n",
       "        h1: {\n",
       "            \"font-size\": 5.5,\n",
       "            color: \"blue\",\n",
       "            \"text-align\": \"center\"\n",
       "        },\n",
       "        h2: {\n",
       "            \"font-size\": 3,\n",
       "            color: \"blue\",\n",
       "            \"text-align\": \"center\"\n",
       "        },\n",
       "        h3: {\n",
       "            \"font-size\": 3,\n",
       "            color: \"black\",\n",
       "        },\n",
       "        \"ul li\": {\n",
       "            \"font-size\": 2.5,\n",
       "            color: \"black\"\n",
       "        },\n",
       "        \"ul li ul li\": {\n",
       "            \"font-size\": 2.0,\n",
       "            color: \"black\"\n",
       "        },\n",
       "        \"code\": {\n",
       "            \"font-size\": 1.6,\n",
       "        },\n",
       "        \"pre\": {\n",
       "            \"font-size\": 1.6,\n",
       "        }\n",
       "    }\n",
       "});"
      ],
      "text/plain": [
       "<IPython.core.display.Javascript object>"
      ]
     },
     "metadata": {},
     "output_type": "display_data"
    }
   ],
   "source": [
    "%%javascript\n",
    "var width = window.innerWidth || document.documentElement.clientWidth || document.body.clientWidth;\n",
    "var height = window.innerHeight || document.documentElement.clientHeight || document.body.clientHeight;\n",
    "\n",
    "IPython.notebook.kernel.execute(\"windowSize = (\" + width + \",\" + height + \")\");\n",
    "// suitable for small screens\n",
    "nbpresent.mode.tree.set(\n",
    "    [\"app\", \"theme-manager\", \"themes\", \"my-theme\"], \n",
    "    {\n",
    "    palette: {\n",
    "        \"blue\": { id: \"blue\", rgb: [0, 153, 204] },\n",
    "        \"black\": { id: \"black\", rgb: [0, 0, 0] },\n",
    "        \"white\": { id: \"white\", rgb: [255, 255, 255] },\n",
    "        \"red\": { id: \"red\", rgb: [240, 32, 32] },\n",
    "        \"gray\": { id: \"gray\", rgb: [128, 128, 128] },\n",
    "    },\n",
    "    backgrounds: {\n",
    "        \"my-background\": {\n",
    "            \"background-color\": \"white\"\n",
    "        }\n",
    "    },\n",
    "    \"text-base\": {\n",
    "        \"font-family\": \"Georgia\",\n",
    "        \"font-size\": 2.5\n",
    "    },\n",
    "    rules: {\n",
    "        h1: {\n",
    "            \"font-size\": 5.5,\n",
    "            color: \"blue\",\n",
    "            \"text-align\": \"center\"\n",
    "        },\n",
    "        h2: {\n",
    "            \"font-size\": 3,\n",
    "            color: \"blue\",\n",
    "            \"text-align\": \"center\"\n",
    "        },\n",
    "        h3: {\n",
    "            \"font-size\": 3,\n",
    "            color: \"black\",\n",
    "        },\n",
    "        \"ul li\": {\n",
    "            \"font-size\": 2.5,\n",
    "            color: \"black\"\n",
    "        },\n",
    "        \"ul li ul li\": {\n",
    "            \"font-size\": 2.0,\n",
    "            color: \"black\"\n",
    "        },\n",
    "        \"code\": {\n",
    "            \"font-size\": 1.6,\n",
    "        },\n",
    "        \"pre\": {\n",
    "            \"font-size\": 1.6,\n",
    "        }\n",
    "    }\n",
    "});"
   ]
  },
  {
   "cell_type": "markdown",
   "metadata": {
    "nbpresent": {
     "id": "538d5959-7afd-4651-9fce-777afa13cf5d"
    },
    "slideshow": {
     "slide_type": "slide"
    }
   },
   "source": [
    "# Randomized Algorithms\n",
    "\n",
    "<img src=\"http://csbio.unc.edu/mcmillan/Comp555S18/Media/final-exams-studying.png\" width=\"600px\" class=\"centerImg\">\n",
    "\n",
    "\n",
    "<p style=\"text-align: right; clear: right;\">1</p>"
   ]
  },
  {
   "cell_type": "markdown",
   "metadata": {
    "nbpresent": {
     "id": "cdc4f8ce-a5d6-4204-9d2b-71e032851831"
    },
    "slideshow": {
     "slide_type": "slide"
    }
   },
   "source": [
    "# Motif  finding using a Profile\n",
    "\n",
    "* Profile is generated by *some* consensus\n",
    "* Use to find the best match of motif in each sequence\n",
    "* These matches suggest a new consensus\n",
    "\n",
    "<img src=\"http://csbio.unc.edu/mcmillan/Comp555S18/Media/ProfileNewConsensus.png\" width=\"500px\" class=\"centerImg\">\n",
    "\n",
    "<span style=\"color: red;\">Reds</span> are probabilities that increase, and <span style=\"color: blue;\">Blues</span> decrease.\n",
    "\n",
    "<p style=\"text-align: right; clear: right;\">2</p>"
   ]
  },
  {
   "cell_type": "code",
   "execution_count": 3,
   "metadata": {},
   "outputs": [],
   "source": [
    "import random\n",
    "from operator import mul\n",
    "\n",
    "def Profile(DNA, offset, k):\n",
    "    profile = []\n",
    "    t = len(DNA)\n",
    "    for i in xrange(k):\n",
    "        counts = {base : 0.01 for base in \"ACGT\"}\n",
    "        for j in xrange(t):\n",
    "            counts[DNA[j][offset[j]+i]] += 0.96 / t\n",
    "        profile.append(counts)\n",
    "    return profile\n",
    "\n",
    "def Score(DNA, P):\n",
    "    offset = []\n",
    "    k = len(P)\n",
    "    for j in xrange(len(DNA)):\n",
    "        pBest, iBest = 0.0, -1\n",
    "        for i in xrange(len(DNA[j])-k+1): \n",
    "            p = reduce(mul, [P[l][DNA[j][i+l]] for l in xrange(k)], 1.0)\n",
    "            if (p > pBest):\n",
    "                pBest, iBest = p, i\n",
    "        offset.append(iBest)\n",
    "    return offset\n",
    "\n",
    "def GreedyProfileMotifSearch(DNA, k):\n",
    "    s = []\n",
    "    newS = [random.randint(0,len(DNA[i])-k) for i in xrange(len(DNA))]\n",
    "    while newS != s:\n",
    "        s = [i for i in newS]\n",
    "        P = Profile(DNA, s, k)\n",
    "        newS = Score(DNA, P)\n",
    "    return newS"
   ]
  },
  {
   "cell_type": "markdown",
   "metadata": {
    "nbpresent": {
     "id": "d71153aa-edc6-4daf-bf4f-21aab0123116"
    },
    "slideshow": {
     "slide_type": "slide"
    }
   },
   "source": [
    "# GreedyProfileMotifSearch Algorithm\n",
    "\n",
    "```python\n",
    "import random\n",
    "\n",
    "def GreedyProfileMotifSearch(DNA, k):\n",
    "    s = [-1 for i in xrange(len(DNA))]\n",
    "    newS = [random.randint(0,len(DNA[i])-k) for i in xrange(len(DNA))]\n",
    "    while newS != s:\n",
    "        s = [i for i in newS]\n",
    "        P = Profile(DNA, s, k)\n",
    "        newS = Score(DNA, P)\n",
    "    return newS\n",
    "```\n",
    "\n",
    "\n",
    "<p style=\"text-align: right; clear: left;\">3</p>"
   ]
  },
  {
   "cell_type": "markdown",
   "metadata": {
    "nbpresent": {
     "id": "58f6c89c-1abe-4e52-a695-84ff9eaa2aa2"
    },
    "slideshow": {
     "slide_type": "slide"
    }
   },
   "source": [
    "# Profile Code\n",
    "\n",
    "```python\n",
    "def Profile(DNA, offset, k):\n",
    "    profile = []\n",
    "    t = len(DNA)\n",
    "    for i in xrange(k):\n",
    "        counts = {base : 0.01 for base in \"ACGT\"}\n",
    "        for j in xrange(t):\n",
    "            counts[DNA[j][offset[j]+i]] += 0.96 / t\n",
    "        profile.append(counts)\n",
    "    return profile\n",
    "```\n",
    "\n",
    "<p style=\"text-align: right; clear: right;\">4</p>"
   ]
  },
  {
   "cell_type": "markdown",
   "metadata": {
    "nbpresent": {
     "id": "3421db94-9acf-46ef-a52a-7a5003458854"
    },
    "slideshow": {
     "slide_type": "slide"
    }
   },
   "source": [
    "# Score Code\n",
    "\n",
    "```python\n",
    "from operator import mul\n",
    "\n",
    "def Score(DNA, P):\n",
    "    offset = []\n",
    "    k = len(P)\n",
    "    for j in xrange(len(DNA)):\n",
    "        pBest, iBest = 0.0, -1\n",
    "        for i in xrange(len(DNA[j])-k+1): \n",
    "            p = reduce(mul, [P[l][DNA[j][i+l]] for l in xrange(k)], 1.0)\n",
    "            if (p > pBest):\n",
    "                pBest, iBest = p, i\n",
    "        offset.append(iBest)\n",
    "    return offset\n",
    "```\n",
    "\n",
    "<p style=\"text-align: right; clear: right;\">5</p>"
   ]
  },
  {
   "cell_type": "markdown",
   "metadata": {
    "nbpresent": {
     "id": "5f037260-9815-443e-aaf8-0bc5c344b934"
    },
    "slideshow": {
     "slide_type": "slide"
    }
   },
   "source": [
    "# Example Profile for [0,0,0,0,0,0,0,0]\n",
    "\n",
    "```python\n",
    "DNA = [\"CTATAAACGTTACATC\",\n",
    "       \"ATAGCGATTCGACTGA\",\n",
    "       \"CAGCCCAGAACCCTGG\",\n",
    "       \"CGGTGAACCTTACATC\",\n",
    "       \"TGCATTCAATAGCTTA\",\n",
    "       \"TGTCCTGTCCACTCAC\",\n",
    "       \"CTCCAAATCCTTTACA\",\n",
    "       \"GGTCTACCTTTATCCT\"]\n",
    "\n",
    "{'A': 0.13, 'C': 0.49, 'T': 0.25, 'G': 0.13},\n",
    "{'A': 0.13, 'C': 0.01, 'T': 0.37, 'G': 0.49},\n",
    "{'A': 0.25, 'C': 0.25, 'T': 0.25, 'G': 0.25},\n",
    "{'A': 0.13, 'C': 0.49, 'T': 0.25, 'G': 0.13},\n",
    "{'A': 0.25, 'C': 0.37, 'T': 0.25, 'G': 0.13},\n",
    "{'A': 0.49, 'C': 0.13, 'T': 0.25, 'G': 0.13}\n",
    "```\n",
    "\n",
    "<p style=\"text-align: right; clear: left;\">6</p>"
   ]
  },
  {
   "cell_type": "markdown",
   "metadata": {
    "nbpresent": {
     "id": "60ca4a53-4b88-4b4a-91cf-468589a05bb8"
    },
    "slideshow": {
     "slide_type": "slide"
    }
   },
   "source": [
    "# Testing GreedyProfileMotifSearch"
   ]
  },
  {
   "cell_type": "code",
   "execution_count": 20,
   "metadata": {
    "nbpresent": {
     "id": "4c926412-2d60-406e-a14c-2e60e237a56a"
    },
    "slideshow": {
     "slide_type": "fragment"
    }
   },
   "outputs": [
    {
     "name": "stdout",
     "output_type": "stream",
     "text": [
      "[1, 6, 3, 10, 4, 7, 1, 8]\n",
      "TTCAAA 0.025390493905\n",
      "cTATAAAcgttacatc\n",
      "atagcgATTCGActga\n",
      "cagCCCAGAaccctgg\n",
      "cggtgaacctTACATC\n",
      "tgcaTTCAATagctta\n",
      "tgtcctgTCCACTcac\n",
      "cTCCAAAtcctttaca\n",
      "ggtctaccTTTATCct\n"
     ]
    }
   ],
   "source": [
    "# Try running it a few times\n",
    "\n",
    "DNA = [\"CTATAAACGTTACATC\",\n",
    "       \"ATAGCGATTCGACTGA\",\n",
    "       \"CAGCCCAGAACCCTGG\",\n",
    "       \"CGGTGAACCTTACATC\",\n",
    "       \"TGCATTCAATAGCTTA\",\n",
    "       \"TGTCCTGTCCACTCAC\",\n",
    "       \"CTCCAAATCCTTTACA\",\n",
    "       \"GGTCTACCTTTATCCT\"]\n",
    "\n",
    "k = 6\n",
    "offsets = GreedyProfileMotifSearch(DNA, k)\n",
    "\n",
    "P = Profile(DNA, offsets, k)\n",
    "print offsets\n",
    "print ''.join([b for p, b in [max([(v, b) for b, v in row.iteritems()]) for row in P]]),\n",
    "print reduce(mul, [p for p, b in [max([(v, b) for b, v in row.iteritems()]) for row in P]], 1.0)\n",
    "for i, j in enumerate(offsets):\n",
    "    print DNA[i][:j].lower()+DNA[i][j:j+k]+DNA[i][j+k:].lower()"
   ]
  },
  {
   "cell_type": "markdown",
   "metadata": {
    "nbpresent": {
     "id": "9d6e7199-e0e6-4bb1-81ff-c1b7fd73ff83"
    },
    "slideshow": {
     "slide_type": "fragment"
    }
   },
   "source": [
    "<p style=\"text-align: right; clear: right;\">7</p>"
   ]
  },
  {
   "cell_type": "markdown",
   "metadata": {
    "nbpresent": {
     "id": "de4e77f2-a1fa-4489-9dfd-8d36ab1dd295"
    },
    "slideshow": {
     "slide_type": "slide"
    }
   },
   "source": [
    "# *GreedyProfileMotifSearch( )* Analysis\n",
    "\n",
    "<img src=\"http://csbio.unc.edu/mcmillan/Comp555S18/Media/Randomized.png\" width=\"200px\" style=\"float: right; clear: right; margin: 0px 40px;\">\n",
    "* Since we choose starting positions randomly, there is little chance that our guess will be close to an optimal motif, meaning it will take a very long time to find the optimal motif.\n",
    "* It is unlikely that the random starting positions will lead us to the correct solution at all.\n",
    "* In practice, such an algorithm would be run many times with the hope that *some* random starting positions will be close to the optimum solution simply by chance.\n",
    "\n",
    "\n",
    "<p style=\"text-align: right; clear: right;\">8</p>"
   ]
  },
  {
   "cell_type": "markdown",
   "metadata": {
    "collapsed": true,
    "nbpresent": {
     "id": "23e7bd20-05cf-4f9b-a51c-9435e814057a"
    },
    "slideshow": {
     "slide_type": "slide"
    }
   },
   "source": [
    "# Gibbs Sampling\n",
    "\n",
    "<figure style=\"float: right; clear: right; margin: 0px 40px;\">\n",
    "<img src=\"http://csbio.unc.edu/mcmillan/Comp555S18/Media/JWGibbs.jpg\" width=\"200px\">\n",
    "<figcaption style=\"text-align: center;\">Josiah W Gibbs</figcaption>\n",
    "</figure>\n",
    "* GreedyProfileMotifSearch is probably not the best way to find motifs.\n",
    "* However, we can improve the algorithm by introducing Gibbs Sampling, an iterative procedure that discards one k-mer after each iteration and replaces it with a totally new one.\n",
    "* Gibbs Sampling proceeds more slowly and chooses new k-mers at random increasing the odds that it will converge to the correct solution.\n",
    "\n",
    "<p style=\"text-align: right; clear: right;\">9</p>"
   ]
  },
  {
   "cell_type": "markdown",
   "metadata": {
    "nbpresent": {
     "id": "d8c3bc8c-4af6-4f43-afbf-56de0b3d33e9"
    },
    "slideshow": {
     "slide_type": "slide"
    }
   },
   "source": [
    "# How Gibbs Sampling Works\n",
    "\n",
    "1. Randomly choose starting positions $\\overline{s} = (s_1,...,s_t)$ and form the set of k-mers associated with these starting positions.\n",
    "2. Randomly choose one of the t sequences.\n",
    "3. Create a profile P from the other t -1 sequences.\n",
    "4. For each position in the removed sequence, calculate the probability that the k-mer starting at that position was generated by P.\n",
    "5. Choose a new starting position for the removed sequence at random based on the probabilities calculated in step 4.\n",
    "6. Repeat steps 2-5 until there is no improvement\n",
    "\n",
    "<p style=\"text-align: right; clear: right;\">10</p>"
   ]
  },
  {
   "cell_type": "markdown",
   "metadata": {
    "nbpresent": {
     "id": "c85cd3e9-c71a-4cb2-86f2-b50a3540c2e0"
    },
    "slideshow": {
     "slide_type": "slide"
    }
   },
   "source": [
    "# Gibbs Sampling: an Example\n",
    "\n",
    "Input: *t* = 5 sequences, motif length, *l* = 8\n",
    "\n",
    "\t\t\t1.  GTAAACAATATTTATAGC\n",
    "\t\t\t2.  AAAATTTACCTCGCAAGG\n",
    "\t\t\t3.  CCGTACTGTCAAGCGTGG\n",
    "\t\t\t4.  TGAGTAAACGACGTCCCA\n",
    "\t\t\t5.  TACTTAACACCCTGTCAA\n",
    "\n",
    "<p style=\"text-align: right; clear: right;\">11</p>"
   ]
  },
  {
   "cell_type": "markdown",
   "metadata": {
    "nbpresent": {
     "id": "9aa56520-c165-4aa8-af0d-ce66deb1b8bd"
    },
    "slideshow": {
     "slide_type": "slide"
    }
   },
   "source": [
    "# Gibbs Sampling: an Example\n",
    "\n",
    "1)  Randomly choose starting positions, $\\overline{s} = (s_1,s_2,s_3,s_4,s_5)$ in the 5 sequences: \n",
    "\n",
    "<pre>\n",
    "\ts<sub>1</sub>=6    GTAAAC<span style=\"color: red;\">AATATTTA</span>TAGC\n",
    "\ts<sub>2</sub>=10   AAAATTTACC<span style=\"color: red;\">TTAGAAGG</span>\n",
    "\ts<sub>3</sub>=8    CCGTACTG<span style=\"color: red;\">TCAAGCGT</span>GG\n",
    "\ts<sub>4</sub>=3    TGA<span style=\"color: red;\">GTAAACGA</span>CGTCCCA\n",
    "\ts<sub>5</sub>=0    <span style=\"color: red;\">TACTTAAC</span>ACCCTGTCAA\n",
    "</pre>\n",
    "\n",
    "<p style=\"text-align: right; clear: right;\">12</p>"
   ]
  },
  {
   "cell_type": "markdown",
   "metadata": {
    "nbpresent": {
     "id": "a61e6612-a34e-4af2-8da5-311d2939bd61"
    },
    "slideshow": {
     "slide_type": "slide"
    }
   },
   "source": [
    "# Gibbs Sampling: an Example\n",
    "\n",
    "2) Choose one of the sequences at random: ex. Sequence 2\n",
    "\n",
    "<pre>\n",
    "\ts<sub>1</sub>=6    GTAAAC<span style=\"color: red;\">AATATTTA</span>TAGC\n",
    "\ts<sub>2</sub>=10   <b>AAAATTTACC<span style=\"color: red;\">TTAGAAGG</span></b>\n",
    "\ts<sub>3</sub>=8    CCGTACTG<span style=\"color: red;\">TCAAGCGT</span>GG\n",
    "\ts<sub>4</sub>=3    TGA<span style=\"color: red;\">GTAAACGA</span>CGTCCCA\n",
    "\ts<sub>5</sub>=0    <span style=\"color: red;\">TACTTAAC</span>ACCCTGTCAA\n",
    "</pre>\n",
    "\n",
    "\n",
    "<p style=\"text-align: right; clear: right;\">13</p>"
   ]
  },
  {
   "cell_type": "markdown",
   "metadata": {
    "nbpresent": {
     "id": "48dbeec5-9713-47cb-a05f-c63cc12e07e3"
    },
    "slideshow": {
     "slide_type": "slide"
    }
   },
   "source": [
    "# Gibbs Sampling: an Example\n",
    "\n",
    "<figure style=\"float: right; clear: right; margin-right: 80px;\">\n",
    "<img src=\"http://csbio.unc.edu/mcmillan/Comp555S18/Media/GibbsProfile.png\" width=\"300px\">\n",
    "<figcaption style=\"text-align: center;\">Profile Matrix for sequences 1,3,4, and 5</figcaption>\n",
    "</figure>\n",
    "3) Remove it and create a profile from the remaining sequences\n",
    "\n",
    "<pre>\n",
    "\ts<sub>1</sub>=6    GTAAAC<span style=\"color: red;\">AATATTTA</span>TAGC\n",
    "\n",
    "\ts<sub>3</sub>=8    CCGTACTG<span style=\"color: red;\">TCAAGCGT</span>GG\n",
    "\ts<sub>4</sub>=3    TGA<span style=\"color: red;\">GTAAACGA</span>CGTCCCA\n",
    "\ts<sub>5</sub>=0    <span style=\"color: red;\">TACTTAAC</span>ACCCTGTCAA\n",
    "</pre>\n",
    "\n",
    "\n",
    "<p style=\"text-align: right; clear: right;\">14</p>"
   ]
  },
  {
   "cell_type": "markdown",
   "metadata": {
    "nbpresent": {
     "id": "663e515f-e75a-49f9-95eb-5874c59f19ac"
    },
    "slideshow": {
     "slide_type": "slide"
    }
   },
   "source": [
    "# Gibbs Sampling: an Example\n",
    "\n",
    "<figure style=\"float: right; clear: right; margin-top: 100px; margin-right: 80px;\">\n",
    "<img src=\"http://csbio.unc.edu/mcmillan/Comp555S18/Media/GibbsProfile.png\" width=\"300px\">\n",
    "<figcaption style=\"text-align: center;\">Profile Matrix for sequences 1,3,4, and 5</figcaption>\n",
    "</figure>\n",
    "4) Calculate the $prob(a|P)$ for every possible k-mer in the removed sequence:\t\n",
    "   \n",
    "| k-mer highligted in red  | p       |\n",
    "|:------------------:|--------:|\n",
    "| <span style=\"color: red;\">AAAATTTA</span>CCTTAGAAGG | .000732 |\n",
    "| A<span style=\"color: red;\">AAATTTAC</span>CTTAGAAGG | .000122 |\n",
    "| AA<span style=\"color: red;\">AATTTACC</span>TTAGAAGG | 0       |\n",
    "| AAA<span style=\"color: red;\">ATTTACCT</span>TAGAAGG | 0       |\n",
    "| AAAA<span style=\"color: red;\">TTTACCTT</span>AGAAGG | 0       |\n",
    "| AAAAT<span style=\"color: red;\">TTACCTTA</span>GAAGG | 0       |\n",
    "| AAAATT<span style=\"color: red;\">TACCTTAG</span>AAGG | 0       |\n",
    "| AAAATTT<span style=\"color: red;\">ACCTTAGA</span>AGG | .000183 |\n",
    "| AAAATTTA<span style=\"color: red;\">CCTTAGAA</span>GG | 0       |\n",
    "| AAAATTTAC<span style=\"color: red;\">CTTAGAAG</span>G | 0       |\n",
    "| AAAATTTACC<span style=\"color: red;\">TTAGAAGG</span> | 0       |\n",
    "\n",
    "<p style=\"text-align: right; clear: right;\">15</p>"
   ]
  },
  {
   "cell_type": "markdown",
   "metadata": {
    "nbpresent": {
     "id": "2d86cc83-1560-48a3-9e3d-f8a5ac277e0c"
    },
    "slideshow": {
     "slide_type": "slide"
    }
   },
   "source": [
    "# Gibbs Sampling: an Example\n",
    "\n",
    "5)  Create a distribution of probabilities of k-mers $prob(a|P)$, and randomly select a new starting position based on this distribution.\n",
    "\n",
    "To create this distribution, divide each probability $prob(a|P)$ by the total of all probabilities:\n",
    "\n",
    "* Starting Position 1:  $prob( AAAATTTA | P ) =  .000732/(.000732+.000122+.000183) = .706$<br>\n",
    "* Starting Position 2:  $prob( AAATTTAC | P ) =  .000122/(.000732+.000122+.000183) = .118$<br>\n",
    "* Starting Position 8:  $prob( ACCTTAGA | P ) =  .000183/(.000732+.000122+.000183) = .176$\n",
    "\n",
    "<p style=\"text-align: right; clear: right;\">16</p>"
   ]
  },
  {
   "cell_type": "markdown",
   "metadata": {
    "nbpresent": {
     "id": "32faebcf-0c54-41a2-8c9c-5675eff7bbed"
    },
    "slideshow": {
     "slide_type": "slide"
    }
   },
   "source": [
    "# Gibbs Sampling: an Example\n",
    "\n",
    "```python\n",
    "import random\n",
    "\n",
    "def sample(cdf):\n",
    "    t = random.random()\n",
    "    for i in xrange(len(cdf)):\n",
    "        if (t < cdf[i]):\n",
    "            break\n",
    "    return i\n",
    "\n",
    "p = [0.000732, 0.000122, 0.0, 0.0, 0.0, 0.0, 0.0, 0.000183, 0.0, 0.0, 0.0]\n",
    "pdf = [v/sum(p) for v in p]\n",
    "cdf = [sum(pdf[:i]) for i in xrange(1,len(pdf))]\n",
    "```\n",
    "<p style=\"text-align: right; clear: right;\">17</p>"
   ]
  },
  {
   "cell_type": "code",
   "execution_count": 21,
   "metadata": {},
   "outputs": [
    {
     "name": "stdout",
     "output_type": "stream",
     "text": [
      "[0.7058823529411764, 0.1176470588235294, 0.0, 0.0, 0.0, 0.0, 0.0, 0.1764705882352941, 0.0, 0.0, 0.0]\n",
      "[0.7058823529411764, 0.8235294117647058, 0.8235294117647058, 0.8235294117647058, 0.8235294117647058, 0.8235294117647058, 0.8235294117647058, 1.0, 1.0, 1.0]\n",
      "0 7 0 0 0 1 7 0 0 1 7 0 0 0 0 0 0 7 0 1 0 0 0 7 0 7 0 0 0 7\n"
     ]
    }
   ],
   "source": [
    "import random\n",
    "\n",
    "def sample(cdf):\n",
    "    t = random.random()\n",
    "    for i in xrange(len(cdf)):\n",
    "        if (t < cdf[i]):\n",
    "            break\n",
    "    return i\n",
    "\n",
    "p = [0.000732, 0.000122, 0.0, 0.0, 0.0, 0.0, 0.0, 0.000183, 0.0, 0.0, 0.0]\n",
    "pdf = [v/sum(p) for v in p]\n",
    "print pdf\n",
    "cdf = [sum(pdf[:i]) for i in xrange(1,len(pdf))]\n",
    "print t\n",
    "\n",
    "for i in xrange(30):\n",
    "    print sample(cdf),"
   ]
  },
  {
   "cell_type": "markdown",
   "metadata": {
    "nbpresent": {
     "id": "3df605a0-7299-4755-9a75-e0472f9ac29d"
    },
    "slideshow": {
     "slide_type": "slide"
    }
   },
   "source": [
    "# Gibbs Sampling: an Example\n",
    "\n",
    "Assume we select the substring with the highest probability – then we are left with the following new substrings and starting positions.\n",
    "\n",
    "<pre>\n",
    "\ts<sub>1</sub>=6    GTAAAC<span style=\"color: red;\">AATATTTA</span>TAGC\n",
    "\ts<sub>2</sub>=0    <span style=\"color: red;\">AAAATTTA</span>CCTTAGAAGG\n",
    "\ts<sub>3</sub>=8    CCGTACTG<span style=\"color: red;\">TCAAGCGT</span>GG\n",
    "\ts<sub>4</sub>=3    TGA<span style=\"color: red;\">GTAAACGA</span>CGTCCCA\n",
    "\ts<sub>5</sub>=0    <span style=\"color: red;\">TACTTAAC</span>ACCCTGTCAA\n",
    "</pre>\n",
    "\n",
    "6) We then repeat the procedure with the above starting positions until we cannot improve the score any more.\n",
    "\n",
    "<p style=\"text-align: right; clear: right;\">18</p>"
   ]
  },
  {
   "cell_type": "markdown",
   "metadata": {
    "nbpresent": {
     "id": "c508b08c-959a-4fe9-9dbf-33c3df9f5930"
    },
    "slideshow": {
     "slide_type": "slide"
    }
   },
   "source": [
    "# Gibbs Sampler in Practice\n",
    "\n",
    "* Gibbs sampling needs to be modified when applied to samples with biased distributions of nucleotides (relative entropy approach). \n",
    "* Gibbs sampling often converges to a locally optimal motif rather than to the globally optimal motif.\n",
    "* Should be run with many randomly chosen seeds to achieve good results. \n",
    "\n",
    "<p style=\"text-align: right; clear: right;\">19</p>"
   ]
  },
  {
   "cell_type": "markdown",
   "metadata": {
    "nbpresent": {
     "id": "27227e70-5798-4552-9360-3502b7b6d5ff"
    },
    "slideshow": {
     "slide_type": "slide"
    }
   },
   "source": [
    "# Another Randomized Approach\n",
    "\n",
    "* A *Random Projection Algorithm* is a different way to solve the Motif Finding Problem.\n",
    "* Guiding principle: Instances of a motif agree at a subset of positions.\n",
    "* However, it is unclear how to find these “non-mutated” positions.\n",
    "* To bypass the effect of mutations within a motif, we randomly select a subset of positions in the pattern creating a projection of the pattern.  \n",
    "* Search for that projection in a hope that the selected positions are not affected by mutations in most instances of the motif.  \n",
    "\n",
    "<p style=\"text-align: right; clear: right;\">20</p>"
   ]
  },
  {
   "cell_type": "markdown",
   "metadata": {
    "nbpresent": {
     "id": "407fd438-a723-443a-821a-bae5f08afafa"
    },
    "slideshow": {
     "slide_type": "slide"
    }
   },
   "source": [
    "# Projections\n",
    "\n",
    "* Choose k positions in string of length l.\n",
    "* Concatenate nucleotides at chosen k positions to form k-tuple.\n",
    "* This can be viewed as a projection of l-dimensional space onto k-dimensional subspace.\n",
    "\n",
    "<p style=\"text-align: center;\">Projection = (1, 3, 4, 6, 10, 11, 12)</p>\n",
    "\n",
    "<p style=\"text-align: center;\"><span style=\"background-color: #ffff00;\">aTgGCaTtcaGATtc</span> &rarr; <span style=\"background-color: #00ffff;\">TGCTGAT</span></p>\n",
    "\n",
    "<p style=\"text-align: right; clear: right;\">21</p>"
   ]
  },
  {
   "cell_type": "markdown",
   "metadata": {
    "nbpresent": {
     "id": "908c789a-128a-47a6-8f62-2858531ed3d9"
    },
    "slideshow": {
     "slide_type": "slide"
    }
   },
   "source": [
    "# Random Projections Algorithm\n",
    "\n",
    "<img src=\"http://csbio.unc.edu/mcmillan/Comp555S18/Media/RandomProjections.png\" width=\"300px\" style=\"float: right; clear: right; margin: 0px 40px;\">\n",
    "* Select k out of l positions uniformly at random.\n",
    "\n",
    "* For each l-tuple in input sequences, hash into buckets based on the k selected positions.\n",
    "\n",
    "* Recover motif from enriched buckets that contain many l-tuples with at least one from each sequence.\n",
    "\n",
    "<p style=\"text-align: right; clear: right;\">22</p>"
   ]
  },
  {
   "cell_type": "markdown",
   "metadata": {
    "nbpresent": {
     "id": "39b23bca-f6c7-4b4d-9e21-ef2f36e7c3e2"
    },
    "slideshow": {
     "slide_type": "slide"
    }
   },
   "source": [
    "# Random Projections Algorithm finer points\n",
    "\n",
    "* Some projections will fail to detect motifs but if we try many of them the probability that one of the buckets fills increases. \n",
    "* In the example below, the bucket --GC-AC is “bad” while the bucket   AT--G-C is “good”\n",
    "\n",
    "<img src=\"http://csbio.unc.edu/mcmillan/Comp555S18/Media/ExampleProjections.png\" width=\"500px\" class=\"centerImg\">\n",
    "\n",
    "<p style=\"text-align: right; clear: right;\">23</p>"
   ]
  },
  {
   "cell_type": "markdown",
   "metadata": {
    "nbpresent": {
     "id": "bfcefb88-ad3c-4ffa-be70-e519c6710200"
    },
    "slideshow": {
     "slide_type": "slide"
    }
   },
   "source": [
    "# Combining Random Projection and Gibbs Sampling\n",
    "\n",
    "* Random Projection is a procedure for finding good starting points: every enriched bucket is a potential starting point. \n",
    "* Feeding these starting points into existing algorithms (like Gibbs sampler) provides good local search in vicinity of every starting point. \n",
    "* These algorithms work particularly well for “good” starting points. \n",
    "\n",
    "<p style=\"text-align: right; clear: right;\">24</p>"
   ]
  },
  {
   "cell_type": "markdown",
   "metadata": {
    "nbpresent": {
     "id": "4cdfda89-6841-4d00-8e17-cf6d23710173"
    },
    "slideshow": {
     "slide_type": "slide"
    }
   },
   "source": [
    "# It's over\n",
    "\n",
    "<img src=\"http://csbio.unc.edu/mcmillan/Comp555S18/Media/FatLadySings.png\" width=\"300px\" style=\"float: right; clear: right; margin: 0px 40px;\">\n",
    "* Final Next Friday, 5/4\n",
    "* 8:00am - 11:00am\n",
    "* This room: SN011\n",
    "      Open book, open notes,\n",
    "      Will covers material since midterm\n",
    "\n",
    "Study session? Monday Night?\n",
    "\n",
    "<p style=\"text-align: right; clear: right;\">25</p>"
   ]
  },
  {
   "cell_type": "code",
   "execution_count": null,
   "metadata": {},
   "outputs": [],
   "source": []
  }
 ],
 "metadata": {
  "anaconda-cloud": {},
  "celltoolbar": "Slideshow",
  "kernelspec": {
   "display_name": "Python 2",
   "language": "python",
   "name": "python2"
  },
  "language_info": {
   "codemirror_mode": {
    "name": "ipython",
    "version": 2
   },
   "file_extension": ".py",
   "mimetype": "text/x-python",
   "name": "python",
   "nbconvert_exporter": "python",
   "pygments_lexer": "ipython2",
   "version": "2.7.14"
  },
  "nbpresent": {
   "slides": {
    "0d11fa6b-63e4-429d-874a-c096285fe971": {
     "id": "0d11fa6b-63e4-429d-874a-c096285fe971",
     "prev": "f89fecec-7c0f-4584-970d-18d5df744eee",
     "regions": {
      "ada7c757-0693-4f47-8844-0a69007c225f": {
       "attrs": {
        "height": 0.96,
        "width": 0.96,
        "x": 0.02,
        "y": 0.02
       },
       "content": {
        "cell": "d8c3bc8c-4af6-4f43-afbf-56de0b3d33e9",
        "part": "whole"
       },
       "id": "ada7c757-0693-4f47-8844-0a69007c225f"
      }
     }
    },
    "109ffe97-690b-4a9c-a08a-b8d081ea4367": {
     "id": "109ffe97-690b-4a9c-a08a-b8d081ea4367",
     "prev": "59e61e1a-e2ce-4449-8423-b079c31bb623",
     "regions": {
      "405a9ad4-8314-4542-8a22-43753ad13f12": {
       "attrs": {
        "height": 0.96,
        "width": 0.96,
        "x": 0.02,
        "y": 0.02
       },
       "content": {
        "cell": "908c789a-128a-47a6-8f62-2858531ed3d9",
        "part": "whole"
       },
       "id": "405a9ad4-8314-4542-8a22-43753ad13f12"
      }
     }
    },
    "21baaeda-7a87-4644-b489-9156652cc767": {
     "id": "21baaeda-7a87-4644-b489-9156652cc767",
     "prev": null,
     "regions": {
      "f18362db-9cc9-4ab5-85e6-726a421c3082": {
       "attrs": {
        "height": 0.96,
        "width": 0.96,
        "x": 0.02,
        "y": 0.02
       },
       "content": {
        "cell": "538d5959-7afd-4651-9fce-777afa13cf5d",
        "part": "whole"
       },
       "id": "f18362db-9cc9-4ab5-85e6-726a421c3082"
      }
     }
    },
    "27185f3e-2a0f-4c1e-8ac9-2f8b72365bf1": {
     "id": "27185f3e-2a0f-4c1e-8ac9-2f8b72365bf1",
     "prev": "d161c9ac-ea5f-4a16-ad30-fac5da95b9d7",
     "regions": {
      "3aee5b0a-bcdc-4793-b4cc-8367bcd4a979": {
       "attrs": {
        "height": 0.96,
        "width": 0.96,
        "x": 0.02,
        "y": 0.02
       },
       "content": {
        "cell": "3421db94-9acf-46ef-a52a-7a5003458854",
        "part": "whole"
       },
       "id": "3aee5b0a-bcdc-4793-b4cc-8367bcd4a979"
      }
     }
    },
    "2a7de429-4e87-4991-bbae-2706c26d498c": {
     "id": "2a7de429-4e87-4991-bbae-2706c26d498c",
     "prev": "54fb52a8-2b72-4d61-a616-af4ddd0834ac",
     "regions": {
      "bb953d17-425c-488e-97bd-af4857896cd2": {
       "attrs": {
        "height": 0.96,
        "width": 0.96,
        "x": 0.02,
        "y": 0.02
       },
       "content": {
        "cell": "bfcefb88-ad3c-4ffa-be70-e519c6710200",
        "part": "whole"
       },
       "id": "bb953d17-425c-488e-97bd-af4857896cd2"
      }
     }
    },
    "3d9a2f93-6cfe-44ab-b528-8518313fb843": {
     "id": "3d9a2f93-6cfe-44ab-b528-8518313fb843",
     "prev": "bfa2688b-5d59-4cd5-8f83-4f9fd90185d1",
     "regions": {
      "d4087a0f-1e57-4715-8bfb-90a028106e19": {
       "attrs": {
        "height": 0.96,
        "width": 0.96,
        "x": 0.02,
        "y": 0.02
       },
       "content": {
        "cell": "663e515f-e75a-49f9-95eb-5874c59f19ac",
        "part": "whole"
       },
       "id": "d4087a0f-1e57-4715-8bfb-90a028106e19"
      }
     }
    },
    "43d6d6a5-e2b0-4128-a81e-fb40db259d76": {
     "id": "43d6d6a5-e2b0-4128-a81e-fb40db259d76",
     "prev": "ef9920f6-e2eb-4fed-99ef-01de75833958",
     "regions": {
      "208c1abd-a1fc-449a-acc0-ef868ba7f56a": {
       "attrs": {
        "height": 0.96,
        "width": 0.96,
        "x": 0.02,
        "y": 0.02
       },
       "content": {
        "cell": "de4e77f2-a1fa-4489-9dfd-8d36ab1dd295",
        "part": "whole"
       },
       "id": "208c1abd-a1fc-449a-acc0-ef868ba7f56a"
      }
     }
    },
    "54fb52a8-2b72-4d61-a616-af4ddd0834ac": {
     "id": "54fb52a8-2b72-4d61-a616-af4ddd0834ac",
     "prev": "109ffe97-690b-4a9c-a08a-b8d081ea4367",
     "regions": {
      "bebca8fa-ccf7-4b0b-9981-050bb2523e62": {
       "attrs": {
        "height": 0.96,
        "width": 0.96,
        "x": 0.02,
        "y": 0.02
       },
       "content": {
        "cell": "39b23bca-f6c7-4b4d-9e21-ef2f36e7c3e2",
        "part": "whole"
       },
       "id": "bebca8fa-ccf7-4b0b-9981-050bb2523e62"
      }
     }
    },
    "59e61e1a-e2ce-4449-8423-b079c31bb623": {
     "id": "59e61e1a-e2ce-4449-8423-b079c31bb623",
     "prev": "7b2cda45-8efa-4d3e-b4d0-4209b54e5bd5",
     "regions": {
      "a6c367ca-0f83-4e7b-a78b-b3380ed1d24f": {
       "attrs": {
        "height": 0.96,
        "width": 0.96,
        "x": 0.02,
        "y": 0.02
       },
       "content": {
        "cell": "407fd438-a723-443a-821a-bae5f08afafa",
        "part": "whole"
       },
       "id": "a6c367ca-0f83-4e7b-a78b-b3380ed1d24f"
      }
     }
    },
    "5ac2e041-90e9-4cdc-8599-3360927662f8": {
     "id": "5ac2e041-90e9-4cdc-8599-3360927662f8",
     "prev": "cc38386b-68f7-40b7-be5f-475078bf333c",
     "regions": {
      "e983ba21-d42f-4ef2-b7b1-e2ce15e3f5e3": {
       "attrs": {
        "height": 0.96,
        "width": 0.96,
        "x": 0.02,
        "y": 0.02
       },
       "content": {
        "cell": "32faebcf-0c54-41a2-8c9c-5675eff7bbed",
        "part": "whole"
       },
       "id": "e983ba21-d42f-4ef2-b7b1-e2ce15e3f5e3"
      }
     }
    },
    "5e90658b-acb9-4639-8ba1-b534ef6bbd4b": {
     "id": "5e90658b-acb9-4639-8ba1-b534ef6bbd4b",
     "prev": "8f493dda-9053-48c2-8d54-e50f99cad3f9",
     "regions": {
      "70235dd5-1a29-4305-b7b5-79d316477456": {
       "attrs": {
        "height": 0.96,
        "width": 0.96,
        "x": 0.02,
        "y": 0.02
       },
       "content": {
        "cell": "a61e6612-a34e-4af2-8da5-311d2939bd61",
        "part": "whole"
       },
       "id": "70235dd5-1a29-4305-b7b5-79d316477456"
      }
     }
    },
    "6542a979-9aaf-4205-b524-9f0cc4300b5a": {
     "id": "6542a979-9aaf-4205-b524-9f0cc4300b5a",
     "prev": "82d60af4-1490-4c20-ab4c-724569ee19f3",
     "regions": {
      "eae81fc5-9407-4f7f-935a-c427da54851f": {
       "attrs": {
        "height": 0.96,
        "width": 0.96,
        "x": 0.02,
        "y": 0.02
       },
       "content": {
        "cell": "d71153aa-edc6-4daf-bf4f-21aab0123116",
        "part": "whole"
       },
       "id": "eae81fc5-9407-4f7f-935a-c427da54851f"
      }
     }
    },
    "7b2cda45-8efa-4d3e-b4d0-4209b54e5bd5": {
     "id": "7b2cda45-8efa-4d3e-b4d0-4209b54e5bd5",
     "prev": "b3f7fd87-2730-4725-8d39-bdee6de006c6",
     "regions": {
      "f9286b94-1c29-49f9-b1a6-b946d211a180": {
       "attrs": {
        "height": 0.96,
        "width": 0.96,
        "x": 0.02,
        "y": 0.02
       },
       "content": {
        "cell": "27227e70-5798-4552-9360-3502b7b6d5ff",
        "part": "whole"
       },
       "id": "f9286b94-1c29-49f9-b1a6-b946d211a180"
      }
     }
    },
    "82d60af4-1490-4c20-ab4c-724569ee19f3": {
     "id": "82d60af4-1490-4c20-ab4c-724569ee19f3",
     "prev": "21baaeda-7a87-4644-b489-9156652cc767",
     "regions": {
      "b38e48ab-5a46-48e4-9b28-edc35b4ff342": {
       "attrs": {
        "height": 0.96,
        "width": 0.96,
        "x": 0.02,
        "y": 0.02
       },
       "content": {
        "cell": "cdc4f8ce-a5d6-4204-9d2b-71e032851831",
        "part": "whole"
       },
       "id": "b38e48ab-5a46-48e4-9b28-edc35b4ff342"
      }
     }
    },
    "8b891aae-ff4d-4c0b-a780-5a900dbfa011": {
     "id": "8b891aae-ff4d-4c0b-a780-5a900dbfa011",
     "prev": "2a7de429-4e87-4991-bbae-2706c26d498c",
     "regions": {
      "3fd4444c-9c17-41ec-8d36-bb37974b209e": {
       "attrs": {
        "height": 1,
        "width": 1,
        "x": 0,
        "y": 0
       },
       "content": {
        "cell": "4cdfda89-6841-4d00-8e17-cf6d23710173",
        "part": "whole"
       },
       "id": "3fd4444c-9c17-41ec-8d36-bb37974b209e"
      }
     }
    },
    "8f493dda-9053-48c2-8d54-e50f99cad3f9": {
     "id": "8f493dda-9053-48c2-8d54-e50f99cad3f9",
     "prev": "c59160ef-4668-4a0b-a2e1-adecbd268f9c",
     "regions": {
      "02ff5c34-a71f-447e-ab29-a9e32b06442c": {
       "attrs": {
        "height": 0.10487435664547398,
        "width": 0.9566757493188012,
        "x": 0.025068119891008184,
        "y": 0.848410535876476
       },
       "content": {
        "cell": "3e15742f-2f15-444d-9eca-e993c35bef09",
        "part": "whole"
       },
       "id": "02ff5c34-a71f-447e-ab29-a9e32b06442c"
      },
      "58870187-69b2-462e-8875-6c188bc90e12": {
       "attrs": {
        "height": 0.6667877686951258,
        "width": 0.9566757493188012,
        "x": 0.023705722070844693,
        "y": 0.17750529821374506
       },
       "content": {
        "cell": "13597e05-763d-40bc-99fc-6dc33e780823",
        "part": "whole"
       },
       "id": "58870187-69b2-462e-8875-6c188bc90e12"
      },
      "ee4a3ed5-c7fb-41db-b14c-2464387c9a19": {
       "attrs": {
        "height": 0.15588808909234034,
        "width": 0.96,
        "x": 0.02,
        "y": 0.02
       },
       "content": {
        "cell": "9aa56520-c165-4aa8-af0d-ce66deb1b8bd",
        "part": "whole"
       },
       "id": "ee4a3ed5-c7fb-41db-b14c-2464387c9a19"
      }
     }
    },
    "b3f7fd87-2730-4725-8d39-bdee6de006c6": {
     "id": "b3f7fd87-2730-4725-8d39-bdee6de006c6",
     "prev": "cb8a9d03-c5be-4ff1-9163-ba6880d4db46",
     "regions": {
      "60cce9c6-3451-44ef-9987-969b1976cbcf": {
       "attrs": {
        "height": 0.96,
        "width": 0.96,
        "x": 0.02,
        "y": 0.02
       },
       "content": {
        "cell": "c508b08c-959a-4fe9-9dbf-33c3df9f5930",
        "part": "whole"
       },
       "id": "60cce9c6-3451-44ef-9987-969b1976cbcf"
      }
     }
    },
    "bfa2688b-5d59-4cd5-8f83-4f9fd90185d1": {
     "id": "bfa2688b-5d59-4cd5-8f83-4f9fd90185d1",
     "prev": "5e90658b-acb9-4639-8ba1-b534ef6bbd4b",
     "regions": {
      "3fc03ae7-00ad-414e-a4bb-d49717b2f798": {
       "attrs": {
        "height": 0.96,
        "width": 0.96,
        "x": 0.02,
        "y": 0.02
       },
       "content": {
        "cell": "48dbeec5-9713-47cb-a05f-c63cc12e07e3",
        "part": "whole"
       },
       "id": "3fc03ae7-00ad-414e-a4bb-d49717b2f798"
      }
     }
    },
    "c59160ef-4668-4a0b-a2e1-adecbd268f9c": {
     "id": "c59160ef-4668-4a0b-a2e1-adecbd268f9c",
     "prev": "0d11fa6b-63e4-429d-874a-c096285fe971",
     "regions": {
      "ab8c7389-07c0-4460-bc8b-316e4c617476": {
       "attrs": {
        "height": 0.96,
        "width": 0.96,
        "x": 0.02,
        "y": 0.02
       },
       "content": {
        "cell": "c85cd3e9-c71a-4cb2-86f2-b50a3540c2e0",
        "part": "whole"
       },
       "id": "ab8c7389-07c0-4460-bc8b-316e4c617476"
      }
     }
    },
    "cb8a9d03-c5be-4ff1-9163-ba6880d4db46": {
     "id": "cb8a9d03-c5be-4ff1-9163-ba6880d4db46",
     "prev": "5ac2e041-90e9-4cdc-8599-3360927662f8",
     "regions": {
      "148cabd8-ef80-48e5-923e-9668c4bc4504": {
       "attrs": {
        "height": 0.96,
        "width": 0.96,
        "x": 0.02,
        "y": 0.02
       },
       "content": {
        "cell": "3df605a0-7299-4755-9a75-e0472f9ac29d",
        "part": "whole"
       },
       "id": "148cabd8-ef80-48e5-923e-9668c4bc4504"
      }
     }
    },
    "cc38386b-68f7-40b7-be5f-475078bf333c": {
     "id": "cc38386b-68f7-40b7-be5f-475078bf333c",
     "prev": "3d9a2f93-6cfe-44ab-b528-8518313fb843",
     "regions": {
      "c8a4c331-4993-4cea-ad7e-9e64c26e7dde": {
       "attrs": {
        "height": 0.96,
        "width": 0.96,
        "x": 0.02,
        "y": 0.02
       },
       "content": {
        "cell": "2d86cc83-1560-48a3-9e3d-f8a5ac277e0c",
        "part": "whole"
       },
       "id": "c8a4c331-4993-4cea-ad7e-9e64c26e7dde"
      }
     }
    },
    "d161c9ac-ea5f-4a16-ad30-fac5da95b9d7": {
     "id": "d161c9ac-ea5f-4a16-ad30-fac5da95b9d7",
     "prev": "6542a979-9aaf-4205-b524-9f0cc4300b5a",
     "regions": {
      "067489bb-a463-4003-a180-8cd9c39b981d": {
       "attrs": {
        "height": 0.16173267326732663,
        "width": 0.96,
        "x": 0.02,
        "y": 0.02
       },
       "content": {
        "cell": "58f6c89c-1abe-4e52-a695-84ff9eaa2aa2",
        "part": "source"
       },
       "id": "067489bb-a463-4003-a180-8cd9c39b981d"
      },
      "4c50f044-8fd6-4418-b1db-f0d10aa01ec3": {
       "attrs": {
        "height": 0.08465346534653477,
        "width": 0.9594214108910892,
        "x": 0.022029702970297032,
        "y": 0.8982673267326732
       },
       "content": {
        "cell": "ce55ff9d-a0ea-46db-a44b-abfa2496b07f",
        "part": "source"
       },
       "id": "4c50f044-8fd6-4418-b1db-f0d10aa01ec3"
      },
      "cb854480-4faf-498b-a4dc-479aee05e5e8": {
       "attrs": {
        "height": 0.7220297029702971,
        "width": 0.9573329207920793,
        "x": 0.02133353960396036,
        "y": 0.17920792079207915
       },
       "content": {
        "cell": "604635df-f533-4f9b-90c0-036ee0719a45",
        "part": "whole"
       },
       "id": "cb854480-4faf-498b-a4dc-479aee05e5e8"
      }
     }
    },
    "d5ab7225-8e25-4d0b-8d55-31550c1a5943": {
     "id": "d5ab7225-8e25-4d0b-8d55-31550c1a5943",
     "prev": "27185f3e-2a0f-4c1e-8ac9-2f8b72365bf1",
     "regions": {
      "08c35cde-81b0-4dab-ae7a-965efbc66be5": {
       "attrs": {
        "height": 0.96,
        "width": 0.96,
        "x": 0.02,
        "y": 0.02
       },
       "content": {
        "cell": "5f037260-9815-443e-aaf8-0bc5c344b934",
        "part": "whole"
       },
       "id": "08c35cde-81b0-4dab-ae7a-965efbc66be5"
      }
     }
    },
    "ef9920f6-e2eb-4fed-99ef-01de75833958": {
     "id": "ef9920f6-e2eb-4fed-99ef-01de75833958",
     "prev": "d5ab7225-8e25-4d0b-8d55-31550c1a5943",
     "regions": {
      "55ee4a25-7377-425d-9c2a-f963240d0ab8": {
       "attrs": {
        "height": 0.6643657281259463,
        "width": 0.9594005449591281,
        "x": 0.02098092643051772,
        "y": 0.19688162276718132
       },
       "content": {
        "cell": "4c926412-2d60-406e-a14c-2e60e237a56a",
        "part": "whole"
       },
       "id": "55ee4a25-7377-425d-9c2a-f963240d0ab8"
      },
      "7bc1c4d9-21e1-43f4-9a50-7a21bba88253": {
       "attrs": {
        "height": 0.17283681501665157,
        "width": 0.96,
        "x": 0.024087193460490396,
        "y": 0.01757795943082045
       },
       "content": {
        "cell": "60ca4a53-4b88-4b4a-91cf-468589a05bb8",
        "part": "whole"
       },
       "id": "7bc1c4d9-21e1-43f4-9a50-7a21bba88253"
      },
      "df47bdec-7363-4d14-850b-c0c74ec8402d": {
       "attrs": {
        "height": 0.09276415379957631,
        "width": 0.9621253405994551,
        "x": 0.019618528610354232,
        "y": 0.8580986981531942
       },
       "content": {
        "cell": "9d6e7199-e0e6-4bb1-81ff-c1b7fd73ff83",
        "part": "whole"
       },
       "id": "df47bdec-7363-4d14-850b-c0c74ec8402d"
      }
     }
    },
    "f7d2c5bd-79de-4989-8481-ab7354161c2e": {
     "id": "f7d2c5bd-79de-4989-8481-ab7354161c2e",
     "prev": "8b891aae-ff4d-4c0b-a780-5a900dbfa011",
     "regions": {
      "9085a72e-008f-427c-8c51-544ce0984f1e": {
       "attrs": {
        "height": 0.96,
        "width": 0.96,
        "x": 0.02,
        "y": 0.02
       },
       "content": {
        "cell": "372e5dd3-2da4-4d4b-bec1-baef095befe2",
        "part": "whole"
       },
       "id": "9085a72e-008f-427c-8c51-544ce0984f1e"
      }
     }
    },
    "f89fecec-7c0f-4584-970d-18d5df744eee": {
     "id": "f89fecec-7c0f-4584-970d-18d5df744eee",
     "prev": "43d6d6a5-e2b0-4128-a81e-fb40db259d76",
     "regions": {
      "b79415f2-f8b3-49ae-9327-e6342a0f279c": {
       "attrs": {
        "height": 0.96,
        "width": 0.96,
        "x": 0.02,
        "y": 0.02
       },
       "content": {
        "cell": "23e7bd20-05cf-4f9b-a51c-9435e814057a",
        "part": "whole"
       },
       "id": "b79415f2-f8b3-49ae-9327-e6342a0f279c"
      }
     }
    }
   },
   "themes": {
    "default": "e84c8589-1aee-4bd4-b152-49b9506b8a54",
    "theme": {
     "e84c8589-1aee-4bd4-b152-49b9506b8a54": {
      "backgrounds": {
       "my-background": {
        "background-color": "white"
       }
      },
      "id": "e84c8589-1aee-4bd4-b152-49b9506b8a54",
      "palette": {
       "black": {
        "id": "black",
        "rgb": [
         0,
         0,
         0
        ]
       },
       "blue": {
        "id": "blue",
        "rgb": [
         0,
         153,
         204
        ]
       },
       "gray": {
        "id": "gray",
        "rgb": [
         128,
         128,
         128
        ]
       },
       "red": {
        "id": "red",
        "rgb": [
         240,
         32,
         32
        ]
       },
       "white": {
        "id": "white",
        "rgb": [
         255,
         255,
         255
        ]
       }
      },
      "rules": {
       "code": {
        "font-size": 1.6
       },
       "h1": {
        "color": "blue",
        "font-size": 5.5,
        "text-align": "center"
       },
       "h2": {
        "color": "blue",
        "font-size": 3,
        "text-align": "center"
       },
       "h3": {
        "color": "black",
        "font-size": 3
       },
       "pre": {
        "font-size": 1.6
       },
       "ul li": {
        "color": "black",
        "font-size": 2.5
       },
       "ul li ul li": {
        "color": "black",
        "font-size": 2
       }
      },
      "text-base": {
       "font-family": "Georgia",
       "font-size": 2.5
      }
     }
    }
   }
  }
 },
 "nbformat": 4,
 "nbformat_minor": 1
}
