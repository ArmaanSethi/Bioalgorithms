{
 "cells": [
  {
   "cell_type": "markdown",
   "metadata": {},
   "source": [
    "# Welcome to Jupyter\n",
    "\n",
    "Jupyter is an integrated, literate, and web-based programming environment. In Jupyter, you can author executable *Notebooks* that combine code, output, and documentation. It is dynamic and interpretive, and encourages exploration and experimentation.\n",
    "\n",
    "A Juputer notebook is divided into *cells*. Each cell can be executed and edited independently. You can also save the contents of cells to produce stand-alone programs if you wish. Jupyter supports many programming languages, such as Python, R, and Julia. In Comp555 we will use primarily Python 2.7."
   ]
  },
  {
   "cell_type": "code",
   "execution_count": 26,
   "metadata": {},
   "outputs": [
    {
     "name": "stdout",
     "output_type": "stream",
     "text": [
      "[-16, -14, -12, -10, -8, -6, -4, -2, 0, 2, 4, 6, 8, 10, 12, 14, 16] 17\n"
     ]
    }
   ],
   "source": [
    "# In Python, the remainder of lines after a \"pound sign\" (a.k.a hashtag) is a comment.\n",
    "\n",
    "N = 16\n",
    "x = range(-N,N+1,2)    # range(N) -> [0, 1,..., N-1]; range(N,M) -> [N, N+1, ..., M-2, M-1]\n",
    "                     # range(N,M,S) -> [N, N+S, N+2S, ..., N+kS < M]\n",
    "\n",
    "print x, len(x)"
   ]
  },
  {
   "cell_type": "code",
   "execution_count": 27,
   "metadata": {},
   "outputs": [
    {
     "name": "stdout",
     "output_type": "stream",
     "text": [
      "[256, 196, 144, 100, 64, 36, 16, 4, 0, 4, 16, 36, 64, 100, 144, 196, 256]\n",
      "[148, 142, 136, 130, 124, 118, 112, 106, 100, 94, 88, 82, 76, 70, 64, 58, 52]\n"
     ]
    }
   ],
   "source": [
    "y = [v*v for v in x]\n",
    "z = [100-3*v for v in x]\n",
    "print y\n",
    "print z"
   ]
  },
  {
   "cell_type": "code",
   "execution_count": 28,
   "metadata": {},
   "outputs": [
    {
     "data": {
      "image/png": "[encoded data removed]",
      "text/plain": [
       "<matplotlib.figure.Figure at 0x10804a390>"
      ]
     },
     "metadata": {},
     "output_type": "display_data"
    }
   ],
   "source": [
    "%matplotlib inline\n",
    "import matplotlib.pyplot as plot\n",
    "\n",
    "result = plot.plot(x,y)\n",
    "result = plot.plot(x,z)"
   ]
  },
  {
   "cell_type": "markdown",
   "metadata": {},
   "source": [
    "# Next well consider some string manipulations"
   ]
  },
  {
   "cell_type": "code",
   "execution_count": 33,
   "metadata": {},
   "outputs": [
    {
     "name": "stdout",
     "output_type": "stream",
     "text": [
      "AAAGCGTCCGGACACCTATATCGAAGAATGTGGGCTAAATGGCGATTGATCAAGGGCCCACTACTAAGCTTCGGAAGGAATGATCCAATGCTATCCTCGC\n"
     ]
    }
   ],
   "source": [
    "import random\n",
    "\n",
    "bases = [\"ACGT\"[random.randint(0,3)] for i in xrange(100)] # xrange() returns an iterator, whereas range() returns a list\n",
    "dna = ''.join(bases)\n",
    "\n",
    "print dna"
   ]
  },
  {
   "cell_type": "code",
   "execution_count": 34,
   "metadata": {},
   "outputs": [
    {
     "name": "stdout",
     "output_type": "stream",
     "text": [
      "AAAGCGTCCG GACACCTATATCGAAGAATGTGGGCTAAATGGCGATTGATCAAGGGCCCACTACTAAGCTTCGGAAGGAATGATCCAATGCTATCCTCGC\n",
      "AAAGCGTCCGGACACCTATA TCGAAGAATGTGGGCTAAATGGCGATTGATCAAGGGCCCACTACTAAGCTTCGGAAGGAATGATCCAATGCTATCCTCGC\n",
      "AAAGCGTCCGGACACCTATATCGAAGAATG TGGGCTAAATGGCGATTGATCAAGGGCCCACTACTAAGCTTCGGAAGGAATGATCCAATGCTATCCTCGC\n",
      "AAAGCGTCCGGACACCTATATCGAAGAATGTGGGCTAAAT GGCGATTGATCAAGGGCCCACTACTAAGCTTCGGAAGGAATGATCCAATGCTATCCTCGC\n",
      "AAAGCGTCCGGACACCTATATCGAAGAATGTGGGCTAAATGGCGATTGAT CAAGGGCCCACTACTAAGCTTCGGAAGGAATGATCCAATGCTATCCTCGC\n",
      "AAAGCGTCCGGACACCTATATCGAAGAATGTGGGCTAAATGGCGATTGATCAAGGGCCCA CTACTAAGCTTCGGAAGGAATGATCCAATGCTATCCTCGC\n",
      "AAAGCGTCCGGACACCTATATCGAAGAATGTGGGCTAAATGGCGATTGATCAAGGGCCCACTACTAAGCT TCGGAAGGAATGATCCAATGCTATCCTCGC\n",
      "AAAGCGTCCGGACACCTATATCGAAGAATGTGGGCTAAATGGCGATTGATCAAGGGCCCACTACTAAGCTTCGGAAGGAA TGATCCAATGCTATCCTCGC\n",
      "AAAGCGTCCGGACACCTATATCGAAGAATGTGGGCTAAATGGCGATTGATCAAGGGCCCACTACTAAGCTTCGGAAGGAATGATCCAATG CTATCCTCGC\n"
     ]
    }
   ],
   "source": [
    "for i in xrange(10,len(dna),10):\n",
    "    print dna[:i], dna[i:]"
   ]
  },
  {
   "cell_type": "code",
   "execution_count": 35,
   "metadata": {},
   "outputs": [
    {
     "name": "stdout",
     "output_type": "stream",
     "text": [
      "['GTCCGGAC', 'TTGATCAA']\n",
      "[]\n"
     ]
    }
   ],
   "source": [
    "def kmers(seq, k):\n",
    "    return [seq[i:i+k] for i in xrange(len(seq)-k+1)]\n",
    "\n",
    "def reverseComp(seq):\n",
    "    return ''.join([{'A':'T','C':'G','G':'C','T':'A'}[c] for c in reversed(seq)])\n",
    "\n",
    "kmerList = kmers(dna, 8)\n",
    "\n",
    "palindromes = [kmer for kmer in kmerList if reverseComp(kmer) == kmer]\n",
    "print palindromes\n",
    "\n",
    "repeats = [kmer for kmer in kmerList if kmerList.count(kmer) > 1]\n",
    "print repeats"
   ]
  },
  {
   "cell_type": "code",
   "execution_count": 37,
   "metadata": {},
   "outputs": [
    {
     "name": "stdout",
     "output_type": "stream",
     "text": [
      "10000 loops, best of 3: 24.1 µs per loop\n",
      "The slowest run took 4.36 times longer than the fastest. This could mean that an intermediate result is being cached.\n",
      "100000 loops, best of 3: 3.44 µs per loop\n"
     ]
    }
   ],
   "source": [
    "from string import maketrans\n",
    "\n",
    "def reverseCompV2(seq):\n",
    "    return ''.join(reversed(seq.translate(maketrans(\"ACGT\", \"TGCA\"))))\n",
    "\n",
    "assert reverseComp(dna) == reverseCompV2(dna)\n",
    "\n",
    "%timeit reverseComp(dna)\n",
    "%timeit reverseCompV2(dna)"
   ]
  },
  {
   "cell_type": "markdown",
   "metadata": {},
   "source": [
    "# A look at itertools"
   ]
  },
  {
   "cell_type": "code",
   "execution_count": 38,
   "metadata": {},
   "outputs": [
    {
     "name": "stdout",
     "output_type": "stream",
     "text": [
      "000\n",
      "001\n",
      "010\n",
      "011\n",
      "100\n",
      "101\n",
      "110\n",
      "111\n"
     ]
    }
   ],
   "source": [
    "import itertools\n",
    "\n",
    "for number in itertools.product(\"01\", repeat=3):\n",
    "    print ''.join(number)"
   ]
  },
  {
   "cell_type": "code",
   "execution_count": 39,
   "metadata": {},
   "outputs": [
    {
     "name": "stdout",
     "output_type": "stream",
     "text": [
      "(0, 0, 0) (0, 0, 1) (0, 0, 2) (0, 1, 0) (0, 1, 1)\n",
      "(0, 1, 2) (0, 2, 0) (0, 2, 1) (0, 2, 2) (1, 0, 0)\n",
      "(1, 0, 1) (1, 0, 2) (1, 1, 0) (1, 1, 1) (1, 1, 2)\n",
      "(1, 2, 0) (1, 2, 1) (1, 2, 2) (2, 0, 0) (2, 0, 1)\n",
      "(2, 0, 2) (2, 1, 0) (2, 1, 1) (2, 1, 2) (2, 2, 0)\n",
      "(2, 2, 1) (2, 2, 2)\n"
     ]
    }
   ],
   "source": [
    "# all permutations of items from a list\n",
    "N = 0\n",
    "for number in itertools.product(range(3), repeat=3):\n",
    "    print number,\n",
    "    N += 1\n",
    "    if (N % 5 == 0):\n",
    "        print"
   ]
  },
  {
   "cell_type": "code",
   "execution_count": 40,
   "metadata": {},
   "outputs": [
    {
     "name": "stdout",
     "output_type": "stream",
     "text": [
      "('I', 'A', 1)\n",
      "('I', 'A', 2)\n",
      "('I', 'B', 1)\n",
      "('I', 'B', 2)\n",
      "('I', 'C', 1)\n",
      "('I', 'C', 2)\n",
      "('II', 'A', 1)\n",
      "('II', 'A', 2)\n",
      "('II', 'B', 1)\n",
      "('II', 'B', 2)\n",
      "('II', 'C', 1)\n",
      "('II', 'C', 2)\n",
      "('III', 'A', 1)\n",
      "('III', 'A', 2)\n",
      "('III', 'B', 1)\n",
      "('III', 'B', 2)\n",
      "('III', 'C', 1)\n",
      "('III', 'C', 2)\n",
      "('IV', 'A', 1)\n",
      "('IV', 'A', 2)\n",
      "('IV', 'B', 1)\n",
      "('IV', 'B', 2)\n",
      "('IV', 'C', 1)\n",
      "('IV', 'C', 2)\n"
     ]
    }
   ],
   "source": [
    "# permutations of mixed types\n",
    "for section in itertools.product((\"I\", \"II\", \"III\", \"IV\"),\"ABC\",range(1,3)):\n",
    "    print section"
   ]
  },
  {
   "cell_type": "code",
   "execution_count": 42,
   "metadata": {},
   "outputs": [
    {
     "name": "stdout",
     "output_type": "stream",
     "text": [
      "(0, 1)\n",
      "(0, 2)\n",
      "(1, 2)\n"
     ]
    }
   ],
   "source": [
    "# combinations: order does not matter\n",
    "for c in itertools.combinations([0,1,2], 2):\n",
    "    print c"
   ]
  },
  {
   "cell_type": "markdown",
   "metadata": {},
   "source": [
    "# For more challenges let's look at [Rosalind](http://rosalind.info)\n",
    "\n",
    "Let's try [problem 1](http://rosalind.info/problems/dna/)."
   ]
  },
  {
   "cell_type": "code",
   "execution_count": 2,
   "metadata": {},
   "outputs": [
    {
     "name": "stdout",
     "output_type": "stream",
     "text": [
      "20 12 17 21\n"
     ]
    }
   ],
   "source": [
    "dna = \"AGCTTTTCATTCTGACTGCAACGGGCAATATGTCTCTGTGTGGATTAAAAAAAGAGTGTCTGATAGCAGC\"\n",
    "\n",
    "print \" \".join([str(dna.count(base)) for base in \"ACGT\"])"
   ]
  },
  {
   "cell_type": "markdown",
   "metadata": {},
   "source": [
    "##  That was easy\n",
    "\n",
    "Let's try [problem 2](http://rosalind.info/problems/rna/)."
   ]
  },
  {
   "cell_type": "code",
   "execution_count": 3,
   "metadata": {},
   "outputs": [
    {
     "name": "stdout",
     "output_type": "stream",
     "text": [
      "GAUGGAACUUGACUACGUAAAUU\n"
     ]
    }
   ],
   "source": [
    "dna = \"GATGGAACTTGACTACGTAAATT\"\n",
    "\n",
    "print \"\".join(['U' if (base == 'T') else base for base in dna])"
   ]
  },
  {
   "cell_type": "markdown",
   "metadata": {},
   "source": [
    "## Also simple\n",
    "\n",
    "Let's try [problem 3](http://rosalind.info/problems/revc/)."
   ]
  },
  {
   "cell_type": "code",
   "execution_count": 15,
   "metadata": {},
   "outputs": [
    {
     "name": "stdout",
     "output_type": "stream",
     "text": [
      "ACCGGGTTTT\n"
     ]
    }
   ],
   "source": [
    "dna = \"AAAACCCGGT\"\n",
    "\n",
    "print ''.join([{'A':'T','C':'G','G':'C','T':'A'}[base] for base in reversed(dna)])"
   ]
  },
  {
   "cell_type": "markdown",
   "metadata": {},
   "source": [
    "## Will they ever require more than one line?\n",
    "\n",
    "Let's try [problem 4](http://rosalind.info/problems/fib/)."
   ]
  },
  {
   "cell_type": "code",
   "execution_count": 16,
   "metadata": {},
   "outputs": [
    {
     "name": "stdout",
     "output_type": "stream",
     "text": [
      "19\n"
     ]
    }
   ],
   "source": [
    "def rabbits(generations, pairsPerLitter):\n",
    "    sequence = [0,1]\n",
    "    while (len(sequence) - 1 < generations):\n",
    "        sequence.append(sequence[-2]*pairsPerLitter + sequence[-1])\n",
    "    return sequence[-1]\n",
    "\n",
    "print rabbits(5, 3)"
   ]
  },
  {
   "cell_type": "markdown",
   "metadata": {},
   "source": [
    "# Now try one on your own\n",
    "\n",
    "Let's try [problem 5](http://rosalind.info/problems/gc/)."
   ]
  },
  {
   "cell_type": "code",
   "execution_count": null,
   "metadata": {
    "collapsed": true
   },
   "outputs": [],
   "source": []
  }
 ],
 "metadata": {
  "anaconda-cloud": {},
  "kernelspec": {
   "display_name": "Python 2",
   "language": "python",
   "name": "python2"
  },
  "language_info": {
   "codemirror_mode": {
    "name": "ipython",
    "version": 2
   },
   "file_extension": ".py",
   "mimetype": "text/x-python",
   "name": "python",
   "nbconvert_exporter": "python",
   "pygments_lexer": "ipython2",
   "version": "2.7.14"
  }
 },
 "nbformat": 4,
 "nbformat_minor": 1
}
