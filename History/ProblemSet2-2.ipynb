{
 "cells": [
  {
   "cell_type": "markdown",
   "metadata": {
    "section": "header"
   },
   "source": [
    "<div style=\"text-align: center;\">\n",
    "<h1>The University of North Carolina at Chapel Hill</h1>\n",
    "<h1>Comp 555 BioAlgorithms - Spring 2018</h1>\n",
    "<h1 style=\"font-size: 250%;\">Problem Set #2 </h1>\n",
    "<h1>Issued Thursday, 2/15/2018; Due Thursday, 3/1/2018</h1>\n",
    "</div>\n",
    "\n",
    "**Homework Information:** Some of the problems are probably too long to complete the night before the due date, so plan accordingly. Late problem sets will be penalized by a factor of\t70.71% for each class meeting after the due date. Feel free to get help from others, but the work you submit in should be your own."
   ]
  },
  {
   "cell_type": "code",
   "execution_count": 8,
   "metadata": {
    "section": "signature"
   },
   "outputs": [],
   "source": [
    "# Replace the following string values with the requested information\n",
    "\n",
    "class Student:\n",
    "    first = \"\"\n",
    "    last = \"\"\n",
    "    onyen = \"\"\n",
    "    pid = \"\"\n",
    "#I put all of my answers into a new notebook for clarity and cleanliness"
   ]
  },
  {
   "cell_type": "markdown",
   "metadata": {
    "number": 1,
    "section": "problem"
   },
   "source": [
    "---\n",
    "**Problem #1:** Consider the table of integer molecular weights for amino acid residues that we have used in class and is repeated below.\n",
    "\n",
    "        Daltons = { \n",
    "            'A':  71, 'C': 103, 'D': 115, 'E': 129,\n",
    "            'F': 147, 'G':  57, 'H': 137, 'I': 113,\n",
    "            'K': 128, 'L': 113, 'M': 131, 'N': 114,\n",
    "            'P':  97, 'Q': 128, 'R': 156, 'S':  87,\n",
    "            'T': 101, 'V':  99, 'W': 186, 'Y': 163 \n",
    "        }\n",
    "\n",
    "Which peptide *combinations* have a total molecular weight matching the peptide \"YMKN\"? A *combination* means that the order of the peptides is unimportant (i.e. \"AKS\" is the same combination as any of \"ASK\", \"KAS\", \"KSA\", \"SAK\", and \"SKA\"). When reporting your answer you should lexigraphically sort the resides within each combination (\"AKS\" is the sorted version of the previous example). Furthermore, the list of combinations should also be lexigraphically sorted (The python sorted() method will do this for you)."
   ]
  },
  {
   "cell_type": "raw",
   "metadata": {
    "number": 1,
    "section": "answer"
   },
   "source": [
    "[['A', 'A', 'A', 'A', 'D', 'H'], ['A', 'A', 'A', 'C', 'G', 'Y'], ['A', 'A', 'A', 'E', 'G', 'H'], ['A', 'A', 'A', 'E', 'P', 'P'], ['A', 'A', 'A', 'H', 'S', 'V'], ['A', 'A', 'A', 'H', 'W'], ['A', 'A', 'A', 'I', 'I', 'P'], ['A', 'A', 'A', 'I', 'L', 'P'], ['A', 'A', 'A', 'L', 'L', 'P'], ['A', 'A', 'C', 'C', 'G', 'M'], ['A', 'A', 'C', 'C', 'S', 'T'], ['A', 'A', 'C', 'F', 'G', 'S'], ['A', 'A', 'C', 'G', 'H', 'P'], ['A', 'A', 'C', 'K', 'Y'], ['A', 'A', 'C', 'P', 'P', 'P'], ['A', 'A', 'C', 'Q', 'Y'], ['A', 'A', 'E', 'H', 'K'], ['A', 'A', 'E', 'H', 'Q'], ['A', 'A', 'G', 'H', 'I', 'S'], ['A', 'A', 'G', 'H', 'L', 'S'], ['A', 'A', 'G', 'H', 'T', 'V'], ['A', 'A', 'G', 'S', 'S', 'Y'], ['A', 'A', 'H', 'R', 'T'], ['A', 'A', 'I', 'P', 'P', 'S'], ['A', 'A', 'L', 'P', 'P', 'S'], ['A', 'A', 'P', 'P', 'T', 'V'], ['A', 'A', 'P', 'V', 'V', 'V'], ['A', 'C', 'C', 'C', 'G', 'V'], ['A', 'C', 'C', 'C', 'R'], ['A', 'C', 'C', 'D', 'G', 'S'], ['A', 'C', 'C', 'G', 'T', 'T'], ['A', 'C', 'C', 'K', 'M'], ['A', 'C', 'C', 'M', 'Q'], ['A', 'C', 'F', 'G', 'G', 'T'], ['A', 'C', 'F', 'K', 'S'], ['A', 'C', 'F', 'N', 'T'], ['A', 'C', 'F', 'Q', 'S'], ['A', 'C', 'G', 'M', 'S', 'S'], ['A', 'C', 'H', 'K', 'P'], ['A', 'C', 'H', 'P', 'Q'], ['A', 'C', 'S', 'S', 'S', 'T'], ['A', 'D', 'G', 'G', 'H', 'V'], ['A', 'D', 'G', 'H', 'R'], ['A', 'D', 'G', 'P', 'P', 'V'], ['A', 'D', 'H', 'N', 'V'], ['A', 'D', 'P', 'P', 'R'], ['A', 'F', 'F', 'G', 'G', 'G'], ['A', 'F', 'F', 'G', 'N'], ['A', 'F', 'G', 'S', 'S', 'S'], ['A', 'G', 'G', 'G', 'M', 'Y'], ['A', 'G', 'G', 'H', 'I', 'T'], ['A', 'G', 'G', 'H', 'L', 'T'], ['A', 'G', 'G', 'S', 'T', 'Y'], ['A', 'G', 'H', 'P', 'S', 'S'], ['A', 'G', 'I', 'P', 'P', 'T'], ['A', 'G', 'I', 'P', 'V', 'V'], ['A', 'G', 'L', 'P', 'P', 'T'], ['A', 'G', 'L', 'P', 'V', 'V'], ['A', 'G', 'M', 'N', 'Y'], ['A', 'H', 'I', 'K', 'S'], ['A', 'H', 'I', 'N', 'T'], ['A', 'H', 'I', 'Q', 'S'], ['A', 'H', 'K', 'L', 'S'], ['A', 'H', 'K', 'T', 'V'], ['A', 'H', 'L', 'N', 'T'], ['A', 'H', 'L', 'Q', 'S'], ['A', 'H', 'Q', 'T', 'V'], ['A', 'I', 'P', 'R', 'V'], ['A', 'K', 'S', 'S', 'Y'], ['A', 'L', 'P', 'R', 'V'], ['A', 'N', 'S', 'T', 'Y'], ['A', 'P', 'P', 'P', 'S', 'S'], ['A', 'Q', 'S', 'S', 'Y'], ['C', 'C', 'C', 'G', 'G', 'I'], ['C', 'C', 'C', 'G', 'G', 'L'], ['C', 'C', 'C', 'I', 'N'], ['C', 'C', 'C', 'K', 'V'], ['C', 'C', 'C', 'L', 'N'], ['C', 'C', 'C', 'Q', 'V'], ['C', 'C', 'D', 'G', 'G', 'T'], ['C', 'C', 'D', 'K', 'S'], ['C', 'C', 'D', 'N', 'T'], ['C', 'C', 'D', 'Q', 'S'], ['C', 'C', 'E', 'G', 'G', 'S'], ['C', 'C', 'E', 'N', 'S'], ['C', 'C', 'G', 'S', 'S', 'V'], ['C', 'C', 'G', 'S', 'W'], ['C', 'C', 'K', 'T', 'T'], ['C', 'C', 'Q', 'T', 'T'], ['C', 'C', 'R', 'S', 'S'], ['C', 'D', 'F', 'G', 'G', 'G'], ['C', 'D', 'F', 'G', 'N'], ['C', 'D', 'G', 'S', 'S', 'S'], ['C', 'F', 'G', 'K', 'T'], ['C', 'F', 'G', 'Q', 'T'], ['C', 'G', 'G', 'G', 'M', 'M'], ['C', 'G', 'G', 'G', 'V', 'Y'], ['C', 'G', 'G', 'M', 'S', 'T'], ['C', 'G', 'G', 'R', 'Y'], ['C', 'G', 'M', 'M', 'N'], ['C', 'G', 'N', 'V', 'Y'], ['C', 'G', 'S', 'S', 'T', 'T'], ['C', 'K', 'M', 'S', 'S'], ['C', 'M', 'N', 'S', 'T'], ['C', 'M', 'Q', 'S', 'S'], ['C', 'N', 'R', 'Y'], ['D', 'E', 'E', 'Y'], ['D', 'F', 'H', 'H'], ['D', 'G', 'G', 'G', 'H', 'I'], ['D', 'G', 'G', 'G', 'H', 'L'], ['D', 'G', 'G', 'G', 'S', 'Y'], ['D', 'G', 'G', 'I', 'P', 'P'], ['D', 'G', 'G', 'L', 'P', 'P'], ['D', 'G', 'H', 'I', 'N'], ['D', 'G', 'H', 'K', 'V'], ['D', 'G', 'H', 'L', 'N'], ['D', 'G', 'H', 'Q', 'V'], ['D', 'G', 'N', 'S', 'Y'], ['D', 'H', 'K', 'R'], ['D', 'H', 'Q', 'R'], ['D', 'I', 'N', 'P', 'P'], ['D', 'K', 'P', 'P', 'V'], ['D', 'L', 'N', 'P', 'P'], ['D', 'P', 'P', 'Q', 'V'], ['E', 'E', 'F', 'M'], ['E', 'F', 'F', 'I'], ['E', 'F', 'F', 'L'], ['E', 'F', 'P', 'Y'], ['E', 'G', 'G', 'G', 'H', 'V'], ['E', 'G', 'G', 'H', 'R'], ['E', 'G', 'G', 'P', 'P', 'V'], ['E', 'G', 'H', 'N', 'V'], ['E', 'G', 'P', 'P', 'R'], ['E', 'H', 'N', 'R'], ['E', 'I', 'M', 'Y'], ['E', 'L', 'M', 'Y'], ['E', 'N', 'P', 'P', 'V'], ['F', 'F', 'G', 'G', 'K'], ['F', 'F', 'G', 'G', 'Q'], ['F', 'F', 'K', 'N'], ['F', 'F', 'N', 'Q'], ['F', 'G', 'G', 'G', 'M', 'S'], ['F', 'G', 'G', 'S', 'S', 'T'], ['F', 'G', 'M', 'N', 'S'], ['F', 'I', 'I', 'Y'], ['F', 'I', 'L', 'Y'], ['F', 'K', 'S', 'S', 'S'], ['F', 'L', 'L', 'Y'], ['F', 'N', 'S', 'S', 'T'], ['F', 'Q', 'S', 'S', 'S'], ['G', 'G', 'G', 'G', 'G', 'G', 'G', 'H'], ['G', 'G', 'G', 'G', 'G', 'G', 'P', 'P'], ['G', 'G', 'G', 'G', 'G', 'H', 'N'], ['G', 'G', 'G', 'G', 'N', 'P', 'P'], ['G', 'G', 'G', 'H', 'M', 'P'], ['G', 'G', 'G', 'H', 'N', 'N'], ['G', 'G', 'G', 'T', 'T', 'Y'], ['G', 'G', 'H', 'P', 'S', 'T'], ['G', 'G', 'H', 'S', 'V', 'V'], ['G', 'G', 'H', 'V', 'W'], ['G', 'G', 'I', 'I', 'P', 'V'], ['G', 'G', 'I', 'L', 'P', 'V'], ['G', 'G', 'K', 'M', 'Y'], ['G', 'G', 'L', 'L', 'P', 'V'], ['G', 'G', 'M', 'P', 'P', 'P'], ['G', 'G', 'M', 'Q', 'Y'], ['G', 'G', 'N', 'N', 'P', 'P'], ['G', 'H', 'I', 'K', 'T'], ['G', 'H', 'I', 'Q', 'T'], ['G', 'H', 'K', 'L', 'T'], ['G', 'H', 'L', 'Q', 'T'], ['G', 'H', 'M', 'N', 'P'], ['G', 'H', 'N', 'N', 'N'], ['G', 'H', 'R', 'S', 'V'], ['G', 'H', 'R', 'W'], ['G', 'I', 'I', 'P', 'R'], ['G', 'I', 'L', 'P', 'R'], ['G', 'K', 'S', 'T', 'Y'], ['G', 'L', 'L', 'P', 'R'], ['G', 'M', 'S', 'S', 'S', 'S'], ['G', 'N', 'T', 'T', 'Y'], ['G', 'P', 'P', 'P', 'S', 'T'], ['G', 'P', 'P', 'S', 'V', 'V'], ['G', 'P', 'P', 'V', 'W'], ['G', 'Q', 'S', 'T', 'Y'], ['H', 'H', 'M', 'M'], ['H', 'H', 'V', 'Y'], ['H', 'K', 'P', 'S', 'S'], ['H', 'N', 'P', 'S', 'T'], ['H', 'N', 'S', 'V', 'V'], ['H', 'N', 'V', 'W'], ['H', 'P', 'Q', 'S', 'S'], ['H', 'R', 'R', 'S'], ['I', 'I', 'N', 'P', 'V'], ['I', 'K', 'P', 'P', 'T'], ['I', 'K', 'P', 'V', 'V'], ['I', 'L', 'N', 'P', 'V'], ['I', 'P', 'P', 'Q', 'T'], ['I', 'P', 'Q', 'V', 'V'], ['I', 'P', 'Y', 'Y'], ['K', 'L', 'P', 'P', 'T'], ['K', 'L', 'P', 'V', 'V'], ['K', 'M', 'N', 'Y'], ['L', 'L', 'N', 'P', 'V'], ['L', 'P', 'P', 'Q', 'T'], ['L', 'P', 'Q', 'V', 'V'], ['L', 'P', 'Y', 'Y'], ['M', 'N', 'P', 'P', 'P'], ['M', 'N', 'Q', 'Y'], ['N', 'N', 'N', 'P', 'P'], ['P', 'P', 'R', 'S', 'V'], ['P', 'P', 'R', 'W'], ['S', 'S', 'S', 'S', 'S', 'T']]"
   ]
  },
  {
   "cell_type": "markdown",
   "metadata": {
    "number": 2,
    "section": "problem"
   },
   "source": [
    "---\n",
    "**Problem #2:** The primary enzyme complex involved in prokaryotic DNA replication is the **DNA polymerase III holoenzyme**. It is comprised of 9 proteins with 6 distinct types. The *HolC* gene encodes the &chi; component of this polymerase. The peptide sequence for *HolC* in [*Salmonella Typhimurium*](http://csbio.unc.edu/mcmillan/Comp555S18/data/SalmonellaTyphimurium.fa) is: \n",
    "\n",
    "         HolC = \"MTTHLNPPQEAPYMKNATFYLLDNDTTVNGLSAVEQLVCEIAAERWRAGK\" + \\\n",
    "                \"RVLIACEDEKQAIRLDEALWARPAESFVPHNLAGEGPRGGAPVEIAWPQK\" + \\\n",
    "                \"RNSSPRDILISLRTSFADFATAFTEVVDFVPYEETLKQLARERYKAYRVA\" + \\\n",
    "                \"GFNLNTATWK\"\n",
    "       \n",
    "How many possible DNA-sequence encodings are possible for this protein?"
   ]
  },
  {
   "cell_type": "raw",
   "metadata": {
    "number": 2,
    "section": "answer"
   },
   "source": [
    "277854082212010956505804149831122269065829934762767371301132511301926141288251392 possible sequences"
   ]
  },
  {
   "cell_type": "markdown",
   "metadata": {
    "number": 3,
    "section": "problem"
   },
   "source": [
    "---\n",
    "**Problem #3:** Find the coding sequence for the *HolC* in [*Salmonella Typhimurium*](http://csbio.unc.edu/mcmillan/Comp555S18/data/SalmonellaTyphimurium.fa). Your answer should give the sequence's slice interval in the genome (i.e. seq[start:end], where end=start+3&times;160) from the start codon to just before the stop codon. Note the the gene sequence might appear either on the primary sequence or its reverse complement."
   ]
  },
  {
   "cell_type": "raw",
   "metadata": {
    "number": 3,
    "section": "answer"
   },
   "source": [
    "What we discovered is that the coding sequence for HolC was contained in the reverse complement of the Salmonella Typhimurium genome. Therefore we have to take the position we were given and subtract it from the total length of the genome. This will give us the position for the end of the sequence in our normal genome. We then subtract 3 * peptide length to get the start. \n",
    "From index [4719871:4720351]\n",
    "TTCCAGGTTGCCGTATTCAGGTTAAAACCAGCCACGCGGTAGGCTTTGTAGCGTTCGCGCGCCAGTTGTTTCAAAGTTTCTTCGTAAGGGACGAAGTCTACCACTTCTGTGAAAGCGGTGGCAAAATCTGCAAAGCTTGTACGCAGGCTGATTAAAATATCGCGCGGGCTGCTGTTGCGTTTTTGCGGCCAGGCGATTTCAACCGGCGCGCCGCCGCGTGGGCCTTCGCCTGCCAGATTGTGCGGGACAAAACTTTCCGCCGGTCTTGCCCACAGCGCTTCATCCAGCCGAATGGCCTGCTTCTCATCTTCGCAGGCGATCAGCACGCGCTTGCCCGCGCGCCAACGTTCTGCGGCAATTTCACACACCAGTTGTTCAACGGCGCTTAAACCGTTGACGGTGGTGTCATTATCCAGAAGATAGAACGTCGCATTTTTCATATATGGGGCTTCTTGTGGTGGATTTAAATGCGTTGTCATG UUCCAGGUUGCCGUAUUCAGGUUAAAACCAGCCACGCGGUAGGCUUUGUAGCGUUCGCGCGCCAGUUGUUUCAAAGUUUCUUCGUAAGGGACGAAGUCUACCACUUCUGUGAAAGCGGUGGCAAAAUCUGCAAAGCUUGUACGCAGGCUGAUUAAAAUAUCGCGCGGGCUGCUGUUGCGUUUUUGCGGCCAGGCGAUUUCAACCGGCGCGCCGCCGCGUGGGCCUUCGCCUGCCAGAUUGUGCGGGACAAAACUUUCCGCCGGUCUUGCCCACAGCGCUUCAUCCAGCCGAAUGGCCUGCUUCUCAUCUUCGCAGGCGAUCAGCACGCGCUUGCCCGCGCGCCAACGUUCUGCGGCAAUUUCACACACCAGUUGUUCAACGGCGCUUAAACCGUUGACGGUGGUGUCAUUAUCCAGAAGAUAGAACGUCGCAUUUUUCAUAUAUGGGGCUUCUUGUGGUGGAUUUAAAUGCGUUGUCAUG"
   ]
  },
  {
   "cell_type": "markdown",
   "metadata": {
    "number": 4,
    "section": "problem"
   },
   "source": [
    "**Problem #4:** How many *distinct* subpeptides can the *HolC* protein from problems 3 and 4 be broken into? How many *distinct* molecular weights appear in its Theoretical Spectrum?"
   ]
  },
  {
   "cell_type": "raw",
   "metadata": {
    "number": 4,
    "section": "answer"
   },
   "source": [
    "Distinct subpeptides: 12704\n",
    "Distinct molecular weights: 7909"
   ]
  },
  {
   "cell_type": "markdown",
   "metadata": {
    "number": 5,
    "section": "problem"
   },
   "source": [
    "**Problem #5: Programming Problem**\n",
    "\n",
    "In class, we discussed techniques for finding occurrences of a motif in a larger DNA string. However, because a DNA strand coding for a protein is often interspersed with introns (segments of DNA that do not code for proteins), we need a way to recognize a motif that has been chopped up into pieces along a chromosome.\n",
    "\n",
    "A subsequence of a string is a collection of symbols contained in order (though not necessarily contiguously) in the string (e.g., ACG is a subsequence of TATGCTAAGATC). The indices of a subsequence are the positions in the string at which the symbols of the subsequence appear. For example, the indices of ACG in TATGCTAAGATCG can be represented by 6 combinations of indices: (2, 5, 9), (2, 5, 13), (2, 12, 13), (7, 12, 13), (8, 12, 13), and (10, 12, 13). \n",
    "\n",
    "Write a program that takes two strings: a string `s` and a sequence, and returns a list of index tuples for which `s` appears as a subsequence in the sequence:\n",
    "\n",
    "\n",
    "     findSubsequences(s, sequence)\n",
    "\n",
    "\n",
    "Apply your algorithm to the following set of sequences:\n",
    "\n",
    "<pre>\n",
    "test =  \"ggtaattgcctcgcataacgcggtgtgaaaatggattgaagcccgggcggtggattctac\"+\\\n",
    "        \"tcaactttagccgatggagaaagccccgggatccgggctattaaaaagaagatcttttta\"+\\\n",
    "        \"tttagagatctgttctattgtgatctcttattaggatcgcgccaggctgtggataacccg\"+\\\n",
    "        \"gatcctgtaataaagatcaatgcgttggaaaggatcactagctgtgaatgatcggtgatc\"\n",
    "\n",
    "subseq=\"gactc\"\n",
    "</pre>\n",
    "\n",
    "Use the %time *magic* function to gauge the performance of your method to the one given."
   ]
  },
  {
   "cell_type": "code",
   "execution_count": 9,
   "metadata": {
    "number": 5,
    "section": "answer"
   },
   "outputs": [
    {
     "name": "stdout",
     "output_type": "stream",
     "text": [
      "4834514\n",
      "CPU times: user 11.9 s, sys: 498 ms, total: 12.4 s\n",
      "Wall time: 12.3 s\n"
     ]
    },
    {
     "data": {
      "text/plain": [
       "4834514"
      ]
     },
     "execution_count": 9,
     "metadata": {},
     "output_type": "execute_result"
    }
   ],
   "source": [
    "import itertools\n",
    "# Enter your program here\n",
    "test =  \"ggtaattgcctcgcataacgcggtgtgaaaatggattgaagcccgggcggtggattctac\"+\\\n",
    "        \"tcaactttagccgatggagaaagccccgggatccgggctattaaaaagaagatcttttta\"+\\\n",
    "        \"tttagagatctgttctattgtgatctcttattaggatcgcgccaggctgtggataacccg\"+\\\n",
    "        \"gatcctgtaataaagatcaatgcgttggaaaggatcactagctgtgaatgatcggtgatc\"\n",
    "\n",
    "subseq=\"gactc\"\n",
    "\n",
    "letters = []\n",
    "def recurcombine(start, d, e):\n",
    "    newstart = start\n",
    "    temp = []\n",
    "    for i in range(start,len(e)):\n",
    "        if e[i] > d[len(d)-1]:\n",
    "            temp.append(d + [e[i]])\n",
    "        else:\n",
    "            newstart = i\n",
    "    return newstart, temp\n",
    "\n",
    "#main function\n",
    "def findSubsequences(subseq,test):\n",
    "    for i in range(len(subseq)):\n",
    "        letters.append([])\n",
    "        for j in range(len(test)):\n",
    "            if subseq[i]==test[j]:\n",
    "                letters[i].append(j)\n",
    "    c = list(itertools.product(letters[0],letters[1]))\n",
    "\n",
    "    i = 0\n",
    "    while i < (len(c)):\n",
    "        x = len(c[i])-1\n",
    "        if c[i][x] < c[i][x-1]:\n",
    "            c.pop(i)\n",
    "        else:\n",
    "            c[i] = list(c[i])\n",
    "            i=i+1\n",
    "    a = len(c[0])-1\n",
    "    c.sort(key=lambda x: x[a])\n",
    "\n",
    "    for z in range(2,len(subseq)):\n",
    "        newcomb = []\n",
    "        start = 0\n",
    "        j = 0\n",
    "        while j < len(c):\n",
    "            start, temp = recurcombine(start, c[j], letters[z])\n",
    "            for x in temp:\n",
    "                newcomb.append(x)\n",
    "            j += 1\n",
    "        c = newcomb\n",
    "        a = z\n",
    "        c.sort(key=lambda x: x[a])\n",
    "    print len(c)\n",
    "    return len(c)\n",
    "\n",
    "%time findSubsequences(subseq, test)"
   ]
  },
  {
   "cell_type": "markdown",
   "metadata": {
    "section": "submit"
   },
   "source": [
    "Click [here to submit](http://csbio.unc.edu/mcmillan/index.py?run=PS.upload) your completed problem set. **Make sure that you do not overwrite a previous problem set!**"
   ]
  }
 ],
 "metadata": {
  "celltoolbar": "Edit Metadata",
  "kernelspec": {
   "display_name": "Python 3",
   "language": "python",
   "name": "python3"
  },
  "language_info": {
   "codemirror_mode": {
    "name": "ipython",
    "version": 3
   },
   "file_extension": ".py",
   "mimetype": "text/x-python",
   "name": "python",
   "nbconvert_exporter": "python",
   "pygments_lexer": "ipython3",
   "version": "3.6.5"
  }
 },
 "nbformat": 4,
 "nbformat_minor": 1
}
